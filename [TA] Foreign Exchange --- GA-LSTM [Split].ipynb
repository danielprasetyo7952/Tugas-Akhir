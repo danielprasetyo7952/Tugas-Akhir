{
 "cells": [
  {
   "cell_type": "code",
   "execution_count": 1,
   "id": "bb4f93b1",
   "metadata": {
    "execution": {
     "iopub.execute_input": "2023-10-16T10:01:20.651017Z",
     "iopub.status.busy": "2023-10-16T10:01:20.650188Z",
     "iopub.status.idle": "2023-10-16T10:01:30.099605Z",
     "shell.execute_reply": "2023-10-16T10:01:30.098664Z"
    },
    "papermill": {
     "duration": 9.456094,
     "end_time": "2023-10-16T10:01:30.101730",
     "exception": false,
     "start_time": "2023-10-16T10:01:20.645636",
     "status": "completed"
    },
    "tags": []
   },
   "outputs": [
    {
     "name": "stderr",
     "output_type": "stream",
     "text": [
      "/opt/conda/lib/python3.10/site-packages/tensorflow_io/python/ops/__init__.py:98: UserWarning: unable to load libtensorflow_io_plugins.so: unable to open file: libtensorflow_io_plugins.so, from paths: ['/opt/conda/lib/python3.10/site-packages/tensorflow_io/python/ops/libtensorflow_io_plugins.so']\n",
      "caused by: ['/opt/conda/lib/python3.10/site-packages/tensorflow_io/python/ops/libtensorflow_io_plugins.so: undefined symbol: _ZN3tsl6StatusC1EN10tensorflow5error4CodeESt17basic_string_viewIcSt11char_traitsIcEENS_14SourceLocationE']\n",
      "  warnings.warn(f\"unable to load libtensorflow_io_plugins.so: {e}\")\n",
      "/opt/conda/lib/python3.10/site-packages/tensorflow_io/python/ops/__init__.py:104: UserWarning: file system plugins are not loaded: unable to open file: libtensorflow_io.so, from paths: ['/opt/conda/lib/python3.10/site-packages/tensorflow_io/python/ops/libtensorflow_io.so']\n",
      "caused by: ['/opt/conda/lib/python3.10/site-packages/tensorflow_io/python/ops/libtensorflow_io.so: undefined symbol: _ZTVN10tensorflow13GcsFileSystemE']\n",
      "  warnings.warn(f\"file system plugins are not loaded: {e}\")\n"
     ]
    }
   ],
   "source": [
    "import pandas as pd\n",
    "import numpy as np\n",
    "import tensorflow as tf\n",
    "import matplotlib.pyplot as plt\n",
    "import datetime, pytz\n",
    "\n",
    "from keras.models import Sequential\n",
    "from keras.layers import LSTM, Dense\n",
    "from keras.metrics import RootMeanSquaredError\n",
    "\n",
    "from sklearn.preprocessing import MinMaxScaler\n",
    "from sklearn.metrics import mean_squared_error, mean_absolute_error"
   ]
  },
  {
   "cell_type": "markdown",
   "id": "d7b4a5f0",
   "metadata": {
    "papermill": {
     "duration": 0.003077,
     "end_time": "2023-10-16T10:01:30.108375",
     "exception": false,
     "start_time": "2023-10-16T10:01:30.105298",
     "status": "completed"
    },
    "tags": []
   },
   "source": [
    "## Hyperparameter"
   ]
  },
  {
   "cell_type": "code",
   "execution_count": 2,
   "id": "15924cd7",
   "metadata": {
    "execution": {
     "iopub.execute_input": "2023-10-16T10:01:30.116135Z",
     "iopub.status.busy": "2023-10-16T10:01:30.115618Z",
     "iopub.status.idle": "2023-10-16T10:01:30.119891Z",
     "shell.execute_reply": "2023-10-16T10:01:30.118982Z"
    },
    "papermill": {
     "duration": 0.009886,
     "end_time": "2023-10-16T10:01:30.121530",
     "exception": false,
     "start_time": "2023-10-16T10:01:30.111644",
     "status": "completed"
    },
    "tags": []
   },
   "outputs": [],
   "source": [
    "SEQ_LEN = 6 # 6, 11, 21\n",
    "SPLIT = 0.80 # 0.80, 0.90\n",
    "LSTM_Layer = 3 # 1, 2, 3\n",
    "WINDOW_SIZE = SEQ_LEN - 1"
   ]
  },
  {
   "cell_type": "code",
   "execution_count": 3,
   "id": "9e739d37",
   "metadata": {
    "execution": {
     "iopub.execute_input": "2023-10-16T10:01:30.128802Z",
     "iopub.status.busy": "2023-10-16T10:01:30.128570Z",
     "iopub.status.idle": "2023-10-16T10:01:31.236968Z",
     "shell.execute_reply": "2023-10-16T10:01:31.235890Z"
    },
    "papermill": {
     "duration": 1.114151,
     "end_time": "2023-10-16T10:01:31.238782",
     "exception": false,
     "start_time": "2023-10-16T10:01:30.124631",
     "status": "completed"
    },
    "tags": []
   },
   "outputs": [
    {
     "name": "stdout",
     "output_type": "stream",
     "text": [
      "<class 'pandas.core.frame.DataFrame'>\n",
      "RangeIndex: 1959 entries, 0 to 1958\n",
      "Data columns (total 2 columns):\n",
      " #   Column  Non-Null Count  Dtype         \n",
      "---  ------  --------------  -----         \n",
      " 0   Date    1959 non-null   datetime64[ns]\n",
      " 1   Close   1959 non-null   float64       \n",
      "dtypes: datetime64[ns](1), float64(1)\n",
      "memory usage: 30.7 KB\n"
     ]
    }
   ],
   "source": [
    "# Google Spreadsheet ID\n",
    "SHEET_ID = '1JDNv_mArl-GPIpxuWS5GxgVEwvjXocS1MrXGc6TYs8M'\n",
    "SHEET_NAME = ['USD/IDR', 'EUR/IDR', 'SGD/IDR']\n",
    "\n",
    "url = f'https://docs.google.com/spreadsheets/d/{SHEET_ID}/gviz/tq?tqx=out:csv&sheet={SHEET_NAME[2]}'\n",
    "data = pd.read_csv(url)\n",
    "\n",
    "# Convert Date columns to datetime format\n",
    "data['Date'] = pd.to_datetime(data['Date'], format='%d/%m/%Y %H:%M:%S')\n",
    "data.info()"
   ]
  },
  {
   "cell_type": "markdown",
   "id": "5f7071d3",
   "metadata": {
    "papermill": {
     "duration": 0.003151,
     "end_time": "2023-10-16T10:01:31.245861",
     "exception": false,
     "start_time": "2023-10-16T10:01:31.242710",
     "status": "completed"
    },
    "tags": []
   },
   "source": [
    "## Preprocessing"
   ]
  },
  {
   "cell_type": "code",
   "execution_count": 4,
   "id": "d1fc3ca4",
   "metadata": {
    "execution": {
     "iopub.execute_input": "2023-10-16T10:01:31.253669Z",
     "iopub.status.busy": "2023-10-16T10:01:31.253119Z",
     "iopub.status.idle": "2023-10-16T10:01:31.260773Z",
     "shell.execute_reply": "2023-10-16T10:01:31.259860Z"
    },
    "papermill": {
     "duration": 0.013316,
     "end_time": "2023-10-16T10:01:31.262385",
     "exception": false,
     "start_time": "2023-10-16T10:01:31.249069",
     "status": "completed"
    },
    "tags": []
   },
   "outputs": [
    {
     "data": {
      "text/plain": [
       "(1959, 1)"
      ]
     },
     "execution_count": 4,
     "metadata": {},
     "output_type": "execute_result"
    }
   ],
   "source": [
    "scaler = MinMaxScaler()\n",
    "close_price = data.Close.values.reshape(-1, 1)\n",
    "scaled_close = scaler.fit_transform(close_price)\n",
    "scaled_close.shape"
   ]
  },
  {
   "cell_type": "code",
   "execution_count": 5,
   "id": "f34050dd",
   "metadata": {
    "execution": {
     "iopub.execute_input": "2023-10-16T10:01:31.270267Z",
     "iopub.status.busy": "2023-10-16T10:01:31.269696Z",
     "iopub.status.idle": "2023-10-16T10:01:31.277551Z",
     "shell.execute_reply": "2023-10-16T10:01:31.276794Z"
    },
    "papermill": {
     "duration": 0.01351,
     "end_time": "2023-10-16T10:01:31.279161",
     "exception": false,
     "start_time": "2023-10-16T10:01:31.265651",
     "status": "completed"
    },
    "tags": []
   },
   "outputs": [],
   "source": [
    "def to_sequences(data, seq_len):\n",
    "    d = []\n",
    "    for index in range(len(data) - seq_len):\n",
    "        d.append(data[index: index + seq_len])\n",
    "    return np.array(d)\n",
    "\n",
    "def preprocess(data_raw, seq_len, train_split):\n",
    "    data = to_sequences(data_raw, seq_len)\n",
    "    num_train = int(train_split * data.shape[0])\n",
    "    X_train = data[:num_train, :-1, :]\n",
    "    y_train = data[:num_train, -1, :]\n",
    "    X_test = data[num_train:, :-1, :]\n",
    "    y_test = data[num_train:, -1, :]\n",
    "    return X_train, y_train, X_test, y_test\n",
    "\n",
    "X_train, y_train, X_test, y_test = preprocess(scaled_close, SEQ_LEN, train_split = SPLIT)"
   ]
  },
  {
   "cell_type": "markdown",
   "id": "caacfcf3",
   "metadata": {
    "papermill": {
     "duration": 0.003167,
     "end_time": "2023-10-16T10:01:31.285663",
     "exception": false,
     "start_time": "2023-10-16T10:01:31.282496",
     "status": "completed"
    },
    "tags": []
   },
   "source": [
    "## Genetic Algorithm"
   ]
  },
  {
   "cell_type": "code",
   "execution_count": 6,
   "id": "66b3f1d7",
   "metadata": {
    "execution": {
     "iopub.execute_input": "2023-10-16T10:01:31.293892Z",
     "iopub.status.busy": "2023-10-16T10:01:31.293263Z",
     "iopub.status.idle": "2023-10-16T10:01:31.303904Z",
     "shell.execute_reply": "2023-10-16T10:01:31.303118Z"
    },
    "papermill": {
     "duration": 0.016617,
     "end_time": "2023-10-16T10:01:31.305579",
     "exception": false,
     "start_time": "2023-10-16T10:01:31.288962",
     "status": "completed"
    },
    "tags": []
   },
   "outputs": [],
   "source": [
    "# Genetic Algorithm\n",
    "def genetic_algorithm(population_size, generations):\n",
    "    population = np.random.randint(1, high=26, size=(population_size, 3))\n",
    "    \n",
    "    for generation in range(generations):\n",
    "        print(f\"Generation - {generation + 1}\")\n",
    "        fitness_scores = np.array([fitness_function(chromosome) for chromosome in population])\n",
    "        best_chromosome = population[np.argmax(fitness_scores)]\n",
    "        best_fitness = np.max(fitness_scores)\n",
    "        \n",
    "        new_population = []\n",
    "        \n",
    "        while len(new_population) < population_size:\n",
    "            parent1 = selection(population, fitness_scores)\n",
    "            parent2 = selection(population, fitness_scores)\n",
    "            offspring_1, offspring_2 = crossover(parent1, parent2)\n",
    "            mutate(offspring_1)\n",
    "            mutate(offspring_2)\n",
    "            new_population.append(offspring_1)\n",
    "            new_population.append(offspring_2)\n",
    "        \n",
    "        population = np.array(new_population)\n",
    "    \n",
    "    return best_chromosome, best_fitness\n",
    "\n",
    "# Selection (Tournament selection)\n",
    "def selection(population, fitness_scores, tournament_size=3):\n",
    "    indices = np.random.randint(len(population), size=tournament_size)\n",
    "    tournament = population[indices]\n",
    "    tournament_fitness = fitness_scores[indices]\n",
    "    return tournament[np.argmax(tournament_fitness)]\n",
    "\n",
    "# Crossover (Single-point crossover)\n",
    "def crossover(parent1, parent2):\n",
    "    crossover_point = np.random.randint(1, len(parent1))\n",
    "    offspring_1 = np.concatenate((parent1[:crossover_point], parent2[crossover_point:]))\n",
    "    offspring_2 = np.concatenate((parent2[:crossover_point], parent1[crossover_point:]))\n",
    "    return offspring_1, offspring_2\n",
    "\n",
    "# Mutation (Swap Mutation)\n",
    "def mutate(chromosome, mutation_rate=0.01):\n",
    "    for i in range(len(chromosome)):\n",
    "        if np.random.rand() < mutation_rate:\n",
    "            j = np.random.randint(len(chromosome))\n",
    "            chromosome[i], chromosome[j] = chromosome[j], chromosome[i]\n",
    "\n",
    "# Define the fitness function to be optimized\n",
    "def fitness_function(chromosome):\n",
    "    lstm_units = [int(chromosome[i]*10) or default for i, default in enumerate([128, 64, 32])]\n",
    "\n",
    "    # Build the LSTM model\n",
    "    tf.keras.backend.clear_session()\n",
    "    model = Sequential()\n",
    "    for i, units in enumerate(lstm_units[:LSTM_Layer]):\n",
    "        model.add(LSTM(units, return_sequences=(i < LSTM_Layer - 1), input_shape=(WINDOW_SIZE, 1)))\n",
    "    model.add(Dense(1))\n",
    "    \n",
    "    # Compile and train the model\n",
    "    model.compile(loss='mean_squared_error',\n",
    "                  optimizer='adam')\n",
    "    model.fit(X_train, y_train,\n",
    "              epochs=10,\n",
    "              batch_size=32,\n",
    "              verbose=0,\n",
    "              validation_split=0.1)\n",
    "\n",
    "    # Evaluate the model\n",
    "    loss = model.evaluate(X_test, y_test)\n",
    "\n",
    "    # Return the negative value of the loss as the fitness score\n",
    "    return -loss"
   ]
  },
  {
   "cell_type": "code",
   "execution_count": 7,
   "id": "7a153dbf",
   "metadata": {
    "execution": {
     "iopub.execute_input": "2023-10-16T10:01:31.313744Z",
     "iopub.status.busy": "2023-10-16T10:01:31.313233Z",
     "iopub.status.idle": "2023-10-16T10:01:31.318524Z",
     "shell.execute_reply": "2023-10-16T10:01:31.317753Z"
    },
    "papermill": {
     "duration": 0.01112,
     "end_time": "2023-10-16T10:01:31.320163",
     "exception": false,
     "start_time": "2023-10-16T10:01:31.309043",
     "status": "completed"
    },
    "tags": []
   },
   "outputs": [],
   "source": [
    "import typing\n",
    "from datetime import datetime\n",
    "\n",
    "def timer(start_time: datetime = None) -> \"typing.Union[datetime.datetime, str]\":\n",
    "    if not start_time:\n",
    "        start_time = datetime.now()\n",
    "        return start_time\n",
    "    elif start_time:\n",
    "        thour, temp_sec = divmod((datetime.now() - start_time).total_seconds(), 3600)\n",
    "        tmin, tsec = divmod(temp_sec, 60)\n",
    "        return \"%i hours %i minutes and %s seconds.\" % (\n",
    "            thour,\n",
    "            tmin,\n",
    "            round(tsec, 2),\n",
    "        )"
   ]
  },
  {
   "cell_type": "code",
   "execution_count": 8,
   "id": "7e683d61",
   "metadata": {
    "execution": {
     "iopub.execute_input": "2023-10-16T10:01:31.328158Z",
     "iopub.status.busy": "2023-10-16T10:01:31.327657Z",
     "iopub.status.idle": "2023-10-16T10:28:30.827989Z",
     "shell.execute_reply": "2023-10-16T10:28:30.827332Z"
    },
    "papermill": {
     "duration": 1619.50617,
     "end_time": "2023-10-16T10:28:30.829685",
     "exception": false,
     "start_time": "2023-10-16T10:01:31.323515",
     "status": "completed"
    },
    "tags": []
   },
   "outputs": [
    {
     "name": "stdout",
     "output_type": "stream",
     "text": [
      "Generation - 1\n",
      "13/13 [==============================] - 0s 4ms/step - loss: 0.0044\n",
      "13/13 [==============================] - 0s 3ms/step - loss: 0.0017\n",
      "13/13 [==============================] - 0s 4ms/step - loss: 0.0014\n",
      "13/13 [==============================] - 0s 3ms/step - loss: 8.5706e-04\n",
      "13/13 [==============================] - 0s 3ms/step - loss: 0.0010\n",
      "Generation - 2\n",
      "13/13 [==============================] - 0s 4ms/step - loss: 8.2063e-04\n",
      "13/13 [==============================] - 0s 5ms/step - loss: 8.8272e-04\n",
      "13/13 [==============================] - 0s 5ms/step - loss: 0.0019\n",
      "13/13 [==============================] - 0s 3ms/step - loss: 7.8181e-04\n",
      "13/13 [==============================] - 0s 4ms/step - loss: 0.0015\n",
      "13/13 [==============================] - 0s 3ms/step - loss: 0.0013\n",
      "Generation - 3\n",
      "13/13 [==============================] - 0s 3ms/step - loss: 0.0015\n",
      "13/13 [==============================] - 0s 3ms/step - loss: 0.0012\n",
      "13/13 [==============================] - 0s 4ms/step - loss: 0.0020\n",
      "13/13 [==============================] - 0s 3ms/step - loss: 7.1364e-04\n",
      "13/13 [==============================] - 0s 3ms/step - loss: 0.0021\n",
      "13/13 [==============================] - 0s 4ms/step - loss: 0.0014\n",
      "Generation - 4\n",
      "13/13 [==============================] - 0s 4ms/step - loss: 0.0013\n",
      "13/13 [==============================] - 0s 3ms/step - loss: 0.0013\n",
      "13/13 [==============================] - 0s 3ms/step - loss: 9.4849e-04\n",
      "13/13 [==============================] - 0s 4ms/step - loss: 0.0012\n",
      "13/13 [==============================] - 0s 4ms/step - loss: 0.0015\n",
      "13/13 [==============================] - 0s 3ms/step - loss: 0.0029\n",
      "Generation - 5\n",
      "13/13 [==============================] - 0s 4ms/step - loss: 0.0037\n",
      "13/13 [==============================] - 0s 3ms/step - loss: 8.9564e-04\n",
      "13/13 [==============================] - 0s 4ms/step - loss: 0.0010\n",
      "13/13 [==============================] - 0s 4ms/step - loss: 0.0014\n",
      "13/13 [==============================] - 0s 4ms/step - loss: 8.7406e-04\n",
      "13/13 [==============================] - 0s 3ms/step - loss: 0.0033\n",
      "Generation - 6\n",
      "13/13 [==============================] - 0s 4ms/step - loss: 0.0011\n",
      "13/13 [==============================] - 0s 4ms/step - loss: 0.0034\n",
      "13/13 [==============================] - 0s 3ms/step - loss: 0.0037\n",
      "13/13 [==============================] - 0s 4ms/step - loss: 0.0010\n",
      "13/13 [==============================] - 0s 4ms/step - loss: 0.0035\n",
      "13/13 [==============================] - 0s 3ms/step - loss: 8.9498e-04\n",
      "Generation - 7\n",
      "13/13 [==============================] - 0s 4ms/step - loss: 0.0024\n",
      "13/13 [==============================] - 0s 4ms/step - loss: 7.9887e-04\n",
      "13/13 [==============================] - 0s 4ms/step - loss: 0.0030\n",
      "13/13 [==============================] - 0s 4ms/step - loss: 0.0011\n",
      "13/13 [==============================] - 0s 3ms/step - loss: 7.6698e-04\n",
      "13/13 [==============================] - 0s 4ms/step - loss: 0.0018\n",
      "Generation - 8\n",
      "13/13 [==============================] - 0s 4ms/step - loss: 7.1699e-04\n",
      "13/13 [==============================] - 0s 3ms/step - loss: 0.0034\n",
      "13/13 [==============================] - 0s 4ms/step - loss: 0.0026\n",
      "13/13 [==============================] - 0s 4ms/step - loss: 7.8771e-04\n",
      "13/13 [==============================] - 0s 4ms/step - loss: 8.1069e-04\n",
      "13/13 [==============================] - 0s 3ms/step - loss: 7.6951e-04\n",
      "Generation - 9\n",
      "13/13 [==============================] - 0s 4ms/step - loss: 0.0025\n",
      "13/13 [==============================] - 0s 3ms/step - loss: 0.0019\n",
      "13/13 [==============================] - 0s 4ms/step - loss: 7.7331e-04\n",
      "13/13 [==============================] - 0s 4ms/step - loss: 0.0017\n",
      "13/13 [==============================] - 0s 3ms/step - loss: 0.0014\n",
      "13/13 [==============================] - 0s 4ms/step - loss: 8.5192e-04\n",
      "Generation - 10\n",
      "13/13 [==============================] - 0s 4ms/step - loss: 0.0013\n",
      "13/13 [==============================] - 0s 3ms/step - loss: 0.0018\n",
      "13/13 [==============================] - 0s 3ms/step - loss: 8.9180e-04\n",
      "13/13 [==============================] - 0s 4ms/step - loss: 0.0013\n",
      "13/13 [==============================] - 0s 4ms/step - loss: 8.2197e-04\n",
      "13/13 [==============================] - 0s 3ms/step - loss: 7.6372e-04\n",
      "Generation - 11\n",
      "13/13 [==============================] - 0s 4ms/step - loss: 0.0028\n",
      "13/13 [==============================] - 0s 4ms/step - loss: 8.1332e-04\n",
      "13/13 [==============================] - 0s 3ms/step - loss: 0.0014\n",
      "13/13 [==============================] - 0s 3ms/step - loss: 0.0014\n",
      "13/13 [==============================] - 0s 3ms/step - loss: 9.4836e-04\n",
      "13/13 [==============================] - 0s 4ms/step - loss: 0.0013\n",
      "Generation - 12\n",
      "13/13 [==============================] - 0s 4ms/step - loss: 8.5795e-04\n",
      "13/13 [==============================] - 0s 4ms/step - loss: 0.0034\n",
      "13/13 [==============================] - 0s 4ms/step - loss: 8.5548e-04\n",
      "13/13 [==============================] - 0s 3ms/step - loss: 0.0023\n",
      "13/13 [==============================] - 0s 3ms/step - loss: 0.0019\n",
      "13/13 [==============================] - 0s 4ms/step - loss: 0.0014\n",
      "Generation - 13\n",
      "13/13 [==============================] - 0s 5ms/step - loss: 0.0015\n",
      "13/13 [==============================] - 0s 4ms/step - loss: 0.0011\n",
      "13/13 [==============================] - 0s 4ms/step - loss: 0.0034\n",
      "13/13 [==============================] - 0s 4ms/step - loss: 8.5795e-04\n",
      "13/13 [==============================] - 0s 3ms/step - loss: 0.0012\n",
      "13/13 [==============================] - 0s 3ms/step - loss: 0.0014\n",
      "Generation - 14\n",
      "13/13 [==============================] - 0s 3ms/step - loss: 8.4567e-04\n",
      "13/13 [==============================] - 0s 3ms/step - loss: 0.0011\n",
      "13/13 [==============================] - 0s 4ms/step - loss: 0.0010\n",
      "13/13 [==============================] - 0s 4ms/step - loss: 0.0013\n",
      "13/13 [==============================] - 0s 4ms/step - loss: 0.0021\n",
      "13/13 [==============================] - 0s 3ms/step - loss: 0.0015\n",
      "Generation - 15\n",
      "13/13 [==============================] - 0s 4ms/step - loss: 0.0012\n",
      "13/13 [==============================] - 0s 3ms/step - loss: 7.8918e-04\n",
      "13/13 [==============================] - 0s 4ms/step - loss: 7.4235e-04\n",
      "13/13 [==============================] - 0s 4ms/step - loss: 8.1332e-04\n",
      "13/13 [==============================] - 0s 3ms/step - loss: 0.0011\n",
      "13/13 [==============================] - 0s 3ms/step - loss: 7.9875e-04\n",
      "Generation - 16\n",
      "13/13 [==============================] - 0s 4ms/step - loss: 0.0013\n",
      "13/13 [==============================] - 0s 4ms/step - loss: 0.0029\n",
      "13/13 [==============================] - 0s 4ms/step - loss: 0.0021\n",
      "13/13 [==============================] - 0s 3ms/step - loss: 0.0020\n",
      "13/13 [==============================] - 0s 4ms/step - loss: 0.0010\n",
      "13/13 [==============================] - 0s 3ms/step - loss: 9.9104e-04\n",
      "Generation - 17\n",
      "13/13 [==============================] - 0s 3ms/step - loss: 0.0014\n",
      "13/13 [==============================] - 0s 4ms/step - loss: 0.0017\n",
      "13/13 [==============================] - 0s 4ms/step - loss: 0.0011\n",
      "13/13 [==============================] - 0s 3ms/step - loss: 0.0035\n",
      "13/13 [==============================] - 0s 3ms/step - loss: 0.0010\n",
      "13/13 [==============================] - 0s 4ms/step - loss: 8.6611e-04\n",
      "Generation - 18\n",
      "13/13 [==============================] - 0s 3ms/step - loss: 0.0012\n",
      "13/13 [==============================] - 0s 3ms/step - loss: 8.9907e-04\n",
      "13/13 [==============================] - 0s 7ms/step - loss: 0.0023\n",
      "13/13 [==============================] - 0s 3ms/step - loss: 0.0013\n",
      "13/13 [==============================] - 0s 3ms/step - loss: 0.0013\n",
      "13/13 [==============================] - 0s 3ms/step - loss: 0.0011\n",
      "Generation - 19\n",
      "13/13 [==============================] - 0s 4ms/step - loss: 9.3616e-04\n",
      "13/13 [==============================] - 0s 4ms/step - loss: 8.5093e-04\n",
      "13/13 [==============================] - 0s 4ms/step - loss: 9.8902e-04\n",
      "13/13 [==============================] - 0s 4ms/step - loss: 8.7126e-04\n",
      "13/13 [==============================] - 0s 4ms/step - loss: 7.0884e-04\n",
      "13/13 [==============================] - 0s 3ms/step - loss: 0.0026\n",
      "Generation - 20\n",
      "13/13 [==============================] - 0s 4ms/step - loss: 0.0041\n",
      "13/13 [==============================] - 0s 4ms/step - loss: 0.0029\n",
      "13/13 [==============================] - 0s 3ms/step - loss: 8.0888e-04\n",
      "13/13 [==============================] - 0s 3ms/step - loss: 0.0033\n",
      "13/13 [==============================] - 0s 3ms/step - loss: 0.0021\n",
      "13/13 [==============================] - 0s 4ms/step - loss: 0.0027\n",
      "Generation - 21\n",
      "13/13 [==============================] - 0s 3ms/step - loss: 0.0014\n",
      "13/13 [==============================] - 0s 3ms/step - loss: 0.0014\n",
      "13/13 [==============================] - 0s 6ms/step - loss: 7.2786e-04\n",
      "13/13 [==============================] - 0s 4ms/step - loss: 8.5890e-04\n",
      "13/13 [==============================] - 0s 3ms/step - loss: 7.2656e-04\n",
      "13/13 [==============================] - 0s 4ms/step - loss: 8.2820e-04\n",
      "Generation - 22\n",
      "13/13 [==============================] - 0s 3ms/step - loss: 0.0024\n",
      "13/13 [==============================] - 0s 4ms/step - loss: 0.0033\n",
      "13/13 [==============================] - 0s 4ms/step - loss: 9.8291e-04\n",
      "13/13 [==============================] - 0s 3ms/step - loss: 0.0024\n",
      "13/13 [==============================] - 0s 4ms/step - loss: 0.0019\n",
      "13/13 [==============================] - 0s 4ms/step - loss: 0.0029\n",
      "Generation - 23\n",
      "13/13 [==============================] - 0s 4ms/step - loss: 0.0013\n",
      "13/13 [==============================] - 0s 4ms/step - loss: 0.0027\n",
      "13/13 [==============================] - 0s 3ms/step - loss: 0.0014\n",
      "13/13 [==============================] - 0s 5ms/step - loss: 7.4893e-04\n",
      "13/13 [==============================] - 0s 3ms/step - loss: 0.0014\n",
      "13/13 [==============================] - 0s 3ms/step - loss: 8.7087e-04\n",
      "Generation - 24\n",
      "13/13 [==============================] - 0s 3ms/step - loss: 8.6887e-04\n",
      "13/13 [==============================] - 0s 4ms/step - loss: 0.0013\n",
      "13/13 [==============================] - 0s 4ms/step - loss: 0.0013\n",
      "13/13 [==============================] - 0s 3ms/step - loss: 7.1290e-04\n",
      "13/13 [==============================] - 0s 4ms/step - loss: 0.0015\n",
      "13/13 [==============================] - 0s 4ms/step - loss: 9.1138e-04\n",
      "Generation - 25\n",
      "13/13 [==============================] - 0s 3ms/step - loss: 0.0021\n",
      "13/13 [==============================] - 0s 3ms/step - loss: 0.0017\n",
      "13/13 [==============================] - 0s 4ms/step - loss: 7.9619e-04\n",
      "13/13 [==============================] - 0s 3ms/step - loss: 0.0049\n",
      "13/13 [==============================] - 0s 4ms/step - loss: 8.5798e-04\n",
      "13/13 [==============================] - 0s 3ms/step - loss: 0.0017\n"
     ]
    }
   ],
   "source": [
    "# Do not increase this value\n",
    "population_size = 5\n",
    "generations = 25\n",
    "\n",
    "time = timer(None)\n",
    "best_chromosome, best_fitness = genetic_algorithm(population_size, generations)\n",
    "time = timer(time)"
   ]
  },
  {
   "cell_type": "code",
   "execution_count": 9,
   "id": "ca082652",
   "metadata": {
    "execution": {
     "iopub.execute_input": "2023-10-16T10:28:30.864898Z",
     "iopub.status.busy": "2023-10-16T10:28:30.864501Z",
     "iopub.status.idle": "2023-10-16T10:28:30.869347Z",
     "shell.execute_reply": "2023-10-16T10:28:30.868526Z"
    },
    "papermill": {
     "duration": 0.024009,
     "end_time": "2023-10-16T10:28:30.871086",
     "exception": false,
     "start_time": "2023-10-16T10:28:30.847077",
     "status": "completed"
    },
    "tags": []
   },
   "outputs": [
    {
     "name": "stdout",
     "output_type": "stream",
     "text": [
      "Best Chromosome: [ 2  7 24]\n",
      "Best Fitness: -0.0007961878436617553\n",
      "Time Taken: 0 hours 26 minutes and 59.5 seconds.\n"
     ]
    }
   ],
   "source": [
    "print(\"Best Chromosome:\", best_chromosome)\n",
    "print(\"Best Fitness:\", best_fitness)\n",
    "print(\"Time Taken:\", time)"
   ]
  },
  {
   "cell_type": "markdown",
   "id": "2da93303",
   "metadata": {
    "papermill": {
     "duration": 0.016059,
     "end_time": "2023-10-16T10:28:30.904252",
     "exception": false,
     "start_time": "2023-10-16T10:28:30.888193",
     "status": "completed"
    },
    "tags": []
   },
   "source": [
    "## Re-Training Model with Best Parameter"
   ]
  },
  {
   "cell_type": "code",
   "execution_count": 10,
   "id": "6ab82af4",
   "metadata": {
    "execution": {
     "iopub.execute_input": "2023-10-16T10:28:30.938509Z",
     "iopub.status.busy": "2023-10-16T10:28:30.938241Z",
     "iopub.status.idle": "2023-10-16T10:28:31.584124Z",
     "shell.execute_reply": "2023-10-16T10:28:31.583378Z"
    },
    "papermill": {
     "duration": 0.669084,
     "end_time": "2023-10-16T10:28:31.590121",
     "exception": false,
     "start_time": "2023-10-16T10:28:30.921037",
     "status": "completed"
    },
    "tags": []
   },
   "outputs": [
    {
     "name": "stdout",
     "output_type": "stream",
     "text": [
      "Model: \"sequential_1\"\n",
      "_________________________________________________________________\n",
      " Layer (type)                Output Shape              Param #   \n",
      "=================================================================\n",
      " lstm_3 (LSTM)               (None, 5, 20)             1760      \n",
      "                                                                 \n",
      " lstm_4 (LSTM)               (None, 5, 70)             25480     \n",
      "                                                                 \n",
      " lstm_5 (LSTM)               (None, 240)               298560    \n",
      "                                                                 \n",
      " dense_1 (Dense)             (None, 1)                 241       \n",
      "                                                                 \n",
      "=================================================================\n",
      "Total params: 326,041\n",
      "Trainable params: 326,041\n",
      "Non-trainable params: 0\n",
      "_________________________________________________________________\n"
     ]
    }
   ],
   "source": [
    "model = Sequential()\n",
    "for i, units in enumerate(best_chromosome[:LSTM_Layer]):\n",
    "    model.add(LSTM(units*10, return_sequences=(i < LSTM_Layer - 1), input_shape=(WINDOW_SIZE, 1)))\n",
    "model.add(Dense(1))\n",
    "\n",
    "model.summary()"
   ]
  },
  {
   "cell_type": "code",
   "execution_count": 11,
   "id": "3691e15d",
   "metadata": {
    "execution": {
     "iopub.execute_input": "2023-10-16T10:28:31.626446Z",
     "iopub.status.busy": "2023-10-16T10:28:31.626149Z",
     "iopub.status.idle": "2023-10-16T10:29:16.161246Z",
     "shell.execute_reply": "2023-10-16T10:29:16.160078Z"
    },
    "papermill": {
     "duration": 44.555644,
     "end_time": "2023-10-16T10:29:16.163767",
     "exception": false,
     "start_time": "2023-10-16T10:28:31.608123",
     "status": "completed"
    },
    "tags": []
   },
   "outputs": [
    {
     "name": "stdout",
     "output_type": "stream",
     "text": [
      "Epoch 1/50\n",
      "44/44 [==============================] - 7s 51ms/step - loss: 0.0221 - mae: 0.1068 - root_mean_squared_error: 0.1488 - val_loss: 4.7026e-04 - val_mae: 0.0173 - val_root_mean_squared_error: 0.0217\n",
      "Epoch 2/50\n",
      "44/44 [==============================] - 0s 10ms/step - loss: 0.0041 - mae: 0.0416 - root_mean_squared_error: 0.0637 - val_loss: 4.6554e-04 - val_mae: 0.0174 - val_root_mean_squared_error: 0.0216\n",
      "Epoch 3/50\n",
      "44/44 [==============================] - 0s 8ms/step - loss: 0.0032 - mae: 0.0324 - root_mean_squared_error: 0.0568 - val_loss: 3.9999e-04 - val_mae: 0.0161 - val_root_mean_squared_error: 0.0200\n",
      "Epoch 4/50\n",
      "44/44 [==============================] - 0s 8ms/step - loss: 0.0032 - mae: 0.0316 - root_mean_squared_error: 0.0568 - val_loss: 4.1725e-04 - val_mae: 0.0164 - val_root_mean_squared_error: 0.0204\n",
      "Epoch 5/50\n",
      "44/44 [==============================] - 0s 8ms/step - loss: 0.0032 - mae: 0.0326 - root_mean_squared_error: 0.0567 - val_loss: 4.1893e-04 - val_mae: 0.0165 - val_root_mean_squared_error: 0.0205\n",
      "Epoch 6/50\n",
      "44/44 [==============================] - 0s 9ms/step - loss: 0.0032 - mae: 0.0328 - root_mean_squared_error: 0.0562 - val_loss: 0.0010 - val_mae: 0.0276 - val_root_mean_squared_error: 0.0323\n",
      "Epoch 7/50\n",
      "44/44 [==============================] - 0s 9ms/step - loss: 0.0032 - mae: 0.0338 - root_mean_squared_error: 0.0569 - val_loss: 3.9230e-04 - val_mae: 0.0159 - val_root_mean_squared_error: 0.0198\n",
      "Epoch 8/50\n",
      "44/44 [==============================] - 0s 8ms/step - loss: 0.0031 - mae: 0.0322 - root_mean_squared_error: 0.0561 - val_loss: 3.9857e-04 - val_mae: 0.0160 - val_root_mean_squared_error: 0.0200\n",
      "Epoch 9/50\n",
      "44/44 [==============================] - 0s 8ms/step - loss: 0.0030 - mae: 0.0307 - root_mean_squared_error: 0.0551 - val_loss: 3.9186e-04 - val_mae: 0.0159 - val_root_mean_squared_error: 0.0198\n",
      "Epoch 10/50\n",
      "44/44 [==============================] - 0s 8ms/step - loss: 0.0030 - mae: 0.0304 - root_mean_squared_error: 0.0544 - val_loss: 8.1138e-04 - val_mae: 0.0240 - val_root_mean_squared_error: 0.0285\n",
      "Epoch 11/50\n",
      "44/44 [==============================] - 0s 8ms/step - loss: 0.0030 - mae: 0.0318 - root_mean_squared_error: 0.0549 - val_loss: 4.3471e-04 - val_mae: 0.0167 - val_root_mean_squared_error: 0.0208\n",
      "Epoch 12/50\n",
      "44/44 [==============================] - 0s 8ms/step - loss: 0.0030 - mae: 0.0328 - root_mean_squared_error: 0.0545 - val_loss: 6.1391e-04 - val_mae: 0.0201 - val_root_mean_squared_error: 0.0248\n",
      "Epoch 13/50\n",
      "44/44 [==============================] - 0s 8ms/step - loss: 0.0028 - mae: 0.0297 - root_mean_squared_error: 0.0533 - val_loss: 4.0410e-04 - val_mae: 0.0161 - val_root_mean_squared_error: 0.0201\n",
      "Epoch 14/50\n",
      "44/44 [==============================] - 0s 8ms/step - loss: 0.0028 - mae: 0.0301 - root_mean_squared_error: 0.0530 - val_loss: 3.9794e-04 - val_mae: 0.0159 - val_root_mean_squared_error: 0.0199\n",
      "Epoch 15/50\n",
      "44/44 [==============================] - 0s 8ms/step - loss: 0.0028 - mae: 0.0294 - root_mean_squared_error: 0.0525 - val_loss: 4.1096e-04 - val_mae: 0.0163 - val_root_mean_squared_error: 0.0203\n",
      "Epoch 16/50\n",
      "44/44 [==============================] - 0s 8ms/step - loss: 0.0027 - mae: 0.0284 - root_mean_squared_error: 0.0519 - val_loss: 3.6676e-04 - val_mae: 0.0152 - val_root_mean_squared_error: 0.0192\n",
      "Epoch 17/50\n",
      "44/44 [==============================] - 0s 8ms/step - loss: 0.0028 - mae: 0.0315 - root_mean_squared_error: 0.0531 - val_loss: 7.9927e-04 - val_mae: 0.0242 - val_root_mean_squared_error: 0.0283\n",
      "Epoch 18/50\n",
      "44/44 [==============================] - 0s 8ms/step - loss: 0.0027 - mae: 0.0295 - root_mean_squared_error: 0.0519 - val_loss: 4.0091e-04 - val_mae: 0.0159 - val_root_mean_squared_error: 0.0200\n",
      "Epoch 19/50\n",
      "44/44 [==============================] - 0s 8ms/step - loss: 0.0025 - mae: 0.0275 - root_mean_squared_error: 0.0499 - val_loss: 4.4421e-04 - val_mae: 0.0168 - val_root_mean_squared_error: 0.0211\n",
      "Epoch 20/50\n",
      "44/44 [==============================] - 0s 9ms/step - loss: 0.0024 - mae: 0.0283 - root_mean_squared_error: 0.0494 - val_loss: 2.7927e-04 - val_mae: 0.0129 - val_root_mean_squared_error: 0.0167\n",
      "Epoch 21/50\n",
      "44/44 [==============================] - 0s 8ms/step - loss: 0.0023 - mae: 0.0272 - root_mean_squared_error: 0.0484 - val_loss: 2.7816e-04 - val_mae: 0.0128 - val_root_mean_squared_error: 0.0167\n",
      "Epoch 22/50\n",
      "44/44 [==============================] - 0s 8ms/step - loss: 0.0022 - mae: 0.0258 - root_mean_squared_error: 0.0474 - val_loss: 2.6294e-04 - val_mae: 0.0124 - val_root_mean_squared_error: 0.0162\n",
      "Epoch 23/50\n",
      "44/44 [==============================] - 0s 8ms/step - loss: 0.0023 - mae: 0.0274 - root_mean_squared_error: 0.0482 - val_loss: 2.8691e-04 - val_mae: 0.0134 - val_root_mean_squared_error: 0.0169\n",
      "Epoch 24/50\n",
      "44/44 [==============================] - 0s 9ms/step - loss: 0.0022 - mae: 0.0259 - root_mean_squared_error: 0.0470 - val_loss: 2.3929e-04 - val_mae: 0.0118 - val_root_mean_squared_error: 0.0155\n",
      "Epoch 25/50\n",
      "44/44 [==============================] - 0s 9ms/step - loss: 0.0022 - mae: 0.0268 - root_mean_squared_error: 0.0474 - val_loss: 2.7844e-04 - val_mae: 0.0130 - val_root_mean_squared_error: 0.0167\n",
      "Epoch 26/50\n",
      "44/44 [==============================] - 0s 9ms/step - loss: 0.0022 - mae: 0.0260 - root_mean_squared_error: 0.0466 - val_loss: 4.1720e-04 - val_mae: 0.0172 - val_root_mean_squared_error: 0.0204\n",
      "Epoch 27/50\n",
      "44/44 [==============================] - 0s 8ms/step - loss: 0.0022 - mae: 0.0260 - root_mean_squared_error: 0.0465 - val_loss: 2.7339e-04 - val_mae: 0.0131 - val_root_mean_squared_error: 0.0165\n",
      "Epoch 28/50\n",
      "44/44 [==============================] - 0s 9ms/step - loss: 0.0021 - mae: 0.0243 - root_mean_squared_error: 0.0456 - val_loss: 2.0694e-04 - val_mae: 0.0107 - val_root_mean_squared_error: 0.0144\n",
      "Epoch 29/50\n",
      "44/44 [==============================] - 0s 10ms/step - loss: 0.0020 - mae: 0.0227 - root_mean_squared_error: 0.0442 - val_loss: 2.5510e-04 - val_mae: 0.0127 - val_root_mean_squared_error: 0.0160\n",
      "Epoch 30/50\n",
      "44/44 [==============================] - 0s 8ms/step - loss: 0.0020 - mae: 0.0237 - root_mean_squared_error: 0.0448 - val_loss: 2.0638e-04 - val_mae: 0.0108 - val_root_mean_squared_error: 0.0144\n",
      "Epoch 31/50\n",
      "44/44 [==============================] - 0s 8ms/step - loss: 0.0020 - mae: 0.0234 - root_mean_squared_error: 0.0444 - val_loss: 2.5807e-04 - val_mae: 0.0126 - val_root_mean_squared_error: 0.0161\n",
      "Epoch 32/50\n",
      "44/44 [==============================] - 0s 8ms/step - loss: 0.0022 - mae: 0.0262 - root_mean_squared_error: 0.0466 - val_loss: 1.9923e-04 - val_mae: 0.0107 - val_root_mean_squared_error: 0.0141\n",
      "Epoch 33/50\n",
      "44/44 [==============================] - 0s 9ms/step - loss: 0.0021 - mae: 0.0256 - root_mean_squared_error: 0.0458 - val_loss: 1.9080e-04 - val_mae: 0.0101 - val_root_mean_squared_error: 0.0138\n",
      "Epoch 34/50\n",
      "44/44 [==============================] - 1s 13ms/step - loss: 0.0019 - mae: 0.0231 - root_mean_squared_error: 0.0441 - val_loss: 0.0015 - val_mae: 0.0364 - val_root_mean_squared_error: 0.0389\n",
      "Epoch 35/50\n",
      "44/44 [==============================] - 1s 12ms/step - loss: 0.0020 - mae: 0.0238 - root_mean_squared_error: 0.0446 - val_loss: 1.8585e-04 - val_mae: 0.0100 - val_root_mean_squared_error: 0.0136\n",
      "Epoch 36/50\n",
      "44/44 [==============================] - 0s 10ms/step - loss: 0.0021 - mae: 0.0256 - root_mean_squared_error: 0.0454 - val_loss: 5.5244e-04 - val_mae: 0.0208 - val_root_mean_squared_error: 0.0235\n",
      "Epoch 37/50\n",
      "44/44 [==============================] - 0s 8ms/step - loss: 0.0020 - mae: 0.0237 - root_mean_squared_error: 0.0444 - val_loss: 1.8620e-04 - val_mae: 0.0101 - val_root_mean_squared_error: 0.0136\n",
      "Epoch 38/50\n",
      "44/44 [==============================] - 0s 8ms/step - loss: 0.0019 - mae: 0.0230 - root_mean_squared_error: 0.0440 - val_loss: 1.8058e-04 - val_mae: 0.0099 - val_root_mean_squared_error: 0.0134\n",
      "Epoch 39/50\n",
      "44/44 [==============================] - 0s 8ms/step - loss: 0.0020 - mae: 0.0239 - root_mean_squared_error: 0.0442 - val_loss: 1.8536e-04 - val_mae: 0.0100 - val_root_mean_squared_error: 0.0136\n",
      "Epoch 40/50\n",
      "44/44 [==============================] - 0s 8ms/step - loss: 0.0019 - mae: 0.0224 - root_mean_squared_error: 0.0438 - val_loss: 3.0498e-04 - val_mae: 0.0144 - val_root_mean_squared_error: 0.0175\n",
      "Epoch 41/50\n",
      "44/44 [==============================] - 0s 8ms/step - loss: 0.0020 - mae: 0.0237 - root_mean_squared_error: 0.0445 - val_loss: 1.8441e-04 - val_mae: 0.0101 - val_root_mean_squared_error: 0.0136\n",
      "Epoch 42/50\n",
      "44/44 [==============================] - 0s 9ms/step - loss: 0.0020 - mae: 0.0238 - root_mean_squared_error: 0.0445 - val_loss: 2.1523e-04 - val_mae: 0.0113 - val_root_mean_squared_error: 0.0147\n",
      "Epoch 43/50\n",
      "44/44 [==============================] - 0s 8ms/step - loss: 0.0020 - mae: 0.0243 - root_mean_squared_error: 0.0442 - val_loss: 1.7997e-04 - val_mae: 0.0098 - val_root_mean_squared_error: 0.0134\n",
      "Epoch 44/50\n",
      "44/44 [==============================] - 0s 8ms/step - loss: 0.0019 - mae: 0.0225 - root_mean_squared_error: 0.0438 - val_loss: 1.8566e-04 - val_mae: 0.0101 - val_root_mean_squared_error: 0.0136\n",
      "Epoch 45/50\n",
      "44/44 [==============================] - 0s 8ms/step - loss: 0.0019 - mae: 0.0227 - root_mean_squared_error: 0.0439 - val_loss: 2.9081e-04 - val_mae: 0.0137 - val_root_mean_squared_error: 0.0171\n",
      "Epoch 46/50\n",
      "44/44 [==============================] - 0s 8ms/step - loss: 0.0020 - mae: 0.0238 - root_mean_squared_error: 0.0447 - val_loss: 1.9283e-04 - val_mae: 0.0105 - val_root_mean_squared_error: 0.0139\n",
      "Epoch 47/50\n",
      "44/44 [==============================] - 0s 8ms/step - loss: 0.0019 - mae: 0.0237 - root_mean_squared_error: 0.0441 - val_loss: 2.0558e-04 - val_mae: 0.0109 - val_root_mean_squared_error: 0.0143\n",
      "Epoch 48/50\n",
      "44/44 [==============================] - 0s 8ms/step - loss: 0.0021 - mae: 0.0246 - root_mean_squared_error: 0.0454 - val_loss: 8.1575e-04 - val_mae: 0.0258 - val_root_mean_squared_error: 0.0286\n",
      "Epoch 49/50\n",
      "44/44 [==============================] - 0s 8ms/step - loss: 0.0020 - mae: 0.0232 - root_mean_squared_error: 0.0442 - val_loss: 1.8456e-04 - val_mae: 0.0100 - val_root_mean_squared_error: 0.0136\n",
      "Epoch 50/50\n",
      "44/44 [==============================] - 0s 9ms/step - loss: 0.0019 - mae: 0.0226 - root_mean_squared_error: 0.0436 - val_loss: 4.2701e-04 - val_mae: 0.0179 - val_root_mean_squared_error: 0.0207\n"
     ]
    }
   ],
   "source": [
    "model.compile(loss='mean_squared_error',\n",
    "              metrics=['mae', RootMeanSquaredError()],\n",
    "              optimizer='adam')\n",
    "\n",
    "history = model.fit(X_train,\n",
    "                    y_train,\n",
    "                    epochs=50,\n",
    "                    batch_size=32,\n",
    "                    validation_split=0.1)"
   ]
  },
  {
   "cell_type": "code",
   "execution_count": 12,
   "id": "5d9b33de",
   "metadata": {
    "execution": {
     "iopub.execute_input": "2023-10-16T10:29:16.235536Z",
     "iopub.status.busy": "2023-10-16T10:29:16.234942Z",
     "iopub.status.idle": "2023-10-16T10:29:16.359824Z",
     "shell.execute_reply": "2023-10-16T10:29:16.358872Z"
    },
    "papermill": {
     "duration": 0.162057,
     "end_time": "2023-10-16T10:29:16.361487",
     "exception": false,
     "start_time": "2023-10-16T10:29:16.199430",
     "status": "completed"
    },
    "tags": []
   },
   "outputs": [
    {
     "name": "stdout",
     "output_type": "stream",
     "text": [
      "13/13 [==============================] - 0s 4ms/step - loss: 4.6996e-04 - mae: 0.0171 - root_mean_squared_error: 0.0217\n"
     ]
    },
    {
     "data": {
      "text/plain": [
       "[0.00046996312448754907, 0.017065504565835, 0.021678632125258446]"
      ]
     },
     "execution_count": 12,
     "metadata": {},
     "output_type": "execute_result"
    }
   ],
   "source": [
    "model.evaluate(X_test, y_test)"
   ]
  },
  {
   "cell_type": "markdown",
   "id": "20c0eab1",
   "metadata": {
    "papermill": {
     "duration": 0.034523,
     "end_time": "2023-10-16T10:29:16.431045",
     "exception": false,
     "start_time": "2023-10-16T10:29:16.396522",
     "status": "completed"
    },
    "tags": []
   },
   "source": [
    "## Model Evaluation"
   ]
  },
  {
   "cell_type": "code",
   "execution_count": 13,
   "id": "fb77c6c7",
   "metadata": {
    "execution": {
     "iopub.execute_input": "2023-10-16T10:29:16.500969Z",
     "iopub.status.busy": "2023-10-16T10:29:16.500695Z",
     "iopub.status.idle": "2023-10-16T10:29:16.765727Z",
     "shell.execute_reply": "2023-10-16T10:29:16.764912Z"
    },
    "papermill": {
     "duration": 0.302381,
     "end_time": "2023-10-16T10:29:16.767451",
     "exception": false,
     "start_time": "2023-10-16T10:29:16.465070",
     "status": "completed"
    },
    "tags": []
   },
   "outputs": [
    {
     "data": {
      "image/png": "[encoded data removed]",
      "text/plain": [
       "<Figure size 640x480 with 1 Axes>"
      ]
     },
     "metadata": {},
     "output_type": "display_data"
    }
   ],
   "source": [
    "plt.plot(history.history['loss'])\n",
    "plt.plot(history.history['val_loss'])\n",
    "plt.title(f'{SHEET_NAME[2]} Model Loss', fontsize=15)\n",
    "plt.ylabel('loss')\n",
    "plt.xlabel('epoch')\n",
    "plt.legend(['train', 'test'])\n",
    "plt.show()"
   ]
  },
  {
   "cell_type": "code",
   "execution_count": 14,
   "id": "f5c4b511",
   "metadata": {
    "execution": {
     "iopub.execute_input": "2023-10-16T10:29:16.839759Z",
     "iopub.status.busy": "2023-10-16T10:29:16.839344Z",
     "iopub.status.idle": "2023-10-16T10:29:17.876163Z",
     "shell.execute_reply": "2023-10-16T10:29:17.875304Z"
    },
    "papermill": {
     "duration": 1.075152,
     "end_time": "2023-10-16T10:29:17.877997",
     "exception": false,
     "start_time": "2023-10-16T10:29:16.802845",
     "status": "completed"
    },
    "tags": []
   },
   "outputs": [
    {
     "name": "stdout",
     "output_type": "stream",
     "text": [
      "13/13 [==============================] - 1s 3ms/step\n"
     ]
    }
   ],
   "source": [
    "y_hat = model.predict(X_test)\n",
    "y_test_inverse = scaler.inverse_transform(y_test)\n",
    "y_hat_inverse = scaler.inverse_transform(y_hat)"
   ]
  },
  {
   "cell_type": "code",
   "execution_count": 15,
   "id": "f61051f0",
   "metadata": {
    "execution": {
     "iopub.execute_input": "2023-10-16T10:29:17.950797Z",
     "iopub.status.busy": "2023-10-16T10:29:17.950205Z",
     "iopub.status.idle": "2023-10-16T10:29:18.228972Z",
     "shell.execute_reply": "2023-10-16T10:29:18.228040Z"
    },
    "papermill": {
     "duration": 0.317389,
     "end_time": "2023-10-16T10:29:18.231081",
     "exception": false,
     "start_time": "2023-10-16T10:29:17.913692",
     "status": "completed"
    },
    "tags": []
   },
   "outputs": [
    {
     "data": {
      "image/png": "[encoded data removed]",
      "text/plain": [
       "<Figure size 640x480 with 1 Axes>"
      ]
     },
     "metadata": {},
     "output_type": "display_data"
    }
   ],
   "source": [
    "plt.plot(y_test_inverse, label=\"Actual Price\", color='green')\n",
    "plt.plot(y_hat_inverse, label=\"Predicted Price\", color='red')\n",
    " \n",
    "plt.title(f'{SHEET_NAME[2]} Price Prediction\\nLSTM = {LSTM_Layer}, Split Data = {SPLIT}, Window = {WINDOW_SIZE}', fontsize=15)\n",
    "plt.xlabel('Time [days]')\n",
    "plt.ylabel('Price')\n",
    "plt.legend(loc='best')\n",
    " \n",
    "plt.show()"
   ]
  },
  {
   "cell_type": "code",
   "execution_count": 16,
   "id": "6f9703d4",
   "metadata": {
    "execution": {
     "iopub.execute_input": "2023-10-16T10:29:18.305213Z",
     "iopub.status.busy": "2023-10-16T10:29:18.304942Z",
     "iopub.status.idle": "2023-10-16T10:29:18.313292Z",
     "shell.execute_reply": "2023-10-16T10:29:18.312413Z"
    },
    "papermill": {
     "duration": 0.04734,
     "end_time": "2023-10-16T10:29:18.314973",
     "exception": false,
     "start_time": "2023-10-16T10:29:18.267633",
     "status": "completed"
    },
    "tags": []
   },
   "outputs": [
    {
     "name": "stdout",
     "output_type": "stream",
     "text": [
      "LSTM = 3, Split Data = 0.8, Window = 5\n",
      "\n",
      "----------------- Normalized Error -----------------\n",
      "Mean Absolute Error for prediction : 0.017065501918473912\n",
      "Mean Squared Error for prediction : 0.00046996309864673265\n",
      "Root Mean Squared Error for prediction : 0.0216786323057229\n",
      "\n",
      "----------------- Actual Error -----------------\n",
      "Mean Absolute Error for prediction : 35.981894181585645\n",
      "Mean Squared Error for prediction : 2089.2633716565824\n",
      "Root Mean Squared Error for prediction : 45.708460613507675\n"
     ]
    }
   ],
   "source": [
    "def matrices(actual, predicted):\n",
    "    mse = mean_squared_error(actual, predicted)\n",
    "    mae = mean_absolute_error(actual, predicted)\n",
    "    rmse = np.sqrt(mse)\n",
    "    print(\"Mean Absolute Error for prediction :\", mae)\n",
    "    print(\"Mean Squared Error for prediction :\", mse)\n",
    "    print(\"Root Mean Squared Error for prediction :\", rmse)\n",
    "    return mae, mse, rmse\n",
    "\n",
    "print(f\"LSTM = {LSTM_Layer}, Split Data = {SPLIT}, Window = {WINDOW_SIZE}\")\n",
    "print(\"\\n----------------- Normalized Error -----------------\")\n",
    "mae, mse, rmse = matrices(y_test, y_hat)\n",
    "print(\"\\n----------------- Actual Error -----------------\")\n",
    "mae_inverse, mse_inverse, rmse_inverse = matrices(y_test_inverse, y_hat_inverse)"
   ]
  }
 ],
 "metadata": {
  "kernelspec": {
   "display_name": "Python 3",
   "language": "python",
   "name": "python3"
  },
  "language_info": {
   "codemirror_mode": {
    "name": "ipython",
    "version": 3
   },
   "file_extension": ".py",
   "mimetype": "text/x-python",
   "name": "python",
   "nbconvert_exporter": "python",
   "pygments_lexer": "ipython3",
   "version": "3.10.10"
  },
  "papermill": {
   "default_parameters": {},
   "duration": 1690.295854,
   "end_time": "2023-10-16T10:29:22.072888",
   "environment_variables": {},
   "exception": null,
   "input_path": "__notebook__.ipynb",
   "output_path": "__notebook__.ipynb",
   "parameters": {},
   "start_time": "2023-10-16T10:01:11.777034",
   "version": "2.4.0"
  }
 },
 "nbformat": 4,
 "nbformat_minor": 5
}
