{
 "cells": [
  {
   "cell_type": "code",
   "execution_count": 1,
   "id": "77f60e44",
   "metadata": {
    "execution": {
     "iopub.execute_input": "2023-10-16T07:02:33.112996Z",
     "iopub.status.busy": "2023-10-16T07:02:33.112599Z",
     "iopub.status.idle": "2023-10-16T07:02:41.148222Z",
     "shell.execute_reply": "2023-10-16T07:02:41.147278Z"
    },
    "papermill": {
     "duration": 8.043241,
     "end_time": "2023-10-16T07:02:41.150303",
     "exception": false,
     "start_time": "2023-10-16T07:02:33.107062",
     "status": "completed"
    },
    "tags": []
   },
   "outputs": [
    {
     "name": "stderr",
     "output_type": "stream",
     "text": [
      "/opt/conda/lib/python3.10/site-packages/tensorflow_io/python/ops/__init__.py:98: UserWarning: unable to load libtensorflow_io_plugins.so: unable to open file: libtensorflow_io_plugins.so, from paths: ['/opt/conda/lib/python3.10/site-packages/tensorflow_io/python/ops/libtensorflow_io_plugins.so']\n",
      "caused by: ['/opt/conda/lib/python3.10/site-packages/tensorflow_io/python/ops/libtensorflow_io_plugins.so: undefined symbol: _ZN3tsl6StatusC1EN10tensorflow5error4CodeESt17basic_string_viewIcSt11char_traitsIcEENS_14SourceLocationE']\n",
      "  warnings.warn(f\"unable to load libtensorflow_io_plugins.so: {e}\")\n",
      "/opt/conda/lib/python3.10/site-packages/tensorflow_io/python/ops/__init__.py:104: UserWarning: file system plugins are not loaded: unable to open file: libtensorflow_io.so, from paths: ['/opt/conda/lib/python3.10/site-packages/tensorflow_io/python/ops/libtensorflow_io.so']\n",
      "caused by: ['/opt/conda/lib/python3.10/site-packages/tensorflow_io/python/ops/libtensorflow_io.so: undefined symbol: _ZTVN10tensorflow13GcsFileSystemE']\n",
      "  warnings.warn(f\"file system plugins are not loaded: {e}\")\n"
     ]
    }
   ],
   "source": [
    "import pandas as pd\n",
    "import numpy as np\n",
    "import tensorflow as tf\n",
    "import matplotlib.pyplot as plt\n",
    "import datetime, pytz\n",
    "\n",
    "from keras.models import Sequential\n",
    "from keras.layers import LSTM, Dense\n",
    "from keras.metrics import RootMeanSquaredError\n",
    "\n",
    "from sklearn.preprocessing import MinMaxScaler\n",
    "from sklearn.metrics import mean_squared_error, mean_absolute_error"
   ]
  },
  {
   "cell_type": "markdown",
   "id": "efbe61bb",
   "metadata": {
    "papermill": {
     "duration": 0.00314,
     "end_time": "2023-10-16T07:02:41.157065",
     "exception": false,
     "start_time": "2023-10-16T07:02:41.153925",
     "status": "completed"
    },
    "tags": []
   },
   "source": [
    "## Hyperparameter"
   ]
  },
  {
   "cell_type": "code",
   "execution_count": 2,
   "id": "8d934d82",
   "metadata": {
    "execution": {
     "iopub.execute_input": "2023-10-16T07:02:41.164816Z",
     "iopub.status.busy": "2023-10-16T07:02:41.164220Z",
     "iopub.status.idle": "2023-10-16T07:02:41.168699Z",
     "shell.execute_reply": "2023-10-16T07:02:41.167787Z"
    },
    "papermill": {
     "duration": 0.010085,
     "end_time": "2023-10-16T07:02:41.170324",
     "exception": false,
     "start_time": "2023-10-16T07:02:41.160239",
     "status": "completed"
    },
    "tags": []
   },
   "outputs": [],
   "source": [
    "SEQ_LEN = 21 # 6, 11, 21\n",
    "SPLIT = 0.80 # 0.80, 0.90\n",
    "LSTM_Layer = 1 # 1, 2, 3\n",
    "WINDOW_SIZE = SEQ_LEN - 1"
   ]
  },
  {
   "cell_type": "code",
   "execution_count": 3,
   "id": "8167d7c5",
   "metadata": {
    "execution": {
     "iopub.execute_input": "2023-10-16T07:02:41.177816Z",
     "iopub.status.busy": "2023-10-16T07:02:41.177464Z",
     "iopub.status.idle": "2023-10-16T07:02:43.249135Z",
     "shell.execute_reply": "2023-10-16T07:02:43.247796Z"
    },
    "papermill": {
     "duration": 2.07754,
     "end_time": "2023-10-16T07:02:43.251013",
     "exception": false,
     "start_time": "2023-10-16T07:02:41.173473",
     "status": "completed"
    },
    "tags": []
   },
   "outputs": [
    {
     "name": "stdout",
     "output_type": "stream",
     "text": [
      "<class 'pandas.core.frame.DataFrame'>\n",
      "RangeIndex: 1959 entries, 0 to 1958\n",
      "Data columns (total 2 columns):\n",
      " #   Column  Non-Null Count  Dtype         \n",
      "---  ------  --------------  -----         \n",
      " 0   Date    1959 non-null   datetime64[ns]\n",
      " 1   Close   1959 non-null   float64       \n",
      "dtypes: datetime64[ns](1), float64(1)\n",
      "memory usage: 30.7 KB\n"
     ]
    }
   ],
   "source": [
    "# Google Spreadsheet ID\n",
    "SHEET_ID = '1JDNv_mArl-GPIpxuWS5GxgVEwvjXocS1MrXGc6TYs8M'\n",
    "SHEET_NAME = ['USD/IDR', 'EUR/IDR', 'SGD/IDR']\n",
    "\n",
    "url = f'https://docs.google.com/spreadsheets/d/{SHEET_ID}/gviz/tq?tqx=out:csv&sheet={SHEET_NAME[2]}'\n",
    "data = pd.read_csv(url)\n",
    "\n",
    "# Convert Date columns to datetime format\n",
    "data['Date'] = pd.to_datetime(data['Date'], format='%d/%m/%Y %H:%M:%S')\n",
    "data.info()"
   ]
  },
  {
   "cell_type": "markdown",
   "id": "d03e15d3",
   "metadata": {
    "papermill": {
     "duration": 0.003131,
     "end_time": "2023-10-16T07:02:43.257763",
     "exception": false,
     "start_time": "2023-10-16T07:02:43.254632",
     "status": "completed"
    },
    "tags": []
   },
   "source": [
    "## Preprocessing"
   ]
  },
  {
   "cell_type": "code",
   "execution_count": 4,
   "id": "5d70f8f7",
   "metadata": {
    "execution": {
     "iopub.execute_input": "2023-10-16T07:02:43.265677Z",
     "iopub.status.busy": "2023-10-16T07:02:43.265377Z",
     "iopub.status.idle": "2023-10-16T07:02:43.272646Z",
     "shell.execute_reply": "2023-10-16T07:02:43.271809Z"
    },
    "papermill": {
     "duration": 0.013103,
     "end_time": "2023-10-16T07:02:43.274311",
     "exception": false,
     "start_time": "2023-10-16T07:02:43.261208",
     "status": "completed"
    },
    "tags": []
   },
   "outputs": [
    {
     "data": {
      "text/plain": [
       "(1959, 1)"
      ]
     },
     "execution_count": 4,
     "metadata": {},
     "output_type": "execute_result"
    }
   ],
   "source": [
    "scaler = MinMaxScaler()\n",
    "close_price = data.Close.values.reshape(-1, 1)\n",
    "scaled_close = scaler.fit_transform(close_price)\n",
    "scaled_close.shape"
   ]
  },
  {
   "cell_type": "code",
   "execution_count": 5,
   "id": "f55a1a70",
   "metadata": {
    "execution": {
     "iopub.execute_input": "2023-10-16T07:02:43.282442Z",
     "iopub.status.busy": "2023-10-16T07:02:43.281757Z",
     "iopub.status.idle": "2023-10-16T07:02:43.289864Z",
     "shell.execute_reply": "2023-10-16T07:02:43.289121Z"
    },
    "papermill": {
     "duration": 0.013917,
     "end_time": "2023-10-16T07:02:43.291547",
     "exception": false,
     "start_time": "2023-10-16T07:02:43.277630",
     "status": "completed"
    },
    "tags": []
   },
   "outputs": [],
   "source": [
    "def to_sequences(data, seq_len):\n",
    "    d = []\n",
    "    for index in range(len(data) - seq_len):\n",
    "        d.append(data[index: index + seq_len])\n",
    "    return np.array(d)\n",
    "\n",
    "def preprocess(data_raw, seq_len, train_split):\n",
    "    data = to_sequences(data_raw, seq_len)\n",
    "    num_train = int(train_split * data.shape[0])\n",
    "    X_train = data[:num_train, :-1, :]\n",
    "    y_train = data[:num_train, -1, :]\n",
    "    X_test = data[num_train:, :-1, :]\n",
    "    y_test = data[num_train:, -1, :]\n",
    "    return X_train, y_train, X_test, y_test\n",
    "\n",
    "X_train, y_train, X_test, y_test = preprocess(scaled_close, SEQ_LEN, train_split = SPLIT)"
   ]
  },
  {
   "cell_type": "markdown",
   "id": "02f7e58a",
   "metadata": {
    "papermill": {
     "duration": 0.003255,
     "end_time": "2023-10-16T07:02:43.298208",
     "exception": false,
     "start_time": "2023-10-16T07:02:43.294953",
     "status": "completed"
    },
    "tags": []
   },
   "source": [
    "## Genetic Algorithm"
   ]
  },
  {
   "cell_type": "code",
   "execution_count": 6,
   "id": "55aac5d8",
   "metadata": {
    "execution": {
     "iopub.execute_input": "2023-10-16T07:02:43.306461Z",
     "iopub.status.busy": "2023-10-16T07:02:43.305921Z",
     "iopub.status.idle": "2023-10-16T07:02:43.317784Z",
     "shell.execute_reply": "2023-10-16T07:02:43.317010Z"
    },
    "papermill": {
     "duration": 0.017827,
     "end_time": "2023-10-16T07:02:43.319401",
     "exception": false,
     "start_time": "2023-10-16T07:02:43.301574",
     "status": "completed"
    },
    "tags": []
   },
   "outputs": [],
   "source": [
    "# Genetic Algorithm\n",
    "def genetic_algorithm(population_size, generations):\n",
    "    population = np.random.randint(1, high=26, size=(population_size, 3))\n",
    "    \n",
    "    for generation in range(generations):\n",
    "        print(f\"Generation - {generation + 1}\")\n",
    "        fitness_scores = np.array([fitness_function(chromosome) for chromosome in population])\n",
    "        best_chromosome = population[np.argmax(fitness_scores)]\n",
    "        best_fitness = np.max(fitness_scores)\n",
    "        \n",
    "        new_population = []\n",
    "        \n",
    "        while len(new_population) < population_size:\n",
    "            parent1 = selection(population, fitness_scores)\n",
    "            parent2 = selection(population, fitness_scores)\n",
    "            offspring_1, offspring_2 = crossover(parent1, parent2)\n",
    "            mutate(offspring_1)\n",
    "            mutate(offspring_2)\n",
    "            new_population.append(offspring_1)\n",
    "            new_population.append(offspring_2)\n",
    "        \n",
    "        population = np.array(new_population)\n",
    "    \n",
    "    return best_chromosome, best_fitness\n",
    "\n",
    "# Selection (Tournament selection)\n",
    "def selection(population, fitness_scores, tournament_size=3):\n",
    "    indices = np.random.randint(len(population), size=tournament_size)\n",
    "    tournament = population[indices]\n",
    "    tournament_fitness = fitness_scores[indices]\n",
    "    return tournament[np.argmax(tournament_fitness)]\n",
    "\n",
    "# Crossover (Single-point crossover)\n",
    "def crossover(parent1, parent2):\n",
    "    crossover_point = np.random.randint(1, len(parent1))\n",
    "    offspring_1 = np.concatenate((parent1[:crossover_point], parent2[crossover_point:]))\n",
    "    offspring_2 = np.concatenate((parent2[:crossover_point], parent1[crossover_point:]))\n",
    "    return offspring_1, offspring_2\n",
    "\n",
    "# Mutation (Swap Mutation)\n",
    "def mutate(chromosome, mutation_rate=0.01):\n",
    "    for i in range(len(chromosome)):\n",
    "        if np.random.rand() < mutation_rate:\n",
    "            j = np.random.randint(len(chromosome))\n",
    "            chromosome[i], chromosome[j] = chromosome[j], chromosome[i]\n",
    "\n",
    "# Define the fitness function to be optimized\n",
    "def fitness_function(chromosome):\n",
    "    lstm_units = [int(chromosome[i]*10) or default for i, default in enumerate([128, 64, 32])]\n",
    "\n",
    "    # Build the LSTM model\n",
    "    tf.keras.backend.clear_session()\n",
    "    model = Sequential()\n",
    "    for i, units in enumerate(lstm_units[:LSTM_Layer]):\n",
    "        model.add(LSTM(units, return_sequences=(i < LSTM_Layer - 1), input_shape=(WINDOW_SIZE, 1)))\n",
    "    model.add(Dense(1))\n",
    "    \n",
    "    # Compile and train the model\n",
    "    model.compile(loss='mean_squared_error',\n",
    "                  optimizer='adam')\n",
    "    model.fit(X_train, y_train,\n",
    "              epochs=10,\n",
    "              batch_size=32,\n",
    "              verbose=0,\n",
    "              validation_split=0.1)\n",
    "\n",
    "    # Evaluate the model\n",
    "    loss = model.evaluate(X_test, y_test)\n",
    "\n",
    "    # Return the negative value of the loss as the fitness score\n",
    "    return -loss"
   ]
  },
  {
   "cell_type": "code",
   "execution_count": 7,
   "id": "809e1bab",
   "metadata": {
    "execution": {
     "iopub.execute_input": "2023-10-16T07:02:43.327678Z",
     "iopub.status.busy": "2023-10-16T07:02:43.327015Z",
     "iopub.status.idle": "2023-10-16T07:02:43.331831Z",
     "shell.execute_reply": "2023-10-16T07:02:43.330941Z"
    },
    "papermill": {
     "duration": 0.010481,
     "end_time": "2023-10-16T07:02:43.333385",
     "exception": false,
     "start_time": "2023-10-16T07:02:43.322904",
     "status": "completed"
    },
    "tags": []
   },
   "outputs": [],
   "source": [
    "import typing\n",
    "from datetime import datetime\n",
    "\n",
    "def timer(start_time: datetime = None) -> \"typing.Union[datetime.datetime, str]\":\n",
    "    if not start_time:\n",
    "        start_time = datetime.now()\n",
    "        return start_time\n",
    "    elif start_time:\n",
    "        thour, temp_sec = divmod((datetime.now() - start_time).total_seconds(), 3600)\n",
    "        tmin, tsec = divmod(temp_sec, 60)\n",
    "        return \"%i hours %i minutes and %s seconds.\" % (\n",
    "            thour,\n",
    "            tmin,\n",
    "            round(tsec, 2),\n",
    "        )"
   ]
  },
  {
   "cell_type": "code",
   "execution_count": 8,
   "id": "e0f732f8",
   "metadata": {
    "execution": {
     "iopub.execute_input": "2023-10-16T07:02:43.341708Z",
     "iopub.status.busy": "2023-10-16T07:02:43.340944Z",
     "iopub.status.idle": "2023-10-16T07:17:13.166157Z",
     "shell.execute_reply": "2023-10-16T07:17:13.165232Z"
    },
    "papermill": {
     "duration": 869.831382,
     "end_time": "2023-10-16T07:17:13.168209",
     "exception": false,
     "start_time": "2023-10-16T07:02:43.336827",
     "status": "completed"
    },
    "tags": []
   },
   "outputs": [
    {
     "name": "stdout",
     "output_type": "stream",
     "text": [
      "Generation - 1\n",
      "13/13 [==============================] - 0s 3ms/step - loss: 0.0013\n",
      "13/13 [==============================] - 0s 2ms/step - loss: 9.4453e-04\n",
      "13/13 [==============================] - 0s 3ms/step - loss: 0.0026\n",
      "13/13 [==============================] - 0s 3ms/step - loss: 8.9154e-04\n",
      "13/13 [==============================] - 0s 3ms/step - loss: 0.0024\n",
      "Generation - 2\n",
      "13/13 [==============================] - 0s 3ms/step - loss: 0.0013\n",
      "13/13 [==============================] - 0s 3ms/step - loss: 0.0012\n",
      "13/13 [==============================] - 0s 3ms/step - loss: 7.0874e-04\n",
      "13/13 [==============================] - 0s 3ms/step - loss: 6.5914e-04\n",
      "13/13 [==============================] - 0s 3ms/step - loss: 0.0013\n",
      "13/13 [==============================] - 0s 3ms/step - loss: 7.6676e-04\n",
      "Generation - 3\n",
      "13/13 [==============================] - 0s 3ms/step - loss: 7.1692e-04\n",
      "13/13 [==============================] - 0s 2ms/step - loss: 0.0024\n",
      "13/13 [==============================] - 0s 3ms/step - loss: 7.1370e-04\n",
      "13/13 [==============================] - 0s 3ms/step - loss: 0.0015\n",
      "13/13 [==============================] - 0s 3ms/step - loss: 0.0015\n",
      "13/13 [==============================] - 0s 3ms/step - loss: 0.0012\n",
      "Generation - 4\n",
      "13/13 [==============================] - 0s 2ms/step - loss: 6.2538e-04\n",
      "13/13 [==============================] - 0s 3ms/step - loss: 9.5085e-04\n",
      "13/13 [==============================] - 0s 3ms/step - loss: 6.7007e-04\n",
      "13/13 [==============================] - 0s 3ms/step - loss: 0.0016\n",
      "13/13 [==============================] - 0s 3ms/step - loss: 0.0015\n",
      "13/13 [==============================] - 0s 3ms/step - loss: 0.0023\n",
      "Generation - 5\n",
      "13/13 [==============================] - 0s 3ms/step - loss: 5.4775e-04\n",
      "13/13 [==============================] - 0s 3ms/step - loss: 0.0016\n",
      "13/13 [==============================] - 0s 3ms/step - loss: 8.3230e-04\n",
      "13/13 [==============================] - 0s 3ms/step - loss: 0.0017\n",
      "13/13 [==============================] - 0s 3ms/step - loss: 5.7301e-04\n",
      "13/13 [==============================] - 0s 3ms/step - loss: 0.0020\n",
      "Generation - 6\n",
      "13/13 [==============================] - 0s 3ms/step - loss: 6.2570e-04\n",
      "13/13 [==============================] - 0s 3ms/step - loss: 8.5685e-04\n",
      "13/13 [==============================] - 0s 3ms/step - loss: 6.5305e-04\n",
      "13/13 [==============================] - 0s 3ms/step - loss: 0.0012\n",
      "13/13 [==============================] - 0s 3ms/step - loss: 6.2768e-04\n",
      "13/13 [==============================] - 0s 3ms/step - loss: 0.0011\n",
      "Generation - 7\n",
      "13/13 [==============================] - 0s 4ms/step - loss: 0.0011\n",
      "13/13 [==============================] - 0s 3ms/step - loss: 0.0015\n",
      "13/13 [==============================] - 0s 3ms/step - loss: 6.5309e-04\n",
      "13/13 [==============================] - 0s 3ms/step - loss: 5.7301e-04\n",
      "13/13 [==============================] - 0s 3ms/step - loss: 6.6360e-04\n",
      "13/13 [==============================] - 0s 3ms/step - loss: 0.0014\n",
      "Generation - 8\n",
      "13/13 [==============================] - 0s 3ms/step - loss: 7.4537e-04\n",
      "13/13 [==============================] - 0s 3ms/step - loss: 7.5265e-04\n",
      "13/13 [==============================] - 0s 3ms/step - loss: 9.4884e-04\n",
      "13/13 [==============================] - 0s 3ms/step - loss: 0.0013\n",
      "13/13 [==============================] - 0s 3ms/step - loss: 8.0341e-04\n",
      "13/13 [==============================] - 0s 4ms/step - loss: 0.0014\n",
      "Generation - 9\n",
      "13/13 [==============================] - 0s 3ms/step - loss: 0.0016\n",
      "13/13 [==============================] - 0s 3ms/step - loss: 9.3089e-04\n",
      "13/13 [==============================] - 0s 3ms/step - loss: 8.9986e-04\n",
      "13/13 [==============================] - 0s 3ms/step - loss: 5.9759e-04\n",
      "13/13 [==============================] - 0s 3ms/step - loss: 0.0013\n",
      "13/13 [==============================] - 0s 4ms/step - loss: 0.0012\n",
      "Generation - 10\n",
      "13/13 [==============================] - 0s 3ms/step - loss: 0.0017\n",
      "13/13 [==============================] - 0s 3ms/step - loss: 0.0014\n",
      "13/13 [==============================] - 0s 3ms/step - loss: 0.0017\n",
      "13/13 [==============================] - 0s 3ms/step - loss: 5.7849e-04\n",
      "13/13 [==============================] - 0s 3ms/step - loss: 9.3351e-04\n",
      "13/13 [==============================] - 0s 3ms/step - loss: 0.0013\n",
      "Generation - 11\n",
      "13/13 [==============================] - 0s 3ms/step - loss: 9.7462e-04\n",
      "13/13 [==============================] - 0s 3ms/step - loss: 8.2364e-04\n",
      "13/13 [==============================] - 0s 3ms/step - loss: 0.0015\n",
      "13/13 [==============================] - 0s 3ms/step - loss: 8.5398e-04\n",
      "13/13 [==============================] - 0s 3ms/step - loss: 0.0011\n",
      "13/13 [==============================] - 0s 3ms/step - loss: 7.5487e-04\n",
      "Generation - 12\n",
      "13/13 [==============================] - 0s 3ms/step - loss: 5.9362e-04\n",
      "13/13 [==============================] - 0s 3ms/step - loss: 0.0014\n",
      "13/13 [==============================] - 0s 3ms/step - loss: 0.0012\n",
      "13/13 [==============================] - 0s 3ms/step - loss: 6.9164e-04\n",
      "13/13 [==============================] - 0s 3ms/step - loss: 6.8674e-04\n",
      "13/13 [==============================] - 0s 3ms/step - loss: 0.0012\n",
      "Generation - 13\n",
      "13/13 [==============================] - 0s 3ms/step - loss: 5.7004e-04\n",
      "13/13 [==============================] - 0s 3ms/step - loss: 9.2407e-04\n",
      "13/13 [==============================] - 0s 3ms/step - loss: 5.7531e-04\n",
      "13/13 [==============================] - 0s 3ms/step - loss: 0.0019\n",
      "13/13 [==============================] - 0s 3ms/step - loss: 6.9182e-04\n",
      "13/13 [==============================] - 0s 3ms/step - loss: 0.0010\n",
      "Generation - 14\n",
      "13/13 [==============================] - 0s 3ms/step - loss: 7.2160e-04\n",
      "13/13 [==============================] - 0s 3ms/step - loss: 6.8313e-04\n",
      "13/13 [==============================] - 0s 3ms/step - loss: 0.0011\n",
      "13/13 [==============================] - 0s 3ms/step - loss: 0.0025\n",
      "13/13 [==============================] - 0s 3ms/step - loss: 0.0020\n",
      "13/13 [==============================] - 0s 3ms/step - loss: 6.7215e-04\n",
      "Generation - 15\n",
      "13/13 [==============================] - 0s 3ms/step - loss: 6.7319e-04\n",
      "13/13 [==============================] - 0s 3ms/step - loss: 0.0010\n",
      "13/13 [==============================] - 0s 3ms/step - loss: 6.4878e-04\n",
      "13/13 [==============================] - 0s 3ms/step - loss: 9.0820e-04\n",
      "13/13 [==============================] - 0s 3ms/step - loss: 0.0014\n",
      "13/13 [==============================] - 0s 3ms/step - loss: 6.5085e-04\n",
      "Generation - 16\n",
      "13/13 [==============================] - 0s 3ms/step - loss: 0.0021\n",
      "13/13 [==============================] - 0s 3ms/step - loss: 6.3717e-04\n",
      "13/13 [==============================] - 0s 3ms/step - loss: 9.3320e-04\n",
      "13/13 [==============================] - 0s 3ms/step - loss: 0.0023\n",
      "13/13 [==============================] - 0s 3ms/step - loss: 0.0013\n",
      "13/13 [==============================] - 0s 3ms/step - loss: 7.6741e-04\n",
      "Generation - 17\n",
      "13/13 [==============================] - 0s 3ms/step - loss: 9.1391e-04\n",
      "13/13 [==============================] - 0s 3ms/step - loss: 0.0020\n",
      "13/13 [==============================] - 0s 4ms/step - loss: 0.0015\n",
      "13/13 [==============================] - 0s 3ms/step - loss: 5.7224e-04\n",
      "13/13 [==============================] - 0s 3ms/step - loss: 0.0011\n",
      "13/13 [==============================] - 0s 3ms/step - loss: 8.2665e-04\n",
      "Generation - 18\n",
      "13/13 [==============================] - 0s 3ms/step - loss: 5.7822e-04\n",
      "13/13 [==============================] - 0s 3ms/step - loss: 5.6475e-04\n",
      "13/13 [==============================] - 0s 3ms/step - loss: 0.0016\n",
      "13/13 [==============================] - 0s 3ms/step - loss: 8.0145e-04\n",
      "13/13 [==============================] - 0s 3ms/step - loss: 0.0022\n",
      "13/13 [==============================] - 0s 3ms/step - loss: 6.8530e-04\n",
      "Generation - 19\n",
      "13/13 [==============================] - 0s 4ms/step - loss: 0.0020\n",
      "13/13 [==============================] - 0s 3ms/step - loss: 6.4121e-04\n",
      "13/13 [==============================] - 0s 3ms/step - loss: 5.8030e-04\n",
      "13/13 [==============================] - 0s 3ms/step - loss: 0.0010\n",
      "13/13 [==============================] - 0s 3ms/step - loss: 5.7434e-04\n",
      "13/13 [==============================] - 0s 3ms/step - loss: 7.7729e-04\n",
      "Generation - 20\n",
      "13/13 [==============================] - 0s 3ms/step - loss: 8.9290e-04\n",
      "13/13 [==============================] - 0s 3ms/step - loss: 6.4975e-04\n",
      "13/13 [==============================] - 0s 3ms/step - loss: 0.0011\n",
      "13/13 [==============================] - 0s 3ms/step - loss: 0.0020\n",
      "13/13 [==============================] - 0s 3ms/step - loss: 0.0011\n",
      "13/13 [==============================] - 0s 4ms/step - loss: 6.5384e-04\n",
      "Generation - 21\n",
      "13/13 [==============================] - 0s 3ms/step - loss: 0.0016\n",
      "13/13 [==============================] - 0s 3ms/step - loss: 0.0018\n",
      "13/13 [==============================] - 0s 3ms/step - loss: 0.0011\n",
      "13/13 [==============================] - 0s 3ms/step - loss: 6.6774e-04\n",
      "13/13 [==============================] - 0s 3ms/step - loss: 5.6850e-04\n",
      "13/13 [==============================] - 0s 4ms/step - loss: 5.6915e-04\n",
      "Generation - 22\n",
      "13/13 [==============================] - 0s 3ms/step - loss: 0.0018\n",
      "13/13 [==============================] - 0s 3ms/step - loss: 0.0018\n",
      "13/13 [==============================] - 0s 3ms/step - loss: 9.1510e-04\n",
      "13/13 [==============================] - 0s 3ms/step - loss: 6.6837e-04\n",
      "13/13 [==============================] - 0s 3ms/step - loss: 0.0014\n",
      "13/13 [==============================] - 0s 3ms/step - loss: 6.9791e-04\n",
      "Generation - 23\n",
      "13/13 [==============================] - 0s 3ms/step - loss: 6.4394e-04\n",
      "13/13 [==============================] - 0s 3ms/step - loss: 6.0532e-04\n",
      "13/13 [==============================] - 0s 3ms/step - loss: 0.0013\n",
      "13/13 [==============================] - 0s 3ms/step - loss: 5.6605e-04\n",
      "13/13 [==============================] - 0s 3ms/step - loss: 6.9604e-04\n",
      "13/13 [==============================] - 0s 3ms/step - loss: 0.0012\n",
      "Generation - 24\n",
      "13/13 [==============================] - 0s 3ms/step - loss: 9.0918e-04\n",
      "13/13 [==============================] - 0s 3ms/step - loss: 5.8122e-04\n",
      "13/13 [==============================] - 0s 3ms/step - loss: 0.0012\n",
      "13/13 [==============================] - 0s 3ms/step - loss: 0.0011\n",
      "13/13 [==============================] - 0s 3ms/step - loss: 0.0010\n",
      "13/13 [==============================] - 0s 3ms/step - loss: 5.5605e-04\n",
      "Generation - 25\n",
      "13/13 [==============================] - 0s 3ms/step - loss: 0.0010\n",
      "13/13 [==============================] - 0s 3ms/step - loss: 0.0013\n",
      "13/13 [==============================] - 0s 3ms/step - loss: 6.9400e-04\n",
      "13/13 [==============================] - 0s 5ms/step - loss: 0.0011\n",
      "13/13 [==============================] - 0s 3ms/step - loss: 6.0583e-04\n",
      "13/13 [==============================] - 0s 3ms/step - loss: 6.0722e-04\n"
     ]
    }
   ],
   "source": [
    "# Do not increase this value\n",
    "population_size = 5\n",
    "generations = 25\n",
    "\n",
    "time = timer(None)\n",
    "best_chromosome, best_fitness = genetic_algorithm(population_size, generations)\n",
    "time = timer(time)"
   ]
  },
  {
   "cell_type": "code",
   "execution_count": 9,
   "id": "b4dca9d2",
   "metadata": {
    "execution": {
     "iopub.execute_input": "2023-10-16T07:17:13.203972Z",
     "iopub.status.busy": "2023-10-16T07:17:13.203069Z",
     "iopub.status.idle": "2023-10-16T07:17:13.208956Z",
     "shell.execute_reply": "2023-10-16T07:17:13.207790Z"
    },
    "papermill": {
     "duration": 0.025043,
     "end_time": "2023-10-16T07:17:13.210662",
     "exception": false,
     "start_time": "2023-10-16T07:17:13.185619",
     "status": "completed"
    },
    "tags": []
   },
   "outputs": [
    {
     "name": "stdout",
     "output_type": "stream",
     "text": [
      "Best Chromosome: [21  5 11]\n",
      "Best Fitness: -0.0006058273138478398\n",
      "Time Taken: 0 hours 14 minutes and 29.82 seconds.\n"
     ]
    }
   ],
   "source": [
    "print(\"Best Chromosome:\", best_chromosome)\n",
    "print(\"Best Fitness:\", best_fitness)\n",
    "print(\"Time Taken:\", time)"
   ]
  },
  {
   "cell_type": "markdown",
   "id": "2eabe6ed",
   "metadata": {
    "papermill": {
     "duration": 0.016476,
     "end_time": "2023-10-16T07:17:13.243883",
     "exception": false,
     "start_time": "2023-10-16T07:17:13.227407",
     "status": "completed"
    },
    "tags": []
   },
   "source": [
    "## Re-Training Model with Best Parameter"
   ]
  },
  {
   "cell_type": "code",
   "execution_count": 10,
   "id": "aed1476a",
   "metadata": {
    "execution": {
     "iopub.execute_input": "2023-10-16T07:17:13.279054Z",
     "iopub.status.busy": "2023-10-16T07:17:13.278742Z",
     "iopub.status.idle": "2023-10-16T07:17:13.520210Z",
     "shell.execute_reply": "2023-10-16T07:17:13.519314Z"
    },
    "papermill": {
     "duration": 0.265201,
     "end_time": "2023-10-16T07:17:13.526032",
     "exception": false,
     "start_time": "2023-10-16T07:17:13.260831",
     "status": "completed"
    },
    "tags": []
   },
   "outputs": [
    {
     "name": "stdout",
     "output_type": "stream",
     "text": [
      "Model: \"sequential_1\"\n",
      "_________________________________________________________________\n",
      " Layer (type)                Output Shape              Param #   \n",
      "=================================================================\n",
      " lstm_1 (LSTM)               (None, 210)               178080    \n",
      "                                                                 \n",
      " dense_1 (Dense)             (None, 1)                 211       \n",
      "                                                                 \n",
      "=================================================================\n",
      "Total params: 178,291\n",
      "Trainable params: 178,291\n",
      "Non-trainable params: 0\n",
      "_________________________________________________________________\n"
     ]
    }
   ],
   "source": [
    "model = Sequential()\n",
    "for i, units in enumerate(best_chromosome[:LSTM_Layer]):\n",
    "    model.add(LSTM(units*10, return_sequences=(i < LSTM_Layer - 1), input_shape=(WINDOW_SIZE, 1)))\n",
    "model.add(Dense(1))\n",
    "\n",
    "model.summary()"
   ]
  },
  {
   "cell_type": "code",
   "execution_count": 11,
   "id": "33be952a",
   "metadata": {
    "execution": {
     "iopub.execute_input": "2023-10-16T07:17:13.561395Z",
     "iopub.status.busy": "2023-10-16T07:17:13.561093Z",
     "iopub.status.idle": "2023-10-16T07:17:35.507012Z",
     "shell.execute_reply": "2023-10-16T07:17:35.506054Z"
    },
    "papermill": {
     "duration": 21.966569,
     "end_time": "2023-10-16T07:17:35.509850",
     "exception": false,
     "start_time": "2023-10-16T07:17:13.543281",
     "status": "completed"
    },
    "tags": []
   },
   "outputs": [
    {
     "name": "stdout",
     "output_type": "stream",
     "text": [
      "Epoch 1/50\n",
      "44/44 [==============================] - 3s 32ms/step - loss: 0.0096 - mae: 0.0648 - root_mean_squared_error: 0.0977 - val_loss: 9.9636e-04 - val_mae: 0.0266 - val_root_mean_squared_error: 0.0316\n",
      "Epoch 2/50\n",
      "44/44 [==============================] - 0s 6ms/step - loss: 0.0031 - mae: 0.0332 - root_mean_squared_error: 0.0555 - val_loss: 4.0564e-04 - val_mae: 0.0163 - val_root_mean_squared_error: 0.0201\n",
      "Epoch 3/50\n",
      "44/44 [==============================] - 0s 6ms/step - loss: 0.0028 - mae: 0.0309 - root_mean_squared_error: 0.0532 - val_loss: 5.0621e-04 - val_mae: 0.0186 - val_root_mean_squared_error: 0.0225\n",
      "Epoch 4/50\n",
      "44/44 [==============================] - 0s 6ms/step - loss: 0.0027 - mae: 0.0295 - root_mean_squared_error: 0.0523 - val_loss: 5.0260e-04 - val_mae: 0.0178 - val_root_mean_squared_error: 0.0224\n",
      "Epoch 5/50\n",
      "44/44 [==============================] - 0s 6ms/step - loss: 0.0027 - mae: 0.0288 - root_mean_squared_error: 0.0516 - val_loss: 4.0670e-04 - val_mae: 0.0160 - val_root_mean_squared_error: 0.0202\n",
      "Epoch 6/50\n",
      "44/44 [==============================] - 0s 6ms/step - loss: 0.0028 - mae: 0.0306 - root_mean_squared_error: 0.0525 - val_loss: 3.2918e-04 - val_mae: 0.0144 - val_root_mean_squared_error: 0.0181\n",
      "Epoch 7/50\n",
      "44/44 [==============================] - 0s 6ms/step - loss: 0.0025 - mae: 0.0280 - root_mean_squared_error: 0.0502 - val_loss: 3.1010e-04 - val_mae: 0.0139 - val_root_mean_squared_error: 0.0176\n",
      "Epoch 8/50\n",
      "44/44 [==============================] - 0s 6ms/step - loss: 0.0025 - mae: 0.0273 - root_mean_squared_error: 0.0497 - val_loss: 3.2091e-04 - val_mae: 0.0141 - val_root_mean_squared_error: 0.0179\n",
      "Epoch 9/50\n",
      "44/44 [==============================] - 0s 6ms/step - loss: 0.0025 - mae: 0.0273 - root_mean_squared_error: 0.0495 - val_loss: 2.8425e-04 - val_mae: 0.0133 - val_root_mean_squared_error: 0.0169\n",
      "Epoch 10/50\n",
      "44/44 [==============================] - 0s 6ms/step - loss: 0.0024 - mae: 0.0264 - root_mean_squared_error: 0.0486 - val_loss: 3.3143e-04 - val_mae: 0.0143 - val_root_mean_squared_error: 0.0182\n",
      "Epoch 11/50\n",
      "44/44 [==============================] - 0s 6ms/step - loss: 0.0026 - mae: 0.0306 - root_mean_squared_error: 0.0510 - val_loss: 5.3052e-04 - val_mae: 0.0190 - val_root_mean_squared_error: 0.0230\n",
      "Epoch 12/50\n",
      "44/44 [==============================] - 0s 6ms/step - loss: 0.0024 - mae: 0.0280 - root_mean_squared_error: 0.0492 - val_loss: 3.4762e-04 - val_mae: 0.0147 - val_root_mean_squared_error: 0.0186\n",
      "Epoch 13/50\n",
      "44/44 [==============================] - 0s 6ms/step - loss: 0.0023 - mae: 0.0260 - root_mean_squared_error: 0.0479 - val_loss: 2.5099e-04 - val_mae: 0.0123 - val_root_mean_squared_error: 0.0158\n",
      "Epoch 14/50\n",
      "44/44 [==============================] - 0s 6ms/step - loss: 0.0022 - mae: 0.0255 - root_mean_squared_error: 0.0471 - val_loss: 2.6049e-04 - val_mae: 0.0127 - val_root_mean_squared_error: 0.0161\n",
      "Epoch 15/50\n",
      "44/44 [==============================] - 0s 6ms/step - loss: 0.0023 - mae: 0.0260 - root_mean_squared_error: 0.0475 - val_loss: 3.9294e-04 - val_mae: 0.0159 - val_root_mean_squared_error: 0.0198\n",
      "Epoch 16/50\n",
      "44/44 [==============================] - 0s 6ms/step - loss: 0.0022 - mae: 0.0251 - root_mean_squared_error: 0.0464 - val_loss: 2.6445e-04 - val_mae: 0.0128 - val_root_mean_squared_error: 0.0163\n",
      "Epoch 17/50\n",
      "44/44 [==============================] - 0s 6ms/step - loss: 0.0022 - mae: 0.0265 - root_mean_squared_error: 0.0469 - val_loss: 2.2827e-04 - val_mae: 0.0115 - val_root_mean_squared_error: 0.0151\n",
      "Epoch 18/50\n",
      "44/44 [==============================] - 0s 6ms/step - loss: 0.0021 - mae: 0.0247 - root_mean_squared_error: 0.0459 - val_loss: 2.2706e-04 - val_mae: 0.0115 - val_root_mean_squared_error: 0.0151\n",
      "Epoch 19/50\n",
      "44/44 [==============================] - 0s 6ms/step - loss: 0.0021 - mae: 0.0249 - root_mean_squared_error: 0.0462 - val_loss: 3.4812e-04 - val_mae: 0.0154 - val_root_mean_squared_error: 0.0187\n",
      "Epoch 20/50\n",
      "44/44 [==============================] - 0s 6ms/step - loss: 0.0021 - mae: 0.0241 - root_mean_squared_error: 0.0454 - val_loss: 4.2065e-04 - val_mae: 0.0169 - val_root_mean_squared_error: 0.0205\n",
      "Epoch 21/50\n",
      "44/44 [==============================] - 0s 6ms/step - loss: 0.0020 - mae: 0.0244 - root_mean_squared_error: 0.0452 - val_loss: 2.3701e-04 - val_mae: 0.0119 - val_root_mean_squared_error: 0.0154\n",
      "Epoch 22/50\n",
      "44/44 [==============================] - 0s 6ms/step - loss: 0.0020 - mae: 0.0242 - root_mean_squared_error: 0.0450 - val_loss: 2.0594e-04 - val_mae: 0.0108 - val_root_mean_squared_error: 0.0144\n",
      "Epoch 23/50\n",
      "44/44 [==============================] - 0s 7ms/step - loss: 0.0021 - mae: 0.0248 - root_mean_squared_error: 0.0455 - val_loss: 2.4413e-04 - val_mae: 0.0123 - val_root_mean_squared_error: 0.0156\n",
      "Epoch 24/50\n",
      "44/44 [==============================] - 0s 6ms/step - loss: 0.0020 - mae: 0.0238 - root_mean_squared_error: 0.0448 - val_loss: 2.5013e-04 - val_mae: 0.0124 - val_root_mean_squared_error: 0.0158\n",
      "Epoch 25/50\n",
      "44/44 [==============================] - 0s 6ms/step - loss: 0.0020 - mae: 0.0241 - root_mean_squared_error: 0.0448 - val_loss: 4.9950e-04 - val_mae: 0.0194 - val_root_mean_squared_error: 0.0223\n",
      "Epoch 26/50\n",
      "44/44 [==============================] - 0s 7ms/step - loss: 0.0021 - mae: 0.0256 - root_mean_squared_error: 0.0461 - val_loss: 1.8820e-04 - val_mae: 0.0102 - val_root_mean_squared_error: 0.0137\n",
      "Epoch 27/50\n",
      "44/44 [==============================] - 0s 8ms/step - loss: 0.0020 - mae: 0.0231 - root_mean_squared_error: 0.0442 - val_loss: 2.8373e-04 - val_mae: 0.0134 - val_root_mean_squared_error: 0.0168\n",
      "Epoch 28/50\n",
      "44/44 [==============================] - 0s 6ms/step - loss: 0.0020 - mae: 0.0231 - root_mean_squared_error: 0.0442 - val_loss: 1.8316e-04 - val_mae: 0.0100 - val_root_mean_squared_error: 0.0135\n",
      "Epoch 29/50\n",
      "44/44 [==============================] - 0s 6ms/step - loss: 0.0019 - mae: 0.0227 - root_mean_squared_error: 0.0439 - val_loss: 1.8524e-04 - val_mae: 0.0101 - val_root_mean_squared_error: 0.0136\n",
      "Epoch 30/50\n",
      "44/44 [==============================] - 0s 6ms/step - loss: 0.0019 - mae: 0.0226 - root_mean_squared_error: 0.0439 - val_loss: 3.7050e-04 - val_mae: 0.0164 - val_root_mean_squared_error: 0.0192\n",
      "Epoch 31/50\n",
      "44/44 [==============================] - 0s 6ms/step - loss: 0.0019 - mae: 0.0226 - root_mean_squared_error: 0.0436 - val_loss: 1.9514e-04 - val_mae: 0.0106 - val_root_mean_squared_error: 0.0140\n",
      "Epoch 32/50\n",
      "44/44 [==============================] - 0s 6ms/step - loss: 0.0019 - mae: 0.0223 - root_mean_squared_error: 0.0434 - val_loss: 1.8075e-04 - val_mae: 0.0100 - val_root_mean_squared_error: 0.0134\n",
      "Epoch 33/50\n",
      "44/44 [==============================] - 0s 6ms/step - loss: 0.0019 - mae: 0.0220 - root_mean_squared_error: 0.0435 - val_loss: 2.5558e-04 - val_mae: 0.0126 - val_root_mean_squared_error: 0.0160\n",
      "Epoch 34/50\n",
      "44/44 [==============================] - 0s 6ms/step - loss: 0.0019 - mae: 0.0220 - root_mean_squared_error: 0.0435 - val_loss: 2.5741e-04 - val_mae: 0.0128 - val_root_mean_squared_error: 0.0160\n",
      "Epoch 35/50\n",
      "44/44 [==============================] - 0s 6ms/step - loss: 0.0019 - mae: 0.0217 - root_mean_squared_error: 0.0433 - val_loss: 1.7360e-04 - val_mae: 0.0097 - val_root_mean_squared_error: 0.0132\n",
      "Epoch 36/50\n",
      "44/44 [==============================] - 0s 6ms/step - loss: 0.0019 - mae: 0.0221 - root_mean_squared_error: 0.0436 - val_loss: 1.7312e-04 - val_mae: 0.0097 - val_root_mean_squared_error: 0.0132\n",
      "Epoch 37/50\n",
      "44/44 [==============================] - 0s 6ms/step - loss: 0.0021 - mae: 0.0250 - root_mean_squared_error: 0.0454 - val_loss: 2.9505e-04 - val_mae: 0.0139 - val_root_mean_squared_error: 0.0172\n",
      "Epoch 38/50\n",
      "44/44 [==============================] - 0s 6ms/step - loss: 0.0020 - mae: 0.0243 - root_mean_squared_error: 0.0445 - val_loss: 1.7408e-04 - val_mae: 0.0098 - val_root_mean_squared_error: 0.0132\n",
      "Epoch 39/50\n",
      "44/44 [==============================] - 0s 6ms/step - loss: 0.0019 - mae: 0.0220 - root_mean_squared_error: 0.0436 - val_loss: 1.6924e-04 - val_mae: 0.0096 - val_root_mean_squared_error: 0.0130\n",
      "Epoch 40/50\n",
      "44/44 [==============================] - 0s 6ms/step - loss: 0.0020 - mae: 0.0234 - root_mean_squared_error: 0.0443 - val_loss: 1.7129e-04 - val_mae: 0.0097 - val_root_mean_squared_error: 0.0131\n",
      "Epoch 41/50\n",
      "44/44 [==============================] - 0s 6ms/step - loss: 0.0019 - mae: 0.0223 - root_mean_squared_error: 0.0433 - val_loss: 3.3879e-04 - val_mae: 0.0157 - val_root_mean_squared_error: 0.0184\n",
      "Epoch 42/50\n",
      "44/44 [==============================] - 0s 6ms/step - loss: 0.0020 - mae: 0.0234 - root_mean_squared_error: 0.0444 - val_loss: 1.7202e-04 - val_mae: 0.0097 - val_root_mean_squared_error: 0.0131\n",
      "Epoch 43/50\n",
      "44/44 [==============================] - 0s 7ms/step - loss: 0.0019 - mae: 0.0223 - root_mean_squared_error: 0.0434 - val_loss: 6.1762e-04 - val_mae: 0.0221 - val_root_mean_squared_error: 0.0249\n",
      "Epoch 44/50\n",
      "44/44 [==============================] - 0s 7ms/step - loss: 0.0020 - mae: 0.0237 - root_mean_squared_error: 0.0442 - val_loss: 2.8758e-04 - val_mae: 0.0141 - val_root_mean_squared_error: 0.0170\n",
      "Epoch 45/50\n",
      "44/44 [==============================] - 0s 7ms/step - loss: 0.0019 - mae: 0.0217 - root_mean_squared_error: 0.0437 - val_loss: 2.2597e-04 - val_mae: 0.0118 - val_root_mean_squared_error: 0.0150\n",
      "Epoch 46/50\n",
      "44/44 [==============================] - 0s 6ms/step - loss: 0.0019 - mae: 0.0218 - root_mean_squared_error: 0.0431 - val_loss: 3.0984e-04 - val_mae: 0.0148 - val_root_mean_squared_error: 0.0176\n",
      "Epoch 47/50\n",
      "44/44 [==============================] - 0s 6ms/step - loss: 0.0019 - mae: 0.0218 - root_mean_squared_error: 0.0432 - val_loss: 2.8235e-04 - val_mae: 0.0140 - val_root_mean_squared_error: 0.0168\n",
      "Epoch 48/50\n",
      "44/44 [==============================] - 0s 6ms/step - loss: 0.0019 - mae: 0.0232 - root_mean_squared_error: 0.0440 - val_loss: 1.7348e-04 - val_mae: 0.0098 - val_root_mean_squared_error: 0.0132\n",
      "Epoch 49/50\n",
      "44/44 [==============================] - 0s 6ms/step - loss: 0.0019 - mae: 0.0221 - root_mean_squared_error: 0.0436 - val_loss: 3.5156e-04 - val_mae: 0.0160 - val_root_mean_squared_error: 0.0187\n",
      "Epoch 50/50\n",
      "44/44 [==============================] - 0s 6ms/step - loss: 0.0019 - mae: 0.0230 - root_mean_squared_error: 0.0440 - val_loss: 1.9018e-04 - val_mae: 0.0106 - val_root_mean_squared_error: 0.0138\n"
     ]
    }
   ],
   "source": [
    "model.compile(loss='mean_squared_error',\n",
    "              metrics=['mae', RootMeanSquaredError()],\n",
    "              optimizer='adam')\n",
    "\n",
    "history = model.fit(X_train,\n",
    "                    y_train,\n",
    "                    epochs=50,\n",
    "                    batch_size=32,\n",
    "                    validation_split=0.1)"
   ]
  },
  {
   "cell_type": "code",
   "execution_count": 12,
   "id": "1b0bbc41",
   "metadata": {
    "execution": {
     "iopub.execute_input": "2023-10-16T07:17:35.571600Z",
     "iopub.status.busy": "2023-10-16T07:17:35.570668Z",
     "iopub.status.idle": "2023-10-16T07:17:35.674047Z",
     "shell.execute_reply": "2023-10-16T07:17:35.673114Z"
    },
    "papermill": {
     "duration": 0.135521,
     "end_time": "2023-10-16T07:17:35.675769",
     "exception": false,
     "start_time": "2023-10-16T07:17:35.540248",
     "status": "completed"
    },
    "tags": []
   },
   "outputs": [
    {
     "name": "stdout",
     "output_type": "stream",
     "text": [
      "13/13 [==============================] - 0s 3ms/step - loss: 4.1541e-04 - mae: 0.0154 - root_mean_squared_error: 0.0204\n"
     ]
    },
    {
     "data": {
      "text/plain": [
       "[0.00041540616075508296, 0.01538587361574173, 0.020381515845656395]"
      ]
     },
     "execution_count": 12,
     "metadata": {},
     "output_type": "execute_result"
    }
   ],
   "source": [
    "model.evaluate(X_test, y_test)"
   ]
  },
  {
   "cell_type": "markdown",
   "id": "e837b198",
   "metadata": {
    "papermill": {
     "duration": 0.029279,
     "end_time": "2023-10-16T07:17:35.735569",
     "exception": false,
     "start_time": "2023-10-16T07:17:35.706290",
     "status": "completed"
    },
    "tags": []
   },
   "source": [
    "## Model Evaluation"
   ]
  },
  {
   "cell_type": "code",
   "execution_count": 13,
   "id": "c764ddff",
   "metadata": {
    "execution": {
     "iopub.execute_input": "2023-10-16T07:17:35.796810Z",
     "iopub.status.busy": "2023-10-16T07:17:35.796504Z",
     "iopub.status.idle": "2023-10-16T07:17:36.067822Z",
     "shell.execute_reply": "2023-10-16T07:17:36.066960Z"
    },
    "papermill": {
     "duration": 0.303885,
     "end_time": "2023-10-16T07:17:36.069637",
     "exception": false,
     "start_time": "2023-10-16T07:17:35.765752",
     "status": "completed"
    },
    "tags": []
   },
   "outputs": [
    {
     "data": {
      "image/png": "[encoded data removed]",
      "text/plain": [
       "<Figure size 640x480 with 1 Axes>"
      ]
     },
     "metadata": {},
     "output_type": "display_data"
    }
   ],
   "source": [
    "plt.plot(history.history['loss'])\n",
    "plt.plot(history.history['val_loss'])\n",
    "plt.title(f'{SHEET_NAME[2]} Model Loss', fontsize=15)\n",
    "plt.ylabel('loss')\n",
    "plt.xlabel('epoch')\n",
    "plt.legend(['train', 'test'])\n",
    "plt.show()"
   ]
  },
  {
   "cell_type": "code",
   "execution_count": 14,
   "id": "b95e8869",
   "metadata": {
    "execution": {
     "iopub.execute_input": "2023-10-16T07:17:36.133201Z",
     "iopub.status.busy": "2023-10-16T07:17:36.132199Z",
     "iopub.status.idle": "2023-10-16T07:17:36.586474Z",
     "shell.execute_reply": "2023-10-16T07:17:36.585509Z"
    },
    "papermill": {
     "duration": 0.488116,
     "end_time": "2023-10-16T07:17:36.588486",
     "exception": false,
     "start_time": "2023-10-16T07:17:36.100370",
     "status": "completed"
    },
    "tags": []
   },
   "outputs": [
    {
     "name": "stdout",
     "output_type": "stream",
     "text": [
      "13/13 [==============================] - 0s 2ms/step\n"
     ]
    }
   ],
   "source": [
    "y_hat = model.predict(X_test)\n",
    "y_test_inverse = scaler.inverse_transform(y_test)\n",
    "y_hat_inverse = scaler.inverse_transform(y_hat)"
   ]
  },
  {
   "cell_type": "code",
   "execution_count": 15,
   "id": "d281b0f5",
   "metadata": {
    "execution": {
     "iopub.execute_input": "2023-10-16T07:17:36.651812Z",
     "iopub.status.busy": "2023-10-16T07:17:36.651182Z",
     "iopub.status.idle": "2023-10-16T07:17:36.926317Z",
     "shell.execute_reply": "2023-10-16T07:17:36.925499Z"
    },
    "papermill": {
     "duration": 0.308537,
     "end_time": "2023-10-16T07:17:36.928283",
     "exception": false,
     "start_time": "2023-10-16T07:17:36.619746",
     "status": "completed"
    },
    "tags": []
   },
   "outputs": [
    {
     "data": {
      "image/png": "[encoded data removed]",
      "text/plain": [
       "<Figure size 640x480 with 1 Axes>"
      ]
     },
     "metadata": {},
     "output_type": "display_data"
    }
   ],
   "source": [
    "plt.plot(y_test_inverse, label=\"Actual Price\", color='green')\n",
    "plt.plot(y_hat_inverse, label=\"Predicted Price\", color='red')\n",
    " \n",
    "plt.title(f'{SHEET_NAME[2]} Price Prediction\\nLSTM = {LSTM_Layer}, Split Data = {SPLIT}, Window = {WINDOW_SIZE}', fontsize=15)\n",
    "plt.xlabel('Time [days]')\n",
    "plt.ylabel('Price')\n",
    "plt.legend(loc='best')\n",
    " \n",
    "plt.show()"
   ]
  },
  {
   "cell_type": "code",
   "execution_count": 16,
   "id": "d8776b15",
   "metadata": {
    "execution": {
     "iopub.execute_input": "2023-10-16T07:17:36.992394Z",
     "iopub.status.busy": "2023-10-16T07:17:36.992115Z",
     "iopub.status.idle": "2023-10-16T07:17:37.000790Z",
     "shell.execute_reply": "2023-10-16T07:17:36.999621Z"
    },
    "papermill": {
     "duration": 0.042399,
     "end_time": "2023-10-16T07:17:37.002397",
     "exception": false,
     "start_time": "2023-10-16T07:17:36.959998",
     "status": "completed"
    },
    "tags": []
   },
   "outputs": [
    {
     "name": "stdout",
     "output_type": "stream",
     "text": [
      "LSTM = 1, Split Data = 0.8, Window = 20\n",
      "\n",
      "----------------- Normalized Error -----------------\n",
      "Mean Absolute Error for prediction : 0.015385873668387054\n",
      "Mean Squared Error for prediction : 0.000415406155180785\n",
      "Root Mean Squared Error for prediction : 0.020381515036443806\n",
      "\n",
      "----------------- Actual Error -----------------\n",
      "Mean Absolute Error for prediction : 32.440408545425264\n",
      "Mean Squared Error for prediction : 1846.7239356200844\n",
      "Root Mean Squared Error for prediction : 42.97352598542601\n"
     ]
    }
   ],
   "source": [
    "def matrices(actual, predicted):\n",
    "    mse = mean_squared_error(actual, predicted)\n",
    "    mae = mean_absolute_error(actual, predicted)\n",
    "    rmse = np.sqrt(mse)\n",
    "    print(\"Mean Absolute Error for prediction :\", mae)\n",
    "    print(\"Mean Squared Error for prediction :\", mse)\n",
    "    print(\"Root Mean Squared Error for prediction :\", rmse)\n",
    "    return mae, mse, rmse\n",
    "\n",
    "print(f\"LSTM = {LSTM_Layer}, Split Data = {SPLIT}, Window = {WINDOW_SIZE}\")\n",
    "print(\"\\n----------------- Normalized Error -----------------\")\n",
    "mae, mse, rmse = matrices(y_test, y_hat)\n",
    "print(\"\\n----------------- Actual Error -----------------\")\n",
    "mae_inverse, mse_inverse, rmse_inverse = matrices(y_test_inverse, y_hat_inverse)"
   ]
  }
 ],
 "metadata": {
  "kernelspec": {
   "display_name": "Python 3",
   "language": "python",
   "name": "python3"
  },
  "language_info": {
   "codemirror_mode": {
    "name": "ipython",
    "version": 3
   },
   "file_extension": ".py",
   "mimetype": "text/x-python",
   "name": "python",
   "nbconvert_exporter": "python",
   "pygments_lexer": "ipython3",
   "version": "3.10.10"
  },
  "papermill": {
   "default_parameters": {},
   "duration": 915.849415,
   "end_time": "2023-10-16T07:17:40.768672",
   "environment_variables": {},
   "exception": null,
   "input_path": "__notebook__.ipynb",
   "output_path": "__notebook__.ipynb",
   "parameters": {},
   "start_time": "2023-10-16T07:02:24.919257",
   "version": "2.4.0"
  }
 },
 "nbformat": 4,
 "nbformat_minor": 5
}
