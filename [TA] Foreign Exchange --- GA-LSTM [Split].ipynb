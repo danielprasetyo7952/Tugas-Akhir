{
 "cells": [
  {
   "cell_type": "code",
   "execution_count": 1,
   "id": "bbb4ad88",
   "metadata": {
    "execution": {
     "iopub.execute_input": "2023-10-16T10:01:32.526788Z",
     "iopub.status.busy": "2023-10-16T10:01:32.526075Z",
     "iopub.status.idle": "2023-10-16T10:01:41.180622Z",
     "shell.execute_reply": "2023-10-16T10:01:41.179634Z"
    },
    "papermill": {
     "duration": 8.661887,
     "end_time": "2023-10-16T10:01:41.182699",
     "exception": false,
     "start_time": "2023-10-16T10:01:32.520812",
     "status": "completed"
    },
    "tags": []
   },
   "outputs": [
    {
     "name": "stderr",
     "output_type": "stream",
     "text": [
      "/opt/conda/lib/python3.10/site-packages/tensorflow_io/python/ops/__init__.py:98: UserWarning: unable to load libtensorflow_io_plugins.so: unable to open file: libtensorflow_io_plugins.so, from paths: ['/opt/conda/lib/python3.10/site-packages/tensorflow_io/python/ops/libtensorflow_io_plugins.so']\n",
      "caused by: ['/opt/conda/lib/python3.10/site-packages/tensorflow_io/python/ops/libtensorflow_io_plugins.so: undefined symbol: _ZN3tsl6StatusC1EN10tensorflow5error4CodeESt17basic_string_viewIcSt11char_traitsIcEENS_14SourceLocationE']\n",
      "  warnings.warn(f\"unable to load libtensorflow_io_plugins.so: {e}\")\n",
      "/opt/conda/lib/python3.10/site-packages/tensorflow_io/python/ops/__init__.py:104: UserWarning: file system plugins are not loaded: unable to open file: libtensorflow_io.so, from paths: ['/opt/conda/lib/python3.10/site-packages/tensorflow_io/python/ops/libtensorflow_io.so']\n",
      "caused by: ['/opt/conda/lib/python3.10/site-packages/tensorflow_io/python/ops/libtensorflow_io.so: undefined symbol: _ZTVN10tensorflow13GcsFileSystemE']\n",
      "  warnings.warn(f\"file system plugins are not loaded: {e}\")\n"
     ]
    }
   ],
   "source": [
    "import pandas as pd\n",
    "import numpy as np\n",
    "import tensorflow as tf\n",
    "import matplotlib.pyplot as plt\n",
    "import datetime, pytz\n",
    "\n",
    "from keras.models import Sequential\n",
    "from keras.layers import LSTM, Dense\n",
    "from keras.metrics import RootMeanSquaredError\n",
    "\n",
    "from sklearn.preprocessing import MinMaxScaler\n",
    "from sklearn.metrics import mean_squared_error, mean_absolute_error"
   ]
  },
  {
   "cell_type": "markdown",
   "id": "cc0e7f73",
   "metadata": {
    "papermill": {
     "duration": 0.003305,
     "end_time": "2023-10-16T10:01:41.189639",
     "exception": false,
     "start_time": "2023-10-16T10:01:41.186334",
     "status": "completed"
    },
    "tags": []
   },
   "source": [
    "## Hyperparameter"
   ]
  },
  {
   "cell_type": "code",
   "execution_count": 2,
   "id": "38976b8c",
   "metadata": {
    "execution": {
     "iopub.execute_input": "2023-10-16T10:01:41.197334Z",
     "iopub.status.busy": "2023-10-16T10:01:41.196795Z",
     "iopub.status.idle": "2023-10-16T10:01:41.201211Z",
     "shell.execute_reply": "2023-10-16T10:01:41.200368Z"
    },
    "papermill": {
     "duration": 0.010201,
     "end_time": "2023-10-16T10:01:41.202919",
     "exception": false,
     "start_time": "2023-10-16T10:01:41.192718",
     "status": "completed"
    },
    "tags": []
   },
   "outputs": [],
   "source": [
    "SEQ_LEN = 11 # 6, 11, 21\n",
    "SPLIT = 0.80 # 0.80, 0.90\n",
    "LSTM_Layer = 3 # 1, 2, 3\n",
    "WINDOW_SIZE = SEQ_LEN - 1"
   ]
  },
  {
   "cell_type": "code",
   "execution_count": 3,
   "id": "f1926cf1",
   "metadata": {
    "execution": {
     "iopub.execute_input": "2023-10-16T10:01:41.210372Z",
     "iopub.status.busy": "2023-10-16T10:01:41.209903Z",
     "iopub.status.idle": "2023-10-16T10:01:41.864959Z",
     "shell.execute_reply": "2023-10-16T10:01:41.863975Z"
    },
    "papermill": {
     "duration": 0.660699,
     "end_time": "2023-10-16T10:01:41.866697",
     "exception": false,
     "start_time": "2023-10-16T10:01:41.205998",
     "status": "completed"
    },
    "tags": []
   },
   "outputs": [
    {
     "name": "stdout",
     "output_type": "stream",
     "text": [
      "<class 'pandas.core.frame.DataFrame'>\n",
      "RangeIndex: 1959 entries, 0 to 1958\n",
      "Data columns (total 2 columns):\n",
      " #   Column  Non-Null Count  Dtype         \n",
      "---  ------  --------------  -----         \n",
      " 0   Date    1959 non-null   datetime64[ns]\n",
      " 1   Close   1959 non-null   float64       \n",
      "dtypes: datetime64[ns](1), float64(1)\n",
      "memory usage: 30.7 KB\n"
     ]
    }
   ],
   "source": [
    "# Google Spreadsheet ID\n",
    "SHEET_ID = '1JDNv_mArl-GPIpxuWS5GxgVEwvjXocS1MrXGc6TYs8M'\n",
    "SHEET_NAME = ['USD/IDR', 'EUR/IDR', 'SGD/IDR']\n",
    "\n",
    "url = f'https://docs.google.com/spreadsheets/d/{SHEET_ID}/gviz/tq?tqx=out:csv&sheet={SHEET_NAME[2]}'\n",
    "data = pd.read_csv(url)\n",
    "\n",
    "# Convert Date columns to datetime format\n",
    "data['Date'] = pd.to_datetime(data['Date'], format='%d/%m/%Y %H:%M:%S')\n",
    "data.info()"
   ]
  },
  {
   "cell_type": "markdown",
   "id": "14aaaafb",
   "metadata": {
    "papermill": {
     "duration": 0.003103,
     "end_time": "2023-10-16T10:01:41.873231",
     "exception": false,
     "start_time": "2023-10-16T10:01:41.870128",
     "status": "completed"
    },
    "tags": []
   },
   "source": [
    "## Preprocessing"
   ]
  },
  {
   "cell_type": "code",
   "execution_count": 4,
   "id": "3f54519c",
   "metadata": {
    "execution": {
     "iopub.execute_input": "2023-10-16T10:01:41.881774Z",
     "iopub.status.busy": "2023-10-16T10:01:41.880972Z",
     "iopub.status.idle": "2023-10-16T10:01:41.888746Z",
     "shell.execute_reply": "2023-10-16T10:01:41.887868Z"
    },
    "papermill": {
     "duration": 0.013929,
     "end_time": "2023-10-16T10:01:41.890370",
     "exception": false,
     "start_time": "2023-10-16T10:01:41.876441",
     "status": "completed"
    },
    "tags": []
   },
   "outputs": [
    {
     "data": {
      "text/plain": [
       "(1959, 1)"
      ]
     },
     "execution_count": 4,
     "metadata": {},
     "output_type": "execute_result"
    }
   ],
   "source": [
    "scaler = MinMaxScaler()\n",
    "close_price = data.Close.values.reshape(-1, 1)\n",
    "scaled_close = scaler.fit_transform(close_price)\n",
    "scaled_close.shape"
   ]
  },
  {
   "cell_type": "code",
   "execution_count": 5,
   "id": "22bfa9ac",
   "metadata": {
    "execution": {
     "iopub.execute_input": "2023-10-16T10:01:41.898683Z",
     "iopub.status.busy": "2023-10-16T10:01:41.898006Z",
     "iopub.status.idle": "2023-10-16T10:01:41.906063Z",
     "shell.execute_reply": "2023-10-16T10:01:41.905283Z"
    },
    "papermill": {
     "duration": 0.014026,
     "end_time": "2023-10-16T10:01:41.907727",
     "exception": false,
     "start_time": "2023-10-16T10:01:41.893701",
     "status": "completed"
    },
    "tags": []
   },
   "outputs": [],
   "source": [
    "def to_sequences(data, seq_len):\n",
    "    d = []\n",
    "    for index in range(len(data) - seq_len):\n",
    "        d.append(data[index: index + seq_len])\n",
    "    return np.array(d)\n",
    "\n",
    "def preprocess(data_raw, seq_len, train_split):\n",
    "    data = to_sequences(data_raw, seq_len)\n",
    "    num_train = int(train_split * data.shape[0])\n",
    "    X_train = data[:num_train, :-1, :]\n",
    "    y_train = data[:num_train, -1, :]\n",
    "    X_test = data[num_train:, :-1, :]\n",
    "    y_test = data[num_train:, -1, :]\n",
    "    return X_train, y_train, X_test, y_test\n",
    "\n",
    "X_train, y_train, X_test, y_test = preprocess(scaled_close, SEQ_LEN, train_split = SPLIT)"
   ]
  },
  {
   "cell_type": "markdown",
   "id": "573274da",
   "metadata": {
    "papermill": {
     "duration": 0.003178,
     "end_time": "2023-10-16T10:01:41.914323",
     "exception": false,
     "start_time": "2023-10-16T10:01:41.911145",
     "status": "completed"
    },
    "tags": []
   },
   "source": [
    "## Genetic Algorithm"
   ]
  },
  {
   "cell_type": "code",
   "execution_count": 6,
   "id": "a003afff",
   "metadata": {
    "execution": {
     "iopub.execute_input": "2023-10-16T10:01:41.922833Z",
     "iopub.status.busy": "2023-10-16T10:01:41.922576Z",
     "iopub.status.idle": "2023-10-16T10:01:41.933663Z",
     "shell.execute_reply": "2023-10-16T10:01:41.932801Z"
    },
    "papermill": {
     "duration": 0.017234,
     "end_time": "2023-10-16T10:01:41.935278",
     "exception": false,
     "start_time": "2023-10-16T10:01:41.918044",
     "status": "completed"
    },
    "tags": []
   },
   "outputs": [],
   "source": [
    "# Genetic Algorithm\n",
    "def genetic_algorithm(population_size, generations):\n",
    "    population = np.random.randint(1, high=26, size=(population_size, 3))\n",
    "    \n",
    "    for generation in range(generations):\n",
    "        print(f\"Generation - {generation + 1}\")\n",
    "        fitness_scores = np.array([fitness_function(chromosome) for chromosome in population])\n",
    "        best_chromosome = population[np.argmax(fitness_scores)]\n",
    "        best_fitness = np.max(fitness_scores)\n",
    "        \n",
    "        new_population = []\n",
    "        \n",
    "        while len(new_population) < population_size:\n",
    "            parent1 = selection(population, fitness_scores)\n",
    "            parent2 = selection(population, fitness_scores)\n",
    "            offspring_1, offspring_2 = crossover(parent1, parent2)\n",
    "            mutate(offspring_1)\n",
    "            mutate(offspring_2)\n",
    "            new_population.append(offspring_1)\n",
    "            new_population.append(offspring_2)\n",
    "        \n",
    "        population = np.array(new_population)\n",
    "    \n",
    "    return best_chromosome, best_fitness\n",
    "\n",
    "# Selection (Tournament selection)\n",
    "def selection(population, fitness_scores, tournament_size=3):\n",
    "    indices = np.random.randint(len(population), size=tournament_size)\n",
    "    tournament = population[indices]\n",
    "    tournament_fitness = fitness_scores[indices]\n",
    "    return tournament[np.argmax(tournament_fitness)]\n",
    "\n",
    "# Crossover (Single-point crossover)\n",
    "def crossover(parent1, parent2):\n",
    "    crossover_point = np.random.randint(1, len(parent1))\n",
    "    offspring_1 = np.concatenate((parent1[:crossover_point], parent2[crossover_point:]))\n",
    "    offspring_2 = np.concatenate((parent2[:crossover_point], parent1[crossover_point:]))\n",
    "    return offspring_1, offspring_2\n",
    "\n",
    "# Mutation (Swap Mutation)\n",
    "def mutate(chromosome, mutation_rate=0.01):\n",
    "    for i in range(len(chromosome)):\n",
    "        if np.random.rand() < mutation_rate:\n",
    "            j = np.random.randint(len(chromosome))\n",
    "            chromosome[i], chromosome[j] = chromosome[j], chromosome[i]\n",
    "\n",
    "# Define the fitness function to be optimized\n",
    "def fitness_function(chromosome):\n",
    "    lstm_units = [int(chromosome[i]*10) or default for i, default in enumerate([128, 64, 32])]\n",
    "\n",
    "    # Build the LSTM model\n",
    "    tf.keras.backend.clear_session()\n",
    "    model = Sequential()\n",
    "    for i, units in enumerate(lstm_units[:LSTM_Layer]):\n",
    "        model.add(LSTM(units, return_sequences=(i < LSTM_Layer - 1), input_shape=(WINDOW_SIZE, 1)))\n",
    "    model.add(Dense(1))\n",
    "    \n",
    "    # Compile and train the model\n",
    "    model.compile(loss='mean_squared_error',\n",
    "                  optimizer='adam')\n",
    "    model.fit(X_train, y_train,\n",
    "              epochs=10,\n",
    "              batch_size=32,\n",
    "              verbose=0,\n",
    "              validation_split=0.1)\n",
    "\n",
    "    # Evaluate the model\n",
    "    loss = model.evaluate(X_test, y_test)\n",
    "\n",
    "    # Return the negative value of the loss as the fitness score\n",
    "    return -loss"
   ]
  },
  {
   "cell_type": "code",
   "execution_count": 7,
   "id": "125dfb1e",
   "metadata": {
    "execution": {
     "iopub.execute_input": "2023-10-16T10:01:41.943701Z",
     "iopub.status.busy": "2023-10-16T10:01:41.943001Z",
     "iopub.status.idle": "2023-10-16T10:01:41.948238Z",
     "shell.execute_reply": "2023-10-16T10:01:41.947512Z"
    },
    "papermill": {
     "duration": 0.011154,
     "end_time": "2023-10-16T10:01:41.949817",
     "exception": false,
     "start_time": "2023-10-16T10:01:41.938663",
     "status": "completed"
    },
    "tags": []
   },
   "outputs": [],
   "source": [
    "import typing\n",
    "from datetime import datetime\n",
    "\n",
    "def timer(start_time: datetime = None) -> \"typing.Union[datetime.datetime, str]\":\n",
    "    if not start_time:\n",
    "        start_time = datetime.now()\n",
    "        return start_time\n",
    "    elif start_time:\n",
    "        thour, temp_sec = divmod((datetime.now() - start_time).total_seconds(), 3600)\n",
    "        tmin, tsec = divmod(temp_sec, 60)\n",
    "        return \"%i hours %i minutes and %s seconds.\" % (\n",
    "            thour,\n",
    "            tmin,\n",
    "            round(tsec, 2),\n",
    "        )"
   ]
  },
  {
   "cell_type": "code",
   "execution_count": 8,
   "id": "521a5d8e",
   "metadata": {
    "execution": {
     "iopub.execute_input": "2023-10-16T10:01:41.957921Z",
     "iopub.status.busy": "2023-10-16T10:01:41.957253Z",
     "iopub.status.idle": "2023-10-16T10:31:48.551439Z",
     "shell.execute_reply": "2023-10-16T10:31:48.550503Z"
    },
    "papermill": {
     "duration": 1806.600224,
     "end_time": "2023-10-16T10:31:48.553394",
     "exception": false,
     "start_time": "2023-10-16T10:01:41.953170",
     "status": "completed"
    },
    "tags": []
   },
   "outputs": [
    {
     "name": "stdout",
     "output_type": "stream",
     "text": [
      "Generation - 1\n",
      "13/13 [==============================] - 0s 4ms/step - loss: 0.0013\n",
      "13/13 [==============================] - 0s 4ms/step - loss: 0.0025\n",
      "13/13 [==============================] - 0s 4ms/step - loss: 0.0011\n",
      "13/13 [==============================] - 0s 4ms/step - loss: 8.3956e-04\n",
      "13/13 [==============================] - 0s 4ms/step - loss: 8.2251e-04\n",
      "Generation - 2\n",
      "13/13 [==============================] - 0s 4ms/step - loss: 8.7176e-04\n",
      "13/13 [==============================] - 0s 4ms/step - loss: 0.0015\n",
      "13/13 [==============================] - 0s 4ms/step - loss: 0.0036\n",
      "13/13 [==============================] - 0s 4ms/step - loss: 0.0021\n",
      "13/13 [==============================] - 0s 4ms/step - loss: 0.0022\n",
      "13/13 [==============================] - 0s 4ms/step - loss: 8.3303e-04\n",
      "Generation - 3\n",
      "13/13 [==============================] - 0s 4ms/step - loss: 0.0013\n",
      "13/13 [==============================] - 0s 4ms/step - loss: 6.7847e-04\n",
      "13/13 [==============================] - 0s 4ms/step - loss: 0.0010\n",
      "13/13 [==============================] - 0s 4ms/step - loss: 7.7806e-04\n",
      "13/13 [==============================] - 0s 4ms/step - loss: 0.0064\n",
      "13/13 [==============================] - 0s 4ms/step - loss: 7.2999e-04\n",
      "Generation - 4\n",
      "13/13 [==============================] - 0s 4ms/step - loss: 0.0019\n",
      "13/13 [==============================] - 0s 4ms/step - loss: 7.7059e-04\n",
      "13/13 [==============================] - 0s 4ms/step - loss: 0.0013\n",
      "13/13 [==============================] - 0s 4ms/step - loss: 8.3678e-04\n",
      "13/13 [==============================] - 0s 4ms/step - loss: 7.1898e-04\n",
      "13/13 [==============================] - 0s 4ms/step - loss: 0.0016\n",
      "Generation - 5\n",
      "13/13 [==============================] - 0s 4ms/step - loss: 0.0023\n",
      "13/13 [==============================] - 0s 4ms/step - loss: 0.0032\n",
      "13/13 [==============================] - 0s 4ms/step - loss: 9.3939e-04\n",
      "13/13 [==============================] - 0s 4ms/step - loss: 8.1760e-04\n",
      "13/13 [==============================] - 0s 4ms/step - loss: 9.9789e-04\n",
      "13/13 [==============================] - 0s 4ms/step - loss: 0.0011\n",
      "Generation - 6\n",
      "13/13 [==============================] - 0s 4ms/step - loss: 6.4153e-04\n",
      "13/13 [==============================] - 0s 4ms/step - loss: 7.4215e-04\n",
      "13/13 [==============================] - 0s 4ms/step - loss: 7.0529e-04\n",
      "13/13 [==============================] - 0s 4ms/step - loss: 0.0044\n",
      "13/13 [==============================] - 0s 4ms/step - loss: 8.7303e-04\n",
      "13/13 [==============================] - 0s 4ms/step - loss: 0.0011\n",
      "Generation - 7\n",
      "13/13 [==============================] - 0s 4ms/step - loss: 0.0055\n",
      "13/13 [==============================] - 0s 4ms/step - loss: 0.0018\n",
      "13/13 [==============================] - 0s 4ms/step - loss: 0.0040\n",
      "13/13 [==============================] - 0s 4ms/step - loss: 7.0906e-04\n",
      "13/13 [==============================] - 0s 4ms/step - loss: 8.2688e-04\n",
      "13/13 [==============================] - 0s 4ms/step - loss: 7.0858e-04\n",
      "Generation - 8\n",
      "13/13 [==============================] - 0s 4ms/step - loss: 0.0038\n",
      "13/13 [==============================] - 0s 4ms/step - loss: 0.0073\n",
      "13/13 [==============================] - 0s 4ms/step - loss: 9.0927e-04\n",
      "13/13 [==============================] - 0s 4ms/step - loss: 0.0018\n",
      "13/13 [==============================] - 0s 4ms/step - loss: 0.0020\n",
      "13/13 [==============================] - 0s 4ms/step - loss: 0.0018\n",
      "Generation - 9\n",
      "13/13 [==============================] - 0s 4ms/step - loss: 6.4088e-04\n",
      "13/13 [==============================] - 0s 4ms/step - loss: 0.0017\n",
      "13/13 [==============================] - 0s 4ms/step - loss: 7.0809e-04\n",
      "13/13 [==============================] - 0s 4ms/step - loss: 0.0036\n",
      "13/13 [==============================] - 0s 4ms/step - loss: 0.0039\n",
      "13/13 [==============================] - 0s 4ms/step - loss: 0.0028\n",
      "Generation - 10\n",
      "13/13 [==============================] - 0s 4ms/step - loss: 7.6832e-04\n",
      "13/13 [==============================] - 0s 4ms/step - loss: 8.7950e-04\n",
      "13/13 [==============================] - 0s 4ms/step - loss: 0.0046\n",
      "13/13 [==============================] - 0s 4ms/step - loss: 0.0013\n",
      "13/13 [==============================] - 0s 4ms/step - loss: 0.0015\n",
      "13/13 [==============================] - 0s 4ms/step - loss: 0.0010\n",
      "Generation - 11\n",
      "13/13 [==============================] - 0s 4ms/step - loss: 0.0017\n",
      "13/13 [==============================] - 0s 4ms/step - loss: 7.1378e-04\n",
      "13/13 [==============================] - 0s 4ms/step - loss: 0.0058\n",
      "13/13 [==============================] - 0s 5ms/step - loss: 0.0018\n",
      "13/13 [==============================] - 0s 4ms/step - loss: 7.9279e-04\n",
      "13/13 [==============================] - 0s 4ms/step - loss: 0.0010\n",
      "Generation - 12\n",
      "13/13 [==============================] - 0s 4ms/step - loss: 0.0037\n",
      "13/13 [==============================] - 0s 4ms/step - loss: 0.0031\n",
      "13/13 [==============================] - 0s 4ms/step - loss: 0.0023\n",
      "13/13 [==============================] - 0s 4ms/step - loss: 8.6929e-04\n",
      "13/13 [==============================] - 0s 4ms/step - loss: 0.0046\n",
      "13/13 [==============================] - 0s 4ms/step - loss: 9.2295e-04\n",
      "Generation - 13\n",
      "13/13 [==============================] - 0s 4ms/step - loss: 9.1097e-04\n",
      "13/13 [==============================] - 0s 4ms/step - loss: 0.0020\n",
      "13/13 [==============================] - 0s 4ms/step - loss: 9.2103e-04\n",
      "13/13 [==============================] - 0s 5ms/step - loss: 7.0752e-04\n",
      "13/13 [==============================] - 0s 4ms/step - loss: 9.7190e-04\n",
      "13/13 [==============================] - 0s 4ms/step - loss: 0.0010\n",
      "Generation - 14\n",
      "13/13 [==============================] - 0s 4ms/step - loss: 9.5258e-04\n",
      "13/13 [==============================] - 0s 4ms/step - loss: 7.1776e-04\n",
      "13/13 [==============================] - 0s 4ms/step - loss: 0.0019\n",
      "13/13 [==============================] - 0s 4ms/step - loss: 0.0013\n",
      "13/13 [==============================] - 0s 4ms/step - loss: 0.0015\n",
      "13/13 [==============================] - 0s 4ms/step - loss: 0.0026\n",
      "Generation - 15\n",
      "13/13 [==============================] - 0s 5ms/step - loss: 0.0011\n",
      "13/13 [==============================] - 0s 4ms/step - loss: 0.0012\n",
      "13/13 [==============================] - 0s 4ms/step - loss: 0.0037\n",
      "13/13 [==============================] - 0s 4ms/step - loss: 8.0235e-04\n",
      "13/13 [==============================] - 0s 4ms/step - loss: 0.0019\n",
      "13/13 [==============================] - 0s 4ms/step - loss: 0.0017\n",
      "Generation - 16\n",
      "13/13 [==============================] - 0s 4ms/step - loss: 0.0041\n",
      "13/13 [==============================] - 0s 4ms/step - loss: 0.0053\n",
      "13/13 [==============================] - 0s 4ms/step - loss: 8.8456e-04\n",
      "13/13 [==============================] - 0s 5ms/step - loss: 6.9099e-04\n",
      "13/13 [==============================] - 0s 6ms/step - loss: 0.0019\n",
      "13/13 [==============================] - 0s 4ms/step - loss: 8.1824e-04\n",
      "Generation - 17\n",
      "13/13 [==============================] - 0s 5ms/step - loss: 0.0015\n",
      "13/13 [==============================] - 0s 4ms/step - loss: 8.1347e-04\n",
      "13/13 [==============================] - 0s 4ms/step - loss: 0.0026\n",
      "13/13 [==============================] - 0s 4ms/step - loss: 0.0030\n",
      "13/13 [==============================] - 0s 4ms/step - loss: 9.9263e-04\n",
      "13/13 [==============================] - 0s 4ms/step - loss: 0.0069\n",
      "Generation - 18\n",
      "13/13 [==============================] - 0s 4ms/step - loss: 0.0011\n",
      "13/13 [==============================] - 0s 3ms/step - loss: 0.0012\n",
      "13/13 [==============================] - 0s 4ms/step - loss: 0.0012\n",
      "13/13 [==============================] - 0s 4ms/step - loss: 7.9167e-04\n",
      "13/13 [==============================] - 0s 4ms/step - loss: 0.0014\n",
      "13/13 [==============================] - 0s 4ms/step - loss: 0.0026\n",
      "Generation - 19\n",
      "13/13 [==============================] - 0s 4ms/step - loss: 9.7170e-04\n",
      "13/13 [==============================] - 0s 4ms/step - loss: 0.0025\n",
      "13/13 [==============================] - 0s 4ms/step - loss: 0.0042\n",
      "13/13 [==============================] - 0s 4ms/step - loss: 0.0025\n",
      "13/13 [==============================] - 0s 4ms/step - loss: 8.0782e-04\n",
      "13/13 [==============================] - 0s 4ms/step - loss: 0.0032\n",
      "Generation - 20\n",
      "13/13 [==============================] - 0s 8ms/step - loss: 6.5531e-04\n",
      "13/13 [==============================] - 0s 4ms/step - loss: 8.0892e-04\n",
      "13/13 [==============================] - 0s 4ms/step - loss: 9.0248e-04\n",
      "13/13 [==============================] - 0s 5ms/step - loss: 0.0025\n",
      "13/13 [==============================] - 0s 4ms/step - loss: 7.5121e-04\n",
      "13/13 [==============================] - 0s 4ms/step - loss: 0.0013\n",
      "Generation - 21\n",
      "13/13 [==============================] - 0s 4ms/step - loss: 8.3917e-04\n",
      "13/13 [==============================] - 0s 4ms/step - loss: 6.3023e-04\n",
      "13/13 [==============================] - 0s 4ms/step - loss: 0.0011\n",
      "13/13 [==============================] - 0s 5ms/step - loss: 0.0050\n",
      "13/13 [==============================] - 0s 4ms/step - loss: 0.0022\n",
      "13/13 [==============================] - 0s 6ms/step - loss: 0.0044\n",
      "Generation - 22\n",
      "13/13 [==============================] - 0s 4ms/step - loss: 7.9507e-04\n",
      "13/13 [==============================] - 0s 4ms/step - loss: 7.8574e-04\n",
      "13/13 [==============================] - 0s 4ms/step - loss: 0.0035\n",
      "13/13 [==============================] - 0s 5ms/step - loss: 7.7877e-04\n",
      "13/13 [==============================] - 0s 4ms/step - loss: 0.0014\n",
      "13/13 [==============================] - 0s 4ms/step - loss: 0.0059\n",
      "Generation - 23\n",
      "13/13 [==============================] - 0s 4ms/step - loss: 7.0683e-04\n",
      "13/13 [==============================] - 0s 4ms/step - loss: 9.9581e-04\n",
      "13/13 [==============================] - 0s 4ms/step - loss: 0.0017\n",
      "13/13 [==============================] - 0s 5ms/step - loss: 9.3312e-04\n",
      "13/13 [==============================] - 0s 4ms/step - loss: 7.0902e-04\n",
      "13/13 [==============================] - 0s 3ms/step - loss: 9.3545e-04\n",
      "Generation - 24\n",
      "13/13 [==============================] - 0s 4ms/step - loss: 0.0033\n",
      "13/13 [==============================] - 0s 4ms/step - loss: 0.0025\n",
      "13/13 [==============================] - 0s 4ms/step - loss: 9.1025e-04\n",
      "13/13 [==============================] - 0s 5ms/step - loss: 0.0011\n",
      "13/13 [==============================] - 0s 4ms/step - loss: 9.7224e-04\n",
      "13/13 [==============================] - 0s 4ms/step - loss: 0.0050\n",
      "Generation - 25\n",
      "13/13 [==============================] - 0s 5ms/step - loss: 7.1885e-04\n",
      "13/13 [==============================] - 0s 4ms/step - loss: 0.0015\n",
      "13/13 [==============================] - 0s 4ms/step - loss: 0.0010\n",
      "13/13 [==============================] - 0s 5ms/step - loss: 7.3403e-04\n",
      "13/13 [==============================] - 0s 4ms/step - loss: 0.0028\n",
      "13/13 [==============================] - 0s 4ms/step - loss: 7.2968e-04\n"
     ]
    }
   ],
   "source": [
    "# Do not increase this value\n",
    "population_size = 5\n",
    "generations = 25\n",
    "\n",
    "time = timer(None)\n",
    "best_chromosome, best_fitness = genetic_algorithm(population_size, generations)\n",
    "time = timer(time)"
   ]
  },
  {
   "cell_type": "code",
   "execution_count": 9,
   "id": "6b4c7e02",
   "metadata": {
    "execution": {
     "iopub.execute_input": "2023-10-16T10:31:48.589820Z",
     "iopub.status.busy": "2023-10-16T10:31:48.589525Z",
     "iopub.status.idle": "2023-10-16T10:31:48.594158Z",
     "shell.execute_reply": "2023-10-16T10:31:48.593353Z"
    },
    "papermill": {
     "duration": 0.024437,
     "end_time": "2023-10-16T10:31:48.596113",
     "exception": false,
     "start_time": "2023-10-16T10:31:48.571676",
     "status": "completed"
    },
    "tags": []
   },
   "outputs": [
    {
     "name": "stdout",
     "output_type": "stream",
     "text": [
      "Best Chromosome: [10 13 25]\n",
      "Best Fitness: -0.0007188507588580251\n",
      "Time Taken: 0 hours 30 minutes and 6.59 seconds.\n"
     ]
    }
   ],
   "source": [
    "print(\"Best Chromosome:\", best_chromosome)\n",
    "print(\"Best Fitness:\", best_fitness)\n",
    "print(\"Time Taken:\", time)"
   ]
  },
  {
   "cell_type": "markdown",
   "id": "ec9c685c",
   "metadata": {
    "papermill": {
     "duration": 0.017445,
     "end_time": "2023-10-16T10:31:48.630529",
     "exception": false,
     "start_time": "2023-10-16T10:31:48.613084",
     "status": "completed"
    },
    "tags": []
   },
   "source": [
    "## Re-Training Model with Best Parameter"
   ]
  },
  {
   "cell_type": "code",
   "execution_count": 10,
   "id": "d4499224",
   "metadata": {
    "execution": {
     "iopub.execute_input": "2023-10-16T10:31:48.666484Z",
     "iopub.status.busy": "2023-10-16T10:31:48.665897Z",
     "iopub.status.idle": "2023-10-16T10:31:49.308443Z",
     "shell.execute_reply": "2023-10-16T10:31:49.307699Z"
    },
    "papermill": {
     "duration": 0.667901,
     "end_time": "2023-10-16T10:31:49.315337",
     "exception": false,
     "start_time": "2023-10-16T10:31:48.647436",
     "status": "completed"
    },
    "tags": []
   },
   "outputs": [
    {
     "name": "stdout",
     "output_type": "stream",
     "text": [
      "Model: \"sequential_1\"\n",
      "_________________________________________________________________\n",
      " Layer (type)                Output Shape              Param #   \n",
      "=================================================================\n",
      " lstm_3 (LSTM)               (None, 10, 100)           40800     \n",
      "                                                                 \n",
      " lstm_4 (LSTM)               (None, 10, 130)           120120    \n",
      "                                                                 \n",
      " lstm_5 (LSTM)               (None, 250)               381000    \n",
      "                                                                 \n",
      " dense_1 (Dense)             (None, 1)                 251       \n",
      "                                                                 \n",
      "=================================================================\n",
      "Total params: 542,171\n",
      "Trainable params: 542,171\n",
      "Non-trainable params: 0\n",
      "_________________________________________________________________\n"
     ]
    }
   ],
   "source": [
    "model = Sequential()\n",
    "for i, units in enumerate(best_chromosome[:LSTM_Layer]):\n",
    "    model.add(LSTM(units*10, return_sequences=(i < LSTM_Layer - 1), input_shape=(WINDOW_SIZE, 1)))\n",
    "model.add(Dense(1))\n",
    "\n",
    "model.summary()"
   ]
  },
  {
   "cell_type": "code",
   "execution_count": 11,
   "id": "6ddfa988",
   "metadata": {
    "execution": {
     "iopub.execute_input": "2023-10-16T10:31:49.352394Z",
     "iopub.status.busy": "2023-10-16T10:31:49.352134Z",
     "iopub.status.idle": "2023-10-16T10:32:33.930094Z",
     "shell.execute_reply": "2023-10-16T10:32:33.929101Z"
    },
    "papermill": {
     "duration": 44.598756,
     "end_time": "2023-10-16T10:32:33.932408",
     "exception": false,
     "start_time": "2023-10-16T10:31:49.333652",
     "status": "completed"
    },
    "tags": []
   },
   "outputs": [
    {
     "name": "stdout",
     "output_type": "stream",
     "text": [
      "Epoch 1/50\n",
      "44/44 [==============================] - 6s 41ms/step - loss: 0.0134 - mae: 0.0768 - root_mean_squared_error: 0.1159 - val_loss: 7.2815e-04 - val_mae: 0.0223 - val_root_mean_squared_error: 0.0270\n",
      "Epoch 2/50\n",
      "44/44 [==============================] - 0s 9ms/step - loss: 0.0038 - mae: 0.0366 - root_mean_squared_error: 0.0618 - val_loss: 7.5492e-04 - val_mae: 0.0226 - val_root_mean_squared_error: 0.0275\n",
      "Epoch 3/50\n",
      "44/44 [==============================] - 0s 9ms/step - loss: 0.0041 - mae: 0.0402 - root_mean_squared_error: 0.0640 - val_loss: 5.4100e-04 - val_mae: 0.0189 - val_root_mean_squared_error: 0.0233\n",
      "Epoch 4/50\n",
      "44/44 [==============================] - 0s 10ms/step - loss: 0.0038 - mae: 0.0380 - root_mean_squared_error: 0.0618 - val_loss: 5.8561e-04 - val_mae: 0.0201 - val_root_mean_squared_error: 0.0242\n",
      "Epoch 5/50\n",
      "44/44 [==============================] - 0s 9ms/step - loss: 0.0035 - mae: 0.0353 - root_mean_squared_error: 0.0594 - val_loss: 7.0674e-04 - val_mae: 0.0215 - val_root_mean_squared_error: 0.0266\n",
      "Epoch 6/50\n",
      "44/44 [==============================] - 0s 9ms/step - loss: 0.0034 - mae: 0.0353 - root_mean_squared_error: 0.0586 - val_loss: 4.4836e-04 - val_mae: 0.0173 - val_root_mean_squared_error: 0.0212\n",
      "Epoch 7/50\n",
      "44/44 [==============================] - 0s 9ms/step - loss: 0.0034 - mae: 0.0343 - root_mean_squared_error: 0.0579 - val_loss: 0.0030 - val_mae: 0.0503 - val_root_mean_squared_error: 0.0545\n",
      "Epoch 8/50\n",
      "44/44 [==============================] - 0s 9ms/step - loss: 0.0041 - mae: 0.0420 - root_mean_squared_error: 0.0637 - val_loss: 4.9191e-04 - val_mae: 0.0178 - val_root_mean_squared_error: 0.0222\n",
      "Epoch 9/50\n",
      "44/44 [==============================] - 0s 9ms/step - loss: 0.0030 - mae: 0.0308 - root_mean_squared_error: 0.0545 - val_loss: 3.8379e-04 - val_mae: 0.0160 - val_root_mean_squared_error: 0.0196\n",
      "Epoch 10/50\n",
      "44/44 [==============================] - 0s 9ms/step - loss: 0.0029 - mae: 0.0307 - root_mean_squared_error: 0.0537 - val_loss: 6.4952e-04 - val_mae: 0.0208 - val_root_mean_squared_error: 0.0255\n",
      "Epoch 11/50\n",
      "44/44 [==============================] - 0s 9ms/step - loss: 0.0030 - mae: 0.0337 - root_mean_squared_error: 0.0550 - val_loss: 6.6133e-04 - val_mae: 0.0216 - val_root_mean_squared_error: 0.0257\n",
      "Epoch 12/50\n",
      "44/44 [==============================] - 0s 9ms/step - loss: 0.0027 - mae: 0.0306 - root_mean_squared_error: 0.0522 - val_loss: 3.6444e-04 - val_mae: 0.0154 - val_root_mean_squared_error: 0.0191\n",
      "Epoch 13/50\n",
      "44/44 [==============================] - 0s 9ms/step - loss: 0.0026 - mae: 0.0294 - root_mean_squared_error: 0.0508 - val_loss: 3.0502e-04 - val_mae: 0.0139 - val_root_mean_squared_error: 0.0175\n",
      "Epoch 14/50\n",
      "44/44 [==============================] - 0s 10ms/step - loss: 0.0026 - mae: 0.0299 - root_mean_squared_error: 0.0509 - val_loss: 2.9163e-04 - val_mae: 0.0135 - val_root_mean_squared_error: 0.0171\n",
      "Epoch 15/50\n",
      "44/44 [==============================] - 0s 9ms/step - loss: 0.0025 - mae: 0.0288 - root_mean_squared_error: 0.0497 - val_loss: 8.6713e-04 - val_mae: 0.0258 - val_root_mean_squared_error: 0.0294\n",
      "Epoch 16/50\n",
      "44/44 [==============================] - 0s 9ms/step - loss: 0.0024 - mae: 0.0283 - root_mean_squared_error: 0.0490 - val_loss: 3.3349e-04 - val_mae: 0.0148 - val_root_mean_squared_error: 0.0183\n",
      "Epoch 17/50\n",
      "44/44 [==============================] - 0s 9ms/step - loss: 0.0021 - mae: 0.0254 - root_mean_squared_error: 0.0462 - val_loss: 2.8196e-04 - val_mae: 0.0134 - val_root_mean_squared_error: 0.0168\n",
      "Epoch 18/50\n",
      "44/44 [==============================] - 0s 9ms/step - loss: 0.0021 - mae: 0.0247 - root_mean_squared_error: 0.0454 - val_loss: 3.1493e-04 - val_mae: 0.0145 - val_root_mean_squared_error: 0.0177\n",
      "Epoch 19/50\n",
      "44/44 [==============================] - 0s 8ms/step - loss: 0.0021 - mae: 0.0252 - root_mean_squared_error: 0.0454 - val_loss: 2.1301e-04 - val_mae: 0.0110 - val_root_mean_squared_error: 0.0146\n",
      "Epoch 20/50\n",
      "44/44 [==============================] - 0s 9ms/step - loss: 0.0020 - mae: 0.0229 - root_mean_squared_error: 0.0445 - val_loss: 2.3738e-04 - val_mae: 0.0122 - val_root_mean_squared_error: 0.0154\n",
      "Epoch 21/50\n",
      "44/44 [==============================] - 0s 9ms/step - loss: 0.0020 - mae: 0.0248 - root_mean_squared_error: 0.0450 - val_loss: 3.5722e-04 - val_mae: 0.0160 - val_root_mean_squared_error: 0.0189\n",
      "Epoch 22/50\n",
      "44/44 [==============================] - 0s 9ms/step - loss: 0.0021 - mae: 0.0248 - root_mean_squared_error: 0.0457 - val_loss: 2.4005e-04 - val_mae: 0.0124 - val_root_mean_squared_error: 0.0155\n",
      "Epoch 23/50\n",
      "44/44 [==============================] - 0s 9ms/step - loss: 0.0020 - mae: 0.0236 - root_mean_squared_error: 0.0446 - val_loss: 1.8967e-04 - val_mae: 0.0102 - val_root_mean_squared_error: 0.0138\n",
      "Epoch 24/50\n",
      "44/44 [==============================] - 0s 9ms/step - loss: 0.0020 - mae: 0.0233 - root_mean_squared_error: 0.0444 - val_loss: 1.7843e-04 - val_mae: 0.0098 - val_root_mean_squared_error: 0.0134\n",
      "Epoch 25/50\n",
      "44/44 [==============================] - 0s 9ms/step - loss: 0.0019 - mae: 0.0231 - root_mean_squared_error: 0.0442 - val_loss: 4.0135e-04 - val_mae: 0.0172 - val_root_mean_squared_error: 0.0200\n",
      "Epoch 26/50\n",
      "44/44 [==============================] - 0s 9ms/step - loss: 0.0023 - mae: 0.0276 - root_mean_squared_error: 0.0483 - val_loss: 1.9183e-04 - val_mae: 0.0104 - val_root_mean_squared_error: 0.0139\n",
      "Epoch 27/50\n",
      "44/44 [==============================] - 0s 9ms/step - loss: 0.0019 - mae: 0.0226 - root_mean_squared_error: 0.0439 - val_loss: 2.3016e-04 - val_mae: 0.0120 - val_root_mean_squared_error: 0.0152\n",
      "Epoch 28/50\n",
      "44/44 [==============================] - 0s 9ms/step - loss: 0.0019 - mae: 0.0233 - root_mean_squared_error: 0.0439 - val_loss: 2.7461e-04 - val_mae: 0.0136 - val_root_mean_squared_error: 0.0166\n",
      "Epoch 29/50\n",
      "44/44 [==============================] - 0s 8ms/step - loss: 0.0020 - mae: 0.0238 - root_mean_squared_error: 0.0449 - val_loss: 1.7712e-04 - val_mae: 0.0099 - val_root_mean_squared_error: 0.0133\n",
      "Epoch 30/50\n",
      "44/44 [==============================] - 0s 9ms/step - loss: 0.0019 - mae: 0.0227 - root_mean_squared_error: 0.0438 - val_loss: 3.4258e-04 - val_mae: 0.0157 - val_root_mean_squared_error: 0.0185\n",
      "Epoch 31/50\n",
      "44/44 [==============================] - 0s 9ms/step - loss: 0.0023 - mae: 0.0289 - root_mean_squared_error: 0.0478 - val_loss: 5.1479e-04 - val_mae: 0.0199 - val_root_mean_squared_error: 0.0227\n",
      "Epoch 32/50\n",
      "44/44 [==============================] - 0s 8ms/step - loss: 0.0020 - mae: 0.0240 - root_mean_squared_error: 0.0443 - val_loss: 2.5576e-04 - val_mae: 0.0130 - val_root_mean_squared_error: 0.0160\n",
      "Epoch 33/50\n",
      "44/44 [==============================] - 0s 10ms/step - loss: 0.0020 - mae: 0.0238 - root_mean_squared_error: 0.0444 - val_loss: 0.0011 - val_mae: 0.0304 - val_root_mean_squared_error: 0.0331\n",
      "Epoch 34/50\n",
      "44/44 [==============================] - 0s 9ms/step - loss: 0.0022 - mae: 0.0269 - root_mean_squared_error: 0.0469 - val_loss: 2.5212e-04 - val_mae: 0.0127 - val_root_mean_squared_error: 0.0159\n",
      "Epoch 35/50\n",
      "44/44 [==============================] - 0s 9ms/step - loss: 0.0020 - mae: 0.0242 - root_mean_squared_error: 0.0452 - val_loss: 3.9645e-04 - val_mae: 0.0171 - val_root_mean_squared_error: 0.0199\n",
      "Epoch 36/50\n",
      "44/44 [==============================] - 0s 9ms/step - loss: 0.0020 - mae: 0.0242 - root_mean_squared_error: 0.0450 - val_loss: 3.5331e-04 - val_mae: 0.0157 - val_root_mean_squared_error: 0.0188\n",
      "Epoch 37/50\n",
      "44/44 [==============================] - 0s 9ms/step - loss: 0.0022 - mae: 0.0277 - root_mean_squared_error: 0.0468 - val_loss: 3.1609e-04 - val_mae: 0.0145 - val_root_mean_squared_error: 0.0178\n",
      "Epoch 38/50\n",
      "44/44 [==============================] - 0s 9ms/step - loss: 0.0019 - mae: 0.0228 - root_mean_squared_error: 0.0437 - val_loss: 2.7817e-04 - val_mae: 0.0134 - val_root_mean_squared_error: 0.0167\n",
      "Epoch 39/50\n",
      "44/44 [==============================] - 0s 10ms/step - loss: 0.0020 - mae: 0.0240 - root_mean_squared_error: 0.0442 - val_loss: 5.0252e-04 - val_mae: 0.0195 - val_root_mean_squared_error: 0.0224\n",
      "Epoch 40/50\n",
      "44/44 [==============================] - 0s 9ms/step - loss: 0.0019 - mae: 0.0227 - root_mean_squared_error: 0.0441 - val_loss: 1.9744e-04 - val_mae: 0.0107 - val_root_mean_squared_error: 0.0141\n",
      "Epoch 41/50\n",
      "44/44 [==============================] - 0s 9ms/step - loss: 0.0023 - mae: 0.0279 - root_mean_squared_error: 0.0480 - val_loss: 4.9202e-04 - val_mae: 0.0194 - val_root_mean_squared_error: 0.0222\n",
      "Epoch 42/50\n",
      "44/44 [==============================] - 0s 9ms/step - loss: 0.0021 - mae: 0.0252 - root_mean_squared_error: 0.0454 - val_loss: 1.9652e-04 - val_mae: 0.0107 - val_root_mean_squared_error: 0.0140\n",
      "Epoch 43/50\n",
      "44/44 [==============================] - 0s 9ms/step - loss: 0.0021 - mae: 0.0260 - root_mean_squared_error: 0.0457 - val_loss: 1.8210e-04 - val_mae: 0.0101 - val_root_mean_squared_error: 0.0135\n",
      "Epoch 44/50\n",
      "44/44 [==============================] - 0s 9ms/step - loss: 0.0022 - mae: 0.0257 - root_mean_squared_error: 0.0464 - val_loss: 5.6661e-04 - val_mae: 0.0210 - val_root_mean_squared_error: 0.0238\n",
      "Epoch 45/50\n",
      "44/44 [==============================] - 0s 9ms/step - loss: 0.0020 - mae: 0.0240 - root_mean_squared_error: 0.0449 - val_loss: 2.0967e-04 - val_mae: 0.0113 - val_root_mean_squared_error: 0.0145\n",
      "Epoch 46/50\n",
      "44/44 [==============================] - 0s 9ms/step - loss: 0.0019 - mae: 0.0224 - root_mean_squared_error: 0.0435 - val_loss: 2.3146e-04 - val_mae: 0.0119 - val_root_mean_squared_error: 0.0152\n",
      "Epoch 47/50\n",
      "44/44 [==============================] - 0s 9ms/step - loss: 0.0019 - mae: 0.0236 - root_mean_squared_error: 0.0440 - val_loss: 2.6529e-04 - val_mae: 0.0134 - val_root_mean_squared_error: 0.0163\n",
      "Epoch 48/50\n",
      "44/44 [==============================] - 0s 9ms/step - loss: 0.0020 - mae: 0.0241 - root_mean_squared_error: 0.0442 - val_loss: 1.8492e-04 - val_mae: 0.0101 - val_root_mean_squared_error: 0.0136\n",
      "Epoch 49/50\n",
      "44/44 [==============================] - 0s 9ms/step - loss: 0.0020 - mae: 0.0240 - root_mean_squared_error: 0.0445 - val_loss: 1.8870e-04 - val_mae: 0.0104 - val_root_mean_squared_error: 0.0137\n",
      "Epoch 50/50\n",
      "44/44 [==============================] - 0s 9ms/step - loss: 0.0019 - mae: 0.0231 - root_mean_squared_error: 0.0437 - val_loss: 1.7374e-04 - val_mae: 0.0097 - val_root_mean_squared_error: 0.0132\n"
     ]
    }
   ],
   "source": [
    "model.compile(loss='mean_squared_error',\n",
    "              metrics=['mae', RootMeanSquaredError()],\n",
    "              optimizer='adam')\n",
    "\n",
    "history = model.fit(X_train,\n",
    "                    y_train,\n",
    "                    epochs=50,\n",
    "                    batch_size=32,\n",
    "                    validation_split=0.1)"
   ]
  },
  {
   "cell_type": "code",
   "execution_count": 12,
   "id": "c326616f",
   "metadata": {
    "execution": {
     "iopub.execute_input": "2023-10-16T10:32:34.006513Z",
     "iopub.status.busy": "2023-10-16T10:32:34.005928Z",
     "iopub.status.idle": "2023-10-16T10:32:34.125449Z",
     "shell.execute_reply": "2023-10-16T10:32:34.124502Z"
    },
    "papermill": {
     "duration": 0.158012,
     "end_time": "2023-10-16T10:32:34.127172",
     "exception": false,
     "start_time": "2023-10-16T10:32:33.969160",
     "status": "completed"
    },
    "tags": []
   },
   "outputs": [
    {
     "name": "stdout",
     "output_type": "stream",
     "text": [
      "13/13 [==============================] - 0s 4ms/step - loss: 5.8953e-04 - mae: 0.0189 - root_mean_squared_error: 0.0243\n"
     ]
    },
    {
     "data": {
      "text/plain": [
       "[0.0005895293434150517, 0.018880775198340416, 0.024280225858092308]"
      ]
     },
     "execution_count": 12,
     "metadata": {},
     "output_type": "execute_result"
    }
   ],
   "source": [
    "model.evaluate(X_test, y_test)"
   ]
  },
  {
   "cell_type": "markdown",
   "id": "dd439129",
   "metadata": {
    "papermill": {
     "duration": 0.035965,
     "end_time": "2023-10-16T10:32:34.200224",
     "exception": false,
     "start_time": "2023-10-16T10:32:34.164259",
     "status": "completed"
    },
    "tags": []
   },
   "source": [
    "## Model Evaluation"
   ]
  },
  {
   "cell_type": "code",
   "execution_count": 13,
   "id": "774a692e",
   "metadata": {
    "execution": {
     "iopub.execute_input": "2023-10-16T10:32:34.275893Z",
     "iopub.status.busy": "2023-10-16T10:32:34.275055Z",
     "iopub.status.idle": "2023-10-16T10:32:34.553922Z",
     "shell.execute_reply": "2023-10-16T10:32:34.553083Z"
    },
    "papermill": {
     "duration": 0.319648,
     "end_time": "2023-10-16T10:32:34.555610",
     "exception": false,
     "start_time": "2023-10-16T10:32:34.235962",
     "status": "completed"
    },
    "tags": []
   },
   "outputs": [
    {
     "data": {
      "image/png": "[encoded data removed]",
      "text/plain": [
       "<Figure size 640x480 with 1 Axes>"
      ]
     },
     "metadata": {},
     "output_type": "display_data"
    }
   ],
   "source": [
    "plt.plot(history.history['loss'])\n",
    "plt.plot(history.history['val_loss'])\n",
    "plt.title(f'{SHEET_NAME[2]} Model Loss', fontsize=15)\n",
    "plt.ylabel('loss')\n",
    "plt.xlabel('epoch')\n",
    "plt.legend(['train', 'test'])\n",
    "plt.show()"
   ]
  },
  {
   "cell_type": "code",
   "execution_count": 14,
   "id": "8c575f3f",
   "metadata": {
    "execution": {
     "iopub.execute_input": "2023-10-16T10:32:34.631125Z",
     "iopub.status.busy": "2023-10-16T10:32:34.630593Z",
     "iopub.status.idle": "2023-10-16T10:32:35.573953Z",
     "shell.execute_reply": "2023-10-16T10:32:35.573111Z"
    },
    "papermill": {
     "duration": 0.982767,
     "end_time": "2023-10-16T10:32:35.575755",
     "exception": false,
     "start_time": "2023-10-16T10:32:34.592988",
     "status": "completed"
    },
    "tags": []
   },
   "outputs": [
    {
     "name": "stdout",
     "output_type": "stream",
     "text": [
      "13/13 [==============================] - 1s 3ms/step\n"
     ]
    }
   ],
   "source": [
    "y_hat = model.predict(X_test)\n",
    "y_test_inverse = scaler.inverse_transform(y_test)\n",
    "y_hat_inverse = scaler.inverse_transform(y_hat)"
   ]
  },
  {
   "cell_type": "code",
   "execution_count": 15,
   "id": "44938ce1",
   "metadata": {
    "execution": {
     "iopub.execute_input": "2023-10-16T10:32:35.652041Z",
     "iopub.status.busy": "2023-10-16T10:32:35.651464Z",
     "iopub.status.idle": "2023-10-16T10:32:35.923607Z",
     "shell.execute_reply": "2023-10-16T10:32:35.922790Z"
    },
    "papermill": {
     "duration": 0.312263,
     "end_time": "2023-10-16T10:32:35.925513",
     "exception": false,
     "start_time": "2023-10-16T10:32:35.613250",
     "status": "completed"
    },
    "tags": []
   },
   "outputs": [
    {
     "data": {
      "image/png": "[encoded data removed]",
      "text/plain": [
       "<Figure size 640x480 with 1 Axes>"
      ]
     },
     "metadata": {},
     "output_type": "display_data"
    }
   ],
   "source": [
    "plt.plot(y_test_inverse, label=\"Actual Price\", color='green')\n",
    "plt.plot(y_hat_inverse, label=\"Predicted Price\", color='red')\n",
    " \n",
    "plt.title(f'{SHEET_NAME[2]} Price Prediction\\nLSTM = {LSTM_Layer}, Split Data = {SPLIT}, Window = {WINDOW_SIZE}', fontsize=15)\n",
    "plt.xlabel('Time [days]')\n",
    "plt.ylabel('Price')\n",
    "plt.legend(loc='best')\n",
    " \n",
    "plt.show()"
   ]
  },
  {
   "cell_type": "code",
   "execution_count": 16,
   "id": "5ecf5e75",
   "metadata": {
    "execution": {
     "iopub.execute_input": "2023-10-16T10:32:36.002302Z",
     "iopub.status.busy": "2023-10-16T10:32:36.002040Z",
     "iopub.status.idle": "2023-10-16T10:32:36.009713Z",
     "shell.execute_reply": "2023-10-16T10:32:36.008758Z"
    },
    "papermill": {
     "duration": 0.047803,
     "end_time": "2023-10-16T10:32:36.011429",
     "exception": false,
     "start_time": "2023-10-16T10:32:35.963626",
     "status": "completed"
    },
    "tags": []
   },
   "outputs": [
    {
     "name": "stdout",
     "output_type": "stream",
     "text": [
      "LSTM = 3, Split Data = 0.8, Window = 10\n",
      "\n",
      "----------------- Normalized Error -----------------\n",
      "Mean Absolute Error for prediction : 0.01888077607980658\n",
      "Mean Squared Error for prediction : 0.0005895293533007067\n",
      "Root Mean Squared Error for prediction : 0.024280225561157925\n",
      "\n",
      "----------------- Actual Error -----------------\n",
      "Mean Absolute Error for prediction : 39.809298577724306\n",
      "Mean Squared Error for prediction : 2620.805975479877\n",
      "Root Mean Squared Error for prediction : 51.19380797987074\n"
     ]
    }
   ],
   "source": [
    "def matrices(actual, predicted):\n",
    "    mse = mean_squared_error(actual, predicted)\n",
    "    mae = mean_absolute_error(actual, predicted)\n",
    "    rmse = np.sqrt(mse)\n",
    "    print(\"Mean Absolute Error for prediction :\", mae)\n",
    "    print(\"Mean Squared Error for prediction :\", mse)\n",
    "    print(\"Root Mean Squared Error for prediction :\", rmse)\n",
    "    return mae, mse, rmse\n",
    "\n",
    "print(f\"LSTM = {LSTM_Layer}, Split Data = {SPLIT}, Window = {WINDOW_SIZE}\")\n",
    "print(\"\\n----------------- Normalized Error -----------------\")\n",
    "mae, mse, rmse = matrices(y_test, y_hat)\n",
    "print(\"\\n----------------- Actual Error -----------------\")\n",
    "mae_inverse, mse_inverse, rmse_inverse = matrices(y_test_inverse, y_hat_inverse)"
   ]
  }
 ],
 "metadata": {
  "kernelspec": {
   "display_name": "Python 3",
   "language": "python",
   "name": "python3"
  },
  "language_info": {
   "codemirror_mode": {
    "name": "ipython",
    "version": 3
   },
   "file_extension": ".py",
   "mimetype": "text/x-python",
   "name": "python",
   "nbconvert_exporter": "python",
   "pygments_lexer": "ipython3",
   "version": "3.10.10"
  },
  "papermill": {
   "default_parameters": {},
   "duration": 1876.348184,
   "end_time": "2023-10-16T10:32:40.122131",
   "environment_variables": {},
   "exception": null,
   "input_path": "__notebook__.ipynb",
   "output_path": "__notebook__.ipynb",
   "parameters": {},
   "start_time": "2023-10-16T10:01:23.773947",
   "version": "2.4.0"
  }
 },
 "nbformat": 4,
 "nbformat_minor": 5
}
