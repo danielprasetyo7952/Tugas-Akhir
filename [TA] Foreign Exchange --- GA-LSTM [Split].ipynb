{
 "cells": [
  {
   "cell_type": "code",
   "execution_count": 1,
   "id": "ba908cd5",
   "metadata": {
    "execution": {
     "iopub.execute_input": "2023-10-16T07:28:30.062720Z",
     "iopub.status.busy": "2023-10-16T07:28:30.062312Z",
     "iopub.status.idle": "2023-10-16T07:28:38.384996Z",
     "shell.execute_reply": "2023-10-16T07:28:38.384101Z"
    },
    "papermill": {
     "duration": 8.330326,
     "end_time": "2023-10-16T07:28:38.387187",
     "exception": false,
     "start_time": "2023-10-16T07:28:30.056861",
     "status": "completed"
    },
    "tags": []
   },
   "outputs": [
    {
     "name": "stderr",
     "output_type": "stream",
     "text": [
      "/opt/conda/lib/python3.10/site-packages/tensorflow_io/python/ops/__init__.py:98: UserWarning: unable to load libtensorflow_io_plugins.so: unable to open file: libtensorflow_io_plugins.so, from paths: ['/opt/conda/lib/python3.10/site-packages/tensorflow_io/python/ops/libtensorflow_io_plugins.so']\n",
      "caused by: ['/opt/conda/lib/python3.10/site-packages/tensorflow_io/python/ops/libtensorflow_io_plugins.so: undefined symbol: _ZN3tsl6StatusC1EN10tensorflow5error4CodeESt17basic_string_viewIcSt11char_traitsIcEENS_14SourceLocationE']\n",
      "  warnings.warn(f\"unable to load libtensorflow_io_plugins.so: {e}\")\n",
      "/opt/conda/lib/python3.10/site-packages/tensorflow_io/python/ops/__init__.py:104: UserWarning: file system plugins are not loaded: unable to open file: libtensorflow_io.so, from paths: ['/opt/conda/lib/python3.10/site-packages/tensorflow_io/python/ops/libtensorflow_io.so']\n",
      "caused by: ['/opt/conda/lib/python3.10/site-packages/tensorflow_io/python/ops/libtensorflow_io.so: undefined symbol: _ZTVN10tensorflow13GcsFileSystemE']\n",
      "  warnings.warn(f\"file system plugins are not loaded: {e}\")\n"
     ]
    }
   ],
   "source": [
    "import pandas as pd\n",
    "import numpy as np\n",
    "import tensorflow as tf\n",
    "import matplotlib.pyplot as plt\n",
    "import datetime, pytz\n",
    "\n",
    "from keras.models import Sequential\n",
    "from keras.layers import LSTM, Dense\n",
    "from keras.metrics import RootMeanSquaredError\n",
    "\n",
    "from sklearn.preprocessing import MinMaxScaler\n",
    "from sklearn.metrics import mean_squared_error, mean_absolute_error"
   ]
  },
  {
   "cell_type": "markdown",
   "id": "04abf004",
   "metadata": {
    "papermill": {
     "duration": 0.003317,
     "end_time": "2023-10-16T07:28:38.394320",
     "exception": false,
     "start_time": "2023-10-16T07:28:38.391003",
     "status": "completed"
    },
    "tags": []
   },
   "source": [
    "## Hyperparameter"
   ]
  },
  {
   "cell_type": "code",
   "execution_count": 2,
   "id": "d0193a22",
   "metadata": {
    "execution": {
     "iopub.execute_input": "2023-10-16T07:28:38.402755Z",
     "iopub.status.busy": "2023-10-16T07:28:38.401745Z",
     "iopub.status.idle": "2023-10-16T07:28:38.406936Z",
     "shell.execute_reply": "2023-10-16T07:28:38.406165Z"
    },
    "papermill": {
     "duration": 0.010997,
     "end_time": "2023-10-16T07:28:38.408623",
     "exception": false,
     "start_time": "2023-10-16T07:28:38.397626",
     "status": "completed"
    },
    "tags": []
   },
   "outputs": [],
   "source": [
    "SEQ_LEN = 21 # 6, 11, 21\n",
    "SPLIT = 0.80 # 0.80, 0.90\n",
    "LSTM_Layer = 2 # 1, 2, 3\n",
    "WINDOW_SIZE = SEQ_LEN - 1"
   ]
  },
  {
   "cell_type": "code",
   "execution_count": 3,
   "id": "a2700859",
   "metadata": {
    "execution": {
     "iopub.execute_input": "2023-10-16T07:28:38.416175Z",
     "iopub.status.busy": "2023-10-16T07:28:38.415907Z",
     "iopub.status.idle": "2023-10-16T07:28:38.918657Z",
     "shell.execute_reply": "2023-10-16T07:28:38.917643Z"
    },
    "papermill": {
     "duration": 0.508746,
     "end_time": "2023-10-16T07:28:38.920587",
     "exception": false,
     "start_time": "2023-10-16T07:28:38.411841",
     "status": "completed"
    },
    "tags": []
   },
   "outputs": [
    {
     "name": "stdout",
     "output_type": "stream",
     "text": [
      "<class 'pandas.core.frame.DataFrame'>\n",
      "RangeIndex: 1959 entries, 0 to 1958\n",
      "Data columns (total 2 columns):\n",
      " #   Column  Non-Null Count  Dtype         \n",
      "---  ------  --------------  -----         \n",
      " 0   Date    1959 non-null   datetime64[ns]\n",
      " 1   Close   1959 non-null   float64       \n",
      "dtypes: datetime64[ns](1), float64(1)\n",
      "memory usage: 30.7 KB\n"
     ]
    }
   ],
   "source": [
    "# Google Spreadsheet ID\n",
    "SHEET_ID = '1JDNv_mArl-GPIpxuWS5GxgVEwvjXocS1MrXGc6TYs8M'\n",
    "SHEET_NAME = ['USD/IDR', 'EUR/IDR', 'SGD/IDR']\n",
    "\n",
    "url = f'https://docs.google.com/spreadsheets/d/{SHEET_ID}/gviz/tq?tqx=out:csv&sheet={SHEET_NAME[2]}'\n",
    "data = pd.read_csv(url)\n",
    "\n",
    "# Convert Date columns to datetime format\n",
    "data['Date'] = pd.to_datetime(data['Date'], format='%d/%m/%Y %H:%M:%S')\n",
    "data.info()"
   ]
  },
  {
   "cell_type": "markdown",
   "id": "fc8dcf2c",
   "metadata": {
    "papermill": {
     "duration": 0.003251,
     "end_time": "2023-10-16T07:28:38.927326",
     "exception": false,
     "start_time": "2023-10-16T07:28:38.924075",
     "status": "completed"
    },
    "tags": []
   },
   "source": [
    "## Preprocessing"
   ]
  },
  {
   "cell_type": "code",
   "execution_count": 4,
   "id": "a56d0556",
   "metadata": {
    "execution": {
     "iopub.execute_input": "2023-10-16T07:28:38.935026Z",
     "iopub.status.busy": "2023-10-16T07:28:38.934751Z",
     "iopub.status.idle": "2023-10-16T07:28:38.943365Z",
     "shell.execute_reply": "2023-10-16T07:28:38.942549Z"
    },
    "papermill": {
     "duration": 0.014395,
     "end_time": "2023-10-16T07:28:38.944927",
     "exception": false,
     "start_time": "2023-10-16T07:28:38.930532",
     "status": "completed"
    },
    "tags": []
   },
   "outputs": [
    {
     "data": {
      "text/plain": [
       "(1959, 1)"
      ]
     },
     "execution_count": 4,
     "metadata": {},
     "output_type": "execute_result"
    }
   ],
   "source": [
    "scaler = MinMaxScaler()\n",
    "close_price = data.Close.values.reshape(-1, 1)\n",
    "scaled_close = scaler.fit_transform(close_price)\n",
    "scaled_close.shape"
   ]
  },
  {
   "cell_type": "code",
   "execution_count": 5,
   "id": "034094d2",
   "metadata": {
    "execution": {
     "iopub.execute_input": "2023-10-16T07:28:38.953263Z",
     "iopub.status.busy": "2023-10-16T07:28:38.952482Z",
     "iopub.status.idle": "2023-10-16T07:28:38.960659Z",
     "shell.execute_reply": "2023-10-16T07:28:38.959876Z"
    },
    "papermill": {
     "duration": 0.014057,
     "end_time": "2023-10-16T07:28:38.962381",
     "exception": false,
     "start_time": "2023-10-16T07:28:38.948324",
     "status": "completed"
    },
    "tags": []
   },
   "outputs": [],
   "source": [
    "def to_sequences(data, seq_len):\n",
    "    d = []\n",
    "    for index in range(len(data) - seq_len):\n",
    "        d.append(data[index: index + seq_len])\n",
    "    return np.array(d)\n",
    "\n",
    "def preprocess(data_raw, seq_len, train_split):\n",
    "    data = to_sequences(data_raw, seq_len)\n",
    "    num_train = int(train_split * data.shape[0])\n",
    "    X_train = data[:num_train, :-1, :]\n",
    "    y_train = data[:num_train, -1, :]\n",
    "    X_test = data[num_train:, :-1, :]\n",
    "    y_test = data[num_train:, -1, :]\n",
    "    return X_train, y_train, X_test, y_test\n",
    "\n",
    "X_train, y_train, X_test, y_test = preprocess(scaled_close, SEQ_LEN, train_split = SPLIT)"
   ]
  },
  {
   "cell_type": "markdown",
   "id": "63a6adb1",
   "metadata": {
    "papermill": {
     "duration": 0.003215,
     "end_time": "2023-10-16T07:28:38.969055",
     "exception": false,
     "start_time": "2023-10-16T07:28:38.965840",
     "status": "completed"
    },
    "tags": []
   },
   "source": [
    "## Genetic Algorithm"
   ]
  },
  {
   "cell_type": "code",
   "execution_count": 6,
   "id": "5cf818d0",
   "metadata": {
    "execution": {
     "iopub.execute_input": "2023-10-16T07:28:38.977144Z",
     "iopub.status.busy": "2023-10-16T07:28:38.976868Z",
     "iopub.status.idle": "2023-10-16T07:28:38.987752Z",
     "shell.execute_reply": "2023-10-16T07:28:38.986724Z"
    },
    "papermill": {
     "duration": 0.017088,
     "end_time": "2023-10-16T07:28:38.989485",
     "exception": false,
     "start_time": "2023-10-16T07:28:38.972397",
     "status": "completed"
    },
    "tags": []
   },
   "outputs": [],
   "source": [
    "# Genetic Algorithm\n",
    "def genetic_algorithm(population_size, generations):\n",
    "    population = np.random.randint(1, high=26, size=(population_size, 3))\n",
    "    \n",
    "    for generation in range(generations):\n",
    "        print(f\"Generation - {generation + 1}\")\n",
    "        fitness_scores = np.array([fitness_function(chromosome) for chromosome in population])\n",
    "        best_chromosome = population[np.argmax(fitness_scores)]\n",
    "        best_fitness = np.max(fitness_scores)\n",
    "        \n",
    "        new_population = []\n",
    "        \n",
    "        while len(new_population) < population_size:\n",
    "            parent1 = selection(population, fitness_scores)\n",
    "            parent2 = selection(population, fitness_scores)\n",
    "            offspring_1, offspring_2 = crossover(parent1, parent2)\n",
    "            mutate(offspring_1)\n",
    "            mutate(offspring_2)\n",
    "            new_population.append(offspring_1)\n",
    "            new_population.append(offspring_2)\n",
    "        \n",
    "        population = np.array(new_population)\n",
    "    \n",
    "    return best_chromosome, best_fitness\n",
    "\n",
    "# Selection (Tournament selection)\n",
    "def selection(population, fitness_scores, tournament_size=3):\n",
    "    indices = np.random.randint(len(population), size=tournament_size)\n",
    "    tournament = population[indices]\n",
    "    tournament_fitness = fitness_scores[indices]\n",
    "    return tournament[np.argmax(tournament_fitness)]\n",
    "\n",
    "# Crossover (Single-point crossover)\n",
    "def crossover(parent1, parent2):\n",
    "    crossover_point = np.random.randint(1, len(parent1))\n",
    "    offspring_1 = np.concatenate((parent1[:crossover_point], parent2[crossover_point:]))\n",
    "    offspring_2 = np.concatenate((parent2[:crossover_point], parent1[crossover_point:]))\n",
    "    return offspring_1, offspring_2\n",
    "\n",
    "# Mutation (Swap Mutation)\n",
    "def mutate(chromosome, mutation_rate=0.01):\n",
    "    for i in range(len(chromosome)):\n",
    "        if np.random.rand() < mutation_rate:\n",
    "            j = np.random.randint(len(chromosome))\n",
    "            chromosome[i], chromosome[j] = chromosome[j], chromosome[i]\n",
    "\n",
    "# Define the fitness function to be optimized\n",
    "def fitness_function(chromosome):\n",
    "    lstm_units = [int(chromosome[i]*10) or default for i, default in enumerate([128, 64, 32])]\n",
    "\n",
    "    # Build the LSTM model\n",
    "    tf.keras.backend.clear_session()\n",
    "    model = Sequential()\n",
    "    for i, units in enumerate(lstm_units[:LSTM_Layer]):\n",
    "        model.add(LSTM(units, return_sequences=(i < LSTM_Layer - 1), input_shape=(WINDOW_SIZE, 1)))\n",
    "    model.add(Dense(1))\n",
    "    \n",
    "    # Compile and train the model\n",
    "    model.compile(loss='mean_squared_error',\n",
    "                  optimizer='adam')\n",
    "    model.fit(X_train, y_train,\n",
    "              epochs=10,\n",
    "              batch_size=32,\n",
    "              verbose=0,\n",
    "              validation_split=0.1)\n",
    "\n",
    "    # Evaluate the model\n",
    "    loss = model.evaluate(X_test, y_test)\n",
    "\n",
    "    # Return the negative value of the loss as the fitness score\n",
    "    return -loss"
   ]
  },
  {
   "cell_type": "code",
   "execution_count": 7,
   "id": "9bc84f9c",
   "metadata": {
    "execution": {
     "iopub.execute_input": "2023-10-16T07:28:38.998144Z",
     "iopub.status.busy": "2023-10-16T07:28:38.997274Z",
     "iopub.status.idle": "2023-10-16T07:28:39.002798Z",
     "shell.execute_reply": "2023-10-16T07:28:39.001964Z"
    },
    "papermill": {
     "duration": 0.011511,
     "end_time": "2023-10-16T07:28:39.004475",
     "exception": false,
     "start_time": "2023-10-16T07:28:38.992964",
     "status": "completed"
    },
    "tags": []
   },
   "outputs": [],
   "source": [
    "import typing\n",
    "from datetime import datetime\n",
    "\n",
    "def timer(start_time: datetime = None) -> \"typing.Union[datetime.datetime, str]\":\n",
    "    if not start_time:\n",
    "        start_time = datetime.now()\n",
    "        return start_time\n",
    "    elif start_time:\n",
    "        thour, temp_sec = divmod((datetime.now() - start_time).total_seconds(), 3600)\n",
    "        tmin, tsec = divmod(temp_sec, 60)\n",
    "        return \"%i hours %i minutes and %s seconds.\" % (\n",
    "            thour,\n",
    "            tmin,\n",
    "            round(tsec, 2),\n",
    "        )"
   ]
  },
  {
   "cell_type": "code",
   "execution_count": 8,
   "id": "2165ffab",
   "metadata": {
    "execution": {
     "iopub.execute_input": "2023-10-16T07:28:39.013356Z",
     "iopub.status.busy": "2023-10-16T07:28:39.012548Z",
     "iopub.status.idle": "2023-10-16T07:49:07.052987Z",
     "shell.execute_reply": "2023-10-16T07:49:07.052081Z"
    },
    "papermill": {
     "duration": 1228.046912,
     "end_time": "2023-10-16T07:49:07.054877",
     "exception": false,
     "start_time": "2023-10-16T07:28:39.007965",
     "status": "completed"
    },
    "tags": []
   },
   "outputs": [
    {
     "name": "stdout",
     "output_type": "stream",
     "text": [
      "Generation - 1\n",
      "13/13 [==============================] - 0s 4ms/step - loss: 0.0016\n",
      "13/13 [==============================] - 0s 4ms/step - loss: 0.0034\n",
      "13/13 [==============================] - 0s 6ms/step - loss: 0.0015\n",
      "13/13 [==============================] - 0s 3ms/step - loss: 0.0027\n",
      "13/13 [==============================] - 0s 3ms/step - loss: 5.4795e-04\n",
      "Generation - 2\n",
      "13/13 [==============================] - 0s 3ms/step - loss: 0.0016\n",
      "13/13 [==============================] - 0s 6ms/step - loss: 0.0018\n",
      "13/13 [==============================] - 0s 3ms/step - loss: 6.1785e-04\n",
      "13/13 [==============================] - 0s 3ms/step - loss: 0.0039\n",
      "13/13 [==============================] - 0s 4ms/step - loss: 0.0015\n",
      "13/13 [==============================] - 0s 4ms/step - loss: 0.0014\n",
      "Generation - 3\n",
      "13/13 [==============================] - 0s 4ms/step - loss: 8.0978e-04\n",
      "13/13 [==============================] - 0s 4ms/step - loss: 0.0017\n",
      "13/13 [==============================] - 0s 4ms/step - loss: 0.0037\n",
      "13/13 [==============================] - 0s 4ms/step - loss: 0.0023\n",
      "13/13 [==============================] - 0s 4ms/step - loss: 7.7902e-04\n",
      "13/13 [==============================] - 0s 3ms/step - loss: 5.6180e-04\n",
      "Generation - 4\n",
      "13/13 [==============================] - 0s 3ms/step - loss: 5.5289e-04\n",
      "13/13 [==============================] - 0s 4ms/step - loss: 0.0014\n",
      "13/13 [==============================] - 0s 3ms/step - loss: 0.0011\n",
      "13/13 [==============================] - 0s 3ms/step - loss: 8.2330e-04\n",
      "13/13 [==============================] - 0s 3ms/step - loss: 0.0013\n",
      "13/13 [==============================] - 0s 4ms/step - loss: 9.2637e-04\n",
      "Generation - 5\n",
      "13/13 [==============================] - 0s 4ms/step - loss: 8.0551e-04\n",
      "13/13 [==============================] - 0s 3ms/step - loss: 7.5215e-04\n",
      "13/13 [==============================] - 0s 3ms/step - loss: 0.0021\n",
      "13/13 [==============================] - 0s 4ms/step - loss: 0.0013\n",
      "13/13 [==============================] - 0s 4ms/step - loss: 6.8289e-04\n",
      "13/13 [==============================] - 0s 4ms/step - loss: 0.0018\n",
      "Generation - 6\n",
      "13/13 [==============================] - 0s 4ms/step - loss: 0.0011\n",
      "13/13 [==============================] - 0s 5ms/step - loss: 5.8354e-04\n",
      "13/13 [==============================] - 0s 3ms/step - loss: 4.9950e-04\n",
      "13/13 [==============================] - 0s 4ms/step - loss: 7.5026e-04\n",
      "13/13 [==============================] - 0s 3ms/step - loss: 5.6867e-04\n",
      "13/13 [==============================] - 0s 4ms/step - loss: 0.0011\n",
      "Generation - 7\n",
      "13/13 [==============================] - 0s 4ms/step - loss: 6.5728e-04\n",
      "13/13 [==============================] - 0s 3ms/step - loss: 8.6264e-04\n",
      "13/13 [==============================] - 0s 5ms/step - loss: 6.6738e-04\n",
      "13/13 [==============================] - 0s 4ms/step - loss: 0.0010\n",
      "13/13 [==============================] - 0s 3ms/step - loss: 0.0012\n",
      "13/13 [==============================] - 0s 3ms/step - loss: 0.0024\n",
      "Generation - 8\n",
      "13/13 [==============================] - 0s 3ms/step - loss: 5.0156e-04\n",
      "13/13 [==============================] - 0s 4ms/step - loss: 6.0749e-04\n",
      "13/13 [==============================] - 0s 3ms/step - loss: 8.2338e-04\n",
      "13/13 [==============================] - 0s 4ms/step - loss: 8.5302e-04\n",
      "13/13 [==============================] - 0s 3ms/step - loss: 0.0017\n",
      "13/13 [==============================] - 0s 4ms/step - loss: 0.0033\n",
      "Generation - 9\n",
      "13/13 [==============================] - 0s 3ms/step - loss: 6.3175e-04\n",
      "13/13 [==============================] - 0s 3ms/step - loss: 0.0028\n",
      "13/13 [==============================] - 0s 4ms/step - loss: 0.0015\n",
      "13/13 [==============================] - 0s 4ms/step - loss: 6.7418e-04\n",
      "13/13 [==============================] - 0s 3ms/step - loss: 0.0012\n",
      "13/13 [==============================] - 0s 3ms/step - loss: 5.5063e-04\n",
      "Generation - 10\n",
      "13/13 [==============================] - 0s 3ms/step - loss: 6.7109e-04\n",
      "13/13 [==============================] - 0s 4ms/step - loss: 0.0010\n",
      "13/13 [==============================] - 0s 4ms/step - loss: 0.0033\n",
      "13/13 [==============================] - 0s 3ms/step - loss: 0.0025\n",
      "13/13 [==============================] - 0s 4ms/step - loss: 0.0019\n",
      "13/13 [==============================] - 0s 4ms/step - loss: 9.6006e-04\n",
      "Generation - 11\n",
      "13/13 [==============================] - 0s 4ms/step - loss: 5.3727e-04\n",
      "13/13 [==============================] - 0s 3ms/step - loss: 5.8655e-04\n",
      "13/13 [==============================] - 0s 4ms/step - loss: 0.0018\n",
      "13/13 [==============================] - 0s 4ms/step - loss: 5.5486e-04\n",
      "13/13 [==============================] - 0s 3ms/step - loss: 8.1693e-04\n",
      "13/13 [==============================] - 0s 3ms/step - loss: 9.4699e-04\n",
      "Generation - 12\n",
      "13/13 [==============================] - 0s 3ms/step - loss: 6.7448e-04\n",
      "13/13 [==============================] - 0s 4ms/step - loss: 6.2204e-04\n",
      "13/13 [==============================] - 0s 4ms/step - loss: 6.6339e-04\n",
      "13/13 [==============================] - 0s 3ms/step - loss: 0.0013\n",
      "13/13 [==============================] - 0s 4ms/step - loss: 0.0013\n",
      "13/13 [==============================] - 0s 4ms/step - loss: 7.6233e-04\n",
      "Generation - 13\n",
      "13/13 [==============================] - 0s 3ms/step - loss: 0.0010\n",
      "13/13 [==============================] - 0s 4ms/step - loss: 0.0037\n",
      "13/13 [==============================] - 0s 4ms/step - loss: 0.0025\n",
      "13/13 [==============================] - 0s 4ms/step - loss: 5.9316e-04\n",
      "13/13 [==============================] - 0s 3ms/step - loss: 7.9490e-04\n",
      "13/13 [==============================] - 0s 3ms/step - loss: 7.3990e-04\n",
      "Generation - 14\n",
      "13/13 [==============================] - 0s 4ms/step - loss: 5.2080e-04\n",
      "13/13 [==============================] - 0s 4ms/step - loss: 5.6796e-04\n",
      "13/13 [==============================] - 0s 3ms/step - loss: 6.2905e-04\n",
      "13/13 [==============================] - 0s 3ms/step - loss: 0.0023\n",
      "13/13 [==============================] - 0s 4ms/step - loss: 5.6365e-04\n",
      "13/13 [==============================] - 0s 4ms/step - loss: 0.0018\n",
      "Generation - 15\n",
      "13/13 [==============================] - 0s 4ms/step - loss: 8.9469e-04\n",
      "13/13 [==============================] - 0s 4ms/step - loss: 5.3141e-04\n",
      "13/13 [==============================] - 0s 4ms/step - loss: 0.0013\n",
      "13/13 [==============================] - 0s 4ms/step - loss: 7.9955e-04\n",
      "13/13 [==============================] - 0s 4ms/step - loss: 8.3370e-04\n",
      "13/13 [==============================] - 0s 3ms/step - loss: 5.3117e-04\n",
      "Generation - 16\n",
      "13/13 [==============================] - 0s 4ms/step - loss: 6.7080e-04\n",
      "13/13 [==============================] - 0s 4ms/step - loss: 0.0015\n",
      "13/13 [==============================] - 0s 3ms/step - loss: 0.0019\n",
      "13/13 [==============================] - 0s 3ms/step - loss: 0.0018\n",
      "13/13 [==============================] - 0s 4ms/step - loss: 6.2522e-04\n",
      "13/13 [==============================] - 0s 4ms/step - loss: 5.9423e-04\n",
      "Generation - 17\n",
      "13/13 [==============================] - 0s 3ms/step - loss: 6.6173e-04\n",
      "13/13 [==============================] - 0s 4ms/step - loss: 0.0016\n",
      "13/13 [==============================] - 0s 5ms/step - loss: 0.0018\n",
      "13/13 [==============================] - 0s 4ms/step - loss: 6.0963e-04\n",
      "13/13 [==============================] - 0s 3ms/step - loss: 8.0554e-04\n",
      "13/13 [==============================] - 0s 4ms/step - loss: 5.4612e-04\n",
      "Generation - 18\n",
      "13/13 [==============================] - 0s 4ms/step - loss: 0.0035\n",
      "13/13 [==============================] - 0s 4ms/step - loss: 0.0015\n",
      "13/13 [==============================] - 0s 4ms/step - loss: 5.6395e-04\n",
      "13/13 [==============================] - 0s 4ms/step - loss: 6.1389e-04\n",
      "13/13 [==============================] - 0s 4ms/step - loss: 0.0025\n",
      "13/13 [==============================] - 0s 3ms/step - loss: 5.3517e-04\n",
      "Generation - 19\n",
      "13/13 [==============================] - 0s 4ms/step - loss: 5.1746e-04\n",
      "13/13 [==============================] - 0s 3ms/step - loss: 0.0011\n",
      "13/13 [==============================] - 0s 4ms/step - loss: 0.0012\n",
      "13/13 [==============================] - 0s 3ms/step - loss: 0.0015\n",
      "13/13 [==============================] - 0s 3ms/step - loss: 0.0011\n",
      "13/13 [==============================] - 0s 3ms/step - loss: 0.0021\n",
      "Generation - 20\n",
      "13/13 [==============================] - 0s 4ms/step - loss: 5.8718e-04\n",
      "13/13 [==============================] - 0s 4ms/step - loss: 0.0015\n",
      "13/13 [==============================] - 0s 4ms/step - loss: 0.0022\n",
      "13/13 [==============================] - 0s 3ms/step - loss: 6.3989e-04\n",
      "13/13 [==============================] - 0s 4ms/step - loss: 5.1746e-04\n",
      "13/13 [==============================] - 0s 3ms/step - loss: 0.0022\n",
      "Generation - 21\n",
      "13/13 [==============================] - 0s 3ms/step - loss: 0.0012\n",
      "13/13 [==============================] - 0s 3ms/step - loss: 5.1927e-04\n",
      "13/13 [==============================] - 0s 4ms/step - loss: 0.0016\n",
      "13/13 [==============================] - 0s 3ms/step - loss: 7.2769e-04\n",
      "13/13 [==============================] - 0s 4ms/step - loss: 0.0081\n",
      "13/13 [==============================] - 0s 3ms/step - loss: 0.0013\n",
      "Generation - 22\n",
      "13/13 [==============================] - 0s 4ms/step - loss: 8.2642e-04\n",
      "13/13 [==============================] - 0s 3ms/step - loss: 0.0015\n",
      "13/13 [==============================] - 0s 4ms/step - loss: 0.0016\n",
      "13/13 [==============================] - 0s 3ms/step - loss: 5.4760e-04\n",
      "13/13 [==============================] - 0s 4ms/step - loss: 5.5892e-04\n",
      "13/13 [==============================] - 0s 3ms/step - loss: 5.4271e-04\n",
      "Generation - 23\n",
      "13/13 [==============================] - 0s 4ms/step - loss: 0.0068\n",
      "13/13 [==============================] - 0s 4ms/step - loss: 7.4748e-04\n",
      "13/13 [==============================] - 0s 5ms/step - loss: 0.0019\n",
      "13/13 [==============================] - 0s 3ms/step - loss: 0.0017\n",
      "13/13 [==============================] - 0s 3ms/step - loss: 6.6858e-04\n",
      "13/13 [==============================] - 0s 3ms/step - loss: 7.5900e-04\n",
      "Generation - 24\n",
      "13/13 [==============================] - 0s 5ms/step - loss: 0.0012\n",
      "13/13 [==============================] - 0s 3ms/step - loss: 0.0016\n",
      "13/13 [==============================] - 0s 3ms/step - loss: 0.0011\n",
      "13/13 [==============================] - 0s 3ms/step - loss: 0.0018\n",
      "13/13 [==============================] - 0s 4ms/step - loss: 6.9556e-04\n",
      "13/13 [==============================] - 0s 3ms/step - loss: 5.6545e-04\n",
      "Generation - 25\n",
      "13/13 [==============================] - 0s 3ms/step - loss: 5.5648e-04\n",
      "13/13 [==============================] - 0s 3ms/step - loss: 5.2797e-04\n",
      "13/13 [==============================] - 0s 4ms/step - loss: 5.1826e-04\n",
      "13/13 [==============================] - 0s 3ms/step - loss: 7.3462e-04\n",
      "13/13 [==============================] - 0s 3ms/step - loss: 9.2808e-04\n",
      "13/13 [==============================] - 0s 3ms/step - loss: 0.0012\n"
     ]
    }
   ],
   "source": [
    "# Do not increase this value\n",
    "population_size = 5\n",
    "generations = 25\n",
    "\n",
    "time = timer(None)\n",
    "best_chromosome, best_fitness = genetic_algorithm(population_size, generations)\n",
    "time = timer(time)"
   ]
  },
  {
   "cell_type": "code",
   "execution_count": 9,
   "id": "a5a7089c",
   "metadata": {
    "execution": {
     "iopub.execute_input": "2023-10-16T07:49:07.090127Z",
     "iopub.status.busy": "2023-10-16T07:49:07.089838Z",
     "iopub.status.idle": "2023-10-16T07:49:07.094895Z",
     "shell.execute_reply": "2023-10-16T07:49:07.094002Z"
    },
    "papermill": {
     "duration": 0.02458,
     "end_time": "2023-10-16T07:49:07.096850",
     "exception": false,
     "start_time": "2023-10-16T07:49:07.072270",
     "status": "completed"
    },
    "tags": []
   },
   "outputs": [
    {
     "name": "stdout",
     "output_type": "stream",
     "text": [
      "Best Chromosome: [22 20 21]\n",
      "Best Fitness: -0.0005182605818845332\n",
      "Time Taken: 0 hours 20 minutes and 28.04 seconds.\n"
     ]
    }
   ],
   "source": [
    "print(\"Best Chromosome:\", best_chromosome)\n",
    "print(\"Best Fitness:\", best_fitness)\n",
    "print(\"Time Taken:\", time)"
   ]
  },
  {
   "cell_type": "markdown",
   "id": "b5850187",
   "metadata": {
    "papermill": {
     "duration": 0.016484,
     "end_time": "2023-10-16T07:49:07.130587",
     "exception": false,
     "start_time": "2023-10-16T07:49:07.114103",
     "status": "completed"
    },
    "tags": []
   },
   "source": [
    "## Re-Training Model with Best Parameter"
   ]
  },
  {
   "cell_type": "code",
   "execution_count": 10,
   "id": "d44efffd",
   "metadata": {
    "execution": {
     "iopub.execute_input": "2023-10-16T07:49:07.164990Z",
     "iopub.status.busy": "2023-10-16T07:49:07.164670Z",
     "iopub.status.idle": "2023-10-16T07:49:07.622887Z",
     "shell.execute_reply": "2023-10-16T07:49:07.621865Z"
    },
    "papermill": {
     "duration": 0.480523,
     "end_time": "2023-10-16T07:49:07.627524",
     "exception": false,
     "start_time": "2023-10-16T07:49:07.147001",
     "status": "completed"
    },
    "tags": []
   },
   "outputs": [
    {
     "name": "stdout",
     "output_type": "stream",
     "text": [
      "Model: \"sequential_1\"\n",
      "_________________________________________________________________\n",
      " Layer (type)                Output Shape              Param #   \n",
      "=================================================================\n",
      " lstm_2 (LSTM)               (None, 20, 220)           195360    \n",
      "                                                                 \n",
      " lstm_3 (LSTM)               (None, 200)               336800    \n",
      "                                                                 \n",
      " dense_1 (Dense)             (None, 1)                 201       \n",
      "                                                                 \n",
      "=================================================================\n",
      "Total params: 532,361\n",
      "Trainable params: 532,361\n",
      "Non-trainable params: 0\n",
      "_________________________________________________________________\n"
     ]
    }
   ],
   "source": [
    "model = Sequential()\n",
    "for i, units in enumerate(best_chromosome[:LSTM_Layer]):\n",
    "    model.add(LSTM(units*10, return_sequences=(i < LSTM_Layer - 1), input_shape=(WINDOW_SIZE, 1)))\n",
    "model.add(Dense(1))\n",
    "\n",
    "model.summary()"
   ]
  },
  {
   "cell_type": "code",
   "execution_count": 11,
   "id": "c6d0d5e2",
   "metadata": {
    "execution": {
     "iopub.execute_input": "2023-10-16T07:49:07.663666Z",
     "iopub.status.busy": "2023-10-16T07:49:07.663380Z",
     "iopub.status.idle": "2023-10-16T07:49:30.858467Z",
     "shell.execute_reply": "2023-10-16T07:49:30.857507Z"
    },
    "papermill": {
     "duration": 23.215265,
     "end_time": "2023-10-16T07:49:30.860594",
     "exception": false,
     "start_time": "2023-10-16T07:49:07.645329",
     "status": "completed"
    },
    "tags": []
   },
   "outputs": [
    {
     "name": "stdout",
     "output_type": "stream",
     "text": [
      "Epoch 1/50\n",
      "44/44 [==============================] - 4s 23ms/step - loss: 0.0089 - mae: 0.0599 - root_mean_squared_error: 0.0942 - val_loss: 0.0022 - val_mae: 0.0424 - val_root_mean_squared_error: 0.0469\n",
      "Epoch 2/50\n",
      "44/44 [==============================] - 0s 8ms/step - loss: 0.0033 - mae: 0.0342 - root_mean_squared_error: 0.0571 - val_loss: 6.5717e-04 - val_mae: 0.0213 - val_root_mean_squared_error: 0.0256\n",
      "Epoch 3/50\n",
      "44/44 [==============================] - 0s 9ms/step - loss: 0.0030 - mae: 0.0329 - root_mean_squared_error: 0.0552 - val_loss: 3.5758e-04 - val_mae: 0.0154 - val_root_mean_squared_error: 0.0189\n",
      "Epoch 4/50\n",
      "44/44 [==============================] - 1s 13ms/step - loss: 0.0029 - mae: 0.0317 - root_mean_squared_error: 0.0536 - val_loss: 4.7139e-04 - val_mae: 0.0179 - val_root_mean_squared_error: 0.0217\n",
      "Epoch 5/50\n",
      "44/44 [==============================] - 1s 14ms/step - loss: 0.0027 - mae: 0.0290 - root_mean_squared_error: 0.0518 - val_loss: 4.6092e-04 - val_mae: 0.0177 - val_root_mean_squared_error: 0.0215\n",
      "Epoch 6/50\n",
      "44/44 [==============================] - 0s 11ms/step - loss: 0.0028 - mae: 0.0313 - root_mean_squared_error: 0.0526 - val_loss: 0.0016 - val_mae: 0.0362 - val_root_mean_squared_error: 0.0401\n",
      "Epoch 7/50\n",
      "44/44 [==============================] - 0s 8ms/step - loss: 0.0029 - mae: 0.0336 - root_mean_squared_error: 0.0543 - val_loss: 3.8840e-04 - val_mae: 0.0160 - val_root_mean_squared_error: 0.0197\n",
      "Epoch 8/50\n",
      "44/44 [==============================] - 0s 8ms/step - loss: 0.0026 - mae: 0.0294 - root_mean_squared_error: 0.0512 - val_loss: 2.7913e-04 - val_mae: 0.0131 - val_root_mean_squared_error: 0.0167\n",
      "Epoch 9/50\n",
      "44/44 [==============================] - 0s 8ms/step - loss: 0.0024 - mae: 0.0278 - root_mean_squared_error: 0.0494 - val_loss: 2.8257e-04 - val_mae: 0.0133 - val_root_mean_squared_error: 0.0168\n",
      "Epoch 10/50\n",
      "44/44 [==============================] - 0s 8ms/step - loss: 0.0023 - mae: 0.0260 - root_mean_squared_error: 0.0481 - val_loss: 2.5913e-04 - val_mae: 0.0126 - val_root_mean_squared_error: 0.0161\n",
      "Epoch 11/50\n",
      "44/44 [==============================] - 1s 11ms/step - loss: 0.0023 - mae: 0.0266 - root_mean_squared_error: 0.0479 - val_loss: 6.7795e-04 - val_mae: 0.0226 - val_root_mean_squared_error: 0.0260\n",
      "Epoch 12/50\n",
      "44/44 [==============================] - 0s 9ms/step - loss: 0.0023 - mae: 0.0267 - root_mean_squared_error: 0.0479 - val_loss: 2.4816e-04 - val_mae: 0.0122 - val_root_mean_squared_error: 0.0158\n",
      "Epoch 13/50\n",
      "44/44 [==============================] - 0s 9ms/step - loss: 0.0022 - mae: 0.0259 - root_mean_squared_error: 0.0473 - val_loss: 3.8656e-04 - val_mae: 0.0160 - val_root_mean_squared_error: 0.0197\n",
      "Epoch 14/50\n",
      "44/44 [==============================] - 0s 8ms/step - loss: 0.0022 - mae: 0.0265 - root_mean_squared_error: 0.0468 - val_loss: 5.1735e-04 - val_mae: 0.0193 - val_root_mean_squared_error: 0.0227\n",
      "Epoch 15/50\n",
      "44/44 [==============================] - 0s 8ms/step - loss: 0.0021 - mae: 0.0251 - root_mean_squared_error: 0.0459 - val_loss: 4.1309e-04 - val_mae: 0.0172 - val_root_mean_squared_error: 0.0203\n",
      "Epoch 16/50\n",
      "44/44 [==============================] - 0s 9ms/step - loss: 0.0021 - mae: 0.0246 - root_mean_squared_error: 0.0460 - val_loss: 3.5664e-04 - val_mae: 0.0154 - val_root_mean_squared_error: 0.0189\n",
      "Epoch 17/50\n",
      "44/44 [==============================] - 0s 10ms/step - loss: 0.0020 - mae: 0.0238 - root_mean_squared_error: 0.0448 - val_loss: 2.2000e-04 - val_mae: 0.0114 - val_root_mean_squared_error: 0.0148\n",
      "Epoch 18/50\n",
      "44/44 [==============================] - 0s 8ms/step - loss: 0.0020 - mae: 0.0239 - root_mean_squared_error: 0.0452 - val_loss: 3.2754e-04 - val_mae: 0.0151 - val_root_mean_squared_error: 0.0181\n",
      "Epoch 19/50\n",
      "44/44 [==============================] - 0s 8ms/step - loss: 0.0019 - mae: 0.0229 - root_mean_squared_error: 0.0439 - val_loss: 3.1598e-04 - val_mae: 0.0148 - val_root_mean_squared_error: 0.0178\n",
      "Epoch 20/50\n",
      "44/44 [==============================] - 0s 8ms/step - loss: 0.0020 - mae: 0.0234 - root_mean_squared_error: 0.0443 - val_loss: 2.8559e-04 - val_mae: 0.0139 - val_root_mean_squared_error: 0.0169\n",
      "Epoch 21/50\n",
      "44/44 [==============================] - 0s 8ms/step - loss: 0.0019 - mae: 0.0228 - root_mean_squared_error: 0.0439 - val_loss: 1.7593e-04 - val_mae: 0.0098 - val_root_mean_squared_error: 0.0133\n",
      "Epoch 22/50\n",
      "44/44 [==============================] - 0s 8ms/step - loss: 0.0020 - mae: 0.0244 - root_mean_squared_error: 0.0446 - val_loss: 5.8292e-04 - val_mae: 0.0213 - val_root_mean_squared_error: 0.0241\n",
      "Epoch 23/50\n",
      "44/44 [==============================] - 0s 8ms/step - loss: 0.0020 - mae: 0.0237 - root_mean_squared_error: 0.0445 - val_loss: 5.1138e-04 - val_mae: 0.0199 - val_root_mean_squared_error: 0.0226\n",
      "Epoch 24/50\n",
      "44/44 [==============================] - 0s 8ms/step - loss: 0.0020 - mae: 0.0222 - root_mean_squared_error: 0.0444 - val_loss: 1.9309e-04 - val_mae: 0.0106 - val_root_mean_squared_error: 0.0139\n",
      "Epoch 25/50\n",
      "44/44 [==============================] - 0s 8ms/step - loss: 0.0021 - mae: 0.0261 - root_mean_squared_error: 0.0460 - val_loss: 2.9015e-04 - val_mae: 0.0141 - val_root_mean_squared_error: 0.0170\n",
      "Epoch 26/50\n",
      "44/44 [==============================] - 0s 8ms/step - loss: 0.0019 - mae: 0.0232 - root_mean_squared_error: 0.0439 - val_loss: 1.7334e-04 - val_mae: 0.0098 - val_root_mean_squared_error: 0.0132\n",
      "Epoch 27/50\n",
      "44/44 [==============================] - 0s 8ms/step - loss: 0.0019 - mae: 0.0225 - root_mean_squared_error: 0.0438 - val_loss: 1.9295e-04 - val_mae: 0.0105 - val_root_mean_squared_error: 0.0139\n",
      "Epoch 28/50\n",
      "44/44 [==============================] - 0s 8ms/step - loss: 0.0020 - mae: 0.0239 - root_mean_squared_error: 0.0448 - val_loss: 2.1732e-04 - val_mae: 0.0117 - val_root_mean_squared_error: 0.0147\n",
      "Epoch 29/50\n",
      "44/44 [==============================] - 0s 8ms/step - loss: 0.0020 - mae: 0.0244 - root_mean_squared_error: 0.0448 - val_loss: 1.6970e-04 - val_mae: 0.0096 - val_root_mean_squared_error: 0.0130\n",
      "Epoch 30/50\n",
      "44/44 [==============================] - 0s 8ms/step - loss: 0.0021 - mae: 0.0249 - root_mean_squared_error: 0.0453 - val_loss: 1.6861e-04 - val_mae: 0.0096 - val_root_mean_squared_error: 0.0130\n",
      "Epoch 31/50\n",
      "44/44 [==============================] - 0s 8ms/step - loss: 0.0021 - mae: 0.0255 - root_mean_squared_error: 0.0459 - val_loss: 2.1135e-04 - val_mae: 0.0114 - val_root_mean_squared_error: 0.0145\n",
      "Epoch 32/50\n",
      "44/44 [==============================] - 0s 8ms/step - loss: 0.0020 - mae: 0.0247 - root_mean_squared_error: 0.0452 - val_loss: 1.6916e-04 - val_mae: 0.0096 - val_root_mean_squared_error: 0.0130\n",
      "Epoch 33/50\n",
      "44/44 [==============================] - 0s 10ms/step - loss: 0.0020 - mae: 0.0230 - root_mean_squared_error: 0.0444 - val_loss: 1.6771e-04 - val_mae: 0.0095 - val_root_mean_squared_error: 0.0130\n",
      "Epoch 34/50\n",
      "44/44 [==============================] - 0s 8ms/step - loss: 0.0020 - mae: 0.0240 - root_mean_squared_error: 0.0451 - val_loss: 1.8332e-04 - val_mae: 0.0102 - val_root_mean_squared_error: 0.0135\n",
      "Epoch 35/50\n",
      "44/44 [==============================] - 0s 8ms/step - loss: 0.0019 - mae: 0.0229 - root_mean_squared_error: 0.0439 - val_loss: 1.6575e-04 - val_mae: 0.0094 - val_root_mean_squared_error: 0.0129\n",
      "Epoch 36/50\n",
      "44/44 [==============================] - 0s 8ms/step - loss: 0.0019 - mae: 0.0233 - root_mean_squared_error: 0.0441 - val_loss: 2.5089e-04 - val_mae: 0.0126 - val_root_mean_squared_error: 0.0158\n",
      "Epoch 37/50\n",
      "44/44 [==============================] - 0s 8ms/step - loss: 0.0019 - mae: 0.0228 - root_mean_squared_error: 0.0441 - val_loss: 2.6504e-04 - val_mae: 0.0131 - val_root_mean_squared_error: 0.0163\n",
      "Epoch 38/50\n",
      "44/44 [==============================] - 0s 8ms/step - loss: 0.0021 - mae: 0.0245 - root_mean_squared_error: 0.0455 - val_loss: 2.9156e-04 - val_mae: 0.0142 - val_root_mean_squared_error: 0.0171\n",
      "Epoch 39/50\n",
      "44/44 [==============================] - 0s 8ms/step - loss: 0.0020 - mae: 0.0237 - root_mean_squared_error: 0.0444 - val_loss: 4.3665e-04 - val_mae: 0.0179 - val_root_mean_squared_error: 0.0209\n",
      "Epoch 40/50\n",
      "44/44 [==============================] - 0s 8ms/step - loss: 0.0020 - mae: 0.0233 - root_mean_squared_error: 0.0446 - val_loss: 3.7611e-04 - val_mae: 0.0167 - val_root_mean_squared_error: 0.0194\n",
      "Epoch 41/50\n",
      "44/44 [==============================] - 0s 9ms/step - loss: 0.0020 - mae: 0.0246 - root_mean_squared_error: 0.0451 - val_loss: 3.2426e-04 - val_mae: 0.0152 - val_root_mean_squared_error: 0.0180\n",
      "Epoch 42/50\n",
      "44/44 [==============================] - 0s 8ms/step - loss: 0.0019 - mae: 0.0224 - root_mean_squared_error: 0.0437 - val_loss: 1.7289e-04 - val_mae: 0.0097 - val_root_mean_squared_error: 0.0131\n",
      "Epoch 43/50\n",
      "44/44 [==============================] - 0s 8ms/step - loss: 0.0019 - mae: 0.0219 - root_mean_squared_error: 0.0434 - val_loss: 3.2083e-04 - val_mae: 0.0147 - val_root_mean_squared_error: 0.0179\n",
      "Epoch 44/50\n",
      "44/44 [==============================] - 0s 10ms/step - loss: 0.0022 - mae: 0.0281 - root_mean_squared_error: 0.0473 - val_loss: 1.6918e-04 - val_mae: 0.0095 - val_root_mean_squared_error: 0.0130\n",
      "Epoch 45/50\n",
      "44/44 [==============================] - 0s 8ms/step - loss: 0.0019 - mae: 0.0220 - root_mean_squared_error: 0.0439 - val_loss: 4.0196e-04 - val_mae: 0.0170 - val_root_mean_squared_error: 0.0200\n",
      "Epoch 46/50\n",
      "44/44 [==============================] - 0s 8ms/step - loss: 0.0020 - mae: 0.0244 - root_mean_squared_error: 0.0448 - val_loss: 7.0172e-04 - val_mae: 0.0238 - val_root_mean_squared_error: 0.0265\n",
      "Epoch 47/50\n",
      "44/44 [==============================] - 0s 8ms/step - loss: 0.0020 - mae: 0.0235 - root_mean_squared_error: 0.0444 - val_loss: 1.6713e-04 - val_mae: 0.0095 - val_root_mean_squared_error: 0.0129\n",
      "Epoch 48/50\n",
      "44/44 [==============================] - 0s 8ms/step - loss: 0.0019 - mae: 0.0229 - root_mean_squared_error: 0.0438 - val_loss: 1.8764e-04 - val_mae: 0.0104 - val_root_mean_squared_error: 0.0137\n",
      "Epoch 49/50\n",
      "44/44 [==============================] - 0s 8ms/step - loss: 0.0020 - mae: 0.0244 - root_mean_squared_error: 0.0451 - val_loss: 5.1873e-04 - val_mae: 0.0200 - val_root_mean_squared_error: 0.0228\n",
      "Epoch 50/50\n",
      "44/44 [==============================] - 0s 8ms/step - loss: 0.0022 - mae: 0.0264 - root_mean_squared_error: 0.0467 - val_loss: 2.5466e-04 - val_mae: 0.0128 - val_root_mean_squared_error: 0.0160\n"
     ]
    }
   ],
   "source": [
    "model.compile(loss='mean_squared_error',\n",
    "              metrics=['mae', RootMeanSquaredError()],\n",
    "              optimizer='adam')\n",
    "\n",
    "history = model.fit(X_train,\n",
    "                    y_train,\n",
    "                    epochs=50,\n",
    "                    batch_size=32,\n",
    "                    validation_split=0.1)"
   ]
  },
  {
   "cell_type": "code",
   "execution_count": 12,
   "id": "d6679965",
   "metadata": {
    "execution": {
     "iopub.execute_input": "2023-10-16T07:49:30.933195Z",
     "iopub.status.busy": "2023-10-16T07:49:30.932355Z",
     "iopub.status.idle": "2023-10-16T07:49:31.046388Z",
     "shell.execute_reply": "2023-10-16T07:49:31.045288Z"
    },
    "papermill": {
     "duration": 0.151274,
     "end_time": "2023-10-16T07:49:31.048210",
     "exception": false,
     "start_time": "2023-10-16T07:49:30.896936",
     "status": "completed"
    },
    "tags": []
   },
   "outputs": [
    {
     "name": "stdout",
     "output_type": "stream",
     "text": [
      "13/13 [==============================] - 0s 4ms/step - loss: 0.0016 - mae: 0.0337 - root_mean_squared_error: 0.0404\n"
     ]
    },
    {
     "data": {
      "text/plain": [
       "[0.0016327383928000927, 0.033698905259370804, 0.04040715843439102]"
      ]
     },
     "execution_count": 12,
     "metadata": {},
     "output_type": "execute_result"
    }
   ],
   "source": [
    "model.evaluate(X_test, y_test)"
   ]
  },
  {
   "cell_type": "markdown",
   "id": "43b44a9b",
   "metadata": {
    "papermill": {
     "duration": 0.034882,
     "end_time": "2023-10-16T07:49:31.121839",
     "exception": false,
     "start_time": "2023-10-16T07:49:31.086957",
     "status": "completed"
    },
    "tags": []
   },
   "source": [
    "## Model Evaluation"
   ]
  },
  {
   "cell_type": "code",
   "execution_count": 13,
   "id": "c5d6e545",
   "metadata": {
    "execution": {
     "iopub.execute_input": "2023-10-16T07:49:31.193820Z",
     "iopub.status.busy": "2023-10-16T07:49:31.193140Z",
     "iopub.status.idle": "2023-10-16T07:49:31.466813Z",
     "shell.execute_reply": "2023-10-16T07:49:31.465987Z"
    },
    "papermill": {
     "duration": 0.312591,
     "end_time": "2023-10-16T07:49:31.468573",
     "exception": false,
     "start_time": "2023-10-16T07:49:31.155982",
     "status": "completed"
    },
    "tags": []
   },
   "outputs": [
    {
     "data": {
      "image/png": "[encoded data removed]",
      "text/plain": [
       "<Figure size 640x480 with 1 Axes>"
      ]
     },
     "metadata": {},
     "output_type": "display_data"
    }
   ],
   "source": [
    "plt.plot(history.history['loss'])\n",
    "plt.plot(history.history['val_loss'])\n",
    "plt.title(f'{SHEET_NAME[2]} Model Loss', fontsize=15)\n",
    "plt.ylabel('loss')\n",
    "plt.xlabel('epoch')\n",
    "plt.legend(['train', 'test'])\n",
    "plt.show()"
   ]
  },
  {
   "cell_type": "code",
   "execution_count": 14,
   "id": "9e515ca5",
   "metadata": {
    "execution": {
     "iopub.execute_input": "2023-10-16T07:49:31.540340Z",
     "iopub.status.busy": "2023-10-16T07:49:31.540034Z",
     "iopub.status.idle": "2023-10-16T07:49:32.296570Z",
     "shell.execute_reply": "2023-10-16T07:49:32.295474Z"
    },
    "papermill": {
     "duration": 0.794635,
     "end_time": "2023-10-16T07:49:32.298707",
     "exception": false,
     "start_time": "2023-10-16T07:49:31.504072",
     "status": "completed"
    },
    "tags": []
   },
   "outputs": [
    {
     "name": "stdout",
     "output_type": "stream",
     "text": [
      "13/13 [==============================] - 1s 3ms/step\n"
     ]
    }
   ],
   "source": [
    "y_hat = model.predict(X_test)\n",
    "y_test_inverse = scaler.inverse_transform(y_test)\n",
    "y_hat_inverse = scaler.inverse_transform(y_hat)"
   ]
  },
  {
   "cell_type": "code",
   "execution_count": 15,
   "id": "2fc43e57",
   "metadata": {
    "execution": {
     "iopub.execute_input": "2023-10-16T07:49:32.376965Z",
     "iopub.status.busy": "2023-10-16T07:49:32.376659Z",
     "iopub.status.idle": "2023-10-16T07:49:32.666785Z",
     "shell.execute_reply": "2023-10-16T07:49:32.665929Z"
    },
    "papermill": {
     "duration": 0.33202,
     "end_time": "2023-10-16T07:49:32.668911",
     "exception": false,
     "start_time": "2023-10-16T07:49:32.336891",
     "status": "completed"
    },
    "tags": []
   },
   "outputs": [
    {
     "data": {
      "image/png": "[encoded data removed]",
      "text/plain": [
       "<Figure size 640x480 with 1 Axes>"
      ]
     },
     "metadata": {},
     "output_type": "display_data"
    }
   ],
   "source": [
    "plt.plot(y_test_inverse, label=\"Actual Price\", color='green')\n",
    "plt.plot(y_hat_inverse, label=\"Predicted Price\", color='red')\n",
    " \n",
    "plt.title(f'{SHEET_NAME[2]} Price Prediction\\nLSTM = {LSTM_Layer}, Split Data = {SPLIT}, Window = {WINDOW_SIZE}', fontsize=15)\n",
    "plt.xlabel('Time [days]')\n",
    "plt.ylabel('Price')\n",
    "plt.legend(loc='best')\n",
    " \n",
    "plt.show()"
   ]
  },
  {
   "cell_type": "code",
   "execution_count": 16,
   "id": "0517fd2a",
   "metadata": {
    "execution": {
     "iopub.execute_input": "2023-10-16T07:49:32.744194Z",
     "iopub.status.busy": "2023-10-16T07:49:32.743843Z",
     "iopub.status.idle": "2023-10-16T07:49:32.752543Z",
     "shell.execute_reply": "2023-10-16T07:49:32.751536Z"
    },
    "papermill": {
     "duration": 0.048006,
     "end_time": "2023-10-16T07:49:32.754367",
     "exception": false,
     "start_time": "2023-10-16T07:49:32.706361",
     "status": "completed"
    },
    "tags": []
   },
   "outputs": [
    {
     "name": "stdout",
     "output_type": "stream",
     "text": [
      "LSTM = 2, Split Data = 0.8, Window = 20\n",
      "\n",
      "----------------- Normalized Error -----------------\n",
      "Mean Absolute Error for prediction : 0.033698909175377295\n",
      "Mean Squared Error for prediction : 0.0016327385614166327\n",
      "Root Mean Squared Error for prediction : 0.04040715977913608\n",
      "\n",
      "----------------- Actual Error -----------------\n",
      "Mean Absolute Error for prediction : 71.05265715608887\n",
      "Mean Squared Error for prediction : 7258.480347627416\n",
      "Root Mean Squared Error for prediction : 85.1967155917845\n"
     ]
    }
   ],
   "source": [
    "def matrices(actual, predicted):\n",
    "    mse = mean_squared_error(actual, predicted)\n",
    "    mae = mean_absolute_error(actual, predicted)\n",
    "    rmse = np.sqrt(mse)\n",
    "    print(\"Mean Absolute Error for prediction :\", mae)\n",
    "    print(\"Mean Squared Error for prediction :\", mse)\n",
    "    print(\"Root Mean Squared Error for prediction :\", rmse)\n",
    "    return mae, mse, rmse\n",
    "\n",
    "print(f\"LSTM = {LSTM_Layer}, Split Data = {SPLIT}, Window = {WINDOW_SIZE}\")\n",
    "print(\"\\n----------------- Normalized Error -----------------\")\n",
    "mae, mse, rmse = matrices(y_test, y_hat)\n",
    "print(\"\\n----------------- Actual Error -----------------\")\n",
    "mae_inverse, mse_inverse, rmse_inverse = matrices(y_test_inverse, y_hat_inverse)"
   ]
  }
 ],
 "metadata": {
  "kernelspec": {
   "display_name": "Python 3",
   "language": "python",
   "name": "python3"
  },
  "language_info": {
   "codemirror_mode": {
    "name": "ipython",
    "version": 3
   },
   "file_extension": ".py",
   "mimetype": "text/x-python",
   "name": "python",
   "nbconvert_exporter": "python",
   "pygments_lexer": "ipython3",
   "version": "3.10.10"
  },
  "papermill": {
   "default_parameters": {},
   "duration": 1275.144638,
   "end_time": "2023-10-16T07:49:36.453740",
   "environment_variables": {},
   "exception": null,
   "input_path": "__notebook__.ipynb",
   "output_path": "__notebook__.ipynb",
   "parameters": {},
   "start_time": "2023-10-16T07:28:21.309102",
   "version": "2.4.0"
  }
 },
 "nbformat": 4,
 "nbformat_minor": 5
}
