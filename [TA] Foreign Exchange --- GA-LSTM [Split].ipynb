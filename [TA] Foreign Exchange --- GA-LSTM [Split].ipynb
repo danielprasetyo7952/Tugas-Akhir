{
 "cells": [
  {
   "cell_type": "code",
   "execution_count": 1,
   "id": "c897f1b0",
   "metadata": {
    "execution": {
     "iopub.execute_input": "2023-10-16T07:28:15.489063Z",
     "iopub.status.busy": "2023-10-16T07:28:15.483452Z",
     "iopub.status.idle": "2023-10-16T07:28:23.799919Z",
     "shell.execute_reply": "2023-10-16T07:28:23.798836Z"
    },
    "papermill": {
     "duration": 8.324336,
     "end_time": "2023-10-16T07:28:23.802081",
     "exception": false,
     "start_time": "2023-10-16T07:28:15.477745",
     "status": "completed"
    },
    "tags": []
   },
   "outputs": [
    {
     "name": "stderr",
     "output_type": "stream",
     "text": [
      "/opt/conda/lib/python3.10/site-packages/tensorflow_io/python/ops/__init__.py:98: UserWarning: unable to load libtensorflow_io_plugins.so: unable to open file: libtensorflow_io_plugins.so, from paths: ['/opt/conda/lib/python3.10/site-packages/tensorflow_io/python/ops/libtensorflow_io_plugins.so']\n",
      "caused by: ['/opt/conda/lib/python3.10/site-packages/tensorflow_io/python/ops/libtensorflow_io_plugins.so: undefined symbol: _ZN3tsl6StatusC1EN10tensorflow5error4CodeESt17basic_string_viewIcSt11char_traitsIcEENS_14SourceLocationE']\n",
      "  warnings.warn(f\"unable to load libtensorflow_io_plugins.so: {e}\")\n",
      "/opt/conda/lib/python3.10/site-packages/tensorflow_io/python/ops/__init__.py:104: UserWarning: file system plugins are not loaded: unable to open file: libtensorflow_io.so, from paths: ['/opt/conda/lib/python3.10/site-packages/tensorflow_io/python/ops/libtensorflow_io.so']\n",
      "caused by: ['/opt/conda/lib/python3.10/site-packages/tensorflow_io/python/ops/libtensorflow_io.so: undefined symbol: _ZTVN10tensorflow13GcsFileSystemE']\n",
      "  warnings.warn(f\"file system plugins are not loaded: {e}\")\n"
     ]
    }
   ],
   "source": [
    "import pandas as pd\n",
    "import numpy as np\n",
    "import tensorflow as tf\n",
    "import matplotlib.pyplot as plt\n",
    "import datetime, pytz\n",
    "\n",
    "from keras.models import Sequential\n",
    "from keras.layers import LSTM, Dense\n",
    "from keras.metrics import RootMeanSquaredError\n",
    "\n",
    "from sklearn.preprocessing import MinMaxScaler\n",
    "from sklearn.metrics import mean_squared_error, mean_absolute_error"
   ]
  },
  {
   "cell_type": "markdown",
   "id": "52c7b616",
   "metadata": {
    "papermill": {
     "duration": 0.003093,
     "end_time": "2023-10-16T07:28:23.808780",
     "exception": false,
     "start_time": "2023-10-16T07:28:23.805687",
     "status": "completed"
    },
    "tags": []
   },
   "source": [
    "## Hyperparameter"
   ]
  },
  {
   "cell_type": "code",
   "execution_count": 2,
   "id": "1c1eca1e",
   "metadata": {
    "execution": {
     "iopub.execute_input": "2023-10-16T07:28:23.816407Z",
     "iopub.status.busy": "2023-10-16T07:28:23.815866Z",
     "iopub.status.idle": "2023-10-16T07:28:23.820197Z",
     "shell.execute_reply": "2023-10-16T07:28:23.819288Z"
    },
    "papermill": {
     "duration": 0.009942,
     "end_time": "2023-10-16T07:28:23.821836",
     "exception": false,
     "start_time": "2023-10-16T07:28:23.811894",
     "status": "completed"
    },
    "tags": []
   },
   "outputs": [],
   "source": [
    "SEQ_LEN = 11 # 6, 11, 21\n",
    "SPLIT = 0.80 # 0.80, 0.90\n",
    "LSTM_Layer = 2 # 1, 2, 3\n",
    "WINDOW_SIZE = SEQ_LEN - 1"
   ]
  },
  {
   "cell_type": "code",
   "execution_count": 3,
   "id": "6a580bc0",
   "metadata": {
    "execution": {
     "iopub.execute_input": "2023-10-16T07:28:23.829600Z",
     "iopub.status.busy": "2023-10-16T07:28:23.828918Z",
     "iopub.status.idle": "2023-10-16T07:28:25.623177Z",
     "shell.execute_reply": "2023-10-16T07:28:25.622090Z"
    },
    "papermill": {
     "duration": 1.800233,
     "end_time": "2023-10-16T07:28:25.625170",
     "exception": false,
     "start_time": "2023-10-16T07:28:23.824937",
     "status": "completed"
    },
    "tags": []
   },
   "outputs": [
    {
     "name": "stdout",
     "output_type": "stream",
     "text": [
      "<class 'pandas.core.frame.DataFrame'>\n",
      "RangeIndex: 1959 entries, 0 to 1958\n",
      "Data columns (total 2 columns):\n",
      " #   Column  Non-Null Count  Dtype         \n",
      "---  ------  --------------  -----         \n",
      " 0   Date    1959 non-null   datetime64[ns]\n",
      " 1   Close   1959 non-null   float64       \n",
      "dtypes: datetime64[ns](1), float64(1)\n",
      "memory usage: 30.7 KB\n"
     ]
    }
   ],
   "source": [
    "# Google Spreadsheet ID\n",
    "SHEET_ID = '1JDNv_mArl-GPIpxuWS5GxgVEwvjXocS1MrXGc6TYs8M'\n",
    "SHEET_NAME = ['USD/IDR', 'EUR/IDR', 'SGD/IDR']\n",
    "\n",
    "url = f'https://docs.google.com/spreadsheets/d/{SHEET_ID}/gviz/tq?tqx=out:csv&sheet={SHEET_NAME[2]}'\n",
    "data = pd.read_csv(url)\n",
    "\n",
    "# Convert Date columns to datetime format\n",
    "data['Date'] = pd.to_datetime(data['Date'], format='%d/%m/%Y %H:%M:%S')\n",
    "data.info()"
   ]
  },
  {
   "cell_type": "markdown",
   "id": "c69a0987",
   "metadata": {
    "papermill": {
     "duration": 0.003118,
     "end_time": "2023-10-16T07:28:25.631832",
     "exception": false,
     "start_time": "2023-10-16T07:28:25.628714",
     "status": "completed"
    },
    "tags": []
   },
   "source": [
    "## Preprocessing"
   ]
  },
  {
   "cell_type": "code",
   "execution_count": 4,
   "id": "5eb66718",
   "metadata": {
    "execution": {
     "iopub.execute_input": "2023-10-16T07:28:25.640114Z",
     "iopub.status.busy": "2023-10-16T07:28:25.639334Z",
     "iopub.status.idle": "2023-10-16T07:28:25.647343Z",
     "shell.execute_reply": "2023-10-16T07:28:25.646398Z"
    },
    "papermill": {
     "duration": 0.013892,
     "end_time": "2023-10-16T07:28:25.649084",
     "exception": false,
     "start_time": "2023-10-16T07:28:25.635192",
     "status": "completed"
    },
    "tags": []
   },
   "outputs": [
    {
     "data": {
      "text/plain": [
       "(1959, 1)"
      ]
     },
     "execution_count": 4,
     "metadata": {},
     "output_type": "execute_result"
    }
   ],
   "source": [
    "scaler = MinMaxScaler()\n",
    "close_price = data.Close.values.reshape(-1, 1)\n",
    "scaled_close = scaler.fit_transform(close_price)\n",
    "scaled_close.shape"
   ]
  },
  {
   "cell_type": "code",
   "execution_count": 5,
   "id": "ca3657f8",
   "metadata": {
    "execution": {
     "iopub.execute_input": "2023-10-16T07:28:25.657283Z",
     "iopub.status.busy": "2023-10-16T07:28:25.656640Z",
     "iopub.status.idle": "2023-10-16T07:28:25.665071Z",
     "shell.execute_reply": "2023-10-16T07:28:25.664282Z"
    },
    "papermill": {
     "duration": 0.014229,
     "end_time": "2023-10-16T07:28:25.666751",
     "exception": false,
     "start_time": "2023-10-16T07:28:25.652522",
     "status": "completed"
    },
    "tags": []
   },
   "outputs": [],
   "source": [
    "def to_sequences(data, seq_len):\n",
    "    d = []\n",
    "    for index in range(len(data) - seq_len):\n",
    "        d.append(data[index: index + seq_len])\n",
    "    return np.array(d)\n",
    "\n",
    "def preprocess(data_raw, seq_len, train_split):\n",
    "    data = to_sequences(data_raw, seq_len)\n",
    "    num_train = int(train_split * data.shape[0])\n",
    "    X_train = data[:num_train, :-1, :]\n",
    "    y_train = data[:num_train, -1, :]\n",
    "    X_test = data[num_train:, :-1, :]\n",
    "    y_test = data[num_train:, -1, :]\n",
    "    return X_train, y_train, X_test, y_test\n",
    "\n",
    "X_train, y_train, X_test, y_test = preprocess(scaled_close, SEQ_LEN, train_split = SPLIT)"
   ]
  },
  {
   "cell_type": "markdown",
   "id": "834e8d06",
   "metadata": {
    "papermill": {
     "duration": 0.003207,
     "end_time": "2023-10-16T07:28:25.673368",
     "exception": false,
     "start_time": "2023-10-16T07:28:25.670161",
     "status": "completed"
    },
    "tags": []
   },
   "source": [
    "## Genetic Algorithm"
   ]
  },
  {
   "cell_type": "code",
   "execution_count": 6,
   "id": "5cc604ec",
   "metadata": {
    "execution": {
     "iopub.execute_input": "2023-10-16T07:28:25.681441Z",
     "iopub.status.busy": "2023-10-16T07:28:25.681007Z",
     "iopub.status.idle": "2023-10-16T07:28:25.692767Z",
     "shell.execute_reply": "2023-10-16T07:28:25.691968Z"
    },
    "papermill": {
     "duration": 0.017651,
     "end_time": "2023-10-16T07:28:25.694341",
     "exception": false,
     "start_time": "2023-10-16T07:28:25.676690",
     "status": "completed"
    },
    "tags": []
   },
   "outputs": [],
   "source": [
    "# Genetic Algorithm\n",
    "def genetic_algorithm(population_size, generations):\n",
    "    population = np.random.randint(1, high=26, size=(population_size, 3))\n",
    "    \n",
    "    for generation in range(generations):\n",
    "        print(f\"Generation - {generation + 1}\")\n",
    "        fitness_scores = np.array([fitness_function(chromosome) for chromosome in population])\n",
    "        best_chromosome = population[np.argmax(fitness_scores)]\n",
    "        best_fitness = np.max(fitness_scores)\n",
    "        \n",
    "        new_population = []\n",
    "        \n",
    "        while len(new_population) < population_size:\n",
    "            parent1 = selection(population, fitness_scores)\n",
    "            parent2 = selection(population, fitness_scores)\n",
    "            offspring_1, offspring_2 = crossover(parent1, parent2)\n",
    "            mutate(offspring_1)\n",
    "            mutate(offspring_2)\n",
    "            new_population.append(offspring_1)\n",
    "            new_population.append(offspring_2)\n",
    "        \n",
    "        population = np.array(new_population)\n",
    "    \n",
    "    return best_chromosome, best_fitness\n",
    "\n",
    "# Selection (Tournament selection)\n",
    "def selection(population, fitness_scores, tournament_size=3):\n",
    "    indices = np.random.randint(len(population), size=tournament_size)\n",
    "    tournament = population[indices]\n",
    "    tournament_fitness = fitness_scores[indices]\n",
    "    return tournament[np.argmax(tournament_fitness)]\n",
    "\n",
    "# Crossover (Single-point crossover)\n",
    "def crossover(parent1, parent2):\n",
    "    crossover_point = np.random.randint(1, len(parent1))\n",
    "    offspring_1 = np.concatenate((parent1[:crossover_point], parent2[crossover_point:]))\n",
    "    offspring_2 = np.concatenate((parent2[:crossover_point], parent1[crossover_point:]))\n",
    "    return offspring_1, offspring_2\n",
    "\n",
    "# Mutation (Swap Mutation)\n",
    "def mutate(chromosome, mutation_rate=0.01):\n",
    "    for i in range(len(chromosome)):\n",
    "        if np.random.rand() < mutation_rate:\n",
    "            j = np.random.randint(len(chromosome))\n",
    "            chromosome[i], chromosome[j] = chromosome[j], chromosome[i]\n",
    "\n",
    "# Define the fitness function to be optimized\n",
    "def fitness_function(chromosome):\n",
    "    lstm_units = [int(chromosome[i]*10) or default for i, default in enumerate([128, 64, 32])]\n",
    "\n",
    "    # Build the LSTM model\n",
    "    tf.keras.backend.clear_session()\n",
    "    model = Sequential()\n",
    "    for i, units in enumerate(lstm_units[:LSTM_Layer]):\n",
    "        model.add(LSTM(units, return_sequences=(i < LSTM_Layer - 1), input_shape=(WINDOW_SIZE, 1)))\n",
    "    model.add(Dense(1))\n",
    "    \n",
    "    # Compile and train the model\n",
    "    model.compile(loss='mean_squared_error',\n",
    "                  optimizer='adam')\n",
    "    model.fit(X_train, y_train,\n",
    "              epochs=10,\n",
    "              batch_size=32,\n",
    "              verbose=0,\n",
    "              validation_split=0.1)\n",
    "\n",
    "    # Evaluate the model\n",
    "    loss = model.evaluate(X_test, y_test)\n",
    "\n",
    "    # Return the negative value of the loss as the fitness score\n",
    "    return -loss"
   ]
  },
  {
   "cell_type": "code",
   "execution_count": 7,
   "id": "c3f7e72a",
   "metadata": {
    "execution": {
     "iopub.execute_input": "2023-10-16T07:28:25.702576Z",
     "iopub.status.busy": "2023-10-16T07:28:25.701854Z",
     "iopub.status.idle": "2023-10-16T07:28:25.706951Z",
     "shell.execute_reply": "2023-10-16T07:28:25.706149Z"
    },
    "papermill": {
     "duration": 0.010865,
     "end_time": "2023-10-16T07:28:25.708537",
     "exception": false,
     "start_time": "2023-10-16T07:28:25.697672",
     "status": "completed"
    },
    "tags": []
   },
   "outputs": [],
   "source": [
    "import typing\n",
    "from datetime import datetime\n",
    "\n",
    "def timer(start_time: datetime = None) -> \"typing.Union[datetime.datetime, str]\":\n",
    "    if not start_time:\n",
    "        start_time = datetime.now()\n",
    "        return start_time\n",
    "    elif start_time:\n",
    "        thour, temp_sec = divmod((datetime.now() - start_time).total_seconds(), 3600)\n",
    "        tmin, tsec = divmod(temp_sec, 60)\n",
    "        return \"%i hours %i minutes and %s seconds.\" % (\n",
    "            thour,\n",
    "            tmin,\n",
    "            round(tsec, 2),\n",
    "        )"
   ]
  },
  {
   "cell_type": "code",
   "execution_count": 8,
   "id": "274f6232",
   "metadata": {
    "execution": {
     "iopub.execute_input": "2023-10-16T07:28:25.716540Z",
     "iopub.status.busy": "2023-10-16T07:28:25.715983Z",
     "iopub.status.idle": "2023-10-16T07:48:22.197440Z",
     "shell.execute_reply": "2023-10-16T07:48:22.196615Z"
    },
    "papermill": {
     "duration": 1196.487228,
     "end_time": "2023-10-16T07:48:22.199146",
     "exception": false,
     "start_time": "2023-10-16T07:28:25.711918",
     "status": "completed"
    },
    "tags": []
   },
   "outputs": [
    {
     "name": "stdout",
     "output_type": "stream",
     "text": [
      "Generation - 1\n",
      "13/13 [==============================] - 0s 3ms/step - loss: 7.8387e-04\n",
      "13/13 [==============================] - 0s 3ms/step - loss: 0.0011\n",
      "13/13 [==============================] - 0s 3ms/step - loss: 0.0017\n",
      "13/13 [==============================] - 0s 3ms/step - loss: 6.3711e-04\n",
      "13/13 [==============================] - 0s 3ms/step - loss: 7.7156e-04\n",
      "Generation - 2\n",
      "13/13 [==============================] - 0s 3ms/step - loss: 0.0015\n",
      "13/13 [==============================] - 0s 3ms/step - loss: 0.0025\n",
      "13/13 [==============================] - 0s 3ms/step - loss: 9.2889e-04\n",
      "13/13 [==============================] - 0s 3ms/step - loss: 5.5818e-04\n",
      "13/13 [==============================] - 0s 4ms/step - loss: 9.9339e-04\n",
      "13/13 [==============================] - 0s 3ms/step - loss: 0.0043\n",
      "Generation - 3\n",
      "13/13 [==============================] - 0s 3ms/step - loss: 8.8241e-04\n",
      "13/13 [==============================] - 0s 3ms/step - loss: 7.2017e-04\n",
      "13/13 [==============================] - 0s 3ms/step - loss: 8.3255e-04\n",
      "13/13 [==============================] - 0s 3ms/step - loss: 5.6728e-04\n",
      "13/13 [==============================] - 0s 3ms/step - loss: 5.5323e-04\n",
      "13/13 [==============================] - 0s 3ms/step - loss: 0.0025\n",
      "Generation - 4\n",
      "13/13 [==============================] - 0s 3ms/step - loss: 0.0013\n",
      "13/13 [==============================] - 0s 3ms/step - loss: 0.0029\n",
      "13/13 [==============================] - 0s 3ms/step - loss: 0.0010\n",
      "13/13 [==============================] - 0s 3ms/step - loss: 0.0020\n",
      "13/13 [==============================] - 0s 3ms/step - loss: 0.0011\n",
      "13/13 [==============================] - 0s 3ms/step - loss: 0.0014\n",
      "Generation - 5\n",
      "13/13 [==============================] - 0s 3ms/step - loss: 6.1788e-04\n",
      "13/13 [==============================] - 0s 3ms/step - loss: 0.0030\n",
      "13/13 [==============================] - 0s 3ms/step - loss: 5.3289e-04\n",
      "13/13 [==============================] - 0s 3ms/step - loss: 5.8616e-04\n",
      "13/13 [==============================] - 0s 3ms/step - loss: 6.2603e-04\n",
      "13/13 [==============================] - 0s 3ms/step - loss: 0.0017\n",
      "Generation - 6\n",
      "13/13 [==============================] - 0s 3ms/step - loss: 0.0016\n",
      "13/13 [==============================] - 0s 3ms/step - loss: 0.0043\n",
      "13/13 [==============================] - 0s 3ms/step - loss: 9.1024e-04\n",
      "13/13 [==============================] - 0s 3ms/step - loss: 0.0025\n",
      "13/13 [==============================] - 0s 3ms/step - loss: 0.0011\n",
      "13/13 [==============================] - 0s 3ms/step - loss: 0.0010\n",
      "Generation - 7\n",
      "13/13 [==============================] - 0s 3ms/step - loss: 6.4550e-04\n",
      "13/13 [==============================] - 0s 3ms/step - loss: 5.7946e-04\n",
      "13/13 [==============================] - 0s 3ms/step - loss: 0.0011\n",
      "13/13 [==============================] - 0s 3ms/step - loss: 6.0796e-04\n",
      "13/13 [==============================] - 0s 3ms/step - loss: 5.5455e-04\n",
      "13/13 [==============================] - 0s 3ms/step - loss: 0.0012\n",
      "Generation - 8\n",
      "13/13 [==============================] - 0s 3ms/step - loss: 8.8830e-04\n",
      "13/13 [==============================] - 0s 3ms/step - loss: 0.0017\n",
      "13/13 [==============================] - 0s 4ms/step - loss: 0.0022\n",
      "13/13 [==============================] - 0s 4ms/step - loss: 9.2684e-04\n",
      "13/13 [==============================] - 0s 3ms/step - loss: 0.0014\n",
      "13/13 [==============================] - 0s 3ms/step - loss: 0.0024\n",
      "Generation - 9\n",
      "13/13 [==============================] - 0s 5ms/step - loss: 0.0011\n",
      "13/13 [==============================] - 0s 3ms/step - loss: 5.8503e-04\n",
      "13/13 [==============================] - 0s 4ms/step - loss: 0.0010\n",
      "13/13 [==============================] - 0s 3ms/step - loss: 0.0013\n",
      "13/13 [==============================] - 0s 6ms/step - loss: 7.5027e-04\n",
      "13/13 [==============================] - 0s 3ms/step - loss: 0.0048\n",
      "Generation - 10\n",
      "13/13 [==============================] - 0s 3ms/step - loss: 9.9002e-04\n",
      "13/13 [==============================] - 0s 3ms/step - loss: 0.0022\n",
      "13/13 [==============================] - 0s 4ms/step - loss: 7.0919e-04\n",
      "13/13 [==============================] - 0s 3ms/step - loss: 7.3406e-04\n",
      "13/13 [==============================] - 0s 3ms/step - loss: 7.5675e-04\n",
      "13/13 [==============================] - 0s 3ms/step - loss: 5.8778e-04\n",
      "Generation - 11\n",
      "13/13 [==============================] - 0s 3ms/step - loss: 5.8416e-04\n",
      "13/13 [==============================] - 0s 3ms/step - loss: 0.0015\n",
      "13/13 [==============================] - 0s 3ms/step - loss: 0.0021\n",
      "13/13 [==============================] - 0s 3ms/step - loss: 7.9055e-04\n",
      "13/13 [==============================] - 0s 4ms/step - loss: 6.5270e-04\n",
      "13/13 [==============================] - 0s 3ms/step - loss: 0.0017\n",
      "Generation - 12\n",
      "13/13 [==============================] - 0s 3ms/step - loss: 0.0013\n",
      "13/13 [==============================] - 0s 3ms/step - loss: 6.6443e-04\n",
      "13/13 [==============================] - 0s 4ms/step - loss: 0.0010\n",
      "13/13 [==============================] - 0s 3ms/step - loss: 0.0011\n",
      "13/13 [==============================] - 0s 3ms/step - loss: 5.4711e-04\n",
      "13/13 [==============================] - 0s 3ms/step - loss: 0.0011\n",
      "Generation - 13\n",
      "13/13 [==============================] - 0s 4ms/step - loss: 0.0018\n",
      "13/13 [==============================] - 0s 3ms/step - loss: 0.0014\n",
      "13/13 [==============================] - 0s 3ms/step - loss: 5.1705e-04\n",
      "13/13 [==============================] - 0s 3ms/step - loss: 0.0022\n",
      "13/13 [==============================] - 0s 4ms/step - loss: 0.0017\n",
      "13/13 [==============================] - 0s 4ms/step - loss: 9.2540e-04\n",
      "Generation - 14\n",
      "13/13 [==============================] - 0s 3ms/step - loss: 0.0022\n",
      "13/13 [==============================] - 0s 3ms/step - loss: 7.1666e-04\n",
      "13/13 [==============================] - 0s 5ms/step - loss: 0.0015\n",
      "13/13 [==============================] - 0s 3ms/step - loss: 5.6245e-04\n",
      "13/13 [==============================] - 0s 3ms/step - loss: 5.6790e-04\n",
      "13/13 [==============================] - 0s 3ms/step - loss: 5.8274e-04\n",
      "Generation - 15\n",
      "13/13 [==============================] - 0s 6ms/step - loss: 5.6666e-04\n",
      "13/13 [==============================] - 0s 3ms/step - loss: 5.7376e-04\n",
      "13/13 [==============================] - 0s 3ms/step - loss: 8.5982e-04\n",
      "13/13 [==============================] - 0s 3ms/step - loss: 0.0016\n",
      "13/13 [==============================] - 0s 4ms/step - loss: 0.0011\n",
      "13/13 [==============================] - 0s 3ms/step - loss: 0.0018\n",
      "Generation - 16\n",
      "13/13 [==============================] - 0s 3ms/step - loss: 0.0013\n",
      "13/13 [==============================] - 0s 3ms/step - loss: 0.0033\n",
      "13/13 [==============================] - 0s 3ms/step - loss: 6.4191e-04\n",
      "13/13 [==============================] - 0s 3ms/step - loss: 0.0013\n",
      "13/13 [==============================] - 0s 3ms/step - loss: 7.4350e-04\n",
      "13/13 [==============================] - 0s 3ms/step - loss: 0.0010\n",
      "Generation - 17\n",
      "13/13 [==============================] - 0s 4ms/step - loss: 0.0017\n",
      "13/13 [==============================] - 0s 3ms/step - loss: 7.1694e-04\n",
      "13/13 [==============================] - 0s 3ms/step - loss: 0.0011\n",
      "13/13 [==============================] - 0s 3ms/step - loss: 0.0011\n",
      "13/13 [==============================] - 0s 4ms/step - loss: 0.0021\n",
      "13/13 [==============================] - 0s 3ms/step - loss: 5.7010e-04\n",
      "Generation - 18\n",
      "13/13 [==============================] - 0s 3ms/step - loss: 6.7656e-04\n",
      "13/13 [==============================] - 0s 3ms/step - loss: 0.0021\n",
      "13/13 [==============================] - 0s 4ms/step - loss: 5.1643e-04\n",
      "13/13 [==============================] - 0s 3ms/step - loss: 0.0033\n",
      "13/13 [==============================] - 0s 4ms/step - loss: 7.3449e-04\n",
      "13/13 [==============================] - 0s 3ms/step - loss: 0.0023\n",
      "Generation - 19\n",
      "13/13 [==============================] - 0s 4ms/step - loss: 0.0030\n",
      "13/13 [==============================] - 0s 3ms/step - loss: 5.5577e-04\n",
      "13/13 [==============================] - 0s 3ms/step - loss: 6.3225e-04\n",
      "13/13 [==============================] - 0s 3ms/step - loss: 7.4204e-04\n",
      "13/13 [==============================] - 0s 4ms/step - loss: 0.0023\n",
      "13/13 [==============================] - 0s 3ms/step - loss: 0.0021\n",
      "Generation - 20\n",
      "13/13 [==============================] - 0s 3ms/step - loss: 7.2734e-04\n",
      "13/13 [==============================] - 0s 3ms/step - loss: 0.0021\n",
      "13/13 [==============================] - 0s 4ms/step - loss: 7.8794e-04\n",
      "13/13 [==============================] - 0s 4ms/step - loss: 0.0026\n",
      "13/13 [==============================] - 0s 3ms/step - loss: 0.0029\n",
      "13/13 [==============================] - 0s 3ms/step - loss: 0.0016\n",
      "Generation - 21\n",
      "13/13 [==============================] - 0s 3ms/step - loss: 6.4466e-04\n",
      "13/13 [==============================] - 0s 4ms/step - loss: 9.2274e-04\n",
      "13/13 [==============================] - 0s 3ms/step - loss: 0.0025\n",
      "13/13 [==============================] - 0s 3ms/step - loss: 0.0024\n",
      "13/13 [==============================] - 0s 3ms/step - loss: 0.0014\n",
      "13/13 [==============================] - 0s 4ms/step - loss: 9.8076e-04\n",
      "Generation - 22\n",
      "13/13 [==============================] - 0s 3ms/step - loss: 5.9614e-04\n",
      "13/13 [==============================] - 0s 3ms/step - loss: 7.5537e-04\n",
      "13/13 [==============================] - 0s 3ms/step - loss: 0.0020\n",
      "13/13 [==============================] - 0s 4ms/step - loss: 0.0019\n",
      "13/13 [==============================] - 0s 3ms/step - loss: 0.0013\n",
      "13/13 [==============================] - 0s 3ms/step - loss: 6.2617e-04\n",
      "Generation - 23\n",
      "13/13 [==============================] - 0s 4ms/step - loss: 0.0015\n",
      "13/13 [==============================] - 0s 4ms/step - loss: 0.0016\n",
      "13/13 [==============================] - 0s 3ms/step - loss: 7.5028e-04\n",
      "13/13 [==============================] - 0s 3ms/step - loss: 8.3859e-04\n",
      "13/13 [==============================] - 0s 4ms/step - loss: 5.4925e-04\n",
      "13/13 [==============================] - 0s 4ms/step - loss: 0.0035\n",
      "Generation - 24\n",
      "13/13 [==============================] - 0s 3ms/step - loss: 5.3822e-04\n",
      "13/13 [==============================] - 0s 3ms/step - loss: 5.7409e-04\n",
      "13/13 [==============================] - 0s 3ms/step - loss: 5.4639e-04\n",
      "13/13 [==============================] - 0s 4ms/step - loss: 0.0014\n",
      "13/13 [==============================] - 0s 3ms/step - loss: 0.0012\n",
      "13/13 [==============================] - 0s 3ms/step - loss: 0.0040\n",
      "Generation - 25\n",
      "13/13 [==============================] - 0s 5ms/step - loss: 0.0013\n",
      "13/13 [==============================] - 0s 4ms/step - loss: 0.0010\n",
      "13/13 [==============================] - 0s 3ms/step - loss: 0.0024\n",
      "13/13 [==============================] - 0s 3ms/step - loss: 0.0019\n",
      "13/13 [==============================] - 0s 5ms/step - loss: 7.8469e-04\n",
      "13/13 [==============================] - 0s 4ms/step - loss: 7.0503e-04\n"
     ]
    }
   ],
   "source": [
    "# Do not increase this value\n",
    "population_size = 5\n",
    "generations = 25\n",
    "\n",
    "time = timer(None)\n",
    "best_chromosome, best_fitness = genetic_algorithm(population_size, generations)\n",
    "time = timer(time)"
   ]
  },
  {
   "cell_type": "code",
   "execution_count": 9,
   "id": "16ff69b2",
   "metadata": {
    "execution": {
     "iopub.execute_input": "2023-10-16T07:48:22.235167Z",
     "iopub.status.busy": "2023-10-16T07:48:22.234864Z",
     "iopub.status.idle": "2023-10-16T07:48:22.240193Z",
     "shell.execute_reply": "2023-10-16T07:48:22.239166Z"
    },
    "papermill": {
     "duration": 0.025281,
     "end_time": "2023-10-16T07:48:22.242211",
     "exception": false,
     "start_time": "2023-10-16T07:48:22.216930",
     "status": "completed"
    },
    "tags": []
   },
   "outputs": [
    {
     "name": "stdout",
     "output_type": "stream",
     "text": [
      "Best Chromosome: [18 25 22]\n",
      "Best Fitness: -0.000705033540725708\n",
      "Time Taken: 0 hours 19 minutes and 56.48 seconds.\n"
     ]
    }
   ],
   "source": [
    "print(\"Best Chromosome:\", best_chromosome)\n",
    "print(\"Best Fitness:\", best_fitness)\n",
    "print(\"Time Taken:\", time)"
   ]
  },
  {
   "cell_type": "markdown",
   "id": "acf350af",
   "metadata": {
    "papermill": {
     "duration": 0.016523,
     "end_time": "2023-10-16T07:48:22.275984",
     "exception": false,
     "start_time": "2023-10-16T07:48:22.259461",
     "status": "completed"
    },
    "tags": []
   },
   "source": [
    "## Re-Training Model with Best Parameter"
   ]
  },
  {
   "cell_type": "code",
   "execution_count": 10,
   "id": "64701238",
   "metadata": {
    "execution": {
     "iopub.execute_input": "2023-10-16T07:48:22.310329Z",
     "iopub.status.busy": "2023-10-16T07:48:22.310041Z",
     "iopub.status.idle": "2023-10-16T07:48:22.801682Z",
     "shell.execute_reply": "2023-10-16T07:48:22.800893Z"
    },
    "papermill": {
     "duration": 0.515302,
     "end_time": "2023-10-16T07:48:22.807893",
     "exception": false,
     "start_time": "2023-10-16T07:48:22.292591",
     "status": "completed"
    },
    "tags": []
   },
   "outputs": [
    {
     "name": "stdout",
     "output_type": "stream",
     "text": [
      "Model: \"sequential_1\"\n",
      "_________________________________________________________________\n",
      " Layer (type)                Output Shape              Param #   \n",
      "=================================================================\n",
      " lstm_2 (LSTM)               (None, 10, 180)           131040    \n",
      "                                                                 \n",
      " lstm_3 (LSTM)               (None, 250)               431000    \n",
      "                                                                 \n",
      " dense_1 (Dense)             (None, 1)                 251       \n",
      "                                                                 \n",
      "=================================================================\n",
      "Total params: 562,291\n",
      "Trainable params: 562,291\n",
      "Non-trainable params: 0\n",
      "_________________________________________________________________\n"
     ]
    }
   ],
   "source": [
    "model = Sequential()\n",
    "for i, units in enumerate(best_chromosome[:LSTM_Layer]):\n",
    "    model.add(LSTM(units*10, return_sequences=(i < LSTM_Layer - 1), input_shape=(WINDOW_SIZE, 1)))\n",
    "model.add(Dense(1))\n",
    "\n",
    "model.summary()"
   ]
  },
  {
   "cell_type": "code",
   "execution_count": 11,
   "id": "e2d5c58e",
   "metadata": {
    "execution": {
     "iopub.execute_input": "2023-10-16T07:48:22.845940Z",
     "iopub.status.busy": "2023-10-16T07:48:22.845611Z",
     "iopub.status.idle": "2023-10-16T07:48:45.973451Z",
     "shell.execute_reply": "2023-10-16T07:48:45.972434Z"
    },
    "papermill": {
     "duration": 23.149548,
     "end_time": "2023-10-16T07:48:45.975776",
     "exception": false,
     "start_time": "2023-10-16T07:48:22.826228",
     "status": "completed"
    },
    "tags": []
   },
   "outputs": [
    {
     "name": "stdout",
     "output_type": "stream",
     "text": [
      "Epoch 1/50\n",
      "44/44 [==============================] - 4s 22ms/step - loss: 0.0103 - mae: 0.0652 - root_mean_squared_error: 0.1013 - val_loss: 4.0958e-04 - val_mae: 0.0167 - val_root_mean_squared_error: 0.0202\n",
      "Epoch 2/50\n",
      "44/44 [==============================] - 0s 7ms/step - loss: 0.0031 - mae: 0.0328 - root_mean_squared_error: 0.0557 - val_loss: 4.0064e-04 - val_mae: 0.0163 - val_root_mean_squared_error: 0.0200\n",
      "Epoch 3/50\n",
      "44/44 [==============================] - 0s 7ms/step - loss: 0.0031 - mae: 0.0327 - root_mean_squared_error: 0.0552 - val_loss: 5.1611e-04 - val_mae: 0.0187 - val_root_mean_squared_error: 0.0227\n",
      "Epoch 4/50\n",
      "44/44 [==============================] - 0s 7ms/step - loss: 0.0028 - mae: 0.0301 - root_mean_squared_error: 0.0530 - val_loss: 4.2964e-04 - val_mae: 0.0166 - val_root_mean_squared_error: 0.0207\n",
      "Epoch 5/50\n",
      "44/44 [==============================] - 0s 7ms/step - loss: 0.0028 - mae: 0.0301 - root_mean_squared_error: 0.0526 - val_loss: 3.4053e-04 - val_mae: 0.0149 - val_root_mean_squared_error: 0.0185\n",
      "Epoch 6/50\n",
      "44/44 [==============================] - 0s 7ms/step - loss: 0.0027 - mae: 0.0292 - root_mean_squared_error: 0.0516 - val_loss: 3.5294e-04 - val_mae: 0.0150 - val_root_mean_squared_error: 0.0188\n",
      "Epoch 7/50\n",
      "44/44 [==============================] - 0s 8ms/step - loss: 0.0027 - mae: 0.0301 - root_mean_squared_error: 0.0520 - val_loss: 3.4741e-04 - val_mae: 0.0148 - val_root_mean_squared_error: 0.0186\n",
      "Epoch 8/50\n",
      "44/44 [==============================] - 0s 7ms/step - loss: 0.0026 - mae: 0.0294 - root_mean_squared_error: 0.0509 - val_loss: 3.8650e-04 - val_mae: 0.0160 - val_root_mean_squared_error: 0.0197\n",
      "Epoch 9/50\n",
      "44/44 [==============================] - 0s 7ms/step - loss: 0.0024 - mae: 0.0280 - root_mean_squared_error: 0.0493 - val_loss: 3.0038e-04 - val_mae: 0.0138 - val_root_mean_squared_error: 0.0173\n",
      "Epoch 10/50\n",
      "44/44 [==============================] - 0s 7ms/step - loss: 0.0023 - mae: 0.0265 - root_mean_squared_error: 0.0482 - val_loss: 2.7188e-04 - val_mae: 0.0129 - val_root_mean_squared_error: 0.0165\n",
      "Epoch 11/50\n",
      "44/44 [==============================] - 0s 7ms/step - loss: 0.0023 - mae: 0.0271 - root_mean_squared_error: 0.0484 - val_loss: 5.2293e-04 - val_mae: 0.0190 - val_root_mean_squared_error: 0.0229\n",
      "Epoch 12/50\n",
      "44/44 [==============================] - 0s 7ms/step - loss: 0.0023 - mae: 0.0268 - root_mean_squared_error: 0.0478 - val_loss: 3.4599e-04 - val_mae: 0.0148 - val_root_mean_squared_error: 0.0186\n",
      "Epoch 13/50\n",
      "44/44 [==============================] - 0s 7ms/step - loss: 0.0022 - mae: 0.0262 - root_mean_squared_error: 0.0472 - val_loss: 3.1639e-04 - val_mae: 0.0140 - val_root_mean_squared_error: 0.0178\n",
      "Epoch 14/50\n",
      "44/44 [==============================] - 0s 7ms/step - loss: 0.0022 - mae: 0.0252 - root_mean_squared_error: 0.0465 - val_loss: 5.2070e-04 - val_mae: 0.0195 - val_root_mean_squared_error: 0.0228\n",
      "Epoch 15/50\n",
      "44/44 [==============================] - 0s 7ms/step - loss: 0.0024 - mae: 0.0296 - root_mean_squared_error: 0.0486 - val_loss: 3.4310e-04 - val_mae: 0.0152 - val_root_mean_squared_error: 0.0185\n",
      "Epoch 16/50\n",
      "44/44 [==============================] - 0s 7ms/step - loss: 0.0021 - mae: 0.0252 - root_mean_squared_error: 0.0461 - val_loss: 2.1049e-04 - val_mae: 0.0110 - val_root_mean_squared_error: 0.0145\n",
      "Epoch 17/50\n",
      "44/44 [==============================] - 0s 7ms/step - loss: 0.0021 - mae: 0.0250 - root_mean_squared_error: 0.0453 - val_loss: 2.0434e-04 - val_mae: 0.0107 - val_root_mean_squared_error: 0.0143\n",
      "Epoch 18/50\n",
      "44/44 [==============================] - 0s 8ms/step - loss: 0.0020 - mae: 0.0236 - root_mean_squared_error: 0.0445 - val_loss: 2.4045e-04 - val_mae: 0.0121 - val_root_mean_squared_error: 0.0155\n",
      "Epoch 19/50\n",
      "44/44 [==============================] - 0s 7ms/step - loss: 0.0020 - mae: 0.0236 - root_mean_squared_error: 0.0444 - val_loss: 1.9260e-04 - val_mae: 0.0102 - val_root_mean_squared_error: 0.0139\n",
      "Epoch 20/50\n",
      "44/44 [==============================] - 0s 7ms/step - loss: 0.0020 - mae: 0.0237 - root_mean_squared_error: 0.0447 - val_loss: 2.2218e-04 - val_mae: 0.0115 - val_root_mean_squared_error: 0.0149\n",
      "Epoch 21/50\n",
      "44/44 [==============================] - 0s 7ms/step - loss: 0.0020 - mae: 0.0232 - root_mean_squared_error: 0.0443 - val_loss: 1.8982e-04 - val_mae: 0.0103 - val_root_mean_squared_error: 0.0138\n",
      "Epoch 22/50\n",
      "44/44 [==============================] - 0s 7ms/step - loss: 0.0020 - mae: 0.0238 - root_mean_squared_error: 0.0444 - val_loss: 1.8440e-04 - val_mae: 0.0101 - val_root_mean_squared_error: 0.0136\n",
      "Epoch 23/50\n",
      "44/44 [==============================] - 0s 7ms/step - loss: 0.0020 - mae: 0.0242 - root_mean_squared_error: 0.0447 - val_loss: 2.0993e-04 - val_mae: 0.0113 - val_root_mean_squared_error: 0.0145\n",
      "Epoch 24/50\n",
      "44/44 [==============================] - 0s 7ms/step - loss: 0.0020 - mae: 0.0231 - root_mean_squared_error: 0.0442 - val_loss: 4.7036e-04 - val_mae: 0.0189 - val_root_mean_squared_error: 0.0217\n",
      "Epoch 25/50\n",
      "44/44 [==============================] - 0s 7ms/step - loss: 0.0021 - mae: 0.0254 - root_mean_squared_error: 0.0456 - val_loss: 4.0756e-04 - val_mae: 0.0174 - val_root_mean_squared_error: 0.0202\n",
      "Epoch 26/50\n",
      "44/44 [==============================] - 0s 8ms/step - loss: 0.0019 - mae: 0.0221 - root_mean_squared_error: 0.0434 - val_loss: 1.9362e-04 - val_mae: 0.0106 - val_root_mean_squared_error: 0.0139\n",
      "Epoch 27/50\n",
      "44/44 [==============================] - 0s 7ms/step - loss: 0.0021 - mae: 0.0262 - root_mean_squared_error: 0.0464 - val_loss: 1.7667e-04 - val_mae: 0.0099 - val_root_mean_squared_error: 0.0133\n",
      "Epoch 28/50\n",
      "44/44 [==============================] - 0s 7ms/step - loss: 0.0019 - mae: 0.0223 - root_mean_squared_error: 0.0438 - val_loss: 1.7750e-04 - val_mae: 0.0099 - val_root_mean_squared_error: 0.0133\n",
      "Epoch 29/50\n",
      "44/44 [==============================] - 0s 7ms/step - loss: 0.0019 - mae: 0.0223 - root_mean_squared_error: 0.0436 - val_loss: 2.2936e-04 - val_mae: 0.0117 - val_root_mean_squared_error: 0.0151\n",
      "Epoch 30/50\n",
      "44/44 [==============================] - 0s 7ms/step - loss: 0.0019 - mae: 0.0225 - root_mean_squared_error: 0.0436 - val_loss: 2.5731e-04 - val_mae: 0.0130 - val_root_mean_squared_error: 0.0160\n",
      "Epoch 31/50\n",
      "44/44 [==============================] - 0s 7ms/step - loss: 0.0021 - mae: 0.0261 - root_mean_squared_error: 0.0455 - val_loss: 3.2208e-04 - val_mae: 0.0152 - val_root_mean_squared_error: 0.0179\n",
      "Epoch 32/50\n",
      "44/44 [==============================] - 0s 7ms/step - loss: 0.0021 - mae: 0.0251 - root_mean_squared_error: 0.0455 - val_loss: 1.7926e-04 - val_mae: 0.0099 - val_root_mean_squared_error: 0.0134\n",
      "Epoch 33/50\n",
      "44/44 [==============================] - 0s 7ms/step - loss: 0.0019 - mae: 0.0229 - root_mean_squared_error: 0.0437 - val_loss: 5.0039e-04 - val_mae: 0.0196 - val_root_mean_squared_error: 0.0224\n",
      "Epoch 34/50\n",
      "44/44 [==============================] - 0s 7ms/step - loss: 0.0022 - mae: 0.0274 - root_mean_squared_error: 0.0474 - val_loss: 1.9039e-04 - val_mae: 0.0105 - val_root_mean_squared_error: 0.0138\n",
      "Epoch 35/50\n",
      "44/44 [==============================] - 0s 7ms/step - loss: 0.0020 - mae: 0.0251 - root_mean_squared_error: 0.0449 - val_loss: 4.5758e-04 - val_mae: 0.0184 - val_root_mean_squared_error: 0.0214\n",
      "Epoch 36/50\n",
      "44/44 [==============================] - 0s 7ms/step - loss: 0.0020 - mae: 0.0246 - root_mean_squared_error: 0.0451 - val_loss: 2.3280e-04 - val_mae: 0.0120 - val_root_mean_squared_error: 0.0153\n",
      "Epoch 37/50\n",
      "44/44 [==============================] - 0s 7ms/step - loss: 0.0020 - mae: 0.0238 - root_mean_squared_error: 0.0443 - val_loss: 3.4043e-04 - val_mae: 0.0157 - val_root_mean_squared_error: 0.0185\n",
      "Epoch 38/50\n",
      "44/44 [==============================] - 0s 7ms/step - loss: 0.0020 - mae: 0.0237 - root_mean_squared_error: 0.0445 - val_loss: 2.1708e-04 - val_mae: 0.0116 - val_root_mean_squared_error: 0.0147\n",
      "Epoch 39/50\n",
      "44/44 [==============================] - 0s 7ms/step - loss: 0.0019 - mae: 0.0221 - root_mean_squared_error: 0.0433 - val_loss: 1.8221e-04 - val_mae: 0.0100 - val_root_mean_squared_error: 0.0135\n",
      "Epoch 40/50\n",
      "44/44 [==============================] - 0s 7ms/step - loss: 0.0020 - mae: 0.0238 - root_mean_squared_error: 0.0447 - val_loss: 2.2769e-04 - val_mae: 0.0117 - val_root_mean_squared_error: 0.0151\n",
      "Epoch 41/50\n",
      "44/44 [==============================] - 0s 7ms/step - loss: 0.0021 - mae: 0.0257 - root_mean_squared_error: 0.0459 - val_loss: 2.2363e-04 - val_mae: 0.0118 - val_root_mean_squared_error: 0.0150\n",
      "Epoch 42/50\n",
      "44/44 [==============================] - 0s 7ms/step - loss: 0.0019 - mae: 0.0230 - root_mean_squared_error: 0.0437 - val_loss: 2.2574e-04 - val_mae: 0.0117 - val_root_mean_squared_error: 0.0150\n",
      "Epoch 43/50\n",
      "44/44 [==============================] - 0s 7ms/step - loss: 0.0020 - mae: 0.0230 - root_mean_squared_error: 0.0442 - val_loss: 6.6663e-04 - val_mae: 0.0231 - val_root_mean_squared_error: 0.0258\n",
      "Epoch 44/50\n",
      "44/44 [==============================] - 0s 7ms/step - loss: 0.0019 - mae: 0.0230 - root_mean_squared_error: 0.0439 - val_loss: 2.4151e-04 - val_mae: 0.0123 - val_root_mean_squared_error: 0.0155\n",
      "Epoch 45/50\n",
      "44/44 [==============================] - 0s 7ms/step - loss: 0.0019 - mae: 0.0223 - root_mean_squared_error: 0.0436 - val_loss: 2.6031e-04 - val_mae: 0.0132 - val_root_mean_squared_error: 0.0161\n",
      "Epoch 46/50\n",
      "44/44 [==============================] - 0s 7ms/step - loss: 0.0019 - mae: 0.0226 - root_mean_squared_error: 0.0438 - val_loss: 4.2683e-04 - val_mae: 0.0176 - val_root_mean_squared_error: 0.0207\n",
      "Epoch 47/50\n",
      "44/44 [==============================] - 0s 7ms/step - loss: 0.0020 - mae: 0.0239 - root_mean_squared_error: 0.0443 - val_loss: 5.9430e-04 - val_mae: 0.0216 - val_root_mean_squared_error: 0.0244\n",
      "Epoch 48/50\n",
      "44/44 [==============================] - 0s 7ms/step - loss: 0.0019 - mae: 0.0226 - root_mean_squared_error: 0.0435 - val_loss: 3.7516e-04 - val_mae: 0.0166 - val_root_mean_squared_error: 0.0194\n",
      "Epoch 49/50\n",
      "44/44 [==============================] - 0s 7ms/step - loss: 0.0019 - mae: 0.0220 - root_mean_squared_error: 0.0434 - val_loss: 3.2225e-04 - val_mae: 0.0147 - val_root_mean_squared_error: 0.0180\n",
      "Epoch 50/50\n",
      "44/44 [==============================] - 0s 7ms/step - loss: 0.0021 - mae: 0.0256 - root_mean_squared_error: 0.0458 - val_loss: 2.0650e-04 - val_mae: 0.0112 - val_root_mean_squared_error: 0.0144\n"
     ]
    }
   ],
   "source": [
    "model.compile(loss='mean_squared_error',\n",
    "              metrics=['mae', RootMeanSquaredError()],\n",
    "              optimizer='adam')\n",
    "\n",
    "history = model.fit(X_train,\n",
    "                    y_train,\n",
    "                    epochs=50,\n",
    "                    batch_size=32,\n",
    "                    validation_split=0.1)"
   ]
  },
  {
   "cell_type": "code",
   "execution_count": 12,
   "id": "26c594ea",
   "metadata": {
    "execution": {
     "iopub.execute_input": "2023-10-16T07:48:46.043660Z",
     "iopub.status.busy": "2023-10-16T07:48:46.043338Z",
     "iopub.status.idle": "2023-10-16T07:48:46.163305Z",
     "shell.execute_reply": "2023-10-16T07:48:46.162184Z"
    },
    "papermill": {
     "duration": 0.156144,
     "end_time": "2023-10-16T07:48:46.165504",
     "exception": false,
     "start_time": "2023-10-16T07:48:46.009360",
     "status": "completed"
    },
    "tags": []
   },
   "outputs": [
    {
     "name": "stdout",
     "output_type": "stream",
     "text": [
      "13/13 [==============================] - 0s 4ms/step - loss: 5.9213e-04 - mae: 0.0190 - root_mean_squared_error: 0.0243\n"
     ]
    },
    {
     "data": {
      "text/plain": [
       "[0.0005921272095292807, 0.01900159940123558, 0.024333663284778595]"
      ]
     },
     "execution_count": 12,
     "metadata": {},
     "output_type": "execute_result"
    }
   ],
   "source": [
    "model.evaluate(X_test, y_test)"
   ]
  },
  {
   "cell_type": "markdown",
   "id": "481bc273",
   "metadata": {
    "papermill": {
     "duration": 0.031882,
     "end_time": "2023-10-16T07:48:46.231780",
     "exception": false,
     "start_time": "2023-10-16T07:48:46.199898",
     "status": "completed"
    },
    "tags": []
   },
   "source": [
    "## Model Evaluation"
   ]
  },
  {
   "cell_type": "code",
   "execution_count": 13,
   "id": "4e17b4af",
   "metadata": {
    "execution": {
     "iopub.execute_input": "2023-10-16T07:48:46.297575Z",
     "iopub.status.busy": "2023-10-16T07:48:46.297266Z",
     "iopub.status.idle": "2023-10-16T07:48:46.569751Z",
     "shell.execute_reply": "2023-10-16T07:48:46.568861Z"
    },
    "papermill": {
     "duration": 0.307799,
     "end_time": "2023-10-16T07:48:46.571886",
     "exception": false,
     "start_time": "2023-10-16T07:48:46.264087",
     "status": "completed"
    },
    "tags": []
   },
   "outputs": [
    {
     "data": {
      "image/png": "[encoded data removed]",
      "text/plain": [
       "<Figure size 640x480 with 1 Axes>"
      ]
     },
     "metadata": {},
     "output_type": "display_data"
    }
   ],
   "source": [
    "plt.plot(history.history['loss'])\n",
    "plt.plot(history.history['val_loss'])\n",
    "plt.title(f'{SHEET_NAME[2]} Model Loss', fontsize=15)\n",
    "plt.ylabel('loss')\n",
    "plt.xlabel('epoch')\n",
    "plt.legend(['train', 'test'])\n",
    "plt.show()"
   ]
  },
  {
   "cell_type": "code",
   "execution_count": 14,
   "id": "638ea467",
   "metadata": {
    "execution": {
     "iopub.execute_input": "2023-10-16T07:48:46.639839Z",
     "iopub.status.busy": "2023-10-16T07:48:46.639500Z",
     "iopub.status.idle": "2023-10-16T07:48:47.378674Z",
     "shell.execute_reply": "2023-10-16T07:48:47.377759Z"
    },
    "papermill": {
     "duration": 0.774822,
     "end_time": "2023-10-16T07:48:47.380824",
     "exception": false,
     "start_time": "2023-10-16T07:48:46.606002",
     "status": "completed"
    },
    "tags": []
   },
   "outputs": [
    {
     "name": "stdout",
     "output_type": "stream",
     "text": [
      "13/13 [==============================] - 1s 3ms/step\n"
     ]
    }
   ],
   "source": [
    "y_hat = model.predict(X_test)\n",
    "y_test_inverse = scaler.inverse_transform(y_test)\n",
    "y_hat_inverse = scaler.inverse_transform(y_hat)"
   ]
  },
  {
   "cell_type": "code",
   "execution_count": 15,
   "id": "92da1db0",
   "metadata": {
    "execution": {
     "iopub.execute_input": "2023-10-16T07:48:47.448925Z",
     "iopub.status.busy": "2023-10-16T07:48:47.448329Z",
     "iopub.status.idle": "2023-10-16T07:48:47.732312Z",
     "shell.execute_reply": "2023-10-16T07:48:47.731392Z"
    },
    "papermill": {
     "duration": 0.319939,
     "end_time": "2023-10-16T07:48:47.734339",
     "exception": false,
     "start_time": "2023-10-16T07:48:47.414400",
     "status": "completed"
    },
    "tags": []
   },
   "outputs": [
    {
     "data": {
      "image/png": "[encoded data removed]",
      "text/plain": [
       "<Figure size 640x480 with 1 Axes>"
      ]
     },
     "metadata": {},
     "output_type": "display_data"
    }
   ],
   "source": [
    "plt.plot(y_test_inverse, label=\"Actual Price\", color='green')\n",
    "plt.plot(y_hat_inverse, label=\"Predicted Price\", color='red')\n",
    " \n",
    "plt.title(f'{SHEET_NAME[2]} Price Prediction\\nLSTM = {LSTM_Layer}, Split Data = {SPLIT}, Window = {WINDOW_SIZE}', fontsize=15)\n",
    "plt.xlabel('Time [days]')\n",
    "plt.ylabel('Price')\n",
    "plt.legend(loc='best')\n",
    " \n",
    "plt.show()"
   ]
  },
  {
   "cell_type": "code",
   "execution_count": 16,
   "id": "f14d9db7",
   "metadata": {
    "execution": {
     "iopub.execute_input": "2023-10-16T07:48:47.803251Z",
     "iopub.status.busy": "2023-10-16T07:48:47.802973Z",
     "iopub.status.idle": "2023-10-16T07:48:47.811035Z",
     "shell.execute_reply": "2023-10-16T07:48:47.810089Z"
    },
    "papermill": {
     "duration": 0.04409,
     "end_time": "2023-10-16T07:48:47.812757",
     "exception": false,
     "start_time": "2023-10-16T07:48:47.768667",
     "status": "completed"
    },
    "tags": []
   },
   "outputs": [
    {
     "name": "stdout",
     "output_type": "stream",
     "text": [
      "LSTM = 2, Split Data = 0.8, Window = 10\n",
      "\n",
      "----------------- Normalized Error -----------------\n",
      "Mean Absolute Error for prediction : 0.019001599578113856\n",
      "Mean Squared Error for prediction : 0.0005921272247015314\n",
      "Root Mean Squared Error for prediction : 0.024333664432253755\n",
      "\n",
      "----------------- Actual Error -----------------\n",
      "Mean Absolute Error for prediction : 40.064036157852534\n",
      "Mean Squared Error for prediction : 2632.353269420494\n",
      "Root Mean Squared Error for prediction : 51.30646420696416\n"
     ]
    }
   ],
   "source": [
    "def matrices(actual, predicted):\n",
    "    mse = mean_squared_error(actual, predicted)\n",
    "    mae = mean_absolute_error(actual, predicted)\n",
    "    rmse = np.sqrt(mse)\n",
    "    print(\"Mean Absolute Error for prediction :\", mae)\n",
    "    print(\"Mean Squared Error for prediction :\", mse)\n",
    "    print(\"Root Mean Squared Error for prediction :\", rmse)\n",
    "    return mae, mse, rmse\n",
    "\n",
    "print(f\"LSTM = {LSTM_Layer}, Split Data = {SPLIT}, Window = {WINDOW_SIZE}\")\n",
    "print(\"\\n----------------- Normalized Error -----------------\")\n",
    "mae, mse, rmse = matrices(y_test, y_hat)\n",
    "print(\"\\n----------------- Actual Error -----------------\")\n",
    "mae_inverse, mse_inverse, rmse_inverse = matrices(y_test_inverse, y_hat_inverse)"
   ]
  }
 ],
 "metadata": {
  "kernelspec": {
   "display_name": "Python 3",
   "language": "python",
   "name": "python3"
  },
  "language_info": {
   "codemirror_mode": {
    "name": "ipython",
    "version": 3
   },
   "file_extension": ".py",
   "mimetype": "text/x-python",
   "name": "python",
   "nbconvert_exporter": "python",
   "pygments_lexer": "ipython3",
   "version": "3.10.10"
  },
  "papermill": {
   "default_parameters": {},
   "duration": 1244.055047,
   "end_time": "2023-10-16T07:48:51.032937",
   "environment_variables": {},
   "exception": null,
   "input_path": "__notebook__.ipynb",
   "output_path": "__notebook__.ipynb",
   "parameters": {},
   "start_time": "2023-10-16T07:28:06.977890",
   "version": "2.4.0"
  }
 },
 "nbformat": 4,
 "nbformat_minor": 5
}
