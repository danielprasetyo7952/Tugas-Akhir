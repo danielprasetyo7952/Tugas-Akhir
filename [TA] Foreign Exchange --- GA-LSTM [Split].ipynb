{
 "cells": [
  {
   "cell_type": "code",
   "execution_count": 1,
   "id": "973bf8a1",
   "metadata": {
    "execution": {
     "iopub.execute_input": "2023-10-16T06:44:37.653333Z",
     "iopub.status.busy": "2023-10-16T06:44:37.652335Z",
     "iopub.status.idle": "2023-10-16T06:44:46.340610Z",
     "shell.execute_reply": "2023-10-16T06:44:46.339695Z"
    },
    "papermill": {
     "duration": 8.695542,
     "end_time": "2023-10-16T06:44:46.342694",
     "exception": false,
     "start_time": "2023-10-16T06:44:37.647152",
     "status": "completed"
    },
    "tags": []
   },
   "outputs": [
    {
     "name": "stderr",
     "output_type": "stream",
     "text": [
      "/opt/conda/lib/python3.10/site-packages/tensorflow_io/python/ops/__init__.py:98: UserWarning: unable to load libtensorflow_io_plugins.so: unable to open file: libtensorflow_io_plugins.so, from paths: ['/opt/conda/lib/python3.10/site-packages/tensorflow_io/python/ops/libtensorflow_io_plugins.so']\n",
      "caused by: ['/opt/conda/lib/python3.10/site-packages/tensorflow_io/python/ops/libtensorflow_io_plugins.so: undefined symbol: _ZN3tsl6StatusC1EN10tensorflow5error4CodeESt17basic_string_viewIcSt11char_traitsIcEENS_14SourceLocationE']\n",
      "  warnings.warn(f\"unable to load libtensorflow_io_plugins.so: {e}\")\n",
      "/opt/conda/lib/python3.10/site-packages/tensorflow_io/python/ops/__init__.py:104: UserWarning: file system plugins are not loaded: unable to open file: libtensorflow_io.so, from paths: ['/opt/conda/lib/python3.10/site-packages/tensorflow_io/python/ops/libtensorflow_io.so']\n",
      "caused by: ['/opt/conda/lib/python3.10/site-packages/tensorflow_io/python/ops/libtensorflow_io.so: undefined symbol: _ZTVN10tensorflow13GcsFileSystemE']\n",
      "  warnings.warn(f\"file system plugins are not loaded: {e}\")\n"
     ]
    }
   ],
   "source": [
    "import pandas as pd\n",
    "import numpy as np\n",
    "import tensorflow as tf\n",
    "import matplotlib.pyplot as plt\n",
    "import datetime, pytz\n",
    "\n",
    "from keras.models import Sequential\n",
    "from keras.layers import LSTM, Dense\n",
    "from keras.metrics import RootMeanSquaredError\n",
    "\n",
    "from sklearn.preprocessing import MinMaxScaler\n",
    "from sklearn.metrics import mean_squared_error, mean_absolute_error"
   ]
  },
  {
   "cell_type": "markdown",
   "id": "159873ff",
   "metadata": {
    "papermill": {
     "duration": 0.003143,
     "end_time": "2023-10-16T06:44:46.349629",
     "exception": false,
     "start_time": "2023-10-16T06:44:46.346486",
     "status": "completed"
    },
    "tags": []
   },
   "source": [
    "## Hyperparameter"
   ]
  },
  {
   "cell_type": "code",
   "execution_count": 2,
   "id": "c89e7a4d",
   "metadata": {
    "execution": {
     "iopub.execute_input": "2023-10-16T06:44:46.357232Z",
     "iopub.status.busy": "2023-10-16T06:44:46.356697Z",
     "iopub.status.idle": "2023-10-16T06:44:46.361025Z",
     "shell.execute_reply": "2023-10-16T06:44:46.360174Z"
    },
    "papermill": {
     "duration": 0.009974,
     "end_time": "2023-10-16T06:44:46.362676",
     "exception": false,
     "start_time": "2023-10-16T06:44:46.352702",
     "status": "completed"
    },
    "tags": []
   },
   "outputs": [],
   "source": [
    "SEQ_LEN = 6 # 6, 11, 21\n",
    "SPLIT = 0.80 # 0.80, 0.90\n",
    "LSTM_Layer = 1 # 1, 2, 3\n",
    "WINDOW_SIZE = SEQ_LEN - 1"
   ]
  },
  {
   "cell_type": "code",
   "execution_count": 3,
   "id": "98ecb276",
   "metadata": {
    "execution": {
     "iopub.execute_input": "2023-10-16T06:44:46.369994Z",
     "iopub.status.busy": "2023-10-16T06:44:46.369753Z",
     "iopub.status.idle": "2023-10-16T06:44:47.586649Z",
     "shell.execute_reply": "2023-10-16T06:44:47.585602Z"
    },
    "papermill": {
     "duration": 1.222755,
     "end_time": "2023-10-16T06:44:47.588508",
     "exception": false,
     "start_time": "2023-10-16T06:44:46.365753",
     "status": "completed"
    },
    "tags": []
   },
   "outputs": [
    {
     "name": "stdout",
     "output_type": "stream",
     "text": [
      "<class 'pandas.core.frame.DataFrame'>\n",
      "RangeIndex: 1959 entries, 0 to 1958\n",
      "Data columns (total 2 columns):\n",
      " #   Column  Non-Null Count  Dtype         \n",
      "---  ------  --------------  -----         \n",
      " 0   Date    1959 non-null   datetime64[ns]\n",
      " 1   Close   1959 non-null   float64       \n",
      "dtypes: datetime64[ns](1), float64(1)\n",
      "memory usage: 30.7 KB\n"
     ]
    }
   ],
   "source": [
    "# Google Spreadsheet ID\n",
    "SHEET_ID = '1JDNv_mArl-GPIpxuWS5GxgVEwvjXocS1MrXGc6TYs8M'\n",
    "SHEET_NAME = ['USD/IDR', 'EUR/IDR', 'SGD/IDR']\n",
    "\n",
    "url = f'https://docs.google.com/spreadsheets/d/{SHEET_ID}/gviz/tq?tqx=out:csv&sheet={SHEET_NAME[2]}'\n",
    "data = pd.read_csv(url)\n",
    "\n",
    "# Convert Date columns to datetime format\n",
    "data['Date'] = pd.to_datetime(data['Date'], format='%d/%m/%Y %H:%M:%S')\n",
    "data.info()"
   ]
  },
  {
   "cell_type": "markdown",
   "id": "a09d8e6c",
   "metadata": {
    "papermill": {
     "duration": 0.003163,
     "end_time": "2023-10-16T06:44:47.595151",
     "exception": false,
     "start_time": "2023-10-16T06:44:47.591988",
     "status": "completed"
    },
    "tags": []
   },
   "source": [
    "## Preprocessing"
   ]
  },
  {
   "cell_type": "code",
   "execution_count": 4,
   "id": "d9ad8a35",
   "metadata": {
    "execution": {
     "iopub.execute_input": "2023-10-16T06:44:47.603006Z",
     "iopub.status.busy": "2023-10-16T06:44:47.602498Z",
     "iopub.status.idle": "2023-10-16T06:44:47.610275Z",
     "shell.execute_reply": "2023-10-16T06:44:47.609328Z"
    },
    "papermill": {
     "duration": 0.013466,
     "end_time": "2023-10-16T06:44:47.611859",
     "exception": false,
     "start_time": "2023-10-16T06:44:47.598393",
     "status": "completed"
    },
    "tags": []
   },
   "outputs": [
    {
     "data": {
      "text/plain": [
       "(1959, 1)"
      ]
     },
     "execution_count": 4,
     "metadata": {},
     "output_type": "execute_result"
    }
   ],
   "source": [
    "scaler = MinMaxScaler()\n",
    "close_price = data.Close.values.reshape(-1, 1)\n",
    "scaled_close = scaler.fit_transform(close_price)\n",
    "scaled_close.shape"
   ]
  },
  {
   "cell_type": "code",
   "execution_count": 5,
   "id": "444fd7a6",
   "metadata": {
    "execution": {
     "iopub.execute_input": "2023-10-16T06:44:47.619944Z",
     "iopub.status.busy": "2023-10-16T06:44:47.619242Z",
     "iopub.status.idle": "2023-10-16T06:44:47.626872Z",
     "shell.execute_reply": "2023-10-16T06:44:47.626101Z"
    },
    "papermill": {
     "duration": 0.013361,
     "end_time": "2023-10-16T06:44:47.628510",
     "exception": false,
     "start_time": "2023-10-16T06:44:47.615149",
     "status": "completed"
    },
    "tags": []
   },
   "outputs": [],
   "source": [
    "def to_sequences(data, seq_len):\n",
    "    d = []\n",
    "    for index in range(len(data) - seq_len):\n",
    "        d.append(data[index: index + seq_len])\n",
    "    return np.array(d)\n",
    "\n",
    "def preprocess(data_raw, seq_len, train_split):\n",
    "    data = to_sequences(data_raw, seq_len)\n",
    "    num_train = int(train_split * data.shape[0])\n",
    "    X_train = data[:num_train, :-1, :]\n",
    "    y_train = data[:num_train, -1, :]\n",
    "    X_test = data[num_train:, :-1, :]\n",
    "    y_test = data[num_train:, -1, :]\n",
    "    return X_train, y_train, X_test, y_test\n",
    "\n",
    "X_train, y_train, X_test, y_test = preprocess(scaled_close, SEQ_LEN, train_split = SPLIT)"
   ]
  },
  {
   "cell_type": "markdown",
   "id": "5ac167cc",
   "metadata": {
    "papermill": {
     "duration": 0.003161,
     "end_time": "2023-10-16T06:44:47.634999",
     "exception": false,
     "start_time": "2023-10-16T06:44:47.631838",
     "status": "completed"
    },
    "tags": []
   },
   "source": [
    "## Genetic Algorithm"
   ]
  },
  {
   "cell_type": "code",
   "execution_count": 6,
   "id": "7222cd9d",
   "metadata": {
    "execution": {
     "iopub.execute_input": "2023-10-16T06:44:47.643037Z",
     "iopub.status.busy": "2023-10-16T06:44:47.642812Z",
     "iopub.status.idle": "2023-10-16T06:44:47.653398Z",
     "shell.execute_reply": "2023-10-16T06:44:47.652439Z"
    },
    "papermill": {
     "duration": 0.016498,
     "end_time": "2023-10-16T06:44:47.655009",
     "exception": false,
     "start_time": "2023-10-16T06:44:47.638511",
     "status": "completed"
    },
    "tags": []
   },
   "outputs": [],
   "source": [
    "# Genetic Algorithm\n",
    "def genetic_algorithm(population_size, generations):\n",
    "    population = np.random.randint(1, high=26, size=(population_size, 3))\n",
    "    \n",
    "    for generation in range(generations):\n",
    "        print(f\"Generation - {generation + 1}\")\n",
    "        fitness_scores = np.array([fitness_function(chromosome) for chromosome in population])\n",
    "        best_chromosome = population[np.argmax(fitness_scores)]\n",
    "        best_fitness = np.max(fitness_scores)\n",
    "        \n",
    "        new_population = []\n",
    "        \n",
    "        while len(new_population) < population_size:\n",
    "            parent1 = selection(population, fitness_scores)\n",
    "            parent2 = selection(population, fitness_scores)\n",
    "            offspring_1, offspring_2 = crossover(parent1, parent2)\n",
    "            mutate(offspring_1)\n",
    "            mutate(offspring_2)\n",
    "            new_population.append(offspring_1)\n",
    "            new_population.append(offspring_2)\n",
    "        \n",
    "        population = np.array(new_population)\n",
    "    \n",
    "    return best_chromosome, best_fitness\n",
    "\n",
    "# Selection (Tournament selection)\n",
    "def selection(population, fitness_scores, tournament_size=3):\n",
    "    indices = np.random.randint(len(population), size=tournament_size)\n",
    "    tournament = population[indices]\n",
    "    tournament_fitness = fitness_scores[indices]\n",
    "    return tournament[np.argmax(tournament_fitness)]\n",
    "\n",
    "# Crossover (Single-point crossover)\n",
    "def crossover(parent1, parent2):\n",
    "    crossover_point = np.random.randint(1, len(parent1))\n",
    "    offspring_1 = np.concatenate((parent1[:crossover_point], parent2[crossover_point:]))\n",
    "    offspring_2 = np.concatenate((parent2[:crossover_point], parent1[crossover_point:]))\n",
    "    return offspring_1, offspring_2\n",
    "\n",
    "# Mutation (Swap Mutation)\n",
    "def mutate(chromosome, mutation_rate=0.01):\n",
    "    for i in range(len(chromosome)):\n",
    "        if np.random.rand() < mutation_rate:\n",
    "            j = np.random.randint(len(chromosome))\n",
    "            chromosome[i], chromosome[j] = chromosome[j], chromosome[i]\n",
    "\n",
    "# Define the fitness function to be optimized\n",
    "def fitness_function(chromosome):\n",
    "    lstm_units = [int(chromosome[i]*10) or default for i, default in enumerate([128, 64, 32])]\n",
    "\n",
    "    # Build the LSTM model\n",
    "    tf.keras.backend.clear_session()\n",
    "    model = Sequential()\n",
    "    for i, units in enumerate(lstm_units[:LSTM_Layer]):\n",
    "        model.add(LSTM(units, return_sequences=(i < LSTM_Layer - 1), input_shape=(WINDOW_SIZE, 1)))\n",
    "    model.add(Dense(1))\n",
    "    \n",
    "    # Compile and train the model\n",
    "    model.compile(loss='mean_squared_error',\n",
    "                  optimizer='adam')\n",
    "    model.fit(X_train, y_train,\n",
    "              epochs=10,\n",
    "              batch_size=32,\n",
    "              verbose=0,\n",
    "              validation_split=0.1)\n",
    "\n",
    "    # Evaluate the model\n",
    "    loss = model.evaluate(X_test, y_test)\n",
    "\n",
    "    # Return the negative value of the loss as the fitness score\n",
    "    return -loss"
   ]
  },
  {
   "cell_type": "code",
   "execution_count": 7,
   "id": "27c8735d",
   "metadata": {
    "execution": {
     "iopub.execute_input": "2023-10-16T06:44:47.663464Z",
     "iopub.status.busy": "2023-10-16T06:44:47.662989Z",
     "iopub.status.idle": "2023-10-16T06:44:47.667585Z",
     "shell.execute_reply": "2023-10-16T06:44:47.666679Z"
    },
    "papermill": {
     "duration": 0.010696,
     "end_time": "2023-10-16T06:44:47.669156",
     "exception": false,
     "start_time": "2023-10-16T06:44:47.658460",
     "status": "completed"
    },
    "tags": []
   },
   "outputs": [],
   "source": [
    "import typing\n",
    "from datetime import datetime\n",
    "\n",
    "def timer(start_time: datetime = None) -> \"typing.Union[datetime.datetime, str]\":\n",
    "    if not start_time:\n",
    "        start_time = datetime.now()\n",
    "        return start_time\n",
    "    elif start_time:\n",
    "        thour, temp_sec = divmod((datetime.now() - start_time).total_seconds(), 3600)\n",
    "        tmin, tsec = divmod(temp_sec, 60)\n",
    "        return \"%i hours %i minutes and %s seconds.\" % (\n",
    "            thour,\n",
    "            tmin,\n",
    "            round(tsec, 2),\n",
    "        )"
   ]
  },
  {
   "cell_type": "code",
   "execution_count": 8,
   "id": "18309575",
   "metadata": {
    "execution": {
     "iopub.execute_input": "2023-10-16T06:44:47.677212Z",
     "iopub.status.busy": "2023-10-16T06:44:47.676559Z",
     "iopub.status.idle": "2023-10-16T06:59:32.975174Z",
     "shell.execute_reply": "2023-10-16T06:59:32.974321Z"
    },
    "papermill": {
     "duration": 885.30465,
     "end_time": "2023-10-16T06:59:32.977163",
     "exception": false,
     "start_time": "2023-10-16T06:44:47.672513",
     "status": "completed"
    },
    "tags": []
   },
   "outputs": [
    {
     "name": "stdout",
     "output_type": "stream",
     "text": [
      "Generation - 1\n",
      "13/13 [==============================] - 0s 3ms/step - loss: 0.0014\n",
      "13/13 [==============================] - 0s 2ms/step - loss: 5.8493e-04\n",
      "13/13 [==============================] - 0s 2ms/step - loss: 6.5719e-04\n",
      "13/13 [==============================] - 0s 3ms/step - loss: 0.0031\n",
      "13/13 [==============================] - 0s 3ms/step - loss: 6.8107e-04\n",
      "Generation - 2\n",
      "13/13 [==============================] - 0s 2ms/step - loss: 6.6826e-04\n",
      "13/13 [==============================] - 0s 2ms/step - loss: 5.9172e-04\n",
      "13/13 [==============================] - 0s 2ms/step - loss: 0.0012\n",
      "13/13 [==============================] - 0s 2ms/step - loss: 0.0018\n",
      "13/13 [==============================] - 0s 2ms/step - loss: 7.7503e-04\n",
      "13/13 [==============================] - 0s 3ms/step - loss: 0.0014\n",
      "Generation - 3\n",
      "13/13 [==============================] - 0s 2ms/step - loss: 0.0011\n",
      "13/13 [==============================] - 0s 3ms/step - loss: 5.6818e-04\n",
      "13/13 [==============================] - 0s 2ms/step - loss: 0.0017\n",
      "13/13 [==============================] - 0s 2ms/step - loss: 0.0018\n",
      "13/13 [==============================] - 0s 3ms/step - loss: 6.3541e-04\n",
      "13/13 [==============================] - 0s 2ms/step - loss: 5.4401e-04\n",
      "Generation - 4\n",
      "13/13 [==============================] - 0s 2ms/step - loss: 0.0020\n",
      "13/13 [==============================] - 0s 2ms/step - loss: 8.6422e-04\n",
      "13/13 [==============================] - 0s 2ms/step - loss: 6.2439e-04\n",
      "13/13 [==============================] - 0s 3ms/step - loss: 0.0016\n",
      "13/13 [==============================] - 0s 2ms/step - loss: 0.0011\n",
      "13/13 [==============================] - 0s 3ms/step - loss: 5.9361e-04\n",
      "Generation - 5\n",
      "13/13 [==============================] - 0s 3ms/step - loss: 0.0012\n",
      "13/13 [==============================] - 0s 2ms/step - loss: 9.4375e-04\n",
      "13/13 [==============================] - 0s 3ms/step - loss: 6.1492e-04\n",
      "13/13 [==============================] - 0s 3ms/step - loss: 0.0020\n",
      "13/13 [==============================] - 0s 2ms/step - loss: 7.6110e-04\n",
      "13/13 [==============================] - 0s 2ms/step - loss: 0.0029\n",
      "Generation - 6\n",
      "13/13 [==============================] - 0s 2ms/step - loss: 5.9008e-04\n",
      "13/13 [==============================] - 0s 2ms/step - loss: 7.9648e-04\n",
      "13/13 [==============================] - 0s 3ms/step - loss: 0.0011\n",
      "13/13 [==============================] - 0s 2ms/step - loss: 5.7820e-04\n",
      "13/13 [==============================] - 0s 2ms/step - loss: 5.9184e-04\n",
      "13/13 [==============================] - 0s 2ms/step - loss: 6.3072e-04\n",
      "Generation - 7\n",
      "13/13 [==============================] - 0s 3ms/step - loss: 0.0014\n",
      "13/13 [==============================] - 0s 2ms/step - loss: 7.3281e-04\n",
      "13/13 [==============================] - 0s 3ms/step - loss: 5.4945e-04\n",
      "13/13 [==============================] - 0s 3ms/step - loss: 0.0015\n",
      "13/13 [==============================] - 0s 3ms/step - loss: 5.6002e-04\n",
      "13/13 [==============================] - 0s 2ms/step - loss: 6.0159e-04\n",
      "Generation - 8\n",
      "13/13 [==============================] - 0s 3ms/step - loss: 9.5039e-04\n",
      "13/13 [==============================] - 0s 3ms/step - loss: 0.0012\n",
      "13/13 [==============================] - 0s 2ms/step - loss: 7.5395e-04\n",
      "13/13 [==============================] - 0s 2ms/step - loss: 7.6206e-04\n",
      "13/13 [==============================] - 0s 5ms/step - loss: 6.2439e-04\n",
      "13/13 [==============================] - 0s 2ms/step - loss: 0.0011\n",
      "Generation - 9\n",
      "13/13 [==============================] - 0s 3ms/step - loss: 0.0012\n",
      "13/13 [==============================] - 0s 3ms/step - loss: 5.8383e-04\n",
      "13/13 [==============================] - 0s 3ms/step - loss: 6.0431e-04\n",
      "13/13 [==============================] - 0s 3ms/step - loss: 0.0016\n",
      "13/13 [==============================] - 0s 2ms/step - loss: 0.0012\n",
      "13/13 [==============================] - 0s 3ms/step - loss: 9.4057e-04\n",
      "Generation - 10\n",
      "13/13 [==============================] - 0s 2ms/step - loss: 8.8420e-04\n",
      "13/13 [==============================] - 0s 2ms/step - loss: 6.2435e-04\n",
      "13/13 [==============================] - 0s 2ms/step - loss: 0.0012\n",
      "13/13 [==============================] - 0s 2ms/step - loss: 0.0027\n",
      "13/13 [==============================] - 0s 3ms/step - loss: 7.4248e-04\n",
      "13/13 [==============================] - 0s 2ms/step - loss: 0.0011\n",
      "Generation - 11\n",
      "13/13 [==============================] - 0s 2ms/step - loss: 0.0030\n",
      "13/13 [==============================] - 0s 2ms/step - loss: 9.8322e-04\n",
      "13/13 [==============================] - 0s 3ms/step - loss: 0.0019\n",
      "13/13 [==============================] - 0s 2ms/step - loss: 0.0010\n",
      "13/13 [==============================] - 0s 3ms/step - loss: 6.7675e-04\n",
      "13/13 [==============================] - 0s 2ms/step - loss: 0.0017\n",
      "Generation - 12\n",
      "13/13 [==============================] - 0s 2ms/step - loss: 0.0011\n",
      "13/13 [==============================] - 0s 2ms/step - loss: 6.0762e-04\n",
      "13/13 [==============================] - 0s 2ms/step - loss: 0.0015\n",
      "13/13 [==============================] - 0s 2ms/step - loss: 0.0020\n",
      "13/13 [==============================] - 0s 3ms/step - loss: 7.9452e-04\n",
      "13/13 [==============================] - 0s 2ms/step - loss: 0.0023\n",
      "Generation - 13\n",
      "13/13 [==============================] - 0s 2ms/step - loss: 0.0046\n",
      "13/13 [==============================] - 0s 2ms/step - loss: 0.0010\n",
      "13/13 [==============================] - 0s 2ms/step - loss: 8.0429e-04\n",
      "13/13 [==============================] - 0s 3ms/step - loss: 7.8206e-04\n",
      "13/13 [==============================] - 0s 2ms/step - loss: 6.7935e-04\n",
      "13/13 [==============================] - 0s 2ms/step - loss: 0.0013\n",
      "Generation - 14\n",
      "13/13 [==============================] - 0s 2ms/step - loss: 5.6888e-04\n",
      "13/13 [==============================] - 0s 2ms/step - loss: 0.0018\n",
      "13/13 [==============================] - 0s 3ms/step - loss: 5.9590e-04\n",
      "13/13 [==============================] - 0s 2ms/step - loss: 0.0019\n",
      "13/13 [==============================] - 0s 2ms/step - loss: 6.7499e-04\n",
      "13/13 [==============================] - 0s 3ms/step - loss: 7.8289e-04\n",
      "Generation - 15\n",
      "13/13 [==============================] - 0s 2ms/step - loss: 8.1118e-04\n",
      "13/13 [==============================] - 0s 3ms/step - loss: 7.6890e-04\n",
      "13/13 [==============================] - 0s 2ms/step - loss: 6.0833e-04\n",
      "13/13 [==============================] - 0s 2ms/step - loss: 6.0096e-04\n",
      "13/13 [==============================] - 0s 2ms/step - loss: 5.9284e-04\n",
      "13/13 [==============================] - 0s 2ms/step - loss: 9.2381e-04\n",
      "Generation - 16\n",
      "13/13 [==============================] - 0s 2ms/step - loss: 5.8380e-04\n",
      "13/13 [==============================] - 0s 3ms/step - loss: 7.3605e-04\n",
      "13/13 [==============================] - 0s 2ms/step - loss: 7.3499e-04\n",
      "13/13 [==============================] - 0s 2ms/step - loss: 7.5976e-04\n",
      "13/13 [==============================] - 0s 2ms/step - loss: 0.0015\n",
      "13/13 [==============================] - 0s 3ms/step - loss: 0.0017\n",
      "Generation - 17\n",
      "13/13 [==============================] - 0s 2ms/step - loss: 0.0012\n",
      "13/13 [==============================] - 0s 3ms/step - loss: 0.0013\n",
      "13/13 [==============================] - 0s 2ms/step - loss: 6.5914e-04\n",
      "13/13 [==============================] - 0s 2ms/step - loss: 0.0015\n",
      "13/13 [==============================] - 0s 2ms/step - loss: 8.5742e-04\n",
      "13/13 [==============================] - 0s 2ms/step - loss: 8.6052e-04\n",
      "Generation - 18\n",
      "13/13 [==============================] - 0s 2ms/step - loss: 5.7631e-04\n",
      "13/13 [==============================] - 0s 3ms/step - loss: 0.0048\n",
      "13/13 [==============================] - 0s 2ms/step - loss: 0.0027\n",
      "13/13 [==============================] - 0s 2ms/step - loss: 8.7977e-04\n",
      "13/13 [==============================] - 0s 3ms/step - loss: 6.9029e-04\n",
      "13/13 [==============================] - 0s 2ms/step - loss: 5.9985e-04\n",
      "Generation - 19\n",
      "13/13 [==============================] - 0s 2ms/step - loss: 8.8525e-04\n",
      "13/13 [==============================] - 0s 3ms/step - loss: 5.8714e-04\n",
      "13/13 [==============================] - 0s 2ms/step - loss: 0.0017\n",
      "13/13 [==============================] - 0s 2ms/step - loss: 5.5296e-04\n",
      "13/13 [==============================] - 0s 2ms/step - loss: 6.1605e-04\n",
      "13/13 [==============================] - 0s 2ms/step - loss: 0.0018\n",
      "Generation - 20\n",
      "13/13 [==============================] - 0s 2ms/step - loss: 0.0014\n",
      "13/13 [==============================] - 0s 3ms/step - loss: 0.0015\n",
      "13/13 [==============================] - 0s 2ms/step - loss: 6.2193e-04\n",
      "13/13 [==============================] - 0s 2ms/step - loss: 5.5249e-04\n",
      "13/13 [==============================] - 0s 2ms/step - loss: 0.0031\n",
      "13/13 [==============================] - 0s 2ms/step - loss: 0.0015\n",
      "Generation - 21\n",
      "13/13 [==============================] - 0s 3ms/step - loss: 0.0014\n",
      "13/13 [==============================] - 0s 2ms/step - loss: 7.3031e-04\n",
      "13/13 [==============================] - 0s 3ms/step - loss: 6.6945e-04\n",
      "13/13 [==============================] - 0s 3ms/step - loss: 0.0018\n",
      "13/13 [==============================] - 0s 2ms/step - loss: 0.0011\n",
      "13/13 [==============================] - 0s 2ms/step - loss: 0.0029\n",
      "Generation - 22\n",
      "13/13 [==============================] - 0s 3ms/step - loss: 9.3138e-04\n",
      "13/13 [==============================] - 0s 2ms/step - loss: 0.0014\n",
      "13/13 [==============================] - 0s 3ms/step - loss: 0.0011\n",
      "13/13 [==============================] - 0s 2ms/step - loss: 0.0016\n",
      "13/13 [==============================] - 0s 2ms/step - loss: 6.8952e-04\n",
      "13/13 [==============================] - 0s 2ms/step - loss: 6.7271e-04\n",
      "Generation - 23\n",
      "13/13 [==============================] - 0s 3ms/step - loss: 5.7866e-04\n",
      "13/13 [==============================] - 0s 2ms/step - loss: 5.8951e-04\n",
      "13/13 [==============================] - 0s 3ms/step - loss: 6.9279e-04\n",
      "13/13 [==============================] - 0s 2ms/step - loss: 6.2784e-04\n",
      "13/13 [==============================] - 0s 2ms/step - loss: 0.0024\n",
      "13/13 [==============================] - 0s 3ms/step - loss: 7.2339e-04\n",
      "Generation - 24\n",
      "13/13 [==============================] - 0s 3ms/step - loss: 7.7386e-04\n",
      "13/13 [==============================] - 0s 2ms/step - loss: 6.6438e-04\n",
      "13/13 [==============================] - 0s 2ms/step - loss: 0.0010\n",
      "13/13 [==============================] - 0s 2ms/step - loss: 0.0021\n",
      "13/13 [==============================] - 0s 2ms/step - loss: 5.7481e-04\n",
      "13/13 [==============================] - 0s 3ms/step - loss: 5.8250e-04\n",
      "Generation - 25\n",
      "13/13 [==============================] - 0s 2ms/step - loss: 5.7187e-04\n",
      "13/13 [==============================] - 0s 2ms/step - loss: 0.0011\n",
      "13/13 [==============================] - 0s 2ms/step - loss: 0.0019\n",
      "13/13 [==============================] - 0s 2ms/step - loss: 0.0017\n",
      "13/13 [==============================] - 0s 4ms/step - loss: 5.4848e-04\n",
      "13/13 [==============================] - 0s 3ms/step - loss: 5.7410e-04\n"
     ]
    }
   ],
   "source": [
    "# Do not increase this value\n",
    "population_size = 5\n",
    "generations = 25\n",
    "\n",
    "time = timer(None)\n",
    "best_chromosome, best_fitness = genetic_algorithm(population_size, generations)\n",
    "time = timer(time)"
   ]
  },
  {
   "cell_type": "code",
   "execution_count": 9,
   "id": "24565aee",
   "metadata": {
    "execution": {
     "iopub.execute_input": "2023-10-16T06:59:33.011581Z",
     "iopub.status.busy": "2023-10-16T06:59:33.010762Z",
     "iopub.status.idle": "2023-10-16T06:59:33.016554Z",
     "shell.execute_reply": "2023-10-16T06:59:33.015297Z"
    },
    "papermill": {
     "duration": 0.024505,
     "end_time": "2023-10-16T06:59:33.018294",
     "exception": false,
     "start_time": "2023-10-16T06:59:32.993789",
     "status": "completed"
    },
    "tags": []
   },
   "outputs": [
    {
     "name": "stdout",
     "output_type": "stream",
     "text": [
      "Best Chromosome: [25 20 20]\n",
      "Best Fitness: -0.0005484818248078227\n",
      "Time Taken: 0 hours 14 minutes and 45.29 seconds.\n"
     ]
    }
   ],
   "source": [
    "print(\"Best Chromosome:\", best_chromosome)\n",
    "print(\"Best Fitness:\", best_fitness)\n",
    "print(\"Time Taken:\", time)"
   ]
  },
  {
   "cell_type": "markdown",
   "id": "b0aaac6b",
   "metadata": {
    "papermill": {
     "duration": 0.016203,
     "end_time": "2023-10-16T06:59:33.051028",
     "exception": false,
     "start_time": "2023-10-16T06:59:33.034825",
     "status": "completed"
    },
    "tags": []
   },
   "source": [
    "## Re-Training Model with Best Parameter"
   ]
  },
  {
   "cell_type": "code",
   "execution_count": 10,
   "id": "badbe627",
   "metadata": {
    "execution": {
     "iopub.execute_input": "2023-10-16T06:59:33.084302Z",
     "iopub.status.busy": "2023-10-16T06:59:33.084042Z",
     "iopub.status.idle": "2023-10-16T06:59:33.342967Z",
     "shell.execute_reply": "2023-10-16T06:59:33.342041Z"
    },
    "papermill": {
     "duration": 0.281007,
     "end_time": "2023-10-16T06:59:33.348210",
     "exception": false,
     "start_time": "2023-10-16T06:59:33.067203",
     "status": "completed"
    },
    "tags": []
   },
   "outputs": [
    {
     "name": "stdout",
     "output_type": "stream",
     "text": [
      "Model: \"sequential_1\"\n",
      "_________________________________________________________________\n",
      " Layer (type)                Output Shape              Param #   \n",
      "=================================================================\n",
      " lstm_1 (LSTM)               (None, 250)               252000    \n",
      "                                                                 \n",
      " dense_1 (Dense)             (None, 1)                 251       \n",
      "                                                                 \n",
      "=================================================================\n",
      "Total params: 252,251\n",
      "Trainable params: 252,251\n",
      "Non-trainable params: 0\n",
      "_________________________________________________________________\n"
     ]
    }
   ],
   "source": [
    "model = Sequential()\n",
    "for i, units in enumerate(best_chromosome[:LSTM_Layer]):\n",
    "    model.add(LSTM(units*10, return_sequences=(i < LSTM_Layer - 1), input_shape=(WINDOW_SIZE, 1)))\n",
    "model.add(Dense(1))\n",
    "\n",
    "model.summary()"
   ]
  },
  {
   "cell_type": "code",
   "execution_count": 11,
   "id": "dabd99c9",
   "metadata": {
    "execution": {
     "iopub.execute_input": "2023-10-16T06:59:33.384221Z",
     "iopub.status.busy": "2023-10-16T06:59:33.383946Z",
     "iopub.status.idle": "2023-10-16T06:59:55.801397Z",
     "shell.execute_reply": "2023-10-16T06:59:55.800471Z"
    },
    "papermill": {
     "duration": 22.438456,
     "end_time": "2023-10-16T06:59:55.803827",
     "exception": false,
     "start_time": "2023-10-16T06:59:33.365371",
     "status": "completed"
    },
    "tags": []
   },
   "outputs": [
    {
     "name": "stdout",
     "output_type": "stream",
     "text": [
      "Epoch 1/50\n",
      "44/44 [==============================] - 3s 17ms/step - loss: 0.0136 - mae: 0.0771 - root_mean_squared_error: 0.1165 - val_loss: 4.5616e-04 - val_mae: 0.0172 - val_root_mean_squared_error: 0.0214\n",
      "Epoch 2/50\n",
      "44/44 [==============================] - 0s 5ms/step - loss: 0.0028 - mae: 0.0303 - root_mean_squared_error: 0.0529 - val_loss: 3.8997e-04 - val_mae: 0.0158 - val_root_mean_squared_error: 0.0197\n",
      "Epoch 3/50\n",
      "44/44 [==============================] - 0s 5ms/step - loss: 0.0027 - mae: 0.0296 - root_mean_squared_error: 0.0524 - val_loss: 3.3815e-04 - val_mae: 0.0146 - val_root_mean_squared_error: 0.0184\n",
      "Epoch 4/50\n",
      "44/44 [==============================] - 0s 5ms/step - loss: 0.0027 - mae: 0.0281 - root_mean_squared_error: 0.0515 - val_loss: 3.7644e-04 - val_mae: 0.0154 - val_root_mean_squared_error: 0.0194\n",
      "Epoch 5/50\n",
      "44/44 [==============================] - 0s 5ms/step - loss: 0.0027 - mae: 0.0296 - root_mean_squared_error: 0.0519 - val_loss: 4.0715e-04 - val_mae: 0.0162 - val_root_mean_squared_error: 0.0202\n",
      "Epoch 6/50\n",
      "44/44 [==============================] - 0s 5ms/step - loss: 0.0026 - mae: 0.0281 - root_mean_squared_error: 0.0510 - val_loss: 3.8913e-04 - val_mae: 0.0158 - val_root_mean_squared_error: 0.0197\n",
      "Epoch 7/50\n",
      "44/44 [==============================] - 0s 5ms/step - loss: 0.0026 - mae: 0.0287 - root_mean_squared_error: 0.0508 - val_loss: 9.1303e-04 - val_mae: 0.0262 - val_root_mean_squared_error: 0.0302\n",
      "Epoch 8/50\n",
      "44/44 [==============================] - 0s 5ms/step - loss: 0.0026 - mae: 0.0287 - root_mean_squared_error: 0.0510 - val_loss: 3.0029e-04 - val_mae: 0.0137 - val_root_mean_squared_error: 0.0173\n",
      "Epoch 9/50\n",
      "44/44 [==============================] - 0s 5ms/step - loss: 0.0025 - mae: 0.0275 - root_mean_squared_error: 0.0497 - val_loss: 2.8875e-04 - val_mae: 0.0133 - val_root_mean_squared_error: 0.0170\n",
      "Epoch 10/50\n",
      "44/44 [==============================] - 0s 5ms/step - loss: 0.0024 - mae: 0.0269 - root_mean_squared_error: 0.0494 - val_loss: 2.8410e-04 - val_mae: 0.0131 - val_root_mean_squared_error: 0.0169\n",
      "Epoch 11/50\n",
      "44/44 [==============================] - 0s 5ms/step - loss: 0.0024 - mae: 0.0269 - root_mean_squared_error: 0.0491 - val_loss: 2.8503e-04 - val_mae: 0.0131 - val_root_mean_squared_error: 0.0169\n",
      "Epoch 12/50\n",
      "44/44 [==============================] - 0s 5ms/step - loss: 0.0024 - mae: 0.0270 - root_mean_squared_error: 0.0492 - val_loss: 2.8654e-04 - val_mae: 0.0131 - val_root_mean_squared_error: 0.0169\n",
      "Epoch 13/50\n",
      "44/44 [==============================] - 0s 5ms/step - loss: 0.0023 - mae: 0.0263 - root_mean_squared_error: 0.0483 - val_loss: 2.6627e-04 - val_mae: 0.0127 - val_root_mean_squared_error: 0.0163\n",
      "Epoch 14/50\n",
      "44/44 [==============================] - 0s 5ms/step - loss: 0.0024 - mae: 0.0280 - root_mean_squared_error: 0.0491 - val_loss: 3.3591e-04 - val_mae: 0.0144 - val_root_mean_squared_error: 0.0183\n",
      "Epoch 15/50\n",
      "44/44 [==============================] - 0s 5ms/step - loss: 0.0023 - mae: 0.0262 - root_mean_squared_error: 0.0480 - val_loss: 2.5255e-04 - val_mae: 0.0122 - val_root_mean_squared_error: 0.0159\n",
      "Epoch 16/50\n",
      "44/44 [==============================] - 0s 5ms/step - loss: 0.0023 - mae: 0.0261 - root_mean_squared_error: 0.0476 - val_loss: 3.5223e-04 - val_mae: 0.0152 - val_root_mean_squared_error: 0.0188\n",
      "Epoch 17/50\n",
      "44/44 [==============================] - 0s 5ms/step - loss: 0.0022 - mae: 0.0254 - root_mean_squared_error: 0.0470 - val_loss: 3.8828e-04 - val_mae: 0.0159 - val_root_mean_squared_error: 0.0197\n",
      "Epoch 18/50\n",
      "44/44 [==============================] - 0s 5ms/step - loss: 0.0022 - mae: 0.0259 - root_mean_squared_error: 0.0472 - val_loss: 3.1059e-04 - val_mae: 0.0139 - val_root_mean_squared_error: 0.0176\n",
      "Epoch 19/50\n",
      "44/44 [==============================] - 0s 5ms/step - loss: 0.0022 - mae: 0.0250 - root_mean_squared_error: 0.0468 - val_loss: 2.8616e-04 - val_mae: 0.0132 - val_root_mean_squared_error: 0.0169\n",
      "Epoch 20/50\n",
      "44/44 [==============================] - 0s 5ms/step - loss: 0.0022 - mae: 0.0251 - root_mean_squared_error: 0.0467 - val_loss: 2.2750e-04 - val_mae: 0.0114 - val_root_mean_squared_error: 0.0151\n",
      "Epoch 21/50\n",
      "44/44 [==============================] - 0s 6ms/step - loss: 0.0021 - mae: 0.0246 - root_mean_squared_error: 0.0463 - val_loss: 2.2334e-04 - val_mae: 0.0112 - val_root_mean_squared_error: 0.0149\n",
      "Epoch 22/50\n",
      "44/44 [==============================] - 0s 5ms/step - loss: 0.0021 - mae: 0.0250 - root_mean_squared_error: 0.0461 - val_loss: 2.9840e-04 - val_mae: 0.0138 - val_root_mean_squared_error: 0.0173\n",
      "Epoch 23/50\n",
      "44/44 [==============================] - 0s 5ms/step - loss: 0.0021 - mae: 0.0252 - root_mean_squared_error: 0.0461 - val_loss: 2.3831e-04 - val_mae: 0.0117 - val_root_mean_squared_error: 0.0154\n",
      "Epoch 24/50\n",
      "44/44 [==============================] - 0s 5ms/step - loss: 0.0021 - mae: 0.0256 - root_mean_squared_error: 0.0464 - val_loss: 2.4285e-04 - val_mae: 0.0120 - val_root_mean_squared_error: 0.0156\n",
      "Epoch 25/50\n",
      "44/44 [==============================] - 0s 6ms/step - loss: 0.0022 - mae: 0.0270 - root_mean_squared_error: 0.0465 - val_loss: 0.0012 - val_mae: 0.0323 - val_root_mean_squared_error: 0.0353\n",
      "Epoch 26/50\n",
      "44/44 [==============================] - 0s 5ms/step - loss: 0.0021 - mae: 0.0252 - root_mean_squared_error: 0.0459 - val_loss: 2.5982e-04 - val_mae: 0.0126 - val_root_mean_squared_error: 0.0161\n",
      "Epoch 27/50\n",
      "44/44 [==============================] - 0s 5ms/step - loss: 0.0021 - mae: 0.0246 - root_mean_squared_error: 0.0455 - val_loss: 4.3342e-04 - val_mae: 0.0174 - val_root_mean_squared_error: 0.0208\n",
      "Epoch 28/50\n",
      "44/44 [==============================] - 0s 5ms/step - loss: 0.0022 - mae: 0.0261 - root_mean_squared_error: 0.0471 - val_loss: 5.8303e-04 - val_mae: 0.0212 - val_root_mean_squared_error: 0.0241\n",
      "Epoch 29/50\n",
      "44/44 [==============================] - 0s 5ms/step - loss: 0.0021 - mae: 0.0265 - root_mean_squared_error: 0.0460 - val_loss: 3.4116e-04 - val_mae: 0.0154 - val_root_mean_squared_error: 0.0185\n",
      "Epoch 30/50\n",
      "44/44 [==============================] - 0s 5ms/step - loss: 0.0020 - mae: 0.0236 - root_mean_squared_error: 0.0444 - val_loss: 3.2838e-04 - val_mae: 0.0150 - val_root_mean_squared_error: 0.0181\n",
      "Epoch 31/50\n",
      "44/44 [==============================] - 0s 5ms/step - loss: 0.0020 - mae: 0.0233 - root_mean_squared_error: 0.0444 - val_loss: 2.0652e-04 - val_mae: 0.0108 - val_root_mean_squared_error: 0.0144\n",
      "Epoch 32/50\n",
      "44/44 [==============================] - 0s 5ms/step - loss: 0.0020 - mae: 0.0240 - root_mean_squared_error: 0.0449 - val_loss: 2.0583e-04 - val_mae: 0.0108 - val_root_mean_squared_error: 0.0143\n",
      "Epoch 33/50\n",
      "44/44 [==============================] - 0s 5ms/step - loss: 0.0020 - mae: 0.0234 - root_mean_squared_error: 0.0448 - val_loss: 5.3382e-04 - val_mae: 0.0202 - val_root_mean_squared_error: 0.0231\n",
      "Epoch 34/50\n",
      "44/44 [==============================] - 0s 5ms/step - loss: 0.0019 - mae: 0.0229 - root_mean_squared_error: 0.0440 - val_loss: 2.7179e-04 - val_mae: 0.0131 - val_root_mean_squared_error: 0.0165\n",
      "Epoch 35/50\n",
      "44/44 [==============================] - 0s 5ms/step - loss: 0.0019 - mae: 0.0230 - root_mean_squared_error: 0.0441 - val_loss: 2.7339e-04 - val_mae: 0.0134 - val_root_mean_squared_error: 0.0165\n",
      "Epoch 36/50\n",
      "44/44 [==============================] - 0s 5ms/step - loss: 0.0020 - mae: 0.0252 - root_mean_squared_error: 0.0450 - val_loss: 4.2072e-04 - val_mae: 0.0177 - val_root_mean_squared_error: 0.0205\n",
      "Epoch 37/50\n",
      "44/44 [==============================] - 0s 5ms/step - loss: 0.0021 - mae: 0.0258 - root_mean_squared_error: 0.0456 - val_loss: 3.2170e-04 - val_mae: 0.0150 - val_root_mean_squared_error: 0.0179\n",
      "Epoch 38/50\n",
      "44/44 [==============================] - 0s 5ms/step - loss: 0.0020 - mae: 0.0239 - root_mean_squared_error: 0.0442 - val_loss: 3.7414e-04 - val_mae: 0.0165 - val_root_mean_squared_error: 0.0193\n",
      "Epoch 39/50\n",
      "44/44 [==============================] - 0s 5ms/step - loss: 0.0019 - mae: 0.0233 - root_mean_squared_error: 0.0440 - val_loss: 2.0416e-04 - val_mae: 0.0109 - val_root_mean_squared_error: 0.0143\n",
      "Epoch 40/50\n",
      "44/44 [==============================] - 0s 6ms/step - loss: 0.0019 - mae: 0.0227 - root_mean_squared_error: 0.0439 - val_loss: 2.0376e-04 - val_mae: 0.0109 - val_root_mean_squared_error: 0.0143\n",
      "Epoch 41/50\n",
      "44/44 [==============================] - 0s 6ms/step - loss: 0.0020 - mae: 0.0233 - root_mean_squared_error: 0.0444 - val_loss: 2.3285e-04 - val_mae: 0.0119 - val_root_mean_squared_error: 0.0153\n",
      "Epoch 42/50\n",
      "44/44 [==============================] - 0s 6ms/step - loss: 0.0019 - mae: 0.0228 - root_mean_squared_error: 0.0438 - val_loss: 1.8358e-04 - val_mae: 0.0101 - val_root_mean_squared_error: 0.0135\n",
      "Epoch 43/50\n",
      "44/44 [==============================] - 0s 5ms/step - loss: 0.0019 - mae: 0.0232 - root_mean_squared_error: 0.0438 - val_loss: 3.3204e-04 - val_mae: 0.0154 - val_root_mean_squared_error: 0.0182\n",
      "Epoch 44/50\n",
      "44/44 [==============================] - 0s 5ms/step - loss: 0.0019 - mae: 0.0221 - root_mean_squared_error: 0.0435 - val_loss: 2.1476e-04 - val_mae: 0.0114 - val_root_mean_squared_error: 0.0147\n",
      "Epoch 45/50\n",
      "44/44 [==============================] - 0s 5ms/step - loss: 0.0019 - mae: 0.0230 - root_mean_squared_error: 0.0438 - val_loss: 2.0011e-04 - val_mae: 0.0107 - val_root_mean_squared_error: 0.0141\n",
      "Epoch 46/50\n",
      "44/44 [==============================] - 0s 5ms/step - loss: 0.0019 - mae: 0.0222 - root_mean_squared_error: 0.0434 - val_loss: 1.7474e-04 - val_mae: 0.0097 - val_root_mean_squared_error: 0.0132\n",
      "Epoch 47/50\n",
      "44/44 [==============================] - 0s 5ms/step - loss: 0.0019 - mae: 0.0225 - root_mean_squared_error: 0.0436 - val_loss: 1.8666e-04 - val_mae: 0.0103 - val_root_mean_squared_error: 0.0137\n",
      "Epoch 48/50\n",
      "44/44 [==============================] - 0s 5ms/step - loss: 0.0019 - mae: 0.0229 - root_mean_squared_error: 0.0440 - val_loss: 3.2636e-04 - val_mae: 0.0153 - val_root_mean_squared_error: 0.0181\n",
      "Epoch 49/50\n",
      "44/44 [==============================] - 0s 5ms/step - loss: 0.0019 - mae: 0.0228 - root_mean_squared_error: 0.0434 - val_loss: 2.0129e-04 - val_mae: 0.0109 - val_root_mean_squared_error: 0.0142\n",
      "Epoch 50/50\n",
      "44/44 [==============================] - 0s 5ms/step - loss: 0.0019 - mae: 0.0221 - root_mean_squared_error: 0.0435 - val_loss: 1.9661e-04 - val_mae: 0.0107 - val_root_mean_squared_error: 0.0140\n"
     ]
    }
   ],
   "source": [
    "model.compile(loss='mean_squared_error',\n",
    "              metrics=['mae', RootMeanSquaredError()],\n",
    "              optimizer='adam')\n",
    "\n",
    "history = model.fit(X_train,\n",
    "                    y_train,\n",
    "                    epochs=50,\n",
    "                    batch_size=32,\n",
    "                    validation_split=0.1)"
   ]
  },
  {
   "cell_type": "code",
   "execution_count": 12,
   "id": "c235fd36",
   "metadata": {
    "execution": {
     "iopub.execute_input": "2023-10-16T06:59:55.863982Z",
     "iopub.status.busy": "2023-10-16T06:59:55.863374Z",
     "iopub.status.idle": "2023-10-16T06:59:55.970762Z",
     "shell.execute_reply": "2023-10-16T06:59:55.969881Z"
    },
    "papermill": {
     "duration": 0.13911,
     "end_time": "2023-10-16T06:59:55.972473",
     "exception": false,
     "start_time": "2023-10-16T06:59:55.833363",
     "status": "completed"
    },
    "tags": []
   },
   "outputs": [
    {
     "name": "stdout",
     "output_type": "stream",
     "text": [
      "13/13 [==============================] - 0s 3ms/step - loss: 0.0011 - mae: 0.0264 - root_mean_squared_error: 0.0325\n"
     ]
    },
    {
     "data": {
      "text/plain": [
       "[0.0010587807046249509, 0.026421766728162766, 0.03253890946507454]"
      ]
     },
     "execution_count": 12,
     "metadata": {},
     "output_type": "execute_result"
    }
   ],
   "source": [
    "model.evaluate(X_test, y_test)"
   ]
  },
  {
   "cell_type": "markdown",
   "id": "3b236afe",
   "metadata": {
    "papermill": {
     "duration": 0.029203,
     "end_time": "2023-10-16T06:59:56.031164",
     "exception": false,
     "start_time": "2023-10-16T06:59:56.001961",
     "status": "completed"
    },
    "tags": []
   },
   "source": [
    "## Model Evaluation"
   ]
  },
  {
   "cell_type": "code",
   "execution_count": 13,
   "id": "bce51f22",
   "metadata": {
    "execution": {
     "iopub.execute_input": "2023-10-16T06:59:56.090584Z",
     "iopub.status.busy": "2023-10-16T06:59:56.090291Z",
     "iopub.status.idle": "2023-10-16T06:59:56.406148Z",
     "shell.execute_reply": "2023-10-16T06:59:56.405307Z"
    },
    "papermill": {
     "duration": 0.347789,
     "end_time": "2023-10-16T06:59:56.407948",
     "exception": false,
     "start_time": "2023-10-16T06:59:56.060159",
     "status": "completed"
    },
    "tags": []
   },
   "outputs": [
    {
     "data": {
      "image/png": "[encoded data removed]",
      "text/plain": [
       "<Figure size 640x480 with 1 Axes>"
      ]
     },
     "metadata": {},
     "output_type": "display_data"
    }
   ],
   "source": [
    "plt.plot(history.history['loss'])\n",
    "plt.plot(history.history['val_loss'])\n",
    "plt.title(f'{SHEET_NAME[2]} Model Loss', fontsize=15)\n",
    "plt.ylabel('loss')\n",
    "plt.xlabel('epoch')\n",
    "plt.legend(['train', 'test'])\n",
    "plt.show()"
   ]
  },
  {
   "cell_type": "code",
   "execution_count": 14,
   "id": "ddd93d78",
   "metadata": {
    "execution": {
     "iopub.execute_input": "2023-10-16T06:59:56.470075Z",
     "iopub.status.busy": "2023-10-16T06:59:56.469185Z",
     "iopub.status.idle": "2023-10-16T06:59:56.966514Z",
     "shell.execute_reply": "2023-10-16T06:59:56.965587Z"
    },
    "papermill": {
     "duration": 0.530036,
     "end_time": "2023-10-16T06:59:56.968517",
     "exception": false,
     "start_time": "2023-10-16T06:59:56.438481",
     "status": "completed"
    },
    "tags": []
   },
   "outputs": [
    {
     "name": "stdout",
     "output_type": "stream",
     "text": [
      "13/13 [==============================] - 0s 2ms/step\n"
     ]
    }
   ],
   "source": [
    "y_hat = model.predict(X_test)\n",
    "y_test_inverse = scaler.inverse_transform(y_test)\n",
    "y_hat_inverse = scaler.inverse_transform(y_hat)"
   ]
  },
  {
   "cell_type": "code",
   "execution_count": 15,
   "id": "4c2f2866",
   "metadata": {
    "execution": {
     "iopub.execute_input": "2023-10-16T06:59:57.030781Z",
     "iopub.status.busy": "2023-10-16T06:59:57.030293Z",
     "iopub.status.idle": "2023-10-16T06:59:57.315927Z",
     "shell.execute_reply": "2023-10-16T06:59:57.315062Z"
    },
    "papermill": {
     "duration": 0.318834,
     "end_time": "2023-10-16T06:59:57.317904",
     "exception": false,
     "start_time": "2023-10-16T06:59:56.999070",
     "status": "completed"
    },
    "tags": []
   },
   "outputs": [
    {
     "data": {
      "image/png": "[encoded data removed]",
      "text/plain": [
       "<Figure size 640x480 with 1 Axes>"
      ]
     },
     "metadata": {},
     "output_type": "display_data"
    }
   ],
   "source": [
    "plt.plot(y_test_inverse, label=\"Actual Price\", color='green')\n",
    "plt.plot(y_hat_inverse, label=\"Predicted Price\", color='red')\n",
    " \n",
    "plt.title(f'{SHEET_NAME[2]} Price Prediction\\nLSTM = {LSTM_Layer}, Split Data = {SPLIT}, Window = {WINDOW_SIZE}', fontsize=15)\n",
    "plt.xlabel('Time [days]')\n",
    "plt.ylabel('Price')\n",
    "plt.legend(loc='best')\n",
    " \n",
    "plt.show()"
   ]
  },
  {
   "cell_type": "code",
   "execution_count": 16,
   "id": "01f95534",
   "metadata": {
    "execution": {
     "iopub.execute_input": "2023-10-16T06:59:57.381404Z",
     "iopub.status.busy": "2023-10-16T06:59:57.381115Z",
     "iopub.status.idle": "2023-10-16T06:59:57.389813Z",
     "shell.execute_reply": "2023-10-16T06:59:57.388826Z"
    },
    "papermill": {
     "duration": 0.042587,
     "end_time": "2023-10-16T06:59:57.391701",
     "exception": false,
     "start_time": "2023-10-16T06:59:57.349114",
     "status": "completed"
    },
    "tags": []
   },
   "outputs": [
    {
     "name": "stdout",
     "output_type": "stream",
     "text": [
      "LSTM = 1, Split Data = 0.8, Window = 5\n",
      "\n",
      "----------------- Normalized Error -----------------\n",
      "Mean Absolute Error for prediction : 0.026421768294582794\n",
      "Mean Squared Error for prediction : 0.001058780810567527\n",
      "Root Mean Squared Error for prediction : 0.03253891225237142\n",
      "\n",
      "----------------- Actual Error -----------------\n",
      "Mean Absolute Error for prediction : 55.709130834398934\n",
      "Mean Squared Error for prediction : 4706.90104825267\n",
      "Root Mean Squared Error for prediction : 68.60685860941798\n"
     ]
    }
   ],
   "source": [
    "def matrices(actual, predicted):\n",
    "    mse = mean_squared_error(actual, predicted)\n",
    "    mae = mean_absolute_error(actual, predicted)\n",
    "    rmse = np.sqrt(mse)\n",
    "    print(\"Mean Absolute Error for prediction :\", mae)\n",
    "    print(\"Mean Squared Error for prediction :\", mse)\n",
    "    print(\"Root Mean Squared Error for prediction :\", rmse)\n",
    "    return mae, mse, rmse\n",
    "\n",
    "print(f\"LSTM = {LSTM_Layer}, Split Data = {SPLIT}, Window = {WINDOW_SIZE}\")\n",
    "print(\"\\n----------------- Normalized Error -----------------\")\n",
    "mae, mse, rmse = matrices(y_test, y_hat)\n",
    "print(\"\\n----------------- Actual Error -----------------\")\n",
    "mae_inverse, mse_inverse, rmse_inverse = matrices(y_test_inverse, y_hat_inverse)"
   ]
  }
 ],
 "metadata": {
  "kernelspec": {
   "display_name": "Python 3",
   "language": "python",
   "name": "python3"
  },
  "language_info": {
   "codemirror_mode": {
    "name": "ipython",
    "version": 3
   },
   "file_extension": ".py",
   "mimetype": "text/x-python",
   "name": "python",
   "nbconvert_exporter": "python",
   "pygments_lexer": "ipython3",
   "version": "3.10.10"
  },
  "papermill": {
   "default_parameters": {},
   "duration": 931.973855,
   "end_time": "2023-10-16T07:00:00.952377",
   "environment_variables": {},
   "exception": null,
   "input_path": "__notebook__.ipynb",
   "output_path": "__notebook__.ipynb",
   "parameters": {},
   "start_time": "2023-10-16T06:44:28.978522",
   "version": "2.4.0"
  }
 },
 "nbformat": 4,
 "nbformat_minor": 5
}
