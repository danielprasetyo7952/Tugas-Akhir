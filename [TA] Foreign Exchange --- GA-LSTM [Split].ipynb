{
 "cells": [
  {
   "cell_type": "code",
   "execution_count": 1,
   "id": "c656717e",
   "metadata": {
    "execution": {
     "iopub.execute_input": "2023-10-16T11:37:18.378403Z",
     "iopub.status.busy": "2023-10-16T11:37:18.377997Z",
     "iopub.status.idle": "2023-10-16T11:37:26.402579Z",
     "shell.execute_reply": "2023-10-16T11:37:26.401623Z"
    },
    "papermill": {
     "duration": 8.032002,
     "end_time": "2023-10-16T11:37:26.404737",
     "exception": false,
     "start_time": "2023-10-16T11:37:18.372735",
     "status": "completed"
    },
    "tags": []
   },
   "outputs": [],
   "source": [
    "import pandas as pd\n",
    "import numpy as np\n",
    "import tensorflow as tf\n",
    "import matplotlib.pyplot as plt\n",
    "import datetime, pytz\n",
    "\n",
    "from keras.models import Sequential\n",
    "from keras.layers import LSTM, Dense\n",
    "from keras.metrics import RootMeanSquaredError\n",
    "\n",
    "from sklearn.preprocessing import MinMaxScaler\n",
    "from sklearn.metrics import mean_squared_error, mean_absolute_error"
   ]
  },
  {
   "cell_type": "markdown",
   "id": "a23bf1fc",
   "metadata": {
    "papermill": {
     "duration": 0.003023,
     "end_time": "2023-10-16T11:37:26.411616",
     "exception": false,
     "start_time": "2023-10-16T11:37:26.408593",
     "status": "completed"
    },
    "tags": []
   },
   "source": [
    "## Hyperparameter"
   ]
  },
  {
   "cell_type": "code",
   "execution_count": 2,
   "id": "e375b6a9",
   "metadata": {
    "execution": {
     "iopub.execute_input": "2023-10-16T11:37:26.419801Z",
     "iopub.status.busy": "2023-10-16T11:37:26.418794Z",
     "iopub.status.idle": "2023-10-16T11:37:26.423618Z",
     "shell.execute_reply": "2023-10-16T11:37:26.422802Z"
    },
    "papermill": {
     "duration": 0.010568,
     "end_time": "2023-10-16T11:37:26.425262",
     "exception": false,
     "start_time": "2023-10-16T11:37:26.414694",
     "status": "completed"
    },
    "tags": []
   },
   "outputs": [],
   "source": [
    "SEQ_LEN = 21 # 6, 11, 21\n",
    "SPLIT = 0.80 # 0.80, 0.90\n",
    "LSTM_Layer = 3 # 1, 2, 3\n",
    "WINDOW_SIZE = SEQ_LEN - 1"
   ]
  },
  {
   "cell_type": "code",
   "execution_count": 3,
   "id": "2f31fb2b",
   "metadata": {
    "execution": {
     "iopub.execute_input": "2023-10-16T11:37:26.433155Z",
     "iopub.status.busy": "2023-10-16T11:37:26.432358Z",
     "iopub.status.idle": "2023-10-16T11:37:28.599443Z",
     "shell.execute_reply": "2023-10-16T11:37:28.598489Z"
    },
    "papermill": {
     "duration": 2.17307,
     "end_time": "2023-10-16T11:37:28.601393",
     "exception": false,
     "start_time": "2023-10-16T11:37:26.428323",
     "status": "completed"
    },
    "tags": []
   },
   "outputs": [
    {
     "name": "stdout",
     "output_type": "stream",
     "text": [
      "<class 'pandas.core.frame.DataFrame'>\n",
      "RangeIndex: 1959 entries, 0 to 1958\n",
      "Data columns (total 2 columns):\n",
      " #   Column  Non-Null Count  Dtype         \n",
      "---  ------  --------------  -----         \n",
      " 0   Date    1959 non-null   datetime64[ns]\n",
      " 1   Close   1959 non-null   float64       \n",
      "dtypes: datetime64[ns](1), float64(1)\n",
      "memory usage: 30.7 KB\n"
     ]
    }
   ],
   "source": [
    "# Google Spreadsheet ID\n",
    "SHEET_ID = '1JDNv_mArl-GPIpxuWS5GxgVEwvjXocS1MrXGc6TYs8M'\n",
    "SHEET_NAME = ['USD/IDR', 'EUR/IDR', 'SGD/IDR']\n",
    "\n",
    "url = f'https://docs.google.com/spreadsheets/d/{SHEET_ID}/gviz/tq?tqx=out:csv&sheet={SHEET_NAME[2]}'\n",
    "data = pd.read_csv(url)\n",
    "\n",
    "# Convert Date columns to datetime format\n",
    "data['Date'] = pd.to_datetime(data['Date'], format='%d/%m/%Y %H:%M:%S')\n",
    "data.info()"
   ]
  },
  {
   "cell_type": "markdown",
   "id": "eebd0688",
   "metadata": {
    "papermill": {
     "duration": 0.003296,
     "end_time": "2023-10-16T11:37:28.608187",
     "exception": false,
     "start_time": "2023-10-16T11:37:28.604891",
     "status": "completed"
    },
    "tags": []
   },
   "source": [
    "## Preprocessing"
   ]
  },
  {
   "cell_type": "code",
   "execution_count": 4,
   "id": "24abc19d",
   "metadata": {
    "execution": {
     "iopub.execute_input": "2023-10-16T11:37:28.615909Z",
     "iopub.status.busy": "2023-10-16T11:37:28.615527Z",
     "iopub.status.idle": "2023-10-16T11:37:28.624142Z",
     "shell.execute_reply": "2023-10-16T11:37:28.623235Z"
    },
    "papermill": {
     "duration": 0.014376,
     "end_time": "2023-10-16T11:37:28.625760",
     "exception": false,
     "start_time": "2023-10-16T11:37:28.611384",
     "status": "completed"
    },
    "tags": []
   },
   "outputs": [],
   "source": [
    "scaler = MinMaxScaler()\n",
    "close_price = data.Close.values.reshape(-1, 1)\n",
    "scaled_close = scaler.fit_transform(close_price)"
   ]
  },
  {
   "cell_type": "code",
   "execution_count": 5,
   "metadata": {},
   "outputs": [
    {
     "name": "stdout",
     "output_type": "stream",
     "text": [
      "----------- Normalize Data Shape -----------\n",
      "(1959, 1)\n",
      "\n",
      "----------- Normalize Data -----------\n",
      "[[0.13503666]\n",
      " [0.14700219]\n",
      " [0.13068802]\n",
      " ...\n",
      " [0.57488343]\n",
      " [0.59368865]\n",
      " [0.59277804]]\n"
     ]
    }
   ],
   "source": [
    "print(\"----------- Normalize Data Shape -----------\")\n",
    "print(scaled_close.shape)\n",
    "print(\"\\n----------- Normalize Data -----------\")\n",
    "print(scaled_close)"
   ]
  },
  {
   "cell_type": "code",
   "execution_count": 5,
   "id": "890cde3b",
   "metadata": {
    "execution": {
     "iopub.execute_input": "2023-10-16T11:37:28.633846Z",
     "iopub.status.busy": "2023-10-16T11:37:28.633102Z",
     "iopub.status.idle": "2023-10-16T11:37:28.641323Z",
     "shell.execute_reply": "2023-10-16T11:37:28.640557Z"
    },
    "papermill": {
     "duration": 0.01394,
     "end_time": "2023-10-16T11:37:28.642950",
     "exception": false,
     "start_time": "2023-10-16T11:37:28.629010",
     "status": "completed"
    },
    "tags": []
   },
   "outputs": [],
   "source": [
    "def to_sequences(data, seq_len):\n",
    "    \"\"\"\n",
    "    Converts a list of data into a sequence of equal length.\n",
    "\n",
    "    Args:\n",
    "        data: A list of numerical values.\n",
    "        seq_len: An integer indicating the length of each sequence.\n",
    "\n",
    "    Returns:\n",
    "        A numpy array of shape (len(data) - seq_len, seq_len) containing the sequences.\n",
    "    \"\"\"\n",
    "    d = []\n",
    "    for index in range(len(data) - seq_len):\n",
    "        d.append(data[index: index + seq_len])\n",
    "    return np.array(d)\n",
    "\n",
    "def preprocess(data_raw, seq_len, train_split):\n",
    "    \"\"\"\n",
    "    Preprocesses the raw data for training and testing.\n",
    "\n",
    "    Args:\n",
    "        data_raw: A list of numerical values.\n",
    "        seq_len: An integer indicating the length of each sequence.\n",
    "        train_split: A float between 0 and 1 indicating the fraction of data to use for training.\n",
    "\n",
    "    Returns:\n",
    "        A tuple of four numpy arrays: (X_train, y_train, X_test, y_test).\n",
    "        X_train and X_test are the input sequences for training and testing, respectively.\n",
    "        y_train and y_test are the output values for training and testing, respectively.\n",
    "    \"\"\"\n",
    "    data = to_sequences(data_raw, seq_len)\n",
    "    num_train = int(train_split * data.shape[0])\n",
    "    X_train = data[:num_train, :-1, :]\n",
    "    y_train = data[:num_train, -1, :]\n",
    "    X_test = data[num_train:, :-1, :]\n",
    "    y_test = data[num_train:, -1, :]\n",
    "    return X_train, y_train, X_test, y_test\n",
    "\n",
    "X_train, y_train, X_test, y_test = preprocess(scaled_close, SEQ_LEN, train_split = SPLIT)"
   ]
  },
  {
   "cell_type": "markdown",
   "id": "0a02d0a7",
   "metadata": {
    "papermill": {
     "duration": 0.003208,
     "end_time": "2023-10-16T11:37:28.649596",
     "exception": false,
     "start_time": "2023-10-16T11:37:28.646388",
     "status": "completed"
    },
    "tags": []
   },
   "source": [
    "## Genetic Algorithm"
   ]
  },
  {
   "cell_type": "code",
   "execution_count": 6,
   "id": "46cca6a7",
   "metadata": {
    "execution": {
     "iopub.execute_input": "2023-10-16T11:37:28.657460Z",
     "iopub.status.busy": "2023-10-16T11:37:28.657208Z",
     "iopub.status.idle": "2023-10-16T11:37:28.667247Z",
     "shell.execute_reply": "2023-10-16T11:37:28.666357Z"
    },
    "papermill": {
     "duration": 0.016029,
     "end_time": "2023-10-16T11:37:28.668937",
     "exception": false,
     "start_time": "2023-10-16T11:37:28.652908",
     "status": "completed"
    },
    "tags": []
   },
   "outputs": [],
   "source": [
    "# Genetic Algorithm\n",
    "def genetic_algorithm(population_size, generations):\n",
    "    \"\"\"\n",
    "    Performs a genetic algorithm optimization.\n",
    "\n",
    "    This function creates an initial population and then performs selection, crossover, and mutation operations for a specified number of generations. The fitness of each chromosome in the population is evaluated using the fitness_function.\n",
    "\n",
    "    Args:\n",
    "        population_size (int): The size of the population.\n",
    "        generations (int): The number of generations to run the genetic algorithm.\n",
    "\n",
    "    Returns:\n",
    "        tuple: The best chromosome and its fitness score.\n",
    "    \"\"\"\n",
    "    population = np.random.randint(1, high=26, size=(population_size, 3))\n",
    "    \n",
    "    for generation in range(generations):\n",
    "        print(f\"Generation - {generation + 1}\")\n",
    "        fitness_scores = np.array([fitness_function(chromosome) for chromosome in population])\n",
    "        best_chromosome = population[np.argmax(fitness_scores)]\n",
    "        best_fitness = np.max(fitness_scores)\n",
    "        \n",
    "        new_population = []\n",
    "        \n",
    "        while len(new_population) < population_size:\n",
    "            parent1 = selection(population, fitness_scores)\n",
    "            parent2 = selection(population, fitness_scores)\n",
    "            offspring_1, offspring_2 = crossover(parent1, parent2)\n",
    "            mutate(offspring_1)\n",
    "            mutate(offspring_2)\n",
    "            new_population.append(offspring_1)\n",
    "            new_population.append(offspring_2)\n",
    "        \n",
    "        population = np.array(new_population)\n",
    "    \n",
    "    return best_chromosome, best_fitness\n",
    "\n",
    "# Selection (Tournament selection)\n",
    "def selection(population, fitness_scores, tournament_size=3):\n",
    "    \"\"\"\n",
    "    Performs tournament selection on a population.\n",
    "\n",
    "    Args:\n",
    "        population: A list of individuals.\n",
    "        fitness_scores: A list of fitness scores corresponding to each individual in the population.\n",
    "        tournament_size: An integer indicating the number of individuals to select for the tournament.\n",
    "\n",
    "    Returns:\n",
    "        The individual from the tournament with the highest fitness score.\n",
    "    \"\"\"\n",
    "    indices = np.random.randint(len(population), size=tournament_size)\n",
    "    tournament = population[indices]\n",
    "    tournament_fitness = fitness_scores[indices]\n",
    "    return tournament[np.argmax(tournament_fitness)]\n",
    "\n",
    "# Crossover (Single-point crossover)\n",
    "def crossover(parent1, parent2):\n",
    "    \"\"\"\n",
    "    Performs single-point crossover on two parents.\n",
    "\n",
    "    Args:\n",
    "        parent1: The first parent individual.\n",
    "        parent2: The second parent individual.\n",
    "\n",
    "    Returns:\n",
    "        Two offspring individuals resulting from the crossover of the input parents.\n",
    "    \"\"\"\n",
    "    crossover_point = np.random.randint(1, len(parent1))\n",
    "    offspring_1 = np.concatenate((parent1[:crossover_point], parent2[crossover_point:]))\n",
    "    offspring_2 = np.concatenate((parent2[:crossover_point], parent1[crossover_point:]))\n",
    "    return offspring_1, offspring_2\n",
    "\n",
    "# Mutation (Swap Mutation)\n",
    "def mutate(chromosome, mutation_rate=0.01):\n",
    "    \"\"\"\n",
    "    Performs swap mutation on a chromosome.\n",
    "\n",
    "    Args:\n",
    "        chromosome: The individual to be mutated.\n",
    "        mutation_rate: The probability of each gene being mutated.\n",
    "\n",
    "    Returns:\n",
    "        None. The input chromosome is mutated in-place.\n",
    "    \"\"\"\n",
    "    for i in range(len(chromosome)):\n",
    "        if np.random.rand() < mutation_rate:\n",
    "            j = np.random.randint(len(chromosome))\n",
    "            chromosome[i], chromosome[j] = chromosome[j], chromosome[i]\n",
    "\n",
    "# Fitness Function\n",
    "def fitness_function(chromosome):\n",
    "    \"\"\"\n",
    "    Optimizes the fitness function.\n",
    "\n",
    "    This function builds, trains, and evaluates an LSTM model using the provided chromosome. The fitness score is calculated as the negative value of the loss.\n",
    "\n",
    "    Args:\n",
    "        chromosome (list): A list of values used to determine the number of units in each LSTM layer.\n",
    "\n",
    "    Returns:\n",
    "        float: The fitness score of the model.\n",
    "    \"\"\"\n",
    "    lstm_units = [int(chromosome[i]*10) or default for i, default in enumerate([128, 64, 32])]\n",
    "\n",
    "    # Build the LSTM model\n",
    "    tf.keras.backend.clear_session()\n",
    "    model = Sequential()\n",
    "    for i, units in enumerate(lstm_units[:LSTM_Layer]):\n",
    "        model.add(LSTM(units, return_sequences=(i < LSTM_Layer - 1), input_shape=(WINDOW_SIZE, 1)))\n",
    "    model.add(Dense(1))\n",
    "    \n",
    "    # Compile and train the model\n",
    "    model.compile(loss='mean_squared_error',\n",
    "                  optimizer='adam')\n",
    "    model.fit(X_train, y_train,\n",
    "              epochs=10,\n",
    "              batch_size=32,\n",
    "              verbose=0,\n",
    "              validation_split=0.1)\n",
    "\n",
    "    # Evaluate the model\n",
    "    loss = model.evaluate(X_test, y_test)\n",
    "\n",
    "    # Return the negative value of the loss as the fitness score\n",
    "    return -loss"
   ]
  },
  {
   "cell_type": "code",
   "execution_count": 7,
   "id": "7be024bd",
   "metadata": {
    "execution": {
     "iopub.execute_input": "2023-10-16T11:37:28.676838Z",
     "iopub.status.busy": "2023-10-16T11:37:28.676497Z",
     "iopub.status.idle": "2023-10-16T11:37:28.681328Z",
     "shell.execute_reply": "2023-10-16T11:37:28.680462Z"
    },
    "papermill": {
     "duration": 0.010753,
     "end_time": "2023-10-16T11:37:28.683077",
     "exception": false,
     "start_time": "2023-10-16T11:37:28.672324",
     "status": "completed"
    },
    "tags": []
   },
   "outputs": [],
   "source": [
    "import typing\n",
    "from datetime import datetime\n",
    "\n",
    "def timer(start_time: datetime = None) -> \"typing.Union[datetime.datetime, str]\":\n",
    "    \"\"\"\n",
    "    Calculates the time elapsed since the provided start time.\n",
    "\n",
    "    This function returns the current time if no start time is provided. If a start time is provided, it calculates the time elapsed since the start time and returns it in the format of \"hours minutes and seconds\".\n",
    "\n",
    "    Args:\n",
    "        start_time (datetime, optional): The start time. Defaults to None.\n",
    "\n",
    "    Returns:\n",
    "        typing.Union[datetime.datetime, str]: The current time if no start time is provided, otherwise the time elapsed since the start time.\n",
    "    \"\"\"\n",
    "    if not start_time:\n",
    "        start_time = datetime.now()\n",
    "        return start_time\n",
    "    elif start_time:\n",
    "        thour, temp_sec = divmod((datetime.now() - start_time).total_seconds(), 3600)\n",
    "        tmin, tsec = divmod(temp_sec, 60)\n",
    "        return \"%i hours %i minutes and %s seconds.\" % (\n",
    "            thour,\n",
    "            tmin,\n",
    "            round(tsec, 2),\n",
    "        )"
   ]
  },
  {
   "cell_type": "code",
   "execution_count": 8,
   "id": "d3435bbf",
   "metadata": {
    "execution": {
     "iopub.execute_input": "2023-10-16T11:37:28.691384Z",
     "iopub.status.busy": "2023-10-16T11:37:28.690622Z",
     "iopub.status.idle": "2023-10-16T12:08:23.148181Z",
     "shell.execute_reply": "2023-10-16T12:08:23.147332Z"
    },
    "papermill": {
     "duration": 1854.46428,
     "end_time": "2023-10-16T12:08:23.150753",
     "exception": false,
     "start_time": "2023-10-16T11:37:28.686473",
     "status": "completed"
    },
    "tags": []
   },
   "outputs": [
    {
     "name": "stdout",
     "output_type": "stream",
     "text": [
      "Generation - 1\n",
      "13/13 [==============================] - 0s 4ms/step - loss: 0.0030\n",
      "13/13 [==============================] - 0s 4ms/step - loss: 0.0047\n",
      "13/13 [==============================] - 0s 5ms/step - loss: 0.0042\n",
      "13/13 [==============================] - 0s 4ms/step - loss: 9.3634e-04\n",
      "13/13 [==============================] - 0s 4ms/step - loss: 7.1623e-04\n",
      "Generation - 2\n",
      "13/13 [==============================] - 0s 4ms/step - loss: 0.0012\n",
      "13/13 [==============================] - 0s 4ms/step - loss: 0.0013\n",
      "13/13 [==============================] - 0s 4ms/step - loss: 0.0014\n",
      "13/13 [==============================] - 0s 4ms/step - loss: 0.0018\n",
      "13/13 [==============================] - 0s 4ms/step - loss: 0.0051\n",
      "13/13 [==============================] - 0s 4ms/step - loss: 7.9900e-04\n",
      "Generation - 3\n",
      "13/13 [==============================] - 0s 4ms/step - loss: 0.0022\n",
      "13/13 [==============================] - 0s 4ms/step - loss: 7.8885e-04\n",
      "13/13 [==============================] - 0s 4ms/step - loss: 0.0026\n",
      "13/13 [==============================] - 0s 4ms/step - loss: 0.0019\n",
      "13/13 [==============================] - 0s 4ms/step - loss: 0.0025\n",
      "13/13 [==============================] - 0s 6ms/step - loss: 7.6123e-04\n",
      "Generation - 4\n",
      "13/13 [==============================] - 0s 5ms/step - loss: 0.0014\n",
      "13/13 [==============================] - 0s 4ms/step - loss: 9.1853e-04\n",
      "13/13 [==============================] - 0s 7ms/step - loss: 0.0011\n",
      "13/13 [==============================] - 0s 4ms/step - loss: 0.0040\n",
      "13/13 [==============================] - 0s 4ms/step - loss: 7.6299e-04\n",
      "13/13 [==============================] - 0s 4ms/step - loss: 9.1965e-04\n",
      "Generation - 5\n",
      "13/13 [==============================] - 0s 4ms/step - loss: 0.0033\n",
      "13/13 [==============================] - 0s 4ms/step - loss: 7.7199e-04\n",
      "13/13 [==============================] - 0s 4ms/step - loss: 8.4457e-04\n",
      "13/13 [==============================] - 0s 5ms/step - loss: 0.0016\n",
      "13/13 [==============================] - 0s 4ms/step - loss: 0.0016\n",
      "13/13 [==============================] - 0s 4ms/step - loss: 9.1264e-04\n",
      "Generation - 6\n",
      "13/13 [==============================] - 0s 4ms/step - loss: 0.0016\n",
      "13/13 [==============================] - 0s 4ms/step - loss: 6.4916e-04\n",
      "13/13 [==============================] - 0s 4ms/step - loss: 7.8910e-04\n",
      "13/13 [==============================] - 0s 4ms/step - loss: 8.9346e-04\n",
      "13/13 [==============================] - 0s 4ms/step - loss: 9.0337e-04\n",
      "13/13 [==============================] - 0s 4ms/step - loss: 7.5487e-04\n",
      "Generation - 7\n",
      "13/13 [==============================] - 0s 4ms/step - loss: 0.0025\n",
      "13/13 [==============================] - 0s 4ms/step - loss: 0.0030\n",
      "13/13 [==============================] - 0s 4ms/step - loss: 0.0046\n",
      "13/13 [==============================] - 0s 5ms/step - loss: 0.0019\n",
      "13/13 [==============================] - 0s 4ms/step - loss: 7.6514e-04\n",
      "13/13 [==============================] - 0s 4ms/step - loss: 0.0018\n",
      "Generation - 8\n",
      "13/13 [==============================] - 0s 4ms/step - loss: 0.0049\n",
      "13/13 [==============================] - 0s 4ms/step - loss: 7.7147e-04\n",
      "13/13 [==============================] - 0s 4ms/step - loss: 0.0026\n",
      "13/13 [==============================] - 0s 4ms/step - loss: 0.0011\n",
      "13/13 [==============================] - 0s 5ms/step - loss: 0.0013\n",
      "13/13 [==============================] - 0s 4ms/step - loss: 8.1083e-04\n",
      "Generation - 9\n",
      "13/13 [==============================] - 0s 4ms/step - loss: 0.0022\n",
      "13/13 [==============================] - 0s 4ms/step - loss: 0.0026\n",
      "13/13 [==============================] - 0s 4ms/step - loss: 0.0036\n",
      "13/13 [==============================] - 0s 4ms/step - loss: 0.0021\n",
      "13/13 [==============================] - 0s 7ms/step - loss: 0.0026\n",
      "13/13 [==============================] - 0s 4ms/step - loss: 7.6022e-04\n",
      "Generation - 10\n",
      "13/13 [==============================] - 0s 4ms/step - loss: 7.4088e-04\n",
      "13/13 [==============================] - 0s 5ms/step - loss: 0.0023\n",
      "13/13 [==============================] - 0s 4ms/step - loss: 0.0028\n",
      "13/13 [==============================] - 0s 4ms/step - loss: 0.0020\n",
      "13/13 [==============================] - 0s 4ms/step - loss: 0.0037\n",
      "13/13 [==============================] - 0s 4ms/step - loss: 7.4261e-04\n",
      "Generation - 11\n",
      "13/13 [==============================] - 0s 5ms/step - loss: 8.9159e-04\n",
      "13/13 [==============================] - 0s 4ms/step - loss: 6.8182e-04\n",
      "13/13 [==============================] - 0s 4ms/step - loss: 0.0039\n",
      "13/13 [==============================] - 0s 5ms/step - loss: 7.4091e-04\n",
      "13/13 [==============================] - 0s 4ms/step - loss: 0.0014\n",
      "13/13 [==============================] - 0s 4ms/step - loss: 0.0029\n",
      "Generation - 12\n",
      "13/13 [==============================] - 0s 5ms/step - loss: 0.0015\n",
      "13/13 [==============================] - 0s 4ms/step - loss: 9.6244e-04\n",
      "13/13 [==============================] - 0s 4ms/step - loss: 0.0011\n",
      "13/13 [==============================] - 0s 4ms/step - loss: 0.0040\n",
      "13/13 [==============================] - 0s 4ms/step - loss: 0.0025\n",
      "13/13 [==============================] - 0s 5ms/step - loss: 7.1135e-04\n",
      "Generation - 13\n",
      "13/13 [==============================] - 0s 4ms/step - loss: 0.0020\n",
      "13/13 [==============================] - 0s 4ms/step - loss: 8.4885e-04\n",
      "13/13 [==============================] - 0s 5ms/step - loss: 0.0017\n",
      "13/13 [==============================] - 0s 4ms/step - loss: 0.0011\n",
      "13/13 [==============================] - 0s 4ms/step - loss: 9.9652e-04\n",
      "13/13 [==============================] - 0s 5ms/step - loss: 0.0025\n",
      "Generation - 14\n",
      "13/13 [==============================] - 0s 4ms/step - loss: 0.0012\n",
      "13/13 [==============================] - 0s 8ms/step - loss: 0.0025\n",
      "13/13 [==============================] - 0s 4ms/step - loss: 0.0047\n",
      "13/13 [==============================] - 0s 4ms/step - loss: 0.0013\n",
      "13/13 [==============================] - 0s 5ms/step - loss: 0.0040\n",
      "13/13 [==============================] - 0s 4ms/step - loss: 0.0038\n",
      "Generation - 15\n",
      "13/13 [==============================] - 0s 4ms/step - loss: 0.0038\n",
      "13/13 [==============================] - 0s 5ms/step - loss: 6.7950e-04\n",
      "13/13 [==============================] - 0s 4ms/step - loss: 0.0021\n",
      "13/13 [==============================] - 0s 5ms/step - loss: 0.0014\n",
      "13/13 [==============================] - 0s 4ms/step - loss: 7.2245e-04\n",
      "13/13 [==============================] - 0s 4ms/step - loss: 9.4268e-04\n",
      "Generation - 16\n",
      "13/13 [==============================] - 0s 5ms/step - loss: 9.5229e-04\n",
      "13/13 [==============================] - 0s 4ms/step - loss: 0.0016\n",
      "13/13 [==============================] - 0s 4ms/step - loss: 0.0012\n",
      "13/13 [==============================] - 0s 5ms/step - loss: 0.0013\n",
      "13/13 [==============================] - 0s 4ms/step - loss: 0.0017\n",
      "13/13 [==============================] - 0s 4ms/step - loss: 7.9768e-04\n",
      "Generation - 17\n",
      "13/13 [==============================] - 0s 5ms/step - loss: 0.0041\n",
      "13/13 [==============================] - 0s 4ms/step - loss: 0.0015\n",
      "13/13 [==============================] - 0s 4ms/step - loss: 6.8204e-04\n",
      "13/13 [==============================] - 0s 5ms/step - loss: 0.0038\n",
      "13/13 [==============================] - 0s 4ms/step - loss: 0.0020\n",
      "13/13 [==============================] - 0s 4ms/step - loss: 8.6524e-04\n",
      "Generation - 18\n",
      "13/13 [==============================] - 0s 7ms/step - loss: 7.8248e-04\n",
      "13/13 [==============================] - 0s 4ms/step - loss: 0.0036\n",
      "13/13 [==============================] - 0s 5ms/step - loss: 0.0012\n",
      "13/13 [==============================] - 0s 5ms/step - loss: 0.0032\n",
      "13/13 [==============================] - 0s 4ms/step - loss: 8.6127e-04\n",
      "13/13 [==============================] - 0s 4ms/step - loss: 0.0116\n",
      "Generation - 19\n",
      "13/13 [==============================] - 0s 5ms/step - loss: 0.0042\n",
      "13/13 [==============================] - 0s 4ms/step - loss: 0.0023\n",
      "13/13 [==============================] - 0s 4ms/step - loss: 0.0017\n",
      "13/13 [==============================] - 0s 5ms/step - loss: 0.0011\n",
      "13/13 [==============================] - 0s 4ms/step - loss: 7.1808e-04\n",
      "13/13 [==============================] - 0s 4ms/step - loss: 0.0022\n",
      "Generation - 20\n",
      "13/13 [==============================] - 0s 5ms/step - loss: 0.0023\n",
      "13/13 [==============================] - 0s 4ms/step - loss: 0.0028\n",
      "13/13 [==============================] - 0s 4ms/step - loss: 0.0030\n",
      "13/13 [==============================] - 0s 5ms/step - loss: 0.0035\n",
      "13/13 [==============================] - 0s 4ms/step - loss: 0.0013\n",
      "13/13 [==============================] - 0s 4ms/step - loss: 0.0014\n",
      "Generation - 21\n",
      "13/13 [==============================] - 0s 5ms/step - loss: 9.2005e-04\n",
      "13/13 [==============================] - 0s 4ms/step - loss: 0.0011\n",
      "13/13 [==============================] - 0s 5ms/step - loss: 0.0066\n",
      "13/13 [==============================] - 0s 4ms/step - loss: 0.0023\n",
      "13/13 [==============================] - 0s 4ms/step - loss: 0.0036\n",
      "13/13 [==============================] - 0s 5ms/step - loss: 9.6795e-04\n",
      "Generation - 22\n",
      "13/13 [==============================] - 0s 4ms/step - loss: 8.0743e-04\n",
      "13/13 [==============================] - 0s 4ms/step - loss: 0.0053\n",
      "13/13 [==============================] - 0s 5ms/step - loss: 0.0022\n",
      "13/13 [==============================] - 0s 4ms/step - loss: 0.0025\n",
      "13/13 [==============================] - 0s 4ms/step - loss: 0.0023\n",
      "13/13 [==============================] - 0s 5ms/step - loss: 0.0021\n",
      "Generation - 23\n",
      "13/13 [==============================] - 0s 4ms/step - loss: 0.0017\n",
      "13/13 [==============================] - 0s 4ms/step - loss: 0.0012\n",
      "13/13 [==============================] - 0s 5ms/step - loss: 6.9597e-04\n",
      "13/13 [==============================] - 0s 5ms/step - loss: 6.8854e-04\n",
      "13/13 [==============================] - 0s 5ms/step - loss: 0.0015\n",
      "13/13 [==============================] - 0s 4ms/step - loss: 0.0011\n",
      "Generation - 24\n",
      "13/13 [==============================] - 0s 5ms/step - loss: 0.0063\n",
      "13/13 [==============================] - 0s 4ms/step - loss: 8.5444e-04\n",
      "13/13 [==============================] - 0s 4ms/step - loss: 0.0014\n",
      "13/13 [==============================] - 0s 5ms/step - loss: 0.0022\n",
      "13/13 [==============================] - 0s 4ms/step - loss: 0.0035\n",
      "13/13 [==============================] - 0s 4ms/step - loss: 7.4619e-04\n",
      "Generation - 25\n",
      "13/13 [==============================] - 0s 5ms/step - loss: 0.0011\n",
      "13/13 [==============================] - 0s 4ms/step - loss: 0.0024\n",
      "13/13 [==============================] - 0s 4ms/step - loss: 0.0058\n",
      "13/13 [==============================] - 0s 7ms/step - loss: 0.0045\n",
      "13/13 [==============================] - 0s 4ms/step - loss: 0.0022\n",
      "13/13 [==============================] - 0s 6ms/step - loss: 0.0024\n"
     ]
    }
   ],
   "source": [
    "# Do not increase this value\n",
    "population_size = 5\n",
    "generations = 25\n",
    "\n",
    "time = timer(None)\n",
    "best_chromosome, best_fitness = genetic_algorithm(population_size, generations)\n",
    "time = timer(time)"
   ]
  },
  {
   "cell_type": "code",
   "execution_count": 9,
   "id": "d61afaa1",
   "metadata": {
    "execution": {
     "iopub.execute_input": "2023-10-16T12:08:23.226833Z",
     "iopub.status.busy": "2023-10-16T12:08:23.226372Z",
     "iopub.status.idle": "2023-10-16T12:08:23.231808Z",
     "shell.execute_reply": "2023-10-16T12:08:23.231046Z"
    },
    "papermill": {
     "duration": 0.048294,
     "end_time": "2023-10-16T12:08:23.236949",
     "exception": false,
     "start_time": "2023-10-16T12:08:23.188655",
     "status": "completed"
    },
    "tags": []
   },
   "outputs": [
    {
     "name": "stdout",
     "output_type": "stream",
     "text": [
      "Best Chromosome: [15  9 11]\n",
      "Best Fitness: -0.0010635937796905637\n",
      "Time Taken: 0 hours 30 minutes and 54.45 seconds.\n"
     ]
    }
   ],
   "source": [
    "print(\"Best Chromosome:\", best_chromosome)\n",
    "print(\"Best Fitness:\", best_fitness)\n",
    "print(\"Time Taken:\", time)"
   ]
  },
  {
   "cell_type": "markdown",
   "id": "3f7a204a",
   "metadata": {
    "papermill": {
     "duration": 0.018196,
     "end_time": "2023-10-16T12:08:23.286152",
     "exception": false,
     "start_time": "2023-10-16T12:08:23.267956",
     "status": "completed"
    },
    "tags": []
   },
   "source": [
    "## Re-Training Model with Best Parameter"
   ]
  },
  {
   "cell_type": "code",
   "execution_count": 10,
   "id": "981fbc0e",
   "metadata": {
    "execution": {
     "iopub.execute_input": "2023-10-16T12:08:23.323742Z",
     "iopub.status.busy": "2023-10-16T12:08:23.323492Z",
     "iopub.status.idle": "2023-10-16T12:08:24.883028Z",
     "shell.execute_reply": "2023-10-16T12:08:24.882245Z"
    },
    "papermill": {
     "duration": 1.585789,
     "end_time": "2023-10-16T12:08:24.890253",
     "exception": false,
     "start_time": "2023-10-16T12:08:23.304464",
     "status": "completed"
    },
    "tags": []
   },
   "outputs": [
    {
     "name": "stdout",
     "output_type": "stream",
     "text": [
      "Model: \"sequential_1\"\n",
      "_________________________________________________________________\n",
      " Layer (type)                Output Shape              Param #   \n",
      "=================================================================\n",
      " lstm_3 (LSTM)               (None, 20, 150)           91200     \n",
      "                                                                 \n",
      " lstm_4 (LSTM)               (None, 20, 90)            86760     \n",
      "                                                                 \n",
      " lstm_5 (LSTM)               (None, 110)               88440     \n",
      "                                                                 \n",
      " dense_1 (Dense)             (None, 1)                 111       \n",
      "                                                                 \n",
      "=================================================================\n",
      "Total params: 266,511\n",
      "Trainable params: 266,511\n",
      "Non-trainable params: 0\n",
      "_________________________________________________________________\n"
     ]
    }
   ],
   "source": [
    "model = Sequential()\n",
    "for i, units in enumerate(best_chromosome[:LSTM_Layer]):\n",
    "    model.add(LSTM(units*10, return_sequences=(i < LSTM_Layer - 1), input_shape=(WINDOW_SIZE, 1)))\n",
    "model.add(Dense(1))\n",
    "\n",
    "model.summary()"
   ]
  },
  {
   "cell_type": "code",
   "execution_count": 11,
   "id": "3280dbf5",
   "metadata": {
    "execution": {
     "iopub.execute_input": "2023-10-16T12:08:24.930778Z",
     "iopub.status.busy": "2023-10-16T12:08:24.930450Z",
     "iopub.status.idle": "2023-10-16T12:09:09.675305Z",
     "shell.execute_reply": "2023-10-16T12:09:09.674286Z"
    },
    "papermill": {
     "duration": 44.767584,
     "end_time": "2023-10-16T12:09:09.677761",
     "exception": false,
     "start_time": "2023-10-16T12:08:24.910177",
     "status": "completed"
    },
    "tags": []
   },
   "outputs": [
    {
     "name": "stdout",
     "output_type": "stream",
     "text": [
      "Epoch 1/50\n",
      "44/44 [==============================] - 6s 32ms/step - loss: 0.0113 - mae: 0.0725 - root_mean_squared_error: 0.1061 - val_loss: 0.0017 - val_mae: 0.0336 - val_root_mean_squared_error: 0.0407\n",
      "Epoch 2/50\n",
      "44/44 [==============================] - 0s 9ms/step - loss: 0.0045 - mae: 0.0418 - root_mean_squared_error: 0.0669 - val_loss: 6.9125e-04 - val_mae: 0.0219 - val_root_mean_squared_error: 0.0263\n",
      "Epoch 3/50\n",
      "44/44 [==============================] - 0s 11ms/step - loss: 0.0040 - mae: 0.0386 - root_mean_squared_error: 0.0635 - val_loss: 6.7860e-04 - val_mae: 0.0214 - val_root_mean_squared_error: 0.0260\n",
      "Epoch 4/50\n",
      "44/44 [==============================] - 0s 9ms/step - loss: 0.0036 - mae: 0.0354 - root_mean_squared_error: 0.0601 - val_loss: 7.1136e-04 - val_mae: 0.0211 - val_root_mean_squared_error: 0.0267\n",
      "Epoch 5/50\n",
      "44/44 [==============================] - 0s 9ms/step - loss: 0.0035 - mae: 0.0348 - root_mean_squared_error: 0.0589 - val_loss: 5.5147e-04 - val_mae: 0.0187 - val_root_mean_squared_error: 0.0235\n",
      "Epoch 6/50\n",
      "44/44 [==============================] - 0s 10ms/step - loss: 0.0036 - mae: 0.0368 - root_mean_squared_error: 0.0597 - val_loss: 5.2392e-04 - val_mae: 0.0183 - val_root_mean_squared_error: 0.0229\n",
      "Epoch 7/50\n",
      "44/44 [==============================] - 0s 9ms/step - loss: 0.0033 - mae: 0.0338 - root_mean_squared_error: 0.0572 - val_loss: 4.7988e-04 - val_mae: 0.0175 - val_root_mean_squared_error: 0.0219\n",
      "Epoch 8/50\n",
      "44/44 [==============================] - 0s 9ms/step - loss: 0.0034 - mae: 0.0361 - root_mean_squared_error: 0.0580 - val_loss: 0.0013 - val_mae: 0.0313 - val_root_mean_squared_error: 0.0362\n",
      "Epoch 9/50\n",
      "44/44 [==============================] - 0s 11ms/step - loss: 0.0032 - mae: 0.0325 - root_mean_squared_error: 0.0561 - val_loss: 3.8399e-04 - val_mae: 0.0158 - val_root_mean_squared_error: 0.0196\n",
      "Epoch 10/50\n",
      "44/44 [==============================] - 0s 10ms/step - loss: 0.0030 - mae: 0.0318 - root_mean_squared_error: 0.0552 - val_loss: 3.4930e-04 - val_mae: 0.0150 - val_root_mean_squared_error: 0.0187\n",
      "Epoch 11/50\n",
      "44/44 [==============================] - 0s 10ms/step - loss: 0.0029 - mae: 0.0304 - root_mean_squared_error: 0.0535 - val_loss: 3.6240e-04 - val_mae: 0.0153 - val_root_mean_squared_error: 0.0190\n",
      "Epoch 12/50\n",
      "44/44 [==============================] - 1s 12ms/step - loss: 0.0027 - mae: 0.0294 - root_mean_squared_error: 0.0523 - val_loss: 3.4317e-04 - val_mae: 0.0145 - val_root_mean_squared_error: 0.0185\n",
      "Epoch 13/50\n",
      "44/44 [==============================] - 0s 10ms/step - loss: 0.0026 - mae: 0.0283 - root_mean_squared_error: 0.0508 - val_loss: 3.0421e-04 - val_mae: 0.0137 - val_root_mean_squared_error: 0.0174\n",
      "Epoch 14/50\n",
      "44/44 [==============================] - 0s 10ms/step - loss: 0.0026 - mae: 0.0287 - root_mean_squared_error: 0.0508 - val_loss: 8.5244e-04 - val_mae: 0.0255 - val_root_mean_squared_error: 0.0292\n",
      "Epoch 15/50\n",
      "44/44 [==============================] - 0s 10ms/step - loss: 0.0025 - mae: 0.0287 - root_mean_squared_error: 0.0499 - val_loss: 2.8883e-04 - val_mae: 0.0132 - val_root_mean_squared_error: 0.0170\n",
      "Epoch 16/50\n",
      "44/44 [==============================] - 0s 11ms/step - loss: 0.0023 - mae: 0.0271 - root_mean_squared_error: 0.0485 - val_loss: 2.9190e-04 - val_mae: 0.0133 - val_root_mean_squared_error: 0.0171\n",
      "Epoch 17/50\n",
      "44/44 [==============================] - 0s 10ms/step - loss: 0.0024 - mae: 0.0292 - root_mean_squared_error: 0.0487 - val_loss: 2.3637e-04 - val_mae: 0.0117 - val_root_mean_squared_error: 0.0154\n",
      "Epoch 18/50\n",
      "44/44 [==============================] - 0s 10ms/step - loss: 0.0024 - mae: 0.0276 - root_mean_squared_error: 0.0485 - val_loss: 9.7271e-04 - val_mae: 0.0280 - val_root_mean_squared_error: 0.0312\n",
      "Epoch 19/50\n",
      "44/44 [==============================] - 0s 11ms/step - loss: 0.0022 - mae: 0.0270 - root_mean_squared_error: 0.0469 - val_loss: 5.4490e-04 - val_mae: 0.0199 - val_root_mean_squared_error: 0.0233\n",
      "Epoch 20/50\n",
      "44/44 [==============================] - 0s 10ms/step - loss: 0.0021 - mae: 0.0257 - root_mean_squared_error: 0.0460 - val_loss: 4.3904e-04 - val_mae: 0.0175 - val_root_mean_squared_error: 0.0210\n",
      "Epoch 21/50\n",
      "44/44 [==============================] - 0s 11ms/step - loss: 0.0021 - mae: 0.0248 - root_mean_squared_error: 0.0462 - val_loss: 1.9640e-04 - val_mae: 0.0105 - val_root_mean_squared_error: 0.0140\n",
      "Epoch 22/50\n",
      "44/44 [==============================] - 0s 11ms/step - loss: 0.0023 - mae: 0.0276 - root_mean_squared_error: 0.0476 - val_loss: 2.2716e-04 - val_mae: 0.0116 - val_root_mean_squared_error: 0.0151\n",
      "Epoch 23/50\n",
      "44/44 [==============================] - 0s 10ms/step - loss: 0.0020 - mae: 0.0229 - root_mean_squared_error: 0.0443 - val_loss: 2.6053e-04 - val_mae: 0.0131 - val_root_mean_squared_error: 0.0161\n",
      "Epoch 24/50\n",
      "44/44 [==============================] - 0s 11ms/step - loss: 0.0020 - mae: 0.0237 - root_mean_squared_error: 0.0446 - val_loss: 2.0341e-04 - val_mae: 0.0109 - val_root_mean_squared_error: 0.0143\n",
      "Epoch 25/50\n",
      "44/44 [==============================] - 0s 10ms/step - loss: 0.0020 - mae: 0.0237 - root_mean_squared_error: 0.0443 - val_loss: 4.7562e-04 - val_mae: 0.0187 - val_root_mean_squared_error: 0.0218\n",
      "Epoch 26/50\n",
      "44/44 [==============================] - 0s 11ms/step - loss: 0.0021 - mae: 0.0251 - root_mean_squared_error: 0.0455 - val_loss: 2.3947e-04 - val_mae: 0.0120 - val_root_mean_squared_error: 0.0155\n",
      "Epoch 27/50\n",
      "44/44 [==============================] - 0s 11ms/step - loss: 0.0020 - mae: 0.0237 - root_mean_squared_error: 0.0448 - val_loss: 1.8683e-04 - val_mae: 0.0103 - val_root_mean_squared_error: 0.0137\n",
      "Epoch 28/50\n",
      "44/44 [==============================] - 0s 11ms/step - loss: 0.0021 - mae: 0.0257 - root_mean_squared_error: 0.0456 - val_loss: 6.9569e-04 - val_mae: 0.0237 - val_root_mean_squared_error: 0.0264\n",
      "Epoch 29/50\n",
      "44/44 [==============================] - 0s 11ms/step - loss: 0.0021 - mae: 0.0247 - root_mean_squared_error: 0.0453 - val_loss: 1.8254e-04 - val_mae: 0.0099 - val_root_mean_squared_error: 0.0135\n",
      "Epoch 30/50\n",
      "44/44 [==============================] - 0s 11ms/step - loss: 0.0020 - mae: 0.0235 - root_mean_squared_error: 0.0444 - val_loss: 1.7969e-04 - val_mae: 0.0099 - val_root_mean_squared_error: 0.0134\n",
      "Epoch 31/50\n",
      "44/44 [==============================] - 0s 10ms/step - loss: 0.0020 - mae: 0.0241 - root_mean_squared_error: 0.0444 - val_loss: 3.2566e-04 - val_mae: 0.0152 - val_root_mean_squared_error: 0.0180\n",
      "Epoch 32/50\n",
      "44/44 [==============================] - 0s 10ms/step - loss: 0.0020 - mae: 0.0246 - root_mean_squared_error: 0.0451 - val_loss: 2.1985e-04 - val_mae: 0.0114 - val_root_mean_squared_error: 0.0148\n",
      "Epoch 33/50\n",
      "44/44 [==============================] - 0s 11ms/step - loss: 0.0020 - mae: 0.0234 - root_mean_squared_error: 0.0444 - val_loss: 3.7052e-04 - val_mae: 0.0165 - val_root_mean_squared_error: 0.0192\n",
      "Epoch 34/50\n",
      "44/44 [==============================] - 0s 10ms/step - loss: 0.0021 - mae: 0.0256 - root_mean_squared_error: 0.0458 - val_loss: 2.3638e-04 - val_mae: 0.0123 - val_root_mean_squared_error: 0.0154\n",
      "Epoch 35/50\n",
      "44/44 [==============================] - 0s 11ms/step - loss: 0.0021 - mae: 0.0261 - root_mean_squared_error: 0.0454 - val_loss: 2.2079e-04 - val_mae: 0.0116 - val_root_mean_squared_error: 0.0149\n",
      "Epoch 36/50\n",
      "44/44 [==============================] - 0s 10ms/step - loss: 0.0021 - mae: 0.0262 - root_mean_squared_error: 0.0463 - val_loss: 1.8530e-04 - val_mae: 0.0102 - val_root_mean_squared_error: 0.0136\n",
      "Epoch 37/50\n",
      "44/44 [==============================] - 0s 11ms/step - loss: 0.0019 - mae: 0.0230 - root_mean_squared_error: 0.0440 - val_loss: 2.8432e-04 - val_mae: 0.0136 - val_root_mean_squared_error: 0.0169\n",
      "Epoch 38/50\n",
      "44/44 [==============================] - 0s 11ms/step - loss: 0.0021 - mae: 0.0253 - root_mean_squared_error: 0.0455 - val_loss: 4.3737e-04 - val_mae: 0.0178 - val_root_mean_squared_error: 0.0209\n",
      "Epoch 39/50\n",
      "44/44 [==============================] - 0s 10ms/step - loss: 0.0019 - mae: 0.0226 - root_mean_squared_error: 0.0440 - val_loss: 1.9658e-04 - val_mae: 0.0107 - val_root_mean_squared_error: 0.0140\n",
      "Epoch 40/50\n",
      "44/44 [==============================] - 0s 11ms/step - loss: 0.0019 - mae: 0.0227 - root_mean_squared_error: 0.0438 - val_loss: 1.8382e-04 - val_mae: 0.0100 - val_root_mean_squared_error: 0.0136\n",
      "Epoch 41/50\n",
      "44/44 [==============================] - 0s 10ms/step - loss: 0.0019 - mae: 0.0226 - root_mean_squared_error: 0.0438 - val_loss: 2.1101e-04 - val_mae: 0.0112 - val_root_mean_squared_error: 0.0145\n",
      "Epoch 42/50\n",
      "44/44 [==============================] - 0s 10ms/step - loss: 0.0020 - mae: 0.0252 - root_mean_squared_error: 0.0442 - val_loss: 2.5922e-04 - val_mae: 0.0127 - val_root_mean_squared_error: 0.0161\n",
      "Epoch 43/50\n",
      "44/44 [==============================] - 0s 10ms/step - loss: 0.0019 - mae: 0.0230 - root_mean_squared_error: 0.0441 - val_loss: 2.8758e-04 - val_mae: 0.0141 - val_root_mean_squared_error: 0.0170\n",
      "Epoch 44/50\n",
      "44/44 [==============================] - 0s 10ms/step - loss: 0.0020 - mae: 0.0235 - root_mean_squared_error: 0.0442 - val_loss: 3.0356e-04 - val_mae: 0.0141 - val_root_mean_squared_error: 0.0174\n",
      "Epoch 45/50\n",
      "44/44 [==============================] - 0s 10ms/step - loss: 0.0019 - mae: 0.0225 - root_mean_squared_error: 0.0436 - val_loss: 2.1308e-04 - val_mae: 0.0114 - val_root_mean_squared_error: 0.0146\n",
      "Epoch 46/50\n",
      "44/44 [==============================] - 0s 10ms/step - loss: 0.0020 - mae: 0.0240 - root_mean_squared_error: 0.0443 - val_loss: 3.7170e-04 - val_mae: 0.0166 - val_root_mean_squared_error: 0.0193\n",
      "Epoch 47/50\n",
      "44/44 [==============================] - 0s 10ms/step - loss: 0.0019 - mae: 0.0228 - root_mean_squared_error: 0.0439 - val_loss: 2.2734e-04 - val_mae: 0.0120 - val_root_mean_squared_error: 0.0151\n",
      "Epoch 48/50\n",
      "44/44 [==============================] - 0s 10ms/step - loss: 0.0019 - mae: 0.0224 - root_mean_squared_error: 0.0437 - val_loss: 3.5426e-04 - val_mae: 0.0161 - val_root_mean_squared_error: 0.0188\n",
      "Epoch 49/50\n",
      "44/44 [==============================] - 0s 11ms/step - loss: 0.0020 - mae: 0.0231 - root_mean_squared_error: 0.0444 - val_loss: 1.7375e-04 - val_mae: 0.0097 - val_root_mean_squared_error: 0.0132\n",
      "Epoch 50/50\n",
      "44/44 [==============================] - 0s 11ms/step - loss: 0.0020 - mae: 0.0243 - root_mean_squared_error: 0.0449 - val_loss: 3.1102e-04 - val_mae: 0.0148 - val_root_mean_squared_error: 0.0176\n"
     ]
    }
   ],
   "source": [
    "model.compile(loss='mean_squared_error',\n",
    "              metrics=['mae', RootMeanSquaredError()],\n",
    "              optimizer='adam')\n",
    "\n",
    "history = model.fit(X_train,\n",
    "                    y_train,\n",
    "                    epochs=50,\n",
    "                    batch_size=32,\n",
    "                    validation_split=0.1)"
   ]
  },
  {
   "cell_type": "code",
   "execution_count": 12,
   "id": "959bfdde",
   "metadata": {
    "execution": {
     "iopub.execute_input": "2023-10-16T12:09:09.759925Z",
     "iopub.status.busy": "2023-10-16T12:09:09.759093Z",
     "iopub.status.idle": "2023-10-16T12:09:09.965243Z",
     "shell.execute_reply": "2023-10-16T12:09:09.964264Z"
    },
    "papermill": {
     "duration": 0.248388,
     "end_time": "2023-10-16T12:09:09.966998",
     "exception": false,
     "start_time": "2023-10-16T12:09:09.718610",
     "status": "completed"
    },
    "tags": []
   },
   "outputs": [
    {
     "name": "stdout",
     "output_type": "stream",
     "text": [
      "13/13 [==============================] - 0s 5ms/step - loss: 4.2577e-04 - mae: 0.0159 - root_mean_squared_error: 0.0206\n"
     ]
    },
    {
     "data": {
      "text/plain": [
       "[0.00042576921987347305, 0.015850573778152466, 0.020634176209568977]"
      ]
     },
     "execution_count": 12,
     "metadata": {},
     "output_type": "execute_result"
    }
   ],
   "source": [
    "model.evaluate(X_test, y_test)"
   ]
  },
  {
   "cell_type": "markdown",
   "id": "4454f0d6",
   "metadata": {
    "papermill": {
     "duration": 0.039154,
     "end_time": "2023-10-16T12:09:10.046252",
     "exception": false,
     "start_time": "2023-10-16T12:09:10.007098",
     "status": "completed"
    },
    "tags": []
   },
   "source": [
    "## Model Evaluation"
   ]
  },
  {
   "cell_type": "code",
   "execution_count": 13,
   "id": "cfc45cf0",
   "metadata": {
    "execution": {
     "iopub.execute_input": "2023-10-16T12:09:10.125931Z",
     "iopub.status.busy": "2023-10-16T12:09:10.125610Z",
     "iopub.status.idle": "2023-10-16T12:09:10.391656Z",
     "shell.execute_reply": "2023-10-16T12:09:10.390796Z"
    },
    "papermill": {
     "duration": 0.308224,
     "end_time": "2023-10-16T12:09:10.393381",
     "exception": false,
     "start_time": "2023-10-16T12:09:10.085157",
     "status": "completed"
    },
    "tags": []
   },
   "outputs": [
    {
     "data": {
      "image/png": "[encoded data removed]",
      "text/plain": [
       "<Figure size 640x480 with 1 Axes>"
      ]
     },
     "metadata": {},
     "output_type": "display_data"
    }
   ],
   "source": [
    "plt.plot(history.history['loss'])\n",
    "plt.plot(history.history['val_loss'])\n",
    "plt.title(f'{SHEET_NAME[2]} Model Loss', fontsize=15)\n",
    "plt.ylabel('loss')\n",
    "plt.xlabel('epoch')\n",
    "plt.legend(['train', 'test'])\n",
    "plt.show()"
   ]
  },
  {
   "cell_type": "code",
   "execution_count": 14,
   "id": "d06e3547",
   "metadata": {
    "execution": {
     "iopub.execute_input": "2023-10-16T12:09:10.478010Z",
     "iopub.status.busy": "2023-10-16T12:09:10.477712Z",
     "iopub.status.idle": "2023-10-16T12:09:11.643406Z",
     "shell.execute_reply": "2023-10-16T12:09:11.642481Z"
    },
    "papermill": {
     "duration": 1.209916,
     "end_time": "2023-10-16T12:09:11.645572",
     "exception": false,
     "start_time": "2023-10-16T12:09:10.435656",
     "status": "completed"
    },
    "tags": []
   },
   "outputs": [
    {
     "name": "stdout",
     "output_type": "stream",
     "text": [
      "13/13 [==============================] - 1s 4ms/step\n"
     ]
    }
   ],
   "source": [
    "y_hat = model.predict(X_test)\n",
    "y_test_inverse = scaler.inverse_transform(y_test)\n",
    "y_hat_inverse = scaler.inverse_transform(y_hat)"
   ]
  },
  {
   "cell_type": "code",
   "execution_count": 15,
   "id": "bd67dd34",
   "metadata": {
    "execution": {
     "iopub.execute_input": "2023-10-16T12:09:11.726889Z",
     "iopub.status.busy": "2023-10-16T12:09:11.726308Z",
     "iopub.status.idle": "2023-10-16T12:09:11.999315Z",
     "shell.execute_reply": "2023-10-16T12:09:11.998486Z"
    },
    "papermill": {
     "duration": 0.315189,
     "end_time": "2023-10-16T12:09:12.001184",
     "exception": false,
     "start_time": "2023-10-16T12:09:11.685995",
     "status": "completed"
    },
    "tags": []
   },
   "outputs": [
    {
     "data": {
      "image/png": "[encoded data removed]",
      "text/plain": [
       "<Figure size 640x480 with 1 Axes>"
      ]
     },
     "metadata": {},
     "output_type": "display_data"
    }
   ],
   "source": [
    "plt.plot(y_test_inverse, label=\"Actual Price\", color='green')\n",
    "plt.plot(y_hat_inverse, label=\"Predicted Price\", color='red')\n",
    " \n",
    "plt.title(f'{SHEET_NAME[2]} Price Prediction\\nLSTM = {LSTM_Layer}, Split Data = {SPLIT}, Window = {WINDOW_SIZE}', fontsize=15)\n",
    "plt.xlabel('Time [days]')\n",
    "plt.ylabel('Price')\n",
    "plt.legend(loc='best')\n",
    " \n",
    "plt.show()"
   ]
  },
  {
   "cell_type": "code",
   "execution_count": 16,
   "id": "89581e59",
   "metadata": {
    "execution": {
     "iopub.execute_input": "2023-10-16T12:09:12.127302Z",
     "iopub.status.busy": "2023-10-16T12:09:12.126973Z",
     "iopub.status.idle": "2023-10-16T12:09:12.135851Z",
     "shell.execute_reply": "2023-10-16T12:09:12.134489Z"
    },
    "papermill": {
     "duration": 0.051943,
     "end_time": "2023-10-16T12:09:12.137537",
     "exception": false,
     "start_time": "2023-10-16T12:09:12.085594",
     "status": "completed"
    },
    "tags": []
   },
   "outputs": [
    {
     "name": "stdout",
     "output_type": "stream",
     "text": [
      "LSTM = 3, Split Data = 0.8, Window = 20\n",
      "\n",
      "----------------- Normalized Error -----------------\n",
      "Mean Absolute Error for prediction : 0.015850575183731893\n",
      "Mean Squared Error for prediction : 0.0004257692332214638\n",
      "Root Mean Squared Error for prediction : 0.020634176339787924\n",
      "\n",
      "----------------- Actual Error -----------------\n",
      "Mean Absolute Error for prediction : 33.420260248872395\n",
      "Mean Squared Error for prediction : 1892.7954276287062\n",
      "Root Mean Squared Error for prediction : 43.50626883138459\n"
     ]
    }
   ],
   "source": [
    "def matrices(actual, predicted):\n",
    "    mse = mean_squared_error(actual, predicted)\n",
    "    mae = mean_absolute_error(actual, predicted)\n",
    "    rmse = np.sqrt(mse)\n",
    "    print(\"Mean Absolute Error for prediction :\", mae)\n",
    "    print(\"Mean Squared Error for prediction :\", mse)\n",
    "    print(\"Root Mean Squared Error for prediction :\", rmse)\n",
    "    return mae, mse, rmse\n",
    "\n",
    "print(f\"LSTM = {LSTM_Layer}, Split Data = {SPLIT}, Window = {WINDOW_SIZE}\")\n",
    "print(\"\\n----------------- Normalized Error -----------------\")\n",
    "mae, mse, rmse = matrices(y_test, y_hat)\n",
    "print(\"\\n----------------- Actual Error -----------------\")\n",
    "mae_inverse, mse_inverse, rmse_inverse = matrices(y_test_inverse, y_hat_inverse)"
   ]
  }
 ],
 "metadata": {
  "kernelspec": {
   "display_name": "Python 3",
   "language": "python",
   "name": "python3"
  },
  "language_info": {
   "codemirror_mode": {
    "name": "ipython",
    "version": 3
   },
   "file_extension": ".py",
   "mimetype": "text/x-python",
   "name": "python",
   "nbconvert_exporter": "python",
   "pygments_lexer": "ipython3",
   "version": "3.10.5"
  },
  "papermill": {
   "default_parameters": {},
   "duration": 1926.279134,
   "end_time": "2023-10-16T12:09:15.814707",
   "environment_variables": {},
   "exception": null,
   "input_path": "__notebook__.ipynb",
   "output_path": "__notebook__.ipynb",
   "parameters": {},
   "start_time": "2023-10-16T11:37:09.535573",
   "version": "2.4.0"
  }
 },
 "nbformat": 4,
 "nbformat_minor": 5
}
