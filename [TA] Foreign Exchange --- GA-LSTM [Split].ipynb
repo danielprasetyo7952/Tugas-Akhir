{
 "cells": [
  {
   "cell_type": "code",
   "execution_count": null,
   "id": "c656717e",
   "metadata": {
    "execution": {
     "iopub.execute_input": "2023-10-16T11:37:18.378403Z",
     "iopub.status.busy": "2023-10-16T11:37:18.377997Z",
     "iopub.status.idle": "2023-10-16T11:37:26.402579Z",
     "shell.execute_reply": "2023-10-16T11:37:26.401623Z"
    },
    "papermill": {
     "duration": 8.032002,
     "end_time": "2023-10-16T11:37:26.404737",
     "exception": false,
     "start_time": "2023-10-16T11:37:18.372735",
     "status": "completed"
    },
    "tags": []
   },
   "outputs": [],
   "source": [
    "import pandas as pd\n",
    "import numpy as np\n",
    "import tensorflow as tf\n",
    "import matplotlib.pyplot as plt\n",
    "import datetime, pytz\n",
    "\n",
    "from keras.models import Sequential\n",
    "from keras.layers import LSTM, Dense\n",
    "from keras.metrics import RootMeanSquaredError\n",
    "\n",
    "from sklearn.preprocessing import MinMaxScaler\n",
    "from sklearn.metrics import mean_squared_error, mean_absolute_error"
   ]
  },
  {
   "cell_type": "markdown",
   "id": "a23bf1fc",
   "metadata": {
    "papermill": {
     "duration": 0.003023,
     "end_time": "2023-10-16T11:37:26.411616",
     "exception": false,
     "start_time": "2023-10-16T11:37:26.408593",
     "status": "completed"
    },
    "tags": []
   },
   "source": [
    "## Hyperparameter"
   ]
  },
  {
   "cell_type": "code",
   "execution_count": null,
   "id": "e375b6a9",
   "metadata": {
    "execution": {
     "iopub.execute_input": "2023-10-16T11:37:26.419801Z",
     "iopub.status.busy": "2023-10-16T11:37:26.418794Z",
     "iopub.status.idle": "2023-10-16T11:37:26.423618Z",
     "shell.execute_reply": "2023-10-16T11:37:26.422802Z"
    },
    "papermill": {
     "duration": 0.010568,
     "end_time": "2023-10-16T11:37:26.425262",
     "exception": false,
     "start_time": "2023-10-16T11:37:26.414694",
     "status": "completed"
    },
    "tags": []
   },
   "outputs": [],
   "source": [
    "SEQ_LEN = 21 # 6, 11, 21\n",
    "SPLIT = 0.80 # 0.80, 0.90\n",
    "LSTM_Layer = 3 # 1, 2, 3\n",
    "WINDOW_SIZE = SEQ_LEN - 1"
   ]
  },
  {
   "cell_type": "code",
   "execution_count": null,
   "id": "2f31fb2b",
   "metadata": {
    "execution": {
     "iopub.execute_input": "2023-10-16T11:37:26.433155Z",
     "iopub.status.busy": "2023-10-16T11:37:26.432358Z",
     "iopub.status.idle": "2023-10-16T11:37:28.599443Z",
     "shell.execute_reply": "2023-10-16T11:37:28.598489Z"
    },
    "papermill": {
     "duration": 2.17307,
     "end_time": "2023-10-16T11:37:28.601393",
     "exception": false,
     "start_time": "2023-10-16T11:37:26.428323",
     "status": "completed"
    },
    "tags": []
   },
   "outputs": [],
   "source": [
    "# Google Spreadsheet ID\n",
    "SHEET_ID = '1JDNv_mArl-GPIpxuWS5GxgVEwvjXocS1MrXGc6TYs8M'\n",
    "SHEET_NAME = ['USD/IDR', 'EUR/IDR', 'SGD/IDR']\n",
    "\n",
    "url = f'https://docs.google.com/spreadsheets/d/{SHEET_ID}/gviz/tq?tqx=out:csv&sheet={SHEET_NAME[2]}'\n",
    "data = pd.read_csv(url)\n",
    "\n",
    "# Convert Date columns to datetime format\n",
    "data['Date'] = pd.to_datetime(data['Date'], format='%d/%m/%Y %H:%M:%S')\n",
    "data.info()"
   ]
  },
  {
   "cell_type": "markdown",
   "id": "eebd0688",
   "metadata": {
    "papermill": {
     "duration": 0.003296,
     "end_time": "2023-10-16T11:37:28.608187",
     "exception": false,
     "start_time": "2023-10-16T11:37:28.604891",
     "status": "completed"
    },
    "tags": []
   },
   "source": [
    "## Preprocessing"
   ]
  },
  {
   "cell_type": "code",
   "execution_count": null,
   "id": "24abc19d",
   "metadata": {
    "execution": {
     "iopub.execute_input": "2023-10-16T11:37:28.615909Z",
     "iopub.status.busy": "2023-10-16T11:37:28.615527Z",
     "iopub.status.idle": "2023-10-16T11:37:28.624142Z",
     "shell.execute_reply": "2023-10-16T11:37:28.623235Z"
    },
    "papermill": {
     "duration": 0.014376,
     "end_time": "2023-10-16T11:37:28.625760",
     "exception": false,
     "start_time": "2023-10-16T11:37:28.611384",
     "status": "completed"
    },
    "tags": []
   },
   "outputs": [],
   "source": [
    "scaler = MinMaxScaler()\n",
    "close_price = data.Close.values.reshape(-1, 1)\n",
    "scaled_close = scaler.fit_transform(close_price)"
   ]
  },
  {
   "cell_type": "code",
   "execution_count": null,
   "metadata": {},
   "outputs": [],
   "source": [
    "print(\"----------- Normalize Data Shape -----------\")\n",
    "print(scaled_close.shape)\n",
    "print(\"\\n----------- Normalize Data -----------\")\n",
    "print(scaled_close)"
   ]
  },
  {
   "cell_type": "code",
   "execution_count": null,
   "id": "890cde3b",
   "metadata": {
    "execution": {
     "iopub.execute_input": "2023-10-16T11:37:28.633846Z",
     "iopub.status.busy": "2023-10-16T11:37:28.633102Z",
     "iopub.status.idle": "2023-10-16T11:37:28.641323Z",
     "shell.execute_reply": "2023-10-16T11:37:28.640557Z"
    },
    "papermill": {
     "duration": 0.01394,
     "end_time": "2023-10-16T11:37:28.642950",
     "exception": false,
     "start_time": "2023-10-16T11:37:28.629010",
     "status": "completed"
    },
    "tags": []
   },
   "outputs": [],
   "source": [
    "def to_sequences(data, seq_len):\n",
    "    \"\"\"\n",
    "    Converts a list of data into a sequence of equal length.\n",
    "\n",
    "    Args:\n",
    "        data: A list of numerical values.\n",
    "        seq_len: An integer indicating the length of each sequence.\n",
    "\n",
    "    Returns:\n",
    "        A numpy array of shape (len(data) - seq_len, seq_len) containing the sequences.\n",
    "    \"\"\"\n",
    "    d = []\n",
    "    for index in range(len(data) - seq_len):\n",
    "        d.append(data[index: index + seq_len])\n",
    "    return np.array(d)\n",
    "\n",
    "def preprocess(data_raw, seq_len, train_split):\n",
    "    \"\"\"\n",
    "    Preprocesses the raw data for training and testing.\n",
    "\n",
    "    Args:\n",
    "        data_raw: A list of numerical values.\n",
    "        seq_len: An integer indicating the length of each sequence.\n",
    "        train_split: A float between 0 and 1 indicating the fraction of data to use for training.\n",
    "\n",
    "    Returns:\n",
    "        A tuple of four numpy arrays: (X_train, y_train, X_test, y_test).\n",
    "        X_train and X_test are the input sequences for training and testing, respectively.\n",
    "        y_train and y_test are the output values for training and testing, respectively.\n",
    "    \"\"\"\n",
    "    data = to_sequences(data_raw, seq_len)\n",
    "    num_train = int(train_split * data.shape[0])\n",
    "    X_train = data[:num_train, :-1, :]\n",
    "    y_train = data[:num_train, -1, :]\n",
    "    X_test = data[num_train:, :-1, :]\n",
    "    y_test = data[num_train:, -1, :]\n",
    "    return X_train, y_train, X_test, y_test\n",
    "\n",
    "X_train, y_train, X_test, y_test = preprocess(scaled_close, SEQ_LEN, train_split = SPLIT)"
   ]
  },
  {
   "cell_type": "markdown",
   "id": "0a02d0a7",
   "metadata": {
    "papermill": {
     "duration": 0.003208,
     "end_time": "2023-10-16T11:37:28.649596",
     "exception": false,
     "start_time": "2023-10-16T11:37:28.646388",
     "status": "completed"
    },
    "tags": []
   },
   "source": [
    "## Genetic Algorithm"
   ]
  },
  {
   "cell_type": "code",
   "execution_count": null,
   "id": "bfc8e962",
   "metadata": {},
   "outputs": [],
   "source": [
    "def decimal_to_binary(chromosome: list):\n",
    "    \"\"\"\n",
    "    Converts a list of decimal numbers to a binary string.\n",
    "\n",
    "    Parameters:\n",
    "        chromosome (list): A list of decimal numbers.\n",
    "\n",
    "    Returns:\n",
    "        binary_string (str): A binary string representation of the decimal numbers.\n",
    "    \"\"\"\n",
    "    binary_string = ''.join([bin(x)[2:].zfill(8) for x in chromosome])\n",
    "    return binary_string\n",
    "\n",
    "def binary_to_decimal(binary_string: str):\n",
    "    \"\"\"\n",
    "    Converts a binary string to a list of decimal numbers.\n",
    "\n",
    "    Args:\n",
    "        binary_string (str): The binary string to be converted.\n",
    "\n",
    "    Returns:\n",
    "        list: A list of decimal numbers representing the binary string.\n",
    "    \"\"\"\n",
    "    decimal_array = [int(binary, 2) for binary in [binary_string[i:i+8] for i in range(0, len(binary_string), 8)]]\n",
    "    return decimal_array"
   ]
  },
  {
   "cell_type": "code",
   "execution_count": null,
   "id": "46cca6a7",
   "metadata": {
    "execution": {
     "iopub.execute_input": "2023-10-16T11:37:28.657460Z",
     "iopub.status.busy": "2023-10-16T11:37:28.657208Z",
     "iopub.status.idle": "2023-10-16T11:37:28.667247Z",
     "shell.execute_reply": "2023-10-16T11:37:28.666357Z"
    },
    "papermill": {
     "duration": 0.016029,
     "end_time": "2023-10-16T11:37:28.668937",
     "exception": false,
     "start_time": "2023-10-16T11:37:28.652908",
     "status": "completed"
    },
    "tags": []
   },
   "outputs": [],
   "source": [
    "# Genetic Algorithm\n",
    "def genetic_algorithm(generations, mutation_rate):\n",
    "    \"\"\"\n",
    "    Performs a genetic algorithm optimization.\n",
    "\n",
    "    This function creates an initial population and then performs selection, crossover, and mutation operations for a specified number of generations. The fitness of each chromosome in the population is evaluated using the fitness_function.\n",
    "\n",
    "    Args:\n",
    "        population_size (int): The size of the population.\n",
    "        generations (int): The number of generations to run the genetic algorithm.\n",
    "\n",
    "    Returns:\n",
    "        tuple: The best chromosome and its fitness score.\n",
    "    \"\"\"\n",
    "    print(f\"Inizialized Population...\")\n",
    "    population = np.random.randint(1, high=251, size=(10, 3))\n",
    "    fitness_scores = np.array([fitness_function(chromosome) for chromosome in population])\n",
    "    max_fitness_each_gen = []\n",
    "    \n",
    "    for generation in range(generations):\n",
    "        print(f\"Generation - {generation + 1}\")\n",
    "        max_fitness_each_gen.append(np.max(fitness_scores))\n",
    "        \n",
    "        chromosome_1 = selection(population, fitness_scores)\n",
    "        chromosome_2 = selection(population, fitness_scores)\n",
    "        \n",
    "        if generation % mutation_rate == 0:\n",
    "            chromosome_1 = mutate(chromosome_1)\n",
    "            chromosome_2 = mutate(chromosome_2)\n",
    "        else:\n",
    "            chromosome_1, chromosome_2 = crossover(chromosome_1, chromosome_2)\n",
    "        \n",
    "        fitness_score_1 = fitness_function(chromosome_1)\n",
    "        fitness_score_2 = fitness_function(chromosome_2)\n",
    "            \n",
    "        worst_index = np.argmin(fitness_scores)\n",
    "        worst_fitness = fitness_scores[worst_index]\n",
    "\n",
    "        if fitness_score_1 > worst_fitness:\n",
    "            population[worst_index] = chromosome_1\n",
    "            fitness_scores[worst_index] = fitness_score_1\n",
    "            worst_index = np.argmin(fitness_scores)\n",
    "            worst_fitness = fitness_scores[worst_index]\n",
    "\n",
    "        if fitness_score_2 > worst_fitness:\n",
    "            population[worst_index] = chromosome_2\n",
    "            fitness_scores[worst_index] = fitness_score_2\n",
    "        \n",
    "        # Release some memory\n",
    "        del chromosome_1, chromosome_2\n",
    "        del fitness_score_1, fitness_score_2\n",
    "        del worst_index, worst_fitness\n",
    "            \n",
    "    best_chromosome = population[np.argmax(fitness_scores)]\n",
    "    best_fitness = np.max(fitness_scores)\n",
    "    \n",
    "    return best_chromosome, best_fitness, max_fitness_each_gen\n",
    "\n",
    "# Selection (Tournament selection)\n",
    "def selection(population, fitness_scores, tournament_size=3):\n",
    "    \"\"\"\n",
    "    Performs tournament selection on a population.\n",
    "\n",
    "    Args:\n",
    "        population: A list of individuals.\n",
    "        fitness_scores: A list of fitness scores corresponding to each individual in the population.\n",
    "        tournament_size: An integer indicating the number of individuals to select for the tournament.\n",
    "\n",
    "    Returns:\n",
    "        The individual from the tournament with the highest fitness score.\n",
    "    \"\"\"\n",
    "    indices = np.random.randint(len(population), size=tournament_size)\n",
    "    tournament = population[indices]\n",
    "    tournament_fitness = fitness_scores[indices]\n",
    "    return tournament[np.argmax(tournament_fitness)]\n",
    "\n",
    "# Crossover (Single-point crossover)\n",
    "def crossover(parent_1: list, parent_2: list):\n",
    "    \"\"\"\n",
    "    Perform crossover operation between two parents.\n",
    "\n",
    "    Args:\n",
    "        parent_1 (list): The first parent list.\n",
    "        parent_2 (list): The second parent list.\n",
    "\n",
    "    Returns:\n",
    "        tuple: A tuple containing two offspring list.\n",
    "    \"\"\"\n",
    "    parent_1 = decimal_to_binary(parent_1)\n",
    "    parent_2 = decimal_to_binary(parent_2)\n",
    "    \n",
    "    crossover_point = np.random.randint(1, len(parent_1))\n",
    "    offspring_1 = parent_1[:crossover_point] + parent_2[crossover_point:]\n",
    "    offspring_2 = parent_2[:crossover_point] + parent_1[crossover_point:]\n",
    "    \n",
    "    offspring_1 = binary_to_decimal(offspring_1)\n",
    "    offspring_2 = binary_to_decimal(offspring_2)\n",
    "    return offspring_1, offspring_2\n",
    "\n",
    "# Mutation (Swap Mutation)\n",
    "def mutate(chromosome: list):\n",
    "    \"\"\"\n",
    "    Mutates a chromosome by swapping two randomly selected characters.\n",
    "\n",
    "    Args:\n",
    "        chromosome (list): The chromosome to be mutated.\n",
    "\n",
    "    Returns:\n",
    "        list: The mutated chromosome.\n",
    "    \"\"\"\n",
    "    chromosome = decimal_to_binary(chromosome)\n",
    "    \n",
    "    chromosome_list = list(chromosome)\n",
    "    i = np.random.randint(len(chromosome_list), size=2)\n",
    "    chromosome_list[i[0]], chromosome_list[i[1]] = chromosome_list[i[1]], chromosome_list[i[0]]\n",
    "    \n",
    "    chromosome_list = ''.join(chromosome_list)\n",
    "    chromosome = binary_to_decimal(chromosome_list)\n",
    "    return chromosome\n",
    "\n",
    "# Fitness Function\n",
    "def fitness_function(chromosome: list):\n",
    "    \"\"\"\n",
    "    Optimizes the fitness function.\n",
    "\n",
    "    This function builds, trains, and evaluates an LSTM model using the provided chromosome. The fitness score is calculated as the negative value of the loss.\n",
    "\n",
    "    Args:\n",
    "        chromosome (list): A list of values used to determine the number of units in each LSTM layer.\n",
    "\n",
    "    Returns:\n",
    "        float: The fitness score of the model.\n",
    "    \"\"\"\n",
    "    lstm_units = [int(chromosome[i]) or default for i, default in enumerate([128, 64, 32])]\n",
    "\n",
    "    # Build the LSTM model\n",
    "    tf.keras.backend.clear_session()\n",
    "    model = Sequential()\n",
    "    for i, units in enumerate(lstm_units[:LSTM_Layer]):\n",
    "        model.add(LSTM(units, return_sequences=(i < LSTM_Layer - 1), input_shape=(WINDOW_SIZE, 1)))\n",
    "    model.add(Dense(1))\n",
    "    \n",
    "    print('Training Model...')\n",
    "    # Compile and train the model\n",
    "    model.compile(loss='mean_squared_error',\n",
    "                  optimizer='adam')\n",
    "    model.fit(X_train, y_train,\n",
    "              epochs=10,\n",
    "              batch_size=32,\n",
    "              verbose=0,\n",
    "              validation_split=0.1)\n",
    "\n",
    "    # Evaluate the model\n",
    "    loss = model.evaluate(X_test, y_test)\n",
    "\n",
    "    # Return the negative value of the loss as the fitness score\n",
    "    return -loss"
   ]
  },
  {
   "cell_type": "code",
   "execution_count": null,
   "id": "7be024bd",
   "metadata": {
    "execution": {
     "iopub.execute_input": "2023-10-16T11:37:28.676838Z",
     "iopub.status.busy": "2023-10-16T11:37:28.676497Z",
     "iopub.status.idle": "2023-10-16T11:37:28.681328Z",
     "shell.execute_reply": "2023-10-16T11:37:28.680462Z"
    },
    "papermill": {
     "duration": 0.010753,
     "end_time": "2023-10-16T11:37:28.683077",
     "exception": false,
     "start_time": "2023-10-16T11:37:28.672324",
     "status": "completed"
    },
    "tags": []
   },
   "outputs": [],
   "source": [
    "import typing\n",
    "from datetime import datetime\n",
    "\n",
    "def timer(start_time: datetime = None) -> \"typing.Union[datetime.datetime, str]\":\n",
    "    \"\"\"\n",
    "    Calculates the time elapsed since the provided start time.\n",
    "\n",
    "    This function returns the current time if no start time is provided. If a start time is provided, it calculates the time elapsed since the start time and returns it in the format of \"hours minutes and seconds\".\n",
    "\n",
    "    Args:\n",
    "        start_time (datetime, optional): The start time. Defaults to None.\n",
    "\n",
    "    Returns:\n",
    "        typing.Union[datetime.datetime, str]: The current time if no start time is provided, otherwise the time elapsed since the start time.\n",
    "    \"\"\"\n",
    "    if not start_time:\n",
    "        start_time = datetime.now()\n",
    "        return start_time\n",
    "    elif start_time:\n",
    "        thour, temp_sec = divmod((datetime.now() - start_time).total_seconds(), 3600)\n",
    "        tmin, tsec = divmod(temp_sec, 60)\n",
    "        return \"%i hours %i minutes and %s seconds.\" % (\n",
    "            thour,\n",
    "            tmin,\n",
    "            round(tsec, 2),\n",
    "        )"
   ]
  },
  {
   "cell_type": "code",
   "execution_count": null,
   "id": "d3435bbf",
   "metadata": {
    "execution": {
     "iopub.execute_input": "2023-10-16T11:37:28.691384Z",
     "iopub.status.busy": "2023-10-16T11:37:28.690622Z",
     "iopub.status.idle": "2023-10-16T12:08:23.148181Z",
     "shell.execute_reply": "2023-10-16T12:08:23.147332Z"
    },
    "papermill": {
     "duration": 1854.46428,
     "end_time": "2023-10-16T12:08:23.150753",
     "exception": false,
     "start_time": "2023-10-16T11:37:28.686473",
     "status": "completed"
    },
    "tags": []
   },
   "outputs": [],
   "source": [
    "# Do not increase this value\n",
    "generations = 10\n",
    "mutation_rate = 5\n",
    "\n",
    "time = timer(None)\n",
    "best_chromosome, best_fitness, max_fitness_each_gen = genetic_algorithm(generations, mutation_rate)\n",
    "time = timer(time)"
   ]
  },
  {
   "cell_type": "code",
   "execution_count": null,
   "id": "d61afaa1",
   "metadata": {
    "execution": {
     "iopub.execute_input": "2023-10-16T12:08:23.226833Z",
     "iopub.status.busy": "2023-10-16T12:08:23.226372Z",
     "iopub.status.idle": "2023-10-16T12:08:23.231808Z",
     "shell.execute_reply": "2023-10-16T12:08:23.231046Z"
    },
    "papermill": {
     "duration": 0.048294,
     "end_time": "2023-10-16T12:08:23.236949",
     "exception": false,
     "start_time": "2023-10-16T12:08:23.188655",
     "status": "completed"
    },
    "tags": []
   },
   "outputs": [],
   "source": [
    "print(\"Best Chromosome:\", best_chromosome)\n",
    "print(\"Best Fitness:\", best_fitness)\n",
    "print(\"Time Taken:\", time)"
   ]
  },
  {
   "cell_type": "code",
   "execution_count": null,
   "id": "37ca76d5",
   "metadata": {},
   "outputs": [],
   "source": [
    "max_fitness_each_gen"
   ]
  },
  {
   "cell_type": "markdown",
   "id": "3f7a204a",
   "metadata": {
    "papermill": {
     "duration": 0.018196,
     "end_time": "2023-10-16T12:08:23.286152",
     "exception": false,
     "start_time": "2023-10-16T12:08:23.267956",
     "status": "completed"
    },
    "tags": []
   },
   "source": [
    "## Re-Training Model with Best Parameter"
   ]
  },
  {
   "cell_type": "code",
   "execution_count": null,
   "id": "981fbc0e",
   "metadata": {
    "execution": {
     "iopub.execute_input": "2023-10-16T12:08:23.323742Z",
     "iopub.status.busy": "2023-10-16T12:08:23.323492Z",
     "iopub.status.idle": "2023-10-16T12:08:24.883028Z",
     "shell.execute_reply": "2023-10-16T12:08:24.882245Z"
    },
    "papermill": {
     "duration": 1.585789,
     "end_time": "2023-10-16T12:08:24.890253",
     "exception": false,
     "start_time": "2023-10-16T12:08:23.304464",
     "status": "completed"
    },
    "tags": []
   },
   "outputs": [],
   "source": [
    "model = Sequential()\n",
    "for i, units in enumerate(best_chromosome[:LSTM_Layer]):\n",
    "    model.add(LSTM(units, return_sequences=(i < LSTM_Layer - 1), input_shape=(WINDOW_SIZE, 1)))\n",
    "model.add(Dense(1))\n",
    "\n",
    "model.summary()"
   ]
  },
  {
   "cell_type": "code",
   "execution_count": null,
   "id": "3280dbf5",
   "metadata": {
    "execution": {
     "iopub.execute_input": "2023-10-16T12:08:24.930778Z",
     "iopub.status.busy": "2023-10-16T12:08:24.930450Z",
     "iopub.status.idle": "2023-10-16T12:09:09.675305Z",
     "shell.execute_reply": "2023-10-16T12:09:09.674286Z"
    },
    "papermill": {
     "duration": 44.767584,
     "end_time": "2023-10-16T12:09:09.677761",
     "exception": false,
     "start_time": "2023-10-16T12:08:24.910177",
     "status": "completed"
    },
    "tags": []
   },
   "outputs": [],
   "source": [
    "model.compile(loss='mean_squared_error',\n",
    "              metrics=['mae', RootMeanSquaredError()],\n",
    "              optimizer='adam')\n",
    "\n",
    "history = model.fit(X_train,\n",
    "                    y_train,\n",
    "                    epochs=50,\n",
    "                    batch_size=32,\n",
    "                    validation_split=0.1)"
   ]
  },
  {
   "cell_type": "code",
   "execution_count": null,
   "id": "959bfdde",
   "metadata": {
    "execution": {
     "iopub.execute_input": "2023-10-16T12:09:09.759925Z",
     "iopub.status.busy": "2023-10-16T12:09:09.759093Z",
     "iopub.status.idle": "2023-10-16T12:09:09.965243Z",
     "shell.execute_reply": "2023-10-16T12:09:09.964264Z"
    },
    "papermill": {
     "duration": 0.248388,
     "end_time": "2023-10-16T12:09:09.966998",
     "exception": false,
     "start_time": "2023-10-16T12:09:09.718610",
     "status": "completed"
    },
    "tags": []
   },
   "outputs": [],
   "source": [
    "model.evaluate(X_test, y_test)"
   ]
  },
  {
   "cell_type": "markdown",
   "id": "4454f0d6",
   "metadata": {
    "papermill": {
     "duration": 0.039154,
     "end_time": "2023-10-16T12:09:10.046252",
     "exception": false,
     "start_time": "2023-10-16T12:09:10.007098",
     "status": "completed"
    },
    "tags": []
   },
   "source": [
    "## Model Evaluation"
   ]
  },
  {
   "cell_type": "code",
   "execution_count": null,
   "id": "cfc45cf0",
   "metadata": {
    "execution": {
     "iopub.execute_input": "2023-10-16T12:09:10.125931Z",
     "iopub.status.busy": "2023-10-16T12:09:10.125610Z",
     "iopub.status.idle": "2023-10-16T12:09:10.391656Z",
     "shell.execute_reply": "2023-10-16T12:09:10.390796Z"
    },
    "papermill": {
     "duration": 0.308224,
     "end_time": "2023-10-16T12:09:10.393381",
     "exception": false,
     "start_time": "2023-10-16T12:09:10.085157",
     "status": "completed"
    },
    "tags": []
   },
   "outputs": [],
   "source": [
    "plt.plot(history.history['loss'])\n",
    "plt.plot(history.history['val_loss'])\n",
    "plt.title(f'{SHEET_NAME[2]} Model Loss', fontsize=15)\n",
    "plt.ylabel('loss')\n",
    "plt.xlabel('epoch')\n",
    "plt.legend(['train', 'test'])\n",
    "plt.show()"
   ]
  },
  {
   "cell_type": "code",
   "execution_count": null,
   "id": "d06e3547",
   "metadata": {
    "execution": {
     "iopub.execute_input": "2023-10-16T12:09:10.478010Z",
     "iopub.status.busy": "2023-10-16T12:09:10.477712Z",
     "iopub.status.idle": "2023-10-16T12:09:11.643406Z",
     "shell.execute_reply": "2023-10-16T12:09:11.642481Z"
    },
    "papermill": {
     "duration": 1.209916,
     "end_time": "2023-10-16T12:09:11.645572",
     "exception": false,
     "start_time": "2023-10-16T12:09:10.435656",
     "status": "completed"
    },
    "tags": []
   },
   "outputs": [],
   "source": [
    "y_hat = model.predict(X_test)\n",
    "y_test_inverse = scaler.inverse_transform(y_test)\n",
    "y_hat_inverse = scaler.inverse_transform(y_hat)"
   ]
  },
  {
   "cell_type": "code",
   "execution_count": null,
   "id": "bd67dd34",
   "metadata": {
    "execution": {
     "iopub.execute_input": "2023-10-16T12:09:11.726889Z",
     "iopub.status.busy": "2023-10-16T12:09:11.726308Z",
     "iopub.status.idle": "2023-10-16T12:09:11.999315Z",
     "shell.execute_reply": "2023-10-16T12:09:11.998486Z"
    },
    "papermill": {
     "duration": 0.315189,
     "end_time": "2023-10-16T12:09:12.001184",
     "exception": false,
     "start_time": "2023-10-16T12:09:11.685995",
     "status": "completed"
    },
    "tags": []
   },
   "outputs": [],
   "source": [
    "plt.plot(y_test_inverse, label=\"Actual Price\", color='green')\n",
    "plt.plot(y_hat_inverse, label=\"Predicted Price\", color='red')\n",
    " \n",
    "plt.title(f'{SHEET_NAME[2]} Price Prediction\\nLSTM = {LSTM_Layer}, Split Data = {SPLIT}, Window = {WINDOW_SIZE}', fontsize=15)\n",
    "plt.xlabel('Time [days]')\n",
    "plt.ylabel('Price')\n",
    "plt.legend(loc='best')\n",
    " \n",
    "plt.show()"
   ]
  },
  {
   "cell_type": "code",
   "execution_count": null,
   "id": "89581e59",
   "metadata": {
    "execution": {
     "iopub.execute_input": "2023-10-16T12:09:12.127302Z",
     "iopub.status.busy": "2023-10-16T12:09:12.126973Z",
     "iopub.status.idle": "2023-10-16T12:09:12.135851Z",
     "shell.execute_reply": "2023-10-16T12:09:12.134489Z"
    },
    "papermill": {
     "duration": 0.051943,
     "end_time": "2023-10-16T12:09:12.137537",
     "exception": false,
     "start_time": "2023-10-16T12:09:12.085594",
     "status": "completed"
    },
    "tags": []
   },
   "outputs": [],
   "source": [
    "def matrices(actual, predicted):\n",
    "    mse = mean_squared_error(actual, predicted)\n",
    "    mae = mean_absolute_error(actual, predicted)\n",
    "    rmse = np.sqrt(mse)\n",
    "    print(\"Mean Absolute Error for prediction :\", mae)\n",
    "    print(\"Mean Squared Error for prediction :\", mse)\n",
    "    print(\"Root Mean Squared Error for prediction :\", rmse)\n",
    "    return mae, mse, rmse\n",
    "\n",
    "print(f\"LSTM = {LSTM_Layer}, Split Data = {SPLIT}, Window = {WINDOW_SIZE}\")\n",
    "print(\"\\n----------------- Normalized Error -----------------\")\n",
    "mae, mse, rmse = matrices(y_test, y_hat)\n",
    "print(\"\\n----------------- Actual Error -----------------\")\n",
    "mae_inverse, mse_inverse, rmse_inverse = matrices(y_test_inverse, y_hat_inverse)"
   ]
  }
 ],
 "metadata": {
  "kernelspec": {
   "display_name": "Python 3",
   "language": "python",
   "name": "python3"
  },
  "language_info": {
   "codemirror_mode": {
    "name": "ipython",
    "version": 3
   },
   "file_extension": ".py",
   "mimetype": "text/x-python",
   "name": "python",
   "nbconvert_exporter": "python",
   "pygments_lexer": "ipython3",
   "version": "3.10.5"
  },
  "papermill": {
   "default_parameters": {},
   "duration": 1926.279134,
   "end_time": "2023-10-16T12:09:15.814707",
   "environment_variables": {},
   "exception": null,
   "input_path": "__notebook__.ipynb",
   "output_path": "__notebook__.ipynb",
   "parameters": {},
   "start_time": "2023-10-16T11:37:09.535573",
   "version": "2.4.0"
  }
 },
 "nbformat": 4,
 "nbformat_minor": 5
}
