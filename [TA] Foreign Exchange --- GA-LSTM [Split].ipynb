{
 "cells": [
  {
   "cell_type": "code",
   "execution_count": 1,
   "id": "48192dfc",
   "metadata": {
    "execution": {
     "iopub.execute_input": "2023-10-16T06:44:55.375039Z",
     "iopub.status.busy": "2023-10-16T06:44:55.374393Z",
     "iopub.status.idle": "2023-10-16T06:45:04.014039Z",
     "shell.execute_reply": "2023-10-16T06:45:04.013139Z"
    },
    "papermill": {
     "duration": 8.646867,
     "end_time": "2023-10-16T06:45:04.016142",
     "exception": false,
     "start_time": "2023-10-16T06:44:55.369275",
     "status": "completed"
    },
    "tags": []
   },
   "outputs": [
    {
     "name": "stderr",
     "output_type": "stream",
     "text": [
      "/opt/conda/lib/python3.10/site-packages/tensorflow_io/python/ops/__init__.py:98: UserWarning: unable to load libtensorflow_io_plugins.so: unable to open file: libtensorflow_io_plugins.so, from paths: ['/opt/conda/lib/python3.10/site-packages/tensorflow_io/python/ops/libtensorflow_io_plugins.so']\n",
      "caused by: ['/opt/conda/lib/python3.10/site-packages/tensorflow_io/python/ops/libtensorflow_io_plugins.so: undefined symbol: _ZN3tsl6StatusC1EN10tensorflow5error4CodeESt17basic_string_viewIcSt11char_traitsIcEENS_14SourceLocationE']\n",
      "  warnings.warn(f\"unable to load libtensorflow_io_plugins.so: {e}\")\n",
      "/opt/conda/lib/python3.10/site-packages/tensorflow_io/python/ops/__init__.py:104: UserWarning: file system plugins are not loaded: unable to open file: libtensorflow_io.so, from paths: ['/opt/conda/lib/python3.10/site-packages/tensorflow_io/python/ops/libtensorflow_io.so']\n",
      "caused by: ['/opt/conda/lib/python3.10/site-packages/tensorflow_io/python/ops/libtensorflow_io.so: undefined symbol: _ZTVN10tensorflow13GcsFileSystemE']\n",
      "  warnings.warn(f\"file system plugins are not loaded: {e}\")\n"
     ]
    }
   ],
   "source": [
    "import pandas as pd\n",
    "import numpy as np\n",
    "import tensorflow as tf\n",
    "import matplotlib.pyplot as plt\n",
    "import datetime, pytz\n",
    "\n",
    "from keras.models import Sequential\n",
    "from keras.layers import LSTM, Dense\n",
    "from keras.metrics import RootMeanSquaredError\n",
    "\n",
    "from sklearn.preprocessing import MinMaxScaler\n",
    "from sklearn.metrics import mean_squared_error, mean_absolute_error"
   ]
  },
  {
   "cell_type": "markdown",
   "id": "547f356c",
   "metadata": {
    "papermill": {
     "duration": 0.003142,
     "end_time": "2023-10-16T06:45:04.022827",
     "exception": false,
     "start_time": "2023-10-16T06:45:04.019685",
     "status": "completed"
    },
    "tags": []
   },
   "source": [
    "## Hyperparameter"
   ]
  },
  {
   "cell_type": "code",
   "execution_count": 2,
   "id": "cf3675aa",
   "metadata": {
    "execution": {
     "iopub.execute_input": "2023-10-16T06:45:04.031105Z",
     "iopub.status.busy": "2023-10-16T06:45:04.029931Z",
     "iopub.status.idle": "2023-10-16T06:45:04.034332Z",
     "shell.execute_reply": "2023-10-16T06:45:04.033562Z"
    },
    "papermill": {
     "duration": 0.010148,
     "end_time": "2023-10-16T06:45:04.036054",
     "exception": false,
     "start_time": "2023-10-16T06:45:04.025906",
     "status": "completed"
    },
    "tags": []
   },
   "outputs": [],
   "source": [
    "SEQ_LEN = 11 # 6, 11, 21\n",
    "SPLIT = 0.80 # 0.80, 0.90\n",
    "LSTM_Layer = 1 # 1, 2, 3\n",
    "WINDOW_SIZE = SEQ_LEN - 1"
   ]
  },
  {
   "cell_type": "code",
   "execution_count": 3,
   "id": "fb58867a",
   "metadata": {
    "execution": {
     "iopub.execute_input": "2023-10-16T06:45:04.043411Z",
     "iopub.status.busy": "2023-10-16T06:45:04.043178Z",
     "iopub.status.idle": "2023-10-16T06:45:04.481753Z",
     "shell.execute_reply": "2023-10-16T06:45:04.480701Z"
    },
    "papermill": {
     "duration": 0.444477,
     "end_time": "2023-10-16T06:45:04.483606",
     "exception": false,
     "start_time": "2023-10-16T06:45:04.039129",
     "status": "completed"
    },
    "tags": []
   },
   "outputs": [
    {
     "name": "stdout",
     "output_type": "stream",
     "text": [
      "<class 'pandas.core.frame.DataFrame'>\n",
      "RangeIndex: 1959 entries, 0 to 1958\n",
      "Data columns (total 2 columns):\n",
      " #   Column  Non-Null Count  Dtype         \n",
      "---  ------  --------------  -----         \n",
      " 0   Date    1959 non-null   datetime64[ns]\n",
      " 1   Close   1959 non-null   float64       \n",
      "dtypes: datetime64[ns](1), float64(1)\n",
      "memory usage: 30.7 KB\n"
     ]
    }
   ],
   "source": [
    "# Google Spreadsheet ID\n",
    "SHEET_ID = '1JDNv_mArl-GPIpxuWS5GxgVEwvjXocS1MrXGc6TYs8M'\n",
    "SHEET_NAME = ['USD/IDR', 'EUR/IDR', 'SGD/IDR']\n",
    "\n",
    "url = f'https://docs.google.com/spreadsheets/d/{SHEET_ID}/gviz/tq?tqx=out:csv&sheet={SHEET_NAME[2]}'\n",
    "data = pd.read_csv(url)\n",
    "\n",
    "# Convert Date columns to datetime format\n",
    "data['Date'] = pd.to_datetime(data['Date'], format='%d/%m/%Y %H:%M:%S')\n",
    "data.info()"
   ]
  },
  {
   "cell_type": "markdown",
   "id": "9c44974f",
   "metadata": {
    "papermill": {
     "duration": 0.003165,
     "end_time": "2023-10-16T06:45:04.490225",
     "exception": false,
     "start_time": "2023-10-16T06:45:04.487060",
     "status": "completed"
    },
    "tags": []
   },
   "source": [
    "## Preprocessing"
   ]
  },
  {
   "cell_type": "code",
   "execution_count": 4,
   "id": "c990e2af",
   "metadata": {
    "execution": {
     "iopub.execute_input": "2023-10-16T06:45:04.498450Z",
     "iopub.status.busy": "2023-10-16T06:45:04.497691Z",
     "iopub.status.idle": "2023-10-16T06:45:04.505584Z",
     "shell.execute_reply": "2023-10-16T06:45:04.504684Z"
    },
    "papermill": {
     "duration": 0.014095,
     "end_time": "2023-10-16T06:45:04.507669",
     "exception": false,
     "start_time": "2023-10-16T06:45:04.493574",
     "status": "completed"
    },
    "tags": []
   },
   "outputs": [
    {
     "data": {
      "text/plain": [
       "(1959, 1)"
      ]
     },
     "execution_count": 4,
     "metadata": {},
     "output_type": "execute_result"
    }
   ],
   "source": [
    "scaler = MinMaxScaler()\n",
    "close_price = data.Close.values.reshape(-1, 1)\n",
    "scaled_close = scaler.fit_transform(close_price)\n",
    "scaled_close.shape"
   ]
  },
  {
   "cell_type": "code",
   "execution_count": 5,
   "id": "86151848",
   "metadata": {
    "execution": {
     "iopub.execute_input": "2023-10-16T06:45:04.515602Z",
     "iopub.status.busy": "2023-10-16T06:45:04.515371Z",
     "iopub.status.idle": "2023-10-16T06:45:04.523418Z",
     "shell.execute_reply": "2023-10-16T06:45:04.522578Z"
    },
    "papermill": {
     "duration": 0.014012,
     "end_time": "2023-10-16T06:45:04.525264",
     "exception": false,
     "start_time": "2023-10-16T06:45:04.511252",
     "status": "completed"
    },
    "tags": []
   },
   "outputs": [],
   "source": [
    "def to_sequences(data, seq_len):\n",
    "    d = []\n",
    "    for index in range(len(data) - seq_len):\n",
    "        d.append(data[index: index + seq_len])\n",
    "    return np.array(d)\n",
    "\n",
    "def preprocess(data_raw, seq_len, train_split):\n",
    "    data = to_sequences(data_raw, seq_len)\n",
    "    num_train = int(train_split * data.shape[0])\n",
    "    X_train = data[:num_train, :-1, :]\n",
    "    y_train = data[:num_train, -1, :]\n",
    "    X_test = data[num_train:, :-1, :]\n",
    "    y_test = data[num_train:, -1, :]\n",
    "    return X_train, y_train, X_test, y_test\n",
    "\n",
    "X_train, y_train, X_test, y_test = preprocess(scaled_close, SEQ_LEN, train_split = SPLIT)"
   ]
  },
  {
   "cell_type": "markdown",
   "id": "4fd7619f",
   "metadata": {
    "papermill": {
     "duration": 0.003326,
     "end_time": "2023-10-16T06:45:04.532013",
     "exception": false,
     "start_time": "2023-10-16T06:45:04.528687",
     "status": "completed"
    },
    "tags": []
   },
   "source": [
    "## Genetic Algorithm"
   ]
  },
  {
   "cell_type": "code",
   "execution_count": 6,
   "id": "cb160513",
   "metadata": {
    "execution": {
     "iopub.execute_input": "2023-10-16T06:45:04.540322Z",
     "iopub.status.busy": "2023-10-16T06:45:04.539696Z",
     "iopub.status.idle": "2023-10-16T06:45:04.551169Z",
     "shell.execute_reply": "2023-10-16T06:45:04.550402Z"
    },
    "papermill": {
     "duration": 0.01743,
     "end_time": "2023-10-16T06:45:04.552852",
     "exception": false,
     "start_time": "2023-10-16T06:45:04.535422",
     "status": "completed"
    },
    "tags": []
   },
   "outputs": [],
   "source": [
    "# Genetic Algorithm\n",
    "def genetic_algorithm(population_size, generations):\n",
    "    population = np.random.randint(1, high=26, size=(population_size, 3))\n",
    "    \n",
    "    for generation in range(generations):\n",
    "        print(f\"Generation - {generation + 1}\")\n",
    "        fitness_scores = np.array([fitness_function(chromosome) for chromosome in population])\n",
    "        best_chromosome = population[np.argmax(fitness_scores)]\n",
    "        best_fitness = np.max(fitness_scores)\n",
    "        \n",
    "        new_population = []\n",
    "        \n",
    "        while len(new_population) < population_size:\n",
    "            parent1 = selection(population, fitness_scores)\n",
    "            parent2 = selection(population, fitness_scores)\n",
    "            offspring_1, offspring_2 = crossover(parent1, parent2)\n",
    "            mutate(offspring_1)\n",
    "            mutate(offspring_2)\n",
    "            new_population.append(offspring_1)\n",
    "            new_population.append(offspring_2)\n",
    "        \n",
    "        population = np.array(new_population)\n",
    "    \n",
    "    return best_chromosome, best_fitness\n",
    "\n",
    "# Selection (Tournament selection)\n",
    "def selection(population, fitness_scores, tournament_size=3):\n",
    "    indices = np.random.randint(len(population), size=tournament_size)\n",
    "    tournament = population[indices]\n",
    "    tournament_fitness = fitness_scores[indices]\n",
    "    return tournament[np.argmax(tournament_fitness)]\n",
    "\n",
    "# Crossover (Single-point crossover)\n",
    "def crossover(parent1, parent2):\n",
    "    crossover_point = np.random.randint(1, len(parent1))\n",
    "    offspring_1 = np.concatenate((parent1[:crossover_point], parent2[crossover_point:]))\n",
    "    offspring_2 = np.concatenate((parent2[:crossover_point], parent1[crossover_point:]))\n",
    "    return offspring_1, offspring_2\n",
    "\n",
    "# Mutation (Swap Mutation)\n",
    "def mutate(chromosome, mutation_rate=0.01):\n",
    "    for i in range(len(chromosome)):\n",
    "        if np.random.rand() < mutation_rate:\n",
    "            j = np.random.randint(len(chromosome))\n",
    "            chromosome[i], chromosome[j] = chromosome[j], chromosome[i]\n",
    "\n",
    "# Define the fitness function to be optimized\n",
    "def fitness_function(chromosome):\n",
    "    lstm_units = [int(chromosome[i]*10) or default for i, default in enumerate([128, 64, 32])]\n",
    "\n",
    "    # Build the LSTM model\n",
    "    tf.keras.backend.clear_session()\n",
    "    model = Sequential()\n",
    "    for i, units in enumerate(lstm_units[:LSTM_Layer]):\n",
    "        model.add(LSTM(units, return_sequences=(i < LSTM_Layer - 1), input_shape=(WINDOW_SIZE, 1)))\n",
    "    model.add(Dense(1))\n",
    "    \n",
    "    # Compile and train the model\n",
    "    model.compile(loss='mean_squared_error',\n",
    "                  optimizer='adam')\n",
    "    model.fit(X_train, y_train,\n",
    "              epochs=10,\n",
    "              batch_size=32,\n",
    "              verbose=0,\n",
    "              validation_split=0.1)\n",
    "\n",
    "    # Evaluate the model\n",
    "    loss = model.evaluate(X_test, y_test)\n",
    "\n",
    "    # Return the negative value of the loss as the fitness score\n",
    "    return -loss"
   ]
  },
  {
   "cell_type": "code",
   "execution_count": 7,
   "id": "51cf51c8",
   "metadata": {
    "execution": {
     "iopub.execute_input": "2023-10-16T06:45:04.560717Z",
     "iopub.status.busy": "2023-10-16T06:45:04.560455Z",
     "iopub.status.idle": "2023-10-16T06:45:04.565248Z",
     "shell.execute_reply": "2023-10-16T06:45:04.564396Z"
    },
    "papermill": {
     "duration": 0.010578,
     "end_time": "2023-10-16T06:45:04.566893",
     "exception": false,
     "start_time": "2023-10-16T06:45:04.556315",
     "status": "completed"
    },
    "tags": []
   },
   "outputs": [],
   "source": [
    "import typing\n",
    "from datetime import datetime\n",
    "\n",
    "def timer(start_time: datetime = None) -> \"typing.Union[datetime.datetime, str]\":\n",
    "    if not start_time:\n",
    "        start_time = datetime.now()\n",
    "        return start_time\n",
    "    elif start_time:\n",
    "        thour, temp_sec = divmod((datetime.now() - start_time).total_seconds(), 3600)\n",
    "        tmin, tsec = divmod(temp_sec, 60)\n",
    "        return \"%i hours %i minutes and %s seconds.\" % (\n",
    "            thour,\n",
    "            tmin,\n",
    "            round(tsec, 2),\n",
    "        )"
   ]
  },
  {
   "cell_type": "code",
   "execution_count": 8,
   "id": "bc98c0ed",
   "metadata": {
    "execution": {
     "iopub.execute_input": "2023-10-16T06:45:04.574568Z",
     "iopub.status.busy": "2023-10-16T06:45:04.574341Z",
     "iopub.status.idle": "2023-10-16T06:59:28.289184Z",
     "shell.execute_reply": "2023-10-16T06:59:28.287931Z"
    },
    "papermill": {
     "duration": 863.720772,
     "end_time": "2023-10-16T06:59:28.291070",
     "exception": false,
     "start_time": "2023-10-16T06:45:04.570298",
     "status": "completed"
    },
    "tags": []
   },
   "outputs": [
    {
     "name": "stdout",
     "output_type": "stream",
     "text": [
      "Generation - 1\n",
      "13/13 [==============================] - 0s 3ms/step - loss: 0.0017\n",
      "13/13 [==============================] - 0s 3ms/step - loss: 0.0012\n",
      "13/13 [==============================] - 0s 3ms/step - loss: 5.8818e-04\n",
      "13/13 [==============================] - 0s 3ms/step - loss: 6.1765e-04\n",
      "13/13 [==============================] - 0s 3ms/step - loss: 0.0012\n",
      "Generation - 2\n",
      "13/13 [==============================] - 0s 2ms/step - loss: 0.0013\n",
      "13/13 [==============================] - 0s 2ms/step - loss: 0.0013\n",
      "13/13 [==============================] - 0s 3ms/step - loss: 6.0232e-04\n",
      "13/13 [==============================] - 0s 2ms/step - loss: 9.1207e-04\n",
      "13/13 [==============================] - 0s 3ms/step - loss: 6.7654e-04\n",
      "13/13 [==============================] - 0s 3ms/step - loss: 7.9049e-04\n",
      "Generation - 3\n",
      "13/13 [==============================] - 0s 2ms/step - loss: 6.7119e-04\n",
      "13/13 [==============================] - 0s 2ms/step - loss: 8.5001e-04\n",
      "13/13 [==============================] - 0s 3ms/step - loss: 0.0012\n",
      "13/13 [==============================] - 0s 3ms/step - loss: 0.0014\n",
      "13/13 [==============================] - 0s 3ms/step - loss: 9.9758e-04\n",
      "13/13 [==============================] - 0s 2ms/step - loss: 0.0015\n",
      "Generation - 4\n",
      "13/13 [==============================] - 0s 3ms/step - loss: 7.0546e-04\n",
      "13/13 [==============================] - 0s 2ms/step - loss: 0.0015\n",
      "13/13 [==============================] - 0s 3ms/step - loss: 9.9693e-04\n",
      "13/13 [==============================] - 0s 3ms/step - loss: 7.8658e-04\n",
      "13/13 [==============================] - 0s 2ms/step - loss: 5.9477e-04\n",
      "13/13 [==============================] - 0s 2ms/step - loss: 8.6623e-04\n",
      "Generation - 5\n",
      "13/13 [==============================] - 0s 3ms/step - loss: 0.0017\n",
      "13/13 [==============================] - 0s 3ms/step - loss: 0.0018\n",
      "13/13 [==============================] - 0s 3ms/step - loss: 0.0010\n",
      "13/13 [==============================] - 0s 2ms/step - loss: 8.8226e-04\n",
      "13/13 [==============================] - 0s 2ms/step - loss: 7.5179e-04\n",
      "13/13 [==============================] - 0s 2ms/step - loss: 7.5978e-04\n",
      "Generation - 6\n",
      "13/13 [==============================] - 0s 3ms/step - loss: 0.0011\n",
      "13/13 [==============================] - 0s 3ms/step - loss: 6.4409e-04\n",
      "13/13 [==============================] - 0s 2ms/step - loss: 0.0015\n",
      "13/13 [==============================] - 0s 2ms/step - loss: 6.7611e-04\n",
      "13/13 [==============================] - 0s 2ms/step - loss: 6.2719e-04\n",
      "13/13 [==============================] - 0s 2ms/step - loss: 7.2620e-04\n",
      "Generation - 7\n",
      "13/13 [==============================] - 0s 3ms/step - loss: 6.0272e-04\n",
      "13/13 [==============================] - 0s 3ms/step - loss: 0.0014\n",
      "13/13 [==============================] - 0s 2ms/step - loss: 6.3979e-04\n",
      "13/13 [==============================] - 0s 2ms/step - loss: 9.8410e-04\n",
      "13/13 [==============================] - 0s 3ms/step - loss: 8.4716e-04\n",
      "13/13 [==============================] - 0s 3ms/step - loss: 0.0017\n",
      "Generation - 8\n",
      "13/13 [==============================] - 0s 3ms/step - loss: 0.0015\n",
      "13/13 [==============================] - 0s 3ms/step - loss: 0.0018\n",
      "13/13 [==============================] - 0s 2ms/step - loss: 0.0014\n",
      "13/13 [==============================] - 0s 2ms/step - loss: 9.2999e-04\n",
      "13/13 [==============================] - 0s 2ms/step - loss: 0.0014\n",
      "13/13 [==============================] - 0s 2ms/step - loss: 7.4980e-04\n",
      "Generation - 9\n",
      "13/13 [==============================] - 0s 2ms/step - loss: 5.7807e-04\n",
      "13/13 [==============================] - 0s 3ms/step - loss: 8.1005e-04\n",
      "13/13 [==============================] - 0s 2ms/step - loss: 6.0681e-04\n",
      "13/13 [==============================] - 0s 2ms/step - loss: 7.1124e-04\n",
      "13/13 [==============================] - 0s 3ms/step - loss: 9.1314e-04\n",
      "13/13 [==============================] - 0s 2ms/step - loss: 6.1076e-04\n",
      "Generation - 10\n",
      "13/13 [==============================] - 0s 5ms/step - loss: 6.7204e-04\n",
      "13/13 [==============================] - 0s 3ms/step - loss: 7.8720e-04\n",
      "13/13 [==============================] - 0s 2ms/step - loss: 9.9309e-04\n",
      "13/13 [==============================] - 0s 2ms/step - loss: 0.0015\n",
      "13/13 [==============================] - 0s 2ms/step - loss: 6.7393e-04\n",
      "13/13 [==============================] - 0s 2ms/step - loss: 0.0011\n",
      "Generation - 11\n",
      "13/13 [==============================] - 0s 2ms/step - loss: 0.0011\n",
      "13/13 [==============================] - 0s 3ms/step - loss: 9.9031e-04\n",
      "13/13 [==============================] - 0s 2ms/step - loss: 5.9668e-04\n",
      "13/13 [==============================] - 0s 2ms/step - loss: 9.9499e-04\n",
      "13/13 [==============================] - 0s 2ms/step - loss: 6.0191e-04\n",
      "13/13 [==============================] - 0s 2ms/step - loss: 5.8991e-04\n",
      "Generation - 12\n",
      "13/13 [==============================] - 0s 3ms/step - loss: 0.0010\n",
      "13/13 [==============================] - 0s 3ms/step - loss: 0.0015\n",
      "13/13 [==============================] - 0s 3ms/step - loss: 0.0010\n",
      "13/13 [==============================] - 0s 3ms/step - loss: 9.3648e-04\n",
      "13/13 [==============================] - 0s 2ms/step - loss: 0.0018\n",
      "13/13 [==============================] - 0s 3ms/step - loss: 6.1868e-04\n",
      "Generation - 13\n",
      "13/13 [==============================] - 0s 3ms/step - loss: 6.0033e-04\n",
      "13/13 [==============================] - 0s 3ms/step - loss: 0.0014\n",
      "13/13 [==============================] - 0s 2ms/step - loss: 6.5579e-04\n",
      "13/13 [==============================] - 0s 3ms/step - loss: 0.0010\n",
      "13/13 [==============================] - 0s 2ms/step - loss: 8.3219e-04\n",
      "13/13 [==============================] - 0s 2ms/step - loss: 8.1719e-04\n",
      "Generation - 14\n",
      "13/13 [==============================] - 0s 2ms/step - loss: 6.6477e-04\n",
      "13/13 [==============================] - 0s 3ms/step - loss: 7.2120e-04\n",
      "13/13 [==============================] - 0s 2ms/step - loss: 6.7447e-04\n",
      "13/13 [==============================] - 0s 3ms/step - loss: 0.0020\n",
      "13/13 [==============================] - 0s 2ms/step - loss: 0.0010\n",
      "13/13 [==============================] - 0s 3ms/step - loss: 6.2490e-04\n",
      "Generation - 15\n",
      "13/13 [==============================] - 0s 3ms/step - loss: 5.7317e-04\n",
      "13/13 [==============================] - 0s 3ms/step - loss: 8.1235e-04\n",
      "13/13 [==============================] - 0s 2ms/step - loss: 8.4745e-04\n",
      "13/13 [==============================] - 0s 2ms/step - loss: 6.9766e-04\n",
      "13/13 [==============================] - 0s 2ms/step - loss: 7.5461e-04\n",
      "13/13 [==============================] - 0s 2ms/step - loss: 0.0028\n",
      "Generation - 16\n",
      "13/13 [==============================] - 0s 3ms/step - loss: 0.0012\n",
      "13/13 [==============================] - 0s 2ms/step - loss: 0.0015\n",
      "13/13 [==============================] - 0s 2ms/step - loss: 7.3649e-04\n",
      "13/13 [==============================] - 0s 3ms/step - loss: 0.0023\n",
      "13/13 [==============================] - 0s 2ms/step - loss: 7.5984e-04\n",
      "13/13 [==============================] - 0s 3ms/step - loss: 8.7252e-04\n",
      "Generation - 17\n",
      "13/13 [==============================] - 0s 3ms/step - loss: 6.5087e-04\n",
      "13/13 [==============================] - 0s 3ms/step - loss: 0.0015\n",
      "13/13 [==============================] - 0s 2ms/step - loss: 6.0616e-04\n",
      "13/13 [==============================] - 0s 2ms/step - loss: 6.0410e-04\n",
      "13/13 [==============================] - 0s 2ms/step - loss: 7.0727e-04\n",
      "13/13 [==============================] - 0s 2ms/step - loss: 7.6604e-04\n",
      "Generation - 18\n",
      "13/13 [==============================] - 0s 3ms/step - loss: 6.4935e-04\n",
      "13/13 [==============================] - 0s 2ms/step - loss: 9.7950e-04\n",
      "13/13 [==============================] - 0s 3ms/step - loss: 0.0012\n",
      "13/13 [==============================] - 0s 2ms/step - loss: 6.9843e-04\n",
      "13/13 [==============================] - 0s 3ms/step - loss: 6.4264e-04\n",
      "13/13 [==============================] - 0s 2ms/step - loss: 8.7408e-04\n",
      "Generation - 19\n",
      "13/13 [==============================] - 0s 3ms/step - loss: 0.0010\n",
      "13/13 [==============================] - 0s 3ms/step - loss: 0.0011\n",
      "13/13 [==============================] - 0s 2ms/step - loss: 7.5565e-04\n",
      "13/13 [==============================] - 0s 2ms/step - loss: 0.0015\n",
      "13/13 [==============================] - 0s 3ms/step - loss: 6.2590e-04\n",
      "13/13 [==============================] - 0s 3ms/step - loss: 6.7446e-04\n",
      "Generation - 20\n",
      "13/13 [==============================] - 0s 2ms/step - loss: 0.0015\n",
      "13/13 [==============================] - 0s 3ms/step - loss: 6.6898e-04\n",
      "13/13 [==============================] - 0s 2ms/step - loss: 6.5653e-04\n",
      "13/13 [==============================] - 0s 2ms/step - loss: 6.2160e-04\n",
      "13/13 [==============================] - 0s 3ms/step - loss: 0.0016\n",
      "13/13 [==============================] - 0s 2ms/step - loss: 0.0040\n",
      "Generation - 21\n",
      "13/13 [==============================] - 0s 3ms/step - loss: 5.9805e-04\n",
      "13/13 [==============================] - 0s 3ms/step - loss: 9.1253e-04\n",
      "13/13 [==============================] - 0s 3ms/step - loss: 5.9225e-04\n",
      "13/13 [==============================] - 0s 3ms/step - loss: 5.9346e-04\n",
      "13/13 [==============================] - 0s 3ms/step - loss: 0.0012\n",
      "13/13 [==============================] - 0s 2ms/step - loss: 0.0010\n",
      "Generation - 22\n",
      "13/13 [==============================] - 0s 3ms/step - loss: 5.8429e-04\n",
      "13/13 [==============================] - 0s 2ms/step - loss: 8.6116e-04\n",
      "13/13 [==============================] - 0s 2ms/step - loss: 9.3929e-04\n",
      "13/13 [==============================] - 0s 3ms/step - loss: 0.0012\n",
      "13/13 [==============================] - 0s 2ms/step - loss: 6.1269e-04\n",
      "13/13 [==============================] - 0s 3ms/step - loss: 6.5202e-04\n",
      "Generation - 23\n",
      "13/13 [==============================] - 0s 3ms/step - loss: 8.4835e-04\n",
      "13/13 [==============================] - 0s 3ms/step - loss: 6.3554e-04\n",
      "13/13 [==============================] - 0s 3ms/step - loss: 0.0015\n",
      "13/13 [==============================] - 0s 2ms/step - loss: 6.1687e-04\n",
      "13/13 [==============================] - 0s 3ms/step - loss: 5.8219e-04\n",
      "13/13 [==============================] - 0s 3ms/step - loss: 7.1532e-04\n",
      "Generation - 24\n",
      "13/13 [==============================] - 0s 3ms/step - loss: 6.8381e-04\n",
      "13/13 [==============================] - 0s 3ms/step - loss: 0.0011\n",
      "13/13 [==============================] - 0s 2ms/step - loss: 6.4518e-04\n",
      "13/13 [==============================] - 0s 2ms/step - loss: 7.0668e-04\n",
      "13/13 [==============================] - 0s 2ms/step - loss: 0.0016\n",
      "13/13 [==============================] - 0s 2ms/step - loss: 8.8430e-04\n",
      "Generation - 25\n",
      "13/13 [==============================] - 0s 2ms/step - loss: 6.9857e-04\n",
      "13/13 [==============================] - 0s 4ms/step - loss: 7.0723e-04\n",
      "13/13 [==============================] - 0s 3ms/step - loss: 0.0017\n",
      "13/13 [==============================] - 0s 2ms/step - loss: 8.9095e-04\n",
      "13/13 [==============================] - 0s 2ms/step - loss: 0.0013\n",
      "13/13 [==============================] - 0s 2ms/step - loss: 8.7542e-04\n"
     ]
    }
   ],
   "source": [
    "# Do not increase this value\n",
    "population_size = 5\n",
    "generations = 25\n",
    "\n",
    "time = timer(None)\n",
    "best_chromosome, best_fitness = genetic_algorithm(population_size, generations)\n",
    "time = timer(time)"
   ]
  },
  {
   "cell_type": "code",
   "execution_count": 9,
   "id": "9ec1915d",
   "metadata": {
    "execution": {
     "iopub.execute_input": "2023-10-16T06:59:28.325807Z",
     "iopub.status.busy": "2023-10-16T06:59:28.325531Z",
     "iopub.status.idle": "2023-10-16T06:59:28.330169Z",
     "shell.execute_reply": "2023-10-16T06:59:28.329296Z"
    },
    "papermill": {
     "duration": 0.023951,
     "end_time": "2023-10-16T06:59:28.332016",
     "exception": false,
     "start_time": "2023-10-16T06:59:28.308065",
     "status": "completed"
    },
    "tags": []
   },
   "outputs": [
    {
     "name": "stdout",
     "output_type": "stream",
     "text": [
      "Best Chromosome: [17 14 17]\n",
      "Best Fitness: -0.0006985747604630888\n",
      "Time Taken: 0 hours 14 minutes and 23.71 seconds.\n"
     ]
    }
   ],
   "source": [
    "print(\"Best Chromosome:\", best_chromosome)\n",
    "print(\"Best Fitness:\", best_fitness)\n",
    "print(\"Time Taken:\", time)"
   ]
  },
  {
   "cell_type": "markdown",
   "id": "dfbf6a0d",
   "metadata": {
    "papermill": {
     "duration": 0.016077,
     "end_time": "2023-10-16T06:59:28.365701",
     "exception": false,
     "start_time": "2023-10-16T06:59:28.349624",
     "status": "completed"
    },
    "tags": []
   },
   "source": [
    "## Re-Training Model with Best Parameter"
   ]
  },
  {
   "cell_type": "code",
   "execution_count": 10,
   "id": "fc9b4d23",
   "metadata": {
    "execution": {
     "iopub.execute_input": "2023-10-16T06:59:28.399140Z",
     "iopub.status.busy": "2023-10-16T06:59:28.398884Z",
     "iopub.status.idle": "2023-10-16T06:59:28.635545Z",
     "shell.execute_reply": "2023-10-16T06:59:28.634438Z"
    },
    "papermill": {
     "duration": 0.258281,
     "end_time": "2023-10-16T06:59:28.640237",
     "exception": false,
     "start_time": "2023-10-16T06:59:28.381956",
     "status": "completed"
    },
    "tags": []
   },
   "outputs": [
    {
     "name": "stdout",
     "output_type": "stream",
     "text": [
      "Model: \"sequential_1\"\n",
      "_________________________________________________________________\n",
      " Layer (type)                Output Shape              Param #   \n",
      "=================================================================\n",
      " lstm_1 (LSTM)               (None, 170)               116960    \n",
      "                                                                 \n",
      " dense_1 (Dense)             (None, 1)                 171       \n",
      "                                                                 \n",
      "=================================================================\n",
      "Total params: 117,131\n",
      "Trainable params: 117,131\n",
      "Non-trainable params: 0\n",
      "_________________________________________________________________\n"
     ]
    }
   ],
   "source": [
    "model = Sequential()\n",
    "for i, units in enumerate(best_chromosome[:LSTM_Layer]):\n",
    "    model.add(LSTM(units*10, return_sequences=(i < LSTM_Layer - 1), input_shape=(WINDOW_SIZE, 1)))\n",
    "model.add(Dense(1))\n",
    "\n",
    "model.summary()"
   ]
  },
  {
   "cell_type": "code",
   "execution_count": 11,
   "id": "d65e8098",
   "metadata": {
    "execution": {
     "iopub.execute_input": "2023-10-16T06:59:28.678453Z",
     "iopub.status.busy": "2023-10-16T06:59:28.678198Z",
     "iopub.status.idle": "2023-10-16T06:59:44.105314Z",
     "shell.execute_reply": "2023-10-16T06:59:44.104384Z"
    },
    "papermill": {
     "duration": 15.449458,
     "end_time": "2023-10-16T06:59:44.107494",
     "exception": false,
     "start_time": "2023-10-16T06:59:28.658036",
     "status": "completed"
    },
    "tags": []
   },
   "outputs": [
    {
     "name": "stdout",
     "output_type": "stream",
     "text": [
      "Epoch 1/50\n",
      "44/44 [==============================] - 3s 30ms/step - loss: 0.0119 - mae: 0.0701 - root_mean_squared_error: 0.1093 - val_loss: 3.9707e-04 - val_mae: 0.0163 - val_root_mean_squared_error: 0.0199\n",
      "Epoch 2/50\n",
      "44/44 [==============================] - 0s 6ms/step - loss: 0.0030 - mae: 0.0314 - root_mean_squared_error: 0.0545 - val_loss: 4.3557e-04 - val_mae: 0.0171 - val_root_mean_squared_error: 0.0209\n",
      "Epoch 3/50\n",
      "44/44 [==============================] - 0s 5ms/step - loss: 0.0029 - mae: 0.0306 - root_mean_squared_error: 0.0537 - val_loss: 4.1255e-04 - val_mae: 0.0164 - val_root_mean_squared_error: 0.0203\n",
      "Epoch 4/50\n",
      "44/44 [==============================] - 0s 6ms/step - loss: 0.0029 - mae: 0.0307 - root_mean_squared_error: 0.0534 - val_loss: 4.6282e-04 - val_mae: 0.0173 - val_root_mean_squared_error: 0.0215\n",
      "Epoch 5/50\n",
      "44/44 [==============================] - 0s 6ms/step - loss: 0.0028 - mae: 0.0308 - root_mean_squared_error: 0.0532 - val_loss: 9.9536e-04 - val_mae: 0.0270 - val_root_mean_squared_error: 0.0315\n",
      "Epoch 6/50\n",
      "44/44 [==============================] - 0s 5ms/step - loss: 0.0028 - mae: 0.0311 - root_mean_squared_error: 0.0528 - val_loss: 3.4461e-04 - val_mae: 0.0149 - val_root_mean_squared_error: 0.0186\n",
      "Epoch 7/50\n",
      "44/44 [==============================] - 0s 5ms/step - loss: 0.0027 - mae: 0.0301 - root_mean_squared_error: 0.0520 - val_loss: 3.3052e-04 - val_mae: 0.0146 - val_root_mean_squared_error: 0.0182\n",
      "Epoch 8/50\n",
      "44/44 [==============================] - 0s 6ms/step - loss: 0.0026 - mae: 0.0288 - root_mean_squared_error: 0.0511 - val_loss: 3.2138e-04 - val_mae: 0.0143 - val_root_mean_squared_error: 0.0179\n",
      "Epoch 9/50\n",
      "44/44 [==============================] - 0s 7ms/step - loss: 0.0026 - mae: 0.0283 - root_mean_squared_error: 0.0506 - val_loss: 3.8426e-04 - val_mae: 0.0160 - val_root_mean_squared_error: 0.0196\n",
      "Epoch 10/50\n",
      "44/44 [==============================] - 0s 5ms/step - loss: 0.0025 - mae: 0.0275 - root_mean_squared_error: 0.0496 - val_loss: 3.2033e-04 - val_mae: 0.0143 - val_root_mean_squared_error: 0.0179\n",
      "Epoch 11/50\n",
      "44/44 [==============================] - 0s 6ms/step - loss: 0.0025 - mae: 0.0285 - root_mean_squared_error: 0.0499 - val_loss: 2.9822e-04 - val_mae: 0.0136 - val_root_mean_squared_error: 0.0173\n",
      "Epoch 12/50\n",
      "44/44 [==============================] - 0s 5ms/step - loss: 0.0024 - mae: 0.0281 - root_mean_squared_error: 0.0492 - val_loss: 4.7198e-04 - val_mae: 0.0175 - val_root_mean_squared_error: 0.0217\n",
      "Epoch 13/50\n",
      "44/44 [==============================] - 0s 6ms/step - loss: 0.0024 - mae: 0.0271 - root_mean_squared_error: 0.0490 - val_loss: 3.0889e-04 - val_mae: 0.0141 - val_root_mean_squared_error: 0.0176\n",
      "Epoch 14/50\n",
      "44/44 [==============================] - 0s 6ms/step - loss: 0.0023 - mae: 0.0261 - root_mean_squared_error: 0.0482 - val_loss: 2.9064e-04 - val_mae: 0.0135 - val_root_mean_squared_error: 0.0170\n",
      "Epoch 15/50\n",
      "44/44 [==============================] - 0s 6ms/step - loss: 0.0023 - mae: 0.0265 - root_mean_squared_error: 0.0482 - val_loss: 2.9024e-04 - val_mae: 0.0135 - val_root_mean_squared_error: 0.0170\n",
      "Epoch 16/50\n",
      "44/44 [==============================] - 0s 6ms/step - loss: 0.0023 - mae: 0.0257 - root_mean_squared_error: 0.0475 - val_loss: 2.7946e-04 - val_mae: 0.0132 - val_root_mean_squared_error: 0.0167\n",
      "Epoch 17/50\n",
      "44/44 [==============================] - 0s 6ms/step - loss: 0.0023 - mae: 0.0269 - root_mean_squared_error: 0.0480 - val_loss: 2.5596e-04 - val_mae: 0.0124 - val_root_mean_squared_error: 0.0160\n",
      "Epoch 18/50\n",
      "44/44 [==============================] - 0s 6ms/step - loss: 0.0022 - mae: 0.0263 - root_mean_squared_error: 0.0472 - val_loss: 2.5159e-04 - val_mae: 0.0123 - val_root_mean_squared_error: 0.0159\n",
      "Epoch 19/50\n",
      "44/44 [==============================] - 0s 5ms/step - loss: 0.0022 - mae: 0.0257 - root_mean_squared_error: 0.0469 - val_loss: 2.4356e-04 - val_mae: 0.0120 - val_root_mean_squared_error: 0.0156\n",
      "Epoch 20/50\n",
      "44/44 [==============================] - 0s 6ms/step - loss: 0.0021 - mae: 0.0249 - root_mean_squared_error: 0.0463 - val_loss: 2.8474e-04 - val_mae: 0.0131 - val_root_mean_squared_error: 0.0169\n",
      "Epoch 21/50\n",
      "44/44 [==============================] - 0s 5ms/step - loss: 0.0022 - mae: 0.0254 - root_mean_squared_error: 0.0464 - val_loss: 3.6215e-04 - val_mae: 0.0153 - val_root_mean_squared_error: 0.0190\n",
      "Epoch 22/50\n",
      "44/44 [==============================] - 0s 5ms/step - loss: 0.0021 - mae: 0.0256 - root_mean_squared_error: 0.0463 - val_loss: 2.2996e-04 - val_mae: 0.0116 - val_root_mean_squared_error: 0.0152\n",
      "Epoch 23/50\n",
      "44/44 [==============================] - 0s 5ms/step - loss: 0.0021 - mae: 0.0246 - root_mean_squared_error: 0.0456 - val_loss: 2.2735e-04 - val_mae: 0.0114 - val_root_mean_squared_error: 0.0151\n",
      "Epoch 24/50\n",
      "44/44 [==============================] - 0s 5ms/step - loss: 0.0021 - mae: 0.0240 - root_mean_squared_error: 0.0454 - val_loss: 2.2266e-04 - val_mae: 0.0114 - val_root_mean_squared_error: 0.0149\n",
      "Epoch 25/50\n",
      "44/44 [==============================] - 0s 6ms/step - loss: 0.0021 - mae: 0.0244 - root_mean_squared_error: 0.0453 - val_loss: 2.6371e-04 - val_mae: 0.0127 - val_root_mean_squared_error: 0.0162\n",
      "Epoch 26/50\n",
      "44/44 [==============================] - 0s 5ms/step - loss: 0.0020 - mae: 0.0237 - root_mean_squared_error: 0.0452 - val_loss: 2.1965e-04 - val_mae: 0.0112 - val_root_mean_squared_error: 0.0148\n",
      "Epoch 27/50\n",
      "44/44 [==============================] - 0s 5ms/step - loss: 0.0020 - mae: 0.0237 - root_mean_squared_error: 0.0448 - val_loss: 2.0956e-04 - val_mae: 0.0109 - val_root_mean_squared_error: 0.0145\n",
      "Epoch 28/50\n",
      "44/44 [==============================] - 0s 5ms/step - loss: 0.0020 - mae: 0.0247 - root_mean_squared_error: 0.0452 - val_loss: 6.6942e-04 - val_mae: 0.0229 - val_root_mean_squared_error: 0.0259\n",
      "Epoch 29/50\n",
      "44/44 [==============================] - 0s 5ms/step - loss: 0.0020 - mae: 0.0247 - root_mean_squared_error: 0.0450 - val_loss: 2.0969e-04 - val_mae: 0.0110 - val_root_mean_squared_error: 0.0145\n",
      "Epoch 30/50\n",
      "44/44 [==============================] - 0s 5ms/step - loss: 0.0020 - mae: 0.0231 - root_mean_squared_error: 0.0444 - val_loss: 3.6449e-04 - val_mae: 0.0156 - val_root_mean_squared_error: 0.0191\n",
      "Epoch 31/50\n",
      "44/44 [==============================] - 0s 6ms/step - loss: 0.0020 - mae: 0.0244 - root_mean_squared_error: 0.0452 - val_loss: 3.7201e-04 - val_mae: 0.0163 - val_root_mean_squared_error: 0.0193\n",
      "Epoch 32/50\n",
      "44/44 [==============================] - 0s 6ms/step - loss: 0.0020 - mae: 0.0248 - root_mean_squared_error: 0.0450 - val_loss: 3.3599e-04 - val_mae: 0.0153 - val_root_mean_squared_error: 0.0183\n",
      "Epoch 33/50\n",
      "44/44 [==============================] - 0s 5ms/step - loss: 0.0019 - mae: 0.0228 - root_mean_squared_error: 0.0441 - val_loss: 2.3656e-04 - val_mae: 0.0122 - val_root_mean_squared_error: 0.0154\n",
      "Epoch 34/50\n",
      "44/44 [==============================] - 0s 6ms/step - loss: 0.0020 - mae: 0.0236 - root_mean_squared_error: 0.0443 - val_loss: 5.1652e-04 - val_mae: 0.0198 - val_root_mean_squared_error: 0.0227\n",
      "Epoch 35/50\n",
      "44/44 [==============================] - 0s 6ms/step - loss: 0.0019 - mae: 0.0229 - root_mean_squared_error: 0.0439 - val_loss: 2.0316e-04 - val_mae: 0.0109 - val_root_mean_squared_error: 0.0143\n",
      "Epoch 36/50\n",
      "44/44 [==============================] - 0s 5ms/step - loss: 0.0019 - mae: 0.0233 - root_mean_squared_error: 0.0440 - val_loss: 1.8326e-04 - val_mae: 0.0100 - val_root_mean_squared_error: 0.0135\n",
      "Epoch 37/50\n",
      "44/44 [==============================] - 0s 6ms/step - loss: 0.0020 - mae: 0.0235 - root_mean_squared_error: 0.0442 - val_loss: 1.8652e-04 - val_mae: 0.0101 - val_root_mean_squared_error: 0.0137\n",
      "Epoch 38/50\n",
      "44/44 [==============================] - 0s 5ms/step - loss: 0.0019 - mae: 0.0226 - root_mean_squared_error: 0.0437 - val_loss: 1.9390e-04 - val_mae: 0.0104 - val_root_mean_squared_error: 0.0139\n",
      "Epoch 39/50\n",
      "44/44 [==============================] - 0s 5ms/step - loss: 0.0019 - mae: 0.0229 - root_mean_squared_error: 0.0439 - val_loss: 1.9522e-04 - val_mae: 0.0105 - val_root_mean_squared_error: 0.0140\n",
      "Epoch 40/50\n",
      "44/44 [==============================] - 0s 5ms/step - loss: 0.0019 - mae: 0.0233 - root_mean_squared_error: 0.0440 - val_loss: 2.4893e-04 - val_mae: 0.0127 - val_root_mean_squared_error: 0.0158\n",
      "Epoch 41/50\n",
      "44/44 [==============================] - 0s 6ms/step - loss: 0.0019 - mae: 0.0223 - root_mean_squared_error: 0.0436 - val_loss: 1.9300e-04 - val_mae: 0.0105 - val_root_mean_squared_error: 0.0139\n",
      "Epoch 42/50\n",
      "44/44 [==============================] - 0s 5ms/step - loss: 0.0019 - mae: 0.0231 - root_mean_squared_error: 0.0439 - val_loss: 4.0406e-04 - val_mae: 0.0173 - val_root_mean_squared_error: 0.0201\n",
      "Epoch 43/50\n",
      "44/44 [==============================] - 0s 5ms/step - loss: 0.0019 - mae: 0.0221 - root_mean_squared_error: 0.0436 - val_loss: 2.2925e-04 - val_mae: 0.0118 - val_root_mean_squared_error: 0.0151\n",
      "Epoch 44/50\n",
      "44/44 [==============================] - 0s 5ms/step - loss: 0.0019 - mae: 0.0222 - root_mean_squared_error: 0.0435 - val_loss: 2.1567e-04 - val_mae: 0.0113 - val_root_mean_squared_error: 0.0147\n",
      "Epoch 45/50\n",
      "44/44 [==============================] - 0s 6ms/step - loss: 0.0019 - mae: 0.0222 - root_mean_squared_error: 0.0439 - val_loss: 1.7661e-04 - val_mae: 0.0098 - val_root_mean_squared_error: 0.0133\n",
      "Epoch 46/50\n",
      "44/44 [==============================] - 0s 5ms/step - loss: 0.0019 - mae: 0.0230 - root_mean_squared_error: 0.0440 - val_loss: 1.9513e-04 - val_mae: 0.0106 - val_root_mean_squared_error: 0.0140\n",
      "Epoch 47/50\n",
      "44/44 [==============================] - 0s 5ms/step - loss: 0.0019 - mae: 0.0224 - root_mean_squared_error: 0.0442 - val_loss: 1.7501e-04 - val_mae: 0.0097 - val_root_mean_squared_error: 0.0132\n",
      "Epoch 48/50\n",
      "44/44 [==============================] - 0s 6ms/step - loss: 0.0020 - mae: 0.0248 - root_mean_squared_error: 0.0446 - val_loss: 1.7333e-04 - val_mae: 0.0097 - val_root_mean_squared_error: 0.0132\n",
      "Epoch 49/50\n",
      "44/44 [==============================] - 0s 8ms/step - loss: 0.0019 - mae: 0.0225 - root_mean_squared_error: 0.0433 - val_loss: 3.3550e-04 - val_mae: 0.0151 - val_root_mean_squared_error: 0.0183\n",
      "Epoch 50/50\n",
      "44/44 [==============================] - 0s 5ms/step - loss: 0.0019 - mae: 0.0220 - root_mean_squared_error: 0.0437 - val_loss: 1.8654e-04 - val_mae: 0.0102 - val_root_mean_squared_error: 0.0137\n"
     ]
    }
   ],
   "source": [
    "model.compile(loss='mean_squared_error',\n",
    "              metrics=['mae', RootMeanSquaredError()],\n",
    "              optimizer='adam')\n",
    "\n",
    "history = model.fit(X_train,\n",
    "                    y_train,\n",
    "                    epochs=50,\n",
    "                    batch_size=32,\n",
    "                    validation_split=0.1)"
   ]
  },
  {
   "cell_type": "code",
   "execution_count": 12,
   "id": "f4926e20",
   "metadata": {
    "execution": {
     "iopub.execute_input": "2023-10-16T06:59:44.169199Z",
     "iopub.status.busy": "2023-10-16T06:59:44.168888Z",
     "iopub.status.idle": "2023-10-16T06:59:44.269491Z",
     "shell.execute_reply": "2023-10-16T06:59:44.268511Z"
    },
    "papermill": {
     "duration": 0.132062,
     "end_time": "2023-10-16T06:59:44.271159",
     "exception": false,
     "start_time": "2023-10-16T06:59:44.139097",
     "status": "completed"
    },
    "tags": []
   },
   "outputs": [
    {
     "name": "stdout",
     "output_type": "stream",
     "text": [
      "13/13 [==============================] - 0s 3ms/step - loss: 7.1398e-04 - mae: 0.0213 - root_mean_squared_error: 0.0267\n"
     ]
    },
    {
     "data": {
      "text/plain": [
       "[0.0007139761000871658, 0.021270619705319405, 0.026720330119132996]"
      ]
     },
     "execution_count": 12,
     "metadata": {},
     "output_type": "execute_result"
    }
   ],
   "source": [
    "model.evaluate(X_test, y_test)"
   ]
  },
  {
   "cell_type": "markdown",
   "id": "aaaad5cd",
   "metadata": {
    "papermill": {
     "duration": 0.029116,
     "end_time": "2023-10-16T06:59:44.330722",
     "exception": false,
     "start_time": "2023-10-16T06:59:44.301606",
     "status": "completed"
    },
    "tags": []
   },
   "source": [
    "## Model Evaluation"
   ]
  },
  {
   "cell_type": "code",
   "execution_count": 13,
   "id": "671520b6",
   "metadata": {
    "execution": {
     "iopub.execute_input": "2023-10-16T06:59:44.392588Z",
     "iopub.status.busy": "2023-10-16T06:59:44.392042Z",
     "iopub.status.idle": "2023-10-16T06:59:44.670059Z",
     "shell.execute_reply": "2023-10-16T06:59:44.669206Z"
    },
    "papermill": {
     "duration": 0.310606,
     "end_time": "2023-10-16T06:59:44.671793",
     "exception": false,
     "start_time": "2023-10-16T06:59:44.361187",
     "status": "completed"
    },
    "tags": []
   },
   "outputs": [
    {
     "data": {
      "image/png": "[encoded data removed]",
      "text/plain": [
       "<Figure size 640x480 with 1 Axes>"
      ]
     },
     "metadata": {},
     "output_type": "display_data"
    }
   ],
   "source": [
    "plt.plot(history.history['loss'])\n",
    "plt.plot(history.history['val_loss'])\n",
    "plt.title(f'{SHEET_NAME[2]} Model Loss', fontsize=15)\n",
    "plt.ylabel('loss')\n",
    "plt.xlabel('epoch')\n",
    "plt.legend(['train', 'test'])\n",
    "plt.show()"
   ]
  },
  {
   "cell_type": "code",
   "execution_count": 14,
   "id": "6e91cd23",
   "metadata": {
    "execution": {
     "iopub.execute_input": "2023-10-16T06:59:44.735015Z",
     "iopub.status.busy": "2023-10-16T06:59:44.734745Z",
     "iopub.status.idle": "2023-10-16T06:59:45.253931Z",
     "shell.execute_reply": "2023-10-16T06:59:45.253088Z"
    },
    "papermill": {
     "duration": 0.553887,
     "end_time": "2023-10-16T06:59:45.255843",
     "exception": false,
     "start_time": "2023-10-16T06:59:44.701956",
     "status": "completed"
    },
    "tags": []
   },
   "outputs": [
    {
     "name": "stdout",
     "output_type": "stream",
     "text": [
      "13/13 [==============================] - 0s 2ms/step\n"
     ]
    }
   ],
   "source": [
    "y_hat = model.predict(X_test)\n",
    "y_test_inverse = scaler.inverse_transform(y_test)\n",
    "y_hat_inverse = scaler.inverse_transform(y_hat)"
   ]
  },
  {
   "cell_type": "code",
   "execution_count": 15,
   "id": "0a11b573",
   "metadata": {
    "execution": {
     "iopub.execute_input": "2023-10-16T06:59:45.317853Z",
     "iopub.status.busy": "2023-10-16T06:59:45.317568Z",
     "iopub.status.idle": "2023-10-16T06:59:45.602015Z",
     "shell.execute_reply": "2023-10-16T06:59:45.601149Z"
    },
    "papermill": {
     "duration": 0.317057,
     "end_time": "2023-10-16T06:59:45.603960",
     "exception": false,
     "start_time": "2023-10-16T06:59:45.286903",
     "status": "completed"
    },
    "tags": []
   },
   "outputs": [
    {
     "data": {
      "image/png": "[encoded data removed]",
      "text/plain": [
       "<Figure size 640x480 with 1 Axes>"
      ]
     },
     "metadata": {},
     "output_type": "display_data"
    }
   ],
   "source": [
    "plt.plot(y_test_inverse, label=\"Actual Price\", color='green')\n",
    "plt.plot(y_hat_inverse, label=\"Predicted Price\", color='red')\n",
    " \n",
    "plt.title(f'{SHEET_NAME[2]} Price Prediction\\nLSTM = {LSTM_Layer}, Split Data = {SPLIT}, Window = {WINDOW_SIZE}', fontsize=15)\n",
    "plt.xlabel('Time [days]')\n",
    "plt.ylabel('Price')\n",
    "plt.legend(loc='best')\n",
    " \n",
    "plt.show()"
   ]
  },
  {
   "cell_type": "code",
   "execution_count": 16,
   "id": "7dbc02a2",
   "metadata": {
    "execution": {
     "iopub.execute_input": "2023-10-16T06:59:45.666846Z",
     "iopub.status.busy": "2023-10-16T06:59:45.666563Z",
     "iopub.status.idle": "2023-10-16T06:59:45.674566Z",
     "shell.execute_reply": "2023-10-16T06:59:45.673700Z"
    },
    "papermill": {
     "duration": 0.041031,
     "end_time": "2023-10-16T06:59:45.676246",
     "exception": false,
     "start_time": "2023-10-16T06:59:45.635215",
     "status": "completed"
    },
    "tags": []
   },
   "outputs": [
    {
     "name": "stdout",
     "output_type": "stream",
     "text": [
      "LSTM = 1, Split Data = 0.8, Window = 10\n",
      "\n",
      "----------------- Normalized Error -----------------\n",
      "Mean Absolute Error for prediction : 0.021270619384713352\n",
      "Mean Squared Error for prediction : 0.000713976155725377\n",
      "Root Mean Squared Error for prediction : 0.026720332253274415\n",
      "\n",
      "----------------- Actual Error -----------------\n",
      "Mean Absolute Error for prediction : 44.848152544070466\n",
      "Mean Squared Error for prediction : 3174.0411552049363\n",
      "Root Mean Squared Error for prediction : 56.338629333743434\n"
     ]
    }
   ],
   "source": [
    "def matrices(actual, predicted):\n",
    "    mse = mean_squared_error(actual, predicted)\n",
    "    mae = mean_absolute_error(actual, predicted)\n",
    "    rmse = np.sqrt(mse)\n",
    "    print(\"Mean Absolute Error for prediction :\", mae)\n",
    "    print(\"Mean Squared Error for prediction :\", mse)\n",
    "    print(\"Root Mean Squared Error for prediction :\", rmse)\n",
    "    return mae, mse, rmse\n",
    "\n",
    "print(f\"LSTM = {LSTM_Layer}, Split Data = {SPLIT}, Window = {WINDOW_SIZE}\")\n",
    "print(\"\\n----------------- Normalized Error -----------------\")\n",
    "mae, mse, rmse = matrices(y_test, y_hat)\n",
    "print(\"\\n----------------- Actual Error -----------------\")\n",
    "mae_inverse, mse_inverse, rmse_inverse = matrices(y_test_inverse, y_hat_inverse)"
   ]
  }
 ],
 "metadata": {
  "kernelspec": {
   "display_name": "Python 3",
   "language": "python",
   "name": "python3"
  },
  "language_info": {
   "codemirror_mode": {
    "name": "ipython",
    "version": 3
   },
   "file_extension": ".py",
   "mimetype": "text/x-python",
   "name": "python",
   "nbconvert_exporter": "python",
   "pygments_lexer": "ipython3",
   "version": "3.10.10"
  },
  "papermill": {
   "default_parameters": {},
   "duration": 902.934692,
   "end_time": "2023-10-16T06:59:49.573229",
   "environment_variables": {},
   "exception": null,
   "input_path": "__notebook__.ipynb",
   "output_path": "__notebook__.ipynb",
   "parameters": {},
   "start_time": "2023-10-16T06:44:46.638537",
   "version": "2.4.0"
  }
 },
 "nbformat": 4,
 "nbformat_minor": 5
}
