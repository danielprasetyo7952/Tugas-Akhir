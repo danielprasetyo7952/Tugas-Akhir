{
 "cells": [
  {
   "cell_type": "code",
   "execution_count": 1,
   "id": "e92a55bc",
   "metadata": {
    "execution": {
     "iopub.execute_input": "2023-10-16T07:02:49.352691Z",
     "iopub.status.busy": "2023-10-16T07:02:49.351939Z",
     "iopub.status.idle": "2023-10-16T07:02:58.257277Z",
     "shell.execute_reply": "2023-10-16T07:02:58.256359Z"
    },
    "papermill": {
     "duration": 8.913021,
     "end_time": "2023-10-16T07:02:58.259603",
     "exception": false,
     "start_time": "2023-10-16T07:02:49.346582",
     "status": "completed"
    },
    "tags": []
   },
   "outputs": [
    {
     "name": "stderr",
     "output_type": "stream",
     "text": [
      "/opt/conda/lib/python3.10/site-packages/tensorflow_io/python/ops/__init__.py:98: UserWarning: unable to load libtensorflow_io_plugins.so: unable to open file: libtensorflow_io_plugins.so, from paths: ['/opt/conda/lib/python3.10/site-packages/tensorflow_io/python/ops/libtensorflow_io_plugins.so']\n",
      "caused by: ['/opt/conda/lib/python3.10/site-packages/tensorflow_io/python/ops/libtensorflow_io_plugins.so: undefined symbol: _ZN3tsl6StatusC1EN10tensorflow5error4CodeESt17basic_string_viewIcSt11char_traitsIcEENS_14SourceLocationE']\n",
      "  warnings.warn(f\"unable to load libtensorflow_io_plugins.so: {e}\")\n",
      "/opt/conda/lib/python3.10/site-packages/tensorflow_io/python/ops/__init__.py:104: UserWarning: file system plugins are not loaded: unable to open file: libtensorflow_io.so, from paths: ['/opt/conda/lib/python3.10/site-packages/tensorflow_io/python/ops/libtensorflow_io.so']\n",
      "caused by: ['/opt/conda/lib/python3.10/site-packages/tensorflow_io/python/ops/libtensorflow_io.so: undefined symbol: _ZTVN10tensorflow13GcsFileSystemE']\n",
      "  warnings.warn(f\"file system plugins are not loaded: {e}\")\n"
     ]
    }
   ],
   "source": [
    "import pandas as pd\n",
    "import numpy as np\n",
    "import tensorflow as tf\n",
    "import matplotlib.pyplot as plt\n",
    "import datetime, pytz\n",
    "\n",
    "from keras.models import Sequential\n",
    "from keras.layers import LSTM, Dense\n",
    "from keras.metrics import RootMeanSquaredError\n",
    "\n",
    "from sklearn.preprocessing import MinMaxScaler\n",
    "from sklearn.metrics import mean_squared_error, mean_absolute_error"
   ]
  },
  {
   "cell_type": "markdown",
   "id": "7f1eb925",
   "metadata": {
    "papermill": {
     "duration": 0.003094,
     "end_time": "2023-10-16T07:02:58.266251",
     "exception": false,
     "start_time": "2023-10-16T07:02:58.263157",
     "status": "completed"
    },
    "tags": []
   },
   "source": [
    "## Hyperparameter"
   ]
  },
  {
   "cell_type": "code",
   "execution_count": 2,
   "id": "720431b5",
   "metadata": {
    "execution": {
     "iopub.execute_input": "2023-10-16T07:02:58.273868Z",
     "iopub.status.busy": "2023-10-16T07:02:58.273277Z",
     "iopub.status.idle": "2023-10-16T07:02:58.277911Z",
     "shell.execute_reply": "2023-10-16T07:02:58.276980Z"
    },
    "papermill": {
     "duration": 0.010232,
     "end_time": "2023-10-16T07:02:58.279590",
     "exception": false,
     "start_time": "2023-10-16T07:02:58.269358",
     "status": "completed"
    },
    "tags": []
   },
   "outputs": [],
   "source": [
    "SEQ_LEN = 6 # 6, 11, 21\n",
    "SPLIT = 0.80 # 0.80, 0.90\n",
    "LSTM_Layer = 2 # 1, 2, 3\n",
    "WINDOW_SIZE = SEQ_LEN - 1"
   ]
  },
  {
   "cell_type": "code",
   "execution_count": 3,
   "id": "e483d863",
   "metadata": {
    "execution": {
     "iopub.execute_input": "2023-10-16T07:02:58.287082Z",
     "iopub.status.busy": "2023-10-16T07:02:58.286665Z",
     "iopub.status.idle": "2023-10-16T07:02:58.711026Z",
     "shell.execute_reply": "2023-10-16T07:02:58.709660Z"
    },
    "papermill": {
     "duration": 0.43013,
     "end_time": "2023-10-16T07:02:58.712795",
     "exception": false,
     "start_time": "2023-10-16T07:02:58.282665",
     "status": "completed"
    },
    "tags": []
   },
   "outputs": [
    {
     "name": "stdout",
     "output_type": "stream",
     "text": [
      "<class 'pandas.core.frame.DataFrame'>\n",
      "RangeIndex: 1959 entries, 0 to 1958\n",
      "Data columns (total 2 columns):\n",
      " #   Column  Non-Null Count  Dtype         \n",
      "---  ------  --------------  -----         \n",
      " 0   Date    1959 non-null   datetime64[ns]\n",
      " 1   Close   1959 non-null   float64       \n",
      "dtypes: datetime64[ns](1), float64(1)\n",
      "memory usage: 30.7 KB\n"
     ]
    }
   ],
   "source": [
    "# Google Spreadsheet ID\n",
    "SHEET_ID = '1JDNv_mArl-GPIpxuWS5GxgVEwvjXocS1MrXGc6TYs8M'\n",
    "SHEET_NAME = ['USD/IDR', 'EUR/IDR', 'SGD/IDR']\n",
    "\n",
    "url = f'https://docs.google.com/spreadsheets/d/{SHEET_ID}/gviz/tq?tqx=out:csv&sheet={SHEET_NAME[2]}'\n",
    "data = pd.read_csv(url)\n",
    "\n",
    "# Convert Date columns to datetime format\n",
    "data['Date'] = pd.to_datetime(data['Date'], format='%d/%m/%Y %H:%M:%S')\n",
    "data.info()"
   ]
  },
  {
   "cell_type": "markdown",
   "id": "1f1e2bf6",
   "metadata": {
    "papermill": {
     "duration": 0.003153,
     "end_time": "2023-10-16T07:02:58.719357",
     "exception": false,
     "start_time": "2023-10-16T07:02:58.716204",
     "status": "completed"
    },
    "tags": []
   },
   "source": [
    "## Preprocessing"
   ]
  },
  {
   "cell_type": "code",
   "execution_count": 4,
   "id": "7e6e86e1",
   "metadata": {
    "execution": {
     "iopub.execute_input": "2023-10-16T07:02:58.727658Z",
     "iopub.status.busy": "2023-10-16T07:02:58.726754Z",
     "iopub.status.idle": "2023-10-16T07:02:58.735495Z",
     "shell.execute_reply": "2023-10-16T07:02:58.734592Z"
    },
    "papermill": {
     "duration": 0.014625,
     "end_time": "2023-10-16T07:02:58.737224",
     "exception": false,
     "start_time": "2023-10-16T07:02:58.722599",
     "status": "completed"
    },
    "tags": []
   },
   "outputs": [
    {
     "data": {
      "text/plain": [
       "(1959, 1)"
      ]
     },
     "execution_count": 4,
     "metadata": {},
     "output_type": "execute_result"
    }
   ],
   "source": [
    "scaler = MinMaxScaler()\n",
    "close_price = data.Close.values.reshape(-1, 1)\n",
    "scaled_close = scaler.fit_transform(close_price)\n",
    "scaled_close.shape"
   ]
  },
  {
   "cell_type": "code",
   "execution_count": 5,
   "id": "f5eee84c",
   "metadata": {
    "execution": {
     "iopub.execute_input": "2023-10-16T07:02:58.745356Z",
     "iopub.status.busy": "2023-10-16T07:02:58.744752Z",
     "iopub.status.idle": "2023-10-16T07:02:58.752623Z",
     "shell.execute_reply": "2023-10-16T07:02:58.751842Z"
    },
    "papermill": {
     "duration": 0.013805,
     "end_time": "2023-10-16T07:02:58.754429",
     "exception": false,
     "start_time": "2023-10-16T07:02:58.740624",
     "status": "completed"
    },
    "tags": []
   },
   "outputs": [],
   "source": [
    "def to_sequences(data, seq_len):\n",
    "    d = []\n",
    "    for index in range(len(data) - seq_len):\n",
    "        d.append(data[index: index + seq_len])\n",
    "    return np.array(d)\n",
    "\n",
    "def preprocess(data_raw, seq_len, train_split):\n",
    "    data = to_sequences(data_raw, seq_len)\n",
    "    num_train = int(train_split * data.shape[0])\n",
    "    X_train = data[:num_train, :-1, :]\n",
    "    y_train = data[:num_train, -1, :]\n",
    "    X_test = data[num_train:, :-1, :]\n",
    "    y_test = data[num_train:, -1, :]\n",
    "    return X_train, y_train, X_test, y_test\n",
    "\n",
    "X_train, y_train, X_test, y_test = preprocess(scaled_close, SEQ_LEN, train_split = SPLIT)"
   ]
  },
  {
   "cell_type": "markdown",
   "id": "f5631925",
   "metadata": {
    "papermill": {
     "duration": 0.003327,
     "end_time": "2023-10-16T07:02:58.761091",
     "exception": false,
     "start_time": "2023-10-16T07:02:58.757764",
     "status": "completed"
    },
    "tags": []
   },
   "source": [
    "## Genetic Algorithm"
   ]
  },
  {
   "cell_type": "code",
   "execution_count": 6,
   "id": "0c01735f",
   "metadata": {
    "execution": {
     "iopub.execute_input": "2023-10-16T07:02:58.769145Z",
     "iopub.status.busy": "2023-10-16T07:02:58.768902Z",
     "iopub.status.idle": "2023-10-16T07:02:58.779219Z",
     "shell.execute_reply": "2023-10-16T07:02:58.778267Z"
    },
    "papermill": {
     "duration": 0.016595,
     "end_time": "2023-10-16T07:02:58.781012",
     "exception": false,
     "start_time": "2023-10-16T07:02:58.764417",
     "status": "completed"
    },
    "tags": []
   },
   "outputs": [],
   "source": [
    "# Genetic Algorithm\n",
    "def genetic_algorithm(population_size, generations):\n",
    "    population = np.random.randint(1, high=26, size=(population_size, 3))\n",
    "    \n",
    "    for generation in range(generations):\n",
    "        print(f\"Generation - {generation + 1}\")\n",
    "        fitness_scores = np.array([fitness_function(chromosome) for chromosome in population])\n",
    "        best_chromosome = population[np.argmax(fitness_scores)]\n",
    "        best_fitness = np.max(fitness_scores)\n",
    "        \n",
    "        new_population = []\n",
    "        \n",
    "        while len(new_population) < population_size:\n",
    "            parent1 = selection(population, fitness_scores)\n",
    "            parent2 = selection(population, fitness_scores)\n",
    "            offspring_1, offspring_2 = crossover(parent1, parent2)\n",
    "            mutate(offspring_1)\n",
    "            mutate(offspring_2)\n",
    "            new_population.append(offspring_1)\n",
    "            new_population.append(offspring_2)\n",
    "        \n",
    "        population = np.array(new_population)\n",
    "    \n",
    "    return best_chromosome, best_fitness\n",
    "\n",
    "# Selection (Tournament selection)\n",
    "def selection(population, fitness_scores, tournament_size=3):\n",
    "    indices = np.random.randint(len(population), size=tournament_size)\n",
    "    tournament = population[indices]\n",
    "    tournament_fitness = fitness_scores[indices]\n",
    "    return tournament[np.argmax(tournament_fitness)]\n",
    "\n",
    "# Crossover (Single-point crossover)\n",
    "def crossover(parent1, parent2):\n",
    "    crossover_point = np.random.randint(1, len(parent1))\n",
    "    offspring_1 = np.concatenate((parent1[:crossover_point], parent2[crossover_point:]))\n",
    "    offspring_2 = np.concatenate((parent2[:crossover_point], parent1[crossover_point:]))\n",
    "    return offspring_1, offspring_2\n",
    "\n",
    "# Mutation (Swap Mutation)\n",
    "def mutate(chromosome, mutation_rate=0.01):\n",
    "    for i in range(len(chromosome)):\n",
    "        if np.random.rand() < mutation_rate:\n",
    "            j = np.random.randint(len(chromosome))\n",
    "            chromosome[i], chromosome[j] = chromosome[j], chromosome[i]\n",
    "\n",
    "# Define the fitness function to be optimized\n",
    "def fitness_function(chromosome):\n",
    "    lstm_units = [int(chromosome[i]*10) or default for i, default in enumerate([128, 64, 32])]\n",
    "\n",
    "    # Build the LSTM model\n",
    "    tf.keras.backend.clear_session()\n",
    "    model = Sequential()\n",
    "    for i, units in enumerate(lstm_units[:LSTM_Layer]):\n",
    "        model.add(LSTM(units, return_sequences=(i < LSTM_Layer - 1), input_shape=(WINDOW_SIZE, 1)))\n",
    "    model.add(Dense(1))\n",
    "    \n",
    "    # Compile and train the model\n",
    "    model.compile(loss='mean_squared_error',\n",
    "                  optimizer='adam')\n",
    "    model.fit(X_train, y_train,\n",
    "              epochs=10,\n",
    "              batch_size=32,\n",
    "              verbose=0,\n",
    "              validation_split=0.1)\n",
    "\n",
    "    # Evaluate the model\n",
    "    loss = model.evaluate(X_test, y_test)\n",
    "\n",
    "    # Return the negative value of the loss as the fitness score\n",
    "    return -loss"
   ]
  },
  {
   "cell_type": "code",
   "execution_count": 7,
   "id": "e8570216",
   "metadata": {
    "execution": {
     "iopub.execute_input": "2023-10-16T07:02:58.789491Z",
     "iopub.status.busy": "2023-10-16T07:02:58.788747Z",
     "iopub.status.idle": "2023-10-16T07:02:58.794189Z",
     "shell.execute_reply": "2023-10-16T07:02:58.793262Z"
    },
    "papermill": {
     "duration": 0.011351,
     "end_time": "2023-10-16T07:02:58.795929",
     "exception": false,
     "start_time": "2023-10-16T07:02:58.784578",
     "status": "completed"
    },
    "tags": []
   },
   "outputs": [],
   "source": [
    "import typing\n",
    "from datetime import datetime\n",
    "\n",
    "def timer(start_time: datetime = None) -> \"typing.Union[datetime.datetime, str]\":\n",
    "    if not start_time:\n",
    "        start_time = datetime.now()\n",
    "        return start_time\n",
    "    elif start_time:\n",
    "        thour, temp_sec = divmod((datetime.now() - start_time).total_seconds(), 3600)\n",
    "        tmin, tsec = divmod(temp_sec, 60)\n",
    "        return \"%i hours %i minutes and %s seconds.\" % (\n",
    "            thour,\n",
    "            tmin,\n",
    "            round(tsec, 2),\n",
    "        )"
   ]
  },
  {
   "cell_type": "code",
   "execution_count": 8,
   "id": "4e09df33",
   "metadata": {
    "execution": {
     "iopub.execute_input": "2023-10-16T07:02:58.804403Z",
     "iopub.status.busy": "2023-10-16T07:02:58.803702Z",
     "iopub.status.idle": "2023-10-16T07:22:46.491884Z",
     "shell.execute_reply": "2023-10-16T07:22:46.490931Z"
    },
    "papermill": {
     "duration": 1187.694373,
     "end_time": "2023-10-16T07:22:46.493852",
     "exception": false,
     "start_time": "2023-10-16T07:02:58.799479",
     "status": "completed"
    },
    "tags": []
   },
   "outputs": [
    {
     "name": "stdout",
     "output_type": "stream",
     "text": [
      "Generation - 1\n",
      "13/13 [==============================] - 0s 3ms/step - loss: 6.7182e-04\n",
      "13/13 [==============================] - 0s 3ms/step - loss: 8.0156e-04\n",
      "13/13 [==============================] - 0s 3ms/step - loss: 0.0018\n",
      "13/13 [==============================] - 0s 3ms/step - loss: 6.6873e-04\n",
      "13/13 [==============================] - 0s 3ms/step - loss: 6.7002e-04\n",
      "Generation - 2\n",
      "13/13 [==============================] - 0s 3ms/step - loss: 8.4380e-04\n",
      "13/13 [==============================] - 0s 3ms/step - loss: 7.0498e-04\n",
      "13/13 [==============================] - 0s 3ms/step - loss: 7.4076e-04\n",
      "13/13 [==============================] - 0s 3ms/step - loss: 6.3040e-04\n",
      "13/13 [==============================] - 0s 3ms/step - loss: 6.2884e-04\n",
      "13/13 [==============================] - 0s 3ms/step - loss: 6.7040e-04\n",
      "Generation - 3\n",
      "13/13 [==============================] - 0s 3ms/step - loss: 6.2242e-04\n",
      "13/13 [==============================] - 0s 3ms/step - loss: 7.7782e-04\n",
      "13/13 [==============================] - 0s 3ms/step - loss: 7.7241e-04\n",
      "13/13 [==============================] - 0s 3ms/step - loss: 0.0016\n",
      "13/13 [==============================] - 0s 3ms/step - loss: 9.0393e-04\n",
      "13/13 [==============================] - 0s 3ms/step - loss: 6.6589e-04\n",
      "Generation - 4\n",
      "13/13 [==============================] - 0s 3ms/step - loss: 6.2622e-04\n",
      "13/13 [==============================] - 0s 3ms/step - loss: 6.5259e-04\n",
      "13/13 [==============================] - 0s 3ms/step - loss: 0.0013\n",
      "13/13 [==============================] - 0s 5ms/step - loss: 8.4192e-04\n",
      "13/13 [==============================] - 0s 3ms/step - loss: 0.0013\n",
      "13/13 [==============================] - 0s 3ms/step - loss: 8.5809e-04\n",
      "Generation - 5\n",
      "13/13 [==============================] - 0s 3ms/step - loss: 0.0017\n",
      "13/13 [==============================] - 0s 5ms/step - loss: 7.5013e-04\n",
      "13/13 [==============================] - 0s 3ms/step - loss: 0.0017\n",
      "13/13 [==============================] - 0s 3ms/step - loss: 0.0022\n",
      "13/13 [==============================] - 0s 3ms/step - loss: 7.6261e-04\n",
      "13/13 [==============================] - 0s 5ms/step - loss: 6.5485e-04\n",
      "Generation - 6\n",
      "13/13 [==============================] - 0s 3ms/step - loss: 6.2123e-04\n",
      "13/13 [==============================] - 0s 3ms/step - loss: 0.0014\n",
      "13/13 [==============================] - 0s 3ms/step - loss: 9.2496e-04\n",
      "13/13 [==============================] - 0s 3ms/step - loss: 6.6413e-04\n",
      "13/13 [==============================] - 0s 3ms/step - loss: 0.0013\n",
      "13/13 [==============================] - 0s 4ms/step - loss: 0.0017\n",
      "Generation - 7\n",
      "13/13 [==============================] - 0s 3ms/step - loss: 6.3754e-04\n",
      "13/13 [==============================] - 0s 3ms/step - loss: 8.4531e-04\n",
      "13/13 [==============================] - 0s 3ms/step - loss: 6.7636e-04\n",
      "13/13 [==============================] - 0s 3ms/step - loss: 0.0015\n",
      "13/13 [==============================] - 0s 3ms/step - loss: 0.0024\n",
      "13/13 [==============================] - 0s 3ms/step - loss: 8.1322e-04\n",
      "Generation - 8\n",
      "13/13 [==============================] - 0s 3ms/step - loss: 8.4773e-04\n",
      "13/13 [==============================] - 0s 3ms/step - loss: 0.0014\n",
      "13/13 [==============================] - 0s 3ms/step - loss: 6.7290e-04\n",
      "13/13 [==============================] - 0s 3ms/step - loss: 0.0011\n",
      "13/13 [==============================] - 0s 3ms/step - loss: 7.4135e-04\n",
      "13/13 [==============================] - 0s 3ms/step - loss: 6.3007e-04\n",
      "Generation - 9\n",
      "13/13 [==============================] - 0s 3ms/step - loss: 0.0013\n",
      "13/13 [==============================] - 0s 3ms/step - loss: 8.8887e-04\n",
      "13/13 [==============================] - 0s 3ms/step - loss: 0.0012\n",
      "13/13 [==============================] - 0s 3ms/step - loss: 0.0013\n",
      "13/13 [==============================] - 0s 3ms/step - loss: 8.1663e-04\n",
      "13/13 [==============================] - 0s 3ms/step - loss: 0.0011\n",
      "Generation - 10\n",
      "13/13 [==============================] - 0s 3ms/step - loss: 0.0023\n",
      "13/13 [==============================] - 0s 3ms/step - loss: 0.0014\n",
      "13/13 [==============================] - 0s 3ms/step - loss: 0.0047\n",
      "13/13 [==============================] - 0s 3ms/step - loss: 0.0016\n",
      "13/13 [==============================] - 0s 3ms/step - loss: 0.0026\n",
      "13/13 [==============================] - 0s 3ms/step - loss: 6.3965e-04\n",
      "Generation - 11\n",
      "13/13 [==============================] - 0s 3ms/step - loss: 0.0026\n",
      "13/13 [==============================] - 0s 5ms/step - loss: 6.6307e-04\n",
      "13/13 [==============================] - 0s 3ms/step - loss: 8.2619e-04\n",
      "13/13 [==============================] - 0s 3ms/step - loss: 0.0016\n",
      "13/13 [==============================] - 0s 3ms/step - loss: 6.8126e-04\n",
      "13/13 [==============================] - 0s 4ms/step - loss: 9.7115e-04\n",
      "Generation - 12\n",
      "13/13 [==============================] - 0s 3ms/step - loss: 7.2141e-04\n",
      "13/13 [==============================] - 0s 3ms/step - loss: 6.3180e-04\n",
      "13/13 [==============================] - 0s 3ms/step - loss: 8.5395e-04\n",
      "13/13 [==============================] - 0s 3ms/step - loss: 0.0010\n",
      "13/13 [==============================] - 0s 3ms/step - loss: 0.0025\n",
      "13/13 [==============================] - 0s 3ms/step - loss: 0.0020\n",
      "Generation - 13\n",
      "13/13 [==============================] - 0s 3ms/step - loss: 0.0037\n",
      "13/13 [==============================] - 0s 3ms/step - loss: 7.6064e-04\n",
      "13/13 [==============================] - 0s 3ms/step - loss: 7.3393e-04\n",
      "13/13 [==============================] - 0s 3ms/step - loss: 0.0039\n",
      "13/13 [==============================] - 0s 3ms/step - loss: 8.6627e-04\n",
      "13/13 [==============================] - 0s 3ms/step - loss: 0.0012\n",
      "Generation - 14\n",
      "13/13 [==============================] - 0s 3ms/step - loss: 8.5637e-04\n",
      "13/13 [==============================] - 0s 4ms/step - loss: 6.8576e-04\n",
      "13/13 [==============================] - 0s 3ms/step - loss: 6.8572e-04\n",
      "13/13 [==============================] - 0s 3ms/step - loss: 0.0014\n",
      "13/13 [==============================] - 0s 3ms/step - loss: 0.0017\n",
      "13/13 [==============================] - 0s 4ms/step - loss: 6.9579e-04\n",
      "Generation - 15\n",
      "13/13 [==============================] - 0s 3ms/step - loss: 0.0012\n",
      "13/13 [==============================] - 0s 3ms/step - loss: 0.0015\n",
      "13/13 [==============================] - 0s 3ms/step - loss: 0.0010\n",
      "13/13 [==============================] - 0s 4ms/step - loss: 0.0019\n",
      "13/13 [==============================] - 0s 3ms/step - loss: 6.4506e-04\n",
      "13/13 [==============================] - 0s 3ms/step - loss: 8.0680e-04\n",
      "Generation - 16\n",
      "13/13 [==============================] - 0s 3ms/step - loss: 0.0015\n",
      "13/13 [==============================] - 0s 4ms/step - loss: 0.0016\n",
      "13/13 [==============================] - 0s 3ms/step - loss: 7.2914e-04\n",
      "13/13 [==============================] - 0s 3ms/step - loss: 6.3709e-04\n",
      "13/13 [==============================] - 0s 3ms/step - loss: 9.8536e-04\n",
      "13/13 [==============================] - 0s 4ms/step - loss: 7.7085e-04\n",
      "Generation - 17\n",
      "13/13 [==============================] - 0s 3ms/step - loss: 6.5962e-04\n",
      "13/13 [==============================] - 0s 3ms/step - loss: 0.0017\n",
      "13/13 [==============================] - 0s 3ms/step - loss: 7.1876e-04\n",
      "13/13 [==============================] - 0s 4ms/step - loss: 0.0021\n",
      "13/13 [==============================] - 0s 3ms/step - loss: 7.3022e-04\n",
      "13/13 [==============================] - 0s 3ms/step - loss: 7.9199e-04\n",
      "Generation - 18\n",
      "13/13 [==============================] - 0s 3ms/step - loss: 0.0012\n",
      "13/13 [==============================] - 0s 4ms/step - loss: 7.9824e-04\n",
      "13/13 [==============================] - 0s 3ms/step - loss: 9.7843e-04\n",
      "13/13 [==============================] - 0s 3ms/step - loss: 0.0023\n",
      "13/13 [==============================] - 0s 3ms/step - loss: 0.0041\n",
      "13/13 [==============================] - 0s 4ms/step - loss: 0.0011\n",
      "Generation - 19\n",
      "13/13 [==============================] - 0s 3ms/step - loss: 9.4588e-04\n",
      "13/13 [==============================] - 0s 3ms/step - loss: 8.4166e-04\n",
      "13/13 [==============================] - 0s 3ms/step - loss: 0.0011\n",
      "13/13 [==============================] - 0s 4ms/step - loss: 0.0031\n",
      "13/13 [==============================] - 0s 3ms/step - loss: 9.9251e-04\n",
      "13/13 [==============================] - 0s 3ms/step - loss: 0.0010\n",
      "Generation - 20\n",
      "13/13 [==============================] - 0s 3ms/step - loss: 9.3944e-04\n",
      "13/13 [==============================] - 0s 4ms/step - loss: 7.3402e-04\n",
      "13/13 [==============================] - 0s 3ms/step - loss: 9.3706e-04\n",
      "13/13 [==============================] - 0s 5ms/step - loss: 0.0010\n",
      "13/13 [==============================] - 0s 3ms/step - loss: 0.0025\n",
      "13/13 [==============================] - 0s 4ms/step - loss: 6.4108e-04\n",
      "Generation - 21\n",
      "13/13 [==============================] - 0s 3ms/step - loss: 0.0012\n",
      "13/13 [==============================] - 0s 5ms/step - loss: 0.0022\n",
      "13/13 [==============================] - 0s 3ms/step - loss: 6.4538e-04\n",
      "13/13 [==============================] - 0s 3ms/step - loss: 0.0010\n",
      "13/13 [==============================] - 0s 4ms/step - loss: 7.4646e-04\n",
      "13/13 [==============================] - 0s 3ms/step - loss: 0.0037\n",
      "Generation - 22\n",
      "13/13 [==============================] - 0s 3ms/step - loss: 0.0014\n",
      "13/13 [==============================] - 0s 3ms/step - loss: 0.0016\n",
      "13/13 [==============================] - 0s 4ms/step - loss: 6.9358e-04\n",
      "13/13 [==============================] - 0s 3ms/step - loss: 0.0015\n",
      "13/13 [==============================] - 0s 3ms/step - loss: 0.0015\n",
      "13/13 [==============================] - 0s 3ms/step - loss: 0.0012\n",
      "Generation - 23\n",
      "13/13 [==============================] - 0s 4ms/step - loss: 0.0024\n",
      "13/13 [==============================] - 0s 3ms/step - loss: 7.6572e-04\n",
      "13/13 [==============================] - 0s 3ms/step - loss: 6.8678e-04\n",
      "13/13 [==============================] - 0s 3ms/step - loss: 9.6975e-04\n",
      "13/13 [==============================] - 0s 4ms/step - loss: 0.0015\n",
      "13/13 [==============================] - 0s 3ms/step - loss: 6.4897e-04\n",
      "Generation - 24\n",
      "13/13 [==============================] - 0s 3ms/step - loss: 6.3148e-04\n",
      "13/13 [==============================] - 0s 3ms/step - loss: 0.0038\n",
      "13/13 [==============================] - 0s 4ms/step - loss: 8.9234e-04\n",
      "13/13 [==============================] - 0s 4ms/step - loss: 0.0015\n",
      "13/13 [==============================] - 0s 3ms/step - loss: 7.6147e-04\n",
      "13/13 [==============================] - 0s 3ms/step - loss: 8.4261e-04\n",
      "Generation - 25\n",
      "13/13 [==============================] - 0s 4ms/step - loss: 6.8268e-04\n",
      "13/13 [==============================] - 0s 3ms/step - loss: 0.0010\n",
      "13/13 [==============================] - 0s 3ms/step - loss: 7.0142e-04\n",
      "13/13 [==============================] - 0s 3ms/step - loss: 0.0012\n",
      "13/13 [==============================] - 0s 4ms/step - loss: 0.0023\n",
      "13/13 [==============================] - 0s 3ms/step - loss: 6.9913e-04\n"
     ]
    }
   ],
   "source": [
    "# Do not increase this value\n",
    "population_size = 5\n",
    "generations = 25\n",
    "\n",
    "time = timer(None)\n",
    "best_chromosome, best_fitness = genetic_algorithm(population_size, generations)\n",
    "time = timer(time)"
   ]
  },
  {
   "cell_type": "code",
   "execution_count": 9,
   "id": "71e34bf9",
   "metadata": {
    "execution": {
     "iopub.execute_input": "2023-10-16T07:22:46.529598Z",
     "iopub.status.busy": "2023-10-16T07:22:46.529240Z",
     "iopub.status.idle": "2023-10-16T07:22:46.534538Z",
     "shell.execute_reply": "2023-10-16T07:22:46.533612Z"
    },
    "papermill": {
     "duration": 0.025277,
     "end_time": "2023-10-16T07:22:46.536607",
     "exception": false,
     "start_time": "2023-10-16T07:22:46.511330",
     "status": "completed"
    },
    "tags": []
   },
   "outputs": [
    {
     "name": "stdout",
     "output_type": "stream",
     "text": [
      "Best Chromosome: [ 5 11 10]\n",
      "Best Fitness: -0.0006826759199611843\n",
      "Time Taken: 0 hours 19 minutes and 47.68 seconds.\n"
     ]
    }
   ],
   "source": [
    "print(\"Best Chromosome:\", best_chromosome)\n",
    "print(\"Best Fitness:\", best_fitness)\n",
    "print(\"Time Taken:\", time)"
   ]
  },
  {
   "cell_type": "markdown",
   "id": "8618c9dc",
   "metadata": {
    "papermill": {
     "duration": 0.016329,
     "end_time": "2023-10-16T07:22:46.569691",
     "exception": false,
     "start_time": "2023-10-16T07:22:46.553362",
     "status": "completed"
    },
    "tags": []
   },
   "source": [
    "## Re-Training Model with Best Parameter"
   ]
  },
  {
   "cell_type": "code",
   "execution_count": 10,
   "id": "4d4054cb",
   "metadata": {
    "execution": {
     "iopub.execute_input": "2023-10-16T07:22:46.606761Z",
     "iopub.status.busy": "2023-10-16T07:22:46.606466Z",
     "iopub.status.idle": "2023-10-16T07:22:47.040186Z",
     "shell.execute_reply": "2023-10-16T07:22:47.039075Z"
    },
    "papermill": {
     "duration": 0.456122,
     "end_time": "2023-10-16T07:22:47.044658",
     "exception": false,
     "start_time": "2023-10-16T07:22:46.588536",
     "status": "completed"
    },
    "tags": []
   },
   "outputs": [
    {
     "name": "stdout",
     "output_type": "stream",
     "text": [
      "Model: \"sequential_1\"\n",
      "_________________________________________________________________\n",
      " Layer (type)                Output Shape              Param #   \n",
      "=================================================================\n",
      " lstm_2 (LSTM)               (None, 5, 50)             10400     \n",
      "                                                                 \n",
      " lstm_3 (LSTM)               (None, 110)               70840     \n",
      "                                                                 \n",
      " dense_1 (Dense)             (None, 1)                 111       \n",
      "                                                                 \n",
      "=================================================================\n",
      "Total params: 81,351\n",
      "Trainable params: 81,351\n",
      "Non-trainable params: 0\n",
      "_________________________________________________________________\n"
     ]
    }
   ],
   "source": [
    "model = Sequential()\n",
    "for i, units in enumerate(best_chromosome[:LSTM_Layer]):\n",
    "    model.add(LSTM(units*10, return_sequences=(i < LSTM_Layer - 1), input_shape=(WINDOW_SIZE, 1)))\n",
    "model.add(Dense(1))\n",
    "\n",
    "model.summary()"
   ]
  },
  {
   "cell_type": "code",
   "execution_count": 11,
   "id": "a612e03e",
   "metadata": {
    "execution": {
     "iopub.execute_input": "2023-10-16T07:22:47.080291Z",
     "iopub.status.busy": "2023-10-16T07:22:47.080015Z",
     "iopub.status.idle": "2023-10-16T07:23:08.081593Z",
     "shell.execute_reply": "2023-10-16T07:23:08.080717Z"
    },
    "papermill": {
     "duration": 21.021637,
     "end_time": "2023-10-16T07:23:08.083660",
     "exception": false,
     "start_time": "2023-10-16T07:22:47.062023",
     "status": "completed"
    },
    "tags": []
   },
   "outputs": [
    {
     "name": "stdout",
     "output_type": "stream",
     "text": [
      "Epoch 1/50\n",
      "44/44 [==============================] - 5s 23ms/step - loss: 0.0208 - mae: 0.1012 - root_mean_squared_error: 0.1442 - val_loss: 5.0170e-04 - val_mae: 0.0180 - val_root_mean_squared_error: 0.0224\n",
      "Epoch 2/50\n",
      "44/44 [==============================] - 0s 7ms/step - loss: 0.0033 - mae: 0.0356 - root_mean_squared_error: 0.0579 - val_loss: 3.8315e-04 - val_mae: 0.0157 - val_root_mean_squared_error: 0.0196\n",
      "Epoch 3/50\n",
      "44/44 [==============================] - 0s 8ms/step - loss: 0.0029 - mae: 0.0303 - root_mean_squared_error: 0.0541 - val_loss: 4.4270e-04 - val_mae: 0.0169 - val_root_mean_squared_error: 0.0210\n",
      "Epoch 4/50\n",
      "44/44 [==============================] - 0s 8ms/step - loss: 0.0030 - mae: 0.0309 - root_mean_squared_error: 0.0543 - val_loss: 4.0336e-04 - val_mae: 0.0161 - val_root_mean_squared_error: 0.0201\n",
      "Epoch 5/50\n",
      "44/44 [==============================] - 0s 7ms/step - loss: 0.0029 - mae: 0.0297 - root_mean_squared_error: 0.0537 - val_loss: 0.0011 - val_mae: 0.0288 - val_root_mean_squared_error: 0.0332\n",
      "Epoch 6/50\n",
      "44/44 [==============================] - 0s 7ms/step - loss: 0.0029 - mae: 0.0317 - root_mean_squared_error: 0.0543 - val_loss: 6.9972e-04 - val_mae: 0.0222 - val_root_mean_squared_error: 0.0265\n",
      "Epoch 7/50\n",
      "44/44 [==============================] - 0s 7ms/step - loss: 0.0028 - mae: 0.0304 - root_mean_squared_error: 0.0533 - val_loss: 5.3522e-04 - val_mae: 0.0187 - val_root_mean_squared_error: 0.0231\n",
      "Epoch 8/50\n",
      "44/44 [==============================] - 0s 7ms/step - loss: 0.0029 - mae: 0.0308 - root_mean_squared_error: 0.0539 - val_loss: 0.0012 - val_mae: 0.0297 - val_root_mean_squared_error: 0.0340\n",
      "Epoch 9/50\n",
      "44/44 [==============================] - 0s 7ms/step - loss: 0.0028 - mae: 0.0297 - root_mean_squared_error: 0.0527 - val_loss: 3.4814e-04 - val_mae: 0.0149 - val_root_mean_squared_error: 0.0187\n",
      "Epoch 10/50\n",
      "44/44 [==============================] - 0s 7ms/step - loss: 0.0027 - mae: 0.0285 - root_mean_squared_error: 0.0517 - val_loss: 3.2469e-04 - val_mae: 0.0143 - val_root_mean_squared_error: 0.0180\n",
      "Epoch 11/50\n",
      "44/44 [==============================] - 0s 7ms/step - loss: 0.0027 - mae: 0.0286 - root_mean_squared_error: 0.0516 - val_loss: 8.3765e-04 - val_mae: 0.0247 - val_root_mean_squared_error: 0.0289\n",
      "Epoch 12/50\n",
      "44/44 [==============================] - 0s 7ms/step - loss: 0.0028 - mae: 0.0311 - root_mean_squared_error: 0.0528 - val_loss: 3.1080e-04 - val_mae: 0.0140 - val_root_mean_squared_error: 0.0176\n",
      "Epoch 13/50\n",
      "44/44 [==============================] - 0s 7ms/step - loss: 0.0025 - mae: 0.0277 - root_mean_squared_error: 0.0503 - val_loss: 4.3075e-04 - val_mae: 0.0166 - val_root_mean_squared_error: 0.0208\n",
      "Epoch 14/50\n",
      "44/44 [==============================] - 0s 7ms/step - loss: 0.0026 - mae: 0.0292 - root_mean_squared_error: 0.0512 - val_loss: 3.8320e-04 - val_mae: 0.0156 - val_root_mean_squared_error: 0.0196\n",
      "Epoch 15/50\n",
      "44/44 [==============================] - 0s 7ms/step - loss: 0.0025 - mae: 0.0272 - root_mean_squared_error: 0.0499 - val_loss: 3.2457e-04 - val_mae: 0.0143 - val_root_mean_squared_error: 0.0180\n",
      "Epoch 16/50\n",
      "44/44 [==============================] - 0s 7ms/step - loss: 0.0025 - mae: 0.0277 - root_mean_squared_error: 0.0500 - val_loss: 2.9032e-04 - val_mae: 0.0134 - val_root_mean_squared_error: 0.0170\n",
      "Epoch 17/50\n",
      "44/44 [==============================] - 0s 8ms/step - loss: 0.0025 - mae: 0.0280 - root_mean_squared_error: 0.0499 - val_loss: 3.3286e-04 - val_mae: 0.0143 - val_root_mean_squared_error: 0.0182\n",
      "Epoch 18/50\n",
      "44/44 [==============================] - 0s 7ms/step - loss: 0.0023 - mae: 0.0263 - root_mean_squared_error: 0.0482 - val_loss: 2.6714e-04 - val_mae: 0.0127 - val_root_mean_squared_error: 0.0163\n",
      "Epoch 19/50\n",
      "44/44 [==============================] - 0s 7ms/step - loss: 0.0023 - mae: 0.0259 - root_mean_squared_error: 0.0479 - val_loss: 2.6231e-04 - val_mae: 0.0125 - val_root_mean_squared_error: 0.0162\n",
      "Epoch 20/50\n",
      "44/44 [==============================] - 0s 7ms/step - loss: 0.0023 - mae: 0.0277 - root_mean_squared_error: 0.0482 - val_loss: 2.7147e-04 - val_mae: 0.0128 - val_root_mean_squared_error: 0.0165\n",
      "Epoch 21/50\n",
      "44/44 [==============================] - 0s 7ms/step - loss: 0.0022 - mae: 0.0256 - root_mean_squared_error: 0.0472 - val_loss: 3.3172e-04 - val_mae: 0.0144 - val_root_mean_squared_error: 0.0182\n",
      "Epoch 22/50\n",
      "44/44 [==============================] - 0s 7ms/step - loss: 0.0023 - mae: 0.0276 - root_mean_squared_error: 0.0483 - val_loss: 2.7932e-04 - val_mae: 0.0131 - val_root_mean_squared_error: 0.0167\n",
      "Epoch 23/50\n",
      "44/44 [==============================] - 0s 7ms/step - loss: 0.0022 - mae: 0.0258 - root_mean_squared_error: 0.0466 - val_loss: 3.3144e-04 - val_mae: 0.0147 - val_root_mean_squared_error: 0.0182\n",
      "Epoch 24/50\n",
      "44/44 [==============================] - 0s 7ms/step - loss: 0.0022 - mae: 0.0252 - root_mean_squared_error: 0.0465 - val_loss: 2.4436e-04 - val_mae: 0.0119 - val_root_mean_squared_error: 0.0156\n",
      "Epoch 25/50\n",
      "44/44 [==============================] - 0s 7ms/step - loss: 0.0021 - mae: 0.0242 - root_mean_squared_error: 0.0455 - val_loss: 2.5236e-04 - val_mae: 0.0124 - val_root_mean_squared_error: 0.0159\n",
      "Epoch 26/50\n",
      "44/44 [==============================] - 0s 7ms/step - loss: 0.0021 - mae: 0.0243 - root_mean_squared_error: 0.0455 - val_loss: 7.0124e-04 - val_mae: 0.0235 - val_root_mean_squared_error: 0.0265\n",
      "Epoch 27/50\n",
      "44/44 [==============================] - 0s 7ms/step - loss: 0.0021 - mae: 0.0259 - root_mean_squared_error: 0.0460 - val_loss: 2.1167e-04 - val_mae: 0.0108 - val_root_mean_squared_error: 0.0145\n",
      "Epoch 28/50\n",
      "44/44 [==============================] - 0s 7ms/step - loss: 0.0020 - mae: 0.0233 - root_mean_squared_error: 0.0450 - val_loss: 2.4431e-04 - val_mae: 0.0123 - val_root_mean_squared_error: 0.0156\n",
      "Epoch 29/50\n",
      "44/44 [==============================] - 0s 7ms/step - loss: 0.0020 - mae: 0.0228 - root_mean_squared_error: 0.0443 - val_loss: 1.9957e-04 - val_mae: 0.0104 - val_root_mean_squared_error: 0.0141\n",
      "Epoch 30/50\n",
      "44/44 [==============================] - 0s 7ms/step - loss: 0.0020 - mae: 0.0236 - root_mean_squared_error: 0.0445 - val_loss: 4.2893e-04 - val_mae: 0.0178 - val_root_mean_squared_error: 0.0207\n",
      "Epoch 31/50\n",
      "44/44 [==============================] - 0s 7ms/step - loss: 0.0020 - mae: 0.0244 - root_mean_squared_error: 0.0446 - val_loss: 8.0989e-04 - val_mae: 0.0256 - val_root_mean_squared_error: 0.0285\n",
      "Epoch 32/50\n",
      "44/44 [==============================] - 0s 7ms/step - loss: 0.0020 - mae: 0.0239 - root_mean_squared_error: 0.0453 - val_loss: 2.0814e-04 - val_mae: 0.0110 - val_root_mean_squared_error: 0.0144\n",
      "Epoch 33/50\n",
      "44/44 [==============================] - 0s 7ms/step - loss: 0.0021 - mae: 0.0256 - root_mean_squared_error: 0.0455 - val_loss: 2.9372e-04 - val_mae: 0.0141 - val_root_mean_squared_error: 0.0171\n",
      "Epoch 34/50\n",
      "44/44 [==============================] - 0s 7ms/step - loss: 0.0022 - mae: 0.0278 - root_mean_squared_error: 0.0465 - val_loss: 3.8945e-04 - val_mae: 0.0164 - val_root_mean_squared_error: 0.0197\n",
      "Epoch 35/50\n",
      "44/44 [==============================] - 0s 7ms/step - loss: 0.0020 - mae: 0.0244 - root_mean_squared_error: 0.0446 - val_loss: 2.7680e-04 - val_mae: 0.0133 - val_root_mean_squared_error: 0.0166\n",
      "Epoch 36/50\n",
      "44/44 [==============================] - 0s 7ms/step - loss: 0.0019 - mae: 0.0237 - root_mean_squared_error: 0.0442 - val_loss: 4.1348e-04 - val_mae: 0.0175 - val_root_mean_squared_error: 0.0203\n",
      "Epoch 37/50\n",
      "44/44 [==============================] - 0s 7ms/step - loss: 0.0019 - mae: 0.0221 - root_mean_squared_error: 0.0437 - val_loss: 1.8292e-04 - val_mae: 0.0100 - val_root_mean_squared_error: 0.0135\n",
      "Epoch 38/50\n",
      "44/44 [==============================] - 0s 7ms/step - loss: 0.0019 - mae: 0.0226 - root_mean_squared_error: 0.0437 - val_loss: 2.5195e-04 - val_mae: 0.0127 - val_root_mean_squared_error: 0.0159\n",
      "Epoch 39/50\n",
      "44/44 [==============================] - 0s 7ms/step - loss: 0.0019 - mae: 0.0231 - root_mean_squared_error: 0.0440 - val_loss: 1.8341e-04 - val_mae: 0.0100 - val_root_mean_squared_error: 0.0135\n",
      "Epoch 40/50\n",
      "44/44 [==============================] - 0s 7ms/step - loss: 0.0019 - mae: 0.0222 - root_mean_squared_error: 0.0435 - val_loss: 1.9025e-04 - val_mae: 0.0103 - val_root_mean_squared_error: 0.0138\n",
      "Epoch 41/50\n",
      "44/44 [==============================] - 0s 7ms/step - loss: 0.0020 - mae: 0.0229 - root_mean_squared_error: 0.0443 - val_loss: 1.7998e-04 - val_mae: 0.0099 - val_root_mean_squared_error: 0.0134\n",
      "Epoch 42/50\n",
      "44/44 [==============================] - 0s 7ms/step - loss: 0.0019 - mae: 0.0231 - root_mean_squared_error: 0.0438 - val_loss: 4.4097e-04 - val_mae: 0.0180 - val_root_mean_squared_error: 0.0210\n",
      "Epoch 43/50\n",
      "44/44 [==============================] - 0s 7ms/step - loss: 0.0019 - mae: 0.0225 - root_mean_squared_error: 0.0439 - val_loss: 2.4821e-04 - val_mae: 0.0124 - val_root_mean_squared_error: 0.0158\n",
      "Epoch 44/50\n",
      "44/44 [==============================] - 0s 7ms/step - loss: 0.0019 - mae: 0.0220 - root_mean_squared_error: 0.0433 - val_loss: 1.8874e-04 - val_mae: 0.0102 - val_root_mean_squared_error: 0.0137\n",
      "Epoch 45/50\n",
      "44/44 [==============================] - 0s 7ms/step - loss: 0.0020 - mae: 0.0228 - root_mean_squared_error: 0.0442 - val_loss: 2.1271e-04 - val_mae: 0.0112 - val_root_mean_squared_error: 0.0146\n",
      "Epoch 46/50\n",
      "44/44 [==============================] - 0s 7ms/step - loss: 0.0020 - mae: 0.0238 - root_mean_squared_error: 0.0444 - val_loss: 9.4188e-04 - val_mae: 0.0280 - val_root_mean_squared_error: 0.0307\n",
      "Epoch 47/50\n",
      "44/44 [==============================] - 0s 8ms/step - loss: 0.0023 - mae: 0.0281 - root_mean_squared_error: 0.0477 - val_loss: 2.0471e-04 - val_mae: 0.0109 - val_root_mean_squared_error: 0.0143\n",
      "Epoch 48/50\n",
      "44/44 [==============================] - 0s 8ms/step - loss: 0.0020 - mae: 0.0234 - root_mean_squared_error: 0.0443 - val_loss: 2.6559e-04 - val_mae: 0.0133 - val_root_mean_squared_error: 0.0163\n",
      "Epoch 49/50\n",
      "44/44 [==============================] - 0s 7ms/step - loss: 0.0019 - mae: 0.0229 - root_mean_squared_error: 0.0439 - val_loss: 3.9914e-04 - val_mae: 0.0172 - val_root_mean_squared_error: 0.0200\n",
      "Epoch 50/50\n",
      "44/44 [==============================] - 0s 7ms/step - loss: 0.0019 - mae: 0.0226 - root_mean_squared_error: 0.0438 - val_loss: 1.7608e-04 - val_mae: 0.0098 - val_root_mean_squared_error: 0.0133\n"
     ]
    }
   ],
   "source": [
    "model.compile(loss='mean_squared_error',\n",
    "              metrics=['mae', RootMeanSquaredError()],\n",
    "              optimizer='adam')\n",
    "\n",
    "history = model.fit(X_train,\n",
    "                    y_train,\n",
    "                    epochs=50,\n",
    "                    batch_size=32,\n",
    "                    validation_split=0.1)"
   ]
  },
  {
   "cell_type": "code",
   "execution_count": 12,
   "id": "97063682",
   "metadata": {
    "execution": {
     "iopub.execute_input": "2023-10-16T07:23:08.151503Z",
     "iopub.status.busy": "2023-10-16T07:23:08.150646Z",
     "iopub.status.idle": "2023-10-16T07:23:08.262087Z",
     "shell.execute_reply": "2023-10-16T07:23:08.260920Z"
    },
    "papermill": {
     "duration": 0.146203,
     "end_time": "2023-10-16T07:23:08.264115",
     "exception": false,
     "start_time": "2023-10-16T07:23:08.117912",
     "status": "completed"
    },
    "tags": []
   },
   "outputs": [
    {
     "name": "stdout",
     "output_type": "stream",
     "text": [
      "13/13 [==============================] - 0s 4ms/step - loss: 0.0015 - mae: 0.0308 - root_mean_squared_error: 0.0382\n"
     ]
    },
    {
     "data": {
      "text/plain": [
       "[0.0014571748906746507, 0.030803995206952095, 0.03817296028137207]"
      ]
     },
     "execution_count": 12,
     "metadata": {},
     "output_type": "execute_result"
    }
   ],
   "source": [
    "model.evaluate(X_test, y_test)"
   ]
  },
  {
   "cell_type": "markdown",
   "id": "af494047",
   "metadata": {
    "papermill": {
     "duration": 0.032964,
     "end_time": "2023-10-16T07:23:08.332412",
     "exception": false,
     "start_time": "2023-10-16T07:23:08.299448",
     "status": "completed"
    },
    "tags": []
   },
   "source": [
    "## Model Evaluation"
   ]
  },
  {
   "cell_type": "code",
   "execution_count": 13,
   "id": "ac0e477c",
   "metadata": {
    "execution": {
     "iopub.execute_input": "2023-10-16T07:23:08.401475Z",
     "iopub.status.busy": "2023-10-16T07:23:08.400478Z",
     "iopub.status.idle": "2023-10-16T07:23:08.679002Z",
     "shell.execute_reply": "2023-10-16T07:23:08.678131Z"
    },
    "papermill": {
     "duration": 0.315593,
     "end_time": "2023-10-16T07:23:08.680885",
     "exception": false,
     "start_time": "2023-10-16T07:23:08.365292",
     "status": "completed"
    },
    "tags": []
   },
   "outputs": [
    {
     "data": {
      "image/png": "[encoded data removed]",
      "text/plain": [
       "<Figure size 640x480 with 1 Axes>"
      ]
     },
     "metadata": {},
     "output_type": "display_data"
    }
   ],
   "source": [
    "plt.plot(history.history['loss'])\n",
    "plt.plot(history.history['val_loss'])\n",
    "plt.title(f'{SHEET_NAME[2]} Model Loss', fontsize=15)\n",
    "plt.ylabel('loss')\n",
    "plt.xlabel('epoch')\n",
    "plt.legend(['train', 'test'])\n",
    "plt.show()"
   ]
  },
  {
   "cell_type": "code",
   "execution_count": 14,
   "id": "a2334fb6",
   "metadata": {
    "execution": {
     "iopub.execute_input": "2023-10-16T07:23:08.748958Z",
     "iopub.status.busy": "2023-10-16T07:23:08.748640Z",
     "iopub.status.idle": "2023-10-16T07:23:09.451539Z",
     "shell.execute_reply": "2023-10-16T07:23:09.450598Z"
    },
    "papermill": {
     "duration": 0.739194,
     "end_time": "2023-10-16T07:23:09.453780",
     "exception": false,
     "start_time": "2023-10-16T07:23:08.714586",
     "status": "completed"
    },
    "tags": []
   },
   "outputs": [
    {
     "name": "stdout",
     "output_type": "stream",
     "text": [
      "13/13 [==============================] - 1s 2ms/step\n"
     ]
    }
   ],
   "source": [
    "y_hat = model.predict(X_test)\n",
    "y_test_inverse = scaler.inverse_transform(y_test)\n",
    "y_hat_inverse = scaler.inverse_transform(y_hat)"
   ]
  },
  {
   "cell_type": "code",
   "execution_count": 15,
   "id": "592043a6",
   "metadata": {
    "execution": {
     "iopub.execute_input": "2023-10-16T07:23:09.522734Z",
     "iopub.status.busy": "2023-10-16T07:23:09.522402Z",
     "iopub.status.idle": "2023-10-16T07:23:09.810970Z",
     "shell.execute_reply": "2023-10-16T07:23:09.810110Z"
    },
    "papermill": {
     "duration": 0.325659,
     "end_time": "2023-10-16T07:23:09.813198",
     "exception": false,
     "start_time": "2023-10-16T07:23:09.487539",
     "status": "completed"
    },
    "tags": []
   },
   "outputs": [
    {
     "data": {
      "image/png": "[encoded data removed]",
      "text/plain": [
       "<Figure size 640x480 with 1 Axes>"
      ]
     },
     "metadata": {},
     "output_type": "display_data"
    }
   ],
   "source": [
    "plt.plot(y_test_inverse, label=\"Actual Price\", color='green')\n",
    "plt.plot(y_hat_inverse, label=\"Predicted Price\", color='red')\n",
    " \n",
    "plt.title(f'{SHEET_NAME[2]} Price Prediction\\nLSTM = {LSTM_Layer}, Split Data = {SPLIT}, Window = {WINDOW_SIZE}', fontsize=15)\n",
    "plt.xlabel('Time [days]')\n",
    "plt.ylabel('Price')\n",
    "plt.legend(loc='best')\n",
    " \n",
    "plt.show()"
   ]
  },
  {
   "cell_type": "code",
   "execution_count": 16,
   "id": "57175045",
   "metadata": {
    "execution": {
     "iopub.execute_input": "2023-10-16T07:23:09.883847Z",
     "iopub.status.busy": "2023-10-16T07:23:09.883508Z",
     "iopub.status.idle": "2023-10-16T07:23:09.892906Z",
     "shell.execute_reply": "2023-10-16T07:23:09.891583Z"
    },
    "papermill": {
     "duration": 0.046941,
     "end_time": "2023-10-16T07:23:09.894697",
     "exception": false,
     "start_time": "2023-10-16T07:23:09.847756",
     "status": "completed"
    },
    "tags": []
   },
   "outputs": [
    {
     "name": "stdout",
     "output_type": "stream",
     "text": [
      "LSTM = 2, Split Data = 0.8, Window = 5\n",
      "\n",
      "----------------- Normalized Error -----------------\n",
      "Mean Absolute Error for prediction : 0.0308039947435089\n",
      "Mean Squared Error for prediction : 0.0014571749209587198\n",
      "Root Mean Squared Error for prediction : 0.03817296059986335\n",
      "\n",
      "----------------- Actual Error -----------------\n",
      "Mean Absolute Error for prediction : 64.94885579843344\n",
      "Mean Squared Error for prediction : 6477.994874210705\n",
      "Root Mean Squared Error for prediction : 80.48599178870013\n"
     ]
    }
   ],
   "source": [
    "def matrices(actual, predicted):\n",
    "    mse = mean_squared_error(actual, predicted)\n",
    "    mae = mean_absolute_error(actual, predicted)\n",
    "    rmse = np.sqrt(mse)\n",
    "    print(\"Mean Absolute Error for prediction :\", mae)\n",
    "    print(\"Mean Squared Error for prediction :\", mse)\n",
    "    print(\"Root Mean Squared Error for prediction :\", rmse)\n",
    "    return mae, mse, rmse\n",
    "\n",
    "print(f\"LSTM = {LSTM_Layer}, Split Data = {SPLIT}, Window = {WINDOW_SIZE}\")\n",
    "print(\"\\n----------------- Normalized Error -----------------\")\n",
    "mae, mse, rmse = matrices(y_test, y_hat)\n",
    "print(\"\\n----------------- Actual Error -----------------\")\n",
    "mae_inverse, mse_inverse, rmse_inverse = matrices(y_test_inverse, y_hat_inverse)"
   ]
  }
 ],
 "metadata": {
  "kernelspec": {
   "display_name": "Python 3",
   "language": "python",
   "name": "python3"
  },
  "language_info": {
   "codemirror_mode": {
    "name": "ipython",
    "version": 3
   },
   "file_extension": ".py",
   "mimetype": "text/x-python",
   "name": "python",
   "nbconvert_exporter": "python",
   "pygments_lexer": "ipython3",
   "version": "3.10.10"
  },
  "papermill": {
   "default_parameters": {},
   "duration": 1233.164209,
   "end_time": "2023-10-16T07:23:13.616662",
   "environment_variables": {},
   "exception": null,
   "input_path": "__notebook__.ipynb",
   "output_path": "__notebook__.ipynb",
   "parameters": {},
   "start_time": "2023-10-16T07:02:40.452453",
   "version": "2.4.0"
  }
 },
 "nbformat": 4,
 "nbformat_minor": 5
}
