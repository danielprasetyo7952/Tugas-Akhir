{
 "cells": [
  {
   "cell_type": "code",
   "execution_count": 1,
   "metadata": {},
   "outputs": [],
   "source": [
    "import pandas as pd\n",
    "import numpy as np\n",
    "import torch\n",
    "import torch.nn as nn\n",
    "import torch.optim as optim\n",
    "from torch.utils.data import Dataset, DataLoader\n",
    "from sklearn.preprocessing import MinMaxScaler\n",
    "\n",
    "# Google Spreadsheet ID\n",
    "SHEET_ID = '1JDNv_mArl-GPIpxuWS5GxgVEwvjXocS1MrXGc6TYs8M'\n",
    "SHEET_NAME = 'USD/IDR'\n",
    "URL = f'https://docs.google.com/spreadsheets/d/{SHEET_ID}/gviz/tq?tqx=out:csv&sheet={SHEET_NAME}'"
   ]
  },
  {
   "cell_type": "code",
   "execution_count": 2,
   "metadata": {},
   "outputs": [],
   "source": [
    "# Define your custom dataset class\n",
    "class ForexDataset(Dataset):\n",
    "    def __init__(self, data, sequence_length):\n",
    "        self.data = data\n",
    "        self.sequence_length = sequence_length\n",
    "\n",
    "    def __len__(self):\n",
    "        return len(self.data) - self.sequence_length\n",
    "\n",
    "    def __getitem__(self, index):\n",
    "        x = self.data[index:index+self.sequence_length]  # Select input sequence\n",
    "        y = self.data[index+self.sequence_length]  # Select target (next value)\n",
    "        return x, y\n",
    "\n",
    "# Define the LSTM model\n",
    "class LSTMForecastModel(nn.Module):\n",
    "    def __init__(self, input_size, hidden_size, num_layers, output_size):\n",
    "        super(LSTMForecastModel, self).__init__()\n",
    "        self.hidden_size = hidden_size\n",
    "        self.num_layers = num_layers\n",
    "        self.lstm = nn.LSTM(input_size, hidden_size, num_layers, batch_first=True)\n",
    "        self.fc = nn.Linear(hidden_size, output_size)\n",
    "\n",
    "    def forward(self, x):\n",
    "        h0 = torch.zeros(self.num_layers, x.size(0), self.hidden_size).to(x.device)\n",
    "        c0 = torch.zeros(self.num_layers, x.size(0), self.hidden_size).to(x.device)\n",
    "        out, _ = self.lstm(x, (h0, c0))\n",
    "        out = self.fc(out[:, -1, :])  # Use the last time step's output for prediction\n",
    "        return out"
   ]
  },
  {
   "cell_type": "code",
   "execution_count": 3,
   "metadata": {},
   "outputs": [],
   "source": [
    "# Load the Forex dataset from a CSV file\n",
    "dataframe = pd.read_csv(URL)\n",
    "dataframe.drop('Unnamed: 2', axis=1, inplace=True)\n",
    "\n",
    "# Convert the preprocessed dataset to a NumPy array\n",
    "dataset = dataframe['Close'].values.reshape(-1, 1)\n",
    "\n",
    "# Normalize or scale the dataset if necessary\n",
    "scaler = MinMaxScaler()\n",
    "dataset = scaler.fit_transform(dataset)\n",
    "\n",
    "# Split the dataset into training and test sets (adjust as needed)\n",
    "SPLIT_TRAIN = 0.9\n",
    "num_splits = int(SPLIT_TRAIN * len(dataset))\n",
    "train_data = dataset[:num_splits]\n",
    "test_data = dataset[num_splits:]\n",
    "\n",
    "# Define the sequence length and create the dataset and data loader\n",
    "sequence_length = 100  # Number of past time steps to consider for prediction\n",
    "train_dataset = ForexDataset(train_data, sequence_length)\n",
    "test_dataset = ForexDataset(test_data, sequence_length)\n",
    "train_dataloader = DataLoader(train_dataset, batch_size=16, shuffle=True)\n",
    "test_dataloader = DataLoader(test_dataset, batch_size=16, shuffle=False)"
   ]
  },
  {
   "cell_type": "code",
   "execution_count": 4,
   "metadata": {},
   "outputs": [
    {
     "name": "stderr",
     "output_type": "stream",
     "text": [
      "/home/danielbudi/miniconda3/envs/satria-data/lib/python3.9/site-packages/torch/nn/modules/loss.py:536: UserWarning: Using a target size (torch.Size([16, 1, 1])) that is different to the input size (torch.Size([16, 1])). This will likely lead to incorrect results due to broadcasting. Please ensure they have the same size.\n",
      "  return F.mse_loss(input, target, reduction=self.reduction)\n",
      "/home/danielbudi/miniconda3/envs/satria-data/lib/python3.9/site-packages/torch/nn/modules/loss.py:536: UserWarning: Using a target size (torch.Size([14, 1, 1])) that is different to the input size (torch.Size([14, 1])). This will likely lead to incorrect results due to broadcasting. Please ensure they have the same size.\n",
      "  return F.mse_loss(input, target, reduction=self.reduction)\n"
     ]
    },
    {
     "name": "stdout",
     "output_type": "stream",
     "text": [
      "Epoch [10/100], Loss: 0.0129\n",
      "Epoch [20/100], Loss: 0.0216\n",
      "Epoch [30/100], Loss: 0.0283\n",
      "Epoch [40/100], Loss: 0.0099\n",
      "Epoch [50/100], Loss: 0.0222\n",
      "Epoch [60/100], Loss: 0.0038\n",
      "Epoch [70/100], Loss: 0.0209\n",
      "Epoch [80/100], Loss: 0.0171\n",
      "Epoch [90/100], Loss: 0.0179\n",
      "Epoch [100/100], Loss: 0.0300\n"
     ]
    }
   ],
   "source": [
    "# Define the LSTM model and other hyperparameters\n",
    "input_size = 1  # Number of input features (single column)\n",
    "hidden_size = 32\n",
    "num_layers = 2\n",
    "output_size = 1  # Number of output values to predict (next value)\n",
    "model = LSTMForecastModel(input_size, hidden_size, num_layers, output_size)\n",
    "criterion = nn.MSELoss()\n",
    "optimizer = optim.Adam(model.parameters(), lr=0.01)\n",
    "\n",
    "# Training loop\n",
    "num_epochs = 100\n",
    "for epoch in range(num_epochs):\n",
    "    for inputs, targets in train_dataloader:\n",
    "        inputs = inputs.float()  # Convert inputs to float type\n",
    "        targets = targets.float()  # Convert targets to float type\n",
    "        optimizer.zero_grad()\n",
    "        outputs = model(inputs)\n",
    "        loss = criterion(outputs, targets.unsqueeze(-1))\n",
    "        loss.backward()\n",
    "        optimizer.step()\n",
    "\n",
    "    if (epoch+1) % 10 == 0:\n",
    "        print(f'Epoch [{epoch+1}/{num_epochs}], Loss: {loss.item():.4f}')"
   ]
  },
  {
   "cell_type": "code",
   "execution_count": 5,
   "metadata": {},
   "outputs": [
    {
     "name": "stdout",
     "output_type": "stream",
     "text": [
      "Future Predictions: [[14639.54171692]\n",
      " [14639.54171692]\n",
      " [14639.54171692]\n",
      " [14639.54171692]\n",
      " [14639.54171692]\n",
      " [14639.54171692]\n",
      " [14639.54171692]\n",
      " [14639.54171692]\n",
      " [14639.54171692]\n",
      " [14639.54171692]\n",
      " [14639.54171692]\n",
      " [14639.54161532]\n",
      " [14639.54161532]\n",
      " [14639.54161532]\n",
      " [14639.54161532]\n",
      " [14639.54161532]\n",
      " [14639.54161532]\n",
      " [14639.54161532]\n",
      " [14639.54161532]\n",
      " [14639.54161532]\n",
      " [14639.54161532]\n",
      " [14639.54161532]\n",
      " [14639.54161532]\n",
      " [14639.54161532]\n",
      " [14639.54161532]]\n"
     ]
    }
   ],
   "source": [
    "# Generate predictions on the test set\n",
    "model.eval()\n",
    "future_predictions = []\n",
    "with torch.no_grad():\n",
    "    for inputs, _ in test_dataloader:\n",
    "        inputs = inputs.float()  # Convert inputs to float type\n",
    "        outputs = model(inputs)\n",
    "        future_predictions.append(outputs.squeeze().tolist())\n",
    "\n",
    "future_predictions = np.concatenate(future_predictions)  # Convert list to a single 1D numpy array\n",
    "future_predictions = future_predictions.reshape(-1, 1)  # Reshape to a 2D array\n",
    "future_predictions = scaler.inverse_transform(future_predictions)\n",
    "\n",
    "print('Future Predictions:', future_predictions)"
   ]
  }
 ],
 "metadata": {
  "kernelspec": {
   "display_name": "satria-data",
   "language": "python",
   "name": "python3"
  },
  "language_info": {
   "codemirror_mode": {
    "name": "ipython",
    "version": 3
   },
   "file_extension": ".py",
   "mimetype": "text/x-python",
   "name": "python",
   "nbconvert_exporter": "python",
   "pygments_lexer": "ipython3",
   "version": "3.9.16"
  },
  "orig_nbformat": 4
 },
 "nbformat": 4,
 "nbformat_minor": 2
}
