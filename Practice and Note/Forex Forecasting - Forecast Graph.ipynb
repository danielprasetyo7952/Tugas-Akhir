{
 "cells": [
  {
   "cell_type": "code",
   "execution_count": 1,
   "metadata": {},
   "outputs": [],
   "source": [
    "import numpy as np\n",
    "import pandas as pd\n",
    "import matplotlib.pyplot as plt\n",
    "from sklearn.preprocessing import MinMaxScaler\n",
    "from keras.models import Sequential\n",
    "from keras.layers import LSTM, Dense\n",
    "\n",
    "# Load data from Google Spreadsheet\n",
    "SHEET_ID = '1JDNv_mArl-GPIpxuWS5GxgVEwvjXocS1MrXGc6TYs8M'\n",
    "SHEET_NAME = ['USD/IDR', 'EUR/IDR', 'JPY/IDR']"
   ]
  },
  {
   "cell_type": "code",
   "execution_count": 2,
   "metadata": {},
   "outputs": [
    {
     "name": "stdout",
     "output_type": "stream",
     "text": [
      "<class 'pandas.core.frame.DataFrame'>\n",
      "RangeIndex: 1977 entries, 0 to 1976\n",
      "Data columns (total 2 columns):\n",
      " #   Column  Non-Null Count  Dtype         \n",
      "---  ------  --------------  -----         \n",
      " 0   Date    1977 non-null   datetime64[ns]\n",
      " 1   Close   1977 non-null   float64       \n",
      "dtypes: datetime64[ns](1), float64(1)\n",
      "memory usage: 31.0 KB\n"
     ]
    }
   ],
   "source": [
    "url = f'https://docs.google.com/spreadsheets/d/{SHEET_ID}/gviz/tq?tqx=out:csv&sheet={SHEET_NAME[0]}'\n",
    "data = pd.read_csv(url)\n",
    "\n",
    "# Drop unused columns\n",
    "data = data.drop('Unnamed: 2', axis=1)\n",
    "\n",
    "# Convert Date columns to datetime format\n",
    "data['Date'] = pd.to_datetime(data['Date'], format='%d/%m/%Y %H:%M:%S')\n",
    "data.info()"
   ]
  },
  {
   "cell_type": "code",
   "execution_count": 3,
   "metadata": {},
   "outputs": [],
   "source": [
    "data = data.groupby([pd.Grouper(key='Date', freq='D')]).first().reset_index()\n",
    "data = data.set_index('Date')"
   ]
  },
  {
   "cell_type": "code",
   "execution_count": 4,
   "metadata": {},
   "outputs": [],
   "source": [
    "# Normalize the data\n",
    "scaler = MinMaxScaler(feature_range=(0, 1))\n",
    "scaled_data = scaler.fit_transform(data)\n",
    "\n",
    "# Define the number of previous time steps to consider for forecasting\n",
    "n_steps = 60\n",
    "\n",
    "# Split the data into input (X) and output (y) sequences\n",
    "X, y = [], []\n",
    "for i in range(n_steps, len(scaled_data)):\n",
    "    X.append(scaled_data[i - n_steps:i])\n",
    "    y.append(scaled_data[i])\n",
    "\n",
    "X = np.array(X)\n",
    "y = np.array(y)\n",
    "\n",
    "# Split the data into training and testing sets\n",
    "split_index = int(0.8 * len(X))\n",
    "X_train, X_test = X[:split_index], X[split_index:]\n",
    "y_train, y_test = y[:split_index], y[split_index:]"
   ]
  },
  {
   "cell_type": "code",
   "execution_count": 5,
   "metadata": {},
   "outputs": [
    {
     "data": {
      "text/plain": [
       "(1533, 60, 1)"
      ]
     },
     "execution_count": 5,
     "metadata": {},
     "output_type": "execute_result"
    }
   ],
   "source": [
    "X_train.shape"
   ]
  },
  {
   "cell_type": "code",
   "execution_count": 6,
   "metadata": {},
   "outputs": [
    {
     "data": {
      "text/plain": [
       "<keras.callbacks.History at 0x21f63d99cc0>"
      ]
     },
     "execution_count": 6,
     "metadata": {},
     "output_type": "execute_result"
    }
   ],
   "source": [
    "# Step 2: Build and train the LSTM model\n",
    "model = Sequential()\n",
    "model.add(LSTM(units=50, return_sequences=True, input_shape=(n_steps, X_train.shape[2])))\n",
    "model.add(LSTM(units=50))\n",
    "model.add(Dense(units=1))\n",
    "model.compile(optimizer='adam', loss='mean_squared_error')\n",
    "model.fit(X_train, y_train, epochs=50, batch_size=32, verbose=0)"
   ]
  },
  {
   "cell_type": "code",
   "execution_count": 13,
   "metadata": {},
   "outputs": [
    {
     "name": "stdout",
     "output_type": "stream",
     "text": [
      "1/1 [==============================] - 0s 26ms/step\n",
      "1/1 [==============================] - 0s 23ms/step\n",
      "1/1 [==============================] - 0s 22ms/step\n",
      "1/1 [==============================] - 0s 25ms/step\n",
      "1/1 [==============================] - 0s 22ms/step\n",
      "1/1 [==============================] - 0s 22ms/step\n",
      "1/1 [==============================] - 0s 25ms/step\n",
      "1/1 [==============================] - 0s 21ms/step\n",
      "1/1 [==============================] - 0s 23ms/step\n",
      "1/1 [==============================] - 0s 19ms/step\n",
      "1/1 [==============================] - 0s 19ms/step\n",
      "1/1 [==============================] - 0s 21ms/step\n",
      "1/1 [==============================] - 0s 19ms/step\n",
      "1/1 [==============================] - 0s 18ms/step\n",
      "1/1 [==============================] - 0s 18ms/step\n",
      "1/1 [==============================] - 0s 17ms/step\n",
      "1/1 [==============================] - 0s 18ms/step\n",
      "1/1 [==============================] - 0s 19ms/step\n",
      "1/1 [==============================] - 0s 22ms/step\n",
      "1/1 [==============================] - 0s 23ms/step\n",
      "1/1 [==============================] - 0s 25ms/step\n",
      "1/1 [==============================] - 0s 27ms/step\n",
      "1/1 [==============================] - 0s 20ms/step\n",
      "1/1 [==============================] - 0s 19ms/step\n",
      "1/1 [==============================] - 0s 18ms/step\n",
      "See Plot for Future Predictions\n"
     ]
    },
    {
     "data": {
      "image/png": "[encoded data removed]",
      "text/plain": [
       "<Figure size 640x480 with 1 Axes>"
      ]
     },
     "metadata": {},
     "output_type": "display_data"
    }
   ],
   "source": [
    "# Step 3: Make predictions for future time steps\n",
    "SHEET_ID_TEST = '1t0htaF2pVQUwb-bVaIafHe5-mtEFrmdqJHrtn9XtHWI'\n",
    "actual = pd.read_csv(f'https://docs.google.com/spreadsheets/d/{SHEET_ID_TEST}/gviz/tq?tqx=out:csv&sheet={SHEET_NAME[0]}')\n",
    "\n",
    "future_steps = 25  # Number of time steps to forecast into the future\n",
    "last_sequence = X_test[-1]  # Get the last sequence from the testing data\n",
    "\n",
    "predictions = []\n",
    "for _ in range(future_steps):\n",
    "    prediction = model.predict(np.array([last_sequence]))  # Predict the next time step\n",
    "    predictions.append(prediction)\n",
    "    last_sequence = np.concatenate((last_sequence[1:], prediction), axis=0)\n",
    "\n",
    "predictions = np.array(predictions)\n",
    "predictions = scaler.inverse_transform(predictions.reshape(-1, 1))\n",
    "last_sequence = scaler.inverse_transform(last_sequence)\n",
    "\n",
    "predictions = pd.DataFrame(predictions)\n",
    "last_sequence = pd.DataFrame(last_sequence)\n",
    "predictions.index += len(last_sequence)\n",
    "actual.index += len(last_sequence)\n",
    "\n",
    "print(\"See Plot for Future Predictions\")\n",
    "plt.plot(last_sequence[0])\n",
    "plt.plot(predictions[0])\n",
    "plt.plot(actual['Close'][:future_steps])\n",
    "plt.title(\"Predicted Future of \"+ str(future_steps) + \" days\")\n",
    "plt.show()"
   ]
  },
  {
   "cell_type": "code",
   "execution_count": 8,
   "metadata": {},
   "outputs": [],
   "source": [
    "# curr_frame = X_test[len(X_test)-1]\n",
    "# future = []\n",
    "# for i in range(future_steps):\n",
    "#     # append the prediction to our empty future list\n",
    "#     future.append(model.predict(curr_frame[np.newaxis,:,:])[0,0])\n",
    "#     # insert our predicted point to our current frame\n",
    "#     curr_frame = np.insert(curr_frame, len(X_test[0]), future[-1], axis=0)\n",
    "#     # push the frame up one to make it progress into the future\n",
    "#     curr_frame = curr_frame[1:]\n",
    "    \n",
    "# # print(future)\n",
    "# # print(X_test[-1])\n",
    "# # print(curr_frame)\n",
    "\n",
    "# # Reverse the original frame and the future frame\n",
    "# reverse_curr_frame = pd.DataFrame({'numeric_colname': scaler.inverse_transform(X_test[len(X_test)-1].reshape(-1, 1)), \"historical_flag\":1})\n",
    "# reverse_future = pd.DataFrame({'numeric_colname': scaler.inverse_transform(future), \"historical_flag\":0})\n",
    "# # reverse_curr_frame = pd.DataFrame({'numeric_colname': [scaler.inverse_transform(x) for x in X_test[len(X_test)-1]], \"historical_flag\":1})\n",
    "# # reverse_future = pd.DataFrame({'numeric_colname': [scaler.inverse_transform(x) for x in future], \"historical_flag\":0})\n",
    "\n",
    "# # Change the indicies to show prediction next to the actuals in orange\n",
    "# reverse_future.index += len(reverse_curr_frame)\n",
    "\n",
    "# print(\"See Plot for Future Predictions\")\n",
    "# plt.plot(reverse_curr_frame['numeric_colname'])\n",
    "# plt.plot(reverse_future['numeric_colname'])\n",
    "# plt.title(\"Predicted Future of \"+ str(future_steps) + \" days\")\n",
    "# plt.show()"
   ]
  },
  {
   "cell_type": "code",
   "execution_count": 9,
   "metadata": {},
   "outputs": [],
   "source": [
    "# # Step 4: Generate a forecasting chart\n",
    "# plt.plot(data.index[-len(y_test):], scaler.inverse_transform(y_test), label='Actual')\n",
    "# plt.plot(data.index[-len(predictions):], predictions, label='Forecast')\n",
    "# plt.xlabel('Date')\n",
    "# plt.ylabel('Forex Price')\n",
    "# plt.title('Forex Price Forecast')\n",
    "# plt.legend()\n",
    "# plt.show()"
   ]
  }
 ],
 "metadata": {
  "kernelspec": {
   "display_name": "tf",
   "language": "python",
   "name": "python3"
  },
  "language_info": {
   "codemirror_mode": {
    "name": "ipython",
    "version": 3
   },
   "file_extension": ".py",
   "mimetype": "text/x-python",
   "name": "python",
   "nbconvert_exporter": "python",
   "pygments_lexer": "ipython3",
   "version": "3.10.5"
  },
  "orig_nbformat": 4
 },
 "nbformat": 4,
 "nbformat_minor": 2
}
