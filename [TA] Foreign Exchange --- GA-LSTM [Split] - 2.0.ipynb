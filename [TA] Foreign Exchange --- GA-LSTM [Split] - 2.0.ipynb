{
 "cells": [
  {
   "cell_type": "code",
   "execution_count": 1,
   "id": "ebf40b80",
   "metadata": {
    "execution": {
     "iopub.execute_input": "2024-02-06T01:52:49.593538Z",
     "iopub.status.busy": "2024-02-06T01:52:49.593196Z",
     "iopub.status.idle": "2024-02-06T01:52:58.629777Z",
     "shell.execute_reply": "2024-02-06T01:52:58.628652Z"
    },
    "papermill": {
     "duration": 9.047588,
     "end_time": "2024-02-06T01:52:58.632144",
     "exception": false,
     "start_time": "2024-02-06T01:52:49.584556",
     "status": "completed"
    },
    "tags": []
   },
   "outputs": [
    {
     "name": "stderr",
     "output_type": "stream",
     "text": [
      "/opt/conda/lib/python3.10/site-packages/tensorflow_io/python/ops/__init__.py:98: UserWarning: unable to load libtensorflow_io_plugins.so: unable to open file: libtensorflow_io_plugins.so, from paths: ['/opt/conda/lib/python3.10/site-packages/tensorflow_io/python/ops/libtensorflow_io_plugins.so']\n",
      "caused by: ['/opt/conda/lib/python3.10/site-packages/tensorflow_io/python/ops/libtensorflow_io_plugins.so: undefined symbol: _ZN3tsl6StatusC1EN10tensorflow5error4CodeESt17basic_string_viewIcSt11char_traitsIcEENS_14SourceLocationE']\n",
      "  warnings.warn(f\"unable to load libtensorflow_io_plugins.so: {e}\")\n",
      "/opt/conda/lib/python3.10/site-packages/tensorflow_io/python/ops/__init__.py:104: UserWarning: file system plugins are not loaded: unable to open file: libtensorflow_io.so, from paths: ['/opt/conda/lib/python3.10/site-packages/tensorflow_io/python/ops/libtensorflow_io.so']\n",
      "caused by: ['/opt/conda/lib/python3.10/site-packages/tensorflow_io/python/ops/libtensorflow_io.so: undefined symbol: _ZTVN10tensorflow13GcsFileSystemE']\n",
      "  warnings.warn(f\"file system plugins are not loaded: {e}\")\n"
     ]
    }
   ],
   "source": [
    "import pandas as pd\n",
    "import numpy as np\n",
    "import tensorflow as tf\n",
    "import matplotlib.pyplot as plt\n",
    "import datetime, pytz\n",
    "\n",
    "from keras.models import Sequential\n",
    "from keras.layers import LSTM, Dense\n",
    "from keras.metrics import RootMeanSquaredError\n",
    "\n",
    "from sklearn.preprocessing import MinMaxScaler\n",
    "from sklearn.metrics import mean_squared_error, mean_absolute_error"
   ]
  },
  {
   "cell_type": "markdown",
   "id": "23f0d44c",
   "metadata": {
    "papermill": {
     "duration": 0.006436,
     "end_time": "2024-02-06T01:52:58.645623",
     "exception": false,
     "start_time": "2024-02-06T01:52:58.639187",
     "status": "completed"
    },
    "tags": []
   },
   "source": [
    "## Hyperparameter"
   ]
  },
  {
   "cell_type": "code",
   "execution_count": 2,
   "id": "b69f0023",
   "metadata": {
    "execution": {
     "iopub.execute_input": "2024-02-06T01:52:58.661080Z",
     "iopub.status.busy": "2024-02-06T01:52:58.660022Z",
     "iopub.status.idle": "2024-02-06T01:52:58.665113Z",
     "shell.execute_reply": "2024-02-06T01:52:58.664204Z"
    },
    "papermill": {
     "duration": 0.014699,
     "end_time": "2024-02-06T01:52:58.666996",
     "exception": false,
     "start_time": "2024-02-06T01:52:58.652297",
     "status": "completed"
    },
    "tags": []
   },
   "outputs": [],
   "source": [
    "# Google Spreadsheet ID\n",
    "SHEET_ID = '1JDNv_mArl-GPIpxuWS5GxgVEwvjXocS1MrXGc6TYs8M'\n",
    "SHEET_NAME = 'EUR/IDR' # USD/IDR, EUR/IDR, SGD/IDR\n",
    "\n",
    "SEQ_LEN = 21 # 6, 11, 21\n",
    "SPLIT = 0.90 # 0.80, 0.90\n",
    "LSTM_Layer = 1 # 1, 2, 3\n",
    "WINDOW_SIZE = SEQ_LEN - 1"
   ]
  },
  {
   "cell_type": "code",
   "execution_count": 3,
   "id": "779b698d",
   "metadata": {
    "execution": {
     "iopub.execute_input": "2024-02-06T01:52:58.682693Z",
     "iopub.status.busy": "2024-02-06T01:52:58.682124Z",
     "iopub.status.idle": "2024-02-06T01:53:01.299693Z",
     "shell.execute_reply": "2024-02-06T01:53:01.298777Z"
    },
    "papermill": {
     "duration": 2.628633,
     "end_time": "2024-02-06T01:53:01.302140",
     "exception": false,
     "start_time": "2024-02-06T01:52:58.673507",
     "status": "completed"
    },
    "tags": []
   },
   "outputs": [
    {
     "name": "stdout",
     "output_type": "stream",
     "text": [
      "<class 'pandas.core.frame.DataFrame'>\n",
      "RangeIndex: 1977 entries, 0 to 1976\n",
      "Data columns (total 2 columns):\n",
      " #   Column  Non-Null Count  Dtype         \n",
      "---  ------  --------------  -----         \n",
      " 0   Date    1977 non-null   datetime64[ns]\n",
      " 1   Close   1977 non-null   float64       \n",
      "dtypes: datetime64[ns](1), float64(1)\n",
      "memory usage: 31.0 KB\n"
     ]
    }
   ],
   "source": [
    "url = f'https://docs.google.com/spreadsheets/d/{SHEET_ID}/gviz/tq?tqx=out:csv&sheet={SHEET_NAME}'\n",
    "data = pd.read_csv(url)\n",
    "\n",
    "# Convert Date columns to datetime format\n",
    "data['Date'] = pd.to_datetime(data['Date'], format='%d/%m/%Y %H:%M:%S')\n",
    "data.info()"
   ]
  },
  {
   "cell_type": "markdown",
   "id": "7aae0d67",
   "metadata": {
    "papermill": {
     "duration": 0.006788,
     "end_time": "2024-02-06T01:53:01.315911",
     "exception": false,
     "start_time": "2024-02-06T01:53:01.309123",
     "status": "completed"
    },
    "tags": []
   },
   "source": [
    "## Preprocessing"
   ]
  },
  {
   "cell_type": "code",
   "execution_count": 4,
   "id": "61c8cd63",
   "metadata": {
    "execution": {
     "iopub.execute_input": "2024-02-06T01:53:01.331255Z",
     "iopub.status.busy": "2024-02-06T01:53:01.330436Z",
     "iopub.status.idle": "2024-02-06T01:53:01.341397Z",
     "shell.execute_reply": "2024-02-06T01:53:01.340453Z"
    },
    "papermill": {
     "duration": 0.021124,
     "end_time": "2024-02-06T01:53:01.343639",
     "exception": false,
     "start_time": "2024-02-06T01:53:01.322515",
     "status": "completed"
    },
    "tags": []
   },
   "outputs": [
    {
     "name": "stderr",
     "output_type": "stream",
     "text": [
      "/tmp/ipykernel_26/2274720815.py:7: SettingWithCopyWarning: \n",
      "A value is trying to be set on a copy of a slice from a DataFrame\n",
      "\n",
      "See the caveats in the documentation: https://pandas.pydata.org/pandas-docs/stable/user_guide/indexing.html#returning-a-view-versus-a-copy\n",
      "  data[data < lower_bound] = lower_bound\n",
      "/tmp/ipykernel_26/2274720815.py:8: SettingWithCopyWarning: \n",
      "A value is trying to be set on a copy of a slice from a DataFrame\n",
      "\n",
      "See the caveats in the documentation: https://pandas.pydata.org/pandas-docs/stable/user_guide/indexing.html#returning-a-view-versus-a-copy\n",
      "  data[data > upper_bound] = upper_bound\n"
     ]
    }
   ],
   "source": [
    "def replace_outliers(data):\n",
    "    Q1 = np.percentile(data, 25)\n",
    "    Q3 = np.percentile(data, 75)\n",
    "    IQR = Q3 - Q1\n",
    "    lower_bound = Q1 - 1.5 * IQR\n",
    "    upper_bound = Q3 + 1.5 * IQR\n",
    "    data[data < lower_bound] = lower_bound\n",
    "    data[data > upper_bound] = upper_bound\n",
    "    return data\n",
    "\n",
    "data['Close'] = replace_outliers(data['Close'])"
   ]
  },
  {
   "cell_type": "code",
   "execution_count": 5,
   "id": "257abcfc",
   "metadata": {
    "execution": {
     "iopub.execute_input": "2024-02-06T01:53:01.359506Z",
     "iopub.status.busy": "2024-02-06T01:53:01.358768Z",
     "iopub.status.idle": "2024-02-06T01:53:01.627321Z",
     "shell.execute_reply": "2024-02-06T01:53:01.626403Z"
    },
    "papermill": {
     "duration": 0.278417,
     "end_time": "2024-02-06T01:53:01.629360",
     "exception": false,
     "start_time": "2024-02-06T01:53:01.350943",
     "status": "completed"
    },
    "tags": []
   },
   "outputs": [
    {
     "data": {
      "image/png": "[encoded data removed]",
      "text/plain": [
       "<Figure size 640x480 with 1 Axes>"
      ]
     },
     "metadata": {},
     "output_type": "display_data"
    }
   ],
   "source": [
    "# Boxplot for outlier detection\n",
    "plt.boxplot(data['Close'])\n",
    "plt.title(f\"{SHEET_NAME} Boxplot for Outlier Detection\")\n",
    "plt.xlabel(\"Close\")\n",
    "plt.ylabel(\"Values\")\n",
    "plt.show()"
   ]
  },
  {
   "cell_type": "code",
   "execution_count": 6,
   "id": "eefb8d37",
   "metadata": {
    "execution": {
     "iopub.execute_input": "2024-02-06T01:53:01.645814Z",
     "iopub.status.busy": "2024-02-06T01:53:01.645445Z",
     "iopub.status.idle": "2024-02-06T01:53:01.653675Z",
     "shell.execute_reply": "2024-02-06T01:53:01.652841Z"
    },
    "papermill": {
     "duration": 0.018621,
     "end_time": "2024-02-06T01:53:01.655550",
     "exception": false,
     "start_time": "2024-02-06T01:53:01.636929",
     "status": "completed"
    },
    "tags": []
   },
   "outputs": [
    {
     "data": {
      "text/plain": [
       "(1977, 1)"
      ]
     },
     "execution_count": 6,
     "metadata": {},
     "output_type": "execute_result"
    }
   ],
   "source": [
    "scaler = MinMaxScaler()\n",
    "close_price = data.Close.values.reshape(-1, 1)\n",
    "scaled_close = scaler.fit_transform(close_price)\n",
    "scaled_close.shape"
   ]
  },
  {
   "cell_type": "code",
   "execution_count": 7,
   "id": "a1b82f5f",
   "metadata": {
    "execution": {
     "iopub.execute_input": "2024-02-06T01:53:01.672389Z",
     "iopub.status.busy": "2024-02-06T01:53:01.672043Z",
     "iopub.status.idle": "2024-02-06T01:53:01.682034Z",
     "shell.execute_reply": "2024-02-06T01:53:01.681310Z"
    },
    "papermill": {
     "duration": 0.020688,
     "end_time": "2024-02-06T01:53:01.683890",
     "exception": false,
     "start_time": "2024-02-06T01:53:01.663202",
     "status": "completed"
    },
    "tags": []
   },
   "outputs": [],
   "source": [
    "def to_sequences(data, seq_len):\n",
    "    d = []\n",
    "    for index in range(len(data) - seq_len):\n",
    "        d.append(data[index: index + seq_len])\n",
    "    return np.array(d)\n",
    "\n",
    "def preprocess(data_raw, seq_len, train_split):\n",
    "    data = to_sequences(data_raw, seq_len)\n",
    "    num_train = int(train_split * data.shape[0])\n",
    "    X_train = data[:num_train, :-1, :]\n",
    "    y_train = data[:num_train, -1, :]\n",
    "    X_test = data[num_train:, :-1, :]\n",
    "    y_test = data[num_train:, -1, :]\n",
    "    return X_train, y_train, X_test, y_test\n",
    "\n",
    "X_train, y_train, X_test, y_test = preprocess(scaled_close, SEQ_LEN, train_split = SPLIT)"
   ]
  },
  {
   "cell_type": "markdown",
   "id": "faafabad",
   "metadata": {
    "papermill": {
     "duration": 0.007246,
     "end_time": "2024-02-06T01:53:01.700567",
     "exception": false,
     "start_time": "2024-02-06T01:53:01.693321",
     "status": "completed"
    },
    "tags": []
   },
   "source": [
    "## Genetic Algorithm"
   ]
  },
  {
   "cell_type": "code",
   "execution_count": 8,
   "id": "8101d681",
   "metadata": {
    "execution": {
     "iopub.execute_input": "2024-02-06T01:53:01.717338Z",
     "iopub.status.busy": "2024-02-06T01:53:01.716978Z",
     "iopub.status.idle": "2024-02-06T01:53:01.722841Z",
     "shell.execute_reply": "2024-02-06T01:53:01.722031Z"
    },
    "papermill": {
     "duration": 0.016487,
     "end_time": "2024-02-06T01:53:01.724779",
     "exception": false,
     "start_time": "2024-02-06T01:53:01.708292",
     "status": "completed"
    },
    "tags": []
   },
   "outputs": [],
   "source": [
    "def decimal_to_binary(chromosome: list):\n",
    "    binary_string = ''.join([bin(x)[2:].zfill(8) for x in chromosome])\n",
    "    return binary_string\n",
    "\n",
    "def binary_to_decimal(binary_string: str):\n",
    "    decimal_array = [int(binary, 2) for binary in [binary_string[i:i+8] for i in range(0, len(binary_string), 8)]]\n",
    "    return decimal_array"
   ]
  },
  {
   "cell_type": "code",
   "execution_count": 9,
   "id": "3eb33489",
   "metadata": {
    "execution": {
     "iopub.execute_input": "2024-02-06T01:53:01.741832Z",
     "iopub.status.busy": "2024-02-06T01:53:01.741433Z",
     "iopub.status.idle": "2024-02-06T01:53:01.760651Z",
     "shell.execute_reply": "2024-02-06T01:53:01.759750Z"
    },
    "papermill": {
     "duration": 0.030438,
     "end_time": "2024-02-06T01:53:01.762686",
     "exception": false,
     "start_time": "2024-02-06T01:53:01.732248",
     "status": "completed"
    },
    "tags": []
   },
   "outputs": [],
   "source": [
    "# Genetic Algorithm\n",
    "def genetic_algorithm(generations, mutation_rate):\n",
    "    print(f\"Inizialized Population...\")\n",
    "    population = np.random.randint(1, high=251, size=(10, 3))\n",
    "    fitness_scores = np.array([fitness_function(chromosome) for chromosome in population])\n",
    "    max_fitness_each_gen = []\n",
    "    \n",
    "    for generation in range(generations):\n",
    "        print(f\"Generation - {generation + 1}\")\n",
    "        max_fitness_each_gen.append(np.max(fitness_scores))\n",
    "        \n",
    "        chromosome_1 = selection(population, fitness_scores)\n",
    "        chromosome_2 = selection(population, fitness_scores)\n",
    "        \n",
    "        if generation % mutation_rate == 0:\n",
    "            chromosome_1 = mutate(chromosome_1)\n",
    "            chromosome_2 = mutate(chromosome_2)\n",
    "        else:\n",
    "            chromosome_1, chromosome_2 = crossover(chromosome_1, chromosome_2)\n",
    "\n",
    "        fitness_score_1 = fitness_function(chromosome_1)\n",
    "        fitness_score_2 = fitness_function(chromosome_2)\n",
    "        \n",
    "        worst_index = np.argmin(fitness_scores)\n",
    "        worst_fitness = fitness_scores[worst_index]\n",
    "\n",
    "        if fitness_score_1 > worst_fitness:\n",
    "            population[worst_index] = chromosome_1\n",
    "            fitness_scores[worst_index] = fitness_score_1\n",
    "            worst_index = np.argmin(fitness_scores)\n",
    "            worst_fitness = fitness_scores[worst_index]\n",
    "\n",
    "        if fitness_score_2 > worst_fitness:\n",
    "            population[worst_index] = chromosome_2\n",
    "            fitness_scores[worst_index] = fitness_score_2\n",
    "        \n",
    "        # Release some memory\n",
    "        del chromosome_1, chromosome_2\n",
    "        del fitness_score_1, fitness_score_2\n",
    "        del worst_index, worst_fitness\n",
    "            \n",
    "    best_chromosome = population[np.argmax(fitness_scores)]\n",
    "    best_fitness = np.max(fitness_scores)\n",
    "    \n",
    "    return best_chromosome, best_fitness, max_fitness_each_gen\n",
    "\n",
    "# Selection (Tournament selection)\n",
    "def selection(population, fitness_scores, tournament_size=3):\n",
    "    indices = np.random.randint(len(population), size=tournament_size)\n",
    "    tournament = population[indices]\n",
    "    tournament_fitness = fitness_scores[indices]\n",
    "    return tournament[np.argmax(tournament_fitness)]\n",
    "\n",
    "# Crossover (Single-point crossover)\n",
    "def crossover(parent_1: list, parent_2: list):\n",
    "    parent_1 = decimal_to_binary(parent_1)\n",
    "    parent_2 = decimal_to_binary(parent_2)\n",
    "    \n",
    "    crossover_point = np.random.randint(1, len(parent_1))\n",
    "    offspring_1 = parent_1[:crossover_point] + parent_2[crossover_point:]\n",
    "    offspring_2 = parent_2[:crossover_point] + parent_1[crossover_point:]\n",
    "    \n",
    "    offspring_1 = binary_to_decimal(offspring_1)\n",
    "    offspring_2 = binary_to_decimal(offspring_2)\n",
    "    return offspring_1, offspring_2\n",
    "\n",
    "# Mutation (Swap Mutation)\n",
    "def mutate(chromosome: list):\n",
    "    chromosome = decimal_to_binary(chromosome)\n",
    "    \n",
    "    chromosome_list = list(chromosome)\n",
    "    i = np.random.randint(len(chromosome_list), size=2)\n",
    "    chromosome_list[i[0]], chromosome_list[i[1]] = chromosome_list[i[1]], chromosome_list[i[0]]\n",
    "    \n",
    "    chromosome_list = ''.join(chromosome_list)\n",
    "    chromosome = binary_to_decimal(chromosome_list)\n",
    "    return chromosome\n",
    "\n",
    "# Fitness Function\n",
    "def fitness_function(chromosome: list):\n",
    "    lstm_units = [int(chromosome[i]) or default for i, default in enumerate([128, 64, 32])]\n",
    "\n",
    "    # Build the LSTM model\n",
    "    tf.keras.backend.clear_session()\n",
    "    model = Sequential()\n",
    "    for i, units in enumerate(lstm_units[:LSTM_Layer]):\n",
    "        model.add(LSTM(units, return_sequences=(i < LSTM_Layer - 1), input_shape=(WINDOW_SIZE, 1)))\n",
    "    model.add(Dense(1))\n",
    "    \n",
    "    # Compile and train the model\n",
    "    model.compile(loss='mean_squared_error',\n",
    "                  optimizer='adam')\n",
    "    model.fit(X_train, y_train,\n",
    "              epochs=10,\n",
    "              batch_size=32,\n",
    "              verbose=0,\n",
    "              validation_split=0.1)\n",
    "\n",
    "    # Evaluate the model\n",
    "    loss = model.evaluate(X_test, y_test)\n",
    "\n",
    "    # Return the negative value of the loss as the fitness score\n",
    "    return -loss"
   ]
  },
  {
   "cell_type": "code",
   "execution_count": 10,
   "id": "8b407bc1",
   "metadata": {
    "execution": {
     "iopub.execute_input": "2024-02-06T01:53:01.779348Z",
     "iopub.status.busy": "2024-02-06T01:53:01.779011Z",
     "iopub.status.idle": "2024-02-06T01:53:01.785035Z",
     "shell.execute_reply": "2024-02-06T01:53:01.784154Z"
    },
    "papermill": {
     "duration": 0.016735,
     "end_time": "2024-02-06T01:53:01.787251",
     "exception": false,
     "start_time": "2024-02-06T01:53:01.770516",
     "status": "completed"
    },
    "tags": []
   },
   "outputs": [],
   "source": [
    "import typing\n",
    "from datetime import datetime\n",
    "\n",
    "def timer(start_time: datetime = None) -> \"typing.Union[datetime.datetime, str]\":\n",
    "    if not start_time:\n",
    "        start_time = datetime.now()\n",
    "        return start_time\n",
    "    elif start_time:\n",
    "        thour, temp_sec = divmod((datetime.now() - start_time).total_seconds(), 3600)\n",
    "        tmin, tsec = divmod(temp_sec, 60)\n",
    "        return \"%i hours %i minutes and %s seconds.\" % (\n",
    "            thour,\n",
    "            tmin,\n",
    "            round(tsec, 2),\n",
    "        )"
   ]
  },
  {
   "cell_type": "code",
   "execution_count": 11,
   "id": "64a825db",
   "metadata": {
    "execution": {
     "iopub.execute_input": "2024-02-06T01:53:01.803936Z",
     "iopub.status.busy": "2024-02-06T01:53:01.803359Z",
     "iopub.status.idle": "2024-02-06T02:02:39.052242Z",
     "shell.execute_reply": "2024-02-06T02:02:39.051398Z"
    },
    "papermill": {
     "duration": 577.259762,
     "end_time": "2024-02-06T02:02:39.054443",
     "exception": false,
     "start_time": "2024-02-06T01:53:01.794681",
     "status": "completed"
    },
    "tags": []
   },
   "outputs": [
    {
     "name": "stdout",
     "output_type": "stream",
     "text": [
      "Inizialized Population...\n",
      "7/7 [==============================] - 0s 3ms/step - loss: 7.5400e-04\n",
      "7/7 [==============================] - 0s 3ms/step - loss: 8.8914e-04\n",
      "7/7 [==============================] - 0s 3ms/step - loss: 8.4225e-04\n",
      "7/7 [==============================] - 0s 3ms/step - loss: 8.1217e-04\n",
      "7/7 [==============================] - 0s 3ms/step - loss: 9.4756e-04\n",
      "7/7 [==============================] - 0s 3ms/step - loss: 8.1265e-04\n",
      "7/7 [==============================] - 0s 3ms/step - loss: 8.0000e-04\n",
      "7/7 [==============================] - 0s 3ms/step - loss: 7.3979e-04\n",
      "7/7 [==============================] - 0s 3ms/step - loss: 8.6950e-04\n",
      "7/7 [==============================] - 0s 3ms/step - loss: 7.9461e-04\n",
      "Generation - 1\n",
      "7/7 [==============================] - 0s 3ms/step - loss: 8.2227e-04\n",
      "7/7 [==============================] - 0s 3ms/step - loss: 7.8011e-04\n",
      "Generation - 2\n",
      "7/7 [==============================] - 0s 3ms/step - loss: 8.3025e-04\n",
      "7/7 [==============================] - 0s 3ms/step - loss: 8.1256e-04\n",
      "Generation - 3\n",
      "7/7 [==============================] - 0s 3ms/step - loss: 9.5174e-04\n",
      "7/7 [==============================] - 0s 3ms/step - loss: 7.7713e-04\n",
      "Generation - 4\n",
      "7/7 [==============================] - 0s 3ms/step - loss: 7.4737e-04\n",
      "7/7 [==============================] - 0s 3ms/step - loss: 8.0706e-04\n",
      "Generation - 5\n",
      "7/7 [==============================] - 0s 3ms/step - loss: 7.5229e-04\n",
      "7/7 [==============================] - 0s 3ms/step - loss: 9.0539e-04\n",
      "Generation - 6\n",
      "7/7 [==============================] - 0s 3ms/step - loss: 8.2147e-04\n",
      "7/7 [==============================] - 0s 3ms/step - loss: 8.1794e-04\n",
      "Generation - 7\n",
      "7/7 [==============================] - 0s 3ms/step - loss: 7.6880e-04\n",
      "7/7 [==============================] - 0s 3ms/step - loss: 7.6203e-04\n",
      "Generation - 8\n",
      "7/7 [==============================] - 0s 3ms/step - loss: 8.1004e-04\n",
      "7/7 [==============================] - 0s 3ms/step - loss: 7.7138e-04\n",
      "Generation - 9\n",
      "7/7 [==============================] - 0s 3ms/step - loss: 7.7791e-04\n",
      "7/7 [==============================] - 0s 3ms/step - loss: 8.6028e-04\n",
      "Generation - 10\n",
      "7/7 [==============================] - 0s 3ms/step - loss: 9.2052e-04\n",
      "7/7 [==============================] - 0s 3ms/step - loss: 9.4127e-04\n",
      "Generation - 11\n",
      "7/7 [==============================] - 0s 3ms/step - loss: 7.7853e-04\n",
      "7/7 [==============================] - 0s 3ms/step - loss: 8.4219e-04\n",
      "Generation - 12\n",
      "7/7 [==============================] - 0s 3ms/step - loss: 8.1549e-04\n",
      "7/7 [==============================] - 0s 3ms/step - loss: 8.1847e-04\n",
      "Generation - 13\n",
      "7/7 [==============================] - 0s 3ms/step - loss: 8.2663e-04\n",
      "7/7 [==============================] - 0s 3ms/step - loss: 8.5908e-04\n",
      "Generation - 14\n",
      "7/7 [==============================] - 0s 3ms/step - loss: 8.0588e-04\n",
      "7/7 [==============================] - 0s 3ms/step - loss: 8.0661e-04\n",
      "Generation - 15\n",
      "7/7 [==============================] - 0s 3ms/step - loss: 7.9619e-04\n",
      "7/7 [==============================] - 0s 3ms/step - loss: 8.7578e-04\n",
      "Generation - 16\n",
      "7/7 [==============================] - 0s 3ms/step - loss: 7.8832e-04\n",
      "7/7 [==============================] - 0s 3ms/step - loss: 8.3239e-04\n",
      "Generation - 17\n",
      "7/7 [==============================] - 0s 3ms/step - loss: 9.6235e-04\n",
      "7/7 [==============================] - 0s 3ms/step - loss: 8.2390e-04\n",
      "Generation - 18\n",
      "7/7 [==============================] - 0s 3ms/step - loss: 7.5181e-04\n",
      "7/7 [==============================] - 0s 3ms/step - loss: 8.5359e-04\n",
      "Generation - 19\n",
      "7/7 [==============================] - 0s 3ms/step - loss: 7.6043e-04\n",
      "7/7 [==============================] - 0s 3ms/step - loss: 9.5079e-04\n",
      "Generation - 20\n",
      "7/7 [==============================] - 0s 3ms/step - loss: 8.2063e-04\n",
      "7/7 [==============================] - 0s 3ms/step - loss: 7.6694e-04\n",
      "Generation - 21\n",
      "7/7 [==============================] - 0s 3ms/step - loss: 7.8940e-04\n",
      "7/7 [==============================] - 0s 3ms/step - loss: 8.3464e-04\n",
      "Generation - 22\n",
      "7/7 [==============================] - 0s 4ms/step - loss: 7.9668e-04\n",
      "7/7 [==============================] - 0s 5ms/step - loss: 8.3764e-04\n",
      "Generation - 23\n",
      "7/7 [==============================] - 0s 3ms/step - loss: 8.8964e-04\n",
      "7/7 [==============================] - 0s 3ms/step - loss: 8.6130e-04\n",
      "Generation - 24\n",
      "7/7 [==============================] - 0s 3ms/step - loss: 7.8881e-04\n",
      "7/7 [==============================] - 0s 3ms/step - loss: 8.8970e-04\n",
      "Generation - 25\n",
      "7/7 [==============================] - 0s 3ms/step - loss: 7.9745e-04\n",
      "7/7 [==============================] - 0s 3ms/step - loss: 9.1656e-04\n",
      "Generation - 26\n",
      "7/7 [==============================] - 0s 3ms/step - loss: 8.0511e-04\n",
      "7/7 [==============================] - 0s 3ms/step - loss: 8.2482e-04\n",
      "Generation - 27\n",
      "7/7 [==============================] - 0s 3ms/step - loss: 9.2954e-04\n",
      "7/7 [==============================] - 0s 3ms/step - loss: 7.8836e-04\n",
      "Generation - 28\n",
      "7/7 [==============================] - 0s 3ms/step - loss: 7.7222e-04\n",
      "7/7 [==============================] - 0s 3ms/step - loss: 7.9928e-04\n",
      "Generation - 29\n",
      "7/7 [==============================] - 0s 3ms/step - loss: 8.1304e-04\n",
      "7/7 [==============================] - 0s 3ms/step - loss: 8.9519e-04\n",
      "Generation - 30\n",
      "7/7 [==============================] - 0s 3ms/step - loss: 8.2733e-04\n",
      "7/7 [==============================] - 0s 3ms/step - loss: 8.2335e-04\n",
      "Generation - 31\n",
      "7/7 [==============================] - 0s 3ms/step - loss: 8.3226e-04\n",
      "7/7 [==============================] - 0s 3ms/step - loss: 7.4214e-04\n",
      "Generation - 32\n",
      "7/7 [==============================] - 0s 3ms/step - loss: 8.0581e-04\n",
      "7/7 [==============================] - 0s 3ms/step - loss: 7.7714e-04\n",
      "Generation - 33\n",
      "7/7 [==============================] - 0s 3ms/step - loss: 8.4879e-04\n",
      "7/7 [==============================] - 0s 3ms/step - loss: 8.1072e-04\n",
      "Generation - 34\n",
      "7/7 [==============================] - 0s 3ms/step - loss: 0.0011\n",
      "7/7 [==============================] - 0s 3ms/step - loss: 8.7205e-04\n",
      "Generation - 35\n",
      "7/7 [==============================] - 0s 3ms/step - loss: 7.6092e-04\n",
      "7/7 [==============================] - 0s 3ms/step - loss: 7.7729e-04\n",
      "Generation - 36\n",
      "7/7 [==============================] - 0s 3ms/step - loss: 7.9851e-04\n",
      "7/7 [==============================] - 0s 3ms/step - loss: 0.0010\n",
      "Generation - 37\n",
      "7/7 [==============================] - 0s 3ms/step - loss: 7.9239e-04\n",
      "7/7 [==============================] - 0s 3ms/step - loss: 7.5901e-04\n",
      "Generation - 38\n",
      "7/7 [==============================] - 0s 4ms/step - loss: 8.0009e-04\n",
      "7/7 [==============================] - 0s 3ms/step - loss: 8.2397e-04\n",
      "Generation - 39\n",
      "7/7 [==============================] - 0s 3ms/step - loss: 8.3123e-04\n",
      "7/7 [==============================] - 0s 3ms/step - loss: 8.1518e-04\n",
      "Generation - 40\n",
      "7/7 [==============================] - 0s 3ms/step - loss: 8.3173e-04\n",
      "7/7 [==============================] - 0s 3ms/step - loss: 8.3106e-04\n",
      "Generation - 41\n",
      "7/7 [==============================] - 0s 3ms/step - loss: 8.5786e-04\n",
      "7/7 [==============================] - 0s 3ms/step - loss: 8.0244e-04\n",
      "Generation - 42\n",
      "7/7 [==============================] - 0s 3ms/step - loss: 7.5551e-04\n",
      "7/7 [==============================] - 0s 3ms/step - loss: 7.9976e-04\n",
      "Generation - 43\n",
      "7/7 [==============================] - 0s 3ms/step - loss: 9.2790e-04\n",
      "7/7 [==============================] - 0s 3ms/step - loss: 8.5314e-04\n",
      "Generation - 44\n",
      "7/7 [==============================] - 0s 3ms/step - loss: 0.0011\n",
      "7/7 [==============================] - 0s 3ms/step - loss: 7.9948e-04\n",
      "Generation - 45\n",
      "7/7 [==============================] - 0s 3ms/step - loss: 7.6473e-04\n",
      "7/7 [==============================] - 0s 3ms/step - loss: 7.8381e-04\n",
      "Generation - 46\n",
      "7/7 [==============================] - 0s 3ms/step - loss: 8.0887e-04\n",
      "7/7 [==============================] - 0s 3ms/step - loss: 9.2787e-04\n",
      "Generation - 47\n",
      "7/7 [==============================] - 0s 3ms/step - loss: 9.7986e-04\n",
      "7/7 [==============================] - 0s 3ms/step - loss: 8.9347e-04\n",
      "Generation - 48\n",
      "7/7 [==============================] - 0s 3ms/step - loss: 8.3239e-04\n",
      "7/7 [==============================] - 0s 3ms/step - loss: 8.3523e-04\n",
      "Generation - 49\n",
      "7/7 [==============================] - 0s 3ms/step - loss: 8.6272e-04\n",
      "7/7 [==============================] - 0s 3ms/step - loss: 8.0181e-04\n",
      "Generation - 50\n",
      "7/7 [==============================] - 0s 3ms/step - loss: 7.6329e-04\n",
      "7/7 [==============================] - 0s 3ms/step - loss: 7.6609e-04\n"
     ]
    }
   ],
   "source": [
    "# Do not increase this value\n",
    "generations = 50\n",
    "mutation_rate = 5\n",
    "\n",
    "time = timer(None)\n",
    "best_chromosome, best_fitness, max_fitness_each_gen = genetic_algorithm(generations, mutation_rate)\n",
    "time = timer(time)"
   ]
  },
  {
   "cell_type": "code",
   "execution_count": 12,
   "id": "73e07414",
   "metadata": {
    "execution": {
     "iopub.execute_input": "2024-02-06T02:02:39.111111Z",
     "iopub.status.busy": "2024-02-06T02:02:39.110729Z",
     "iopub.status.idle": "2024-02-06T02:02:39.116623Z",
     "shell.execute_reply": "2024-02-06T02:02:39.115694Z"
    },
    "papermill": {
     "duration": 0.036581,
     "end_time": "2024-02-06T02:02:39.118586",
     "exception": false,
     "start_time": "2024-02-06T02:02:39.082005",
     "status": "completed"
    },
    "tags": []
   },
   "outputs": [
    {
     "name": "stdout",
     "output_type": "stream",
     "text": [
      "Best Chromosome: [144 190 245]\n",
      "Best Fitness: -0.000739794282708317\n",
      "Time Taken: 0 hours 9 minutes and 37.24 seconds.\n"
     ]
    }
   ],
   "source": [
    "print(\"Best Chromosome:\", best_chromosome)\n",
    "print(\"Best Fitness:\", best_fitness)\n",
    "print(\"Time Taken:\", time)"
   ]
  },
  {
   "cell_type": "code",
   "execution_count": 13,
   "id": "6284fe48",
   "metadata": {
    "execution": {
     "iopub.execute_input": "2024-02-06T02:02:39.175643Z",
     "iopub.status.busy": "2024-02-06T02:02:39.175276Z",
     "iopub.status.idle": "2024-02-06T02:02:39.182031Z",
     "shell.execute_reply": "2024-02-06T02:02:39.181118Z"
    },
    "papermill": {
     "duration": 0.037987,
     "end_time": "2024-02-06T02:02:39.184120",
     "exception": false,
     "start_time": "2024-02-06T02:02:39.146133",
     "status": "completed"
    },
    "tags": []
   },
   "outputs": [
    {
     "data": {
      "text/plain": [
       "[-0.000739794282708317,\n",
       " -0.000739794282708317,\n",
       " -0.000739794282708317,\n",
       " -0.000739794282708317,\n",
       " -0.000739794282708317,\n",
       " -0.000739794282708317,\n",
       " -0.000739794282708317,\n",
       " -0.000739794282708317,\n",
       " -0.000739794282708317,\n",
       " -0.000739794282708317,\n",
       " -0.000739794282708317,\n",
       " -0.000739794282708317,\n",
       " -0.000739794282708317,\n",
       " -0.000739794282708317,\n",
       " -0.000739794282708317,\n",
       " -0.000739794282708317,\n",
       " -0.000739794282708317,\n",
       " -0.000739794282708317,\n",
       " -0.000739794282708317,\n",
       " -0.000739794282708317,\n",
       " -0.000739794282708317,\n",
       " -0.000739794282708317,\n",
       " -0.000739794282708317,\n",
       " -0.000739794282708317,\n",
       " -0.000739794282708317,\n",
       " -0.000739794282708317,\n",
       " -0.000739794282708317,\n",
       " -0.000739794282708317,\n",
       " -0.000739794282708317,\n",
       " -0.000739794282708317,\n",
       " -0.000739794282708317,\n",
       " -0.000739794282708317,\n",
       " -0.000739794282708317,\n",
       " -0.000739794282708317,\n",
       " -0.000739794282708317,\n",
       " -0.000739794282708317,\n",
       " -0.000739794282708317,\n",
       " -0.000739794282708317,\n",
       " -0.000739794282708317,\n",
       " -0.000739794282708317,\n",
       " -0.000739794282708317,\n",
       " -0.000739794282708317,\n",
       " -0.000739794282708317,\n",
       " -0.000739794282708317,\n",
       " -0.000739794282708317,\n",
       " -0.000739794282708317,\n",
       " -0.000739794282708317,\n",
       " -0.000739794282708317,\n",
       " -0.000739794282708317,\n",
       " -0.000739794282708317]"
      ]
     },
     "execution_count": 13,
     "metadata": {},
     "output_type": "execute_result"
    }
   ],
   "source": [
    "max_fitness_each_gen"
   ]
  },
  {
   "cell_type": "markdown",
   "id": "a9186a43",
   "metadata": {
    "papermill": {
     "duration": 0.028203,
     "end_time": "2024-02-06T02:02:39.240679",
     "exception": false,
     "start_time": "2024-02-06T02:02:39.212476",
     "status": "completed"
    },
    "tags": []
   },
   "source": [
    "## Re-Training Model with Best Parameter"
   ]
  },
  {
   "cell_type": "code",
   "execution_count": 14,
   "id": "3074f9d0",
   "metadata": {
    "execution": {
     "iopub.execute_input": "2024-02-06T02:02:39.299541Z",
     "iopub.status.busy": "2024-02-06T02:02:39.299165Z",
     "iopub.status.idle": "2024-02-06T02:02:39.600160Z",
     "shell.execute_reply": "2024-02-06T02:02:39.599112Z"
    },
    "papermill": {
     "duration": 0.33334,
     "end_time": "2024-02-06T02:02:39.602234",
     "exception": false,
     "start_time": "2024-02-06T02:02:39.268894",
     "status": "completed"
    },
    "tags": []
   },
   "outputs": [
    {
     "name": "stdout",
     "output_type": "stream",
     "text": [
      "Model: \"sequential_1\"\n",
      "_________________________________________________________________\n",
      " Layer (type)                Output Shape              Param #   \n",
      "=================================================================\n",
      " lstm_1 (LSTM)               (None, 144)               84096     \n",
      "                                                                 \n",
      " dense_1 (Dense)             (None, 1)                 145       \n",
      "                                                                 \n",
      "=================================================================\n",
      "Total params: 84,241\n",
      "Trainable params: 84,241\n",
      "Non-trainable params: 0\n",
      "_________________________________________________________________\n"
     ]
    }
   ],
   "source": [
    "model = Sequential()\n",
    "for i, units in enumerate(best_chromosome[:LSTM_Layer]):\n",
    "    model.add(LSTM(units, return_sequences=(i < LSTM_Layer - 1), input_shape=(WINDOW_SIZE, 1)))\n",
    "model.add(Dense(1))\n",
    "\n",
    "model.summary()"
   ]
  },
  {
   "cell_type": "code",
   "execution_count": 15,
   "id": "8afb1004",
   "metadata": {
    "execution": {
     "iopub.execute_input": "2024-02-06T02:02:39.660937Z",
     "iopub.status.busy": "2024-02-06T02:02:39.660590Z",
     "iopub.status.idle": "2024-02-06T02:02:56.316379Z",
     "shell.execute_reply": "2024-02-06T02:02:56.315400Z"
    },
    "papermill": {
     "duration": 16.687611,
     "end_time": "2024-02-06T02:02:56.318575",
     "exception": false,
     "start_time": "2024-02-06T02:02:39.630964",
     "status": "completed"
    },
    "tags": []
   },
   "outputs": [
    {
     "name": "stdout",
     "output_type": "stream",
     "text": [
      "Epoch 1/50\n",
      "50/50 [==============================] - 3s 14ms/step - loss: 0.0221 - mae: 0.0920 - root_mean_squared_error: 0.1487 - val_loss: 0.0050 - val_mae: 0.0610 - val_root_mean_squared_error: 0.0710\n",
      "Epoch 2/50\n",
      "50/50 [==============================] - 0s 6ms/step - loss: 0.0021 - mae: 0.0332 - root_mean_squared_error: 0.0462 - val_loss: 0.0025 - val_mae: 0.0402 - val_root_mean_squared_error: 0.0503\n",
      "Epoch 3/50\n",
      "50/50 [==============================] - 0s 6ms/step - loss: 0.0019 - mae: 0.0300 - root_mean_squared_error: 0.0435 - val_loss: 0.0023 - val_mae: 0.0374 - val_root_mean_squared_error: 0.0475\n",
      "Epoch 4/50\n",
      "50/50 [==============================] - 0s 5ms/step - loss: 0.0018 - mae: 0.0292 - root_mean_squared_error: 0.0422 - val_loss: 0.0023 - val_mae: 0.0382 - val_root_mean_squared_error: 0.0479\n",
      "Epoch 5/50\n",
      "50/50 [==============================] - 0s 5ms/step - loss: 0.0017 - mae: 0.0285 - root_mean_squared_error: 0.0414 - val_loss: 0.0023 - val_mae: 0.0380 - val_root_mean_squared_error: 0.0476\n",
      "Epoch 6/50\n",
      "50/50 [==============================] - 0s 5ms/step - loss: 0.0016 - mae: 0.0270 - root_mean_squared_error: 0.0395 - val_loss: 0.0021 - val_mae: 0.0367 - val_root_mean_squared_error: 0.0463\n",
      "Epoch 7/50\n",
      "50/50 [==============================] - 0s 6ms/step - loss: 0.0015 - mae: 0.0269 - root_mean_squared_error: 0.0391 - val_loss: 0.0022 - val_mae: 0.0377 - val_root_mean_squared_error: 0.0469\n",
      "Epoch 8/50\n",
      "50/50 [==============================] - 0s 6ms/step - loss: 0.0016 - mae: 0.0279 - root_mean_squared_error: 0.0398 - val_loss: 0.0020 - val_mae: 0.0347 - val_root_mean_squared_error: 0.0446\n",
      "Epoch 9/50\n",
      "50/50 [==============================] - 0s 6ms/step - loss: 0.0015 - mae: 0.0271 - root_mean_squared_error: 0.0393 - val_loss: 0.0021 - val_mae: 0.0369 - val_root_mean_squared_error: 0.0460\n",
      "Epoch 10/50\n",
      "50/50 [==============================] - 0s 6ms/step - loss: 0.0014 - mae: 0.0258 - root_mean_squared_error: 0.0376 - val_loss: 0.0020 - val_mae: 0.0359 - val_root_mean_squared_error: 0.0452\n",
      "Epoch 11/50\n",
      "50/50 [==============================] - 0s 5ms/step - loss: 0.0014 - mae: 0.0250 - root_mean_squared_error: 0.0371 - val_loss: 0.0020 - val_mae: 0.0347 - val_root_mean_squared_error: 0.0442\n",
      "Epoch 12/50\n",
      "50/50 [==============================] - 0s 5ms/step - loss: 0.0013 - mae: 0.0246 - root_mean_squared_error: 0.0367 - val_loss: 0.0019 - val_mae: 0.0334 - val_root_mean_squared_error: 0.0431\n",
      "Epoch 13/50\n",
      "50/50 [==============================] - 0s 6ms/step - loss: 0.0013 - mae: 0.0247 - root_mean_squared_error: 0.0365 - val_loss: 0.0019 - val_mae: 0.0345 - val_root_mean_squared_error: 0.0438\n",
      "Epoch 14/50\n",
      "50/50 [==============================] - 0s 5ms/step - loss: 0.0013 - mae: 0.0235 - root_mean_squared_error: 0.0356 - val_loss: 0.0019 - val_mae: 0.0339 - val_root_mean_squared_error: 0.0433\n",
      "Epoch 15/50\n",
      "50/50 [==============================] - 0s 5ms/step - loss: 0.0013 - mae: 0.0236 - root_mean_squared_error: 0.0357 - val_loss: 0.0018 - val_mae: 0.0323 - val_root_mean_squared_error: 0.0421\n",
      "Epoch 16/50\n",
      "50/50 [==============================] - 0s 5ms/step - loss: 0.0012 - mae: 0.0230 - root_mean_squared_error: 0.0352 - val_loss: 0.0018 - val_mae: 0.0334 - val_root_mean_squared_error: 0.0428\n",
      "Epoch 17/50\n",
      "50/50 [==============================] - 0s 6ms/step - loss: 0.0013 - mae: 0.0241 - root_mean_squared_error: 0.0359 - val_loss: 0.0018 - val_mae: 0.0325 - val_root_mean_squared_error: 0.0420\n",
      "Epoch 18/50\n",
      "50/50 [==============================] - 0s 5ms/step - loss: 0.0012 - mae: 0.0229 - root_mean_squared_error: 0.0351 - val_loss: 0.0017 - val_mae: 0.0313 - val_root_mean_squared_error: 0.0411\n",
      "Epoch 19/50\n",
      "50/50 [==============================] - 0s 6ms/step - loss: 0.0012 - mae: 0.0230 - root_mean_squared_error: 0.0349 - val_loss: 0.0017 - val_mae: 0.0321 - val_root_mean_squared_error: 0.0415\n",
      "Epoch 20/50\n",
      "50/50 [==============================] - 0s 6ms/step - loss: 0.0012 - mae: 0.0227 - root_mean_squared_error: 0.0347 - val_loss: 0.0017 - val_mae: 0.0323 - val_root_mean_squared_error: 0.0415\n",
      "Epoch 21/50\n",
      "50/50 [==============================] - 0s 6ms/step - loss: 0.0012 - mae: 0.0231 - root_mean_squared_error: 0.0349 - val_loss: 0.0016 - val_mae: 0.0298 - val_root_mean_squared_error: 0.0405\n",
      "Epoch 22/50\n",
      "50/50 [==============================] - 0s 6ms/step - loss: 0.0013 - mae: 0.0236 - root_mean_squared_error: 0.0354 - val_loss: 0.0016 - val_mae: 0.0310 - val_root_mean_squared_error: 0.0405\n",
      "Epoch 23/50\n",
      "50/50 [==============================] - 0s 6ms/step - loss: 0.0012 - mae: 0.0222 - root_mean_squared_error: 0.0342 - val_loss: 0.0016 - val_mae: 0.0303 - val_root_mean_squared_error: 0.0401\n",
      "Epoch 24/50\n",
      "50/50 [==============================] - 0s 5ms/step - loss: 0.0011 - mae: 0.0216 - root_mean_squared_error: 0.0337 - val_loss: 0.0016 - val_mae: 0.0308 - val_root_mean_squared_error: 0.0402\n",
      "Epoch 25/50\n",
      "50/50 [==============================] - 0s 5ms/step - loss: 0.0012 - mae: 0.0221 - root_mean_squared_error: 0.0343 - val_loss: 0.0016 - val_mae: 0.0311 - val_root_mean_squared_error: 0.0404\n",
      "Epoch 26/50\n",
      "50/50 [==============================] - 0s 5ms/step - loss: 0.0011 - mae: 0.0217 - root_mean_squared_error: 0.0339 - val_loss: 0.0016 - val_mae: 0.0308 - val_root_mean_squared_error: 0.0401\n",
      "Epoch 27/50\n",
      "50/50 [==============================] - 0s 6ms/step - loss: 0.0011 - mae: 0.0213 - root_mean_squared_error: 0.0334 - val_loss: 0.0015 - val_mae: 0.0290 - val_root_mean_squared_error: 0.0392\n",
      "Epoch 28/50\n",
      "50/50 [==============================] - 0s 6ms/step - loss: 0.0011 - mae: 0.0210 - root_mean_squared_error: 0.0333 - val_loss: 0.0015 - val_mae: 0.0293 - val_root_mean_squared_error: 0.0391\n",
      "Epoch 29/50\n",
      "50/50 [==============================] - 0s 5ms/step - loss: 0.0011 - mae: 0.0218 - root_mean_squared_error: 0.0335 - val_loss: 0.0016 - val_mae: 0.0301 - val_root_mean_squared_error: 0.0395\n",
      "Epoch 30/50\n",
      "50/50 [==============================] - 0s 5ms/step - loss: 0.0012 - mae: 0.0222 - root_mean_squared_error: 0.0343 - val_loss: 0.0015 - val_mae: 0.0280 - val_root_mean_squared_error: 0.0390\n",
      "Epoch 31/50\n",
      "50/50 [==============================] - 0s 5ms/step - loss: 0.0012 - mae: 0.0218 - root_mean_squared_error: 0.0342 - val_loss: 0.0015 - val_mae: 0.0296 - val_root_mean_squared_error: 0.0391\n",
      "Epoch 32/50\n",
      "50/50 [==============================] - 0s 5ms/step - loss: 0.0011 - mae: 0.0206 - root_mean_squared_error: 0.0328 - val_loss: 0.0015 - val_mae: 0.0283 - val_root_mean_squared_error: 0.0385\n",
      "Epoch 33/50\n",
      "50/50 [==============================] - 0s 6ms/step - loss: 0.0012 - mae: 0.0236 - root_mean_squared_error: 0.0352 - val_loss: 0.0015 - val_mae: 0.0284 - val_root_mean_squared_error: 0.0384\n",
      "Epoch 34/50\n",
      "50/50 [==============================] - 0s 5ms/step - loss: 0.0011 - mae: 0.0213 - root_mean_squared_error: 0.0333 - val_loss: 0.0015 - val_mae: 0.0289 - val_root_mean_squared_error: 0.0386\n",
      "Epoch 35/50\n",
      "50/50 [==============================] - 0s 5ms/step - loss: 0.0011 - mae: 0.0210 - root_mean_squared_error: 0.0331 - val_loss: 0.0015 - val_mae: 0.0300 - val_root_mean_squared_error: 0.0393\n",
      "Epoch 36/50\n",
      "50/50 [==============================] - 0s 5ms/step - loss: 0.0011 - mae: 0.0200 - root_mean_squared_error: 0.0326 - val_loss: 0.0015 - val_mae: 0.0299 - val_root_mean_squared_error: 0.0393\n",
      "Epoch 37/50\n",
      "50/50 [==============================] - 0s 5ms/step - loss: 0.0011 - mae: 0.0206 - root_mean_squared_error: 0.0330 - val_loss: 0.0015 - val_mae: 0.0287 - val_root_mean_squared_error: 0.0384\n",
      "Epoch 38/50\n",
      "50/50 [==============================] - 0s 6ms/step - loss: 0.0010 - mae: 0.0199 - root_mean_squared_error: 0.0324 - val_loss: 0.0014 - val_mae: 0.0282 - val_root_mean_squared_error: 0.0381\n",
      "Epoch 39/50\n",
      "50/50 [==============================] - 0s 5ms/step - loss: 0.0011 - mae: 0.0203 - root_mean_squared_error: 0.0324 - val_loss: 0.0014 - val_mae: 0.0272 - val_root_mean_squared_error: 0.0377\n",
      "Epoch 40/50\n",
      "50/50 [==============================] - 0s 5ms/step - loss: 0.0010 - mae: 0.0197 - root_mean_squared_error: 0.0323 - val_loss: 0.0014 - val_mae: 0.0275 - val_root_mean_squared_error: 0.0377\n",
      "Epoch 41/50\n",
      "50/50 [==============================] - 0s 5ms/step - loss: 0.0010 - mae: 0.0196 - root_mean_squared_error: 0.0321 - val_loss: 0.0014 - val_mae: 0.0273 - val_root_mean_squared_error: 0.0376\n",
      "Epoch 42/50\n",
      "50/50 [==============================] - 0s 5ms/step - loss: 0.0010 - mae: 0.0195 - root_mean_squared_error: 0.0320 - val_loss: 0.0015 - val_mae: 0.0285 - val_root_mean_squared_error: 0.0382\n",
      "Epoch 43/50\n",
      "50/50 [==============================] - 0s 5ms/step - loss: 0.0011 - mae: 0.0199 - root_mean_squared_error: 0.0324 - val_loss: 0.0014 - val_mae: 0.0266 - val_root_mean_squared_error: 0.0374\n",
      "Epoch 44/50\n",
      "50/50 [==============================] - 0s 5ms/step - loss: 0.0011 - mae: 0.0210 - root_mean_squared_error: 0.0328 - val_loss: 0.0014 - val_mae: 0.0282 - val_root_mean_squared_error: 0.0379\n",
      "Epoch 45/50\n",
      "50/50 [==============================] - 0s 5ms/step - loss: 0.0011 - mae: 0.0207 - root_mean_squared_error: 0.0329 - val_loss: 0.0015 - val_mae: 0.0296 - val_root_mean_squared_error: 0.0391\n",
      "Epoch 46/50\n",
      "50/50 [==============================] - 0s 5ms/step - loss: 0.0011 - mae: 0.0211 - root_mean_squared_error: 0.0331 - val_loss: 0.0014 - val_mae: 0.0262 - val_root_mean_squared_error: 0.0372\n",
      "Epoch 47/50\n",
      "50/50 [==============================] - 0s 5ms/step - loss: 0.0011 - mae: 0.0199 - root_mean_squared_error: 0.0325 - val_loss: 0.0014 - val_mae: 0.0269 - val_root_mean_squared_error: 0.0372\n",
      "Epoch 48/50\n",
      "50/50 [==============================] - 0s 5ms/step - loss: 0.0010 - mae: 0.0195 - root_mean_squared_error: 0.0321 - val_loss: 0.0014 - val_mae: 0.0262 - val_root_mean_squared_error: 0.0370\n",
      "Epoch 49/50\n",
      "50/50 [==============================] - 0s 6ms/step - loss: 0.0011 - mae: 0.0197 - root_mean_squared_error: 0.0327 - val_loss: 0.0014 - val_mae: 0.0284 - val_root_mean_squared_error: 0.0381\n",
      "Epoch 50/50\n",
      "50/50 [==============================] - 0s 6ms/step - loss: 0.0010 - mae: 0.0195 - root_mean_squared_error: 0.0324 - val_loss: 0.0014 - val_mae: 0.0271 - val_root_mean_squared_error: 0.0372\n"
     ]
    }
   ],
   "source": [
    "model.compile(loss='mean_squared_error',\n",
    "              metrics=['mae', RootMeanSquaredError()],\n",
    "              optimizer='adam')\n",
    "\n",
    "history = model.fit(X_train,\n",
    "                    y_train,\n",
    "                    epochs=50,\n",
    "                    batch_size=32,\n",
    "                    validation_split=0.1)"
   ]
  },
  {
   "cell_type": "code",
   "execution_count": 16,
   "id": "d7d3f71a",
   "metadata": {
    "execution": {
     "iopub.execute_input": "2024-02-06T02:02:56.431753Z",
     "iopub.status.busy": "2024-02-06T02:02:56.430791Z",
     "iopub.status.idle": "2024-02-06T02:02:56.523252Z",
     "shell.execute_reply": "2024-02-06T02:02:56.522313Z"
    },
    "papermill": {
     "duration": 0.1509,
     "end_time": "2024-02-06T02:02:56.525313",
     "exception": false,
     "start_time": "2024-02-06T02:02:56.374413",
     "status": "completed"
    },
    "tags": []
   },
   "outputs": [
    {
     "name": "stdout",
     "output_type": "stream",
     "text": [
      "7/7 [==============================] - 0s 4ms/step - loss: 6.2191e-04 - mae: 0.0173 - root_mean_squared_error: 0.0249\n"
     ]
    },
    {
     "data": {
      "text/plain": [
       "[0.0006219057249836624, 0.017348259687423706, 0.024938037618994713]"
      ]
     },
     "execution_count": 16,
     "metadata": {},
     "output_type": "execute_result"
    }
   ],
   "source": [
    "model.evaluate(X_test, y_test)"
   ]
  },
  {
   "cell_type": "markdown",
   "id": "f2d58390",
   "metadata": {
    "papermill": {
     "duration": 0.055506,
     "end_time": "2024-02-06T02:02:56.636190",
     "exception": false,
     "start_time": "2024-02-06T02:02:56.580684",
     "status": "completed"
    },
    "tags": []
   },
   "source": [
    "## Model Evaluation"
   ]
  },
  {
   "cell_type": "code",
   "execution_count": 17,
   "id": "e099598d",
   "metadata": {
    "execution": {
     "iopub.execute_input": "2024-02-06T02:02:56.749584Z",
     "iopub.status.busy": "2024-02-06T02:02:56.748719Z",
     "iopub.status.idle": "2024-02-06T02:02:57.054762Z",
     "shell.execute_reply": "2024-02-06T02:02:57.053644Z"
    },
    "papermill": {
     "duration": 0.365259,
     "end_time": "2024-02-06T02:02:57.057018",
     "exception": false,
     "start_time": "2024-02-06T02:02:56.691759",
     "status": "completed"
    },
    "tags": []
   },
   "outputs": [
    {
     "data": {
      "image/png": "[encoded data removed]",
      "text/plain": [
       "<Figure size 640x480 with 1 Axes>"
      ]
     },
     "metadata": {},
     "output_type": "display_data"
    }
   ],
   "source": [
    "plt.plot(history.history['loss'])\n",
    "plt.plot(history.history['val_loss'])\n",
    "plt.title(f'{SHEET_NAME} Model Loss', fontsize=15)\n",
    "plt.ylabel('loss')\n",
    "plt.xlabel('epoch')\n",
    "plt.legend(['train', 'test'])\n",
    "plt.show()"
   ]
  },
  {
   "cell_type": "code",
   "execution_count": 18,
   "id": "b09fb45e",
   "metadata": {
    "execution": {
     "iopub.execute_input": "2024-02-06T02:02:57.170485Z",
     "iopub.status.busy": "2024-02-06T02:02:57.170135Z",
     "iopub.status.idle": "2024-02-06T02:02:57.629548Z",
     "shell.execute_reply": "2024-02-06T02:02:57.628732Z"
    },
    "papermill": {
     "duration": 0.519079,
     "end_time": "2024-02-06T02:02:57.631954",
     "exception": false,
     "start_time": "2024-02-06T02:02:57.112875",
     "status": "completed"
    },
    "tags": []
   },
   "outputs": [
    {
     "name": "stdout",
     "output_type": "stream",
     "text": [
      "7/7 [==============================] - 0s 2ms/step\n"
     ]
    }
   ],
   "source": [
    "y_hat = model.predict(X_test)\n",
    "y_test_inverse = scaler.inverse_transform(y_test)\n",
    "y_hat_inverse = scaler.inverse_transform(y_hat)"
   ]
  },
  {
   "cell_type": "code",
   "execution_count": 19,
   "id": "3d5c486f",
   "metadata": {
    "execution": {
     "iopub.execute_input": "2024-02-06T02:02:57.746640Z",
     "iopub.status.busy": "2024-02-06T02:02:57.745897Z",
     "iopub.status.idle": "2024-02-06T02:02:58.088479Z",
     "shell.execute_reply": "2024-02-06T02:02:58.087521Z"
    },
    "papermill": {
     "duration": 0.401705,
     "end_time": "2024-02-06T02:02:58.090604",
     "exception": false,
     "start_time": "2024-02-06T02:02:57.688899",
     "status": "completed"
    },
    "tags": []
   },
   "outputs": [
    {
     "data": {
      "image/png": "[encoded data removed]",
      "text/plain": [
       "<Figure size 640x480 with 1 Axes>"
      ]
     },
     "metadata": {},
     "output_type": "display_data"
    }
   ],
   "source": [
    "plt.plot(y_test_inverse, label=\"Actual Price\", color='green')\n",
    "plt.plot(y_hat_inverse, label=\"Predicted Price\", color='red')\n",
    " \n",
    "plt.title(f'{SHEET_NAME} Price Prediction\\nLSTM = {LSTM_Layer}, Split Data = {SPLIT}, Window = {WINDOW_SIZE}', fontsize=15)\n",
    "plt.xlabel('Time [days]')\n",
    "plt.ylabel('Price')\n",
    "plt.legend(loc='best')\n",
    " \n",
    "plt.show()"
   ]
  },
  {
   "cell_type": "code",
   "execution_count": 20,
   "id": "dce55411",
   "metadata": {
    "execution": {
     "iopub.execute_input": "2024-02-06T02:02:58.206376Z",
     "iopub.status.busy": "2024-02-06T02:02:58.206032Z",
     "iopub.status.idle": "2024-02-06T02:02:58.214644Z",
     "shell.execute_reply": "2024-02-06T02:02:58.213771Z"
    },
    "papermill": {
     "duration": 0.069157,
     "end_time": "2024-02-06T02:02:58.217073",
     "exception": false,
     "start_time": "2024-02-06T02:02:58.147916",
     "status": "completed"
    },
    "tags": []
   },
   "outputs": [
    {
     "name": "stdout",
     "output_type": "stream",
     "text": [
      "LSTM = 1, Split Data = 0.9, Window = 20\n",
      "\n",
      "----------------- Normalized Error -----------------\n",
      "Mean Absolute Error for prediction : 0.017348260471809755\n",
      "Mean Squared Error for prediction : 0.0006219056895001223\n",
      "Root Mean Squared Error for prediction : 0.02493803700173938\n",
      "\n",
      "----------------- Actual Error -----------------\n",
      "Mean Absolute Error for prediction : 65.64582290338024\n",
      "Mean Squared Error for prediction : 8904.85522860801\n",
      "Root Mean Squared Error for prediction : 94.36554047218725\n"
     ]
    }
   ],
   "source": [
    "def matrices(actual, predicted):\n",
    "    mse = mean_squared_error(actual, predicted)\n",
    "    mae = mean_absolute_error(actual, predicted)\n",
    "    rmse = np.sqrt(mse)\n",
    "    print(\"Mean Absolute Error for prediction :\", mae)\n",
    "    print(\"Mean Squared Error for prediction :\", mse)\n",
    "    print(\"Root Mean Squared Error for prediction :\", rmse)\n",
    "    return mae, mse, rmse\n",
    "\n",
    "print(f\"LSTM = {LSTM_Layer}, Split Data = {SPLIT}, Window = {WINDOW_SIZE}\")\n",
    "print(\"\\n----------------- Normalized Error -----------------\")\n",
    "mae, mse, rmse = matrices(y_test, y_hat)\n",
    "print(\"\\n----------------- Actual Error -----------------\")\n",
    "mae_inverse, mse_inverse, rmse_inverse = matrices(y_test_inverse, y_hat_inverse)"
   ]
  }
 ],
 "metadata": {
  "kaggle": {
   "accelerator": "gpu",
   "dataSources": [],
   "dockerImageVersionId": 30498,
   "isGpuEnabled": true,
   "isInternetEnabled": true,
   "language": "python",
   "sourceType": "notebook"
  },
  "kernelspec": {
   "display_name": "Python 3",
   "language": "python",
   "name": "python3"
  },
  "language_info": {
   "codemirror_mode": {
    "name": "ipython",
    "version": 3
   },
   "file_extension": ".py",
   "mimetype": "text/x-python",
   "name": "python",
   "nbconvert_exporter": "python",
   "pygments_lexer": "ipython3",
   "version": "3.10.10"
  },
  "papermill": {
   "default_parameters": {},
   "duration": 623.056257,
   "end_time": "2024-02-06T02:03:01.854281",
   "environment_variables": {},
   "exception": null,
   "input_path": "__notebook__.ipynb",
   "output_path": "__notebook__.ipynb",
   "parameters": {},
   "start_time": "2024-02-06T01:52:38.798024",
   "version": "2.4.0"
  }
 },
 "nbformat": 4,
 "nbformat_minor": 5
}
