{
 "cells": [
  {
   "cell_type": "code",
   "execution_count": 1,
   "id": "1ff42f35",
   "metadata": {
    "execution": {
     "iopub.execute_input": "2024-02-06T01:42:25.086938Z",
     "iopub.status.busy": "2024-02-06T01:42:25.086603Z",
     "iopub.status.idle": "2024-02-06T01:42:33.528980Z",
     "shell.execute_reply": "2024-02-06T01:42:33.528196Z"
    },
    "papermill": {
     "duration": 8.453304,
     "end_time": "2024-02-06T01:42:33.531206",
     "exception": false,
     "start_time": "2024-02-06T01:42:25.077902",
     "status": "completed"
    },
    "tags": []
   },
   "outputs": [
    {
     "name": "stderr",
     "output_type": "stream",
     "text": [
      "/opt/conda/lib/python3.10/site-packages/tensorflow_io/python/ops/__init__.py:98: UserWarning: unable to load libtensorflow_io_plugins.so: unable to open file: libtensorflow_io_plugins.so, from paths: ['/opt/conda/lib/python3.10/site-packages/tensorflow_io/python/ops/libtensorflow_io_plugins.so']\n",
      "caused by: ['/opt/conda/lib/python3.10/site-packages/tensorflow_io/python/ops/libtensorflow_io_plugins.so: undefined symbol: _ZN3tsl6StatusC1EN10tensorflow5error4CodeESt17basic_string_viewIcSt11char_traitsIcEENS_14SourceLocationE']\n",
      "  warnings.warn(f\"unable to load libtensorflow_io_plugins.so: {e}\")\n",
      "/opt/conda/lib/python3.10/site-packages/tensorflow_io/python/ops/__init__.py:104: UserWarning: file system plugins are not loaded: unable to open file: libtensorflow_io.so, from paths: ['/opt/conda/lib/python3.10/site-packages/tensorflow_io/python/ops/libtensorflow_io.so']\n",
      "caused by: ['/opt/conda/lib/python3.10/site-packages/tensorflow_io/python/ops/libtensorflow_io.so: undefined symbol: _ZTVN10tensorflow13GcsFileSystemE']\n",
      "  warnings.warn(f\"file system plugins are not loaded: {e}\")\n"
     ]
    }
   ],
   "source": [
    "import pandas as pd\n",
    "import numpy as np\n",
    "import tensorflow as tf\n",
    "import matplotlib.pyplot as plt\n",
    "import datetime, pytz\n",
    "\n",
    "from keras.models import Sequential\n",
    "from keras.layers import LSTM, Dense\n",
    "from keras.metrics import RootMeanSquaredError\n",
    "\n",
    "from sklearn.preprocessing import MinMaxScaler\n",
    "from sklearn.metrics import mean_squared_error, mean_absolute_error"
   ]
  },
  {
   "cell_type": "markdown",
   "id": "717460a9",
   "metadata": {
    "papermill": {
     "duration": 0.006299,
     "end_time": "2024-02-06T01:42:33.544382",
     "exception": false,
     "start_time": "2024-02-06T01:42:33.538083",
     "status": "completed"
    },
    "tags": []
   },
   "source": [
    "## Hyperparameter"
   ]
  },
  {
   "cell_type": "code",
   "execution_count": 2,
   "id": "ad6849cf",
   "metadata": {
    "execution": {
     "iopub.execute_input": "2024-02-06T01:42:33.558436Z",
     "iopub.status.busy": "2024-02-06T01:42:33.557865Z",
     "iopub.status.idle": "2024-02-06T01:42:33.562545Z",
     "shell.execute_reply": "2024-02-06T01:42:33.561831Z"
    },
    "papermill": {
     "duration": 0.013662,
     "end_time": "2024-02-06T01:42:33.564353",
     "exception": false,
     "start_time": "2024-02-06T01:42:33.550691",
     "status": "completed"
    },
    "tags": []
   },
   "outputs": [],
   "source": [
    "# Google Spreadsheet ID\n",
    "SHEET_ID = '1JDNv_mArl-GPIpxuWS5GxgVEwvjXocS1MrXGc6TYs8M'\n",
    "SHEET_NAME = 'EUR/IDR' # USD/IDR, EUR/IDR, SGD/IDR\n",
    "\n",
    "SEQ_LEN = 6 # 6, 11, 21\n",
    "SPLIT = 0.90 # 0.80, 0.90\n",
    "LSTM_Layer = 1 # 1, 2, 3\n",
    "WINDOW_SIZE = SEQ_LEN - 1"
   ]
  },
  {
   "cell_type": "code",
   "execution_count": 3,
   "id": "017054f5",
   "metadata": {
    "execution": {
     "iopub.execute_input": "2024-02-06T01:42:33.578971Z",
     "iopub.status.busy": "2024-02-06T01:42:33.578274Z",
     "iopub.status.idle": "2024-02-06T01:42:35.224834Z",
     "shell.execute_reply": "2024-02-06T01:42:35.223708Z"
    },
    "papermill": {
     "duration": 1.655806,
     "end_time": "2024-02-06T01:42:35.226946",
     "exception": false,
     "start_time": "2024-02-06T01:42:33.571140",
     "status": "completed"
    },
    "tags": []
   },
   "outputs": [
    {
     "name": "stdout",
     "output_type": "stream",
     "text": [
      "<class 'pandas.core.frame.DataFrame'>\n",
      "RangeIndex: 1977 entries, 0 to 1976\n",
      "Data columns (total 2 columns):\n",
      " #   Column  Non-Null Count  Dtype         \n",
      "---  ------  --------------  -----         \n",
      " 0   Date    1977 non-null   datetime64[ns]\n",
      " 1   Close   1977 non-null   float64       \n",
      "dtypes: datetime64[ns](1), float64(1)\n",
      "memory usage: 31.0 KB\n"
     ]
    }
   ],
   "source": [
    "url = f'https://docs.google.com/spreadsheets/d/{SHEET_ID}/gviz/tq?tqx=out:csv&sheet={SHEET_NAME}'\n",
    "data = pd.read_csv(url)\n",
    "\n",
    "# Convert Date columns to datetime format\n",
    "data['Date'] = pd.to_datetime(data['Date'], format='%d/%m/%Y %H:%M:%S')\n",
    "data.info()"
   ]
  },
  {
   "cell_type": "markdown",
   "id": "bce583e4",
   "metadata": {
    "papermill": {
     "duration": 0.006749,
     "end_time": "2024-02-06T01:42:35.240420",
     "exception": false,
     "start_time": "2024-02-06T01:42:35.233671",
     "status": "completed"
    },
    "tags": []
   },
   "source": [
    "## Preprocessing"
   ]
  },
  {
   "cell_type": "code",
   "execution_count": 4,
   "id": "2212db8b",
   "metadata": {
    "execution": {
     "iopub.execute_input": "2024-02-06T01:42:35.254991Z",
     "iopub.status.busy": "2024-02-06T01:42:35.254277Z",
     "iopub.status.idle": "2024-02-06T01:42:35.264480Z",
     "shell.execute_reply": "2024-02-06T01:42:35.263636Z"
    },
    "papermill": {
     "duration": 0.019503,
     "end_time": "2024-02-06T01:42:35.266386",
     "exception": false,
     "start_time": "2024-02-06T01:42:35.246883",
     "status": "completed"
    },
    "tags": []
   },
   "outputs": [
    {
     "name": "stderr",
     "output_type": "stream",
     "text": [
      "/tmp/ipykernel_26/2274720815.py:7: SettingWithCopyWarning: \n",
      "A value is trying to be set on a copy of a slice from a DataFrame\n",
      "\n",
      "See the caveats in the documentation: https://pandas.pydata.org/pandas-docs/stable/user_guide/indexing.html#returning-a-view-versus-a-copy\n",
      "  data[data < lower_bound] = lower_bound\n",
      "/tmp/ipykernel_26/2274720815.py:8: SettingWithCopyWarning: \n",
      "A value is trying to be set on a copy of a slice from a DataFrame\n",
      "\n",
      "See the caveats in the documentation: https://pandas.pydata.org/pandas-docs/stable/user_guide/indexing.html#returning-a-view-versus-a-copy\n",
      "  data[data > upper_bound] = upper_bound\n"
     ]
    }
   ],
   "source": [
    "def replace_outliers(data):\n",
    "    Q1 = np.percentile(data, 25)\n",
    "    Q3 = np.percentile(data, 75)\n",
    "    IQR = Q3 - Q1\n",
    "    lower_bound = Q1 - 1.5 * IQR\n",
    "    upper_bound = Q3 + 1.5 * IQR\n",
    "    data[data < lower_bound] = lower_bound\n",
    "    data[data > upper_bound] = upper_bound\n",
    "    return data\n",
    "\n",
    "data['Close'] = replace_outliers(data['Close'])"
   ]
  },
  {
   "cell_type": "code",
   "execution_count": 5,
   "id": "d2754048",
   "metadata": {
    "execution": {
     "iopub.execute_input": "2024-02-06T01:42:35.280928Z",
     "iopub.status.busy": "2024-02-06T01:42:35.280685Z",
     "iopub.status.idle": "2024-02-06T01:42:35.463508Z",
     "shell.execute_reply": "2024-02-06T01:42:35.462572Z"
    },
    "papermill": {
     "duration": 0.192451,
     "end_time": "2024-02-06T01:42:35.465532",
     "exception": false,
     "start_time": "2024-02-06T01:42:35.273081",
     "status": "completed"
    },
    "tags": []
   },
   "outputs": [
    {
     "data": {
      "image/png": "[encoded data removed]",
      "text/plain": [
       "<Figure size 640x480 with 1 Axes>"
      ]
     },
     "metadata": {},
     "output_type": "display_data"
    }
   ],
   "source": [
    "# Boxplot for outlier detection\n",
    "plt.boxplot(data['Close'])\n",
    "plt.title(f\"{SHEET_NAME} Boxplot for Outlier Detection\")\n",
    "plt.xlabel(\"Close\")\n",
    "plt.ylabel(\"Values\")\n",
    "plt.show()"
   ]
  },
  {
   "cell_type": "code",
   "execution_count": 6,
   "id": "e9040be0",
   "metadata": {
    "execution": {
     "iopub.execute_input": "2024-02-06T01:42:35.481046Z",
     "iopub.status.busy": "2024-02-06T01:42:35.480744Z",
     "iopub.status.idle": "2024-02-06T01:42:35.488189Z",
     "shell.execute_reply": "2024-02-06T01:42:35.487331Z"
    },
    "papermill": {
     "duration": 0.017398,
     "end_time": "2024-02-06T01:42:35.490162",
     "exception": false,
     "start_time": "2024-02-06T01:42:35.472764",
     "status": "completed"
    },
    "tags": []
   },
   "outputs": [
    {
     "data": {
      "text/plain": [
       "(1977, 1)"
      ]
     },
     "execution_count": 6,
     "metadata": {},
     "output_type": "execute_result"
    }
   ],
   "source": [
    "scaler = MinMaxScaler()\n",
    "close_price = data.Close.values.reshape(-1, 1)\n",
    "scaled_close = scaler.fit_transform(close_price)\n",
    "scaled_close.shape"
   ]
  },
  {
   "cell_type": "code",
   "execution_count": 7,
   "id": "9b984e99",
   "metadata": {
    "execution": {
     "iopub.execute_input": "2024-02-06T01:42:35.505500Z",
     "iopub.status.busy": "2024-02-06T01:42:35.505214Z",
     "iopub.status.idle": "2024-02-06T01:42:35.514678Z",
     "shell.execute_reply": "2024-02-06T01:42:35.513845Z"
    },
    "papermill": {
     "duration": 0.019349,
     "end_time": "2024-02-06T01:42:35.516602",
     "exception": false,
     "start_time": "2024-02-06T01:42:35.497253",
     "status": "completed"
    },
    "tags": []
   },
   "outputs": [],
   "source": [
    "def to_sequences(data, seq_len):\n",
    "    d = []\n",
    "    for index in range(len(data) - seq_len):\n",
    "        d.append(data[index: index + seq_len])\n",
    "    return np.array(d)\n",
    "\n",
    "def preprocess(data_raw, seq_len, train_split):\n",
    "    data = to_sequences(data_raw, seq_len)\n",
    "    num_train = int(train_split * data.shape[0])\n",
    "    X_train = data[:num_train, :-1, :]\n",
    "    y_train = data[:num_train, -1, :]\n",
    "    X_test = data[num_train:, :-1, :]\n",
    "    y_test = data[num_train:, -1, :]\n",
    "    return X_train, y_train, X_test, y_test\n",
    "\n",
    "X_train, y_train, X_test, y_test = preprocess(scaled_close, SEQ_LEN, train_split = SPLIT)"
   ]
  },
  {
   "cell_type": "markdown",
   "id": "0a2e9ec5",
   "metadata": {
    "papermill": {
     "duration": 0.006948,
     "end_time": "2024-02-06T01:42:35.530671",
     "exception": false,
     "start_time": "2024-02-06T01:42:35.523723",
     "status": "completed"
    },
    "tags": []
   },
   "source": [
    "## Genetic Algorithm"
   ]
  },
  {
   "cell_type": "code",
   "execution_count": 8,
   "id": "b28152a9",
   "metadata": {
    "execution": {
     "iopub.execute_input": "2024-02-06T01:42:35.545865Z",
     "iopub.status.busy": "2024-02-06T01:42:35.545605Z",
     "iopub.status.idle": "2024-02-06T01:42:35.550864Z",
     "shell.execute_reply": "2024-02-06T01:42:35.550084Z"
    },
    "papermill": {
     "duration": 0.014915,
     "end_time": "2024-02-06T01:42:35.552677",
     "exception": false,
     "start_time": "2024-02-06T01:42:35.537762",
     "status": "completed"
    },
    "tags": []
   },
   "outputs": [],
   "source": [
    "def decimal_to_binary(chromosome: list):\n",
    "    binary_string = ''.join([bin(x)[2:].zfill(8) for x in chromosome])\n",
    "    return binary_string\n",
    "\n",
    "def binary_to_decimal(binary_string: str):\n",
    "    decimal_array = [int(binary, 2) for binary in [binary_string[i:i+8] for i in range(0, len(binary_string), 8)]]\n",
    "    return decimal_array"
   ]
  },
  {
   "cell_type": "code",
   "execution_count": 9,
   "id": "6ed9b8ac",
   "metadata": {
    "execution": {
     "iopub.execute_input": "2024-02-06T01:42:35.568392Z",
     "iopub.status.busy": "2024-02-06T01:42:35.567685Z",
     "iopub.status.idle": "2024-02-06T01:42:35.586079Z",
     "shell.execute_reply": "2024-02-06T01:42:35.585270Z"
    },
    "papermill": {
     "duration": 0.028184,
     "end_time": "2024-02-06T01:42:35.588016",
     "exception": false,
     "start_time": "2024-02-06T01:42:35.559832",
     "status": "completed"
    },
    "tags": []
   },
   "outputs": [],
   "source": [
    "# Genetic Algorithm\n",
    "def genetic_algorithm(generations, mutation_rate):\n",
    "    print(f\"Inizialized Population...\")\n",
    "    population = np.random.randint(1, high=251, size=(10, 3))\n",
    "    fitness_scores = np.array([fitness_function(chromosome) for chromosome in population])\n",
    "    max_fitness_each_gen = []\n",
    "    \n",
    "    for generation in range(generations):\n",
    "        print(f\"Generation - {generation + 1}\")\n",
    "        max_fitness_each_gen.append(np.max(fitness_scores))\n",
    "        \n",
    "        chromosome_1 = selection(population, fitness_scores)\n",
    "        chromosome_2 = selection(population, fitness_scores)\n",
    "        \n",
    "        if generation % mutation_rate == 0:\n",
    "            chromosome_1 = mutate(chromosome_1)\n",
    "            chromosome_2 = mutate(chromosome_2)\n",
    "        else:\n",
    "            chromosome_1, chromosome_2 = crossover(chromosome_1, chromosome_2)\n",
    "\n",
    "        fitness_score_1 = fitness_function(chromosome_1)\n",
    "        fitness_score_2 = fitness_function(chromosome_2)\n",
    "        \n",
    "        worst_index = np.argmin(fitness_scores)\n",
    "        worst_fitness = fitness_scores[worst_index]\n",
    "\n",
    "        if fitness_score_1 > worst_fitness:\n",
    "            population[worst_index] = chromosome_1\n",
    "            fitness_scores[worst_index] = fitness_score_1\n",
    "            worst_index = np.argmin(fitness_scores)\n",
    "            worst_fitness = fitness_scores[worst_index]\n",
    "\n",
    "        if fitness_score_2 > worst_fitness:\n",
    "            population[worst_index] = chromosome_2\n",
    "            fitness_scores[worst_index] = fitness_score_2\n",
    "        \n",
    "        # Release some memory\n",
    "        del chromosome_1, chromosome_2\n",
    "        del fitness_score_1, fitness_score_2\n",
    "        del worst_index, worst_fitness\n",
    "            \n",
    "    best_chromosome = population[np.argmax(fitness_scores)]\n",
    "    best_fitness = np.max(fitness_scores)\n",
    "    \n",
    "    return best_chromosome, best_fitness, max_fitness_each_gen\n",
    "\n",
    "# Selection (Tournament selection)\n",
    "def selection(population, fitness_scores, tournament_size=3):\n",
    "    indices = np.random.randint(len(population), size=tournament_size)\n",
    "    tournament = population[indices]\n",
    "    tournament_fitness = fitness_scores[indices]\n",
    "    return tournament[np.argmax(tournament_fitness)]\n",
    "\n",
    "# Crossover (Single-point crossover)\n",
    "def crossover(parent_1: list, parent_2: list):\n",
    "    parent_1 = decimal_to_binary(parent_1)\n",
    "    parent_2 = decimal_to_binary(parent_2)\n",
    "    \n",
    "    crossover_point = np.random.randint(1, len(parent_1))\n",
    "    offspring_1 = parent_1[:crossover_point] + parent_2[crossover_point:]\n",
    "    offspring_2 = parent_2[:crossover_point] + parent_1[crossover_point:]\n",
    "    \n",
    "    offspring_1 = binary_to_decimal(offspring_1)\n",
    "    offspring_2 = binary_to_decimal(offspring_2)\n",
    "    return offspring_1, offspring_2\n",
    "\n",
    "# Mutation (Swap Mutation)\n",
    "def mutate(chromosome: list):\n",
    "    chromosome = decimal_to_binary(chromosome)\n",
    "    \n",
    "    chromosome_list = list(chromosome)\n",
    "    i = np.random.randint(len(chromosome_list), size=2)\n",
    "    chromosome_list[i[0]], chromosome_list[i[1]] = chromosome_list[i[1]], chromosome_list[i[0]]\n",
    "    \n",
    "    chromosome_list = ''.join(chromosome_list)\n",
    "    chromosome = binary_to_decimal(chromosome_list)\n",
    "    return chromosome\n",
    "\n",
    "# Fitness Function\n",
    "def fitness_function(chromosome: list):\n",
    "    lstm_units = [int(chromosome[i]) or default for i, default in enumerate([128, 64, 32])]\n",
    "\n",
    "    # Build the LSTM model\n",
    "    tf.keras.backend.clear_session()\n",
    "    model = Sequential()\n",
    "    for i, units in enumerate(lstm_units[:LSTM_Layer]):\n",
    "        model.add(LSTM(units, return_sequences=(i < LSTM_Layer - 1), input_shape=(WINDOW_SIZE, 1)))\n",
    "    model.add(Dense(1))\n",
    "    \n",
    "    # Compile and train the model\n",
    "    model.compile(loss='mean_squared_error',\n",
    "                  optimizer='adam')\n",
    "    model.fit(X_train, y_train,\n",
    "              epochs=10,\n",
    "              batch_size=32,\n",
    "              verbose=0,\n",
    "              validation_split=0.1)\n",
    "\n",
    "    # Evaluate the model\n",
    "    loss = model.evaluate(X_test, y_test)\n",
    "\n",
    "    # Return the negative value of the loss as the fitness score\n",
    "    return -loss"
   ]
  },
  {
   "cell_type": "code",
   "execution_count": 10,
   "id": "55d72162",
   "metadata": {
    "execution": {
     "iopub.execute_input": "2024-02-06T01:42:35.603315Z",
     "iopub.status.busy": "2024-02-06T01:42:35.603054Z",
     "iopub.status.idle": "2024-02-06T01:42:35.608464Z",
     "shell.execute_reply": "2024-02-06T01:42:35.607752Z"
    },
    "papermill": {
     "duration": 0.015241,
     "end_time": "2024-02-06T01:42:35.610341",
     "exception": false,
     "start_time": "2024-02-06T01:42:35.595100",
     "status": "completed"
    },
    "tags": []
   },
   "outputs": [],
   "source": [
    "import typing\n",
    "from datetime import datetime\n",
    "\n",
    "def timer(start_time: datetime = None) -> \"typing.Union[datetime.datetime, str]\":\n",
    "    if not start_time:\n",
    "        start_time = datetime.now()\n",
    "        return start_time\n",
    "    elif start_time:\n",
    "        thour, temp_sec = divmod((datetime.now() - start_time).total_seconds(), 3600)\n",
    "        tmin, tsec = divmod(temp_sec, 60)\n",
    "        return \"%i hours %i minutes and %s seconds.\" % (\n",
    "            thour,\n",
    "            tmin,\n",
    "            round(tsec, 2),\n",
    "        )"
   ]
  },
  {
   "cell_type": "code",
   "execution_count": 11,
   "id": "e0451f72",
   "metadata": {
    "execution": {
     "iopub.execute_input": "2024-02-06T01:42:35.625817Z",
     "iopub.status.busy": "2024-02-06T01:42:35.625561Z",
     "iopub.status.idle": "2024-02-06T01:51:19.568030Z",
     "shell.execute_reply": "2024-02-06T01:51:19.567119Z"
    },
    "papermill": {
     "duration": 523.966527,
     "end_time": "2024-02-06T01:51:19.584044",
     "exception": false,
     "start_time": "2024-02-06T01:42:35.617517",
     "status": "completed"
    },
    "tags": []
   },
   "outputs": [
    {
     "name": "stdout",
     "output_type": "stream",
     "text": [
      "Inizialized Population...\n",
      "7/7 [==============================] - 0s 3ms/step - loss: 8.4564e-04\n",
      "7/7 [==============================] - 0s 3ms/step - loss: 9.6784e-04\n",
      "7/7 [==============================] - 0s 3ms/step - loss: 8.8429e-04\n",
      "7/7 [==============================] - 0s 3ms/step - loss: 8.0744e-04\n",
      "7/7 [==============================] - 0s 2ms/step - loss: 8.2547e-04\n",
      "7/7 [==============================] - 0s 3ms/step - loss: 8.4068e-04\n",
      "7/7 [==============================] - 0s 2ms/step - loss: 7.6866e-04\n",
      "7/7 [==============================] - 0s 2ms/step - loss: 9.9167e-04\n",
      "7/7 [==============================] - 0s 2ms/step - loss: 8.6186e-04\n",
      "7/7 [==============================] - 0s 2ms/step - loss: 8.0559e-04\n",
      "Generation - 1\n",
      "7/7 [==============================] - 0s 2ms/step - loss: 8.0377e-04\n",
      "7/7 [==============================] - 0s 2ms/step - loss: 8.1779e-04\n",
      "Generation - 2\n",
      "7/7 [==============================] - 0s 3ms/step - loss: 8.1198e-04\n",
      "7/7 [==============================] - 0s 2ms/step - loss: 9.4067e-04\n",
      "Generation - 3\n",
      "7/7 [==============================] - 0s 2ms/step - loss: 7.9065e-04\n",
      "7/7 [==============================] - 0s 2ms/step - loss: 7.8109e-04\n",
      "Generation - 4\n",
      "7/7 [==============================] - 0s 2ms/step - loss: 8.7709e-04\n",
      "7/7 [==============================] - 0s 3ms/step - loss: 8.0023e-04\n",
      "Generation - 5\n",
      "7/7 [==============================] - 0s 3ms/step - loss: 8.2089e-04\n",
      "7/7 [==============================] - 0s 3ms/step - loss: 7.7607e-04\n",
      "Generation - 6\n",
      "7/7 [==============================] - 0s 2ms/step - loss: 8.5671e-04\n",
      "7/7 [==============================] - 0s 3ms/step - loss: 7.7168e-04\n",
      "Generation - 7\n",
      "7/7 [==============================] - 0s 3ms/step - loss: 7.8235e-04\n",
      "7/7 [==============================] - 0s 3ms/step - loss: 7.7268e-04\n",
      "Generation - 8\n",
      "7/7 [==============================] - 0s 2ms/step - loss: 8.4680e-04\n",
      "7/7 [==============================] - 0s 2ms/step - loss: 7.9109e-04\n",
      "Generation - 9\n",
      "7/7 [==============================] - 0s 3ms/step - loss: 7.9982e-04\n",
      "7/7 [==============================] - 0s 2ms/step - loss: 8.5146e-04\n",
      "Generation - 10\n",
      "7/7 [==============================] - 0s 2ms/step - loss: 8.1607e-04\n",
      "7/7 [==============================] - 0s 2ms/step - loss: 8.7351e-04\n",
      "Generation - 11\n",
      "7/7 [==============================] - 0s 2ms/step - loss: 7.6575e-04\n",
      "7/7 [==============================] - 0s 2ms/step - loss: 8.0455e-04\n",
      "Generation - 12\n",
      "7/7 [==============================] - 0s 2ms/step - loss: 9.0364e-04\n",
      "7/7 [==============================] - 0s 2ms/step - loss: 8.1007e-04\n",
      "Generation - 13\n",
      "7/7 [==============================] - 0s 2ms/step - loss: 8.0611e-04\n",
      "7/7 [==============================] - 0s 2ms/step - loss: 8.3066e-04\n",
      "Generation - 14\n",
      "7/7 [==============================] - 0s 2ms/step - loss: 9.4337e-04\n",
      "7/7 [==============================] - 0s 2ms/step - loss: 8.4166e-04\n",
      "Generation - 15\n",
      "7/7 [==============================] - 0s 2ms/step - loss: 8.1826e-04\n",
      "7/7 [==============================] - 0s 2ms/step - loss: 8.4730e-04\n",
      "Generation - 16\n",
      "7/7 [==============================] - 0s 2ms/step - loss: 8.0421e-04\n",
      "7/7 [==============================] - 0s 2ms/step - loss: 8.3406e-04\n",
      "Generation - 17\n",
      "7/7 [==============================] - 0s 3ms/step - loss: 7.9088e-04\n",
      "7/7 [==============================] - 0s 2ms/step - loss: 8.4148e-04\n",
      "Generation - 18\n",
      "7/7 [==============================] - 0s 2ms/step - loss: 8.1174e-04\n",
      "7/7 [==============================] - 0s 2ms/step - loss: 8.1464e-04\n",
      "Generation - 19\n",
      "7/7 [==============================] - 0s 3ms/step - loss: 7.8631e-04\n",
      "7/7 [==============================] - 0s 4ms/step - loss: 8.5842e-04\n",
      "Generation - 20\n",
      "7/7 [==============================] - 0s 2ms/step - loss: 8.3726e-04\n",
      "7/7 [==============================] - 0s 2ms/step - loss: 9.7798e-04\n",
      "Generation - 21\n",
      "7/7 [==============================] - 0s 3ms/step - loss: 8.7180e-04\n",
      "7/7 [==============================] - 0s 2ms/step - loss: 8.4396e-04\n",
      "Generation - 22\n",
      "7/7 [==============================] - 0s 2ms/step - loss: 0.0010\n",
      "7/7 [==============================] - 0s 3ms/step - loss: 7.8992e-04\n",
      "Generation - 23\n",
      "7/7 [==============================] - 0s 2ms/step - loss: 8.1804e-04\n",
      "7/7 [==============================] - 0s 3ms/step - loss: 9.0517e-04\n",
      "Generation - 24\n",
      "7/7 [==============================] - 0s 2ms/step - loss: 8.1929e-04\n",
      "7/7 [==============================] - 0s 2ms/step - loss: 9.1467e-04\n",
      "Generation - 25\n",
      "7/7 [==============================] - 0s 2ms/step - loss: 8.4461e-04\n",
      "7/7 [==============================] - 0s 3ms/step - loss: 8.1047e-04\n",
      "Generation - 26\n",
      "7/7 [==============================] - 0s 3ms/step - loss: 9.8320e-04\n",
      "7/7 [==============================] - 0s 2ms/step - loss: 7.8807e-04\n",
      "Generation - 27\n",
      "7/7 [==============================] - 0s 2ms/step - loss: 8.5576e-04\n",
      "7/7 [==============================] - 0s 2ms/step - loss: 8.2434e-04\n",
      "Generation - 28\n",
      "7/7 [==============================] - 0s 2ms/step - loss: 0.0010\n",
      "7/7 [==============================] - 0s 3ms/step - loss: 7.7672e-04\n",
      "Generation - 29\n",
      "7/7 [==============================] - 0s 2ms/step - loss: 8.7718e-04\n",
      "7/7 [==============================] - 0s 3ms/step - loss: 8.1620e-04\n",
      "Generation - 30\n",
      "7/7 [==============================] - 0s 2ms/step - loss: 8.1130e-04\n",
      "7/7 [==============================] - 0s 2ms/step - loss: 9.5804e-04\n",
      "Generation - 31\n",
      "7/7 [==============================] - 0s 3ms/step - loss: 9.6859e-04\n",
      "7/7 [==============================] - 0s 2ms/step - loss: 8.3565e-04\n",
      "Generation - 32\n",
      "7/7 [==============================] - 0s 3ms/step - loss: 8.8866e-04\n",
      "7/7 [==============================] - 0s 2ms/step - loss: 8.2163e-04\n",
      "Generation - 33\n",
      "7/7 [==============================] - 0s 3ms/step - loss: 8.0839e-04\n",
      "7/7 [==============================] - 0s 2ms/step - loss: 9.0698e-04\n",
      "Generation - 34\n",
      "7/7 [==============================] - 0s 3ms/step - loss: 9.9780e-04\n",
      "7/7 [==============================] - 0s 2ms/step - loss: 8.4521e-04\n",
      "Generation - 35\n",
      "7/7 [==============================] - 0s 3ms/step - loss: 8.2224e-04\n",
      "7/7 [==============================] - 0s 3ms/step - loss: 8.0657e-04\n",
      "Generation - 36\n",
      "7/7 [==============================] - 0s 3ms/step - loss: 8.2107e-04\n",
      "7/7 [==============================] - 0s 3ms/step - loss: 8.0445e-04\n",
      "Generation - 37\n",
      "7/7 [==============================] - 0s 2ms/step - loss: 7.8248e-04\n",
      "7/7 [==============================] - 0s 2ms/step - loss: 8.2309e-04\n",
      "Generation - 38\n",
      "7/7 [==============================] - 0s 2ms/step - loss: 8.0030e-04\n",
      "7/7 [==============================] - 0s 3ms/step - loss: 7.9990e-04\n",
      "Generation - 39\n",
      "7/7 [==============================] - 0s 2ms/step - loss: 9.2110e-04\n",
      "7/7 [==============================] - 0s 3ms/step - loss: 8.6610e-04\n",
      "Generation - 40\n",
      "7/7 [==============================] - 0s 3ms/step - loss: 8.0094e-04\n",
      "7/7 [==============================] - 0s 2ms/step - loss: 7.8741e-04\n",
      "Generation - 41\n",
      "7/7 [==============================] - 0s 2ms/step - loss: 8.4958e-04\n",
      "7/7 [==============================] - 0s 2ms/step - loss: 7.8281e-04\n",
      "Generation - 42\n",
      "7/7 [==============================] - 0s 3ms/step - loss: 8.0580e-04\n",
      "7/7 [==============================] - 0s 3ms/step - loss: 8.0231e-04\n",
      "Generation - 43\n",
      "7/7 [==============================] - 0s 2ms/step - loss: 8.4293e-04\n",
      "7/7 [==============================] - 0s 3ms/step - loss: 8.1570e-04\n",
      "Generation - 44\n",
      "7/7 [==============================] - 0s 3ms/step - loss: 7.8686e-04\n",
      "7/7 [==============================] - 0s 3ms/step - loss: 8.5650e-04\n",
      "Generation - 45\n",
      "7/7 [==============================] - 0s 2ms/step - loss: 8.1586e-04\n",
      "7/7 [==============================] - 0s 2ms/step - loss: 8.1312e-04\n",
      "Generation - 46\n",
      "7/7 [==============================] - 0s 3ms/step - loss: 7.7530e-04\n",
      "7/7 [==============================] - 0s 2ms/step - loss: 7.6037e-04\n",
      "Generation - 47\n",
      "7/7 [==============================] - 0s 3ms/step - loss: 8.3632e-04\n",
      "7/7 [==============================] - 0s 2ms/step - loss: 8.0606e-04\n",
      "Generation - 48\n",
      "7/7 [==============================] - 0s 2ms/step - loss: 7.9725e-04\n",
      "7/7 [==============================] - 0s 2ms/step - loss: 8.2114e-04\n",
      "Generation - 49\n",
      "7/7 [==============================] - 0s 2ms/step - loss: 8.1980e-04\n",
      "7/7 [==============================] - 0s 2ms/step - loss: 7.9968e-04\n",
      "Generation - 50\n",
      "7/7 [==============================] - 0s 3ms/step - loss: 7.9766e-04\n",
      "7/7 [==============================] - 0s 3ms/step - loss: 7.6628e-04\n"
     ]
    }
   ],
   "source": [
    "# Do not increase this value\n",
    "generations = 50\n",
    "mutation_rate = 5\n",
    "\n",
    "time = timer(None)\n",
    "best_chromosome, best_fitness, max_fitness_each_gen = genetic_algorithm(generations, mutation_rate)\n",
    "time = timer(time)"
   ]
  },
  {
   "cell_type": "code",
   "execution_count": 12,
   "id": "8533b1c7",
   "metadata": {
    "execution": {
     "iopub.execute_input": "2024-02-06T01:51:19.639663Z",
     "iopub.status.busy": "2024-02-06T01:51:19.638919Z",
     "iopub.status.idle": "2024-02-06T01:51:19.643909Z",
     "shell.execute_reply": "2024-02-06T01:51:19.643106Z"
    },
    "papermill": {
     "duration": 0.035251,
     "end_time": "2024-02-06T01:51:19.645785",
     "exception": false,
     "start_time": "2024-02-06T01:51:19.610534",
     "status": "completed"
    },
    "tags": []
   },
   "outputs": [
    {
     "name": "stdout",
     "output_type": "stream",
     "text": [
      "Best Chromosome: [155 212 228]\n",
      "Best Fitness: -0.000760365161113441\n",
      "Time Taken: 0 hours 8 minutes and 43.94 seconds.\n"
     ]
    }
   ],
   "source": [
    "print(\"Best Chromosome:\", best_chromosome)\n",
    "print(\"Best Fitness:\", best_fitness)\n",
    "print(\"Time Taken:\", time)"
   ]
  },
  {
   "cell_type": "code",
   "execution_count": 13,
   "id": "957514ef",
   "metadata": {
    "execution": {
     "iopub.execute_input": "2024-02-06T01:51:19.700413Z",
     "iopub.status.busy": "2024-02-06T01:51:19.699840Z",
     "iopub.status.idle": "2024-02-06T01:51:19.705773Z",
     "shell.execute_reply": "2024-02-06T01:51:19.704962Z"
    },
    "papermill": {
     "duration": 0.035013,
     "end_time": "2024-02-06T01:51:19.707678",
     "exception": false,
     "start_time": "2024-02-06T01:51:19.672665",
     "status": "completed"
    },
    "tags": []
   },
   "outputs": [
    {
     "data": {
      "text/plain": [
       "[-0.0007686587050557137,\n",
       " -0.0007686587050557137,\n",
       " -0.0007686587050557137,\n",
       " -0.0007686587050557137,\n",
       " -0.0007686587050557137,\n",
       " -0.0007686587050557137,\n",
       " -0.0007686587050557137,\n",
       " -0.0007686587050557137,\n",
       " -0.0007686587050557137,\n",
       " -0.0007686587050557137,\n",
       " -0.0007686587050557137,\n",
       " -0.0007657496025785804,\n",
       " -0.0007657496025785804,\n",
       " -0.0007657496025785804,\n",
       " -0.0007657496025785804,\n",
       " -0.0007657496025785804,\n",
       " -0.0007657496025785804,\n",
       " -0.0007657496025785804,\n",
       " -0.0007657496025785804,\n",
       " -0.0007657496025785804,\n",
       " -0.0007657496025785804,\n",
       " -0.0007657496025785804,\n",
       " -0.0007657496025785804,\n",
       " -0.0007657496025785804,\n",
       " -0.0007657496025785804,\n",
       " -0.0007657496025785804,\n",
       " -0.0007657496025785804,\n",
       " -0.0007657496025785804,\n",
       " -0.0007657496025785804,\n",
       " -0.0007657496025785804,\n",
       " -0.0007657496025785804,\n",
       " -0.0007657496025785804,\n",
       " -0.0007657496025785804,\n",
       " -0.0007657496025785804,\n",
       " -0.0007657496025785804,\n",
       " -0.0007657496025785804,\n",
       " -0.0007657496025785804,\n",
       " -0.0007657496025785804,\n",
       " -0.0007657496025785804,\n",
       " -0.0007657496025785804,\n",
       " -0.0007657496025785804,\n",
       " -0.0007657496025785804,\n",
       " -0.0007657496025785804,\n",
       " -0.0007657496025785804,\n",
       " -0.0007657496025785804,\n",
       " -0.0007657496025785804,\n",
       " -0.000760365161113441,\n",
       " -0.000760365161113441,\n",
       " -0.000760365161113441,\n",
       " -0.000760365161113441]"
      ]
     },
     "execution_count": 13,
     "metadata": {},
     "output_type": "execute_result"
    }
   ],
   "source": [
    "max_fitness_each_gen"
   ]
  },
  {
   "cell_type": "markdown",
   "id": "54a7fe50",
   "metadata": {
    "papermill": {
     "duration": 0.026387,
     "end_time": "2024-02-06T01:51:19.760605",
     "exception": false,
     "start_time": "2024-02-06T01:51:19.734218",
     "status": "completed"
    },
    "tags": []
   },
   "source": [
    "## Re-Training Model with Best Parameter"
   ]
  },
  {
   "cell_type": "code",
   "execution_count": 14,
   "id": "f32a8eca",
   "metadata": {
    "execution": {
     "iopub.execute_input": "2024-02-06T01:51:19.814760Z",
     "iopub.status.busy": "2024-02-06T01:51:19.814514Z",
     "iopub.status.idle": "2024-02-06T01:51:20.086026Z",
     "shell.execute_reply": "2024-02-06T01:51:20.085130Z"
    },
    "papermill": {
     "duration": 0.301468,
     "end_time": "2024-02-06T01:51:20.088579",
     "exception": false,
     "start_time": "2024-02-06T01:51:19.787111",
     "status": "completed"
    },
    "tags": []
   },
   "outputs": [
    {
     "name": "stdout",
     "output_type": "stream",
     "text": [
      "Model: \"sequential_1\"\n",
      "_________________________________________________________________\n",
      " Layer (type)                Output Shape              Param #   \n",
      "=================================================================\n",
      " lstm_1 (LSTM)               (None, 155)               97340     \n",
      "                                                                 \n",
      " dense_1 (Dense)             (None, 1)                 156       \n",
      "                                                                 \n",
      "=================================================================\n",
      "Total params: 97,496\n",
      "Trainable params: 97,496\n",
      "Non-trainable params: 0\n",
      "_________________________________________________________________\n"
     ]
    }
   ],
   "source": [
    "model = Sequential()\n",
    "for i, units in enumerate(best_chromosome[:LSTM_Layer]):\n",
    "    model.add(LSTM(units, return_sequences=(i < LSTM_Layer - 1), input_shape=(WINDOW_SIZE, 1)))\n",
    "model.add(Dense(1))\n",
    "\n",
    "model.summary()"
   ]
  },
  {
   "cell_type": "code",
   "execution_count": 15,
   "id": "b909047f",
   "metadata": {
    "execution": {
     "iopub.execute_input": "2024-02-06T01:51:20.147664Z",
     "iopub.status.busy": "2024-02-06T01:51:20.146786Z",
     "iopub.status.idle": "2024-02-06T01:51:34.237639Z",
     "shell.execute_reply": "2024-02-06T01:51:34.236652Z"
    },
    "papermill": {
     "duration": 14.123267,
     "end_time": "2024-02-06T01:51:34.239856",
     "exception": false,
     "start_time": "2024-02-06T01:51:20.116589",
     "status": "completed"
    },
    "tags": []
   },
   "outputs": [
    {
     "name": "stdout",
     "output_type": "stream",
     "text": [
      "Epoch 1/50\n",
      "50/50 [==============================] - 3s 13ms/step - loss: 0.0279 - mae: 0.1071 - root_mean_squared_error: 0.1670 - val_loss: 0.0055 - val_mae: 0.0656 - val_root_mean_squared_error: 0.0741\n",
      "Epoch 2/50\n",
      "50/50 [==============================] - 0s 5ms/step - loss: 0.0018 - mae: 0.0311 - root_mean_squared_error: 0.0423 - val_loss: 0.0025 - val_mae: 0.0406 - val_root_mean_squared_error: 0.0497\n",
      "Epoch 3/50\n",
      "50/50 [==============================] - 0s 5ms/step - loss: 0.0013 - mae: 0.0247 - root_mean_squared_error: 0.0367 - val_loss: 0.0019 - val_mae: 0.0343 - val_root_mean_squared_error: 0.0441\n",
      "Epoch 4/50\n",
      "50/50 [==============================] - 0s 5ms/step - loss: 0.0013 - mae: 0.0244 - root_mean_squared_error: 0.0365 - val_loss: 0.0018 - val_mae: 0.0320 - val_root_mean_squared_error: 0.0423\n",
      "Epoch 5/50\n",
      "50/50 [==============================] - 0s 5ms/step - loss: 0.0013 - mae: 0.0240 - root_mean_squared_error: 0.0363 - val_loss: 0.0018 - val_mae: 0.0316 - val_root_mean_squared_error: 0.0419\n",
      "Epoch 6/50\n",
      "50/50 [==============================] - 0s 5ms/step - loss: 0.0013 - mae: 0.0238 - root_mean_squared_error: 0.0362 - val_loss: 0.0018 - val_mae: 0.0326 - val_root_mean_squared_error: 0.0426\n",
      "Epoch 7/50\n",
      "50/50 [==============================] - 0s 5ms/step - loss: 0.0013 - mae: 0.0242 - root_mean_squared_error: 0.0364 - val_loss: 0.0018 - val_mae: 0.0325 - val_root_mean_squared_error: 0.0425\n",
      "Epoch 8/50\n",
      "50/50 [==============================] - 0s 5ms/step - loss: 0.0013 - mae: 0.0238 - root_mean_squared_error: 0.0362 - val_loss: 0.0018 - val_mae: 0.0317 - val_root_mean_squared_error: 0.0419\n",
      "Epoch 9/50\n",
      "50/50 [==============================] - 0s 5ms/step - loss: 0.0013 - mae: 0.0241 - root_mean_squared_error: 0.0363 - val_loss: 0.0017 - val_mae: 0.0316 - val_root_mean_squared_error: 0.0417\n",
      "Epoch 10/50\n",
      "50/50 [==============================] - 0s 5ms/step - loss: 0.0013 - mae: 0.0239 - root_mean_squared_error: 0.0362 - val_loss: 0.0017 - val_mae: 0.0301 - val_root_mean_squared_error: 0.0407\n",
      "Epoch 11/50\n",
      "50/50 [==============================] - 0s 5ms/step - loss: 0.0013 - mae: 0.0238 - root_mean_squared_error: 0.0360 - val_loss: 0.0017 - val_mae: 0.0313 - val_root_mean_squared_error: 0.0414\n",
      "Epoch 12/50\n",
      "50/50 [==============================] - 0s 4ms/step - loss: 0.0013 - mae: 0.0237 - root_mean_squared_error: 0.0359 - val_loss: 0.0017 - val_mae: 0.0316 - val_root_mean_squared_error: 0.0415\n",
      "Epoch 13/50\n",
      "50/50 [==============================] - 0s 5ms/step - loss: 0.0013 - mae: 0.0238 - root_mean_squared_error: 0.0361 - val_loss: 0.0018 - val_mae: 0.0320 - val_root_mean_squared_error: 0.0418\n",
      "Epoch 14/50\n",
      "50/50 [==============================] - 0s 4ms/step - loss: 0.0013 - mae: 0.0236 - root_mean_squared_error: 0.0358 - val_loss: 0.0016 - val_mae: 0.0298 - val_root_mean_squared_error: 0.0403\n",
      "Epoch 15/50\n",
      "50/50 [==============================] - 0s 4ms/step - loss: 0.0013 - mae: 0.0234 - root_mean_squared_error: 0.0355 - val_loss: 0.0017 - val_mae: 0.0316 - val_root_mean_squared_error: 0.0413\n",
      "Epoch 16/50\n",
      "50/50 [==============================] - 0s 5ms/step - loss: 0.0013 - mae: 0.0234 - root_mean_squared_error: 0.0357 - val_loss: 0.0016 - val_mae: 0.0304 - val_root_mean_squared_error: 0.0405\n",
      "Epoch 17/50\n",
      "50/50 [==============================] - 0s 5ms/step - loss: 0.0012 - mae: 0.0228 - root_mean_squared_error: 0.0351 - val_loss: 0.0016 - val_mae: 0.0300 - val_root_mean_squared_error: 0.0402\n",
      "Epoch 18/50\n",
      "50/50 [==============================] - 0s 5ms/step - loss: 0.0013 - mae: 0.0236 - root_mean_squared_error: 0.0358 - val_loss: 0.0018 - val_mae: 0.0326 - val_root_mean_squared_error: 0.0420\n",
      "Epoch 19/50\n",
      "50/50 [==============================] - 0s 5ms/step - loss: 0.0012 - mae: 0.0233 - root_mean_squared_error: 0.0354 - val_loss: 0.0016 - val_mae: 0.0287 - val_root_mean_squared_error: 0.0395\n",
      "Epoch 20/50\n",
      "50/50 [==============================] - 0s 5ms/step - loss: 0.0013 - mae: 0.0237 - root_mean_squared_error: 0.0357 - val_loss: 0.0016 - val_mae: 0.0285 - val_root_mean_squared_error: 0.0395\n",
      "Epoch 21/50\n",
      "50/50 [==============================] - 0s 5ms/step - loss: 0.0013 - mae: 0.0239 - root_mean_squared_error: 0.0359 - val_loss: 0.0016 - val_mae: 0.0304 - val_root_mean_squared_error: 0.0401\n",
      "Epoch 22/50\n",
      "50/50 [==============================] - 0s 5ms/step - loss: 0.0012 - mae: 0.0225 - root_mean_squared_error: 0.0348 - val_loss: 0.0016 - val_mae: 0.0301 - val_root_mean_squared_error: 0.0399\n",
      "Epoch 23/50\n",
      "50/50 [==============================] - 0s 5ms/step - loss: 0.0012 - mae: 0.0227 - root_mean_squared_error: 0.0347 - val_loss: 0.0016 - val_mae: 0.0307 - val_root_mean_squared_error: 0.0403\n",
      "Epoch 24/50\n",
      "50/50 [==============================] - 0s 5ms/step - loss: 0.0012 - mae: 0.0223 - root_mean_squared_error: 0.0345 - val_loss: 0.0015 - val_mae: 0.0280 - val_root_mean_squared_error: 0.0389\n",
      "Epoch 25/50\n",
      "50/50 [==============================] - 0s 5ms/step - loss: 0.0012 - mae: 0.0225 - root_mean_squared_error: 0.0347 - val_loss: 0.0015 - val_mae: 0.0287 - val_root_mean_squared_error: 0.0389\n",
      "Epoch 26/50\n",
      "50/50 [==============================] - 0s 5ms/step - loss: 0.0012 - mae: 0.0218 - root_mean_squared_error: 0.0339 - val_loss: 0.0015 - val_mae: 0.0285 - val_root_mean_squared_error: 0.0388\n",
      "Epoch 27/50\n",
      "50/50 [==============================] - 0s 5ms/step - loss: 0.0012 - mae: 0.0225 - root_mean_squared_error: 0.0345 - val_loss: 0.0015 - val_mae: 0.0295 - val_root_mean_squared_error: 0.0392\n",
      "Epoch 28/50\n",
      "50/50 [==============================] - 0s 5ms/step - loss: 0.0012 - mae: 0.0222 - root_mean_squared_error: 0.0346 - val_loss: 0.0015 - val_mae: 0.0281 - val_root_mean_squared_error: 0.0385\n",
      "Epoch 29/50\n",
      "50/50 [==============================] - 0s 4ms/step - loss: 0.0011 - mae: 0.0212 - root_mean_squared_error: 0.0337 - val_loss: 0.0015 - val_mae: 0.0293 - val_root_mean_squared_error: 0.0390\n",
      "Epoch 30/50\n",
      "50/50 [==============================] - 0s 5ms/step - loss: 0.0012 - mae: 0.0231 - root_mean_squared_error: 0.0349 - val_loss: 0.0015 - val_mae: 0.0298 - val_root_mean_squared_error: 0.0393\n",
      "Epoch 31/50\n",
      "50/50 [==============================] - 0s 5ms/step - loss: 0.0012 - mae: 0.0219 - root_mean_squared_error: 0.0341 - val_loss: 0.0016 - val_mae: 0.0308 - val_root_mean_squared_error: 0.0400\n",
      "Epoch 32/50\n",
      "50/50 [==============================] - 0s 5ms/step - loss: 0.0012 - mae: 0.0221 - root_mean_squared_error: 0.0343 - val_loss: 0.0015 - val_mae: 0.0280 - val_root_mean_squared_error: 0.0382\n",
      "Epoch 33/50\n",
      "50/50 [==============================] - 0s 4ms/step - loss: 0.0012 - mae: 0.0225 - root_mean_squared_error: 0.0345 - val_loss: 0.0014 - val_mae: 0.0271 - val_root_mean_squared_error: 0.0379\n",
      "Epoch 34/50\n",
      "50/50 [==============================] - 0s 5ms/step - loss: 0.0012 - mae: 0.0230 - root_mean_squared_error: 0.0350 - val_loss: 0.0014 - val_mae: 0.0277 - val_root_mean_squared_error: 0.0379\n",
      "Epoch 35/50\n",
      "50/50 [==============================] - 0s 5ms/step - loss: 0.0012 - mae: 0.0216 - root_mean_squared_error: 0.0341 - val_loss: 0.0014 - val_mae: 0.0270 - val_root_mean_squared_error: 0.0377\n",
      "Epoch 36/50\n",
      "50/50 [==============================] - 0s 5ms/step - loss: 0.0011 - mae: 0.0209 - root_mean_squared_error: 0.0330 - val_loss: 0.0014 - val_mae: 0.0274 - val_root_mean_squared_error: 0.0377\n",
      "Epoch 37/50\n",
      "50/50 [==============================] - 0s 5ms/step - loss: 0.0011 - mae: 0.0208 - root_mean_squared_error: 0.0332 - val_loss: 0.0014 - val_mae: 0.0268 - val_root_mean_squared_error: 0.0375\n",
      "Epoch 38/50\n",
      "50/50 [==============================] - 0s 5ms/step - loss: 0.0011 - mae: 0.0210 - root_mean_squared_error: 0.0335 - val_loss: 0.0014 - val_mae: 0.0267 - val_root_mean_squared_error: 0.0375\n",
      "Epoch 39/50\n",
      "50/50 [==============================] - 0s 5ms/step - loss: 0.0011 - mae: 0.0210 - root_mean_squared_error: 0.0332 - val_loss: 0.0014 - val_mae: 0.0279 - val_root_mean_squared_error: 0.0379\n",
      "Epoch 40/50\n",
      "50/50 [==============================] - 0s 5ms/step - loss: 0.0011 - mae: 0.0215 - root_mean_squared_error: 0.0338 - val_loss: 0.0014 - val_mae: 0.0282 - val_root_mean_squared_error: 0.0380\n",
      "Epoch 41/50\n",
      "50/50 [==============================] - 0s 5ms/step - loss: 0.0011 - mae: 0.0215 - root_mean_squared_error: 0.0337 - val_loss: 0.0014 - val_mae: 0.0277 - val_root_mean_squared_error: 0.0377\n",
      "Epoch 42/50\n",
      "50/50 [==============================] - 0s 5ms/step - loss: 0.0011 - mae: 0.0211 - root_mean_squared_error: 0.0335 - val_loss: 0.0014 - val_mae: 0.0280 - val_root_mean_squared_error: 0.0378\n",
      "Epoch 43/50\n",
      "50/50 [==============================] - 0s 5ms/step - loss: 0.0012 - mae: 0.0222 - root_mean_squared_error: 0.0346 - val_loss: 0.0014 - val_mae: 0.0277 - val_root_mean_squared_error: 0.0377\n",
      "Epoch 44/50\n",
      "50/50 [==============================] - 0s 5ms/step - loss: 0.0011 - mae: 0.0214 - root_mean_squared_error: 0.0337 - val_loss: 0.0014 - val_mae: 0.0261 - val_root_mean_squared_error: 0.0375\n",
      "Epoch 45/50\n",
      "50/50 [==============================] - 0s 5ms/step - loss: 0.0011 - mae: 0.0203 - root_mean_squared_error: 0.0329 - val_loss: 0.0014 - val_mae: 0.0263 - val_root_mean_squared_error: 0.0371\n",
      "Epoch 46/50\n",
      "50/50 [==============================] - 0s 5ms/step - loss: 0.0011 - mae: 0.0205 - root_mean_squared_error: 0.0330 - val_loss: 0.0014 - val_mae: 0.0270 - val_root_mean_squared_error: 0.0372\n",
      "Epoch 47/50\n",
      "50/50 [==============================] - 0s 5ms/step - loss: 0.0011 - mae: 0.0205 - root_mean_squared_error: 0.0331 - val_loss: 0.0014 - val_mae: 0.0258 - val_root_mean_squared_error: 0.0372\n",
      "Epoch 48/50\n",
      "50/50 [==============================] - 0s 5ms/step - loss: 0.0011 - mae: 0.0214 - root_mean_squared_error: 0.0337 - val_loss: 0.0014 - val_mae: 0.0257 - val_root_mean_squared_error: 0.0373\n",
      "Epoch 49/50\n",
      "50/50 [==============================] - 0s 5ms/step - loss: 0.0011 - mae: 0.0200 - root_mean_squared_error: 0.0327 - val_loss: 0.0014 - val_mae: 0.0257 - val_root_mean_squared_error: 0.0370\n",
      "Epoch 50/50\n",
      "50/50 [==============================] - 0s 5ms/step - loss: 0.0011 - mae: 0.0206 - root_mean_squared_error: 0.0332 - val_loss: 0.0014 - val_mae: 0.0283 - val_root_mean_squared_error: 0.0380\n"
     ]
    }
   ],
   "source": [
    "model.compile(loss='mean_squared_error',\n",
    "              metrics=['mae', RootMeanSquaredError()],\n",
    "              optimizer='adam')\n",
    "\n",
    "history = model.fit(X_train,\n",
    "                    y_train,\n",
    "                    epochs=50,\n",
    "                    batch_size=32,\n",
    "                    validation_split=0.1)"
   ]
  },
  {
   "cell_type": "code",
   "execution_count": 16,
   "id": "3af26d71",
   "metadata": {
    "execution": {
     "iopub.execute_input": "2024-02-06T01:51:34.340374Z",
     "iopub.status.busy": "2024-02-06T01:51:34.340081Z",
     "iopub.status.idle": "2024-02-06T01:51:34.425811Z",
     "shell.execute_reply": "2024-02-06T01:51:34.424946Z"
    },
    "papermill": {
     "duration": 0.137894,
     "end_time": "2024-02-06T01:51:34.427609",
     "exception": false,
     "start_time": "2024-02-06T01:51:34.289715",
     "status": "completed"
    },
    "tags": []
   },
   "outputs": [
    {
     "name": "stdout",
     "output_type": "stream",
     "text": [
      "7/7 [==============================] - 0s 3ms/step - loss: 7.0695e-04 - mae: 0.0189 - root_mean_squared_error: 0.0266\n"
     ]
    },
    {
     "data": {
      "text/plain": [
       "[0.0007069468847475946, 0.018899692222476006, 0.026588473469018936]"
      ]
     },
     "execution_count": 16,
     "metadata": {},
     "output_type": "execute_result"
    }
   ],
   "source": [
    "model.evaluate(X_test, y_test)"
   ]
  },
  {
   "cell_type": "markdown",
   "id": "303d74c7",
   "metadata": {
    "papermill": {
     "duration": 0.058052,
     "end_time": "2024-02-06T01:51:34.541646",
     "exception": false,
     "start_time": "2024-02-06T01:51:34.483594",
     "status": "completed"
    },
    "tags": []
   },
   "source": [
    "## Model Evaluation"
   ]
  },
  {
   "cell_type": "code",
   "execution_count": 17,
   "id": "740377ee",
   "metadata": {
    "execution": {
     "iopub.execute_input": "2024-02-06T01:51:34.659457Z",
     "iopub.status.busy": "2024-02-06T01:51:34.658738Z",
     "iopub.status.idle": "2024-02-06T01:51:34.966917Z",
     "shell.execute_reply": "2024-02-06T01:51:34.966001Z"
    },
    "papermill": {
     "duration": 0.368851,
     "end_time": "2024-02-06T01:51:34.968936",
     "exception": false,
     "start_time": "2024-02-06T01:51:34.600085",
     "status": "completed"
    },
    "tags": []
   },
   "outputs": [
    {
     "data": {
      "image/png": "[encoded data removed]",
      "text/plain": [
       "<Figure size 640x480 with 1 Axes>"
      ]
     },
     "metadata": {},
     "output_type": "display_data"
    }
   ],
   "source": [
    "plt.plot(history.history['loss'])\n",
    "plt.plot(history.history['val_loss'])\n",
    "plt.title(f'{SHEET_NAME} Model Loss', fontsize=15)\n",
    "plt.ylabel('loss')\n",
    "plt.xlabel('epoch')\n",
    "plt.legend(['train', 'test'])\n",
    "plt.show()"
   ]
  },
  {
   "cell_type": "code",
   "execution_count": 18,
   "id": "16a36bed",
   "metadata": {
    "execution": {
     "iopub.execute_input": "2024-02-06T01:51:35.072388Z",
     "iopub.status.busy": "2024-02-06T01:51:35.072087Z",
     "iopub.status.idle": "2024-02-06T01:51:35.518707Z",
     "shell.execute_reply": "2024-02-06T01:51:35.517904Z"
    },
    "papermill": {
     "duration": 0.499994,
     "end_time": "2024-02-06T01:51:35.520664",
     "exception": false,
     "start_time": "2024-02-06T01:51:35.020670",
     "status": "completed"
    },
    "tags": []
   },
   "outputs": [
    {
     "name": "stdout",
     "output_type": "stream",
     "text": [
      "7/7 [==============================] - 0s 2ms/step\n"
     ]
    }
   ],
   "source": [
    "y_hat = model.predict(X_test)\n",
    "y_test_inverse = scaler.inverse_transform(y_test)\n",
    "y_hat_inverse = scaler.inverse_transform(y_hat)"
   ]
  },
  {
   "cell_type": "code",
   "execution_count": 19,
   "id": "b52e241f",
   "metadata": {
    "execution": {
     "iopub.execute_input": "2024-02-06T01:51:35.623746Z",
     "iopub.status.busy": "2024-02-06T01:51:35.623118Z",
     "iopub.status.idle": "2024-02-06T01:51:35.949600Z",
     "shell.execute_reply": "2024-02-06T01:51:35.948678Z"
    },
    "papermill": {
     "duration": 0.380263,
     "end_time": "2024-02-06T01:51:35.951705",
     "exception": false,
     "start_time": "2024-02-06T01:51:35.571442",
     "status": "completed"
    },
    "tags": []
   },
   "outputs": [
    {
     "data": {
      "image/png": "[encoded data removed]",
      "text/plain": [
       "<Figure size 640x480 with 1 Axes>"
      ]
     },
     "metadata": {},
     "output_type": "display_data"
    }
   ],
   "source": [
    "plt.plot(y_test_inverse, label=\"Actual Price\", color='green')\n",
    "plt.plot(y_hat_inverse, label=\"Predicted Price\", color='red')\n",
    " \n",
    "plt.title(f'{SHEET_NAME} Price Prediction\\nLSTM = {LSTM_Layer}, Split Data = {SPLIT}, Window = {WINDOW_SIZE}', fontsize=15)\n",
    "plt.xlabel('Time [days]')\n",
    "plt.ylabel('Price')\n",
    "plt.legend(loc='best')\n",
    " \n",
    "plt.show()"
   ]
  },
  {
   "cell_type": "code",
   "execution_count": 20,
   "id": "cc7b94ce",
   "metadata": {
    "execution": {
     "iopub.execute_input": "2024-02-06T01:51:36.055943Z",
     "iopub.status.busy": "2024-02-06T01:51:36.055626Z",
     "iopub.status.idle": "2024-02-06T01:51:36.064570Z",
     "shell.execute_reply": "2024-02-06T01:51:36.063641Z"
    },
    "papermill": {
     "duration": 0.062557,
     "end_time": "2024-02-06T01:51:36.066427",
     "exception": false,
     "start_time": "2024-02-06T01:51:36.003870",
     "status": "completed"
    },
    "tags": []
   },
   "outputs": [
    {
     "name": "stdout",
     "output_type": "stream",
     "text": [
      "LSTM = 1, Split Data = 0.9, Window = 5\n",
      "\n",
      "----------------- Normalized Error -----------------\n",
      "Mean Absolute Error for prediction : 0.018899692409045262\n",
      "Mean Squared Error for prediction : 0.0007069469495284498\n",
      "Root Mean Squared Error for prediction : 0.02658847399773913\n",
      "\n",
      "----------------- Actual Error -----------------\n",
      "Mean Absolute Error for prediction : 71.51638711332087\n",
      "Mean Squared Error for prediction : 10122.534048995414\n",
      "Root Mean Squared Error for prediction : 100.61080483226151\n"
     ]
    }
   ],
   "source": [
    "def matrices(actual, predicted):\n",
    "    mse = mean_squared_error(actual, predicted)\n",
    "    mae = mean_absolute_error(actual, predicted)\n",
    "    rmse = np.sqrt(mse)\n",
    "    print(\"Mean Absolute Error for prediction :\", mae)\n",
    "    print(\"Mean Squared Error for prediction :\", mse)\n",
    "    print(\"Root Mean Squared Error for prediction :\", rmse)\n",
    "    return mae, mse, rmse\n",
    "\n",
    "print(f\"LSTM = {LSTM_Layer}, Split Data = {SPLIT}, Window = {WINDOW_SIZE}\")\n",
    "print(\"\\n----------------- Normalized Error -----------------\")\n",
    "mae, mse, rmse = matrices(y_test, y_hat)\n",
    "print(\"\\n----------------- Actual Error -----------------\")\n",
    "mae_inverse, mse_inverse, rmse_inverse = matrices(y_test_inverse, y_hat_inverse)"
   ]
  }
 ],
 "metadata": {
  "kaggle": {
   "accelerator": "gpu",
   "dataSources": [],
   "dockerImageVersionId": 30498,
   "isGpuEnabled": true,
   "isInternetEnabled": true,
   "language": "python",
   "sourceType": "notebook"
  },
  "kernelspec": {
   "display_name": "Python 3",
   "language": "python",
   "name": "python3"
  },
  "language_info": {
   "codemirror_mode": {
    "name": "ipython",
    "version": 3
   },
   "file_extension": ".py",
   "mimetype": "text/x-python",
   "name": "python",
   "nbconvert_exporter": "python",
   "pygments_lexer": "ipython3",
   "version": "3.10.10"
  },
  "papermill": {
   "default_parameters": {},
   "duration": 564.942288,
   "end_time": "2024-02-06T01:51:39.612230",
   "environment_variables": {},
   "exception": null,
   "input_path": "__notebook__.ipynb",
   "output_path": "__notebook__.ipynb",
   "parameters": {},
   "start_time": "2024-02-06T01:42:14.669942",
   "version": "2.4.0"
  }
 },
 "nbformat": 4,
 "nbformat_minor": 5
}
