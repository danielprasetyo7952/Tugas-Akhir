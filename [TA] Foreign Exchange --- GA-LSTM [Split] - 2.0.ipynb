{
 "cells": [
  {
   "cell_type": "code",
   "execution_count": 1,
   "id": "15bf7a1e",
   "metadata": {
    "execution": {
     "iopub.execute_input": "2024-02-05T16:13:54.190569Z",
     "iopub.status.busy": "2024-02-05T16:13:54.190251Z",
     "iopub.status.idle": "2024-02-05T16:14:02.984197Z",
     "shell.execute_reply": "2024-02-05T16:14:02.983397Z"
    },
    "papermill": {
     "duration": 8.804509,
     "end_time": "2024-02-05T16:14:02.986571",
     "exception": false,
     "start_time": "2024-02-05T16:13:54.182062",
     "status": "completed"
    },
    "tags": []
   },
   "outputs": [
    {
     "name": "stderr",
     "output_type": "stream",
     "text": [
      "/opt/conda/lib/python3.10/site-packages/tensorflow_io/python/ops/__init__.py:98: UserWarning: unable to load libtensorflow_io_plugins.so: unable to open file: libtensorflow_io_plugins.so, from paths: ['/opt/conda/lib/python3.10/site-packages/tensorflow_io/python/ops/libtensorflow_io_plugins.so']\n",
      "caused by: ['/opt/conda/lib/python3.10/site-packages/tensorflow_io/python/ops/libtensorflow_io_plugins.so: undefined symbol: _ZN3tsl6StatusC1EN10tensorflow5error4CodeESt17basic_string_viewIcSt11char_traitsIcEENS_14SourceLocationE']\n",
      "  warnings.warn(f\"unable to load libtensorflow_io_plugins.so: {e}\")\n",
      "/opt/conda/lib/python3.10/site-packages/tensorflow_io/python/ops/__init__.py:104: UserWarning: file system plugins are not loaded: unable to open file: libtensorflow_io.so, from paths: ['/opt/conda/lib/python3.10/site-packages/tensorflow_io/python/ops/libtensorflow_io.so']\n",
      "caused by: ['/opt/conda/lib/python3.10/site-packages/tensorflow_io/python/ops/libtensorflow_io.so: undefined symbol: _ZTVN10tensorflow13GcsFileSystemE']\n",
      "  warnings.warn(f\"file system plugins are not loaded: {e}\")\n"
     ]
    }
   ],
   "source": [
    "import pandas as pd\n",
    "import numpy as np\n",
    "import tensorflow as tf\n",
    "import matplotlib.pyplot as plt\n",
    "import datetime, pytz\n",
    "\n",
    "from keras.models import Sequential\n",
    "from keras.layers import LSTM, Dense\n",
    "from keras.metrics import RootMeanSquaredError\n",
    "\n",
    "from sklearn.preprocessing import MinMaxScaler\n",
    "from sklearn.metrics import mean_squared_error, mean_absolute_error"
   ]
  },
  {
   "cell_type": "markdown",
   "id": "4fca4284",
   "metadata": {
    "papermill": {
     "duration": 0.006501,
     "end_time": "2024-02-05T16:14:03.000105",
     "exception": false,
     "start_time": "2024-02-05T16:14:02.993604",
     "status": "completed"
    },
    "tags": []
   },
   "source": [
    "## Hyperparameter"
   ]
  },
  {
   "cell_type": "code",
   "execution_count": 2,
   "id": "8048ea41",
   "metadata": {
    "execution": {
     "iopub.execute_input": "2024-02-05T16:14:03.015320Z",
     "iopub.status.busy": "2024-02-05T16:14:03.014414Z",
     "iopub.status.idle": "2024-02-05T16:14:03.019309Z",
     "shell.execute_reply": "2024-02-05T16:14:03.018501Z"
    },
    "papermill": {
     "duration": 0.014424,
     "end_time": "2024-02-05T16:14:03.021145",
     "exception": false,
     "start_time": "2024-02-05T16:14:03.006721",
     "status": "completed"
    },
    "tags": []
   },
   "outputs": [],
   "source": [
    "# Google Spreadsheet ID\n",
    "SHEET_ID = '1JDNv_mArl-GPIpxuWS5GxgVEwvjXocS1MrXGc6TYs8M'\n",
    "SHEET_NAME = 'USD/IDR' # USD/IDR, EUR/IDR, SGD/IDR\n",
    "\n",
    "SEQ_LEN = 6 # 6, 11, 21\n",
    "SPLIT = 0.80 # 0.80, 0.90\n",
    "LSTM_Layer = 1 # 1, 2, 3\n",
    "WINDOW_SIZE = SEQ_LEN - 1"
   ]
  },
  {
   "cell_type": "code",
   "execution_count": 3,
   "id": "65d4bb6e",
   "metadata": {
    "execution": {
     "iopub.execute_input": "2024-02-05T16:14:03.035019Z",
     "iopub.status.busy": "2024-02-05T16:14:03.034734Z",
     "iopub.status.idle": "2024-02-05T16:14:03.388276Z",
     "shell.execute_reply": "2024-02-05T16:14:03.387285Z"
    },
    "papermill": {
     "duration": 0.362749,
     "end_time": "2024-02-05T16:14:03.390386",
     "exception": false,
     "start_time": "2024-02-05T16:14:03.027637",
     "status": "completed"
    },
    "tags": []
   },
   "outputs": [
    {
     "name": "stdout",
     "output_type": "stream",
     "text": [
      "<class 'pandas.core.frame.DataFrame'>\n",
      "RangeIndex: 1977 entries, 0 to 1976\n",
      "Data columns (total 2 columns):\n",
      " #   Column  Non-Null Count  Dtype         \n",
      "---  ------  --------------  -----         \n",
      " 0   Date    1977 non-null   datetime64[ns]\n",
      " 1   Close   1977 non-null   float64       \n",
      "dtypes: datetime64[ns](1), float64(1)\n",
      "memory usage: 31.0 KB\n"
     ]
    }
   ],
   "source": [
    "url = f'https://docs.google.com/spreadsheets/d/{SHEET_ID}/gviz/tq?tqx=out:csv&sheet={SHEET_NAME}'\n",
    "data = pd.read_csv(url)\n",
    "\n",
    "# Convert Date columns to datetime format\n",
    "data['Date'] = pd.to_datetime(data['Date'], format='%d/%m/%Y %H:%M:%S')\n",
    "data.info()"
   ]
  },
  {
   "cell_type": "markdown",
   "id": "3a397ca7",
   "metadata": {
    "papermill": {
     "duration": 0.006257,
     "end_time": "2024-02-05T16:14:03.403516",
     "exception": false,
     "start_time": "2024-02-05T16:14:03.397259",
     "status": "completed"
    },
    "tags": []
   },
   "source": [
    "## Preprocessing"
   ]
  },
  {
   "cell_type": "code",
   "execution_count": 4,
   "id": "8fb6096b",
   "metadata": {
    "execution": {
     "iopub.execute_input": "2024-02-05T16:14:03.418026Z",
     "iopub.status.busy": "2024-02-05T16:14:03.417694Z",
     "iopub.status.idle": "2024-02-05T16:14:03.429577Z",
     "shell.execute_reply": "2024-02-05T16:14:03.428614Z"
    },
    "papermill": {
     "duration": 0.02158,
     "end_time": "2024-02-05T16:14:03.431512",
     "exception": false,
     "start_time": "2024-02-05T16:14:03.409932",
     "status": "completed"
    },
    "tags": []
   },
   "outputs": [
    {
     "name": "stderr",
     "output_type": "stream",
     "text": [
      "/tmp/ipykernel_26/2274720815.py:7: SettingWithCopyWarning: \n",
      "A value is trying to be set on a copy of a slice from a DataFrame\n",
      "\n",
      "See the caveats in the documentation: https://pandas.pydata.org/pandas-docs/stable/user_guide/indexing.html#returning-a-view-versus-a-copy\n",
      "  data[data < lower_bound] = lower_bound\n",
      "/tmp/ipykernel_26/2274720815.py:8: SettingWithCopyWarning: \n",
      "A value is trying to be set on a copy of a slice from a DataFrame\n",
      "\n",
      "See the caveats in the documentation: https://pandas.pydata.org/pandas-docs/stable/user_guide/indexing.html#returning-a-view-versus-a-copy\n",
      "  data[data > upper_bound] = upper_bound\n"
     ]
    }
   ],
   "source": [
    "def replace_outliers(data):\n",
    "    Q1 = np.percentile(data, 25)\n",
    "    Q3 = np.percentile(data, 75)\n",
    "    IQR = Q3 - Q1\n",
    "    lower_bound = Q1 - 1.5 * IQR\n",
    "    upper_bound = Q3 + 1.5 * IQR\n",
    "    data[data < lower_bound] = lower_bound\n",
    "    data[data > upper_bound] = upper_bound\n",
    "    return data\n",
    "\n",
    "data['Close'] = replace_outliers(data['Close'])"
   ]
  },
  {
   "cell_type": "code",
   "execution_count": 5,
   "id": "7768e64a",
   "metadata": {
    "execution": {
     "iopub.execute_input": "2024-02-05T16:14:03.445837Z",
     "iopub.status.busy": "2024-02-05T16:14:03.445559Z",
     "iopub.status.idle": "2024-02-05T16:14:03.680304Z",
     "shell.execute_reply": "2024-02-05T16:14:03.679444Z"
    },
    "papermill": {
     "duration": 0.244332,
     "end_time": "2024-02-05T16:14:03.682527",
     "exception": false,
     "start_time": "2024-02-05T16:14:03.438195",
     "status": "completed"
    },
    "tags": []
   },
   "outputs": [
    {
     "data": {
      "image/png": "[encoded data removed]",
      "text/plain": [
       "<Figure size 640x480 with 1 Axes>"
      ]
     },
     "metadata": {},
     "output_type": "display_data"
    }
   ],
   "source": [
    "# Boxplot for outlier detection\n",
    "plt.boxplot(data['Close'])\n",
    "plt.title(f\"{SHEET_NAME} Boxplot for Outlier Detection\")\n",
    "plt.xlabel(\"Close\")\n",
    "plt.ylabel(\"Values\")\n",
    "plt.show()"
   ]
  },
  {
   "cell_type": "code",
   "execution_count": 6,
   "id": "225715c3",
   "metadata": {
    "execution": {
     "iopub.execute_input": "2024-02-05T16:14:03.698174Z",
     "iopub.status.busy": "2024-02-05T16:14:03.697656Z",
     "iopub.status.idle": "2024-02-05T16:14:03.705509Z",
     "shell.execute_reply": "2024-02-05T16:14:03.704719Z"
    },
    "papermill": {
     "duration": 0.017612,
     "end_time": "2024-02-05T16:14:03.707405",
     "exception": false,
     "start_time": "2024-02-05T16:14:03.689793",
     "status": "completed"
    },
    "tags": []
   },
   "outputs": [
    {
     "data": {
      "text/plain": [
       "(1977, 1)"
      ]
     },
     "execution_count": 6,
     "metadata": {},
     "output_type": "execute_result"
    }
   ],
   "source": [
    "scaler = MinMaxScaler()\n",
    "close_price = data.Close.values.reshape(-1, 1)\n",
    "scaled_close = scaler.fit_transform(close_price)\n",
    "scaled_close.shape"
   ]
  },
  {
   "cell_type": "code",
   "execution_count": 7,
   "id": "e26b2b30",
   "metadata": {
    "execution": {
     "iopub.execute_input": "2024-02-05T16:14:03.722993Z",
     "iopub.status.busy": "2024-02-05T16:14:03.722454Z",
     "iopub.status.idle": "2024-02-05T16:14:03.731611Z",
     "shell.execute_reply": "2024-02-05T16:14:03.730994Z"
    },
    "papermill": {
     "duration": 0.018948,
     "end_time": "2024-02-05T16:14:03.733409",
     "exception": false,
     "start_time": "2024-02-05T16:14:03.714461",
     "status": "completed"
    },
    "tags": []
   },
   "outputs": [],
   "source": [
    "def to_sequences(data, seq_len):\n",
    "    d = []\n",
    "    for index in range(len(data) - seq_len):\n",
    "        d.append(data[index: index + seq_len])\n",
    "    return np.array(d)\n",
    "\n",
    "def preprocess(data_raw, seq_len, train_split):\n",
    "    data = to_sequences(data_raw, seq_len)\n",
    "    num_train = int(train_split * data.shape[0])\n",
    "    X_train = data[:num_train, :-1, :]\n",
    "    y_train = data[:num_train, -1, :]\n",
    "    X_test = data[num_train:, :-1, :]\n",
    "    y_test = data[num_train:, -1, :]\n",
    "    return X_train, y_train, X_test, y_test\n",
    "\n",
    "X_train, y_train, X_test, y_test = preprocess(scaled_close, SEQ_LEN, train_split = SPLIT)"
   ]
  },
  {
   "cell_type": "markdown",
   "id": "d1973d1f",
   "metadata": {
    "papermill": {
     "duration": 0.007098,
     "end_time": "2024-02-05T16:14:03.747562",
     "exception": false,
     "start_time": "2024-02-05T16:14:03.740464",
     "status": "completed"
    },
    "tags": []
   },
   "source": [
    "## Genetic Algorithm"
   ]
  },
  {
   "cell_type": "code",
   "execution_count": 8,
   "id": "cc02993d",
   "metadata": {
    "execution": {
     "iopub.execute_input": "2024-02-05T16:14:03.763225Z",
     "iopub.status.busy": "2024-02-05T16:14:03.762612Z",
     "iopub.status.idle": "2024-02-05T16:14:03.767806Z",
     "shell.execute_reply": "2024-02-05T16:14:03.767047Z"
    },
    "papermill": {
     "duration": 0.014721,
     "end_time": "2024-02-05T16:14:03.769591",
     "exception": false,
     "start_time": "2024-02-05T16:14:03.754870",
     "status": "completed"
    },
    "tags": []
   },
   "outputs": [],
   "source": [
    "def decimal_to_binary(chromosome: list):\n",
    "    binary_string = ''.join([bin(x)[2:].zfill(8) for x in chromosome])\n",
    "    return binary_string\n",
    "\n",
    "def binary_to_decimal(binary_string: str):\n",
    "    decimal_array = [int(binary, 2) for binary in [binary_string[i:i+8] for i in range(0, len(binary_string), 8)]]\n",
    "    return decimal_array"
   ]
  },
  {
   "cell_type": "code",
   "execution_count": 9,
   "id": "328e4d85",
   "metadata": {
    "execution": {
     "iopub.execute_input": "2024-02-05T16:14:03.784956Z",
     "iopub.status.busy": "2024-02-05T16:14:03.784654Z",
     "iopub.status.idle": "2024-02-05T16:14:03.802775Z",
     "shell.execute_reply": "2024-02-05T16:14:03.802123Z"
    },
    "papermill": {
     "duration": 0.027946,
     "end_time": "2024-02-05T16:14:03.804540",
     "exception": false,
     "start_time": "2024-02-05T16:14:03.776594",
     "status": "completed"
    },
    "tags": []
   },
   "outputs": [],
   "source": [
    "# Genetic Algorithm\n",
    "def genetic_algorithm(generations, mutation_rate):\n",
    "    print(f\"Inizialized Population...\")\n",
    "    population = np.random.randint(1, high=251, size=(10, 3))\n",
    "    fitness_scores = np.array([fitness_function(chromosome) for chromosome in population])\n",
    "    max_fitness_each_gen = []\n",
    "    \n",
    "    for generation in range(generations):\n",
    "        print(f\"Generation - {generation + 1}\")\n",
    "        max_fitness_each_gen.append(np.max(fitness_scores))\n",
    "        \n",
    "        chromosome_1 = selection(population, fitness_scores)\n",
    "        chromosome_2 = selection(population, fitness_scores)\n",
    "        \n",
    "        if generation % mutation_rate == 0:\n",
    "            chromosome_1 = mutate(chromosome_1)\n",
    "            chromosome_2 = mutate(chromosome_2)\n",
    "        else:\n",
    "            chromosome_1, chromosome_2 = crossover(chromosome_1, chromosome_2)\n",
    "\n",
    "        fitness_score_1 = fitness_function(chromosome_1)\n",
    "        fitness_score_2 = fitness_function(chromosome_2)\n",
    "        \n",
    "        worst_index = np.argmin(fitness_scores)\n",
    "        worst_fitness = fitness_scores[worst_index]\n",
    "\n",
    "        if fitness_score_1 > worst_fitness:\n",
    "            population[worst_index] = chromosome_1\n",
    "            fitness_scores[worst_index] = fitness_score_1\n",
    "            worst_index = np.argmin(fitness_scores)\n",
    "            worst_fitness = fitness_scores[worst_index]\n",
    "\n",
    "        if fitness_score_2 > worst_fitness:\n",
    "            population[worst_index] = chromosome_2\n",
    "            fitness_scores[worst_index] = fitness_score_2\n",
    "        \n",
    "        # Release some memory\n",
    "        del chromosome_1, chromosome_2\n",
    "        del fitness_score_1, fitness_score_2\n",
    "        del worst_index, worst_fitness\n",
    "            \n",
    "    best_chromosome = population[np.argmax(fitness_scores)]\n",
    "    best_fitness = np.max(fitness_scores)\n",
    "    \n",
    "    return best_chromosome, best_fitness, max_fitness_each_gen\n",
    "\n",
    "# Selection (Tournament selection)\n",
    "def selection(population, fitness_scores, tournament_size=3):\n",
    "    indices = np.random.randint(len(population), size=tournament_size)\n",
    "    tournament = population[indices]\n",
    "    tournament_fitness = fitness_scores[indices]\n",
    "    return tournament[np.argmax(tournament_fitness)]\n",
    "\n",
    "# Crossover (Single-point crossover)\n",
    "def crossover(parent_1: list, parent_2: list):\n",
    "    parent_1 = decimal_to_binary(parent_1)\n",
    "    parent_2 = decimal_to_binary(parent_2)\n",
    "    \n",
    "    crossover_point = np.random.randint(1, len(parent_1))\n",
    "    offspring_1 = parent_1[:crossover_point] + parent_2[crossover_point:]\n",
    "    offspring_2 = parent_2[:crossover_point] + parent_1[crossover_point:]\n",
    "    \n",
    "    offspring_1 = binary_to_decimal(offspring_1)\n",
    "    offspring_2 = binary_to_decimal(offspring_2)\n",
    "    return offspring_1, offspring_2\n",
    "\n",
    "# Mutation (Swap Mutation)\n",
    "def mutate(chromosome: list):\n",
    "    chromosome = decimal_to_binary(chromosome)\n",
    "    \n",
    "    chromosome_list = list(chromosome)\n",
    "    i = np.random.randint(len(chromosome_list), size=2)\n",
    "    chromosome_list[i[0]], chromosome_list[i[1]] = chromosome_list[i[1]], chromosome_list[i[0]]\n",
    "    \n",
    "    chromosome_list = ''.join(chromosome_list)\n",
    "    chromosome = binary_to_decimal(chromosome_list)\n",
    "    return chromosome\n",
    "\n",
    "# Fitness Function\n",
    "def fitness_function(chromosome: list):\n",
    "    lstm_units = [int(chromosome[i]) or default for i, default in enumerate([128, 64, 32])]\n",
    "\n",
    "    # Build the LSTM model\n",
    "    tf.keras.backend.clear_session()\n",
    "    model = Sequential()\n",
    "    for i, units in enumerate(lstm_units[:LSTM_Layer]):\n",
    "        model.add(LSTM(units, return_sequences=(i < LSTM_Layer - 1), input_shape=(WINDOW_SIZE, 1)))\n",
    "    model.add(Dense(1))\n",
    "    \n",
    "    # Compile and train the model\n",
    "    model.compile(loss='mean_squared_error',\n",
    "                  optimizer='adam')\n",
    "    model.fit(X_train, y_train,\n",
    "              epochs=10,\n",
    "              batch_size=32,\n",
    "              verbose=0,\n",
    "              validation_split=0.1)\n",
    "\n",
    "    # Evaluate the model\n",
    "    loss = model.evaluate(X_test, y_test)\n",
    "\n",
    "    # Return the negative value of the loss as the fitness score\n",
    "    return -loss"
   ]
  },
  {
   "cell_type": "code",
   "execution_count": 10,
   "id": "d35ad446",
   "metadata": {
    "execution": {
     "iopub.execute_input": "2024-02-05T16:14:03.820120Z",
     "iopub.status.busy": "2024-02-05T16:14:03.819625Z",
     "iopub.status.idle": "2024-02-05T16:14:03.825011Z",
     "shell.execute_reply": "2024-02-05T16:14:03.824231Z"
    },
    "papermill": {
     "duration": 0.015194,
     "end_time": "2024-02-05T16:14:03.826803",
     "exception": false,
     "start_time": "2024-02-05T16:14:03.811609",
     "status": "completed"
    },
    "tags": []
   },
   "outputs": [],
   "source": [
    "import typing\n",
    "from datetime import datetime\n",
    "\n",
    "def timer(start_time: datetime = None) -> \"typing.Union[datetime.datetime, str]\":\n",
    "    if not start_time:\n",
    "        start_time = datetime.now()\n",
    "        return start_time\n",
    "    elif start_time:\n",
    "        thour, temp_sec = divmod((datetime.now() - start_time).total_seconds(), 3600)\n",
    "        tmin, tsec = divmod(temp_sec, 60)\n",
    "        return \"%i hours %i minutes and %s seconds.\" % (\n",
    "            thour,\n",
    "            tmin,\n",
    "            round(tsec, 2),\n",
    "        )"
   ]
  },
  {
   "cell_type": "code",
   "execution_count": 11,
   "id": "21ccfd8b",
   "metadata": {
    "execution": {
     "iopub.execute_input": "2024-02-05T16:14:03.841815Z",
     "iopub.status.busy": "2024-02-05T16:14:03.841529Z",
     "iopub.status.idle": "2024-02-05T16:22:28.325962Z",
     "shell.execute_reply": "2024-02-05T16:22:28.325162Z"
    },
    "papermill": {
     "duration": 504.494201,
     "end_time": "2024-02-05T16:22:28.328042",
     "exception": false,
     "start_time": "2024-02-05T16:14:03.833841",
     "status": "completed"
    },
    "tags": []
   },
   "outputs": [
    {
     "name": "stdout",
     "output_type": "stream",
     "text": [
      "Inizialized Population...\n",
      "13/13 [==============================] - 0s 2ms/step - loss: 0.0012\n",
      "13/13 [==============================] - 0s 2ms/step - loss: 0.0010\n",
      "13/13 [==============================] - 0s 2ms/step - loss: 0.0011\n",
      "13/13 [==============================] - 0s 2ms/step - loss: 0.0010\n",
      "13/13 [==============================] - 0s 2ms/step - loss: 0.0013\n",
      "13/13 [==============================] - 0s 2ms/step - loss: 0.0012\n",
      "13/13 [==============================] - 0s 2ms/step - loss: 0.0011\n",
      "13/13 [==============================] - 0s 2ms/step - loss: 0.0010\n",
      "13/13 [==============================] - 0s 2ms/step - loss: 0.0011\n",
      "13/13 [==============================] - 0s 2ms/step - loss: 0.0012\n",
      "Generation - 1\n",
      "13/13 [==============================] - 0s 2ms/step - loss: 0.0012\n",
      "13/13 [==============================] - 0s 2ms/step - loss: 0.0011\n",
      "Generation - 2\n",
      "13/13 [==============================] - 0s 2ms/step - loss: 0.0011\n",
      "13/13 [==============================] - 0s 2ms/step - loss: 0.0013\n",
      "Generation - 3\n",
      "13/13 [==============================] - 0s 2ms/step - loss: 0.0012\n",
      "13/13 [==============================] - 0s 2ms/step - loss: 0.0020\n",
      "Generation - 4\n",
      "13/13 [==============================] - 0s 2ms/step - loss: 0.0011\n",
      "13/13 [==============================] - 0s 2ms/step - loss: 0.0032\n",
      "Generation - 5\n",
      "13/13 [==============================] - 0s 2ms/step - loss: 0.0011\n",
      "13/13 [==============================] - 0s 2ms/step - loss: 0.0015\n",
      "Generation - 6\n",
      "13/13 [==============================] - 0s 2ms/step - loss: 0.0012\n",
      "13/13 [==============================] - 0s 2ms/step - loss: 0.0013\n",
      "Generation - 7\n",
      "13/13 [==============================] - 0s 2ms/step - loss: 0.0013\n",
      "13/13 [==============================] - 0s 2ms/step - loss: 0.0012\n",
      "Generation - 8\n",
      "13/13 [==============================] - 0s 2ms/step - loss: 0.0014\n",
      "13/13 [==============================] - 0s 2ms/step - loss: 0.0013\n",
      "Generation - 9\n",
      "13/13 [==============================] - 0s 2ms/step - loss: 0.0011\n",
      "13/13 [==============================] - 0s 2ms/step - loss: 0.0012\n",
      "Generation - 10\n",
      "13/13 [==============================] - 0s 2ms/step - loss: 9.8799e-04\n",
      "13/13 [==============================] - 0s 2ms/step - loss: 9.0588e-04\n",
      "Generation - 11\n",
      "13/13 [==============================] - 0s 2ms/step - loss: 0.0011\n",
      "13/13 [==============================] - 0s 2ms/step - loss: 0.0011\n",
      "Generation - 12\n",
      "13/13 [==============================] - 0s 2ms/step - loss: 0.0010\n",
      "13/13 [==============================] - 0s 2ms/step - loss: 0.0023\n",
      "Generation - 13\n",
      "13/13 [==============================] - 0s 2ms/step - loss: 0.0087\n",
      "13/13 [==============================] - 0s 2ms/step - loss: 0.0016\n",
      "Generation - 14\n",
      "13/13 [==============================] - 0s 2ms/step - loss: 0.0012\n",
      "13/13 [==============================] - 0s 2ms/step - loss: 0.0011\n",
      "Generation - 15\n",
      "13/13 [==============================] - 0s 2ms/step - loss: 0.0011\n",
      "13/13 [==============================] - 0s 2ms/step - loss: 0.0013\n",
      "Generation - 16\n",
      "13/13 [==============================] - 0s 2ms/step - loss: 0.0012\n",
      "13/13 [==============================] - 0s 2ms/step - loss: 0.0010\n",
      "Generation - 17\n",
      "13/13 [==============================] - 0s 2ms/step - loss: 0.0011\n",
      "13/13 [==============================] - 0s 2ms/step - loss: 0.0013\n",
      "Generation - 18\n",
      "13/13 [==============================] - 0s 2ms/step - loss: 0.0013\n",
      "13/13 [==============================] - 0s 2ms/step - loss: 0.0011\n",
      "Generation - 19\n",
      "13/13 [==============================] - 0s 2ms/step - loss: 0.0010\n",
      "13/13 [==============================] - 0s 2ms/step - loss: 0.0012\n",
      "Generation - 20\n",
      "13/13 [==============================] - 0s 2ms/step - loss: 0.0011\n",
      "13/13 [==============================] - 0s 2ms/step - loss: 0.0011\n",
      "Generation - 21\n",
      "13/13 [==============================] - 0s 2ms/step - loss: 0.0013\n",
      "13/13 [==============================] - 0s 2ms/step - loss: 0.0010\n",
      "Generation - 22\n",
      "13/13 [==============================] - 0s 2ms/step - loss: 0.0013\n",
      "13/13 [==============================] - 0s 2ms/step - loss: 0.0014\n",
      "Generation - 23\n",
      "13/13 [==============================] - 0s 2ms/step - loss: 0.0019\n",
      "13/13 [==============================] - 0s 2ms/step - loss: 0.0012\n",
      "Generation - 24\n",
      "13/13 [==============================] - 0s 2ms/step - loss: 0.0011\n",
      "13/13 [==============================] - 0s 2ms/step - loss: 0.0013\n",
      "Generation - 25\n",
      "13/13 [==============================] - 0s 2ms/step - loss: 0.0013\n",
      "13/13 [==============================] - 0s 2ms/step - loss: 0.0010\n",
      "Generation - 26\n",
      "13/13 [==============================] - 0s 2ms/step - loss: 0.0199\n",
      "13/13 [==============================] - 0s 2ms/step - loss: 0.0013\n",
      "Generation - 27\n",
      "13/13 [==============================] - 0s 2ms/step - loss: 0.0010\n",
      "13/13 [==============================] - 0s 2ms/step - loss: 9.9125e-04\n",
      "Generation - 28\n",
      "13/13 [==============================] - 0s 2ms/step - loss: 0.0021\n",
      "13/13 [==============================] - 0s 2ms/step - loss: 0.0014\n",
      "Generation - 29\n",
      "13/13 [==============================] - 0s 2ms/step - loss: 0.0011\n",
      "13/13 [==============================] - 0s 2ms/step - loss: 0.0016\n",
      "Generation - 30\n",
      "13/13 [==============================] - 0s 2ms/step - loss: 9.7489e-04\n",
      "13/13 [==============================] - 0s 2ms/step - loss: 9.8761e-04\n",
      "Generation - 31\n",
      "13/13 [==============================] - 0s 2ms/step - loss: 0.0011\n",
      "13/13 [==============================] - 0s 2ms/step - loss: 0.0012\n",
      "Generation - 32\n",
      "13/13 [==============================] - 0s 2ms/step - loss: 0.0013\n",
      "13/13 [==============================] - 0s 2ms/step - loss: 0.0017\n",
      "Generation - 33\n",
      "13/13 [==============================] - 0s 3ms/step - loss: 0.0012\n",
      "13/13 [==============================] - 0s 3ms/step - loss: 0.0012\n",
      "Generation - 34\n",
      "13/13 [==============================] - 0s 2ms/step - loss: 0.0011\n",
      "13/13 [==============================] - 0s 2ms/step - loss: 0.0013\n",
      "Generation - 35\n",
      "13/13 [==============================] - 0s 2ms/step - loss: 0.0012\n",
      "13/13 [==============================] - 0s 2ms/step - loss: 9.6597e-04\n",
      "Generation - 36\n",
      "13/13 [==============================] - 0s 2ms/step - loss: 0.0011\n",
      "13/13 [==============================] - 0s 2ms/step - loss: 0.0012\n",
      "Generation - 37\n",
      "13/13 [==============================] - 0s 3ms/step - loss: 9.8184e-04\n",
      "13/13 [==============================] - 0s 2ms/step - loss: 0.0017\n",
      "Generation - 38\n",
      "13/13 [==============================] - 0s 2ms/step - loss: 0.0011\n",
      "13/13 [==============================] - 0s 2ms/step - loss: 0.0012\n",
      "Generation - 39\n",
      "13/13 [==============================] - 0s 2ms/step - loss: 0.0015\n",
      "13/13 [==============================] - 0s 2ms/step - loss: 0.0011\n",
      "Generation - 40\n",
      "13/13 [==============================] - 0s 2ms/step - loss: 0.0011\n",
      "13/13 [==============================] - 0s 2ms/step - loss: 0.0013\n",
      "Generation - 41\n",
      "13/13 [==============================] - 0s 2ms/step - loss: 0.0011\n",
      "13/13 [==============================] - 0s 2ms/step - loss: 9.2497e-04\n",
      "Generation - 42\n",
      "13/13 [==============================] - 0s 2ms/step - loss: 8.8081e-04\n",
      "13/13 [==============================] - 0s 2ms/step - loss: 0.0011\n",
      "Generation - 43\n",
      "13/13 [==============================] - 0s 2ms/step - loss: 0.0012\n",
      "13/13 [==============================] - 0s 2ms/step - loss: 0.0014\n",
      "Generation - 44\n",
      "13/13 [==============================] - 0s 2ms/step - loss: 0.0014\n",
      "13/13 [==============================] - 0s 2ms/step - loss: 0.0011\n",
      "Generation - 45\n",
      "13/13 [==============================] - 0s 2ms/step - loss: 0.0016\n",
      "13/13 [==============================] - 0s 2ms/step - loss: 0.0012\n",
      "Generation - 46\n",
      "13/13 [==============================] - 0s 2ms/step - loss: 0.0058\n",
      "13/13 [==============================] - 0s 2ms/step - loss: 9.9765e-04\n",
      "Generation - 47\n",
      "13/13 [==============================] - 0s 2ms/step - loss: 0.0011\n",
      "13/13 [==============================] - 0s 3ms/step - loss: 0.0011\n",
      "Generation - 48\n",
      "13/13 [==============================] - 0s 2ms/step - loss: 0.0010\n",
      "13/13 [==============================] - 0s 2ms/step - loss: 0.0011\n",
      "Generation - 49\n",
      "13/13 [==============================] - 0s 2ms/step - loss: 0.0010\n",
      "13/13 [==============================] - 0s 2ms/step - loss: 0.0011\n",
      "Generation - 50\n",
      "13/13 [==============================] - 0s 2ms/step - loss: 0.0014\n",
      "13/13 [==============================] - 0s 2ms/step - loss: 0.0012\n"
     ]
    }
   ],
   "source": [
    "# Do not increase this value\n",
    "generations = 50\n",
    "mutation_rate = 5\n",
    "\n",
    "time = timer(None)\n",
    "best_chromosome, best_fitness, max_fitness_each_gen = genetic_algorithm(generations, mutation_rate)\n",
    "time = timer(time)"
   ]
  },
  {
   "cell_type": "code",
   "execution_count": 12,
   "id": "d901bd40",
   "metadata": {
    "execution": {
     "iopub.execute_input": "2024-02-05T16:22:28.382772Z",
     "iopub.status.busy": "2024-02-05T16:22:28.382458Z",
     "iopub.status.idle": "2024-02-05T16:22:28.387440Z",
     "shell.execute_reply": "2024-02-05T16:22:28.386571Z"
    },
    "papermill": {
     "duration": 0.034489,
     "end_time": "2024-02-05T16:22:28.389477",
     "exception": false,
     "start_time": "2024-02-05T16:22:28.354988",
     "status": "completed"
    },
    "tags": []
   },
   "outputs": [
    {
     "name": "stdout",
     "output_type": "stream",
     "text": [
      "Best Chromosome: [ 12 226 148]\n",
      "Best Fitness: -0.0008808101993054152\n",
      "Time Taken: 0 hours 8 minutes and 24.48 seconds.\n"
     ]
    }
   ],
   "source": [
    "print(\"Best Chromosome:\", best_chromosome)\n",
    "print(\"Best Fitness:\", best_fitness)\n",
    "print(\"Time Taken:\", time)"
   ]
  },
  {
   "cell_type": "code",
   "execution_count": 13,
   "id": "5b5d61d4",
   "metadata": {
    "execution": {
     "iopub.execute_input": "2024-02-05T16:22:28.443560Z",
     "iopub.status.busy": "2024-02-05T16:22:28.443262Z",
     "iopub.status.idle": "2024-02-05T16:22:28.449572Z",
     "shell.execute_reply": "2024-02-05T16:22:28.448730Z"
    },
    "papermill": {
     "duration": 0.035447,
     "end_time": "2024-02-05T16:22:28.451503",
     "exception": false,
     "start_time": "2024-02-05T16:22:28.416056",
     "status": "completed"
    },
    "tags": []
   },
   "outputs": [
    {
     "data": {
      "text/plain": [
       "[-0.0010225338628515601,\n",
       " -0.0010225338628515601,\n",
       " -0.0010225338628515601,\n",
       " -0.0010225338628515601,\n",
       " -0.0010225338628515601,\n",
       " -0.0010225338628515601,\n",
       " -0.0010225338628515601,\n",
       " -0.0010225338628515601,\n",
       " -0.0010225338628515601,\n",
       " -0.0010225338628515601,\n",
       " -0.0009058768046088517,\n",
       " -0.0009058768046088517,\n",
       " -0.0009058768046088517,\n",
       " -0.0009058768046088517,\n",
       " -0.0009058768046088517,\n",
       " -0.0009058768046088517,\n",
       " -0.0009058768046088517,\n",
       " -0.0009058768046088517,\n",
       " -0.0009058768046088517,\n",
       " -0.0009058768046088517,\n",
       " -0.0009058768046088517,\n",
       " -0.0009058768046088517,\n",
       " -0.0009058768046088517,\n",
       " -0.0009058768046088517,\n",
       " -0.0009058768046088517,\n",
       " -0.0009058768046088517,\n",
       " -0.0009058768046088517,\n",
       " -0.0009058768046088517,\n",
       " -0.0009058768046088517,\n",
       " -0.0009058768046088517,\n",
       " -0.0009058768046088517,\n",
       " -0.0009058768046088517,\n",
       " -0.0009058768046088517,\n",
       " -0.0009058768046088517,\n",
       " -0.0009058768046088517,\n",
       " -0.0009058768046088517,\n",
       " -0.0009058768046088517,\n",
       " -0.0009058768046088517,\n",
       " -0.0009058768046088517,\n",
       " -0.0009058768046088517,\n",
       " -0.0009058768046088517,\n",
       " -0.0009058768046088517,\n",
       " -0.0008808101993054152,\n",
       " -0.0008808101993054152,\n",
       " -0.0008808101993054152,\n",
       " -0.0008808101993054152,\n",
       " -0.0008808101993054152,\n",
       " -0.0008808101993054152,\n",
       " -0.0008808101993054152,\n",
       " -0.0008808101993054152]"
      ]
     },
     "execution_count": 13,
     "metadata": {},
     "output_type": "execute_result"
    }
   ],
   "source": [
    "max_fitness_each_gen"
   ]
  },
  {
   "cell_type": "markdown",
   "id": "41d1e0f9",
   "metadata": {
    "papermill": {
     "duration": 0.027432,
     "end_time": "2024-02-05T16:22:28.505466",
     "exception": false,
     "start_time": "2024-02-05T16:22:28.478034",
     "status": "completed"
    },
    "tags": []
   },
   "source": [
    "## Re-Training Model with Best Parameter"
   ]
  },
  {
   "cell_type": "code",
   "execution_count": 14,
   "id": "d94ca7d1",
   "metadata": {
    "execution": {
     "iopub.execute_input": "2024-02-05T16:22:28.560086Z",
     "iopub.status.busy": "2024-02-05T16:22:28.559771Z",
     "iopub.status.idle": "2024-02-05T16:22:28.822407Z",
     "shell.execute_reply": "2024-02-05T16:22:28.821344Z"
    },
    "papermill": {
     "duration": 0.294913,
     "end_time": "2024-02-05T16:22:28.826989",
     "exception": false,
     "start_time": "2024-02-05T16:22:28.532076",
     "status": "completed"
    },
    "tags": []
   },
   "outputs": [
    {
     "name": "stdout",
     "output_type": "stream",
     "text": [
      "Model: \"sequential_1\"\n",
      "_________________________________________________________________\n",
      " Layer (type)                Output Shape              Param #   \n",
      "=================================================================\n",
      " lstm_1 (LSTM)               (None, 12)                672       \n",
      "                                                                 \n",
      " dense_1 (Dense)             (None, 1)                 13        \n",
      "                                                                 \n",
      "=================================================================\n",
      "Total params: 685\n",
      "Trainable params: 685\n",
      "Non-trainable params: 0\n",
      "_________________________________________________________________\n"
     ]
    }
   ],
   "source": [
    "model = Sequential()\n",
    "for i, units in enumerate(best_chromosome[:LSTM_Layer]):\n",
    "    model.add(LSTM(units, return_sequences=(i < LSTM_Layer - 1), input_shape=(WINDOW_SIZE, 1)))\n",
    "model.add(Dense(1))\n",
    "\n",
    "model.summary()"
   ]
  },
  {
   "cell_type": "code",
   "execution_count": 15,
   "id": "0a22740c",
   "metadata": {
    "execution": {
     "iopub.execute_input": "2024-02-05T16:22:28.884270Z",
     "iopub.status.busy": "2024-02-05T16:22:28.883965Z",
     "iopub.status.idle": "2024-02-05T16:22:50.988310Z",
     "shell.execute_reply": "2024-02-05T16:22:50.987283Z"
    },
    "papermill": {
     "duration": 22.135264,
     "end_time": "2024-02-05T16:22:50.990596",
     "exception": false,
     "start_time": "2024-02-05T16:22:28.855332",
     "status": "completed"
    },
    "tags": []
   },
   "outputs": [
    {
     "name": "stdout",
     "output_type": "stream",
     "text": [
      "Epoch 1/50\n",
      "45/45 [==============================] - 3s 15ms/step - loss: 0.2785 - mae: 0.4747 - root_mean_squared_error: 0.5277 - val_loss: 0.1245 - val_mae: 0.3517 - val_root_mean_squared_error: 0.3528\n",
      "Epoch 2/50\n",
      "45/45 [==============================] - 0s 5ms/step - loss: 0.0744 - mae: 0.2164 - root_mean_squared_error: 0.2728 - val_loss: 0.0065 - val_mae: 0.0770 - val_root_mean_squared_error: 0.0808\n",
      "Epoch 3/50\n",
      "45/45 [==============================] - 0s 5ms/step - loss: 0.0194 - mae: 0.1037 - root_mean_squared_error: 0.1394 - val_loss: 5.5857e-04 - val_mae: 0.0168 - val_root_mean_squared_error: 0.0236\n",
      "Epoch 4/50\n",
      "45/45 [==============================] - 0s 5ms/step - loss: 0.0149 - mae: 0.0921 - root_mean_squared_error: 0.1220 - val_loss: 5.3579e-04 - val_mae: 0.0166 - val_root_mean_squared_error: 0.0231\n",
      "Epoch 5/50\n",
      "45/45 [==============================] - 0s 5ms/step - loss: 0.0117 - mae: 0.0822 - root_mean_squared_error: 0.1083 - val_loss: 4.9387e-04 - val_mae: 0.0157 - val_root_mean_squared_error: 0.0222\n",
      "Epoch 6/50\n",
      "45/45 [==============================] - 0s 5ms/step - loss: 0.0089 - mae: 0.0706 - root_mean_squared_error: 0.0941 - val_loss: 5.8584e-04 - val_mae: 0.0183 - val_root_mean_squared_error: 0.0242\n",
      "Epoch 7/50\n",
      "45/45 [==============================] - 0s 5ms/step - loss: 0.0066 - mae: 0.0608 - root_mean_squared_error: 0.0811 - val_loss: 4.8864e-04 - val_mae: 0.0158 - val_root_mean_squared_error: 0.0221\n",
      "Epoch 8/50\n",
      "45/45 [==============================] - 0s 5ms/step - loss: 0.0048 - mae: 0.0516 - root_mean_squared_error: 0.0693 - val_loss: 4.8566e-04 - val_mae: 0.0157 - val_root_mean_squared_error: 0.0220\n",
      "Epoch 9/50\n",
      "45/45 [==============================] - 0s 5ms/step - loss: 0.0037 - mae: 0.0444 - root_mean_squared_error: 0.0607 - val_loss: 4.8216e-04 - val_mae: 0.0156 - val_root_mean_squared_error: 0.0220\n",
      "Epoch 10/50\n",
      "45/45 [==============================] - 0s 5ms/step - loss: 0.0030 - mae: 0.0393 - root_mean_squared_error: 0.0549 - val_loss: 5.9213e-04 - val_mae: 0.0185 - val_root_mean_squared_error: 0.0243\n",
      "Epoch 11/50\n",
      "45/45 [==============================] - 0s 5ms/step - loss: 0.0027 - mae: 0.0371 - root_mean_squared_error: 0.0522 - val_loss: 5.5659e-04 - val_mae: 0.0176 - val_root_mean_squared_error: 0.0236\n",
      "Epoch 12/50\n",
      "45/45 [==============================] - 0s 5ms/step - loss: 0.0026 - mae: 0.0361 - root_mean_squared_error: 0.0512 - val_loss: 5.8770e-04 - val_mae: 0.0184 - val_root_mean_squared_error: 0.0242\n",
      "Epoch 13/50\n",
      "45/45 [==============================] - 0s 5ms/step - loss: 0.0025 - mae: 0.0356 - root_mean_squared_error: 0.0505 - val_loss: 5.3348e-04 - val_mae: 0.0170 - val_root_mean_squared_error: 0.0231\n",
      "Epoch 14/50\n",
      "45/45 [==============================] - 0s 5ms/step - loss: 0.0025 - mae: 0.0354 - root_mean_squared_error: 0.0502 - val_loss: 6.6620e-04 - val_mae: 0.0202 - val_root_mean_squared_error: 0.0258\n",
      "Epoch 15/50\n",
      "45/45 [==============================] - 0s 5ms/step - loss: 0.0025 - mae: 0.0353 - root_mean_squared_error: 0.0502 - val_loss: 5.5844e-04 - val_mae: 0.0177 - val_root_mean_squared_error: 0.0236\n",
      "Epoch 16/50\n",
      "45/45 [==============================] - 0s 5ms/step - loss: 0.0025 - mae: 0.0350 - root_mean_squared_error: 0.0498 - val_loss: 6.8005e-04 - val_mae: 0.0205 - val_root_mean_squared_error: 0.0261\n",
      "Epoch 17/50\n",
      "45/45 [==============================] - 0s 5ms/step - loss: 0.0025 - mae: 0.0349 - root_mean_squared_error: 0.0497 - val_loss: 5.2690e-04 - val_mae: 0.0169 - val_root_mean_squared_error: 0.0230\n",
      "Epoch 18/50\n",
      "45/45 [==============================] - 0s 5ms/step - loss: 0.0025 - mae: 0.0347 - root_mean_squared_error: 0.0496 - val_loss: 7.7217e-04 - val_mae: 0.0225 - val_root_mean_squared_error: 0.0278\n",
      "Epoch 19/50\n",
      "45/45 [==============================] - 0s 5ms/step - loss: 0.0024 - mae: 0.0345 - root_mean_squared_error: 0.0492 - val_loss: 6.5448e-04 - val_mae: 0.0200 - val_root_mean_squared_error: 0.0256\n",
      "Epoch 20/50\n",
      "45/45 [==============================] - 0s 5ms/step - loss: 0.0024 - mae: 0.0342 - root_mean_squared_error: 0.0489 - val_loss: 5.1670e-04 - val_mae: 0.0166 - val_root_mean_squared_error: 0.0227\n",
      "Epoch 21/50\n",
      "45/45 [==============================] - 0s 5ms/step - loss: 0.0024 - mae: 0.0343 - root_mean_squared_error: 0.0489 - val_loss: 5.0986e-04 - val_mae: 0.0164 - val_root_mean_squared_error: 0.0226\n",
      "Epoch 22/50\n",
      "45/45 [==============================] - 0s 5ms/step - loss: 0.0024 - mae: 0.0340 - root_mean_squared_error: 0.0486 - val_loss: 5.1938e-04 - val_mae: 0.0167 - val_root_mean_squared_error: 0.0228\n",
      "Epoch 23/50\n",
      "45/45 [==============================] - 0s 5ms/step - loss: 0.0023 - mae: 0.0337 - root_mean_squared_error: 0.0484 - val_loss: 5.5988e-04 - val_mae: 0.0178 - val_root_mean_squared_error: 0.0237\n",
      "Epoch 24/50\n",
      "45/45 [==============================] - 0s 5ms/step - loss: 0.0023 - mae: 0.0337 - root_mean_squared_error: 0.0482 - val_loss: 6.4749e-04 - val_mae: 0.0199 - val_root_mean_squared_error: 0.0254\n",
      "Epoch 25/50\n",
      "45/45 [==============================] - 0s 5ms/step - loss: 0.0023 - mae: 0.0334 - root_mean_squared_error: 0.0480 - val_loss: 6.1993e-04 - val_mae: 0.0192 - val_root_mean_squared_error: 0.0249\n",
      "Epoch 26/50\n",
      "45/45 [==============================] - 0s 5ms/step - loss: 0.0023 - mae: 0.0334 - root_mean_squared_error: 0.0479 - val_loss: 6.3958e-04 - val_mae: 0.0197 - val_root_mean_squared_error: 0.0253\n",
      "Epoch 27/50\n",
      "45/45 [==============================] - 0s 5ms/step - loss: 0.0023 - mae: 0.0333 - root_mean_squared_error: 0.0478 - val_loss: 5.0533e-04 - val_mae: 0.0165 - val_root_mean_squared_error: 0.0225\n",
      "Epoch 28/50\n",
      "45/45 [==============================] - 0s 5ms/step - loss: 0.0023 - mae: 0.0333 - root_mean_squared_error: 0.0478 - val_loss: 5.7121e-04 - val_mae: 0.0182 - val_root_mean_squared_error: 0.0239\n",
      "Epoch 29/50\n",
      "45/45 [==============================] - 0s 5ms/step - loss: 0.0022 - mae: 0.0329 - root_mean_squared_error: 0.0473 - val_loss: 6.1397e-04 - val_mae: 0.0192 - val_root_mean_squared_error: 0.0248\n",
      "Epoch 30/50\n",
      "45/45 [==============================] - 0s 5ms/step - loss: 0.0022 - mae: 0.0329 - root_mean_squared_error: 0.0472 - val_loss: 5.5075e-04 - val_mae: 0.0177 - val_root_mean_squared_error: 0.0235\n",
      "Epoch 31/50\n",
      "45/45 [==============================] - 0s 5ms/step - loss: 0.0022 - mae: 0.0327 - root_mean_squared_error: 0.0471 - val_loss: 5.6861e-04 - val_mae: 0.0182 - val_root_mean_squared_error: 0.0238\n",
      "Epoch 32/50\n",
      "45/45 [==============================] - 0s 5ms/step - loss: 0.0022 - mae: 0.0327 - root_mean_squared_error: 0.0472 - val_loss: 4.8580e-04 - val_mae: 0.0159 - val_root_mean_squared_error: 0.0220\n",
      "Epoch 33/50\n",
      "45/45 [==============================] - 0s 5ms/step - loss: 0.0022 - mae: 0.0322 - root_mean_squared_error: 0.0468 - val_loss: 5.9326e-04 - val_mae: 0.0188 - val_root_mean_squared_error: 0.0244\n",
      "Epoch 34/50\n",
      "45/45 [==============================] - 0s 5ms/step - loss: 0.0022 - mae: 0.0325 - root_mean_squared_error: 0.0468 - val_loss: 5.1468e-04 - val_mae: 0.0169 - val_root_mean_squared_error: 0.0227\n",
      "Epoch 35/50\n",
      "45/45 [==============================] - 0s 5ms/step - loss: 0.0022 - mae: 0.0321 - root_mean_squared_error: 0.0465 - val_loss: 5.7645e-04 - val_mae: 0.0184 - val_root_mean_squared_error: 0.0240\n",
      "Epoch 36/50\n",
      "45/45 [==============================] - 0s 5ms/step - loss: 0.0021 - mae: 0.0322 - root_mean_squared_error: 0.0463 - val_loss: 5.1348e-04 - val_mae: 0.0169 - val_root_mean_squared_error: 0.0227\n",
      "Epoch 37/50\n",
      "45/45 [==============================] - 0s 5ms/step - loss: 0.0021 - mae: 0.0320 - root_mean_squared_error: 0.0461 - val_loss: 4.6772e-04 - val_mae: 0.0156 - val_root_mean_squared_error: 0.0216\n",
      "Epoch 38/50\n",
      "45/45 [==============================] - 0s 5ms/step - loss: 0.0021 - mae: 0.0318 - root_mean_squared_error: 0.0460 - val_loss: 4.7902e-04 - val_mae: 0.0156 - val_root_mean_squared_error: 0.0219\n",
      "Epoch 39/50\n",
      "45/45 [==============================] - 0s 5ms/step - loss: 0.0021 - mae: 0.0319 - root_mean_squared_error: 0.0461 - val_loss: 6.1406e-04 - val_mae: 0.0194 - val_root_mean_squared_error: 0.0248\n",
      "Epoch 40/50\n",
      "45/45 [==============================] - 0s 5ms/step - loss: 0.0021 - mae: 0.0318 - root_mean_squared_error: 0.0457 - val_loss: 4.7829e-04 - val_mae: 0.0160 - val_root_mean_squared_error: 0.0219\n",
      "Epoch 41/50\n",
      "45/45 [==============================] - 0s 5ms/step - loss: 0.0021 - mae: 0.0315 - root_mean_squared_error: 0.0456 - val_loss: 4.8499e-04 - val_mae: 0.0163 - val_root_mean_squared_error: 0.0220\n",
      "Epoch 42/50\n",
      "45/45 [==============================] - 0s 5ms/step - loss: 0.0021 - mae: 0.0315 - root_mean_squared_error: 0.0455 - val_loss: 5.6094e-04 - val_mae: 0.0182 - val_root_mean_squared_error: 0.0237\n",
      "Epoch 43/50\n",
      "45/45 [==============================] - 0s 5ms/step - loss: 0.0021 - mae: 0.0314 - root_mean_squared_error: 0.0454 - val_loss: 6.8330e-04 - val_mae: 0.0210 - val_root_mean_squared_error: 0.0261\n",
      "Epoch 44/50\n",
      "45/45 [==============================] - 0s 5ms/step - loss: 0.0021 - mae: 0.0315 - root_mean_squared_error: 0.0455 - val_loss: 4.5024e-04 - val_mae: 0.0152 - val_root_mean_squared_error: 0.0212\n",
      "Epoch 45/50\n",
      "45/45 [==============================] - 0s 5ms/step - loss: 0.0020 - mae: 0.0313 - root_mean_squared_error: 0.0452 - val_loss: 5.8594e-04 - val_mae: 0.0189 - val_root_mean_squared_error: 0.0242\n",
      "Epoch 46/50\n",
      "45/45 [==============================] - 0s 5ms/step - loss: 0.0020 - mae: 0.0312 - root_mean_squared_error: 0.0451 - val_loss: 5.4397e-04 - val_mae: 0.0179 - val_root_mean_squared_error: 0.0233\n",
      "Epoch 47/50\n",
      "45/45 [==============================] - 0s 5ms/step - loss: 0.0020 - mae: 0.0310 - root_mean_squared_error: 0.0449 - val_loss: 4.7217e-04 - val_mae: 0.0161 - val_root_mean_squared_error: 0.0217\n",
      "Epoch 48/50\n",
      "45/45 [==============================] - 0s 5ms/step - loss: 0.0020 - mae: 0.0312 - root_mean_squared_error: 0.0450 - val_loss: 4.7829e-04 - val_mae: 0.0163 - val_root_mean_squared_error: 0.0219\n",
      "Epoch 49/50\n",
      "45/45 [==============================] - 0s 5ms/step - loss: 0.0020 - mae: 0.0307 - root_mean_squared_error: 0.0447 - val_loss: 4.5876e-04 - val_mae: 0.0157 - val_root_mean_squared_error: 0.0214\n",
      "Epoch 50/50\n",
      "45/45 [==============================] - 0s 5ms/step - loss: 0.0020 - mae: 0.0311 - root_mean_squared_error: 0.0448 - val_loss: 4.7249e-04 - val_mae: 0.0158 - val_root_mean_squared_error: 0.0217\n"
     ]
    }
   ],
   "source": [
    "model.compile(loss='mean_squared_error',\n",
    "              metrics=['mae', RootMeanSquaredError()],\n",
    "              optimizer='adam')\n",
    "\n",
    "history = model.fit(X_train,\n",
    "                    y_train,\n",
    "                    epochs=50,\n",
    "                    batch_size=32,\n",
    "                    validation_split=0.1)"
   ]
  },
  {
   "cell_type": "code",
   "execution_count": 16,
   "id": "e3fc5631",
   "metadata": {
    "execution": {
     "iopub.execute_input": "2024-02-05T16:22:51.091768Z",
     "iopub.status.busy": "2024-02-05T16:22:51.091414Z",
     "iopub.status.idle": "2024-02-05T16:22:51.191670Z",
     "shell.execute_reply": "2024-02-05T16:22:51.190830Z"
    },
    "papermill": {
     "duration": 0.152882,
     "end_time": "2024-02-05T16:22:51.193525",
     "exception": false,
     "start_time": "2024-02-05T16:22:51.040643",
     "status": "completed"
    },
    "tags": []
   },
   "outputs": [
    {
     "name": "stdout",
     "output_type": "stream",
     "text": [
      "13/13 [==============================] - 0s 3ms/step - loss: 0.0010 - mae: 0.0241 - root_mean_squared_error: 0.0320\n"
     ]
    },
    {
     "data": {
      "text/plain": [
       "[0.001021968200802803, 0.024055594578385353, 0.03196823596954346]"
      ]
     },
     "execution_count": 16,
     "metadata": {},
     "output_type": "execute_result"
    }
   ],
   "source": [
    "model.evaluate(X_test, y_test)"
   ]
  },
  {
   "cell_type": "markdown",
   "id": "40680874",
   "metadata": {
    "papermill": {
     "duration": 0.049431,
     "end_time": "2024-02-05T16:22:51.293503",
     "exception": false,
     "start_time": "2024-02-05T16:22:51.244072",
     "status": "completed"
    },
    "tags": []
   },
   "source": [
    "## Model Evaluation"
   ]
  },
  {
   "cell_type": "code",
   "execution_count": 17,
   "id": "79e1a019",
   "metadata": {
    "execution": {
     "iopub.execute_input": "2024-02-05T16:22:51.394423Z",
     "iopub.status.busy": "2024-02-05T16:22:51.393779Z",
     "iopub.status.idle": "2024-02-05T16:22:51.685508Z",
     "shell.execute_reply": "2024-02-05T16:22:51.684599Z"
    },
    "papermill": {
     "duration": 0.344322,
     "end_time": "2024-02-05T16:22:51.687493",
     "exception": false,
     "start_time": "2024-02-05T16:22:51.343171",
     "status": "completed"
    },
    "tags": []
   },
   "outputs": [
    {
     "data": {
      "image/png": "[encoded data removed]",
      "text/plain": [
       "<Figure size 640x480 with 1 Axes>"
      ]
     },
     "metadata": {},
     "output_type": "display_data"
    }
   ],
   "source": [
    "plt.plot(history.history['loss'])\n",
    "plt.plot(history.history['val_loss'])\n",
    "plt.title(f'{SHEET_NAME} Model Loss', fontsize=15)\n",
    "plt.ylabel('loss')\n",
    "plt.xlabel('epoch')\n",
    "plt.legend(['train', 'test'])\n",
    "plt.show()"
   ]
  },
  {
   "cell_type": "code",
   "execution_count": 18,
   "id": "7e13b9df",
   "metadata": {
    "execution": {
     "iopub.execute_input": "2024-02-05T16:22:51.790404Z",
     "iopub.status.busy": "2024-02-05T16:22:51.790097Z",
     "iopub.status.idle": "2024-02-05T16:22:52.247531Z",
     "shell.execute_reply": "2024-02-05T16:22:52.246677Z"
    },
    "papermill": {
     "duration": 0.511246,
     "end_time": "2024-02-05T16:22:52.249748",
     "exception": false,
     "start_time": "2024-02-05T16:22:51.738502",
     "status": "completed"
    },
    "tags": []
   },
   "outputs": [
    {
     "name": "stdout",
     "output_type": "stream",
     "text": [
      "13/13 [==============================] - 0s 2ms/step\n"
     ]
    }
   ],
   "source": [
    "y_hat = model.predict(X_test)\n",
    "y_test_inverse = scaler.inverse_transform(y_test)\n",
    "y_hat_inverse = scaler.inverse_transform(y_hat)"
   ]
  },
  {
   "cell_type": "code",
   "execution_count": 19,
   "id": "3c89dfdb",
   "metadata": {
    "execution": {
     "iopub.execute_input": "2024-02-05T16:22:52.354085Z",
     "iopub.status.busy": "2024-02-05T16:22:52.353732Z",
     "iopub.status.idle": "2024-02-05T16:22:52.690936Z",
     "shell.execute_reply": "2024-02-05T16:22:52.689833Z"
    },
    "papermill": {
     "duration": 0.390919,
     "end_time": "2024-02-05T16:22:52.693248",
     "exception": false,
     "start_time": "2024-02-05T16:22:52.302329",
     "status": "completed"
    },
    "tags": []
   },
   "outputs": [
    {
     "data": {
      "image/png": "[encoded data removed]",
      "text/plain": [
       "<Figure size 640x480 with 1 Axes>"
      ]
     },
     "metadata": {},
     "output_type": "display_data"
    }
   ],
   "source": [
    "plt.plot(y_test_inverse, label=\"Actual Price\", color='green')\n",
    "plt.plot(y_hat_inverse, label=\"Predicted Price\", color='red')\n",
    " \n",
    "plt.title(f'{SHEET_NAME} Price Prediction\\nLSTM = {LSTM_Layer}, Split Data = {SPLIT}, Window = {WINDOW_SIZE}', fontsize=15)\n",
    "plt.xlabel('Time [days]')\n",
    "plt.ylabel('Price')\n",
    "plt.legend(loc='best')\n",
    " \n",
    "plt.show()"
   ]
  },
  {
   "cell_type": "code",
   "execution_count": 20,
   "id": "0366e214",
   "metadata": {
    "execution": {
     "iopub.execute_input": "2024-02-05T16:22:52.799056Z",
     "iopub.status.busy": "2024-02-05T16:22:52.798682Z",
     "iopub.status.idle": "2024-02-05T16:22:52.808412Z",
     "shell.execute_reply": "2024-02-05T16:22:52.807189Z"
    },
    "papermill": {
     "duration": 0.064889,
     "end_time": "2024-02-05T16:22:52.810301",
     "exception": false,
     "start_time": "2024-02-05T16:22:52.745412",
     "status": "completed"
    },
    "tags": []
   },
   "outputs": [
    {
     "name": "stdout",
     "output_type": "stream",
     "text": [
      "LSTM = 1, Split Data = 0.8, Window = 5\n",
      "\n",
      "----------------- Normalized Error -----------------\n",
      "Mean Absolute Error for prediction : 0.024055593911219822\n",
      "Mean Squared Error for prediction : 0.0010219681214160732\n",
      "Root Mean Squared Error for prediction : 0.03196823613238731\n",
      "\n",
      "----------------- Actual Error -----------------\n",
      "Mean Absolute Error for prediction : 61.973258010284965\n",
      "Mean Squared Error for prediction : 6782.874280248066\n",
      "Root Mean Squared Error for prediction : 82.35820712137962\n"
     ]
    }
   ],
   "source": [
    "def matrices(actual, predicted):\n",
    "    mse = mean_squared_error(actual, predicted)\n",
    "    mae = mean_absolute_error(actual, predicted)\n",
    "    rmse = np.sqrt(mse)\n",
    "    print(\"Mean Absolute Error for prediction :\", mae)\n",
    "    print(\"Mean Squared Error for prediction :\", mse)\n",
    "    print(\"Root Mean Squared Error for prediction :\", rmse)\n",
    "    return mae, mse, rmse\n",
    "\n",
    "print(f\"LSTM = {LSTM_Layer}, Split Data = {SPLIT}, Window = {WINDOW_SIZE}\")\n",
    "print(\"\\n----------------- Normalized Error -----------------\")\n",
    "mae, mse, rmse = matrices(y_test, y_hat)\n",
    "print(\"\\n----------------- Actual Error -----------------\")\n",
    "mae_inverse, mse_inverse, rmse_inverse = matrices(y_test_inverse, y_hat_inverse)"
   ]
  }
 ],
 "metadata": {
  "kaggle": {
   "accelerator": "gpu",
   "dataSources": [],
   "dockerImageVersionId": 30498,
   "isGpuEnabled": true,
   "isInternetEnabled": true,
   "language": "python",
   "sourceType": "notebook"
  },
  "kernelspec": {
   "display_name": "Python 3",
   "language": "python",
   "name": "python3"
  },
  "language_info": {
   "codemirror_mode": {
    "name": "ipython",
    "version": 3
   },
   "file_extension": ".py",
   "mimetype": "text/x-python",
   "name": "python",
   "nbconvert_exporter": "python",
   "pygments_lexer": "ipython3",
   "version": "3.10.10"
  },
  "papermill": {
   "default_parameters": {},
   "duration": 552.950192,
   "end_time": "2024-02-05T16:22:56.624724",
   "environment_variables": {},
   "exception": null,
   "input_path": "__notebook__.ipynb",
   "output_path": "__notebook__.ipynb",
   "parameters": {},
   "start_time": "2024-02-05T16:13:43.674532",
   "version": "2.4.0"
  }
 },
 "nbformat": 4,
 "nbformat_minor": 5
}
