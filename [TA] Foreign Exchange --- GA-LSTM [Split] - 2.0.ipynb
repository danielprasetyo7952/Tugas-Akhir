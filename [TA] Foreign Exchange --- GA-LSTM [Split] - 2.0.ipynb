{
 "cells": [
  {
   "cell_type": "code",
   "execution_count": 1,
   "id": "15fc50f7",
   "metadata": {
    "execution": {
     "iopub.execute_input": "2024-02-06T04:51:44.630875Z",
     "iopub.status.busy": "2024-02-06T04:51:44.630597Z",
     "iopub.status.idle": "2024-02-06T04:51:53.413999Z",
     "shell.execute_reply": "2024-02-06T04:51:53.413066Z"
    },
    "papermill": {
     "duration": 8.79381,
     "end_time": "2024-02-06T04:51:53.416328",
     "exception": false,
     "start_time": "2024-02-06T04:51:44.622518",
     "status": "completed"
    },
    "tags": []
   },
   "outputs": [
    {
     "name": "stderr",
     "output_type": "stream",
     "text": [
      "/opt/conda/lib/python3.10/site-packages/tensorflow_io/python/ops/__init__.py:98: UserWarning: unable to load libtensorflow_io_plugins.so: unable to open file: libtensorflow_io_plugins.so, from paths: ['/opt/conda/lib/python3.10/site-packages/tensorflow_io/python/ops/libtensorflow_io_plugins.so']\n",
      "caused by: ['/opt/conda/lib/python3.10/site-packages/tensorflow_io/python/ops/libtensorflow_io_plugins.so: undefined symbol: _ZN3tsl6StatusC1EN10tensorflow5error4CodeESt17basic_string_viewIcSt11char_traitsIcEENS_14SourceLocationE']\n",
      "  warnings.warn(f\"unable to load libtensorflow_io_plugins.so: {e}\")\n",
      "/opt/conda/lib/python3.10/site-packages/tensorflow_io/python/ops/__init__.py:104: UserWarning: file system plugins are not loaded: unable to open file: libtensorflow_io.so, from paths: ['/opt/conda/lib/python3.10/site-packages/tensorflow_io/python/ops/libtensorflow_io.so']\n",
      "caused by: ['/opt/conda/lib/python3.10/site-packages/tensorflow_io/python/ops/libtensorflow_io.so: undefined symbol: _ZTVN10tensorflow13GcsFileSystemE']\n",
      "  warnings.warn(f\"file system plugins are not loaded: {e}\")\n"
     ]
    }
   ],
   "source": [
    "import pandas as pd\n",
    "import numpy as np\n",
    "import tensorflow as tf\n",
    "import matplotlib.pyplot as plt\n",
    "import datetime, pytz\n",
    "\n",
    "from keras.models import Sequential\n",
    "from keras.layers import LSTM, Dense\n",
    "from keras.metrics import RootMeanSquaredError\n",
    "\n",
    "from sklearn.preprocessing import MinMaxScaler\n",
    "from sklearn.metrics import mean_squared_error, mean_absolute_error"
   ]
  },
  {
   "cell_type": "markdown",
   "id": "af524de9",
   "metadata": {
    "papermill": {
     "duration": 0.006262,
     "end_time": "2024-02-06T04:51:53.429525",
     "exception": false,
     "start_time": "2024-02-06T04:51:53.423263",
     "status": "completed"
    },
    "tags": []
   },
   "source": [
    "## Hyperparameter"
   ]
  },
  {
   "cell_type": "code",
   "execution_count": 2,
   "id": "b814b31d",
   "metadata": {
    "execution": {
     "iopub.execute_input": "2024-02-06T04:51:53.443821Z",
     "iopub.status.busy": "2024-02-06T04:51:53.443228Z",
     "iopub.status.idle": "2024-02-06T04:51:53.447951Z",
     "shell.execute_reply": "2024-02-06T04:51:53.447083Z"
    },
    "papermill": {
     "duration": 0.013936,
     "end_time": "2024-02-06T04:51:53.449803",
     "exception": false,
     "start_time": "2024-02-06T04:51:53.435867",
     "status": "completed"
    },
    "tags": []
   },
   "outputs": [],
   "source": [
    "# Google Spreadsheet ID\n",
    "SHEET_ID = '1JDNv_mArl-GPIpxuWS5GxgVEwvjXocS1MrXGc6TYs8M'\n",
    "SHEET_NAME = 'SGD/IDR' # USD/IDR, EUR/IDR, SGD/IDR\n",
    "\n",
    "SEQ_LEN = 11 # 6, 11, 21\n",
    "SPLIT = 0.90 # 0.80, 0.90\n",
    "LSTM_Layer = 2 # 1, 2, 3\n",
    "WINDOW_SIZE = SEQ_LEN - 1"
   ]
  },
  {
   "cell_type": "code",
   "execution_count": 3,
   "id": "9da12393",
   "metadata": {
    "execution": {
     "iopub.execute_input": "2024-02-06T04:51:53.463477Z",
     "iopub.status.busy": "2024-02-06T04:51:53.463236Z",
     "iopub.status.idle": "2024-02-06T04:51:54.958060Z",
     "shell.execute_reply": "2024-02-06T04:51:54.956990Z"
    },
    "papermill": {
     "duration": 1.503965,
     "end_time": "2024-02-06T04:51:54.960121",
     "exception": false,
     "start_time": "2024-02-06T04:51:53.456156",
     "status": "completed"
    },
    "tags": []
   },
   "outputs": [
    {
     "name": "stdout",
     "output_type": "stream",
     "text": [
      "<class 'pandas.core.frame.DataFrame'>\n",
      "RangeIndex: 1959 entries, 0 to 1958\n",
      "Data columns (total 2 columns):\n",
      " #   Column  Non-Null Count  Dtype         \n",
      "---  ------  --------------  -----         \n",
      " 0   Date    1959 non-null   datetime64[ns]\n",
      " 1   Close   1959 non-null   float64       \n",
      "dtypes: datetime64[ns](1), float64(1)\n",
      "memory usage: 30.7 KB\n"
     ]
    }
   ],
   "source": [
    "url = f'https://docs.google.com/spreadsheets/d/{SHEET_ID}/gviz/tq?tqx=out:csv&sheet={SHEET_NAME}'\n",
    "data = pd.read_csv(url)\n",
    "\n",
    "# Convert Date columns to datetime format\n",
    "data['Date'] = pd.to_datetime(data['Date'], format='%d/%m/%Y %H:%M:%S')\n",
    "data.info()"
   ]
  },
  {
   "cell_type": "markdown",
   "id": "5339b2fa",
   "metadata": {
    "papermill": {
     "duration": 0.006375,
     "end_time": "2024-02-06T04:51:54.973692",
     "exception": false,
     "start_time": "2024-02-06T04:51:54.967317",
     "status": "completed"
    },
    "tags": []
   },
   "source": [
    "## Preprocessing"
   ]
  },
  {
   "cell_type": "code",
   "execution_count": 4,
   "id": "3ba98e9d",
   "metadata": {
    "execution": {
     "iopub.execute_input": "2024-02-06T04:51:54.987916Z",
     "iopub.status.busy": "2024-02-06T04:51:54.987606Z",
     "iopub.status.idle": "2024-02-06T04:51:54.998068Z",
     "shell.execute_reply": "2024-02-06T04:51:54.996826Z"
    },
    "papermill": {
     "duration": 0.019861,
     "end_time": "2024-02-06T04:51:55.000036",
     "exception": false,
     "start_time": "2024-02-06T04:51:54.980175",
     "status": "completed"
    },
    "tags": []
   },
   "outputs": [
    {
     "name": "stderr",
     "output_type": "stream",
     "text": [
      "/tmp/ipykernel_26/2274720815.py:7: SettingWithCopyWarning: \n",
      "A value is trying to be set on a copy of a slice from a DataFrame\n",
      "\n",
      "See the caveats in the documentation: https://pandas.pydata.org/pandas-docs/stable/user_guide/indexing.html#returning-a-view-versus-a-copy\n",
      "  data[data < lower_bound] = lower_bound\n",
      "/tmp/ipykernel_26/2274720815.py:8: SettingWithCopyWarning: \n",
      "A value is trying to be set on a copy of a slice from a DataFrame\n",
      "\n",
      "See the caveats in the documentation: https://pandas.pydata.org/pandas-docs/stable/user_guide/indexing.html#returning-a-view-versus-a-copy\n",
      "  data[data > upper_bound] = upper_bound\n"
     ]
    }
   ],
   "source": [
    "def replace_outliers(data):\n",
    "    Q1 = np.percentile(data, 25)\n",
    "    Q3 = np.percentile(data, 75)\n",
    "    IQR = Q3 - Q1\n",
    "    lower_bound = Q1 - 1.5 * IQR\n",
    "    upper_bound = Q3 + 1.5 * IQR\n",
    "    data[data < lower_bound] = lower_bound\n",
    "    data[data > upper_bound] = upper_bound\n",
    "    return data\n",
    "\n",
    "data['Close'] = replace_outliers(data['Close'])"
   ]
  },
  {
   "cell_type": "code",
   "execution_count": 5,
   "id": "612b8ccb",
   "metadata": {
    "execution": {
     "iopub.execute_input": "2024-02-06T04:51:55.014242Z",
     "iopub.status.busy": "2024-02-06T04:51:55.013964Z",
     "iopub.status.idle": "2024-02-06T04:51:55.261505Z",
     "shell.execute_reply": "2024-02-06T04:51:55.260659Z"
    },
    "papermill": {
     "duration": 0.25695,
     "end_time": "2024-02-06T04:51:55.263584",
     "exception": false,
     "start_time": "2024-02-06T04:51:55.006634",
     "status": "completed"
    },
    "tags": []
   },
   "outputs": [
    {
     "data": {
      "image/png": "[encoded data removed]",
      "text/plain": [
       "<Figure size 640x480 with 1 Axes>"
      ]
     },
     "metadata": {},
     "output_type": "display_data"
    }
   ],
   "source": [
    "# Boxplot for outlier detection\n",
    "plt.boxplot(data['Close'])\n",
    "plt.title(f\"{SHEET_NAME} Boxplot for Outlier Detection\")\n",
    "plt.xlabel(\"Close\")\n",
    "plt.ylabel(\"Values\")\n",
    "plt.show()"
   ]
  },
  {
   "cell_type": "code",
   "execution_count": 6,
   "id": "e9308e9b",
   "metadata": {
    "execution": {
     "iopub.execute_input": "2024-02-06T04:51:55.279241Z",
     "iopub.status.busy": "2024-02-06T04:51:55.278935Z",
     "iopub.status.idle": "2024-02-06T04:51:55.285941Z",
     "shell.execute_reply": "2024-02-06T04:51:55.285183Z"
    },
    "papermill": {
     "duration": 0.016871,
     "end_time": "2024-02-06T04:51:55.288000",
     "exception": false,
     "start_time": "2024-02-06T04:51:55.271129",
     "status": "completed"
    },
    "tags": []
   },
   "outputs": [
    {
     "data": {
      "text/plain": [
       "(1959, 1)"
      ]
     },
     "execution_count": 6,
     "metadata": {},
     "output_type": "execute_result"
    }
   ],
   "source": [
    "scaler = MinMaxScaler()\n",
    "close_price = data.Close.values.reshape(-1, 1)\n",
    "scaled_close = scaler.fit_transform(close_price)\n",
    "scaled_close.shape"
   ]
  },
  {
   "cell_type": "code",
   "execution_count": 7,
   "id": "b0124c38",
   "metadata": {
    "execution": {
     "iopub.execute_input": "2024-02-06T04:51:55.303342Z",
     "iopub.status.busy": "2024-02-06T04:51:55.303064Z",
     "iopub.status.idle": "2024-02-06T04:51:55.312359Z",
     "shell.execute_reply": "2024-02-06T04:51:55.311554Z"
    },
    "papermill": {
     "duration": 0.018919,
     "end_time": "2024-02-06T04:51:55.314101",
     "exception": false,
     "start_time": "2024-02-06T04:51:55.295182",
     "status": "completed"
    },
    "tags": []
   },
   "outputs": [],
   "source": [
    "def to_sequences(data, seq_len):\n",
    "    d = []\n",
    "    for index in range(len(data) - seq_len):\n",
    "        d.append(data[index: index + seq_len])\n",
    "    return np.array(d)\n",
    "\n",
    "def preprocess(data_raw, seq_len, train_split):\n",
    "    data = to_sequences(data_raw, seq_len)\n",
    "    num_train = int(train_split * data.shape[0])\n",
    "    X_train = data[:num_train, :-1, :]\n",
    "    y_train = data[:num_train, -1, :]\n",
    "    X_test = data[num_train:, :-1, :]\n",
    "    y_test = data[num_train:, -1, :]\n",
    "    return X_train, y_train, X_test, y_test\n",
    "\n",
    "X_train, y_train, X_test, y_test = preprocess(scaled_close, SEQ_LEN, train_split = SPLIT)"
   ]
  },
  {
   "cell_type": "markdown",
   "id": "063c036c",
   "metadata": {
    "papermill": {
     "duration": 0.006876,
     "end_time": "2024-02-06T04:51:55.328223",
     "exception": false,
     "start_time": "2024-02-06T04:51:55.321347",
     "status": "completed"
    },
    "tags": []
   },
   "source": [
    "## Genetic Algorithm"
   ]
  },
  {
   "cell_type": "code",
   "execution_count": 8,
   "id": "4bad63fc",
   "metadata": {
    "execution": {
     "iopub.execute_input": "2024-02-06T04:51:55.343637Z",
     "iopub.status.busy": "2024-02-06T04:51:55.343194Z",
     "iopub.status.idle": "2024-02-06T04:51:55.348454Z",
     "shell.execute_reply": "2024-02-06T04:51:55.347630Z"
    },
    "papermill": {
     "duration": 0.014969,
     "end_time": "2024-02-06T04:51:55.350278",
     "exception": false,
     "start_time": "2024-02-06T04:51:55.335309",
     "status": "completed"
    },
    "tags": []
   },
   "outputs": [],
   "source": [
    "def decimal_to_binary(chromosome: list):\n",
    "    binary_string = ''.join([bin(x)[2:].zfill(8) for x in chromosome])\n",
    "    return binary_string\n",
    "\n",
    "def binary_to_decimal(binary_string: str):\n",
    "    decimal_array = [int(binary, 2) for binary in [binary_string[i:i+8] for i in range(0, len(binary_string), 8)]]\n",
    "    return decimal_array"
   ]
  },
  {
   "cell_type": "code",
   "execution_count": 9,
   "id": "3d83523f",
   "metadata": {
    "execution": {
     "iopub.execute_input": "2024-02-06T04:51:55.365530Z",
     "iopub.status.busy": "2024-02-06T04:51:55.365273Z",
     "iopub.status.idle": "2024-02-06T04:51:55.383532Z",
     "shell.execute_reply": "2024-02-06T04:51:55.382738Z"
    },
    "papermill": {
     "duration": 0.027958,
     "end_time": "2024-02-06T04:51:55.385328",
     "exception": false,
     "start_time": "2024-02-06T04:51:55.357370",
     "status": "completed"
    },
    "tags": []
   },
   "outputs": [],
   "source": [
    "# Genetic Algorithm\n",
    "def genetic_algorithm(generations, mutation_rate):\n",
    "    print(f\"Inizialized Population...\")\n",
    "    population = np.random.randint(1, high=251, size=(10, 3))\n",
    "    fitness_scores = np.array([fitness_function(chromosome) for chromosome in population])\n",
    "    max_fitness_each_gen = []\n",
    "    \n",
    "    for generation in range(generations):\n",
    "        print(f\"Generation - {generation + 1}\")\n",
    "        max_fitness_each_gen.append(np.max(fitness_scores))\n",
    "        \n",
    "        chromosome_1 = selection(population, fitness_scores)\n",
    "        chromosome_2 = selection(population, fitness_scores)\n",
    "        \n",
    "        if generation % mutation_rate == 0:\n",
    "            chromosome_1 = mutate(chromosome_1)\n",
    "            chromosome_2 = mutate(chromosome_2)\n",
    "        else:\n",
    "            chromosome_1, chromosome_2 = crossover(chromosome_1, chromosome_2)\n",
    "\n",
    "        fitness_score_1 = fitness_function(chromosome_1)\n",
    "        fitness_score_2 = fitness_function(chromosome_2)\n",
    "        \n",
    "        worst_index = np.argmin(fitness_scores)\n",
    "        worst_fitness = fitness_scores[worst_index]\n",
    "\n",
    "        if fitness_score_1 > worst_fitness:\n",
    "            population[worst_index] = chromosome_1\n",
    "            fitness_scores[worst_index] = fitness_score_1\n",
    "            worst_index = np.argmin(fitness_scores)\n",
    "            worst_fitness = fitness_scores[worst_index]\n",
    "\n",
    "        if fitness_score_2 > worst_fitness:\n",
    "            population[worst_index] = chromosome_2\n",
    "            fitness_scores[worst_index] = fitness_score_2\n",
    "        \n",
    "        # Release some memory\n",
    "        del chromosome_1, chromosome_2\n",
    "        del fitness_score_1, fitness_score_2\n",
    "        del worst_index, worst_fitness\n",
    "            \n",
    "    best_chromosome = population[np.argmax(fitness_scores)]\n",
    "    best_fitness = np.max(fitness_scores)\n",
    "    \n",
    "    return best_chromosome, best_fitness, max_fitness_each_gen\n",
    "\n",
    "# Selection (Tournament selection)\n",
    "def selection(population, fitness_scores, tournament_size=3):\n",
    "    indices = np.random.randint(len(population), size=tournament_size)\n",
    "    tournament = population[indices]\n",
    "    tournament_fitness = fitness_scores[indices]\n",
    "    return tournament[np.argmax(tournament_fitness)]\n",
    "\n",
    "# Crossover (Single-point crossover)\n",
    "def crossover(parent_1: list, parent_2: list):\n",
    "    parent_1 = decimal_to_binary(parent_1)\n",
    "    parent_2 = decimal_to_binary(parent_2)\n",
    "    \n",
    "    crossover_point = np.random.randint(1, len(parent_1))\n",
    "    offspring_1 = parent_1[:crossover_point] + parent_2[crossover_point:]\n",
    "    offspring_2 = parent_2[:crossover_point] + parent_1[crossover_point:]\n",
    "    \n",
    "    offspring_1 = binary_to_decimal(offspring_1)\n",
    "    offspring_2 = binary_to_decimal(offspring_2)\n",
    "    return offspring_1, offspring_2\n",
    "\n",
    "# Mutation (Swap Mutation)\n",
    "def mutate(chromosome: list):\n",
    "    chromosome = decimal_to_binary(chromosome)\n",
    "    \n",
    "    chromosome_list = list(chromosome)\n",
    "    i = np.random.randint(len(chromosome_list), size=2)\n",
    "    chromosome_list[i[0]], chromosome_list[i[1]] = chromosome_list[i[1]], chromosome_list[i[0]]\n",
    "    \n",
    "    chromosome_list = ''.join(chromosome_list)\n",
    "    chromosome = binary_to_decimal(chromosome_list)\n",
    "    return chromosome\n",
    "\n",
    "# Fitness Function\n",
    "def fitness_function(chromosome: list):\n",
    "    lstm_units = [int(chromosome[i]) or default for i, default in enumerate([128, 64, 32])]\n",
    "\n",
    "    # Build the LSTM model\n",
    "    tf.keras.backend.clear_session()\n",
    "    model = Sequential()\n",
    "    for i, units in enumerate(lstm_units[:LSTM_Layer]):\n",
    "        model.add(LSTM(units, return_sequences=(i < LSTM_Layer - 1), input_shape=(WINDOW_SIZE, 1)))\n",
    "    model.add(Dense(1))\n",
    "    \n",
    "    # Compile and train the model\n",
    "    model.compile(loss='mean_squared_error',\n",
    "                  optimizer='adam')\n",
    "    model.fit(X_train, y_train,\n",
    "              epochs=10,\n",
    "              batch_size=32,\n",
    "              verbose=0,\n",
    "              validation_split=0.1)\n",
    "\n",
    "    # Evaluate the model\n",
    "    loss = model.evaluate(X_test, y_test)\n",
    "\n",
    "    # Return the negative value of the loss as the fitness score\n",
    "    return -loss"
   ]
  },
  {
   "cell_type": "code",
   "execution_count": 10,
   "id": "3200400a",
   "metadata": {
    "execution": {
     "iopub.execute_input": "2024-02-06T04:51:55.400504Z",
     "iopub.status.busy": "2024-02-06T04:51:55.400243Z",
     "iopub.status.idle": "2024-02-06T04:51:55.405489Z",
     "shell.execute_reply": "2024-02-06T04:51:55.404687Z"
    },
    "papermill": {
     "duration": 0.014938,
     "end_time": "2024-02-06T04:51:55.407301",
     "exception": false,
     "start_time": "2024-02-06T04:51:55.392363",
     "status": "completed"
    },
    "tags": []
   },
   "outputs": [],
   "source": [
    "import typing\n",
    "from datetime import datetime\n",
    "\n",
    "def timer(start_time: datetime = None) -> \"typing.Union[datetime.datetime, str]\":\n",
    "    if not start_time:\n",
    "        start_time = datetime.now()\n",
    "        return start_time\n",
    "    elif start_time:\n",
    "        thour, temp_sec = divmod((datetime.now() - start_time).total_seconds(), 3600)\n",
    "        tmin, tsec = divmod(temp_sec, 60)\n",
    "        return \"%i hours %i minutes and %s seconds.\" % (\n",
    "            thour,\n",
    "            tmin,\n",
    "            round(tsec, 2),\n",
    "        )"
   ]
  },
  {
   "cell_type": "code",
   "execution_count": 11,
   "id": "b97e4fb0",
   "metadata": {
    "execution": {
     "iopub.execute_input": "2024-02-06T04:51:55.422886Z",
     "iopub.status.busy": "2024-02-06T04:51:55.422205Z",
     "iopub.status.idle": "2024-02-06T05:05:57.542111Z",
     "shell.execute_reply": "2024-02-06T05:05:57.541076Z"
    },
    "papermill": {
     "duration": 842.139666,
     "end_time": "2024-02-06T05:05:57.554009",
     "exception": false,
     "start_time": "2024-02-06T04:51:55.414343",
     "status": "completed"
    },
    "tags": []
   },
   "outputs": [
    {
     "name": "stdout",
     "output_type": "stream",
     "text": [
      "Inizialized Population...\n",
      "7/7 [==============================] - 0s 3ms/step - loss: 5.8710e-04\n",
      "7/7 [==============================] - 0s 3ms/step - loss: 9.9210e-04\n",
      "7/7 [==============================] - 0s 3ms/step - loss: 6.3410e-04\n",
      "7/7 [==============================] - 0s 3ms/step - loss: 0.0014\n",
      "7/7 [==============================] - 0s 3ms/step - loss: 7.3741e-04\n",
      "7/7 [==============================] - 0s 3ms/step - loss: 0.0011\n",
      "7/7 [==============================] - 0s 3ms/step - loss: 6.4517e-04\n",
      "7/7 [==============================] - 0s 3ms/step - loss: 4.3248e-04\n",
      "7/7 [==============================] - 0s 3ms/step - loss: 0.0012\n",
      "7/7 [==============================] - 0s 3ms/step - loss: 5.1024e-04\n",
      "Generation - 1\n",
      "7/7 [==============================] - 0s 3ms/step - loss: 0.0015\n",
      "7/7 [==============================] - 0s 3ms/step - loss: 0.0026\n",
      "Generation - 2\n",
      "7/7 [==============================] - 0s 3ms/step - loss: 0.0025\n",
      "7/7 [==============================] - 0s 3ms/step - loss: 4.7577e-04\n",
      "Generation - 3\n",
      "7/7 [==============================] - 0s 3ms/step - loss: 7.2502e-04\n",
      "7/7 [==============================] - 0s 3ms/step - loss: 0.0029\n",
      "Generation - 4\n",
      "7/7 [==============================] - 0s 4ms/step - loss: 5.2579e-04\n",
      "7/7 [==============================] - 0s 3ms/step - loss: 0.0019\n",
      "Generation - 5\n",
      "7/7 [==============================] - 0s 3ms/step - loss: 5.5012e-04\n",
      "7/7 [==============================] - 0s 3ms/step - loss: 0.0103\n",
      "Generation - 6\n",
      "7/7 [==============================] - 0s 3ms/step - loss: 0.0016\n",
      "7/7 [==============================] - 0s 3ms/step - loss: 0.0013\n",
      "Generation - 7\n",
      "7/7 [==============================] - 0s 3ms/step - loss: 0.0027\n",
      "7/7 [==============================] - 0s 4ms/step - loss: 5.8527e-04\n",
      "Generation - 8\n",
      "7/7 [==============================] - 0s 3ms/step - loss: 0.0048\n",
      "7/7 [==============================] - 0s 3ms/step - loss: 4.5806e-04\n",
      "Generation - 9\n",
      "7/7 [==============================] - 0s 3ms/step - loss: 0.0021\n",
      "7/7 [==============================] - 0s 3ms/step - loss: 0.0025\n",
      "Generation - 10\n",
      "7/7 [==============================] - 0s 3ms/step - loss: 0.0038\n",
      "7/7 [==============================] - 0s 3ms/step - loss: 0.0037\n",
      "Generation - 11\n",
      "7/7 [==============================] - 0s 3ms/step - loss: 0.0034\n",
      "7/7 [==============================] - 0s 3ms/step - loss: 0.0051\n",
      "Generation - 12\n",
      "7/7 [==============================] - 0s 3ms/step - loss: 0.0104\n",
      "7/7 [==============================] - 0s 3ms/step - loss: 0.0036\n",
      "Generation - 13\n",
      "7/7 [==============================] - 0s 3ms/step - loss: 5.9262e-04\n",
      "7/7 [==============================] - 0s 3ms/step - loss: 0.0074\n",
      "Generation - 14\n",
      "7/7 [==============================] - 0s 3ms/step - loss: 0.0024\n",
      "7/7 [==============================] - 0s 3ms/step - loss: 0.0018\n",
      "Generation - 15\n",
      "7/7 [==============================] - 0s 3ms/step - loss: 0.0014\n",
      "7/7 [==============================] - 0s 3ms/step - loss: 0.0028\n",
      "Generation - 16\n",
      "7/7 [==============================] - 0s 3ms/step - loss: 0.0028\n",
      "7/7 [==============================] - 0s 3ms/step - loss: 6.6774e-04\n",
      "Generation - 17\n",
      "7/7 [==============================] - 0s 3ms/step - loss: 4.5494e-04\n",
      "7/7 [==============================] - 0s 3ms/step - loss: 0.0015\n",
      "Generation - 18\n",
      "7/7 [==============================] - 0s 3ms/step - loss: 0.0031\n",
      "7/7 [==============================] - 0s 3ms/step - loss: 5.5227e-04\n",
      "Generation - 19\n",
      "7/7 [==============================] - 0s 3ms/step - loss: 4.3218e-04\n",
      "7/7 [==============================] - 0s 3ms/step - loss: 9.9635e-04\n",
      "Generation - 20\n",
      "7/7 [==============================] - 0s 3ms/step - loss: 4.0971e-04\n",
      "7/7 [==============================] - 0s 3ms/step - loss: 0.0072\n",
      "Generation - 21\n",
      "7/7 [==============================] - 0s 3ms/step - loss: 4.7678e-04\n",
      "7/7 [==============================] - 0s 3ms/step - loss: 5.7632e-04\n",
      "Generation - 22\n",
      "7/7 [==============================] - 0s 4ms/step - loss: 0.0011\n",
      "7/7 [==============================] - 0s 4ms/step - loss: 0.0014\n",
      "Generation - 23\n",
      "7/7 [==============================] - 0s 3ms/step - loss: 9.8778e-04\n",
      "7/7 [==============================] - 0s 3ms/step - loss: 9.0053e-04\n",
      "Generation - 24\n",
      "7/7 [==============================] - 0s 3ms/step - loss: 0.0051\n",
      "7/7 [==============================] - 0s 4ms/step - loss: 0.0025\n",
      "Generation - 25\n",
      "7/7 [==============================] - 0s 3ms/step - loss: 0.0014\n",
      "7/7 [==============================] - 0s 3ms/step - loss: 0.0017\n",
      "Generation - 26\n",
      "7/7 [==============================] - 0s 3ms/step - loss: 0.0040\n",
      "7/7 [==============================] - 0s 4ms/step - loss: 0.0037\n",
      "Generation - 27\n",
      "7/7 [==============================] - 0s 3ms/step - loss: 0.0010\n",
      "7/7 [==============================] - 0s 3ms/step - loss: 0.0027\n",
      "Generation - 28\n",
      "7/7 [==============================] - 0s 3ms/step - loss: 0.0014\n",
      "7/7 [==============================] - 0s 3ms/step - loss: 0.0057\n",
      "Generation - 29\n",
      "7/7 [==============================] - 0s 3ms/step - loss: 0.0023\n",
      "7/7 [==============================] - 0s 3ms/step - loss: 0.0013\n",
      "Generation - 30\n",
      "7/7 [==============================] - 0s 3ms/step - loss: 0.0084\n",
      "7/7 [==============================] - 0s 4ms/step - loss: 0.0048\n",
      "Generation - 31\n",
      "7/7 [==============================] - 0s 3ms/step - loss: 0.0011\n",
      "7/7 [==============================] - 0s 3ms/step - loss: 0.0032\n",
      "Generation - 32\n",
      "7/7 [==============================] - 0s 3ms/step - loss: 0.0014\n",
      "7/7 [==============================] - 0s 3ms/step - loss: 5.7436e-04\n",
      "Generation - 33\n",
      "7/7 [==============================] - 0s 3ms/step - loss: 5.5579e-04\n",
      "7/7 [==============================] - 0s 3ms/step - loss: 0.0037\n",
      "Generation - 34\n",
      "7/7 [==============================] - 0s 3ms/step - loss: 6.4426e-04\n",
      "7/7 [==============================] - 0s 3ms/step - loss: 4.9105e-04\n",
      "Generation - 35\n",
      "7/7 [==============================] - 0s 3ms/step - loss: 0.0024\n",
      "7/7 [==============================] - 0s 3ms/step - loss: 0.0015\n",
      "Generation - 36\n",
      "7/7 [==============================] - 0s 3ms/step - loss: 0.0017\n",
      "7/7 [==============================] - 0s 3ms/step - loss: 4.1929e-04\n",
      "Generation - 37\n",
      "7/7 [==============================] - 0s 3ms/step - loss: 0.0010\n",
      "7/7 [==============================] - 0s 3ms/step - loss: 0.0012\n",
      "Generation - 38\n",
      "7/7 [==============================] - 0s 3ms/step - loss: 0.0015\n",
      "7/7 [==============================] - 0s 3ms/step - loss: 5.5275e-04\n",
      "Generation - 39\n",
      "7/7 [==============================] - 0s 3ms/step - loss: 4.6017e-04\n",
      "7/7 [==============================] - 0s 3ms/step - loss: 4.5879e-04\n",
      "Generation - 40\n",
      "7/7 [==============================] - 0s 3ms/step - loss: 0.0051\n",
      "7/7 [==============================] - 0s 3ms/step - loss: 5.4859e-04\n",
      "Generation - 41\n",
      "7/7 [==============================] - 0s 3ms/step - loss: 0.0032\n",
      "7/7 [==============================] - 0s 3ms/step - loss: 0.0046\n",
      "Generation - 42\n",
      "7/7 [==============================] - 0s 3ms/step - loss: 0.0026\n",
      "7/7 [==============================] - 0s 3ms/step - loss: 4.8668e-04\n",
      "Generation - 43\n",
      "7/7 [==============================] - 0s 3ms/step - loss: 0.0036\n",
      "7/7 [==============================] - 0s 3ms/step - loss: 4.7761e-04\n",
      "Generation - 44\n",
      "7/7 [==============================] - 0s 3ms/step - loss: 0.0141\n",
      "7/7 [==============================] - 0s 4ms/step - loss: 5.9066e-04\n",
      "Generation - 45\n",
      "7/7 [==============================] - 0s 4ms/step - loss: 0.0031\n",
      "7/7 [==============================] - 0s 3ms/step - loss: 0.0022\n",
      "Generation - 46\n",
      "7/7 [==============================] - 0s 3ms/step - loss: 4.1804e-04\n",
      "7/7 [==============================] - 0s 4ms/step - loss: 5.0428e-04\n",
      "Generation - 47\n",
      "7/7 [==============================] - 0s 3ms/step - loss: 7.8724e-04\n",
      "7/7 [==============================] - 0s 3ms/step - loss: 0.0092\n",
      "Generation - 48\n",
      "7/7 [==============================] - 0s 3ms/step - loss: 6.5095e-04\n",
      "7/7 [==============================] - 0s 4ms/step - loss: 0.0017\n",
      "Generation - 49\n",
      "7/7 [==============================] - 0s 3ms/step - loss: 0.0017\n",
      "7/7 [==============================] - 0s 3ms/step - loss: 0.0028\n",
      "Generation - 50\n",
      "7/7 [==============================] - 0s 3ms/step - loss: 0.0144\n",
      "7/7 [==============================] - 0s 4ms/step - loss: 4.5603e-04\n"
     ]
    }
   ],
   "source": [
    "# Do not increase this value\n",
    "generations = 50\n",
    "mutation_rate = 5\n",
    "\n",
    "time = timer(None)\n",
    "best_chromosome, best_fitness, max_fitness_each_gen = genetic_algorithm(generations, mutation_rate)\n",
    "time = timer(time)"
   ]
  },
  {
   "cell_type": "code",
   "execution_count": 12,
   "id": "31d0e3d9",
   "metadata": {
    "execution": {
     "iopub.execute_input": "2024-02-06T05:05:57.610542Z",
     "iopub.status.busy": "2024-02-06T05:05:57.610229Z",
     "iopub.status.idle": "2024-02-06T05:05:57.615242Z",
     "shell.execute_reply": "2024-02-06T05:05:57.614317Z"
    },
    "papermill": {
     "duration": 0.03519,
     "end_time": "2024-02-06T05:05:57.617198",
     "exception": false,
     "start_time": "2024-02-06T05:05:57.582008",
     "status": "completed"
    },
    "tags": []
   },
   "outputs": [
    {
     "name": "stdout",
     "output_type": "stream",
     "text": [
      "Best Chromosome: [228  78  50]\n",
      "Best Fitness: -0.0004097075143363327\n",
      "Time Taken: 0 hours 14 minutes and 2.12 seconds.\n"
     ]
    }
   ],
   "source": [
    "print(\"Best Chromosome:\", best_chromosome)\n",
    "print(\"Best Fitness:\", best_fitness)\n",
    "print(\"Time Taken:\", time)"
   ]
  },
  {
   "cell_type": "code",
   "execution_count": 13,
   "id": "3ea64f43",
   "metadata": {
    "execution": {
     "iopub.execute_input": "2024-02-06T05:05:57.671231Z",
     "iopub.status.busy": "2024-02-06T05:05:57.670926Z",
     "iopub.status.idle": "2024-02-06T05:05:57.677065Z",
     "shell.execute_reply": "2024-02-06T05:05:57.676228Z"
    },
    "papermill": {
     "duration": 0.03527,
     "end_time": "2024-02-06T05:05:57.678865",
     "exception": false,
     "start_time": "2024-02-06T05:05:57.643595",
     "status": "completed"
    },
    "tags": []
   },
   "outputs": [
    {
     "data": {
      "text/plain": [
       "[-0.0004324774199631065,\n",
       " -0.0004324774199631065,\n",
       " -0.0004324774199631065,\n",
       " -0.0004324774199631065,\n",
       " -0.0004324774199631065,\n",
       " -0.0004324774199631065,\n",
       " -0.0004324774199631065,\n",
       " -0.0004324774199631065,\n",
       " -0.0004324774199631065,\n",
       " -0.0004324774199631065,\n",
       " -0.0004324774199631065,\n",
       " -0.0004324774199631065,\n",
       " -0.0004324774199631065,\n",
       " -0.0004324774199631065,\n",
       " -0.0004324774199631065,\n",
       " -0.0004324774199631065,\n",
       " -0.0004324774199631065,\n",
       " -0.0004324774199631065,\n",
       " -0.0004324774199631065,\n",
       " -0.0004321794549468905,\n",
       " -0.0004097075143363327,\n",
       " -0.0004097075143363327,\n",
       " -0.0004097075143363327,\n",
       " -0.0004097075143363327,\n",
       " -0.0004097075143363327,\n",
       " -0.0004097075143363327,\n",
       " -0.0004097075143363327,\n",
       " -0.0004097075143363327,\n",
       " -0.0004097075143363327,\n",
       " -0.0004097075143363327,\n",
       " -0.0004097075143363327,\n",
       " -0.0004097075143363327,\n",
       " -0.0004097075143363327,\n",
       " -0.0004097075143363327,\n",
       " -0.0004097075143363327,\n",
       " -0.0004097075143363327,\n",
       " -0.0004097075143363327,\n",
       " -0.0004097075143363327,\n",
       " -0.0004097075143363327,\n",
       " -0.0004097075143363327,\n",
       " -0.0004097075143363327,\n",
       " -0.0004097075143363327,\n",
       " -0.0004097075143363327,\n",
       " -0.0004097075143363327,\n",
       " -0.0004097075143363327,\n",
       " -0.0004097075143363327,\n",
       " -0.0004097075143363327,\n",
       " -0.0004097075143363327,\n",
       " -0.0004097075143363327,\n",
       " -0.0004097075143363327]"
      ]
     },
     "execution_count": 13,
     "metadata": {},
     "output_type": "execute_result"
    }
   ],
   "source": [
    "max_fitness_each_gen"
   ]
  },
  {
   "cell_type": "markdown",
   "id": "7b839b7b",
   "metadata": {
    "papermill": {
     "duration": 0.026558,
     "end_time": "2024-02-06T05:05:57.731985",
     "exception": false,
     "start_time": "2024-02-06T05:05:57.705427",
     "status": "completed"
    },
    "tags": []
   },
   "source": [
    "## Re-Training Model with Best Parameter"
   ]
  },
  {
   "cell_type": "code",
   "execution_count": 14,
   "id": "31babf94",
   "metadata": {
    "execution": {
     "iopub.execute_input": "2024-02-06T05:05:57.786648Z",
     "iopub.status.busy": "2024-02-06T05:05:57.786377Z",
     "iopub.status.idle": "2024-02-06T05:05:58.315165Z",
     "shell.execute_reply": "2024-02-06T05:05:58.314209Z"
    },
    "papermill": {
     "duration": 0.561204,
     "end_time": "2024-02-06T05:05:58.319963",
     "exception": false,
     "start_time": "2024-02-06T05:05:57.758759",
     "status": "completed"
    },
    "tags": []
   },
   "outputs": [
    {
     "name": "stdout",
     "output_type": "stream",
     "text": [
      "Model: \"sequential_1\"\n",
      "_________________________________________________________________\n",
      " Layer (type)                Output Shape              Param #   \n",
      "=================================================================\n",
      " lstm_2 (LSTM)               (None, 10, 228)           209760    \n",
      "                                                                 \n",
      " lstm_3 (LSTM)               (None, 78)                95784     \n",
      "                                                                 \n",
      " dense_1 (Dense)             (None, 1)                 79        \n",
      "                                                                 \n",
      "=================================================================\n",
      "Total params: 305,623\n",
      "Trainable params: 305,623\n",
      "Non-trainable params: 0\n",
      "_________________________________________________________________\n"
     ]
    }
   ],
   "source": [
    "model = Sequential()\n",
    "for i, units in enumerate(best_chromosome[:LSTM_Layer]):\n",
    "    model.add(LSTM(units, return_sequences=(i < LSTM_Layer - 1), input_shape=(WINDOW_SIZE, 1)))\n",
    "model.add(Dense(1))\n",
    "\n",
    "model.summary()"
   ]
  },
  {
   "cell_type": "code",
   "execution_count": 15,
   "id": "cc2462b4",
   "metadata": {
    "execution": {
     "iopub.execute_input": "2024-02-06T05:05:58.377943Z",
     "iopub.status.busy": "2024-02-06T05:05:58.377665Z",
     "iopub.status.idle": "2024-02-06T05:06:20.130916Z",
     "shell.execute_reply": "2024-02-06T05:06:20.129864Z"
    },
    "papermill": {
     "duration": 21.784284,
     "end_time": "2024-02-06T05:06:20.132883",
     "exception": false,
     "start_time": "2024-02-06T05:05:58.348599",
     "status": "completed"
    },
    "tags": []
   },
   "outputs": [
    {
     "name": "stdout",
     "output_type": "stream",
     "text": [
      "Epoch 1/50\n",
      "50/50 [==============================] - 5s 23ms/step - loss: 0.0187 - mae: 0.0887 - root_mean_squared_error: 0.1369 - val_loss: 0.0026 - val_mae: 0.0394 - val_root_mean_squared_error: 0.0506\n",
      "Epoch 2/50\n",
      "50/50 [==============================] - 0s 7ms/step - loss: 0.0055 - mae: 0.0443 - root_mean_squared_error: 0.0744 - val_loss: 0.0030 - val_mae: 0.0411 - val_root_mean_squared_error: 0.0544\n",
      "Epoch 3/50\n",
      "50/50 [==============================] - 0s 7ms/step - loss: 0.0056 - mae: 0.0452 - root_mean_squared_error: 0.0745 - val_loss: 0.0019 - val_mae: 0.0341 - val_root_mean_squared_error: 0.0430\n",
      "Epoch 4/50\n",
      "50/50 [==============================] - 0s 6ms/step - loss: 0.0052 - mae: 0.0431 - root_mean_squared_error: 0.0722 - val_loss: 0.0033 - val_mae: 0.0446 - val_root_mean_squared_error: 0.0577\n",
      "Epoch 5/50\n",
      "50/50 [==============================] - 0s 6ms/step - loss: 0.0050 - mae: 0.0419 - root_mean_squared_error: 0.0708 - val_loss: 0.0016 - val_mae: 0.0308 - val_root_mean_squared_error: 0.0398\n",
      "Epoch 6/50\n",
      "50/50 [==============================] - 0s 7ms/step - loss: 0.0050 - mae: 0.0421 - root_mean_squared_error: 0.0709 - val_loss: 0.0020 - val_mae: 0.0364 - val_root_mean_squared_error: 0.0442\n",
      "Epoch 7/50\n",
      "50/50 [==============================] - 0s 7ms/step - loss: 0.0047 - mae: 0.0401 - root_mean_squared_error: 0.0687 - val_loss: 0.0019 - val_mae: 0.0337 - val_root_mean_squared_error: 0.0441\n",
      "Epoch 8/50\n",
      "50/50 [==============================] - 0s 7ms/step - loss: 0.0045 - mae: 0.0384 - root_mean_squared_error: 0.0671 - val_loss: 0.0014 - val_mae: 0.0289 - val_root_mean_squared_error: 0.0380\n",
      "Epoch 9/50\n",
      "50/50 [==============================] - 0s 7ms/step - loss: 0.0044 - mae: 0.0385 - root_mean_squared_error: 0.0661 - val_loss: 0.0011 - val_mae: 0.0264 - val_root_mean_squared_error: 0.0336\n",
      "Epoch 10/50\n",
      "50/50 [==============================] - 0s 6ms/step - loss: 0.0044 - mae: 0.0385 - root_mean_squared_error: 0.0664 - val_loss: 0.0011 - val_mae: 0.0264 - val_root_mean_squared_error: 0.0336\n",
      "Epoch 11/50\n",
      "50/50 [==============================] - 0s 6ms/step - loss: 0.0042 - mae: 0.0368 - root_mean_squared_error: 0.0650 - val_loss: 0.0030 - val_mae: 0.0444 - val_root_mean_squared_error: 0.0548\n",
      "Epoch 12/50\n",
      "50/50 [==============================] - 0s 6ms/step - loss: 0.0041 - mae: 0.0374 - root_mean_squared_error: 0.0643 - val_loss: 0.0011 - val_mae: 0.0255 - val_root_mean_squared_error: 0.0333\n",
      "Epoch 13/50\n",
      "50/50 [==============================] - 0s 6ms/step - loss: 0.0040 - mae: 0.0360 - root_mean_squared_error: 0.0634 - val_loss: 0.0020 - val_mae: 0.0349 - val_root_mean_squared_error: 0.0445\n",
      "Epoch 14/50\n",
      "50/50 [==============================] - 0s 7ms/step - loss: 0.0039 - mae: 0.0359 - root_mean_squared_error: 0.0624 - val_loss: 0.0010 - val_mae: 0.0255 - val_root_mean_squared_error: 0.0318\n",
      "Epoch 15/50\n",
      "50/50 [==============================] - 0s 6ms/step - loss: 0.0037 - mae: 0.0340 - root_mean_squared_error: 0.0608 - val_loss: 9.5244e-04 - val_mae: 0.0237 - val_root_mean_squared_error: 0.0309\n",
      "Epoch 16/50\n",
      "50/50 [==============================] - 0s 7ms/step - loss: 0.0036 - mae: 0.0325 - root_mean_squared_error: 0.0601 - val_loss: 9.4059e-04 - val_mae: 0.0238 - val_root_mean_squared_error: 0.0307\n",
      "Epoch 17/50\n",
      "50/50 [==============================] - 0s 6ms/step - loss: 0.0035 - mae: 0.0317 - root_mean_squared_error: 0.0590 - val_loss: 8.2297e-04 - val_mae: 0.0222 - val_root_mean_squared_error: 0.0287\n",
      "Epoch 18/50\n",
      "50/50 [==============================] - 0s 6ms/step - loss: 0.0035 - mae: 0.0316 - root_mean_squared_error: 0.0589 - val_loss: 7.7440e-04 - val_mae: 0.0216 - val_root_mean_squared_error: 0.0278\n",
      "Epoch 19/50\n",
      "50/50 [==============================] - 0s 6ms/step - loss: 0.0036 - mae: 0.0329 - root_mean_squared_error: 0.0597 - val_loss: 0.0015 - val_mae: 0.0298 - val_root_mean_squared_error: 0.0383\n",
      "Epoch 20/50\n",
      "50/50 [==============================] - 0s 7ms/step - loss: 0.0035 - mae: 0.0331 - root_mean_squared_error: 0.0592 - val_loss: 0.0011 - val_mae: 0.0252 - val_root_mean_squared_error: 0.0328\n",
      "Epoch 21/50\n",
      "50/50 [==============================] - 0s 6ms/step - loss: 0.0037 - mae: 0.0353 - root_mean_squared_error: 0.0609 - val_loss: 8.0901e-04 - val_mae: 0.0219 - val_root_mean_squared_error: 0.0284\n",
      "Epoch 22/50\n",
      "50/50 [==============================] - 0s 6ms/step - loss: 0.0036 - mae: 0.0352 - root_mean_squared_error: 0.0603 - val_loss: 0.0015 - val_mae: 0.0303 - val_root_mean_squared_error: 0.0387\n",
      "Epoch 23/50\n",
      "50/50 [==============================] - 0s 7ms/step - loss: 0.0034 - mae: 0.0308 - root_mean_squared_error: 0.0581 - val_loss: 8.8872e-04 - val_mae: 0.0228 - val_root_mean_squared_error: 0.0298\n",
      "Epoch 24/50\n",
      "50/50 [==============================] - 0s 7ms/step - loss: 0.0033 - mae: 0.0299 - root_mean_squared_error: 0.0575 - val_loss: 9.3498e-04 - val_mae: 0.0237 - val_root_mean_squared_error: 0.0306\n",
      "Epoch 25/50\n",
      "50/50 [==============================] - 0s 6ms/step - loss: 0.0035 - mae: 0.0322 - root_mean_squared_error: 0.0589 - val_loss: 9.9818e-04 - val_mae: 0.0261 - val_root_mean_squared_error: 0.0316\n",
      "Epoch 26/50\n",
      "50/50 [==============================] - 0s 7ms/step - loss: 0.0034 - mae: 0.0316 - root_mean_squared_error: 0.0585 - val_loss: 7.5572e-04 - val_mae: 0.0215 - val_root_mean_squared_error: 0.0275\n",
      "Epoch 27/50\n",
      "50/50 [==============================] - 0s 6ms/step - loss: 0.0036 - mae: 0.0334 - root_mean_squared_error: 0.0596 - val_loss: 0.0016 - val_mae: 0.0313 - val_root_mean_squared_error: 0.0397\n",
      "Epoch 28/50\n",
      "50/50 [==============================] - 0s 6ms/step - loss: 0.0033 - mae: 0.0295 - root_mean_squared_error: 0.0573 - val_loss: 0.0022 - val_mae: 0.0383 - val_root_mean_squared_error: 0.0465\n",
      "Epoch 29/50\n",
      "50/50 [==============================] - 0s 7ms/step - loss: 0.0034 - mae: 0.0314 - root_mean_squared_error: 0.0583 - val_loss: 7.6740e-04 - val_mae: 0.0215 - val_root_mean_squared_error: 0.0277\n",
      "Epoch 30/50\n",
      "50/50 [==============================] - 0s 7ms/step - loss: 0.0034 - mae: 0.0321 - root_mean_squared_error: 0.0579 - val_loss: 7.5992e-04 - val_mae: 0.0214 - val_root_mean_squared_error: 0.0276\n",
      "Epoch 31/50\n",
      "50/50 [==============================] - 0s 6ms/step - loss: 0.0033 - mae: 0.0309 - root_mean_squared_error: 0.0579 - val_loss: 9.6924e-04 - val_mae: 0.0239 - val_root_mean_squared_error: 0.0311\n",
      "Epoch 32/50\n",
      "50/50 [==============================] - 0s 7ms/step - loss: 0.0034 - mae: 0.0309 - root_mean_squared_error: 0.0580 - val_loss: 7.5779e-04 - val_mae: 0.0212 - val_root_mean_squared_error: 0.0275\n",
      "Epoch 33/50\n",
      "50/50 [==============================] - 0s 6ms/step - loss: 0.0034 - mae: 0.0313 - root_mean_squared_error: 0.0587 - val_loss: 8.7481e-04 - val_mae: 0.0237 - val_root_mean_squared_error: 0.0296\n",
      "Epoch 34/50\n",
      "50/50 [==============================] - 0s 6ms/step - loss: 0.0034 - mae: 0.0318 - root_mean_squared_error: 0.0586 - val_loss: 0.0011 - val_mae: 0.0271 - val_root_mean_squared_error: 0.0327\n",
      "Epoch 35/50\n",
      "50/50 [==============================] - 0s 7ms/step - loss: 0.0034 - mae: 0.0317 - root_mean_squared_error: 0.0583 - val_loss: 0.0016 - val_mae: 0.0347 - val_root_mean_squared_error: 0.0398\n",
      "Epoch 36/50\n",
      "50/50 [==============================] - 0s 7ms/step - loss: 0.0035 - mae: 0.0314 - root_mean_squared_error: 0.0588 - val_loss: 9.8717e-04 - val_mae: 0.0241 - val_root_mean_squared_error: 0.0314\n",
      "Epoch 37/50\n",
      "50/50 [==============================] - 0s 6ms/step - loss: 0.0034 - mae: 0.0307 - root_mean_squared_error: 0.0579 - val_loss: 0.0013 - val_mae: 0.0279 - val_root_mean_squared_error: 0.0360\n",
      "Epoch 38/50\n",
      "50/50 [==============================] - 0s 7ms/step - loss: 0.0039 - mae: 0.0372 - root_mean_squared_error: 0.0624 - val_loss: 9.1616e-04 - val_mae: 0.0232 - val_root_mean_squared_error: 0.0303\n",
      "Epoch 39/50\n",
      "50/50 [==============================] - 0s 7ms/step - loss: 0.0034 - mae: 0.0311 - root_mean_squared_error: 0.0579 - val_loss: 9.0482e-04 - val_mae: 0.0243 - val_root_mean_squared_error: 0.0301\n",
      "Epoch 40/50\n",
      "50/50 [==============================] - 0s 7ms/step - loss: 0.0033 - mae: 0.0303 - root_mean_squared_error: 0.0577 - val_loss: 8.4521e-04 - val_mae: 0.0232 - val_root_mean_squared_error: 0.0291\n",
      "Epoch 41/50\n",
      "50/50 [==============================] - 0s 7ms/step - loss: 0.0033 - mae: 0.0303 - root_mean_squared_error: 0.0571 - val_loss: 9.3742e-04 - val_mae: 0.0234 - val_root_mean_squared_error: 0.0306\n",
      "Epoch 42/50\n",
      "50/50 [==============================] - 0s 6ms/step - loss: 0.0033 - mae: 0.0300 - root_mean_squared_error: 0.0572 - val_loss: 0.0011 - val_mae: 0.0253 - val_root_mean_squared_error: 0.0328\n",
      "Epoch 43/50\n",
      "50/50 [==============================] - 0s 6ms/step - loss: 0.0033 - mae: 0.0297 - root_mean_squared_error: 0.0572 - val_loss: 0.0010 - val_mae: 0.0260 - val_root_mean_squared_error: 0.0317\n",
      "Epoch 44/50\n",
      "50/50 [==============================] - 0s 7ms/step - loss: 0.0033 - mae: 0.0320 - root_mean_squared_error: 0.0578 - val_loss: 0.0012 - val_mae: 0.0271 - val_root_mean_squared_error: 0.0350\n",
      "Epoch 45/50\n",
      "50/50 [==============================] - 0s 7ms/step - loss: 0.0032 - mae: 0.0300 - root_mean_squared_error: 0.0568 - val_loss: 7.5394e-04 - val_mae: 0.0213 - val_root_mean_squared_error: 0.0275\n",
      "Epoch 46/50\n",
      "50/50 [==============================] - 0s 6ms/step - loss: 0.0033 - mae: 0.0311 - root_mean_squared_error: 0.0572 - val_loss: 0.0014 - val_mae: 0.0291 - val_root_mean_squared_error: 0.0378\n",
      "Epoch 47/50\n",
      "50/50 [==============================] - 0s 6ms/step - loss: 0.0033 - mae: 0.0304 - root_mean_squared_error: 0.0576 - val_loss: 8.3030e-04 - val_mae: 0.0225 - val_root_mean_squared_error: 0.0288\n",
      "Epoch 48/50\n",
      "50/50 [==============================] - 0s 6ms/step - loss: 0.0032 - mae: 0.0304 - root_mean_squared_error: 0.0566 - val_loss: 0.0011 - val_mae: 0.0258 - val_root_mean_squared_error: 0.0334\n",
      "Epoch 49/50\n",
      "50/50 [==============================] - 0s 6ms/step - loss: 0.0032 - mae: 0.0294 - root_mean_squared_error: 0.0565 - val_loss: 0.0011 - val_mae: 0.0255 - val_root_mean_squared_error: 0.0331\n",
      "Epoch 50/50\n",
      "50/50 [==============================] - 0s 6ms/step - loss: 0.0033 - mae: 0.0310 - root_mean_squared_error: 0.0573 - val_loss: 8.5709e-04 - val_mae: 0.0236 - val_root_mean_squared_error: 0.0293\n"
     ]
    }
   ],
   "source": [
    "model.compile(loss='mean_squared_error',\n",
    "              metrics=['mae', RootMeanSquaredError()],\n",
    "              optimizer='adam')\n",
    "\n",
    "history = model.fit(X_train,\n",
    "                    y_train,\n",
    "                    epochs=50,\n",
    "                    batch_size=32,\n",
    "                    validation_split=0.1)"
   ]
  },
  {
   "cell_type": "code",
   "execution_count": 16,
   "id": "4fb0b6dc",
   "metadata": {
    "execution": {
     "iopub.execute_input": "2024-02-06T05:06:20.248113Z",
     "iopub.status.busy": "2024-02-06T05:06:20.247802Z",
     "iopub.status.idle": "2024-02-06T05:06:20.334139Z",
     "shell.execute_reply": "2024-02-06T05:06:20.333308Z"
    },
    "papermill": {
     "duration": 0.145771,
     "end_time": "2024-02-06T05:06:20.336179",
     "exception": false,
     "start_time": "2024-02-06T05:06:20.190408",
     "status": "completed"
    },
    "tags": []
   },
   "outputs": [
    {
     "name": "stdout",
     "output_type": "stream",
     "text": [
      "7/7 [==============================] - 0s 4ms/step - loss: 3.4963e-04 - mae: 0.0120 - root_mean_squared_error: 0.0187\n"
     ]
    },
    {
     "data": {
      "text/plain": [
       "[0.0003496275458019227, 0.01202468853443861, 0.018698329105973244]"
      ]
     },
     "execution_count": 16,
     "metadata": {},
     "output_type": "execute_result"
    }
   ],
   "source": [
    "model.evaluate(X_test, y_test)"
   ]
  },
  {
   "cell_type": "markdown",
   "id": "56622e32",
   "metadata": {
    "papermill": {
     "duration": 0.057877,
     "end_time": "2024-02-06T05:06:20.455622",
     "exception": false,
     "start_time": "2024-02-06T05:06:20.397745",
     "status": "completed"
    },
    "tags": []
   },
   "source": [
    "## Model Evaluation"
   ]
  },
  {
   "cell_type": "code",
   "execution_count": 17,
   "id": "fa3d1a0e",
   "metadata": {
    "execution": {
     "iopub.execute_input": "2024-02-06T05:06:20.573580Z",
     "iopub.status.busy": "2024-02-06T05:06:20.573234Z",
     "iopub.status.idle": "2024-02-06T05:06:20.804584Z",
     "shell.execute_reply": "2024-02-06T05:06:20.803647Z"
    },
    "papermill": {
     "duration": 0.293463,
     "end_time": "2024-02-06T05:06:20.806661",
     "exception": false,
     "start_time": "2024-02-06T05:06:20.513198",
     "status": "completed"
    },
    "tags": []
   },
   "outputs": [
    {
     "data": {
      "image/png": "[encoded data removed]",
      "text/plain": [
       "<Figure size 640x480 with 1 Axes>"
      ]
     },
     "metadata": {},
     "output_type": "display_data"
    }
   ],
   "source": [
    "plt.plot(history.history['loss'])\n",
    "plt.plot(history.history['val_loss'])\n",
    "plt.title(f'{SHEET_NAME} Model Loss', fontsize=15)\n",
    "plt.ylabel('loss')\n",
    "plt.xlabel('epoch')\n",
    "plt.legend(['train', 'test'])\n",
    "plt.show()"
   ]
  },
  {
   "cell_type": "code",
   "execution_count": 18,
   "id": "a1b5209a",
   "metadata": {
    "execution": {
     "iopub.execute_input": "2024-02-06T05:06:20.924910Z",
     "iopub.status.busy": "2024-02-06T05:06:20.924596Z",
     "iopub.status.idle": "2024-02-06T05:06:21.698399Z",
     "shell.execute_reply": "2024-02-06T05:06:21.697337Z"
    },
    "papermill": {
     "duration": 0.834742,
     "end_time": "2024-02-06T05:06:21.700304",
     "exception": false,
     "start_time": "2024-02-06T05:06:20.865562",
     "status": "completed"
    },
    "tags": []
   },
   "outputs": [
    {
     "name": "stdout",
     "output_type": "stream",
     "text": [
      "7/7 [==============================] - 1s 3ms/step\n"
     ]
    }
   ],
   "source": [
    "y_hat = model.predict(X_test)\n",
    "y_test_inverse = scaler.inverse_transform(y_test)\n",
    "y_hat_inverse = scaler.inverse_transform(y_hat)"
   ]
  },
  {
   "cell_type": "code",
   "execution_count": 19,
   "id": "67f79650",
   "metadata": {
    "execution": {
     "iopub.execute_input": "2024-02-06T05:06:21.818134Z",
     "iopub.status.busy": "2024-02-06T05:06:21.817805Z",
     "iopub.status.idle": "2024-02-06T05:06:22.110410Z",
     "shell.execute_reply": "2024-02-06T05:06:22.109525Z"
    },
    "papermill": {
     "duration": 0.353698,
     "end_time": "2024-02-06T05:06:22.112540",
     "exception": false,
     "start_time": "2024-02-06T05:06:21.758842",
     "status": "completed"
    },
    "tags": []
   },
   "outputs": [
    {
     "data": {
      "image/png": "[encoded data removed]",
      "text/plain": [
       "<Figure size 640x480 with 1 Axes>"
      ]
     },
     "metadata": {},
     "output_type": "display_data"
    }
   ],
   "source": [
    "plt.plot(y_test_inverse, label=\"Actual Price\", color='green')\n",
    "plt.plot(y_hat_inverse, label=\"Predicted Price\", color='red')\n",
    " \n",
    "plt.title(f'{SHEET_NAME} Price Prediction\\nLSTM = {LSTM_Layer}, Split Data = {SPLIT}, Window = {WINDOW_SIZE}', fontsize=15)\n",
    "plt.xlabel('Time [days]')\n",
    "plt.ylabel('Price')\n",
    "plt.legend(loc='best')\n",
    " \n",
    "plt.show()"
   ]
  },
  {
   "cell_type": "code",
   "execution_count": 20,
   "id": "e32c8e96",
   "metadata": {
    "execution": {
     "iopub.execute_input": "2024-02-06T05:06:22.231402Z",
     "iopub.status.busy": "2024-02-06T05:06:22.230809Z",
     "iopub.status.idle": "2024-02-06T05:06:22.239441Z",
     "shell.execute_reply": "2024-02-06T05:06:22.238540Z"
    },
    "papermill": {
     "duration": 0.069584,
     "end_time": "2024-02-06T05:06:22.241359",
     "exception": false,
     "start_time": "2024-02-06T05:06:22.171775",
     "status": "completed"
    },
    "tags": []
   },
   "outputs": [
    {
     "name": "stdout",
     "output_type": "stream",
     "text": [
      "LSTM = 2, Split Data = 0.9, Window = 10\n",
      "\n",
      "----------------- Normalized Error -----------------\n",
      "Mean Absolute Error for prediction : 0.012024687588426357\n",
      "Mean Squared Error for prediction : 0.00034962750930765614\n",
      "Root Mean Squared Error for prediction : 0.018698329051218886\n",
      "\n",
      "----------------- Actual Error -----------------\n",
      "Mean Absolute Error for prediction : 16.788669471152836\n",
      "Mean Squared Error for prediction : 681.5373775167103\n",
      "Root Mean Squared Error for prediction : 26.106270846612894\n"
     ]
    }
   ],
   "source": [
    "def matrices(actual, predicted):\n",
    "    mse = mean_squared_error(actual, predicted)\n",
    "    mae = mean_absolute_error(actual, predicted)\n",
    "    rmse = np.sqrt(mse)\n",
    "    print(\"Mean Absolute Error for prediction :\", mae)\n",
    "    print(\"Mean Squared Error for prediction :\", mse)\n",
    "    print(\"Root Mean Squared Error for prediction :\", rmse)\n",
    "    return mae, mse, rmse\n",
    "\n",
    "print(f\"LSTM = {LSTM_Layer}, Split Data = {SPLIT}, Window = {WINDOW_SIZE}\")\n",
    "print(\"\\n----------------- Normalized Error -----------------\")\n",
    "mae, mse, rmse = matrices(y_test, y_hat)\n",
    "print(\"\\n----------------- Actual Error -----------------\")\n",
    "mae_inverse, mse_inverse, rmse_inverse = matrices(y_test_inverse, y_hat_inverse)"
   ]
  }
 ],
 "metadata": {
  "kaggle": {
   "accelerator": "gpu",
   "dataSources": [],
   "dockerImageVersionId": 30498,
   "isGpuEnabled": true,
   "isInternetEnabled": true,
   "language": "python",
   "sourceType": "notebook"
  },
  "kernelspec": {
   "display_name": "Python 3",
   "language": "python",
   "name": "python3"
  },
  "language_info": {
   "codemirror_mode": {
    "name": "ipython",
    "version": 3
   },
   "file_extension": ".py",
   "mimetype": "text/x-python",
   "name": "python",
   "nbconvert_exporter": "python",
   "pygments_lexer": "ipython3",
   "version": "3.10.10"
  },
  "papermill": {
   "default_parameters": {},
   "duration": 891.115327,
   "end_time": "2024-02-06T05:06:25.280325",
   "environment_variables": {},
   "exception": null,
   "input_path": "__notebook__.ipynb",
   "output_path": "__notebook__.ipynb",
   "parameters": {},
   "start_time": "2024-02-06T04:51:34.164998",
   "version": "2.4.0"
  }
 },
 "nbformat": 4,
 "nbformat_minor": 5
}
