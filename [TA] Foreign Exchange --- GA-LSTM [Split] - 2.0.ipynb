{
 "cells": [
  {
   "cell_type": "code",
   "execution_count": 1,
   "id": "9c258a1a",
   "metadata": {
    "execution": {
     "iopub.execute_input": "2024-02-06T01:54:08.410190Z",
     "iopub.status.busy": "2024-02-06T01:54:08.409846Z",
     "iopub.status.idle": "2024-02-06T01:54:17.076529Z",
     "shell.execute_reply": "2024-02-06T01:54:17.075680Z"
    },
    "papermill": {
     "duration": 8.677569,
     "end_time": "2024-02-06T01:54:17.078977",
     "exception": false,
     "start_time": "2024-02-06T01:54:08.401408",
     "status": "completed"
    },
    "tags": []
   },
   "outputs": [
    {
     "name": "stderr",
     "output_type": "stream",
     "text": [
      "/opt/conda/lib/python3.10/site-packages/tensorflow_io/python/ops/__init__.py:98: UserWarning: unable to load libtensorflow_io_plugins.so: unable to open file: libtensorflow_io_plugins.so, from paths: ['/opt/conda/lib/python3.10/site-packages/tensorflow_io/python/ops/libtensorflow_io_plugins.so']\n",
      "caused by: ['/opt/conda/lib/python3.10/site-packages/tensorflow_io/python/ops/libtensorflow_io_plugins.so: undefined symbol: _ZN3tsl6StatusC1EN10tensorflow5error4CodeESt17basic_string_viewIcSt11char_traitsIcEENS_14SourceLocationE']\n",
      "  warnings.warn(f\"unable to load libtensorflow_io_plugins.so: {e}\")\n",
      "/opt/conda/lib/python3.10/site-packages/tensorflow_io/python/ops/__init__.py:104: UserWarning: file system plugins are not loaded: unable to open file: libtensorflow_io.so, from paths: ['/opt/conda/lib/python3.10/site-packages/tensorflow_io/python/ops/libtensorflow_io.so']\n",
      "caused by: ['/opt/conda/lib/python3.10/site-packages/tensorflow_io/python/ops/libtensorflow_io.so: undefined symbol: _ZTVN10tensorflow13GcsFileSystemE']\n",
      "  warnings.warn(f\"file system plugins are not loaded: {e}\")\n"
     ]
    }
   ],
   "source": [
    "import pandas as pd\n",
    "import numpy as np\n",
    "import tensorflow as tf\n",
    "import matplotlib.pyplot as plt\n",
    "import datetime, pytz\n",
    "\n",
    "from keras.models import Sequential\n",
    "from keras.layers import LSTM, Dense\n",
    "from keras.metrics import RootMeanSquaredError\n",
    "\n",
    "from sklearn.preprocessing import MinMaxScaler\n",
    "from sklearn.metrics import mean_squared_error, mean_absolute_error"
   ]
  },
  {
   "cell_type": "markdown",
   "id": "33b75737",
   "metadata": {
    "papermill": {
     "duration": 0.006402,
     "end_time": "2024-02-06T01:54:17.092349",
     "exception": false,
     "start_time": "2024-02-06T01:54:17.085947",
     "status": "completed"
    },
    "tags": []
   },
   "source": [
    "## Hyperparameter"
   ]
  },
  {
   "cell_type": "code",
   "execution_count": 2,
   "id": "bcc7cc73",
   "metadata": {
    "execution": {
     "iopub.execute_input": "2024-02-06T01:54:17.107000Z",
     "iopub.status.busy": "2024-02-06T01:54:17.105968Z",
     "iopub.status.idle": "2024-02-06T01:54:17.110975Z",
     "shell.execute_reply": "2024-02-06T01:54:17.110066Z"
    },
    "papermill": {
     "duration": 0.014041,
     "end_time": "2024-02-06T01:54:17.112782",
     "exception": false,
     "start_time": "2024-02-06T01:54:17.098741",
     "status": "completed"
    },
    "tags": []
   },
   "outputs": [],
   "source": [
    "# Google Spreadsheet ID\n",
    "SHEET_ID = '1JDNv_mArl-GPIpxuWS5GxgVEwvjXocS1MrXGc6TYs8M'\n",
    "SHEET_NAME = 'EUR/IDR' # USD/IDR, EUR/IDR, SGD/IDR\n",
    "\n",
    "SEQ_LEN = 6 # 6, 11, 21\n",
    "SPLIT = 0.90 # 0.80, 0.90\n",
    "LSTM_Layer = 2 # 1, 2, 3\n",
    "WINDOW_SIZE = SEQ_LEN - 1"
   ]
  },
  {
   "cell_type": "code",
   "execution_count": 3,
   "id": "c4ccacd2",
   "metadata": {
    "execution": {
     "iopub.execute_input": "2024-02-06T01:54:17.126516Z",
     "iopub.status.busy": "2024-02-06T01:54:17.126237Z",
     "iopub.status.idle": "2024-02-06T01:54:17.655900Z",
     "shell.execute_reply": "2024-02-06T01:54:17.654812Z"
    },
    "papermill": {
     "duration": 0.538821,
     "end_time": "2024-02-06T01:54:17.657977",
     "exception": false,
     "start_time": "2024-02-06T01:54:17.119156",
     "status": "completed"
    },
    "tags": []
   },
   "outputs": [
    {
     "name": "stdout",
     "output_type": "stream",
     "text": [
      "<class 'pandas.core.frame.DataFrame'>\n",
      "RangeIndex: 1977 entries, 0 to 1976\n",
      "Data columns (total 2 columns):\n",
      " #   Column  Non-Null Count  Dtype         \n",
      "---  ------  --------------  -----         \n",
      " 0   Date    1977 non-null   datetime64[ns]\n",
      " 1   Close   1977 non-null   float64       \n",
      "dtypes: datetime64[ns](1), float64(1)\n",
      "memory usage: 31.0 KB\n"
     ]
    }
   ],
   "source": [
    "url = f'https://docs.google.com/spreadsheets/d/{SHEET_ID}/gviz/tq?tqx=out:csv&sheet={SHEET_NAME}'\n",
    "data = pd.read_csv(url)\n",
    "\n",
    "# Convert Date columns to datetime format\n",
    "data['Date'] = pd.to_datetime(data['Date'], format='%d/%m/%Y %H:%M:%S')\n",
    "data.info()"
   ]
  },
  {
   "cell_type": "markdown",
   "id": "d54600b7",
   "metadata": {
    "papermill": {
     "duration": 0.006451,
     "end_time": "2024-02-06T01:54:17.671068",
     "exception": false,
     "start_time": "2024-02-06T01:54:17.664617",
     "status": "completed"
    },
    "tags": []
   },
   "source": [
    "## Preprocessing"
   ]
  },
  {
   "cell_type": "code",
   "execution_count": 4,
   "id": "5dae76e6",
   "metadata": {
    "execution": {
     "iopub.execute_input": "2024-02-06T01:54:17.685105Z",
     "iopub.status.busy": "2024-02-06T01:54:17.684792Z",
     "iopub.status.idle": "2024-02-06T01:54:17.698091Z",
     "shell.execute_reply": "2024-02-06T01:54:17.697125Z"
    },
    "papermill": {
     "duration": 0.022657,
     "end_time": "2024-02-06T01:54:17.700116",
     "exception": false,
     "start_time": "2024-02-06T01:54:17.677459",
     "status": "completed"
    },
    "tags": []
   },
   "outputs": [
    {
     "name": "stderr",
     "output_type": "stream",
     "text": [
      "/tmp/ipykernel_26/2274720815.py:7: SettingWithCopyWarning: \n",
      "A value is trying to be set on a copy of a slice from a DataFrame\n",
      "\n",
      "See the caveats in the documentation: https://pandas.pydata.org/pandas-docs/stable/user_guide/indexing.html#returning-a-view-versus-a-copy\n",
      "  data[data < lower_bound] = lower_bound\n",
      "/tmp/ipykernel_26/2274720815.py:8: SettingWithCopyWarning: \n",
      "A value is trying to be set on a copy of a slice from a DataFrame\n",
      "\n",
      "See the caveats in the documentation: https://pandas.pydata.org/pandas-docs/stable/user_guide/indexing.html#returning-a-view-versus-a-copy\n",
      "  data[data > upper_bound] = upper_bound\n"
     ]
    }
   ],
   "source": [
    "def replace_outliers(data):\n",
    "    Q1 = np.percentile(data, 25)\n",
    "    Q3 = np.percentile(data, 75)\n",
    "    IQR = Q3 - Q1\n",
    "    lower_bound = Q1 - 1.5 * IQR\n",
    "    upper_bound = Q3 + 1.5 * IQR\n",
    "    data[data < lower_bound] = lower_bound\n",
    "    data[data > upper_bound] = upper_bound\n",
    "    return data\n",
    "\n",
    "data['Close'] = replace_outliers(data['Close'])"
   ]
  },
  {
   "cell_type": "code",
   "execution_count": 5,
   "id": "0f4ae77a",
   "metadata": {
    "execution": {
     "iopub.execute_input": "2024-02-06T01:54:17.714510Z",
     "iopub.status.busy": "2024-02-06T01:54:17.714220Z",
     "iopub.status.idle": "2024-02-06T01:54:17.903624Z",
     "shell.execute_reply": "2024-02-06T01:54:17.902673Z"
    },
    "papermill": {
     "duration": 0.198747,
     "end_time": "2024-02-06T01:54:17.905531",
     "exception": false,
     "start_time": "2024-02-06T01:54:17.706784",
     "status": "completed"
    },
    "tags": []
   },
   "outputs": [
    {
     "data": {
      "image/png": "[encoded data removed]",
      "text/plain": [
       "<Figure size 640x480 with 1 Axes>"
      ]
     },
     "metadata": {},
     "output_type": "display_data"
    }
   ],
   "source": [
    "# Boxplot for outlier detection\n",
    "plt.boxplot(data['Close'])\n",
    "plt.title(f\"{SHEET_NAME} Boxplot for Outlier Detection\")\n",
    "plt.xlabel(\"Close\")\n",
    "plt.ylabel(\"Values\")\n",
    "plt.show()"
   ]
  },
  {
   "cell_type": "code",
   "execution_count": 6,
   "id": "e577e4a9",
   "metadata": {
    "execution": {
     "iopub.execute_input": "2024-02-06T01:54:17.921649Z",
     "iopub.status.busy": "2024-02-06T01:54:17.920998Z",
     "iopub.status.idle": "2024-02-06T01:54:17.928242Z",
     "shell.execute_reply": "2024-02-06T01:54:17.927409Z"
    },
    "papermill": {
     "duration": 0.017381,
     "end_time": "2024-02-06T01:54:17.930173",
     "exception": false,
     "start_time": "2024-02-06T01:54:17.912792",
     "status": "completed"
    },
    "tags": []
   },
   "outputs": [
    {
     "data": {
      "text/plain": [
       "(1977, 1)"
      ]
     },
     "execution_count": 6,
     "metadata": {},
     "output_type": "execute_result"
    }
   ],
   "source": [
    "scaler = MinMaxScaler()\n",
    "close_price = data.Close.values.reshape(-1, 1)\n",
    "scaled_close = scaler.fit_transform(close_price)\n",
    "scaled_close.shape"
   ]
  },
  {
   "cell_type": "code",
   "execution_count": 7,
   "id": "19a08aff",
   "metadata": {
    "execution": {
     "iopub.execute_input": "2024-02-06T01:54:17.945912Z",
     "iopub.status.busy": "2024-02-06T01:54:17.945603Z",
     "iopub.status.idle": "2024-02-06T01:54:17.955674Z",
     "shell.execute_reply": "2024-02-06T01:54:17.954970Z"
    },
    "papermill": {
     "duration": 0.020164,
     "end_time": "2024-02-06T01:54:17.957615",
     "exception": false,
     "start_time": "2024-02-06T01:54:17.937451",
     "status": "completed"
    },
    "tags": []
   },
   "outputs": [],
   "source": [
    "def to_sequences(data, seq_len):\n",
    "    d = []\n",
    "    for index in range(len(data) - seq_len):\n",
    "        d.append(data[index: index + seq_len])\n",
    "    return np.array(d)\n",
    "\n",
    "def preprocess(data_raw, seq_len, train_split):\n",
    "    data = to_sequences(data_raw, seq_len)\n",
    "    num_train = int(train_split * data.shape[0])\n",
    "    X_train = data[:num_train, :-1, :]\n",
    "    y_train = data[:num_train, -1, :]\n",
    "    X_test = data[num_train:, :-1, :]\n",
    "    y_test = data[num_train:, -1, :]\n",
    "    return X_train, y_train, X_test, y_test\n",
    "\n",
    "X_train, y_train, X_test, y_test = preprocess(scaled_close, SEQ_LEN, train_split = SPLIT)"
   ]
  },
  {
   "cell_type": "markdown",
   "id": "1564bf2f",
   "metadata": {
    "papermill": {
     "duration": 0.006939,
     "end_time": "2024-02-06T01:54:17.971803",
     "exception": false,
     "start_time": "2024-02-06T01:54:17.964864",
     "status": "completed"
    },
    "tags": []
   },
   "source": [
    "## Genetic Algorithm"
   ]
  },
  {
   "cell_type": "code",
   "execution_count": 8,
   "id": "9c5d9d64",
   "metadata": {
    "execution": {
     "iopub.execute_input": "2024-02-06T01:54:17.987560Z",
     "iopub.status.busy": "2024-02-06T01:54:17.986923Z",
     "iopub.status.idle": "2024-02-06T01:54:17.992555Z",
     "shell.execute_reply": "2024-02-06T01:54:17.991699Z"
    },
    "papermill": {
     "duration": 0.015573,
     "end_time": "2024-02-06T01:54:17.994470",
     "exception": false,
     "start_time": "2024-02-06T01:54:17.978897",
     "status": "completed"
    },
    "tags": []
   },
   "outputs": [],
   "source": [
    "def decimal_to_binary(chromosome: list):\n",
    "    binary_string = ''.join([bin(x)[2:].zfill(8) for x in chromosome])\n",
    "    return binary_string\n",
    "\n",
    "def binary_to_decimal(binary_string: str):\n",
    "    decimal_array = [int(binary, 2) for binary in [binary_string[i:i+8] for i in range(0, len(binary_string), 8)]]\n",
    "    return decimal_array"
   ]
  },
  {
   "cell_type": "code",
   "execution_count": 9,
   "id": "8ccece7a",
   "metadata": {
    "execution": {
     "iopub.execute_input": "2024-02-06T01:54:18.010230Z",
     "iopub.status.busy": "2024-02-06T01:54:18.009969Z",
     "iopub.status.idle": "2024-02-06T01:54:18.028543Z",
     "shell.execute_reply": "2024-02-06T01:54:18.027693Z"
    },
    "papermill": {
     "duration": 0.028585,
     "end_time": "2024-02-06T01:54:18.030319",
     "exception": false,
     "start_time": "2024-02-06T01:54:18.001734",
     "status": "completed"
    },
    "tags": []
   },
   "outputs": [],
   "source": [
    "# Genetic Algorithm\n",
    "def genetic_algorithm(generations, mutation_rate):\n",
    "    print(f\"Inizialized Population...\")\n",
    "    population = np.random.randint(1, high=251, size=(10, 3))\n",
    "    fitness_scores = np.array([fitness_function(chromosome) for chromosome in population])\n",
    "    max_fitness_each_gen = []\n",
    "    \n",
    "    for generation in range(generations):\n",
    "        print(f\"Generation - {generation + 1}\")\n",
    "        max_fitness_each_gen.append(np.max(fitness_scores))\n",
    "        \n",
    "        chromosome_1 = selection(population, fitness_scores)\n",
    "        chromosome_2 = selection(population, fitness_scores)\n",
    "        \n",
    "        if generation % mutation_rate == 0:\n",
    "            chromosome_1 = mutate(chromosome_1)\n",
    "            chromosome_2 = mutate(chromosome_2)\n",
    "        else:\n",
    "            chromosome_1, chromosome_2 = crossover(chromosome_1, chromosome_2)\n",
    "\n",
    "        fitness_score_1 = fitness_function(chromosome_1)\n",
    "        fitness_score_2 = fitness_function(chromosome_2)\n",
    "        \n",
    "        worst_index = np.argmin(fitness_scores)\n",
    "        worst_fitness = fitness_scores[worst_index]\n",
    "\n",
    "        if fitness_score_1 > worst_fitness:\n",
    "            population[worst_index] = chromosome_1\n",
    "            fitness_scores[worst_index] = fitness_score_1\n",
    "            worst_index = np.argmin(fitness_scores)\n",
    "            worst_fitness = fitness_scores[worst_index]\n",
    "\n",
    "        if fitness_score_2 > worst_fitness:\n",
    "            population[worst_index] = chromosome_2\n",
    "            fitness_scores[worst_index] = fitness_score_2\n",
    "        \n",
    "        # Release some memory\n",
    "        del chromosome_1, chromosome_2\n",
    "        del fitness_score_1, fitness_score_2\n",
    "        del worst_index, worst_fitness\n",
    "            \n",
    "    best_chromosome = population[np.argmax(fitness_scores)]\n",
    "    best_fitness = np.max(fitness_scores)\n",
    "    \n",
    "    return best_chromosome, best_fitness, max_fitness_each_gen\n",
    "\n",
    "# Selection (Tournament selection)\n",
    "def selection(population, fitness_scores, tournament_size=3):\n",
    "    indices = np.random.randint(len(population), size=tournament_size)\n",
    "    tournament = population[indices]\n",
    "    tournament_fitness = fitness_scores[indices]\n",
    "    return tournament[np.argmax(tournament_fitness)]\n",
    "\n",
    "# Crossover (Single-point crossover)\n",
    "def crossover(parent_1: list, parent_2: list):\n",
    "    parent_1 = decimal_to_binary(parent_1)\n",
    "    parent_2 = decimal_to_binary(parent_2)\n",
    "    \n",
    "    crossover_point = np.random.randint(1, len(parent_1))\n",
    "    offspring_1 = parent_1[:crossover_point] + parent_2[crossover_point:]\n",
    "    offspring_2 = parent_2[:crossover_point] + parent_1[crossover_point:]\n",
    "    \n",
    "    offspring_1 = binary_to_decimal(offspring_1)\n",
    "    offspring_2 = binary_to_decimal(offspring_2)\n",
    "    return offspring_1, offspring_2\n",
    "\n",
    "# Mutation (Swap Mutation)\n",
    "def mutate(chromosome: list):\n",
    "    chromosome = decimal_to_binary(chromosome)\n",
    "    \n",
    "    chromosome_list = list(chromosome)\n",
    "    i = np.random.randint(len(chromosome_list), size=2)\n",
    "    chromosome_list[i[0]], chromosome_list[i[1]] = chromosome_list[i[1]], chromosome_list[i[0]]\n",
    "    \n",
    "    chromosome_list = ''.join(chromosome_list)\n",
    "    chromosome = binary_to_decimal(chromosome_list)\n",
    "    return chromosome\n",
    "\n",
    "# Fitness Function\n",
    "def fitness_function(chromosome: list):\n",
    "    lstm_units = [int(chromosome[i]) or default for i, default in enumerate([128, 64, 32])]\n",
    "\n",
    "    # Build the LSTM model\n",
    "    tf.keras.backend.clear_session()\n",
    "    model = Sequential()\n",
    "    for i, units in enumerate(lstm_units[:LSTM_Layer]):\n",
    "        model.add(LSTM(units, return_sequences=(i < LSTM_Layer - 1), input_shape=(WINDOW_SIZE, 1)))\n",
    "    model.add(Dense(1))\n",
    "    \n",
    "    # Compile and train the model\n",
    "    model.compile(loss='mean_squared_error',\n",
    "                  optimizer='adam')\n",
    "    model.fit(X_train, y_train,\n",
    "              epochs=10,\n",
    "              batch_size=32,\n",
    "              verbose=0,\n",
    "              validation_split=0.1)\n",
    "\n",
    "    # Evaluate the model\n",
    "    loss = model.evaluate(X_test, y_test)\n",
    "\n",
    "    # Return the negative value of the loss as the fitness score\n",
    "    return -loss"
   ]
  },
  {
   "cell_type": "code",
   "execution_count": 10,
   "id": "83f86593",
   "metadata": {
    "execution": {
     "iopub.execute_input": "2024-02-06T01:54:18.046074Z",
     "iopub.status.busy": "2024-02-06T01:54:18.045510Z",
     "iopub.status.idle": "2024-02-06T01:54:18.051048Z",
     "shell.execute_reply": "2024-02-06T01:54:18.050187Z"
    },
    "papermill": {
     "duration": 0.0155,
     "end_time": "2024-02-06T01:54:18.052945",
     "exception": false,
     "start_time": "2024-02-06T01:54:18.037445",
     "status": "completed"
    },
    "tags": []
   },
   "outputs": [],
   "source": [
    "import typing\n",
    "from datetime import datetime\n",
    "\n",
    "def timer(start_time: datetime = None) -> \"typing.Union[datetime.datetime, str]\":\n",
    "    if not start_time:\n",
    "        start_time = datetime.now()\n",
    "        return start_time\n",
    "    elif start_time:\n",
    "        thour, temp_sec = divmod((datetime.now() - start_time).total_seconds(), 3600)\n",
    "        tmin, tsec = divmod(temp_sec, 60)\n",
    "        return \"%i hours %i minutes and %s seconds.\" % (\n",
    "            thour,\n",
    "            tmin,\n",
    "            round(tsec, 2),\n",
    "        )"
   ]
  },
  {
   "cell_type": "code",
   "execution_count": 11,
   "id": "197e9898",
   "metadata": {
    "execution": {
     "iopub.execute_input": "2024-02-06T01:54:18.068742Z",
     "iopub.status.busy": "2024-02-06T01:54:18.068167Z",
     "iopub.status.idle": "2024-02-06T02:08:06.740332Z",
     "shell.execute_reply": "2024-02-06T02:08:06.738980Z"
    },
    "papermill": {
     "duration": 828.68286,
     "end_time": "2024-02-06T02:08:06.742992",
     "exception": false,
     "start_time": "2024-02-06T01:54:18.060132",
     "status": "completed"
    },
    "tags": []
   },
   "outputs": [
    {
     "name": "stdout",
     "output_type": "stream",
     "text": [
      "Inizialized Population...\n",
      "7/7 [==============================] - 0s 3ms/step - loss: 8.9598e-04\n",
      "7/7 [==============================] - 0s 3ms/step - loss: 0.0011\n",
      "7/7 [==============================] - 0s 3ms/step - loss: 8.6254e-04\n",
      "7/7 [==============================] - 0s 3ms/step - loss: 8.0259e-04\n",
      "7/7 [==============================] - 0s 3ms/step - loss: 8.2866e-04\n",
      "7/7 [==============================] - 0s 3ms/step - loss: 8.2465e-04\n",
      "7/7 [==============================] - 0s 3ms/step - loss: 8.2081e-04\n",
      "7/7 [==============================] - 0s 3ms/step - loss: 8.3299e-04\n",
      "7/7 [==============================] - 0s 3ms/step - loss: 8.7396e-04\n",
      "7/7 [==============================] - 0s 3ms/step - loss: 0.0010\n",
      "Generation - 1\n",
      "7/7 [==============================] - 0s 3ms/step - loss: 9.2738e-04\n",
      "7/7 [==============================] - 0s 3ms/step - loss: 8.2691e-04\n",
      "Generation - 2\n",
      "7/7 [==============================] - 0s 3ms/step - loss: 8.6483e-04\n",
      "7/7 [==============================] - 0s 3ms/step - loss: 8.6371e-04\n",
      "Generation - 3\n",
      "7/7 [==============================] - 0s 3ms/step - loss: 8.0119e-04\n",
      "7/7 [==============================] - 0s 3ms/step - loss: 8.5444e-04\n",
      "Generation - 4\n",
      "7/7 [==============================] - 0s 3ms/step - loss: 0.0010\n",
      "7/7 [==============================] - 0s 3ms/step - loss: 9.1623e-04\n",
      "Generation - 5\n",
      "7/7 [==============================] - 0s 3ms/step - loss: 8.8671e-04\n",
      "7/7 [==============================] - 0s 3ms/step - loss: 0.0012\n",
      "Generation - 6\n",
      "7/7 [==============================] - 0s 3ms/step - loss: 0.0010\n",
      "7/7 [==============================] - 0s 3ms/step - loss: 8.5885e-04\n",
      "Generation - 7\n",
      "7/7 [==============================] - 0s 3ms/step - loss: 9.0273e-04\n",
      "7/7 [==============================] - 0s 3ms/step - loss: 8.7011e-04\n",
      "Generation - 8\n",
      "7/7 [==============================] - 0s 3ms/step - loss: 8.3663e-04\n",
      "7/7 [==============================] - 0s 3ms/step - loss: 9.1978e-04\n",
      "Generation - 9\n",
      "7/7 [==============================] - 0s 3ms/step - loss: 8.1254e-04\n",
      "7/7 [==============================] - 0s 3ms/step - loss: 8.4542e-04\n",
      "Generation - 10\n",
      "7/7 [==============================] - 0s 3ms/step - loss: 8.3962e-04\n",
      "7/7 [==============================] - 0s 3ms/step - loss: 8.4397e-04\n",
      "Generation - 11\n",
      "7/7 [==============================] - 0s 3ms/step - loss: 8.1482e-04\n",
      "7/7 [==============================] - 0s 3ms/step - loss: 8.7424e-04\n",
      "Generation - 12\n",
      "7/7 [==============================] - 0s 3ms/step - loss: 8.2981e-04\n",
      "7/7 [==============================] - 0s 3ms/step - loss: 8.2467e-04\n",
      "Generation - 13\n",
      "7/7 [==============================] - 0s 3ms/step - loss: 8.1634e-04\n",
      "7/7 [==============================] - 0s 3ms/step - loss: 9.0752e-04\n",
      "Generation - 14\n",
      "7/7 [==============================] - 0s 3ms/step - loss: 9.4426e-04\n",
      "7/7 [==============================] - 0s 3ms/step - loss: 8.6993e-04\n",
      "Generation - 15\n",
      "7/7 [==============================] - 0s 4ms/step - loss: 0.0010\n",
      "7/7 [==============================] - 0s 3ms/step - loss: 8.1340e-04\n",
      "Generation - 16\n",
      "7/7 [==============================] - 0s 3ms/step - loss: 7.9385e-04\n",
      "7/7 [==============================] - 0s 3ms/step - loss: 0.0011\n",
      "Generation - 17\n",
      "7/7 [==============================] - 0s 3ms/step - loss: 9.2508e-04\n",
      "7/7 [==============================] - 0s 3ms/step - loss: 7.8942e-04\n",
      "Generation - 18\n",
      "7/7 [==============================] - 0s 3ms/step - loss: 9.0038e-04\n",
      "7/7 [==============================] - 0s 3ms/step - loss: 8.1845e-04\n",
      "Generation - 19\n",
      "7/7 [==============================] - 0s 3ms/step - loss: 8.1182e-04\n",
      "7/7 [==============================] - 0s 3ms/step - loss: 9.0045e-04\n",
      "Generation - 20\n",
      "7/7 [==============================] - 0s 3ms/step - loss: 0.0011\n",
      "7/7 [==============================] - 0s 3ms/step - loss: 8.1332e-04\n",
      "Generation - 21\n",
      "7/7 [==============================] - 0s 3ms/step - loss: 8.2934e-04\n",
      "7/7 [==============================] - 0s 3ms/step - loss: 9.8191e-04\n",
      "Generation - 22\n",
      "7/7 [==============================] - 0s 3ms/step - loss: 8.2441e-04\n",
      "7/7 [==============================] - 0s 3ms/step - loss: 9.3462e-04\n",
      "Generation - 23\n",
      "7/7 [==============================] - 0s 3ms/step - loss: 7.9793e-04\n",
      "7/7 [==============================] - 0s 3ms/step - loss: 8.9794e-04\n",
      "Generation - 24\n",
      "7/7 [==============================] - 0s 3ms/step - loss: 9.9854e-04\n",
      "7/7 [==============================] - 0s 3ms/step - loss: 0.0019\n",
      "Generation - 25\n",
      "7/7 [==============================] - 0s 3ms/step - loss: 8.2969e-04\n",
      "7/7 [==============================] - 0s 3ms/step - loss: 8.5980e-04\n",
      "Generation - 26\n",
      "7/7 [==============================] - 0s 3ms/step - loss: 9.4889e-04\n",
      "7/7 [==============================] - 0s 3ms/step - loss: 0.0010\n",
      "Generation - 27\n",
      "7/7 [==============================] - 0s 3ms/step - loss: 0.0011\n",
      "7/7 [==============================] - 0s 3ms/step - loss: 7.8219e-04\n",
      "Generation - 28\n",
      "7/7 [==============================] - 0s 3ms/step - loss: 8.7603e-04\n",
      "7/7 [==============================] - 0s 3ms/step - loss: 7.8099e-04\n",
      "Generation - 29\n",
      "7/7 [==============================] - 0s 3ms/step - loss: 8.0579e-04\n",
      "7/7 [==============================] - 0s 3ms/step - loss: 9.0351e-04\n",
      "Generation - 30\n",
      "7/7 [==============================] - 0s 3ms/step - loss: 9.2302e-04\n",
      "7/7 [==============================] - 0s 3ms/step - loss: 8.1072e-04\n",
      "Generation - 31\n",
      "7/7 [==============================] - 0s 3ms/step - loss: 7.9045e-04\n",
      "7/7 [==============================] - 0s 3ms/step - loss: 8.6191e-04\n",
      "Generation - 32\n",
      "7/7 [==============================] - 0s 3ms/step - loss: 0.0013\n",
      "7/7 [==============================] - 0s 3ms/step - loss: 7.8754e-04\n",
      "Generation - 33\n",
      "7/7 [==============================] - 0s 3ms/step - loss: 8.2179e-04\n",
      "7/7 [==============================] - 0s 3ms/step - loss: 9.1666e-04\n",
      "Generation - 34\n",
      "7/7 [==============================] - 0s 3ms/step - loss: 8.6035e-04\n",
      "7/7 [==============================] - 0s 3ms/step - loss: 9.4689e-04\n",
      "Generation - 35\n",
      "7/7 [==============================] - 0s 3ms/step - loss: 8.5689e-04\n",
      "7/7 [==============================] - 0s 3ms/step - loss: 0.0012\n",
      "Generation - 36\n",
      "7/7 [==============================] - 0s 3ms/step - loss: 7.8463e-04\n",
      "7/7 [==============================] - 0s 3ms/step - loss: 0.0011\n",
      "Generation - 37\n",
      "7/7 [==============================] - 0s 3ms/step - loss: 0.0012\n",
      "7/7 [==============================] - 0s 3ms/step - loss: 0.0013\n",
      "Generation - 38\n",
      "7/7 [==============================] - 0s 3ms/step - loss: 8.3562e-04\n",
      "7/7 [==============================] - 0s 3ms/step - loss: 8.1766e-04\n",
      "Generation - 39\n",
      "7/7 [==============================] - 0s 3ms/step - loss: 8.0889e-04\n",
      "7/7 [==============================] - 0s 3ms/step - loss: 8.5768e-04\n",
      "Generation - 40\n",
      "7/7 [==============================] - 0s 3ms/step - loss: 8.1642e-04\n",
      "7/7 [==============================] - 0s 3ms/step - loss: 8.2388e-04\n",
      "Generation - 41\n",
      "7/7 [==============================] - 0s 3ms/step - loss: 8.4271e-04\n",
      "7/7 [==============================] - 0s 3ms/step - loss: 8.1688e-04\n",
      "Generation - 42\n",
      "7/7 [==============================] - 0s 3ms/step - loss: 0.0016\n",
      "7/7 [==============================] - 0s 4ms/step - loss: 7.9610e-04\n",
      "Generation - 43\n",
      "7/7 [==============================] - 0s 3ms/step - loss: 8.0604e-04\n",
      "7/7 [==============================] - 0s 3ms/step - loss: 8.7441e-04\n",
      "Generation - 44\n",
      "7/7 [==============================] - 0s 3ms/step - loss: 8.9849e-04\n",
      "7/7 [==============================] - 0s 4ms/step - loss: 0.0010\n",
      "Generation - 45\n",
      "7/7 [==============================] - 0s 3ms/step - loss: 0.0011\n",
      "7/7 [==============================] - 0s 3ms/step - loss: 8.1034e-04\n",
      "Generation - 46\n",
      "7/7 [==============================] - 0s 3ms/step - loss: 9.4470e-04\n",
      "7/7 [==============================] - 0s 3ms/step - loss: 7.9964e-04\n",
      "Generation - 47\n",
      "7/7 [==============================] - 0s 3ms/step - loss: 8.3462e-04\n",
      "7/7 [==============================] - 0s 3ms/step - loss: 9.1318e-04\n",
      "Generation - 48\n",
      "7/7 [==============================] - 0s 3ms/step - loss: 8.1829e-04\n",
      "7/7 [==============================] - 0s 3ms/step - loss: 8.6196e-04\n",
      "Generation - 49\n",
      "7/7 [==============================] - 0s 3ms/step - loss: 7.8589e-04\n",
      "7/7 [==============================] - 0s 3ms/step - loss: 8.2444e-04\n",
      "Generation - 50\n",
      "7/7 [==============================] - 0s 3ms/step - loss: 0.0013\n",
      "7/7 [==============================] - 0s 5ms/step - loss: 8.1449e-04\n"
     ]
    }
   ],
   "source": [
    "# Do not increase this value\n",
    "generations = 50\n",
    "mutation_rate = 5\n",
    "\n",
    "time = timer(None)\n",
    "best_chromosome, best_fitness, max_fitness_each_gen = genetic_algorithm(generations, mutation_rate)\n",
    "time = timer(time)"
   ]
  },
  {
   "cell_type": "code",
   "execution_count": 12,
   "id": "e5bac44a",
   "metadata": {
    "execution": {
     "iopub.execute_input": "2024-02-06T02:08:06.808501Z",
     "iopub.status.busy": "2024-02-06T02:08:06.808089Z",
     "iopub.status.idle": "2024-02-06T02:08:06.814142Z",
     "shell.execute_reply": "2024-02-06T02:08:06.813223Z"
    },
    "papermill": {
     "duration": 0.037789,
     "end_time": "2024-02-06T02:08:06.816711",
     "exception": false,
     "start_time": "2024-02-06T02:08:06.778922",
     "status": "completed"
    },
    "tags": []
   },
   "outputs": [
    {
     "name": "stdout",
     "output_type": "stream",
     "text": [
      "Best Chromosome: [164 213 117]\n",
      "Best Fitness: -0.000780992500949651\n",
      "Time Taken: 0 hours 13 minutes and 48.67 seconds.\n"
     ]
    }
   ],
   "source": [
    "print(\"Best Chromosome:\", best_chromosome)\n",
    "print(\"Best Fitness:\", best_fitness)\n",
    "print(\"Time Taken:\", time)"
   ]
  },
  {
   "cell_type": "code",
   "execution_count": 13,
   "id": "b600d19f",
   "metadata": {
    "execution": {
     "iopub.execute_input": "2024-02-06T02:08:06.873233Z",
     "iopub.status.busy": "2024-02-06T02:08:06.872465Z",
     "iopub.status.idle": "2024-02-06T02:08:06.880305Z",
     "shell.execute_reply": "2024-02-06T02:08:06.879432Z"
    },
    "papermill": {
     "duration": 0.037678,
     "end_time": "2024-02-06T02:08:06.882265",
     "exception": false,
     "start_time": "2024-02-06T02:08:06.844587",
     "status": "completed"
    },
    "tags": []
   },
   "outputs": [
    {
     "data": {
      "text/plain": [
       "[-0.0008025858551263809,\n",
       " -0.0008025858551263809,\n",
       " -0.0008025858551263809,\n",
       " -0.0008011870668269694,\n",
       " -0.0008011870668269694,\n",
       " -0.0008011870668269694,\n",
       " -0.0008011870668269694,\n",
       " -0.0008011870668269694,\n",
       " -0.0008011870668269694,\n",
       " -0.0008011870668269694,\n",
       " -0.0008011870668269694,\n",
       " -0.0008011870668269694,\n",
       " -0.0008011870668269694,\n",
       " -0.0008011870668269694,\n",
       " -0.0008011870668269694,\n",
       " -0.0008011870668269694,\n",
       " -0.0007938542403280735,\n",
       " -0.000789421668741852,\n",
       " -0.000789421668741852,\n",
       " -0.000789421668741852,\n",
       " -0.000789421668741852,\n",
       " -0.000789421668741852,\n",
       " -0.000789421668741852,\n",
       " -0.000789421668741852,\n",
       " -0.000789421668741852,\n",
       " -0.000789421668741852,\n",
       " -0.000789421668741852,\n",
       " -0.0007821920444257557,\n",
       " -0.000780992500949651,\n",
       " -0.000780992500949651,\n",
       " -0.000780992500949651,\n",
       " -0.000780992500949651,\n",
       " -0.000780992500949651,\n",
       " -0.000780992500949651,\n",
       " -0.000780992500949651,\n",
       " -0.000780992500949651,\n",
       " -0.000780992500949651,\n",
       " -0.000780992500949651,\n",
       " -0.000780992500949651,\n",
       " -0.000780992500949651,\n",
       " -0.000780992500949651,\n",
       " -0.000780992500949651,\n",
       " -0.000780992500949651,\n",
       " -0.000780992500949651,\n",
       " -0.000780992500949651,\n",
       " -0.000780992500949651,\n",
       " -0.000780992500949651,\n",
       " -0.000780992500949651,\n",
       " -0.000780992500949651,\n",
       " -0.000780992500949651]"
      ]
     },
     "execution_count": 13,
     "metadata": {},
     "output_type": "execute_result"
    }
   ],
   "source": [
    "max_fitness_each_gen"
   ]
  },
  {
   "cell_type": "markdown",
   "id": "a67b2691",
   "metadata": {
    "papermill": {
     "duration": 0.030175,
     "end_time": "2024-02-06T02:08:06.939464",
     "exception": false,
     "start_time": "2024-02-06T02:08:06.909289",
     "status": "completed"
    },
    "tags": []
   },
   "source": [
    "## Re-Training Model with Best Parameter"
   ]
  },
  {
   "cell_type": "code",
   "execution_count": 14,
   "id": "7d36ea91",
   "metadata": {
    "execution": {
     "iopub.execute_input": "2024-02-06T02:08:06.995468Z",
     "iopub.status.busy": "2024-02-06T02:08:06.994731Z",
     "iopub.status.idle": "2024-02-06T02:08:07.530839Z",
     "shell.execute_reply": "2024-02-06T02:08:07.529932Z"
    },
    "papermill": {
     "duration": 0.570089,
     "end_time": "2024-02-06T02:08:07.536457",
     "exception": false,
     "start_time": "2024-02-06T02:08:06.966368",
     "status": "completed"
    },
    "tags": []
   },
   "outputs": [
    {
     "name": "stdout",
     "output_type": "stream",
     "text": [
      "Model: \"sequential_1\"\n",
      "_________________________________________________________________\n",
      " Layer (type)                Output Shape              Param #   \n",
      "=================================================================\n",
      " lstm_2 (LSTM)               (None, 5, 164)            108896    \n",
      "                                                                 \n",
      " lstm_3 (LSTM)               (None, 213)               322056    \n",
      "                                                                 \n",
      " dense_1 (Dense)             (None, 1)                 214       \n",
      "                                                                 \n",
      "=================================================================\n",
      "Total params: 431,166\n",
      "Trainable params: 431,166\n",
      "Non-trainable params: 0\n",
      "_________________________________________________________________\n"
     ]
    }
   ],
   "source": [
    "model = Sequential()\n",
    "for i, units in enumerate(best_chromosome[:LSTM_Layer]):\n",
    "    model.add(LSTM(units, return_sequences=(i < LSTM_Layer - 1), input_shape=(WINDOW_SIZE, 1)))\n",
    "model.add(Dense(1))\n",
    "\n",
    "model.summary()"
   ]
  },
  {
   "cell_type": "code",
   "execution_count": 15,
   "id": "b43d91bc",
   "metadata": {
    "execution": {
     "iopub.execute_input": "2024-02-06T02:08:07.605059Z",
     "iopub.status.busy": "2024-02-06T02:08:07.604708Z",
     "iopub.status.idle": "2024-02-06T02:08:28.625488Z",
     "shell.execute_reply": "2024-02-06T02:08:28.624682Z"
    },
    "papermill": {
     "duration": 21.051773,
     "end_time": "2024-02-06T02:08:28.627446",
     "exception": false,
     "start_time": "2024-02-06T02:08:07.575673",
     "status": "completed"
    },
    "tags": []
   },
   "outputs": [
    {
     "name": "stdout",
     "output_type": "stream",
     "text": [
      "Epoch 1/50\n",
      "50/50 [==============================] - 5s 22ms/step - loss: 0.0243 - mae: 0.1000 - root_mean_squared_error: 0.1559 - val_loss: 0.0044 - val_mae: 0.0574 - val_root_mean_squared_error: 0.0662\n",
      "Epoch 2/50\n",
      "50/50 [==============================] - 0s 7ms/step - loss: 0.0016 - mae: 0.0277 - root_mean_squared_error: 0.0398 - val_loss: 0.0018 - val_mae: 0.0327 - val_root_mean_squared_error: 0.0429\n",
      "Epoch 3/50\n",
      "50/50 [==============================] - 0s 6ms/step - loss: 0.0014 - mae: 0.0245 - root_mean_squared_error: 0.0370 - val_loss: 0.0018 - val_mae: 0.0312 - val_root_mean_squared_error: 0.0419\n",
      "Epoch 4/50\n",
      "50/50 [==============================] - 0s 6ms/step - loss: 0.0014 - mae: 0.0251 - root_mean_squared_error: 0.0374 - val_loss: 0.0018 - val_mae: 0.0327 - val_root_mean_squared_error: 0.0428\n",
      "Epoch 5/50\n",
      "50/50 [==============================] - 0s 6ms/step - loss: 0.0014 - mae: 0.0252 - root_mean_squared_error: 0.0375 - val_loss: 0.0018 - val_mae: 0.0318 - val_root_mean_squared_error: 0.0422\n",
      "Epoch 6/50\n",
      "50/50 [==============================] - 0s 6ms/step - loss: 0.0014 - mae: 0.0257 - root_mean_squared_error: 0.0378 - val_loss: 0.0018 - val_mae: 0.0318 - val_root_mean_squared_error: 0.0421\n",
      "Epoch 7/50\n",
      "50/50 [==============================] - 0s 7ms/step - loss: 0.0014 - mae: 0.0256 - root_mean_squared_error: 0.0380 - val_loss: 0.0017 - val_mae: 0.0312 - val_root_mean_squared_error: 0.0417\n",
      "Epoch 8/50\n",
      "50/50 [==============================] - 0s 6ms/step - loss: 0.0013 - mae: 0.0243 - root_mean_squared_error: 0.0367 - val_loss: 0.0018 - val_mae: 0.0332 - val_root_mean_squared_error: 0.0429\n",
      "Epoch 9/50\n",
      "50/50 [==============================] - 0s 6ms/step - loss: 0.0014 - mae: 0.0245 - root_mean_squared_error: 0.0368 - val_loss: 0.0017 - val_mae: 0.0316 - val_root_mean_squared_error: 0.0417\n",
      "Epoch 10/50\n",
      "50/50 [==============================] - 0s 6ms/step - loss: 0.0014 - mae: 0.0253 - root_mean_squared_error: 0.0377 - val_loss: 0.0018 - val_mae: 0.0324 - val_root_mean_squared_error: 0.0422\n",
      "Epoch 11/50\n",
      "50/50 [==============================] - 0s 6ms/step - loss: 0.0014 - mae: 0.0254 - root_mean_squared_error: 0.0378 - val_loss: 0.0017 - val_mae: 0.0310 - val_root_mean_squared_error: 0.0412\n",
      "Epoch 12/50\n",
      "50/50 [==============================] - 0s 6ms/step - loss: 0.0013 - mae: 0.0238 - root_mean_squared_error: 0.0360 - val_loss: 0.0017 - val_mae: 0.0297 - val_root_mean_squared_error: 0.0407\n",
      "Epoch 13/50\n",
      "50/50 [==============================] - 0s 6ms/step - loss: 0.0014 - mae: 0.0252 - root_mean_squared_error: 0.0374 - val_loss: 0.0017 - val_mae: 0.0295 - val_root_mean_squared_error: 0.0408\n",
      "Epoch 14/50\n",
      "50/50 [==============================] - 0s 6ms/step - loss: 0.0014 - mae: 0.0247 - root_mean_squared_error: 0.0368 - val_loss: 0.0016 - val_mae: 0.0294 - val_root_mean_squared_error: 0.0404\n",
      "Epoch 15/50\n",
      "50/50 [==============================] - 0s 7ms/step - loss: 0.0014 - mae: 0.0247 - root_mean_squared_error: 0.0367 - val_loss: 0.0016 - val_mae: 0.0292 - val_root_mean_squared_error: 0.0404\n",
      "Epoch 16/50\n",
      "50/50 [==============================] - 0s 6ms/step - loss: 0.0014 - mae: 0.0249 - root_mean_squared_error: 0.0372 - val_loss: 0.0017 - val_mae: 0.0324 - val_root_mean_squared_error: 0.0417\n",
      "Epoch 17/50\n",
      "50/50 [==============================] - 0s 6ms/step - loss: 0.0013 - mae: 0.0243 - root_mean_squared_error: 0.0366 - val_loss: 0.0016 - val_mae: 0.0304 - val_root_mean_squared_error: 0.0403\n",
      "Epoch 18/50\n",
      "50/50 [==============================] - 0s 6ms/step - loss: 0.0013 - mae: 0.0229 - root_mean_squared_error: 0.0354 - val_loss: 0.0016 - val_mae: 0.0291 - val_root_mean_squared_error: 0.0397\n",
      "Epoch 19/50\n",
      "50/50 [==============================] - 0s 6ms/step - loss: 0.0012 - mae: 0.0228 - root_mean_squared_error: 0.0349 - val_loss: 0.0016 - val_mae: 0.0293 - val_root_mean_squared_error: 0.0395\n",
      "Epoch 20/50\n",
      "50/50 [==============================] - 0s 6ms/step - loss: 0.0013 - mae: 0.0237 - root_mean_squared_error: 0.0356 - val_loss: 0.0015 - val_mae: 0.0290 - val_root_mean_squared_error: 0.0393\n",
      "Epoch 21/50\n",
      "50/50 [==============================] - 0s 6ms/step - loss: 0.0012 - mae: 0.0231 - root_mean_squared_error: 0.0353 - val_loss: 0.0017 - val_mae: 0.0323 - val_root_mean_squared_error: 0.0413\n",
      "Epoch 22/50\n",
      "50/50 [==============================] - 0s 6ms/step - loss: 0.0014 - mae: 0.0254 - root_mean_squared_error: 0.0372 - val_loss: 0.0015 - val_mae: 0.0280 - val_root_mean_squared_error: 0.0393\n",
      "Epoch 23/50\n",
      "50/50 [==============================] - 0s 6ms/step - loss: 0.0012 - mae: 0.0224 - root_mean_squared_error: 0.0345 - val_loss: 0.0015 - val_mae: 0.0279 - val_root_mean_squared_error: 0.0387\n",
      "Epoch 24/50\n",
      "50/50 [==============================] - 0s 6ms/step - loss: 0.0013 - mae: 0.0234 - root_mean_squared_error: 0.0354 - val_loss: 0.0015 - val_mae: 0.0291 - val_root_mean_squared_error: 0.0389\n",
      "Epoch 25/50\n",
      "50/50 [==============================] - 0s 6ms/step - loss: 0.0011 - mae: 0.0215 - root_mean_squared_error: 0.0339 - val_loss: 0.0015 - val_mae: 0.0277 - val_root_mean_squared_error: 0.0382\n",
      "Epoch 26/50\n",
      "50/50 [==============================] - 0s 6ms/step - loss: 0.0012 - mae: 0.0222 - root_mean_squared_error: 0.0344 - val_loss: 0.0015 - val_mae: 0.0295 - val_root_mean_squared_error: 0.0390\n",
      "Epoch 27/50\n",
      "50/50 [==============================] - 0s 6ms/step - loss: 0.0013 - mae: 0.0247 - root_mean_squared_error: 0.0364 - val_loss: 0.0016 - val_mae: 0.0279 - val_root_mean_squared_error: 0.0397\n",
      "Epoch 28/50\n",
      "50/50 [==============================] - 0s 6ms/step - loss: 0.0012 - mae: 0.0221 - root_mean_squared_error: 0.0341 - val_loss: 0.0015 - val_mae: 0.0294 - val_root_mean_squared_error: 0.0388\n",
      "Epoch 29/50\n",
      "50/50 [==============================] - 0s 6ms/step - loss: 0.0012 - mae: 0.0235 - root_mean_squared_error: 0.0352 - val_loss: 0.0015 - val_mae: 0.0271 - val_root_mean_squared_error: 0.0387\n",
      "Epoch 30/50\n",
      "50/50 [==============================] - 0s 6ms/step - loss: 0.0011 - mae: 0.0209 - root_mean_squared_error: 0.0332 - val_loss: 0.0014 - val_mae: 0.0269 - val_root_mean_squared_error: 0.0379\n",
      "Epoch 31/50\n",
      "50/50 [==============================] - 0s 6ms/step - loss: 0.0013 - mae: 0.0234 - root_mean_squared_error: 0.0356 - val_loss: 0.0014 - val_mae: 0.0273 - val_root_mean_squared_error: 0.0375\n",
      "Epoch 32/50\n",
      "50/50 [==============================] - 0s 6ms/step - loss: 0.0013 - mae: 0.0234 - root_mean_squared_error: 0.0355 - val_loss: 0.0014 - val_mae: 0.0268 - val_root_mean_squared_error: 0.0371\n",
      "Epoch 33/50\n",
      "50/50 [==============================] - 0s 6ms/step - loss: 0.0013 - mae: 0.0233 - root_mean_squared_error: 0.0354 - val_loss: 0.0014 - val_mae: 0.0283 - val_root_mean_squared_error: 0.0378\n",
      "Epoch 34/50\n",
      "50/50 [==============================] - 0s 6ms/step - loss: 0.0012 - mae: 0.0222 - root_mean_squared_error: 0.0344 - val_loss: 0.0014 - val_mae: 0.0260 - val_root_mean_squared_error: 0.0373\n",
      "Epoch 35/50\n",
      "50/50 [==============================] - 0s 6ms/step - loss: 0.0013 - mae: 0.0246 - root_mean_squared_error: 0.0363 - val_loss: 0.0014 - val_mae: 0.0280 - val_root_mean_squared_error: 0.0376\n",
      "Epoch 36/50\n",
      "50/50 [==============================] - 0s 6ms/step - loss: 0.0011 - mae: 0.0206 - root_mean_squared_error: 0.0329 - val_loss: 0.0014 - val_mae: 0.0264 - val_root_mean_squared_error: 0.0368\n",
      "Epoch 37/50\n",
      "50/50 [==============================] - 0s 6ms/step - loss: 0.0011 - mae: 0.0211 - root_mean_squared_error: 0.0336 - val_loss: 0.0014 - val_mae: 0.0269 - val_root_mean_squared_error: 0.0370\n",
      "Epoch 38/50\n",
      "50/50 [==============================] - 0s 6ms/step - loss: 0.0011 - mae: 0.0212 - root_mean_squared_error: 0.0335 - val_loss: 0.0014 - val_mae: 0.0282 - val_root_mean_squared_error: 0.0377\n",
      "Epoch 39/50\n",
      "50/50 [==============================] - 0s 7ms/step - loss: 0.0011 - mae: 0.0202 - root_mean_squared_error: 0.0329 - val_loss: 0.0013 - val_mae: 0.0253 - val_root_mean_squared_error: 0.0367\n",
      "Epoch 40/50\n",
      "50/50 [==============================] - 0s 6ms/step - loss: 0.0011 - mae: 0.0212 - root_mean_squared_error: 0.0331 - val_loss: 0.0013 - val_mae: 0.0258 - val_root_mean_squared_error: 0.0364\n",
      "Epoch 41/50\n",
      "50/50 [==============================] - 0s 7ms/step - loss: 0.0012 - mae: 0.0211 - root_mean_squared_error: 0.0340 - val_loss: 0.0013 - val_mae: 0.0249 - val_root_mean_squared_error: 0.0363\n",
      "Epoch 42/50\n",
      "50/50 [==============================] - 0s 7ms/step - loss: 0.0012 - mae: 0.0213 - root_mean_squared_error: 0.0341 - val_loss: 0.0013 - val_mae: 0.0252 - val_root_mean_squared_error: 0.0360\n",
      "Epoch 43/50\n",
      "50/50 [==============================] - 0s 6ms/step - loss: 0.0011 - mae: 0.0206 - root_mean_squared_error: 0.0331 - val_loss: 0.0013 - val_mae: 0.0251 - val_root_mean_squared_error: 0.0361\n",
      "Epoch 44/50\n",
      "50/50 [==============================] - 0s 6ms/step - loss: 0.0011 - mae: 0.0209 - root_mean_squared_error: 0.0338 - val_loss: 0.0015 - val_mae: 0.0300 - val_root_mean_squared_error: 0.0391\n",
      "Epoch 45/50\n",
      "50/50 [==============================] - 0s 6ms/step - loss: 0.0011 - mae: 0.0213 - root_mean_squared_error: 0.0337 - val_loss: 0.0013 - val_mae: 0.0264 - val_root_mean_squared_error: 0.0364\n",
      "Epoch 46/50\n",
      "50/50 [==============================] - 0s 6ms/step - loss: 0.0011 - mae: 0.0207 - root_mean_squared_error: 0.0331 - val_loss: 0.0013 - val_mae: 0.0257 - val_root_mean_squared_error: 0.0360\n",
      "Epoch 47/50\n",
      "50/50 [==============================] - 0s 6ms/step - loss: 0.0011 - mae: 0.0198 - root_mean_squared_error: 0.0328 - val_loss: 0.0014 - val_mae: 0.0252 - val_root_mean_squared_error: 0.0371\n",
      "Epoch 48/50\n",
      "50/50 [==============================] - 0s 6ms/step - loss: 0.0011 - mae: 0.0208 - root_mean_squared_error: 0.0337 - val_loss: 0.0013 - val_mae: 0.0245 - val_root_mean_squared_error: 0.0356\n",
      "Epoch 49/50\n",
      "50/50 [==============================] - 0s 6ms/step - loss: 0.0011 - mae: 0.0209 - root_mean_squared_error: 0.0338 - val_loss: 0.0013 - val_mae: 0.0247 - val_root_mean_squared_error: 0.0365\n",
      "Epoch 50/50\n",
      "50/50 [==============================] - 0s 6ms/step - loss: 0.0011 - mae: 0.0198 - root_mean_squared_error: 0.0328 - val_loss: 0.0013 - val_mae: 0.0244 - val_root_mean_squared_error: 0.0358\n"
     ]
    }
   ],
   "source": [
    "model.compile(loss='mean_squared_error',\n",
    "              metrics=['mae', RootMeanSquaredError()],\n",
    "              optimizer='adam')\n",
    "\n",
    "history = model.fit(X_train,\n",
    "                    y_train,\n",
    "                    epochs=50,\n",
    "                    batch_size=32,\n",
    "                    validation_split=0.1)"
   ]
  },
  {
   "cell_type": "code",
   "execution_count": 16,
   "id": "ffcf13be",
   "metadata": {
    "execution": {
     "iopub.execute_input": "2024-02-06T02:08:28.739420Z",
     "iopub.status.busy": "2024-02-06T02:08:28.738753Z",
     "iopub.status.idle": "2024-02-06T02:08:28.827711Z",
     "shell.execute_reply": "2024-02-06T02:08:28.826774Z"
    },
    "papermill": {
     "duration": 0.146906,
     "end_time": "2024-02-06T02:08:28.829849",
     "exception": false,
     "start_time": "2024-02-06T02:08:28.682943",
     "status": "completed"
    },
    "tags": []
   },
   "outputs": [
    {
     "name": "stdout",
     "output_type": "stream",
     "text": [
      "7/7 [==============================] - 0s 4ms/step - loss: 5.7832e-04 - mae: 0.0175 - root_mean_squared_error: 0.0240\n"
     ]
    },
    {
     "data": {
      "text/plain": [
       "[0.0005783249507658184, 0.01751519925892353, 0.02404838800430298]"
      ]
     },
     "execution_count": 16,
     "metadata": {},
     "output_type": "execute_result"
    }
   ],
   "source": [
    "model.evaluate(X_test, y_test)"
   ]
  },
  {
   "cell_type": "markdown",
   "id": "4c34572c",
   "metadata": {
    "papermill": {
     "duration": 0.055095,
     "end_time": "2024-02-06T02:08:28.942150",
     "exception": false,
     "start_time": "2024-02-06T02:08:28.887055",
     "status": "completed"
    },
    "tags": []
   },
   "source": [
    "## Model Evaluation"
   ]
  },
  {
   "cell_type": "code",
   "execution_count": 17,
   "id": "bfe7cfe7",
   "metadata": {
    "execution": {
     "iopub.execute_input": "2024-02-06T02:08:29.053555Z",
     "iopub.status.busy": "2024-02-06T02:08:29.053188Z",
     "iopub.status.idle": "2024-02-06T02:08:29.271554Z",
     "shell.execute_reply": "2024-02-06T02:08:29.270699Z"
    },
    "papermill": {
     "duration": 0.276306,
     "end_time": "2024-02-06T02:08:29.273586",
     "exception": false,
     "start_time": "2024-02-06T02:08:28.997280",
     "status": "completed"
    },
    "tags": []
   },
   "outputs": [
    {
     "data": {
      "image/png": "[encoded data removed]",
      "text/plain": [
       "<Figure size 640x480 with 1 Axes>"
      ]
     },
     "metadata": {},
     "output_type": "display_data"
    }
   ],
   "source": [
    "plt.plot(history.history['loss'])\n",
    "plt.plot(history.history['val_loss'])\n",
    "plt.title(f'{SHEET_NAME} Model Loss', fontsize=15)\n",
    "plt.ylabel('loss')\n",
    "plt.xlabel('epoch')\n",
    "plt.legend(['train', 'test'])\n",
    "plt.show()"
   ]
  },
  {
   "cell_type": "code",
   "execution_count": 18,
   "id": "82005fbf",
   "metadata": {
    "execution": {
     "iopub.execute_input": "2024-02-06T02:08:29.386489Z",
     "iopub.status.busy": "2024-02-06T02:08:29.386128Z",
     "iopub.status.idle": "2024-02-06T02:08:30.162131Z",
     "shell.execute_reply": "2024-02-06T02:08:30.161261Z"
    },
    "papermill": {
     "duration": 0.834772,
     "end_time": "2024-02-06T02:08:30.164289",
     "exception": false,
     "start_time": "2024-02-06T02:08:29.329517",
     "status": "completed"
    },
    "tags": []
   },
   "outputs": [
    {
     "name": "stdout",
     "output_type": "stream",
     "text": [
      "7/7 [==============================] - 1s 3ms/step\n"
     ]
    }
   ],
   "source": [
    "y_hat = model.predict(X_test)\n",
    "y_test_inverse = scaler.inverse_transform(y_test)\n",
    "y_hat_inverse = scaler.inverse_transform(y_hat)"
   ]
  },
  {
   "cell_type": "code",
   "execution_count": 19,
   "id": "c225149f",
   "metadata": {
    "execution": {
     "iopub.execute_input": "2024-02-06T02:08:30.281080Z",
     "iopub.status.busy": "2024-02-06T02:08:30.280519Z",
     "iopub.status.idle": "2024-02-06T02:08:30.618281Z",
     "shell.execute_reply": "2024-02-06T02:08:30.617383Z"
    },
    "papermill": {
     "duration": 0.397707,
     "end_time": "2024-02-06T02:08:30.620669",
     "exception": false,
     "start_time": "2024-02-06T02:08:30.222962",
     "status": "completed"
    },
    "tags": []
   },
   "outputs": [
    {
     "data": {
      "image/png": "[encoded data removed]",
      "text/plain": [
       "<Figure size 640x480 with 1 Axes>"
      ]
     },
     "metadata": {},
     "output_type": "display_data"
    }
   ],
   "source": [
    "plt.plot(y_test_inverse, label=\"Actual Price\", color='green')\n",
    "plt.plot(y_hat_inverse, label=\"Predicted Price\", color='red')\n",
    " \n",
    "plt.title(f'{SHEET_NAME} Price Prediction\\nLSTM = {LSTM_Layer}, Split Data = {SPLIT}, Window = {WINDOW_SIZE}', fontsize=15)\n",
    "plt.xlabel('Time [days]')\n",
    "plt.ylabel('Price')\n",
    "plt.legend(loc='best')\n",
    " \n",
    "plt.show()"
   ]
  },
  {
   "cell_type": "code",
   "execution_count": 20,
   "id": "cb5a0cb6",
   "metadata": {
    "execution": {
     "iopub.execute_input": "2024-02-06T02:08:30.736499Z",
     "iopub.status.busy": "2024-02-06T02:08:30.735669Z",
     "iopub.status.idle": "2024-02-06T02:08:30.744433Z",
     "shell.execute_reply": "2024-02-06T02:08:30.743548Z"
    },
    "papermill": {
     "duration": 0.068417,
     "end_time": "2024-02-06T02:08:30.746581",
     "exception": false,
     "start_time": "2024-02-06T02:08:30.678164",
     "status": "completed"
    },
    "tags": []
   },
   "outputs": [
    {
     "name": "stdout",
     "output_type": "stream",
     "text": [
      "LSTM = 2, Split Data = 0.9, Window = 5\n",
      "\n",
      "----------------- Normalized Error -----------------\n",
      "Mean Absolute Error for prediction : 0.0175152002441959\n",
      "Mean Squared Error for prediction : 0.0005783249722266622\n",
      "Root Mean Squared Error for prediction : 0.024048388141966234\n",
      "\n",
      "----------------- Actual Error -----------------\n",
      "Mean Absolute Error for prediction : 66.27751933396483\n",
      "Mean Squared Error for prediction : 8280.842892405972\n",
      "Root Mean Squared Error for prediction : 90.99913676736703\n"
     ]
    }
   ],
   "source": [
    "def matrices(actual, predicted):\n",
    "    mse = mean_squared_error(actual, predicted)\n",
    "    mae = mean_absolute_error(actual, predicted)\n",
    "    rmse = np.sqrt(mse)\n",
    "    print(\"Mean Absolute Error for prediction :\", mae)\n",
    "    print(\"Mean Squared Error for prediction :\", mse)\n",
    "    print(\"Root Mean Squared Error for prediction :\", rmse)\n",
    "    return mae, mse, rmse\n",
    "\n",
    "print(f\"LSTM = {LSTM_Layer}, Split Data = {SPLIT}, Window = {WINDOW_SIZE}\")\n",
    "print(\"\\n----------------- Normalized Error -----------------\")\n",
    "mae, mse, rmse = matrices(y_test, y_hat)\n",
    "print(\"\\n----------------- Actual Error -----------------\")\n",
    "mae_inverse, mse_inverse, rmse_inverse = matrices(y_test_inverse, y_hat_inverse)"
   ]
  }
 ],
 "metadata": {
  "kaggle": {
   "accelerator": "gpu",
   "dataSources": [],
   "dockerImageVersionId": 30498,
   "isGpuEnabled": true,
   "isInternetEnabled": true,
   "language": "python",
   "sourceType": "notebook"
  },
  "kernelspec": {
   "display_name": "Python 3",
   "language": "python",
   "name": "python3"
  },
  "language_info": {
   "codemirror_mode": {
    "name": "ipython",
    "version": 3
   },
   "file_extension": ".py",
   "mimetype": "text/x-python",
   "name": "python",
   "nbconvert_exporter": "python",
   "pygments_lexer": "ipython3",
   "version": "3.10.10"
  },
  "papermill": {
   "default_parameters": {},
   "duration": 876.059642,
   "end_time": "2024-02-06T02:08:33.824623",
   "environment_variables": {},
   "exception": null,
   "input_path": "__notebook__.ipynb",
   "output_path": "__notebook__.ipynb",
   "parameters": {},
   "start_time": "2024-02-06T01:53:57.764981",
   "version": "2.4.0"
  }
 },
 "nbformat": 4,
 "nbformat_minor": 5
}
