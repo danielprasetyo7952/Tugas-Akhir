{
 "cells": [
  {
   "cell_type": "code",
   "execution_count": 1,
   "id": "bacdf6c7",
   "metadata": {
    "execution": {
     "iopub.execute_input": "2024-02-06T04:35:06.251573Z",
     "iopub.status.busy": "2024-02-06T04:35:06.250683Z",
     "iopub.status.idle": "2024-02-06T04:35:14.915012Z",
     "shell.execute_reply": "2024-02-06T04:35:14.914151Z"
    },
    "papermill": {
     "duration": 8.675038,
     "end_time": "2024-02-06T04:35:14.917362",
     "exception": false,
     "start_time": "2024-02-06T04:35:06.242324",
     "status": "completed"
    },
    "tags": []
   },
   "outputs": [
    {
     "name": "stderr",
     "output_type": "stream",
     "text": [
      "/opt/conda/lib/python3.10/site-packages/tensorflow_io/python/ops/__init__.py:98: UserWarning: unable to load libtensorflow_io_plugins.so: unable to open file: libtensorflow_io_plugins.so, from paths: ['/opt/conda/lib/python3.10/site-packages/tensorflow_io/python/ops/libtensorflow_io_plugins.so']\n",
      "caused by: ['/opt/conda/lib/python3.10/site-packages/tensorflow_io/python/ops/libtensorflow_io_plugins.so: undefined symbol: _ZN3tsl6StatusC1EN10tensorflow5error4CodeESt17basic_string_viewIcSt11char_traitsIcEENS_14SourceLocationE']\n",
      "  warnings.warn(f\"unable to load libtensorflow_io_plugins.so: {e}\")\n",
      "/opt/conda/lib/python3.10/site-packages/tensorflow_io/python/ops/__init__.py:104: UserWarning: file system plugins are not loaded: unable to open file: libtensorflow_io.so, from paths: ['/opt/conda/lib/python3.10/site-packages/tensorflow_io/python/ops/libtensorflow_io.so']\n",
      "caused by: ['/opt/conda/lib/python3.10/site-packages/tensorflow_io/python/ops/libtensorflow_io.so: undefined symbol: _ZTVN10tensorflow13GcsFileSystemE']\n",
      "  warnings.warn(f\"file system plugins are not loaded: {e}\")\n"
     ]
    }
   ],
   "source": [
    "import pandas as pd\n",
    "import numpy as np\n",
    "import tensorflow as tf\n",
    "import matplotlib.pyplot as plt\n",
    "import datetime, pytz\n",
    "\n",
    "from keras.models import Sequential\n",
    "from keras.layers import LSTM, Dense\n",
    "from keras.metrics import RootMeanSquaredError\n",
    "\n",
    "from sklearn.preprocessing import MinMaxScaler\n",
    "from sklearn.metrics import mean_squared_error, mean_absolute_error"
   ]
  },
  {
   "cell_type": "markdown",
   "id": "794e229b",
   "metadata": {
    "papermill": {
     "duration": 0.00654,
     "end_time": "2024-02-06T04:35:14.930777",
     "exception": false,
     "start_time": "2024-02-06T04:35:14.924237",
     "status": "completed"
    },
    "tags": []
   },
   "source": [
    "## Hyperparameter"
   ]
  },
  {
   "cell_type": "code",
   "execution_count": 2,
   "id": "2e5e9275",
   "metadata": {
    "execution": {
     "iopub.execute_input": "2024-02-06T04:35:14.945113Z",
     "iopub.status.busy": "2024-02-06T04:35:14.944484Z",
     "iopub.status.idle": "2024-02-06T04:35:14.949395Z",
     "shell.execute_reply": "2024-02-06T04:35:14.948660Z"
    },
    "papermill": {
     "duration": 0.014081,
     "end_time": "2024-02-06T04:35:14.951269",
     "exception": false,
     "start_time": "2024-02-06T04:35:14.937188",
     "status": "completed"
    },
    "tags": []
   },
   "outputs": [],
   "source": [
    "# Google Spreadsheet ID\n",
    "SHEET_ID = '1JDNv_mArl-GPIpxuWS5GxgVEwvjXocS1MrXGc6TYs8M'\n",
    "SHEET_NAME = 'SGD/IDR' # USD/IDR, EUR/IDR, SGD/IDR\n",
    "\n",
    "SEQ_LEN = 6 # 6, 11, 21\n",
    "SPLIT = 0.90 # 0.80, 0.90\n",
    "LSTM_Layer = 2 # 1, 2, 3\n",
    "WINDOW_SIZE = SEQ_LEN - 1"
   ]
  },
  {
   "cell_type": "code",
   "execution_count": 3,
   "id": "021ad233",
   "metadata": {
    "execution": {
     "iopub.execute_input": "2024-02-06T04:35:14.965495Z",
     "iopub.status.busy": "2024-02-06T04:35:14.965229Z",
     "iopub.status.idle": "2024-02-06T04:35:15.384868Z",
     "shell.execute_reply": "2024-02-06T04:35:15.383764Z"
    },
    "papermill": {
     "duration": 0.429158,
     "end_time": "2024-02-06T04:35:15.387060",
     "exception": false,
     "start_time": "2024-02-06T04:35:14.957902",
     "status": "completed"
    },
    "tags": []
   },
   "outputs": [
    {
     "name": "stdout",
     "output_type": "stream",
     "text": [
      "<class 'pandas.core.frame.DataFrame'>\n",
      "RangeIndex: 1959 entries, 0 to 1958\n",
      "Data columns (total 2 columns):\n",
      " #   Column  Non-Null Count  Dtype         \n",
      "---  ------  --------------  -----         \n",
      " 0   Date    1959 non-null   datetime64[ns]\n",
      " 1   Close   1959 non-null   float64       \n",
      "dtypes: datetime64[ns](1), float64(1)\n",
      "memory usage: 30.7 KB\n"
     ]
    }
   ],
   "source": [
    "url = f'https://docs.google.com/spreadsheets/d/{SHEET_ID}/gviz/tq?tqx=out:csv&sheet={SHEET_NAME}'\n",
    "data = pd.read_csv(url)\n",
    "\n",
    "# Convert Date columns to datetime format\n",
    "data['Date'] = pd.to_datetime(data['Date'], format='%d/%m/%Y %H:%M:%S')\n",
    "data.info()"
   ]
  },
  {
   "cell_type": "markdown",
   "id": "e1f2d628",
   "metadata": {
    "papermill": {
     "duration": 0.006369,
     "end_time": "2024-02-06T04:35:15.400053",
     "exception": false,
     "start_time": "2024-02-06T04:35:15.393684",
     "status": "completed"
    },
    "tags": []
   },
   "source": [
    "## Preprocessing"
   ]
  },
  {
   "cell_type": "code",
   "execution_count": 4,
   "id": "00f9bcf9",
   "metadata": {
    "execution": {
     "iopub.execute_input": "2024-02-06T04:35:15.414552Z",
     "iopub.status.busy": "2024-02-06T04:35:15.413696Z",
     "iopub.status.idle": "2024-02-06T04:35:15.425638Z",
     "shell.execute_reply": "2024-02-06T04:35:15.424535Z"
    },
    "papermill": {
     "duration": 0.021026,
     "end_time": "2024-02-06T04:35:15.427468",
     "exception": false,
     "start_time": "2024-02-06T04:35:15.406442",
     "status": "completed"
    },
    "tags": []
   },
   "outputs": [
    {
     "name": "stderr",
     "output_type": "stream",
     "text": [
      "/tmp/ipykernel_26/2274720815.py:7: SettingWithCopyWarning: \n",
      "A value is trying to be set on a copy of a slice from a DataFrame\n",
      "\n",
      "See the caveats in the documentation: https://pandas.pydata.org/pandas-docs/stable/user_guide/indexing.html#returning-a-view-versus-a-copy\n",
      "  data[data < lower_bound] = lower_bound\n",
      "/tmp/ipykernel_26/2274720815.py:8: SettingWithCopyWarning: \n",
      "A value is trying to be set on a copy of a slice from a DataFrame\n",
      "\n",
      "See the caveats in the documentation: https://pandas.pydata.org/pandas-docs/stable/user_guide/indexing.html#returning-a-view-versus-a-copy\n",
      "  data[data > upper_bound] = upper_bound\n"
     ]
    }
   ],
   "source": [
    "def replace_outliers(data):\n",
    "    Q1 = np.percentile(data, 25)\n",
    "    Q3 = np.percentile(data, 75)\n",
    "    IQR = Q3 - Q1\n",
    "    lower_bound = Q1 - 1.5 * IQR\n",
    "    upper_bound = Q3 + 1.5 * IQR\n",
    "    data[data < lower_bound] = lower_bound\n",
    "    data[data > upper_bound] = upper_bound\n",
    "    return data\n",
    "\n",
    "data['Close'] = replace_outliers(data['Close'])"
   ]
  },
  {
   "cell_type": "code",
   "execution_count": 5,
   "id": "424930be",
   "metadata": {
    "execution": {
     "iopub.execute_input": "2024-02-06T04:35:15.441800Z",
     "iopub.status.busy": "2024-02-06T04:35:15.441525Z",
     "iopub.status.idle": "2024-02-06T04:35:15.686407Z",
     "shell.execute_reply": "2024-02-06T04:35:15.685564Z"
    },
    "papermill": {
     "duration": 0.254288,
     "end_time": "2024-02-06T04:35:15.688441",
     "exception": false,
     "start_time": "2024-02-06T04:35:15.434153",
     "status": "completed"
    },
    "tags": []
   },
   "outputs": [
    {
     "data": {
      "image/png": "[encoded data removed]",
      "text/plain": [
       "<Figure size 640x480 with 1 Axes>"
      ]
     },
     "metadata": {},
     "output_type": "display_data"
    }
   ],
   "source": [
    "# Boxplot for outlier detection\n",
    "plt.boxplot(data['Close'])\n",
    "plt.title(f\"{SHEET_NAME} Boxplot for Outlier Detection\")\n",
    "plt.xlabel(\"Close\")\n",
    "plt.ylabel(\"Values\")\n",
    "plt.show()"
   ]
  },
  {
   "cell_type": "code",
   "execution_count": 6,
   "id": "9a5c900e",
   "metadata": {
    "execution": {
     "iopub.execute_input": "2024-02-06T04:35:15.704316Z",
     "iopub.status.busy": "2024-02-06T04:35:15.704019Z",
     "iopub.status.idle": "2024-02-06T04:35:15.711269Z",
     "shell.execute_reply": "2024-02-06T04:35:15.710452Z"
    },
    "papermill": {
     "duration": 0.017501,
     "end_time": "2024-02-06T04:35:15.713224",
     "exception": false,
     "start_time": "2024-02-06T04:35:15.695723",
     "status": "completed"
    },
    "tags": []
   },
   "outputs": [
    {
     "data": {
      "text/plain": [
       "(1959, 1)"
      ]
     },
     "execution_count": 6,
     "metadata": {},
     "output_type": "execute_result"
    }
   ],
   "source": [
    "scaler = MinMaxScaler()\n",
    "close_price = data.Close.values.reshape(-1, 1)\n",
    "scaled_close = scaler.fit_transform(close_price)\n",
    "scaled_close.shape"
   ]
  },
  {
   "cell_type": "code",
   "execution_count": 7,
   "id": "e618ca30",
   "metadata": {
    "execution": {
     "iopub.execute_input": "2024-02-06T04:35:15.728435Z",
     "iopub.status.busy": "2024-02-06T04:35:15.728166Z",
     "iopub.status.idle": "2024-02-06T04:35:15.737693Z",
     "shell.execute_reply": "2024-02-06T04:35:15.736845Z"
    },
    "papermill": {
     "duration": 0.019282,
     "end_time": "2024-02-06T04:35:15.739594",
     "exception": false,
     "start_time": "2024-02-06T04:35:15.720312",
     "status": "completed"
    },
    "tags": []
   },
   "outputs": [],
   "source": [
    "def to_sequences(data, seq_len):\n",
    "    d = []\n",
    "    for index in range(len(data) - seq_len):\n",
    "        d.append(data[index: index + seq_len])\n",
    "    return np.array(d)\n",
    "\n",
    "def preprocess(data_raw, seq_len, train_split):\n",
    "    data = to_sequences(data_raw, seq_len)\n",
    "    num_train = int(train_split * data.shape[0])\n",
    "    X_train = data[:num_train, :-1, :]\n",
    "    y_train = data[:num_train, -1, :]\n",
    "    X_test = data[num_train:, :-1, :]\n",
    "    y_test = data[num_train:, -1, :]\n",
    "    return X_train, y_train, X_test, y_test\n",
    "\n",
    "X_train, y_train, X_test, y_test = preprocess(scaled_close, SEQ_LEN, train_split = SPLIT)"
   ]
  },
  {
   "cell_type": "markdown",
   "id": "ad38c7bf",
   "metadata": {
    "papermill": {
     "duration": 0.006891,
     "end_time": "2024-02-06T04:35:15.753609",
     "exception": false,
     "start_time": "2024-02-06T04:35:15.746718",
     "status": "completed"
    },
    "tags": []
   },
   "source": [
    "## Genetic Algorithm"
   ]
  },
  {
   "cell_type": "code",
   "execution_count": 8,
   "id": "c4d88cf6",
   "metadata": {
    "execution": {
     "iopub.execute_input": "2024-02-06T04:35:15.769889Z",
     "iopub.status.busy": "2024-02-06T04:35:15.769595Z",
     "iopub.status.idle": "2024-02-06T04:35:15.775294Z",
     "shell.execute_reply": "2024-02-06T04:35:15.774479Z"
    },
    "papermill": {
     "duration": 0.016524,
     "end_time": "2024-02-06T04:35:15.777147",
     "exception": false,
     "start_time": "2024-02-06T04:35:15.760623",
     "status": "completed"
    },
    "tags": []
   },
   "outputs": [],
   "source": [
    "def decimal_to_binary(chromosome: list):\n",
    "    binary_string = ''.join([bin(x)[2:].zfill(8) for x in chromosome])\n",
    "    return binary_string\n",
    "\n",
    "def binary_to_decimal(binary_string: str):\n",
    "    decimal_array = [int(binary, 2) for binary in [binary_string[i:i+8] for i in range(0, len(binary_string), 8)]]\n",
    "    return decimal_array"
   ]
  },
  {
   "cell_type": "code",
   "execution_count": 9,
   "id": "8e5c7c02",
   "metadata": {
    "execution": {
     "iopub.execute_input": "2024-02-06T04:35:15.793282Z",
     "iopub.status.busy": "2024-02-06T04:35:15.792714Z",
     "iopub.status.idle": "2024-02-06T04:35:15.811352Z",
     "shell.execute_reply": "2024-02-06T04:35:15.810533Z"
    },
    "papermill": {
     "duration": 0.028822,
     "end_time": "2024-02-06T04:35:15.813224",
     "exception": false,
     "start_time": "2024-02-06T04:35:15.784402",
     "status": "completed"
    },
    "tags": []
   },
   "outputs": [],
   "source": [
    "# Genetic Algorithm\n",
    "def genetic_algorithm(generations, mutation_rate):\n",
    "    print(f\"Inizialized Population...\")\n",
    "    population = np.random.randint(1, high=251, size=(10, 3))\n",
    "    fitness_scores = np.array([fitness_function(chromosome) for chromosome in population])\n",
    "    max_fitness_each_gen = []\n",
    "    \n",
    "    for generation in range(generations):\n",
    "        print(f\"Generation - {generation + 1}\")\n",
    "        max_fitness_each_gen.append(np.max(fitness_scores))\n",
    "        \n",
    "        chromosome_1 = selection(population, fitness_scores)\n",
    "        chromosome_2 = selection(population, fitness_scores)\n",
    "        \n",
    "        if generation % mutation_rate == 0:\n",
    "            chromosome_1 = mutate(chromosome_1)\n",
    "            chromosome_2 = mutate(chromosome_2)\n",
    "        else:\n",
    "            chromosome_1, chromosome_2 = crossover(chromosome_1, chromosome_2)\n",
    "\n",
    "        fitness_score_1 = fitness_function(chromosome_1)\n",
    "        fitness_score_2 = fitness_function(chromosome_2)\n",
    "        \n",
    "        worst_index = np.argmin(fitness_scores)\n",
    "        worst_fitness = fitness_scores[worst_index]\n",
    "\n",
    "        if fitness_score_1 > worst_fitness:\n",
    "            population[worst_index] = chromosome_1\n",
    "            fitness_scores[worst_index] = fitness_score_1\n",
    "            worst_index = np.argmin(fitness_scores)\n",
    "            worst_fitness = fitness_scores[worst_index]\n",
    "\n",
    "        if fitness_score_2 > worst_fitness:\n",
    "            population[worst_index] = chromosome_2\n",
    "            fitness_scores[worst_index] = fitness_score_2\n",
    "        \n",
    "        # Release some memory\n",
    "        del chromosome_1, chromosome_2\n",
    "        del fitness_score_1, fitness_score_2\n",
    "        del worst_index, worst_fitness\n",
    "            \n",
    "    best_chromosome = population[np.argmax(fitness_scores)]\n",
    "    best_fitness = np.max(fitness_scores)\n",
    "    \n",
    "    return best_chromosome, best_fitness, max_fitness_each_gen\n",
    "\n",
    "# Selection (Tournament selection)\n",
    "def selection(population, fitness_scores, tournament_size=3):\n",
    "    indices = np.random.randint(len(population), size=tournament_size)\n",
    "    tournament = population[indices]\n",
    "    tournament_fitness = fitness_scores[indices]\n",
    "    return tournament[np.argmax(tournament_fitness)]\n",
    "\n",
    "# Crossover (Single-point crossover)\n",
    "def crossover(parent_1: list, parent_2: list):\n",
    "    parent_1 = decimal_to_binary(parent_1)\n",
    "    parent_2 = decimal_to_binary(parent_2)\n",
    "    \n",
    "    crossover_point = np.random.randint(1, len(parent_1))\n",
    "    offspring_1 = parent_1[:crossover_point] + parent_2[crossover_point:]\n",
    "    offspring_2 = parent_2[:crossover_point] + parent_1[crossover_point:]\n",
    "    \n",
    "    offspring_1 = binary_to_decimal(offspring_1)\n",
    "    offspring_2 = binary_to_decimal(offspring_2)\n",
    "    return offspring_1, offspring_2\n",
    "\n",
    "# Mutation (Swap Mutation)\n",
    "def mutate(chromosome: list):\n",
    "    chromosome = decimal_to_binary(chromosome)\n",
    "    \n",
    "    chromosome_list = list(chromosome)\n",
    "    i = np.random.randint(len(chromosome_list), size=2)\n",
    "    chromosome_list[i[0]], chromosome_list[i[1]] = chromosome_list[i[1]], chromosome_list[i[0]]\n",
    "    \n",
    "    chromosome_list = ''.join(chromosome_list)\n",
    "    chromosome = binary_to_decimal(chromosome_list)\n",
    "    return chromosome\n",
    "\n",
    "# Fitness Function\n",
    "def fitness_function(chromosome: list):\n",
    "    lstm_units = [int(chromosome[i]) or default for i, default in enumerate([128, 64, 32])]\n",
    "\n",
    "    # Build the LSTM model\n",
    "    tf.keras.backend.clear_session()\n",
    "    model = Sequential()\n",
    "    for i, units in enumerate(lstm_units[:LSTM_Layer]):\n",
    "        model.add(LSTM(units, return_sequences=(i < LSTM_Layer - 1), input_shape=(WINDOW_SIZE, 1)))\n",
    "    model.add(Dense(1))\n",
    "    \n",
    "    # Compile and train the model\n",
    "    model.compile(loss='mean_squared_error',\n",
    "                  optimizer='adam')\n",
    "    model.fit(X_train, y_train,\n",
    "              epochs=10,\n",
    "              batch_size=32,\n",
    "              verbose=0,\n",
    "              validation_split=0.1)\n",
    "\n",
    "    # Evaluate the model\n",
    "    loss = model.evaluate(X_test, y_test)\n",
    "\n",
    "    # Return the negative value of the loss as the fitness score\n",
    "    return -loss"
   ]
  },
  {
   "cell_type": "code",
   "execution_count": 10,
   "id": "e1ea78e9",
   "metadata": {
    "execution": {
     "iopub.execute_input": "2024-02-06T04:35:15.828453Z",
     "iopub.status.busy": "2024-02-06T04:35:15.828186Z",
     "iopub.status.idle": "2024-02-06T04:35:15.833565Z",
     "shell.execute_reply": "2024-02-06T04:35:15.832858Z"
    },
    "papermill": {
     "duration": 0.015078,
     "end_time": "2024-02-06T04:35:15.835413",
     "exception": false,
     "start_time": "2024-02-06T04:35:15.820335",
     "status": "completed"
    },
    "tags": []
   },
   "outputs": [],
   "source": [
    "import typing\n",
    "from datetime import datetime\n",
    "\n",
    "def timer(start_time: datetime = None) -> \"typing.Union[datetime.datetime, str]\":\n",
    "    if not start_time:\n",
    "        start_time = datetime.now()\n",
    "        return start_time\n",
    "    elif start_time:\n",
    "        thour, temp_sec = divmod((datetime.now() - start_time).total_seconds(), 3600)\n",
    "        tmin, tsec = divmod(temp_sec, 60)\n",
    "        return \"%i hours %i minutes and %s seconds.\" % (\n",
    "            thour,\n",
    "            tmin,\n",
    "            round(tsec, 2),\n",
    "        )"
   ]
  },
  {
   "cell_type": "code",
   "execution_count": 11,
   "id": "1c3ce43f",
   "metadata": {
    "execution": {
     "iopub.execute_input": "2024-02-06T04:35:15.850665Z",
     "iopub.status.busy": "2024-02-06T04:35:15.850413Z",
     "iopub.status.idle": "2024-02-06T04:49:06.341750Z",
     "shell.execute_reply": "2024-02-06T04:49:06.340979Z"
    },
    "papermill": {
     "duration": 830.501663,
     "end_time": "2024-02-06T04:49:06.344170",
     "exception": false,
     "start_time": "2024-02-06T04:35:15.842507",
     "status": "completed"
    },
    "tags": []
   },
   "outputs": [
    {
     "name": "stdout",
     "output_type": "stream",
     "text": [
      "Inizialized Population...\n",
      "7/7 [==============================] - 0s 3ms/step - loss: 0.0031\n",
      "7/7 [==============================] - 0s 3ms/step - loss: 0.0032\n",
      "7/7 [==============================] - 0s 4ms/step - loss: 0.0013\n",
      "7/7 [==============================] - 0s 4ms/step - loss: 0.0027\n",
      "7/7 [==============================] - 0s 8ms/step - loss: 0.0016\n",
      "7/7 [==============================] - 0s 3ms/step - loss: 0.0011\n",
      "7/7 [==============================] - 0s 3ms/step - loss: 0.0018\n",
      "7/7 [==============================] - 0s 3ms/step - loss: 4.4493e-04\n",
      "7/7 [==============================] - 0s 3ms/step - loss: 0.0010\n",
      "7/7 [==============================] - 0s 3ms/step - loss: 0.0037\n",
      "Generation - 1\n",
      "7/7 [==============================] - 0s 3ms/step - loss: 0.0018\n",
      "7/7 [==============================] - 0s 3ms/step - loss: 0.0046\n",
      "Generation - 2\n",
      "7/7 [==============================] - 0s 3ms/step - loss: 0.0079\n",
      "7/7 [==============================] - 0s 3ms/step - loss: 6.7348e-04\n",
      "Generation - 3\n",
      "7/7 [==============================] - 0s 3ms/step - loss: 0.0011\n",
      "7/7 [==============================] - 0s 3ms/step - loss: 9.6629e-04\n",
      "Generation - 4\n",
      "7/7 [==============================] - 0s 3ms/step - loss: 0.0025\n",
      "7/7 [==============================] - 0s 3ms/step - loss: 0.0012\n",
      "Generation - 5\n",
      "7/7 [==============================] - 0s 3ms/step - loss: 0.0028\n",
      "7/7 [==============================] - 0s 3ms/step - loss: 0.0019\n",
      "Generation - 6\n",
      "7/7 [==============================] - 0s 3ms/step - loss: 9.9212e-04\n",
      "7/7 [==============================] - 0s 3ms/step - loss: 0.0026\n",
      "Generation - 7\n",
      "7/7 [==============================] - 0s 3ms/step - loss: 0.0016\n",
      "7/7 [==============================] - 0s 3ms/step - loss: 6.1576e-04\n",
      "Generation - 8\n",
      "7/7 [==============================] - 0s 3ms/step - loss: 5.2142e-04\n",
      "7/7 [==============================] - 0s 3ms/step - loss: 0.0083\n",
      "Generation - 9\n",
      "7/7 [==============================] - 0s 3ms/step - loss: 0.0021\n",
      "7/7 [==============================] - 0s 3ms/step - loss: 0.0013\n",
      "Generation - 10\n",
      "7/7 [==============================] - 0s 3ms/step - loss: 0.0035\n",
      "7/7 [==============================] - 0s 3ms/step - loss: 0.0040\n",
      "Generation - 11\n",
      "7/7 [==============================] - 0s 3ms/step - loss: 0.0056\n",
      "7/7 [==============================] - 0s 3ms/step - loss: 0.0023\n",
      "Generation - 12\n",
      "7/7 [==============================] - 0s 3ms/step - loss: 0.0026\n",
      "7/7 [==============================] - 0s 3ms/step - loss: 0.0067\n",
      "Generation - 13\n",
      "7/7 [==============================] - 0s 3ms/step - loss: 9.1409e-04\n",
      "7/7 [==============================] - 0s 3ms/step - loss: 5.5671e-04\n",
      "Generation - 14\n",
      "7/7 [==============================] - 0s 3ms/step - loss: 0.0044\n",
      "7/7 [==============================] - 0s 3ms/step - loss: 0.0019\n",
      "Generation - 15\n",
      "7/7 [==============================] - 0s 3ms/step - loss: 5.8262e-04\n",
      "7/7 [==============================] - 0s 3ms/step - loss: 0.0027\n",
      "Generation - 16\n",
      "7/7 [==============================] - 0s 3ms/step - loss: 0.0014\n",
      "7/7 [==============================] - 0s 3ms/step - loss: 5.1105e-04\n",
      "Generation - 17\n",
      "7/7 [==============================] - 0s 3ms/step - loss: 0.0035\n",
      "7/7 [==============================] - 0s 3ms/step - loss: 5.1997e-04\n",
      "Generation - 18\n",
      "7/7 [==============================] - 0s 3ms/step - loss: 0.0028\n",
      "7/7 [==============================] - 0s 3ms/step - loss: 0.0010\n",
      "Generation - 19\n",
      "7/7 [==============================] - 0s 3ms/step - loss: 0.0022\n",
      "7/7 [==============================] - 0s 3ms/step - loss: 0.0023\n",
      "Generation - 20\n",
      "7/7 [==============================] - 0s 3ms/step - loss: 7.1972e-04\n",
      "7/7 [==============================] - 0s 3ms/step - loss: 0.0030\n",
      "Generation - 21\n",
      "7/7 [==============================] - 0s 3ms/step - loss: 0.0015\n",
      "7/7 [==============================] - 0s 3ms/step - loss: 4.9445e-04\n",
      "Generation - 22\n",
      "7/7 [==============================] - 0s 3ms/step - loss: 9.6137e-04\n",
      "7/7 [==============================] - 0s 3ms/step - loss: 4.8448e-04\n",
      "Generation - 23\n",
      "7/7 [==============================] - 0s 3ms/step - loss: 0.0015\n",
      "7/7 [==============================] - 0s 3ms/step - loss: 8.5895e-04\n",
      "Generation - 24\n",
      "7/7 [==============================] - 0s 3ms/step - loss: 7.5284e-04\n",
      "7/7 [==============================] - 0s 3ms/step - loss: 6.2297e-04\n",
      "Generation - 25\n",
      "7/7 [==============================] - 0s 3ms/step - loss: 5.6810e-04\n",
      "7/7 [==============================] - 0s 3ms/step - loss: 0.0022\n",
      "Generation - 26\n",
      "7/7 [==============================] - 0s 3ms/step - loss: 7.4756e-04\n",
      "7/7 [==============================] - 0s 3ms/step - loss: 5.0119e-04\n",
      "Generation - 27\n",
      "7/7 [==============================] - 0s 3ms/step - loss: 0.0014\n",
      "7/7 [==============================] - 0s 3ms/step - loss: 0.0025\n",
      "Generation - 28\n",
      "7/7 [==============================] - 0s 3ms/step - loss: 0.0046\n",
      "7/7 [==============================] - 0s 3ms/step - loss: 0.0011\n",
      "Generation - 29\n",
      "7/7 [==============================] - 0s 3ms/step - loss: 0.0029\n",
      "7/7 [==============================] - 0s 3ms/step - loss: 6.4145e-04\n",
      "Generation - 30\n",
      "7/7 [==============================] - 0s 3ms/step - loss: 5.0456e-04\n",
      "7/7 [==============================] - 0s 3ms/step - loss: 0.0040\n",
      "Generation - 31\n",
      "7/7 [==============================] - 0s 3ms/step - loss: 9.1682e-04\n",
      "7/7 [==============================] - 0s 4ms/step - loss: 0.0050\n",
      "Generation - 32\n",
      "7/7 [==============================] - 0s 3ms/step - loss: 5.5352e-04\n",
      "7/7 [==============================] - 0s 3ms/step - loss: 5.5900e-04\n",
      "Generation - 33\n",
      "7/7 [==============================] - 0s 3ms/step - loss: 5.0786e-04\n",
      "7/7 [==============================] - 0s 3ms/step - loss: 8.4711e-04\n",
      "Generation - 34\n",
      "7/7 [==============================] - 0s 3ms/step - loss: 4.6034e-04\n",
      "7/7 [==============================] - 0s 3ms/step - loss: 0.0052\n",
      "Generation - 35\n",
      "7/7 [==============================] - 0s 3ms/step - loss: 7.3950e-04\n",
      "7/7 [==============================] - 0s 3ms/step - loss: 7.0792e-04\n",
      "Generation - 36\n",
      "7/7 [==============================] - 0s 3ms/step - loss: 4.8379e-04\n",
      "7/7 [==============================] - 0s 3ms/step - loss: 0.0034\n",
      "Generation - 37\n",
      "7/7 [==============================] - 0s 3ms/step - loss: 9.0270e-04\n",
      "7/7 [==============================] - 0s 3ms/step - loss: 0.0011\n",
      "Generation - 38\n",
      "7/7 [==============================] - 0s 3ms/step - loss: 0.0012\n",
      "7/7 [==============================] - 0s 3ms/step - loss: 7.2219e-04\n",
      "Generation - 39\n",
      "7/7 [==============================] - 0s 4ms/step - loss: 0.0031\n",
      "7/7 [==============================] - 0s 3ms/step - loss: 6.3226e-04\n",
      "Generation - 40\n",
      "7/7 [==============================] - 0s 3ms/step - loss: 0.0062\n",
      "7/7 [==============================] - 0s 3ms/step - loss: 9.8471e-04\n",
      "Generation - 41\n",
      "7/7 [==============================] - 0s 3ms/step - loss: 7.7952e-04\n",
      "7/7 [==============================] - 0s 3ms/step - loss: 0.0030\n",
      "Generation - 42\n",
      "7/7 [==============================] - 0s 3ms/step - loss: 0.0124\n",
      "7/7 [==============================] - 0s 3ms/step - loss: 0.0029\n",
      "Generation - 43\n",
      "7/7 [==============================] - 0s 3ms/step - loss: 0.0027\n",
      "7/7 [==============================] - 0s 3ms/step - loss: 0.0034\n",
      "Generation - 44\n",
      "7/7 [==============================] - 0s 3ms/step - loss: 0.0014\n",
      "7/7 [==============================] - 0s 3ms/step - loss: 0.0031\n",
      "Generation - 45\n",
      "7/7 [==============================] - 0s 3ms/step - loss: 0.0019\n",
      "7/7 [==============================] - 0s 3ms/step - loss: 6.6411e-04\n",
      "Generation - 46\n",
      "7/7 [==============================] - 0s 3ms/step - loss: 0.0083\n",
      "7/7 [==============================] - 0s 3ms/step - loss: 0.0039\n",
      "Generation - 47\n",
      "7/7 [==============================] - 0s 3ms/step - loss: 9.6826e-04\n",
      "7/7 [==============================] - 0s 3ms/step - loss: 0.0028\n",
      "Generation - 48\n",
      "7/7 [==============================] - 0s 3ms/step - loss: 0.0081\n",
      "7/7 [==============================] - 0s 3ms/step - loss: 0.0020\n",
      "Generation - 49\n",
      "7/7 [==============================] - 0s 3ms/step - loss: 0.0021\n",
      "7/7 [==============================] - 0s 3ms/step - loss: 4.5817e-04\n",
      "Generation - 50\n",
      "7/7 [==============================] - 0s 3ms/step - loss: 5.8435e-04\n",
      "7/7 [==============================] - 0s 3ms/step - loss: 0.0032\n"
     ]
    }
   ],
   "source": [
    "# Do not increase this value\n",
    "generations = 50\n",
    "mutation_rate = 5\n",
    "\n",
    "time = timer(None)\n",
    "best_chromosome, best_fitness, max_fitness_each_gen = genetic_algorithm(generations, mutation_rate)\n",
    "time = timer(time)"
   ]
  },
  {
   "cell_type": "code",
   "execution_count": 12,
   "id": "5bc402ea",
   "metadata": {
    "execution": {
     "iopub.execute_input": "2024-02-06T04:49:06.401953Z",
     "iopub.status.busy": "2024-02-06T04:49:06.401643Z",
     "iopub.status.idle": "2024-02-06T04:49:06.406745Z",
     "shell.execute_reply": "2024-02-06T04:49:06.405890Z"
    },
    "papermill": {
     "duration": 0.035029,
     "end_time": "2024-02-06T04:49:06.408909",
     "exception": false,
     "start_time": "2024-02-06T04:49:06.373880",
     "status": "completed"
    },
    "tags": []
   },
   "outputs": [
    {
     "name": "stdout",
     "output_type": "stream",
     "text": [
      "Best Chromosome: [188 208  82]\n",
      "Best Fitness: -0.0004449340340215713\n",
      "Time Taken: 0 hours 13 minutes and 50.49 seconds.\n"
     ]
    }
   ],
   "source": [
    "print(\"Best Chromosome:\", best_chromosome)\n",
    "print(\"Best Fitness:\", best_fitness)\n",
    "print(\"Time Taken:\", time)"
   ]
  },
  {
   "cell_type": "code",
   "execution_count": 13,
   "id": "0ef14d60",
   "metadata": {
    "execution": {
     "iopub.execute_input": "2024-02-06T04:49:06.466436Z",
     "iopub.status.busy": "2024-02-06T04:49:06.466085Z",
     "iopub.status.idle": "2024-02-06T04:49:06.472566Z",
     "shell.execute_reply": "2024-02-06T04:49:06.471702Z"
    },
    "papermill": {
     "duration": 0.037135,
     "end_time": "2024-02-06T04:49:06.474412",
     "exception": false,
     "start_time": "2024-02-06T04:49:06.437277",
     "status": "completed"
    },
    "tags": []
   },
   "outputs": [
    {
     "data": {
      "text/plain": [
       "[-0.0004449340340215713,\n",
       " -0.0004449340340215713,\n",
       " -0.0004449340340215713,\n",
       " -0.0004449340340215713,\n",
       " -0.0004449340340215713,\n",
       " -0.0004449340340215713,\n",
       " -0.0004449340340215713,\n",
       " -0.0004449340340215713,\n",
       " -0.0004449340340215713,\n",
       " -0.0004449340340215713,\n",
       " -0.0004449340340215713,\n",
       " -0.0004449340340215713,\n",
       " -0.0004449340340215713,\n",
       " -0.0004449340340215713,\n",
       " -0.0004449340340215713,\n",
       " -0.0004449340340215713,\n",
       " -0.0004449340340215713,\n",
       " -0.0004449340340215713,\n",
       " -0.0004449340340215713,\n",
       " -0.0004449340340215713,\n",
       " -0.0004449340340215713,\n",
       " -0.0004449340340215713,\n",
       " -0.0004449340340215713,\n",
       " -0.0004449340340215713,\n",
       " -0.0004449340340215713,\n",
       " -0.0004449340340215713,\n",
       " -0.0004449340340215713,\n",
       " -0.0004449340340215713,\n",
       " -0.0004449340340215713,\n",
       " -0.0004449340340215713,\n",
       " -0.0004449340340215713,\n",
       " -0.0004449340340215713,\n",
       " -0.0004449340340215713,\n",
       " -0.0004449340340215713,\n",
       " -0.0004449340340215713,\n",
       " -0.0004449340340215713,\n",
       " -0.0004449340340215713,\n",
       " -0.0004449340340215713,\n",
       " -0.0004449340340215713,\n",
       " -0.0004449340340215713,\n",
       " -0.0004449340340215713,\n",
       " -0.0004449340340215713,\n",
       " -0.0004449340340215713,\n",
       " -0.0004449340340215713,\n",
       " -0.0004449340340215713,\n",
       " -0.0004449340340215713,\n",
       " -0.0004449340340215713,\n",
       " -0.0004449340340215713,\n",
       " -0.0004449340340215713,\n",
       " -0.0004449340340215713]"
      ]
     },
     "execution_count": 13,
     "metadata": {},
     "output_type": "execute_result"
    }
   ],
   "source": [
    "max_fitness_each_gen"
   ]
  },
  {
   "cell_type": "markdown",
   "id": "b3396ab3",
   "metadata": {
    "papermill": {
     "duration": 0.026726,
     "end_time": "2024-02-06T04:49:06.528084",
     "exception": false,
     "start_time": "2024-02-06T04:49:06.501358",
     "status": "completed"
    },
    "tags": []
   },
   "source": [
    "## Re-Training Model with Best Parameter"
   ]
  },
  {
   "cell_type": "code",
   "execution_count": 14,
   "id": "c3157cb4",
   "metadata": {
    "execution": {
     "iopub.execute_input": "2024-02-06T04:49:06.582482Z",
     "iopub.status.busy": "2024-02-06T04:49:06.582201Z",
     "iopub.status.idle": "2024-02-06T04:49:07.107761Z",
     "shell.execute_reply": "2024-02-06T04:49:07.106754Z"
    },
    "papermill": {
     "duration": 0.555568,
     "end_time": "2024-02-06T04:49:07.110214",
     "exception": false,
     "start_time": "2024-02-06T04:49:06.554646",
     "status": "completed"
    },
    "tags": []
   },
   "outputs": [
    {
     "name": "stdout",
     "output_type": "stream",
     "text": [
      "Model: \"sequential_1\"\n",
      "_________________________________________________________________\n",
      " Layer (type)                Output Shape              Param #   \n",
      "=================================================================\n",
      " lstm_2 (LSTM)               (None, 5, 188)            142880    \n",
      "                                                                 \n",
      " lstm_3 (LSTM)               (None, 208)               330304    \n",
      "                                                                 \n",
      " dense_1 (Dense)             (None, 1)                 209       \n",
      "                                                                 \n",
      "=================================================================\n",
      "Total params: 473,393\n",
      "Trainable params: 473,393\n",
      "Non-trainable params: 0\n",
      "_________________________________________________________________\n"
     ]
    }
   ],
   "source": [
    "model = Sequential()\n",
    "for i, units in enumerate(best_chromosome[:LSTM_Layer]):\n",
    "    model.add(LSTM(units, return_sequences=(i < LSTM_Layer - 1), input_shape=(WINDOW_SIZE, 1)))\n",
    "model.add(Dense(1))\n",
    "\n",
    "model.summary()"
   ]
  },
  {
   "cell_type": "code",
   "execution_count": 15,
   "id": "175cc440",
   "metadata": {
    "execution": {
     "iopub.execute_input": "2024-02-06T04:49:07.167512Z",
     "iopub.status.busy": "2024-02-06T04:49:07.167221Z",
     "iopub.status.idle": "2024-02-06T04:49:26.957672Z",
     "shell.execute_reply": "2024-02-06T04:49:26.956883Z"
    },
    "papermill": {
     "duration": 19.821278,
     "end_time": "2024-02-06T04:49:26.959607",
     "exception": false,
     "start_time": "2024-02-06T04:49:07.138329",
     "status": "completed"
    },
    "tags": []
   },
   "outputs": [
    {
     "name": "stdout",
     "output_type": "stream",
     "text": [
      "Epoch 1/50\n",
      "50/50 [==============================] - 4s 21ms/step - loss: 0.0237 - mae: 0.1005 - root_mean_squared_error: 0.1539 - val_loss: 0.0025 - val_mae: 0.0368 - val_root_mean_squared_error: 0.0497\n",
      "Epoch 2/50\n",
      "50/50 [==============================] - 0s 6ms/step - loss: 0.0051 - mae: 0.0417 - root_mean_squared_error: 0.0712 - val_loss: 0.0027 - val_mae: 0.0410 - val_root_mean_squared_error: 0.0521\n",
      "Epoch 3/50\n",
      "50/50 [==============================] - 0s 6ms/step - loss: 0.0049 - mae: 0.0405 - root_mean_squared_error: 0.0698 - val_loss: 0.0041 - val_mae: 0.0533 - val_root_mean_squared_error: 0.0639\n",
      "Epoch 4/50\n",
      "50/50 [==============================] - 0s 6ms/step - loss: 0.0049 - mae: 0.0410 - root_mean_squared_error: 0.0700 - val_loss: 0.0038 - val_mae: 0.0511 - val_root_mean_squared_error: 0.0616\n",
      "Epoch 5/50\n",
      "50/50 [==============================] - 0s 6ms/step - loss: 0.0051 - mae: 0.0442 - root_mean_squared_error: 0.0715 - val_loss: 0.0016 - val_mae: 0.0305 - val_root_mean_squared_error: 0.0402\n",
      "Epoch 6/50\n",
      "50/50 [==============================] - 0s 6ms/step - loss: 0.0046 - mae: 0.0395 - root_mean_squared_error: 0.0679 - val_loss: 0.0016 - val_mae: 0.0304 - val_root_mean_squared_error: 0.0397\n",
      "Epoch 7/50\n",
      "50/50 [==============================] - 0s 6ms/step - loss: 0.0045 - mae: 0.0374 - root_mean_squared_error: 0.0668 - val_loss: 0.0013 - val_mae: 0.0279 - val_root_mean_squared_error: 0.0367\n",
      "Epoch 8/50\n",
      "50/50 [==============================] - 0s 6ms/step - loss: 0.0044 - mae: 0.0379 - root_mean_squared_error: 0.0660 - val_loss: 0.0072 - val_mae: 0.0757 - val_root_mean_squared_error: 0.0851\n",
      "Epoch 9/50\n",
      "50/50 [==============================] - 0s 6ms/step - loss: 0.0046 - mae: 0.0404 - root_mean_squared_error: 0.0679 - val_loss: 0.0012 - val_mae: 0.0267 - val_root_mean_squared_error: 0.0350\n",
      "Epoch 10/50\n",
      "50/50 [==============================] - 0s 6ms/step - loss: 0.0042 - mae: 0.0369 - root_mean_squared_error: 0.0647 - val_loss: 0.0017 - val_mae: 0.0316 - val_root_mean_squared_error: 0.0414\n",
      "Epoch 11/50\n",
      "50/50 [==============================] - 0s 6ms/step - loss: 0.0040 - mae: 0.0347 - root_mean_squared_error: 0.0629 - val_loss: 0.0017 - val_mae: 0.0326 - val_root_mean_squared_error: 0.0416\n",
      "Epoch 12/50\n",
      "50/50 [==============================] - 0s 6ms/step - loss: 0.0039 - mae: 0.0351 - root_mean_squared_error: 0.0626 - val_loss: 0.0015 - val_mae: 0.0297 - val_root_mean_squared_error: 0.0387\n",
      "Epoch 13/50\n",
      "50/50 [==============================] - 0s 6ms/step - loss: 0.0038 - mae: 0.0349 - root_mean_squared_error: 0.0617 - val_loss: 0.0016 - val_mae: 0.0310 - val_root_mean_squared_error: 0.0396\n",
      "Epoch 14/50\n",
      "50/50 [==============================] - 0s 6ms/step - loss: 0.0041 - mae: 0.0381 - root_mean_squared_error: 0.0642 - val_loss: 0.0011 - val_mae: 0.0259 - val_root_mean_squared_error: 0.0338\n",
      "Epoch 15/50\n",
      "50/50 [==============================] - 0s 6ms/step - loss: 0.0037 - mae: 0.0336 - root_mean_squared_error: 0.0608 - val_loss: 0.0054 - val_mae: 0.0655 - val_root_mean_squared_error: 0.0737\n",
      "Epoch 16/50\n",
      "50/50 [==============================] - 0s 6ms/step - loss: 0.0041 - mae: 0.0381 - root_mean_squared_error: 0.0642 - val_loss: 0.0011 - val_mae: 0.0258 - val_root_mean_squared_error: 0.0338\n",
      "Epoch 17/50\n",
      "50/50 [==============================] - 0s 6ms/step - loss: 0.0036 - mae: 0.0336 - root_mean_squared_error: 0.0602 - val_loss: 0.0042 - val_mae: 0.0562 - val_root_mean_squared_error: 0.0646\n",
      "Epoch 18/50\n",
      "50/50 [==============================] - 0s 6ms/step - loss: 0.0036 - mae: 0.0331 - root_mean_squared_error: 0.0597 - val_loss: 0.0021 - val_mae: 0.0365 - val_root_mean_squared_error: 0.0456\n",
      "Epoch 19/50\n",
      "50/50 [==============================] - 0s 6ms/step - loss: 0.0034 - mae: 0.0312 - root_mean_squared_error: 0.0581 - val_loss: 9.9406e-04 - val_mae: 0.0240 - val_root_mean_squared_error: 0.0315\n",
      "Epoch 20/50\n",
      "50/50 [==============================] - 0s 6ms/step - loss: 0.0035 - mae: 0.0323 - root_mean_squared_error: 0.0590 - val_loss: 8.3384e-04 - val_mae: 0.0219 - val_root_mean_squared_error: 0.0289\n",
      "Epoch 21/50\n",
      "50/50 [==============================] - 0s 6ms/step - loss: 0.0034 - mae: 0.0316 - root_mean_squared_error: 0.0582 - val_loss: 7.6856e-04 - val_mae: 0.0217 - val_root_mean_squared_error: 0.0277\n",
      "Epoch 22/50\n",
      "50/50 [==============================] - 0s 6ms/step - loss: 0.0034 - mae: 0.0300 - root_mean_squared_error: 0.0582 - val_loss: 7.4334e-04 - val_mae: 0.0209 - val_root_mean_squared_error: 0.0273\n",
      "Epoch 23/50\n",
      "50/50 [==============================] - 0s 6ms/step - loss: 0.0034 - mae: 0.0308 - root_mean_squared_error: 0.0584 - val_loss: 0.0011 - val_mae: 0.0255 - val_root_mean_squared_error: 0.0334\n",
      "Epoch 24/50\n",
      "50/50 [==============================] - 0s 6ms/step - loss: 0.0033 - mae: 0.0295 - root_mean_squared_error: 0.0570 - val_loss: 8.2273e-04 - val_mae: 0.0233 - val_root_mean_squared_error: 0.0287\n",
      "Epoch 25/50\n",
      "50/50 [==============================] - 0s 6ms/step - loss: 0.0033 - mae: 0.0302 - root_mean_squared_error: 0.0577 - val_loss: 0.0015 - val_mae: 0.0300 - val_root_mean_squared_error: 0.0382\n",
      "Epoch 26/50\n",
      "50/50 [==============================] - 0s 6ms/step - loss: 0.0036 - mae: 0.0327 - root_mean_squared_error: 0.0597 - val_loss: 0.0010 - val_mae: 0.0248 - val_root_mean_squared_error: 0.0324\n",
      "Epoch 27/50\n",
      "50/50 [==============================] - 0s 6ms/step - loss: 0.0036 - mae: 0.0335 - root_mean_squared_error: 0.0596 - val_loss: 0.0017 - val_mae: 0.0325 - val_root_mean_squared_error: 0.0413\n",
      "Epoch 28/50\n",
      "50/50 [==============================] - 0s 6ms/step - loss: 0.0035 - mae: 0.0325 - root_mean_squared_error: 0.0591 - val_loss: 9.0169e-04 - val_mae: 0.0229 - val_root_mean_squared_error: 0.0300\n",
      "Epoch 29/50\n",
      "50/50 [==============================] - 0s 6ms/step - loss: 0.0033 - mae: 0.0300 - root_mean_squared_error: 0.0579 - val_loss: 0.0015 - val_mae: 0.0293 - val_root_mean_squared_error: 0.0381\n",
      "Epoch 30/50\n",
      "50/50 [==============================] - 0s 7ms/step - loss: 0.0035 - mae: 0.0323 - root_mean_squared_error: 0.0588 - val_loss: 8.2380e-04 - val_mae: 0.0221 - val_root_mean_squared_error: 0.0287\n",
      "Epoch 31/50\n",
      "50/50 [==============================] - 0s 7ms/step - loss: 0.0034 - mae: 0.0309 - root_mean_squared_error: 0.0581 - val_loss: 7.8997e-04 - val_mae: 0.0224 - val_root_mean_squared_error: 0.0281\n",
      "Epoch 32/50\n",
      "50/50 [==============================] - 0s 7ms/step - loss: 0.0033 - mae: 0.0299 - root_mean_squared_error: 0.0574 - val_loss: 0.0012 - val_mae: 0.0273 - val_root_mean_squared_error: 0.0351\n",
      "Epoch 33/50\n",
      "50/50 [==============================] - 0s 7ms/step - loss: 0.0033 - mae: 0.0293 - root_mean_squared_error: 0.0572 - val_loss: 7.7504e-04 - val_mae: 0.0216 - val_root_mean_squared_error: 0.0278\n",
      "Epoch 34/50\n",
      "50/50 [==============================] - 0s 6ms/step - loss: 0.0034 - mae: 0.0312 - root_mean_squared_error: 0.0581 - val_loss: 0.0012 - val_mae: 0.0272 - val_root_mean_squared_error: 0.0352\n",
      "Epoch 35/50\n",
      "50/50 [==============================] - 0s 6ms/step - loss: 0.0033 - mae: 0.0300 - root_mean_squared_error: 0.0575 - val_loss: 0.0014 - val_mae: 0.0290 - val_root_mean_squared_error: 0.0372\n",
      "Epoch 36/50\n",
      "50/50 [==============================] - 0s 6ms/step - loss: 0.0034 - mae: 0.0313 - root_mean_squared_error: 0.0579 - val_loss: 0.0021 - val_mae: 0.0372 - val_root_mean_squared_error: 0.0462\n",
      "Epoch 37/50\n",
      "50/50 [==============================] - 0s 7ms/step - loss: 0.0033 - mae: 0.0298 - root_mean_squared_error: 0.0574 - val_loss: 6.9619e-04 - val_mae: 0.0202 - val_root_mean_squared_error: 0.0264\n",
      "Epoch 38/50\n",
      "50/50 [==============================] - 0s 6ms/step - loss: 0.0036 - mae: 0.0340 - root_mean_squared_error: 0.0604 - val_loss: 0.0012 - val_mae: 0.0296 - val_root_mean_squared_error: 0.0349\n",
      "Epoch 39/50\n",
      "50/50 [==============================] - 0s 6ms/step - loss: 0.0034 - mae: 0.0318 - root_mean_squared_error: 0.0585 - val_loss: 0.0020 - val_mae: 0.0353 - val_root_mean_squared_error: 0.0443\n",
      "Epoch 40/50\n",
      "50/50 [==============================] - 0s 6ms/step - loss: 0.0033 - mae: 0.0302 - root_mean_squared_error: 0.0575 - val_loss: 8.4754e-04 - val_mae: 0.0235 - val_root_mean_squared_error: 0.0291\n",
      "Epoch 41/50\n",
      "50/50 [==============================] - 0s 6ms/step - loss: 0.0033 - mae: 0.0312 - root_mean_squared_error: 0.0577 - val_loss: 8.3953e-04 - val_mae: 0.0222 - val_root_mean_squared_error: 0.0290\n",
      "Epoch 42/50\n",
      "50/50 [==============================] - 0s 6ms/step - loss: 0.0035 - mae: 0.0322 - root_mean_squared_error: 0.0593 - val_loss: 0.0013 - val_mae: 0.0282 - val_root_mean_squared_error: 0.0364\n",
      "Epoch 43/50\n",
      "50/50 [==============================] - 0s 6ms/step - loss: 0.0034 - mae: 0.0325 - root_mean_squared_error: 0.0585 - val_loss: 8.5715e-04 - val_mae: 0.0226 - val_root_mean_squared_error: 0.0293\n",
      "Epoch 44/50\n",
      "50/50 [==============================] - 0s 6ms/step - loss: 0.0033 - mae: 0.0298 - root_mean_squared_error: 0.0575 - val_loss: 7.2661e-04 - val_mae: 0.0208 - val_root_mean_squared_error: 0.0270\n",
      "Epoch 45/50\n",
      "50/50 [==============================] - 0s 6ms/step - loss: 0.0034 - mae: 0.0307 - root_mean_squared_error: 0.0579 - val_loss: 7.1810e-04 - val_mae: 0.0205 - val_root_mean_squared_error: 0.0268\n",
      "Epoch 46/50\n",
      "50/50 [==============================] - 0s 6ms/step - loss: 0.0033 - mae: 0.0321 - root_mean_squared_error: 0.0576 - val_loss: 7.4083e-04 - val_mae: 0.0214 - val_root_mean_squared_error: 0.0272\n",
      "Epoch 47/50\n",
      "50/50 [==============================] - 0s 6ms/step - loss: 0.0032 - mae: 0.0304 - root_mean_squared_error: 0.0568 - val_loss: 7.6631e-04 - val_mae: 0.0223 - val_root_mean_squared_error: 0.0277\n",
      "Epoch 48/50\n",
      "50/50 [==============================] - 0s 6ms/step - loss: 0.0033 - mae: 0.0308 - root_mean_squared_error: 0.0571 - val_loss: 9.4184e-04 - val_mae: 0.0236 - val_root_mean_squared_error: 0.0307\n",
      "Epoch 49/50\n",
      "50/50 [==============================] - 0s 6ms/step - loss: 0.0032 - mae: 0.0310 - root_mean_squared_error: 0.0568 - val_loss: 8.8190e-04 - val_mae: 0.0241 - val_root_mean_squared_error: 0.0297\n",
      "Epoch 50/50\n",
      "50/50 [==============================] - 0s 6ms/step - loss: 0.0032 - mae: 0.0307 - root_mean_squared_error: 0.0569 - val_loss: 0.0012 - val_mae: 0.0274 - val_root_mean_squared_error: 0.0350\n"
     ]
    }
   ],
   "source": [
    "model.compile(loss='mean_squared_error',\n",
    "              metrics=['mae', RootMeanSquaredError()],\n",
    "              optimizer='adam')\n",
    "\n",
    "history = model.fit(X_train,\n",
    "                    y_train,\n",
    "                    epochs=50,\n",
    "                    batch_size=32,\n",
    "                    validation_split=0.1)"
   ]
  },
  {
   "cell_type": "code",
   "execution_count": 16,
   "id": "175c00ea",
   "metadata": {
    "execution": {
     "iopub.execute_input": "2024-02-06T04:49:27.070741Z",
     "iopub.status.busy": "2024-02-06T04:49:27.070368Z",
     "iopub.status.idle": "2024-02-06T04:49:27.159158Z",
     "shell.execute_reply": "2024-02-06T04:49:27.158239Z"
    },
    "papermill": {
     "duration": 0.14624,
     "end_time": "2024-02-06T04:49:27.161081",
     "exception": false,
     "start_time": "2024-02-06T04:49:27.014841",
     "status": "completed"
    },
    "tags": []
   },
   "outputs": [
    {
     "name": "stdout",
     "output_type": "stream",
     "text": [
      "7/7 [==============================] - 0s 4ms/step - loss: 8.3296e-04 - mae: 0.0252 - root_mean_squared_error: 0.0289\n"
     ]
    },
    {
     "data": {
      "text/plain": [
       "[0.0008329577976837754, 0.025174759328365326, 0.02886100858449936]"
      ]
     },
     "execution_count": 16,
     "metadata": {},
     "output_type": "execute_result"
    }
   ],
   "source": [
    "model.evaluate(X_test, y_test)"
   ]
  },
  {
   "cell_type": "markdown",
   "id": "c299f6cc",
   "metadata": {
    "papermill": {
     "duration": 0.054334,
     "end_time": "2024-02-06T04:49:27.270606",
     "exception": false,
     "start_time": "2024-02-06T04:49:27.216272",
     "status": "completed"
    },
    "tags": []
   },
   "source": [
    "## Model Evaluation"
   ]
  },
  {
   "cell_type": "code",
   "execution_count": 17,
   "id": "55c776d2",
   "metadata": {
    "execution": {
     "iopub.execute_input": "2024-02-06T04:49:27.380490Z",
     "iopub.status.busy": "2024-02-06T04:49:27.380140Z",
     "iopub.status.idle": "2024-02-06T04:49:27.662275Z",
     "shell.execute_reply": "2024-02-06T04:49:27.661289Z"
    },
    "papermill": {
     "duration": 0.33959,
     "end_time": "2024-02-06T04:49:27.664252",
     "exception": false,
     "start_time": "2024-02-06T04:49:27.324662",
     "status": "completed"
    },
    "tags": []
   },
   "outputs": [
    {
     "data": {
      "image/png": "[encoded data removed]",
      "text/plain": [
       "<Figure size 640x480 with 1 Axes>"
      ]
     },
     "metadata": {},
     "output_type": "display_data"
    }
   ],
   "source": [
    "plt.plot(history.history['loss'])\n",
    "plt.plot(history.history['val_loss'])\n",
    "plt.title(f'{SHEET_NAME} Model Loss', fontsize=15)\n",
    "plt.ylabel('loss')\n",
    "plt.xlabel('epoch')\n",
    "plt.legend(['train', 'test'])\n",
    "plt.show()"
   ]
  },
  {
   "cell_type": "code",
   "execution_count": 18,
   "id": "00e9bc3a",
   "metadata": {
    "execution": {
     "iopub.execute_input": "2024-02-06T04:49:27.778421Z",
     "iopub.status.busy": "2024-02-06T04:49:27.777603Z",
     "iopub.status.idle": "2024-02-06T04:49:28.519358Z",
     "shell.execute_reply": "2024-02-06T04:49:28.518504Z"
    },
    "papermill": {
     "duration": 0.801003,
     "end_time": "2024-02-06T04:49:28.521365",
     "exception": false,
     "start_time": "2024-02-06T04:49:27.720362",
     "status": "completed"
    },
    "tags": []
   },
   "outputs": [
    {
     "name": "stdout",
     "output_type": "stream",
     "text": [
      "7/7 [==============================] - 1s 3ms/step\n"
     ]
    }
   ],
   "source": [
    "y_hat = model.predict(X_test)\n",
    "y_test_inverse = scaler.inverse_transform(y_test)\n",
    "y_hat_inverse = scaler.inverse_transform(y_hat)"
   ]
  },
  {
   "cell_type": "code",
   "execution_count": 19,
   "id": "4718274a",
   "metadata": {
    "execution": {
     "iopub.execute_input": "2024-02-06T04:49:28.635192Z",
     "iopub.status.busy": "2024-02-06T04:49:28.634886Z",
     "iopub.status.idle": "2024-02-06T04:49:28.955762Z",
     "shell.execute_reply": "2024-02-06T04:49:28.954772Z"
    },
    "papermill": {
     "duration": 0.379653,
     "end_time": "2024-02-06T04:49:28.957790",
     "exception": false,
     "start_time": "2024-02-06T04:49:28.578137",
     "status": "completed"
    },
    "tags": []
   },
   "outputs": [
    {
     "data": {
      "image/png": "[encoded data removed]",
      "text/plain": [
       "<Figure size 640x480 with 1 Axes>"
      ]
     },
     "metadata": {},
     "output_type": "display_data"
    }
   ],
   "source": [
    "plt.plot(y_test_inverse, label=\"Actual Price\", color='green')\n",
    "plt.plot(y_hat_inverse, label=\"Predicted Price\", color='red')\n",
    " \n",
    "plt.title(f'{SHEET_NAME} Price Prediction\\nLSTM = {LSTM_Layer}, Split Data = {SPLIT}, Window = {WINDOW_SIZE}', fontsize=15)\n",
    "plt.xlabel('Time [days]')\n",
    "plt.ylabel('Price')\n",
    "plt.legend(loc='best')\n",
    " \n",
    "plt.show()"
   ]
  },
  {
   "cell_type": "code",
   "execution_count": 20,
   "id": "248b7ba7",
   "metadata": {
    "execution": {
     "iopub.execute_input": "2024-02-06T04:49:29.073022Z",
     "iopub.status.busy": "2024-02-06T04:49:29.072655Z",
     "iopub.status.idle": "2024-02-06T04:49:29.082483Z",
     "shell.execute_reply": "2024-02-06T04:49:29.081428Z"
    },
    "papermill": {
     "duration": 0.069731,
     "end_time": "2024-02-06T04:49:29.084601",
     "exception": false,
     "start_time": "2024-02-06T04:49:29.014870",
     "status": "completed"
    },
    "tags": []
   },
   "outputs": [
    {
     "name": "stdout",
     "output_type": "stream",
     "text": [
      "LSTM = 2, Split Data = 0.9, Window = 5\n",
      "\n",
      "----------------- Normalized Error -----------------\n",
      "Mean Absolute Error for prediction : 0.025174761888704794\n",
      "Mean Squared Error for prediction : 0.0008329577401641372\n",
      "Root Mean Squared Error for prediction : 0.028861007261773403\n",
      "\n",
      "----------------- Actual Error -----------------\n",
      "Mean Absolute Error for prediction : 35.147910156249054\n",
      "Mean Squared Error for prediction : 1623.663138382723\n",
      "Root Mean Squared Error for prediction : 40.29470360212025\n"
     ]
    }
   ],
   "source": [
    "def matrices(actual, predicted):\n",
    "    mse = mean_squared_error(actual, predicted)\n",
    "    mae = mean_absolute_error(actual, predicted)\n",
    "    rmse = np.sqrt(mse)\n",
    "    print(\"Mean Absolute Error for prediction :\", mae)\n",
    "    print(\"Mean Squared Error for prediction :\", mse)\n",
    "    print(\"Root Mean Squared Error for prediction :\", rmse)\n",
    "    return mae, mse, rmse\n",
    "\n",
    "print(f\"LSTM = {LSTM_Layer}, Split Data = {SPLIT}, Window = {WINDOW_SIZE}\")\n",
    "print(\"\\n----------------- Normalized Error -----------------\")\n",
    "mae, mse, rmse = matrices(y_test, y_hat)\n",
    "print(\"\\n----------------- Actual Error -----------------\")\n",
    "mae_inverse, mse_inverse, rmse_inverse = matrices(y_test_inverse, y_hat_inverse)"
   ]
  }
 ],
 "metadata": {
  "kaggle": {
   "accelerator": "gpu",
   "dataSources": [],
   "dockerImageVersionId": 30498,
   "isGpuEnabled": true,
   "isInternetEnabled": true,
   "language": "python",
   "sourceType": "notebook"
  },
  "kernelspec": {
   "display_name": "Python 3",
   "language": "python",
   "name": "python3"
  },
  "language_info": {
   "codemirror_mode": {
    "name": "ipython",
    "version": 3
   },
   "file_extension": ".py",
   "mimetype": "text/x-python",
   "name": "python",
   "nbconvert_exporter": "python",
   "pygments_lexer": "ipython3",
   "version": "3.10.10"
  },
  "papermill": {
   "default_parameters": {},
   "duration": 877.037022,
   "end_time": "2024-02-06T04:49:32.787521",
   "environment_variables": {},
   "exception": null,
   "input_path": "__notebook__.ipynb",
   "output_path": "__notebook__.ipynb",
   "parameters": {},
   "start_time": "2024-02-06T04:34:55.750499",
   "version": "2.4.0"
  }
 },
 "nbformat": 4,
 "nbformat_minor": 5
}
