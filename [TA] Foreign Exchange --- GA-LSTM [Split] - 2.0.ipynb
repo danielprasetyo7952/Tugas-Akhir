{
 "cells": [
  {
   "cell_type": "code",
   "execution_count": 1,
   "id": "5dd2d64f",
   "metadata": {
    "execution": {
     "iopub.execute_input": "2024-02-06T05:07:21.595981Z",
     "iopub.status.busy": "2024-02-06T05:07:21.595610Z",
     "iopub.status.idle": "2024-02-06T05:07:30.542387Z",
     "shell.execute_reply": "2024-02-06T05:07:30.541600Z"
    },
    "papermill": {
     "duration": 8.957499,
     "end_time": "2024-02-06T05:07:30.544739",
     "exception": false,
     "start_time": "2024-02-06T05:07:21.587240",
     "status": "completed"
    },
    "tags": []
   },
   "outputs": [
    {
     "name": "stderr",
     "output_type": "stream",
     "text": [
      "/opt/conda/lib/python3.10/site-packages/tensorflow_io/python/ops/__init__.py:98: UserWarning: unable to load libtensorflow_io_plugins.so: unable to open file: libtensorflow_io_plugins.so, from paths: ['/opt/conda/lib/python3.10/site-packages/tensorflow_io/python/ops/libtensorflow_io_plugins.so']\n",
      "caused by: ['/opt/conda/lib/python3.10/site-packages/tensorflow_io/python/ops/libtensorflow_io_plugins.so: undefined symbol: _ZN3tsl6StatusC1EN10tensorflow5error4CodeESt17basic_string_viewIcSt11char_traitsIcEENS_14SourceLocationE']\n",
      "  warnings.warn(f\"unable to load libtensorflow_io_plugins.so: {e}\")\n",
      "/opt/conda/lib/python3.10/site-packages/tensorflow_io/python/ops/__init__.py:104: UserWarning: file system plugins are not loaded: unable to open file: libtensorflow_io.so, from paths: ['/opt/conda/lib/python3.10/site-packages/tensorflow_io/python/ops/libtensorflow_io.so']\n",
      "caused by: ['/opt/conda/lib/python3.10/site-packages/tensorflow_io/python/ops/libtensorflow_io.so: undefined symbol: _ZTVN10tensorflow13GcsFileSystemE']\n",
      "  warnings.warn(f\"file system plugins are not loaded: {e}\")\n"
     ]
    }
   ],
   "source": [
    "import pandas as pd\n",
    "import numpy as np\n",
    "import tensorflow as tf\n",
    "import matplotlib.pyplot as plt\n",
    "import datetime, pytz\n",
    "\n",
    "from keras.models import Sequential\n",
    "from keras.layers import LSTM, Dense\n",
    "from keras.metrics import RootMeanSquaredError\n",
    "\n",
    "from sklearn.preprocessing import MinMaxScaler\n",
    "from sklearn.metrics import mean_squared_error, mean_absolute_error"
   ]
  },
  {
   "cell_type": "markdown",
   "id": "16a1eb7b",
   "metadata": {
    "papermill": {
     "duration": 0.006395,
     "end_time": "2024-02-06T05:07:30.558082",
     "exception": false,
     "start_time": "2024-02-06T05:07:30.551687",
     "status": "completed"
    },
    "tags": []
   },
   "source": [
    "## Hyperparameter"
   ]
  },
  {
   "cell_type": "code",
   "execution_count": 2,
   "id": "dc49233c",
   "metadata": {
    "execution": {
     "iopub.execute_input": "2024-02-06T05:07:30.572210Z",
     "iopub.status.busy": "2024-02-06T05:07:30.571614Z",
     "iopub.status.idle": "2024-02-06T05:07:30.576560Z",
     "shell.execute_reply": "2024-02-06T05:07:30.575610Z"
    },
    "papermill": {
     "duration": 0.014092,
     "end_time": "2024-02-06T05:07:30.578499",
     "exception": false,
     "start_time": "2024-02-06T05:07:30.564407",
     "status": "completed"
    },
    "tags": []
   },
   "outputs": [],
   "source": [
    "# Google Spreadsheet ID\n",
    "SHEET_ID = '1JDNv_mArl-GPIpxuWS5GxgVEwvjXocS1MrXGc6TYs8M'\n",
    "SHEET_NAME = 'SGD/IDR' # USD/IDR, EUR/IDR, SGD/IDR\n",
    "\n",
    "SEQ_LEN = 6 # 6, 11, 21\n",
    "SPLIT = 0.90 # 0.80, 0.90\n",
    "LSTM_Layer = 3 # 1, 2, 3\n",
    "WINDOW_SIZE = SEQ_LEN - 1"
   ]
  },
  {
   "cell_type": "code",
   "execution_count": 3,
   "id": "63aa11f2",
   "metadata": {
    "execution": {
     "iopub.execute_input": "2024-02-06T05:07:30.592353Z",
     "iopub.status.busy": "2024-02-06T05:07:30.592088Z",
     "iopub.status.idle": "2024-02-06T05:07:31.609498Z",
     "shell.execute_reply": "2024-02-06T05:07:31.608501Z"
    },
    "papermill": {
     "duration": 1.026729,
     "end_time": "2024-02-06T05:07:31.611650",
     "exception": false,
     "start_time": "2024-02-06T05:07:30.584921",
     "status": "completed"
    },
    "tags": []
   },
   "outputs": [
    {
     "name": "stdout",
     "output_type": "stream",
     "text": [
      "<class 'pandas.core.frame.DataFrame'>\n",
      "RangeIndex: 1959 entries, 0 to 1958\n",
      "Data columns (total 2 columns):\n",
      " #   Column  Non-Null Count  Dtype         \n",
      "---  ------  --------------  -----         \n",
      " 0   Date    1959 non-null   datetime64[ns]\n",
      " 1   Close   1959 non-null   float64       \n",
      "dtypes: datetime64[ns](1), float64(1)\n",
      "memory usage: 30.7 KB\n"
     ]
    }
   ],
   "source": [
    "url = f'https://docs.google.com/spreadsheets/d/{SHEET_ID}/gviz/tq?tqx=out:csv&sheet={SHEET_NAME}'\n",
    "data = pd.read_csv(url)\n",
    "\n",
    "# Convert Date columns to datetime format\n",
    "data['Date'] = pd.to_datetime(data['Date'], format='%d/%m/%Y %H:%M:%S')\n",
    "data.info()"
   ]
  },
  {
   "cell_type": "markdown",
   "id": "f01a9221",
   "metadata": {
    "papermill": {
     "duration": 0.006375,
     "end_time": "2024-02-06T05:07:31.624770",
     "exception": false,
     "start_time": "2024-02-06T05:07:31.618395",
     "status": "completed"
    },
    "tags": []
   },
   "source": [
    "## Preprocessing"
   ]
  },
  {
   "cell_type": "code",
   "execution_count": 4,
   "id": "deaa2d4d",
   "metadata": {
    "execution": {
     "iopub.execute_input": "2024-02-06T05:07:31.638766Z",
     "iopub.status.busy": "2024-02-06T05:07:31.638453Z",
     "iopub.status.idle": "2024-02-06T05:07:31.650746Z",
     "shell.execute_reply": "2024-02-06T05:07:31.649596Z"
    },
    "papermill": {
     "duration": 0.021491,
     "end_time": "2024-02-06T05:07:31.652661",
     "exception": false,
     "start_time": "2024-02-06T05:07:31.631170",
     "status": "completed"
    },
    "tags": []
   },
   "outputs": [
    {
     "name": "stderr",
     "output_type": "stream",
     "text": [
      "/tmp/ipykernel_26/2274720815.py:7: SettingWithCopyWarning: \n",
      "A value is trying to be set on a copy of a slice from a DataFrame\n",
      "\n",
      "See the caveats in the documentation: https://pandas.pydata.org/pandas-docs/stable/user_guide/indexing.html#returning-a-view-versus-a-copy\n",
      "  data[data < lower_bound] = lower_bound\n",
      "/tmp/ipykernel_26/2274720815.py:8: SettingWithCopyWarning: \n",
      "A value is trying to be set on a copy of a slice from a DataFrame\n",
      "\n",
      "See the caveats in the documentation: https://pandas.pydata.org/pandas-docs/stable/user_guide/indexing.html#returning-a-view-versus-a-copy\n",
      "  data[data > upper_bound] = upper_bound\n"
     ]
    }
   ],
   "source": [
    "def replace_outliers(data):\n",
    "    Q1 = np.percentile(data, 25)\n",
    "    Q3 = np.percentile(data, 75)\n",
    "    IQR = Q3 - Q1\n",
    "    lower_bound = Q1 - 1.5 * IQR\n",
    "    upper_bound = Q3 + 1.5 * IQR\n",
    "    data[data < lower_bound] = lower_bound\n",
    "    data[data > upper_bound] = upper_bound\n",
    "    return data\n",
    "\n",
    "data['Close'] = replace_outliers(data['Close'])"
   ]
  },
  {
   "cell_type": "code",
   "execution_count": 5,
   "id": "1af93a8c",
   "metadata": {
    "execution": {
     "iopub.execute_input": "2024-02-06T05:07:31.667375Z",
     "iopub.status.busy": "2024-02-06T05:07:31.667097Z",
     "iopub.status.idle": "2024-02-06T05:07:31.910250Z",
     "shell.execute_reply": "2024-02-06T05:07:31.909431Z"
    },
    "papermill": {
     "duration": 0.252961,
     "end_time": "2024-02-06T05:07:31.912350",
     "exception": false,
     "start_time": "2024-02-06T05:07:31.659389",
     "status": "completed"
    },
    "tags": []
   },
   "outputs": [
    {
     "data": {
      "image/png": "[encoded data removed]",
      "text/plain": [
       "<Figure size 640x480 with 1 Axes>"
      ]
     },
     "metadata": {},
     "output_type": "display_data"
    }
   ],
   "source": [
    "# Boxplot for outlier detection\n",
    "plt.boxplot(data['Close'])\n",
    "plt.title(f\"{SHEET_NAME} Boxplot for Outlier Detection\")\n",
    "plt.xlabel(\"Close\")\n",
    "plt.ylabel(\"Values\")\n",
    "plt.show()"
   ]
  },
  {
   "cell_type": "code",
   "execution_count": 6,
   "id": "56788a0a",
   "metadata": {
    "execution": {
     "iopub.execute_input": "2024-02-06T05:07:31.927863Z",
     "iopub.status.busy": "2024-02-06T05:07:31.927573Z",
     "iopub.status.idle": "2024-02-06T05:07:31.934882Z",
     "shell.execute_reply": "2024-02-06T05:07:31.934139Z"
    },
    "papermill": {
     "duration": 0.01724,
     "end_time": "2024-02-06T05:07:31.936731",
     "exception": false,
     "start_time": "2024-02-06T05:07:31.919491",
     "status": "completed"
    },
    "tags": []
   },
   "outputs": [
    {
     "data": {
      "text/plain": [
       "(1959, 1)"
      ]
     },
     "execution_count": 6,
     "metadata": {},
     "output_type": "execute_result"
    }
   ],
   "source": [
    "scaler = MinMaxScaler()\n",
    "close_price = data.Close.values.reshape(-1, 1)\n",
    "scaled_close = scaler.fit_transform(close_price)\n",
    "scaled_close.shape"
   ]
  },
  {
   "cell_type": "code",
   "execution_count": 7,
   "id": "90206cb2",
   "metadata": {
    "execution": {
     "iopub.execute_input": "2024-02-06T05:07:31.952129Z",
     "iopub.status.busy": "2024-02-06T05:07:31.951858Z",
     "iopub.status.idle": "2024-02-06T05:07:31.961108Z",
     "shell.execute_reply": "2024-02-06T05:07:31.960436Z"
    },
    "papermill": {
     "duration": 0.019127,
     "end_time": "2024-02-06T05:07:31.962985",
     "exception": false,
     "start_time": "2024-02-06T05:07:31.943858",
     "status": "completed"
    },
    "tags": []
   },
   "outputs": [],
   "source": [
    "def to_sequences(data, seq_len):\n",
    "    d = []\n",
    "    for index in range(len(data) - seq_len):\n",
    "        d.append(data[index: index + seq_len])\n",
    "    return np.array(d)\n",
    "\n",
    "def preprocess(data_raw, seq_len, train_split):\n",
    "    data = to_sequences(data_raw, seq_len)\n",
    "    num_train = int(train_split * data.shape[0])\n",
    "    X_train = data[:num_train, :-1, :]\n",
    "    y_train = data[:num_train, -1, :]\n",
    "    X_test = data[num_train:, :-1, :]\n",
    "    y_test = data[num_train:, -1, :]\n",
    "    return X_train, y_train, X_test, y_test\n",
    "\n",
    "X_train, y_train, X_test, y_test = preprocess(scaled_close, SEQ_LEN, train_split = SPLIT)"
   ]
  },
  {
   "cell_type": "markdown",
   "id": "aefbc680",
   "metadata": {
    "papermill": {
     "duration": 0.006884,
     "end_time": "2024-02-06T05:07:31.977009",
     "exception": false,
     "start_time": "2024-02-06T05:07:31.970125",
     "status": "completed"
    },
    "tags": []
   },
   "source": [
    "## Genetic Algorithm"
   ]
  },
  {
   "cell_type": "code",
   "execution_count": 8,
   "id": "2b5f3704",
   "metadata": {
    "execution": {
     "iopub.execute_input": "2024-02-06T05:07:31.992674Z",
     "iopub.status.busy": "2024-02-06T05:07:31.991899Z",
     "iopub.status.idle": "2024-02-06T05:07:31.997290Z",
     "shell.execute_reply": "2024-02-06T05:07:31.996615Z"
    },
    "papermill": {
     "duration": 0.015098,
     "end_time": "2024-02-06T05:07:31.999115",
     "exception": false,
     "start_time": "2024-02-06T05:07:31.984017",
     "status": "completed"
    },
    "tags": []
   },
   "outputs": [],
   "source": [
    "def decimal_to_binary(chromosome: list):\n",
    "    binary_string = ''.join([bin(x)[2:].zfill(8) for x in chromosome])\n",
    "    return binary_string\n",
    "\n",
    "def binary_to_decimal(binary_string: str):\n",
    "    decimal_array = [int(binary, 2) for binary in [binary_string[i:i+8] for i in range(0, len(binary_string), 8)]]\n",
    "    return decimal_array"
   ]
  },
  {
   "cell_type": "code",
   "execution_count": 9,
   "id": "9aa0a3de",
   "metadata": {
    "execution": {
     "iopub.execute_input": "2024-02-06T05:07:32.014592Z",
     "iopub.status.busy": "2024-02-06T05:07:32.014305Z",
     "iopub.status.idle": "2024-02-06T05:07:32.033226Z",
     "shell.execute_reply": "2024-02-06T05:07:32.032399Z"
    },
    "papermill": {
     "duration": 0.028743,
     "end_time": "2024-02-06T05:07:32.035012",
     "exception": false,
     "start_time": "2024-02-06T05:07:32.006269",
     "status": "completed"
    },
    "tags": []
   },
   "outputs": [],
   "source": [
    "# Genetic Algorithm\n",
    "def genetic_algorithm(generations, mutation_rate):\n",
    "    print(f\"Inizialized Population...\")\n",
    "    population = np.random.randint(1, high=251, size=(10, 3))\n",
    "    fitness_scores = np.array([fitness_function(chromosome) for chromosome in population])\n",
    "    max_fitness_each_gen = []\n",
    "    \n",
    "    for generation in range(generations):\n",
    "        print(f\"Generation - {generation + 1}\")\n",
    "        max_fitness_each_gen.append(np.max(fitness_scores))\n",
    "        \n",
    "        chromosome_1 = selection(population, fitness_scores)\n",
    "        chromosome_2 = selection(population, fitness_scores)\n",
    "        \n",
    "        if generation % mutation_rate == 0:\n",
    "            chromosome_1 = mutate(chromosome_1)\n",
    "            chromosome_2 = mutate(chromosome_2)\n",
    "        else:\n",
    "            chromosome_1, chromosome_2 = crossover(chromosome_1, chromosome_2)\n",
    "\n",
    "        fitness_score_1 = fitness_function(chromosome_1)\n",
    "        fitness_score_2 = fitness_function(chromosome_2)\n",
    "        \n",
    "        worst_index = np.argmin(fitness_scores)\n",
    "        worst_fitness = fitness_scores[worst_index]\n",
    "\n",
    "        if fitness_score_1 > worst_fitness:\n",
    "            population[worst_index] = chromosome_1\n",
    "            fitness_scores[worst_index] = fitness_score_1\n",
    "            worst_index = np.argmin(fitness_scores)\n",
    "            worst_fitness = fitness_scores[worst_index]\n",
    "\n",
    "        if fitness_score_2 > worst_fitness:\n",
    "            population[worst_index] = chromosome_2\n",
    "            fitness_scores[worst_index] = fitness_score_2\n",
    "        \n",
    "        # Release some memory\n",
    "        del chromosome_1, chromosome_2\n",
    "        del fitness_score_1, fitness_score_2\n",
    "        del worst_index, worst_fitness\n",
    "            \n",
    "    best_chromosome = population[np.argmax(fitness_scores)]\n",
    "    best_fitness = np.max(fitness_scores)\n",
    "    \n",
    "    return best_chromosome, best_fitness, max_fitness_each_gen\n",
    "\n",
    "# Selection (Tournament selection)\n",
    "def selection(population, fitness_scores, tournament_size=3):\n",
    "    indices = np.random.randint(len(population), size=tournament_size)\n",
    "    tournament = population[indices]\n",
    "    tournament_fitness = fitness_scores[indices]\n",
    "    return tournament[np.argmax(tournament_fitness)]\n",
    "\n",
    "# Crossover (Single-point crossover)\n",
    "def crossover(parent_1: list, parent_2: list):\n",
    "    parent_1 = decimal_to_binary(parent_1)\n",
    "    parent_2 = decimal_to_binary(parent_2)\n",
    "    \n",
    "    crossover_point = np.random.randint(1, len(parent_1))\n",
    "    offspring_1 = parent_1[:crossover_point] + parent_2[crossover_point:]\n",
    "    offspring_2 = parent_2[:crossover_point] + parent_1[crossover_point:]\n",
    "    \n",
    "    offspring_1 = binary_to_decimal(offspring_1)\n",
    "    offspring_2 = binary_to_decimal(offspring_2)\n",
    "    return offspring_1, offspring_2\n",
    "\n",
    "# Mutation (Swap Mutation)\n",
    "def mutate(chromosome: list):\n",
    "    chromosome = decimal_to_binary(chromosome)\n",
    "    \n",
    "    chromosome_list = list(chromosome)\n",
    "    i = np.random.randint(len(chromosome_list), size=2)\n",
    "    chromosome_list[i[0]], chromosome_list[i[1]] = chromosome_list[i[1]], chromosome_list[i[0]]\n",
    "    \n",
    "    chromosome_list = ''.join(chromosome_list)\n",
    "    chromosome = binary_to_decimal(chromosome_list)\n",
    "    return chromosome\n",
    "\n",
    "# Fitness Function\n",
    "def fitness_function(chromosome: list):\n",
    "    lstm_units = [int(chromosome[i]) or default for i, default in enumerate([128, 64, 32])]\n",
    "\n",
    "    # Build the LSTM model\n",
    "    tf.keras.backend.clear_session()\n",
    "    model = Sequential()\n",
    "    for i, units in enumerate(lstm_units[:LSTM_Layer]):\n",
    "        model.add(LSTM(units, return_sequences=(i < LSTM_Layer - 1), input_shape=(WINDOW_SIZE, 1)))\n",
    "    model.add(Dense(1))\n",
    "    \n",
    "    # Compile and train the model\n",
    "    model.compile(loss='mean_squared_error',\n",
    "                  optimizer='adam')\n",
    "    model.fit(X_train, y_train,\n",
    "              epochs=10,\n",
    "              batch_size=32,\n",
    "              verbose=0,\n",
    "              validation_split=0.1)\n",
    "\n",
    "    # Evaluate the model\n",
    "    loss = model.evaluate(X_test, y_test)\n",
    "\n",
    "    # Return the negative value of the loss as the fitness score\n",
    "    return -loss"
   ]
  },
  {
   "cell_type": "code",
   "execution_count": 10,
   "id": "8c883371",
   "metadata": {
    "execution": {
     "iopub.execute_input": "2024-02-06T05:07:32.050659Z",
     "iopub.status.busy": "2024-02-06T05:07:32.049987Z",
     "iopub.status.idle": "2024-02-06T05:07:32.055656Z",
     "shell.execute_reply": "2024-02-06T05:07:32.054807Z"
    },
    "papermill": {
     "duration": 0.015484,
     "end_time": "2024-02-06T05:07:32.057538",
     "exception": false,
     "start_time": "2024-02-06T05:07:32.042054",
     "status": "completed"
    },
    "tags": []
   },
   "outputs": [],
   "source": [
    "import typing\n",
    "from datetime import datetime\n",
    "\n",
    "def timer(start_time: datetime = None) -> \"typing.Union[datetime.datetime, str]\":\n",
    "    if not start_time:\n",
    "        start_time = datetime.now()\n",
    "        return start_time\n",
    "    elif start_time:\n",
    "        thour, temp_sec = divmod((datetime.now() - start_time).total_seconds(), 3600)\n",
    "        tmin, tsec = divmod(temp_sec, 60)\n",
    "        return \"%i hours %i minutes and %s seconds.\" % (\n",
    "            thour,\n",
    "            tmin,\n",
    "            round(tsec, 2),\n",
    "        )"
   ]
  },
  {
   "cell_type": "code",
   "execution_count": 11,
   "id": "2671e46d",
   "metadata": {
    "execution": {
     "iopub.execute_input": "2024-02-06T05:07:32.073078Z",
     "iopub.status.busy": "2024-02-06T05:07:32.072519Z",
     "iopub.status.idle": "2024-02-06T05:26:21.688445Z",
     "shell.execute_reply": "2024-02-06T05:26:21.687635Z"
    },
    "papermill": {
     "duration": 1129.625856,
     "end_time": "2024-02-06T05:26:21.690482",
     "exception": false,
     "start_time": "2024-02-06T05:07:32.064626",
     "status": "completed"
    },
    "tags": []
   },
   "outputs": [
    {
     "name": "stdout",
     "output_type": "stream",
     "text": [
      "Inizialized Population...\n",
      "7/7 [==============================] - 0s 4ms/step - loss: 7.1100e-04\n",
      "7/7 [==============================] - 0s 3ms/step - loss: 9.1485e-04\n",
      "7/7 [==============================] - 0s 4ms/step - loss: 0.0066\n",
      "7/7 [==============================] - 0s 3ms/step - loss: 5.5379e-04\n",
      "7/7 [==============================] - 0s 3ms/step - loss: 0.0015\n",
      "7/7 [==============================] - 0s 4ms/step - loss: 0.0013\n",
      "7/7 [==============================] - 0s 3ms/step - loss: 0.0016\n",
      "7/7 [==============================] - 0s 3ms/step - loss: 0.0152\n",
      "7/7 [==============================] - 0s 4ms/step - loss: 0.0026\n",
      "7/7 [==============================] - 0s 3ms/step - loss: 0.0083\n",
      "Generation - 1\n",
      "7/7 [==============================] - 0s 3ms/step - loss: 0.0075\n",
      "7/7 [==============================] - 0s 4ms/step - loss: 0.0029\n",
      "Generation - 2\n",
      "7/7 [==============================] - 0s 3ms/step - loss: 9.1264e-04\n",
      "7/7 [==============================] - 0s 3ms/step - loss: 0.0155\n",
      "Generation - 3\n",
      "7/7 [==============================] - 0s 4ms/step - loss: 0.0020\n",
      "7/7 [==============================] - 0s 3ms/step - loss: 7.5091e-04\n",
      "Generation - 4\n",
      "7/7 [==============================] - 0s 4ms/step - loss: 0.0031\n",
      "7/7 [==============================] - 0s 4ms/step - loss: 9.0116e-04\n",
      "Generation - 5\n",
      "7/7 [==============================] - 0s 3ms/step - loss: 0.0016\n",
      "7/7 [==============================] - 0s 3ms/step - loss: 0.0057\n",
      "Generation - 6\n",
      "7/7 [==============================] - 0s 4ms/step - loss: 5.3710e-04\n",
      "7/7 [==============================] - 0s 3ms/step - loss: 0.0126\n",
      "Generation - 7\n",
      "7/7 [==============================] - 0s 4ms/step - loss: 0.0017\n",
      "7/7 [==============================] - 0s 4ms/step - loss: 0.0020\n",
      "Generation - 8\n",
      "7/7 [==============================] - 0s 3ms/step - loss: 0.0026\n",
      "7/7 [==============================] - 0s 4ms/step - loss: 9.5310e-04\n",
      "Generation - 9\n",
      "7/7 [==============================] - 0s 3ms/step - loss: 0.0017\n",
      "7/7 [==============================] - 0s 4ms/step - loss: 0.0015\n",
      "Generation - 10\n",
      "7/7 [==============================] - 0s 4ms/step - loss: 8.0807e-04\n",
      "7/7 [==============================] - 0s 4ms/step - loss: 0.0040\n",
      "Generation - 11\n",
      "7/7 [==============================] - 0s 4ms/step - loss: 0.0016\n",
      "7/7 [==============================] - 0s 4ms/step - loss: 6.6951e-04\n",
      "Generation - 12\n",
      "7/7 [==============================] - 0s 4ms/step - loss: 0.0103\n",
      "7/7 [==============================] - 0s 4ms/step - loss: 0.0029\n",
      "Generation - 13\n",
      "7/7 [==============================] - 0s 3ms/step - loss: 9.6161e-04\n",
      "7/7 [==============================] - 0s 3ms/step - loss: 6.0888e-04\n",
      "Generation - 14\n",
      "7/7 [==============================] - 0s 4ms/step - loss: 0.0012\n",
      "7/7 [==============================] - 0s 3ms/step - loss: 0.0075\n",
      "Generation - 15\n",
      "7/7 [==============================] - 0s 3ms/step - loss: 0.0022\n",
      "7/7 [==============================] - 0s 4ms/step - loss: 0.0020\n",
      "Generation - 16\n",
      "7/7 [==============================] - 0s 3ms/step - loss: 0.0088\n",
      "7/7 [==============================] - 0s 3ms/step - loss: 0.0019\n",
      "Generation - 17\n",
      "7/7 [==============================] - 0s 4ms/step - loss: 0.0060\n",
      "7/7 [==============================] - 0s 3ms/step - loss: 0.0034\n",
      "Generation - 18\n",
      "7/7 [==============================] - 0s 3ms/step - loss: 0.0051\n",
      "7/7 [==============================] - 0s 4ms/step - loss: 0.0064\n",
      "Generation - 19\n",
      "7/7 [==============================] - 0s 3ms/step - loss: 0.0022\n",
      "7/7 [==============================] - 0s 3ms/step - loss: 0.0072\n",
      "Generation - 20\n",
      "7/7 [==============================] - 0s 5ms/step - loss: 6.3956e-04\n",
      "7/7 [==============================] - 0s 3ms/step - loss: 7.5535e-04\n",
      "Generation - 21\n",
      "7/7 [==============================] - 0s 4ms/step - loss: 0.0100\n",
      "7/7 [==============================] - 0s 4ms/step - loss: 0.0016\n",
      "Generation - 22\n",
      "7/7 [==============================] - 0s 4ms/step - loss: 0.0023\n",
      "7/7 [==============================] - 0s 3ms/step - loss: 8.9496e-04\n",
      "Generation - 23\n",
      "7/7 [==============================] - 0s 4ms/step - loss: 0.0023\n",
      "7/7 [==============================] - 0s 3ms/step - loss: 6.0423e-04\n",
      "Generation - 24\n",
      "7/7 [==============================] - 0s 3ms/step - loss: 0.0035\n",
      "7/7 [==============================] - 0s 4ms/step - loss: 0.0096\n",
      "Generation - 25\n",
      "7/7 [==============================] - 0s 3ms/step - loss: 0.0024\n",
      "7/7 [==============================] - 0s 3ms/step - loss: 0.0037\n",
      "Generation - 26\n",
      "7/7 [==============================] - 0s 4ms/step - loss: 0.0076\n",
      "7/7 [==============================] - 0s 3ms/step - loss: 8.9991e-04\n",
      "Generation - 27\n",
      "7/7 [==============================] - 0s 4ms/step - loss: 6.7136e-04\n",
      "7/7 [==============================] - 0s 4ms/step - loss: 0.0038\n",
      "Generation - 28\n",
      "7/7 [==============================] - 0s 4ms/step - loss: 5.7558e-04\n",
      "7/7 [==============================] - 0s 3ms/step - loss: 0.0011\n",
      "Generation - 29\n",
      "7/7 [==============================] - 0s 4ms/step - loss: 0.0124\n",
      "7/7 [==============================] - 0s 4ms/step - loss: 0.0019\n",
      "Generation - 30\n",
      "7/7 [==============================] - 0s 4ms/step - loss: 6.3070e-04\n",
      "7/7 [==============================] - 0s 4ms/step - loss: 0.0078\n",
      "Generation - 31\n",
      "7/7 [==============================] - 0s 3ms/step - loss: 6.0641e-04\n",
      "7/7 [==============================] - 0s 3ms/step - loss: 0.0023\n",
      "Generation - 32\n",
      "7/7 [==============================] - 0s 4ms/step - loss: 0.0063\n",
      "7/7 [==============================] - 0s 3ms/step - loss: 0.0016\n",
      "Generation - 33\n",
      "7/7 [==============================] - 0s 3ms/step - loss: 6.9453e-04\n",
      "7/7 [==============================] - 0s 4ms/step - loss: 0.0036\n",
      "Generation - 34\n",
      "7/7 [==============================] - 0s 3ms/step - loss: 0.0080\n",
      "7/7 [==============================] - 0s 4ms/step - loss: 0.0018\n",
      "Generation - 35\n",
      "7/7 [==============================] - 0s 4ms/step - loss: 0.0026\n",
      "7/7 [==============================] - 0s 4ms/step - loss: 0.0020\n",
      "Generation - 36\n",
      "7/7 [==============================] - 0s 3ms/step - loss: 0.0045\n",
      "7/7 [==============================] - 0s 4ms/step - loss: 5.6391e-04\n",
      "Generation - 37\n",
      "7/7 [==============================] - 0s 4ms/step - loss: 5.2722e-04\n",
      "7/7 [==============================] - 0s 4ms/step - loss: 0.0013\n",
      "Generation - 38\n",
      "7/7 [==============================] - 0s 4ms/step - loss: 0.0025\n",
      "7/7 [==============================] - 0s 4ms/step - loss: 5.1622e-04\n",
      "Generation - 39\n",
      "7/7 [==============================] - 0s 4ms/step - loss: 0.0013\n",
      "7/7 [==============================] - 0s 4ms/step - loss: 0.0050\n",
      "Generation - 40\n",
      "7/7 [==============================] - 0s 3ms/step - loss: 0.0107\n",
      "7/7 [==============================] - 0s 3ms/step - loss: 0.0018\n",
      "Generation - 41\n",
      "7/7 [==============================] - 0s 4ms/step - loss: 6.1098e-04\n",
      "7/7 [==============================] - 0s 4ms/step - loss: 0.0047\n",
      "Generation - 42\n",
      "7/7 [==============================] - 0s 3ms/step - loss: 7.7522e-04\n",
      "7/7 [==============================] - 0s 4ms/step - loss: 0.0056\n",
      "Generation - 43\n",
      "7/7 [==============================] - 0s 3ms/step - loss: 0.0012\n",
      "7/7 [==============================] - 0s 3ms/step - loss: 0.0028\n",
      "Generation - 44\n",
      "7/7 [==============================] - 0s 4ms/step - loss: 0.0025\n",
      "7/7 [==============================] - 0s 3ms/step - loss: 0.0011\n",
      "Generation - 45\n",
      "7/7 [==============================] - 0s 4ms/step - loss: 0.0164\n",
      "7/7 [==============================] - 0s 4ms/step - loss: 0.0087\n",
      "Generation - 46\n",
      "7/7 [==============================] - 0s 3ms/step - loss: 5.0605e-04\n",
      "7/7 [==============================] - 0s 4ms/step - loss: 0.0016\n",
      "Generation - 47\n",
      "7/7 [==============================] - 0s 4ms/step - loss: 0.0030\n",
      "7/7 [==============================] - 0s 3ms/step - loss: 0.0014\n",
      "Generation - 48\n",
      "7/7 [==============================] - 0s 3ms/step - loss: 0.0011\n",
      "7/7 [==============================] - 0s 4ms/step - loss: 0.0023\n",
      "Generation - 49\n",
      "7/7 [==============================] - 0s 3ms/step - loss: 0.0044\n",
      "7/7 [==============================] - 0s 3ms/step - loss: 0.0053\n",
      "Generation - 50\n",
      "7/7 [==============================] - 0s 4ms/step - loss: 0.0011\n",
      "7/7 [==============================] - 0s 3ms/step - loss: 0.0112\n"
     ]
    }
   ],
   "source": [
    "# Do not increase this value\n",
    "generations = 50\n",
    "mutation_rate = 5\n",
    "\n",
    "time = timer(None)\n",
    "best_chromosome, best_fitness, max_fitness_each_gen = genetic_algorithm(generations, mutation_rate)\n",
    "time = timer(time)"
   ]
  },
  {
   "cell_type": "code",
   "execution_count": 12,
   "id": "2b93662f",
   "metadata": {
    "execution": {
     "iopub.execute_input": "2024-02-06T05:26:21.746244Z",
     "iopub.status.busy": "2024-02-06T05:26:21.745926Z",
     "iopub.status.idle": "2024-02-06T05:26:21.751591Z",
     "shell.execute_reply": "2024-02-06T05:26:21.750615Z"
    },
    "papermill": {
     "duration": 0.035682,
     "end_time": "2024-02-06T05:26:21.753586",
     "exception": false,
     "start_time": "2024-02-06T05:26:21.717904",
     "status": "completed"
    },
    "tags": []
   },
   "outputs": [
    {
     "name": "stdout",
     "output_type": "stream",
     "text": [
      "Best Chromosome: [216 224 175]\n",
      "Best Fitness: -0.0005060546682216227\n",
      "Time Taken: 0 hours 18 minutes and 49.61 seconds.\n"
     ]
    }
   ],
   "source": [
    "print(\"Best Chromosome:\", best_chromosome)\n",
    "print(\"Best Fitness:\", best_fitness)\n",
    "print(\"Time Taken:\", time)"
   ]
  },
  {
   "cell_type": "code",
   "execution_count": 13,
   "id": "ccf4b49d",
   "metadata": {
    "execution": {
     "iopub.execute_input": "2024-02-06T05:26:21.810420Z",
     "iopub.status.busy": "2024-02-06T05:26:21.809819Z",
     "iopub.status.idle": "2024-02-06T05:26:21.816427Z",
     "shell.execute_reply": "2024-02-06T05:26:21.815545Z"
    },
    "papermill": {
     "duration": 0.037813,
     "end_time": "2024-02-06T05:26:21.818347",
     "exception": false,
     "start_time": "2024-02-06T05:26:21.780534",
     "status": "completed"
    },
    "tags": []
   },
   "outputs": [
    {
     "data": {
      "text/plain": [
       "[-0.0005537906545214355,\n",
       " -0.0005537906545214355,\n",
       " -0.0005537906545214355,\n",
       " -0.0005537906545214355,\n",
       " -0.0005537906545214355,\n",
       " -0.0005537906545214355,\n",
       " -0.0005371037987060845,\n",
       " -0.0005371037987060845,\n",
       " -0.0005371037987060845,\n",
       " -0.0005371037987060845,\n",
       " -0.0005371037987060845,\n",
       " -0.0005371037987060845,\n",
       " -0.0005371037987060845,\n",
       " -0.0005371037987060845,\n",
       " -0.0005371037987060845,\n",
       " -0.0005371037987060845,\n",
       " -0.0005371037987060845,\n",
       " -0.0005371037987060845,\n",
       " -0.0005371037987060845,\n",
       " -0.0005371037987060845,\n",
       " -0.0005371037987060845,\n",
       " -0.0005371037987060845,\n",
       " -0.0005371037987060845,\n",
       " -0.0005371037987060845,\n",
       " -0.0005371037987060845,\n",
       " -0.0005371037987060845,\n",
       " -0.0005371037987060845,\n",
       " -0.0005371037987060845,\n",
       " -0.0005371037987060845,\n",
       " -0.0005371037987060845,\n",
       " -0.0005371037987060845,\n",
       " -0.0005371037987060845,\n",
       " -0.0005371037987060845,\n",
       " -0.0005371037987060845,\n",
       " -0.0005371037987060845,\n",
       " -0.0005371037987060845,\n",
       " -0.0005371037987060845,\n",
       " -0.0005272195558063686,\n",
       " -0.0005162215675227344,\n",
       " -0.0005162215675227344,\n",
       " -0.0005162215675227344,\n",
       " -0.0005162215675227344,\n",
       " -0.0005162215675227344,\n",
       " -0.0005162215675227344,\n",
       " -0.0005162215675227344,\n",
       " -0.0005162215675227344,\n",
       " -0.0005060546682216227,\n",
       " -0.0005060546682216227,\n",
       " -0.0005060546682216227,\n",
       " -0.0005060546682216227]"
      ]
     },
     "execution_count": 13,
     "metadata": {},
     "output_type": "execute_result"
    }
   ],
   "source": [
    "max_fitness_each_gen"
   ]
  },
  {
   "cell_type": "markdown",
   "id": "c370efd8",
   "metadata": {
    "papermill": {
     "duration": 0.026514,
     "end_time": "2024-02-06T05:26:21.871532",
     "exception": false,
     "start_time": "2024-02-06T05:26:21.845018",
     "status": "completed"
    },
    "tags": []
   },
   "source": [
    "## Re-Training Model with Best Parameter"
   ]
  },
  {
   "cell_type": "code",
   "execution_count": 14,
   "id": "9dce983f",
   "metadata": {
    "execution": {
     "iopub.execute_input": "2024-02-06T05:26:21.925985Z",
     "iopub.status.busy": "2024-02-06T05:26:21.925710Z",
     "iopub.status.idle": "2024-02-06T05:26:22.682340Z",
     "shell.execute_reply": "2024-02-06T05:26:22.681322Z"
    },
    "papermill": {
     "duration": 0.785994,
     "end_time": "2024-02-06T05:26:22.684236",
     "exception": false,
     "start_time": "2024-02-06T05:26:21.898242",
     "status": "completed"
    },
    "tags": []
   },
   "outputs": [
    {
     "name": "stdout",
     "output_type": "stream",
     "text": [
      "Model: \"sequential_1\"\n",
      "_________________________________________________________________\n",
      " Layer (type)                Output Shape              Param #   \n",
      "=================================================================\n",
      " lstm_3 (LSTM)               (None, 5, 216)            188352    \n",
      "                                                                 \n",
      " lstm_4 (LSTM)               (None, 5, 224)            395136    \n",
      "                                                                 \n",
      " lstm_5 (LSTM)               (None, 175)               280000    \n",
      "                                                                 \n",
      " dense_1 (Dense)             (None, 1)                 176       \n",
      "                                                                 \n",
      "=================================================================\n",
      "Total params: 863,664\n",
      "Trainable params: 863,664\n",
      "Non-trainable params: 0\n",
      "_________________________________________________________________\n"
     ]
    }
   ],
   "source": [
    "model = Sequential()\n",
    "for i, units in enumerate(best_chromosome[:LSTM_Layer]):\n",
    "    model.add(LSTM(units, return_sequences=(i < LSTM_Layer - 1), input_shape=(WINDOW_SIZE, 1)))\n",
    "model.add(Dense(1))\n",
    "\n",
    "model.summary()"
   ]
  },
  {
   "cell_type": "code",
   "execution_count": 15,
   "id": "ec7ef8b0",
   "metadata": {
    "execution": {
     "iopub.execute_input": "2024-02-06T05:26:22.742569Z",
     "iopub.status.busy": "2024-02-06T05:26:22.741672Z",
     "iopub.status.idle": "2024-02-06T05:26:48.502220Z",
     "shell.execute_reply": "2024-02-06T05:26:48.501355Z"
    },
    "papermill": {
     "duration": 25.791678,
     "end_time": "2024-02-06T05:26:48.504316",
     "exception": false,
     "start_time": "2024-02-06T05:26:22.712638",
     "status": "completed"
    },
    "tags": []
   },
   "outputs": [
    {
     "name": "stdout",
     "output_type": "stream",
     "text": [
      "Epoch 1/50\n",
      "50/50 [==============================] - 7s 29ms/step - loss: 0.0283 - mae: 0.1136 - root_mean_squared_error: 0.1682 - val_loss: 0.0038 - val_mae: 0.0459 - val_root_mean_squared_error: 0.0616\n",
      "Epoch 2/50\n",
      "50/50 [==============================] - 0s 7ms/step - loss: 0.0059 - mae: 0.0451 - root_mean_squared_error: 0.0765 - val_loss: 0.0081 - val_mae: 0.0779 - val_root_mean_squared_error: 0.0902\n",
      "Epoch 3/50\n",
      "50/50 [==============================] - 0s 7ms/step - loss: 0.0057 - mae: 0.0440 - root_mean_squared_error: 0.0755 - val_loss: 0.0020 - val_mae: 0.0336 - val_root_mean_squared_error: 0.0442\n",
      "Epoch 4/50\n",
      "50/50 [==============================] - 0s 7ms/step - loss: 0.0056 - mae: 0.0436 - root_mean_squared_error: 0.0750 - val_loss: 0.0031 - val_mae: 0.0446 - val_root_mean_squared_error: 0.0560\n",
      "Epoch 5/50\n",
      "50/50 [==============================] - 0s 7ms/step - loss: 0.0056 - mae: 0.0441 - root_mean_squared_error: 0.0748 - val_loss: 0.0038 - val_mae: 0.0491 - val_root_mean_squared_error: 0.0614\n",
      "Epoch 6/50\n",
      "50/50 [==============================] - 0s 7ms/step - loss: 0.0054 - mae: 0.0434 - root_mean_squared_error: 0.0736 - val_loss: 0.0018 - val_mae: 0.0322 - val_root_mean_squared_error: 0.0426\n",
      "Epoch 7/50\n",
      "50/50 [==============================] - 0s 7ms/step - loss: 0.0051 - mae: 0.0418 - root_mean_squared_error: 0.0714 - val_loss: 0.0035 - val_mae: 0.0485 - val_root_mean_squared_error: 0.0595\n",
      "Epoch 8/50\n",
      "50/50 [==============================] - 0s 7ms/step - loss: 0.0051 - mae: 0.0417 - root_mean_squared_error: 0.0715 - val_loss: 0.0031 - val_mae: 0.0440 - val_root_mean_squared_error: 0.0557\n",
      "Epoch 9/50\n",
      "50/50 [==============================] - 0s 7ms/step - loss: 0.0048 - mae: 0.0402 - root_mean_squared_error: 0.0693 - val_loss: 0.0024 - val_mae: 0.0383 - val_root_mean_squared_error: 0.0494\n",
      "Epoch 10/50\n",
      "50/50 [==============================] - 0s 7ms/step - loss: 0.0049 - mae: 0.0419 - root_mean_squared_error: 0.0699 - val_loss: 0.0043 - val_mae: 0.0546 - val_root_mean_squared_error: 0.0656\n",
      "Epoch 11/50\n",
      "50/50 [==============================] - 0s 7ms/step - loss: 0.0046 - mae: 0.0396 - root_mean_squared_error: 0.0679 - val_loss: 0.0011 - val_mae: 0.0264 - val_root_mean_squared_error: 0.0333\n",
      "Epoch 12/50\n",
      "50/50 [==============================] - 0s 7ms/step - loss: 0.0048 - mae: 0.0433 - root_mean_squared_error: 0.0696 - val_loss: 0.0052 - val_mae: 0.0613 - val_root_mean_squared_error: 0.0720\n",
      "Epoch 13/50\n",
      "50/50 [==============================] - 0s 8ms/step - loss: 0.0045 - mae: 0.0400 - root_mean_squared_error: 0.0673 - val_loss: 0.0010 - val_mae: 0.0258 - val_root_mean_squared_error: 0.0322\n",
      "Epoch 14/50\n",
      "50/50 [==============================] - 0s 8ms/step - loss: 0.0040 - mae: 0.0371 - root_mean_squared_error: 0.0636 - val_loss: 0.0011 - val_mae: 0.0276 - val_root_mean_squared_error: 0.0335\n",
      "Epoch 15/50\n",
      "50/50 [==============================] - 0s 8ms/step - loss: 0.0039 - mae: 0.0371 - root_mean_squared_error: 0.0627 - val_loss: 0.0011 - val_mae: 0.0250 - val_root_mean_squared_error: 0.0326\n",
      "Epoch 16/50\n",
      "50/50 [==============================] - 0s 8ms/step - loss: 0.0035 - mae: 0.0323 - root_mean_squared_error: 0.0595 - val_loss: 8.7465e-04 - val_mae: 0.0225 - val_root_mean_squared_error: 0.0296\n",
      "Epoch 17/50\n",
      "50/50 [==============================] - 0s 7ms/step - loss: 0.0035 - mae: 0.0321 - root_mean_squared_error: 0.0590 - val_loss: 0.0019 - val_mae: 0.0352 - val_root_mean_squared_error: 0.0439\n",
      "Epoch 18/50\n",
      "50/50 [==============================] - 0s 8ms/step - loss: 0.0035 - mae: 0.0321 - root_mean_squared_error: 0.0590 - val_loss: 8.0317e-04 - val_mae: 0.0216 - val_root_mean_squared_error: 0.0283\n",
      "Epoch 19/50\n",
      "50/50 [==============================] - 0s 7ms/step - loss: 0.0036 - mae: 0.0329 - root_mean_squared_error: 0.0596 - val_loss: 9.1863e-04 - val_mae: 0.0233 - val_root_mean_squared_error: 0.0303\n",
      "Epoch 20/50\n",
      "50/50 [==============================] - 0s 7ms/step - loss: 0.0035 - mae: 0.0325 - root_mean_squared_error: 0.0589 - val_loss: 0.0014 - val_mae: 0.0298 - val_root_mean_squared_error: 0.0378\n",
      "Epoch 21/50\n",
      "50/50 [==============================] - 0s 7ms/step - loss: 0.0035 - mae: 0.0323 - root_mean_squared_error: 0.0593 - val_loss: 0.0013 - val_mae: 0.0284 - val_root_mean_squared_error: 0.0365\n",
      "Epoch 22/50\n",
      "50/50 [==============================] - 0s 7ms/step - loss: 0.0035 - mae: 0.0330 - root_mean_squared_error: 0.0593 - val_loss: 7.2888e-04 - val_mae: 0.0204 - val_root_mean_squared_error: 0.0270\n",
      "Epoch 23/50\n",
      "50/50 [==============================] - 0s 8ms/step - loss: 0.0034 - mae: 0.0318 - root_mean_squared_error: 0.0585 - val_loss: 7.6072e-04 - val_mae: 0.0215 - val_root_mean_squared_error: 0.0276\n",
      "Epoch 24/50\n",
      "50/50 [==============================] - 0s 7ms/step - loss: 0.0037 - mae: 0.0345 - root_mean_squared_error: 0.0607 - val_loss: 0.0027 - val_mae: 0.0440 - val_root_mean_squared_error: 0.0522\n",
      "Epoch 25/50\n",
      "50/50 [==============================] - 0s 7ms/step - loss: 0.0035 - mae: 0.0317 - root_mean_squared_error: 0.0589 - val_loss: 0.0012 - val_mae: 0.0259 - val_root_mean_squared_error: 0.0342\n",
      "Epoch 26/50\n",
      "50/50 [==============================] - 0s 7ms/step - loss: 0.0034 - mae: 0.0306 - root_mean_squared_error: 0.0581 - val_loss: 0.0015 - val_mae: 0.0302 - val_root_mean_squared_error: 0.0384\n",
      "Epoch 27/50\n",
      "50/50 [==============================] - 0s 7ms/step - loss: 0.0034 - mae: 0.0306 - root_mean_squared_error: 0.0584 - val_loss: 0.0012 - val_mae: 0.0268 - val_root_mean_squared_error: 0.0352\n",
      "Epoch 28/50\n",
      "50/50 [==============================] - 0s 7ms/step - loss: 0.0035 - mae: 0.0318 - root_mean_squared_error: 0.0592 - val_loss: 9.1828e-04 - val_mae: 0.0231 - val_root_mean_squared_error: 0.0303\n",
      "Epoch 29/50\n",
      "50/50 [==============================] - 0s 7ms/step - loss: 0.0038 - mae: 0.0350 - root_mean_squared_error: 0.0613 - val_loss: 0.0015 - val_mae: 0.0302 - val_root_mean_squared_error: 0.0385\n",
      "Epoch 30/50\n",
      "50/50 [==============================] - 0s 7ms/step - loss: 0.0035 - mae: 0.0320 - root_mean_squared_error: 0.0588 - val_loss: 0.0025 - val_mae: 0.0415 - val_root_mean_squared_error: 0.0499\n",
      "Epoch 31/50\n",
      "50/50 [==============================] - 0s 8ms/step - loss: 0.0036 - mae: 0.0350 - root_mean_squared_error: 0.0604 - val_loss: 0.0051 - val_mae: 0.0626 - val_root_mean_squared_error: 0.0711\n",
      "Epoch 32/50\n",
      "50/50 [==============================] - 0s 7ms/step - loss: 0.0040 - mae: 0.0383 - root_mean_squared_error: 0.0635 - val_loss: 0.0012 - val_mae: 0.0263 - val_root_mean_squared_error: 0.0346\n",
      "Epoch 33/50\n",
      "50/50 [==============================] - 0s 7ms/step - loss: 0.0035 - mae: 0.0313 - root_mean_squared_error: 0.0587 - val_loss: 9.9204e-04 - val_mae: 0.0241 - val_root_mean_squared_error: 0.0315\n",
      "Epoch 34/50\n",
      "50/50 [==============================] - 0s 7ms/step - loss: 0.0035 - mae: 0.0331 - root_mean_squared_error: 0.0592 - val_loss: 0.0011 - val_mae: 0.0274 - val_root_mean_squared_error: 0.0328\n",
      "Epoch 35/50\n",
      "50/50 [==============================] - 0s 7ms/step - loss: 0.0036 - mae: 0.0331 - root_mean_squared_error: 0.0599 - val_loss: 0.0014 - val_mae: 0.0286 - val_root_mean_squared_error: 0.0369\n",
      "Epoch 36/50\n",
      "50/50 [==============================] - 0s 7ms/step - loss: 0.0036 - mae: 0.0329 - root_mean_squared_error: 0.0597 - val_loss: 7.9349e-04 - val_mae: 0.0218 - val_root_mean_squared_error: 0.0282\n",
      "Epoch 37/50\n",
      "50/50 [==============================] - 0s 7ms/step - loss: 0.0033 - mae: 0.0300 - root_mean_squared_error: 0.0578 - val_loss: 0.0011 - val_mae: 0.0249 - val_root_mean_squared_error: 0.0327\n",
      "Epoch 38/50\n",
      "50/50 [==============================] - 0s 7ms/step - loss: 0.0033 - mae: 0.0303 - root_mean_squared_error: 0.0575 - val_loss: 0.0017 - val_mae: 0.0317 - val_root_mean_squared_error: 0.0406\n",
      "Epoch 39/50\n",
      "50/50 [==============================] - 0s 7ms/step - loss: 0.0033 - mae: 0.0301 - root_mean_squared_error: 0.0575 - val_loss: 0.0011 - val_mae: 0.0257 - val_root_mean_squared_error: 0.0335\n",
      "Epoch 40/50\n",
      "50/50 [==============================] - 0s 7ms/step - loss: 0.0036 - mae: 0.0335 - root_mean_squared_error: 0.0598 - val_loss: 9.0589e-04 - val_mae: 0.0243 - val_root_mean_squared_error: 0.0301\n",
      "Epoch 41/50\n",
      "50/50 [==============================] - 0s 8ms/step - loss: 0.0034 - mae: 0.0318 - root_mean_squared_error: 0.0584 - val_loss: 0.0012 - val_mae: 0.0267 - val_root_mean_squared_error: 0.0348\n",
      "Epoch 42/50\n",
      "50/50 [==============================] - 0s 7ms/step - loss: 0.0035 - mae: 0.0311 - root_mean_squared_error: 0.0589 - val_loss: 0.0014 - val_mae: 0.0312 - val_root_mean_squared_error: 0.0369\n",
      "Epoch 43/50\n",
      "50/50 [==============================] - 0s 8ms/step - loss: 0.0034 - mae: 0.0322 - root_mean_squared_error: 0.0587 - val_loss: 0.0011 - val_mae: 0.0255 - val_root_mean_squared_error: 0.0334\n",
      "Epoch 44/50\n",
      "50/50 [==============================] - 0s 8ms/step - loss: 0.0034 - mae: 0.0319 - root_mean_squared_error: 0.0586 - val_loss: 8.2138e-04 - val_mae: 0.0224 - val_root_mean_squared_error: 0.0287\n",
      "Epoch 45/50\n",
      "50/50 [==============================] - 0s 8ms/step - loss: 0.0034 - mae: 0.0308 - root_mean_squared_error: 0.0580 - val_loss: 7.4696e-04 - val_mae: 0.0212 - val_root_mean_squared_error: 0.0273\n",
      "Epoch 46/50\n",
      "50/50 [==============================] - 0s 8ms/step - loss: 0.0036 - mae: 0.0327 - root_mean_squared_error: 0.0599 - val_loss: 8.3239e-04 - val_mae: 0.0222 - val_root_mean_squared_error: 0.0289\n",
      "Epoch 47/50\n",
      "50/50 [==============================] - 0s 8ms/step - loss: 0.0034 - mae: 0.0316 - root_mean_squared_error: 0.0584 - val_loss: 0.0013 - val_mae: 0.0299 - val_root_mean_squared_error: 0.0354\n",
      "Epoch 48/50\n",
      "50/50 [==============================] - 0s 8ms/step - loss: 0.0034 - mae: 0.0330 - root_mean_squared_error: 0.0586 - val_loss: 0.0020 - val_mae: 0.0353 - val_root_mean_squared_error: 0.0448\n",
      "Epoch 49/50\n",
      "50/50 [==============================] - 0s 8ms/step - loss: 0.0037 - mae: 0.0357 - root_mean_squared_error: 0.0606 - val_loss: 0.0014 - val_mae: 0.0298 - val_root_mean_squared_error: 0.0380\n",
      "Epoch 50/50\n",
      "50/50 [==============================] - 0s 8ms/step - loss: 0.0035 - mae: 0.0330 - root_mean_squared_error: 0.0589 - val_loss: 8.4457e-04 - val_mae: 0.0227 - val_root_mean_squared_error: 0.0291\n"
     ]
    }
   ],
   "source": [
    "model.compile(loss='mean_squared_error',\n",
    "              metrics=['mae', RootMeanSquaredError()],\n",
    "              optimizer='adam')\n",
    "\n",
    "history = model.fit(X_train,\n",
    "                    y_train,\n",
    "                    epochs=50,\n",
    "                    batch_size=32,\n",
    "                    validation_split=0.1)"
   ]
  },
  {
   "cell_type": "code",
   "execution_count": 16,
   "id": "eda725bf",
   "metadata": {
    "execution": {
     "iopub.execute_input": "2024-02-06T05:26:48.630522Z",
     "iopub.status.busy": "2024-02-06T05:26:48.629618Z",
     "iopub.status.idle": "2024-02-06T05:26:48.725393Z",
     "shell.execute_reply": "2024-02-06T05:26:48.724517Z"
    },
    "papermill": {
     "duration": 0.160278,
     "end_time": "2024-02-06T05:26:48.727419",
     "exception": false,
     "start_time": "2024-02-06T05:26:48.567141",
     "status": "completed"
    },
    "tags": []
   },
   "outputs": [
    {
     "name": "stdout",
     "output_type": "stream",
     "text": [
      "7/7 [==============================] - 0s 4ms/step - loss: 8.5442e-04 - mae: 0.0265 - root_mean_squared_error: 0.0292\n"
     ]
    },
    {
     "data": {
      "text/plain": [
       "[0.0008544189040549099, 0.02648783288896084, 0.029230443760752678]"
      ]
     },
     "execution_count": 16,
     "metadata": {},
     "output_type": "execute_result"
    }
   ],
   "source": [
    "model.evaluate(X_test, y_test)"
   ]
  },
  {
   "cell_type": "markdown",
   "id": "9907f9f6",
   "metadata": {
    "papermill": {
     "duration": 0.06119,
     "end_time": "2024-02-06T05:26:48.851313",
     "exception": false,
     "start_time": "2024-02-06T05:26:48.790123",
     "status": "completed"
    },
    "tags": []
   },
   "source": [
    "## Model Evaluation"
   ]
  },
  {
   "cell_type": "code",
   "execution_count": 17,
   "id": "07c9ce95",
   "metadata": {
    "execution": {
     "iopub.execute_input": "2024-02-06T05:26:48.977509Z",
     "iopub.status.busy": "2024-02-06T05:26:48.977123Z",
     "iopub.status.idle": "2024-02-06T05:26:49.264395Z",
     "shell.execute_reply": "2024-02-06T05:26:49.263391Z"
    },
    "papermill": {
     "duration": 0.352977,
     "end_time": "2024-02-06T05:26:49.266393",
     "exception": false,
     "start_time": "2024-02-06T05:26:48.913416",
     "status": "completed"
    },
    "tags": []
   },
   "outputs": [
    {
     "data": {
      "image/png": "[encoded data removed]",
      "text/plain": [
       "<Figure size 640x480 with 1 Axes>"
      ]
     },
     "metadata": {},
     "output_type": "display_data"
    }
   ],
   "source": [
    "plt.plot(history.history['loss'])\n",
    "plt.plot(history.history['val_loss'])\n",
    "plt.title(f'{SHEET_NAME} Model Loss', fontsize=15)\n",
    "plt.ylabel('loss')\n",
    "plt.xlabel('epoch')\n",
    "plt.legend(['train', 'test'])\n",
    "plt.show()"
   ]
  },
  {
   "cell_type": "code",
   "execution_count": 18,
   "id": "cf70a90d",
   "metadata": {
    "execution": {
     "iopub.execute_input": "2024-02-06T05:26:49.392044Z",
     "iopub.status.busy": "2024-02-06T05:26:49.391679Z",
     "iopub.status.idle": "2024-02-06T05:26:50.491414Z",
     "shell.execute_reply": "2024-02-06T05:26:50.490354Z"
    },
    "papermill": {
     "duration": 1.165466,
     "end_time": "2024-02-06T05:26:50.493897",
     "exception": false,
     "start_time": "2024-02-06T05:26:49.328431",
     "status": "completed"
    },
    "tags": []
   },
   "outputs": [
    {
     "name": "stdout",
     "output_type": "stream",
     "text": [
      "7/7 [==============================] - 1s 3ms/step\n"
     ]
    }
   ],
   "source": [
    "y_hat = model.predict(X_test)\n",
    "y_test_inverse = scaler.inverse_transform(y_test)\n",
    "y_hat_inverse = scaler.inverse_transform(y_hat)"
   ]
  },
  {
   "cell_type": "code",
   "execution_count": 19,
   "id": "c786cb65",
   "metadata": {
    "execution": {
     "iopub.execute_input": "2024-02-06T05:26:50.627333Z",
     "iopub.status.busy": "2024-02-06T05:26:50.626218Z",
     "iopub.status.idle": "2024-02-06T05:26:50.964946Z",
     "shell.execute_reply": "2024-02-06T05:26:50.963924Z"
    },
    "papermill": {
     "duration": 0.406653,
     "end_time": "2024-02-06T05:26:50.967531",
     "exception": false,
     "start_time": "2024-02-06T05:26:50.560878",
     "status": "completed"
    },
    "tags": []
   },
   "outputs": [
    {
     "data": {
      "image/png": "[encoded data removed]",
      "text/plain": [
       "<Figure size 640x480 with 1 Axes>"
      ]
     },
     "metadata": {},
     "output_type": "display_data"
    }
   ],
   "source": [
    "plt.plot(y_test_inverse, label=\"Actual Price\", color='green')\n",
    "plt.plot(y_hat_inverse, label=\"Predicted Price\", color='red')\n",
    " \n",
    "plt.title(f'{SHEET_NAME} Price Prediction\\nLSTM = {LSTM_Layer}, Split Data = {SPLIT}, Window = {WINDOW_SIZE}', fontsize=15)\n",
    "plt.xlabel('Time [days]')\n",
    "plt.ylabel('Price')\n",
    "plt.legend(loc='best')\n",
    " \n",
    "plt.show()"
   ]
  },
  {
   "cell_type": "code",
   "execution_count": 20,
   "id": "9e2aab9f",
   "metadata": {
    "execution": {
     "iopub.execute_input": "2024-02-06T05:26:51.101972Z",
     "iopub.status.busy": "2024-02-06T05:26:51.100998Z",
     "iopub.status.idle": "2024-02-06T05:26:51.112239Z",
     "shell.execute_reply": "2024-02-06T05:26:51.111090Z"
    },
    "papermill": {
     "duration": 0.079229,
     "end_time": "2024-02-06T05:26:51.114170",
     "exception": false,
     "start_time": "2024-02-06T05:26:51.034941",
     "status": "completed"
    },
    "tags": []
   },
   "outputs": [
    {
     "name": "stdout",
     "output_type": "stream",
     "text": [
      "LSTM = 3, Split Data = 0.9, Window = 5\n",
      "\n",
      "----------------- Normalized Error -----------------\n",
      "Mean Absolute Error for prediction : 0.026487830502027295\n",
      "Mean Squared Error for prediction : 0.0008544189487254457\n",
      "Root Mean Squared Error for prediction : 0.029230445578633343\n",
      "\n",
      "----------------- Actual Error -----------------\n",
      "Mean Absolute Error for prediction : 36.98185108418269\n",
      "Mean Squared Error for prediction : 1665.5391464565557\n",
      "Root Mean Squared Error for prediction : 40.81101746411814\n"
     ]
    }
   ],
   "source": [
    "def matrices(actual, predicted):\n",
    "    mse = mean_squared_error(actual, predicted)\n",
    "    mae = mean_absolute_error(actual, predicted)\n",
    "    rmse = np.sqrt(mse)\n",
    "    print(\"Mean Absolute Error for prediction :\", mae)\n",
    "    print(\"Mean Squared Error for prediction :\", mse)\n",
    "    print(\"Root Mean Squared Error for prediction :\", rmse)\n",
    "    return mae, mse, rmse\n",
    "\n",
    "print(f\"LSTM = {LSTM_Layer}, Split Data = {SPLIT}, Window = {WINDOW_SIZE}\")\n",
    "print(\"\\n----------------- Normalized Error -----------------\")\n",
    "mae, mse, rmse = matrices(y_test, y_hat)\n",
    "print(\"\\n----------------- Actual Error -----------------\")\n",
    "mae_inverse, mse_inverse, rmse_inverse = matrices(y_test_inverse, y_hat_inverse)"
   ]
  }
 ],
 "metadata": {
  "kaggle": {
   "accelerator": "gpu",
   "dataSources": [],
   "dockerImageVersionId": 30498,
   "isGpuEnabled": true,
   "isInternetEnabled": true,
   "language": "python",
   "sourceType": "notebook"
  },
  "kernelspec": {
   "display_name": "Python 3",
   "language": "python",
   "name": "python3"
  },
  "language_info": {
   "codemirror_mode": {
    "name": "ipython",
    "version": 3
   },
   "file_extension": ".py",
   "mimetype": "text/x-python",
   "name": "python",
   "nbconvert_exporter": "python",
   "pygments_lexer": "ipython3",
   "version": "3.10.10"
  },
  "papermill": {
   "default_parameters": {},
   "duration": 1183.260932,
   "end_time": "2024-02-06T05:26:54.164816",
   "environment_variables": {},
   "exception": null,
   "input_path": "__notebook__.ipynb",
   "output_path": "__notebook__.ipynb",
   "parameters": {},
   "start_time": "2024-02-06T05:07:10.903884",
   "version": "2.4.0"
  }
 },
 "nbformat": 4,
 "nbformat_minor": 5
}
