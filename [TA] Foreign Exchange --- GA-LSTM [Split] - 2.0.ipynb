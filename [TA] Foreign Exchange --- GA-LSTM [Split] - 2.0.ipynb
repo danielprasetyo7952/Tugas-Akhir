{
 "cells": [
  {
   "cell_type": "code",
   "execution_count": 1,
   "id": "6965ccab",
   "metadata": {
    "execution": {
     "iopub.execute_input": "2024-02-05T16:49:16.659131Z",
     "iopub.status.busy": "2024-02-05T16:49:16.658353Z",
     "iopub.status.idle": "2024-02-05T16:49:25.605350Z",
     "shell.execute_reply": "2024-02-05T16:49:25.604406Z"
    },
    "papermill": {
     "duration": 8.957592,
     "end_time": "2024-02-05T16:49:25.607797",
     "exception": false,
     "start_time": "2024-02-05T16:49:16.650205",
     "status": "completed"
    },
    "tags": []
   },
   "outputs": [
    {
     "name": "stderr",
     "output_type": "stream",
     "text": [
      "/opt/conda/lib/python3.10/site-packages/tensorflow_io/python/ops/__init__.py:98: UserWarning: unable to load libtensorflow_io_plugins.so: unable to open file: libtensorflow_io_plugins.so, from paths: ['/opt/conda/lib/python3.10/site-packages/tensorflow_io/python/ops/libtensorflow_io_plugins.so']\n",
      "caused by: ['/opt/conda/lib/python3.10/site-packages/tensorflow_io/python/ops/libtensorflow_io_plugins.so: undefined symbol: _ZN3tsl6StatusC1EN10tensorflow5error4CodeESt17basic_string_viewIcSt11char_traitsIcEENS_14SourceLocationE']\n",
      "  warnings.warn(f\"unable to load libtensorflow_io_plugins.so: {e}\")\n",
      "/opt/conda/lib/python3.10/site-packages/tensorflow_io/python/ops/__init__.py:104: UserWarning: file system plugins are not loaded: unable to open file: libtensorflow_io.so, from paths: ['/opt/conda/lib/python3.10/site-packages/tensorflow_io/python/ops/libtensorflow_io.so']\n",
      "caused by: ['/opt/conda/lib/python3.10/site-packages/tensorflow_io/python/ops/libtensorflow_io.so: undefined symbol: _ZTVN10tensorflow13GcsFileSystemE']\n",
      "  warnings.warn(f\"file system plugins are not loaded: {e}\")\n"
     ]
    }
   ],
   "source": [
    "import pandas as pd\n",
    "import numpy as np\n",
    "import tensorflow as tf\n",
    "import matplotlib.pyplot as plt\n",
    "import datetime, pytz\n",
    "\n",
    "from keras.models import Sequential\n",
    "from keras.layers import LSTM, Dense\n",
    "from keras.metrics import RootMeanSquaredError\n",
    "\n",
    "from sklearn.preprocessing import MinMaxScaler\n",
    "from sklearn.metrics import mean_squared_error, mean_absolute_error"
   ]
  },
  {
   "cell_type": "markdown",
   "id": "68ffa4d3",
   "metadata": {
    "papermill": {
     "duration": 0.006478,
     "end_time": "2024-02-05T16:49:25.621136",
     "exception": false,
     "start_time": "2024-02-05T16:49:25.614658",
     "status": "completed"
    },
    "tags": []
   },
   "source": [
    "## Hyperparameter"
   ]
  },
  {
   "cell_type": "code",
   "execution_count": 2,
   "id": "ca31edbb",
   "metadata": {
    "execution": {
     "iopub.execute_input": "2024-02-05T16:49:25.635331Z",
     "iopub.status.busy": "2024-02-05T16:49:25.634738Z",
     "iopub.status.idle": "2024-02-05T16:49:25.639527Z",
     "shell.execute_reply": "2024-02-05T16:49:25.638792Z"
    },
    "papermill": {
     "duration": 0.013867,
     "end_time": "2024-02-05T16:49:25.641374",
     "exception": false,
     "start_time": "2024-02-05T16:49:25.627507",
     "status": "completed"
    },
    "tags": []
   },
   "outputs": [],
   "source": [
    "# Google Spreadsheet ID\n",
    "SHEET_ID = '1JDNv_mArl-GPIpxuWS5GxgVEwvjXocS1MrXGc6TYs8M'\n",
    "SHEET_NAME = 'USD/IDR' # USD/IDR, EUR/IDR, SGD/IDR\n",
    "\n",
    "SEQ_LEN = 6 # 6, 11, 21\n",
    "SPLIT = 0.90 # 0.80, 0.90\n",
    "LSTM_Layer = 3 # 1, 2, 3\n",
    "WINDOW_SIZE = SEQ_LEN - 1"
   ]
  },
  {
   "cell_type": "code",
   "execution_count": 3,
   "id": "22e635d2",
   "metadata": {
    "execution": {
     "iopub.execute_input": "2024-02-05T16:49:25.655209Z",
     "iopub.status.busy": "2024-02-05T16:49:25.654920Z",
     "iopub.status.idle": "2024-02-05T16:49:27.108282Z",
     "shell.execute_reply": "2024-02-05T16:49:27.107530Z"
    },
    "papermill": {
     "duration": 1.462797,
     "end_time": "2024-02-05T16:49:27.110596",
     "exception": false,
     "start_time": "2024-02-05T16:49:25.647799",
     "status": "completed"
    },
    "tags": []
   },
   "outputs": [
    {
     "name": "stdout",
     "output_type": "stream",
     "text": [
      "<class 'pandas.core.frame.DataFrame'>\n",
      "RangeIndex: 1977 entries, 0 to 1976\n",
      "Data columns (total 2 columns):\n",
      " #   Column  Non-Null Count  Dtype         \n",
      "---  ------  --------------  -----         \n",
      " 0   Date    1977 non-null   datetime64[ns]\n",
      " 1   Close   1977 non-null   float64       \n",
      "dtypes: datetime64[ns](1), float64(1)\n",
      "memory usage: 31.0 KB\n"
     ]
    }
   ],
   "source": [
    "url = f'https://docs.google.com/spreadsheets/d/{SHEET_ID}/gviz/tq?tqx=out:csv&sheet={SHEET_NAME}'\n",
    "data = pd.read_csv(url)\n",
    "\n",
    "# Convert Date columns to datetime format\n",
    "data['Date'] = pd.to_datetime(data['Date'], format='%d/%m/%Y %H:%M:%S')\n",
    "data.info()"
   ]
  },
  {
   "cell_type": "markdown",
   "id": "828d5785",
   "metadata": {
    "papermill": {
     "duration": 0.006405,
     "end_time": "2024-02-05T16:49:27.123705",
     "exception": false,
     "start_time": "2024-02-05T16:49:27.117300",
     "status": "completed"
    },
    "tags": []
   },
   "source": [
    "## Preprocessing"
   ]
  },
  {
   "cell_type": "code",
   "execution_count": 4,
   "id": "c2a8a5af",
   "metadata": {
    "execution": {
     "iopub.execute_input": "2024-02-05T16:49:27.138159Z",
     "iopub.status.busy": "2024-02-05T16:49:27.137520Z",
     "iopub.status.idle": "2024-02-05T16:49:27.148942Z",
     "shell.execute_reply": "2024-02-05T16:49:27.147925Z"
    },
    "papermill": {
     "duration": 0.020784,
     "end_time": "2024-02-05T16:49:27.150924",
     "exception": false,
     "start_time": "2024-02-05T16:49:27.130140",
     "status": "completed"
    },
    "tags": []
   },
   "outputs": [
    {
     "name": "stderr",
     "output_type": "stream",
     "text": [
      "/tmp/ipykernel_27/2274720815.py:7: SettingWithCopyWarning: \n",
      "A value is trying to be set on a copy of a slice from a DataFrame\n",
      "\n",
      "See the caveats in the documentation: https://pandas.pydata.org/pandas-docs/stable/user_guide/indexing.html#returning-a-view-versus-a-copy\n",
      "  data[data < lower_bound] = lower_bound\n",
      "/tmp/ipykernel_27/2274720815.py:8: SettingWithCopyWarning: \n",
      "A value is trying to be set on a copy of a slice from a DataFrame\n",
      "\n",
      "See the caveats in the documentation: https://pandas.pydata.org/pandas-docs/stable/user_guide/indexing.html#returning-a-view-versus-a-copy\n",
      "  data[data > upper_bound] = upper_bound\n"
     ]
    }
   ],
   "source": [
    "def replace_outliers(data):\n",
    "    Q1 = np.percentile(data, 25)\n",
    "    Q3 = np.percentile(data, 75)\n",
    "    IQR = Q3 - Q1\n",
    "    lower_bound = Q1 - 1.5 * IQR\n",
    "    upper_bound = Q3 + 1.5 * IQR\n",
    "    data[data < lower_bound] = lower_bound\n",
    "    data[data > upper_bound] = upper_bound\n",
    "    return data\n",
    "\n",
    "data['Close'] = replace_outliers(data['Close'])"
   ]
  },
  {
   "cell_type": "code",
   "execution_count": 5,
   "id": "446165c8",
   "metadata": {
    "execution": {
     "iopub.execute_input": "2024-02-05T16:49:27.165348Z",
     "iopub.status.busy": "2024-02-05T16:49:27.165092Z",
     "iopub.status.idle": "2024-02-05T16:49:27.329856Z",
     "shell.execute_reply": "2024-02-05T16:49:27.328805Z"
    },
    "papermill": {
     "duration": 0.176257,
     "end_time": "2024-02-05T16:49:27.333830",
     "exception": false,
     "start_time": "2024-02-05T16:49:27.157573",
     "status": "completed"
    },
    "tags": []
   },
   "outputs": [
    {
     "data": {
      "image/png": "[encoded data removed]",
      "text/plain": [
       "<Figure size 640x480 with 1 Axes>"
      ]
     },
     "metadata": {},
     "output_type": "display_data"
    }
   ],
   "source": [
    "# Boxplot for outlier detection\n",
    "plt.boxplot(data['Close'])\n",
    "plt.title(f\"{SHEET_NAME} Boxplot for Outlier Detection\")\n",
    "plt.xlabel(\"Close\")\n",
    "plt.ylabel(\"Values\")\n",
    "plt.show()"
   ]
  },
  {
   "cell_type": "code",
   "execution_count": 6,
   "id": "864a2630",
   "metadata": {
    "execution": {
     "iopub.execute_input": "2024-02-05T16:49:27.351273Z",
     "iopub.status.busy": "2024-02-05T16:49:27.350986Z",
     "iopub.status.idle": "2024-02-05T16:49:27.357979Z",
     "shell.execute_reply": "2024-02-05T16:49:27.357225Z"
    },
    "papermill": {
     "duration": 0.016955,
     "end_time": "2024-02-05T16:49:27.359943",
     "exception": false,
     "start_time": "2024-02-05T16:49:27.342988",
     "status": "completed"
    },
    "tags": []
   },
   "outputs": [
    {
     "data": {
      "text/plain": [
       "(1977, 1)"
      ]
     },
     "execution_count": 6,
     "metadata": {},
     "output_type": "execute_result"
    }
   ],
   "source": [
    "scaler = MinMaxScaler()\n",
    "close_price = data.Close.values.reshape(-1, 1)\n",
    "scaled_close = scaler.fit_transform(close_price)\n",
    "scaled_close.shape"
   ]
  },
  {
   "cell_type": "code",
   "execution_count": 7,
   "id": "237740d7",
   "metadata": {
    "execution": {
     "iopub.execute_input": "2024-02-05T16:49:27.375316Z",
     "iopub.status.busy": "2024-02-05T16:49:27.375063Z",
     "iopub.status.idle": "2024-02-05T16:49:27.384328Z",
     "shell.execute_reply": "2024-02-05T16:49:27.383673Z"
    },
    "papermill": {
     "duration": 0.019001,
     "end_time": "2024-02-05T16:49:27.386141",
     "exception": false,
     "start_time": "2024-02-05T16:49:27.367140",
     "status": "completed"
    },
    "tags": []
   },
   "outputs": [],
   "source": [
    "def to_sequences(data, seq_len):\n",
    "    d = []\n",
    "    for index in range(len(data) - seq_len):\n",
    "        d.append(data[index: index + seq_len])\n",
    "    return np.array(d)\n",
    "\n",
    "def preprocess(data_raw, seq_len, train_split):\n",
    "    data = to_sequences(data_raw, seq_len)\n",
    "    num_train = int(train_split * data.shape[0])\n",
    "    X_train = data[:num_train, :-1, :]\n",
    "    y_train = data[:num_train, -1, :]\n",
    "    X_test = data[num_train:, :-1, :]\n",
    "    y_test = data[num_train:, -1, :]\n",
    "    return X_train, y_train, X_test, y_test\n",
    "\n",
    "X_train, y_train, X_test, y_test = preprocess(scaled_close, SEQ_LEN, train_split = SPLIT)"
   ]
  },
  {
   "cell_type": "markdown",
   "id": "e7a79a33",
   "metadata": {
    "papermill": {
     "duration": 0.006961,
     "end_time": "2024-02-05T16:49:27.400294",
     "exception": false,
     "start_time": "2024-02-05T16:49:27.393333",
     "status": "completed"
    },
    "tags": []
   },
   "source": [
    "## Genetic Algorithm"
   ]
  },
  {
   "cell_type": "code",
   "execution_count": 8,
   "id": "1207d00b",
   "metadata": {
    "execution": {
     "iopub.execute_input": "2024-02-05T16:49:27.415395Z",
     "iopub.status.busy": "2024-02-05T16:49:27.415155Z",
     "iopub.status.idle": "2024-02-05T16:49:27.420517Z",
     "shell.execute_reply": "2024-02-05T16:49:27.419741Z"
    },
    "papermill": {
     "duration": 0.015003,
     "end_time": "2024-02-05T16:49:27.422343",
     "exception": false,
     "start_time": "2024-02-05T16:49:27.407340",
     "status": "completed"
    },
    "tags": []
   },
   "outputs": [],
   "source": [
    "def decimal_to_binary(chromosome: list):\n",
    "    binary_string = ''.join([bin(x)[2:].zfill(8) for x in chromosome])\n",
    "    return binary_string\n",
    "\n",
    "def binary_to_decimal(binary_string: str):\n",
    "    decimal_array = [int(binary, 2) for binary in [binary_string[i:i+8] for i in range(0, len(binary_string), 8)]]\n",
    "    return decimal_array"
   ]
  },
  {
   "cell_type": "code",
   "execution_count": 9,
   "id": "28b4e321",
   "metadata": {
    "execution": {
     "iopub.execute_input": "2024-02-05T16:49:27.438054Z",
     "iopub.status.busy": "2024-02-05T16:49:27.437732Z",
     "iopub.status.idle": "2024-02-05T16:49:27.456086Z",
     "shell.execute_reply": "2024-02-05T16:49:27.455287Z"
    },
    "papermill": {
     "duration": 0.028309,
     "end_time": "2024-02-05T16:49:27.457893",
     "exception": false,
     "start_time": "2024-02-05T16:49:27.429584",
     "status": "completed"
    },
    "tags": []
   },
   "outputs": [],
   "source": [
    "# Genetic Algorithm\n",
    "def genetic_algorithm(generations, mutation_rate):\n",
    "    print(f\"Inizialized Population...\")\n",
    "    population = np.random.randint(1, high=251, size=(10, 3))\n",
    "    fitness_scores = np.array([fitness_function(chromosome) for chromosome in population])\n",
    "    max_fitness_each_gen = []\n",
    "    \n",
    "    for generation in range(generations):\n",
    "        print(f\"Generation - {generation + 1}\")\n",
    "        max_fitness_each_gen.append(np.max(fitness_scores))\n",
    "        \n",
    "        chromosome_1 = selection(population, fitness_scores)\n",
    "        chromosome_2 = selection(population, fitness_scores)\n",
    "        \n",
    "        if generation % mutation_rate == 0:\n",
    "            chromosome_1 = mutate(chromosome_1)\n",
    "            chromosome_2 = mutate(chromosome_2)\n",
    "        else:\n",
    "            chromosome_1, chromosome_2 = crossover(chromosome_1, chromosome_2)\n",
    "\n",
    "        fitness_score_1 = fitness_function(chromosome_1)\n",
    "        fitness_score_2 = fitness_function(chromosome_2)\n",
    "        \n",
    "        worst_index = np.argmin(fitness_scores)\n",
    "        worst_fitness = fitness_scores[worst_index]\n",
    "\n",
    "        if fitness_score_1 > worst_fitness:\n",
    "            population[worst_index] = chromosome_1\n",
    "            fitness_scores[worst_index] = fitness_score_1\n",
    "            worst_index = np.argmin(fitness_scores)\n",
    "            worst_fitness = fitness_scores[worst_index]\n",
    "\n",
    "        if fitness_score_2 > worst_fitness:\n",
    "            population[worst_index] = chromosome_2\n",
    "            fitness_scores[worst_index] = fitness_score_2\n",
    "        \n",
    "        # Release some memory\n",
    "        del chromosome_1, chromosome_2\n",
    "        del fitness_score_1, fitness_score_2\n",
    "        del worst_index, worst_fitness\n",
    "            \n",
    "    best_chromosome = population[np.argmax(fitness_scores)]\n",
    "    best_fitness = np.max(fitness_scores)\n",
    "    \n",
    "    return best_chromosome, best_fitness, max_fitness_each_gen\n",
    "\n",
    "# Selection (Tournament selection)\n",
    "def selection(population, fitness_scores, tournament_size=3):\n",
    "    indices = np.random.randint(len(population), size=tournament_size)\n",
    "    tournament = population[indices]\n",
    "    tournament_fitness = fitness_scores[indices]\n",
    "    return tournament[np.argmax(tournament_fitness)]\n",
    "\n",
    "# Crossover (Single-point crossover)\n",
    "def crossover(parent_1: list, parent_2: list):\n",
    "    parent_1 = decimal_to_binary(parent_1)\n",
    "    parent_2 = decimal_to_binary(parent_2)\n",
    "    \n",
    "    crossover_point = np.random.randint(1, len(parent_1))\n",
    "    offspring_1 = parent_1[:crossover_point] + parent_2[crossover_point:]\n",
    "    offspring_2 = parent_2[:crossover_point] + parent_1[crossover_point:]\n",
    "    \n",
    "    offspring_1 = binary_to_decimal(offspring_1)\n",
    "    offspring_2 = binary_to_decimal(offspring_2)\n",
    "    return offspring_1, offspring_2\n",
    "\n",
    "# Mutation (Swap Mutation)\n",
    "def mutate(chromosome: list):\n",
    "    chromosome = decimal_to_binary(chromosome)\n",
    "    \n",
    "    chromosome_list = list(chromosome)\n",
    "    i = np.random.randint(len(chromosome_list), size=2)\n",
    "    chromosome_list[i[0]], chromosome_list[i[1]] = chromosome_list[i[1]], chromosome_list[i[0]]\n",
    "    \n",
    "    chromosome_list = ''.join(chromosome_list)\n",
    "    chromosome = binary_to_decimal(chromosome_list)\n",
    "    return chromosome\n",
    "\n",
    "# Fitness Function\n",
    "def fitness_function(chromosome: list):\n",
    "    lstm_units = [int(chromosome[i]) or default for i, default in enumerate([128, 64, 32])]\n",
    "\n",
    "    # Build the LSTM model\n",
    "    tf.keras.backend.clear_session()\n",
    "    model = Sequential()\n",
    "    for i, units in enumerate(lstm_units[:LSTM_Layer]):\n",
    "        model.add(LSTM(units, return_sequences=(i < LSTM_Layer - 1), input_shape=(WINDOW_SIZE, 1)))\n",
    "    model.add(Dense(1))\n",
    "    \n",
    "    # Compile and train the model\n",
    "    model.compile(loss='mean_squared_error',\n",
    "                  optimizer='adam')\n",
    "    model.fit(X_train, y_train,\n",
    "              epochs=10,\n",
    "              batch_size=32,\n",
    "              verbose=0,\n",
    "              validation_split=0.1)\n",
    "\n",
    "    # Evaluate the model\n",
    "    loss = model.evaluate(X_test, y_test)\n",
    "\n",
    "    # Return the negative value of the loss as the fitness score\n",
    "    return -loss"
   ]
  },
  {
   "cell_type": "code",
   "execution_count": 10,
   "id": "069952c4",
   "metadata": {
    "execution": {
     "iopub.execute_input": "2024-02-05T16:49:27.473267Z",
     "iopub.status.busy": "2024-02-05T16:49:27.472788Z",
     "iopub.status.idle": "2024-02-05T16:49:27.478217Z",
     "shell.execute_reply": "2024-02-05T16:49:27.477397Z"
    },
    "papermill": {
     "duration": 0.014951,
     "end_time": "2024-02-05T16:49:27.479975",
     "exception": false,
     "start_time": "2024-02-05T16:49:27.465024",
     "status": "completed"
    },
    "tags": []
   },
   "outputs": [],
   "source": [
    "import typing\n",
    "from datetime import datetime\n",
    "\n",
    "def timer(start_time: datetime = None) -> \"typing.Union[datetime.datetime, str]\":\n",
    "    if not start_time:\n",
    "        start_time = datetime.now()\n",
    "        return start_time\n",
    "    elif start_time:\n",
    "        thour, temp_sec = divmod((datetime.now() - start_time).total_seconds(), 3600)\n",
    "        tmin, tsec = divmod(temp_sec, 60)\n",
    "        return \"%i hours %i minutes and %s seconds.\" % (\n",
    "            thour,\n",
    "            tmin,\n",
    "            round(tsec, 2),\n",
    "        )"
   ]
  },
  {
   "cell_type": "code",
   "execution_count": 11,
   "id": "6af0da20",
   "metadata": {
    "execution": {
     "iopub.execute_input": "2024-02-05T16:49:27.495128Z",
     "iopub.status.busy": "2024-02-05T16:49:27.494854Z",
     "iopub.status.idle": "2024-02-05T17:08:28.297033Z",
     "shell.execute_reply": "2024-02-05T17:08:28.296238Z"
    },
    "papermill": {
     "duration": 1140.811944,
     "end_time": "2024-02-05T17:08:28.298994",
     "exception": false,
     "start_time": "2024-02-05T16:49:27.487050",
     "status": "completed"
    },
    "tags": []
   },
   "outputs": [
    {
     "name": "stdout",
     "output_type": "stream",
     "text": [
      "Inizialized Population...\n",
      "7/7 [==============================] - 0s 4ms/step - loss: 0.0025\n",
      "7/7 [==============================] - 0s 3ms/step - loss: 0.0020\n",
      "7/7 [==============================] - 0s 4ms/step - loss: 0.0018\n",
      "7/7 [==============================] - 0s 3ms/step - loss: 0.0033\n",
      "7/7 [==============================] - 0s 4ms/step - loss: 0.0017\n",
      "7/7 [==============================] - 0s 3ms/step - loss: 0.0019\n",
      "7/7 [==============================] - 0s 3ms/step - loss: 0.0022\n",
      "7/7 [==============================] - 0s 3ms/step - loss: 0.0016\n",
      "7/7 [==============================] - 0s 3ms/step - loss: 0.0024\n",
      "7/7 [==============================] - 0s 3ms/step - loss: 0.0016\n",
      "Generation - 1\n",
      "7/7 [==============================] - 0s 4ms/step - loss: 0.0017\n",
      "7/7 [==============================] - 0s 4ms/step - loss: 0.0029\n",
      "Generation - 2\n",
      "7/7 [==============================] - 0s 3ms/step - loss: 0.0017\n",
      "7/7 [==============================] - 0s 4ms/step - loss: 0.0025\n",
      "Generation - 3\n",
      "7/7 [==============================] - 0s 4ms/step - loss: 0.0018\n",
      "7/7 [==============================] - 0s 3ms/step - loss: 0.0019\n",
      "Generation - 4\n",
      "7/7 [==============================] - 0s 4ms/step - loss: 0.0026\n",
      "7/7 [==============================] - 0s 4ms/step - loss: 0.0017\n",
      "Generation - 5\n",
      "7/7 [==============================] - 0s 3ms/step - loss: 0.0022\n",
      "7/7 [==============================] - 0s 4ms/step - loss: 0.0032\n",
      "Generation - 6\n",
      "7/7 [==============================] - 0s 4ms/step - loss: 0.0023\n",
      "7/7 [==============================] - 0s 3ms/step - loss: 0.0016\n",
      "Generation - 7\n",
      "7/7 [==============================] - 0s 3ms/step - loss: 0.0023\n",
      "7/7 [==============================] - 0s 4ms/step - loss: 0.0023\n",
      "Generation - 8\n",
      "7/7 [==============================] - 0s 4ms/step - loss: 0.0024\n",
      "7/7 [==============================] - 0s 4ms/step - loss: 0.0016\n",
      "Generation - 9\n",
      "7/7 [==============================] - 0s 4ms/step - loss: 0.0016\n",
      "7/7 [==============================] - 0s 4ms/step - loss: 0.0023\n",
      "Generation - 10\n",
      "7/7 [==============================] - 0s 4ms/step - loss: 0.0016\n",
      "7/7 [==============================] - 0s 4ms/step - loss: 0.0016\n",
      "Generation - 11\n",
      "7/7 [==============================] - 0s 3ms/step - loss: 0.0018\n",
      "7/7 [==============================] - 0s 3ms/step - loss: 0.0016\n",
      "Generation - 12\n",
      "7/7 [==============================] - 0s 4ms/step - loss: 0.0018\n",
      "7/7 [==============================] - 0s 3ms/step - loss: 0.0023\n",
      "Generation - 13\n",
      "7/7 [==============================] - 0s 4ms/step - loss: 0.0046\n",
      "7/7 [==============================] - 0s 4ms/step - loss: 0.0016\n",
      "Generation - 14\n",
      "7/7 [==============================] - 0s 3ms/step - loss: 0.0017\n",
      "7/7 [==============================] - 0s 3ms/step - loss: 0.0018\n",
      "Generation - 15\n",
      "7/7 [==============================] - 0s 4ms/step - loss: 0.0021\n",
      "7/7 [==============================] - 0s 4ms/step - loss: 0.0018\n",
      "Generation - 16\n",
      "7/7 [==============================] - 0s 3ms/step - loss: 0.0016\n",
      "7/7 [==============================] - 0s 4ms/step - loss: 0.0023\n",
      "Generation - 17\n",
      "7/7 [==============================] - 0s 3ms/step - loss: 0.0026\n",
      "7/7 [==============================] - 0s 4ms/step - loss: 0.0021\n",
      "Generation - 18\n",
      "7/7 [==============================] - 0s 3ms/step - loss: 0.0018\n",
      "7/7 [==============================] - 0s 4ms/step - loss: 0.0020\n",
      "Generation - 19\n",
      "7/7 [==============================] - 0s 4ms/step - loss: 0.0017\n",
      "7/7 [==============================] - 0s 4ms/step - loss: 0.0035\n",
      "Generation - 20\n",
      "7/7 [==============================] - 0s 4ms/step - loss: 0.0019\n",
      "7/7 [==============================] - 0s 3ms/step - loss: 0.0019\n",
      "Generation - 21\n",
      "7/7 [==============================] - 0s 4ms/step - loss: 0.0017\n",
      "7/7 [==============================] - 0s 4ms/step - loss: 0.0017\n",
      "Generation - 22\n",
      "7/7 [==============================] - 0s 4ms/step - loss: 0.0029\n",
      "7/7 [==============================] - 0s 4ms/step - loss: 0.0017\n",
      "Generation - 23\n",
      "7/7 [==============================] - 0s 4ms/step - loss: 0.0023\n",
      "7/7 [==============================] - 0s 4ms/step - loss: 0.0026\n",
      "Generation - 24\n",
      "7/7 [==============================] - 0s 4ms/step - loss: 0.0033\n",
      "7/7 [==============================] - 0s 4ms/step - loss: 0.0027\n",
      "Generation - 25\n",
      "7/7 [==============================] - 0s 3ms/step - loss: 0.0017\n",
      "7/7 [==============================] - 0s 4ms/step - loss: 0.0017\n",
      "Generation - 26\n",
      "7/7 [==============================] - 0s 4ms/step - loss: 0.0016\n",
      "7/7 [==============================] - 0s 3ms/step - loss: 0.0019\n",
      "Generation - 27\n",
      "7/7 [==============================] - 0s 4ms/step - loss: 0.0026\n",
      "7/7 [==============================] - 0s 4ms/step - loss: 0.0017\n",
      "Generation - 28\n",
      "7/7 [==============================] - 0s 4ms/step - loss: 0.0019\n",
      "7/7 [==============================] - 0s 4ms/step - loss: 0.0021\n",
      "Generation - 29\n",
      "7/7 [==============================] - 0s 4ms/step - loss: 0.0044\n",
      "7/7 [==============================] - 0s 4ms/step - loss: 0.0021\n",
      "Generation - 30\n",
      "7/7 [==============================] - 0s 3ms/step - loss: 0.0022\n",
      "7/7 [==============================] - 0s 4ms/step - loss: 0.0030\n",
      "Generation - 31\n",
      "7/7 [==============================] - 0s 4ms/step - loss: 0.0020\n",
      "7/7 [==============================] - 0s 4ms/step - loss: 0.0015\n",
      "Generation - 32\n",
      "7/7 [==============================] - 0s 4ms/step - loss: 0.0020\n",
      "7/7 [==============================] - 0s 4ms/step - loss: 0.0017\n",
      "Generation - 33\n",
      "7/7 [==============================] - 0s 4ms/step - loss: 0.0022\n",
      "7/7 [==============================] - 0s 4ms/step - loss: 0.0027\n",
      "Generation - 34\n",
      "7/7 [==============================] - 0s 3ms/step - loss: 0.0030\n",
      "7/7 [==============================] - 0s 4ms/step - loss: 0.0015\n",
      "Generation - 35\n",
      "7/7 [==============================] - 0s 4ms/step - loss: 0.0022\n",
      "7/7 [==============================] - 0s 3ms/step - loss: 0.0018\n",
      "Generation - 36\n",
      "7/7 [==============================] - 0s 4ms/step - loss: 0.0022\n",
      "7/7 [==============================] - 0s 4ms/step - loss: 0.0016\n",
      "Generation - 37\n",
      "7/7 [==============================] - 0s 3ms/step - loss: 0.0024\n",
      "7/7 [==============================] - 0s 4ms/step - loss: 0.0018\n",
      "Generation - 38\n",
      "7/7 [==============================] - 0s 4ms/step - loss: 0.0016\n",
      "7/7 [==============================] - 0s 4ms/step - loss: 0.0044\n",
      "Generation - 39\n",
      "7/7 [==============================] - 0s 4ms/step - loss: 0.0023\n",
      "7/7 [==============================] - 0s 4ms/step - loss: 0.0029\n",
      "Generation - 40\n",
      "7/7 [==============================] - 0s 4ms/step - loss: 0.0017\n",
      "7/7 [==============================] - 0s 3ms/step - loss: 0.0017\n",
      "Generation - 41\n",
      "7/7 [==============================] - 0s 4ms/step - loss: 0.0016\n",
      "7/7 [==============================] - 0s 3ms/step - loss: 0.0042\n",
      "Generation - 42\n",
      "7/7 [==============================] - 0s 3ms/step - loss: 0.0016\n",
      "7/7 [==============================] - 0s 4ms/step - loss: 0.0017\n",
      "Generation - 43\n",
      "7/7 [==============================] - 0s 4ms/step - loss: 0.0016\n",
      "7/7 [==============================] - 0s 3ms/step - loss: 0.0029\n",
      "Generation - 44\n",
      "7/7 [==============================] - 0s 4ms/step - loss: 0.0016\n",
      "7/7 [==============================] - 0s 3ms/step - loss: 0.0025\n",
      "Generation - 45\n",
      "7/7 [==============================] - 0s 4ms/step - loss: 0.0020\n",
      "7/7 [==============================] - 0s 4ms/step - loss: 0.0030\n",
      "Generation - 46\n",
      "7/7 [==============================] - 0s 4ms/step - loss: 0.0018\n",
      "7/7 [==============================] - 0s 4ms/step - loss: 0.0017\n",
      "Generation - 47\n",
      "7/7 [==============================] - 0s 4ms/step - loss: 0.0020\n",
      "7/7 [==============================] - 0s 4ms/step - loss: 0.0025\n",
      "Generation - 48\n",
      "7/7 [==============================] - 0s 4ms/step - loss: 0.0016\n",
      "7/7 [==============================] - 0s 4ms/step - loss: 0.0023\n",
      "Generation - 49\n",
      "7/7 [==============================] - 0s 4ms/step - loss: 0.0016\n",
      "7/7 [==============================] - 0s 3ms/step - loss: 0.0016\n",
      "Generation - 50\n",
      "7/7 [==============================] - 0s 4ms/step - loss: 0.0016\n",
      "7/7 [==============================] - 0s 4ms/step - loss: 0.0043\n"
     ]
    }
   ],
   "source": [
    "# Do not increase this value\n",
    "generations = 50\n",
    "mutation_rate = 5\n",
    "\n",
    "time = timer(None)\n",
    "best_chromosome, best_fitness, max_fitness_each_gen = genetic_algorithm(generations, mutation_rate)\n",
    "time = timer(time)"
   ]
  },
  {
   "cell_type": "code",
   "execution_count": 12,
   "id": "4d66e1da",
   "metadata": {
    "execution": {
     "iopub.execute_input": "2024-02-05T17:08:28.355347Z",
     "iopub.status.busy": "2024-02-05T17:08:28.354496Z",
     "iopub.status.idle": "2024-02-05T17:08:28.360071Z",
     "shell.execute_reply": "2024-02-05T17:08:28.358970Z"
    },
    "papermill": {
     "duration": 0.0353,
     "end_time": "2024-02-05T17:08:28.361919",
     "exception": false,
     "start_time": "2024-02-05T17:08:28.326619",
     "status": "completed"
    },
    "tags": []
   },
   "outputs": [
    {
     "name": "stdout",
     "output_type": "stream",
     "text": [
      "Best Chromosome: [139 237 195]\n",
      "Best Fitness: -0.0015466812765225768\n",
      "Time Taken: 0 hours 19 minutes and 0.8 seconds.\n"
     ]
    }
   ],
   "source": [
    "print(\"Best Chromosome:\", best_chromosome)\n",
    "print(\"Best Fitness:\", best_fitness)\n",
    "print(\"Time Taken:\", time)"
   ]
  },
  {
   "cell_type": "code",
   "execution_count": 13,
   "id": "12e4b277",
   "metadata": {
    "execution": {
     "iopub.execute_input": "2024-02-05T17:08:28.417180Z",
     "iopub.status.busy": "2024-02-05T17:08:28.416634Z",
     "iopub.status.idle": "2024-02-05T17:08:28.423025Z",
     "shell.execute_reply": "2024-02-05T17:08:28.422157Z"
    },
    "papermill": {
     "duration": 0.035556,
     "end_time": "2024-02-05T17:08:28.424986",
     "exception": false,
     "start_time": "2024-02-05T17:08:28.389430",
     "status": "completed"
    },
    "tags": []
   },
   "outputs": [
    {
     "data": {
      "text/plain": [
       "[-0.0016171073075383902,\n",
       " -0.0016171073075383902,\n",
       " -0.0016171073075383902,\n",
       " -0.0016171073075383902,\n",
       " -0.0016171073075383902,\n",
       " -0.0016171073075383902,\n",
       " -0.0015772643964737654,\n",
       " -0.0015772643964737654,\n",
       " -0.0015772643964737654,\n",
       " -0.0015772643964737654,\n",
       " -0.0015772643964737654,\n",
       " -0.0015772643964737654,\n",
       " -0.0015772643964737654,\n",
       " -0.0015772643964737654,\n",
       " -0.0015772643964737654,\n",
       " -0.0015772643964737654,\n",
       " -0.0015772643964737654,\n",
       " -0.0015772643964737654,\n",
       " -0.0015772643964737654,\n",
       " -0.0015772643964737654,\n",
       " -0.0015772643964737654,\n",
       " -0.0015772643964737654,\n",
       " -0.0015772643964737654,\n",
       " -0.0015772643964737654,\n",
       " -0.0015772643964737654,\n",
       " -0.0015772643964737654,\n",
       " -0.0015772643964737654,\n",
       " -0.0015772643964737654,\n",
       " -0.0015772643964737654,\n",
       " -0.0015772643964737654,\n",
       " -0.0015772643964737654,\n",
       " -0.0015498828142881393,\n",
       " -0.0015498828142881393,\n",
       " -0.0015498828142881393,\n",
       " -0.0015466812765225768,\n",
       " -0.0015466812765225768,\n",
       " -0.0015466812765225768,\n",
       " -0.0015466812765225768,\n",
       " -0.0015466812765225768,\n",
       " -0.0015466812765225768,\n",
       " -0.0015466812765225768,\n",
       " -0.0015466812765225768,\n",
       " -0.0015466812765225768,\n",
       " -0.0015466812765225768,\n",
       " -0.0015466812765225768,\n",
       " -0.0015466812765225768,\n",
       " -0.0015466812765225768,\n",
       " -0.0015466812765225768,\n",
       " -0.0015466812765225768,\n",
       " -0.0015466812765225768]"
      ]
     },
     "execution_count": 13,
     "metadata": {},
     "output_type": "execute_result"
    }
   ],
   "source": [
    "max_fitness_each_gen"
   ]
  },
  {
   "cell_type": "markdown",
   "id": "597a1180",
   "metadata": {
    "papermill": {
     "duration": 0.026785,
     "end_time": "2024-02-05T17:08:28.478377",
     "exception": false,
     "start_time": "2024-02-05T17:08:28.451592",
     "status": "completed"
    },
    "tags": []
   },
   "source": [
    "## Re-Training Model with Best Parameter"
   ]
  },
  {
   "cell_type": "code",
   "execution_count": 14,
   "id": "3aa93bce",
   "metadata": {
    "execution": {
     "iopub.execute_input": "2024-02-05T17:08:28.532831Z",
     "iopub.status.busy": "2024-02-05T17:08:28.532543Z",
     "iopub.status.idle": "2024-02-05T17:08:29.282772Z",
     "shell.execute_reply": "2024-02-05T17:08:29.280826Z"
    },
    "papermill": {
     "duration": 0.782567,
     "end_time": "2024-02-05T17:08:29.287550",
     "exception": false,
     "start_time": "2024-02-05T17:08:28.504983",
     "status": "completed"
    },
    "tags": []
   },
   "outputs": [
    {
     "name": "stdout",
     "output_type": "stream",
     "text": [
      "Model: \"sequential_1\"\n",
      "_________________________________________________________________\n",
      " Layer (type)                Output Shape              Param #   \n",
      "=================================================================\n",
      " lstm_3 (LSTM)               (None, 5, 139)            78396     \n",
      "                                                                 \n",
      " lstm_4 (LSTM)               (None, 5, 237)            357396    \n",
      "                                                                 \n",
      " lstm_5 (LSTM)               (None, 195)               337740    \n",
      "                                                                 \n",
      " dense_1 (Dense)             (None, 1)                 196       \n",
      "                                                                 \n",
      "=================================================================\n",
      "Total params: 773,728\n",
      "Trainable params: 773,728\n",
      "Non-trainable params: 0\n",
      "_________________________________________________________________\n"
     ]
    }
   ],
   "source": [
    "model = Sequential()\n",
    "for i, units in enumerate(best_chromosome[:LSTM_Layer]):\n",
    "    model.add(LSTM(units, return_sequences=(i < LSTM_Layer - 1), input_shape=(WINDOW_SIZE, 1)))\n",
    "model.add(Dense(1))\n",
    "\n",
    "model.summary()"
   ]
  },
  {
   "cell_type": "code",
   "execution_count": 15,
   "id": "27336904",
   "metadata": {
    "execution": {
     "iopub.execute_input": "2024-02-05T17:08:29.344885Z",
     "iopub.status.busy": "2024-02-05T17:08:29.344601Z",
     "iopub.status.idle": "2024-02-05T17:08:55.170810Z",
     "shell.execute_reply": "2024-02-05T17:08:55.169883Z"
    },
    "papermill": {
     "duration": 25.857149,
     "end_time": "2024-02-05T17:08:55.172948",
     "exception": false,
     "start_time": "2024-02-05T17:08:29.315799",
     "status": "completed"
    },
    "tags": []
   },
   "outputs": [
    {
     "name": "stdout",
     "output_type": "stream",
     "text": [
      "Epoch 1/50\n",
      "50/50 [==============================] - 7s 29ms/step - loss: 0.0206 - mae: 0.0952 - root_mean_squared_error: 0.1435 - val_loss: 0.0011 - val_mae: 0.0273 - val_root_mean_squared_error: 0.0339\n",
      "Epoch 2/50\n",
      "50/50 [==============================] - 0s 7ms/step - loss: 0.0024 - mae: 0.0340 - root_mean_squared_error: 0.0494 - val_loss: 0.0010 - val_mae: 0.0257 - val_root_mean_squared_error: 0.0321\n",
      "Epoch 3/50\n",
      "50/50 [==============================] - 0s 7ms/step - loss: 0.0024 - mae: 0.0334 - root_mean_squared_error: 0.0485 - val_loss: 9.5031e-04 - val_mae: 0.0246 - val_root_mean_squared_error: 0.0308\n",
      "Epoch 4/50\n",
      "50/50 [==============================] - 0s 7ms/step - loss: 0.0028 - mae: 0.0377 - root_mean_squared_error: 0.0530 - val_loss: 0.0074 - val_mae: 0.0794 - val_root_mean_squared_error: 0.0859\n",
      "Epoch 5/50\n",
      "50/50 [==============================] - 0s 7ms/step - loss: 0.0028 - mae: 0.0381 - root_mean_squared_error: 0.0529 - val_loss: 0.0025 - val_mae: 0.0435 - val_root_mean_squared_error: 0.0503\n",
      "Epoch 6/50\n",
      "50/50 [==============================] - 0s 7ms/step - loss: 0.0024 - mae: 0.0345 - root_mean_squared_error: 0.0491 - val_loss: 0.0013 - val_mae: 0.0289 - val_root_mean_squared_error: 0.0354\n",
      "Epoch 7/50\n",
      "50/50 [==============================] - 0s 7ms/step - loss: 0.0025 - mae: 0.0349 - root_mean_squared_error: 0.0495 - val_loss: 9.7656e-04 - val_mae: 0.0250 - val_root_mean_squared_error: 0.0312\n",
      "Epoch 8/50\n",
      "50/50 [==============================] - 0s 8ms/step - loss: 0.0023 - mae: 0.0334 - root_mean_squared_error: 0.0485 - val_loss: 0.0011 - val_mae: 0.0266 - val_root_mean_squared_error: 0.0330\n",
      "Epoch 9/50\n",
      "50/50 [==============================] - 0s 7ms/step - loss: 0.0023 - mae: 0.0332 - root_mean_squared_error: 0.0478 - val_loss: 0.0015 - val_mae: 0.0316 - val_root_mean_squared_error: 0.0382\n",
      "Epoch 10/50\n",
      "50/50 [==============================] - 0s 7ms/step - loss: 0.0023 - mae: 0.0335 - root_mean_squared_error: 0.0483 - val_loss: 9.7441e-04 - val_mae: 0.0246 - val_root_mean_squared_error: 0.0312\n",
      "Epoch 11/50\n",
      "50/50 [==============================] - 0s 8ms/step - loss: 0.0021 - mae: 0.0318 - root_mean_squared_error: 0.0461 - val_loss: 0.0014 - val_mae: 0.0293 - val_root_mean_squared_error: 0.0369\n",
      "Epoch 12/50\n",
      "50/50 [==============================] - 0s 8ms/step - loss: 0.0023 - mae: 0.0338 - root_mean_squared_error: 0.0480 - val_loss: 0.0017 - val_mae: 0.0347 - val_root_mean_squared_error: 0.0413\n",
      "Epoch 13/50\n",
      "50/50 [==============================] - 0s 7ms/step - loss: 0.0021 - mae: 0.0312 - root_mean_squared_error: 0.0456 - val_loss: 0.0016 - val_mae: 0.0332 - val_root_mean_squared_error: 0.0396\n",
      "Epoch 14/50\n",
      "50/50 [==============================] - 0s 7ms/step - loss: 0.0020 - mae: 0.0304 - root_mean_squared_error: 0.0447 - val_loss: 8.1997e-04 - val_mae: 0.0225 - val_root_mean_squared_error: 0.0286\n",
      "Epoch 15/50\n",
      "50/50 [==============================] - 0s 8ms/step - loss: 0.0021 - mae: 0.0317 - root_mean_squared_error: 0.0456 - val_loss: 0.0030 - val_mae: 0.0480 - val_root_mean_squared_error: 0.0545\n",
      "Epoch 16/50\n",
      "50/50 [==============================] - 0s 8ms/step - loss: 0.0021 - mae: 0.0313 - root_mean_squared_error: 0.0455 - val_loss: 7.6919e-04 - val_mae: 0.0219 - val_root_mean_squared_error: 0.0277\n",
      "Epoch 17/50\n",
      "50/50 [==============================] - 0s 8ms/step - loss: 0.0020 - mae: 0.0313 - root_mean_squared_error: 0.0446 - val_loss: 7.2902e-04 - val_mae: 0.0212 - val_root_mean_squared_error: 0.0270\n",
      "Epoch 18/50\n",
      "50/50 [==============================] - 0s 8ms/step - loss: 0.0019 - mae: 0.0301 - root_mean_squared_error: 0.0435 - val_loss: 9.6155e-04 - val_mae: 0.0247 - val_root_mean_squared_error: 0.0310\n",
      "Epoch 19/50\n",
      "50/50 [==============================] - 0s 8ms/step - loss: 0.0019 - mae: 0.0305 - root_mean_squared_error: 0.0436 - val_loss: 7.3855e-04 - val_mae: 0.0214 - val_root_mean_squared_error: 0.0272\n",
      "Epoch 20/50\n",
      "50/50 [==============================] - 0s 8ms/step - loss: 0.0019 - mae: 0.0306 - root_mean_squared_error: 0.0437 - val_loss: 7.3505e-04 - val_mae: 0.0217 - val_root_mean_squared_error: 0.0271\n",
      "Epoch 21/50\n",
      "50/50 [==============================] - 0s 8ms/step - loss: 0.0018 - mae: 0.0299 - root_mean_squared_error: 0.0426 - val_loss: 0.0011 - val_mae: 0.0266 - val_root_mean_squared_error: 0.0329\n",
      "Epoch 22/50\n",
      "50/50 [==============================] - 0s 8ms/step - loss: 0.0018 - mae: 0.0299 - root_mean_squared_error: 0.0423 - val_loss: 8.8257e-04 - val_mae: 0.0241 - val_root_mean_squared_error: 0.0297\n",
      "Epoch 23/50\n",
      "50/50 [==============================] - 0s 7ms/step - loss: 0.0016 - mae: 0.0273 - root_mean_squared_error: 0.0399 - val_loss: 6.2314e-04 - val_mae: 0.0192 - val_root_mean_squared_error: 0.0250\n",
      "Epoch 24/50\n",
      "50/50 [==============================] - 0s 8ms/step - loss: 0.0015 - mae: 0.0268 - root_mean_squared_error: 0.0393 - val_loss: 4.9907e-04 - val_mae: 0.0171 - val_root_mean_squared_error: 0.0223\n",
      "Epoch 25/50\n",
      "50/50 [==============================] - 0s 7ms/step - loss: 0.0015 - mae: 0.0266 - root_mean_squared_error: 0.0388 - val_loss: 5.2334e-04 - val_mae: 0.0176 - val_root_mean_squared_error: 0.0229\n",
      "Epoch 26/50\n",
      "50/50 [==============================] - 0s 7ms/step - loss: 0.0015 - mae: 0.0266 - root_mean_squared_error: 0.0386 - val_loss: 4.8814e-04 - val_mae: 0.0171 - val_root_mean_squared_error: 0.0221\n",
      "Epoch 27/50\n",
      "50/50 [==============================] - 0s 7ms/step - loss: 0.0015 - mae: 0.0267 - root_mean_squared_error: 0.0386 - val_loss: 4.6260e-04 - val_mae: 0.0159 - val_root_mean_squared_error: 0.0215\n",
      "Epoch 28/50\n",
      "50/50 [==============================] - 0s 7ms/step - loss: 0.0016 - mae: 0.0282 - root_mean_squared_error: 0.0403 - val_loss: 4.8053e-04 - val_mae: 0.0165 - val_root_mean_squared_error: 0.0219\n",
      "Epoch 29/50\n",
      "50/50 [==============================] - 0s 8ms/step - loss: 0.0015 - mae: 0.0262 - root_mean_squared_error: 0.0383 - val_loss: 0.0015 - val_mae: 0.0330 - val_root_mean_squared_error: 0.0386\n",
      "Epoch 30/50\n",
      "50/50 [==============================] - 0s 7ms/step - loss: 0.0015 - mae: 0.0266 - root_mean_squared_error: 0.0387 - val_loss: 8.2766e-04 - val_mae: 0.0228 - val_root_mean_squared_error: 0.0288\n",
      "Epoch 31/50\n",
      "50/50 [==============================] - 0s 7ms/step - loss: 0.0016 - mae: 0.0271 - root_mean_squared_error: 0.0394 - val_loss: 6.1738e-04 - val_mae: 0.0187 - val_root_mean_squared_error: 0.0248\n",
      "Epoch 32/50\n",
      "50/50 [==============================] - 0s 8ms/step - loss: 0.0014 - mae: 0.0252 - root_mean_squared_error: 0.0371 - val_loss: 0.0012 - val_mae: 0.0283 - val_root_mean_squared_error: 0.0343\n",
      "Epoch 33/50\n",
      "50/50 [==============================] - 0s 8ms/step - loss: 0.0014 - mae: 0.0256 - root_mean_squared_error: 0.0375 - val_loss: 4.5068e-04 - val_mae: 0.0154 - val_root_mean_squared_error: 0.0212\n",
      "Epoch 34/50\n",
      "50/50 [==============================] - 0s 7ms/step - loss: 0.0016 - mae: 0.0286 - root_mean_squared_error: 0.0403 - val_loss: 4.5078e-04 - val_mae: 0.0155 - val_root_mean_squared_error: 0.0212\n",
      "Epoch 35/50\n",
      "50/50 [==============================] - 0s 8ms/step - loss: 0.0015 - mae: 0.0273 - root_mean_squared_error: 0.0393 - val_loss: 6.2384e-04 - val_mae: 0.0201 - val_root_mean_squared_error: 0.0250\n",
      "Epoch 36/50\n",
      "50/50 [==============================] - 0s 8ms/step - loss: 0.0017 - mae: 0.0294 - root_mean_squared_error: 0.0415 - val_loss: 5.1895e-04 - val_mae: 0.0177 - val_root_mean_squared_error: 0.0228\n",
      "Epoch 37/50\n",
      "50/50 [==============================] - 0s 7ms/step - loss: 0.0015 - mae: 0.0268 - root_mean_squared_error: 0.0393 - val_loss: 5.1364e-04 - val_mae: 0.0177 - val_root_mean_squared_error: 0.0227\n",
      "Epoch 38/50\n",
      "50/50 [==============================] - 0s 8ms/step - loss: 0.0015 - mae: 0.0273 - root_mean_squared_error: 0.0390 - val_loss: 0.0015 - val_mae: 0.0330 - val_root_mean_squared_error: 0.0390\n",
      "Epoch 39/50\n",
      "50/50 [==============================] - 0s 7ms/step - loss: 0.0016 - mae: 0.0285 - root_mean_squared_error: 0.0405 - val_loss: 8.1893e-04 - val_mae: 0.0225 - val_root_mean_squared_error: 0.0286\n",
      "Epoch 40/50\n",
      "50/50 [==============================] - 0s 7ms/step - loss: 0.0015 - mae: 0.0263 - root_mean_squared_error: 0.0381 - val_loss: 7.7196e-04 - val_mae: 0.0217 - val_root_mean_squared_error: 0.0278\n",
      "Epoch 41/50\n",
      "50/50 [==============================] - 0s 8ms/step - loss: 0.0014 - mae: 0.0261 - root_mean_squared_error: 0.0380 - val_loss: 7.5295e-04 - val_mae: 0.0213 - val_root_mean_squared_error: 0.0274\n",
      "Epoch 42/50\n",
      "50/50 [==============================] - 0s 7ms/step - loss: 0.0014 - mae: 0.0261 - root_mean_squared_error: 0.0378 - val_loss: 8.6188e-04 - val_mae: 0.0229 - val_root_mean_squared_error: 0.0294\n",
      "Epoch 43/50\n",
      "50/50 [==============================] - 0s 8ms/step - loss: 0.0014 - mae: 0.0247 - root_mean_squared_error: 0.0371 - val_loss: 5.7992e-04 - val_mae: 0.0187 - val_root_mean_squared_error: 0.0241\n",
      "Epoch 44/50\n",
      "50/50 [==============================] - 0s 8ms/step - loss: 0.0015 - mae: 0.0270 - root_mean_squared_error: 0.0393 - val_loss: 6.2939e-04 - val_mae: 0.0189 - val_root_mean_squared_error: 0.0251\n",
      "Epoch 45/50\n",
      "50/50 [==============================] - 0s 8ms/step - loss: 0.0014 - mae: 0.0258 - root_mean_squared_error: 0.0377 - val_loss: 5.9720e-04 - val_mae: 0.0183 - val_root_mean_squared_error: 0.0244\n",
      "Epoch 46/50\n",
      "50/50 [==============================] - 0s 8ms/step - loss: 0.0016 - mae: 0.0287 - root_mean_squared_error: 0.0406 - val_loss: 4.6009e-04 - val_mae: 0.0160 - val_root_mean_squared_error: 0.0214\n",
      "Epoch 47/50\n",
      "50/50 [==============================] - 0s 7ms/step - loss: 0.0015 - mae: 0.0268 - root_mean_squared_error: 0.0388 - val_loss: 5.5527e-04 - val_mae: 0.0189 - val_root_mean_squared_error: 0.0236\n",
      "Epoch 48/50\n",
      "50/50 [==============================] - 0s 8ms/step - loss: 0.0016 - mae: 0.0284 - root_mean_squared_error: 0.0400 - val_loss: 5.4367e-04 - val_mae: 0.0186 - val_root_mean_squared_error: 0.0233\n",
      "Epoch 49/50\n",
      "50/50 [==============================] - 0s 7ms/step - loss: 0.0014 - mae: 0.0257 - root_mean_squared_error: 0.0377 - val_loss: 4.9975e-04 - val_mae: 0.0163 - val_root_mean_squared_error: 0.0224\n",
      "Epoch 50/50\n",
      "50/50 [==============================] - 0s 8ms/step - loss: 0.0014 - mae: 0.0252 - root_mean_squared_error: 0.0376 - val_loss: 5.1648e-04 - val_mae: 0.0167 - val_root_mean_squared_error: 0.0227\n"
     ]
    }
   ],
   "source": [
    "model.compile(loss='mean_squared_error',\n",
    "              metrics=['mae', RootMeanSquaredError()],\n",
    "              optimizer='adam')\n",
    "\n",
    "history = model.fit(X_train,\n",
    "                    y_train,\n",
    "                    epochs=50,\n",
    "                    batch_size=32,\n",
    "                    validation_split=0.1)"
   ]
  },
  {
   "cell_type": "code",
   "execution_count": 16,
   "id": "2ee15f9b",
   "metadata": {
    "execution": {
     "iopub.execute_input": "2024-02-05T17:08:55.305064Z",
     "iopub.status.busy": "2024-02-05T17:08:55.304662Z",
     "iopub.status.idle": "2024-02-05T17:08:55.402764Z",
     "shell.execute_reply": "2024-02-05T17:08:55.401885Z"
    },
    "papermill": {
     "duration": 0.165496,
     "end_time": "2024-02-05T17:08:55.404714",
     "exception": false,
     "start_time": "2024-02-05T17:08:55.239218",
     "status": "completed"
    },
    "tags": []
   },
   "outputs": [
    {
     "name": "stdout",
     "output_type": "stream",
     "text": [
      "7/7 [==============================] - 0s 5ms/step - loss: 6.1749e-04 - mae: 0.0184 - root_mean_squared_error: 0.0248\n"
     ]
    },
    {
     "data": {
      "text/plain": [
       "[0.0006174861337058246, 0.018397131934762, 0.024849267676472664]"
      ]
     },
     "execution_count": 16,
     "metadata": {},
     "output_type": "execute_result"
    }
   ],
   "source": [
    "model.evaluate(X_test, y_test)"
   ]
  },
  {
   "cell_type": "markdown",
   "id": "98805a41",
   "metadata": {
    "papermill": {
     "duration": 0.06027,
     "end_time": "2024-02-05T17:08:55.528483",
     "exception": false,
     "start_time": "2024-02-05T17:08:55.468213",
     "status": "completed"
    },
    "tags": []
   },
   "source": [
    "## Model Evaluation"
   ]
  },
  {
   "cell_type": "code",
   "execution_count": 17,
   "id": "c5f5e05f",
   "metadata": {
    "execution": {
     "iopub.execute_input": "2024-02-05T17:08:55.651176Z",
     "iopub.status.busy": "2024-02-05T17:08:55.650841Z",
     "iopub.status.idle": "2024-02-05T17:08:55.891700Z",
     "shell.execute_reply": "2024-02-05T17:08:55.890805Z"
    },
    "papermill": {
     "duration": 0.304649,
     "end_time": "2024-02-05T17:08:55.893740",
     "exception": false,
     "start_time": "2024-02-05T17:08:55.589091",
     "status": "completed"
    },
    "tags": []
   },
   "outputs": [
    {
     "data": {
      "image/png": "[encoded data removed]",
      "text/plain": [
       "<Figure size 640x480 with 1 Axes>"
      ]
     },
     "metadata": {},
     "output_type": "display_data"
    }
   ],
   "source": [
    "plt.plot(history.history['loss'])\n",
    "plt.plot(history.history['val_loss'])\n",
    "plt.title(f'{SHEET_NAME} Model Loss', fontsize=15)\n",
    "plt.ylabel('loss')\n",
    "plt.xlabel('epoch')\n",
    "plt.legend(['train', 'test'])\n",
    "plt.show()"
   ]
  },
  {
   "cell_type": "code",
   "execution_count": 18,
   "id": "9b94d95b",
   "metadata": {
    "execution": {
     "iopub.execute_input": "2024-02-05T17:08:56.018065Z",
     "iopub.status.busy": "2024-02-05T17:08:56.017757Z",
     "iopub.status.idle": "2024-02-05T17:08:57.068367Z",
     "shell.execute_reply": "2024-02-05T17:08:57.067518Z"
    },
    "papermill": {
     "duration": 1.115057,
     "end_time": "2024-02-05T17:08:57.070393",
     "exception": false,
     "start_time": "2024-02-05T17:08:55.955336",
     "status": "completed"
    },
    "tags": []
   },
   "outputs": [
    {
     "name": "stdout",
     "output_type": "stream",
     "text": [
      "7/7 [==============================] - 1s 3ms/step\n"
     ]
    }
   ],
   "source": [
    "y_hat = model.predict(X_test)\n",
    "y_test_inverse = scaler.inverse_transform(y_test)\n",
    "y_hat_inverse = scaler.inverse_transform(y_hat)"
   ]
  },
  {
   "cell_type": "code",
   "execution_count": 19,
   "id": "1bd1a347",
   "metadata": {
    "execution": {
     "iopub.execute_input": "2024-02-05T17:08:57.196642Z",
     "iopub.status.busy": "2024-02-05T17:08:57.196332Z",
     "iopub.status.idle": "2024-02-05T17:08:57.504275Z",
     "shell.execute_reply": "2024-02-05T17:08:57.503341Z"
    },
    "papermill": {
     "duration": 0.372227,
     "end_time": "2024-02-05T17:08:57.506244",
     "exception": false,
     "start_time": "2024-02-05T17:08:57.134017",
     "status": "completed"
    },
    "tags": []
   },
   "outputs": [
    {
     "data": {
      "image/png": "[encoded data removed]",
      "text/plain": [
       "<Figure size 640x480 with 1 Axes>"
      ]
     },
     "metadata": {},
     "output_type": "display_data"
    }
   ],
   "source": [
    "plt.plot(y_test_inverse, label=\"Actual Price\", color='green')\n",
    "plt.plot(y_hat_inverse, label=\"Predicted Price\", color='red')\n",
    " \n",
    "plt.title(f'{SHEET_NAME} Price Prediction\\nLSTM = {LSTM_Layer}, Split Data = {SPLIT}, Window = {WINDOW_SIZE}', fontsize=15)\n",
    "plt.xlabel('Time [days]')\n",
    "plt.ylabel('Price')\n",
    "plt.legend(loc='best')\n",
    " \n",
    "plt.show()"
   ]
  },
  {
   "cell_type": "code",
   "execution_count": 20,
   "id": "4b3eb79f",
   "metadata": {
    "execution": {
     "iopub.execute_input": "2024-02-05T17:08:57.633277Z",
     "iopub.status.busy": "2024-02-05T17:08:57.632961Z",
     "iopub.status.idle": "2024-02-05T17:08:57.641327Z",
     "shell.execute_reply": "2024-02-05T17:08:57.640501Z"
    },
    "papermill": {
     "duration": 0.073414,
     "end_time": "2024-02-05T17:08:57.643181",
     "exception": false,
     "start_time": "2024-02-05T17:08:57.569767",
     "status": "completed"
    },
    "tags": []
   },
   "outputs": [
    {
     "name": "stdout",
     "output_type": "stream",
     "text": [
      "LSTM = 3, Split Data = 0.9, Window = 5\n",
      "\n",
      "----------------- Normalized Error -----------------\n",
      "Mean Absolute Error for prediction : 0.018397133358534164\n",
      "Mean Squared Error for prediction : 0.0006174861317608928\n",
      "Root Mean Squared Error for prediction : 0.024849268233911693\n",
      "\n",
      "----------------- Actual Error -----------------\n",
      "Mean Absolute Error for prediction : 47.39562421085866\n",
      "Mean Squared Error for prediction : 4098.292713492817\n",
      "Root Mean Squared Error for prediction : 64.01790931835261\n"
     ]
    }
   ],
   "source": [
    "def matrices(actual, predicted):\n",
    "    mse = mean_squared_error(actual, predicted)\n",
    "    mae = mean_absolute_error(actual, predicted)\n",
    "    rmse = np.sqrt(mse)\n",
    "    print(\"Mean Absolute Error for prediction :\", mae)\n",
    "    print(\"Mean Squared Error for prediction :\", mse)\n",
    "    print(\"Root Mean Squared Error for prediction :\", rmse)\n",
    "    return mae, mse, rmse\n",
    "\n",
    "print(f\"LSTM = {LSTM_Layer}, Split Data = {SPLIT}, Window = {WINDOW_SIZE}\")\n",
    "print(\"\\n----------------- Normalized Error -----------------\")\n",
    "mae, mse, rmse = matrices(y_test, y_hat)\n",
    "print(\"\\n----------------- Actual Error -----------------\")\n",
    "mae_inverse, mse_inverse, rmse_inverse = matrices(y_test_inverse, y_hat_inverse)"
   ]
  }
 ],
 "metadata": {
  "kaggle": {
   "accelerator": "gpu",
   "dataSources": [],
   "dockerImageVersionId": 30498,
   "isGpuEnabled": true,
   "isInternetEnabled": true,
   "language": "python",
   "sourceType": "notebook"
  },
  "kernelspec": {
   "display_name": "Python 3",
   "language": "python",
   "name": "python3"
  },
  "language_info": {
   "codemirror_mode": {
    "name": "ipython",
    "version": 3
   },
   "file_extension": ".py",
   "mimetype": "text/x-python",
   "name": "python",
   "nbconvert_exporter": "python",
   "pygments_lexer": "ipython3",
   "version": "3.10.10"
  },
  "papermill": {
   "default_parameters": {},
   "duration": 1195.272532,
   "end_time": "2024-02-05T17:09:01.388850",
   "environment_variables": {},
   "exception": null,
   "input_path": "__notebook__.ipynb",
   "output_path": "__notebook__.ipynb",
   "parameters": {},
   "start_time": "2024-02-05T16:49:06.116318",
   "version": "2.4.0"
  }
 },
 "nbformat": 4,
 "nbformat_minor": 5
}
