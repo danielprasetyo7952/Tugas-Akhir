{
 "cells": [
  {
   "cell_type": "code",
   "execution_count": 1,
   "id": "f132b6d5",
   "metadata": {
    "execution": {
     "iopub.execute_input": "2024-02-06T04:23:16.588823Z",
     "iopub.status.busy": "2024-02-06T04:23:16.588441Z",
     "iopub.status.idle": "2024-02-06T04:23:25.526440Z",
     "shell.execute_reply": "2024-02-06T04:23:25.525571Z"
    },
    "papermill": {
     "duration": 8.949166,
     "end_time": "2024-02-06T04:23:25.528886",
     "exception": false,
     "start_time": "2024-02-06T04:23:16.579720",
     "status": "completed"
    },
    "tags": []
   },
   "outputs": [
    {
     "name": "stderr",
     "output_type": "stream",
     "text": [
      "/opt/conda/lib/python3.10/site-packages/tensorflow_io/python/ops/__init__.py:98: UserWarning: unable to load libtensorflow_io_plugins.so: unable to open file: libtensorflow_io_plugins.so, from paths: ['/opt/conda/lib/python3.10/site-packages/tensorflow_io/python/ops/libtensorflow_io_plugins.so']\n",
      "caused by: ['/opt/conda/lib/python3.10/site-packages/tensorflow_io/python/ops/libtensorflow_io_plugins.so: undefined symbol: _ZN3tsl6StatusC1EN10tensorflow5error4CodeESt17basic_string_viewIcSt11char_traitsIcEENS_14SourceLocationE']\n",
      "  warnings.warn(f\"unable to load libtensorflow_io_plugins.so: {e}\")\n",
      "/opt/conda/lib/python3.10/site-packages/tensorflow_io/python/ops/__init__.py:104: UserWarning: file system plugins are not loaded: unable to open file: libtensorflow_io.so, from paths: ['/opt/conda/lib/python3.10/site-packages/tensorflow_io/python/ops/libtensorflow_io.so']\n",
      "caused by: ['/opt/conda/lib/python3.10/site-packages/tensorflow_io/python/ops/libtensorflow_io.so: undefined symbol: _ZTVN10tensorflow13GcsFileSystemE']\n",
      "  warnings.warn(f\"file system plugins are not loaded: {e}\")\n"
     ]
    }
   ],
   "source": [
    "import pandas as pd\n",
    "import numpy as np\n",
    "import tensorflow as tf\n",
    "import matplotlib.pyplot as plt\n",
    "import datetime, pytz\n",
    "\n",
    "from keras.models import Sequential\n",
    "from keras.layers import LSTM, Dense\n",
    "from keras.metrics import RootMeanSquaredError\n",
    "\n",
    "from sklearn.preprocessing import MinMaxScaler\n",
    "from sklearn.metrics import mean_squared_error, mean_absolute_error"
   ]
  },
  {
   "cell_type": "markdown",
   "id": "a6cec8e8",
   "metadata": {
    "papermill": {
     "duration": 0.0066,
     "end_time": "2024-02-06T04:23:25.542515",
     "exception": false,
     "start_time": "2024-02-06T04:23:25.535915",
     "status": "completed"
    },
    "tags": []
   },
   "source": [
    "## Hyperparameter"
   ]
  },
  {
   "cell_type": "code",
   "execution_count": 2,
   "id": "3955a214",
   "metadata": {
    "execution": {
     "iopub.execute_input": "2024-02-06T04:23:25.557108Z",
     "iopub.status.busy": "2024-02-06T04:23:25.556413Z",
     "iopub.status.idle": "2024-02-06T04:23:25.561397Z",
     "shell.execute_reply": "2024-02-06T04:23:25.560587Z"
    },
    "papermill": {
     "duration": 0.014309,
     "end_time": "2024-02-06T04:23:25.563318",
     "exception": false,
     "start_time": "2024-02-06T04:23:25.549009",
     "status": "completed"
    },
    "tags": []
   },
   "outputs": [],
   "source": [
    "# Google Spreadsheet ID\n",
    "SHEET_ID = '1JDNv_mArl-GPIpxuWS5GxgVEwvjXocS1MrXGc6TYs8M'\n",
    "SHEET_NAME = 'SGD/IDR' # USD/IDR, EUR/IDR, SGD/IDR\n",
    "\n",
    "SEQ_LEN = 6 # 6, 11, 21\n",
    "SPLIT = 0.90 # 0.80, 0.90\n",
    "LSTM_Layer = 1 # 1, 2, 3\n",
    "WINDOW_SIZE = SEQ_LEN - 1"
   ]
  },
  {
   "cell_type": "code",
   "execution_count": 3,
   "id": "2d061c69",
   "metadata": {
    "execution": {
     "iopub.execute_input": "2024-02-06T04:23:25.577414Z",
     "iopub.status.busy": "2024-02-06T04:23:25.577148Z",
     "iopub.status.idle": "2024-02-06T04:23:27.157139Z",
     "shell.execute_reply": "2024-02-06T04:23:27.156024Z"
    },
    "papermill": {
     "duration": 1.589675,
     "end_time": "2024-02-06T04:23:27.159496",
     "exception": false,
     "start_time": "2024-02-06T04:23:25.569821",
     "status": "completed"
    },
    "tags": []
   },
   "outputs": [
    {
     "name": "stdout",
     "output_type": "stream",
     "text": [
      "<class 'pandas.core.frame.DataFrame'>\n",
      "RangeIndex: 1959 entries, 0 to 1958\n",
      "Data columns (total 2 columns):\n",
      " #   Column  Non-Null Count  Dtype         \n",
      "---  ------  --------------  -----         \n",
      " 0   Date    1959 non-null   datetime64[ns]\n",
      " 1   Close   1959 non-null   float64       \n",
      "dtypes: datetime64[ns](1), float64(1)\n",
      "memory usage: 30.7 KB\n"
     ]
    }
   ],
   "source": [
    "url = f'https://docs.google.com/spreadsheets/d/{SHEET_ID}/gviz/tq?tqx=out:csv&sheet={SHEET_NAME}'\n",
    "data = pd.read_csv(url)\n",
    "\n",
    "# Convert Date columns to datetime format\n",
    "data['Date'] = pd.to_datetime(data['Date'], format='%d/%m/%Y %H:%M:%S')\n",
    "data.info()"
   ]
  },
  {
   "cell_type": "markdown",
   "id": "bfa8b865",
   "metadata": {
    "papermill": {
     "duration": 0.006828,
     "end_time": "2024-02-06T04:23:27.173277",
     "exception": false,
     "start_time": "2024-02-06T04:23:27.166449",
     "status": "completed"
    },
    "tags": []
   },
   "source": [
    "## Preprocessing"
   ]
  },
  {
   "cell_type": "code",
   "execution_count": 4,
   "id": "c8cea013",
   "metadata": {
    "execution": {
     "iopub.execute_input": "2024-02-06T04:23:27.188011Z",
     "iopub.status.busy": "2024-02-06T04:23:27.187658Z",
     "iopub.status.idle": "2024-02-06T04:23:27.200247Z",
     "shell.execute_reply": "2024-02-06T04:23:27.199251Z"
    },
    "papermill": {
     "duration": 0.02264,
     "end_time": "2024-02-06T04:23:27.202626",
     "exception": false,
     "start_time": "2024-02-06T04:23:27.179986",
     "status": "completed"
    },
    "tags": []
   },
   "outputs": [
    {
     "name": "stderr",
     "output_type": "stream",
     "text": [
      "/tmp/ipykernel_26/2274720815.py:7: SettingWithCopyWarning: \n",
      "A value is trying to be set on a copy of a slice from a DataFrame\n",
      "\n",
      "See the caveats in the documentation: https://pandas.pydata.org/pandas-docs/stable/user_guide/indexing.html#returning-a-view-versus-a-copy\n",
      "  data[data < lower_bound] = lower_bound\n",
      "/tmp/ipykernel_26/2274720815.py:8: SettingWithCopyWarning: \n",
      "A value is trying to be set on a copy of a slice from a DataFrame\n",
      "\n",
      "See the caveats in the documentation: https://pandas.pydata.org/pandas-docs/stable/user_guide/indexing.html#returning-a-view-versus-a-copy\n",
      "  data[data > upper_bound] = upper_bound\n"
     ]
    }
   ],
   "source": [
    "def replace_outliers(data):\n",
    "    Q1 = np.percentile(data, 25)\n",
    "    Q3 = np.percentile(data, 75)\n",
    "    IQR = Q3 - Q1\n",
    "    lower_bound = Q1 - 1.5 * IQR\n",
    "    upper_bound = Q3 + 1.5 * IQR\n",
    "    data[data < lower_bound] = lower_bound\n",
    "    data[data > upper_bound] = upper_bound\n",
    "    return data\n",
    "\n",
    "data['Close'] = replace_outliers(data['Close'])"
   ]
  },
  {
   "cell_type": "code",
   "execution_count": 5,
   "id": "5896473d",
   "metadata": {
    "execution": {
     "iopub.execute_input": "2024-02-06T04:23:27.218583Z",
     "iopub.status.busy": "2024-02-06T04:23:27.218296Z",
     "iopub.status.idle": "2024-02-06T04:23:27.486197Z",
     "shell.execute_reply": "2024-02-06T04:23:27.485239Z"
    },
    "papermill": {
     "duration": 0.278111,
     "end_time": "2024-02-06T04:23:27.488496",
     "exception": false,
     "start_time": "2024-02-06T04:23:27.210385",
     "status": "completed"
    },
    "tags": []
   },
   "outputs": [
    {
     "data": {
      "image/png": "[encoded data removed]",
      "text/plain": [
       "<Figure size 640x480 with 1 Axes>"
      ]
     },
     "metadata": {},
     "output_type": "display_data"
    }
   ],
   "source": [
    "# Boxplot for outlier detection\n",
    "plt.boxplot(data['Close'])\n",
    "plt.title(f\"{SHEET_NAME} Boxplot for Outlier Detection\")\n",
    "plt.xlabel(\"Close\")\n",
    "plt.ylabel(\"Values\")\n",
    "plt.show()"
   ]
  },
  {
   "cell_type": "code",
   "execution_count": 6,
   "id": "42f57e77",
   "metadata": {
    "execution": {
     "iopub.execute_input": "2024-02-06T04:23:27.505528Z",
     "iopub.status.busy": "2024-02-06T04:23:27.505202Z",
     "iopub.status.idle": "2024-02-06T04:23:27.512756Z",
     "shell.execute_reply": "2024-02-06T04:23:27.511966Z"
    },
    "papermill": {
     "duration": 0.018227,
     "end_time": "2024-02-06T04:23:27.514634",
     "exception": false,
     "start_time": "2024-02-06T04:23:27.496407",
     "status": "completed"
    },
    "tags": []
   },
   "outputs": [
    {
     "data": {
      "text/plain": [
       "(1959, 1)"
      ]
     },
     "execution_count": 6,
     "metadata": {},
     "output_type": "execute_result"
    }
   ],
   "source": [
    "scaler = MinMaxScaler()\n",
    "close_price = data.Close.values.reshape(-1, 1)\n",
    "scaled_close = scaler.fit_transform(close_price)\n",
    "scaled_close.shape"
   ]
  },
  {
   "cell_type": "code",
   "execution_count": 7,
   "id": "dbbec27b",
   "metadata": {
    "execution": {
     "iopub.execute_input": "2024-02-06T04:23:27.530776Z",
     "iopub.status.busy": "2024-02-06T04:23:27.530121Z",
     "iopub.status.idle": "2024-02-06T04:23:27.539471Z",
     "shell.execute_reply": "2024-02-06T04:23:27.538779Z"
    },
    "papermill": {
     "duration": 0.019646,
     "end_time": "2024-02-06T04:23:27.541505",
     "exception": false,
     "start_time": "2024-02-06T04:23:27.521859",
     "status": "completed"
    },
    "tags": []
   },
   "outputs": [],
   "source": [
    "def to_sequences(data, seq_len):\n",
    "    d = []\n",
    "    for index in range(len(data) - seq_len):\n",
    "        d.append(data[index: index + seq_len])\n",
    "    return np.array(d)\n",
    "\n",
    "def preprocess(data_raw, seq_len, train_split):\n",
    "    data = to_sequences(data_raw, seq_len)\n",
    "    num_train = int(train_split * data.shape[0])\n",
    "    X_train = data[:num_train, :-1, :]\n",
    "    y_train = data[:num_train, -1, :]\n",
    "    X_test = data[num_train:, :-1, :]\n",
    "    y_test = data[num_train:, -1, :]\n",
    "    return X_train, y_train, X_test, y_test\n",
    "\n",
    "X_train, y_train, X_test, y_test = preprocess(scaled_close, SEQ_LEN, train_split = SPLIT)"
   ]
  },
  {
   "cell_type": "markdown",
   "id": "3b73c8df",
   "metadata": {
    "papermill": {
     "duration": 0.007111,
     "end_time": "2024-02-06T04:23:27.556109",
     "exception": false,
     "start_time": "2024-02-06T04:23:27.548998",
     "status": "completed"
    },
    "tags": []
   },
   "source": [
    "## Genetic Algorithm"
   ]
  },
  {
   "cell_type": "code",
   "execution_count": 8,
   "id": "676642d3",
   "metadata": {
    "execution": {
     "iopub.execute_input": "2024-02-06T04:23:27.572696Z",
     "iopub.status.busy": "2024-02-06T04:23:27.572371Z",
     "iopub.status.idle": "2024-02-06T04:23:27.578241Z",
     "shell.execute_reply": "2024-02-06T04:23:27.577354Z"
    },
    "papermill": {
     "duration": 0.016449,
     "end_time": "2024-02-06T04:23:27.580118",
     "exception": false,
     "start_time": "2024-02-06T04:23:27.563669",
     "status": "completed"
    },
    "tags": []
   },
   "outputs": [],
   "source": [
    "def decimal_to_binary(chromosome: list):\n",
    "    binary_string = ''.join([bin(x)[2:].zfill(8) for x in chromosome])\n",
    "    return binary_string\n",
    "\n",
    "def binary_to_decimal(binary_string: str):\n",
    "    decimal_array = [int(binary, 2) for binary in [binary_string[i:i+8] for i in range(0, len(binary_string), 8)]]\n",
    "    return decimal_array"
   ]
  },
  {
   "cell_type": "code",
   "execution_count": 9,
   "id": "06c0402a",
   "metadata": {
    "execution": {
     "iopub.execute_input": "2024-02-06T04:23:27.595890Z",
     "iopub.status.busy": "2024-02-06T04:23:27.595602Z",
     "iopub.status.idle": "2024-02-06T04:23:27.614882Z",
     "shell.execute_reply": "2024-02-06T04:23:27.614050Z"
    },
    "papermill": {
     "duration": 0.029314,
     "end_time": "2024-02-06T04:23:27.616725",
     "exception": false,
     "start_time": "2024-02-06T04:23:27.587411",
     "status": "completed"
    },
    "tags": []
   },
   "outputs": [],
   "source": [
    "# Genetic Algorithm\n",
    "def genetic_algorithm(generations, mutation_rate):\n",
    "    print(f\"Inizialized Population...\")\n",
    "    population = np.random.randint(1, high=251, size=(10, 3))\n",
    "    fitness_scores = np.array([fitness_function(chromosome) for chromosome in population])\n",
    "    max_fitness_each_gen = []\n",
    "    \n",
    "    for generation in range(generations):\n",
    "        print(f\"Generation - {generation + 1}\")\n",
    "        max_fitness_each_gen.append(np.max(fitness_scores))\n",
    "        \n",
    "        chromosome_1 = selection(population, fitness_scores)\n",
    "        chromosome_2 = selection(population, fitness_scores)\n",
    "        \n",
    "        if generation % mutation_rate == 0:\n",
    "            chromosome_1 = mutate(chromosome_1)\n",
    "            chromosome_2 = mutate(chromosome_2)\n",
    "        else:\n",
    "            chromosome_1, chromosome_2 = crossover(chromosome_1, chromosome_2)\n",
    "\n",
    "        fitness_score_1 = fitness_function(chromosome_1)\n",
    "        fitness_score_2 = fitness_function(chromosome_2)\n",
    "        \n",
    "        worst_index = np.argmin(fitness_scores)\n",
    "        worst_fitness = fitness_scores[worst_index]\n",
    "\n",
    "        if fitness_score_1 > worst_fitness:\n",
    "            population[worst_index] = chromosome_1\n",
    "            fitness_scores[worst_index] = fitness_score_1\n",
    "            worst_index = np.argmin(fitness_scores)\n",
    "            worst_fitness = fitness_scores[worst_index]\n",
    "\n",
    "        if fitness_score_2 > worst_fitness:\n",
    "            population[worst_index] = chromosome_2\n",
    "            fitness_scores[worst_index] = fitness_score_2\n",
    "        \n",
    "        # Release some memory\n",
    "        del chromosome_1, chromosome_2\n",
    "        del fitness_score_1, fitness_score_2\n",
    "        del worst_index, worst_fitness\n",
    "            \n",
    "    best_chromosome = population[np.argmax(fitness_scores)]\n",
    "    best_fitness = np.max(fitness_scores)\n",
    "    \n",
    "    return best_chromosome, best_fitness, max_fitness_each_gen\n",
    "\n",
    "# Selection (Tournament selection)\n",
    "def selection(population, fitness_scores, tournament_size=3):\n",
    "    indices = np.random.randint(len(population), size=tournament_size)\n",
    "    tournament = population[indices]\n",
    "    tournament_fitness = fitness_scores[indices]\n",
    "    return tournament[np.argmax(tournament_fitness)]\n",
    "\n",
    "# Crossover (Single-point crossover)\n",
    "def crossover(parent_1: list, parent_2: list):\n",
    "    parent_1 = decimal_to_binary(parent_1)\n",
    "    parent_2 = decimal_to_binary(parent_2)\n",
    "    \n",
    "    crossover_point = np.random.randint(1, len(parent_1))\n",
    "    offspring_1 = parent_1[:crossover_point] + parent_2[crossover_point:]\n",
    "    offspring_2 = parent_2[:crossover_point] + parent_1[crossover_point:]\n",
    "    \n",
    "    offspring_1 = binary_to_decimal(offspring_1)\n",
    "    offspring_2 = binary_to_decimal(offspring_2)\n",
    "    return offspring_1, offspring_2\n",
    "\n",
    "# Mutation (Swap Mutation)\n",
    "def mutate(chromosome: list):\n",
    "    chromosome = decimal_to_binary(chromosome)\n",
    "    \n",
    "    chromosome_list = list(chromosome)\n",
    "    i = np.random.randint(len(chromosome_list), size=2)\n",
    "    chromosome_list[i[0]], chromosome_list[i[1]] = chromosome_list[i[1]], chromosome_list[i[0]]\n",
    "    \n",
    "    chromosome_list = ''.join(chromosome_list)\n",
    "    chromosome = binary_to_decimal(chromosome_list)\n",
    "    return chromosome\n",
    "\n",
    "# Fitness Function\n",
    "def fitness_function(chromosome: list):\n",
    "    lstm_units = [int(chromosome[i]) or default for i, default in enumerate([128, 64, 32])]\n",
    "\n",
    "    # Build the LSTM model\n",
    "    tf.keras.backend.clear_session()\n",
    "    model = Sequential()\n",
    "    for i, units in enumerate(lstm_units[:LSTM_Layer]):\n",
    "        model.add(LSTM(units, return_sequences=(i < LSTM_Layer - 1), input_shape=(WINDOW_SIZE, 1)))\n",
    "    model.add(Dense(1))\n",
    "    \n",
    "    # Compile and train the model\n",
    "    model.compile(loss='mean_squared_error',\n",
    "                  optimizer='adam')\n",
    "    model.fit(X_train, y_train,\n",
    "              epochs=10,\n",
    "              batch_size=32,\n",
    "              verbose=0,\n",
    "              validation_split=0.1)\n",
    "\n",
    "    # Evaluate the model\n",
    "    loss = model.evaluate(X_test, y_test)\n",
    "\n",
    "    # Return the negative value of the loss as the fitness score\n",
    "    return -loss"
   ]
  },
  {
   "cell_type": "code",
   "execution_count": 10,
   "id": "bc99110b",
   "metadata": {
    "execution": {
     "iopub.execute_input": "2024-02-06T04:23:27.632538Z",
     "iopub.status.busy": "2024-02-06T04:23:27.632258Z",
     "iopub.status.idle": "2024-02-06T04:23:27.637976Z",
     "shell.execute_reply": "2024-02-06T04:23:27.637192Z"
    },
    "papermill": {
     "duration": 0.015941,
     "end_time": "2024-02-06T04:23:27.639890",
     "exception": false,
     "start_time": "2024-02-06T04:23:27.623949",
     "status": "completed"
    },
    "tags": []
   },
   "outputs": [],
   "source": [
    "import typing\n",
    "from datetime import datetime\n",
    "\n",
    "def timer(start_time: datetime = None) -> \"typing.Union[datetime.datetime, str]\":\n",
    "    if not start_time:\n",
    "        start_time = datetime.now()\n",
    "        return start_time\n",
    "    elif start_time:\n",
    "        thour, temp_sec = divmod((datetime.now() - start_time).total_seconds(), 3600)\n",
    "        tmin, tsec = divmod(temp_sec, 60)\n",
    "        return \"%i hours %i minutes and %s seconds.\" % (\n",
    "            thour,\n",
    "            tmin,\n",
    "            round(tsec, 2),\n",
    "        )"
   ]
  },
  {
   "cell_type": "code",
   "execution_count": 11,
   "id": "9a739a31",
   "metadata": {
    "execution": {
     "iopub.execute_input": "2024-02-06T04:23:27.656287Z",
     "iopub.status.busy": "2024-02-06T04:23:27.656012Z",
     "iopub.status.idle": "2024-02-06T04:32:25.676750Z",
     "shell.execute_reply": "2024-02-06T04:32:25.675452Z"
    },
    "papermill": {
     "duration": 538.031591,
     "end_time": "2024-02-06T04:32:25.678901",
     "exception": false,
     "start_time": "2024-02-06T04:23:27.647310",
     "status": "completed"
    },
    "tags": []
   },
   "outputs": [
    {
     "name": "stdout",
     "output_type": "stream",
     "text": [
      "Inizialized Population...\n",
      "7/7 [==============================] - 0s 3ms/step - loss: 5.0522e-04\n",
      "7/7 [==============================] - 0s 3ms/step - loss: 0.0047\n",
      "7/7 [==============================] - 0s 3ms/step - loss: 6.5318e-04\n",
      "7/7 [==============================] - 0s 3ms/step - loss: 0.3914\n",
      "7/7 [==============================] - 0s 3ms/step - loss: 0.0016\n",
      "7/7 [==============================] - 0s 3ms/step - loss: 5.9989e-04\n",
      "7/7 [==============================] - 0s 3ms/step - loss: 8.9346e-04\n",
      "7/7 [==============================] - 0s 3ms/step - loss: 0.0123\n",
      "7/7 [==============================] - 0s 3ms/step - loss: 5.6826e-04\n",
      "7/7 [==============================] - 0s 3ms/step - loss: 7.7849e-04\n",
      "Generation - 1\n",
      "7/7 [==============================] - 0s 3ms/step - loss: 8.5711e-04\n",
      "7/7 [==============================] - 0s 2ms/step - loss: 7.9959e-04\n",
      "Generation - 2\n",
      "7/7 [==============================] - 0s 3ms/step - loss: 0.0017\n",
      "7/7 [==============================] - 0s 3ms/step - loss: 6.8288e-04\n",
      "Generation - 3\n",
      "7/7 [==============================] - 0s 3ms/step - loss: 5.7904e-04\n",
      "7/7 [==============================] - 0s 3ms/step - loss: 5.5372e-04\n",
      "Generation - 4\n",
      "7/7 [==============================] - 0s 3ms/step - loss: 6.9419e-04\n",
      "7/7 [==============================] - 0s 3ms/step - loss: 4.5593e-04\n",
      "Generation - 5\n",
      "7/7 [==============================] - 0s 3ms/step - loss: 6.6659e-04\n",
      "7/7 [==============================] - 0s 3ms/step - loss: 4.7899e-04\n",
      "Generation - 6\n",
      "7/7 [==============================] - 0s 4ms/step - loss: 0.0011\n",
      "7/7 [==============================] - 0s 3ms/step - loss: 5.1674e-04\n",
      "Generation - 7\n",
      "7/7 [==============================] - 0s 3ms/step - loss: 0.0035\n",
      "7/7 [==============================] - 0s 2ms/step - loss: 0.0013\n",
      "Generation - 8\n",
      "7/7 [==============================] - 0s 3ms/step - loss: 6.9614e-04\n",
      "7/7 [==============================] - 0s 3ms/step - loss: 0.0012\n",
      "Generation - 9\n",
      "7/7 [==============================] - 0s 3ms/step - loss: 4.7323e-04\n",
      "7/7 [==============================] - 0s 3ms/step - loss: 5.1888e-04\n",
      "Generation - 10\n",
      "7/7 [==============================] - 0s 3ms/step - loss: 0.0029\n",
      "7/7 [==============================] - 0s 3ms/step - loss: 5.6988e-04\n",
      "Generation - 11\n",
      "7/7 [==============================] - 0s 3ms/step - loss: 5.1511e-04\n",
      "7/7 [==============================] - 0s 3ms/step - loss: 8.1655e-04\n",
      "Generation - 12\n",
      "7/7 [==============================] - 0s 3ms/step - loss: 6.7489e-04\n",
      "7/7 [==============================] - 0s 3ms/step - loss: 7.4883e-04\n",
      "Generation - 13\n",
      "7/7 [==============================] - 0s 3ms/step - loss: 7.5183e-04\n",
      "7/7 [==============================] - 0s 3ms/step - loss: 5.5885e-04\n",
      "Generation - 14\n",
      "7/7 [==============================] - 0s 3ms/step - loss: 0.0013\n",
      "7/7 [==============================] - 0s 3ms/step - loss: 5.6437e-04\n",
      "Generation - 15\n",
      "7/7 [==============================] - 0s 3ms/step - loss: 6.1187e-04\n",
      "7/7 [==============================] - 0s 3ms/step - loss: 4.4926e-04\n",
      "Generation - 16\n",
      "7/7 [==============================] - 0s 3ms/step - loss: 4.9694e-04\n",
      "7/7 [==============================] - 0s 3ms/step - loss: 0.0013\n",
      "Generation - 17\n",
      "7/7 [==============================] - 0s 3ms/step - loss: 4.8267e-04\n",
      "7/7 [==============================] - 0s 3ms/step - loss: 0.0010\n",
      "Generation - 18\n",
      "7/7 [==============================] - 0s 3ms/step - loss: 6.6057e-04\n",
      "7/7 [==============================] - 0s 3ms/step - loss: 7.0046e-04\n",
      "Generation - 19\n",
      "7/7 [==============================] - 0s 3ms/step - loss: 6.5124e-04\n",
      "7/7 [==============================] - 0s 3ms/step - loss: 5.1258e-04\n",
      "Generation - 20\n",
      "7/7 [==============================] - 0s 3ms/step - loss: 0.0018\n",
      "7/7 [==============================] - 0s 3ms/step - loss: 4.8979e-04\n",
      "Generation - 21\n",
      "7/7 [==============================] - 0s 3ms/step - loss: 6.4222e-04\n",
      "7/7 [==============================] - 0s 3ms/step - loss: 6.2279e-04\n",
      "Generation - 22\n",
      "7/7 [==============================] - 0s 3ms/step - loss: 6.0361e-04\n",
      "7/7 [==============================] - 0s 3ms/step - loss: 4.8082e-04\n",
      "Generation - 23\n",
      "7/7 [==============================] - 0s 3ms/step - loss: 9.1917e-04\n",
      "7/7 [==============================] - 0s 4ms/step - loss: 9.2459e-04\n",
      "Generation - 24\n",
      "7/7 [==============================] - 0s 3ms/step - loss: 4.5371e-04\n",
      "7/7 [==============================] - 0s 2ms/step - loss: 0.0020\n",
      "Generation - 25\n",
      "7/7 [==============================] - 0s 2ms/step - loss: 4.8510e-04\n",
      "7/7 [==============================] - 0s 3ms/step - loss: 4.6339e-04\n",
      "Generation - 26\n",
      "7/7 [==============================] - 0s 3ms/step - loss: 8.4681e-04\n",
      "7/7 [==============================] - 0s 3ms/step - loss: 4.5800e-04\n",
      "Generation - 27\n",
      "7/7 [==============================] - 0s 3ms/step - loss: 9.1036e-04\n",
      "7/7 [==============================] - 0s 3ms/step - loss: 5.1474e-04\n",
      "Generation - 28\n",
      "7/7 [==============================] - 0s 3ms/step - loss: 5.6823e-04\n",
      "7/7 [==============================] - 0s 3ms/step - loss: 0.0013\n",
      "Generation - 29\n",
      "7/7 [==============================] - 0s 3ms/step - loss: 4.5045e-04\n",
      "7/7 [==============================] - 0s 3ms/step - loss: 0.0018\n",
      "Generation - 30\n",
      "7/7 [==============================] - 0s 3ms/step - loss: 7.9468e-04\n",
      "7/7 [==============================] - 0s 3ms/step - loss: 7.3571e-04\n",
      "Generation - 31\n",
      "7/7 [==============================] - 0s 3ms/step - loss: 0.0011\n",
      "7/7 [==============================] - 0s 2ms/step - loss: 6.1984e-04\n",
      "Generation - 32\n",
      "7/7 [==============================] - 0s 3ms/step - loss: 0.0015\n",
      "7/7 [==============================] - 0s 3ms/step - loss: 9.5055e-04\n",
      "Generation - 33\n",
      "7/7 [==============================] - 0s 2ms/step - loss: 0.0011\n",
      "7/7 [==============================] - 0s 3ms/step - loss: 5.4944e-04\n",
      "Generation - 34\n",
      "7/7 [==============================] - 0s 3ms/step - loss: 4.6943e-04\n",
      "7/7 [==============================] - 0s 3ms/step - loss: 4.6895e-04\n",
      "Generation - 35\n",
      "7/7 [==============================] - 0s 3ms/step - loss: 7.4331e-04\n",
      "7/7 [==============================] - 0s 3ms/step - loss: 4.1335e-04\n",
      "Generation - 36\n",
      "7/7 [==============================] - 0s 3ms/step - loss: 0.0018\n",
      "7/7 [==============================] - 0s 3ms/step - loss: 0.0020\n",
      "Generation - 37\n",
      "7/7 [==============================] - 0s 3ms/step - loss: 0.0020\n",
      "7/7 [==============================] - 0s 3ms/step - loss: 0.0016\n",
      "Generation - 38\n",
      "7/7 [==============================] - 0s 3ms/step - loss: 0.0023\n",
      "7/7 [==============================] - 0s 3ms/step - loss: 5.4881e-04\n",
      "Generation - 39\n",
      "7/7 [==============================] - 0s 3ms/step - loss: 0.0017\n",
      "7/7 [==============================] - 0s 3ms/step - loss: 6.0159e-04\n",
      "Generation - 40\n",
      "7/7 [==============================] - 0s 3ms/step - loss: 4.8805e-04\n",
      "7/7 [==============================] - 0s 3ms/step - loss: 0.0013\n",
      "Generation - 41\n",
      "7/7 [==============================] - 0s 3ms/step - loss: 0.0011\n",
      "7/7 [==============================] - 0s 3ms/step - loss: 6.7142e-04\n",
      "Generation - 42\n",
      "7/7 [==============================] - 0s 3ms/step - loss: 5.7774e-04\n",
      "7/7 [==============================] - 0s 3ms/step - loss: 0.0017\n",
      "Generation - 43\n",
      "7/7 [==============================] - 0s 3ms/step - loss: 0.0012\n",
      "7/7 [==============================] - 0s 3ms/step - loss: 4.5053e-04\n",
      "Generation - 44\n",
      "7/7 [==============================] - 0s 4ms/step - loss: 5.4034e-04\n",
      "7/7 [==============================] - 0s 3ms/step - loss: 0.0024\n",
      "Generation - 45\n",
      "7/7 [==============================] - 0s 3ms/step - loss: 4.8813e-04\n",
      "7/7 [==============================] - 0s 3ms/step - loss: 0.0030\n",
      "Generation - 46\n",
      "7/7 [==============================] - 0s 3ms/step - loss: 5.0719e-04\n",
      "7/7 [==============================] - 0s 3ms/step - loss: 0.0013\n",
      "Generation - 47\n",
      "7/7 [==============================] - 0s 3ms/step - loss: 6.3233e-04\n",
      "7/7 [==============================] - 0s 3ms/step - loss: 4.6178e-04\n",
      "Generation - 48\n",
      "7/7 [==============================] - 0s 3ms/step - loss: 6.5948e-04\n",
      "7/7 [==============================] - 0s 3ms/step - loss: 4.6463e-04\n",
      "Generation - 49\n",
      "7/7 [==============================] - 0s 3ms/step - loss: 7.4429e-04\n",
      "7/7 [==============================] - 0s 3ms/step - loss: 6.2727e-04\n",
      "Generation - 50\n",
      "7/7 [==============================] - 0s 3ms/step - loss: 4.7320e-04\n",
      "7/7 [==============================] - 0s 3ms/step - loss: 0.0010\n"
     ]
    }
   ],
   "source": [
    "# Do not increase this value\n",
    "generations = 50\n",
    "mutation_rate = 5\n",
    "\n",
    "time = timer(None)\n",
    "best_chromosome, best_fitness, max_fitness_each_gen = genetic_algorithm(generations, mutation_rate)\n",
    "time = timer(time)"
   ]
  },
  {
   "cell_type": "code",
   "execution_count": 12,
   "id": "cf2feb1b",
   "metadata": {
    "execution": {
     "iopub.execute_input": "2024-02-06T04:32:25.736540Z",
     "iopub.status.busy": "2024-02-06T04:32:25.735806Z",
     "iopub.status.idle": "2024-02-06T04:32:25.741614Z",
     "shell.execute_reply": "2024-02-06T04:32:25.740503Z"
    },
    "papermill": {
     "duration": 0.037222,
     "end_time": "2024-02-06T04:32:25.743845",
     "exception": false,
     "start_time": "2024-02-06T04:32:25.706623",
     "status": "completed"
    },
    "tags": []
   },
   "outputs": [
    {
     "name": "stdout",
     "output_type": "stream",
     "text": [
      "Best Chromosome: [ 91 135  39]\n",
      "Best Fitness: -0.0004133508773520589\n",
      "Time Taken: 0 hours 8 minutes and 58.02 seconds.\n"
     ]
    }
   ],
   "source": [
    "print(\"Best Chromosome:\", best_chromosome)\n",
    "print(\"Best Fitness:\", best_fitness)\n",
    "print(\"Time Taken:\", time)"
   ]
  },
  {
   "cell_type": "code",
   "execution_count": 13,
   "id": "788bf62c",
   "metadata": {
    "execution": {
     "iopub.execute_input": "2024-02-06T04:32:25.799390Z",
     "iopub.status.busy": "2024-02-06T04:32:25.799076Z",
     "iopub.status.idle": "2024-02-06T04:32:25.805307Z",
     "shell.execute_reply": "2024-02-06T04:32:25.804458Z"
    },
    "papermill": {
     "duration": 0.036405,
     "end_time": "2024-02-06T04:32:25.807290",
     "exception": false,
     "start_time": "2024-02-06T04:32:25.770885",
     "status": "completed"
    },
    "tags": []
   },
   "outputs": [
    {
     "data": {
      "text/plain": [
       "[-0.0005052155465818942,\n",
       " -0.0005052155465818942,\n",
       " -0.0005052155465818942,\n",
       " -0.0005052155465818942,\n",
       " -0.00045592585229314864,\n",
       " -0.00045592585229314864,\n",
       " -0.00045592585229314864,\n",
       " -0.00045592585229314864,\n",
       " -0.00045592585229314864,\n",
       " -0.00045592585229314864,\n",
       " -0.00045592585229314864,\n",
       " -0.00045592585229314864,\n",
       " -0.00045592585229314864,\n",
       " -0.00045592585229314864,\n",
       " -0.00045592585229314864,\n",
       " -0.00044926401460543275,\n",
       " -0.00044926401460543275,\n",
       " -0.00044926401460543275,\n",
       " -0.00044926401460543275,\n",
       " -0.00044926401460543275,\n",
       " -0.00044926401460543275,\n",
       " -0.00044926401460543275,\n",
       " -0.00044926401460543275,\n",
       " -0.00044926401460543275,\n",
       " -0.00044926401460543275,\n",
       " -0.00044926401460543275,\n",
       " -0.00044926401460543275,\n",
       " -0.00044926401460543275,\n",
       " -0.00044926401460543275,\n",
       " -0.00044926401460543275,\n",
       " -0.00044926401460543275,\n",
       " -0.00044926401460543275,\n",
       " -0.00044926401460543275,\n",
       " -0.00044926401460543275,\n",
       " -0.00044926401460543275,\n",
       " -0.0004133508773520589,\n",
       " -0.0004133508773520589,\n",
       " -0.0004133508773520589,\n",
       " -0.0004133508773520589,\n",
       " -0.0004133508773520589,\n",
       " -0.0004133508773520589,\n",
       " -0.0004133508773520589,\n",
       " -0.0004133508773520589,\n",
       " -0.0004133508773520589,\n",
       " -0.0004133508773520589,\n",
       " -0.0004133508773520589,\n",
       " -0.0004133508773520589,\n",
       " -0.0004133508773520589,\n",
       " -0.0004133508773520589,\n",
       " -0.0004133508773520589]"
      ]
     },
     "execution_count": 13,
     "metadata": {},
     "output_type": "execute_result"
    }
   ],
   "source": [
    "max_fitness_each_gen"
   ]
  },
  {
   "cell_type": "markdown",
   "id": "eb61b583",
   "metadata": {
    "papermill": {
     "duration": 0.026742,
     "end_time": "2024-02-06T04:32:25.860995",
     "exception": false,
     "start_time": "2024-02-06T04:32:25.834253",
     "status": "completed"
    },
    "tags": []
   },
   "source": [
    "## Re-Training Model with Best Parameter"
   ]
  },
  {
   "cell_type": "code",
   "execution_count": 14,
   "id": "78893013",
   "metadata": {
    "execution": {
     "iopub.execute_input": "2024-02-06T04:32:25.917259Z",
     "iopub.status.busy": "2024-02-06T04:32:25.916321Z",
     "iopub.status.idle": "2024-02-06T04:32:26.183800Z",
     "shell.execute_reply": "2024-02-06T04:32:26.182664Z"
    },
    "papermill": {
     "duration": 0.300592,
     "end_time": "2024-02-06T04:32:26.188737",
     "exception": false,
     "start_time": "2024-02-06T04:32:25.888145",
     "status": "completed"
    },
    "tags": []
   },
   "outputs": [
    {
     "name": "stdout",
     "output_type": "stream",
     "text": [
      "Model: \"sequential_1\"\n",
      "_________________________________________________________________\n",
      " Layer (type)                Output Shape              Param #   \n",
      "=================================================================\n",
      " lstm_1 (LSTM)               (None, 91)                33852     \n",
      "                                                                 \n",
      " dense_1 (Dense)             (None, 1)                 92        \n",
      "                                                                 \n",
      "=================================================================\n",
      "Total params: 33,944\n",
      "Trainable params: 33,944\n",
      "Non-trainable params: 0\n",
      "_________________________________________________________________\n"
     ]
    }
   ],
   "source": [
    "model = Sequential()\n",
    "for i, units in enumerate(best_chromosome[:LSTM_Layer]):\n",
    "    model.add(LSTM(units, return_sequences=(i < LSTM_Layer - 1), input_shape=(WINDOW_SIZE, 1)))\n",
    "model.add(Dense(1))\n",
    "\n",
    "model.summary()"
   ]
  },
  {
   "cell_type": "code",
   "execution_count": 15,
   "id": "4b732c99",
   "metadata": {
    "execution": {
     "iopub.execute_input": "2024-02-06T04:32:26.246829Z",
     "iopub.status.busy": "2024-02-06T04:32:26.246099Z",
     "iopub.status.idle": "2024-02-06T04:32:48.380486Z",
     "shell.execute_reply": "2024-02-06T04:32:48.379563Z"
    },
    "papermill": {
     "duration": 22.165973,
     "end_time": "2024-02-06T04:32:48.382983",
     "exception": false,
     "start_time": "2024-02-06T04:32:26.217010",
     "status": "completed"
    },
    "tags": []
   },
   "outputs": [
    {
     "name": "stdout",
     "output_type": "stream",
     "text": [
      "Epoch 1/50\n",
      "50/50 [==============================] - 3s 14ms/step - loss: 0.0384 - mae: 0.1342 - root_mean_squared_error: 0.1959 - val_loss: 0.0033 - val_mae: 0.0412 - val_root_mean_squared_error: 0.0578\n",
      "Epoch 2/50\n",
      "50/50 [==============================] - 0s 5ms/step - loss: 0.0057 - mae: 0.0486 - root_mean_squared_error: 0.0756 - val_loss: 0.0026 - val_mae: 0.0391 - val_root_mean_squared_error: 0.0512\n",
      "Epoch 3/50\n",
      "50/50 [==============================] - 0s 5ms/step - loss: 0.0049 - mae: 0.0407 - root_mean_squared_error: 0.0703 - val_loss: 0.0020 - val_mae: 0.0345 - val_root_mean_squared_error: 0.0443\n",
      "Epoch 4/50\n",
      "50/50 [==============================] - 0s 5ms/step - loss: 0.0048 - mae: 0.0397 - root_mean_squared_error: 0.0694 - val_loss: 0.0015 - val_mae: 0.0294 - val_root_mean_squared_error: 0.0385\n",
      "Epoch 5/50\n",
      "50/50 [==============================] - 0s 5ms/step - loss: 0.0048 - mae: 0.0391 - root_mean_squared_error: 0.0693 - val_loss: 0.0012 - val_mae: 0.0258 - val_root_mean_squared_error: 0.0343\n",
      "Epoch 6/50\n",
      "50/50 [==============================] - 0s 5ms/step - loss: 0.0047 - mae: 0.0395 - root_mean_squared_error: 0.0689 - val_loss: 0.0020 - val_mae: 0.0354 - val_root_mean_squared_error: 0.0448\n",
      "Epoch 7/50\n",
      "50/50 [==============================] - 0s 5ms/step - loss: 0.0047 - mae: 0.0402 - root_mean_squared_error: 0.0689 - val_loss: 0.0012 - val_mae: 0.0258 - val_root_mean_squared_error: 0.0340\n",
      "Epoch 8/50\n",
      "50/50 [==============================] - 0s 5ms/step - loss: 0.0046 - mae: 0.0384 - root_mean_squared_error: 0.0677 - val_loss: 0.0012 - val_mae: 0.0258 - val_root_mean_squared_error: 0.0343\n",
      "Epoch 9/50\n",
      "50/50 [==============================] - 0s 5ms/step - loss: 0.0045 - mae: 0.0382 - root_mean_squared_error: 0.0671 - val_loss: 0.0014 - val_mae: 0.0281 - val_root_mean_squared_error: 0.0368\n",
      "Epoch 10/50\n",
      "50/50 [==============================] - 0s 5ms/step - loss: 0.0044 - mae: 0.0371 - root_mean_squared_error: 0.0666 - val_loss: 0.0014 - val_mae: 0.0290 - val_root_mean_squared_error: 0.0377\n",
      "Epoch 11/50\n",
      "50/50 [==============================] - 0s 6ms/step - loss: 0.0044 - mae: 0.0375 - root_mean_squared_error: 0.0666 - val_loss: 0.0011 - val_mae: 0.0249 - val_root_mean_squared_error: 0.0325\n",
      "Epoch 12/50\n",
      "50/50 [==============================] - 0s 6ms/step - loss: 0.0044 - mae: 0.0369 - root_mean_squared_error: 0.0660 - val_loss: 0.0020 - val_mae: 0.0350 - val_root_mean_squared_error: 0.0442\n",
      "Epoch 13/50\n",
      "50/50 [==============================] - 0s 6ms/step - loss: 0.0043 - mae: 0.0373 - root_mean_squared_error: 0.0654 - val_loss: 0.0012 - val_mae: 0.0262 - val_root_mean_squared_error: 0.0344\n",
      "Epoch 14/50\n",
      "50/50 [==============================] - 0s 5ms/step - loss: 0.0043 - mae: 0.0374 - root_mean_squared_error: 0.0653 - val_loss: 0.0034 - val_mae: 0.0489 - val_root_mean_squared_error: 0.0581\n",
      "Epoch 15/50\n",
      "50/50 [==============================] - 0s 5ms/step - loss: 0.0044 - mae: 0.0391 - root_mean_squared_error: 0.0661 - val_loss: 0.0012 - val_mae: 0.0259 - val_root_mean_squared_error: 0.0340\n",
      "Epoch 16/50\n",
      "50/50 [==============================] - 0s 5ms/step - loss: 0.0041 - mae: 0.0356 - root_mean_squared_error: 0.0640 - val_loss: 0.0010 - val_mae: 0.0244 - val_root_mean_squared_error: 0.0320\n",
      "Epoch 17/50\n",
      "50/50 [==============================] - 0s 5ms/step - loss: 0.0041 - mae: 0.0367 - root_mean_squared_error: 0.0643 - val_loss: 0.0011 - val_mae: 0.0258 - val_root_mean_squared_error: 0.0338\n",
      "Epoch 18/50\n",
      "50/50 [==============================] - 0s 5ms/step - loss: 0.0040 - mae: 0.0352 - root_mean_squared_error: 0.0634 - val_loss: 9.4909e-04 - val_mae: 0.0240 - val_root_mean_squared_error: 0.0308\n",
      "Epoch 19/50\n",
      "50/50 [==============================] - 0s 5ms/step - loss: 0.0039 - mae: 0.0343 - root_mean_squared_error: 0.0625 - val_loss: 0.0012 - val_mae: 0.0267 - val_root_mean_squared_error: 0.0349\n",
      "Epoch 20/50\n",
      "50/50 [==============================] - 0s 5ms/step - loss: 0.0039 - mae: 0.0346 - root_mean_squared_error: 0.0624 - val_loss: 0.0010 - val_mae: 0.0247 - val_root_mean_squared_error: 0.0324\n",
      "Epoch 21/50\n",
      "50/50 [==============================] - 0s 5ms/step - loss: 0.0038 - mae: 0.0340 - root_mean_squared_error: 0.0617 - val_loss: 0.0011 - val_mae: 0.0248 - val_root_mean_squared_error: 0.0324\n",
      "Epoch 22/50\n",
      "50/50 [==============================] - 0s 5ms/step - loss: 0.0038 - mae: 0.0346 - root_mean_squared_error: 0.0617 - val_loss: 0.0011 - val_mae: 0.0258 - val_root_mean_squared_error: 0.0337\n",
      "Epoch 23/50\n",
      "50/50 [==============================] - 0s 5ms/step - loss: 0.0038 - mae: 0.0341 - root_mean_squared_error: 0.0617 - val_loss: 0.0010 - val_mae: 0.0247 - val_root_mean_squared_error: 0.0322\n",
      "Epoch 24/50\n",
      "50/50 [==============================] - 0s 5ms/step - loss: 0.0038 - mae: 0.0342 - root_mean_squared_error: 0.0616 - val_loss: 0.0012 - val_mae: 0.0261 - val_root_mean_squared_error: 0.0342\n",
      "Epoch 25/50\n",
      "50/50 [==============================] - 0s 5ms/step - loss: 0.0037 - mae: 0.0330 - root_mean_squared_error: 0.0607 - val_loss: 0.0013 - val_mae: 0.0274 - val_root_mean_squared_error: 0.0359\n",
      "Epoch 26/50\n",
      "50/50 [==============================] - 0s 5ms/step - loss: 0.0036 - mae: 0.0334 - root_mean_squared_error: 0.0604 - val_loss: 8.4675e-04 - val_mae: 0.0227 - val_root_mean_squared_error: 0.0291\n",
      "Epoch 27/50\n",
      "50/50 [==============================] - 0s 5ms/step - loss: 0.0036 - mae: 0.0325 - root_mean_squared_error: 0.0602 - val_loss: 0.0023 - val_mae: 0.0386 - val_root_mean_squared_error: 0.0479\n",
      "Epoch 28/50\n",
      "50/50 [==============================] - 0s 5ms/step - loss: 0.0037 - mae: 0.0343 - root_mean_squared_error: 0.0608 - val_loss: 0.0014 - val_mae: 0.0285 - val_root_mean_squared_error: 0.0371\n",
      "Epoch 29/50\n",
      "50/50 [==============================] - 0s 5ms/step - loss: 0.0036 - mae: 0.0324 - root_mean_squared_error: 0.0599 - val_loss: 0.0016 - val_mae: 0.0304 - val_root_mean_squared_error: 0.0396\n",
      "Epoch 30/50\n",
      "50/50 [==============================] - 0s 5ms/step - loss: 0.0036 - mae: 0.0327 - root_mean_squared_error: 0.0597 - val_loss: 8.4111e-04 - val_mae: 0.0224 - val_root_mean_squared_error: 0.0290\n",
      "Epoch 31/50\n",
      "50/50 [==============================] - 0s 5ms/step - loss: 0.0035 - mae: 0.0319 - root_mean_squared_error: 0.0591 - val_loss: 0.0016 - val_mae: 0.0310 - val_root_mean_squared_error: 0.0400\n",
      "Epoch 32/50\n",
      "50/50 [==============================] - 0s 5ms/step - loss: 0.0037 - mae: 0.0335 - root_mean_squared_error: 0.0606 - val_loss: 0.0013 - val_mae: 0.0277 - val_root_mean_squared_error: 0.0360\n",
      "Epoch 33/50\n",
      "50/50 [==============================] - 0s 5ms/step - loss: 0.0036 - mae: 0.0329 - root_mean_squared_error: 0.0597 - val_loss: 0.0022 - val_mae: 0.0380 - val_root_mean_squared_error: 0.0469\n",
      "Epoch 34/50\n",
      "50/50 [==============================] - 0s 5ms/step - loss: 0.0038 - mae: 0.0359 - root_mean_squared_error: 0.0618 - val_loss: 0.0011 - val_mae: 0.0248 - val_root_mean_squared_error: 0.0325\n",
      "Epoch 35/50\n",
      "50/50 [==============================] - 0s 5ms/step - loss: 0.0035 - mae: 0.0321 - root_mean_squared_error: 0.0594 - val_loss: 8.2950e-04 - val_mae: 0.0222 - val_root_mean_squared_error: 0.0288\n",
      "Epoch 36/50\n",
      "50/50 [==============================] - 0s 5ms/step - loss: 0.0035 - mae: 0.0312 - root_mean_squared_error: 0.0587 - val_loss: 0.0014 - val_mae: 0.0286 - val_root_mean_squared_error: 0.0370\n",
      "Epoch 37/50\n",
      "50/50 [==============================] - 0s 5ms/step - loss: 0.0034 - mae: 0.0305 - root_mean_squared_error: 0.0583 - val_loss: 7.9345e-04 - val_mae: 0.0223 - val_root_mean_squared_error: 0.0282\n",
      "Epoch 38/50\n",
      "50/50 [==============================] - 0s 5ms/step - loss: 0.0035 - mae: 0.0326 - root_mean_squared_error: 0.0590 - val_loss: 0.0012 - val_mae: 0.0267 - val_root_mean_squared_error: 0.0348\n",
      "Epoch 39/50\n",
      "50/50 [==============================] - 0s 5ms/step - loss: 0.0035 - mae: 0.0318 - root_mean_squared_error: 0.0588 - val_loss: 8.7143e-04 - val_mae: 0.0226 - val_root_mean_squared_error: 0.0295\n",
      "Epoch 40/50\n",
      "50/50 [==============================] - 0s 5ms/step - loss: 0.0034 - mae: 0.0314 - root_mean_squared_error: 0.0584 - val_loss: 9.9275e-04 - val_mae: 0.0240 - val_root_mean_squared_error: 0.0315\n",
      "Epoch 41/50\n",
      "50/50 [==============================] - 0s 5ms/step - loss: 0.0034 - mae: 0.0311 - root_mean_squared_error: 0.0586 - val_loss: 9.2423e-04 - val_mae: 0.0249 - val_root_mean_squared_error: 0.0304\n",
      "Epoch 42/50\n",
      "50/50 [==============================] - 0s 5ms/step - loss: 0.0034 - mae: 0.0312 - root_mean_squared_error: 0.0585 - val_loss: 8.7094e-04 - val_mae: 0.0226 - val_root_mean_squared_error: 0.0295\n",
      "Epoch 43/50\n",
      "50/50 [==============================] - 0s 5ms/step - loss: 0.0034 - mae: 0.0308 - root_mean_squared_error: 0.0580 - val_loss: 8.0507e-04 - val_mae: 0.0218 - val_root_mean_squared_error: 0.0284\n",
      "Epoch 44/50\n",
      "50/50 [==============================] - 0s 5ms/step - loss: 0.0035 - mae: 0.0333 - root_mean_squared_error: 0.0595 - val_loss: 0.0012 - val_mae: 0.0265 - val_root_mean_squared_error: 0.0346\n",
      "Epoch 45/50\n",
      "50/50 [==============================] - 0s 5ms/step - loss: 0.0034 - mae: 0.0303 - root_mean_squared_error: 0.0579 - val_loss: 7.5503e-04 - val_mae: 0.0213 - val_root_mean_squared_error: 0.0275\n",
      "Epoch 46/50\n",
      "50/50 [==============================] - 0s 5ms/step - loss: 0.0034 - mae: 0.0313 - root_mean_squared_error: 0.0580 - val_loss: 0.0014 - val_mae: 0.0292 - val_root_mean_squared_error: 0.0377\n",
      "Epoch 47/50\n",
      "50/50 [==============================] - 0s 5ms/step - loss: 0.0034 - mae: 0.0313 - root_mean_squared_error: 0.0584 - val_loss: 7.5767e-04 - val_mae: 0.0218 - val_root_mean_squared_error: 0.0275\n",
      "Epoch 48/50\n",
      "50/50 [==============================] - 0s 5ms/step - loss: 0.0033 - mae: 0.0306 - root_mean_squared_error: 0.0578 - val_loss: 7.5011e-04 - val_mae: 0.0215 - val_root_mean_squared_error: 0.0274\n",
      "Epoch 49/50\n",
      "50/50 [==============================] - 0s 5ms/step - loss: 0.0033 - mae: 0.0302 - root_mean_squared_error: 0.0577 - val_loss: 7.5549e-04 - val_mae: 0.0214 - val_root_mean_squared_error: 0.0275\n",
      "Epoch 50/50\n",
      "50/50 [==============================] - 0s 5ms/step - loss: 0.0033 - mae: 0.0297 - root_mean_squared_error: 0.0572 - val_loss: 0.0011 - val_mae: 0.0272 - val_root_mean_squared_error: 0.0325\n"
     ]
    }
   ],
   "source": [
    "model.compile(loss='mean_squared_error',\n",
    "              metrics=['mae', RootMeanSquaredError()],\n",
    "              optimizer='adam')\n",
    "\n",
    "history = model.fit(X_train,\n",
    "                    y_train,\n",
    "                    epochs=50,\n",
    "                    batch_size=32,\n",
    "                    validation_split=0.1)"
   ]
  },
  {
   "cell_type": "code",
   "execution_count": 16,
   "id": "1734c552",
   "metadata": {
    "execution": {
     "iopub.execute_input": "2024-02-06T04:32:48.487249Z",
     "iopub.status.busy": "2024-02-06T04:32:48.486877Z",
     "iopub.status.idle": "2024-02-06T04:32:48.575350Z",
     "shell.execute_reply": "2024-02-06T04:32:48.574447Z"
    },
    "papermill": {
     "duration": 0.142728,
     "end_time": "2024-02-06T04:32:48.577280",
     "exception": false,
     "start_time": "2024-02-06T04:32:48.434552",
     "status": "completed"
    },
    "tags": []
   },
   "outputs": [
    {
     "name": "stdout",
     "output_type": "stream",
     "text": [
      "7/7 [==============================] - 0s 3ms/step - loss: 4.5526e-04 - mae: 0.0161 - root_mean_squared_error: 0.0213\n"
     ]
    },
    {
     "data": {
      "text/plain": [
       "[0.0004552621685434133, 0.01605328544974327, 0.0213368721306324]"
      ]
     },
     "execution_count": 16,
     "metadata": {},
     "output_type": "execute_result"
    }
   ],
   "source": [
    "model.evaluate(X_test, y_test)"
   ]
  },
  {
   "cell_type": "markdown",
   "id": "f806b027",
   "metadata": {
    "papermill": {
     "duration": 0.050603,
     "end_time": "2024-02-06T04:32:48.679260",
     "exception": false,
     "start_time": "2024-02-06T04:32:48.628657",
     "status": "completed"
    },
    "tags": []
   },
   "source": [
    "## Model Evaluation"
   ]
  },
  {
   "cell_type": "code",
   "execution_count": 17,
   "id": "4464bc4a",
   "metadata": {
    "execution": {
     "iopub.execute_input": "2024-02-06T04:32:48.783483Z",
     "iopub.status.busy": "2024-02-06T04:32:48.783139Z",
     "iopub.status.idle": "2024-02-06T04:32:49.048721Z",
     "shell.execute_reply": "2024-02-06T04:32:49.047795Z"
    },
    "papermill": {
     "duration": 0.320373,
     "end_time": "2024-02-06T04:32:49.050802",
     "exception": false,
     "start_time": "2024-02-06T04:32:48.730429",
     "status": "completed"
    },
    "tags": []
   },
   "outputs": [
    {
     "data": {
      "image/png": "[encoded data removed]",
      "text/plain": [
       "<Figure size 640x480 with 1 Axes>"
      ]
     },
     "metadata": {},
     "output_type": "display_data"
    }
   ],
   "source": [
    "plt.plot(history.history['loss'])\n",
    "plt.plot(history.history['val_loss'])\n",
    "plt.title(f'{SHEET_NAME} Model Loss', fontsize=15)\n",
    "plt.ylabel('loss')\n",
    "plt.xlabel('epoch')\n",
    "plt.legend(['train', 'test'])\n",
    "plt.show()"
   ]
  },
  {
   "cell_type": "code",
   "execution_count": 18,
   "id": "5271bc8f",
   "metadata": {
    "execution": {
     "iopub.execute_input": "2024-02-06T04:32:49.157577Z",
     "iopub.status.busy": "2024-02-06T04:32:49.156883Z",
     "iopub.status.idle": "2024-02-06T04:32:49.613652Z",
     "shell.execute_reply": "2024-02-06T04:32:49.612803Z"
    },
    "papermill": {
     "duration": 0.512192,
     "end_time": "2024-02-06T04:32:49.615734",
     "exception": false,
     "start_time": "2024-02-06T04:32:49.103542",
     "status": "completed"
    },
    "tags": []
   },
   "outputs": [
    {
     "name": "stdout",
     "output_type": "stream",
     "text": [
      "7/7 [==============================] - 0s 2ms/step\n"
     ]
    }
   ],
   "source": [
    "y_hat = model.predict(X_test)\n",
    "y_test_inverse = scaler.inverse_transform(y_test)\n",
    "y_hat_inverse = scaler.inverse_transform(y_hat)"
   ]
  },
  {
   "cell_type": "code",
   "execution_count": 19,
   "id": "dac70314",
   "metadata": {
    "execution": {
     "iopub.execute_input": "2024-02-06T04:32:49.722588Z",
     "iopub.status.busy": "2024-02-06T04:32:49.722050Z",
     "iopub.status.idle": "2024-02-06T04:32:50.040885Z",
     "shell.execute_reply": "2024-02-06T04:32:50.039955Z"
    },
    "papermill": {
     "duration": 0.374616,
     "end_time": "2024-02-06T04:32:50.043088",
     "exception": false,
     "start_time": "2024-02-06T04:32:49.668472",
     "status": "completed"
    },
    "tags": []
   },
   "outputs": [
    {
     "data": {
      "image/png": "[encoded data removed]",
      "text/plain": [
       "<Figure size 640x480 with 1 Axes>"
      ]
     },
     "metadata": {},
     "output_type": "display_data"
    }
   ],
   "source": [
    "plt.plot(y_test_inverse, label=\"Actual Price\", color='green')\n",
    "plt.plot(y_hat_inverse, label=\"Predicted Price\", color='red')\n",
    " \n",
    "plt.title(f'{SHEET_NAME} Price Prediction\\nLSTM = {LSTM_Layer}, Split Data = {SPLIT}, Window = {WINDOW_SIZE}', fontsize=15)\n",
    "plt.xlabel('Time [days]')\n",
    "plt.ylabel('Price')\n",
    "plt.legend(loc='best')\n",
    " \n",
    "plt.show()"
   ]
  },
  {
   "cell_type": "code",
   "execution_count": 20,
   "id": "f1d17d35",
   "metadata": {
    "execution": {
     "iopub.execute_input": "2024-02-06T04:32:50.150249Z",
     "iopub.status.busy": "2024-02-06T04:32:50.149581Z",
     "iopub.status.idle": "2024-02-06T04:32:50.158540Z",
     "shell.execute_reply": "2024-02-06T04:32:50.157596Z"
    },
    "papermill": {
     "duration": 0.065135,
     "end_time": "2024-02-06T04:32:50.161036",
     "exception": false,
     "start_time": "2024-02-06T04:32:50.095901",
     "status": "completed"
    },
    "tags": []
   },
   "outputs": [
    {
     "name": "stdout",
     "output_type": "stream",
     "text": [
      "LSTM = 1, Split Data = 0.9, Window = 5\n",
      "\n",
      "----------------- Normalized Error -----------------\n",
      "Mean Absolute Error for prediction : 0.016053284921135138\n",
      "Mean Squared Error for prediction : 0.0004552622023266017\n",
      "Root Mean Squared Error for prediction : 0.021336874239836576\n",
      "\n",
      "----------------- Actual Error -----------------\n",
      "Mean Absolute Error for prediction : 22.41280711894225\n",
      "Mean Squared Error for prediction : 887.4352534341151\n",
      "Root Mean Squared Error for prediction : 29.789851517490234\n"
     ]
    }
   ],
   "source": [
    "def matrices(actual, predicted):\n",
    "    mse = mean_squared_error(actual, predicted)\n",
    "    mae = mean_absolute_error(actual, predicted)\n",
    "    rmse = np.sqrt(mse)\n",
    "    print(\"Mean Absolute Error for prediction :\", mae)\n",
    "    print(\"Mean Squared Error for prediction :\", mse)\n",
    "    print(\"Root Mean Squared Error for prediction :\", rmse)\n",
    "    return mae, mse, rmse\n",
    "\n",
    "print(f\"LSTM = {LSTM_Layer}, Split Data = {SPLIT}, Window = {WINDOW_SIZE}\")\n",
    "print(\"\\n----------------- Normalized Error -----------------\")\n",
    "mae, mse, rmse = matrices(y_test, y_hat)\n",
    "print(\"\\n----------------- Actual Error -----------------\")\n",
    "mae_inverse, mse_inverse, rmse_inverse = matrices(y_test_inverse, y_hat_inverse)"
   ]
  }
 ],
 "metadata": {
  "kaggle": {
   "accelerator": "gpu",
   "dataSources": [],
   "dockerImageVersionId": 30498,
   "isGpuEnabled": true,
   "isInternetEnabled": true,
   "language": "python",
   "sourceType": "notebook"
  },
  "kernelspec": {
   "display_name": "Python 3",
   "language": "python",
   "name": "python3"
  },
  "language_info": {
   "codemirror_mode": {
    "name": "ipython",
    "version": 3
   },
   "file_extension": ".py",
   "mimetype": "text/x-python",
   "name": "python",
   "nbconvert_exporter": "python",
   "pygments_lexer": "ipython3",
   "version": "3.10.10"
  },
  "papermill": {
   "default_parameters": {},
   "duration": 588.047961,
   "end_time": "2024-02-06T04:32:53.807819",
   "environment_variables": {},
   "exception": null,
   "input_path": "__notebook__.ipynb",
   "output_path": "__notebook__.ipynb",
   "parameters": {},
   "start_time": "2024-02-06T04:23:05.759858",
   "version": "2.4.0"
  }
 },
 "nbformat": 4,
 "nbformat_minor": 5
}
