{
 "cells": [
  {
   "cell_type": "code",
   "execution_count": 1,
   "id": "f466dd75",
   "metadata": {
    "execution": {
     "iopub.execute_input": "2024-02-06T02:05:50.200638Z",
     "iopub.status.busy": "2024-02-06T02:05:50.200251Z",
     "iopub.status.idle": "2024-02-06T02:05:59.226717Z",
     "shell.execute_reply": "2024-02-06T02:05:59.225873Z"
    },
    "papermill": {
     "duration": 9.037231,
     "end_time": "2024-02-06T02:05:59.229026",
     "exception": false,
     "start_time": "2024-02-06T02:05:50.191795",
     "status": "completed"
    },
    "tags": []
   },
   "outputs": [
    {
     "name": "stderr",
     "output_type": "stream",
     "text": [
      "/opt/conda/lib/python3.10/site-packages/tensorflow_io/python/ops/__init__.py:98: UserWarning: unable to load libtensorflow_io_plugins.so: unable to open file: libtensorflow_io_plugins.so, from paths: ['/opt/conda/lib/python3.10/site-packages/tensorflow_io/python/ops/libtensorflow_io_plugins.so']\n",
      "caused by: ['/opt/conda/lib/python3.10/site-packages/tensorflow_io/python/ops/libtensorflow_io_plugins.so: undefined symbol: _ZN3tsl6StatusC1EN10tensorflow5error4CodeESt17basic_string_viewIcSt11char_traitsIcEENS_14SourceLocationE']\n",
      "  warnings.warn(f\"unable to load libtensorflow_io_plugins.so: {e}\")\n",
      "/opt/conda/lib/python3.10/site-packages/tensorflow_io/python/ops/__init__.py:104: UserWarning: file system plugins are not loaded: unable to open file: libtensorflow_io.so, from paths: ['/opt/conda/lib/python3.10/site-packages/tensorflow_io/python/ops/libtensorflow_io.so']\n",
      "caused by: ['/opt/conda/lib/python3.10/site-packages/tensorflow_io/python/ops/libtensorflow_io.so: undefined symbol: _ZTVN10tensorflow13GcsFileSystemE']\n",
      "  warnings.warn(f\"file system plugins are not loaded: {e}\")\n"
     ]
    }
   ],
   "source": [
    "import pandas as pd\n",
    "import numpy as np\n",
    "import tensorflow as tf\n",
    "import matplotlib.pyplot as plt\n",
    "import datetime, pytz\n",
    "\n",
    "from keras.models import Sequential\n",
    "from keras.layers import LSTM, Dense\n",
    "from keras.metrics import RootMeanSquaredError\n",
    "\n",
    "from sklearn.preprocessing import MinMaxScaler\n",
    "from sklearn.metrics import mean_squared_error, mean_absolute_error"
   ]
  },
  {
   "cell_type": "markdown",
   "id": "8ec18610",
   "metadata": {
    "papermill": {
     "duration": 0.006618,
     "end_time": "2024-02-06T02:05:59.242704",
     "exception": false,
     "start_time": "2024-02-06T02:05:59.236086",
     "status": "completed"
    },
    "tags": []
   },
   "source": [
    "## Hyperparameter"
   ]
  },
  {
   "cell_type": "code",
   "execution_count": 2,
   "id": "5979f6dd",
   "metadata": {
    "execution": {
     "iopub.execute_input": "2024-02-06T02:05:59.258100Z",
     "iopub.status.busy": "2024-02-06T02:05:59.257086Z",
     "iopub.status.idle": "2024-02-06T02:05:59.262198Z",
     "shell.execute_reply": "2024-02-06T02:05:59.261350Z"
    },
    "papermill": {
     "duration": 0.014824,
     "end_time": "2024-02-06T02:05:59.264136",
     "exception": false,
     "start_time": "2024-02-06T02:05:59.249312",
     "status": "completed"
    },
    "tags": []
   },
   "outputs": [],
   "source": [
    "# Google Spreadsheet ID\n",
    "SHEET_ID = '1JDNv_mArl-GPIpxuWS5GxgVEwvjXocS1MrXGc6TYs8M'\n",
    "SHEET_NAME = 'EUR/IDR' # USD/IDR, EUR/IDR, SGD/IDR\n",
    "\n",
    "SEQ_LEN = 11 # 6, 11, 21\n",
    "SPLIT = 0.90 # 0.80, 0.90\n",
    "LSTM_Layer = 2 # 1, 2, 3\n",
    "WINDOW_SIZE = SEQ_LEN - 1"
   ]
  },
  {
   "cell_type": "code",
   "execution_count": 3,
   "id": "e75f7421",
   "metadata": {
    "execution": {
     "iopub.execute_input": "2024-02-06T02:05:59.278280Z",
     "iopub.status.busy": "2024-02-06T02:05:59.278029Z",
     "iopub.status.idle": "2024-02-06T02:06:00.643399Z",
     "shell.execute_reply": "2024-02-06T02:06:00.642425Z"
    },
    "papermill": {
     "duration": 1.375294,
     "end_time": "2024-02-06T02:06:00.646000",
     "exception": false,
     "start_time": "2024-02-06T02:05:59.270706",
     "status": "completed"
    },
    "tags": []
   },
   "outputs": [
    {
     "name": "stdout",
     "output_type": "stream",
     "text": [
      "<class 'pandas.core.frame.DataFrame'>\n",
      "RangeIndex: 1977 entries, 0 to 1976\n",
      "Data columns (total 2 columns):\n",
      " #   Column  Non-Null Count  Dtype         \n",
      "---  ------  --------------  -----         \n",
      " 0   Date    1977 non-null   datetime64[ns]\n",
      " 1   Close   1977 non-null   float64       \n",
      "dtypes: datetime64[ns](1), float64(1)\n",
      "memory usage: 31.0 KB\n"
     ]
    }
   ],
   "source": [
    "url = f'https://docs.google.com/spreadsheets/d/{SHEET_ID}/gviz/tq?tqx=out:csv&sheet={SHEET_NAME}'\n",
    "data = pd.read_csv(url)\n",
    "\n",
    "# Convert Date columns to datetime format\n",
    "data['Date'] = pd.to_datetime(data['Date'], format='%d/%m/%Y %H:%M:%S')\n",
    "data.info()"
   ]
  },
  {
   "cell_type": "markdown",
   "id": "68f0cd59",
   "metadata": {
    "papermill": {
     "duration": 0.006787,
     "end_time": "2024-02-06T02:06:00.659780",
     "exception": false,
     "start_time": "2024-02-06T02:06:00.652993",
     "status": "completed"
    },
    "tags": []
   },
   "source": [
    "## Preprocessing"
   ]
  },
  {
   "cell_type": "code",
   "execution_count": 4,
   "id": "c8890a1f",
   "metadata": {
    "execution": {
     "iopub.execute_input": "2024-02-06T02:06:00.675210Z",
     "iopub.status.busy": "2024-02-06T02:06:00.674840Z",
     "iopub.status.idle": "2024-02-06T02:06:00.686767Z",
     "shell.execute_reply": "2024-02-06T02:06:00.685776Z"
    },
    "papermill": {
     "duration": 0.021818,
     "end_time": "2024-02-06T02:06:00.688834",
     "exception": false,
     "start_time": "2024-02-06T02:06:00.667016",
     "status": "completed"
    },
    "tags": []
   },
   "outputs": [
    {
     "name": "stderr",
     "output_type": "stream",
     "text": [
      "/tmp/ipykernel_26/2274720815.py:7: SettingWithCopyWarning: \n",
      "A value is trying to be set on a copy of a slice from a DataFrame\n",
      "\n",
      "See the caveats in the documentation: https://pandas.pydata.org/pandas-docs/stable/user_guide/indexing.html#returning-a-view-versus-a-copy\n",
      "  data[data < lower_bound] = lower_bound\n",
      "/tmp/ipykernel_26/2274720815.py:8: SettingWithCopyWarning: \n",
      "A value is trying to be set on a copy of a slice from a DataFrame\n",
      "\n",
      "See the caveats in the documentation: https://pandas.pydata.org/pandas-docs/stable/user_guide/indexing.html#returning-a-view-versus-a-copy\n",
      "  data[data > upper_bound] = upper_bound\n"
     ]
    }
   ],
   "source": [
    "def replace_outliers(data):\n",
    "    Q1 = np.percentile(data, 25)\n",
    "    Q3 = np.percentile(data, 75)\n",
    "    IQR = Q3 - Q1\n",
    "    lower_bound = Q1 - 1.5 * IQR\n",
    "    upper_bound = Q3 + 1.5 * IQR\n",
    "    data[data < lower_bound] = lower_bound\n",
    "    data[data > upper_bound] = upper_bound\n",
    "    return data\n",
    "\n",
    "data['Close'] = replace_outliers(data['Close'])"
   ]
  },
  {
   "cell_type": "code",
   "execution_count": 5,
   "id": "2036c648",
   "metadata": {
    "execution": {
     "iopub.execute_input": "2024-02-06T02:06:00.703405Z",
     "iopub.status.busy": "2024-02-06T02:06:00.703106Z",
     "iopub.status.idle": "2024-02-06T02:06:00.957882Z",
     "shell.execute_reply": "2024-02-06T02:06:00.956975Z"
    },
    "papermill": {
     "duration": 0.264205,
     "end_time": "2024-02-06T02:06:00.959831",
     "exception": false,
     "start_time": "2024-02-06T02:06:00.695626",
     "status": "completed"
    },
    "tags": []
   },
   "outputs": [
    {
     "data": {
      "image/png": "[encoded data removed]",
      "text/plain": [
       "<Figure size 640x480 with 1 Axes>"
      ]
     },
     "metadata": {},
     "output_type": "display_data"
    }
   ],
   "source": [
    "# Boxplot for outlier detection\n",
    "plt.boxplot(data['Close'])\n",
    "plt.title(f\"{SHEET_NAME} Boxplot for Outlier Detection\")\n",
    "plt.xlabel(\"Close\")\n",
    "plt.ylabel(\"Values\")\n",
    "plt.show()"
   ]
  },
  {
   "cell_type": "code",
   "execution_count": 6,
   "id": "70e3ece4",
   "metadata": {
    "execution": {
     "iopub.execute_input": "2024-02-06T02:06:00.975438Z",
     "iopub.status.busy": "2024-02-06T02:06:00.975107Z",
     "iopub.status.idle": "2024-02-06T02:06:00.982803Z",
     "shell.execute_reply": "2024-02-06T02:06:00.981970Z"
    },
    "papermill": {
     "duration": 0.017623,
     "end_time": "2024-02-06T02:06:00.984698",
     "exception": false,
     "start_time": "2024-02-06T02:06:00.967075",
     "status": "completed"
    },
    "tags": []
   },
   "outputs": [
    {
     "data": {
      "text/plain": [
       "(1977, 1)"
      ]
     },
     "execution_count": 6,
     "metadata": {},
     "output_type": "execute_result"
    }
   ],
   "source": [
    "scaler = MinMaxScaler()\n",
    "close_price = data.Close.values.reshape(-1, 1)\n",
    "scaled_close = scaler.fit_transform(close_price)\n",
    "scaled_close.shape"
   ]
  },
  {
   "cell_type": "code",
   "execution_count": 7,
   "id": "2863a958",
   "metadata": {
    "execution": {
     "iopub.execute_input": "2024-02-06T02:06:01.002094Z",
     "iopub.status.busy": "2024-02-06T02:06:01.001351Z",
     "iopub.status.idle": "2024-02-06T02:06:01.011256Z",
     "shell.execute_reply": "2024-02-06T02:06:01.010413Z"
    },
    "papermill": {
     "duration": 0.021244,
     "end_time": "2024-02-06T02:06:01.013199",
     "exception": false,
     "start_time": "2024-02-06T02:06:00.991955",
     "status": "completed"
    },
    "tags": []
   },
   "outputs": [],
   "source": [
    "def to_sequences(data, seq_len):\n",
    "    d = []\n",
    "    for index in range(len(data) - seq_len):\n",
    "        d.append(data[index: index + seq_len])\n",
    "    return np.array(d)\n",
    "\n",
    "def preprocess(data_raw, seq_len, train_split):\n",
    "    data = to_sequences(data_raw, seq_len)\n",
    "    num_train = int(train_split * data.shape[0])\n",
    "    X_train = data[:num_train, :-1, :]\n",
    "    y_train = data[:num_train, -1, :]\n",
    "    X_test = data[num_train:, :-1, :]\n",
    "    y_test = data[num_train:, -1, :]\n",
    "    return X_train, y_train, X_test, y_test\n",
    "\n",
    "X_train, y_train, X_test, y_test = preprocess(scaled_close, SEQ_LEN, train_split = SPLIT)"
   ]
  },
  {
   "cell_type": "markdown",
   "id": "e3f2ed5e",
   "metadata": {
    "papermill": {
     "duration": 0.006955,
     "end_time": "2024-02-06T02:06:01.027581",
     "exception": false,
     "start_time": "2024-02-06T02:06:01.020626",
     "status": "completed"
    },
    "tags": []
   },
   "source": [
    "## Genetic Algorithm"
   ]
  },
  {
   "cell_type": "code",
   "execution_count": 8,
   "id": "46db5af5",
   "metadata": {
    "execution": {
     "iopub.execute_input": "2024-02-06T02:06:01.043220Z",
     "iopub.status.busy": "2024-02-06T02:06:01.042688Z",
     "iopub.status.idle": "2024-02-06T02:06:01.048201Z",
     "shell.execute_reply": "2024-02-06T02:06:01.047341Z"
    },
    "papermill": {
     "duration": 0.015463,
     "end_time": "2024-02-06T02:06:01.050163",
     "exception": false,
     "start_time": "2024-02-06T02:06:01.034700",
     "status": "completed"
    },
    "tags": []
   },
   "outputs": [],
   "source": [
    "def decimal_to_binary(chromosome: list):\n",
    "    binary_string = ''.join([bin(x)[2:].zfill(8) for x in chromosome])\n",
    "    return binary_string\n",
    "\n",
    "def binary_to_decimal(binary_string: str):\n",
    "    decimal_array = [int(binary, 2) for binary in [binary_string[i:i+8] for i in range(0, len(binary_string), 8)]]\n",
    "    return decimal_array"
   ]
  },
  {
   "cell_type": "code",
   "execution_count": 9,
   "id": "da141b12",
   "metadata": {
    "execution": {
     "iopub.execute_input": "2024-02-06T02:06:01.066155Z",
     "iopub.status.busy": "2024-02-06T02:06:01.065449Z",
     "iopub.status.idle": "2024-02-06T02:06:01.084877Z",
     "shell.execute_reply": "2024-02-06T02:06:01.084010Z"
    },
    "papermill": {
     "duration": 0.029261,
     "end_time": "2024-02-06T02:06:01.086691",
     "exception": false,
     "start_time": "2024-02-06T02:06:01.057430",
     "status": "completed"
    },
    "tags": []
   },
   "outputs": [],
   "source": [
    "# Genetic Algorithm\n",
    "def genetic_algorithm(generations, mutation_rate):\n",
    "    print(f\"Inizialized Population...\")\n",
    "    population = np.random.randint(1, high=251, size=(10, 3))\n",
    "    fitness_scores = np.array([fitness_function(chromosome) for chromosome in population])\n",
    "    max_fitness_each_gen = []\n",
    "    \n",
    "    for generation in range(generations):\n",
    "        print(f\"Generation - {generation + 1}\")\n",
    "        max_fitness_each_gen.append(np.max(fitness_scores))\n",
    "        \n",
    "        chromosome_1 = selection(population, fitness_scores)\n",
    "        chromosome_2 = selection(population, fitness_scores)\n",
    "        \n",
    "        if generation % mutation_rate == 0:\n",
    "            chromosome_1 = mutate(chromosome_1)\n",
    "            chromosome_2 = mutate(chromosome_2)\n",
    "        else:\n",
    "            chromosome_1, chromosome_2 = crossover(chromosome_1, chromosome_2)\n",
    "\n",
    "        fitness_score_1 = fitness_function(chromosome_1)\n",
    "        fitness_score_2 = fitness_function(chromosome_2)\n",
    "        \n",
    "        worst_index = np.argmin(fitness_scores)\n",
    "        worst_fitness = fitness_scores[worst_index]\n",
    "\n",
    "        if fitness_score_1 > worst_fitness:\n",
    "            population[worst_index] = chromosome_1\n",
    "            fitness_scores[worst_index] = fitness_score_1\n",
    "            worst_index = np.argmin(fitness_scores)\n",
    "            worst_fitness = fitness_scores[worst_index]\n",
    "\n",
    "        if fitness_score_2 > worst_fitness:\n",
    "            population[worst_index] = chromosome_2\n",
    "            fitness_scores[worst_index] = fitness_score_2\n",
    "        \n",
    "        # Release some memory\n",
    "        del chromosome_1, chromosome_2\n",
    "        del fitness_score_1, fitness_score_2\n",
    "        del worst_index, worst_fitness\n",
    "            \n",
    "    best_chromosome = population[np.argmax(fitness_scores)]\n",
    "    best_fitness = np.max(fitness_scores)\n",
    "    \n",
    "    return best_chromosome, best_fitness, max_fitness_each_gen\n",
    "\n",
    "# Selection (Tournament selection)\n",
    "def selection(population, fitness_scores, tournament_size=3):\n",
    "    indices = np.random.randint(len(population), size=tournament_size)\n",
    "    tournament = population[indices]\n",
    "    tournament_fitness = fitness_scores[indices]\n",
    "    return tournament[np.argmax(tournament_fitness)]\n",
    "\n",
    "# Crossover (Single-point crossover)\n",
    "def crossover(parent_1: list, parent_2: list):\n",
    "    parent_1 = decimal_to_binary(parent_1)\n",
    "    parent_2 = decimal_to_binary(parent_2)\n",
    "    \n",
    "    crossover_point = np.random.randint(1, len(parent_1))\n",
    "    offspring_1 = parent_1[:crossover_point] + parent_2[crossover_point:]\n",
    "    offspring_2 = parent_2[:crossover_point] + parent_1[crossover_point:]\n",
    "    \n",
    "    offspring_1 = binary_to_decimal(offspring_1)\n",
    "    offspring_2 = binary_to_decimal(offspring_2)\n",
    "    return offspring_1, offspring_2\n",
    "\n",
    "# Mutation (Swap Mutation)\n",
    "def mutate(chromosome: list):\n",
    "    chromosome = decimal_to_binary(chromosome)\n",
    "    \n",
    "    chromosome_list = list(chromosome)\n",
    "    i = np.random.randint(len(chromosome_list), size=2)\n",
    "    chromosome_list[i[0]], chromosome_list[i[1]] = chromosome_list[i[1]], chromosome_list[i[0]]\n",
    "    \n",
    "    chromosome_list = ''.join(chromosome_list)\n",
    "    chromosome = binary_to_decimal(chromosome_list)\n",
    "    return chromosome\n",
    "\n",
    "# Fitness Function\n",
    "def fitness_function(chromosome: list):\n",
    "    lstm_units = [int(chromosome[i]) or default for i, default in enumerate([128, 64, 32])]\n",
    "\n",
    "    # Build the LSTM model\n",
    "    tf.keras.backend.clear_session()\n",
    "    model = Sequential()\n",
    "    for i, units in enumerate(lstm_units[:LSTM_Layer]):\n",
    "        model.add(LSTM(units, return_sequences=(i < LSTM_Layer - 1), input_shape=(WINDOW_SIZE, 1)))\n",
    "    model.add(Dense(1))\n",
    "    \n",
    "    # Compile and train the model\n",
    "    model.compile(loss='mean_squared_error',\n",
    "                  optimizer='adam')\n",
    "    model.fit(X_train, y_train,\n",
    "              epochs=10,\n",
    "              batch_size=32,\n",
    "              verbose=0,\n",
    "              validation_split=0.1)\n",
    "\n",
    "    # Evaluate the model\n",
    "    loss = model.evaluate(X_test, y_test)\n",
    "\n",
    "    # Return the negative value of the loss as the fitness score\n",
    "    return -loss"
   ]
  },
  {
   "cell_type": "code",
   "execution_count": 10,
   "id": "0b96e2b7",
   "metadata": {
    "execution": {
     "iopub.execute_input": "2024-02-06T02:06:01.102468Z",
     "iopub.status.busy": "2024-02-06T02:06:01.101736Z",
     "iopub.status.idle": "2024-02-06T02:06:01.107433Z",
     "shell.execute_reply": "2024-02-06T02:06:01.106600Z"
    },
    "papermill": {
     "duration": 0.015544,
     "end_time": "2024-02-06T02:06:01.109341",
     "exception": false,
     "start_time": "2024-02-06T02:06:01.093797",
     "status": "completed"
    },
    "tags": []
   },
   "outputs": [],
   "source": [
    "import typing\n",
    "from datetime import datetime\n",
    "\n",
    "def timer(start_time: datetime = None) -> \"typing.Union[datetime.datetime, str]\":\n",
    "    if not start_time:\n",
    "        start_time = datetime.now()\n",
    "        return start_time\n",
    "    elif start_time:\n",
    "        thour, temp_sec = divmod((datetime.now() - start_time).total_seconds(), 3600)\n",
    "        tmin, tsec = divmod(temp_sec, 60)\n",
    "        return \"%i hours %i minutes and %s seconds.\" % (\n",
    "            thour,\n",
    "            tmin,\n",
    "            round(tsec, 2),\n",
    "        )"
   ]
  },
  {
   "cell_type": "code",
   "execution_count": 11,
   "id": "810f35bb",
   "metadata": {
    "execution": {
     "iopub.execute_input": "2024-02-06T02:06:01.125348Z",
     "iopub.status.busy": "2024-02-06T02:06:01.124664Z",
     "iopub.status.idle": "2024-02-06T02:20:21.605024Z",
     "shell.execute_reply": "2024-02-06T02:20:21.604115Z"
    },
    "papermill": {
     "duration": 860.490937,
     "end_time": "2024-02-06T02:20:21.607496",
     "exception": false,
     "start_time": "2024-02-06T02:06:01.116559",
     "status": "completed"
    },
    "tags": []
   },
   "outputs": [
    {
     "name": "stdout",
     "output_type": "stream",
     "text": [
      "Inizialized Population...\n",
      "7/7 [==============================] - 0s 4ms/step - loss: 8.7514e-04\n",
      "7/7 [==============================] - 0s 3ms/step - loss: 0.0012\n",
      "7/7 [==============================] - 0s 3ms/step - loss: 7.6855e-04\n",
      "7/7 [==============================] - 0s 3ms/step - loss: 9.9476e-04\n",
      "7/7 [==============================] - 0s 4ms/step - loss: 0.0012\n",
      "7/7 [==============================] - 0s 3ms/step - loss: 7.8251e-04\n",
      "7/7 [==============================] - 0s 3ms/step - loss: 9.3314e-04\n",
      "7/7 [==============================] - 0s 3ms/step - loss: 8.8276e-04\n",
      "7/7 [==============================] - 0s 3ms/step - loss: 9.7591e-04\n",
      "7/7 [==============================] - 0s 3ms/step - loss: 0.0011\n",
      "Generation - 1\n",
      "7/7 [==============================] - 0s 3ms/step - loss: 0.0010\n",
      "7/7 [==============================] - 0s 3ms/step - loss: 8.6652e-04\n",
      "Generation - 2\n",
      "7/7 [==============================] - 0s 3ms/step - loss: 9.1665e-04\n",
      "7/7 [==============================] - 0s 3ms/step - loss: 8.6821e-04\n",
      "Generation - 3\n",
      "7/7 [==============================] - 0s 3ms/step - loss: 7.6766e-04\n",
      "7/7 [==============================] - 0s 3ms/step - loss: 8.9549e-04\n",
      "Generation - 4\n",
      "7/7 [==============================] - 0s 3ms/step - loss: 8.5503e-04\n",
      "7/7 [==============================] - 0s 3ms/step - loss: 8.4021e-04\n",
      "Generation - 5\n",
      "7/7 [==============================] - 0s 3ms/step - loss: 8.1430e-04\n",
      "7/7 [==============================] - 0s 4ms/step - loss: 8.6921e-04\n",
      "Generation - 6\n",
      "7/7 [==============================] - 0s 3ms/step - loss: 9.1410e-04\n",
      "7/7 [==============================] - 0s 3ms/step - loss: 7.6724e-04\n",
      "Generation - 7\n",
      "7/7 [==============================] - 0s 3ms/step - loss: 8.4255e-04\n",
      "7/7 [==============================] - 0s 4ms/step - loss: 9.7720e-04\n",
      "Generation - 8\n",
      "7/7 [==============================] - 0s 3ms/step - loss: 8.0070e-04\n",
      "7/7 [==============================] - 0s 3ms/step - loss: 7.9309e-04\n",
      "Generation - 9\n",
      "7/7 [==============================] - 0s 3ms/step - loss: 8.8387e-04\n",
      "7/7 [==============================] - 0s 3ms/step - loss: 7.8044e-04\n",
      "Generation - 10\n",
      "7/7 [==============================] - 0s 3ms/step - loss: 7.7975e-04\n",
      "7/7 [==============================] - 0s 3ms/step - loss: 8.0039e-04\n",
      "Generation - 11\n",
      "7/7 [==============================] - 0s 3ms/step - loss: 8.1828e-04\n",
      "7/7 [==============================] - 0s 3ms/step - loss: 9.3748e-04\n",
      "Generation - 12\n",
      "7/7 [==============================] - 0s 3ms/step - loss: 0.0010\n",
      "7/7 [==============================] - 0s 3ms/step - loss: 8.2987e-04\n",
      "Generation - 13\n",
      "7/7 [==============================] - 0s 3ms/step - loss: 0.0011\n",
      "7/7 [==============================] - 0s 3ms/step - loss: 0.0010\n",
      "Generation - 14\n",
      "7/7 [==============================] - 0s 3ms/step - loss: 8.1986e-04\n",
      "7/7 [==============================] - 0s 3ms/step - loss: 9.3310e-04\n",
      "Generation - 15\n",
      "7/7 [==============================] - 0s 3ms/step - loss: 8.3354e-04\n",
      "7/7 [==============================] - 0s 4ms/step - loss: 7.3966e-04\n",
      "Generation - 16\n",
      "7/7 [==============================] - 0s 3ms/step - loss: 8.0754e-04\n",
      "7/7 [==============================] - 0s 3ms/step - loss: 9.9602e-04\n",
      "Generation - 17\n",
      "7/7 [==============================] - 0s 3ms/step - loss: 7.6078e-04\n",
      "7/7 [==============================] - 0s 3ms/step - loss: 9.7532e-04\n",
      "Generation - 18\n",
      "7/7 [==============================] - 0s 3ms/step - loss: 8.8038e-04\n",
      "7/7 [==============================] - 0s 3ms/step - loss: 7.6114e-04\n",
      "Generation - 19\n",
      "7/7 [==============================] - 0s 3ms/step - loss: 9.5645e-04\n",
      "7/7 [==============================] - 0s 3ms/step - loss: 7.5220e-04\n",
      "Generation - 20\n",
      "7/7 [==============================] - 0s 3ms/step - loss: 7.3923e-04\n",
      "7/7 [==============================] - 0s 3ms/step - loss: 0.0014\n",
      "Generation - 21\n",
      "7/7 [==============================] - 0s 3ms/step - loss: 8.2517e-04\n",
      "7/7 [==============================] - 0s 4ms/step - loss: 7.7301e-04\n",
      "Generation - 22\n",
      "7/7 [==============================] - 0s 3ms/step - loss: 9.5177e-04\n",
      "7/7 [==============================] - 0s 3ms/step - loss: 7.7182e-04\n",
      "Generation - 23\n",
      "7/7 [==============================] - 0s 3ms/step - loss: 8.8760e-04\n",
      "7/7 [==============================] - 0s 4ms/step - loss: 0.0010\n",
      "Generation - 24\n",
      "7/7 [==============================] - 0s 3ms/step - loss: 0.0011\n",
      "7/7 [==============================] - 0s 3ms/step - loss: 7.8686e-04\n",
      "Generation - 25\n",
      "7/7 [==============================] - 0s 3ms/step - loss: 0.0011\n",
      "7/7 [==============================] - 0s 3ms/step - loss: 9.8301e-04\n",
      "Generation - 26\n",
      "7/7 [==============================] - 0s 3ms/step - loss: 8.5253e-04\n",
      "7/7 [==============================] - 0s 3ms/step - loss: 7.6297e-04\n",
      "Generation - 27\n",
      "7/7 [==============================] - 0s 3ms/step - loss: 7.4478e-04\n",
      "7/7 [==============================] - 0s 3ms/step - loss: 7.3942e-04\n",
      "Generation - 28\n",
      "7/7 [==============================] - 0s 3ms/step - loss: 0.0017\n",
      "7/7 [==============================] - 0s 3ms/step - loss: 7.4975e-04\n",
      "Generation - 29\n",
      "7/7 [==============================] - 0s 4ms/step - loss: 7.4234e-04\n",
      "7/7 [==============================] - 0s 3ms/step - loss: 7.7354e-04\n",
      "Generation - 30\n",
      "7/7 [==============================] - 0s 3ms/step - loss: 7.6383e-04\n",
      "7/7 [==============================] - 0s 3ms/step - loss: 7.9367e-04\n",
      "Generation - 31\n",
      "7/7 [==============================] - 0s 3ms/step - loss: 8.4422e-04\n",
      "7/7 [==============================] - 0s 3ms/step - loss: 7.4648e-04\n",
      "Generation - 32\n",
      "7/7 [==============================] - 0s 3ms/step - loss: 8.6576e-04\n",
      "7/7 [==============================] - 0s 3ms/step - loss: 7.6248e-04\n",
      "Generation - 33\n",
      "7/7 [==============================] - 0s 3ms/step - loss: 7.3825e-04\n",
      "7/7 [==============================] - 0s 3ms/step - loss: 7.4477e-04\n",
      "Generation - 34\n",
      "7/7 [==============================] - 0s 3ms/step - loss: 7.5289e-04\n",
      "7/7 [==============================] - 0s 3ms/step - loss: 0.0013\n",
      "Generation - 35\n",
      "7/7 [==============================] - 0s 3ms/step - loss: 8.2200e-04\n",
      "7/7 [==============================] - 0s 4ms/step - loss: 9.6352e-04\n",
      "Generation - 36\n",
      "7/7 [==============================] - 0s 3ms/step - loss: 7.7652e-04\n",
      "7/7 [==============================] - 0s 3ms/step - loss: 0.0010\n",
      "Generation - 37\n",
      "7/7 [==============================] - 0s 3ms/step - loss: 0.0010\n",
      "7/7 [==============================] - 0s 4ms/step - loss: 8.6618e-04\n",
      "Generation - 38\n",
      "7/7 [==============================] - 0s 3ms/step - loss: 7.3713e-04\n",
      "7/7 [==============================] - 0s 3ms/step - loss: 0.0014\n",
      "Generation - 39\n",
      "7/7 [==============================] - 0s 3ms/step - loss: 8.3978e-04\n",
      "7/7 [==============================] - 0s 3ms/step - loss: 7.6039e-04\n",
      "Generation - 40\n",
      "7/7 [==============================] - 0s 3ms/step - loss: 8.0790e-04\n",
      "7/7 [==============================] - 0s 3ms/step - loss: 7.2517e-04\n",
      "Generation - 41\n",
      "7/7 [==============================] - 0s 3ms/step - loss: 7.7755e-04\n",
      "7/7 [==============================] - 0s 4ms/step - loss: 8.1552e-04\n",
      "Generation - 42\n",
      "7/7 [==============================] - 0s 3ms/step - loss: 7.6196e-04\n",
      "7/7 [==============================] - 0s 3ms/step - loss: 7.4300e-04\n",
      "Generation - 43\n",
      "7/7 [==============================] - 0s 3ms/step - loss: 8.4613e-04\n",
      "7/7 [==============================] - 0s 3ms/step - loss: 7.4794e-04\n",
      "Generation - 44\n",
      "7/7 [==============================] - 0s 3ms/step - loss: 7.2139e-04\n",
      "7/7 [==============================] - 0s 3ms/step - loss: 8.3974e-04\n",
      "Generation - 45\n",
      "7/7 [==============================] - 0s 3ms/step - loss: 7.5678e-04\n",
      "7/7 [==============================] - 0s 3ms/step - loss: 0.0016\n",
      "Generation - 46\n",
      "7/7 [==============================] - 0s 3ms/step - loss: 7.6342e-04\n",
      "7/7 [==============================] - 0s 3ms/step - loss: 0.0013\n",
      "Generation - 47\n",
      "7/7 [==============================] - 0s 3ms/step - loss: 7.9169e-04\n",
      "7/7 [==============================] - 0s 4ms/step - loss: 7.9681e-04\n",
      "Generation - 48\n",
      "7/7 [==============================] - 0s 3ms/step - loss: 0.0011\n",
      "7/7 [==============================] - 0s 4ms/step - loss: 8.6317e-04\n",
      "Generation - 49\n",
      "7/7 [==============================] - 0s 3ms/step - loss: 7.6989e-04\n",
      "7/7 [==============================] - 0s 3ms/step - loss: 7.7029e-04\n",
      "Generation - 50\n",
      "7/7 [==============================] - 0s 3ms/step - loss: 7.7740e-04\n",
      "7/7 [==============================] - 0s 4ms/step - loss: 7.3476e-04\n"
     ]
    }
   ],
   "source": [
    "# Do not increase this value\n",
    "generations = 50\n",
    "mutation_rate = 5\n",
    "\n",
    "time = timer(None)\n",
    "best_chromosome, best_fitness, max_fitness_each_gen = genetic_algorithm(generations, mutation_rate)\n",
    "time = timer(time)"
   ]
  },
  {
   "cell_type": "code",
   "execution_count": 12,
   "id": "19aedbc5",
   "metadata": {
    "execution": {
     "iopub.execute_input": "2024-02-06T02:20:21.671910Z",
     "iopub.status.busy": "2024-02-06T02:20:21.671615Z",
     "iopub.status.idle": "2024-02-06T02:20:21.676827Z",
     "shell.execute_reply": "2024-02-06T02:20:21.675883Z"
    },
    "papermill": {
     "duration": 0.038641,
     "end_time": "2024-02-06T02:20:21.679544",
     "exception": false,
     "start_time": "2024-02-06T02:20:21.640903",
     "status": "completed"
    },
    "tags": []
   },
   "outputs": [
    {
     "name": "stdout",
     "output_type": "stream",
     "text": [
      "Best Chromosome: [237 247  70]\n",
      "Best Fitness: -0.0007213856442831457\n",
      "Time Taken: 0 hours 14 minutes and 20.48 seconds.\n"
     ]
    }
   ],
   "source": [
    "print(\"Best Chromosome:\", best_chromosome)\n",
    "print(\"Best Fitness:\", best_fitness)\n",
    "print(\"Time Taken:\", time)"
   ]
  },
  {
   "cell_type": "code",
   "execution_count": 13,
   "id": "2cfa170c",
   "metadata": {
    "execution": {
     "iopub.execute_input": "2024-02-06T02:20:21.743955Z",
     "iopub.status.busy": "2024-02-06T02:20:21.743571Z",
     "iopub.status.idle": "2024-02-06T02:20:21.750572Z",
     "shell.execute_reply": "2024-02-06T02:20:21.749623Z"
    },
    "papermill": {
     "duration": 0.040903,
     "end_time": "2024-02-06T02:20:21.752773",
     "exception": false,
     "start_time": "2024-02-06T02:20:21.711870",
     "status": "completed"
    },
    "tags": []
   },
   "outputs": [
    {
     "data": {
      "text/plain": [
       "[-0.0007685457821935415,\n",
       " -0.0007685457821935415,\n",
       " -0.0007685457821935415,\n",
       " -0.0007676642271690071,\n",
       " -0.0007676642271690071,\n",
       " -0.0007676642271690071,\n",
       " -0.0007672425708733499,\n",
       " -0.0007672425708733499,\n",
       " -0.0007672425708733499,\n",
       " -0.0007672425708733499,\n",
       " -0.0007672425708733499,\n",
       " -0.0007672425708733499,\n",
       " -0.0007672425708733499,\n",
       " -0.0007672425708733499,\n",
       " -0.0007672425708733499,\n",
       " -0.0007396587752737105,\n",
       " -0.0007396587752737105,\n",
       " -0.0007396587752737105,\n",
       " -0.0007396587752737105,\n",
       " -0.0007396587752737105,\n",
       " -0.0007392284460365772,\n",
       " -0.0007392284460365772,\n",
       " -0.0007392284460365772,\n",
       " -0.0007392284460365772,\n",
       " -0.0007392284460365772,\n",
       " -0.0007392284460365772,\n",
       " -0.0007392284460365772,\n",
       " -0.0007392284460365772,\n",
       " -0.0007392284460365772,\n",
       " -0.0007392284460365772,\n",
       " -0.0007392284460365772,\n",
       " -0.0007392284460365772,\n",
       " -0.0007392284460365772,\n",
       " -0.000738254573661834,\n",
       " -0.000738254573661834,\n",
       " -0.000738254573661834,\n",
       " -0.000738254573661834,\n",
       " -0.000738254573661834,\n",
       " -0.0007371334359049797,\n",
       " -0.0007371334359049797,\n",
       " -0.0007251702481880784,\n",
       " -0.0007251702481880784,\n",
       " -0.0007251702481880784,\n",
       " -0.0007251702481880784,\n",
       " -0.0007213856442831457,\n",
       " -0.0007213856442831457,\n",
       " -0.0007213856442831457,\n",
       " -0.0007213856442831457,\n",
       " -0.0007213856442831457,\n",
       " -0.0007213856442831457]"
      ]
     },
     "execution_count": 13,
     "metadata": {},
     "output_type": "execute_result"
    }
   ],
   "source": [
    "max_fitness_each_gen"
   ]
  },
  {
   "cell_type": "markdown",
   "id": "ef17d5da",
   "metadata": {
    "papermill": {
     "duration": 0.029669,
     "end_time": "2024-02-06T02:20:21.813300",
     "exception": false,
     "start_time": "2024-02-06T02:20:21.783631",
     "status": "completed"
    },
    "tags": []
   },
   "source": [
    "## Re-Training Model with Best Parameter"
   ]
  },
  {
   "cell_type": "code",
   "execution_count": 14,
   "id": "6ef74977",
   "metadata": {
    "execution": {
     "iopub.execute_input": "2024-02-06T02:20:21.870229Z",
     "iopub.status.busy": "2024-02-06T02:20:21.869855Z",
     "iopub.status.idle": "2024-02-06T02:20:22.419115Z",
     "shell.execute_reply": "2024-02-06T02:20:22.418198Z"
    },
    "papermill": {
     "duration": 0.580865,
     "end_time": "2024-02-06T02:20:22.421912",
     "exception": false,
     "start_time": "2024-02-06T02:20:21.841047",
     "status": "completed"
    },
    "tags": []
   },
   "outputs": [
    {
     "name": "stdout",
     "output_type": "stream",
     "text": [
      "Model: \"sequential_1\"\n",
      "_________________________________________________________________\n",
      " Layer (type)                Output Shape              Param #   \n",
      "=================================================================\n",
      " lstm_2 (LSTM)               (None, 10, 237)           226572    \n",
      "                                                                 \n",
      " lstm_3 (LSTM)               (None, 247)               479180    \n",
      "                                                                 \n",
      " dense_1 (Dense)             (None, 1)                 248       \n",
      "                                                                 \n",
      "=================================================================\n",
      "Total params: 706,000\n",
      "Trainable params: 706,000\n",
      "Non-trainable params: 0\n",
      "_________________________________________________________________\n"
     ]
    }
   ],
   "source": [
    "model = Sequential()\n",
    "for i, units in enumerate(best_chromosome[:LSTM_Layer]):\n",
    "    model.add(LSTM(units, return_sequences=(i < LSTM_Layer - 1), input_shape=(WINDOW_SIZE, 1)))\n",
    "model.add(Dense(1))\n",
    "\n",
    "model.summary()"
   ]
  },
  {
   "cell_type": "code",
   "execution_count": 15,
   "id": "95773116",
   "metadata": {
    "execution": {
     "iopub.execute_input": "2024-02-06T02:20:22.480218Z",
     "iopub.status.busy": "2024-02-06T02:20:22.479861Z",
     "iopub.status.idle": "2024-02-06T02:20:45.819249Z",
     "shell.execute_reply": "2024-02-06T02:20:45.818289Z"
    },
    "papermill": {
     "duration": 23.370909,
     "end_time": "2024-02-06T02:20:45.821509",
     "exception": false,
     "start_time": "2024-02-06T02:20:22.450600",
     "status": "completed"
    },
    "tags": []
   },
   "outputs": [
    {
     "name": "stdout",
     "output_type": "stream",
     "text": [
      "Epoch 1/50\n",
      "50/50 [==============================] - 4s 22ms/step - loss: 0.0165 - mae: 0.0833 - root_mean_squared_error: 0.1286 - val_loss: 0.0028 - val_mae: 0.0428 - val_root_mean_squared_error: 0.0530\n",
      "Epoch 2/50\n",
      "50/50 [==============================] - 0s 7ms/step - loss: 0.0020 - mae: 0.0315 - root_mean_squared_error: 0.0446 - val_loss: 0.0022 - val_mae: 0.0370 - val_root_mean_squared_error: 0.0471\n",
      "Epoch 3/50\n",
      "50/50 [==============================] - 0s 7ms/step - loss: 0.0018 - mae: 0.0293 - root_mean_squared_error: 0.0429 - val_loss: 0.0021 - val_mae: 0.0358 - val_root_mean_squared_error: 0.0461\n",
      "Epoch 4/50\n",
      "50/50 [==============================] - 0s 7ms/step - loss: 0.0018 - mae: 0.0289 - root_mean_squared_error: 0.0424 - val_loss: 0.0021 - val_mae: 0.0353 - val_root_mean_squared_error: 0.0455\n",
      "Epoch 5/50\n",
      "50/50 [==============================] - 0s 7ms/step - loss: 0.0017 - mae: 0.0282 - root_mean_squared_error: 0.0412 - val_loss: 0.0020 - val_mae: 0.0350 - val_root_mean_squared_error: 0.0450\n",
      "Epoch 6/50\n",
      "50/50 [==============================] - 0s 6ms/step - loss: 0.0016 - mae: 0.0277 - root_mean_squared_error: 0.0404 - val_loss: 0.0020 - val_mae: 0.0347 - val_root_mean_squared_error: 0.0444\n",
      "Epoch 7/50\n",
      "50/50 [==============================] - 0s 7ms/step - loss: 0.0018 - mae: 0.0290 - root_mean_squared_error: 0.0420 - val_loss: 0.0021 - val_mae: 0.0371 - val_root_mean_squared_error: 0.0461\n",
      "Epoch 8/50\n",
      "50/50 [==============================] - 0s 7ms/step - loss: 0.0017 - mae: 0.0290 - root_mean_squared_error: 0.0414 - val_loss: 0.0018 - val_mae: 0.0328 - val_root_mean_squared_error: 0.0427\n",
      "Epoch 9/50\n",
      "50/50 [==============================] - 0s 7ms/step - loss: 0.0017 - mae: 0.0283 - root_mean_squared_error: 0.0408 - val_loss: 0.0018 - val_mae: 0.0333 - val_root_mean_squared_error: 0.0428\n",
      "Epoch 10/50\n",
      "50/50 [==============================] - 0s 7ms/step - loss: 0.0014 - mae: 0.0253 - root_mean_squared_error: 0.0375 - val_loss: 0.0020 - val_mae: 0.0356 - val_root_mean_squared_error: 0.0443\n",
      "Epoch 11/50\n",
      "50/50 [==============================] - 0s 7ms/step - loss: 0.0013 - mae: 0.0245 - root_mean_squared_error: 0.0366 - val_loss: 0.0017 - val_mae: 0.0301 - val_root_mean_squared_error: 0.0406\n",
      "Epoch 12/50\n",
      "50/50 [==============================] - 0s 7ms/step - loss: 0.0015 - mae: 0.0263 - root_mean_squared_error: 0.0384 - val_loss: 0.0016 - val_mae: 0.0304 - val_root_mean_squared_error: 0.0404\n",
      "Epoch 13/50\n",
      "50/50 [==============================] - 0s 7ms/step - loss: 0.0012 - mae: 0.0229 - root_mean_squared_error: 0.0351 - val_loss: 0.0016 - val_mae: 0.0312 - val_root_mean_squared_error: 0.0405\n",
      "Epoch 14/50\n",
      "50/50 [==============================] - 0s 7ms/step - loss: 0.0012 - mae: 0.0227 - root_mean_squared_error: 0.0348 - val_loss: 0.0016 - val_mae: 0.0299 - val_root_mean_squared_error: 0.0397\n",
      "Epoch 15/50\n",
      "50/50 [==============================] - 0s 7ms/step - loss: 0.0015 - mae: 0.0269 - root_mean_squared_error: 0.0388 - val_loss: 0.0017 - val_mae: 0.0322 - val_root_mean_squared_error: 0.0411\n",
      "Epoch 16/50\n",
      "50/50 [==============================] - 0s 7ms/step - loss: 0.0012 - mae: 0.0233 - root_mean_squared_error: 0.0353 - val_loss: 0.0016 - val_mae: 0.0287 - val_root_mean_squared_error: 0.0396\n",
      "Epoch 17/50\n",
      "50/50 [==============================] - 0s 7ms/step - loss: 0.0013 - mae: 0.0242 - root_mean_squared_error: 0.0359 - val_loss: 0.0015 - val_mae: 0.0292 - val_root_mean_squared_error: 0.0389\n",
      "Epoch 18/50\n",
      "50/50 [==============================] - 0s 7ms/step - loss: 0.0011 - mae: 0.0210 - root_mean_squared_error: 0.0332 - val_loss: 0.0015 - val_mae: 0.0299 - val_root_mean_squared_error: 0.0392\n",
      "Epoch 19/50\n",
      "50/50 [==============================] - 0s 7ms/step - loss: 0.0012 - mae: 0.0228 - root_mean_squared_error: 0.0349 - val_loss: 0.0015 - val_mae: 0.0285 - val_root_mean_squared_error: 0.0384\n",
      "Epoch 20/50\n",
      "50/50 [==============================] - 0s 7ms/step - loss: 0.0012 - mae: 0.0219 - root_mean_squared_error: 0.0341 - val_loss: 0.0016 - val_mae: 0.0305 - val_root_mean_squared_error: 0.0396\n",
      "Epoch 21/50\n",
      "50/50 [==============================] - 0s 7ms/step - loss: 0.0011 - mae: 0.0213 - root_mean_squared_error: 0.0336 - val_loss: 0.0015 - val_mae: 0.0287 - val_root_mean_squared_error: 0.0383\n",
      "Epoch 22/50\n",
      "50/50 [==============================] - 0s 7ms/step - loss: 0.0011 - mae: 0.0208 - root_mean_squared_error: 0.0330 - val_loss: 0.0015 - val_mae: 0.0286 - val_root_mean_squared_error: 0.0382\n",
      "Epoch 23/50\n",
      "50/50 [==============================] - 0s 7ms/step - loss: 0.0011 - mae: 0.0205 - root_mean_squared_error: 0.0331 - val_loss: 0.0014 - val_mae: 0.0274 - val_root_mean_squared_error: 0.0376\n",
      "Epoch 24/50\n",
      "50/50 [==============================] - 0s 7ms/step - loss: 0.0011 - mae: 0.0205 - root_mean_squared_error: 0.0328 - val_loss: 0.0014 - val_mae: 0.0272 - val_root_mean_squared_error: 0.0374\n",
      "Epoch 25/50\n",
      "50/50 [==============================] - 0s 7ms/step - loss: 0.0012 - mae: 0.0218 - root_mean_squared_error: 0.0341 - val_loss: 0.0014 - val_mae: 0.0267 - val_root_mean_squared_error: 0.0371\n",
      "Epoch 26/50\n",
      "50/50 [==============================] - 0s 7ms/step - loss: 0.0011 - mae: 0.0211 - root_mean_squared_error: 0.0335 - val_loss: 0.0014 - val_mae: 0.0268 - val_root_mean_squared_error: 0.0372\n",
      "Epoch 27/50\n",
      "50/50 [==============================] - 0s 7ms/step - loss: 0.0012 - mae: 0.0218 - root_mean_squared_error: 0.0341 - val_loss: 0.0014 - val_mae: 0.0275 - val_root_mean_squared_error: 0.0375\n",
      "Epoch 28/50\n",
      "50/50 [==============================] - 0s 7ms/step - loss: 0.0011 - mae: 0.0204 - root_mean_squared_error: 0.0328 - val_loss: 0.0015 - val_mae: 0.0286 - val_root_mean_squared_error: 0.0381\n",
      "Epoch 29/50\n",
      "50/50 [==============================] - 0s 7ms/step - loss: 0.0011 - mae: 0.0210 - root_mean_squared_error: 0.0334 - val_loss: 0.0014 - val_mae: 0.0257 - val_root_mean_squared_error: 0.0368\n",
      "Epoch 30/50\n",
      "50/50 [==============================] - 0s 7ms/step - loss: 0.0012 - mae: 0.0218 - root_mean_squared_error: 0.0341 - val_loss: 0.0015 - val_mae: 0.0299 - val_root_mean_squared_error: 0.0392\n",
      "Epoch 31/50\n",
      "50/50 [==============================] - 0s 7ms/step - loss: 0.0012 - mae: 0.0226 - root_mean_squared_error: 0.0344 - val_loss: 0.0017 - val_mae: 0.0317 - val_root_mean_squared_error: 0.0407\n",
      "Epoch 32/50\n",
      "50/50 [==============================] - 0s 7ms/step - loss: 0.0011 - mae: 0.0211 - root_mean_squared_error: 0.0338 - val_loss: 0.0013 - val_mae: 0.0263 - val_root_mean_squared_error: 0.0366\n",
      "Epoch 33/50\n",
      "50/50 [==============================] - 0s 7ms/step - loss: 0.0010 - mae: 0.0191 - root_mean_squared_error: 0.0322 - val_loss: 0.0014 - val_mae: 0.0268 - val_root_mean_squared_error: 0.0369\n",
      "Epoch 34/50\n",
      "50/50 [==============================] - 0s 7ms/step - loss: 0.0011 - mae: 0.0203 - root_mean_squared_error: 0.0330 - val_loss: 0.0013 - val_mae: 0.0250 - val_root_mean_squared_error: 0.0365\n",
      "Epoch 35/50\n",
      "50/50 [==============================] - 0s 7ms/step - loss: 0.0011 - mae: 0.0199 - root_mean_squared_error: 0.0329 - val_loss: 0.0013 - val_mae: 0.0265 - val_root_mean_squared_error: 0.0367\n",
      "Epoch 36/50\n",
      "50/50 [==============================] - 0s 7ms/step - loss: 0.0011 - mae: 0.0213 - root_mean_squared_error: 0.0338 - val_loss: 0.0013 - val_mae: 0.0252 - val_root_mean_squared_error: 0.0360\n",
      "Epoch 37/50\n",
      "50/50 [==============================] - 0s 7ms/step - loss: 0.0011 - mae: 0.0193 - root_mean_squared_error: 0.0324 - val_loss: 0.0013 - val_mae: 0.0251 - val_root_mean_squared_error: 0.0362\n",
      "Epoch 38/50\n",
      "50/50 [==============================] - 0s 7ms/step - loss: 0.0011 - mae: 0.0210 - root_mean_squared_error: 0.0336 - val_loss: 0.0013 - val_mae: 0.0257 - val_root_mean_squared_error: 0.0362\n",
      "Epoch 39/50\n",
      "50/50 [==============================] - 0s 7ms/step - loss: 0.0010 - mae: 0.0194 - root_mean_squared_error: 0.0323 - val_loss: 0.0013 - val_mae: 0.0251 - val_root_mean_squared_error: 0.0361\n",
      "Epoch 40/50\n",
      "50/50 [==============================] - 0s 7ms/step - loss: 0.0010 - mae: 0.0187 - root_mean_squared_error: 0.0322 - val_loss: 0.0013 - val_mae: 0.0256 - val_root_mean_squared_error: 0.0361\n",
      "Epoch 41/50\n",
      "50/50 [==============================] - 0s 7ms/step - loss: 0.0010 - mae: 0.0187 - root_mean_squared_error: 0.0320 - val_loss: 0.0013 - val_mae: 0.0262 - val_root_mean_squared_error: 0.0365\n",
      "Epoch 42/50\n",
      "50/50 [==============================] - 0s 7ms/step - loss: 0.0011 - mae: 0.0200 - root_mean_squared_error: 0.0329 - val_loss: 0.0015 - val_mae: 0.0294 - val_root_mean_squared_error: 0.0387\n",
      "Epoch 43/50\n",
      "50/50 [==============================] - 0s 7ms/step - loss: 0.0011 - mae: 0.0211 - root_mean_squared_error: 0.0337 - val_loss: 0.0013 - val_mae: 0.0245 - val_root_mean_squared_error: 0.0359\n",
      "Epoch 44/50\n",
      "50/50 [==============================] - 0s 7ms/step - loss: 0.0011 - mae: 0.0198 - root_mean_squared_error: 0.0326 - val_loss: 0.0013 - val_mae: 0.0257 - val_root_mean_squared_error: 0.0362\n",
      "Epoch 45/50\n",
      "50/50 [==============================] - 0s 7ms/step - loss: 0.0012 - mae: 0.0223 - root_mean_squared_error: 0.0349 - val_loss: 0.0013 - val_mae: 0.0245 - val_root_mean_squared_error: 0.0363\n",
      "Epoch 46/50\n",
      "50/50 [==============================] - 0s 7ms/step - loss: 0.0011 - mae: 0.0204 - root_mean_squared_error: 0.0330 - val_loss: 0.0013 - val_mae: 0.0261 - val_root_mean_squared_error: 0.0363\n",
      "Epoch 47/50\n",
      "50/50 [==============================] - 0s 7ms/step - loss: 0.0012 - mae: 0.0217 - root_mean_squared_error: 0.0342 - val_loss: 0.0013 - val_mae: 0.0247 - val_root_mean_squared_error: 0.0360\n",
      "Epoch 48/50\n",
      "50/50 [==============================] - 0s 7ms/step - loss: 0.0010 - mae: 0.0190 - root_mean_squared_error: 0.0321 - val_loss: 0.0013 - val_mae: 0.0247 - val_root_mean_squared_error: 0.0360\n",
      "Epoch 49/50\n",
      "50/50 [==============================] - 0s 7ms/step - loss: 0.0010 - mae: 0.0182 - root_mean_squared_error: 0.0318 - val_loss: 0.0014 - val_mae: 0.0269 - val_root_mean_squared_error: 0.0368\n",
      "Epoch 50/50\n",
      "50/50 [==============================] - 0s 7ms/step - loss: 0.0011 - mae: 0.0204 - root_mean_squared_error: 0.0337 - val_loss: 0.0013 - val_mae: 0.0250 - val_root_mean_squared_error: 0.0357\n"
     ]
    }
   ],
   "source": [
    "model.compile(loss='mean_squared_error',\n",
    "              metrics=['mae', RootMeanSquaredError()],\n",
    "              optimizer='adam')\n",
    "\n",
    "history = model.fit(X_train,\n",
    "                    y_train,\n",
    "                    epochs=50,\n",
    "                    batch_size=32,\n",
    "                    validation_split=0.1)"
   ]
  },
  {
   "cell_type": "code",
   "execution_count": 16,
   "id": "4e9c1c27",
   "metadata": {
    "execution": {
     "iopub.execute_input": "2024-02-06T02:20:45.940343Z",
     "iopub.status.busy": "2024-02-06T02:20:45.939972Z",
     "iopub.status.idle": "2024-02-06T02:20:46.063708Z",
     "shell.execute_reply": "2024-02-06T02:20:46.062537Z"
    },
    "papermill": {
     "duration": 0.186696,
     "end_time": "2024-02-06T02:20:46.066213",
     "exception": false,
     "start_time": "2024-02-06T02:20:45.879517",
     "status": "completed"
    },
    "tags": []
   },
   "outputs": [
    {
     "name": "stdout",
     "output_type": "stream",
     "text": [
      "7/7 [==============================] - 0s 6ms/step - loss: 5.5699e-04 - mae: 0.0161 - root_mean_squared_error: 0.0236\n"
     ]
    },
    {
     "data": {
      "text/plain": [
       "[0.0005569912027567625, 0.016092000529170036, 0.023600660264492035]"
      ]
     },
     "execution_count": 16,
     "metadata": {},
     "output_type": "execute_result"
    }
   ],
   "source": [
    "model.evaluate(X_test, y_test)"
   ]
  },
  {
   "cell_type": "markdown",
   "id": "c301bed4",
   "metadata": {
    "papermill": {
     "duration": 0.058383,
     "end_time": "2024-02-06T02:20:46.186287",
     "exception": false,
     "start_time": "2024-02-06T02:20:46.127904",
     "status": "completed"
    },
    "tags": []
   },
   "source": [
    "## Model Evaluation"
   ]
  },
  {
   "cell_type": "code",
   "execution_count": 17,
   "id": "87c7dd17",
   "metadata": {
    "execution": {
     "iopub.execute_input": "2024-02-06T02:20:46.306004Z",
     "iopub.status.busy": "2024-02-06T02:20:46.305601Z",
     "iopub.status.idle": "2024-02-06T02:20:46.605126Z",
     "shell.execute_reply": "2024-02-06T02:20:46.604215Z"
    },
    "papermill": {
     "duration": 0.361483,
     "end_time": "2024-02-06T02:20:46.607267",
     "exception": false,
     "start_time": "2024-02-06T02:20:46.245784",
     "status": "completed"
    },
    "tags": []
   },
   "outputs": [
    {
     "data": {
      "image/png": "[encoded data removed]",
      "text/plain": [
       "<Figure size 640x480 with 1 Axes>"
      ]
     },
     "metadata": {},
     "output_type": "display_data"
    }
   ],
   "source": [
    "plt.plot(history.history['loss'])\n",
    "plt.plot(history.history['val_loss'])\n",
    "plt.title(f'{SHEET_NAME} Model Loss', fontsize=15)\n",
    "plt.ylabel('loss')\n",
    "plt.xlabel('epoch')\n",
    "plt.legend(['train', 'test'])\n",
    "plt.show()"
   ]
  },
  {
   "cell_type": "code",
   "execution_count": 18,
   "id": "20827bca",
   "metadata": {
    "execution": {
     "iopub.execute_input": "2024-02-06T02:20:46.728194Z",
     "iopub.status.busy": "2024-02-06T02:20:46.727452Z",
     "iopub.status.idle": "2024-02-06T02:20:47.474854Z",
     "shell.execute_reply": "2024-02-06T02:20:47.473808Z"
    },
    "papermill": {
     "duration": 0.810165,
     "end_time": "2024-02-06T02:20:47.477159",
     "exception": false,
     "start_time": "2024-02-06T02:20:46.666994",
     "status": "completed"
    },
    "tags": []
   },
   "outputs": [
    {
     "name": "stdout",
     "output_type": "stream",
     "text": [
      "7/7 [==============================] - 1s 3ms/step\n"
     ]
    }
   ],
   "source": [
    "y_hat = model.predict(X_test)\n",
    "y_test_inverse = scaler.inverse_transform(y_test)\n",
    "y_hat_inverse = scaler.inverse_transform(y_hat)"
   ]
  },
  {
   "cell_type": "code",
   "execution_count": 19,
   "id": "38482bfc",
   "metadata": {
    "execution": {
     "iopub.execute_input": "2024-02-06T02:20:47.597355Z",
     "iopub.status.busy": "2024-02-06T02:20:47.596996Z",
     "iopub.status.idle": "2024-02-06T02:20:47.932533Z",
     "shell.execute_reply": "2024-02-06T02:20:47.931602Z"
    },
    "papermill": {
     "duration": 0.398214,
     "end_time": "2024-02-06T02:20:47.934914",
     "exception": false,
     "start_time": "2024-02-06T02:20:47.536700",
     "status": "completed"
    },
    "tags": []
   },
   "outputs": [
    {
     "data": {
      "image/png": "[encoded data removed]",
      "text/plain": [
       "<Figure size 640x480 with 1 Axes>"
      ]
     },
     "metadata": {},
     "output_type": "display_data"
    }
   ],
   "source": [
    "plt.plot(y_test_inverse, label=\"Actual Price\", color='green')\n",
    "plt.plot(y_hat_inverse, label=\"Predicted Price\", color='red')\n",
    " \n",
    "plt.title(f'{SHEET_NAME} Price Prediction\\nLSTM = {LSTM_Layer}, Split Data = {SPLIT}, Window = {WINDOW_SIZE}', fontsize=15)\n",
    "plt.xlabel('Time [days]')\n",
    "plt.ylabel('Price')\n",
    "plt.legend(loc='best')\n",
    " \n",
    "plt.show()"
   ]
  },
  {
   "cell_type": "code",
   "execution_count": 20,
   "id": "9ce49cd3",
   "metadata": {
    "execution": {
     "iopub.execute_input": "2024-02-06T02:20:48.057258Z",
     "iopub.status.busy": "2024-02-06T02:20:48.056420Z",
     "iopub.status.idle": "2024-02-06T02:20:48.065508Z",
     "shell.execute_reply": "2024-02-06T02:20:48.064548Z"
    },
    "papermill": {
     "duration": 0.072622,
     "end_time": "2024-02-06T02:20:48.067485",
     "exception": false,
     "start_time": "2024-02-06T02:20:47.994863",
     "status": "completed"
    },
    "tags": []
   },
   "outputs": [
    {
     "name": "stdout",
     "output_type": "stream",
     "text": [
      "LSTM = 2, Split Data = 0.9, Window = 10\n",
      "\n",
      "----------------- Normalized Error -----------------\n",
      "Mean Absolute Error for prediction : 0.016092001017353755\n",
      "Mean Squared Error for prediction : 0.0005569912584843527\n",
      "Root Mean Squared Error for prediction : 0.023600662246732667\n",
      "\n",
      "----------------- Actual Error -----------------\n",
      "Mean Absolute Error for prediction : 60.89212384993664\n",
      "Mean Squared Error for prediction : 7975.35555183741\n",
      "Root Mean Squared Error for prediction : 89.30484618338139\n"
     ]
    }
   ],
   "source": [
    "def matrices(actual, predicted):\n",
    "    mse = mean_squared_error(actual, predicted)\n",
    "    mae = mean_absolute_error(actual, predicted)\n",
    "    rmse = np.sqrt(mse)\n",
    "    print(\"Mean Absolute Error for prediction :\", mae)\n",
    "    print(\"Mean Squared Error for prediction :\", mse)\n",
    "    print(\"Root Mean Squared Error for prediction :\", rmse)\n",
    "    return mae, mse, rmse\n",
    "\n",
    "print(f\"LSTM = {LSTM_Layer}, Split Data = {SPLIT}, Window = {WINDOW_SIZE}\")\n",
    "print(\"\\n----------------- Normalized Error -----------------\")\n",
    "mae, mse, rmse = matrices(y_test, y_hat)\n",
    "print(\"\\n----------------- Actual Error -----------------\")\n",
    "mae_inverse, mse_inverse, rmse_inverse = matrices(y_test_inverse, y_hat_inverse)"
   ]
  }
 ],
 "metadata": {
  "kaggle": {
   "accelerator": "gpu",
   "dataSources": [],
   "dockerImageVersionId": 30498,
   "isGpuEnabled": true,
   "isInternetEnabled": true,
   "language": "python",
   "sourceType": "notebook"
  },
  "kernelspec": {
   "display_name": "Python 3",
   "language": "python",
   "name": "python3"
  },
  "language_info": {
   "codemirror_mode": {
    "name": "ipython",
    "version": 3
   },
   "file_extension": ".py",
   "mimetype": "text/x-python",
   "name": "python",
   "nbconvert_exporter": "python",
   "pygments_lexer": "ipython3",
   "version": "3.10.10"
  },
  "papermill": {
   "default_parameters": {},
   "duration": 912.204246,
   "end_time": "2024-02-06T02:20:51.571289",
   "environment_variables": {},
   "exception": null,
   "input_path": "__notebook__.ipynb",
   "output_path": "__notebook__.ipynb",
   "parameters": {},
   "start_time": "2024-02-06T02:05:39.367043",
   "version": "2.4.0"
  }
 },
 "nbformat": 4,
 "nbformat_minor": 5
}
