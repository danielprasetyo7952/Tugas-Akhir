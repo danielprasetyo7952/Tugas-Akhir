{
 "cells": [
  {
   "cell_type": "code",
   "execution_count": 1,
   "id": "531dacfe",
   "metadata": {
    "execution": {
     "iopub.execute_input": "2024-02-05T16:34:03.305657Z",
     "iopub.status.busy": "2024-02-05T16:34:03.305397Z",
     "iopub.status.idle": "2024-02-05T16:34:12.153316Z",
     "shell.execute_reply": "2024-02-05T16:34:12.152356Z"
    },
    "papermill": {
     "duration": 8.858435,
     "end_time": "2024-02-05T16:34:12.155686",
     "exception": false,
     "start_time": "2024-02-05T16:34:03.297251",
     "status": "completed"
    },
    "tags": []
   },
   "outputs": [
    {
     "name": "stderr",
     "output_type": "stream",
     "text": [
      "/opt/conda/lib/python3.10/site-packages/tensorflow_io/python/ops/__init__.py:98: UserWarning: unable to load libtensorflow_io_plugins.so: unable to open file: libtensorflow_io_plugins.so, from paths: ['/opt/conda/lib/python3.10/site-packages/tensorflow_io/python/ops/libtensorflow_io_plugins.so']\n",
      "caused by: ['/opt/conda/lib/python3.10/site-packages/tensorflow_io/python/ops/libtensorflow_io_plugins.so: undefined symbol: _ZN3tsl6StatusC1EN10tensorflow5error4CodeESt17basic_string_viewIcSt11char_traitsIcEENS_14SourceLocationE']\n",
      "  warnings.warn(f\"unable to load libtensorflow_io_plugins.so: {e}\")\n",
      "/opt/conda/lib/python3.10/site-packages/tensorflow_io/python/ops/__init__.py:104: UserWarning: file system plugins are not loaded: unable to open file: libtensorflow_io.so, from paths: ['/opt/conda/lib/python3.10/site-packages/tensorflow_io/python/ops/libtensorflow_io.so']\n",
      "caused by: ['/opt/conda/lib/python3.10/site-packages/tensorflow_io/python/ops/libtensorflow_io.so: undefined symbol: _ZTVN10tensorflow13GcsFileSystemE']\n",
      "  warnings.warn(f\"file system plugins are not loaded: {e}\")\n"
     ]
    }
   ],
   "source": [
    "import pandas as pd\n",
    "import numpy as np\n",
    "import tensorflow as tf\n",
    "import matplotlib.pyplot as plt\n",
    "import datetime, pytz\n",
    "\n",
    "from keras.models import Sequential\n",
    "from keras.layers import LSTM, Dense\n",
    "from keras.metrics import RootMeanSquaredError\n",
    "\n",
    "from sklearn.preprocessing import MinMaxScaler\n",
    "from sklearn.metrics import mean_squared_error, mean_absolute_error"
   ]
  },
  {
   "cell_type": "markdown",
   "id": "9261bc4d",
   "metadata": {
    "papermill": {
     "duration": 0.006311,
     "end_time": "2024-02-05T16:34:12.169001",
     "exception": false,
     "start_time": "2024-02-05T16:34:12.162690",
     "status": "completed"
    },
    "tags": []
   },
   "source": [
    "## Hyperparameter"
   ]
  },
  {
   "cell_type": "code",
   "execution_count": 2,
   "id": "539de75e",
   "metadata": {
    "execution": {
     "iopub.execute_input": "2024-02-05T16:34:12.183263Z",
     "iopub.status.busy": "2024-02-05T16:34:12.182689Z",
     "iopub.status.idle": "2024-02-05T16:34:12.187487Z",
     "shell.execute_reply": "2024-02-05T16:34:12.186717Z"
    },
    "papermill": {
     "duration": 0.01394,
     "end_time": "2024-02-05T16:34:12.189319",
     "exception": false,
     "start_time": "2024-02-05T16:34:12.175379",
     "status": "completed"
    },
    "tags": []
   },
   "outputs": [],
   "source": [
    "# Google Spreadsheet ID\n",
    "SHEET_ID = '1JDNv_mArl-GPIpxuWS5GxgVEwvjXocS1MrXGc6TYs8M'\n",
    "SHEET_NAME = 'USD/IDR' # USD/IDR, EUR/IDR, SGD/IDR\n",
    "\n",
    "SEQ_LEN = 11 # 6, 11, 21\n",
    "SPLIT = 0.80 # 0.80, 0.90\n",
    "LSTM_Layer = 2 # 1, 2, 3\n",
    "WINDOW_SIZE = SEQ_LEN - 1"
   ]
  },
  {
   "cell_type": "code",
   "execution_count": 3,
   "id": "f4f760b5",
   "metadata": {
    "execution": {
     "iopub.execute_input": "2024-02-05T16:34:12.203170Z",
     "iopub.status.busy": "2024-02-05T16:34:12.202905Z",
     "iopub.status.idle": "2024-02-05T16:34:13.430569Z",
     "shell.execute_reply": "2024-02-05T16:34:13.429451Z"
    },
    "papermill": {
     "duration": 1.237064,
     "end_time": "2024-02-05T16:34:13.432692",
     "exception": false,
     "start_time": "2024-02-05T16:34:12.195628",
     "status": "completed"
    },
    "tags": []
   },
   "outputs": [
    {
     "name": "stdout",
     "output_type": "stream",
     "text": [
      "<class 'pandas.core.frame.DataFrame'>\n",
      "RangeIndex: 1977 entries, 0 to 1976\n",
      "Data columns (total 2 columns):\n",
      " #   Column  Non-Null Count  Dtype         \n",
      "---  ------  --------------  -----         \n",
      " 0   Date    1977 non-null   datetime64[ns]\n",
      " 1   Close   1977 non-null   float64       \n",
      "dtypes: datetime64[ns](1), float64(1)\n",
      "memory usage: 31.0 KB\n"
     ]
    }
   ],
   "source": [
    "url = f'https://docs.google.com/spreadsheets/d/{SHEET_ID}/gviz/tq?tqx=out:csv&sheet={SHEET_NAME}'\n",
    "data = pd.read_csv(url)\n",
    "\n",
    "# Convert Date columns to datetime format\n",
    "data['Date'] = pd.to_datetime(data['Date'], format='%d/%m/%Y %H:%M:%S')\n",
    "data.info()"
   ]
  },
  {
   "cell_type": "markdown",
   "id": "62aac8f5",
   "metadata": {
    "papermill": {
     "duration": 0.006432,
     "end_time": "2024-02-05T16:34:13.445922",
     "exception": false,
     "start_time": "2024-02-05T16:34:13.439490",
     "status": "completed"
    },
    "tags": []
   },
   "source": [
    "## Preprocessing"
   ]
  },
  {
   "cell_type": "code",
   "execution_count": 4,
   "id": "6c3ceeef",
   "metadata": {
    "execution": {
     "iopub.execute_input": "2024-02-05T16:34:13.460100Z",
     "iopub.status.busy": "2024-02-05T16:34:13.459767Z",
     "iopub.status.idle": "2024-02-05T16:34:13.470667Z",
     "shell.execute_reply": "2024-02-05T16:34:13.469688Z"
    },
    "papermill": {
     "duration": 0.02027,
     "end_time": "2024-02-05T16:34:13.472636",
     "exception": false,
     "start_time": "2024-02-05T16:34:13.452366",
     "status": "completed"
    },
    "tags": []
   },
   "outputs": [
    {
     "name": "stderr",
     "output_type": "stream",
     "text": [
      "/tmp/ipykernel_26/2274720815.py:7: SettingWithCopyWarning: \n",
      "A value is trying to be set on a copy of a slice from a DataFrame\n",
      "\n",
      "See the caveats in the documentation: https://pandas.pydata.org/pandas-docs/stable/user_guide/indexing.html#returning-a-view-versus-a-copy\n",
      "  data[data < lower_bound] = lower_bound\n",
      "/tmp/ipykernel_26/2274720815.py:8: SettingWithCopyWarning: \n",
      "A value is trying to be set on a copy of a slice from a DataFrame\n",
      "\n",
      "See the caveats in the documentation: https://pandas.pydata.org/pandas-docs/stable/user_guide/indexing.html#returning-a-view-versus-a-copy\n",
      "  data[data > upper_bound] = upper_bound\n"
     ]
    }
   ],
   "source": [
    "def replace_outliers(data):\n",
    "    Q1 = np.percentile(data, 25)\n",
    "    Q3 = np.percentile(data, 75)\n",
    "    IQR = Q3 - Q1\n",
    "    lower_bound = Q1 - 1.5 * IQR\n",
    "    upper_bound = Q3 + 1.5 * IQR\n",
    "    data[data < lower_bound] = lower_bound\n",
    "    data[data > upper_bound] = upper_bound\n",
    "    return data\n",
    "\n",
    "data['Close'] = replace_outliers(data['Close'])"
   ]
  },
  {
   "cell_type": "code",
   "execution_count": 5,
   "id": "2375168f",
   "metadata": {
    "execution": {
     "iopub.execute_input": "2024-02-05T16:34:13.487928Z",
     "iopub.status.busy": "2024-02-05T16:34:13.487172Z",
     "iopub.status.idle": "2024-02-05T16:34:13.716329Z",
     "shell.execute_reply": "2024-02-05T16:34:13.715484Z"
    },
    "papermill": {
     "duration": 0.238684,
     "end_time": "2024-02-05T16:34:13.718127",
     "exception": false,
     "start_time": "2024-02-05T16:34:13.479443",
     "status": "completed"
    },
    "tags": []
   },
   "outputs": [
    {
     "data": {
      "image/png": "[encoded data removed]",
      "text/plain": [
       "<Figure size 640x480 with 1 Axes>"
      ]
     },
     "metadata": {},
     "output_type": "display_data"
    }
   ],
   "source": [
    "# Boxplot for outlier detection\n",
    "plt.boxplot(data['Close'])\n",
    "plt.title(f\"{SHEET_NAME} Boxplot for Outlier Detection\")\n",
    "plt.xlabel(\"Close\")\n",
    "plt.ylabel(\"Values\")\n",
    "plt.show()"
   ]
  },
  {
   "cell_type": "code",
   "execution_count": 6,
   "id": "91058820",
   "metadata": {
    "execution": {
     "iopub.execute_input": "2024-02-05T16:34:13.733608Z",
     "iopub.status.busy": "2024-02-05T16:34:13.733355Z",
     "iopub.status.idle": "2024-02-05T16:34:13.740390Z",
     "shell.execute_reply": "2024-02-05T16:34:13.739546Z"
    },
    "papermill": {
     "duration": 0.01706,
     "end_time": "2024-02-05T16:34:13.742336",
     "exception": false,
     "start_time": "2024-02-05T16:34:13.725276",
     "status": "completed"
    },
    "tags": []
   },
   "outputs": [
    {
     "data": {
      "text/plain": [
       "(1977, 1)"
      ]
     },
     "execution_count": 6,
     "metadata": {},
     "output_type": "execute_result"
    }
   ],
   "source": [
    "scaler = MinMaxScaler()\n",
    "close_price = data.Close.values.reshape(-1, 1)\n",
    "scaled_close = scaler.fit_transform(close_price)\n",
    "scaled_close.shape"
   ]
  },
  {
   "cell_type": "code",
   "execution_count": 7,
   "id": "b1d6cd10",
   "metadata": {
    "execution": {
     "iopub.execute_input": "2024-02-05T16:34:13.757831Z",
     "iopub.status.busy": "2024-02-05T16:34:13.757368Z",
     "iopub.status.idle": "2024-02-05T16:34:13.767120Z",
     "shell.execute_reply": "2024-02-05T16:34:13.766495Z"
    },
    "papermill": {
     "duration": 0.019548,
     "end_time": "2024-02-05T16:34:13.768991",
     "exception": false,
     "start_time": "2024-02-05T16:34:13.749443",
     "status": "completed"
    },
    "tags": []
   },
   "outputs": [],
   "source": [
    "def to_sequences(data, seq_len):\n",
    "    d = []\n",
    "    for index in range(len(data) - seq_len):\n",
    "        d.append(data[index: index + seq_len])\n",
    "    return np.array(d)\n",
    "\n",
    "def preprocess(data_raw, seq_len, train_split):\n",
    "    data = to_sequences(data_raw, seq_len)\n",
    "    num_train = int(train_split * data.shape[0])\n",
    "    X_train = data[:num_train, :-1, :]\n",
    "    y_train = data[:num_train, -1, :]\n",
    "    X_test = data[num_train:, :-1, :]\n",
    "    y_test = data[num_train:, -1, :]\n",
    "    return X_train, y_train, X_test, y_test\n",
    "\n",
    "X_train, y_train, X_test, y_test = preprocess(scaled_close, SEQ_LEN, train_split = SPLIT)"
   ]
  },
  {
   "cell_type": "markdown",
   "id": "81135292",
   "metadata": {
    "papermill": {
     "duration": 0.006882,
     "end_time": "2024-02-05T16:34:13.782934",
     "exception": false,
     "start_time": "2024-02-05T16:34:13.776052",
     "status": "completed"
    },
    "tags": []
   },
   "source": [
    "## Genetic Algorithm"
   ]
  },
  {
   "cell_type": "code",
   "execution_count": 8,
   "id": "bfba2087",
   "metadata": {
    "execution": {
     "iopub.execute_input": "2024-02-05T16:34:13.798336Z",
     "iopub.status.busy": "2024-02-05T16:34:13.798071Z",
     "iopub.status.idle": "2024-02-05T16:34:13.803326Z",
     "shell.execute_reply": "2024-02-05T16:34:13.802525Z"
    },
    "papermill": {
     "duration": 0.015212,
     "end_time": "2024-02-05T16:34:13.805235",
     "exception": false,
     "start_time": "2024-02-05T16:34:13.790023",
     "status": "completed"
    },
    "tags": []
   },
   "outputs": [],
   "source": [
    "def decimal_to_binary(chromosome: list):\n",
    "    binary_string = ''.join([bin(x)[2:].zfill(8) for x in chromosome])\n",
    "    return binary_string\n",
    "\n",
    "def binary_to_decimal(binary_string: str):\n",
    "    decimal_array = [int(binary, 2) for binary in [binary_string[i:i+8] for i in range(0, len(binary_string), 8)]]\n",
    "    return decimal_array"
   ]
  },
  {
   "cell_type": "code",
   "execution_count": 9,
   "id": "c735b751",
   "metadata": {
    "execution": {
     "iopub.execute_input": "2024-02-05T16:34:13.820669Z",
     "iopub.status.busy": "2024-02-05T16:34:13.820407Z",
     "iopub.status.idle": "2024-02-05T16:34:13.837930Z",
     "shell.execute_reply": "2024-02-05T16:34:13.837140Z"
    },
    "papermill": {
     "duration": 0.02755,
     "end_time": "2024-02-05T16:34:13.839866",
     "exception": false,
     "start_time": "2024-02-05T16:34:13.812316",
     "status": "completed"
    },
    "tags": []
   },
   "outputs": [],
   "source": [
    "# Genetic Algorithm\n",
    "def genetic_algorithm(generations, mutation_rate):\n",
    "    print(f\"Inizialized Population...\")\n",
    "    population = np.random.randint(1, high=251, size=(10, 3))\n",
    "    fitness_scores = np.array([fitness_function(chromosome) for chromosome in population])\n",
    "    max_fitness_each_gen = []\n",
    "    \n",
    "    for generation in range(generations):\n",
    "        print(f\"Generation - {generation + 1}\")\n",
    "        max_fitness_each_gen.append(np.max(fitness_scores))\n",
    "        \n",
    "        chromosome_1 = selection(population, fitness_scores)\n",
    "        chromosome_2 = selection(population, fitness_scores)\n",
    "        \n",
    "        if generation % mutation_rate == 0:\n",
    "            chromosome_1 = mutate(chromosome_1)\n",
    "            chromosome_2 = mutate(chromosome_2)\n",
    "        else:\n",
    "            chromosome_1, chromosome_2 = crossover(chromosome_1, chromosome_2)\n",
    "\n",
    "        fitness_score_1 = fitness_function(chromosome_1)\n",
    "        fitness_score_2 = fitness_function(chromosome_2)\n",
    "        \n",
    "        worst_index = np.argmin(fitness_scores)\n",
    "        worst_fitness = fitness_scores[worst_index]\n",
    "\n",
    "        if fitness_score_1 > worst_fitness:\n",
    "            population[worst_index] = chromosome_1\n",
    "            fitness_scores[worst_index] = fitness_score_1\n",
    "            worst_index = np.argmin(fitness_scores)\n",
    "            worst_fitness = fitness_scores[worst_index]\n",
    "\n",
    "        if fitness_score_2 > worst_fitness:\n",
    "            population[worst_index] = chromosome_2\n",
    "            fitness_scores[worst_index] = fitness_score_2\n",
    "        \n",
    "        # Release some memory\n",
    "        del chromosome_1, chromosome_2\n",
    "        del fitness_score_1, fitness_score_2\n",
    "        del worst_index, worst_fitness\n",
    "            \n",
    "    best_chromosome = population[np.argmax(fitness_scores)]\n",
    "    best_fitness = np.max(fitness_scores)\n",
    "    \n",
    "    return best_chromosome, best_fitness, max_fitness_each_gen\n",
    "\n",
    "# Selection (Tournament selection)\n",
    "def selection(population, fitness_scores, tournament_size=3):\n",
    "    indices = np.random.randint(len(population), size=tournament_size)\n",
    "    tournament = population[indices]\n",
    "    tournament_fitness = fitness_scores[indices]\n",
    "    return tournament[np.argmax(tournament_fitness)]\n",
    "\n",
    "# Crossover (Single-point crossover)\n",
    "def crossover(parent_1: list, parent_2: list):\n",
    "    parent_1 = decimal_to_binary(parent_1)\n",
    "    parent_2 = decimal_to_binary(parent_2)\n",
    "    \n",
    "    crossover_point = np.random.randint(1, len(parent_1))\n",
    "    offspring_1 = parent_1[:crossover_point] + parent_2[crossover_point:]\n",
    "    offspring_2 = parent_2[:crossover_point] + parent_1[crossover_point:]\n",
    "    \n",
    "    offspring_1 = binary_to_decimal(offspring_1)\n",
    "    offspring_2 = binary_to_decimal(offspring_2)\n",
    "    return offspring_1, offspring_2\n",
    "\n",
    "# Mutation (Swap Mutation)\n",
    "def mutate(chromosome: list):\n",
    "    chromosome = decimal_to_binary(chromosome)\n",
    "    \n",
    "    chromosome_list = list(chromosome)\n",
    "    i = np.random.randint(len(chromosome_list), size=2)\n",
    "    chromosome_list[i[0]], chromosome_list[i[1]] = chromosome_list[i[1]], chromosome_list[i[0]]\n",
    "    \n",
    "    chromosome_list = ''.join(chromosome_list)\n",
    "    chromosome = binary_to_decimal(chromosome_list)\n",
    "    return chromosome\n",
    "\n",
    "# Fitness Function\n",
    "def fitness_function(chromosome: list):\n",
    "    lstm_units = [int(chromosome[i]) or default for i, default in enumerate([128, 64, 32])]\n",
    "\n",
    "    # Build the LSTM model\n",
    "    tf.keras.backend.clear_session()\n",
    "    model = Sequential()\n",
    "    for i, units in enumerate(lstm_units[:LSTM_Layer]):\n",
    "        model.add(LSTM(units, return_sequences=(i < LSTM_Layer - 1), input_shape=(WINDOW_SIZE, 1)))\n",
    "    model.add(Dense(1))\n",
    "    \n",
    "    # Compile and train the model\n",
    "    model.compile(loss='mean_squared_error',\n",
    "                  optimizer='adam')\n",
    "    model.fit(X_train, y_train,\n",
    "              epochs=10,\n",
    "              batch_size=32,\n",
    "              verbose=0,\n",
    "              validation_split=0.1)\n",
    "\n",
    "    # Evaluate the model\n",
    "    loss = model.evaluate(X_test, y_test)\n",
    "\n",
    "    # Return the negative value of the loss as the fitness score\n",
    "    return -loss"
   ]
  },
  {
   "cell_type": "code",
   "execution_count": 10,
   "id": "dce4012e",
   "metadata": {
    "execution": {
     "iopub.execute_input": "2024-02-05T16:34:13.855100Z",
     "iopub.status.busy": "2024-02-05T16:34:13.854865Z",
     "iopub.status.idle": "2024-02-05T16:34:13.860333Z",
     "shell.execute_reply": "2024-02-05T16:34:13.859496Z"
    },
    "papermill": {
     "duration": 0.015295,
     "end_time": "2024-02-05T16:34:13.862217",
     "exception": false,
     "start_time": "2024-02-05T16:34:13.846922",
     "status": "completed"
    },
    "tags": []
   },
   "outputs": [],
   "source": [
    "import typing\n",
    "from datetime import datetime\n",
    "\n",
    "def timer(start_time: datetime = None) -> \"typing.Union[datetime.datetime, str]\":\n",
    "    if not start_time:\n",
    "        start_time = datetime.now()\n",
    "        return start_time\n",
    "    elif start_time:\n",
    "        thour, temp_sec = divmod((datetime.now() - start_time).total_seconds(), 3600)\n",
    "        tmin, tsec = divmod(temp_sec, 60)\n",
    "        return \"%i hours %i minutes and %s seconds.\" % (\n",
    "            thour,\n",
    "            tmin,\n",
    "            round(tsec, 2),\n",
    "        )"
   ]
  },
  {
   "cell_type": "code",
   "execution_count": 11,
   "id": "a8cf5307",
   "metadata": {
    "execution": {
     "iopub.execute_input": "2024-02-05T16:34:13.877279Z",
     "iopub.status.busy": "2024-02-05T16:34:13.877023Z",
     "iopub.status.idle": "2024-02-05T16:47:58.316919Z",
     "shell.execute_reply": "2024-02-05T16:47:58.315900Z"
    },
    "papermill": {
     "duration": 824.449704,
     "end_time": "2024-02-05T16:47:58.319022",
     "exception": false,
     "start_time": "2024-02-05T16:34:13.869318",
     "status": "completed"
    },
    "tags": []
   },
   "outputs": [
    {
     "name": "stdout",
     "output_type": "stream",
     "text": [
      "Inizialized Population...\n",
      "13/13 [==============================] - 0s 3ms/step - loss: 0.0011\n",
      "13/13 [==============================] - 0s 3ms/step - loss: 9.2263e-04\n",
      "13/13 [==============================] - 0s 3ms/step - loss: 0.0017\n",
      "13/13 [==============================] - 0s 3ms/step - loss: 0.0042\n",
      "13/13 [==============================] - 0s 3ms/step - loss: 0.0024\n",
      "13/13 [==============================] - 0s 3ms/step - loss: 0.0052\n",
      "13/13 [==============================] - 0s 3ms/step - loss: 0.0014\n",
      "13/13 [==============================] - 0s 3ms/step - loss: 0.0014\n",
      "13/13 [==============================] - 0s 3ms/step - loss: 0.0022\n",
      "13/13 [==============================] - 0s 3ms/step - loss: 0.0014\n",
      "Generation - 1\n",
      "13/13 [==============================] - 0s 3ms/step - loss: 0.0024\n",
      "13/13 [==============================] - 0s 3ms/step - loss: 0.0013\n",
      "Generation - 2\n",
      "13/13 [==============================] - 0s 3ms/step - loss: 0.0012\n",
      "13/13 [==============================] - 0s 3ms/step - loss: 0.0042\n",
      "Generation - 3\n",
      "13/13 [==============================] - 0s 3ms/step - loss: 9.3992e-04\n",
      "13/13 [==============================] - 0s 3ms/step - loss: 0.0011\n",
      "Generation - 4\n",
      "13/13 [==============================] - 0s 3ms/step - loss: 0.0015\n",
      "13/13 [==============================] - 0s 3ms/step - loss: 9.4536e-04\n",
      "Generation - 5\n",
      "13/13 [==============================] - 0s 3ms/step - loss: 9.3073e-04\n",
      "13/13 [==============================] - 0s 3ms/step - loss: 0.0010\n",
      "Generation - 6\n",
      "13/13 [==============================] - 0s 3ms/step - loss: 0.0026\n",
      "13/13 [==============================] - 0s 3ms/step - loss: 0.0011\n",
      "Generation - 7\n",
      "13/13 [==============================] - 0s 3ms/step - loss: 0.0019\n",
      "13/13 [==============================] - 0s 3ms/step - loss: 9.2938e-04\n",
      "Generation - 8\n",
      "13/13 [==============================] - 0s 3ms/step - loss: 0.0019\n",
      "13/13 [==============================] - 0s 3ms/step - loss: 0.0011\n",
      "Generation - 9\n",
      "13/13 [==============================] - 0s 3ms/step - loss: 8.7980e-04\n",
      "13/13 [==============================] - 0s 3ms/step - loss: 0.0010\n",
      "Generation - 10\n",
      "13/13 [==============================] - 0s 3ms/step - loss: 0.0010\n",
      "13/13 [==============================] - 0s 3ms/step - loss: 9.2119e-04\n",
      "Generation - 11\n",
      "13/13 [==============================] - 0s 3ms/step - loss: 0.0044\n",
      "13/13 [==============================] - 0s 3ms/step - loss: 0.0021\n",
      "Generation - 12\n",
      "13/13 [==============================] - 0s 3ms/step - loss: 0.0022\n",
      "13/13 [==============================] - 0s 3ms/step - loss: 9.9611e-04\n",
      "Generation - 13\n",
      "13/13 [==============================] - 0s 3ms/step - loss: 9.2483e-04\n",
      "13/13 [==============================] - 0s 3ms/step - loss: 0.0015\n",
      "Generation - 14\n",
      "13/13 [==============================] - 0s 3ms/step - loss: 0.0015\n",
      "13/13 [==============================] - 0s 3ms/step - loss: 9.4115e-04\n",
      "Generation - 15\n",
      "13/13 [==============================] - 0s 3ms/step - loss: 0.0040\n",
      "13/13 [==============================] - 0s 3ms/step - loss: 0.0013\n",
      "Generation - 16\n",
      "13/13 [==============================] - 0s 3ms/step - loss: 0.0027\n",
      "13/13 [==============================] - 0s 3ms/step - loss: 0.0018\n",
      "Generation - 17\n",
      "13/13 [==============================] - 0s 3ms/step - loss: 0.0023\n",
      "13/13 [==============================] - 0s 3ms/step - loss: 9.5559e-04\n",
      "Generation - 18\n",
      "13/13 [==============================] - 0s 3ms/step - loss: 9.8559e-04\n",
      "13/13 [==============================] - 0s 3ms/step - loss: 0.0061\n",
      "Generation - 19\n",
      "13/13 [==============================] - 0s 3ms/step - loss: 0.0021\n",
      "13/13 [==============================] - 0s 3ms/step - loss: 0.0014\n",
      "Generation - 20\n",
      "13/13 [==============================] - 0s 3ms/step - loss: 9.3952e-04\n",
      "13/13 [==============================] - 0s 3ms/step - loss: 9.4466e-04\n",
      "Generation - 21\n",
      "13/13 [==============================] - 0s 3ms/step - loss: 0.0011\n",
      "13/13 [==============================] - 0s 3ms/step - loss: 0.0013\n",
      "Generation - 22\n",
      "13/13 [==============================] - 0s 3ms/step - loss: 0.0010\n",
      "13/13 [==============================] - 0s 3ms/step - loss: 0.0025\n",
      "Generation - 23\n",
      "13/13 [==============================] - 0s 3ms/step - loss: 0.0011\n",
      "13/13 [==============================] - 0s 3ms/step - loss: 0.0026\n",
      "Generation - 24\n",
      "13/13 [==============================] - 0s 4ms/step - loss: 0.0012\n",
      "13/13 [==============================] - 0s 3ms/step - loss: 9.5513e-04\n",
      "Generation - 25\n",
      "13/13 [==============================] - 0s 3ms/step - loss: 9.5876e-04\n",
      "13/13 [==============================] - 0s 3ms/step - loss: 0.0090\n",
      "Generation - 26\n",
      "13/13 [==============================] - 0s 3ms/step - loss: 8.9480e-04\n",
      "13/13 [==============================] - 0s 3ms/step - loss: 8.8257e-04\n",
      "Generation - 27\n",
      "13/13 [==============================] - 0s 3ms/step - loss: 0.0044\n",
      "13/13 [==============================] - 0s 3ms/step - loss: 0.0026\n",
      "Generation - 28\n",
      "13/13 [==============================] - 0s 3ms/step - loss: 9.5442e-04\n",
      "13/13 [==============================] - 0s 3ms/step - loss: 0.0021\n",
      "Generation - 29\n",
      "13/13 [==============================] - 0s 3ms/step - loss: 0.0011\n",
      "13/13 [==============================] - 0s 3ms/step - loss: 9.4470e-04\n",
      "Generation - 30\n",
      "13/13 [==============================] - 0s 3ms/step - loss: 9.6224e-04\n",
      "13/13 [==============================] - 0s 3ms/step - loss: 0.0033\n",
      "Generation - 31\n",
      "13/13 [==============================] - 0s 3ms/step - loss: 0.0012\n",
      "13/13 [==============================] - 0s 3ms/step - loss: 8.8539e-04\n",
      "Generation - 32\n",
      "13/13 [==============================] - 0s 3ms/step - loss: 0.0013\n",
      "13/13 [==============================] - 0s 3ms/step - loss: 0.0016\n",
      "Generation - 33\n",
      "13/13 [==============================] - 0s 3ms/step - loss: 0.0011\n",
      "13/13 [==============================] - 0s 3ms/step - loss: 9.1366e-04\n",
      "Generation - 34\n",
      "13/13 [==============================] - 0s 3ms/step - loss: 0.0021\n",
      "13/13 [==============================] - 0s 3ms/step - loss: 0.0018\n",
      "Generation - 35\n",
      "13/13 [==============================] - 0s 3ms/step - loss: 0.0020\n",
      "13/13 [==============================] - 0s 3ms/step - loss: 9.4552e-04\n",
      "Generation - 36\n",
      "13/13 [==============================] - 0s 3ms/step - loss: 0.0016\n",
      "13/13 [==============================] - 0s 3ms/step - loss: 0.0010\n",
      "Generation - 37\n",
      "13/13 [==============================] - 0s 3ms/step - loss: 9.4953e-04\n",
      "13/13 [==============================] - 0s 3ms/step - loss: 0.0016\n",
      "Generation - 38\n",
      "13/13 [==============================] - 0s 3ms/step - loss: 9.6307e-04\n",
      "13/13 [==============================] - 0s 3ms/step - loss: 9.9731e-04\n",
      "Generation - 39\n",
      "13/13 [==============================] - 0s 3ms/step - loss: 0.0013\n",
      "13/13 [==============================] - 0s 3ms/step - loss: 0.0033\n",
      "Generation - 40\n",
      "13/13 [==============================] - 0s 3ms/step - loss: 0.0010\n",
      "13/13 [==============================] - 0s 3ms/step - loss: 0.0011\n",
      "Generation - 41\n",
      "13/13 [==============================] - 0s 3ms/step - loss: 0.0013\n",
      "13/13 [==============================] - 0s 3ms/step - loss: 0.0030\n",
      "Generation - 42\n",
      "13/13 [==============================] - 0s 3ms/step - loss: 0.0018\n",
      "13/13 [==============================] - 0s 3ms/step - loss: 0.0032\n",
      "Generation - 43\n",
      "13/13 [==============================] - 0s 3ms/step - loss: 9.5259e-04\n",
      "13/13 [==============================] - 0s 3ms/step - loss: 0.0015\n",
      "Generation - 44\n",
      "13/13 [==============================] - 0s 3ms/step - loss: 9.0083e-04\n",
      "13/13 [==============================] - 0s 3ms/step - loss: 9.6453e-04\n",
      "Generation - 45\n",
      "13/13 [==============================] - 0s 3ms/step - loss: 9.9013e-04\n",
      "13/13 [==============================] - 0s 3ms/step - loss: 0.0031\n",
      "Generation - 46\n",
      "13/13 [==============================] - 0s 3ms/step - loss: 0.0010\n",
      "13/13 [==============================] - 0s 3ms/step - loss: 0.0027\n",
      "Generation - 47\n",
      "13/13 [==============================] - 0s 3ms/step - loss: 0.0024\n",
      "13/13 [==============================] - 0s 3ms/step - loss: 0.0016\n",
      "Generation - 48\n",
      "13/13 [==============================] - 0s 3ms/step - loss: 0.0011\n",
      "13/13 [==============================] - 0s 3ms/step - loss: 0.0012\n",
      "Generation - 49\n",
      "13/13 [==============================] - 0s 3ms/step - loss: 0.0016\n",
      "13/13 [==============================] - 0s 3ms/step - loss: 0.0010\n",
      "Generation - 50\n",
      "13/13 [==============================] - 0s 3ms/step - loss: 0.0010\n",
      "13/13 [==============================] - 0s 3ms/step - loss: 0.0020\n"
     ]
    }
   ],
   "source": [
    "# Do not increase this value\n",
    "generations = 50\n",
    "mutation_rate = 5\n",
    "\n",
    "time = timer(None)\n",
    "best_chromosome, best_fitness, max_fitness_each_gen = genetic_algorithm(generations, mutation_rate)\n",
    "time = timer(time)"
   ]
  },
  {
   "cell_type": "code",
   "execution_count": 12,
   "id": "862d3da1",
   "metadata": {
    "execution": {
     "iopub.execute_input": "2024-02-05T16:47:58.374822Z",
     "iopub.status.busy": "2024-02-05T16:47:58.374135Z",
     "iopub.status.idle": "2024-02-05T16:47:58.379167Z",
     "shell.execute_reply": "2024-02-05T16:47:58.378273Z"
    },
    "papermill": {
     "duration": 0.034888,
     "end_time": "2024-02-05T16:47:58.381264",
     "exception": false,
     "start_time": "2024-02-05T16:47:58.346376",
     "status": "completed"
    },
    "tags": []
   },
   "outputs": [
    {
     "name": "stdout",
     "output_type": "stream",
     "text": [
      "Best Chromosome: [233 219  38]\n",
      "Best Fitness: -0.0008798009948804975\n",
      "Time Taken: 0 hours 13 minutes and 44.44 seconds.\n"
     ]
    }
   ],
   "source": [
    "print(\"Best Chromosome:\", best_chromosome)\n",
    "print(\"Best Fitness:\", best_fitness)\n",
    "print(\"Time Taken:\", time)"
   ]
  },
  {
   "cell_type": "code",
   "execution_count": 13,
   "id": "3a0def6c",
   "metadata": {
    "execution": {
     "iopub.execute_input": "2024-02-05T16:47:58.435970Z",
     "iopub.status.busy": "2024-02-05T16:47:58.435597Z",
     "iopub.status.idle": "2024-02-05T16:47:58.441703Z",
     "shell.execute_reply": "2024-02-05T16:47:58.440908Z"
    },
    "papermill": {
     "duration": 0.035348,
     "end_time": "2024-02-05T16:47:58.443571",
     "exception": false,
     "start_time": "2024-02-05T16:47:58.408223",
     "status": "completed"
    },
    "tags": []
   },
   "outputs": [
    {
     "data": {
      "text/plain": [
       "[-0.0009226292022503912,\n",
       " -0.0009226292022503912,\n",
       " -0.0009226292022503912,\n",
       " -0.0009226292022503912,\n",
       " -0.0009226292022503912,\n",
       " -0.0009226292022503912,\n",
       " -0.0009226292022503912,\n",
       " -0.0009226292022503912,\n",
       " -0.0009226292022503912,\n",
       " -0.0008798009948804975,\n",
       " -0.0008798009948804975,\n",
       " -0.0008798009948804975,\n",
       " -0.0008798009948804975,\n",
       " -0.0008798009948804975,\n",
       " -0.0008798009948804975,\n",
       " -0.0008798009948804975,\n",
       " -0.0008798009948804975,\n",
       " -0.0008798009948804975,\n",
       " -0.0008798009948804975,\n",
       " -0.0008798009948804975,\n",
       " -0.0008798009948804975,\n",
       " -0.0008798009948804975,\n",
       " -0.0008798009948804975,\n",
       " -0.0008798009948804975,\n",
       " -0.0008798009948804975,\n",
       " -0.0008798009948804975,\n",
       " -0.0008798009948804975,\n",
       " -0.0008798009948804975,\n",
       " -0.0008798009948804975,\n",
       " -0.0008798009948804975,\n",
       " -0.0008798009948804975,\n",
       " -0.0008798009948804975,\n",
       " -0.0008798009948804975,\n",
       " -0.0008798009948804975,\n",
       " -0.0008798009948804975,\n",
       " -0.0008798009948804975,\n",
       " -0.0008798009948804975,\n",
       " -0.0008798009948804975,\n",
       " -0.0008798009948804975,\n",
       " -0.0008798009948804975,\n",
       " -0.0008798009948804975,\n",
       " -0.0008798009948804975,\n",
       " -0.0008798009948804975,\n",
       " -0.0008798009948804975,\n",
       " -0.0008798009948804975,\n",
       " -0.0008798009948804975,\n",
       " -0.0008798009948804975,\n",
       " -0.0008798009948804975,\n",
       " -0.0008798009948804975,\n",
       " -0.0008798009948804975]"
      ]
     },
     "execution_count": 13,
     "metadata": {},
     "output_type": "execute_result"
    }
   ],
   "source": [
    "max_fitness_each_gen"
   ]
  },
  {
   "cell_type": "markdown",
   "id": "99f366bf",
   "metadata": {
    "papermill": {
     "duration": 0.026646,
     "end_time": "2024-02-05T16:47:58.496894",
     "exception": false,
     "start_time": "2024-02-05T16:47:58.470248",
     "status": "completed"
    },
    "tags": []
   },
   "source": [
    "## Re-Training Model with Best Parameter"
   ]
  },
  {
   "cell_type": "code",
   "execution_count": 14,
   "id": "62516301",
   "metadata": {
    "execution": {
     "iopub.execute_input": "2024-02-05T16:47:58.551696Z",
     "iopub.status.busy": "2024-02-05T16:47:58.551436Z",
     "iopub.status.idle": "2024-02-05T16:47:59.077371Z",
     "shell.execute_reply": "2024-02-05T16:47:59.076208Z"
    },
    "papermill": {
     "duration": 0.557736,
     "end_time": "2024-02-05T16:47:59.081617",
     "exception": false,
     "start_time": "2024-02-05T16:47:58.523881",
     "status": "completed"
    },
    "tags": []
   },
   "outputs": [
    {
     "name": "stdout",
     "output_type": "stream",
     "text": [
      "Model: \"sequential_1\"\n",
      "_________________________________________________________________\n",
      " Layer (type)                Output Shape              Param #   \n",
      "=================================================================\n",
      " lstm_2 (LSTM)               (None, 10, 233)           219020    \n",
      "                                                                 \n",
      " lstm_3 (LSTM)               (None, 219)               396828    \n",
      "                                                                 \n",
      " dense_1 (Dense)             (None, 1)                 220       \n",
      "                                                                 \n",
      "=================================================================\n",
      "Total params: 616,068\n",
      "Trainable params: 616,068\n",
      "Non-trainable params: 0\n",
      "_________________________________________________________________\n"
     ]
    }
   ],
   "source": [
    "model = Sequential()\n",
    "for i, units in enumerate(best_chromosome[:LSTM_Layer]):\n",
    "    model.add(LSTM(units, return_sequences=(i < LSTM_Layer - 1), input_shape=(WINDOW_SIZE, 1)))\n",
    "model.add(Dense(1))\n",
    "\n",
    "model.summary()"
   ]
  },
  {
   "cell_type": "code",
   "execution_count": 15,
   "id": "73dab0cf",
   "metadata": {
    "execution": {
     "iopub.execute_input": "2024-02-05T16:47:59.138938Z",
     "iopub.status.busy": "2024-02-05T16:47:59.138624Z",
     "iopub.status.idle": "2024-02-05T16:48:18.167673Z",
     "shell.execute_reply": "2024-02-05T16:48:18.166926Z"
    },
    "papermill": {
     "duration": 19.059989,
     "end_time": "2024-02-05T16:48:18.169709",
     "exception": false,
     "start_time": "2024-02-05T16:47:59.109720",
     "status": "completed"
    },
    "tags": []
   },
   "outputs": [
    {
     "name": "stdout",
     "output_type": "stream",
     "text": [
      "Epoch 1/50\n",
      "45/45 [==============================] - 4s 22ms/step - loss: 0.0137 - mae: 0.0758 - root_mean_squared_error: 0.1172 - val_loss: 5.3419e-04 - val_mae: 0.0167 - val_root_mean_squared_error: 0.0231\n",
      "Epoch 2/50\n",
      "45/45 [==============================] - 0s 7ms/step - loss: 0.0028 - mae: 0.0362 - root_mean_squared_error: 0.0528 - val_loss: 5.4608e-04 - val_mae: 0.0169 - val_root_mean_squared_error: 0.0234\n",
      "Epoch 3/50\n",
      "45/45 [==============================] - 0s 6ms/step - loss: 0.0028 - mae: 0.0361 - root_mean_squared_error: 0.0526 - val_loss: 5.1561e-04 - val_mae: 0.0164 - val_root_mean_squared_error: 0.0227\n",
      "Epoch 4/50\n",
      "45/45 [==============================] - 0s 6ms/step - loss: 0.0026 - mae: 0.0346 - root_mean_squared_error: 0.0506 - val_loss: 8.5718e-04 - val_mae: 0.0243 - val_root_mean_squared_error: 0.0293\n",
      "Epoch 5/50\n",
      "45/45 [==============================] - 0s 6ms/step - loss: 0.0026 - mae: 0.0356 - root_mean_squared_error: 0.0511 - val_loss: 7.9354e-04 - val_mae: 0.0231 - val_root_mean_squared_error: 0.0282\n",
      "Epoch 6/50\n",
      "45/45 [==============================] - 0s 6ms/step - loss: 0.0026 - mae: 0.0365 - root_mean_squared_error: 0.0514 - val_loss: 6.9368e-04 - val_mae: 0.0211 - val_root_mean_squared_error: 0.0263\n",
      "Epoch 7/50\n",
      "45/45 [==============================] - 0s 6ms/step - loss: 0.0023 - mae: 0.0327 - root_mean_squared_error: 0.0476 - val_loss: 6.3899e-04 - val_mae: 0.0201 - val_root_mean_squared_error: 0.0253\n",
      "Epoch 8/50\n",
      "45/45 [==============================] - 0s 6ms/step - loss: 0.0022 - mae: 0.0322 - root_mean_squared_error: 0.0464 - val_loss: 7.4393e-04 - val_mae: 0.0224 - val_root_mean_squared_error: 0.0273\n",
      "Epoch 9/50\n",
      "45/45 [==============================] - 0s 6ms/step - loss: 0.0021 - mae: 0.0318 - root_mean_squared_error: 0.0456 - val_loss: 4.4315e-04 - val_mae: 0.0153 - val_root_mean_squared_error: 0.0211\n",
      "Epoch 10/50\n",
      "45/45 [==============================] - 0s 6ms/step - loss: 0.0019 - mae: 0.0305 - root_mean_squared_error: 0.0441 - val_loss: 4.1712e-04 - val_mae: 0.0147 - val_root_mean_squared_error: 0.0204\n",
      "Epoch 11/50\n",
      "45/45 [==============================] - 0s 6ms/step - loss: 0.0021 - mae: 0.0314 - root_mean_squared_error: 0.0453 - val_loss: 6.0463e-04 - val_mae: 0.0198 - val_root_mean_squared_error: 0.0246\n",
      "Epoch 12/50\n",
      "45/45 [==============================] - 0s 6ms/step - loss: 0.0021 - mae: 0.0326 - root_mean_squared_error: 0.0462 - val_loss: 5.5896e-04 - val_mae: 0.0187 - val_root_mean_squared_error: 0.0236\n",
      "Epoch 13/50\n",
      "45/45 [==============================] - 0s 6ms/step - loss: 0.0020 - mae: 0.0324 - root_mean_squared_error: 0.0451 - val_loss: 7.2905e-04 - val_mae: 0.0220 - val_root_mean_squared_error: 0.0270\n",
      "Epoch 14/50\n",
      "45/45 [==============================] - 0s 6ms/step - loss: 0.0019 - mae: 0.0306 - root_mean_squared_error: 0.0440 - val_loss: 5.3904e-04 - val_mae: 0.0185 - val_root_mean_squared_error: 0.0232\n",
      "Epoch 15/50\n",
      "45/45 [==============================] - 0s 6ms/step - loss: 0.0019 - mae: 0.0299 - root_mean_squared_error: 0.0432 - val_loss: 3.7221e-04 - val_mae: 0.0138 - val_root_mean_squared_error: 0.0193\n",
      "Epoch 16/50\n",
      "45/45 [==============================] - 0s 6ms/step - loss: 0.0018 - mae: 0.0294 - root_mean_squared_error: 0.0422 - val_loss: 4.3280e-04 - val_mae: 0.0155 - val_root_mean_squared_error: 0.0208\n",
      "Epoch 17/50\n",
      "45/45 [==============================] - 0s 6ms/step - loss: 0.0017 - mae: 0.0283 - root_mean_squared_error: 0.0412 - val_loss: 3.5511e-04 - val_mae: 0.0135 - val_root_mean_squared_error: 0.0188\n",
      "Epoch 18/50\n",
      "45/45 [==============================] - 0s 6ms/step - loss: 0.0018 - mae: 0.0293 - root_mean_squared_error: 0.0422 - val_loss: 0.0011 - val_mae: 0.0294 - val_root_mean_squared_error: 0.0330\n",
      "Epoch 19/50\n",
      "45/45 [==============================] - 0s 6ms/step - loss: 0.0018 - mae: 0.0302 - root_mean_squared_error: 0.0426 - val_loss: 4.2334e-04 - val_mae: 0.0154 - val_root_mean_squared_error: 0.0206\n",
      "Epoch 20/50\n",
      "45/45 [==============================] - 0s 8ms/step - loss: 0.0017 - mae: 0.0290 - root_mean_squared_error: 0.0414 - val_loss: 3.4498e-04 - val_mae: 0.0132 - val_root_mean_squared_error: 0.0186\n",
      "Epoch 21/50\n",
      "45/45 [==============================] - 0s 8ms/step - loss: 0.0017 - mae: 0.0282 - root_mean_squared_error: 0.0408 - val_loss: 3.3932e-04 - val_mae: 0.0133 - val_root_mean_squared_error: 0.0184\n",
      "Epoch 22/50\n",
      "45/45 [==============================] - 0s 7ms/step - loss: 0.0018 - mae: 0.0300 - root_mean_squared_error: 0.0418 - val_loss: 8.9985e-04 - val_mae: 0.0258 - val_root_mean_squared_error: 0.0300\n",
      "Epoch 23/50\n",
      "45/45 [==============================] - 0s 8ms/step - loss: 0.0016 - mae: 0.0283 - root_mean_squared_error: 0.0405 - val_loss: 3.7026e-04 - val_mae: 0.0146 - val_root_mean_squared_error: 0.0192\n",
      "Epoch 24/50\n",
      "45/45 [==============================] - 0s 6ms/step - loss: 0.0017 - mae: 0.0282 - root_mean_squared_error: 0.0407 - val_loss: 9.3959e-04 - val_mae: 0.0267 - val_root_mean_squared_error: 0.0307\n",
      "Epoch 25/50\n",
      "45/45 [==============================] - 0s 6ms/step - loss: 0.0016 - mae: 0.0284 - root_mean_squared_error: 0.0404 - val_loss: 3.2132e-04 - val_mae: 0.0132 - val_root_mean_squared_error: 0.0179\n",
      "Epoch 26/50\n",
      "45/45 [==============================] - 0s 6ms/step - loss: 0.0016 - mae: 0.0277 - root_mean_squared_error: 0.0401 - val_loss: 7.1707e-04 - val_mae: 0.0227 - val_root_mean_squared_error: 0.0268\n",
      "Epoch 27/50\n",
      "45/45 [==============================] - 0s 7ms/step - loss: 0.0017 - mae: 0.0292 - root_mean_squared_error: 0.0414 - val_loss: 4.7847e-04 - val_mae: 0.0179 - val_root_mean_squared_error: 0.0219\n",
      "Epoch 28/50\n",
      "45/45 [==============================] - 0s 6ms/step - loss: 0.0016 - mae: 0.0273 - root_mean_squared_error: 0.0397 - val_loss: 5.4486e-04 - val_mae: 0.0196 - val_root_mean_squared_error: 0.0233\n",
      "Epoch 29/50\n",
      "45/45 [==============================] - 0s 6ms/step - loss: 0.0018 - mae: 0.0306 - root_mean_squared_error: 0.0423 - val_loss: 4.7783e-04 - val_mae: 0.0176 - val_root_mean_squared_error: 0.0219\n",
      "Epoch 30/50\n",
      "45/45 [==============================] - 0s 7ms/step - loss: 0.0016 - mae: 0.0272 - root_mean_squared_error: 0.0395 - val_loss: 3.0631e-04 - val_mae: 0.0127 - val_root_mean_squared_error: 0.0175\n",
      "Epoch 31/50\n",
      "45/45 [==============================] - 0s 6ms/step - loss: 0.0015 - mae: 0.0261 - root_mean_squared_error: 0.0386 - val_loss: 4.0555e-04 - val_mae: 0.0160 - val_root_mean_squared_error: 0.0201\n",
      "Epoch 32/50\n",
      "45/45 [==============================] - 0s 6ms/step - loss: 0.0015 - mae: 0.0269 - root_mean_squared_error: 0.0391 - val_loss: 2.6533e-04 - val_mae: 0.0114 - val_root_mean_squared_error: 0.0163\n",
      "Epoch 33/50\n",
      "45/45 [==============================] - 0s 7ms/step - loss: 0.0016 - mae: 0.0276 - root_mean_squared_error: 0.0399 - val_loss: 3.3331e-04 - val_mae: 0.0139 - val_root_mean_squared_error: 0.0183\n",
      "Epoch 34/50\n",
      "45/45 [==============================] - 0s 6ms/step - loss: 0.0016 - mae: 0.0276 - root_mean_squared_error: 0.0401 - val_loss: 2.6831e-04 - val_mae: 0.0115 - val_root_mean_squared_error: 0.0164\n",
      "Epoch 35/50\n",
      "45/45 [==============================] - 0s 6ms/step - loss: 0.0015 - mae: 0.0268 - root_mean_squared_error: 0.0391 - val_loss: 2.8645e-04 - val_mae: 0.0122 - val_root_mean_squared_error: 0.0169\n",
      "Epoch 36/50\n",
      "45/45 [==============================] - 0s 7ms/step - loss: 0.0016 - mae: 0.0269 - root_mean_squared_error: 0.0395 - val_loss: 2.8358e-04 - val_mae: 0.0121 - val_root_mean_squared_error: 0.0168\n",
      "Epoch 37/50\n",
      "45/45 [==============================] - 0s 7ms/step - loss: 0.0016 - mae: 0.0273 - root_mean_squared_error: 0.0399 - val_loss: 2.6266e-04 - val_mae: 0.0114 - val_root_mean_squared_error: 0.0162\n",
      "Epoch 38/50\n",
      "45/45 [==============================] - 0s 7ms/step - loss: 0.0016 - mae: 0.0281 - root_mean_squared_error: 0.0403 - val_loss: 4.2400e-04 - val_mae: 0.0164 - val_root_mean_squared_error: 0.0206\n",
      "Epoch 39/50\n",
      "45/45 [==============================] - 0s 7ms/step - loss: 0.0016 - mae: 0.0268 - root_mean_squared_error: 0.0394 - val_loss: 2.8340e-04 - val_mae: 0.0122 - val_root_mean_squared_error: 0.0168\n",
      "Epoch 40/50\n",
      "45/45 [==============================] - 0s 7ms/step - loss: 0.0015 - mae: 0.0270 - root_mean_squared_error: 0.0394 - val_loss: 2.7427e-04 - val_mae: 0.0117 - val_root_mean_squared_error: 0.0166\n",
      "Epoch 41/50\n",
      "45/45 [==============================] - 0s 6ms/step - loss: 0.0015 - mae: 0.0266 - root_mean_squared_error: 0.0392 - val_loss: 4.9631e-04 - val_mae: 0.0183 - val_root_mean_squared_error: 0.0223\n",
      "Epoch 42/50\n",
      "45/45 [==============================] - 0s 6ms/step - loss: 0.0018 - mae: 0.0300 - root_mean_squared_error: 0.0426 - val_loss: 3.5759e-04 - val_mae: 0.0146 - val_root_mean_squared_error: 0.0189\n",
      "Epoch 43/50\n",
      "45/45 [==============================] - 0s 7ms/step - loss: 0.0016 - mae: 0.0276 - root_mean_squared_error: 0.0401 - val_loss: 0.0013 - val_mae: 0.0332 - val_root_mean_squared_error: 0.0362\n",
      "Epoch 44/50\n",
      "45/45 [==============================] - 0s 7ms/step - loss: 0.0016 - mae: 0.0280 - root_mean_squared_error: 0.0403 - val_loss: 2.5317e-04 - val_mae: 0.0111 - val_root_mean_squared_error: 0.0159\n",
      "Epoch 45/50\n",
      "45/45 [==============================] - 0s 6ms/step - loss: 0.0016 - mae: 0.0273 - root_mean_squared_error: 0.0394 - val_loss: 2.8514e-04 - val_mae: 0.0123 - val_root_mean_squared_error: 0.0169\n",
      "Epoch 46/50\n",
      "45/45 [==============================] - 0s 7ms/step - loss: 0.0016 - mae: 0.0271 - root_mean_squared_error: 0.0394 - val_loss: 2.9459e-04 - val_mae: 0.0127 - val_root_mean_squared_error: 0.0172\n",
      "Epoch 47/50\n",
      "45/45 [==============================] - 0s 7ms/step - loss: 0.0016 - mae: 0.0279 - root_mean_squared_error: 0.0404 - val_loss: 5.8002e-04 - val_mae: 0.0203 - val_root_mean_squared_error: 0.0241\n",
      "Epoch 48/50\n",
      "45/45 [==============================] - 0s 6ms/step - loss: 0.0016 - mae: 0.0276 - root_mean_squared_error: 0.0400 - val_loss: 3.3071e-04 - val_mae: 0.0136 - val_root_mean_squared_error: 0.0182\n",
      "Epoch 49/50\n",
      "45/45 [==============================] - 0s 7ms/step - loss: 0.0015 - mae: 0.0265 - root_mean_squared_error: 0.0388 - val_loss: 2.9051e-04 - val_mae: 0.0125 - val_root_mean_squared_error: 0.0170\n",
      "Epoch 50/50\n",
      "45/45 [==============================] - 0s 7ms/step - loss: 0.0015 - mae: 0.0265 - root_mean_squared_error: 0.0393 - val_loss: 2.7277e-04 - val_mae: 0.0118 - val_root_mean_squared_error: 0.0165\n"
     ]
    }
   ],
   "source": [
    "model.compile(loss='mean_squared_error',\n",
    "              metrics=['mae', RootMeanSquaredError()],\n",
    "              optimizer='adam')\n",
    "\n",
    "history = model.fit(X_train,\n",
    "                    y_train,\n",
    "                    epochs=50,\n",
    "                    batch_size=32,\n",
    "                    validation_split=0.1)"
   ]
  },
  {
   "cell_type": "code",
   "execution_count": 16,
   "id": "2ca40396",
   "metadata": {
    "execution": {
     "iopub.execute_input": "2024-02-05T16:48:18.280443Z",
     "iopub.status.busy": "2024-02-05T16:48:18.279854Z",
     "iopub.status.idle": "2024-02-05T16:48:18.403208Z",
     "shell.execute_reply": "2024-02-05T16:48:18.402290Z"
    },
    "papermill": {
     "duration": 0.180456,
     "end_time": "2024-02-05T16:48:18.405341",
     "exception": false,
     "start_time": "2024-02-05T16:48:18.224885",
     "status": "completed"
    },
    "tags": []
   },
   "outputs": [
    {
     "name": "stdout",
     "output_type": "stream",
     "text": [
      "13/13 [==============================] - 0s 3ms/step - loss: 5.9429e-04 - mae: 0.0182 - root_mean_squared_error: 0.0244\n"
     ]
    },
    {
     "data": {
      "text/plain": [
       "[0.0005942922434769571, 0.01820383034646511, 0.024378109723329544]"
      ]
     },
     "execution_count": 16,
     "metadata": {},
     "output_type": "execute_result"
    }
   ],
   "source": [
    "model.evaluate(X_test, y_test)"
   ]
  },
  {
   "cell_type": "markdown",
   "id": "f232d3f6",
   "metadata": {
    "papermill": {
     "duration": 0.053999,
     "end_time": "2024-02-05T16:48:18.514306",
     "exception": false,
     "start_time": "2024-02-05T16:48:18.460307",
     "status": "completed"
    },
    "tags": []
   },
   "source": [
    "## Model Evaluation"
   ]
  },
  {
   "cell_type": "code",
   "execution_count": 17,
   "id": "81d6e5ce",
   "metadata": {
    "execution": {
     "iopub.execute_input": "2024-02-05T16:48:18.624264Z",
     "iopub.status.busy": "2024-02-05T16:48:18.623917Z",
     "iopub.status.idle": "2024-02-05T16:48:18.924063Z",
     "shell.execute_reply": "2024-02-05T16:48:18.923130Z"
    },
    "papermill": {
     "duration": 0.357395,
     "end_time": "2024-02-05T16:48:18.926203",
     "exception": false,
     "start_time": "2024-02-05T16:48:18.568808",
     "status": "completed"
    },
    "tags": []
   },
   "outputs": [
    {
     "data": {
      "image/png": "[encoded data removed]",
      "text/plain": [
       "<Figure size 640x480 with 1 Axes>"
      ]
     },
     "metadata": {},
     "output_type": "display_data"
    }
   ],
   "source": [
    "plt.plot(history.history['loss'])\n",
    "plt.plot(history.history['val_loss'])\n",
    "plt.title(f'{SHEET_NAME} Model Loss', fontsize=15)\n",
    "plt.ylabel('loss')\n",
    "plt.xlabel('epoch')\n",
    "plt.legend(['train', 'test'])\n",
    "plt.show()"
   ]
  },
  {
   "cell_type": "code",
   "execution_count": 18,
   "id": "094b7335",
   "metadata": {
    "execution": {
     "iopub.execute_input": "2024-02-05T16:48:19.039145Z",
     "iopub.status.busy": "2024-02-05T16:48:19.038773Z",
     "iopub.status.idle": "2024-02-05T16:48:20.672126Z",
     "shell.execute_reply": "2024-02-05T16:48:20.671294Z"
    },
    "papermill": {
     "duration": 1.693145,
     "end_time": "2024-02-05T16:48:20.674333",
     "exception": false,
     "start_time": "2024-02-05T16:48:18.981188",
     "status": "completed"
    },
    "tags": []
   },
   "outputs": [
    {
     "name": "stdout",
     "output_type": "stream",
     "text": [
      "13/13 [==============================] - 2s 3ms/step\n"
     ]
    }
   ],
   "source": [
    "y_hat = model.predict(X_test)\n",
    "y_test_inverse = scaler.inverse_transform(y_test)\n",
    "y_hat_inverse = scaler.inverse_transform(y_hat)"
   ]
  },
  {
   "cell_type": "code",
   "execution_count": 19,
   "id": "1c312374",
   "metadata": {
    "execution": {
     "iopub.execute_input": "2024-02-05T16:48:20.786353Z",
     "iopub.status.busy": "2024-02-05T16:48:20.786006Z",
     "iopub.status.idle": "2024-02-05T16:48:21.108920Z",
     "shell.execute_reply": "2024-02-05T16:48:21.108005Z"
    },
    "papermill": {
     "duration": 0.381353,
     "end_time": "2024-02-05T16:48:21.111240",
     "exception": false,
     "start_time": "2024-02-05T16:48:20.729887",
     "status": "completed"
    },
    "tags": []
   },
   "outputs": [
    {
     "data": {
      "image/png": "[encoded data removed]",
      "text/plain": [
       "<Figure size 640x480 with 1 Axes>"
      ]
     },
     "metadata": {},
     "output_type": "display_data"
    }
   ],
   "source": [
    "plt.plot(y_test_inverse, label=\"Actual Price\", color='green')\n",
    "plt.plot(y_hat_inverse, label=\"Predicted Price\", color='red')\n",
    " \n",
    "plt.title(f'{SHEET_NAME} Price Prediction\\nLSTM = {LSTM_Layer}, Split Data = {SPLIT}, Window = {WINDOW_SIZE}', fontsize=15)\n",
    "plt.xlabel('Time [days]')\n",
    "plt.ylabel('Price')\n",
    "plt.legend(loc='best')\n",
    " \n",
    "plt.show()"
   ]
  },
  {
   "cell_type": "code",
   "execution_count": 20,
   "id": "a81d8f73",
   "metadata": {
    "execution": {
     "iopub.execute_input": "2024-02-05T16:48:21.225950Z",
     "iopub.status.busy": "2024-02-05T16:48:21.225102Z",
     "iopub.status.idle": "2024-02-05T16:48:21.234179Z",
     "shell.execute_reply": "2024-02-05T16:48:21.233218Z"
    },
    "papermill": {
     "duration": 0.068623,
     "end_time": "2024-02-05T16:48:21.236166",
     "exception": false,
     "start_time": "2024-02-05T16:48:21.167543",
     "status": "completed"
    },
    "tags": []
   },
   "outputs": [
    {
     "name": "stdout",
     "output_type": "stream",
     "text": [
      "LSTM = 2, Split Data = 0.8, Window = 10\n",
      "\n",
      "----------------- Normalized Error -----------------\n",
      "Mean Absolute Error for prediction : 0.01820382861758666\n",
      "Mean Squared Error for prediction : 0.0005942922031085328\n",
      "Root Mean Squared Error for prediction : 0.024378109096247248\n",
      "\n",
      "----------------- Actual Error -----------------\n",
      "Mean Absolute Error for prediction : 46.897561568052126\n",
      "Mean Squared Error for prediction : 3944.35130577699\n",
      "Root Mean Squared Error for prediction : 62.80407077393145\n"
     ]
    }
   ],
   "source": [
    "def matrices(actual, predicted):\n",
    "    mse = mean_squared_error(actual, predicted)\n",
    "    mae = mean_absolute_error(actual, predicted)\n",
    "    rmse = np.sqrt(mse)\n",
    "    print(\"Mean Absolute Error for prediction :\", mae)\n",
    "    print(\"Mean Squared Error for prediction :\", mse)\n",
    "    print(\"Root Mean Squared Error for prediction :\", rmse)\n",
    "    return mae, mse, rmse\n",
    "\n",
    "print(f\"LSTM = {LSTM_Layer}, Split Data = {SPLIT}, Window = {WINDOW_SIZE}\")\n",
    "print(\"\\n----------------- Normalized Error -----------------\")\n",
    "mae, mse, rmse = matrices(y_test, y_hat)\n",
    "print(\"\\n----------------- Actual Error -----------------\")\n",
    "mae_inverse, mse_inverse, rmse_inverse = matrices(y_test_inverse, y_hat_inverse)"
   ]
  }
 ],
 "metadata": {
  "kaggle": {
   "accelerator": "gpu",
   "dataSources": [],
   "dockerImageVersionId": 30498,
   "isGpuEnabled": true,
   "isInternetEnabled": true,
   "language": "python",
   "sourceType": "notebook"
  },
  "kernelspec": {
   "display_name": "Python 3",
   "language": "python",
   "name": "python3"
  },
  "language_info": {
   "codemirror_mode": {
    "name": "ipython",
    "version": 3
   },
   "file_extension": ".py",
   "mimetype": "text/x-python",
   "name": "python",
   "nbconvert_exporter": "python",
   "pygments_lexer": "ipython3",
   "version": "3.10.10"
  },
  "papermill": {
   "default_parameters": {},
   "duration": 872.05381,
   "end_time": "2024-02-05T16:48:24.902843",
   "environment_variables": {},
   "exception": null,
   "input_path": "__notebook__.ipynb",
   "output_path": "__notebook__.ipynb",
   "parameters": {},
   "start_time": "2024-02-05T16:33:52.849033",
   "version": "2.4.0"
  }
 },
 "nbformat": 4,
 "nbformat_minor": 5
}
