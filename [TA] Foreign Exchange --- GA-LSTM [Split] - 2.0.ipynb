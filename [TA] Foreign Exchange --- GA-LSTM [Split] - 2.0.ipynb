{
 "cells": [
  {
   "cell_type": "code",
   "execution_count": 1,
   "id": "b365ee63",
   "metadata": {
    "execution": {
     "iopub.execute_input": "2024-02-06T02:28:15.526053Z",
     "iopub.status.busy": "2024-02-06T02:28:15.525608Z",
     "iopub.status.idle": "2024-02-06T02:28:24.500373Z",
     "shell.execute_reply": "2024-02-06T02:28:24.499600Z"
    },
    "papermill": {
     "duration": 8.988273,
     "end_time": "2024-02-06T02:28:24.502592",
     "exception": false,
     "start_time": "2024-02-06T02:28:15.514319",
     "status": "completed"
    },
    "tags": []
   },
   "outputs": [
    {
     "name": "stderr",
     "output_type": "stream",
     "text": [
      "/opt/conda/lib/python3.10/site-packages/tensorflow_io/python/ops/__init__.py:98: UserWarning: unable to load libtensorflow_io_plugins.so: unable to open file: libtensorflow_io_plugins.so, from paths: ['/opt/conda/lib/python3.10/site-packages/tensorflow_io/python/ops/libtensorflow_io_plugins.so']\n",
      "caused by: ['/opt/conda/lib/python3.10/site-packages/tensorflow_io/python/ops/libtensorflow_io_plugins.so: undefined symbol: _ZN3tsl6StatusC1EN10tensorflow5error4CodeESt17basic_string_viewIcSt11char_traitsIcEENS_14SourceLocationE']\n",
      "  warnings.warn(f\"unable to load libtensorflow_io_plugins.so: {e}\")\n",
      "/opt/conda/lib/python3.10/site-packages/tensorflow_io/python/ops/__init__.py:104: UserWarning: file system plugins are not loaded: unable to open file: libtensorflow_io.so, from paths: ['/opt/conda/lib/python3.10/site-packages/tensorflow_io/python/ops/libtensorflow_io.so']\n",
      "caused by: ['/opt/conda/lib/python3.10/site-packages/tensorflow_io/python/ops/libtensorflow_io.so: undefined symbol: _ZTVN10tensorflow13GcsFileSystemE']\n",
      "  warnings.warn(f\"file system plugins are not loaded: {e}\")\n"
     ]
    }
   ],
   "source": [
    "import pandas as pd\n",
    "import numpy as np\n",
    "import tensorflow as tf\n",
    "import matplotlib.pyplot as plt\n",
    "import datetime, pytz\n",
    "\n",
    "from keras.models import Sequential\n",
    "from keras.layers import LSTM, Dense\n",
    "from keras.metrics import RootMeanSquaredError\n",
    "\n",
    "from sklearn.preprocessing import MinMaxScaler\n",
    "from sklearn.metrics import mean_squared_error, mean_absolute_error"
   ]
  },
  {
   "cell_type": "markdown",
   "id": "98e5e263",
   "metadata": {
    "papermill": {
     "duration": 0.006375,
     "end_time": "2024-02-06T02:28:24.515905",
     "exception": false,
     "start_time": "2024-02-06T02:28:24.509530",
     "status": "completed"
    },
    "tags": []
   },
   "source": [
    "## Hyperparameter"
   ]
  },
  {
   "cell_type": "code",
   "execution_count": 2,
   "id": "1d969dc9",
   "metadata": {
    "execution": {
     "iopub.execute_input": "2024-02-06T02:28:24.530077Z",
     "iopub.status.busy": "2024-02-06T02:28:24.529498Z",
     "iopub.status.idle": "2024-02-06T02:28:24.534378Z",
     "shell.execute_reply": "2024-02-06T02:28:24.533553Z"
    },
    "papermill": {
     "duration": 0.014104,
     "end_time": "2024-02-06T02:28:24.536358",
     "exception": false,
     "start_time": "2024-02-06T02:28:24.522254",
     "status": "completed"
    },
    "tags": []
   },
   "outputs": [],
   "source": [
    "# Google Spreadsheet ID\n",
    "SHEET_ID = '1JDNv_mArl-GPIpxuWS5GxgVEwvjXocS1MrXGc6TYs8M'\n",
    "SHEET_NAME = 'EUR/IDR' # USD/IDR, EUR/IDR, SGD/IDR\n",
    "\n",
    "SEQ_LEN = 11 # 6, 11, 21\n",
    "SPLIT = 0.90 # 0.80, 0.90\n",
    "LSTM_Layer = 3 # 1, 2, 3\n",
    "WINDOW_SIZE = SEQ_LEN - 1"
   ]
  },
  {
   "cell_type": "code",
   "execution_count": 3,
   "id": "e7c37e39",
   "metadata": {
    "execution": {
     "iopub.execute_input": "2024-02-06T02:28:24.550573Z",
     "iopub.status.busy": "2024-02-06T02:28:24.550326Z",
     "iopub.status.idle": "2024-02-06T02:28:25.511177Z",
     "shell.execute_reply": "2024-02-06T02:28:25.509989Z"
    },
    "papermill": {
     "duration": 0.970313,
     "end_time": "2024-02-06T02:28:25.513287",
     "exception": false,
     "start_time": "2024-02-06T02:28:24.542974",
     "status": "completed"
    },
    "tags": []
   },
   "outputs": [
    {
     "name": "stdout",
     "output_type": "stream",
     "text": [
      "<class 'pandas.core.frame.DataFrame'>\n",
      "RangeIndex: 1977 entries, 0 to 1976\n",
      "Data columns (total 2 columns):\n",
      " #   Column  Non-Null Count  Dtype         \n",
      "---  ------  --------------  -----         \n",
      " 0   Date    1977 non-null   datetime64[ns]\n",
      " 1   Close   1977 non-null   float64       \n",
      "dtypes: datetime64[ns](1), float64(1)\n",
      "memory usage: 31.0 KB\n"
     ]
    }
   ],
   "source": [
    "url = f'https://docs.google.com/spreadsheets/d/{SHEET_ID}/gviz/tq?tqx=out:csv&sheet={SHEET_NAME}'\n",
    "data = pd.read_csv(url)\n",
    "\n",
    "# Convert Date columns to datetime format\n",
    "data['Date'] = pd.to_datetime(data['Date'], format='%d/%m/%Y %H:%M:%S')\n",
    "data.info()"
   ]
  },
  {
   "cell_type": "markdown",
   "id": "0778e576",
   "metadata": {
    "papermill": {
     "duration": 0.006771,
     "end_time": "2024-02-06T02:28:25.526846",
     "exception": false,
     "start_time": "2024-02-06T02:28:25.520075",
     "status": "completed"
    },
    "tags": []
   },
   "source": [
    "## Preprocessing"
   ]
  },
  {
   "cell_type": "code",
   "execution_count": 4,
   "id": "e61e736c",
   "metadata": {
    "execution": {
     "iopub.execute_input": "2024-02-06T02:28:25.541291Z",
     "iopub.status.busy": "2024-02-06T02:28:25.541008Z",
     "iopub.status.idle": "2024-02-06T02:28:25.553238Z",
     "shell.execute_reply": "2024-02-06T02:28:25.552354Z"
    },
    "papermill": {
     "duration": 0.021483,
     "end_time": "2024-02-06T02:28:25.555085",
     "exception": false,
     "start_time": "2024-02-06T02:28:25.533602",
     "status": "completed"
    },
    "tags": []
   },
   "outputs": [
    {
     "name": "stderr",
     "output_type": "stream",
     "text": [
      "/tmp/ipykernel_26/2274720815.py:7: SettingWithCopyWarning: \n",
      "A value is trying to be set on a copy of a slice from a DataFrame\n",
      "\n",
      "See the caveats in the documentation: https://pandas.pydata.org/pandas-docs/stable/user_guide/indexing.html#returning-a-view-versus-a-copy\n",
      "  data[data < lower_bound] = lower_bound\n",
      "/tmp/ipykernel_26/2274720815.py:8: SettingWithCopyWarning: \n",
      "A value is trying to be set on a copy of a slice from a DataFrame\n",
      "\n",
      "See the caveats in the documentation: https://pandas.pydata.org/pandas-docs/stable/user_guide/indexing.html#returning-a-view-versus-a-copy\n",
      "  data[data > upper_bound] = upper_bound\n"
     ]
    }
   ],
   "source": [
    "def replace_outliers(data):\n",
    "    Q1 = np.percentile(data, 25)\n",
    "    Q3 = np.percentile(data, 75)\n",
    "    IQR = Q3 - Q1\n",
    "    lower_bound = Q1 - 1.5 * IQR\n",
    "    upper_bound = Q3 + 1.5 * IQR\n",
    "    data[data < lower_bound] = lower_bound\n",
    "    data[data > upper_bound] = upper_bound\n",
    "    return data\n",
    "\n",
    "data['Close'] = replace_outliers(data['Close'])"
   ]
  },
  {
   "cell_type": "code",
   "execution_count": 5,
   "id": "3e482909",
   "metadata": {
    "execution": {
     "iopub.execute_input": "2024-02-06T02:28:25.571785Z",
     "iopub.status.busy": "2024-02-06T02:28:25.571507Z",
     "iopub.status.idle": "2024-02-06T02:28:25.761108Z",
     "shell.execute_reply": "2024-02-06T02:28:25.760210Z"
    },
    "papermill": {
     "duration": 0.200375,
     "end_time": "2024-02-06T02:28:25.763104",
     "exception": false,
     "start_time": "2024-02-06T02:28:25.562729",
     "status": "completed"
    },
    "tags": []
   },
   "outputs": [
    {
     "data": {
      "image/png": "[encoded data removed]",
      "text/plain": [
       "<Figure size 640x480 with 1 Axes>"
      ]
     },
     "metadata": {},
     "output_type": "display_data"
    }
   ],
   "source": [
    "# Boxplot for outlier detection\n",
    "plt.boxplot(data['Close'])\n",
    "plt.title(f\"{SHEET_NAME} Boxplot for Outlier Detection\")\n",
    "plt.xlabel(\"Close\")\n",
    "plt.ylabel(\"Values\")\n",
    "plt.show()"
   ]
  },
  {
   "cell_type": "code",
   "execution_count": 6,
   "id": "f512af3b",
   "metadata": {
    "execution": {
     "iopub.execute_input": "2024-02-06T02:28:25.778583Z",
     "iopub.status.busy": "2024-02-06T02:28:25.778273Z",
     "iopub.status.idle": "2024-02-06T02:28:25.785793Z",
     "shell.execute_reply": "2024-02-06T02:28:25.784981Z"
    },
    "papermill": {
     "duration": 0.01732,
     "end_time": "2024-02-06T02:28:25.787617",
     "exception": false,
     "start_time": "2024-02-06T02:28:25.770297",
     "status": "completed"
    },
    "tags": []
   },
   "outputs": [
    {
     "data": {
      "text/plain": [
       "(1977, 1)"
      ]
     },
     "execution_count": 6,
     "metadata": {},
     "output_type": "execute_result"
    }
   ],
   "source": [
    "scaler = MinMaxScaler()\n",
    "close_price = data.Close.values.reshape(-1, 1)\n",
    "scaled_close = scaler.fit_transform(close_price)\n",
    "scaled_close.shape"
   ]
  },
  {
   "cell_type": "code",
   "execution_count": 7,
   "id": "81495622",
   "metadata": {
    "execution": {
     "iopub.execute_input": "2024-02-06T02:28:25.803645Z",
     "iopub.status.busy": "2024-02-06T02:28:25.803297Z",
     "iopub.status.idle": "2024-02-06T02:28:25.813628Z",
     "shell.execute_reply": "2024-02-06T02:28:25.812928Z"
    },
    "papermill": {
     "duration": 0.020822,
     "end_time": "2024-02-06T02:28:25.815742",
     "exception": false,
     "start_time": "2024-02-06T02:28:25.794920",
     "status": "completed"
    },
    "tags": []
   },
   "outputs": [],
   "source": [
    "def to_sequences(data, seq_len):\n",
    "    d = []\n",
    "    for index in range(len(data) - seq_len):\n",
    "        d.append(data[index: index + seq_len])\n",
    "    return np.array(d)\n",
    "\n",
    "def preprocess(data_raw, seq_len, train_split):\n",
    "    data = to_sequences(data_raw, seq_len)\n",
    "    num_train = int(train_split * data.shape[0])\n",
    "    X_train = data[:num_train, :-1, :]\n",
    "    y_train = data[:num_train, -1, :]\n",
    "    X_test = data[num_train:, :-1, :]\n",
    "    y_test = data[num_train:, -1, :]\n",
    "    return X_train, y_train, X_test, y_test\n",
    "\n",
    "X_train, y_train, X_test, y_test = preprocess(scaled_close, SEQ_LEN, train_split = SPLIT)"
   ]
  },
  {
   "cell_type": "markdown",
   "id": "925d2ce1",
   "metadata": {
    "papermill": {
     "duration": 0.007362,
     "end_time": "2024-02-06T02:28:25.830643",
     "exception": false,
     "start_time": "2024-02-06T02:28:25.823281",
     "status": "completed"
    },
    "tags": []
   },
   "source": [
    "## Genetic Algorithm"
   ]
  },
  {
   "cell_type": "code",
   "execution_count": 8,
   "id": "8e912804",
   "metadata": {
    "execution": {
     "iopub.execute_input": "2024-02-06T02:28:25.846895Z",
     "iopub.status.busy": "2024-02-06T02:28:25.846091Z",
     "iopub.status.idle": "2024-02-06T02:28:25.851854Z",
     "shell.execute_reply": "2024-02-06T02:28:25.851077Z"
    },
    "papermill": {
     "duration": 0.015982,
     "end_time": "2024-02-06T02:28:25.853789",
     "exception": false,
     "start_time": "2024-02-06T02:28:25.837807",
     "status": "completed"
    },
    "tags": []
   },
   "outputs": [],
   "source": [
    "def decimal_to_binary(chromosome: list):\n",
    "    binary_string = ''.join([bin(x)[2:].zfill(8) for x in chromosome])\n",
    "    return binary_string\n",
    "\n",
    "def binary_to_decimal(binary_string: str):\n",
    "    decimal_array = [int(binary, 2) for binary in [binary_string[i:i+8] for i in range(0, len(binary_string), 8)]]\n",
    "    return decimal_array"
   ]
  },
  {
   "cell_type": "code",
   "execution_count": 9,
   "id": "3623d69f",
   "metadata": {
    "execution": {
     "iopub.execute_input": "2024-02-06T02:28:25.869491Z",
     "iopub.status.busy": "2024-02-06T02:28:25.869242Z",
     "iopub.status.idle": "2024-02-06T02:28:25.887838Z",
     "shell.execute_reply": "2024-02-06T02:28:25.887028Z"
    },
    "papermill": {
     "duration": 0.028569,
     "end_time": "2024-02-06T02:28:25.889563",
     "exception": false,
     "start_time": "2024-02-06T02:28:25.860994",
     "status": "completed"
    },
    "tags": []
   },
   "outputs": [],
   "source": [
    "# Genetic Algorithm\n",
    "def genetic_algorithm(generations, mutation_rate):\n",
    "    print(f\"Inizialized Population...\")\n",
    "    population = np.random.randint(1, high=251, size=(10, 3))\n",
    "    fitness_scores = np.array([fitness_function(chromosome) for chromosome in population])\n",
    "    max_fitness_each_gen = []\n",
    "    \n",
    "    for generation in range(generations):\n",
    "        print(f\"Generation - {generation + 1}\")\n",
    "        max_fitness_each_gen.append(np.max(fitness_scores))\n",
    "        \n",
    "        chromosome_1 = selection(population, fitness_scores)\n",
    "        chromosome_2 = selection(population, fitness_scores)\n",
    "        \n",
    "        if generation % mutation_rate == 0:\n",
    "            chromosome_1 = mutate(chromosome_1)\n",
    "            chromosome_2 = mutate(chromosome_2)\n",
    "        else:\n",
    "            chromosome_1, chromosome_2 = crossover(chromosome_1, chromosome_2)\n",
    "\n",
    "        fitness_score_1 = fitness_function(chromosome_1)\n",
    "        fitness_score_2 = fitness_function(chromosome_2)\n",
    "        \n",
    "        worst_index = np.argmin(fitness_scores)\n",
    "        worst_fitness = fitness_scores[worst_index]\n",
    "\n",
    "        if fitness_score_1 > worst_fitness:\n",
    "            population[worst_index] = chromosome_1\n",
    "            fitness_scores[worst_index] = fitness_score_1\n",
    "            worst_index = np.argmin(fitness_scores)\n",
    "            worst_fitness = fitness_scores[worst_index]\n",
    "\n",
    "        if fitness_score_2 > worst_fitness:\n",
    "            population[worst_index] = chromosome_2\n",
    "            fitness_scores[worst_index] = fitness_score_2\n",
    "        \n",
    "        # Release some memory\n",
    "        del chromosome_1, chromosome_2\n",
    "        del fitness_score_1, fitness_score_2\n",
    "        del worst_index, worst_fitness\n",
    "            \n",
    "    best_chromosome = population[np.argmax(fitness_scores)]\n",
    "    best_fitness = np.max(fitness_scores)\n",
    "    \n",
    "    return best_chromosome, best_fitness, max_fitness_each_gen\n",
    "\n",
    "# Selection (Tournament selection)\n",
    "def selection(population, fitness_scores, tournament_size=3):\n",
    "    indices = np.random.randint(len(population), size=tournament_size)\n",
    "    tournament = population[indices]\n",
    "    tournament_fitness = fitness_scores[indices]\n",
    "    return tournament[np.argmax(tournament_fitness)]\n",
    "\n",
    "# Crossover (Single-point crossover)\n",
    "def crossover(parent_1: list, parent_2: list):\n",
    "    parent_1 = decimal_to_binary(parent_1)\n",
    "    parent_2 = decimal_to_binary(parent_2)\n",
    "    \n",
    "    crossover_point = np.random.randint(1, len(parent_1))\n",
    "    offspring_1 = parent_1[:crossover_point] + parent_2[crossover_point:]\n",
    "    offspring_2 = parent_2[:crossover_point] + parent_1[crossover_point:]\n",
    "    \n",
    "    offspring_1 = binary_to_decimal(offspring_1)\n",
    "    offspring_2 = binary_to_decimal(offspring_2)\n",
    "    return offspring_1, offspring_2\n",
    "\n",
    "# Mutation (Swap Mutation)\n",
    "def mutate(chromosome: list):\n",
    "    chromosome = decimal_to_binary(chromosome)\n",
    "    \n",
    "    chromosome_list = list(chromosome)\n",
    "    i = np.random.randint(len(chromosome_list), size=2)\n",
    "    chromosome_list[i[0]], chromosome_list[i[1]] = chromosome_list[i[1]], chromosome_list[i[0]]\n",
    "    \n",
    "    chromosome_list = ''.join(chromosome_list)\n",
    "    chromosome = binary_to_decimal(chromosome_list)\n",
    "    return chromosome\n",
    "\n",
    "# Fitness Function\n",
    "def fitness_function(chromosome: list):\n",
    "    lstm_units = [int(chromosome[i]) or default for i, default in enumerate([128, 64, 32])]\n",
    "\n",
    "    # Build the LSTM model\n",
    "    tf.keras.backend.clear_session()\n",
    "    model = Sequential()\n",
    "    for i, units in enumerate(lstm_units[:LSTM_Layer]):\n",
    "        model.add(LSTM(units, return_sequences=(i < LSTM_Layer - 1), input_shape=(WINDOW_SIZE, 1)))\n",
    "    model.add(Dense(1))\n",
    "    \n",
    "    # Compile and train the model\n",
    "    model.compile(loss='mean_squared_error',\n",
    "                  optimizer='adam')\n",
    "    model.fit(X_train, y_train,\n",
    "              epochs=10,\n",
    "              batch_size=32,\n",
    "              verbose=0,\n",
    "              validation_split=0.1)\n",
    "\n",
    "    # Evaluate the model\n",
    "    loss = model.evaluate(X_test, y_test)\n",
    "\n",
    "    # Return the negative value of the loss as the fitness score\n",
    "    return -loss"
   ]
  },
  {
   "cell_type": "code",
   "execution_count": 10,
   "id": "cbb347c9",
   "metadata": {
    "execution": {
     "iopub.execute_input": "2024-02-06T02:28:25.904718Z",
     "iopub.status.busy": "2024-02-06T02:28:25.904470Z",
     "iopub.status.idle": "2024-02-06T02:28:25.909954Z",
     "shell.execute_reply": "2024-02-06T02:28:25.909159Z"
    },
    "papermill": {
     "duration": 0.01518,
     "end_time": "2024-02-06T02:28:25.911813",
     "exception": false,
     "start_time": "2024-02-06T02:28:25.896633",
     "status": "completed"
    },
    "tags": []
   },
   "outputs": [],
   "source": [
    "import typing\n",
    "from datetime import datetime\n",
    "\n",
    "def timer(start_time: datetime = None) -> \"typing.Union[datetime.datetime, str]\":\n",
    "    if not start_time:\n",
    "        start_time = datetime.now()\n",
    "        return start_time\n",
    "    elif start_time:\n",
    "        thour, temp_sec = divmod((datetime.now() - start_time).total_seconds(), 3600)\n",
    "        tmin, tsec = divmod(temp_sec, 60)\n",
    "        return \"%i hours %i minutes and %s seconds.\" % (\n",
    "            thour,\n",
    "            tmin,\n",
    "            round(tsec, 2),\n",
    "        )"
   ]
  },
  {
   "cell_type": "code",
   "execution_count": 11,
   "id": "8193e41a",
   "metadata": {
    "execution": {
     "iopub.execute_input": "2024-02-06T02:28:25.927286Z",
     "iopub.status.busy": "2024-02-06T02:28:25.927046Z",
     "iopub.status.idle": "2024-02-06T02:48:01.192251Z",
     "shell.execute_reply": "2024-02-06T02:48:01.191320Z"
    },
    "papermill": {
     "duration": 1175.275415,
     "end_time": "2024-02-06T02:48:01.194405",
     "exception": false,
     "start_time": "2024-02-06T02:28:25.918990",
     "status": "completed"
    },
    "tags": []
   },
   "outputs": [
    {
     "name": "stdout",
     "output_type": "stream",
     "text": [
      "Inizialized Population...\n",
      "7/7 [==============================] - 0s 4ms/step - loss: 0.0011\n",
      "7/7 [==============================] - 0s 4ms/step - loss: 0.0013\n",
      "7/7 [==============================] - 0s 4ms/step - loss: 0.0014\n",
      "7/7 [==============================] - 0s 4ms/step - loss: 9.5613e-04\n",
      "7/7 [==============================] - 0s 4ms/step - loss: 0.0015\n",
      "7/7 [==============================] - 0s 4ms/step - loss: 0.0013\n",
      "7/7 [==============================] - 0s 4ms/step - loss: 0.0011\n",
      "7/7 [==============================] - 0s 4ms/step - loss: 9.8536e-04\n",
      "7/7 [==============================] - 0s 4ms/step - loss: 9.2242e-04\n",
      "7/7 [==============================] - 0s 4ms/step - loss: 9.8770e-04\n",
      "Generation - 1\n",
      "7/7 [==============================] - 0s 4ms/step - loss: 9.6001e-04\n",
      "7/7 [==============================] - 0s 4ms/step - loss: 0.0013\n",
      "Generation - 2\n",
      "7/7 [==============================] - 0s 4ms/step - loss: 0.0011\n",
      "7/7 [==============================] - 0s 4ms/step - loss: 0.0013\n",
      "Generation - 3\n",
      "7/7 [==============================] - 0s 4ms/step - loss: 0.0017\n",
      "7/7 [==============================] - 0s 4ms/step - loss: 0.0013\n",
      "Generation - 4\n",
      "7/7 [==============================] - 0s 4ms/step - loss: 9.1271e-04\n",
      "7/7 [==============================] - 0s 4ms/step - loss: 9.2918e-04\n",
      "Generation - 5\n",
      "7/7 [==============================] - 0s 4ms/step - loss: 0.0015\n",
      "7/7 [==============================] - 0s 4ms/step - loss: 9.1396e-04\n",
      "Generation - 6\n",
      "7/7 [==============================] - 0s 4ms/step - loss: 0.0012\n",
      "7/7 [==============================] - 0s 4ms/step - loss: 0.0012\n",
      "Generation - 7\n",
      "7/7 [==============================] - 0s 4ms/step - loss: 9.2873e-04\n",
      "7/7 [==============================] - 0s 4ms/step - loss: 9.7052e-04\n",
      "Generation - 8\n",
      "7/7 [==============================] - 0s 4ms/step - loss: 9.6637e-04\n",
      "7/7 [==============================] - 0s 4ms/step - loss: 9.2625e-04\n",
      "Generation - 9\n",
      "7/7 [==============================] - 0s 4ms/step - loss: 8.9888e-04\n",
      "7/7 [==============================] - 0s 5ms/step - loss: 0.0014\n",
      "Generation - 10\n",
      "7/7 [==============================] - 0s 4ms/step - loss: 8.8303e-04\n",
      "7/7 [==============================] - 0s 4ms/step - loss: 9.7403e-04\n",
      "Generation - 11\n",
      "7/7 [==============================] - 0s 4ms/step - loss: 0.0011\n",
      "7/7 [==============================] - 0s 4ms/step - loss: 0.0014\n",
      "Generation - 12\n",
      "7/7 [==============================] - 0s 4ms/step - loss: 9.1910e-04\n",
      "7/7 [==============================] - 0s 4ms/step - loss: 9.6398e-04\n",
      "Generation - 13\n",
      "7/7 [==============================] - 0s 4ms/step - loss: 0.0011\n",
      "7/7 [==============================] - 0s 4ms/step - loss: 9.0272e-04\n",
      "Generation - 14\n",
      "7/7 [==============================] - 0s 4ms/step - loss: 9.3181e-04\n",
      "7/7 [==============================] - 0s 4ms/step - loss: 0.0015\n",
      "Generation - 15\n",
      "7/7 [==============================] - 0s 4ms/step - loss: 9.1946e-04\n",
      "7/7 [==============================] - 0s 4ms/step - loss: 8.9645e-04\n",
      "Generation - 16\n",
      "7/7 [==============================] - 0s 4ms/step - loss: 9.7455e-04\n",
      "7/7 [==============================] - 0s 4ms/step - loss: 0.0016\n",
      "Generation - 17\n",
      "7/7 [==============================] - 0s 4ms/step - loss: 9.0682e-04\n",
      "7/7 [==============================] - 0s 4ms/step - loss: 9.3361e-04\n",
      "Generation - 18\n",
      "7/7 [==============================] - 0s 4ms/step - loss: 0.0018\n",
      "7/7 [==============================] - 0s 4ms/step - loss: 9.6041e-04\n",
      "Generation - 19\n",
      "7/7 [==============================] - 0s 4ms/step - loss: 8.7658e-04\n",
      "7/7 [==============================] - 0s 4ms/step - loss: 0.0013\n",
      "Generation - 20\n",
      "7/7 [==============================] - 0s 4ms/step - loss: 0.0035\n",
      "7/7 [==============================] - 0s 4ms/step - loss: 0.0011\n",
      "Generation - 21\n",
      "7/7 [==============================] - 0s 4ms/step - loss: 0.0015\n",
      "7/7 [==============================] - 0s 4ms/step - loss: 9.1609e-04\n",
      "Generation - 22\n",
      "7/7 [==============================] - 0s 4ms/step - loss: 0.0014\n",
      "7/7 [==============================] - 0s 4ms/step - loss: 0.0012\n",
      "Generation - 23\n",
      "7/7 [==============================] - 0s 4ms/step - loss: 0.0011\n",
      "7/7 [==============================] - 0s 4ms/step - loss: 9.0258e-04\n",
      "Generation - 24\n",
      "7/7 [==============================] - 0s 4ms/step - loss: 0.0013\n",
      "7/7 [==============================] - 0s 4ms/step - loss: 9.5218e-04\n",
      "Generation - 25\n",
      "7/7 [==============================] - 0s 4ms/step - loss: 9.3070e-04\n",
      "7/7 [==============================] - 0s 4ms/step - loss: 9.8582e-04\n",
      "Generation - 26\n",
      "7/7 [==============================] - 0s 4ms/step - loss: 0.0016\n",
      "7/7 [==============================] - 0s 4ms/step - loss: 0.0011\n",
      "Generation - 27\n",
      "7/7 [==============================] - 0s 4ms/step - loss: 0.0011\n",
      "7/7 [==============================] - 0s 4ms/step - loss: 9.6692e-04\n",
      "Generation - 28\n",
      "7/7 [==============================] - 0s 4ms/step - loss: 0.0018\n",
      "7/7 [==============================] - 0s 4ms/step - loss: 9.4196e-04\n",
      "Generation - 29\n",
      "7/7 [==============================] - 0s 4ms/step - loss: 9.8157e-04\n",
      "7/7 [==============================] - 0s 4ms/step - loss: 9.6364e-04\n",
      "Generation - 30\n",
      "7/7 [==============================] - 0s 4ms/step - loss: 9.5580e-04\n",
      "7/7 [==============================] - 0s 4ms/step - loss: 0.0019\n",
      "Generation - 31\n",
      "7/7 [==============================] - 0s 4ms/step - loss: 8.7077e-04\n",
      "7/7 [==============================] - 0s 5ms/step - loss: 8.6577e-04\n",
      "Generation - 32\n",
      "7/7 [==============================] - 0s 4ms/step - loss: 8.6909e-04\n",
      "7/7 [==============================] - 0s 4ms/step - loss: 8.9263e-04\n",
      "Generation - 33\n",
      "7/7 [==============================] - 0s 4ms/step - loss: 9.3137e-04\n",
      "7/7 [==============================] - 0s 4ms/step - loss: 9.5258e-04\n",
      "Generation - 34\n",
      "7/7 [==============================] - 0s 4ms/step - loss: 9.6174e-04\n",
      "7/7 [==============================] - 0s 4ms/step - loss: 0.0011\n",
      "Generation - 35\n",
      "7/7 [==============================] - 0s 4ms/step - loss: 0.0015\n",
      "7/7 [==============================] - 0s 4ms/step - loss: 9.4601e-04\n",
      "Generation - 36\n",
      "7/7 [==============================] - 0s 4ms/step - loss: 0.0011\n",
      "7/7 [==============================] - 0s 4ms/step - loss: 9.4689e-04\n",
      "Generation - 37\n",
      "7/7 [==============================] - 0s 4ms/step - loss: 9.4369e-04\n",
      "7/7 [==============================] - 0s 4ms/step - loss: 0.0014\n",
      "Generation - 38\n",
      "7/7 [==============================] - 0s 4ms/step - loss: 0.0010\n",
      "7/7 [==============================] - 0s 4ms/step - loss: 9.1296e-04\n",
      "Generation - 39\n",
      "7/7 [==============================] - 0s 4ms/step - loss: 0.0011\n",
      "7/7 [==============================] - 0s 4ms/step - loss: 0.0010\n",
      "Generation - 40\n",
      "7/7 [==============================] - 0s 4ms/step - loss: 9.0599e-04\n",
      "7/7 [==============================] - 0s 4ms/step - loss: 8.5454e-04\n",
      "Generation - 41\n",
      "7/7 [==============================] - 0s 4ms/step - loss: 0.0011\n",
      "7/7 [==============================] - 0s 4ms/step - loss: 0.0010\n",
      "Generation - 42\n",
      "7/7 [==============================] - 0s 4ms/step - loss: 0.0010\n",
      "7/7 [==============================] - 0s 4ms/step - loss: 0.0015\n",
      "Generation - 43\n",
      "7/7 [==============================] - 0s 4ms/step - loss: 9.1653e-04\n",
      "7/7 [==============================] - 0s 5ms/step - loss: 0.0011\n",
      "Generation - 44\n",
      "7/7 [==============================] - 0s 4ms/step - loss: 9.8789e-04\n",
      "7/7 [==============================] - 0s 4ms/step - loss: 8.5613e-04\n",
      "Generation - 45\n",
      "7/7 [==============================] - 0s 4ms/step - loss: 0.0013\n",
      "7/7 [==============================] - 0s 4ms/step - loss: 9.1894e-04\n",
      "Generation - 46\n",
      "7/7 [==============================] - 0s 4ms/step - loss: 9.6302e-04\n",
      "7/7 [==============================] - 0s 4ms/step - loss: 0.0011\n",
      "Generation - 47\n",
      "7/7 [==============================] - 0s 4ms/step - loss: 0.0013\n",
      "7/7 [==============================] - 0s 5ms/step - loss: 0.0013\n",
      "Generation - 48\n",
      "7/7 [==============================] - 0s 4ms/step - loss: 9.1522e-04\n",
      "7/7 [==============================] - 0s 4ms/step - loss: 9.2692e-04\n",
      "Generation - 49\n",
      "7/7 [==============================] - 0s 4ms/step - loss: 9.4668e-04\n",
      "7/7 [==============================] - 0s 4ms/step - loss: 0.0014\n",
      "Generation - 50\n",
      "7/7 [==============================] - 0s 4ms/step - loss: 0.0015\n",
      "7/7 [==============================] - 0s 4ms/step - loss: 8.4863e-04\n"
     ]
    }
   ],
   "source": [
    "# Do not increase this value\n",
    "generations = 50\n",
    "mutation_rate = 5\n",
    "\n",
    "time = timer(None)\n",
    "best_chromosome, best_fitness, max_fitness_each_gen = genetic_algorithm(generations, mutation_rate)\n",
    "time = timer(time)"
   ]
  },
  {
   "cell_type": "code",
   "execution_count": 12,
   "id": "000ffd59",
   "metadata": {
    "execution": {
     "iopub.execute_input": "2024-02-06T02:48:01.250015Z",
     "iopub.status.busy": "2024-02-06T02:48:01.249646Z",
     "iopub.status.idle": "2024-02-06T02:48:01.255613Z",
     "shell.execute_reply": "2024-02-06T02:48:01.254446Z"
    },
    "papermill": {
     "duration": 0.036118,
     "end_time": "2024-02-06T02:48:01.257613",
     "exception": false,
     "start_time": "2024-02-06T02:48:01.221495",
     "status": "completed"
    },
    "tags": []
   },
   "outputs": [
    {
     "name": "stdout",
     "output_type": "stream",
     "text": [
      "Best Chromosome: [148 197 222]\n",
      "Best Fitness: -0.0008486304432153702\n",
      "Time Taken: 0 hours 19 minutes and 35.26 seconds.\n"
     ]
    }
   ],
   "source": [
    "print(\"Best Chromosome:\", best_chromosome)\n",
    "print(\"Best Fitness:\", best_fitness)\n",
    "print(\"Time Taken:\", time)"
   ]
  },
  {
   "cell_type": "code",
   "execution_count": 13,
   "id": "912791e7",
   "metadata": {
    "execution": {
     "iopub.execute_input": "2024-02-06T02:48:01.312834Z",
     "iopub.status.busy": "2024-02-06T02:48:01.312548Z",
     "iopub.status.idle": "2024-02-06T02:48:01.319076Z",
     "shell.execute_reply": "2024-02-06T02:48:01.318214Z"
    },
    "papermill": {
     "duration": 0.036042,
     "end_time": "2024-02-06T02:48:01.320963",
     "exception": false,
     "start_time": "2024-02-06T02:48:01.284921",
     "status": "completed"
    },
    "tags": []
   },
   "outputs": [
    {
     "data": {
      "text/plain": [
       "[-0.0009224162204191089,\n",
       " -0.0009224162204191089,\n",
       " -0.0009224162204191089,\n",
       " -0.0009224162204191089,\n",
       " -0.0009127054363489151,\n",
       " -0.0009127054363489151,\n",
       " -0.0009127054363489151,\n",
       " -0.0009127054363489151,\n",
       " -0.0009127054363489151,\n",
       " -0.000898883503396064,\n",
       " -0.0008830330334603786,\n",
       " -0.0008830330334603786,\n",
       " -0.0008830330334603786,\n",
       " -0.0008830330334603786,\n",
       " -0.0008830330334603786,\n",
       " -0.0008830330334603786,\n",
       " -0.0008830330334603786,\n",
       " -0.0008830330334603786,\n",
       " -0.0008830330334603786,\n",
       " -0.0008765787933953106,\n",
       " -0.0008765787933953106,\n",
       " -0.0008765787933953106,\n",
       " -0.0008765787933953106,\n",
       " -0.0008765787933953106,\n",
       " -0.0008765787933953106,\n",
       " -0.0008765787933953106,\n",
       " -0.0008765787933953106,\n",
       " -0.0008765787933953106,\n",
       " -0.0008765787933953106,\n",
       " -0.0008765787933953106,\n",
       " -0.0008765787933953106,\n",
       " -0.000865770096424967,\n",
       " -0.000865770096424967,\n",
       " -0.000865770096424967,\n",
       " -0.000865770096424967,\n",
       " -0.000865770096424967,\n",
       " -0.000865770096424967,\n",
       " -0.000865770096424967,\n",
       " -0.000865770096424967,\n",
       " -0.000865770096424967,\n",
       " -0.0008545350283384323,\n",
       " -0.0008545350283384323,\n",
       " -0.0008545350283384323,\n",
       " -0.0008545350283384323,\n",
       " -0.0008545350283384323,\n",
       " -0.0008545350283384323,\n",
       " -0.0008545350283384323,\n",
       " -0.0008545350283384323,\n",
       " -0.0008545350283384323,\n",
       " -0.0008545350283384323]"
      ]
     },
     "execution_count": 13,
     "metadata": {},
     "output_type": "execute_result"
    }
   ],
   "source": [
    "max_fitness_each_gen"
   ]
  },
  {
   "cell_type": "markdown",
   "id": "06e192af",
   "metadata": {
    "papermill": {
     "duration": 0.026388,
     "end_time": "2024-02-06T02:48:01.373906",
     "exception": false,
     "start_time": "2024-02-06T02:48:01.347518",
     "status": "completed"
    },
    "tags": []
   },
   "source": [
    "## Re-Training Model with Best Parameter"
   ]
  },
  {
   "cell_type": "code",
   "execution_count": 14,
   "id": "9679c512",
   "metadata": {
    "execution": {
     "iopub.execute_input": "2024-02-06T02:48:01.428111Z",
     "iopub.status.busy": "2024-02-06T02:48:01.427811Z",
     "iopub.status.idle": "2024-02-06T02:48:02.227011Z",
     "shell.execute_reply": "2024-02-06T02:48:02.226045Z"
    },
    "papermill": {
     "duration": 0.831216,
     "end_time": "2024-02-06T02:48:02.231605",
     "exception": false,
     "start_time": "2024-02-06T02:48:01.400389",
     "status": "completed"
    },
    "tags": []
   },
   "outputs": [
    {
     "name": "stdout",
     "output_type": "stream",
     "text": [
      "Model: \"sequential_1\"\n",
      "_________________________________________________________________\n",
      " Layer (type)                Output Shape              Param #   \n",
      "=================================================================\n",
      " lstm_3 (LSTM)               (None, 10, 148)           88800     \n",
      "                                                                 \n",
      " lstm_4 (LSTM)               (None, 10, 197)           272648    \n",
      "                                                                 \n",
      " lstm_5 (LSTM)               (None, 222)               372960    \n",
      "                                                                 \n",
      " dense_1 (Dense)             (None, 1)                 223       \n",
      "                                                                 \n",
      "=================================================================\n",
      "Total params: 734,631\n",
      "Trainable params: 734,631\n",
      "Non-trainable params: 0\n",
      "_________________________________________________________________\n"
     ]
    }
   ],
   "source": [
    "model = Sequential()\n",
    "for i, units in enumerate(best_chromosome[:LSTM_Layer]):\n",
    "    model.add(LSTM(units, return_sequences=(i < LSTM_Layer - 1), input_shape=(WINDOW_SIZE, 1)))\n",
    "model.add(Dense(1))\n",
    "\n",
    "model.summary()"
   ]
  },
  {
   "cell_type": "code",
   "execution_count": 15,
   "id": "992cccc9",
   "metadata": {
    "execution": {
     "iopub.execute_input": "2024-02-06T02:48:02.289417Z",
     "iopub.status.busy": "2024-02-06T02:48:02.289115Z",
     "iopub.status.idle": "2024-02-06T02:48:30.148711Z",
     "shell.execute_reply": "2024-02-06T02:48:30.147959Z"
    },
    "papermill": {
     "duration": 27.890834,
     "end_time": "2024-02-06T02:48:30.150682",
     "exception": false,
     "start_time": "2024-02-06T02:48:02.259848",
     "status": "completed"
    },
    "tags": []
   },
   "outputs": [
    {
     "name": "stdout",
     "output_type": "stream",
     "text": [
      "Epoch 1/50\n",
      "50/50 [==============================] - 7s 29ms/step - loss: 0.0223 - mae: 0.0987 - root_mean_squared_error: 0.1492 - val_loss: 0.0033 - val_mae: 0.0463 - val_root_mean_squared_error: 0.0573\n",
      "Epoch 2/50\n",
      "50/50 [==============================] - 0s 8ms/step - loss: 0.0025 - mae: 0.0357 - root_mean_squared_error: 0.0503 - val_loss: 0.0029 - val_mae: 0.0425 - val_root_mean_squared_error: 0.0534\n",
      "Epoch 3/50\n",
      "50/50 [==============================] - 0s 8ms/step - loss: 0.0025 - mae: 0.0355 - root_mean_squared_error: 0.0503 - val_loss: 0.0027 - val_mae: 0.0412 - val_root_mean_squared_error: 0.0524\n",
      "Epoch 4/50\n",
      "50/50 [==============================] - 0s 8ms/step - loss: 0.0025 - mae: 0.0347 - root_mean_squared_error: 0.0496 - val_loss: 0.0027 - val_mae: 0.0405 - val_root_mean_squared_error: 0.0518\n",
      "Epoch 5/50\n",
      "50/50 [==============================] - 0s 8ms/step - loss: 0.0024 - mae: 0.0346 - root_mean_squared_error: 0.0490 - val_loss: 0.0026 - val_mae: 0.0402 - val_root_mean_squared_error: 0.0512\n",
      "Epoch 6/50\n",
      "50/50 [==============================] - 0s 8ms/step - loss: 0.0024 - mae: 0.0351 - root_mean_squared_error: 0.0493 - val_loss: 0.0025 - val_mae: 0.0392 - val_root_mean_squared_error: 0.0504\n",
      "Epoch 7/50\n",
      "50/50 [==============================] - 0s 9ms/step - loss: 0.0024 - mae: 0.0345 - root_mean_squared_error: 0.0485 - val_loss: 0.0026 - val_mae: 0.0407 - val_root_mean_squared_error: 0.0511\n",
      "Epoch 8/50\n",
      "50/50 [==============================] - 0s 8ms/step - loss: 0.0022 - mae: 0.0332 - root_mean_squared_error: 0.0474 - val_loss: 0.0024 - val_mae: 0.0388 - val_root_mean_squared_error: 0.0492\n",
      "Epoch 9/50\n",
      "50/50 [==============================] - 0s 9ms/step - loss: 0.0020 - mae: 0.0314 - root_mean_squared_error: 0.0450 - val_loss: 0.0023 - val_mae: 0.0374 - val_root_mean_squared_error: 0.0478\n",
      "Epoch 10/50\n",
      "50/50 [==============================] - 0s 8ms/step - loss: 0.0020 - mae: 0.0309 - root_mean_squared_error: 0.0450 - val_loss: 0.0022 - val_mae: 0.0361 - val_root_mean_squared_error: 0.0466\n",
      "Epoch 11/50\n",
      "50/50 [==============================] - 0s 8ms/step - loss: 0.0018 - mae: 0.0301 - root_mean_squared_error: 0.0429 - val_loss: 0.0021 - val_mae: 0.0353 - val_root_mean_squared_error: 0.0456\n",
      "Epoch 12/50\n",
      "50/50 [==============================] - 0s 8ms/step - loss: 0.0021 - mae: 0.0327 - root_mean_squared_error: 0.0457 - val_loss: 0.0032 - val_mae: 0.0470 - val_root_mean_squared_error: 0.0566\n",
      "Epoch 13/50\n",
      "50/50 [==============================] - 0s 8ms/step - loss: 0.0017 - mae: 0.0288 - root_mean_squared_error: 0.0413 - val_loss: 0.0022 - val_mae: 0.0372 - val_root_mean_squared_error: 0.0466\n",
      "Epoch 14/50\n",
      "50/50 [==============================] - 0s 8ms/step - loss: 0.0015 - mae: 0.0263 - root_mean_squared_error: 0.0390 - val_loss: 0.0019 - val_mae: 0.0329 - val_root_mean_squared_error: 0.0433\n",
      "Epoch 15/50\n",
      "50/50 [==============================] - 0s 8ms/step - loss: 0.0017 - mae: 0.0297 - root_mean_squared_error: 0.0415 - val_loss: 0.0019 - val_mae: 0.0335 - val_root_mean_squared_error: 0.0434\n",
      "Epoch 16/50\n",
      "50/50 [==============================] - 0s 8ms/step - loss: 0.0018 - mae: 0.0299 - root_mean_squared_error: 0.0423 - val_loss: 0.0018 - val_mae: 0.0330 - val_root_mean_squared_error: 0.0429\n",
      "Epoch 17/50\n",
      "50/50 [==============================] - 0s 8ms/step - loss: 0.0014 - mae: 0.0255 - root_mean_squared_error: 0.0373 - val_loss: 0.0018 - val_mae: 0.0320 - val_root_mean_squared_error: 0.0427\n",
      "Epoch 18/50\n",
      "50/50 [==============================] - 0s 8ms/step - loss: 0.0014 - mae: 0.0250 - root_mean_squared_error: 0.0371 - val_loss: 0.0018 - val_mae: 0.0317 - val_root_mean_squared_error: 0.0424\n",
      "Epoch 19/50\n",
      "50/50 [==============================] - 0s 9ms/step - loss: 0.0014 - mae: 0.0253 - root_mean_squared_error: 0.0370 - val_loss: 0.0017 - val_mae: 0.0312 - val_root_mean_squared_error: 0.0414\n",
      "Epoch 20/50\n",
      "50/50 [==============================] - 0s 9ms/step - loss: 0.0012 - mae: 0.0224 - root_mean_squared_error: 0.0347 - val_loss: 0.0018 - val_mae: 0.0333 - val_root_mean_squared_error: 0.0423\n",
      "Epoch 21/50\n",
      "50/50 [==============================] - 0s 8ms/step - loss: 0.0016 - mae: 0.0279 - root_mean_squared_error: 0.0399 - val_loss: 0.0017 - val_mae: 0.0314 - val_root_mean_squared_error: 0.0412\n",
      "Epoch 22/50\n",
      "50/50 [==============================] - 0s 8ms/step - loss: 0.0012 - mae: 0.0232 - root_mean_squared_error: 0.0351 - val_loss: 0.0016 - val_mae: 0.0293 - val_root_mean_squared_error: 0.0403\n",
      "Epoch 23/50\n",
      "50/50 [==============================] - 0s 8ms/step - loss: 0.0013 - mae: 0.0242 - root_mean_squared_error: 0.0362 - val_loss: 0.0017 - val_mae: 0.0317 - val_root_mean_squared_error: 0.0409\n",
      "Epoch 24/50\n",
      "50/50 [==============================] - 0s 9ms/step - loss: 0.0014 - mae: 0.0256 - root_mean_squared_error: 0.0369 - val_loss: 0.0016 - val_mae: 0.0287 - val_root_mean_squared_error: 0.0398\n",
      "Epoch 25/50\n",
      "50/50 [==============================] - 0s 8ms/step - loss: 0.0011 - mae: 0.0222 - root_mean_squared_error: 0.0339 - val_loss: 0.0017 - val_mae: 0.0294 - val_root_mean_squared_error: 0.0415\n",
      "Epoch 26/50\n",
      "50/50 [==============================] - 0s 8ms/step - loss: 0.0011 - mae: 0.0219 - root_mean_squared_error: 0.0339 - val_loss: 0.0015 - val_mae: 0.0289 - val_root_mean_squared_error: 0.0391\n",
      "Epoch 27/50\n",
      "50/50 [==============================] - 0s 8ms/step - loss: 0.0011 - mae: 0.0205 - root_mean_squared_error: 0.0329 - val_loss: 0.0015 - val_mae: 0.0294 - val_root_mean_squared_error: 0.0390\n",
      "Epoch 28/50\n",
      "50/50 [==============================] - 0s 8ms/step - loss: 0.0013 - mae: 0.0235 - root_mean_squared_error: 0.0357 - val_loss: 0.0015 - val_mae: 0.0281 - val_root_mean_squared_error: 0.0387\n",
      "Epoch 29/50\n",
      "50/50 [==============================] - 0s 8ms/step - loss: 0.0011 - mae: 0.0211 - root_mean_squared_error: 0.0332 - val_loss: 0.0015 - val_mae: 0.0290 - val_root_mean_squared_error: 0.0387\n",
      "Epoch 30/50\n",
      "50/50 [==============================] - 0s 9ms/step - loss: 0.0012 - mae: 0.0230 - root_mean_squared_error: 0.0349 - val_loss: 0.0015 - val_mae: 0.0276 - val_root_mean_squared_error: 0.0384\n",
      "Epoch 31/50\n",
      "50/50 [==============================] - 0s 8ms/step - loss: 0.0011 - mae: 0.0201 - root_mean_squared_error: 0.0326 - val_loss: 0.0015 - val_mae: 0.0273 - val_root_mean_squared_error: 0.0381\n",
      "Epoch 32/50\n",
      "50/50 [==============================] - 0s 8ms/step - loss: 0.0011 - mae: 0.0206 - root_mean_squared_error: 0.0329 - val_loss: 0.0014 - val_mae: 0.0278 - val_root_mean_squared_error: 0.0381\n",
      "Epoch 33/50\n",
      "50/50 [==============================] - 0s 8ms/step - loss: 0.0011 - mae: 0.0210 - root_mean_squared_error: 0.0334 - val_loss: 0.0018 - val_mae: 0.0330 - val_root_mean_squared_error: 0.0419\n",
      "Epoch 34/50\n",
      "50/50 [==============================] - 0s 8ms/step - loss: 0.0011 - mae: 0.0213 - root_mean_squared_error: 0.0338 - val_loss: 0.0014 - val_mae: 0.0273 - val_root_mean_squared_error: 0.0378\n",
      "Epoch 35/50\n",
      "50/50 [==============================] - 0s 8ms/step - loss: 0.0012 - mae: 0.0222 - root_mean_squared_error: 0.0346 - val_loss: 0.0015 - val_mae: 0.0269 - val_root_mean_squared_error: 0.0388\n",
      "Epoch 36/50\n",
      "50/50 [==============================] - 0s 8ms/step - loss: 0.0011 - mae: 0.0207 - root_mean_squared_error: 0.0335 - val_loss: 0.0016 - val_mae: 0.0314 - val_root_mean_squared_error: 0.0405\n",
      "Epoch 37/50\n",
      "50/50 [==============================] - 0s 8ms/step - loss: 0.0011 - mae: 0.0210 - root_mean_squared_error: 0.0332 - val_loss: 0.0015 - val_mae: 0.0266 - val_root_mean_squared_error: 0.0382\n",
      "Epoch 38/50\n",
      "50/50 [==============================] - 0s 8ms/step - loss: 0.0012 - mae: 0.0219 - root_mean_squared_error: 0.0340 - val_loss: 0.0014 - val_mae: 0.0268 - val_root_mean_squared_error: 0.0371\n",
      "Epoch 39/50\n",
      "50/50 [==============================] - 0s 8ms/step - loss: 0.0011 - mae: 0.0208 - root_mean_squared_error: 0.0331 - val_loss: 0.0014 - val_mae: 0.0262 - val_root_mean_squared_error: 0.0379\n",
      "Epoch 40/50\n",
      "50/50 [==============================] - 0s 9ms/step - loss: 0.0012 - mae: 0.0217 - root_mean_squared_error: 0.0344 - val_loss: 0.0014 - val_mae: 0.0267 - val_root_mean_squared_error: 0.0370\n",
      "Epoch 41/50\n",
      "50/50 [==============================] - 0s 8ms/step - loss: 0.0011 - mae: 0.0197 - root_mean_squared_error: 0.0327 - val_loss: 0.0014 - val_mae: 0.0261 - val_root_mean_squared_error: 0.0376\n",
      "Epoch 42/50\n",
      "50/50 [==============================] - 0s 8ms/step - loss: 0.0010 - mae: 0.0185 - root_mean_squared_error: 0.0318 - val_loss: 0.0014 - val_mae: 0.0262 - val_root_mean_squared_error: 0.0371\n",
      "Epoch 43/50\n",
      "50/50 [==============================] - 0s 8ms/step - loss: 0.0011 - mae: 0.0204 - root_mean_squared_error: 0.0332 - val_loss: 0.0014 - val_mae: 0.0259 - val_root_mean_squared_error: 0.0375\n",
      "Epoch 44/50\n",
      "50/50 [==============================] - 0s 8ms/step - loss: 0.0011 - mae: 0.0208 - root_mean_squared_error: 0.0334 - val_loss: 0.0013 - val_mae: 0.0258 - val_root_mean_squared_error: 0.0366\n",
      "Epoch 45/50\n",
      "50/50 [==============================] - 0s 8ms/step - loss: 0.0012 - mae: 0.0223 - root_mean_squared_error: 0.0351 - val_loss: 0.0014 - val_mae: 0.0268 - val_root_mean_squared_error: 0.0369\n",
      "Epoch 46/50\n",
      "50/50 [==============================] - 0s 8ms/step - loss: 0.0011 - mae: 0.0192 - root_mean_squared_error: 0.0324 - val_loss: 0.0013 - val_mae: 0.0263 - val_root_mean_squared_error: 0.0366\n",
      "Epoch 47/50\n",
      "50/50 [==============================] - 0s 8ms/step - loss: 0.0011 - mae: 0.0207 - root_mean_squared_error: 0.0330 - val_loss: 0.0015 - val_mae: 0.0264 - val_root_mean_squared_error: 0.0384\n",
      "Epoch 48/50\n",
      "50/50 [==============================] - 0s 8ms/step - loss: 0.0011 - mae: 0.0195 - root_mean_squared_error: 0.0326 - val_loss: 0.0014 - val_mae: 0.0259 - val_root_mean_squared_error: 0.0371\n",
      "Epoch 49/50\n",
      "50/50 [==============================] - 0s 8ms/step - loss: 0.0010 - mae: 0.0192 - root_mean_squared_error: 0.0324 - val_loss: 0.0013 - val_mae: 0.0257 - val_root_mean_squared_error: 0.0366\n",
      "Epoch 50/50\n",
      "50/50 [==============================] - 0s 8ms/step - loss: 0.0011 - mae: 0.0205 - root_mean_squared_error: 0.0332 - val_loss: 0.0013 - val_mae: 0.0257 - val_root_mean_squared_error: 0.0364\n"
     ]
    }
   ],
   "source": [
    "model.compile(loss='mean_squared_error',\n",
    "              metrics=['mae', RootMeanSquaredError()],\n",
    "              optimizer='adam')\n",
    "\n",
    "history = model.fit(X_train,\n",
    "                    y_train,\n",
    "                    epochs=50,\n",
    "                    batch_size=32,\n",
    "                    validation_split=0.1)"
   ]
  },
  {
   "cell_type": "code",
   "execution_count": 16,
   "id": "4dfdbe6f",
   "metadata": {
    "execution": {
     "iopub.execute_input": "2024-02-06T02:48:30.278267Z",
     "iopub.status.busy": "2024-02-06T02:48:30.277467Z",
     "iopub.status.idle": "2024-02-06T02:48:30.371887Z",
     "shell.execute_reply": "2024-02-06T02:48:30.370986Z"
    },
    "papermill": {
     "duration": 0.159909,
     "end_time": "2024-02-06T02:48:30.373881",
     "exception": false,
     "start_time": "2024-02-06T02:48:30.213972",
     "status": "completed"
    },
    "tags": []
   },
   "outputs": [
    {
     "name": "stdout",
     "output_type": "stream",
     "text": [
      "7/7 [==============================] - 0s 4ms/step - loss: 5.7490e-04 - mae: 0.0169 - root_mean_squared_error: 0.0240\n"
     ]
    },
    {
     "data": {
      "text/plain": [
       "[0.0005748985568061471, 0.016850514337420464, 0.023977041244506836]"
      ]
     },
     "execution_count": 16,
     "metadata": {},
     "output_type": "execute_result"
    }
   ],
   "source": [
    "model.evaluate(X_test, y_test)"
   ]
  },
  {
   "cell_type": "markdown",
   "id": "ca4da695",
   "metadata": {
    "papermill": {
     "duration": 0.062286,
     "end_time": "2024-02-06T02:48:30.498833",
     "exception": false,
     "start_time": "2024-02-06T02:48:30.436547",
     "status": "completed"
    },
    "tags": []
   },
   "source": [
    "## Model Evaluation"
   ]
  },
  {
   "cell_type": "code",
   "execution_count": 17,
   "id": "d07c2b53",
   "metadata": {
    "execution": {
     "iopub.execute_input": "2024-02-06T02:48:30.624977Z",
     "iopub.status.busy": "2024-02-06T02:48:30.624225Z",
     "iopub.status.idle": "2024-02-06T02:48:30.903060Z",
     "shell.execute_reply": "2024-02-06T02:48:30.902145Z"
    },
    "papermill": {
     "duration": 0.344094,
     "end_time": "2024-02-06T02:48:30.905110",
     "exception": false,
     "start_time": "2024-02-06T02:48:30.561016",
     "status": "completed"
    },
    "tags": []
   },
   "outputs": [
    {
     "data": {
      "image/png": "[encoded data removed]",
      "text/plain": [
       "<Figure size 640x480 with 1 Axes>"
      ]
     },
     "metadata": {},
     "output_type": "display_data"
    }
   ],
   "source": [
    "plt.plot(history.history['loss'])\n",
    "plt.plot(history.history['val_loss'])\n",
    "plt.title(f'{SHEET_NAME} Model Loss', fontsize=15)\n",
    "plt.ylabel('loss')\n",
    "plt.xlabel('epoch')\n",
    "plt.legend(['train', 'test'])\n",
    "plt.show()"
   ]
  },
  {
   "cell_type": "code",
   "execution_count": 18,
   "id": "c9b58401",
   "metadata": {
    "execution": {
     "iopub.execute_input": "2024-02-06T02:48:31.060691Z",
     "iopub.status.busy": "2024-02-06T02:48:31.059825Z",
     "iopub.status.idle": "2024-02-06T02:48:32.198364Z",
     "shell.execute_reply": "2024-02-06T02:48:32.197555Z"
    },
    "papermill": {
     "duration": 1.219819,
     "end_time": "2024-02-06T02:48:32.200411",
     "exception": false,
     "start_time": "2024-02-06T02:48:30.980592",
     "status": "completed"
    },
    "tags": []
   },
   "outputs": [
    {
     "name": "stdout",
     "output_type": "stream",
     "text": [
      "7/7 [==============================] - 1s 3ms/step\n"
     ]
    }
   ],
   "source": [
    "y_hat = model.predict(X_test)\n",
    "y_test_inverse = scaler.inverse_transform(y_test)\n",
    "y_hat_inverse = scaler.inverse_transform(y_hat)"
   ]
  },
  {
   "cell_type": "code",
   "execution_count": 19,
   "id": "61c7b597",
   "metadata": {
    "execution": {
     "iopub.execute_input": "2024-02-06T02:48:32.331742Z",
     "iopub.status.busy": "2024-02-06T02:48:32.330968Z",
     "iopub.status.idle": "2024-02-06T02:48:32.594708Z",
     "shell.execute_reply": "2024-02-06T02:48:32.593773Z"
    },
    "papermill": {
     "duration": 0.331808,
     "end_time": "2024-02-06T02:48:32.596744",
     "exception": false,
     "start_time": "2024-02-06T02:48:32.264936",
     "status": "completed"
    },
    "tags": []
   },
   "outputs": [
    {
     "data": {
      "image/png": "[encoded data removed]",
      "text/plain": [
       "<Figure size 640x480 with 1 Axes>"
      ]
     },
     "metadata": {},
     "output_type": "display_data"
    }
   ],
   "source": [
    "plt.plot(y_test_inverse, label=\"Actual Price\", color='green')\n",
    "plt.plot(y_hat_inverse, label=\"Predicted Price\", color='red')\n",
    " \n",
    "plt.title(f'{SHEET_NAME} Price Prediction\\nLSTM = {LSTM_Layer}, Split Data = {SPLIT}, Window = {WINDOW_SIZE}', fontsize=15)\n",
    "plt.xlabel('Time [days]')\n",
    "plt.ylabel('Price')\n",
    "plt.legend(loc='best')\n",
    " \n",
    "plt.show()"
   ]
  },
  {
   "cell_type": "code",
   "execution_count": 20,
   "id": "33f7a021",
   "metadata": {
    "execution": {
     "iopub.execute_input": "2024-02-06T02:48:32.727273Z",
     "iopub.status.busy": "2024-02-06T02:48:32.726618Z",
     "iopub.status.idle": "2024-02-06T02:48:32.736267Z",
     "shell.execute_reply": "2024-02-06T02:48:32.735045Z"
    },
    "papermill": {
     "duration": 0.076682,
     "end_time": "2024-02-06T02:48:32.738090",
     "exception": false,
     "start_time": "2024-02-06T02:48:32.661408",
     "status": "completed"
    },
    "tags": []
   },
   "outputs": [
    {
     "name": "stdout",
     "output_type": "stream",
     "text": [
      "LSTM = 3, Split Data = 0.9, Window = 10\n",
      "\n",
      "----------------- Normalized Error -----------------\n",
      "Mean Absolute Error for prediction : 0.016850515837317892\n",
      "Mean Squared Error for prediction : 0.0005748985296759981\n",
      "Root Mean Squared Error for prediction : 0.02397704172069603\n",
      "\n",
      "----------------- Actual Error -----------------\n",
      "Mean Absolute Error for prediction : 63.76234295685295\n",
      "Mean Squared Error for prediction : 8231.77266483017\n",
      "Root Mean Squared Error for prediction : 90.7291169626938\n"
     ]
    }
   ],
   "source": [
    "def matrices(actual, predicted):\n",
    "    mse = mean_squared_error(actual, predicted)\n",
    "    mae = mean_absolute_error(actual, predicted)\n",
    "    rmse = np.sqrt(mse)\n",
    "    print(\"Mean Absolute Error for prediction :\", mae)\n",
    "    print(\"Mean Squared Error for prediction :\", mse)\n",
    "    print(\"Root Mean Squared Error for prediction :\", rmse)\n",
    "    return mae, mse, rmse\n",
    "\n",
    "print(f\"LSTM = {LSTM_Layer}, Split Data = {SPLIT}, Window = {WINDOW_SIZE}\")\n",
    "print(\"\\n----------------- Normalized Error -----------------\")\n",
    "mae, mse, rmse = matrices(y_test, y_hat)\n",
    "print(\"\\n----------------- Actual Error -----------------\")\n",
    "mae_inverse, mse_inverse, rmse_inverse = matrices(y_test_inverse, y_hat_inverse)"
   ]
  }
 ],
 "metadata": {
  "kaggle": {
   "accelerator": "gpu",
   "dataSources": [],
   "dockerImageVersionId": 30498,
   "isGpuEnabled": true,
   "isInternetEnabled": true,
   "language": "python",
   "sourceType": "notebook"
  },
  "kernelspec": {
   "display_name": "Python 3",
   "language": "python",
   "name": "python3"
  },
  "language_info": {
   "codemirror_mode": {
    "name": "ipython",
    "version": 3
   },
   "file_extension": ".py",
   "mimetype": "text/x-python",
   "name": "python",
   "nbconvert_exporter": "python",
   "pygments_lexer": "ipython3",
   "version": "3.10.10"
  },
  "papermill": {
   "default_parameters": {},
   "duration": 1231.245929,
   "end_time": "2024-02-06T02:48:35.940256",
   "environment_variables": {},
   "exception": null,
   "input_path": "__notebook__.ipynb",
   "output_path": "__notebook__.ipynb",
   "parameters": {},
   "start_time": "2024-02-06T02:28:04.694327",
   "version": "2.4.0"
  }
 },
 "nbformat": 4,
 "nbformat_minor": 5
}
