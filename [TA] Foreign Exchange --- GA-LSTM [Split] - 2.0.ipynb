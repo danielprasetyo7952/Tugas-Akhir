{
 "cells": [
  {
   "cell_type": "code",
   "execution_count": 1,
   "id": "11c7666f",
   "metadata": {
    "execution": {
     "iopub.execute_input": "2024-02-06T02:44:30.268030Z",
     "iopub.status.busy": "2024-02-06T02:44:30.267643Z",
     "iopub.status.idle": "2024-02-06T02:44:39.112005Z",
     "shell.execute_reply": "2024-02-06T02:44:39.111230Z"
    },
    "papermill": {
     "duration": 8.855426,
     "end_time": "2024-02-06T02:44:39.114284",
     "exception": false,
     "start_time": "2024-02-06T02:44:30.258858",
     "status": "completed"
    },
    "tags": []
   },
   "outputs": [
    {
     "name": "stderr",
     "output_type": "stream",
     "text": [
      "/opt/conda/lib/python3.10/site-packages/tensorflow_io/python/ops/__init__.py:98: UserWarning: unable to load libtensorflow_io_plugins.so: unable to open file: libtensorflow_io_plugins.so, from paths: ['/opt/conda/lib/python3.10/site-packages/tensorflow_io/python/ops/libtensorflow_io_plugins.so']\n",
      "caused by: ['/opt/conda/lib/python3.10/site-packages/tensorflow_io/python/ops/libtensorflow_io_plugins.so: undefined symbol: _ZN3tsl6StatusC1EN10tensorflow5error4CodeESt17basic_string_viewIcSt11char_traitsIcEENS_14SourceLocationE']\n",
      "  warnings.warn(f\"unable to load libtensorflow_io_plugins.so: {e}\")\n",
      "/opt/conda/lib/python3.10/site-packages/tensorflow_io/python/ops/__init__.py:104: UserWarning: file system plugins are not loaded: unable to open file: libtensorflow_io.so, from paths: ['/opt/conda/lib/python3.10/site-packages/tensorflow_io/python/ops/libtensorflow_io.so']\n",
      "caused by: ['/opt/conda/lib/python3.10/site-packages/tensorflow_io/python/ops/libtensorflow_io.so: undefined symbol: _ZTVN10tensorflow13GcsFileSystemE']\n",
      "  warnings.warn(f\"file system plugins are not loaded: {e}\")\n"
     ]
    }
   ],
   "source": [
    "import pandas as pd\n",
    "import numpy as np\n",
    "import tensorflow as tf\n",
    "import matplotlib.pyplot as plt\n",
    "import datetime, pytz\n",
    "\n",
    "from keras.models import Sequential\n",
    "from keras.layers import LSTM, Dense\n",
    "from keras.metrics import RootMeanSquaredError\n",
    "\n",
    "from sklearn.preprocessing import MinMaxScaler\n",
    "from sklearn.metrics import mean_squared_error, mean_absolute_error"
   ]
  },
  {
   "cell_type": "markdown",
   "id": "509292e3",
   "metadata": {
    "papermill": {
     "duration": 0.006314,
     "end_time": "2024-02-06T02:44:39.127454",
     "exception": false,
     "start_time": "2024-02-06T02:44:39.121140",
     "status": "completed"
    },
    "tags": []
   },
   "source": [
    "## Hyperparameter"
   ]
  },
  {
   "cell_type": "code",
   "execution_count": 2,
   "id": "39645a72",
   "metadata": {
    "execution": {
     "iopub.execute_input": "2024-02-06T02:44:39.141714Z",
     "iopub.status.busy": "2024-02-06T02:44:39.141141Z",
     "iopub.status.idle": "2024-02-06T02:44:39.146059Z",
     "shell.execute_reply": "2024-02-06T02:44:39.145217Z"
    },
    "papermill": {
     "duration": 0.014227,
     "end_time": "2024-02-06T02:44:39.148034",
     "exception": false,
     "start_time": "2024-02-06T02:44:39.133807",
     "status": "completed"
    },
    "tags": []
   },
   "outputs": [],
   "source": [
    "# Google Spreadsheet ID\n",
    "SHEET_ID = '1JDNv_mArl-GPIpxuWS5GxgVEwvjXocS1MrXGc6TYs8M'\n",
    "SHEET_NAME = 'EUR/IDR' # USD/IDR, EUR/IDR, SGD/IDR\n",
    "\n",
    "SEQ_LEN = 21 # 6, 11, 21\n",
    "SPLIT = 0.90 # 0.80, 0.90\n",
    "LSTM_Layer = 3 # 1, 2, 3\n",
    "WINDOW_SIZE = SEQ_LEN - 1"
   ]
  },
  {
   "cell_type": "code",
   "execution_count": 3,
   "id": "6b8c3d43",
   "metadata": {
    "execution": {
     "iopub.execute_input": "2024-02-06T02:44:39.162076Z",
     "iopub.status.busy": "2024-02-06T02:44:39.161792Z",
     "iopub.status.idle": "2024-02-06T02:44:40.543529Z",
     "shell.execute_reply": "2024-02-06T02:44:40.542449Z"
    },
    "papermill": {
     "duration": 1.39121,
     "end_time": "2024-02-06T02:44:40.545719",
     "exception": false,
     "start_time": "2024-02-06T02:44:39.154509",
     "status": "completed"
    },
    "tags": []
   },
   "outputs": [
    {
     "name": "stdout",
     "output_type": "stream",
     "text": [
      "<class 'pandas.core.frame.DataFrame'>\n",
      "RangeIndex: 1977 entries, 0 to 1976\n",
      "Data columns (total 2 columns):\n",
      " #   Column  Non-Null Count  Dtype         \n",
      "---  ------  --------------  -----         \n",
      " 0   Date    1977 non-null   datetime64[ns]\n",
      " 1   Close   1977 non-null   float64       \n",
      "dtypes: datetime64[ns](1), float64(1)\n",
      "memory usage: 31.0 KB\n"
     ]
    }
   ],
   "source": [
    "url = f'https://docs.google.com/spreadsheets/d/{SHEET_ID}/gviz/tq?tqx=out:csv&sheet={SHEET_NAME}'\n",
    "data = pd.read_csv(url)\n",
    "\n",
    "# Convert Date columns to datetime format\n",
    "data['Date'] = pd.to_datetime(data['Date'], format='%d/%m/%Y %H:%M:%S')\n",
    "data.info()"
   ]
  },
  {
   "cell_type": "markdown",
   "id": "1ca6fa03",
   "metadata": {
    "papermill": {
     "duration": 0.006422,
     "end_time": "2024-02-06T02:44:40.558966",
     "exception": false,
     "start_time": "2024-02-06T02:44:40.552544",
     "status": "completed"
    },
    "tags": []
   },
   "source": [
    "## Preprocessing"
   ]
  },
  {
   "cell_type": "code",
   "execution_count": 4,
   "id": "56cf1228",
   "metadata": {
    "execution": {
     "iopub.execute_input": "2024-02-06T02:44:40.573280Z",
     "iopub.status.busy": "2024-02-06T02:44:40.572975Z",
     "iopub.status.idle": "2024-02-06T02:44:40.584567Z",
     "shell.execute_reply": "2024-02-06T02:44:40.583541Z"
    },
    "papermill": {
     "duration": 0.020907,
     "end_time": "2024-02-06T02:44:40.586466",
     "exception": false,
     "start_time": "2024-02-06T02:44:40.565559",
     "status": "completed"
    },
    "tags": []
   },
   "outputs": [
    {
     "name": "stderr",
     "output_type": "stream",
     "text": [
      "/tmp/ipykernel_26/2274720815.py:7: SettingWithCopyWarning: \n",
      "A value is trying to be set on a copy of a slice from a DataFrame\n",
      "\n",
      "See the caveats in the documentation: https://pandas.pydata.org/pandas-docs/stable/user_guide/indexing.html#returning-a-view-versus-a-copy\n",
      "  data[data < lower_bound] = lower_bound\n",
      "/tmp/ipykernel_26/2274720815.py:8: SettingWithCopyWarning: \n",
      "A value is trying to be set on a copy of a slice from a DataFrame\n",
      "\n",
      "See the caveats in the documentation: https://pandas.pydata.org/pandas-docs/stable/user_guide/indexing.html#returning-a-view-versus-a-copy\n",
      "  data[data > upper_bound] = upper_bound\n"
     ]
    }
   ],
   "source": [
    "def replace_outliers(data):\n",
    "    Q1 = np.percentile(data, 25)\n",
    "    Q3 = np.percentile(data, 75)\n",
    "    IQR = Q3 - Q1\n",
    "    lower_bound = Q1 - 1.5 * IQR\n",
    "    upper_bound = Q3 + 1.5 * IQR\n",
    "    data[data < lower_bound] = lower_bound\n",
    "    data[data > upper_bound] = upper_bound\n",
    "    return data\n",
    "\n",
    "data['Close'] = replace_outliers(data['Close'])"
   ]
  },
  {
   "cell_type": "code",
   "execution_count": 5,
   "id": "a819c485",
   "metadata": {
    "execution": {
     "iopub.execute_input": "2024-02-06T02:44:40.600875Z",
     "iopub.status.busy": "2024-02-06T02:44:40.600576Z",
     "iopub.status.idle": "2024-02-06T02:44:40.864624Z",
     "shell.execute_reply": "2024-02-06T02:44:40.863766Z"
    },
    "papermill": {
     "duration": 0.273463,
     "end_time": "2024-02-06T02:44:40.866607",
     "exception": false,
     "start_time": "2024-02-06T02:44:40.593144",
     "status": "completed"
    },
    "tags": []
   },
   "outputs": [
    {
     "data": {
      "image/png": "[encoded data removed]",
      "text/plain": [
       "<Figure size 640x480 with 1 Axes>"
      ]
     },
     "metadata": {},
     "output_type": "display_data"
    }
   ],
   "source": [
    "# Boxplot for outlier detection\n",
    "plt.boxplot(data['Close'])\n",
    "plt.title(f\"{SHEET_NAME} Boxplot for Outlier Detection\")\n",
    "plt.xlabel(\"Close\")\n",
    "plt.ylabel(\"Values\")\n",
    "plt.show()"
   ]
  },
  {
   "cell_type": "code",
   "execution_count": 6,
   "id": "4409bd01",
   "metadata": {
    "execution": {
     "iopub.execute_input": "2024-02-06T02:44:40.882267Z",
     "iopub.status.busy": "2024-02-06T02:44:40.881977Z",
     "iopub.status.idle": "2024-02-06T02:44:40.889285Z",
     "shell.execute_reply": "2024-02-06T02:44:40.888431Z"
    },
    "papermill": {
     "duration": 0.017261,
     "end_time": "2024-02-06T02:44:40.891150",
     "exception": false,
     "start_time": "2024-02-06T02:44:40.873889",
     "status": "completed"
    },
    "tags": []
   },
   "outputs": [
    {
     "data": {
      "text/plain": [
       "(1977, 1)"
      ]
     },
     "execution_count": 6,
     "metadata": {},
     "output_type": "execute_result"
    }
   ],
   "source": [
    "scaler = MinMaxScaler()\n",
    "close_price = data.Close.values.reshape(-1, 1)\n",
    "scaled_close = scaler.fit_transform(close_price)\n",
    "scaled_close.shape"
   ]
  },
  {
   "cell_type": "code",
   "execution_count": 7,
   "id": "b9e1edaa",
   "metadata": {
    "execution": {
     "iopub.execute_input": "2024-02-06T02:44:40.906947Z",
     "iopub.status.busy": "2024-02-06T02:44:40.906266Z",
     "iopub.status.idle": "2024-02-06T02:44:40.915216Z",
     "shell.execute_reply": "2024-02-06T02:44:40.914588Z"
    },
    "papermill": {
     "duration": 0.018666,
     "end_time": "2024-02-06T02:44:40.917004",
     "exception": false,
     "start_time": "2024-02-06T02:44:40.898338",
     "status": "completed"
    },
    "tags": []
   },
   "outputs": [],
   "source": [
    "def to_sequences(data, seq_len):\n",
    "    d = []\n",
    "    for index in range(len(data) - seq_len):\n",
    "        d.append(data[index: index + seq_len])\n",
    "    return np.array(d)\n",
    "\n",
    "def preprocess(data_raw, seq_len, train_split):\n",
    "    data = to_sequences(data_raw, seq_len)\n",
    "    num_train = int(train_split * data.shape[0])\n",
    "    X_train = data[:num_train, :-1, :]\n",
    "    y_train = data[:num_train, -1, :]\n",
    "    X_test = data[num_train:, :-1, :]\n",
    "    y_test = data[num_train:, -1, :]\n",
    "    return X_train, y_train, X_test, y_test\n",
    "\n",
    "X_train, y_train, X_test, y_test = preprocess(scaled_close, SEQ_LEN, train_split = SPLIT)"
   ]
  },
  {
   "cell_type": "markdown",
   "id": "c1684c9e",
   "metadata": {
    "papermill": {
     "duration": 0.007001,
     "end_time": "2024-02-06T02:44:40.931203",
     "exception": false,
     "start_time": "2024-02-06T02:44:40.924202",
     "status": "completed"
    },
    "tags": []
   },
   "source": [
    "## Genetic Algorithm"
   ]
  },
  {
   "cell_type": "code",
   "execution_count": 8,
   "id": "a381d19d",
   "metadata": {
    "execution": {
     "iopub.execute_input": "2024-02-06T02:44:40.946872Z",
     "iopub.status.busy": "2024-02-06T02:44:40.946601Z",
     "iopub.status.idle": "2024-02-06T02:44:40.952016Z",
     "shell.execute_reply": "2024-02-06T02:44:40.951156Z"
    },
    "papermill": {
     "duration": 0.01539,
     "end_time": "2024-02-06T02:44:40.954002",
     "exception": false,
     "start_time": "2024-02-06T02:44:40.938612",
     "status": "completed"
    },
    "tags": []
   },
   "outputs": [],
   "source": [
    "def decimal_to_binary(chromosome: list):\n",
    "    binary_string = ''.join([bin(x)[2:].zfill(8) for x in chromosome])\n",
    "    return binary_string\n",
    "\n",
    "def binary_to_decimal(binary_string: str):\n",
    "    decimal_array = [int(binary, 2) for binary in [binary_string[i:i+8] for i in range(0, len(binary_string), 8)]]\n",
    "    return decimal_array"
   ]
  },
  {
   "cell_type": "code",
   "execution_count": 9,
   "id": "af78c71e",
   "metadata": {
    "execution": {
     "iopub.execute_input": "2024-02-06T02:44:40.969890Z",
     "iopub.status.busy": "2024-02-06T02:44:40.969612Z",
     "iopub.status.idle": "2024-02-06T02:44:40.988437Z",
     "shell.execute_reply": "2024-02-06T02:44:40.987619Z"
    },
    "papermill": {
     "duration": 0.028878,
     "end_time": "2024-02-06T02:44:40.990227",
     "exception": false,
     "start_time": "2024-02-06T02:44:40.961349",
     "status": "completed"
    },
    "tags": []
   },
   "outputs": [],
   "source": [
    "# Genetic Algorithm\n",
    "def genetic_algorithm(generations, mutation_rate):\n",
    "    print(f\"Inizialized Population...\")\n",
    "    population = np.random.randint(1, high=251, size=(10, 3))\n",
    "    fitness_scores = np.array([fitness_function(chromosome) for chromosome in population])\n",
    "    max_fitness_each_gen = []\n",
    "    \n",
    "    for generation in range(generations):\n",
    "        print(f\"Generation - {generation + 1}\")\n",
    "        max_fitness_each_gen.append(np.max(fitness_scores))\n",
    "        \n",
    "        chromosome_1 = selection(population, fitness_scores)\n",
    "        chromosome_2 = selection(population, fitness_scores)\n",
    "        \n",
    "        if generation % mutation_rate == 0:\n",
    "            chromosome_1 = mutate(chromosome_1)\n",
    "            chromosome_2 = mutate(chromosome_2)\n",
    "        else:\n",
    "            chromosome_1, chromosome_2 = crossover(chromosome_1, chromosome_2)\n",
    "\n",
    "        fitness_score_1 = fitness_function(chromosome_1)\n",
    "        fitness_score_2 = fitness_function(chromosome_2)\n",
    "        \n",
    "        worst_index = np.argmin(fitness_scores)\n",
    "        worst_fitness = fitness_scores[worst_index]\n",
    "\n",
    "        if fitness_score_1 > worst_fitness:\n",
    "            population[worst_index] = chromosome_1\n",
    "            fitness_scores[worst_index] = fitness_score_1\n",
    "            worst_index = np.argmin(fitness_scores)\n",
    "            worst_fitness = fitness_scores[worst_index]\n",
    "\n",
    "        if fitness_score_2 > worst_fitness:\n",
    "            population[worst_index] = chromosome_2\n",
    "            fitness_scores[worst_index] = fitness_score_2\n",
    "        \n",
    "        # Release some memory\n",
    "        del chromosome_1, chromosome_2\n",
    "        del fitness_score_1, fitness_score_2\n",
    "        del worst_index, worst_fitness\n",
    "            \n",
    "    best_chromosome = population[np.argmax(fitness_scores)]\n",
    "    best_fitness = np.max(fitness_scores)\n",
    "    \n",
    "    return best_chromosome, best_fitness, max_fitness_each_gen\n",
    "\n",
    "# Selection (Tournament selection)\n",
    "def selection(population, fitness_scores, tournament_size=3):\n",
    "    indices = np.random.randint(len(population), size=tournament_size)\n",
    "    tournament = population[indices]\n",
    "    tournament_fitness = fitness_scores[indices]\n",
    "    return tournament[np.argmax(tournament_fitness)]\n",
    "\n",
    "# Crossover (Single-point crossover)\n",
    "def crossover(parent_1: list, parent_2: list):\n",
    "    parent_1 = decimal_to_binary(parent_1)\n",
    "    parent_2 = decimal_to_binary(parent_2)\n",
    "    \n",
    "    crossover_point = np.random.randint(1, len(parent_1))\n",
    "    offspring_1 = parent_1[:crossover_point] + parent_2[crossover_point:]\n",
    "    offspring_2 = parent_2[:crossover_point] + parent_1[crossover_point:]\n",
    "    \n",
    "    offspring_1 = binary_to_decimal(offspring_1)\n",
    "    offspring_2 = binary_to_decimal(offspring_2)\n",
    "    return offspring_1, offspring_2\n",
    "\n",
    "# Mutation (Swap Mutation)\n",
    "def mutate(chromosome: list):\n",
    "    chromosome = decimal_to_binary(chromosome)\n",
    "    \n",
    "    chromosome_list = list(chromosome)\n",
    "    i = np.random.randint(len(chromosome_list), size=2)\n",
    "    chromosome_list[i[0]], chromosome_list[i[1]] = chromosome_list[i[1]], chromosome_list[i[0]]\n",
    "    \n",
    "    chromosome_list = ''.join(chromosome_list)\n",
    "    chromosome = binary_to_decimal(chromosome_list)\n",
    "    return chromosome\n",
    "\n",
    "# Fitness Function\n",
    "def fitness_function(chromosome: list):\n",
    "    lstm_units = [int(chromosome[i]) or default for i, default in enumerate([128, 64, 32])]\n",
    "\n",
    "    # Build the LSTM model\n",
    "    tf.keras.backend.clear_session()\n",
    "    model = Sequential()\n",
    "    for i, units in enumerate(lstm_units[:LSTM_Layer]):\n",
    "        model.add(LSTM(units, return_sequences=(i < LSTM_Layer - 1), input_shape=(WINDOW_SIZE, 1)))\n",
    "    model.add(Dense(1))\n",
    "    \n",
    "    # Compile and train the model\n",
    "    model.compile(loss='mean_squared_error',\n",
    "                  optimizer='adam')\n",
    "    model.fit(X_train, y_train,\n",
    "              epochs=10,\n",
    "              batch_size=32,\n",
    "              verbose=0,\n",
    "              validation_split=0.1)\n",
    "\n",
    "    # Evaluate the model\n",
    "    loss = model.evaluate(X_test, y_test)\n",
    "\n",
    "    # Return the negative value of the loss as the fitness score\n",
    "    return -loss"
   ]
  },
  {
   "cell_type": "code",
   "execution_count": 10,
   "id": "13b88d64",
   "metadata": {
    "execution": {
     "iopub.execute_input": "2024-02-06T02:44:41.005682Z",
     "iopub.status.busy": "2024-02-06T02:44:41.005418Z",
     "iopub.status.idle": "2024-02-06T02:44:41.010716Z",
     "shell.execute_reply": "2024-02-06T02:44:41.009952Z"
    },
    "papermill": {
     "duration": 0.014864,
     "end_time": "2024-02-06T02:44:41.012486",
     "exception": false,
     "start_time": "2024-02-06T02:44:40.997622",
     "status": "completed"
    },
    "tags": []
   },
   "outputs": [],
   "source": [
    "import typing\n",
    "from datetime import datetime\n",
    "\n",
    "def timer(start_time: datetime = None) -> \"typing.Union[datetime.datetime, str]\":\n",
    "    if not start_time:\n",
    "        start_time = datetime.now()\n",
    "        return start_time\n",
    "    elif start_time:\n",
    "        thour, temp_sec = divmod((datetime.now() - start_time).total_seconds(), 3600)\n",
    "        tmin, tsec = divmod(temp_sec, 60)\n",
    "        return \"%i hours %i minutes and %s seconds.\" % (\n",
    "            thour,\n",
    "            tmin,\n",
    "            round(tsec, 2),\n",
    "        )"
   ]
  },
  {
   "cell_type": "code",
   "execution_count": 11,
   "id": "3ceaea00",
   "metadata": {
    "execution": {
     "iopub.execute_input": "2024-02-06T02:44:41.027687Z",
     "iopub.status.busy": "2024-02-06T02:44:41.027431Z",
     "iopub.status.idle": "2024-02-06T03:05:12.770793Z",
     "shell.execute_reply": "2024-02-06T03:05:12.769931Z"
    },
    "papermill": {
     "duration": 1231.753513,
     "end_time": "2024-02-06T03:05:12.773033",
     "exception": false,
     "start_time": "2024-02-06T02:44:41.019520",
     "status": "completed"
    },
    "tags": []
   },
   "outputs": [
    {
     "name": "stdout",
     "output_type": "stream",
     "text": [
      "Inizialized Population...\n",
      "7/7 [==============================] - 0s 4ms/step - loss: 0.0011\n",
      "7/7 [==============================] - 0s 5ms/step - loss: 9.5626e-04\n",
      "7/7 [==============================] - 0s 4ms/step - loss: 9.4213e-04\n",
      "7/7 [==============================] - 0s 4ms/step - loss: 0.0011\n",
      "7/7 [==============================] - 0s 4ms/step - loss: 8.5302e-04\n",
      "7/7 [==============================] - 0s 4ms/step - loss: 9.8426e-04\n",
      "7/7 [==============================] - 0s 4ms/step - loss: 8.5265e-04\n",
      "7/7 [==============================] - 0s 4ms/step - loss: 8.8502e-04\n",
      "7/7 [==============================] - 0s 4ms/step - loss: 0.0013\n",
      "7/7 [==============================] - 0s 4ms/step - loss: 8.5178e-04\n",
      "Generation - 1\n",
      "7/7 [==============================] - 0s 4ms/step - loss: 8.7815e-04\n",
      "7/7 [==============================] - 0s 5ms/step - loss: 8.9355e-04\n",
      "Generation - 2\n",
      "7/7 [==============================] - 0s 4ms/step - loss: 8.3969e-04\n",
      "7/7 [==============================] - 0s 4ms/step - loss: 0.0011\n",
      "Generation - 3\n",
      "7/7 [==============================] - 0s 4ms/step - loss: 8.4583e-04\n",
      "7/7 [==============================] - 0s 4ms/step - loss: 9.3088e-04\n",
      "Generation - 4\n",
      "7/7 [==============================] - 0s 4ms/step - loss: 8.6977e-04\n",
      "7/7 [==============================] - 0s 4ms/step - loss: 9.3107e-04\n",
      "Generation - 5\n",
      "7/7 [==============================] - 0s 4ms/step - loss: 8.8883e-04\n",
      "7/7 [==============================] - 0s 4ms/step - loss: 9.3931e-04\n",
      "Generation - 6\n",
      "7/7 [==============================] - 0s 4ms/step - loss: 8.7383e-04\n",
      "7/7 [==============================] - 0s 4ms/step - loss: 8.6931e-04\n",
      "Generation - 7\n",
      "7/7 [==============================] - 0s 4ms/step - loss: 8.3991e-04\n",
      "7/7 [==============================] - 0s 4ms/step - loss: 9.1770e-04\n",
      "Generation - 8\n",
      "7/7 [==============================] - 0s 4ms/step - loss: 8.4842e-04\n",
      "7/7 [==============================] - 0s 4ms/step - loss: 8.4302e-04\n",
      "Generation - 9\n",
      "7/7 [==============================] - 0s 4ms/step - loss: 9.0748e-04\n",
      "7/7 [==============================] - 0s 4ms/step - loss: 0.0011\n",
      "Generation - 10\n",
      "7/7 [==============================] - 0s 4ms/step - loss: 8.5594e-04\n",
      "7/7 [==============================] - 0s 5ms/step - loss: 0.0010\n",
      "Generation - 11\n",
      "7/7 [==============================] - 0s 4ms/step - loss: 9.0026e-04\n",
      "7/7 [==============================] - 0s 4ms/step - loss: 8.5464e-04\n",
      "Generation - 12\n",
      "7/7 [==============================] - 0s 4ms/step - loss: 8.4770e-04\n",
      "7/7 [==============================] - 0s 4ms/step - loss: 0.0012\n",
      "Generation - 13\n",
      "7/7 [==============================] - 0s 5ms/step - loss: 8.6300e-04\n",
      "7/7 [==============================] - 0s 6ms/step - loss: 8.9469e-04\n",
      "Generation - 14\n",
      "7/7 [==============================] - 0s 4ms/step - loss: 8.7640e-04\n",
      "7/7 [==============================] - 0s 4ms/step - loss: 9.3418e-04\n",
      "Generation - 15\n",
      "7/7 [==============================] - 0s 5ms/step - loss: 9.4584e-04\n",
      "7/7 [==============================] - 0s 4ms/step - loss: 9.1130e-04\n",
      "Generation - 16\n",
      "7/7 [==============================] - 0s 4ms/step - loss: 8.7035e-04\n",
      "7/7 [==============================] - 0s 4ms/step - loss: 9.2747e-04\n",
      "Generation - 17\n",
      "7/7 [==============================] - 0s 4ms/step - loss: 0.0010\n",
      "7/7 [==============================] - 0s 4ms/step - loss: 8.9532e-04\n",
      "Generation - 18\n",
      "7/7 [==============================] - 0s 4ms/step - loss: 8.8120e-04\n",
      "7/7 [==============================] - 0s 4ms/step - loss: 8.6539e-04\n",
      "Generation - 19\n",
      "7/7 [==============================] - 0s 4ms/step - loss: 8.5003e-04\n",
      "7/7 [==============================] - 0s 5ms/step - loss: 0.0015\n",
      "Generation - 20\n",
      "7/7 [==============================] - 0s 4ms/step - loss: 8.6207e-04\n",
      "7/7 [==============================] - 0s 4ms/step - loss: 0.0011\n",
      "Generation - 21\n",
      "7/7 [==============================] - 0s 4ms/step - loss: 8.7507e-04\n",
      "7/7 [==============================] - 0s 4ms/step - loss: 8.8091e-04\n",
      "Generation - 22\n",
      "7/7 [==============================] - 0s 4ms/step - loss: 0.0011\n",
      "7/7 [==============================] - 0s 5ms/step - loss: 0.0013\n",
      "Generation - 23\n",
      "7/7 [==============================] - 0s 5ms/step - loss: 8.4299e-04\n",
      "7/7 [==============================] - 0s 4ms/step - loss: 9.5117e-04\n",
      "Generation - 24\n",
      "7/7 [==============================] - 0s 5ms/step - loss: 9.0581e-04\n",
      "7/7 [==============================] - 0s 4ms/step - loss: 8.4150e-04\n",
      "Generation - 25\n",
      "7/7 [==============================] - 0s 4ms/step - loss: 9.3993e-04\n",
      "7/7 [==============================] - 0s 5ms/step - loss: 9.3909e-04\n",
      "Generation - 26\n",
      "7/7 [==============================] - 0s 4ms/step - loss: 8.6477e-04\n",
      "7/7 [==============================] - 0s 4ms/step - loss: 8.5911e-04\n",
      "Generation - 27\n",
      "7/7 [==============================] - 0s 5ms/step - loss: 8.2600e-04\n",
      "7/7 [==============================] - 0s 4ms/step - loss: 9.2125e-04\n",
      "Generation - 28\n",
      "7/7 [==============================] - 0s 4ms/step - loss: 8.7775e-04\n",
      "7/7 [==============================] - 0s 5ms/step - loss: 0.0014\n",
      "Generation - 29\n",
      "7/7 [==============================] - 0s 4ms/step - loss: 9.9937e-04\n",
      "7/7 [==============================] - 0s 4ms/step - loss: 8.6360e-04\n",
      "Generation - 30\n",
      "7/7 [==============================] - 0s 5ms/step - loss: 0.0010\n",
      "7/7 [==============================] - 0s 5ms/step - loss: 9.0411e-04\n",
      "Generation - 31\n",
      "7/7 [==============================] - 0s 4ms/step - loss: 9.2046e-04\n",
      "7/7 [==============================] - 0s 5ms/step - loss: 9.5234e-04\n",
      "Generation - 32\n",
      "7/7 [==============================] - 0s 4ms/step - loss: 0.0011\n",
      "7/7 [==============================] - 0s 4ms/step - loss: 8.7109e-04\n",
      "Generation - 33\n",
      "7/7 [==============================] - 0s 4ms/step - loss: 8.7467e-04\n",
      "7/7 [==============================] - 0s 4ms/step - loss: 0.0012\n",
      "Generation - 34\n",
      "7/7 [==============================] - 0s 4ms/step - loss: 9.1029e-04\n",
      "7/7 [==============================] - 0s 5ms/step - loss: 0.0010\n",
      "Generation - 35\n",
      "7/7 [==============================] - 0s 4ms/step - loss: 0.0013\n",
      "7/7 [==============================] - 0s 4ms/step - loss: 9.1825e-04\n",
      "Generation - 36\n",
      "7/7 [==============================] - 0s 5ms/step - loss: 9.2764e-04\n",
      "7/7 [==============================] - 0s 4ms/step - loss: 8.4139e-04\n",
      "Generation - 37\n",
      "7/7 [==============================] - 0s 4ms/step - loss: 0.0013\n",
      "7/7 [==============================] - 0s 5ms/step - loss: 8.8138e-04\n",
      "Generation - 38\n",
      "7/7 [==============================] - 0s 4ms/step - loss: 8.6509e-04\n",
      "7/7 [==============================] - 0s 4ms/step - loss: 0.0014\n",
      "Generation - 39\n",
      "7/7 [==============================] - 0s 6ms/step - loss: 8.3467e-04\n",
      "7/7 [==============================] - 0s 4ms/step - loss: 0.0013\n",
      "Generation - 40\n",
      "7/7 [==============================] - 0s 4ms/step - loss: 8.8720e-04\n",
      "7/7 [==============================] - 0s 5ms/step - loss: 0.0016\n",
      "Generation - 41\n",
      "7/7 [==============================] - 0s 4ms/step - loss: 8.3950e-04\n",
      "7/7 [==============================] - 0s 4ms/step - loss: 0.0012\n",
      "Generation - 42\n",
      "7/7 [==============================] - 0s 5ms/step - loss: 0.0013\n",
      "7/7 [==============================] - 0s 4ms/step - loss: 8.5635e-04\n",
      "Generation - 43\n",
      "7/7 [==============================] - 0s 4ms/step - loss: 8.7859e-04\n",
      "7/7 [==============================] - 0s 4ms/step - loss: 9.4857e-04\n",
      "Generation - 44\n",
      "7/7 [==============================] - 0s 4ms/step - loss: 0.0010\n",
      "7/7 [==============================] - 0s 4ms/step - loss: 8.7199e-04\n",
      "Generation - 45\n",
      "7/7 [==============================] - 0s 4ms/step - loss: 0.0010\n",
      "7/7 [==============================] - 0s 4ms/step - loss: 0.0020\n",
      "Generation - 46\n",
      "7/7 [==============================] - 0s 5ms/step - loss: 0.0012\n",
      "7/7 [==============================] - 0s 4ms/step - loss: 0.0014\n",
      "Generation - 47\n",
      "7/7 [==============================] - 0s 4ms/step - loss: 8.3056e-04\n",
      "7/7 [==============================] - 0s 4ms/step - loss: 0.0010\n",
      "Generation - 48\n",
      "7/7 [==============================] - 0s 5ms/step - loss: 9.0026e-04\n",
      "7/7 [==============================] - 0s 4ms/step - loss: 0.0011\n",
      "Generation - 49\n",
      "7/7 [==============================] - 0s 4ms/step - loss: 8.5828e-04\n",
      "7/7 [==============================] - 0s 5ms/step - loss: 8.7764e-04\n",
      "Generation - 50\n",
      "7/7 [==============================] - 0s 4ms/step - loss: 9.2205e-04\n",
      "7/7 [==============================] - 0s 5ms/step - loss: 0.0010\n"
     ]
    }
   ],
   "source": [
    "# Do not increase this value\n",
    "generations = 50\n",
    "mutation_rate = 5\n",
    "\n",
    "time = timer(None)\n",
    "best_chromosome, best_fitness, max_fitness_each_gen = genetic_algorithm(generations, mutation_rate)\n",
    "time = timer(time)"
   ]
  },
  {
   "cell_type": "code",
   "execution_count": 12,
   "id": "d6b1cca4",
   "metadata": {
    "execution": {
     "iopub.execute_input": "2024-02-06T03:05:12.832691Z",
     "iopub.status.busy": "2024-02-06T03:05:12.832333Z",
     "iopub.status.idle": "2024-02-06T03:05:12.837853Z",
     "shell.execute_reply": "2024-02-06T03:05:12.836823Z"
    },
    "papermill": {
     "duration": 0.037737,
     "end_time": "2024-02-06T03:05:12.840027",
     "exception": false,
     "start_time": "2024-02-06T03:05:12.802290",
     "status": "completed"
    },
    "tags": []
   },
   "outputs": [
    {
     "name": "stdout",
     "output_type": "stream",
     "text": [
      "Best Chromosome: [224 247 153]\n",
      "Best Fitness: -0.0008260024478659034\n",
      "Time Taken: 0 hours 20 minutes and 31.74 seconds.\n"
     ]
    }
   ],
   "source": [
    "print(\"Best Chromosome:\", best_chromosome)\n",
    "print(\"Best Fitness:\", best_fitness)\n",
    "print(\"Time Taken:\", time)"
   ]
  },
  {
   "cell_type": "code",
   "execution_count": 13,
   "id": "f3ecc948",
   "metadata": {
    "execution": {
     "iopub.execute_input": "2024-02-06T03:05:12.897063Z",
     "iopub.status.busy": "2024-02-06T03:05:12.896440Z",
     "iopub.status.idle": "2024-02-06T03:05:12.902577Z",
     "shell.execute_reply": "2024-02-06T03:05:12.901751Z"
    },
    "papermill": {
     "duration": 0.035607,
     "end_time": "2024-02-06T03:05:12.904399",
     "exception": false,
     "start_time": "2024-02-06T03:05:12.868792",
     "status": "completed"
    },
    "tags": []
   },
   "outputs": [
    {
     "data": {
      "text/plain": [
       "[-0.000851781980600208,\n",
       " -0.000851781980600208,\n",
       " -0.0008396861958317459,\n",
       " -0.0008396861958317459,\n",
       " -0.0008396861958317459,\n",
       " -0.0008396861958317459,\n",
       " -0.0008396861958317459,\n",
       " -0.0008396861958317459,\n",
       " -0.0008396861958317459,\n",
       " -0.0008396861958317459,\n",
       " -0.0008396861958317459,\n",
       " -0.0008396861958317459,\n",
       " -0.0008396861958317459,\n",
       " -0.0008396861958317459,\n",
       " -0.0008396861958317459,\n",
       " -0.0008396861958317459,\n",
       " -0.0008396861958317459,\n",
       " -0.0008396861958317459,\n",
       " -0.0008396861958317459,\n",
       " -0.0008396861958317459,\n",
       " -0.0008396861958317459,\n",
       " -0.0008396861958317459,\n",
       " -0.0008396861958317459,\n",
       " -0.0008396861958317459,\n",
       " -0.0008396861958317459,\n",
       " -0.0008396861958317459,\n",
       " -0.0008396861958317459,\n",
       " -0.0008260024478659034,\n",
       " -0.0008260024478659034,\n",
       " -0.0008260024478659034,\n",
       " -0.0008260024478659034,\n",
       " -0.0008260024478659034,\n",
       " -0.0008260024478659034,\n",
       " -0.0008260024478659034,\n",
       " -0.0008260024478659034,\n",
       " -0.0008260024478659034,\n",
       " -0.0008260024478659034,\n",
       " -0.0008260024478659034,\n",
       " -0.0008260024478659034,\n",
       " -0.0008260024478659034,\n",
       " -0.0008260024478659034,\n",
       " -0.0008260024478659034,\n",
       " -0.0008260024478659034,\n",
       " -0.0008260024478659034,\n",
       " -0.0008260024478659034,\n",
       " -0.0008260024478659034,\n",
       " -0.0008260024478659034,\n",
       " -0.0008260024478659034,\n",
       " -0.0008260024478659034,\n",
       " -0.0008260024478659034]"
      ]
     },
     "execution_count": 13,
     "metadata": {},
     "output_type": "execute_result"
    }
   ],
   "source": [
    "max_fitness_each_gen"
   ]
  },
  {
   "cell_type": "markdown",
   "id": "7aa5cc90",
   "metadata": {
    "papermill": {
     "duration": 0.028061,
     "end_time": "2024-02-06T03:05:12.960651",
     "exception": false,
     "start_time": "2024-02-06T03:05:12.932590",
     "status": "completed"
    },
    "tags": []
   },
   "source": [
    "## Re-Training Model with Best Parameter"
   ]
  },
  {
   "cell_type": "code",
   "execution_count": 14,
   "id": "88aa214f",
   "metadata": {
    "execution": {
     "iopub.execute_input": "2024-02-06T03:05:13.018271Z",
     "iopub.status.busy": "2024-02-06T03:05:13.017918Z",
     "iopub.status.idle": "2024-02-06T03:05:13.792654Z",
     "shell.execute_reply": "2024-02-06T03:05:13.791644Z"
    },
    "papermill": {
     "duration": 0.807806,
     "end_time": "2024-02-06T03:05:13.796742",
     "exception": false,
     "start_time": "2024-02-06T03:05:12.988936",
     "status": "completed"
    },
    "tags": []
   },
   "outputs": [
    {
     "name": "stdout",
     "output_type": "stream",
     "text": [
      "Model: \"sequential_1\"\n",
      "_________________________________________________________________\n",
      " Layer (type)                Output Shape              Param #   \n",
      "=================================================================\n",
      " lstm_3 (LSTM)               (None, 20, 224)           202496    \n",
      "                                                                 \n",
      " lstm_4 (LSTM)               (None, 20, 247)           466336    \n",
      "                                                                 \n",
      " lstm_5 (LSTM)               (None, 153)               245412    \n",
      "                                                                 \n",
      " dense_1 (Dense)             (None, 1)                 154       \n",
      "                                                                 \n",
      "=================================================================\n",
      "Total params: 914,398\n",
      "Trainable params: 914,398\n",
      "Non-trainable params: 0\n",
      "_________________________________________________________________\n"
     ]
    }
   ],
   "source": [
    "model = Sequential()\n",
    "for i, units in enumerate(best_chromosome[:LSTM_Layer]):\n",
    "    model.add(LSTM(units, return_sequences=(i < LSTM_Layer - 1), input_shape=(WINDOW_SIZE, 1)))\n",
    "model.add(Dense(1))\n",
    "\n",
    "model.summary()"
   ]
  },
  {
   "cell_type": "code",
   "execution_count": 15,
   "id": "ae6e6545",
   "metadata": {
    "execution": {
     "iopub.execute_input": "2024-02-06T03:05:13.855020Z",
     "iopub.status.busy": "2024-02-06T03:05:13.854709Z",
     "iopub.status.idle": "2024-02-06T03:05:44.677676Z",
     "shell.execute_reply": "2024-02-06T03:05:44.676633Z"
    },
    "papermill": {
     "duration": 30.854645,
     "end_time": "2024-02-06T03:05:44.680282",
     "exception": false,
     "start_time": "2024-02-06T03:05:13.825637",
     "status": "completed"
    },
    "tags": []
   },
   "outputs": [
    {
     "name": "stdout",
     "output_type": "stream",
     "text": [
      "Epoch 1/50\n",
      "50/50 [==============================] - 7s 30ms/step - loss: 0.0192 - mae: 0.0916 - root_mean_squared_error: 0.1385 - val_loss: 0.0036 - val_mae: 0.0476 - val_root_mean_squared_error: 0.0598\n",
      "Epoch 2/50\n",
      "50/50 [==============================] - 0s 9ms/step - loss: 0.0032 - mae: 0.0397 - root_mean_squared_error: 0.0562 - val_loss: 0.0030 - val_mae: 0.0430 - val_root_mean_squared_error: 0.0547\n",
      "Epoch 3/50\n",
      "50/50 [==============================] - 0s 10ms/step - loss: 0.0027 - mae: 0.0368 - root_mean_squared_error: 0.0519 - val_loss: 0.0030 - val_mae: 0.0437 - val_root_mean_squared_error: 0.0543\n",
      "Epoch 4/50\n",
      "50/50 [==============================] - 0s 9ms/step - loss: 0.0026 - mae: 0.0369 - root_mean_squared_error: 0.0508 - val_loss: 0.0027 - val_mae: 0.0421 - val_root_mean_squared_error: 0.0522\n",
      "Epoch 5/50\n",
      "50/50 [==============================] - 0s 9ms/step - loss: 0.0023 - mae: 0.0343 - root_mean_squared_error: 0.0478 - val_loss: 0.0025 - val_mae: 0.0405 - val_root_mean_squared_error: 0.0502\n",
      "Epoch 6/50\n",
      "50/50 [==============================] - 1s 10ms/step - loss: 0.0019 - mae: 0.0313 - root_mean_squared_error: 0.0439 - val_loss: 0.0024 - val_mae: 0.0391 - val_root_mean_squared_error: 0.0488\n",
      "Epoch 7/50\n",
      "50/50 [==============================] - 0s 10ms/step - loss: 0.0017 - mae: 0.0287 - root_mean_squared_error: 0.0410 - val_loss: 0.0023 - val_mae: 0.0373 - val_root_mean_squared_error: 0.0482\n",
      "Epoch 8/50\n",
      "50/50 [==============================] - 0s 9ms/step - loss: 0.0020 - mae: 0.0329 - root_mean_squared_error: 0.0450 - val_loss: 0.0021 - val_mae: 0.0355 - val_root_mean_squared_error: 0.0460\n",
      "Epoch 9/50\n",
      "50/50 [==============================] - 0s 9ms/step - loss: 0.0016 - mae: 0.0280 - root_mean_squared_error: 0.0400 - val_loss: 0.0021 - val_mae: 0.0349 - val_root_mean_squared_error: 0.0455\n",
      "Epoch 10/50\n",
      "50/50 [==============================] - 0s 9ms/step - loss: 0.0016 - mae: 0.0276 - root_mean_squared_error: 0.0399 - val_loss: 0.0021 - val_mae: 0.0359 - val_root_mean_squared_error: 0.0455\n",
      "Epoch 11/50\n",
      "50/50 [==============================] - 0s 9ms/step - loss: 0.0016 - mae: 0.0280 - root_mean_squared_error: 0.0396 - val_loss: 0.0020 - val_mae: 0.0346 - val_root_mean_squared_error: 0.0445\n",
      "Epoch 12/50\n",
      "50/50 [==============================] - 0s 9ms/step - loss: 0.0014 - mae: 0.0252 - root_mean_squared_error: 0.0374 - val_loss: 0.0019 - val_mae: 0.0341 - val_root_mean_squared_error: 0.0438\n",
      "Epoch 13/50\n",
      "50/50 [==============================] - 1s 10ms/step - loss: 0.0017 - mae: 0.0292 - root_mean_squared_error: 0.0411 - val_loss: 0.0018 - val_mae: 0.0324 - val_root_mean_squared_error: 0.0427\n",
      "Epoch 14/50\n",
      "50/50 [==============================] - 0s 9ms/step - loss: 0.0013 - mae: 0.0250 - root_mean_squared_error: 0.0367 - val_loss: 0.0018 - val_mae: 0.0322 - val_root_mean_squared_error: 0.0425\n",
      "Epoch 15/50\n",
      "50/50 [==============================] - 0s 9ms/step - loss: 0.0013 - mae: 0.0246 - root_mean_squared_error: 0.0366 - val_loss: 0.0018 - val_mae: 0.0315 - val_root_mean_squared_error: 0.0420\n",
      "Epoch 16/50\n",
      "50/50 [==============================] - 0s 9ms/step - loss: 0.0013 - mae: 0.0233 - root_mean_squared_error: 0.0354 - val_loss: 0.0018 - val_mae: 0.0314 - val_root_mean_squared_error: 0.0426\n",
      "Epoch 17/50\n",
      "50/50 [==============================] - 0s 9ms/step - loss: 0.0013 - mae: 0.0239 - root_mean_squared_error: 0.0356 - val_loss: 0.0017 - val_mae: 0.0324 - val_root_mean_squared_error: 0.0418\n",
      "Epoch 18/50\n",
      "50/50 [==============================] - 0s 9ms/step - loss: 0.0014 - mae: 0.0248 - root_mean_squared_error: 0.0368 - val_loss: 0.0017 - val_mae: 0.0322 - val_root_mean_squared_error: 0.0416\n",
      "Epoch 19/50\n",
      "50/50 [==============================] - 0s 9ms/step - loss: 0.0012 - mae: 0.0217 - root_mean_squared_error: 0.0341 - val_loss: 0.0017 - val_mae: 0.0316 - val_root_mean_squared_error: 0.0411\n",
      "Epoch 20/50\n",
      "50/50 [==============================] - 0s 9ms/step - loss: 0.0013 - mae: 0.0249 - root_mean_squared_error: 0.0365 - val_loss: 0.0017 - val_mae: 0.0315 - val_root_mean_squared_error: 0.0409\n",
      "Epoch 21/50\n",
      "50/50 [==============================] - 0s 9ms/step - loss: 0.0012 - mae: 0.0224 - root_mean_squared_error: 0.0343 - val_loss: 0.0017 - val_mae: 0.0292 - val_root_mean_squared_error: 0.0407\n",
      "Epoch 22/50\n",
      "50/50 [==============================] - 0s 9ms/step - loss: 0.0012 - mae: 0.0228 - root_mean_squared_error: 0.0347 - val_loss: 0.0015 - val_mae: 0.0291 - val_root_mean_squared_error: 0.0394\n",
      "Epoch 23/50\n",
      "50/50 [==============================] - 0s 9ms/step - loss: 0.0012 - mae: 0.0229 - root_mean_squared_error: 0.0347 - val_loss: 0.0016 - val_mae: 0.0294 - val_root_mean_squared_error: 0.0395\n",
      "Epoch 24/50\n",
      "50/50 [==============================] - 0s 9ms/step - loss: 0.0012 - mae: 0.0219 - root_mean_squared_error: 0.0339 - val_loss: 0.0015 - val_mae: 0.0287 - val_root_mean_squared_error: 0.0389\n",
      "Epoch 25/50\n",
      "50/50 [==============================] - 0s 9ms/step - loss: 0.0012 - mae: 0.0224 - root_mean_squared_error: 0.0346 - val_loss: 0.0015 - val_mae: 0.0281 - val_root_mean_squared_error: 0.0385\n",
      "Epoch 26/50\n",
      "50/50 [==============================] - 0s 9ms/step - loss: 0.0010 - mae: 0.0200 - root_mean_squared_error: 0.0323 - val_loss: 0.0015 - val_mae: 0.0281 - val_root_mean_squared_error: 0.0386\n",
      "Epoch 27/50\n",
      "50/50 [==============================] - 0s 9ms/step - loss: 0.0011 - mae: 0.0200 - root_mean_squared_error: 0.0329 - val_loss: 0.0015 - val_mae: 0.0275 - val_root_mean_squared_error: 0.0382\n",
      "Epoch 28/50\n",
      "50/50 [==============================] - 0s 9ms/step - loss: 0.0011 - mae: 0.0213 - root_mean_squared_error: 0.0336 - val_loss: 0.0015 - val_mae: 0.0295 - val_root_mean_squared_error: 0.0391\n",
      "Epoch 29/50\n",
      "50/50 [==============================] - 0s 9ms/step - loss: 0.0012 - mae: 0.0216 - root_mean_squared_error: 0.0341 - val_loss: 0.0015 - val_mae: 0.0286 - val_root_mean_squared_error: 0.0384\n",
      "Epoch 30/50\n",
      "50/50 [==============================] - 0s 9ms/step - loss: 0.0010 - mae: 0.0196 - root_mean_squared_error: 0.0323 - val_loss: 0.0014 - val_mae: 0.0274 - val_root_mean_squared_error: 0.0377\n",
      "Epoch 31/50\n",
      "50/50 [==============================] - 0s 9ms/step - loss: 0.0011 - mae: 0.0202 - root_mean_squared_error: 0.0328 - val_loss: 0.0015 - val_mae: 0.0283 - val_root_mean_squared_error: 0.0383\n",
      "Epoch 32/50\n",
      "50/50 [==============================] - 0s 9ms/step - loss: 0.0011 - mae: 0.0197 - root_mean_squared_error: 0.0326 - val_loss: 0.0015 - val_mae: 0.0268 - val_root_mean_squared_error: 0.0382\n",
      "Epoch 33/50\n",
      "50/50 [==============================] - 0s 9ms/step - loss: 0.0011 - mae: 0.0198 - root_mean_squared_error: 0.0327 - val_loss: 0.0014 - val_mae: 0.0275 - val_root_mean_squared_error: 0.0376\n",
      "Epoch 34/50\n",
      "50/50 [==============================] - 1s 10ms/step - loss: 0.0011 - mae: 0.0212 - root_mean_squared_error: 0.0335 - val_loss: 0.0016 - val_mae: 0.0303 - val_root_mean_squared_error: 0.0397\n",
      "Epoch 35/50\n",
      "50/50 [==============================] - 1s 11ms/step - loss: 0.0011 - mae: 0.0197 - root_mean_squared_error: 0.0326 - val_loss: 0.0016 - val_mae: 0.0279 - val_root_mean_squared_error: 0.0395\n",
      "Epoch 36/50\n",
      "50/50 [==============================] - 1s 11ms/step - loss: 0.0011 - mae: 0.0212 - root_mean_squared_error: 0.0337 - val_loss: 0.0014 - val_mae: 0.0267 - val_root_mean_squared_error: 0.0376\n",
      "Epoch 37/50\n",
      "50/50 [==============================] - 1s 10ms/step - loss: 0.0012 - mae: 0.0232 - root_mean_squared_error: 0.0351 - val_loss: 0.0015 - val_mae: 0.0294 - val_root_mean_squared_error: 0.0388\n",
      "Epoch 38/50\n",
      "50/50 [==============================] - 0s 9ms/step - loss: 0.0011 - mae: 0.0212 - root_mean_squared_error: 0.0337 - val_loss: 0.0017 - val_mae: 0.0318 - val_root_mean_squared_error: 0.0409\n",
      "Epoch 39/50\n",
      "50/50 [==============================] - 0s 9ms/step - loss: 0.0011 - mae: 0.0208 - root_mean_squared_error: 0.0333 - val_loss: 0.0015 - val_mae: 0.0294 - val_root_mean_squared_error: 0.0390\n",
      "Epoch 40/50\n",
      "50/50 [==============================] - 0s 9ms/step - loss: 0.0012 - mae: 0.0219 - root_mean_squared_error: 0.0343 - val_loss: 0.0014 - val_mae: 0.0267 - val_root_mean_squared_error: 0.0377\n",
      "Epoch 41/50\n",
      "50/50 [==============================] - 0s 10ms/step - loss: 0.0013 - mae: 0.0234 - root_mean_squared_error: 0.0358 - val_loss: 0.0015 - val_mae: 0.0266 - val_root_mean_squared_error: 0.0382\n",
      "Epoch 42/50\n",
      "50/50 [==============================] - 0s 9ms/step - loss: 0.0011 - mae: 0.0211 - root_mean_squared_error: 0.0339 - val_loss: 0.0015 - val_mae: 0.0273 - val_root_mean_squared_error: 0.0392\n",
      "Epoch 43/50\n",
      "50/50 [==============================] - 0s 9ms/step - loss: 0.0010 - mae: 0.0197 - root_mean_squared_error: 0.0324 - val_loss: 0.0015 - val_mae: 0.0270 - val_root_mean_squared_error: 0.0385\n",
      "Epoch 44/50\n",
      "50/50 [==============================] - 0s 9ms/step - loss: 0.0011 - mae: 0.0196 - root_mean_squared_error: 0.0329 - val_loss: 0.0015 - val_mae: 0.0296 - val_root_mean_squared_error: 0.0390\n",
      "Epoch 45/50\n",
      "50/50 [==============================] - 0s 9ms/step - loss: 0.0010 - mae: 0.0190 - root_mean_squared_error: 0.0321 - val_loss: 0.0014 - val_mae: 0.0264 - val_root_mean_squared_error: 0.0376\n",
      "Epoch 46/50\n",
      "50/50 [==============================] - 0s 9ms/step - loss: 0.0010 - mae: 0.0184 - root_mean_squared_error: 0.0318 - val_loss: 0.0014 - val_mae: 0.0261 - val_root_mean_squared_error: 0.0375\n",
      "Epoch 47/50\n",
      "50/50 [==============================] - 0s 9ms/step - loss: 0.0011 - mae: 0.0199 - root_mean_squared_error: 0.0327 - val_loss: 0.0014 - val_mae: 0.0264 - val_root_mean_squared_error: 0.0370\n",
      "Epoch 48/50\n",
      "50/50 [==============================] - 0s 9ms/step - loss: 0.0011 - mae: 0.0205 - root_mean_squared_error: 0.0332 - val_loss: 0.0014 - val_mae: 0.0282 - val_root_mean_squared_error: 0.0379\n",
      "Epoch 49/50\n",
      "50/50 [==============================] - 0s 10ms/step - loss: 0.0012 - mae: 0.0218 - root_mean_squared_error: 0.0340 - val_loss: 0.0016 - val_mae: 0.0307 - val_root_mean_squared_error: 0.0400\n",
      "Epoch 50/50\n",
      "50/50 [==============================] - 0s 9ms/step - loss: 0.0014 - mae: 0.0254 - root_mean_squared_error: 0.0376 - val_loss: 0.0015 - val_mae: 0.0296 - val_root_mean_squared_error: 0.0391\n"
     ]
    }
   ],
   "source": [
    "model.compile(loss='mean_squared_error',\n",
    "              metrics=['mae', RootMeanSquaredError()],\n",
    "              optimizer='adam')\n",
    "\n",
    "history = model.fit(X_train,\n",
    "                    y_train,\n",
    "                    epochs=50,\n",
    "                    batch_size=32,\n",
    "                    validation_split=0.1)"
   ]
  },
  {
   "cell_type": "code",
   "execution_count": 16,
   "id": "706c581d",
   "metadata": {
    "execution": {
     "iopub.execute_input": "2024-02-06T03:05:44.815946Z",
     "iopub.status.busy": "2024-02-06T03:05:44.815579Z",
     "iopub.status.idle": "2024-02-06T03:05:44.916629Z",
     "shell.execute_reply": "2024-02-06T03:05:44.915792Z"
    },
    "papermill": {
     "duration": 0.170874,
     "end_time": "2024-02-06T03:05:44.918693",
     "exception": false,
     "start_time": "2024-02-06T03:05:44.747819",
     "status": "completed"
    },
    "tags": []
   },
   "outputs": [
    {
     "name": "stdout",
     "output_type": "stream",
     "text": [
      "7/7 [==============================] - 0s 5ms/step - loss: 6.0840e-04 - mae: 0.0171 - root_mean_squared_error: 0.0247\n"
     ]
    },
    {
     "data": {
      "text/plain": [
       "[0.0006084014312364161, 0.017111068591475487, 0.024665795266628265]"
      ]
     },
     "execution_count": 16,
     "metadata": {},
     "output_type": "execute_result"
    }
   ],
   "source": [
    "model.evaluate(X_test, y_test)"
   ]
  },
  {
   "cell_type": "markdown",
   "id": "4e3ef463",
   "metadata": {
    "papermill": {
     "duration": 0.06562,
     "end_time": "2024-02-06T03:05:45.050363",
     "exception": false,
     "start_time": "2024-02-06T03:05:44.984743",
     "status": "completed"
    },
    "tags": []
   },
   "source": [
    "## Model Evaluation"
   ]
  },
  {
   "cell_type": "code",
   "execution_count": 17,
   "id": "e2ae2b4e",
   "metadata": {
    "execution": {
     "iopub.execute_input": "2024-02-06T03:05:45.184053Z",
     "iopub.status.busy": "2024-02-06T03:05:45.183688Z",
     "iopub.status.idle": "2024-02-06T03:05:45.506017Z",
     "shell.execute_reply": "2024-02-06T03:05:45.505092Z"
    },
    "papermill": {
     "duration": 0.391745,
     "end_time": "2024-02-06T03:05:45.508196",
     "exception": false,
     "start_time": "2024-02-06T03:05:45.116451",
     "status": "completed"
    },
    "tags": []
   },
   "outputs": [
    {
     "data": {
      "image/png": "[encoded data removed]",
      "text/plain": [
       "<Figure size 640x480 with 1 Axes>"
      ]
     },
     "metadata": {},
     "output_type": "display_data"
    }
   ],
   "source": [
    "plt.plot(history.history['loss'])\n",
    "plt.plot(history.history['val_loss'])\n",
    "plt.title(f'{SHEET_NAME} Model Loss', fontsize=15)\n",
    "plt.ylabel('loss')\n",
    "plt.xlabel('epoch')\n",
    "plt.legend(['train', 'test'])\n",
    "plt.show()"
   ]
  },
  {
   "cell_type": "code",
   "execution_count": 18,
   "id": "1a728eea",
   "metadata": {
    "execution": {
     "iopub.execute_input": "2024-02-06T03:05:45.644116Z",
     "iopub.status.busy": "2024-02-06T03:05:45.643444Z",
     "iopub.status.idle": "2024-02-06T03:05:46.733279Z",
     "shell.execute_reply": "2024-02-06T03:05:46.732481Z"
    },
    "papermill": {
     "duration": 1.159329,
     "end_time": "2024-02-06T03:05:46.735188",
     "exception": false,
     "start_time": "2024-02-06T03:05:45.575859",
     "status": "completed"
    },
    "tags": []
   },
   "outputs": [
    {
     "name": "stdout",
     "output_type": "stream",
     "text": [
      "7/7 [==============================] - 1s 5ms/step\n"
     ]
    }
   ],
   "source": [
    "y_hat = model.predict(X_test)\n",
    "y_test_inverse = scaler.inverse_transform(y_test)\n",
    "y_hat_inverse = scaler.inverse_transform(y_hat)"
   ]
  },
  {
   "cell_type": "code",
   "execution_count": 19,
   "id": "918b0175",
   "metadata": {
    "execution": {
     "iopub.execute_input": "2024-02-06T03:05:46.886915Z",
     "iopub.status.busy": "2024-02-06T03:05:46.886574Z",
     "iopub.status.idle": "2024-02-06T03:05:47.227268Z",
     "shell.execute_reply": "2024-02-06T03:05:47.226362Z"
    },
    "papermill": {
     "duration": 0.414689,
     "end_time": "2024-02-06T03:05:47.229344",
     "exception": false,
     "start_time": "2024-02-06T03:05:46.814655",
     "status": "completed"
    },
    "tags": []
   },
   "outputs": [
    {
     "data": {
      "image/png": "[encoded data removed]",
      "text/plain": [
       "<Figure size 640x480 with 1 Axes>"
      ]
     },
     "metadata": {},
     "output_type": "display_data"
    }
   ],
   "source": [
    "plt.plot(y_test_inverse, label=\"Actual Price\", color='green')\n",
    "plt.plot(y_hat_inverse, label=\"Predicted Price\", color='red')\n",
    " \n",
    "plt.title(f'{SHEET_NAME} Price Prediction\\nLSTM = {LSTM_Layer}, Split Data = {SPLIT}, Window = {WINDOW_SIZE}', fontsize=15)\n",
    "plt.xlabel('Time [days]')\n",
    "plt.ylabel('Price')\n",
    "plt.legend(loc='best')\n",
    " \n",
    "plt.show()"
   ]
  },
  {
   "cell_type": "code",
   "execution_count": 20,
   "id": "bb7a84a1",
   "metadata": {
    "execution": {
     "iopub.execute_input": "2024-02-06T03:05:47.366841Z",
     "iopub.status.busy": "2024-02-06T03:05:47.366481Z",
     "iopub.status.idle": "2024-02-06T03:05:47.380785Z",
     "shell.execute_reply": "2024-02-06T03:05:47.379044Z"
    },
    "papermill": {
     "duration": 0.086113,
     "end_time": "2024-02-06T03:05:47.382968",
     "exception": false,
     "start_time": "2024-02-06T03:05:47.296855",
     "status": "completed"
    },
    "tags": []
   },
   "outputs": [
    {
     "name": "stdout",
     "output_type": "stream",
     "text": [
      "LSTM = 3, Split Data = 0.9, Window = 20\n",
      "\n",
      "----------------- Normalized Error -----------------\n",
      "Mean Absolute Error for prediction : 0.017111068807657125\n",
      "Mean Squared Error for prediction : 0.0006084014573444267\n",
      "Root Mean Squared Error for prediction : 0.02466579529114005\n",
      "\n",
      "----------------- Actual Error -----------------\n",
      "Mean Absolute Error for prediction : 64.74828822544654\n",
      "Mean Squared Error for prediction : 8711.495004850325\n",
      "Root Mean Squared Error for prediction : 93.33538988427875\n"
     ]
    }
   ],
   "source": [
    "def matrices(actual, predicted):\n",
    "    mse = mean_squared_error(actual, predicted)\n",
    "    mae = mean_absolute_error(actual, predicted)\n",
    "    rmse = np.sqrt(mse)\n",
    "    print(\"Mean Absolute Error for prediction :\", mae)\n",
    "    print(\"Mean Squared Error for prediction :\", mse)\n",
    "    print(\"Root Mean Squared Error for prediction :\", rmse)\n",
    "    return mae, mse, rmse\n",
    "\n",
    "print(f\"LSTM = {LSTM_Layer}, Split Data = {SPLIT}, Window = {WINDOW_SIZE}\")\n",
    "print(\"\\n----------------- Normalized Error -----------------\")\n",
    "mae, mse, rmse = matrices(y_test, y_hat)\n",
    "print(\"\\n----------------- Actual Error -----------------\")\n",
    "mae_inverse, mse_inverse, rmse_inverse = matrices(y_test_inverse, y_hat_inverse)"
   ]
  }
 ],
 "metadata": {
  "kaggle": {
   "accelerator": "gpu",
   "dataSources": [],
   "dockerImageVersionId": 30498,
   "isGpuEnabled": true,
   "isInternetEnabled": true,
   "language": "python",
   "sourceType": "notebook"
  },
  "kernelspec": {
   "display_name": "Python 3",
   "language": "python",
   "name": "python3"
  },
  "language_info": {
   "codemirror_mode": {
    "name": "ipython",
    "version": 3
   },
   "file_extension": ".py",
   "mimetype": "text/x-python",
   "name": "python",
   "nbconvert_exporter": "python",
   "pygments_lexer": "ipython3",
   "version": "3.10.10"
  },
  "papermill": {
   "default_parameters": {},
   "duration": 1291.367503,
   "end_time": "2024-02-06T03:05:51.006506",
   "environment_variables": {},
   "exception": null,
   "input_path": "__notebook__.ipynb",
   "output_path": "__notebook__.ipynb",
   "parameters": {},
   "start_time": "2024-02-06T02:44:19.639003",
   "version": "2.4.0"
  }
 },
 "nbformat": 4,
 "nbformat_minor": 5
}
