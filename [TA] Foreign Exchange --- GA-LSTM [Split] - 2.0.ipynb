{
 "cells": [
  {
   "cell_type": "code",
   "execution_count": 1,
   "id": "8c0fe8b4",
   "metadata": {
    "execution": {
     "iopub.execute_input": "2024-02-05T16:15:18.412704Z",
     "iopub.status.busy": "2024-02-05T16:15:18.412334Z",
     "iopub.status.idle": "2024-02-05T16:15:26.816235Z",
     "shell.execute_reply": "2024-02-05T16:15:26.815407Z"
    },
    "papermill": {
     "duration": 8.414807,
     "end_time": "2024-02-05T16:15:26.818627",
     "exception": false,
     "start_time": "2024-02-05T16:15:18.403820",
     "status": "completed"
    },
    "tags": []
   },
   "outputs": [
    {
     "name": "stderr",
     "output_type": "stream",
     "text": [
      "/opt/conda/lib/python3.10/site-packages/tensorflow_io/python/ops/__init__.py:98: UserWarning: unable to load libtensorflow_io_plugins.so: unable to open file: libtensorflow_io_plugins.so, from paths: ['/opt/conda/lib/python3.10/site-packages/tensorflow_io/python/ops/libtensorflow_io_plugins.so']\n",
      "caused by: ['/opt/conda/lib/python3.10/site-packages/tensorflow_io/python/ops/libtensorflow_io_plugins.so: undefined symbol: _ZN3tsl6StatusC1EN10tensorflow5error4CodeESt17basic_string_viewIcSt11char_traitsIcEENS_14SourceLocationE']\n",
      "  warnings.warn(f\"unable to load libtensorflow_io_plugins.so: {e}\")\n",
      "/opt/conda/lib/python3.10/site-packages/tensorflow_io/python/ops/__init__.py:104: UserWarning: file system plugins are not loaded: unable to open file: libtensorflow_io.so, from paths: ['/opt/conda/lib/python3.10/site-packages/tensorflow_io/python/ops/libtensorflow_io.so']\n",
      "caused by: ['/opt/conda/lib/python3.10/site-packages/tensorflow_io/python/ops/libtensorflow_io.so: undefined symbol: _ZTVN10tensorflow13GcsFileSystemE']\n",
      "  warnings.warn(f\"file system plugins are not loaded: {e}\")\n"
     ]
    }
   ],
   "source": [
    "import pandas as pd\n",
    "import numpy as np\n",
    "import tensorflow as tf\n",
    "import matplotlib.pyplot as plt\n",
    "import datetime, pytz\n",
    "\n",
    "from keras.models import Sequential\n",
    "from keras.layers import LSTM, Dense\n",
    "from keras.metrics import RootMeanSquaredError\n",
    "\n",
    "from sklearn.preprocessing import MinMaxScaler\n",
    "from sklearn.metrics import mean_squared_error, mean_absolute_error"
   ]
  },
  {
   "cell_type": "markdown",
   "id": "656d0581",
   "metadata": {
    "papermill": {
     "duration": 0.006578,
     "end_time": "2024-02-05T16:15:26.832360",
     "exception": false,
     "start_time": "2024-02-05T16:15:26.825782",
     "status": "completed"
    },
    "tags": []
   },
   "source": [
    "## Hyperparameter"
   ]
  },
  {
   "cell_type": "code",
   "execution_count": 2,
   "id": "3f110509",
   "metadata": {
    "execution": {
     "iopub.execute_input": "2024-02-05T16:15:26.847117Z",
     "iopub.status.busy": "2024-02-05T16:15:26.846397Z",
     "iopub.status.idle": "2024-02-05T16:15:26.851593Z",
     "shell.execute_reply": "2024-02-05T16:15:26.850721Z"
    },
    "papermill": {
     "duration": 0.014659,
     "end_time": "2024-02-05T16:15:26.853479",
     "exception": false,
     "start_time": "2024-02-05T16:15:26.838820",
     "status": "completed"
    },
    "tags": []
   },
   "outputs": [],
   "source": [
    "# Google Spreadsheet ID\n",
    "SHEET_ID = '1JDNv_mArl-GPIpxuWS5GxgVEwvjXocS1MrXGc6TYs8M'\n",
    "SHEET_NAME = 'USD/IDR' # USD/IDR, EUR/IDR, SGD/IDR\n",
    "\n",
    "SEQ_LEN = 11 # 6, 11, 21\n",
    "SPLIT = 0.90 # 0.80, 0.90\n",
    "LSTM_Layer = 1 # 1, 2, 3\n",
    "WINDOW_SIZE = SEQ_LEN - 1"
   ]
  },
  {
   "cell_type": "code",
   "execution_count": 3,
   "id": "aaf6fa74",
   "metadata": {
    "execution": {
     "iopub.execute_input": "2024-02-05T16:15:26.868104Z",
     "iopub.status.busy": "2024-02-05T16:15:26.867788Z",
     "iopub.status.idle": "2024-02-05T16:15:27.549189Z",
     "shell.execute_reply": "2024-02-05T16:15:27.548223Z"
    },
    "papermill": {
     "duration": 0.691623,
     "end_time": "2024-02-05T16:15:27.551874",
     "exception": false,
     "start_time": "2024-02-05T16:15:26.860251",
     "status": "completed"
    },
    "tags": []
   },
   "outputs": [
    {
     "name": "stdout",
     "output_type": "stream",
     "text": [
      "<class 'pandas.core.frame.DataFrame'>\n",
      "RangeIndex: 1977 entries, 0 to 1976\n",
      "Data columns (total 2 columns):\n",
      " #   Column  Non-Null Count  Dtype         \n",
      "---  ------  --------------  -----         \n",
      " 0   Date    1977 non-null   datetime64[ns]\n",
      " 1   Close   1977 non-null   float64       \n",
      "dtypes: datetime64[ns](1), float64(1)\n",
      "memory usage: 31.0 KB\n"
     ]
    }
   ],
   "source": [
    "url = f'https://docs.google.com/spreadsheets/d/{SHEET_ID}/gviz/tq?tqx=out:csv&sheet={SHEET_NAME}'\n",
    "data = pd.read_csv(url)\n",
    "\n",
    "# Convert Date columns to datetime format\n",
    "data['Date'] = pd.to_datetime(data['Date'], format='%d/%m/%Y %H:%M:%S')\n",
    "data.info()"
   ]
  },
  {
   "cell_type": "markdown",
   "id": "ba9910f7",
   "metadata": {
    "papermill": {
     "duration": 0.008766,
     "end_time": "2024-02-05T16:15:27.570207",
     "exception": false,
     "start_time": "2024-02-05T16:15:27.561441",
     "status": "completed"
    },
    "tags": []
   },
   "source": [
    "## Preprocessing"
   ]
  },
  {
   "cell_type": "code",
   "execution_count": 4,
   "id": "57eed193",
   "metadata": {
    "execution": {
     "iopub.execute_input": "2024-02-05T16:15:27.585303Z",
     "iopub.status.busy": "2024-02-05T16:15:27.584530Z",
     "iopub.status.idle": "2024-02-05T16:15:27.599402Z",
     "shell.execute_reply": "2024-02-05T16:15:27.598119Z"
    },
    "papermill": {
     "duration": 0.024639,
     "end_time": "2024-02-05T16:15:27.601377",
     "exception": false,
     "start_time": "2024-02-05T16:15:27.576738",
     "status": "completed"
    },
    "tags": []
   },
   "outputs": [
    {
     "name": "stderr",
     "output_type": "stream",
     "text": [
      "/tmp/ipykernel_26/2274720815.py:7: SettingWithCopyWarning: \n",
      "A value is trying to be set on a copy of a slice from a DataFrame\n",
      "\n",
      "See the caveats in the documentation: https://pandas.pydata.org/pandas-docs/stable/user_guide/indexing.html#returning-a-view-versus-a-copy\n",
      "  data[data < lower_bound] = lower_bound\n",
      "/tmp/ipykernel_26/2274720815.py:8: SettingWithCopyWarning: \n",
      "A value is trying to be set on a copy of a slice from a DataFrame\n",
      "\n",
      "See the caveats in the documentation: https://pandas.pydata.org/pandas-docs/stable/user_guide/indexing.html#returning-a-view-versus-a-copy\n",
      "  data[data > upper_bound] = upper_bound\n"
     ]
    }
   ],
   "source": [
    "def replace_outliers(data):\n",
    "    Q1 = np.percentile(data, 25)\n",
    "    Q3 = np.percentile(data, 75)\n",
    "    IQR = Q3 - Q1\n",
    "    lower_bound = Q1 - 1.5 * IQR\n",
    "    upper_bound = Q3 + 1.5 * IQR\n",
    "    data[data < lower_bound] = lower_bound\n",
    "    data[data > upper_bound] = upper_bound\n",
    "    return data\n",
    "\n",
    "data['Close'] = replace_outliers(data['Close'])"
   ]
  },
  {
   "cell_type": "code",
   "execution_count": 5,
   "id": "6ffa30dc",
   "metadata": {
    "execution": {
     "iopub.execute_input": "2024-02-05T16:15:27.617054Z",
     "iopub.status.busy": "2024-02-05T16:15:27.616279Z",
     "iopub.status.idle": "2024-02-05T16:15:27.862848Z",
     "shell.execute_reply": "2024-02-05T16:15:27.861952Z"
    },
    "papermill": {
     "duration": 0.257078,
     "end_time": "2024-02-05T16:15:27.865401",
     "exception": false,
     "start_time": "2024-02-05T16:15:27.608323",
     "status": "completed"
    },
    "tags": []
   },
   "outputs": [
    {
     "data": {
      "image/png": "[encoded data removed]",
      "text/plain": [
       "<Figure size 640x480 with 1 Axes>"
      ]
     },
     "metadata": {},
     "output_type": "display_data"
    }
   ],
   "source": [
    "# Boxplot for outlier detection\n",
    "plt.boxplot(data['Close'])\n",
    "plt.title(f\"{SHEET_NAME} Boxplot for Outlier Detection\")\n",
    "plt.xlabel(\"Close\")\n",
    "plt.ylabel(\"Values\")\n",
    "plt.show()"
   ]
  },
  {
   "cell_type": "code",
   "execution_count": 6,
   "id": "783d15bf",
   "metadata": {
    "execution": {
     "iopub.execute_input": "2024-02-05T16:15:27.881602Z",
     "iopub.status.busy": "2024-02-05T16:15:27.881283Z",
     "iopub.status.idle": "2024-02-05T16:15:27.889096Z",
     "shell.execute_reply": "2024-02-05T16:15:27.888150Z"
    },
    "papermill": {
     "duration": 0.018756,
     "end_time": "2024-02-05T16:15:27.891459",
     "exception": false,
     "start_time": "2024-02-05T16:15:27.872703",
     "status": "completed"
    },
    "tags": []
   },
   "outputs": [
    {
     "data": {
      "text/plain": [
       "(1977, 1)"
      ]
     },
     "execution_count": 6,
     "metadata": {},
     "output_type": "execute_result"
    }
   ],
   "source": [
    "scaler = MinMaxScaler()\n",
    "close_price = data.Close.values.reshape(-1, 1)\n",
    "scaled_close = scaler.fit_transform(close_price)\n",
    "scaled_close.shape"
   ]
  },
  {
   "cell_type": "code",
   "execution_count": 7,
   "id": "32a34fb7",
   "metadata": {
    "execution": {
     "iopub.execute_input": "2024-02-05T16:15:27.913310Z",
     "iopub.status.busy": "2024-02-05T16:15:27.913007Z",
     "iopub.status.idle": "2024-02-05T16:15:27.923598Z",
     "shell.execute_reply": "2024-02-05T16:15:27.922822Z"
    },
    "papermill": {
     "duration": 0.022778,
     "end_time": "2024-02-05T16:15:27.925551",
     "exception": false,
     "start_time": "2024-02-05T16:15:27.902773",
     "status": "completed"
    },
    "tags": []
   },
   "outputs": [],
   "source": [
    "def to_sequences(data, seq_len):\n",
    "    d = []\n",
    "    for index in range(len(data) - seq_len):\n",
    "        d.append(data[index: index + seq_len])\n",
    "    return np.array(d)\n",
    "\n",
    "def preprocess(data_raw, seq_len, train_split):\n",
    "    data = to_sequences(data_raw, seq_len)\n",
    "    num_train = int(train_split * data.shape[0])\n",
    "    X_train = data[:num_train, :-1, :]\n",
    "    y_train = data[:num_train, -1, :]\n",
    "    X_test = data[num_train:, :-1, :]\n",
    "    y_test = data[num_train:, -1, :]\n",
    "    return X_train, y_train, X_test, y_test\n",
    "\n",
    "X_train, y_train, X_test, y_test = preprocess(scaled_close, SEQ_LEN, train_split = SPLIT)"
   ]
  },
  {
   "cell_type": "markdown",
   "id": "463b37d9",
   "metadata": {
    "papermill": {
     "duration": 0.007202,
     "end_time": "2024-02-05T16:15:27.940264",
     "exception": false,
     "start_time": "2024-02-05T16:15:27.933062",
     "status": "completed"
    },
    "tags": []
   },
   "source": [
    "## Genetic Algorithm"
   ]
  },
  {
   "cell_type": "code",
   "execution_count": 8,
   "id": "566582f9",
   "metadata": {
    "execution": {
     "iopub.execute_input": "2024-02-05T16:15:27.956942Z",
     "iopub.status.busy": "2024-02-05T16:15:27.956131Z",
     "iopub.status.idle": "2024-02-05T16:15:27.963013Z",
     "shell.execute_reply": "2024-02-05T16:15:27.962143Z"
    },
    "papermill": {
     "duration": 0.01727,
     "end_time": "2024-02-05T16:15:27.965040",
     "exception": false,
     "start_time": "2024-02-05T16:15:27.947770",
     "status": "completed"
    },
    "tags": []
   },
   "outputs": [],
   "source": [
    "def decimal_to_binary(chromosome: list):\n",
    "    binary_string = ''.join([bin(x)[2:].zfill(8) for x in chromosome])\n",
    "    return binary_string\n",
    "\n",
    "def binary_to_decimal(binary_string: str):\n",
    "    decimal_array = [int(binary, 2) for binary in [binary_string[i:i+8] for i in range(0, len(binary_string), 8)]]\n",
    "    return decimal_array"
   ]
  },
  {
   "cell_type": "code",
   "execution_count": 9,
   "id": "49d44432",
   "metadata": {
    "execution": {
     "iopub.execute_input": "2024-02-05T16:15:27.981786Z",
     "iopub.status.busy": "2024-02-05T16:15:27.981458Z",
     "iopub.status.idle": "2024-02-05T16:15:28.003856Z",
     "shell.execute_reply": "2024-02-05T16:15:28.002885Z"
    },
    "papermill": {
     "duration": 0.033146,
     "end_time": "2024-02-05T16:15:28.005879",
     "exception": false,
     "start_time": "2024-02-05T16:15:27.972733",
     "status": "completed"
    },
    "tags": []
   },
   "outputs": [],
   "source": [
    "# Genetic Algorithm\n",
    "def genetic_algorithm(generations, mutation_rate):\n",
    "    print(f\"Inizialized Population...\")\n",
    "    population = np.random.randint(1, high=251, size=(10, 3))\n",
    "    fitness_scores = np.array([fitness_function(chromosome) for chromosome in population])\n",
    "    max_fitness_each_gen = []\n",
    "    \n",
    "    for generation in range(generations):\n",
    "        print(f\"Generation - {generation + 1}\")\n",
    "        max_fitness_each_gen.append(np.max(fitness_scores))\n",
    "        \n",
    "        chromosome_1 = selection(population, fitness_scores)\n",
    "        chromosome_2 = selection(population, fitness_scores)\n",
    "        \n",
    "        if generation % mutation_rate == 0:\n",
    "            chromosome_1 = mutate(chromosome_1)\n",
    "            chromosome_2 = mutate(chromosome_2)\n",
    "        else:\n",
    "            chromosome_1, chromosome_2 = crossover(chromosome_1, chromosome_2)\n",
    "\n",
    "        fitness_score_1 = fitness_function(chromosome_1)\n",
    "        fitness_score_2 = fitness_function(chromosome_2)\n",
    "        \n",
    "        worst_index = np.argmin(fitness_scores)\n",
    "        worst_fitness = fitness_scores[worst_index]\n",
    "\n",
    "        if fitness_score_1 > worst_fitness:\n",
    "            population[worst_index] = chromosome_1\n",
    "            fitness_scores[worst_index] = fitness_score_1\n",
    "            worst_index = np.argmin(fitness_scores)\n",
    "            worst_fitness = fitness_scores[worst_index]\n",
    "\n",
    "        if fitness_score_2 > worst_fitness:\n",
    "            population[worst_index] = chromosome_2\n",
    "            fitness_scores[worst_index] = fitness_score_2\n",
    "        \n",
    "        # Release some memory\n",
    "        del chromosome_1, chromosome_2\n",
    "        del fitness_score_1, fitness_score_2\n",
    "        del worst_index, worst_fitness\n",
    "            \n",
    "    best_chromosome = population[np.argmax(fitness_scores)]\n",
    "    best_fitness = np.max(fitness_scores)\n",
    "    \n",
    "    return best_chromosome, best_fitness, max_fitness_each_gen\n",
    "\n",
    "# Selection (Tournament selection)\n",
    "def selection(population, fitness_scores, tournament_size=3):\n",
    "    indices = np.random.randint(len(population), size=tournament_size)\n",
    "    tournament = population[indices]\n",
    "    tournament_fitness = fitness_scores[indices]\n",
    "    return tournament[np.argmax(tournament_fitness)]\n",
    "\n",
    "# Crossover (Single-point crossover)\n",
    "def crossover(parent_1: list, parent_2: list):\n",
    "    parent_1 = decimal_to_binary(parent_1)\n",
    "    parent_2 = decimal_to_binary(parent_2)\n",
    "    \n",
    "    crossover_point = np.random.randint(1, len(parent_1))\n",
    "    offspring_1 = parent_1[:crossover_point] + parent_2[crossover_point:]\n",
    "    offspring_2 = parent_2[:crossover_point] + parent_1[crossover_point:]\n",
    "    \n",
    "    offspring_1 = binary_to_decimal(offspring_1)\n",
    "    offspring_2 = binary_to_decimal(offspring_2)\n",
    "    return offspring_1, offspring_2\n",
    "\n",
    "# Mutation (Swap Mutation)\n",
    "def mutate(chromosome: list):\n",
    "    chromosome = decimal_to_binary(chromosome)\n",
    "    \n",
    "    chromosome_list = list(chromosome)\n",
    "    i = np.random.randint(len(chromosome_list), size=2)\n",
    "    chromosome_list[i[0]], chromosome_list[i[1]] = chromosome_list[i[1]], chromosome_list[i[0]]\n",
    "    \n",
    "    chromosome_list = ''.join(chromosome_list)\n",
    "    chromosome = binary_to_decimal(chromosome_list)\n",
    "    return chromosome\n",
    "\n",
    "# Fitness Function\n",
    "def fitness_function(chromosome: list):\n",
    "    lstm_units = [int(chromosome[i]) or default for i, default in enumerate([128, 64, 32])]\n",
    "\n",
    "    # Build the LSTM model\n",
    "    tf.keras.backend.clear_session()\n",
    "    model = Sequential()\n",
    "    for i, units in enumerate(lstm_units[:LSTM_Layer]):\n",
    "        model.add(LSTM(units, return_sequences=(i < LSTM_Layer - 1), input_shape=(WINDOW_SIZE, 1)))\n",
    "    model.add(Dense(1))\n",
    "    \n",
    "    # Compile and train the model\n",
    "    model.compile(loss='mean_squared_error',\n",
    "                  optimizer='adam')\n",
    "    model.fit(X_train, y_train,\n",
    "              epochs=10,\n",
    "              batch_size=32,\n",
    "              verbose=0,\n",
    "              validation_split=0.1)\n",
    "\n",
    "    # Evaluate the model\n",
    "    loss = model.evaluate(X_test, y_test)\n",
    "\n",
    "    # Return the negative value of the loss as the fitness score\n",
    "    return -loss"
   ]
  },
  {
   "cell_type": "code",
   "execution_count": 10,
   "id": "0991132b",
   "metadata": {
    "execution": {
     "iopub.execute_input": "2024-02-05T16:15:28.023014Z",
     "iopub.status.busy": "2024-02-05T16:15:28.022333Z",
     "iopub.status.idle": "2024-02-05T16:15:28.029443Z",
     "shell.execute_reply": "2024-02-05T16:15:28.028582Z"
    },
    "papermill": {
     "duration": 0.017416,
     "end_time": "2024-02-05T16:15:28.031289",
     "exception": false,
     "start_time": "2024-02-05T16:15:28.013873",
     "status": "completed"
    },
    "tags": []
   },
   "outputs": [],
   "source": [
    "import typing\n",
    "from datetime import datetime\n",
    "\n",
    "def timer(start_time: datetime = None) -> \"typing.Union[datetime.datetime, str]\":\n",
    "    if not start_time:\n",
    "        start_time = datetime.now()\n",
    "        return start_time\n",
    "    elif start_time:\n",
    "        thour, temp_sec = divmod((datetime.now() - start_time).total_seconds(), 3600)\n",
    "        tmin, tsec = divmod(temp_sec, 60)\n",
    "        return \"%i hours %i minutes and %s seconds.\" % (\n",
    "            thour,\n",
    "            tmin,\n",
    "            round(tsec, 2),\n",
    "        )"
   ]
  },
  {
   "cell_type": "code",
   "execution_count": 11,
   "id": "ed07eb0f",
   "metadata": {
    "execution": {
     "iopub.execute_input": "2024-02-05T16:15:28.047429Z",
     "iopub.status.busy": "2024-02-05T16:15:28.047079Z",
     "iopub.status.idle": "2024-02-05T16:24:28.454766Z",
     "shell.execute_reply": "2024-02-05T16:24:28.454007Z"
    },
    "papermill": {
     "duration": 540.418216,
     "end_time": "2024-02-05T16:24:28.456818",
     "exception": false,
     "start_time": "2024-02-05T16:15:28.038602",
     "status": "completed"
    },
    "tags": []
   },
   "outputs": [
    {
     "name": "stdout",
     "output_type": "stream",
     "text": [
      "Inizialized Population...\n",
      "7/7 [==============================] - 0s 3ms/step - loss: 0.0013\n",
      "7/7 [==============================] - 0s 3ms/step - loss: 0.0013\n",
      "7/7 [==============================] - 0s 3ms/step - loss: 0.0016\n",
      "7/7 [==============================] - 0s 3ms/step - loss: 0.0015\n",
      "7/7 [==============================] - 0s 3ms/step - loss: 0.0016\n",
      "7/7 [==============================] - 0s 3ms/step - loss: 0.0014\n",
      "7/7 [==============================] - 0s 3ms/step - loss: 0.0015\n",
      "7/7 [==============================] - 0s 3ms/step - loss: 0.0012\n",
      "7/7 [==============================] - 0s 3ms/step - loss: 0.0018\n",
      "7/7 [==============================] - 0s 3ms/step - loss: 0.0015\n",
      "Generation - 1\n",
      "7/7 [==============================] - 0s 3ms/step - loss: 0.0033\n",
      "7/7 [==============================] - 0s 3ms/step - loss: 0.0016\n",
      "Generation - 2\n",
      "7/7 [==============================] - 0s 3ms/step - loss: 0.0018\n",
      "7/7 [==============================] - 0s 3ms/step - loss: 0.0014\n",
      "Generation - 3\n",
      "7/7 [==============================] - 0s 3ms/step - loss: 0.0019\n",
      "7/7 [==============================] - 0s 3ms/step - loss: 0.0035\n",
      "Generation - 4\n",
      "7/7 [==============================] - 0s 3ms/step - loss: 0.0018\n",
      "7/7 [==============================] - 0s 3ms/step - loss: 0.0015\n",
      "Generation - 5\n",
      "7/7 [==============================] - 0s 3ms/step - loss: 0.0014\n",
      "7/7 [==============================] - 0s 3ms/step - loss: 0.0014\n",
      "Generation - 6\n",
      "7/7 [==============================] - 0s 3ms/step - loss: 0.0017\n",
      "7/7 [==============================] - 0s 3ms/step - loss: 0.0017\n",
      "Generation - 7\n",
      "7/7 [==============================] - 0s 3ms/step - loss: 0.0012\n",
      "7/7 [==============================] - 0s 3ms/step - loss: 0.0017\n",
      "Generation - 8\n",
      "7/7 [==============================] - 0s 2ms/step - loss: 0.0013\n",
      "7/7 [==============================] - 0s 3ms/step - loss: 0.0017\n",
      "Generation - 9\n",
      "7/7 [==============================] - 0s 3ms/step - loss: 0.0018\n",
      "7/7 [==============================] - 0s 2ms/step - loss: 0.0021\n",
      "Generation - 10\n",
      "7/7 [==============================] - 0s 2ms/step - loss: 0.0015\n",
      "7/7 [==============================] - 0s 3ms/step - loss: 0.0023\n",
      "Generation - 11\n",
      "7/7 [==============================] - 0s 3ms/step - loss: 0.0017\n",
      "7/7 [==============================] - 0s 3ms/step - loss: 0.0022\n",
      "Generation - 12\n",
      "7/7 [==============================] - 0s 3ms/step - loss: 0.0014\n",
      "7/7 [==============================] - 0s 2ms/step - loss: 0.0018\n",
      "Generation - 13\n",
      "7/7 [==============================] - 0s 3ms/step - loss: 0.0013\n",
      "7/7 [==============================] - 0s 3ms/step - loss: 0.0013\n",
      "Generation - 14\n",
      "7/7 [==============================] - 0s 3ms/step - loss: 0.0014\n",
      "7/7 [==============================] - 0s 3ms/step - loss: 0.0018\n",
      "Generation - 15\n",
      "7/7 [==============================] - 0s 3ms/step - loss: 0.0013\n",
      "7/7 [==============================] - 0s 3ms/step - loss: 0.0013\n",
      "Generation - 16\n",
      "7/7 [==============================] - 0s 3ms/step - loss: 0.0020\n",
      "7/7 [==============================] - 0s 2ms/step - loss: 0.0016\n",
      "Generation - 17\n",
      "7/7 [==============================] - 0s 3ms/step - loss: 0.0014\n",
      "7/7 [==============================] - 0s 3ms/step - loss: 0.0016\n",
      "Generation - 18\n",
      "7/7 [==============================] - 0s 2ms/step - loss: 0.0015\n",
      "7/7 [==============================] - 0s 3ms/step - loss: 0.0030\n",
      "Generation - 19\n",
      "7/7 [==============================] - 0s 3ms/step - loss: 0.0022\n",
      "7/7 [==============================] - 0s 2ms/step - loss: 0.0018\n",
      "Generation - 20\n",
      "7/7 [==============================] - 0s 3ms/step - loss: 0.0016\n",
      "7/7 [==============================] - 0s 2ms/step - loss: 0.0024\n",
      "Generation - 21\n",
      "7/7 [==============================] - 0s 3ms/step - loss: 0.0015\n",
      "7/7 [==============================] - 0s 3ms/step - loss: 0.0015\n",
      "Generation - 22\n",
      "7/7 [==============================] - 0s 2ms/step - loss: 0.0029\n",
      "7/7 [==============================] - 0s 3ms/step - loss: 0.0018\n",
      "Generation - 23\n",
      "7/7 [==============================] - 0s 3ms/step - loss: 0.0016\n",
      "7/7 [==============================] - 0s 3ms/step - loss: 0.0018\n",
      "Generation - 24\n",
      "7/7 [==============================] - 0s 3ms/step - loss: 0.0016\n",
      "7/7 [==============================] - 0s 2ms/step - loss: 0.0020\n",
      "Generation - 25\n",
      "7/7 [==============================] - 0s 2ms/step - loss: 0.0017\n",
      "7/7 [==============================] - 0s 3ms/step - loss: 0.0014\n",
      "Generation - 26\n",
      "7/7 [==============================] - 0s 3ms/step - loss: 0.0018\n",
      "7/7 [==============================] - 0s 3ms/step - loss: 0.0018\n",
      "Generation - 27\n",
      "7/7 [==============================] - 0s 3ms/step - loss: 0.0018\n",
      "7/7 [==============================] - 0s 3ms/step - loss: 0.0020\n",
      "Generation - 28\n",
      "7/7 [==============================] - 0s 3ms/step - loss: 0.0023\n",
      "7/7 [==============================] - 0s 3ms/step - loss: 0.0025\n",
      "Generation - 29\n",
      "7/7 [==============================] - 0s 3ms/step - loss: 0.0016\n",
      "7/7 [==============================] - 0s 3ms/step - loss: 0.0018\n",
      "Generation - 30\n",
      "7/7 [==============================] - 0s 3ms/step - loss: 0.0015\n",
      "7/7 [==============================] - 0s 3ms/step - loss: 0.0013\n",
      "Generation - 31\n",
      "7/7 [==============================] - 0s 3ms/step - loss: 0.0017\n",
      "7/7 [==============================] - 0s 3ms/step - loss: 0.0015\n",
      "Generation - 32\n",
      "7/7 [==============================] - 0s 3ms/step - loss: 0.0016\n",
      "7/7 [==============================] - 0s 3ms/step - loss: 0.0013\n",
      "Generation - 33\n",
      "7/7 [==============================] - 0s 3ms/step - loss: 0.0020\n",
      "7/7 [==============================] - 0s 3ms/step - loss: 0.0017\n",
      "Generation - 34\n",
      "7/7 [==============================] - 0s 3ms/step - loss: 0.0020\n",
      "7/7 [==============================] - 0s 3ms/step - loss: 0.0017\n",
      "Generation - 35\n",
      "7/7 [==============================] - 0s 3ms/step - loss: 0.0022\n",
      "7/7 [==============================] - 0s 3ms/step - loss: 0.0017\n",
      "Generation - 36\n",
      "7/7 [==============================] - 0s 3ms/step - loss: 0.0017\n",
      "7/7 [==============================] - 0s 3ms/step - loss: 0.0020\n",
      "Generation - 37\n",
      "7/7 [==============================] - 0s 3ms/step - loss: 0.0013\n",
      "7/7 [==============================] - 0s 3ms/step - loss: 0.0016\n",
      "Generation - 38\n",
      "7/7 [==============================] - 0s 3ms/step - loss: 0.0014\n",
      "7/7 [==============================] - 0s 3ms/step - loss: 0.0026\n",
      "Generation - 39\n",
      "7/7 [==============================] - 0s 3ms/step - loss: 0.0015\n",
      "7/7 [==============================] - 0s 3ms/step - loss: 0.0020\n",
      "Generation - 40\n",
      "7/7 [==============================] - 0s 3ms/step - loss: 0.0014\n",
      "7/7 [==============================] - 0s 3ms/step - loss: 0.0017\n",
      "Generation - 41\n",
      "7/7 [==============================] - 0s 3ms/step - loss: 0.0018\n",
      "7/7 [==============================] - 0s 3ms/step - loss: 0.0014\n",
      "Generation - 42\n",
      "7/7 [==============================] - 0s 3ms/step - loss: 0.0019\n",
      "7/7 [==============================] - 0s 3ms/step - loss: 0.0032\n",
      "Generation - 43\n",
      "7/7 [==============================] - 0s 3ms/step - loss: 0.0014\n",
      "7/7 [==============================] - 0s 3ms/step - loss: 0.0022\n",
      "Generation - 44\n",
      "7/7 [==============================] - 0s 3ms/step - loss: 0.0196\n",
      "7/7 [==============================] - 0s 3ms/step - loss: 0.0015\n",
      "Generation - 45\n",
      "7/7 [==============================] - 0s 3ms/step - loss: 0.0014\n",
      "7/7 [==============================] - 0s 3ms/step - loss: 0.0017\n",
      "Generation - 46\n",
      "7/7 [==============================] - 0s 3ms/step - loss: 0.0016\n",
      "7/7 [==============================] - 0s 3ms/step - loss: 0.0014\n",
      "Generation - 47\n",
      "7/7 [==============================] - 0s 3ms/step - loss: 0.0014\n",
      "7/7 [==============================] - 0s 3ms/step - loss: 0.0024\n",
      "Generation - 48\n",
      "7/7 [==============================] - 0s 3ms/step - loss: 0.0013\n",
      "7/7 [==============================] - 0s 3ms/step - loss: 0.0014\n",
      "Generation - 49\n",
      "7/7 [==============================] - 0s 3ms/step - loss: 0.0014\n",
      "7/7 [==============================] - 0s 2ms/step - loss: 0.0017\n",
      "Generation - 50\n",
      "7/7 [==============================] - 0s 3ms/step - loss: 0.0015\n",
      "7/7 [==============================] - 0s 2ms/step - loss: 0.0018\n"
     ]
    }
   ],
   "source": [
    "# Do not increase this value\n",
    "generations = 50\n",
    "mutation_rate = 5\n",
    "\n",
    "time = timer(None)\n",
    "best_chromosome, best_fitness, max_fitness_each_gen = genetic_algorithm(generations, mutation_rate)\n",
    "time = timer(time)"
   ]
  },
  {
   "cell_type": "code",
   "execution_count": 12,
   "id": "3792c65f",
   "metadata": {
    "execution": {
     "iopub.execute_input": "2024-02-05T16:24:28.512033Z",
     "iopub.status.busy": "2024-02-05T16:24:28.511704Z",
     "iopub.status.idle": "2024-02-05T16:24:28.516720Z",
     "shell.execute_reply": "2024-02-05T16:24:28.515902Z"
    },
    "papermill": {
     "duration": 0.034761,
     "end_time": "2024-02-05T16:24:28.518674",
     "exception": false,
     "start_time": "2024-02-05T16:24:28.483913",
     "status": "completed"
    },
    "tags": []
   },
   "outputs": [
    {
     "name": "stdout",
     "output_type": "stream",
     "text": [
      "Best Chromosome: [13  6 86]\n",
      "Best Fitness: -0.0012146811932325363\n",
      "Time Taken: 0 hours 9 minutes and 0.4 seconds.\n"
     ]
    }
   ],
   "source": [
    "print(\"Best Chromosome:\", best_chromosome)\n",
    "print(\"Best Fitness:\", best_fitness)\n",
    "print(\"Time Taken:\", time)"
   ]
  },
  {
   "cell_type": "code",
   "execution_count": 13,
   "id": "183dbf72",
   "metadata": {
    "execution": {
     "iopub.execute_input": "2024-02-05T16:24:28.572812Z",
     "iopub.status.busy": "2024-02-05T16:24:28.572549Z",
     "iopub.status.idle": "2024-02-05T16:24:28.578566Z",
     "shell.execute_reply": "2024-02-05T16:24:28.577707Z"
    },
    "papermill": {
     "duration": 0.03508,
     "end_time": "2024-02-05T16:24:28.580435",
     "exception": false,
     "start_time": "2024-02-05T16:24:28.545355",
     "status": "completed"
    },
    "tags": []
   },
   "outputs": [
    {
     "data": {
      "text/plain": [
       "[-0.0012146811932325363,\n",
       " -0.0012146811932325363,\n",
       " -0.0012146811932325363,\n",
       " -0.0012146811932325363,\n",
       " -0.0012146811932325363,\n",
       " -0.0012146811932325363,\n",
       " -0.0012146811932325363,\n",
       " -0.0012146811932325363,\n",
       " -0.0012146811932325363,\n",
       " -0.0012146811932325363,\n",
       " -0.0012146811932325363,\n",
       " -0.0012146811932325363,\n",
       " -0.0012146811932325363,\n",
       " -0.0012146811932325363,\n",
       " -0.0012146811932325363,\n",
       " -0.0012146811932325363,\n",
       " -0.0012146811932325363,\n",
       " -0.0012146811932325363,\n",
       " -0.0012146811932325363,\n",
       " -0.0012146811932325363,\n",
       " -0.0012146811932325363,\n",
       " -0.0012146811932325363,\n",
       " -0.0012146811932325363,\n",
       " -0.0012146811932325363,\n",
       " -0.0012146811932325363,\n",
       " -0.0012146811932325363,\n",
       " -0.0012146811932325363,\n",
       " -0.0012146811932325363,\n",
       " -0.0012146811932325363,\n",
       " -0.0012146811932325363,\n",
       " -0.0012146811932325363,\n",
       " -0.0012146811932325363,\n",
       " -0.0012146811932325363,\n",
       " -0.0012146811932325363,\n",
       " -0.0012146811932325363,\n",
       " -0.0012146811932325363,\n",
       " -0.0012146811932325363,\n",
       " -0.0012146811932325363,\n",
       " -0.0012146811932325363,\n",
       " -0.0012146811932325363,\n",
       " -0.0012146811932325363,\n",
       " -0.0012146811932325363,\n",
       " -0.0012146811932325363,\n",
       " -0.0012146811932325363,\n",
       " -0.0012146811932325363,\n",
       " -0.0012146811932325363,\n",
       " -0.0012146811932325363,\n",
       " -0.0012146811932325363,\n",
       " -0.0012146811932325363,\n",
       " -0.0012146811932325363]"
      ]
     },
     "execution_count": 13,
     "metadata": {},
     "output_type": "execute_result"
    }
   ],
   "source": [
    "max_fitness_each_gen"
   ]
  },
  {
   "cell_type": "markdown",
   "id": "6487bae3",
   "metadata": {
    "papermill": {
     "duration": 0.026403,
     "end_time": "2024-02-05T16:24:28.633481",
     "exception": false,
     "start_time": "2024-02-05T16:24:28.607078",
     "status": "completed"
    },
    "tags": []
   },
   "source": [
    "## Re-Training Model with Best Parameter"
   ]
  },
  {
   "cell_type": "code",
   "execution_count": 14,
   "id": "31414ab2",
   "metadata": {
    "execution": {
     "iopub.execute_input": "2024-02-05T16:24:28.688324Z",
     "iopub.status.busy": "2024-02-05T16:24:28.687599Z",
     "iopub.status.idle": "2024-02-05T16:24:28.947911Z",
     "shell.execute_reply": "2024-02-05T16:24:28.946999Z"
    },
    "papermill": {
     "duration": 0.292292,
     "end_time": "2024-02-05T16:24:28.952543",
     "exception": false,
     "start_time": "2024-02-05T16:24:28.660251",
     "status": "completed"
    },
    "tags": []
   },
   "outputs": [
    {
     "name": "stdout",
     "output_type": "stream",
     "text": [
      "Model: \"sequential_1\"\n",
      "_________________________________________________________________\n",
      " Layer (type)                Output Shape              Param #   \n",
      "=================================================================\n",
      " lstm_1 (LSTM)               (None, 13)                780       \n",
      "                                                                 \n",
      " dense_1 (Dense)             (None, 1)                 14        \n",
      "                                                                 \n",
      "=================================================================\n",
      "Total params: 794\n",
      "Trainable params: 794\n",
      "Non-trainable params: 0\n",
      "_________________________________________________________________\n"
     ]
    }
   ],
   "source": [
    "model = Sequential()\n",
    "for i, units in enumerate(best_chromosome[:LSTM_Layer]):\n",
    "    model.add(LSTM(units, return_sequences=(i < LSTM_Layer - 1), input_shape=(WINDOW_SIZE, 1)))\n",
    "model.add(Dense(1))\n",
    "\n",
    "model.summary()"
   ]
  },
  {
   "cell_type": "code",
   "execution_count": 15,
   "id": "c6df8878",
   "metadata": {
    "execution": {
     "iopub.execute_input": "2024-02-05T16:24:29.010167Z",
     "iopub.status.busy": "2024-02-05T16:24:29.009873Z",
     "iopub.status.idle": "2024-02-05T16:24:43.382236Z",
     "shell.execute_reply": "2024-02-05T16:24:43.381461Z"
    },
    "papermill": {
     "duration": 14.403612,
     "end_time": "2024-02-05T16:24:43.384190",
     "exception": false,
     "start_time": "2024-02-05T16:24:28.980578",
     "status": "completed"
    },
    "tags": []
   },
   "outputs": [
    {
     "name": "stdout",
     "output_type": "stream",
     "text": [
      "Epoch 1/50\n",
      "50/50 [==============================] - 3s 13ms/step - loss: 0.0957 - mae: 0.2450 - root_mean_squared_error: 0.3094 - val_loss: 0.0137 - val_mae: 0.0996 - val_root_mean_squared_error: 0.1172\n",
      "Epoch 2/50\n",
      "50/50 [==============================] - 0s 5ms/step - loss: 0.0061 - mae: 0.0586 - root_mean_squared_error: 0.0782 - val_loss: 0.0121 - val_mae: 0.0955 - val_root_mean_squared_error: 0.1099\n",
      "Epoch 3/50\n",
      "50/50 [==============================] - 0s 5ms/step - loss: 0.0043 - mae: 0.0468 - root_mean_squared_error: 0.0656 - val_loss: 0.0060 - val_mae: 0.0665 - val_root_mean_squared_error: 0.0774\n",
      "Epoch 4/50\n",
      "50/50 [==============================] - 0s 5ms/step - loss: 0.0032 - mae: 0.0396 - root_mean_squared_error: 0.0567 - val_loss: 0.0032 - val_mae: 0.0484 - val_root_mean_squared_error: 0.0568\n",
      "Epoch 5/50\n",
      "50/50 [==============================] - 0s 5ms/step - loss: 0.0026 - mae: 0.0355 - root_mean_squared_error: 0.0513 - val_loss: 0.0019 - val_mae: 0.0366 - val_root_mean_squared_error: 0.0437\n",
      "Epoch 6/50\n",
      "50/50 [==============================] - 0s 5ms/step - loss: 0.0024 - mae: 0.0336 - root_mean_squared_error: 0.0495 - val_loss: 0.0012 - val_mae: 0.0271 - val_root_mean_squared_error: 0.0347\n",
      "Epoch 7/50\n",
      "50/50 [==============================] - 0s 5ms/step - loss: 0.0024 - mae: 0.0330 - root_mean_squared_error: 0.0489 - val_loss: 0.0011 - val_mae: 0.0254 - val_root_mean_squared_error: 0.0329\n",
      "Epoch 8/50\n",
      "50/50 [==============================] - 0s 5ms/step - loss: 0.0024 - mae: 0.0327 - root_mean_squared_error: 0.0485 - val_loss: 0.0012 - val_mae: 0.0276 - val_root_mean_squared_error: 0.0351\n",
      "Epoch 9/50\n",
      "50/50 [==============================] - 0s 5ms/step - loss: 0.0023 - mae: 0.0323 - root_mean_squared_error: 0.0479 - val_loss: 0.0012 - val_mae: 0.0270 - val_root_mean_squared_error: 0.0345\n",
      "Epoch 10/50\n",
      "50/50 [==============================] - 0s 5ms/step - loss: 0.0023 - mae: 0.0323 - root_mean_squared_error: 0.0476 - val_loss: 9.5495e-04 - val_mae: 0.0238 - val_root_mean_squared_error: 0.0309\n",
      "Epoch 11/50\n",
      "50/50 [==============================] - 0s 5ms/step - loss: 0.0022 - mae: 0.0318 - root_mean_squared_error: 0.0470 - val_loss: 9.6558e-04 - val_mae: 0.0240 - val_root_mean_squared_error: 0.0311\n",
      "Epoch 12/50\n",
      "50/50 [==============================] - 0s 5ms/step - loss: 0.0022 - mae: 0.0313 - root_mean_squared_error: 0.0467 - val_loss: 9.9608e-04 - val_mae: 0.0244 - val_root_mean_squared_error: 0.0316\n",
      "Epoch 13/50\n",
      "50/50 [==============================] - 0s 5ms/step - loss: 0.0022 - mae: 0.0315 - root_mean_squared_error: 0.0467 - val_loss: 0.0010 - val_mae: 0.0246 - val_root_mean_squared_error: 0.0317\n",
      "Epoch 14/50\n",
      "50/50 [==============================] - 0s 5ms/step - loss: 0.0021 - mae: 0.0309 - root_mean_squared_error: 0.0458 - val_loss: 9.0503e-04 - val_mae: 0.0233 - val_root_mean_squared_error: 0.0301\n",
      "Epoch 15/50\n",
      "50/50 [==============================] - 0s 5ms/step - loss: 0.0021 - mae: 0.0305 - root_mean_squared_error: 0.0454 - val_loss: 0.0011 - val_mae: 0.0268 - val_root_mean_squared_error: 0.0336\n",
      "Epoch 16/50\n",
      "50/50 [==============================] - 0s 5ms/step - loss: 0.0020 - mae: 0.0306 - root_mean_squared_error: 0.0450 - val_loss: 0.0012 - val_mae: 0.0274 - val_root_mean_squared_error: 0.0342\n",
      "Epoch 17/50\n",
      "50/50 [==============================] - 0s 5ms/step - loss: 0.0020 - mae: 0.0303 - root_mean_squared_error: 0.0446 - val_loss: 9.2309e-04 - val_mae: 0.0239 - val_root_mean_squared_error: 0.0304\n",
      "Epoch 18/50\n",
      "50/50 [==============================] - 0s 5ms/step - loss: 0.0019 - mae: 0.0295 - root_mean_squared_error: 0.0437 - val_loss: 8.0082e-04 - val_mae: 0.0219 - val_root_mean_squared_error: 0.0283\n",
      "Epoch 19/50\n",
      "50/50 [==============================] - 0s 5ms/step - loss: 0.0019 - mae: 0.0300 - root_mean_squared_error: 0.0439 - val_loss: 0.0011 - val_mae: 0.0258 - val_root_mean_squared_error: 0.0325\n",
      "Epoch 20/50\n",
      "50/50 [==============================] - 0s 5ms/step - loss: 0.0018 - mae: 0.0290 - root_mean_squared_error: 0.0428 - val_loss: 0.0015 - val_mae: 0.0320 - val_root_mean_squared_error: 0.0390\n",
      "Epoch 21/50\n",
      "50/50 [==============================] - 0s 5ms/step - loss: 0.0018 - mae: 0.0292 - root_mean_squared_error: 0.0426 - val_loss: 0.0012 - val_mae: 0.0278 - val_root_mean_squared_error: 0.0347\n",
      "Epoch 22/50\n",
      "50/50 [==============================] - 0s 5ms/step - loss: 0.0018 - mae: 0.0285 - root_mean_squared_error: 0.0420 - val_loss: 7.4782e-04 - val_mae: 0.0214 - val_root_mean_squared_error: 0.0273\n",
      "Epoch 23/50\n",
      "50/50 [==============================] - 0s 5ms/step - loss: 0.0017 - mae: 0.0283 - root_mean_squared_error: 0.0418 - val_loss: 0.0010 - val_mae: 0.0251 - val_root_mean_squared_error: 0.0318\n",
      "Epoch 24/50\n",
      "50/50 [==============================] - 0s 5ms/step - loss: 0.0017 - mae: 0.0284 - root_mean_squared_error: 0.0417 - val_loss: 0.0011 - val_mae: 0.0255 - val_root_mean_squared_error: 0.0324\n",
      "Epoch 25/50\n",
      "50/50 [==============================] - 0s 5ms/step - loss: 0.0017 - mae: 0.0277 - root_mean_squared_error: 0.0409 - val_loss: 6.9282e-04 - val_mae: 0.0210 - val_root_mean_squared_error: 0.0263\n",
      "Epoch 26/50\n",
      "50/50 [==============================] - 0s 5ms/step - loss: 0.0017 - mae: 0.0280 - root_mean_squared_error: 0.0410 - val_loss: 6.7623e-04 - val_mae: 0.0207 - val_root_mean_squared_error: 0.0260\n",
      "Epoch 27/50\n",
      "50/50 [==============================] - 0s 5ms/step - loss: 0.0017 - mae: 0.0279 - root_mean_squared_error: 0.0406 - val_loss: 6.8748e-04 - val_mae: 0.0204 - val_root_mean_squared_error: 0.0262\n",
      "Epoch 28/50\n",
      "50/50 [==============================] - 0s 5ms/step - loss: 0.0016 - mae: 0.0276 - root_mean_squared_error: 0.0406 - val_loss: 0.0014 - val_mae: 0.0302 - val_root_mean_squared_error: 0.0371\n",
      "Epoch 29/50\n",
      "50/50 [==============================] - 0s 5ms/step - loss: 0.0017 - mae: 0.0284 - root_mean_squared_error: 0.0409 - val_loss: 0.0012 - val_mae: 0.0276 - val_root_mean_squared_error: 0.0343\n",
      "Epoch 30/50\n",
      "50/50 [==============================] - 0s 5ms/step - loss: 0.0017 - mae: 0.0280 - root_mean_squared_error: 0.0408 - val_loss: 6.1744e-04 - val_mae: 0.0198 - val_root_mean_squared_error: 0.0248\n",
      "Epoch 31/50\n",
      "50/50 [==============================] - 0s 5ms/step - loss: 0.0016 - mae: 0.0269 - root_mean_squared_error: 0.0395 - val_loss: 9.8303e-04 - val_mae: 0.0247 - val_root_mean_squared_error: 0.0314\n",
      "Epoch 32/50\n",
      "50/50 [==============================] - 0s 5ms/step - loss: 0.0016 - mae: 0.0277 - root_mean_squared_error: 0.0402 - val_loss: 7.5598e-04 - val_mae: 0.0214 - val_root_mean_squared_error: 0.0275\n",
      "Epoch 33/50\n",
      "50/50 [==============================] - 0s 5ms/step - loss: 0.0015 - mae: 0.0269 - root_mean_squared_error: 0.0393 - val_loss: 7.1547e-04 - val_mae: 0.0208 - val_root_mean_squared_error: 0.0267\n",
      "Epoch 34/50\n",
      "50/50 [==============================] - 0s 5ms/step - loss: 0.0015 - mae: 0.0264 - root_mean_squared_error: 0.0391 - val_loss: 6.2818e-04 - val_mae: 0.0196 - val_root_mean_squared_error: 0.0251\n",
      "Epoch 35/50\n",
      "50/50 [==============================] - 0s 5ms/step - loss: 0.0015 - mae: 0.0263 - root_mean_squared_error: 0.0388 - val_loss: 8.2111e-04 - val_mae: 0.0223 - val_root_mean_squared_error: 0.0287\n",
      "Epoch 36/50\n",
      "50/50 [==============================] - 0s 5ms/step - loss: 0.0015 - mae: 0.0263 - root_mean_squared_error: 0.0388 - val_loss: 8.0892e-04 - val_mae: 0.0222 - val_root_mean_squared_error: 0.0284\n",
      "Epoch 37/50\n",
      "50/50 [==============================] - 0s 5ms/step - loss: 0.0015 - mae: 0.0269 - root_mean_squared_error: 0.0390 - val_loss: 8.1343e-04 - val_mae: 0.0223 - val_root_mean_squared_error: 0.0285\n",
      "Epoch 38/50\n",
      "50/50 [==============================] - 0s 5ms/step - loss: 0.0016 - mae: 0.0278 - root_mean_squared_error: 0.0399 - val_loss: 9.9996e-04 - val_mae: 0.0251 - val_root_mean_squared_error: 0.0316\n",
      "Epoch 39/50\n",
      "50/50 [==============================] - 0s 5ms/step - loss: 0.0015 - mae: 0.0269 - root_mean_squared_error: 0.0392 - val_loss: 5.7290e-04 - val_mae: 0.0188 - val_root_mean_squared_error: 0.0239\n",
      "Epoch 40/50\n",
      "50/50 [==============================] - 0s 5ms/step - loss: 0.0016 - mae: 0.0279 - root_mean_squared_error: 0.0399 - val_loss: 5.9552e-04 - val_mae: 0.0191 - val_root_mean_squared_error: 0.0244\n",
      "Epoch 41/50\n",
      "50/50 [==============================] - 0s 5ms/step - loss: 0.0015 - mae: 0.0272 - root_mean_squared_error: 0.0394 - val_loss: 6.9755e-04 - val_mae: 0.0205 - val_root_mean_squared_error: 0.0264\n",
      "Epoch 42/50\n",
      "50/50 [==============================] - 0s 5ms/step - loss: 0.0016 - mae: 0.0275 - root_mean_squared_error: 0.0394 - val_loss: 6.6975e-04 - val_mae: 0.0201 - val_root_mean_squared_error: 0.0259\n",
      "Epoch 43/50\n",
      "50/50 [==============================] - 0s 5ms/step - loss: 0.0015 - mae: 0.0264 - root_mean_squared_error: 0.0384 - val_loss: 6.3806e-04 - val_mae: 0.0197 - val_root_mean_squared_error: 0.0253\n",
      "Epoch 44/50\n",
      "50/50 [==============================] - 0s 5ms/step - loss: 0.0015 - mae: 0.0259 - root_mean_squared_error: 0.0383 - val_loss: 8.8336e-04 - val_mae: 0.0234 - val_root_mean_squared_error: 0.0297\n",
      "Epoch 45/50\n",
      "50/50 [==============================] - 0s 5ms/step - loss: 0.0015 - mae: 0.0260 - root_mean_squared_error: 0.0382 - val_loss: 0.0016 - val_mae: 0.0341 - val_root_mean_squared_error: 0.0403\n",
      "Epoch 46/50\n",
      "50/50 [==============================] - 0s 5ms/step - loss: 0.0015 - mae: 0.0266 - root_mean_squared_error: 0.0387 - val_loss: 5.6834e-04 - val_mae: 0.0186 - val_root_mean_squared_error: 0.0238\n",
      "Epoch 47/50\n",
      "50/50 [==============================] - 0s 5ms/step - loss: 0.0015 - mae: 0.0261 - root_mean_squared_error: 0.0382 - val_loss: 6.7132e-04 - val_mae: 0.0201 - val_root_mean_squared_error: 0.0259\n",
      "Epoch 48/50\n",
      "50/50 [==============================] - 0s 5ms/step - loss: 0.0015 - mae: 0.0260 - root_mean_squared_error: 0.0383 - val_loss: 6.2813e-04 - val_mae: 0.0195 - val_root_mean_squared_error: 0.0251\n",
      "Epoch 49/50\n",
      "50/50 [==============================] - 0s 5ms/step - loss: 0.0014 - mae: 0.0258 - root_mean_squared_error: 0.0379 - val_loss: 7.0349e-04 - val_mae: 0.0206 - val_root_mean_squared_error: 0.0265\n",
      "Epoch 50/50\n",
      "50/50 [==============================] - 0s 5ms/step - loss: 0.0014 - mae: 0.0260 - root_mean_squared_error: 0.0380 - val_loss: 7.0236e-04 - val_mae: 0.0206 - val_root_mean_squared_error: 0.0265\n"
     ]
    }
   ],
   "source": [
    "model.compile(loss='mean_squared_error',\n",
    "              metrics=['mae', RootMeanSquaredError()],\n",
    "              optimizer='adam')\n",
    "\n",
    "history = model.fit(X_train,\n",
    "                    y_train,\n",
    "                    epochs=50,\n",
    "                    batch_size=32,\n",
    "                    validation_split=0.1)"
   ]
  },
  {
   "cell_type": "code",
   "execution_count": 16,
   "id": "a68d29f1",
   "metadata": {
    "execution": {
     "iopub.execute_input": "2024-02-05T16:24:43.484513Z",
     "iopub.status.busy": "2024-02-05T16:24:43.484217Z",
     "iopub.status.idle": "2024-02-05T16:24:43.567095Z",
     "shell.execute_reply": "2024-02-05T16:24:43.566197Z"
    },
    "papermill": {
     "duration": 0.135002,
     "end_time": "2024-02-05T16:24:43.569078",
     "exception": false,
     "start_time": "2024-02-05T16:24:43.434076",
     "status": "completed"
    },
    "tags": []
   },
   "outputs": [
    {
     "name": "stdout",
     "output_type": "stream",
     "text": [
      "7/7 [==============================] - 0s 3ms/step - loss: 0.0010 - mae: 0.0241 - root_mean_squared_error: 0.0317\n"
     ]
    },
    {
     "data": {
      "text/plain": [
       "[0.0010058836778625846, 0.02414136938750744, 0.031715668737888336]"
      ]
     },
     "execution_count": 16,
     "metadata": {},
     "output_type": "execute_result"
    }
   ],
   "source": [
    "model.evaluate(X_test, y_test)"
   ]
  },
  {
   "cell_type": "markdown",
   "id": "807d8e61",
   "metadata": {
    "papermill": {
     "duration": 0.049752,
     "end_time": "2024-02-05T16:24:43.668782",
     "exception": false,
     "start_time": "2024-02-05T16:24:43.619030",
     "status": "completed"
    },
    "tags": []
   },
   "source": [
    "## Model Evaluation"
   ]
  },
  {
   "cell_type": "code",
   "execution_count": 17,
   "id": "089e5164",
   "metadata": {
    "execution": {
     "iopub.execute_input": "2024-02-05T16:24:43.770731Z",
     "iopub.status.busy": "2024-02-05T16:24:43.770043Z",
     "iopub.status.idle": "2024-02-05T16:24:43.992743Z",
     "shell.execute_reply": "2024-02-05T16:24:43.991909Z"
    },
    "papermill": {
     "duration": 0.276291,
     "end_time": "2024-02-05T16:24:43.994693",
     "exception": false,
     "start_time": "2024-02-05T16:24:43.718402",
     "status": "completed"
    },
    "tags": []
   },
   "outputs": [
    {
     "data": {
      "image/png": "[encoded data removed]",
      "text/plain": [
       "<Figure size 640x480 with 1 Axes>"
      ]
     },
     "metadata": {},
     "output_type": "display_data"
    }
   ],
   "source": [
    "plt.plot(history.history['loss'])\n",
    "plt.plot(history.history['val_loss'])\n",
    "plt.title(f'{SHEET_NAME} Model Loss', fontsize=15)\n",
    "plt.ylabel('loss')\n",
    "plt.xlabel('epoch')\n",
    "plt.legend(['train', 'test'])\n",
    "plt.show()"
   ]
  },
  {
   "cell_type": "code",
   "execution_count": 18,
   "id": "ca05b0b5",
   "metadata": {
    "execution": {
     "iopub.execute_input": "2024-02-05T16:24:44.096299Z",
     "iopub.status.busy": "2024-02-05T16:24:44.096024Z",
     "iopub.status.idle": "2024-02-05T16:24:44.532738Z",
     "shell.execute_reply": "2024-02-05T16:24:44.531983Z"
    },
    "papermill": {
     "duration": 0.489814,
     "end_time": "2024-02-05T16:24:44.534735",
     "exception": false,
     "start_time": "2024-02-05T16:24:44.044921",
     "status": "completed"
    },
    "tags": []
   },
   "outputs": [
    {
     "name": "stdout",
     "output_type": "stream",
     "text": [
      "7/7 [==============================] - 0s 2ms/step\n"
     ]
    }
   ],
   "source": [
    "y_hat = model.predict(X_test)\n",
    "y_test_inverse = scaler.inverse_transform(y_test)\n",
    "y_hat_inverse = scaler.inverse_transform(y_hat)"
   ]
  },
  {
   "cell_type": "code",
   "execution_count": 19,
   "id": "d2e5a6ea",
   "metadata": {
    "execution": {
     "iopub.execute_input": "2024-02-05T16:24:44.637046Z",
     "iopub.status.busy": "2024-02-05T16:24:44.636704Z",
     "iopub.status.idle": "2024-02-05T16:24:44.890770Z",
     "shell.execute_reply": "2024-02-05T16:24:44.889892Z"
    },
    "papermill": {
     "duration": 0.307082,
     "end_time": "2024-02-05T16:24:44.892653",
     "exception": false,
     "start_time": "2024-02-05T16:24:44.585571",
     "status": "completed"
    },
    "tags": []
   },
   "outputs": [
    {
     "data": {
      "image/png": "[encoded data removed]",
      "text/plain": [
       "<Figure size 640x480 with 1 Axes>"
      ]
     },
     "metadata": {},
     "output_type": "display_data"
    }
   ],
   "source": [
    "plt.plot(y_test_inverse, label=\"Actual Price\", color='green')\n",
    "plt.plot(y_hat_inverse, label=\"Predicted Price\", color='red')\n",
    " \n",
    "plt.title(f'{SHEET_NAME} Price Prediction\\nLSTM = {LSTM_Layer}, Split Data = {SPLIT}, Window = {WINDOW_SIZE}', fontsize=15)\n",
    "plt.xlabel('Time [days]')\n",
    "plt.ylabel('Price')\n",
    "plt.legend(loc='best')\n",
    " \n",
    "plt.show()"
   ]
  },
  {
   "cell_type": "code",
   "execution_count": 20,
   "id": "4fefeff4",
   "metadata": {
    "execution": {
     "iopub.execute_input": "2024-02-05T16:24:44.996307Z",
     "iopub.status.busy": "2024-02-05T16:24:44.996021Z",
     "iopub.status.idle": "2024-02-05T16:24:45.004754Z",
     "shell.execute_reply": "2024-02-05T16:24:45.003937Z"
    },
    "papermill": {
     "duration": 0.06243,
     "end_time": "2024-02-05T16:24:45.006552",
     "exception": false,
     "start_time": "2024-02-05T16:24:44.944122",
     "status": "completed"
    },
    "tags": []
   },
   "outputs": [
    {
     "name": "stdout",
     "output_type": "stream",
     "text": [
      "LSTM = 1, Split Data = 0.9, Window = 10\n",
      "\n",
      "----------------- Normalized Error -----------------\n",
      "Mean Absolute Error for prediction : 0.02414137022231186\n",
      "Mean Squared Error for prediction : 0.0010058837336249312\n",
      "Root Mean Squared Error for prediction : 0.031715670158849414\n",
      "\n",
      "----------------- Actual Error -----------------\n",
      "Mean Absolute Error for prediction : 62.194180282360385\n",
      "Mean Squared Error for prediction : 6676.116406385554\n",
      "Root Mean Squared Error for prediction : 81.70750520231023\n"
     ]
    }
   ],
   "source": [
    "def matrices(actual, predicted):\n",
    "    mse = mean_squared_error(actual, predicted)\n",
    "    mae = mean_absolute_error(actual, predicted)\n",
    "    rmse = np.sqrt(mse)\n",
    "    print(\"Mean Absolute Error for prediction :\", mae)\n",
    "    print(\"Mean Squared Error for prediction :\", mse)\n",
    "    print(\"Root Mean Squared Error for prediction :\", rmse)\n",
    "    return mae, mse, rmse\n",
    "\n",
    "print(f\"LSTM = {LSTM_Layer}, Split Data = {SPLIT}, Window = {WINDOW_SIZE}\")\n",
    "print(\"\\n----------------- Normalized Error -----------------\")\n",
    "mae, mse, rmse = matrices(y_test, y_hat)\n",
    "print(\"\\n----------------- Actual Error -----------------\")\n",
    "mae_inverse, mse_inverse, rmse_inverse = matrices(y_test_inverse, y_hat_inverse)"
   ]
  }
 ],
 "metadata": {
  "kaggle": {
   "accelerator": "gpu",
   "dataSources": [],
   "dockerImageVersionId": 30498,
   "isGpuEnabled": true,
   "isInternetEnabled": true,
   "language": "python",
   "sourceType": "notebook"
  },
  "kernelspec": {
   "display_name": "Python 3",
   "language": "python",
   "name": "python3"
  },
  "language_info": {
   "codemirror_mode": {
    "name": "ipython",
    "version": 3
   },
   "file_extension": ".py",
   "mimetype": "text/x-python",
   "name": "python",
   "nbconvert_exporter": "python",
   "pygments_lexer": "ipython3",
   "version": "3.10.10"
  },
  "papermill": {
   "default_parameters": {},
   "duration": 579.922604,
   "end_time": "2024-02-05T16:24:47.892623",
   "environment_variables": {},
   "exception": null,
   "input_path": "__notebook__.ipynb",
   "output_path": "__notebook__.ipynb",
   "parameters": {},
   "start_time": "2024-02-05T16:15:07.970019",
   "version": "2.4.0"
  }
 },
 "nbformat": 4,
 "nbformat_minor": 5
}
