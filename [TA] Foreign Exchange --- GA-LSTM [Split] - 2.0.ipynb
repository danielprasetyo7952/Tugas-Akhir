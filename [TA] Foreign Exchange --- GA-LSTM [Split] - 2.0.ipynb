{
 "cells": [
  {
   "cell_type": "code",
   "execution_count": 1,
   "id": "73dc898a",
   "metadata": {
    "execution": {
     "iopub.execute_input": "2024-02-05T17:09:42.704193Z",
     "iopub.status.busy": "2024-02-05T17:09:42.703852Z",
     "iopub.status.idle": "2024-02-05T17:09:51.426748Z",
     "shell.execute_reply": "2024-02-05T17:09:51.425941Z"
    },
    "papermill": {
     "duration": 8.733551,
     "end_time": "2024-02-05T17:09:51.429122",
     "exception": false,
     "start_time": "2024-02-05T17:09:42.695571",
     "status": "completed"
    },
    "tags": []
   },
   "outputs": [
    {
     "name": "stderr",
     "output_type": "stream",
     "text": [
      "/opt/conda/lib/python3.10/site-packages/tensorflow_io/python/ops/__init__.py:98: UserWarning: unable to load libtensorflow_io_plugins.so: unable to open file: libtensorflow_io_plugins.so, from paths: ['/opt/conda/lib/python3.10/site-packages/tensorflow_io/python/ops/libtensorflow_io_plugins.so']\n",
      "caused by: ['/opt/conda/lib/python3.10/site-packages/tensorflow_io/python/ops/libtensorflow_io_plugins.so: undefined symbol: _ZN3tsl6StatusC1EN10tensorflow5error4CodeESt17basic_string_viewIcSt11char_traitsIcEENS_14SourceLocationE']\n",
      "  warnings.warn(f\"unable to load libtensorflow_io_plugins.so: {e}\")\n",
      "/opt/conda/lib/python3.10/site-packages/tensorflow_io/python/ops/__init__.py:104: UserWarning: file system plugins are not loaded: unable to open file: libtensorflow_io.so, from paths: ['/opt/conda/lib/python3.10/site-packages/tensorflow_io/python/ops/libtensorflow_io.so']\n",
      "caused by: ['/opt/conda/lib/python3.10/site-packages/tensorflow_io/python/ops/libtensorflow_io.so: undefined symbol: _ZTVN10tensorflow13GcsFileSystemE']\n",
      "  warnings.warn(f\"file system plugins are not loaded: {e}\")\n"
     ]
    }
   ],
   "source": [
    "import pandas as pd\n",
    "import numpy as np\n",
    "import tensorflow as tf\n",
    "import matplotlib.pyplot as plt\n",
    "import datetime, pytz\n",
    "\n",
    "from keras.models import Sequential\n",
    "from keras.layers import LSTM, Dense\n",
    "from keras.metrics import RootMeanSquaredError\n",
    "\n",
    "from sklearn.preprocessing import MinMaxScaler\n",
    "from sklearn.metrics import mean_squared_error, mean_absolute_error"
   ]
  },
  {
   "cell_type": "markdown",
   "id": "e6ee022b",
   "metadata": {
    "papermill": {
     "duration": 0.006315,
     "end_time": "2024-02-05T17:09:51.442552",
     "exception": false,
     "start_time": "2024-02-05T17:09:51.436237",
     "status": "completed"
    },
    "tags": []
   },
   "source": [
    "## Hyperparameter"
   ]
  },
  {
   "cell_type": "code",
   "execution_count": 2,
   "id": "9f1f447a",
   "metadata": {
    "execution": {
     "iopub.execute_input": "2024-02-05T17:09:51.456714Z",
     "iopub.status.busy": "2024-02-05T17:09:51.456090Z",
     "iopub.status.idle": "2024-02-05T17:09:51.460985Z",
     "shell.execute_reply": "2024-02-05T17:09:51.460193Z"
    },
    "papermill": {
     "duration": 0.01395,
     "end_time": "2024-02-05T17:09:51.462810",
     "exception": false,
     "start_time": "2024-02-05T17:09:51.448860",
     "status": "completed"
    },
    "tags": []
   },
   "outputs": [],
   "source": [
    "# Google Spreadsheet ID\n",
    "SHEET_ID = '1JDNv_mArl-GPIpxuWS5GxgVEwvjXocS1MrXGc6TYs8M'\n",
    "SHEET_NAME = 'USD/IDR' # USD/IDR, EUR/IDR, SGD/IDR\n",
    "\n",
    "SEQ_LEN = 21 # 6, 11, 21\n",
    "SPLIT = 0.90 # 0.80, 0.90\n",
    "LSTM_Layer = 3 # 1, 2, 3\n",
    "WINDOW_SIZE = SEQ_LEN - 1"
   ]
  },
  {
   "cell_type": "code",
   "execution_count": 3,
   "id": "d0e832fe",
   "metadata": {
    "execution": {
     "iopub.execute_input": "2024-02-05T17:09:51.476612Z",
     "iopub.status.busy": "2024-02-05T17:09:51.476317Z",
     "iopub.status.idle": "2024-02-05T17:09:52.646798Z",
     "shell.execute_reply": "2024-02-05T17:09:52.645756Z"
    },
    "papermill": {
     "duration": 1.179683,
     "end_time": "2024-02-05T17:09:52.648881",
     "exception": false,
     "start_time": "2024-02-05T17:09:51.469198",
     "status": "completed"
    },
    "tags": []
   },
   "outputs": [
    {
     "name": "stdout",
     "output_type": "stream",
     "text": [
      "<class 'pandas.core.frame.DataFrame'>\n",
      "RangeIndex: 1977 entries, 0 to 1976\n",
      "Data columns (total 2 columns):\n",
      " #   Column  Non-Null Count  Dtype         \n",
      "---  ------  --------------  -----         \n",
      " 0   Date    1977 non-null   datetime64[ns]\n",
      " 1   Close   1977 non-null   float64       \n",
      "dtypes: datetime64[ns](1), float64(1)\n",
      "memory usage: 31.0 KB\n"
     ]
    }
   ],
   "source": [
    "url = f'https://docs.google.com/spreadsheets/d/{SHEET_ID}/gviz/tq?tqx=out:csv&sheet={SHEET_NAME}'\n",
    "data = pd.read_csv(url)\n",
    "\n",
    "# Convert Date columns to datetime format\n",
    "data['Date'] = pd.to_datetime(data['Date'], format='%d/%m/%Y %H:%M:%S')\n",
    "data.info()"
   ]
  },
  {
   "cell_type": "markdown",
   "id": "7f06332e",
   "metadata": {
    "papermill": {
     "duration": 0.006502,
     "end_time": "2024-02-05T17:09:52.662128",
     "exception": false,
     "start_time": "2024-02-05T17:09:52.655626",
     "status": "completed"
    },
    "tags": []
   },
   "source": [
    "## Preprocessing"
   ]
  },
  {
   "cell_type": "code",
   "execution_count": 4,
   "id": "e4f5efd7",
   "metadata": {
    "execution": {
     "iopub.execute_input": "2024-02-05T17:09:52.676483Z",
     "iopub.status.busy": "2024-02-05T17:09:52.676163Z",
     "iopub.status.idle": "2024-02-05T17:09:52.687234Z",
     "shell.execute_reply": "2024-02-05T17:09:52.686382Z"
    },
    "papermill": {
     "duration": 0.02101,
     "end_time": "2024-02-05T17:09:52.689733",
     "exception": false,
     "start_time": "2024-02-05T17:09:52.668723",
     "status": "completed"
    },
    "tags": []
   },
   "outputs": [
    {
     "name": "stderr",
     "output_type": "stream",
     "text": [
      "/tmp/ipykernel_26/2274720815.py:7: SettingWithCopyWarning: \n",
      "A value is trying to be set on a copy of a slice from a DataFrame\n",
      "\n",
      "See the caveats in the documentation: https://pandas.pydata.org/pandas-docs/stable/user_guide/indexing.html#returning-a-view-versus-a-copy\n",
      "  data[data < lower_bound] = lower_bound\n",
      "/tmp/ipykernel_26/2274720815.py:8: SettingWithCopyWarning: \n",
      "A value is trying to be set on a copy of a slice from a DataFrame\n",
      "\n",
      "See the caveats in the documentation: https://pandas.pydata.org/pandas-docs/stable/user_guide/indexing.html#returning-a-view-versus-a-copy\n",
      "  data[data > upper_bound] = upper_bound\n"
     ]
    }
   ],
   "source": [
    "def replace_outliers(data):\n",
    "    Q1 = np.percentile(data, 25)\n",
    "    Q3 = np.percentile(data, 75)\n",
    "    IQR = Q3 - Q1\n",
    "    lower_bound = Q1 - 1.5 * IQR\n",
    "    upper_bound = Q3 + 1.5 * IQR\n",
    "    data[data < lower_bound] = lower_bound\n",
    "    data[data > upper_bound] = upper_bound\n",
    "    return data\n",
    "\n",
    "data['Close'] = replace_outliers(data['Close'])"
   ]
  },
  {
   "cell_type": "code",
   "execution_count": 5,
   "id": "3d73fcea",
   "metadata": {
    "execution": {
     "iopub.execute_input": "2024-02-05T17:09:52.704257Z",
     "iopub.status.busy": "2024-02-05T17:09:52.703981Z",
     "iopub.status.idle": "2024-02-05T17:09:52.935764Z",
     "shell.execute_reply": "2024-02-05T17:09:52.934867Z"
    },
    "papermill": {
     "duration": 0.24122,
     "end_time": "2024-02-05T17:09:52.937730",
     "exception": false,
     "start_time": "2024-02-05T17:09:52.696510",
     "status": "completed"
    },
    "tags": []
   },
   "outputs": [
    {
     "data": {
      "image/png": "[encoded data removed]",
      "text/plain": [
       "<Figure size 640x480 with 1 Axes>"
      ]
     },
     "metadata": {},
     "output_type": "display_data"
    }
   ],
   "source": [
    "# Boxplot for outlier detection\n",
    "plt.boxplot(data['Close'])\n",
    "plt.title(f\"{SHEET_NAME} Boxplot for Outlier Detection\")\n",
    "plt.xlabel(\"Close\")\n",
    "plt.ylabel(\"Values\")\n",
    "plt.show()"
   ]
  },
  {
   "cell_type": "code",
   "execution_count": 6,
   "id": "c517c367",
   "metadata": {
    "execution": {
     "iopub.execute_input": "2024-02-05T17:09:52.953426Z",
     "iopub.status.busy": "2024-02-05T17:09:52.953139Z",
     "iopub.status.idle": "2024-02-05T17:09:52.960252Z",
     "shell.execute_reply": "2024-02-05T17:09:52.959417Z"
    },
    "papermill": {
     "duration": 0.017194,
     "end_time": "2024-02-05T17:09:52.962091",
     "exception": false,
     "start_time": "2024-02-05T17:09:52.944897",
     "status": "completed"
    },
    "tags": []
   },
   "outputs": [
    {
     "data": {
      "text/plain": [
       "(1977, 1)"
      ]
     },
     "execution_count": 6,
     "metadata": {},
     "output_type": "execute_result"
    }
   ],
   "source": [
    "scaler = MinMaxScaler()\n",
    "close_price = data.Close.values.reshape(-1, 1)\n",
    "scaled_close = scaler.fit_transform(close_price)\n",
    "scaled_close.shape"
   ]
  },
  {
   "cell_type": "code",
   "execution_count": 7,
   "id": "1d1e5ca6",
   "metadata": {
    "execution": {
     "iopub.execute_input": "2024-02-05T17:09:52.977493Z",
     "iopub.status.busy": "2024-02-05T17:09:52.977208Z",
     "iopub.status.idle": "2024-02-05T17:09:52.986684Z",
     "shell.execute_reply": "2024-02-05T17:09:52.985878Z"
    },
    "papermill": {
     "duration": 0.019341,
     "end_time": "2024-02-05T17:09:52.988621",
     "exception": false,
     "start_time": "2024-02-05T17:09:52.969280",
     "status": "completed"
    },
    "tags": []
   },
   "outputs": [],
   "source": [
    "def to_sequences(data, seq_len):\n",
    "    d = []\n",
    "    for index in range(len(data) - seq_len):\n",
    "        d.append(data[index: index + seq_len])\n",
    "    return np.array(d)\n",
    "\n",
    "def preprocess(data_raw, seq_len, train_split):\n",
    "    data = to_sequences(data_raw, seq_len)\n",
    "    num_train = int(train_split * data.shape[0])\n",
    "    X_train = data[:num_train, :-1, :]\n",
    "    y_train = data[:num_train, -1, :]\n",
    "    X_test = data[num_train:, :-1, :]\n",
    "    y_test = data[num_train:, -1, :]\n",
    "    return X_train, y_train, X_test, y_test\n",
    "\n",
    "X_train, y_train, X_test, y_test = preprocess(scaled_close, SEQ_LEN, train_split = SPLIT)"
   ]
  },
  {
   "cell_type": "markdown",
   "id": "f959bcff",
   "metadata": {
    "papermill": {
     "duration": 0.006913,
     "end_time": "2024-02-05T17:09:53.002798",
     "exception": false,
     "start_time": "2024-02-05T17:09:52.995885",
     "status": "completed"
    },
    "tags": []
   },
   "source": [
    "## Genetic Algorithm"
   ]
  },
  {
   "cell_type": "code",
   "execution_count": 8,
   "id": "27a7befe",
   "metadata": {
    "execution": {
     "iopub.execute_input": "2024-02-05T17:09:53.018036Z",
     "iopub.status.busy": "2024-02-05T17:09:53.017787Z",
     "iopub.status.idle": "2024-02-05T17:09:53.023124Z",
     "shell.execute_reply": "2024-02-05T17:09:53.022264Z"
    },
    "papermill": {
     "duration": 0.015056,
     "end_time": "2024-02-05T17:09:53.024961",
     "exception": false,
     "start_time": "2024-02-05T17:09:53.009905",
     "status": "completed"
    },
    "tags": []
   },
   "outputs": [],
   "source": [
    "def decimal_to_binary(chromosome: list):\n",
    "    binary_string = ''.join([bin(x)[2:].zfill(8) for x in chromosome])\n",
    "    return binary_string\n",
    "\n",
    "def binary_to_decimal(binary_string: str):\n",
    "    decimal_array = [int(binary, 2) for binary in [binary_string[i:i+8] for i in range(0, len(binary_string), 8)]]\n",
    "    return decimal_array"
   ]
  },
  {
   "cell_type": "code",
   "execution_count": 9,
   "id": "2c60a03d",
   "metadata": {
    "execution": {
     "iopub.execute_input": "2024-02-05T17:09:53.040525Z",
     "iopub.status.busy": "2024-02-05T17:09:53.040238Z",
     "iopub.status.idle": "2024-02-05T17:09:53.058587Z",
     "shell.execute_reply": "2024-02-05T17:09:53.057769Z"
    },
    "papermill": {
     "duration": 0.028388,
     "end_time": "2024-02-05T17:09:53.060531",
     "exception": false,
     "start_time": "2024-02-05T17:09:53.032143",
     "status": "completed"
    },
    "tags": []
   },
   "outputs": [],
   "source": [
    "# Genetic Algorithm\n",
    "def genetic_algorithm(generations, mutation_rate):\n",
    "    print(f\"Inizialized Population...\")\n",
    "    population = np.random.randint(1, high=251, size=(10, 3))\n",
    "    fitness_scores = np.array([fitness_function(chromosome) for chromosome in population])\n",
    "    max_fitness_each_gen = []\n",
    "    \n",
    "    for generation in range(generations):\n",
    "        print(f\"Generation - {generation + 1}\")\n",
    "        max_fitness_each_gen.append(np.max(fitness_scores))\n",
    "        \n",
    "        chromosome_1 = selection(population, fitness_scores)\n",
    "        chromosome_2 = selection(population, fitness_scores)\n",
    "        \n",
    "        if generation % mutation_rate == 0:\n",
    "            chromosome_1 = mutate(chromosome_1)\n",
    "            chromosome_2 = mutate(chromosome_2)\n",
    "        else:\n",
    "            chromosome_1, chromosome_2 = crossover(chromosome_1, chromosome_2)\n",
    "\n",
    "        fitness_score_1 = fitness_function(chromosome_1)\n",
    "        fitness_score_2 = fitness_function(chromosome_2)\n",
    "        \n",
    "        worst_index = np.argmin(fitness_scores)\n",
    "        worst_fitness = fitness_scores[worst_index]\n",
    "\n",
    "        if fitness_score_1 > worst_fitness:\n",
    "            population[worst_index] = chromosome_1\n",
    "            fitness_scores[worst_index] = fitness_score_1\n",
    "            worst_index = np.argmin(fitness_scores)\n",
    "            worst_fitness = fitness_scores[worst_index]\n",
    "\n",
    "        if fitness_score_2 > worst_fitness:\n",
    "            population[worst_index] = chromosome_2\n",
    "            fitness_scores[worst_index] = fitness_score_2\n",
    "        \n",
    "        # Release some memory\n",
    "        del chromosome_1, chromosome_2\n",
    "        del fitness_score_1, fitness_score_2\n",
    "        del worst_index, worst_fitness\n",
    "            \n",
    "    best_chromosome = population[np.argmax(fitness_scores)]\n",
    "    best_fitness = np.max(fitness_scores)\n",
    "    \n",
    "    return best_chromosome, best_fitness, max_fitness_each_gen\n",
    "\n",
    "# Selection (Tournament selection)\n",
    "def selection(population, fitness_scores, tournament_size=3):\n",
    "    indices = np.random.randint(len(population), size=tournament_size)\n",
    "    tournament = population[indices]\n",
    "    tournament_fitness = fitness_scores[indices]\n",
    "    return tournament[np.argmax(tournament_fitness)]\n",
    "\n",
    "# Crossover (Single-point crossover)\n",
    "def crossover(parent_1: list, parent_2: list):\n",
    "    parent_1 = decimal_to_binary(parent_1)\n",
    "    parent_2 = decimal_to_binary(parent_2)\n",
    "    \n",
    "    crossover_point = np.random.randint(1, len(parent_1))\n",
    "    offspring_1 = parent_1[:crossover_point] + parent_2[crossover_point:]\n",
    "    offspring_2 = parent_2[:crossover_point] + parent_1[crossover_point:]\n",
    "    \n",
    "    offspring_1 = binary_to_decimal(offspring_1)\n",
    "    offspring_2 = binary_to_decimal(offspring_2)\n",
    "    return offspring_1, offspring_2\n",
    "\n",
    "# Mutation (Swap Mutation)\n",
    "def mutate(chromosome: list):\n",
    "    chromosome = decimal_to_binary(chromosome)\n",
    "    \n",
    "    chromosome_list = list(chromosome)\n",
    "    i = np.random.randint(len(chromosome_list), size=2)\n",
    "    chromosome_list[i[0]], chromosome_list[i[1]] = chromosome_list[i[1]], chromosome_list[i[0]]\n",
    "    \n",
    "    chromosome_list = ''.join(chromosome_list)\n",
    "    chromosome = binary_to_decimal(chromosome_list)\n",
    "    return chromosome\n",
    "\n",
    "# Fitness Function\n",
    "def fitness_function(chromosome: list):\n",
    "    lstm_units = [int(chromosome[i]) or default for i, default in enumerate([128, 64, 32])]\n",
    "\n",
    "    # Build the LSTM model\n",
    "    tf.keras.backend.clear_session()\n",
    "    model = Sequential()\n",
    "    for i, units in enumerate(lstm_units[:LSTM_Layer]):\n",
    "        model.add(LSTM(units, return_sequences=(i < LSTM_Layer - 1), input_shape=(WINDOW_SIZE, 1)))\n",
    "    model.add(Dense(1))\n",
    "    \n",
    "    # Compile and train the model\n",
    "    model.compile(loss='mean_squared_error',\n",
    "                  optimizer='adam')\n",
    "    model.fit(X_train, y_train,\n",
    "              epochs=10,\n",
    "              batch_size=32,\n",
    "              verbose=0,\n",
    "              validation_split=0.1)\n",
    "\n",
    "    # Evaluate the model\n",
    "    loss = model.evaluate(X_test, y_test)\n",
    "\n",
    "    # Return the negative value of the loss as the fitness score\n",
    "    return -loss"
   ]
  },
  {
   "cell_type": "code",
   "execution_count": 10,
   "id": "53a9a55d",
   "metadata": {
    "execution": {
     "iopub.execute_input": "2024-02-05T17:09:53.076061Z",
     "iopub.status.busy": "2024-02-05T17:09:53.075445Z",
     "iopub.status.idle": "2024-02-05T17:09:53.081014Z",
     "shell.execute_reply": "2024-02-05T17:09:53.080231Z"
    },
    "papermill": {
     "duration": 0.015217,
     "end_time": "2024-02-05T17:09:53.082815",
     "exception": false,
     "start_time": "2024-02-05T17:09:53.067598",
     "status": "completed"
    },
    "tags": []
   },
   "outputs": [],
   "source": [
    "import typing\n",
    "from datetime import datetime\n",
    "\n",
    "def timer(start_time: datetime = None) -> \"typing.Union[datetime.datetime, str]\":\n",
    "    if not start_time:\n",
    "        start_time = datetime.now()\n",
    "        return start_time\n",
    "    elif start_time:\n",
    "        thour, temp_sec = divmod((datetime.now() - start_time).total_seconds(), 3600)\n",
    "        tmin, tsec = divmod(temp_sec, 60)\n",
    "        return \"%i hours %i minutes and %s seconds.\" % (\n",
    "            thour,\n",
    "            tmin,\n",
    "            round(tsec, 2),\n",
    "        )"
   ]
  },
  {
   "cell_type": "code",
   "execution_count": 11,
   "id": "a5538365",
   "metadata": {
    "execution": {
     "iopub.execute_input": "2024-02-05T17:09:53.098468Z",
     "iopub.status.busy": "2024-02-05T17:09:53.098194Z",
     "iopub.status.idle": "2024-02-05T17:29:56.186760Z",
     "shell.execute_reply": "2024-02-05T17:29:56.185820Z"
    },
    "papermill": {
     "duration": 1203.098722,
     "end_time": "2024-02-05T17:29:56.188757",
     "exception": false,
     "start_time": "2024-02-05T17:09:53.090035",
     "status": "completed"
    },
    "tags": []
   },
   "outputs": [
    {
     "name": "stdout",
     "output_type": "stream",
     "text": [
      "Inizialized Population...\n",
      "7/7 [==============================] - 0s 4ms/step - loss: 0.0022\n",
      "7/7 [==============================] - 0s 4ms/step - loss: 0.0015\n",
      "7/7 [==============================] - 0s 4ms/step - loss: 0.0046\n",
      "7/7 [==============================] - 0s 4ms/step - loss: 0.0029\n",
      "7/7 [==============================] - 0s 4ms/step - loss: 0.0023\n",
      "7/7 [==============================] - 0s 4ms/step - loss: 0.0029\n",
      "7/7 [==============================] - 0s 4ms/step - loss: 0.0020\n",
      "7/7 [==============================] - 0s 4ms/step - loss: 0.0014\n",
      "7/7 [==============================] - 0s 5ms/step - loss: 0.0020\n",
      "7/7 [==============================] - 0s 4ms/step - loss: 0.0031\n",
      "Generation - 1\n",
      "7/7 [==============================] - 0s 4ms/step - loss: 0.0038\n",
      "7/7 [==============================] - 0s 4ms/step - loss: 0.0032\n",
      "Generation - 2\n",
      "7/7 [==============================] - 0s 4ms/step - loss: 0.0023\n",
      "7/7 [==============================] - 0s 4ms/step - loss: 0.0026\n",
      "Generation - 3\n",
      "7/7 [==============================] - 0s 4ms/step - loss: 0.0015\n",
      "7/7 [==============================] - 0s 5ms/step - loss: 0.0018\n",
      "Generation - 4\n",
      "7/7 [==============================] - 0s 4ms/step - loss: 0.0038\n",
      "7/7 [==============================] - 0s 5ms/step - loss: 0.0033\n",
      "Generation - 5\n",
      "7/7 [==============================] - 0s 4ms/step - loss: 0.0015\n",
      "7/7 [==============================] - 0s 4ms/step - loss: 0.0020\n",
      "Generation - 6\n",
      "7/7 [==============================] - 0s 4ms/step - loss: 0.0013\n",
      "7/7 [==============================] - 0s 4ms/step - loss: 0.0017\n",
      "Generation - 7\n",
      "7/7 [==============================] - 0s 4ms/step - loss: 0.0024\n",
      "7/7 [==============================] - 0s 4ms/step - loss: 0.0030\n",
      "Generation - 8\n",
      "7/7 [==============================] - 0s 4ms/step - loss: 0.0017\n",
      "7/7 [==============================] - 0s 4ms/step - loss: 0.0048\n",
      "Generation - 9\n",
      "7/7 [==============================] - 0s 4ms/step - loss: 0.0014\n",
      "7/7 [==============================] - 0s 4ms/step - loss: 0.0029\n",
      "Generation - 10\n",
      "7/7 [==============================] - 0s 4ms/step - loss: 0.0015\n",
      "7/7 [==============================] - 0s 4ms/step - loss: 0.0016\n",
      "Generation - 11\n",
      "7/7 [==============================] - 0s 4ms/step - loss: 0.0016\n",
      "7/7 [==============================] - 0s 5ms/step - loss: 0.0014\n",
      "Generation - 12\n",
      "7/7 [==============================] - 0s 4ms/step - loss: 0.0016\n",
      "7/7 [==============================] - 0s 4ms/step - loss: 0.0015\n",
      "Generation - 13\n",
      "7/7 [==============================] - 0s 4ms/step - loss: 0.0019\n",
      "7/7 [==============================] - 0s 4ms/step - loss: 0.0015\n",
      "Generation - 14\n",
      "7/7 [==============================] - 0s 4ms/step - loss: 0.0014\n",
      "7/7 [==============================] - 0s 4ms/step - loss: 0.0015\n",
      "Generation - 15\n",
      "7/7 [==============================] - 0s 5ms/step - loss: 0.0019\n",
      "7/7 [==============================] - 0s 4ms/step - loss: 0.0019\n",
      "Generation - 16\n",
      "7/7 [==============================] - 0s 4ms/step - loss: 0.0015\n",
      "7/7 [==============================] - 0s 4ms/step - loss: 0.0019\n",
      "Generation - 17\n",
      "7/7 [==============================] - 0s 4ms/step - loss: 0.0080\n",
      "7/7 [==============================] - 0s 4ms/step - loss: 0.0017\n",
      "Generation - 18\n",
      "7/7 [==============================] - 0s 4ms/step - loss: 0.0013\n",
      "7/7 [==============================] - 0s 4ms/step - loss: 0.0016\n",
      "Generation - 19\n",
      "7/7 [==============================] - 0s 6ms/step - loss: 0.0014\n",
      "7/7 [==============================] - 0s 5ms/step - loss: 0.0014\n",
      "Generation - 20\n",
      "7/7 [==============================] - 0s 4ms/step - loss: 0.0024\n",
      "7/7 [==============================] - 0s 4ms/step - loss: 0.0014\n",
      "Generation - 21\n",
      "7/7 [==============================] - 0s 4ms/step - loss: 0.0013\n",
      "7/7 [==============================] - 0s 4ms/step - loss: 0.0013\n",
      "Generation - 22\n",
      "7/7 [==============================] - 0s 4ms/step - loss: 0.0058\n",
      "7/7 [==============================] - 0s 4ms/step - loss: 0.0013\n",
      "Generation - 23\n",
      "7/7 [==============================] - 0s 4ms/step - loss: 0.0014\n",
      "7/7 [==============================] - 0s 4ms/step - loss: 0.0014\n",
      "Generation - 24\n",
      "7/7 [==============================] - 0s 4ms/step - loss: 0.0014\n",
      "7/7 [==============================] - 0s 4ms/step - loss: 0.0047\n",
      "Generation - 25\n",
      "7/7 [==============================] - 0s 4ms/step - loss: 0.0041\n",
      "7/7 [==============================] - 0s 4ms/step - loss: 0.0016\n",
      "Generation - 26\n",
      "7/7 [==============================] - 0s 4ms/step - loss: 0.0075\n",
      "7/7 [==============================] - 0s 4ms/step - loss: 0.0015\n",
      "Generation - 27\n",
      "7/7 [==============================] - 0s 4ms/step - loss: 0.0053\n",
      "7/7 [==============================] - 0s 4ms/step - loss: 0.0019\n",
      "Generation - 28\n",
      "7/7 [==============================] - 0s 4ms/step - loss: 0.0019\n",
      "7/7 [==============================] - 0s 4ms/step - loss: 0.0020\n",
      "Generation - 29\n",
      "7/7 [==============================] - 0s 4ms/step - loss: 0.0022\n",
      "7/7 [==============================] - 0s 4ms/step - loss: 0.0019\n",
      "Generation - 30\n",
      "7/7 [==============================] - 0s 5ms/step - loss: 0.0014\n",
      "7/7 [==============================] - 0s 4ms/step - loss: 0.0024\n",
      "Generation - 31\n",
      "7/7 [==============================] - 0s 4ms/step - loss: 0.0017\n",
      "7/7 [==============================] - 0s 4ms/step - loss: 0.0017\n",
      "Generation - 32\n",
      "7/7 [==============================] - 0s 4ms/step - loss: 0.0029\n",
      "7/7 [==============================] - 0s 4ms/step - loss: 0.0022\n",
      "Generation - 33\n",
      "7/7 [==============================] - 0s 4ms/step - loss: 0.0017\n",
      "7/7 [==============================] - 0s 4ms/step - loss: 0.0021\n",
      "Generation - 34\n",
      "7/7 [==============================] - 0s 4ms/step - loss: 0.0024\n",
      "7/7 [==============================] - 0s 4ms/step - loss: 0.0018\n",
      "Generation - 35\n",
      "7/7 [==============================] - 0s 4ms/step - loss: 0.0024\n",
      "7/7 [==============================] - 0s 4ms/step - loss: 0.0031\n",
      "Generation - 36\n",
      "7/7 [==============================] - 0s 5ms/step - loss: 0.0019\n",
      "7/7 [==============================] - 0s 4ms/step - loss: 0.0014\n",
      "Generation - 37\n",
      "7/7 [==============================] - 0s 4ms/step - loss: 0.0057\n",
      "7/7 [==============================] - 0s 4ms/step - loss: 0.0014\n",
      "Generation - 38\n",
      "7/7 [==============================] - 0s 4ms/step - loss: 0.0014\n",
      "7/7 [==============================] - 0s 4ms/step - loss: 0.0020\n",
      "Generation - 39\n",
      "7/7 [==============================] - 0s 4ms/step - loss: 0.0016\n",
      "7/7 [==============================] - 0s 4ms/step - loss: 0.0017\n",
      "Generation - 40\n",
      "7/7 [==============================] - 0s 4ms/step - loss: 0.0026\n",
      "7/7 [==============================] - 0s 4ms/step - loss: 0.0016\n",
      "Generation - 41\n",
      "7/7 [==============================] - 0s 4ms/step - loss: 0.0031\n",
      "7/7 [==============================] - 0s 4ms/step - loss: 0.0014\n",
      "Generation - 42\n",
      "7/7 [==============================] - 0s 4ms/step - loss: 0.0015\n",
      "7/7 [==============================] - 0s 4ms/step - loss: 0.0015\n",
      "Generation - 43\n",
      "7/7 [==============================] - 0s 4ms/step - loss: 0.0014\n",
      "7/7 [==============================] - 0s 5ms/step - loss: 0.0018\n",
      "Generation - 44\n",
      "7/7 [==============================] - 0s 4ms/step - loss: 0.0020\n",
      "7/7 [==============================] - 0s 4ms/step - loss: 0.0015\n",
      "Generation - 45\n",
      "7/7 [==============================] - 0s 4ms/step - loss: 0.0016\n",
      "7/7 [==============================] - 0s 4ms/step - loss: 0.0015\n",
      "Generation - 46\n",
      "7/7 [==============================] - 0s 4ms/step - loss: 0.0016\n",
      "7/7 [==============================] - 0s 5ms/step - loss: 0.0020\n",
      "Generation - 47\n",
      "7/7 [==============================] - 0s 4ms/step - loss: 0.0015\n",
      "7/7 [==============================] - 0s 4ms/step - loss: 0.0014\n",
      "Generation - 48\n",
      "7/7 [==============================] - 0s 5ms/step - loss: 0.0035\n",
      "7/7 [==============================] - 0s 4ms/step - loss: 0.0017\n",
      "Generation - 49\n",
      "7/7 [==============================] - 0s 4ms/step - loss: 0.0015\n",
      "7/7 [==============================] - 0s 4ms/step - loss: 0.0055\n",
      "Generation - 50\n",
      "7/7 [==============================] - 0s 5ms/step - loss: 0.0040\n",
      "7/7 [==============================] - 0s 4ms/step - loss: 0.0056\n"
     ]
    }
   ],
   "source": [
    "# Do not increase this value\n",
    "generations = 50\n",
    "mutation_rate = 5\n",
    "\n",
    "time = timer(None)\n",
    "best_chromosome, best_fitness, max_fitness_each_gen = genetic_algorithm(generations, mutation_rate)\n",
    "time = timer(time)"
   ]
  },
  {
   "cell_type": "code",
   "execution_count": 12,
   "id": "8b3ffa90",
   "metadata": {
    "execution": {
     "iopub.execute_input": "2024-02-05T17:29:56.244933Z",
     "iopub.status.busy": "2024-02-05T17:29:56.244637Z",
     "iopub.status.idle": "2024-02-05T17:29:56.249837Z",
     "shell.execute_reply": "2024-02-05T17:29:56.248936Z"
    },
    "papermill": {
     "duration": 0.035763,
     "end_time": "2024-02-05T17:29:56.251689",
     "exception": false,
     "start_time": "2024-02-05T17:29:56.215926",
     "status": "completed"
    },
    "tags": []
   },
   "outputs": [
    {
     "name": "stdout",
     "output_type": "stream",
     "text": [
      "Best Chromosome: [201 229  28]\n",
      "Best Fitness: -0.0013116564368829131\n",
      "Time Taken: 0 hours 20 minutes and 3.08 seconds.\n"
     ]
    }
   ],
   "source": [
    "print(\"Best Chromosome:\", best_chromosome)\n",
    "print(\"Best Fitness:\", best_fitness)\n",
    "print(\"Time Taken:\", time)"
   ]
  },
  {
   "cell_type": "code",
   "execution_count": 13,
   "id": "18413d04",
   "metadata": {
    "execution": {
     "iopub.execute_input": "2024-02-05T17:29:56.305581Z",
     "iopub.status.busy": "2024-02-05T17:29:56.305283Z",
     "iopub.status.idle": "2024-02-05T17:29:56.311418Z",
     "shell.execute_reply": "2024-02-05T17:29:56.310554Z"
    },
    "papermill": {
     "duration": 0.035116,
     "end_time": "2024-02-05T17:29:56.313152",
     "exception": false,
     "start_time": "2024-02-05T17:29:56.278036",
     "status": "completed"
    },
    "tags": []
   },
   "outputs": [
    {
     "data": {
      "text/plain": [
       "[-0.0013898838078603148,\n",
       " -0.0013898838078603148,\n",
       " -0.0013898838078603148,\n",
       " -0.0013898838078603148,\n",
       " -0.0013898838078603148,\n",
       " -0.0013898838078603148,\n",
       " -0.0013116564368829131,\n",
       " -0.0013116564368829131,\n",
       " -0.0013116564368829131,\n",
       " -0.0013116564368829131,\n",
       " -0.0013116564368829131,\n",
       " -0.0013116564368829131,\n",
       " -0.0013116564368829131,\n",
       " -0.0013116564368829131,\n",
       " -0.0013116564368829131,\n",
       " -0.0013116564368829131,\n",
       " -0.0013116564368829131,\n",
       " -0.0013116564368829131,\n",
       " -0.0013116564368829131,\n",
       " -0.0013116564368829131,\n",
       " -0.0013116564368829131,\n",
       " -0.0013116564368829131,\n",
       " -0.0013116564368829131,\n",
       " -0.0013116564368829131,\n",
       " -0.0013116564368829131,\n",
       " -0.0013116564368829131,\n",
       " -0.0013116564368829131,\n",
       " -0.0013116564368829131,\n",
       " -0.0013116564368829131,\n",
       " -0.0013116564368829131,\n",
       " -0.0013116564368829131,\n",
       " -0.0013116564368829131,\n",
       " -0.0013116564368829131,\n",
       " -0.0013116564368829131,\n",
       " -0.0013116564368829131,\n",
       " -0.0013116564368829131,\n",
       " -0.0013116564368829131,\n",
       " -0.0013116564368829131,\n",
       " -0.0013116564368829131,\n",
       " -0.0013116564368829131,\n",
       " -0.0013116564368829131,\n",
       " -0.0013116564368829131,\n",
       " -0.0013116564368829131,\n",
       " -0.0013116564368829131,\n",
       " -0.0013116564368829131,\n",
       " -0.0013116564368829131,\n",
       " -0.0013116564368829131,\n",
       " -0.0013116564368829131,\n",
       " -0.0013116564368829131,\n",
       " -0.0013116564368829131]"
      ]
     },
     "execution_count": 13,
     "metadata": {},
     "output_type": "execute_result"
    }
   ],
   "source": [
    "max_fitness_each_gen"
   ]
  },
  {
   "cell_type": "markdown",
   "id": "03b795bf",
   "metadata": {
    "papermill": {
     "duration": 0.026766,
     "end_time": "2024-02-05T17:29:56.366403",
     "exception": false,
     "start_time": "2024-02-05T17:29:56.339637",
     "status": "completed"
    },
    "tags": []
   },
   "source": [
    "## Re-Training Model with Best Parameter"
   ]
  },
  {
   "cell_type": "code",
   "execution_count": 14,
   "id": "685736a6",
   "metadata": {
    "execution": {
     "iopub.execute_input": "2024-02-05T17:29:56.420600Z",
     "iopub.status.busy": "2024-02-05T17:29:56.420275Z",
     "iopub.status.idle": "2024-02-05T17:29:57.173073Z",
     "shell.execute_reply": "2024-02-05T17:29:57.172053Z"
    },
    "papermill": {
     "duration": 0.781965,
     "end_time": "2024-02-05T17:29:57.174938",
     "exception": false,
     "start_time": "2024-02-05T17:29:56.392973",
     "status": "completed"
    },
    "tags": []
   },
   "outputs": [
    {
     "name": "stdout",
     "output_type": "stream",
     "text": [
      "Model: \"sequential_1\"\n",
      "_________________________________________________________________\n",
      " Layer (type)                Output Shape              Param #   \n",
      "=================================================================\n",
      " lstm_3 (LSTM)               (None, 20, 201)           163212    \n",
      "                                                                 \n",
      " lstm_4 (LSTM)               (None, 20, 229)           394796    \n",
      "                                                                 \n",
      " lstm_5 (LSTM)               (None, 28)                28896     \n",
      "                                                                 \n",
      " dense_1 (Dense)             (None, 1)                 29        \n",
      "                                                                 \n",
      "=================================================================\n",
      "Total params: 586,933\n",
      "Trainable params: 586,933\n",
      "Non-trainable params: 0\n",
      "_________________________________________________________________\n"
     ]
    }
   ],
   "source": [
    "model = Sequential()\n",
    "for i, units in enumerate(best_chromosome[:LSTM_Layer]):\n",
    "    model.add(LSTM(units, return_sequences=(i < LSTM_Layer - 1), input_shape=(WINDOW_SIZE, 1)))\n",
    "model.add(Dense(1))\n",
    "\n",
    "model.summary()"
   ]
  },
  {
   "cell_type": "code",
   "execution_count": 15,
   "id": "2ca606fc",
   "metadata": {
    "execution": {
     "iopub.execute_input": "2024-02-05T17:29:57.232428Z",
     "iopub.status.busy": "2024-02-05T17:29:57.231736Z",
     "iopub.status.idle": "2024-02-05T17:30:26.331737Z",
     "shell.execute_reply": "2024-02-05T17:30:26.330806Z"
    },
    "papermill": {
     "duration": 29.130656,
     "end_time": "2024-02-05T17:30:26.333707",
     "exception": false,
     "start_time": "2024-02-05T17:29:57.203051",
     "status": "completed"
    },
    "tags": []
   },
   "outputs": [
    {
     "name": "stdout",
     "output_type": "stream",
     "text": [
      "Epoch 1/50\n",
      "50/50 [==============================] - 7s 30ms/step - loss: 0.0120 - mae: 0.0727 - root_mean_squared_error: 0.1097 - val_loss: 0.0020 - val_mae: 0.0350 - val_root_mean_squared_error: 0.0442\n",
      "Epoch 2/50\n",
      "50/50 [==============================] - 0s 9ms/step - loss: 0.0037 - mae: 0.0411 - root_mean_squared_error: 0.0610 - val_loss: 0.0016 - val_mae: 0.0309 - val_root_mean_squared_error: 0.0396\n",
      "Epoch 3/50\n",
      "50/50 [==============================] - 0s 9ms/step - loss: 0.0031 - mae: 0.0380 - root_mean_squared_error: 0.0561 - val_loss: 0.0056 - val_mae: 0.0661 - val_root_mean_squared_error: 0.0750\n",
      "Epoch 4/50\n",
      "50/50 [==============================] - 0s 9ms/step - loss: 0.0033 - mae: 0.0415 - root_mean_squared_error: 0.0574 - val_loss: 0.0029 - val_mae: 0.0455 - val_root_mean_squared_error: 0.0538\n",
      "Epoch 5/50\n",
      "50/50 [==============================] - 0s 9ms/step - loss: 0.0026 - mae: 0.0356 - root_mean_squared_error: 0.0512 - val_loss: 0.0044 - val_mae: 0.0578 - val_root_mean_squared_error: 0.0660\n",
      "Epoch 6/50\n",
      "50/50 [==============================] - 0s 9ms/step - loss: 0.0025 - mae: 0.0346 - root_mean_squared_error: 0.0501 - val_loss: 0.0018 - val_mae: 0.0351 - val_root_mean_squared_error: 0.0428\n",
      "Epoch 7/50\n",
      "50/50 [==============================] - 0s 9ms/step - loss: 0.0023 - mae: 0.0328 - root_mean_squared_error: 0.0480 - val_loss: 0.0026 - val_mae: 0.0432 - val_root_mean_squared_error: 0.0506\n",
      "Epoch 8/50\n",
      "50/50 [==============================] - 0s 9ms/step - loss: 0.0024 - mae: 0.0351 - root_mean_squared_error: 0.0494 - val_loss: 0.0047 - val_mae: 0.0613 - val_root_mean_squared_error: 0.0684\n",
      "Epoch 9/50\n",
      "50/50 [==============================] - 0s 9ms/step - loss: 0.0022 - mae: 0.0328 - root_mean_squared_error: 0.0472 - val_loss: 0.0029 - val_mae: 0.0467 - val_root_mean_squared_error: 0.0538\n",
      "Epoch 10/50\n",
      "50/50 [==============================] - 0s 9ms/step - loss: 0.0021 - mae: 0.0324 - root_mean_squared_error: 0.0460 - val_loss: 0.0033 - val_mae: 0.0504 - val_root_mean_squared_error: 0.0572\n",
      "Epoch 11/50\n",
      "50/50 [==============================] - 0s 9ms/step - loss: 0.0022 - mae: 0.0332 - root_mean_squared_error: 0.0465 - val_loss: 0.0014 - val_mae: 0.0307 - val_root_mean_squared_error: 0.0378\n",
      "Epoch 12/50\n",
      "50/50 [==============================] - 0s 9ms/step - loss: 0.0021 - mae: 0.0322 - root_mean_squared_error: 0.0455 - val_loss: 7.9479e-04 - val_mae: 0.0229 - val_root_mean_squared_error: 0.0282\n",
      "Epoch 13/50\n",
      "50/50 [==============================] - 0s 9ms/step - loss: 0.0021 - mae: 0.0331 - root_mean_squared_error: 0.0458 - val_loss: 0.0038 - val_mae: 0.0555 - val_root_mean_squared_error: 0.0620\n",
      "Epoch 14/50\n",
      "50/50 [==============================] - 0s 9ms/step - loss: 0.0019 - mae: 0.0304 - root_mean_squared_error: 0.0439 - val_loss: 0.0016 - val_mae: 0.0331 - val_root_mean_squared_error: 0.0399\n",
      "Epoch 15/50\n",
      "50/50 [==============================] - 0s 9ms/step - loss: 0.0017 - mae: 0.0284 - root_mean_squared_error: 0.0414 - val_loss: 9.7751e-04 - val_mae: 0.0248 - val_root_mean_squared_error: 0.0313\n",
      "Epoch 16/50\n",
      "50/50 [==============================] - 0s 9ms/step - loss: 0.0018 - mae: 0.0297 - root_mean_squared_error: 0.0429 - val_loss: 6.4318e-04 - val_mae: 0.0200 - val_root_mean_squared_error: 0.0254\n",
      "Epoch 17/50\n",
      "50/50 [==============================] - 0s 9ms/step - loss: 0.0018 - mae: 0.0296 - root_mean_squared_error: 0.0419 - val_loss: 9.4297e-04 - val_mae: 0.0248 - val_root_mean_squared_error: 0.0307\n",
      "Epoch 18/50\n",
      "50/50 [==============================] - 0s 9ms/step - loss: 0.0018 - mae: 0.0294 - root_mean_squared_error: 0.0420 - val_loss: 0.0016 - val_mae: 0.0337 - val_root_mean_squared_error: 0.0399\n",
      "Epoch 19/50\n",
      "50/50 [==============================] - 0s 9ms/step - loss: 0.0018 - mae: 0.0301 - root_mean_squared_error: 0.0421 - val_loss: 7.0298e-04 - val_mae: 0.0211 - val_root_mean_squared_error: 0.0265\n",
      "Epoch 20/50\n",
      "50/50 [==============================] - 0s 9ms/step - loss: 0.0016 - mae: 0.0278 - root_mean_squared_error: 0.0400 - val_loss: 0.0022 - val_mae: 0.0415 - val_root_mean_squared_error: 0.0474\n",
      "Epoch 21/50\n",
      "50/50 [==============================] - 0s 9ms/step - loss: 0.0015 - mae: 0.0274 - root_mean_squared_error: 0.0391 - val_loss: 8.8363e-04 - val_mae: 0.0236 - val_root_mean_squared_error: 0.0297\n",
      "Epoch 22/50\n",
      "50/50 [==============================] - 0s 9ms/step - loss: 0.0016 - mae: 0.0275 - root_mean_squared_error: 0.0395 - val_loss: 5.2046e-04 - val_mae: 0.0179 - val_root_mean_squared_error: 0.0228\n",
      "Epoch 23/50\n",
      "50/50 [==============================] - 0s 9ms/step - loss: 0.0015 - mae: 0.0274 - root_mean_squared_error: 0.0393 - val_loss: 4.7207e-04 - val_mae: 0.0164 - val_root_mean_squared_error: 0.0217\n",
      "Epoch 24/50\n",
      "50/50 [==============================] - 0s 9ms/step - loss: 0.0015 - mae: 0.0268 - root_mean_squared_error: 0.0385 - val_loss: 4.9046e-04 - val_mae: 0.0171 - val_root_mean_squared_error: 0.0221\n",
      "Epoch 25/50\n",
      "50/50 [==============================] - 0s 9ms/step - loss: 0.0015 - mae: 0.0264 - root_mean_squared_error: 0.0381 - val_loss: 6.0654e-04 - val_mae: 0.0187 - val_root_mean_squared_error: 0.0246\n",
      "Epoch 26/50\n",
      "50/50 [==============================] - 0s 9ms/step - loss: 0.0015 - mae: 0.0268 - root_mean_squared_error: 0.0382 - val_loss: 6.8989e-04 - val_mae: 0.0211 - val_root_mean_squared_error: 0.0263\n",
      "Epoch 27/50\n",
      "50/50 [==============================] - 0s 9ms/step - loss: 0.0014 - mae: 0.0253 - root_mean_squared_error: 0.0373 - val_loss: 0.0018 - val_mae: 0.0373 - val_root_mean_squared_error: 0.0428\n",
      "Epoch 28/50\n",
      "50/50 [==============================] - 1s 11ms/step - loss: 0.0015 - mae: 0.0264 - root_mean_squared_error: 0.0382 - val_loss: 9.8783e-04 - val_mae: 0.0255 - val_root_mean_squared_error: 0.0314\n",
      "Epoch 29/50\n",
      "50/50 [==============================] - 0s 10ms/step - loss: 0.0015 - mae: 0.0272 - root_mean_squared_error: 0.0390 - val_loss: 4.5266e-04 - val_mae: 0.0157 - val_root_mean_squared_error: 0.0213\n",
      "Epoch 30/50\n",
      "50/50 [==============================] - 0s 9ms/step - loss: 0.0014 - mae: 0.0258 - root_mean_squared_error: 0.0378 - val_loss: 4.6479e-04 - val_mae: 0.0162 - val_root_mean_squared_error: 0.0216\n",
      "Epoch 31/50\n",
      "50/50 [==============================] - 0s 9ms/step - loss: 0.0014 - mae: 0.0255 - root_mean_squared_error: 0.0373 - val_loss: 5.3802e-04 - val_mae: 0.0171 - val_root_mean_squared_error: 0.0232\n",
      "Epoch 32/50\n",
      "50/50 [==============================] - 0s 9ms/step - loss: 0.0014 - mae: 0.0262 - root_mean_squared_error: 0.0380 - val_loss: 8.1618e-04 - val_mae: 0.0240 - val_root_mean_squared_error: 0.0286\n",
      "Epoch 33/50\n",
      "50/50 [==============================] - 0s 9ms/step - loss: 0.0014 - mae: 0.0256 - root_mean_squared_error: 0.0376 - val_loss: 5.7391e-04 - val_mae: 0.0178 - val_root_mean_squared_error: 0.0240\n",
      "Epoch 34/50\n",
      "50/50 [==============================] - 0s 9ms/step - loss: 0.0014 - mae: 0.0254 - root_mean_squared_error: 0.0372 - val_loss: 5.0329e-04 - val_mae: 0.0175 - val_root_mean_squared_error: 0.0224\n",
      "Epoch 35/50\n",
      "50/50 [==============================] - 0s 9ms/step - loss: 0.0015 - mae: 0.0262 - root_mean_squared_error: 0.0382 - val_loss: 0.0011 - val_mae: 0.0272 - val_root_mean_squared_error: 0.0332\n",
      "Epoch 36/50\n",
      "50/50 [==============================] - 0s 9ms/step - loss: 0.0014 - mae: 0.0261 - root_mean_squared_error: 0.0380 - val_loss: 8.0266e-04 - val_mae: 0.0237 - val_root_mean_squared_error: 0.0283\n",
      "Epoch 37/50\n",
      "50/50 [==============================] - 0s 9ms/step - loss: 0.0015 - mae: 0.0272 - root_mean_squared_error: 0.0391 - val_loss: 0.0037 - val_mae: 0.0564 - val_root_mean_squared_error: 0.0612\n",
      "Epoch 38/50\n",
      "50/50 [==============================] - 0s 9ms/step - loss: 0.0014 - mae: 0.0263 - root_mean_squared_error: 0.0380 - val_loss: 9.7888e-04 - val_mae: 0.0252 - val_root_mean_squared_error: 0.0313\n",
      "Epoch 39/50\n",
      "50/50 [==============================] - 0s 9ms/step - loss: 0.0014 - mae: 0.0251 - root_mean_squared_error: 0.0370 - val_loss: 4.7394e-04 - val_mae: 0.0160 - val_root_mean_squared_error: 0.0218\n",
      "Epoch 40/50\n",
      "50/50 [==============================] - 0s 9ms/step - loss: 0.0014 - mae: 0.0256 - root_mean_squared_error: 0.0373 - val_loss: 7.2429e-04 - val_mae: 0.0223 - val_root_mean_squared_error: 0.0269\n",
      "Epoch 41/50\n",
      "50/50 [==============================] - 0s 9ms/step - loss: 0.0016 - mae: 0.0274 - root_mean_squared_error: 0.0395 - val_loss: 4.7011e-04 - val_mae: 0.0159 - val_root_mean_squared_error: 0.0217\n",
      "Epoch 42/50\n",
      "50/50 [==============================] - 0s 9ms/step - loss: 0.0014 - mae: 0.0254 - root_mean_squared_error: 0.0374 - val_loss: 8.5712e-04 - val_mae: 0.0230 - val_root_mean_squared_error: 0.0293\n",
      "Epoch 43/50\n",
      "50/50 [==============================] - 0s 9ms/step - loss: 0.0014 - mae: 0.0252 - root_mean_squared_error: 0.0368 - val_loss: 5.9930e-04 - val_mae: 0.0183 - val_root_mean_squared_error: 0.0245\n",
      "Epoch 44/50\n",
      "50/50 [==============================] - 0s 9ms/step - loss: 0.0015 - mae: 0.0258 - root_mean_squared_error: 0.0381 - val_loss: 5.9917e-04 - val_mae: 0.0183 - val_root_mean_squared_error: 0.0245\n",
      "Epoch 45/50\n",
      "50/50 [==============================] - 0s 9ms/step - loss: 0.0014 - mae: 0.0249 - root_mean_squared_error: 0.0370 - val_loss: 4.8133e-04 - val_mae: 0.0160 - val_root_mean_squared_error: 0.0219\n",
      "Epoch 46/50\n",
      "50/50 [==============================] - 0s 9ms/step - loss: 0.0014 - mae: 0.0255 - root_mean_squared_error: 0.0376 - val_loss: 4.8079e-04 - val_mae: 0.0162 - val_root_mean_squared_error: 0.0219\n",
      "Epoch 47/50\n",
      "50/50 [==============================] - 0s 9ms/step - loss: 0.0015 - mae: 0.0271 - root_mean_squared_error: 0.0384 - val_loss: 0.0014 - val_mae: 0.0335 - val_root_mean_squared_error: 0.0380\n",
      "Epoch 48/50\n",
      "50/50 [==============================] - 0s 9ms/step - loss: 0.0014 - mae: 0.0258 - root_mean_squared_error: 0.0378 - val_loss: 6.2889e-04 - val_mae: 0.0189 - val_root_mean_squared_error: 0.0251\n",
      "Epoch 49/50\n",
      "50/50 [==============================] - 0s 9ms/step - loss: 0.0015 - mae: 0.0263 - root_mean_squared_error: 0.0381 - val_loss: 0.0014 - val_mae: 0.0312 - val_root_mean_squared_error: 0.0370\n",
      "Epoch 50/50\n",
      "50/50 [==============================] - 0s 9ms/step - loss: 0.0015 - mae: 0.0260 - root_mean_squared_error: 0.0382 - val_loss: 0.0012 - val_mae: 0.0304 - val_root_mean_squared_error: 0.0349\n"
     ]
    }
   ],
   "source": [
    "model.compile(loss='mean_squared_error',\n",
    "              metrics=['mae', RootMeanSquaredError()],\n",
    "              optimizer='adam')\n",
    "\n",
    "history = model.fit(X_train,\n",
    "                    y_train,\n",
    "                    epochs=50,\n",
    "                    batch_size=32,\n",
    "                    validation_split=0.1)"
   ]
  },
  {
   "cell_type": "code",
   "execution_count": 16,
   "id": "c2752a5e",
   "metadata": {
    "execution": {
     "iopub.execute_input": "2024-02-05T17:30:26.464815Z",
     "iopub.status.busy": "2024-02-05T17:30:26.464198Z",
     "iopub.status.idle": "2024-02-05T17:30:26.557788Z",
     "shell.execute_reply": "2024-02-05T17:30:26.556916Z"
    },
    "papermill": {
     "duration": 0.16077,
     "end_time": "2024-02-05T17:30:26.559770",
     "exception": false,
     "start_time": "2024-02-05T17:30:26.399000",
     "status": "completed"
    },
    "tags": []
   },
   "outputs": [
    {
     "name": "stdout",
     "output_type": "stream",
     "text": [
      "7/7 [==============================] - 0s 5ms/step - loss: 0.0014 - mae: 0.0320 - root_mean_squared_error: 0.0380\n"
     ]
    },
    {
     "data": {
      "text/plain": [
       "[0.0014402082888409495, 0.031994231045246124, 0.037950076162815094]"
      ]
     },
     "execution_count": 16,
     "metadata": {},
     "output_type": "execute_result"
    }
   ],
   "source": [
    "model.evaluate(X_test, y_test)"
   ]
  },
  {
   "cell_type": "markdown",
   "id": "566d2dc2",
   "metadata": {
    "papermill": {
     "duration": 0.06532,
     "end_time": "2024-02-05T17:30:26.690206",
     "exception": false,
     "start_time": "2024-02-05T17:30:26.624886",
     "status": "completed"
    },
    "tags": []
   },
   "source": [
    "## Model Evaluation"
   ]
  },
  {
   "cell_type": "code",
   "execution_count": 17,
   "id": "179a0ad4",
   "metadata": {
    "execution": {
     "iopub.execute_input": "2024-02-05T17:30:26.820766Z",
     "iopub.status.busy": "2024-02-05T17:30:26.820461Z",
     "iopub.status.idle": "2024-02-05T17:30:27.046783Z",
     "shell.execute_reply": "2024-02-05T17:30:27.045899Z"
    },
    "papermill": {
     "duration": 0.293741,
     "end_time": "2024-02-05T17:30:27.048586",
     "exception": false,
     "start_time": "2024-02-05T17:30:26.754845",
     "status": "completed"
    },
    "tags": []
   },
   "outputs": [
    {
     "data": {
      "image/png": "[encoded data removed]",
      "text/plain": [
       "<Figure size 640x480 with 1 Axes>"
      ]
     },
     "metadata": {},
     "output_type": "display_data"
    }
   ],
   "source": [
    "plt.plot(history.history['loss'])\n",
    "plt.plot(history.history['val_loss'])\n",
    "plt.title(f'{SHEET_NAME} Model Loss', fontsize=15)\n",
    "plt.ylabel('loss')\n",
    "plt.xlabel('epoch')\n",
    "plt.legend(['train', 'test'])\n",
    "plt.show()"
   ]
  },
  {
   "cell_type": "code",
   "execution_count": 18,
   "id": "e3fb5614",
   "metadata": {
    "execution": {
     "iopub.execute_input": "2024-02-05T17:30:27.179737Z",
     "iopub.status.busy": "2024-02-05T17:30:27.178968Z",
     "iopub.status.idle": "2024-02-05T17:30:28.240128Z",
     "shell.execute_reply": "2024-02-05T17:30:28.239343Z"
    },
    "papermill": {
     "duration": 1.128837,
     "end_time": "2024-02-05T17:30:28.242100",
     "exception": false,
     "start_time": "2024-02-05T17:30:27.113263",
     "status": "completed"
    },
    "tags": []
   },
   "outputs": [
    {
     "name": "stdout",
     "output_type": "stream",
     "text": [
      "7/7 [==============================] - 1s 4ms/step\n"
     ]
    }
   ],
   "source": [
    "y_hat = model.predict(X_test)\n",
    "y_test_inverse = scaler.inverse_transform(y_test)\n",
    "y_hat_inverse = scaler.inverse_transform(y_hat)"
   ]
  },
  {
   "cell_type": "code",
   "execution_count": 19,
   "id": "0f8ed92a",
   "metadata": {
    "execution": {
     "iopub.execute_input": "2024-02-05T17:30:28.374820Z",
     "iopub.status.busy": "2024-02-05T17:30:28.374265Z",
     "iopub.status.idle": "2024-02-05T17:30:28.619105Z",
     "shell.execute_reply": "2024-02-05T17:30:28.618205Z"
    },
    "papermill": {
     "duration": 0.313111,
     "end_time": "2024-02-05T17:30:28.621052",
     "exception": false,
     "start_time": "2024-02-05T17:30:28.307941",
     "status": "completed"
    },
    "tags": []
   },
   "outputs": [
    {
     "data": {
      "image/png": "[encoded data removed]",
      "text/plain": [
       "<Figure size 640x480 with 1 Axes>"
      ]
     },
     "metadata": {},
     "output_type": "display_data"
    }
   ],
   "source": [
    "plt.plot(y_test_inverse, label=\"Actual Price\", color='green')\n",
    "plt.plot(y_hat_inverse, label=\"Predicted Price\", color='red')\n",
    " \n",
    "plt.title(f'{SHEET_NAME} Price Prediction\\nLSTM = {LSTM_Layer}, Split Data = {SPLIT}, Window = {WINDOW_SIZE}', fontsize=15)\n",
    "plt.xlabel('Time [days]')\n",
    "plt.ylabel('Price')\n",
    "plt.legend(loc='best')\n",
    " \n",
    "plt.show()"
   ]
  },
  {
   "cell_type": "code",
   "execution_count": 20,
   "id": "e1471d87",
   "metadata": {
    "execution": {
     "iopub.execute_input": "2024-02-05T17:30:28.756578Z",
     "iopub.status.busy": "2024-02-05T17:30:28.756074Z",
     "iopub.status.idle": "2024-02-05T17:30:28.765514Z",
     "shell.execute_reply": "2024-02-05T17:30:28.764272Z"
    },
    "papermill": {
     "duration": 0.078653,
     "end_time": "2024-02-05T17:30:28.767300",
     "exception": false,
     "start_time": "2024-02-05T17:30:28.688647",
     "status": "completed"
    },
    "tags": []
   },
   "outputs": [
    {
     "name": "stdout",
     "output_type": "stream",
     "text": [
      "LSTM = 3, Split Data = 0.9, Window = 20\n",
      "\n",
      "----------------- Normalized Error -----------------\n",
      "Mean Absolute Error for prediction : 0.031994232113185916\n",
      "Mean Squared Error for prediction : 0.0014402082820423544\n",
      "Root Mean Squared Error for prediction : 0.037950076179664706\n",
      "\n",
      "----------------- Actual Error -----------------\n",
      "Mean Absolute Error for prediction : 82.4252281967476\n",
      "Mean Squared Error for prediction : 9558.768906968013\n",
      "Root Mean Squared Error for prediction : 97.76895676526375\n"
     ]
    }
   ],
   "source": [
    "def matrices(actual, predicted):\n",
    "    mse = mean_squared_error(actual, predicted)\n",
    "    mae = mean_absolute_error(actual, predicted)\n",
    "    rmse = np.sqrt(mse)\n",
    "    print(\"Mean Absolute Error for prediction :\", mae)\n",
    "    print(\"Mean Squared Error for prediction :\", mse)\n",
    "    print(\"Root Mean Squared Error for prediction :\", rmse)\n",
    "    return mae, mse, rmse\n",
    "\n",
    "print(f\"LSTM = {LSTM_Layer}, Split Data = {SPLIT}, Window = {WINDOW_SIZE}\")\n",
    "print(\"\\n----------------- Normalized Error -----------------\")\n",
    "mae, mse, rmse = matrices(y_test, y_hat)\n",
    "print(\"\\n----------------- Actual Error -----------------\")\n",
    "mae_inverse, mse_inverse, rmse_inverse = matrices(y_test_inverse, y_hat_inverse)"
   ]
  }
 ],
 "metadata": {
  "kaggle": {
   "accelerator": "gpu",
   "dataSources": [],
   "dockerImageVersionId": 30498,
   "isGpuEnabled": true,
   "isInternetEnabled": true,
   "language": "python",
   "sourceType": "notebook"
  },
  "kernelspec": {
   "display_name": "Python 3",
   "language": "python",
   "name": "python3"
  },
  "language_info": {
   "codemirror_mode": {
    "name": "ipython",
    "version": 3
   },
   "file_extension": ".py",
   "mimetype": "text/x-python",
   "name": "python",
   "nbconvert_exporter": "python",
   "pygments_lexer": "ipython3",
   "version": "3.10.10"
  },
  "papermill": {
   "default_parameters": {},
   "duration": 1260.239552,
   "end_time": "2024-02-05T17:30:32.392268",
   "environment_variables": {},
   "exception": null,
   "input_path": "__notebook__.ipynb",
   "output_path": "__notebook__.ipynb",
   "parameters": {},
   "start_time": "2024-02-05T17:09:32.152716",
   "version": "2.4.0"
  }
 },
 "nbformat": 4,
 "nbformat_minor": 5
}
