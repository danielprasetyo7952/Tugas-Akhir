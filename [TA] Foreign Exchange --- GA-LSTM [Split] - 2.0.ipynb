{
 "cells": [
  {
   "cell_type": "code",
   "execution_count": 1,
   "id": "cdeb8e21",
   "metadata": {
    "execution": {
     "iopub.execute_input": "2024-02-05T16:56:33.106731Z",
     "iopub.status.busy": "2024-02-05T16:56:33.106423Z",
     "iopub.status.idle": "2024-02-05T16:56:41.508836Z",
     "shell.execute_reply": "2024-02-05T16:56:41.507889Z"
    },
    "papermill": {
     "duration": 8.412558,
     "end_time": "2024-02-05T16:56:41.511150",
     "exception": false,
     "start_time": "2024-02-05T16:56:33.098592",
     "status": "completed"
    },
    "tags": []
   },
   "outputs": [
    {
     "name": "stderr",
     "output_type": "stream",
     "text": [
      "/opt/conda/lib/python3.10/site-packages/tensorflow_io/python/ops/__init__.py:98: UserWarning: unable to load libtensorflow_io_plugins.so: unable to open file: libtensorflow_io_plugins.so, from paths: ['/opt/conda/lib/python3.10/site-packages/tensorflow_io/python/ops/libtensorflow_io_plugins.so']\n",
      "caused by: ['/opt/conda/lib/python3.10/site-packages/tensorflow_io/python/ops/libtensorflow_io_plugins.so: undefined symbol: _ZN3tsl6StatusC1EN10tensorflow5error4CodeESt17basic_string_viewIcSt11char_traitsIcEENS_14SourceLocationE']\n",
      "  warnings.warn(f\"unable to load libtensorflow_io_plugins.so: {e}\")\n",
      "/opt/conda/lib/python3.10/site-packages/tensorflow_io/python/ops/__init__.py:104: UserWarning: file system plugins are not loaded: unable to open file: libtensorflow_io.so, from paths: ['/opt/conda/lib/python3.10/site-packages/tensorflow_io/python/ops/libtensorflow_io.so']\n",
      "caused by: ['/opt/conda/lib/python3.10/site-packages/tensorflow_io/python/ops/libtensorflow_io.so: undefined symbol: _ZTVN10tensorflow13GcsFileSystemE']\n",
      "  warnings.warn(f\"file system plugins are not loaded: {e}\")\n"
     ]
    }
   ],
   "source": [
    "import pandas as pd\n",
    "import numpy as np\n",
    "import tensorflow as tf\n",
    "import matplotlib.pyplot as plt\n",
    "import datetime, pytz\n",
    "\n",
    "from keras.models import Sequential\n",
    "from keras.layers import LSTM, Dense\n",
    "from keras.metrics import RootMeanSquaredError\n",
    "\n",
    "from sklearn.preprocessing import MinMaxScaler\n",
    "from sklearn.metrics import mean_squared_error, mean_absolute_error"
   ]
  },
  {
   "cell_type": "markdown",
   "id": "8bf6c0d4",
   "metadata": {
    "papermill": {
     "duration": 0.006343,
     "end_time": "2024-02-05T16:56:41.524341",
     "exception": false,
     "start_time": "2024-02-05T16:56:41.517998",
     "status": "completed"
    },
    "tags": []
   },
   "source": [
    "## Hyperparameter"
   ]
  },
  {
   "cell_type": "code",
   "execution_count": 2,
   "id": "d7cfaffb",
   "metadata": {
    "execution": {
     "iopub.execute_input": "2024-02-05T16:56:41.538480Z",
     "iopub.status.busy": "2024-02-05T16:56:41.537928Z",
     "iopub.status.idle": "2024-02-05T16:56:41.542701Z",
     "shell.execute_reply": "2024-02-05T16:56:41.541894Z"
    },
    "papermill": {
     "duration": 0.013697,
     "end_time": "2024-02-05T16:56:41.544402",
     "exception": false,
     "start_time": "2024-02-05T16:56:41.530705",
     "status": "completed"
    },
    "tags": []
   },
   "outputs": [],
   "source": [
    "# Google Spreadsheet ID\n",
    "SHEET_ID = '1JDNv_mArl-GPIpxuWS5GxgVEwvjXocS1MrXGc6TYs8M'\n",
    "SHEET_NAME = 'USD/IDR' # USD/IDR, EUR/IDR, SGD/IDR\n",
    "\n",
    "SEQ_LEN = 11 # 6, 11, 21\n",
    "SPLIT = 0.80 # 0.80, 0.90\n",
    "LSTM_Layer = 3 # 1, 2, 3\n",
    "WINDOW_SIZE = SEQ_LEN - 1"
   ]
  },
  {
   "cell_type": "code",
   "execution_count": 3,
   "id": "ef4c516f",
   "metadata": {
    "execution": {
     "iopub.execute_input": "2024-02-05T16:56:41.558155Z",
     "iopub.status.busy": "2024-02-05T16:56:41.557877Z",
     "iopub.status.idle": "2024-02-05T16:56:43.307552Z",
     "shell.execute_reply": "2024-02-05T16:56:43.306534Z"
    },
    "papermill": {
     "duration": 1.758866,
     "end_time": "2024-02-05T16:56:43.309702",
     "exception": false,
     "start_time": "2024-02-05T16:56:41.550836",
     "status": "completed"
    },
    "tags": []
   },
   "outputs": [
    {
     "name": "stdout",
     "output_type": "stream",
     "text": [
      "<class 'pandas.core.frame.DataFrame'>\n",
      "RangeIndex: 1977 entries, 0 to 1976\n",
      "Data columns (total 2 columns):\n",
      " #   Column  Non-Null Count  Dtype         \n",
      "---  ------  --------------  -----         \n",
      " 0   Date    1977 non-null   datetime64[ns]\n",
      " 1   Close   1977 non-null   float64       \n",
      "dtypes: datetime64[ns](1), float64(1)\n",
      "memory usage: 31.0 KB\n"
     ]
    }
   ],
   "source": [
    "url = f'https://docs.google.com/spreadsheets/d/{SHEET_ID}/gviz/tq?tqx=out:csv&sheet={SHEET_NAME}'\n",
    "data = pd.read_csv(url)\n",
    "\n",
    "# Convert Date columns to datetime format\n",
    "data['Date'] = pd.to_datetime(data['Date'], format='%d/%m/%Y %H:%M:%S')\n",
    "data.info()"
   ]
  },
  {
   "cell_type": "markdown",
   "id": "85ce3f74",
   "metadata": {
    "papermill": {
     "duration": 0.006527,
     "end_time": "2024-02-05T16:56:43.322923",
     "exception": false,
     "start_time": "2024-02-05T16:56:43.316396",
     "status": "completed"
    },
    "tags": []
   },
   "source": [
    "## Preprocessing"
   ]
  },
  {
   "cell_type": "code",
   "execution_count": 4,
   "id": "e97f0e23",
   "metadata": {
    "execution": {
     "iopub.execute_input": "2024-02-05T16:56:43.337064Z",
     "iopub.status.busy": "2024-02-05T16:56:43.336762Z",
     "iopub.status.idle": "2024-02-05T16:56:43.347477Z",
     "shell.execute_reply": "2024-02-05T16:56:43.346584Z"
    },
    "papermill": {
     "duration": 0.020317,
     "end_time": "2024-02-05T16:56:43.349653",
     "exception": false,
     "start_time": "2024-02-05T16:56:43.329336",
     "status": "completed"
    },
    "tags": []
   },
   "outputs": [
    {
     "name": "stderr",
     "output_type": "stream",
     "text": [
      "/tmp/ipykernel_26/2274720815.py:7: SettingWithCopyWarning: \n",
      "A value is trying to be set on a copy of a slice from a DataFrame\n",
      "\n",
      "See the caveats in the documentation: https://pandas.pydata.org/pandas-docs/stable/user_guide/indexing.html#returning-a-view-versus-a-copy\n",
      "  data[data < lower_bound] = lower_bound\n",
      "/tmp/ipykernel_26/2274720815.py:8: SettingWithCopyWarning: \n",
      "A value is trying to be set on a copy of a slice from a DataFrame\n",
      "\n",
      "See the caveats in the documentation: https://pandas.pydata.org/pandas-docs/stable/user_guide/indexing.html#returning-a-view-versus-a-copy\n",
      "  data[data > upper_bound] = upper_bound\n"
     ]
    }
   ],
   "source": [
    "def replace_outliers(data):\n",
    "    Q1 = np.percentile(data, 25)\n",
    "    Q3 = np.percentile(data, 75)\n",
    "    IQR = Q3 - Q1\n",
    "    lower_bound = Q1 - 1.5 * IQR\n",
    "    upper_bound = Q3 + 1.5 * IQR\n",
    "    data[data < lower_bound] = lower_bound\n",
    "    data[data > upper_bound] = upper_bound\n",
    "    return data\n",
    "\n",
    "data['Close'] = replace_outliers(data['Close'])"
   ]
  },
  {
   "cell_type": "code",
   "execution_count": 5,
   "id": "abe5d2b8",
   "metadata": {
    "execution": {
     "iopub.execute_input": "2024-02-05T16:56:43.363916Z",
     "iopub.status.busy": "2024-02-05T16:56:43.363645Z",
     "iopub.status.idle": "2024-02-05T16:56:43.596772Z",
     "shell.execute_reply": "2024-02-05T16:56:43.595789Z"
    },
    "papermill": {
     "duration": 0.242671,
     "end_time": "2024-02-05T16:56:43.598900",
     "exception": false,
     "start_time": "2024-02-05T16:56:43.356229",
     "status": "completed"
    },
    "tags": []
   },
   "outputs": [
    {
     "data": {
      "image/png": "[encoded data removed]",
      "text/plain": [
       "<Figure size 640x480 with 1 Axes>"
      ]
     },
     "metadata": {},
     "output_type": "display_data"
    }
   ],
   "source": [
    "# Boxplot for outlier detection\n",
    "plt.boxplot(data['Close'])\n",
    "plt.title(f\"{SHEET_NAME} Boxplot for Outlier Detection\")\n",
    "plt.xlabel(\"Close\")\n",
    "plt.ylabel(\"Values\")\n",
    "plt.show()"
   ]
  },
  {
   "cell_type": "code",
   "execution_count": 6,
   "id": "86ff900e",
   "metadata": {
    "execution": {
     "iopub.execute_input": "2024-02-05T16:56:43.614490Z",
     "iopub.status.busy": "2024-02-05T16:56:43.614226Z",
     "iopub.status.idle": "2024-02-05T16:56:43.621304Z",
     "shell.execute_reply": "2024-02-05T16:56:43.620536Z"
    },
    "papermill": {
     "duration": 0.01712,
     "end_time": "2024-02-05T16:56:43.623162",
     "exception": false,
     "start_time": "2024-02-05T16:56:43.606042",
     "status": "completed"
    },
    "tags": []
   },
   "outputs": [
    {
     "data": {
      "text/plain": [
       "(1977, 1)"
      ]
     },
     "execution_count": 6,
     "metadata": {},
     "output_type": "execute_result"
    }
   ],
   "source": [
    "scaler = MinMaxScaler()\n",
    "close_price = data.Close.values.reshape(-1, 1)\n",
    "scaled_close = scaler.fit_transform(close_price)\n",
    "scaled_close.shape"
   ]
  },
  {
   "cell_type": "code",
   "execution_count": 7,
   "id": "beb04f77",
   "metadata": {
    "execution": {
     "iopub.execute_input": "2024-02-05T16:56:43.638649Z",
     "iopub.status.busy": "2024-02-05T16:56:43.638187Z",
     "iopub.status.idle": "2024-02-05T16:56:43.647274Z",
     "shell.execute_reply": "2024-02-05T16:56:43.646640Z"
    },
    "papermill": {
     "duration": 0.018731,
     "end_time": "2024-02-05T16:56:43.649065",
     "exception": false,
     "start_time": "2024-02-05T16:56:43.630334",
     "status": "completed"
    },
    "tags": []
   },
   "outputs": [],
   "source": [
    "def to_sequences(data, seq_len):\n",
    "    d = []\n",
    "    for index in range(len(data) - seq_len):\n",
    "        d.append(data[index: index + seq_len])\n",
    "    return np.array(d)\n",
    "\n",
    "def preprocess(data_raw, seq_len, train_split):\n",
    "    data = to_sequences(data_raw, seq_len)\n",
    "    num_train = int(train_split * data.shape[0])\n",
    "    X_train = data[:num_train, :-1, :]\n",
    "    y_train = data[:num_train, -1, :]\n",
    "    X_test = data[num_train:, :-1, :]\n",
    "    y_test = data[num_train:, -1, :]\n",
    "    return X_train, y_train, X_test, y_test\n",
    "\n",
    "X_train, y_train, X_test, y_test = preprocess(scaled_close, SEQ_LEN, train_split = SPLIT)"
   ]
  },
  {
   "cell_type": "markdown",
   "id": "3fe0c8f7",
   "metadata": {
    "papermill": {
     "duration": 0.00702,
     "end_time": "2024-02-05T16:56:43.663196",
     "exception": false,
     "start_time": "2024-02-05T16:56:43.656176",
     "status": "completed"
    },
    "tags": []
   },
   "source": [
    "## Genetic Algorithm"
   ]
  },
  {
   "cell_type": "code",
   "execution_count": 8,
   "id": "ee25b899",
   "metadata": {
    "execution": {
     "iopub.execute_input": "2024-02-05T16:56:43.678301Z",
     "iopub.status.busy": "2024-02-05T16:56:43.678064Z",
     "iopub.status.idle": "2024-02-05T16:56:43.683272Z",
     "shell.execute_reply": "2024-02-05T16:56:43.682531Z"
    },
    "papermill": {
     "duration": 0.014866,
     "end_time": "2024-02-05T16:56:43.685141",
     "exception": false,
     "start_time": "2024-02-05T16:56:43.670275",
     "status": "completed"
    },
    "tags": []
   },
   "outputs": [],
   "source": [
    "def decimal_to_binary(chromosome: list):\n",
    "    binary_string = ''.join([bin(x)[2:].zfill(8) for x in chromosome])\n",
    "    return binary_string\n",
    "\n",
    "def binary_to_decimal(binary_string: str):\n",
    "    decimal_array = [int(binary, 2) for binary in [binary_string[i:i+8] for i in range(0, len(binary_string), 8)]]\n",
    "    return decimal_array"
   ]
  },
  {
   "cell_type": "code",
   "execution_count": 9,
   "id": "c7023f21",
   "metadata": {
    "execution": {
     "iopub.execute_input": "2024-02-05T16:56:43.700372Z",
     "iopub.status.busy": "2024-02-05T16:56:43.700135Z",
     "iopub.status.idle": "2024-02-05T16:56:43.718225Z",
     "shell.execute_reply": "2024-02-05T16:56:43.717576Z"
    },
    "papermill": {
     "duration": 0.027796,
     "end_time": "2024-02-05T16:56:43.720007",
     "exception": false,
     "start_time": "2024-02-05T16:56:43.692211",
     "status": "completed"
    },
    "tags": []
   },
   "outputs": [],
   "source": [
    "# Genetic Algorithm\n",
    "def genetic_algorithm(generations, mutation_rate):\n",
    "    print(f\"Inizialized Population...\")\n",
    "    population = np.random.randint(1, high=251, size=(10, 3))\n",
    "    fitness_scores = np.array([fitness_function(chromosome) for chromosome in population])\n",
    "    max_fitness_each_gen = []\n",
    "    \n",
    "    for generation in range(generations):\n",
    "        print(f\"Generation - {generation + 1}\")\n",
    "        max_fitness_each_gen.append(np.max(fitness_scores))\n",
    "        \n",
    "        chromosome_1 = selection(population, fitness_scores)\n",
    "        chromosome_2 = selection(population, fitness_scores)\n",
    "        \n",
    "        if generation % mutation_rate == 0:\n",
    "            chromosome_1 = mutate(chromosome_1)\n",
    "            chromosome_2 = mutate(chromosome_2)\n",
    "        else:\n",
    "            chromosome_1, chromosome_2 = crossover(chromosome_1, chromosome_2)\n",
    "\n",
    "        fitness_score_1 = fitness_function(chromosome_1)\n",
    "        fitness_score_2 = fitness_function(chromosome_2)\n",
    "        \n",
    "        worst_index = np.argmin(fitness_scores)\n",
    "        worst_fitness = fitness_scores[worst_index]\n",
    "\n",
    "        if fitness_score_1 > worst_fitness:\n",
    "            population[worst_index] = chromosome_1\n",
    "            fitness_scores[worst_index] = fitness_score_1\n",
    "            worst_index = np.argmin(fitness_scores)\n",
    "            worst_fitness = fitness_scores[worst_index]\n",
    "\n",
    "        if fitness_score_2 > worst_fitness:\n",
    "            population[worst_index] = chromosome_2\n",
    "            fitness_scores[worst_index] = fitness_score_2\n",
    "        \n",
    "        # Release some memory\n",
    "        del chromosome_1, chromosome_2\n",
    "        del fitness_score_1, fitness_score_2\n",
    "        del worst_index, worst_fitness\n",
    "            \n",
    "    best_chromosome = population[np.argmax(fitness_scores)]\n",
    "    best_fitness = np.max(fitness_scores)\n",
    "    \n",
    "    return best_chromosome, best_fitness, max_fitness_each_gen\n",
    "\n",
    "# Selection (Tournament selection)\n",
    "def selection(population, fitness_scores, tournament_size=3):\n",
    "    indices = np.random.randint(len(population), size=tournament_size)\n",
    "    tournament = population[indices]\n",
    "    tournament_fitness = fitness_scores[indices]\n",
    "    return tournament[np.argmax(tournament_fitness)]\n",
    "\n",
    "# Crossover (Single-point crossover)\n",
    "def crossover(parent_1: list, parent_2: list):\n",
    "    parent_1 = decimal_to_binary(parent_1)\n",
    "    parent_2 = decimal_to_binary(parent_2)\n",
    "    \n",
    "    crossover_point = np.random.randint(1, len(parent_1))\n",
    "    offspring_1 = parent_1[:crossover_point] + parent_2[crossover_point:]\n",
    "    offspring_2 = parent_2[:crossover_point] + parent_1[crossover_point:]\n",
    "    \n",
    "    offspring_1 = binary_to_decimal(offspring_1)\n",
    "    offspring_2 = binary_to_decimal(offspring_2)\n",
    "    return offspring_1, offspring_2\n",
    "\n",
    "# Mutation (Swap Mutation)\n",
    "def mutate(chromosome: list):\n",
    "    chromosome = decimal_to_binary(chromosome)\n",
    "    \n",
    "    chromosome_list = list(chromosome)\n",
    "    i = np.random.randint(len(chromosome_list), size=2)\n",
    "    chromosome_list[i[0]], chromosome_list[i[1]] = chromosome_list[i[1]], chromosome_list[i[0]]\n",
    "    \n",
    "    chromosome_list = ''.join(chromosome_list)\n",
    "    chromosome = binary_to_decimal(chromosome_list)\n",
    "    return chromosome\n",
    "\n",
    "# Fitness Function\n",
    "def fitness_function(chromosome: list):\n",
    "    lstm_units = [int(chromosome[i]) or default for i, default in enumerate([128, 64, 32])]\n",
    "\n",
    "    # Build the LSTM model\n",
    "    tf.keras.backend.clear_session()\n",
    "    model = Sequential()\n",
    "    for i, units in enumerate(lstm_units[:LSTM_Layer]):\n",
    "        model.add(LSTM(units, return_sequences=(i < LSTM_Layer - 1), input_shape=(WINDOW_SIZE, 1)))\n",
    "    model.add(Dense(1))\n",
    "    \n",
    "    # Compile and train the model\n",
    "    model.compile(loss='mean_squared_error',\n",
    "                  optimizer='adam')\n",
    "    model.fit(X_train, y_train,\n",
    "              epochs=10,\n",
    "              batch_size=32,\n",
    "              verbose=0,\n",
    "              validation_split=0.1)\n",
    "\n",
    "    # Evaluate the model\n",
    "    loss = model.evaluate(X_test, y_test)\n",
    "\n",
    "    # Return the negative value of the loss as the fitness score\n",
    "    return -loss"
   ]
  },
  {
   "cell_type": "code",
   "execution_count": 10,
   "id": "070d6b10",
   "metadata": {
    "execution": {
     "iopub.execute_input": "2024-02-05T16:56:43.735071Z",
     "iopub.status.busy": "2024-02-05T16:56:43.734826Z",
     "iopub.status.idle": "2024-02-05T16:56:43.740341Z",
     "shell.execute_reply": "2024-02-05T16:56:43.739536Z"
    },
    "papermill": {
     "duration": 0.015136,
     "end_time": "2024-02-05T16:56:43.742194",
     "exception": false,
     "start_time": "2024-02-05T16:56:43.727058",
     "status": "completed"
    },
    "tags": []
   },
   "outputs": [],
   "source": [
    "import typing\n",
    "from datetime import datetime\n",
    "\n",
    "def timer(start_time: datetime = None) -> \"typing.Union[datetime.datetime, str]\":\n",
    "    if not start_time:\n",
    "        start_time = datetime.now()\n",
    "        return start_time\n",
    "    elif start_time:\n",
    "        thour, temp_sec = divmod((datetime.now() - start_time).total_seconds(), 3600)\n",
    "        tmin, tsec = divmod(temp_sec, 60)\n",
    "        return \"%i hours %i minutes and %s seconds.\" % (\n",
    "            thour,\n",
    "            tmin,\n",
    "            round(tsec, 2),\n",
    "        )"
   ]
  },
  {
   "cell_type": "code",
   "execution_count": 11,
   "id": "41957dc0",
   "metadata": {
    "execution": {
     "iopub.execute_input": "2024-02-05T16:56:43.757271Z",
     "iopub.status.busy": "2024-02-05T16:56:43.757010Z",
     "iopub.status.idle": "2024-02-05T17:15:15.886099Z",
     "shell.execute_reply": "2024-02-05T17:15:15.885296Z"
    },
    "papermill": {
     "duration": 1112.138862,
     "end_time": "2024-02-05T17:15:15.888031",
     "exception": false,
     "start_time": "2024-02-05T16:56:43.749169",
     "status": "completed"
    },
    "tags": []
   },
   "outputs": [
    {
     "name": "stdout",
     "output_type": "stream",
     "text": [
      "Inizialized Population...\n",
      "13/13 [==============================] - 0s 3ms/step - loss: 0.0038\n",
      "13/13 [==============================] - 0s 3ms/step - loss: 0.0049\n",
      "13/13 [==============================] - 0s 3ms/step - loss: 0.0032\n",
      "13/13 [==============================] - 0s 4ms/step - loss: 0.0010\n",
      "13/13 [==============================] - 0s 3ms/step - loss: 0.0033\n",
      "13/13 [==============================] - 0s 3ms/step - loss: 0.0019\n",
      "13/13 [==============================] - 0s 3ms/step - loss: 0.0060\n",
      "13/13 [==============================] - 0s 3ms/step - loss: 0.0014\n",
      "13/13 [==============================] - 0s 4ms/step - loss: 0.0109\n",
      "13/13 [==============================] - 0s 4ms/step - loss: 0.0021\n",
      "Generation - 1\n",
      "13/13 [==============================] - 0s 3ms/step - loss: 0.0016\n",
      "13/13 [==============================] - 0s 3ms/step - loss: 0.0046\n",
      "Generation - 2\n",
      "13/13 [==============================] - 0s 3ms/step - loss: 0.0015\n",
      "13/13 [==============================] - 0s 3ms/step - loss: 0.0023\n",
      "Generation - 3\n",
      "13/13 [==============================] - 0s 3ms/step - loss: 0.0026\n",
      "13/13 [==============================] - 0s 4ms/step - loss: 0.0019\n",
      "Generation - 4\n",
      "13/13 [==============================] - 0s 3ms/step - loss: 0.0040\n",
      "13/13 [==============================] - 0s 3ms/step - loss: 0.0038\n",
      "Generation - 5\n",
      "13/13 [==============================] - 0s 3ms/step - loss: 0.0020\n",
      "13/13 [==============================] - 0s 3ms/step - loss: 0.0018\n",
      "Generation - 6\n",
      "13/13 [==============================] - 0s 4ms/step - loss: 0.0022\n",
      "13/13 [==============================] - 0s 5ms/step - loss: 0.0021\n",
      "Generation - 7\n",
      "13/13 [==============================] - 0s 3ms/step - loss: 0.0018\n",
      "13/13 [==============================] - 0s 3ms/step - loss: 0.0012\n",
      "Generation - 8\n",
      "13/13 [==============================] - 0s 3ms/step - loss: 0.0041\n",
      "13/13 [==============================] - 0s 3ms/step - loss: 0.0134\n",
      "Generation - 9\n",
      "13/13 [==============================] - 0s 3ms/step - loss: 0.0021\n",
      "13/13 [==============================] - 0s 4ms/step - loss: 0.0015\n",
      "Generation - 10\n",
      "13/13 [==============================] - 0s 4ms/step - loss: 0.0016\n",
      "13/13 [==============================] - 0s 3ms/step - loss: 0.0038\n",
      "Generation - 11\n",
      "13/13 [==============================] - 0s 4ms/step - loss: 0.0043\n",
      "13/13 [==============================] - 0s 4ms/step - loss: 0.0048\n",
      "Generation - 12\n",
      "13/13 [==============================] - 0s 4ms/step - loss: 0.0011\n",
      "13/13 [==============================] - 0s 4ms/step - loss: 0.0023\n",
      "Generation - 13\n",
      "13/13 [==============================] - 0s 4ms/step - loss: 0.0014\n",
      "13/13 [==============================] - 0s 3ms/step - loss: 0.0021\n",
      "Generation - 14\n",
      "13/13 [==============================] - 0s 3ms/step - loss: 0.0032\n",
      "13/13 [==============================] - 0s 3ms/step - loss: 0.0015\n",
      "Generation - 15\n",
      "13/13 [==============================] - 0s 3ms/step - loss: 0.0023\n",
      "13/13 [==============================] - 0s 4ms/step - loss: 0.0033\n",
      "Generation - 16\n",
      "13/13 [==============================] - 0s 3ms/step - loss: 0.0020\n",
      "13/13 [==============================] - 0s 3ms/step - loss: 0.0012\n",
      "Generation - 17\n",
      "13/13 [==============================] - 0s 3ms/step - loss: 0.0024\n",
      "13/13 [==============================] - 0s 4ms/step - loss: 0.0039\n",
      "Generation - 18\n",
      "13/13 [==============================] - 0s 4ms/step - loss: 0.0010\n",
      "13/13 [==============================] - 0s 3ms/step - loss: 0.0011\n",
      "Generation - 19\n",
      "13/13 [==============================] - 0s 3ms/step - loss: 0.0023\n",
      "13/13 [==============================] - 0s 4ms/step - loss: 0.0069\n",
      "Generation - 20\n",
      "13/13 [==============================] - 0s 3ms/step - loss: 0.0060\n",
      "13/13 [==============================] - 0s 3ms/step - loss: 0.0013\n",
      "Generation - 21\n",
      "13/13 [==============================] - 0s 3ms/step - loss: 0.0034\n",
      "13/13 [==============================] - 0s 4ms/step - loss: 0.0010\n",
      "Generation - 22\n",
      "13/13 [==============================] - 0s 3ms/step - loss: 0.0022\n",
      "13/13 [==============================] - 0s 3ms/step - loss: 0.0062\n",
      "Generation - 23\n",
      "13/13 [==============================] - 0s 4ms/step - loss: 0.0014\n",
      "13/13 [==============================] - 0s 4ms/step - loss: 0.0096\n",
      "Generation - 24\n",
      "13/13 [==============================] - 0s 3ms/step - loss: 0.0012\n",
      "13/13 [==============================] - 0s 4ms/step - loss: 0.0030\n",
      "Generation - 25\n",
      "13/13 [==============================] - 0s 3ms/step - loss: 0.0015\n",
      "13/13 [==============================] - 0s 3ms/step - loss: 0.0017\n",
      "Generation - 26\n",
      "13/13 [==============================] - 0s 4ms/step - loss: 0.0037\n",
      "13/13 [==============================] - 0s 3ms/step - loss: 0.0025\n",
      "Generation - 27\n",
      "13/13 [==============================] - 0s 4ms/step - loss: 0.0073\n",
      "13/13 [==============================] - 0s 4ms/step - loss: 0.0062\n",
      "Generation - 28\n",
      "13/13 [==============================] - 0s 3ms/step - loss: 0.0024\n",
      "13/13 [==============================] - 0s 5ms/step - loss: 0.0020\n",
      "Generation - 29\n",
      "13/13 [==============================] - 0s 3ms/step - loss: 0.0019\n",
      "13/13 [==============================] - 0s 4ms/step - loss: 0.0012\n",
      "Generation - 30\n",
      "13/13 [==============================] - 0s 3ms/step - loss: 0.0070\n",
      "13/13 [==============================] - 0s 3ms/step - loss: 0.0015\n",
      "Generation - 31\n",
      "13/13 [==============================] - 0s 3ms/step - loss: 0.0046\n",
      "13/13 [==============================] - 0s 4ms/step - loss: 0.0019\n",
      "Generation - 32\n",
      "13/13 [==============================] - 0s 4ms/step - loss: 0.0011\n",
      "13/13 [==============================] - 0s 3ms/step - loss: 0.0021\n",
      "Generation - 33\n",
      "13/13 [==============================] - 0s 3ms/step - loss: 0.0080\n",
      "13/13 [==============================] - 0s 4ms/step - loss: 0.0012\n",
      "Generation - 34\n",
      "13/13 [==============================] - 0s 3ms/step - loss: 0.0027\n",
      "13/13 [==============================] - 0s 4ms/step - loss: 0.0032\n",
      "Generation - 35\n",
      "13/13 [==============================] - 0s 4ms/step - loss: 0.0059\n",
      "13/13 [==============================] - 0s 3ms/step - loss: 0.0011\n",
      "Generation - 36\n",
      "13/13 [==============================] - 0s 4ms/step - loss: 0.0011\n",
      "13/13 [==============================] - 0s 4ms/step - loss: 0.0011\n",
      "Generation - 37\n",
      "13/13 [==============================] - 0s 3ms/step - loss: 0.0013\n",
      "13/13 [==============================] - 0s 3ms/step - loss: 0.0066\n",
      "Generation - 38\n",
      "13/13 [==============================] - 0s 4ms/step - loss: 0.0022\n",
      "13/13 [==============================] - 0s 3ms/step - loss: 0.0033\n",
      "Generation - 39\n",
      "13/13 [==============================] - 0s 3ms/step - loss: 0.0030\n",
      "13/13 [==============================] - 0s 4ms/step - loss: 0.0011\n",
      "Generation - 40\n",
      "13/13 [==============================] - 0s 3ms/step - loss: 0.0014\n",
      "13/13 [==============================] - 0s 3ms/step - loss: 0.0019\n",
      "Generation - 41\n",
      "13/13 [==============================] - 0s 4ms/step - loss: 0.0014\n",
      "13/13 [==============================] - 0s 3ms/step - loss: 0.0029\n",
      "Generation - 42\n",
      "13/13 [==============================] - 0s 3ms/step - loss: 0.0015\n",
      "13/13 [==============================] - 0s 6ms/step - loss: 0.0020\n",
      "Generation - 43\n",
      "13/13 [==============================] - 0s 3ms/step - loss: 0.0041\n",
      "13/13 [==============================] - 0s 3ms/step - loss: 0.0016\n",
      "Generation - 44\n",
      "13/13 [==============================] - 0s 4ms/step - loss: 0.0012\n",
      "13/13 [==============================] - 0s 3ms/step - loss: 0.0084\n",
      "Generation - 45\n",
      "13/13 [==============================] - 0s 3ms/step - loss: 0.0011\n",
      "13/13 [==============================] - 0s 4ms/step - loss: 0.0036\n",
      "Generation - 46\n",
      "13/13 [==============================] - 0s 3ms/step - loss: 0.0157\n",
      "13/13 [==============================] - 0s 3ms/step - loss: 0.0027\n",
      "Generation - 47\n",
      "13/13 [==============================] - 0s 3ms/step - loss: 0.0043\n",
      "13/13 [==============================] - 0s 4ms/step - loss: 0.0011\n",
      "Generation - 48\n",
      "13/13 [==============================] - 0s 3ms/step - loss: 0.0018\n",
      "13/13 [==============================] - 0s 3ms/step - loss: 0.0017\n",
      "Generation - 49\n",
      "13/13 [==============================] - 0s 4ms/step - loss: 0.0018\n",
      "13/13 [==============================] - 0s 3ms/step - loss: 0.0077\n",
      "Generation - 50\n",
      "13/13 [==============================] - 0s 3ms/step - loss: 0.0016\n",
      "13/13 [==============================] - 0s 4ms/step - loss: 0.0025\n"
     ]
    }
   ],
   "source": [
    "# Do not increase this value\n",
    "generations = 50\n",
    "mutation_rate = 5\n",
    "\n",
    "time = timer(None)\n",
    "best_chromosome, best_fitness, max_fitness_each_gen = genetic_algorithm(generations, mutation_rate)\n",
    "time = timer(time)"
   ]
  },
  {
   "cell_type": "code",
   "execution_count": 12,
   "id": "1b06f454",
   "metadata": {
    "execution": {
     "iopub.execute_input": "2024-02-05T17:15:15.943070Z",
     "iopub.status.busy": "2024-02-05T17:15:15.942754Z",
     "iopub.status.idle": "2024-02-05T17:15:15.947515Z",
     "shell.execute_reply": "2024-02-05T17:15:15.946647Z"
    },
    "papermill": {
     "duration": 0.034268,
     "end_time": "2024-02-05T17:15:15.949453",
     "exception": false,
     "start_time": "2024-02-05T17:15:15.915185",
     "status": "completed"
    },
    "tags": []
   },
   "outputs": [
    {
     "name": "stdout",
     "output_type": "stream",
     "text": [
      "Best Chromosome: [247 223 220]\n",
      "Best Fitness: -0.0010239018592983484\n",
      "Time Taken: 0 hours 18 minutes and 32.13 seconds.\n"
     ]
    }
   ],
   "source": [
    "print(\"Best Chromosome:\", best_chromosome)\n",
    "print(\"Best Fitness:\", best_fitness)\n",
    "print(\"Time Taken:\", time)"
   ]
  },
  {
   "cell_type": "code",
   "execution_count": 13,
   "id": "7e5abde9",
   "metadata": {
    "execution": {
     "iopub.execute_input": "2024-02-05T17:15:16.005320Z",
     "iopub.status.busy": "2024-02-05T17:15:16.005063Z",
     "iopub.status.idle": "2024-02-05T17:15:16.011186Z",
     "shell.execute_reply": "2024-02-05T17:15:16.010261Z"
    },
    "papermill": {
     "duration": 0.036767,
     "end_time": "2024-02-05T17:15:16.013079",
     "exception": false,
     "start_time": "2024-02-05T17:15:15.976312",
     "status": "completed"
    },
    "tags": []
   },
   "outputs": [
    {
     "data": {
      "text/plain": [
       "[-0.0010361711028963327,\n",
       " -0.0010361711028963327,\n",
       " -0.0010361711028963327,\n",
       " -0.0010361711028963327,\n",
       " -0.0010361711028963327,\n",
       " -0.0010361711028963327,\n",
       " -0.0010361711028963327,\n",
       " -0.0010361711028963327,\n",
       " -0.0010361711028963327,\n",
       " -0.0010361711028963327,\n",
       " -0.0010361711028963327,\n",
       " -0.0010361711028963327,\n",
       " -0.0010361711028963327,\n",
       " -0.0010361711028963327,\n",
       " -0.0010361711028963327,\n",
       " -0.0010361711028963327,\n",
       " -0.0010361711028963327,\n",
       " -0.0010361711028963327,\n",
       " -0.0010239018592983484,\n",
       " -0.0010239018592983484,\n",
       " -0.0010239018592983484,\n",
       " -0.0010239018592983484,\n",
       " -0.0010239018592983484,\n",
       " -0.0010239018592983484,\n",
       " -0.0010239018592983484,\n",
       " -0.0010239018592983484,\n",
       " -0.0010239018592983484,\n",
       " -0.0010239018592983484,\n",
       " -0.0010239018592983484,\n",
       " -0.0010239018592983484,\n",
       " -0.0010239018592983484,\n",
       " -0.0010239018592983484,\n",
       " -0.0010239018592983484,\n",
       " -0.0010239018592983484,\n",
       " -0.0010239018592983484,\n",
       " -0.0010239018592983484,\n",
       " -0.0010239018592983484,\n",
       " -0.0010239018592983484,\n",
       " -0.0010239018592983484,\n",
       " -0.0010239018592983484,\n",
       " -0.0010239018592983484,\n",
       " -0.0010239018592983484,\n",
       " -0.0010239018592983484,\n",
       " -0.0010239018592983484,\n",
       " -0.0010239018592983484,\n",
       " -0.0010239018592983484,\n",
       " -0.0010239018592983484,\n",
       " -0.0010239018592983484,\n",
       " -0.0010239018592983484,\n",
       " -0.0010239018592983484]"
      ]
     },
     "execution_count": 13,
     "metadata": {},
     "output_type": "execute_result"
    }
   ],
   "source": [
    "max_fitness_each_gen"
   ]
  },
  {
   "cell_type": "markdown",
   "id": "6f84437e",
   "metadata": {
    "papermill": {
     "duration": 0.026734,
     "end_time": "2024-02-05T17:15:16.066675",
     "exception": false,
     "start_time": "2024-02-05T17:15:16.039941",
     "status": "completed"
    },
    "tags": []
   },
   "source": [
    "## Re-Training Model with Best Parameter"
   ]
  },
  {
   "cell_type": "code",
   "execution_count": 14,
   "id": "f0a8f65c",
   "metadata": {
    "execution": {
     "iopub.execute_input": "2024-02-05T17:15:16.122289Z",
     "iopub.status.busy": "2024-02-05T17:15:16.121795Z",
     "iopub.status.idle": "2024-02-05T17:15:17.758001Z",
     "shell.execute_reply": "2024-02-05T17:15:17.756657Z"
    },
    "papermill": {
     "duration": 1.669713,
     "end_time": "2024-02-05T17:15:17.763478",
     "exception": false,
     "start_time": "2024-02-05T17:15:16.093765",
     "status": "completed"
    },
    "tags": []
   },
   "outputs": [
    {
     "name": "stdout",
     "output_type": "stream",
     "text": [
      "Model: \"sequential_1\"\n",
      "_________________________________________________________________\n",
      " Layer (type)                Output Shape              Param #   \n",
      "=================================================================\n",
      " lstm_3 (LSTM)               (None, 10, 247)           246012    \n",
      "                                                                 \n",
      " lstm_4 (LSTM)               (None, 10, 223)           420132    \n",
      "                                                                 \n",
      " lstm_5 (LSTM)               (None, 220)               390720    \n",
      "                                                                 \n",
      " dense_1 (Dense)             (None, 1)                 221       \n",
      "                                                                 \n",
      "=================================================================\n",
      "Total params: 1,057,085\n",
      "Trainable params: 1,057,085\n",
      "Non-trainable params: 0\n",
      "_________________________________________________________________\n"
     ]
    }
   ],
   "source": [
    "model = Sequential()\n",
    "for i, units in enumerate(best_chromosome[:LSTM_Layer]):\n",
    "    model.add(LSTM(units, return_sequences=(i < LSTM_Layer - 1), input_shape=(WINDOW_SIZE, 1)))\n",
    "model.add(Dense(1))\n",
    "\n",
    "model.summary()"
   ]
  },
  {
   "cell_type": "code",
   "execution_count": 15,
   "id": "af179fa3",
   "metadata": {
    "execution": {
     "iopub.execute_input": "2024-02-05T17:15:17.824871Z",
     "iopub.status.busy": "2024-02-05T17:15:17.824582Z",
     "iopub.status.idle": "2024-02-05T17:15:41.989982Z",
     "shell.execute_reply": "2024-02-05T17:15:41.989191Z"
    },
    "papermill": {
     "duration": 24.197899,
     "end_time": "2024-02-05T17:15:41.991925",
     "exception": false,
     "start_time": "2024-02-05T17:15:17.794026",
     "status": "completed"
    },
    "tags": []
   },
   "outputs": [
    {
     "name": "stdout",
     "output_type": "stream",
     "text": [
      "Epoch 1/50\n",
      "45/45 [==============================] - 6s 31ms/step - loss: 0.0143 - mae: 0.0755 - root_mean_squared_error: 0.1194 - val_loss: 6.2762e-04 - val_mae: 0.0185 - val_root_mean_squared_error: 0.0251\n",
      "Epoch 2/50\n",
      "45/45 [==============================] - 0s 8ms/step - loss: 0.0035 - mae: 0.0404 - root_mean_squared_error: 0.0592 - val_loss: 0.0023 - val_mae: 0.0431 - val_root_mean_squared_error: 0.0479\n",
      "Epoch 3/50\n",
      "45/45 [==============================] - 0s 8ms/step - loss: 0.0038 - mae: 0.0434 - root_mean_squared_error: 0.0619 - val_loss: 0.0011 - val_mae: 0.0279 - val_root_mean_squared_error: 0.0333\n",
      "Epoch 4/50\n",
      "45/45 [==============================] - 0s 8ms/step - loss: 0.0037 - mae: 0.0423 - root_mean_squared_error: 0.0606 - val_loss: 6.2428e-04 - val_mae: 0.0182 - val_root_mean_squared_error: 0.0250\n",
      "Epoch 5/50\n",
      "45/45 [==============================] - 0s 8ms/step - loss: 0.0032 - mae: 0.0395 - root_mean_squared_error: 0.0570 - val_loss: 0.0044 - val_mae: 0.0623 - val_root_mean_squared_error: 0.0660\n",
      "Epoch 6/50\n",
      "45/45 [==============================] - 0s 8ms/step - loss: 0.0030 - mae: 0.0388 - root_mean_squared_error: 0.0549 - val_loss: 7.1085e-04 - val_mae: 0.0211 - val_root_mean_squared_error: 0.0267\n",
      "Epoch 7/50\n",
      "45/45 [==============================] - 0s 8ms/step - loss: 0.0029 - mae: 0.0379 - root_mean_squared_error: 0.0541 - val_loss: 9.6669e-04 - val_mae: 0.0262 - val_root_mean_squared_error: 0.0311\n",
      "Epoch 8/50\n",
      "45/45 [==============================] - 0s 8ms/step - loss: 0.0028 - mae: 0.0370 - root_mean_squared_error: 0.0526 - val_loss: 5.1284e-04 - val_mae: 0.0167 - val_root_mean_squared_error: 0.0226\n",
      "Epoch 9/50\n",
      "45/45 [==============================] - 0s 8ms/step - loss: 0.0024 - mae: 0.0342 - root_mean_squared_error: 0.0490 - val_loss: 4.6603e-04 - val_mae: 0.0155 - val_root_mean_squared_error: 0.0216\n",
      "Epoch 10/50\n",
      "45/45 [==============================] - 0s 8ms/step - loss: 0.0025 - mae: 0.0354 - root_mean_squared_error: 0.0502 - val_loss: 0.0016 - val_mae: 0.0368 - val_root_mean_squared_error: 0.0406\n",
      "Epoch 11/50\n",
      "45/45 [==============================] - 0s 8ms/step - loss: 0.0029 - mae: 0.0393 - root_mean_squared_error: 0.0536 - val_loss: 0.0013 - val_mae: 0.0320 - val_root_mean_squared_error: 0.0366\n",
      "Epoch 12/50\n",
      "45/45 [==============================] - 0s 8ms/step - loss: 0.0025 - mae: 0.0371 - root_mean_squared_error: 0.0502 - val_loss: 5.2786e-04 - val_mae: 0.0173 - val_root_mean_squared_error: 0.0230\n",
      "Epoch 13/50\n",
      "45/45 [==============================] - 0s 8ms/step - loss: 0.0020 - mae: 0.0305 - root_mean_squared_error: 0.0444 - val_loss: 5.1796e-04 - val_mae: 0.0172 - val_root_mean_squared_error: 0.0228\n",
      "Epoch 14/50\n",
      "45/45 [==============================] - 0s 8ms/step - loss: 0.0025 - mae: 0.0357 - root_mean_squared_error: 0.0501 - val_loss: 3.9257e-04 - val_mae: 0.0142 - val_root_mean_squared_error: 0.0198\n",
      "Epoch 15/50\n",
      "45/45 [==============================] - 0s 8ms/step - loss: 0.0018 - mae: 0.0293 - root_mean_squared_error: 0.0424 - val_loss: 5.1065e-04 - val_mae: 0.0178 - val_root_mean_squared_error: 0.0226\n",
      "Epoch 16/50\n",
      "45/45 [==============================] - 0s 8ms/step - loss: 0.0018 - mae: 0.0298 - root_mean_squared_error: 0.0429 - val_loss: 7.2418e-04 - val_mae: 0.0227 - val_root_mean_squared_error: 0.0269\n",
      "Epoch 17/50\n",
      "45/45 [==============================] - 0s 8ms/step - loss: 0.0019 - mae: 0.0305 - root_mean_squared_error: 0.0434 - val_loss: 0.0013 - val_mae: 0.0326 - val_root_mean_squared_error: 0.0366\n",
      "Epoch 18/50\n",
      "45/45 [==============================] - 0s 8ms/step - loss: 0.0020 - mae: 0.0322 - root_mean_squared_error: 0.0445 - val_loss: 0.0018 - val_mae: 0.0383 - val_root_mean_squared_error: 0.0420\n",
      "Epoch 19/50\n",
      "45/45 [==============================] - 0s 8ms/step - loss: 0.0018 - mae: 0.0303 - root_mean_squared_error: 0.0428 - val_loss: 5.4116e-04 - val_mae: 0.0191 - val_root_mean_squared_error: 0.0233\n",
      "Epoch 20/50\n",
      "45/45 [==============================] - 0s 8ms/step - loss: 0.0018 - mae: 0.0298 - root_mean_squared_error: 0.0427 - val_loss: 5.0807e-04 - val_mae: 0.0184 - val_root_mean_squared_error: 0.0225\n",
      "Epoch 21/50\n",
      "45/45 [==============================] - 0s 9ms/step - loss: 0.0016 - mae: 0.0286 - root_mean_squared_error: 0.0405 - val_loss: 4.1775e-04 - val_mae: 0.0162 - val_root_mean_squared_error: 0.0204\n",
      "Epoch 22/50\n",
      "45/45 [==============================] - 0s 8ms/step - loss: 0.0017 - mae: 0.0289 - root_mean_squared_error: 0.0412 - val_loss: 0.0013 - val_mae: 0.0330 - val_root_mean_squared_error: 0.0362\n",
      "Epoch 23/50\n",
      "45/45 [==============================] - 0s 8ms/step - loss: 0.0016 - mae: 0.0281 - root_mean_squared_error: 0.0403 - val_loss: 5.7311e-04 - val_mae: 0.0203 - val_root_mean_squared_error: 0.0239\n",
      "Epoch 24/50\n",
      "45/45 [==============================] - 0s 8ms/step - loss: 0.0015 - mae: 0.0264 - root_mean_squared_error: 0.0389 - val_loss: 2.9294e-04 - val_mae: 0.0125 - val_root_mean_squared_error: 0.0171\n",
      "Epoch 25/50\n",
      "45/45 [==============================] - 0s 8ms/step - loss: 0.0016 - mae: 0.0276 - root_mean_squared_error: 0.0403 - val_loss: 6.5081e-04 - val_mae: 0.0221 - val_root_mean_squared_error: 0.0255\n",
      "Epoch 26/50\n",
      "45/45 [==============================] - 0s 8ms/step - loss: 0.0016 - mae: 0.0280 - root_mean_squared_error: 0.0404 - val_loss: 2.7246e-04 - val_mae: 0.0116 - val_root_mean_squared_error: 0.0165\n",
      "Epoch 27/50\n",
      "45/45 [==============================] - 0s 8ms/step - loss: 0.0016 - mae: 0.0279 - root_mean_squared_error: 0.0401 - val_loss: 4.3154e-04 - val_mae: 0.0168 - val_root_mean_squared_error: 0.0208\n",
      "Epoch 28/50\n",
      "45/45 [==============================] - 0s 8ms/step - loss: 0.0018 - mae: 0.0305 - root_mean_squared_error: 0.0427 - val_loss: 6.9018e-04 - val_mae: 0.0230 - val_root_mean_squared_error: 0.0263\n",
      "Epoch 29/50\n",
      "45/45 [==============================] - 0s 8ms/step - loss: 0.0016 - mae: 0.0269 - root_mean_squared_error: 0.0394 - val_loss: 4.5605e-04 - val_mae: 0.0172 - val_root_mean_squared_error: 0.0214\n",
      "Epoch 30/50\n",
      "45/45 [==============================] - 0s 8ms/step - loss: 0.0016 - mae: 0.0286 - root_mean_squared_error: 0.0404 - val_loss: 3.1421e-04 - val_mae: 0.0131 - val_root_mean_squared_error: 0.0177\n",
      "Epoch 31/50\n",
      "45/45 [==============================] - 0s 8ms/step - loss: 0.0015 - mae: 0.0266 - root_mean_squared_error: 0.0390 - val_loss: 2.9738e-04 - val_mae: 0.0127 - val_root_mean_squared_error: 0.0172\n",
      "Epoch 32/50\n",
      "45/45 [==============================] - 0s 8ms/step - loss: 0.0015 - mae: 0.0263 - root_mean_squared_error: 0.0388 - val_loss: 3.6885e-04 - val_mae: 0.0147 - val_root_mean_squared_error: 0.0192\n",
      "Epoch 33/50\n",
      "45/45 [==============================] - 0s 8ms/step - loss: 0.0016 - mae: 0.0274 - root_mean_squared_error: 0.0398 - val_loss: 2.5871e-04 - val_mae: 0.0113 - val_root_mean_squared_error: 0.0161\n",
      "Epoch 34/50\n",
      "45/45 [==============================] - 0s 8ms/step - loss: 0.0015 - mae: 0.0266 - root_mean_squared_error: 0.0388 - val_loss: 4.8602e-04 - val_mae: 0.0179 - val_root_mean_squared_error: 0.0220\n",
      "Epoch 35/50\n",
      "45/45 [==============================] - 0s 8ms/step - loss: 0.0016 - mae: 0.0276 - root_mean_squared_error: 0.0398 - val_loss: 2.6658e-04 - val_mae: 0.0115 - val_root_mean_squared_error: 0.0163\n",
      "Epoch 36/50\n",
      "45/45 [==============================] - 0s 8ms/step - loss: 0.0016 - mae: 0.0284 - root_mean_squared_error: 0.0404 - val_loss: 4.7460e-04 - val_mae: 0.0178 - val_root_mean_squared_error: 0.0218\n",
      "Epoch 37/50\n",
      "45/45 [==============================] - 0s 8ms/step - loss: 0.0016 - mae: 0.0275 - root_mean_squared_error: 0.0395 - val_loss: 7.9422e-04 - val_mae: 0.0251 - val_root_mean_squared_error: 0.0282\n",
      "Epoch 38/50\n",
      "45/45 [==============================] - 0s 8ms/step - loss: 0.0017 - mae: 0.0294 - root_mean_squared_error: 0.0411 - val_loss: 3.6644e-04 - val_mae: 0.0149 - val_root_mean_squared_error: 0.0191\n",
      "Epoch 39/50\n",
      "45/45 [==============================] - 0s 8ms/step - loss: 0.0015 - mae: 0.0270 - root_mean_squared_error: 0.0388 - val_loss: 4.5462e-04 - val_mae: 0.0175 - val_root_mean_squared_error: 0.0213\n",
      "Epoch 40/50\n",
      "45/45 [==============================] - 0s 8ms/step - loss: 0.0015 - mae: 0.0266 - root_mean_squared_error: 0.0388 - val_loss: 3.1202e-04 - val_mae: 0.0132 - val_root_mean_squared_error: 0.0177\n",
      "Epoch 41/50\n",
      "45/45 [==============================] - 0s 8ms/step - loss: 0.0016 - mae: 0.0281 - root_mean_squared_error: 0.0405 - val_loss: 6.5298e-04 - val_mae: 0.0222 - val_root_mean_squared_error: 0.0256\n",
      "Epoch 42/50\n",
      "45/45 [==============================] - 0s 8ms/step - loss: 0.0019 - mae: 0.0313 - root_mean_squared_error: 0.0437 - val_loss: 4.8239e-04 - val_mae: 0.0182 - val_root_mean_squared_error: 0.0220\n",
      "Epoch 43/50\n",
      "45/45 [==============================] - 0s 8ms/step - loss: 0.0018 - mae: 0.0301 - root_mean_squared_error: 0.0425 - val_loss: 3.5797e-04 - val_mae: 0.0144 - val_root_mean_squared_error: 0.0189\n",
      "Epoch 44/50\n",
      "45/45 [==============================] - 0s 8ms/step - loss: 0.0016 - mae: 0.0281 - root_mean_squared_error: 0.0406 - val_loss: 3.0626e-04 - val_mae: 0.0131 - val_root_mean_squared_error: 0.0175\n",
      "Epoch 45/50\n",
      "45/45 [==============================] - 0s 8ms/step - loss: 0.0017 - mae: 0.0287 - root_mean_squared_error: 0.0412 - val_loss: 9.4384e-04 - val_mae: 0.0274 - val_root_mean_squared_error: 0.0307\n",
      "Epoch 46/50\n",
      "45/45 [==============================] - 0s 8ms/step - loss: 0.0016 - mae: 0.0270 - root_mean_squared_error: 0.0396 - val_loss: 2.6217e-04 - val_mae: 0.0113 - val_root_mean_squared_error: 0.0162\n",
      "Epoch 47/50\n",
      "45/45 [==============================] - 0s 8ms/step - loss: 0.0016 - mae: 0.0277 - root_mean_squared_error: 0.0400 - val_loss: 2.7497e-04 - val_mae: 0.0117 - val_root_mean_squared_error: 0.0166\n",
      "Epoch 48/50\n",
      "45/45 [==============================] - 0s 9ms/step - loss: 0.0015 - mae: 0.0263 - root_mean_squared_error: 0.0388 - val_loss: 3.0280e-04 - val_mae: 0.0129 - val_root_mean_squared_error: 0.0174\n",
      "Epoch 49/50\n",
      "45/45 [==============================] - 0s 8ms/step - loss: 0.0016 - mae: 0.0281 - root_mean_squared_error: 0.0401 - val_loss: 3.4554e-04 - val_mae: 0.0143 - val_root_mean_squared_error: 0.0186\n",
      "Epoch 50/50\n",
      "45/45 [==============================] - 0s 9ms/step - loss: 0.0015 - mae: 0.0262 - root_mean_squared_error: 0.0390 - val_loss: 3.0466e-04 - val_mae: 0.0128 - val_root_mean_squared_error: 0.0175\n"
     ]
    }
   ],
   "source": [
    "model.compile(loss='mean_squared_error',\n",
    "              metrics=['mae', RootMeanSquaredError()],\n",
    "              optimizer='adam')\n",
    "\n",
    "history = model.fit(X_train,\n",
    "                    y_train,\n",
    "                    epochs=50,\n",
    "                    batch_size=32,\n",
    "                    validation_split=0.1)"
   ]
  },
  {
   "cell_type": "code",
   "execution_count": 16,
   "id": "bea8c314",
   "metadata": {
    "execution": {
     "iopub.execute_input": "2024-02-05T17:15:42.111655Z",
     "iopub.status.busy": "2024-02-05T17:15:42.111254Z",
     "iopub.status.idle": "2024-02-05T17:15:42.228206Z",
     "shell.execute_reply": "2024-02-05T17:15:42.227283Z"
    },
    "papermill": {
     "duration": 0.179706,
     "end_time": "2024-02-05T17:15:42.230098",
     "exception": false,
     "start_time": "2024-02-05T17:15:42.050392",
     "status": "completed"
    },
    "tags": []
   },
   "outputs": [
    {
     "name": "stdout",
     "output_type": "stream",
     "text": [
      "13/13 [==============================] - 0s 4ms/step - loss: 5.1376e-04 - mae: 0.0163 - root_mean_squared_error: 0.0227\n"
     ]
    },
    {
     "data": {
      "text/plain": [
       "[0.0005137586849741638, 0.016324952244758606, 0.022666245698928833]"
      ]
     },
     "execution_count": 16,
     "metadata": {},
     "output_type": "execute_result"
    }
   ],
   "source": [
    "model.evaluate(X_test, y_test)"
   ]
  },
  {
   "cell_type": "markdown",
   "id": "c4fcdb6f",
   "metadata": {
    "papermill": {
     "duration": 0.058771,
     "end_time": "2024-02-05T17:15:42.348238",
     "exception": false,
     "start_time": "2024-02-05T17:15:42.289467",
     "status": "completed"
    },
    "tags": []
   },
   "source": [
    "## Model Evaluation"
   ]
  },
  {
   "cell_type": "code",
   "execution_count": 17,
   "id": "b6cd2389",
   "metadata": {
    "execution": {
     "iopub.execute_input": "2024-02-05T17:15:42.465250Z",
     "iopub.status.busy": "2024-02-05T17:15:42.464419Z",
     "iopub.status.idle": "2024-02-05T17:15:42.757234Z",
     "shell.execute_reply": "2024-02-05T17:15:42.756392Z"
    },
    "papermill": {
     "duration": 0.353388,
     "end_time": "2024-02-05T17:15:42.759238",
     "exception": false,
     "start_time": "2024-02-05T17:15:42.405850",
     "status": "completed"
    },
    "tags": []
   },
   "outputs": [
    {
     "data": {
      "image/png": "[encoded data removed]",
      "text/plain": [
       "<Figure size 640x480 with 1 Axes>"
      ]
     },
     "metadata": {},
     "output_type": "display_data"
    }
   ],
   "source": [
    "plt.plot(history.history['loss'])\n",
    "plt.plot(history.history['val_loss'])\n",
    "plt.title(f'{SHEET_NAME} Model Loss', fontsize=15)\n",
    "plt.ylabel('loss')\n",
    "plt.xlabel('epoch')\n",
    "plt.legend(['train', 'test'])\n",
    "plt.show()"
   ]
  },
  {
   "cell_type": "code",
   "execution_count": 18,
   "id": "21532c06",
   "metadata": {
    "execution": {
     "iopub.execute_input": "2024-02-05T17:15:42.883996Z",
     "iopub.status.busy": "2024-02-05T17:15:42.883489Z",
     "iopub.status.idle": "2024-02-05T17:15:43.981176Z",
     "shell.execute_reply": "2024-02-05T17:15:43.980363Z"
    },
    "papermill": {
     "duration": 1.165606,
     "end_time": "2024-02-05T17:15:43.983143",
     "exception": false,
     "start_time": "2024-02-05T17:15:42.817537",
     "status": "completed"
    },
    "tags": []
   },
   "outputs": [
    {
     "name": "stdout",
     "output_type": "stream",
     "text": [
      "13/13 [==============================] - 1s 3ms/step\n"
     ]
    }
   ],
   "source": [
    "y_hat = model.predict(X_test)\n",
    "y_test_inverse = scaler.inverse_transform(y_test)\n",
    "y_hat_inverse = scaler.inverse_transform(y_hat)"
   ]
  },
  {
   "cell_type": "code",
   "execution_count": 19,
   "id": "ecb51c62",
   "metadata": {
    "execution": {
     "iopub.execute_input": "2024-02-05T17:15:44.105201Z",
     "iopub.status.busy": "2024-02-05T17:15:44.104675Z",
     "iopub.status.idle": "2024-02-05T17:15:44.444231Z",
     "shell.execute_reply": "2024-02-05T17:15:44.443319Z"
    },
    "papermill": {
     "duration": 0.402533,
     "end_time": "2024-02-05T17:15:44.446164",
     "exception": false,
     "start_time": "2024-02-05T17:15:44.043631",
     "status": "completed"
    },
    "tags": []
   },
   "outputs": [
    {
     "data": {
      "image/png": "[encoded data removed]",
      "text/plain": [
       "<Figure size 640x480 with 1 Axes>"
      ]
     },
     "metadata": {},
     "output_type": "display_data"
    }
   ],
   "source": [
    "plt.plot(y_test_inverse, label=\"Actual Price\", color='green')\n",
    "plt.plot(y_hat_inverse, label=\"Predicted Price\", color='red')\n",
    " \n",
    "plt.title(f'{SHEET_NAME} Price Prediction\\nLSTM = {LSTM_Layer}, Split Data = {SPLIT}, Window = {WINDOW_SIZE}', fontsize=15)\n",
    "plt.xlabel('Time [days]')\n",
    "plt.ylabel('Price')\n",
    "plt.legend(loc='best')\n",
    " \n",
    "plt.show()"
   ]
  },
  {
   "cell_type": "code",
   "execution_count": 20,
   "id": "18d52647",
   "metadata": {
    "execution": {
     "iopub.execute_input": "2024-02-05T17:15:44.566334Z",
     "iopub.status.busy": "2024-02-05T17:15:44.566034Z",
     "iopub.status.idle": "2024-02-05T17:15:44.574947Z",
     "shell.execute_reply": "2024-02-05T17:15:44.573830Z"
    },
    "papermill": {
     "duration": 0.070665,
     "end_time": "2024-02-05T17:15:44.576762",
     "exception": false,
     "start_time": "2024-02-05T17:15:44.506097",
     "status": "completed"
    },
    "tags": []
   },
   "outputs": [
    {
     "name": "stdout",
     "output_type": "stream",
     "text": [
      "LSTM = 3, Split Data = 0.8, Window = 10\n",
      "\n",
      "----------------- Normalized Error -----------------\n",
      "Mean Absolute Error for prediction : 0.016324950223037583\n",
      "Mean Squared Error for prediction : 0.0005137586809944465\n",
      "Root Mean Squared Error for prediction : 0.022666245410178688\n",
      "\n",
      "----------------- Actual Error -----------------\n",
      "Mean Absolute Error for prediction : 42.057121966212044\n",
      "Mean Squared Error for prediction : 3409.84368938535\n",
      "Root Mean Squared Error for prediction : 58.39386688159425\n"
     ]
    }
   ],
   "source": [
    "def matrices(actual, predicted):\n",
    "    mse = mean_squared_error(actual, predicted)\n",
    "    mae = mean_absolute_error(actual, predicted)\n",
    "    rmse = np.sqrt(mse)\n",
    "    print(\"Mean Absolute Error for prediction :\", mae)\n",
    "    print(\"Mean Squared Error for prediction :\", mse)\n",
    "    print(\"Root Mean Squared Error for prediction :\", rmse)\n",
    "    return mae, mse, rmse\n",
    "\n",
    "print(f\"LSTM = {LSTM_Layer}, Split Data = {SPLIT}, Window = {WINDOW_SIZE}\")\n",
    "print(\"\\n----------------- Normalized Error -----------------\")\n",
    "mae, mse, rmse = matrices(y_test, y_hat)\n",
    "print(\"\\n----------------- Actual Error -----------------\")\n",
    "mae_inverse, mse_inverse, rmse_inverse = matrices(y_test_inverse, y_hat_inverse)"
   ]
  }
 ],
 "metadata": {
  "kaggle": {
   "accelerator": "gpu",
   "dataSources": [],
   "dockerImageVersionId": 30498,
   "isGpuEnabled": true,
   "isInternetEnabled": true,
   "language": "python",
   "sourceType": "notebook"
  },
  "kernelspec": {
   "display_name": "Python 3",
   "language": "python",
   "name": "python3"
  },
  "language_info": {
   "codemirror_mode": {
    "name": "ipython",
    "version": 3
   },
   "file_extension": ".py",
   "mimetype": "text/x-python",
   "name": "python",
   "nbconvert_exporter": "python",
   "pygments_lexer": "ipython3",
   "version": "3.10.10"
  },
  "papermill": {
   "default_parameters": {},
   "duration": 1165.172294,
   "end_time": "2024-02-05T17:15:48.039972",
   "environment_variables": {},
   "exception": null,
   "input_path": "__notebook__.ipynb",
   "output_path": "__notebook__.ipynb",
   "parameters": {},
   "start_time": "2024-02-05T16:56:22.867678",
   "version": "2.4.0"
  }
 },
 "nbformat": 4,
 "nbformat_minor": 5
}
