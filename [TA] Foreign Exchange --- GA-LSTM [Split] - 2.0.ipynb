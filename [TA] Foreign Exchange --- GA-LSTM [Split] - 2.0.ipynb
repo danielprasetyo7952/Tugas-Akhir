{
 "cells": [
  {
   "cell_type": "code",
   "execution_count": 1,
   "id": "85cf8ac2",
   "metadata": {
    "execution": {
     "iopub.execute_input": "2024-02-06T04:34:35.517911Z",
     "iopub.status.busy": "2024-02-06T04:34:35.517648Z",
     "iopub.status.idle": "2024-02-06T04:34:44.446365Z",
     "shell.execute_reply": "2024-02-06T04:34:44.445580Z"
    },
    "papermill": {
     "duration": 8.939,
     "end_time": "2024-02-06T04:34:44.448713",
     "exception": false,
     "start_time": "2024-02-06T04:34:35.509713",
     "status": "completed"
    },
    "tags": []
   },
   "outputs": [
    {
     "name": "stderr",
     "output_type": "stream",
     "text": [
      "/opt/conda/lib/python3.10/site-packages/tensorflow_io/python/ops/__init__.py:98: UserWarning: unable to load libtensorflow_io_plugins.so: unable to open file: libtensorflow_io_plugins.so, from paths: ['/opt/conda/lib/python3.10/site-packages/tensorflow_io/python/ops/libtensorflow_io_plugins.so']\n",
      "caused by: ['/opt/conda/lib/python3.10/site-packages/tensorflow_io/python/ops/libtensorflow_io_plugins.so: undefined symbol: _ZN3tsl6StatusC1EN10tensorflow5error4CodeESt17basic_string_viewIcSt11char_traitsIcEENS_14SourceLocationE']\n",
      "  warnings.warn(f\"unable to load libtensorflow_io_plugins.so: {e}\")\n",
      "/opt/conda/lib/python3.10/site-packages/tensorflow_io/python/ops/__init__.py:104: UserWarning: file system plugins are not loaded: unable to open file: libtensorflow_io.so, from paths: ['/opt/conda/lib/python3.10/site-packages/tensorflow_io/python/ops/libtensorflow_io.so']\n",
      "caused by: ['/opt/conda/lib/python3.10/site-packages/tensorflow_io/python/ops/libtensorflow_io.so: undefined symbol: _ZTVN10tensorflow13GcsFileSystemE']\n",
      "  warnings.warn(f\"file system plugins are not loaded: {e}\")\n"
     ]
    }
   ],
   "source": [
    "import pandas as pd\n",
    "import numpy as np\n",
    "import tensorflow as tf\n",
    "import matplotlib.pyplot as plt\n",
    "import datetime, pytz\n",
    "\n",
    "from keras.models import Sequential\n",
    "from keras.layers import LSTM, Dense\n",
    "from keras.metrics import RootMeanSquaredError\n",
    "\n",
    "from sklearn.preprocessing import MinMaxScaler\n",
    "from sklearn.metrics import mean_squared_error, mean_absolute_error"
   ]
  },
  {
   "cell_type": "markdown",
   "id": "0c9e5889",
   "metadata": {
    "papermill": {
     "duration": 0.006304,
     "end_time": "2024-02-06T04:34:44.461823",
     "exception": false,
     "start_time": "2024-02-06T04:34:44.455519",
     "status": "completed"
    },
    "tags": []
   },
   "source": [
    "## Hyperparameter"
   ]
  },
  {
   "cell_type": "code",
   "execution_count": 2,
   "id": "a2027020",
   "metadata": {
    "execution": {
     "iopub.execute_input": "2024-02-06T04:34:44.476034Z",
     "iopub.status.busy": "2024-02-06T04:34:44.475433Z",
     "iopub.status.idle": "2024-02-06T04:34:44.480221Z",
     "shell.execute_reply": "2024-02-06T04:34:44.479375Z"
    },
    "papermill": {
     "duration": 0.013927,
     "end_time": "2024-02-06T04:34:44.482112",
     "exception": false,
     "start_time": "2024-02-06T04:34:44.468185",
     "status": "completed"
    },
    "tags": []
   },
   "outputs": [],
   "source": [
    "# Google Spreadsheet ID\n",
    "SHEET_ID = '1JDNv_mArl-GPIpxuWS5GxgVEwvjXocS1MrXGc6TYs8M'\n",
    "SHEET_NAME = 'SGD/IDR' # USD/IDR, EUR/IDR, SGD/IDR\n",
    "\n",
    "SEQ_LEN = 21 # 6, 11, 21\n",
    "SPLIT = 0.90 # 0.80, 0.90\n",
    "LSTM_Layer = 1 # 1, 2, 3\n",
    "WINDOW_SIZE = SEQ_LEN - 1"
   ]
  },
  {
   "cell_type": "code",
   "execution_count": 3,
   "id": "efc3caa8",
   "metadata": {
    "execution": {
     "iopub.execute_input": "2024-02-06T04:34:44.496053Z",
     "iopub.status.busy": "2024-02-06T04:34:44.495761Z",
     "iopub.status.idle": "2024-02-06T04:34:45.996211Z",
     "shell.execute_reply": "2024-02-06T04:34:45.994817Z"
    },
    "papermill": {
     "duration": 1.509879,
     "end_time": "2024-02-06T04:34:45.998413",
     "exception": false,
     "start_time": "2024-02-06T04:34:44.488534",
     "status": "completed"
    },
    "tags": []
   },
   "outputs": [
    {
     "name": "stdout",
     "output_type": "stream",
     "text": [
      "<class 'pandas.core.frame.DataFrame'>\n",
      "RangeIndex: 1959 entries, 0 to 1958\n",
      "Data columns (total 2 columns):\n",
      " #   Column  Non-Null Count  Dtype         \n",
      "---  ------  --------------  -----         \n",
      " 0   Date    1959 non-null   datetime64[ns]\n",
      " 1   Close   1959 non-null   float64       \n",
      "dtypes: datetime64[ns](1), float64(1)\n",
      "memory usage: 30.7 KB\n"
     ]
    }
   ],
   "source": [
    "url = f'https://docs.google.com/spreadsheets/d/{SHEET_ID}/gviz/tq?tqx=out:csv&sheet={SHEET_NAME}'\n",
    "data = pd.read_csv(url)\n",
    "\n",
    "# Convert Date columns to datetime format\n",
    "data['Date'] = pd.to_datetime(data['Date'], format='%d/%m/%Y %H:%M:%S')\n",
    "data.info()"
   ]
  },
  {
   "cell_type": "markdown",
   "id": "9b8c2cfc",
   "metadata": {
    "papermill": {
     "duration": 0.006562,
     "end_time": "2024-02-06T04:34:46.011866",
     "exception": false,
     "start_time": "2024-02-06T04:34:46.005304",
     "status": "completed"
    },
    "tags": []
   },
   "source": [
    "## Preprocessing"
   ]
  },
  {
   "cell_type": "code",
   "execution_count": 4,
   "id": "761792c6",
   "metadata": {
    "execution": {
     "iopub.execute_input": "2024-02-06T04:34:46.026206Z",
     "iopub.status.busy": "2024-02-06T04:34:46.025928Z",
     "iopub.status.idle": "2024-02-06T04:34:46.038044Z",
     "shell.execute_reply": "2024-02-06T04:34:46.037080Z"
    },
    "papermill": {
     "duration": 0.021758,
     "end_time": "2024-02-06T04:34:46.040195",
     "exception": false,
     "start_time": "2024-02-06T04:34:46.018437",
     "status": "completed"
    },
    "tags": []
   },
   "outputs": [
    {
     "name": "stderr",
     "output_type": "stream",
     "text": [
      "/tmp/ipykernel_26/2274720815.py:7: SettingWithCopyWarning: \n",
      "A value is trying to be set on a copy of a slice from a DataFrame\n",
      "\n",
      "See the caveats in the documentation: https://pandas.pydata.org/pandas-docs/stable/user_guide/indexing.html#returning-a-view-versus-a-copy\n",
      "  data[data < lower_bound] = lower_bound\n",
      "/tmp/ipykernel_26/2274720815.py:8: SettingWithCopyWarning: \n",
      "A value is trying to be set on a copy of a slice from a DataFrame\n",
      "\n",
      "See the caveats in the documentation: https://pandas.pydata.org/pandas-docs/stable/user_guide/indexing.html#returning-a-view-versus-a-copy\n",
      "  data[data > upper_bound] = upper_bound\n"
     ]
    }
   ],
   "source": [
    "def replace_outliers(data):\n",
    "    Q1 = np.percentile(data, 25)\n",
    "    Q3 = np.percentile(data, 75)\n",
    "    IQR = Q3 - Q1\n",
    "    lower_bound = Q1 - 1.5 * IQR\n",
    "    upper_bound = Q3 + 1.5 * IQR\n",
    "    data[data < lower_bound] = lower_bound\n",
    "    data[data > upper_bound] = upper_bound\n",
    "    return data\n",
    "\n",
    "data['Close'] = replace_outliers(data['Close'])"
   ]
  },
  {
   "cell_type": "code",
   "execution_count": 5,
   "id": "0a91680a",
   "metadata": {
    "execution": {
     "iopub.execute_input": "2024-02-06T04:34:46.054470Z",
     "iopub.status.busy": "2024-02-06T04:34:46.054218Z",
     "iopub.status.idle": "2024-02-06T04:34:46.230483Z",
     "shell.execute_reply": "2024-02-06T04:34:46.229653Z"
    },
    "papermill": {
     "duration": 0.185678,
     "end_time": "2024-02-06T04:34:46.232529",
     "exception": false,
     "start_time": "2024-02-06T04:34:46.046851",
     "status": "completed"
    },
    "tags": []
   },
   "outputs": [
    {
     "data": {
      "image/png": "[encoded data removed]",
      "text/plain": [
       "<Figure size 640x480 with 1 Axes>"
      ]
     },
     "metadata": {},
     "output_type": "display_data"
    }
   ],
   "source": [
    "# Boxplot for outlier detection\n",
    "plt.boxplot(data['Close'])\n",
    "plt.title(f\"{SHEET_NAME} Boxplot for Outlier Detection\")\n",
    "plt.xlabel(\"Close\")\n",
    "plt.ylabel(\"Values\")\n",
    "plt.show()"
   ]
  },
  {
   "cell_type": "code",
   "execution_count": 6,
   "id": "29d12211",
   "metadata": {
    "execution": {
     "iopub.execute_input": "2024-02-06T04:34:46.248030Z",
     "iopub.status.busy": "2024-02-06T04:34:46.247743Z",
     "iopub.status.idle": "2024-02-06T04:34:46.254842Z",
     "shell.execute_reply": "2024-02-06T04:34:46.253963Z"
    },
    "papermill": {
     "duration": 0.017011,
     "end_time": "2024-02-06T04:34:46.256726",
     "exception": false,
     "start_time": "2024-02-06T04:34:46.239715",
     "status": "completed"
    },
    "tags": []
   },
   "outputs": [
    {
     "data": {
      "text/plain": [
       "(1959, 1)"
      ]
     },
     "execution_count": 6,
     "metadata": {},
     "output_type": "execute_result"
    }
   ],
   "source": [
    "scaler = MinMaxScaler()\n",
    "close_price = data.Close.values.reshape(-1, 1)\n",
    "scaled_close = scaler.fit_transform(close_price)\n",
    "scaled_close.shape"
   ]
  },
  {
   "cell_type": "code",
   "execution_count": 7,
   "id": "bcea1856",
   "metadata": {
    "execution": {
     "iopub.execute_input": "2024-02-06T04:34:46.272089Z",
     "iopub.status.busy": "2024-02-06T04:34:46.271835Z",
     "iopub.status.idle": "2024-02-06T04:34:46.281219Z",
     "shell.execute_reply": "2024-02-06T04:34:46.280361Z"
    },
    "papermill": {
     "duration": 0.019325,
     "end_time": "2024-02-06T04:34:46.283178",
     "exception": false,
     "start_time": "2024-02-06T04:34:46.263853",
     "status": "completed"
    },
    "tags": []
   },
   "outputs": [],
   "source": [
    "def to_sequences(data, seq_len):\n",
    "    d = []\n",
    "    for index in range(len(data) - seq_len):\n",
    "        d.append(data[index: index + seq_len])\n",
    "    return np.array(d)\n",
    "\n",
    "def preprocess(data_raw, seq_len, train_split):\n",
    "    data = to_sequences(data_raw, seq_len)\n",
    "    num_train = int(train_split * data.shape[0])\n",
    "    X_train = data[:num_train, :-1, :]\n",
    "    y_train = data[:num_train, -1, :]\n",
    "    X_test = data[num_train:, :-1, :]\n",
    "    y_test = data[num_train:, -1, :]\n",
    "    return X_train, y_train, X_test, y_test\n",
    "\n",
    "X_train, y_train, X_test, y_test = preprocess(scaled_close, SEQ_LEN, train_split = SPLIT)"
   ]
  },
  {
   "cell_type": "markdown",
   "id": "25a0128b",
   "metadata": {
    "papermill": {
     "duration": 0.007,
     "end_time": "2024-02-06T04:34:46.297485",
     "exception": false,
     "start_time": "2024-02-06T04:34:46.290485",
     "status": "completed"
    },
    "tags": []
   },
   "source": [
    "## Genetic Algorithm"
   ]
  },
  {
   "cell_type": "code",
   "execution_count": 8,
   "id": "7f768b25",
   "metadata": {
    "execution": {
     "iopub.execute_input": "2024-02-06T04:34:46.312807Z",
     "iopub.status.busy": "2024-02-06T04:34:46.312529Z",
     "iopub.status.idle": "2024-02-06T04:34:46.317843Z",
     "shell.execute_reply": "2024-02-06T04:34:46.316980Z"
    },
    "papermill": {
     "duration": 0.015059,
     "end_time": "2024-02-06T04:34:46.319642",
     "exception": false,
     "start_time": "2024-02-06T04:34:46.304583",
     "status": "completed"
    },
    "tags": []
   },
   "outputs": [],
   "source": [
    "def decimal_to_binary(chromosome: list):\n",
    "    binary_string = ''.join([bin(x)[2:].zfill(8) for x in chromosome])\n",
    "    return binary_string\n",
    "\n",
    "def binary_to_decimal(binary_string: str):\n",
    "    decimal_array = [int(binary, 2) for binary in [binary_string[i:i+8] for i in range(0, len(binary_string), 8)]]\n",
    "    return decimal_array"
   ]
  },
  {
   "cell_type": "code",
   "execution_count": 9,
   "id": "1c4aa559",
   "metadata": {
    "execution": {
     "iopub.execute_input": "2024-02-06T04:34:46.335060Z",
     "iopub.status.busy": "2024-02-06T04:34:46.334821Z",
     "iopub.status.idle": "2024-02-06T04:34:46.353009Z",
     "shell.execute_reply": "2024-02-06T04:34:46.352336Z"
    },
    "papermill": {
     "duration": 0.028058,
     "end_time": "2024-02-06T04:34:46.354804",
     "exception": false,
     "start_time": "2024-02-06T04:34:46.326746",
     "status": "completed"
    },
    "tags": []
   },
   "outputs": [],
   "source": [
    "# Genetic Algorithm\n",
    "def genetic_algorithm(generations, mutation_rate):\n",
    "    print(f\"Inizialized Population...\")\n",
    "    population = np.random.randint(1, high=251, size=(10, 3))\n",
    "    fitness_scores = np.array([fitness_function(chromosome) for chromosome in population])\n",
    "    max_fitness_each_gen = []\n",
    "    \n",
    "    for generation in range(generations):\n",
    "        print(f\"Generation - {generation + 1}\")\n",
    "        max_fitness_each_gen.append(np.max(fitness_scores))\n",
    "        \n",
    "        chromosome_1 = selection(population, fitness_scores)\n",
    "        chromosome_2 = selection(population, fitness_scores)\n",
    "        \n",
    "        if generation % mutation_rate == 0:\n",
    "            chromosome_1 = mutate(chromosome_1)\n",
    "            chromosome_2 = mutate(chromosome_2)\n",
    "        else:\n",
    "            chromosome_1, chromosome_2 = crossover(chromosome_1, chromosome_2)\n",
    "\n",
    "        fitness_score_1 = fitness_function(chromosome_1)\n",
    "        fitness_score_2 = fitness_function(chromosome_2)\n",
    "        \n",
    "        worst_index = np.argmin(fitness_scores)\n",
    "        worst_fitness = fitness_scores[worst_index]\n",
    "\n",
    "        if fitness_score_1 > worst_fitness:\n",
    "            population[worst_index] = chromosome_1\n",
    "            fitness_scores[worst_index] = fitness_score_1\n",
    "            worst_index = np.argmin(fitness_scores)\n",
    "            worst_fitness = fitness_scores[worst_index]\n",
    "\n",
    "        if fitness_score_2 > worst_fitness:\n",
    "            population[worst_index] = chromosome_2\n",
    "            fitness_scores[worst_index] = fitness_score_2\n",
    "        \n",
    "        # Release some memory\n",
    "        del chromosome_1, chromosome_2\n",
    "        del fitness_score_1, fitness_score_2\n",
    "        del worst_index, worst_fitness\n",
    "            \n",
    "    best_chromosome = population[np.argmax(fitness_scores)]\n",
    "    best_fitness = np.max(fitness_scores)\n",
    "    \n",
    "    return best_chromosome, best_fitness, max_fitness_each_gen\n",
    "\n",
    "# Selection (Tournament selection)\n",
    "def selection(population, fitness_scores, tournament_size=3):\n",
    "    indices = np.random.randint(len(population), size=tournament_size)\n",
    "    tournament = population[indices]\n",
    "    tournament_fitness = fitness_scores[indices]\n",
    "    return tournament[np.argmax(tournament_fitness)]\n",
    "\n",
    "# Crossover (Single-point crossover)\n",
    "def crossover(parent_1: list, parent_2: list):\n",
    "    parent_1 = decimal_to_binary(parent_1)\n",
    "    parent_2 = decimal_to_binary(parent_2)\n",
    "    \n",
    "    crossover_point = np.random.randint(1, len(parent_1))\n",
    "    offspring_1 = parent_1[:crossover_point] + parent_2[crossover_point:]\n",
    "    offspring_2 = parent_2[:crossover_point] + parent_1[crossover_point:]\n",
    "    \n",
    "    offspring_1 = binary_to_decimal(offspring_1)\n",
    "    offspring_2 = binary_to_decimal(offspring_2)\n",
    "    return offspring_1, offspring_2\n",
    "\n",
    "# Mutation (Swap Mutation)\n",
    "def mutate(chromosome: list):\n",
    "    chromosome = decimal_to_binary(chromosome)\n",
    "    \n",
    "    chromosome_list = list(chromosome)\n",
    "    i = np.random.randint(len(chromosome_list), size=2)\n",
    "    chromosome_list[i[0]], chromosome_list[i[1]] = chromosome_list[i[1]], chromosome_list[i[0]]\n",
    "    \n",
    "    chromosome_list = ''.join(chromosome_list)\n",
    "    chromosome = binary_to_decimal(chromosome_list)\n",
    "    return chromosome\n",
    "\n",
    "# Fitness Function\n",
    "def fitness_function(chromosome: list):\n",
    "    lstm_units = [int(chromosome[i]) or default for i, default in enumerate([128, 64, 32])]\n",
    "\n",
    "    # Build the LSTM model\n",
    "    tf.keras.backend.clear_session()\n",
    "    model = Sequential()\n",
    "    for i, units in enumerate(lstm_units[:LSTM_Layer]):\n",
    "        model.add(LSTM(units, return_sequences=(i < LSTM_Layer - 1), input_shape=(WINDOW_SIZE, 1)))\n",
    "    model.add(Dense(1))\n",
    "    \n",
    "    # Compile and train the model\n",
    "    model.compile(loss='mean_squared_error',\n",
    "                  optimizer='adam')\n",
    "    model.fit(X_train, y_train,\n",
    "              epochs=10,\n",
    "              batch_size=32,\n",
    "              verbose=0,\n",
    "              validation_split=0.1)\n",
    "\n",
    "    # Evaluate the model\n",
    "    loss = model.evaluate(X_test, y_test)\n",
    "\n",
    "    # Return the negative value of the loss as the fitness score\n",
    "    return -loss"
   ]
  },
  {
   "cell_type": "code",
   "execution_count": 10,
   "id": "c8c3529a",
   "metadata": {
    "execution": {
     "iopub.execute_input": "2024-02-06T04:34:46.370016Z",
     "iopub.status.busy": "2024-02-06T04:34:46.369764Z",
     "iopub.status.idle": "2024-02-06T04:34:46.375192Z",
     "shell.execute_reply": "2024-02-06T04:34:46.374369Z"
    },
    "papermill": {
     "duration": 0.015168,
     "end_time": "2024-02-06T04:34:46.377020",
     "exception": false,
     "start_time": "2024-02-06T04:34:46.361852",
     "status": "completed"
    },
    "tags": []
   },
   "outputs": [],
   "source": [
    "import typing\n",
    "from datetime import datetime\n",
    "\n",
    "def timer(start_time: datetime = None) -> \"typing.Union[datetime.datetime, str]\":\n",
    "    if not start_time:\n",
    "        start_time = datetime.now()\n",
    "        return start_time\n",
    "    elif start_time:\n",
    "        thour, temp_sec = divmod((datetime.now() - start_time).total_seconds(), 3600)\n",
    "        tmin, tsec = divmod(temp_sec, 60)\n",
    "        return \"%i hours %i minutes and %s seconds.\" % (\n",
    "            thour,\n",
    "            tmin,\n",
    "            round(tsec, 2),\n",
    "        )"
   ]
  },
  {
   "cell_type": "code",
   "execution_count": 11,
   "id": "b3a44a4e",
   "metadata": {
    "execution": {
     "iopub.execute_input": "2024-02-06T04:34:46.392316Z",
     "iopub.status.busy": "2024-02-06T04:34:46.392059Z",
     "iopub.status.idle": "2024-02-06T04:43:51.058256Z",
     "shell.execute_reply": "2024-02-06T04:43:51.057446Z"
    },
    "papermill": {
     "duration": 544.676158,
     "end_time": "2024-02-06T04:43:51.060261",
     "exception": false,
     "start_time": "2024-02-06T04:34:46.384103",
     "status": "completed"
    },
    "tags": []
   },
   "outputs": [
    {
     "name": "stdout",
     "output_type": "stream",
     "text": [
      "Inizialized Population...\n",
      "7/7 [==============================] - 0s 3ms/step - loss: 0.0035\n",
      "7/7 [==============================] - 0s 3ms/step - loss: 7.4335e-04\n",
      "7/7 [==============================] - 0s 3ms/step - loss: 4.6082e-04\n",
      "7/7 [==============================] - 0s 3ms/step - loss: 9.2650e-04\n",
      "7/7 [==============================] - 0s 3ms/step - loss: 0.0046\n",
      "7/7 [==============================] - 0s 3ms/step - loss: 0.0030\n",
      "7/7 [==============================] - 0s 3ms/step - loss: 6.3917e-04\n",
      "7/7 [==============================] - 0s 3ms/step - loss: 6.3129e-04\n",
      "7/7 [==============================] - 0s 3ms/step - loss: 0.0028\n",
      "7/7 [==============================] - 0s 3ms/step - loss: 4.8698e-04\n",
      "Generation - 1\n",
      "7/7 [==============================] - 0s 3ms/step - loss: 4.8090e-04\n",
      "7/7 [==============================] - 0s 3ms/step - loss: 0.0016\n",
      "Generation - 2\n",
      "7/7 [==============================] - 0s 3ms/step - loss: 4.5991e-04\n",
      "7/7 [==============================] - 0s 3ms/step - loss: 5.8869e-04\n",
      "Generation - 3\n",
      "7/7 [==============================] - 0s 3ms/step - loss: 0.0020\n",
      "7/7 [==============================] - 0s 3ms/step - loss: 4.3057e-04\n",
      "Generation - 4\n",
      "7/7 [==============================] - 0s 3ms/step - loss: 0.0029\n",
      "7/7 [==============================] - 0s 3ms/step - loss: 0.0050\n",
      "Generation - 5\n",
      "7/7 [==============================] - 0s 3ms/step - loss: 0.0066\n",
      "7/7 [==============================] - 0s 3ms/step - loss: 0.0014\n",
      "Generation - 6\n",
      "7/7 [==============================] - 0s 3ms/step - loss: 0.0027\n",
      "7/7 [==============================] - 0s 3ms/step - loss: 0.0033\n",
      "Generation - 7\n",
      "7/7 [==============================] - 0s 3ms/step - loss: 0.0015\n",
      "7/7 [==============================] - 0s 3ms/step - loss: 0.0017\n",
      "Generation - 8\n",
      "7/7 [==============================] - 0s 3ms/step - loss: 0.0025\n",
      "7/7 [==============================] - 0s 3ms/step - loss: 0.0017\n",
      "Generation - 9\n",
      "7/7 [==============================] - 0s 3ms/step - loss: 4.4599e-04\n",
      "7/7 [==============================] - 0s 3ms/step - loss: 4.7812e-04\n",
      "Generation - 10\n",
      "7/7 [==============================] - 0s 3ms/step - loss: 0.0019\n",
      "7/7 [==============================] - 0s 3ms/step - loss: 4.3063e-04\n",
      "Generation - 11\n",
      "7/7 [==============================] - 0s 3ms/step - loss: 0.0064\n",
      "7/7 [==============================] - 0s 3ms/step - loss: 0.0027\n",
      "Generation - 12\n",
      "7/7 [==============================] - 0s 3ms/step - loss: 4.2375e-04\n",
      "7/7 [==============================] - 0s 3ms/step - loss: 8.0566e-04\n",
      "Generation - 13\n",
      "7/7 [==============================] - 0s 3ms/step - loss: 0.0015\n",
      "7/7 [==============================] - 0s 3ms/step - loss: 0.0034\n",
      "Generation - 14\n",
      "7/7 [==============================] - 0s 3ms/step - loss: 4.1489e-04\n",
      "7/7 [==============================] - 0s 3ms/step - loss: 0.0015\n",
      "Generation - 15\n",
      "7/7 [==============================] - 0s 3ms/step - loss: 0.0011\n",
      "7/7 [==============================] - 0s 3ms/step - loss: 0.0032\n",
      "Generation - 16\n",
      "7/7 [==============================] - 0s 3ms/step - loss: 5.3939e-04\n",
      "7/7 [==============================] - 0s 5ms/step - loss: 0.0160\n",
      "Generation - 17\n",
      "7/7 [==============================] - 0s 4ms/step - loss: 4.6789e-04\n",
      "7/7 [==============================] - 0s 3ms/step - loss: 4.6566e-04\n",
      "Generation - 18\n",
      "7/7 [==============================] - 0s 3ms/step - loss: 0.0012\n",
      "7/7 [==============================] - 0s 3ms/step - loss: 6.2789e-04\n",
      "Generation - 19\n",
      "7/7 [==============================] - 0s 3ms/step - loss: 7.6195e-04\n",
      "7/7 [==============================] - 0s 3ms/step - loss: 5.3053e-04\n",
      "Generation - 20\n",
      "7/7 [==============================] - 0s 3ms/step - loss: 0.0024\n",
      "7/7 [==============================] - 0s 3ms/step - loss: 0.0046\n",
      "Generation - 21\n",
      "7/7 [==============================] - 0s 3ms/step - loss: 9.3831e-04\n",
      "7/7 [==============================] - 0s 3ms/step - loss: 8.3287e-04\n",
      "Generation - 22\n",
      "7/7 [==============================] - 0s 3ms/step - loss: 0.0014\n",
      "7/7 [==============================] - 0s 3ms/step - loss: 4.3564e-04\n",
      "Generation - 23\n",
      "7/7 [==============================] - 0s 3ms/step - loss: 0.0031\n",
      "7/7 [==============================] - 0s 3ms/step - loss: 4.4684e-04\n",
      "Generation - 24\n",
      "7/7 [==============================] - 0s 3ms/step - loss: 0.0011\n",
      "7/7 [==============================] - 0s 3ms/step - loss: 0.0014\n",
      "Generation - 25\n",
      "7/7 [==============================] - 0s 3ms/step - loss: 5.1819e-04\n",
      "7/7 [==============================] - 0s 3ms/step - loss: 0.0040\n",
      "Generation - 26\n",
      "7/7 [==============================] - 0s 3ms/step - loss: 5.2598e-04\n",
      "7/7 [==============================] - 0s 3ms/step - loss: 0.0011\n",
      "Generation - 27\n",
      "7/7 [==============================] - 0s 3ms/step - loss: 9.3659e-04\n",
      "7/7 [==============================] - 0s 3ms/step - loss: 4.1819e-04\n",
      "Generation - 28\n",
      "7/7 [==============================] - 0s 3ms/step - loss: 0.0048\n",
      "7/7 [==============================] - 0s 3ms/step - loss: 0.0015\n",
      "Generation - 29\n",
      "7/7 [==============================] - 0s 3ms/step - loss: 5.2326e-04\n",
      "7/7 [==============================] - 0s 3ms/step - loss: 0.0014\n",
      "Generation - 30\n",
      "7/7 [==============================] - 0s 3ms/step - loss: 9.4097e-04\n",
      "7/7 [==============================] - 0s 3ms/step - loss: 0.0017\n",
      "Generation - 31\n",
      "7/7 [==============================] - 0s 3ms/step - loss: 4.1380e-04\n",
      "7/7 [==============================] - 0s 3ms/step - loss: 4.8396e-04\n",
      "Generation - 32\n",
      "7/7 [==============================] - 0s 3ms/step - loss: 7.4302e-04\n",
      "7/7 [==============================] - 0s 3ms/step - loss: 0.0046\n",
      "Generation - 33\n",
      "7/7 [==============================] - 0s 3ms/step - loss: 0.0053\n",
      "7/7 [==============================] - 0s 3ms/step - loss: 0.0026\n",
      "Generation - 34\n",
      "7/7 [==============================] - 0s 3ms/step - loss: 0.0013\n",
      "7/7 [==============================] - 0s 3ms/step - loss: 0.0012\n",
      "Generation - 35\n",
      "7/7 [==============================] - 0s 3ms/step - loss: 4.2982e-04\n",
      "7/7 [==============================] - 0s 3ms/step - loss: 0.0028\n",
      "Generation - 36\n",
      "7/7 [==============================] - 0s 3ms/step - loss: 0.0042\n",
      "7/7 [==============================] - 0s 3ms/step - loss: 8.8594e-04\n",
      "Generation - 37\n",
      "7/7 [==============================] - 0s 3ms/step - loss: 0.0035\n",
      "7/7 [==============================] - 0s 3ms/step - loss: 7.5376e-04\n",
      "Generation - 38\n",
      "7/7 [==============================] - 0s 3ms/step - loss: 4.6209e-04\n",
      "7/7 [==============================] - 0s 3ms/step - loss: 0.0025\n",
      "Generation - 39\n",
      "7/7 [==============================] - 0s 3ms/step - loss: 0.0024\n",
      "7/7 [==============================] - 0s 3ms/step - loss: 4.6890e-04\n",
      "Generation - 40\n",
      "7/7 [==============================] - 0s 3ms/step - loss: 4.0277e-04\n",
      "7/7 [==============================] - 0s 3ms/step - loss: 4.6596e-04\n",
      "Generation - 41\n",
      "7/7 [==============================] - 0s 3ms/step - loss: 0.0026\n",
      "7/7 [==============================] - 0s 3ms/step - loss: 5.0066e-04\n",
      "Generation - 42\n",
      "7/7 [==============================] - 0s 3ms/step - loss: 3.9799e-04\n",
      "7/7 [==============================] - 0s 3ms/step - loss: 0.0013\n",
      "Generation - 43\n",
      "7/7 [==============================] - 0s 3ms/step - loss: 0.0015\n",
      "7/7 [==============================] - 0s 3ms/step - loss: 9.7828e-04\n",
      "Generation - 44\n",
      "7/7 [==============================] - 0s 3ms/step - loss: 4.9687e-04\n",
      "7/7 [==============================] - 0s 3ms/step - loss: 0.0051\n",
      "Generation - 45\n",
      "7/7 [==============================] - 0s 3ms/step - loss: 6.0537e-04\n",
      "7/7 [==============================] - 0s 3ms/step - loss: 4.7879e-04\n",
      "Generation - 46\n",
      "7/7 [==============================] - 0s 3ms/step - loss: 0.0026\n",
      "7/7 [==============================] - 0s 3ms/step - loss: 5.7240e-04\n",
      "Generation - 47\n",
      "7/7 [==============================] - 0s 3ms/step - loss: 6.1815e-04\n",
      "7/7 [==============================] - 0s 3ms/step - loss: 0.0026\n",
      "Generation - 48\n",
      "7/7 [==============================] - 0s 3ms/step - loss: 8.1040e-04\n",
      "7/7 [==============================] - 0s 3ms/step - loss: 0.0042\n",
      "Generation - 49\n",
      "7/7 [==============================] - 0s 3ms/step - loss: 8.7059e-04\n",
      "7/7 [==============================] - 0s 3ms/step - loss: 9.3695e-04\n",
      "Generation - 50\n",
      "7/7 [==============================] - 0s 3ms/step - loss: 0.0081\n",
      "7/7 [==============================] - 0s 3ms/step - loss: 4.6130e-04\n"
     ]
    }
   ],
   "source": [
    "# Do not increase this value\n",
    "generations = 50\n",
    "mutation_rate = 5\n",
    "\n",
    "time = timer(None)\n",
    "best_chromosome, best_fitness, max_fitness_each_gen = genetic_algorithm(generations, mutation_rate)\n",
    "time = timer(time)"
   ]
  },
  {
   "cell_type": "code",
   "execution_count": 12,
   "id": "5231f2f2",
   "metadata": {
    "execution": {
     "iopub.execute_input": "2024-02-06T04:43:51.115290Z",
     "iopub.status.busy": "2024-02-06T04:43:51.114762Z",
     "iopub.status.idle": "2024-02-06T04:43:51.119996Z",
     "shell.execute_reply": "2024-02-06T04:43:51.118994Z"
    },
    "papermill": {
     "duration": 0.034907,
     "end_time": "2024-02-06T04:43:51.121996",
     "exception": false,
     "start_time": "2024-02-06T04:43:51.087089",
     "status": "completed"
    },
    "tags": []
   },
   "outputs": [
    {
     "name": "stdout",
     "output_type": "stream",
     "text": [
      "Best Chromosome: [250 108 235]\n",
      "Best Fitness: -0.00039798617945052683\n",
      "Time Taken: 0 hours 9 minutes and 4.66 seconds.\n"
     ]
    }
   ],
   "source": [
    "print(\"Best Chromosome:\", best_chromosome)\n",
    "print(\"Best Fitness:\", best_fitness)\n",
    "print(\"Time Taken:\", time)"
   ]
  },
  {
   "cell_type": "code",
   "execution_count": 13,
   "id": "0ee4e15d",
   "metadata": {
    "execution": {
     "iopub.execute_input": "2024-02-06T04:43:51.176227Z",
     "iopub.status.busy": "2024-02-06T04:43:51.175960Z",
     "iopub.status.idle": "2024-02-06T04:43:51.181973Z",
     "shell.execute_reply": "2024-02-06T04:43:51.181156Z"
    },
    "papermill": {
     "duration": 0.035407,
     "end_time": "2024-02-06T04:43:51.183830",
     "exception": false,
     "start_time": "2024-02-06T04:43:51.148423",
     "status": "completed"
    },
    "tags": []
   },
   "outputs": [
    {
     "data": {
      "text/plain": [
       "[-0.00046081768232397735,\n",
       " -0.00046081768232397735,\n",
       " -0.00045991051592864096,\n",
       " -0.00043056681170128286,\n",
       " -0.00043056681170128286,\n",
       " -0.00043056681170128286,\n",
       " -0.00043056681170128286,\n",
       " -0.00043056681170128286,\n",
       " -0.00043056681170128286,\n",
       " -0.00043056681170128286,\n",
       " -0.00043056681170128286,\n",
       " -0.00043056681170128286,\n",
       " -0.0004237512475810945,\n",
       " -0.0004237512475810945,\n",
       " -0.0004148884618189186,\n",
       " -0.0004148884618189186,\n",
       " -0.0004148884618189186,\n",
       " -0.0004148884618189186,\n",
       " -0.0004148884618189186,\n",
       " -0.0004148884618189186,\n",
       " -0.0004148884618189186,\n",
       " -0.0004148884618189186,\n",
       " -0.0004148884618189186,\n",
       " -0.0004148884618189186,\n",
       " -0.0004148884618189186,\n",
       " -0.0004148884618189186,\n",
       " -0.0004148884618189186,\n",
       " -0.0004148884618189186,\n",
       " -0.0004148884618189186,\n",
       " -0.0004148884618189186,\n",
       " -0.0004148884618189186,\n",
       " -0.00041379680624231696,\n",
       " -0.00041379680624231696,\n",
       " -0.00041379680624231696,\n",
       " -0.00041379680624231696,\n",
       " -0.00041379680624231696,\n",
       " -0.00041379680624231696,\n",
       " -0.00041379680624231696,\n",
       " -0.00041379680624231696,\n",
       " -0.00041379680624231696,\n",
       " -0.00040277320658788085,\n",
       " -0.00040277320658788085,\n",
       " -0.00039798617945052683,\n",
       " -0.00039798617945052683,\n",
       " -0.00039798617945052683,\n",
       " -0.00039798617945052683,\n",
       " -0.00039798617945052683,\n",
       " -0.00039798617945052683,\n",
       " -0.00039798617945052683,\n",
       " -0.00039798617945052683]"
      ]
     },
     "execution_count": 13,
     "metadata": {},
     "output_type": "execute_result"
    }
   ],
   "source": [
    "max_fitness_each_gen"
   ]
  },
  {
   "cell_type": "markdown",
   "id": "09b487cf",
   "metadata": {
    "papermill": {
     "duration": 0.026373,
     "end_time": "2024-02-06T04:43:51.236703",
     "exception": false,
     "start_time": "2024-02-06T04:43:51.210330",
     "status": "completed"
    },
    "tags": []
   },
   "source": [
    "## Re-Training Model with Best Parameter"
   ]
  },
  {
   "cell_type": "code",
   "execution_count": 14,
   "id": "d0776075",
   "metadata": {
    "execution": {
     "iopub.execute_input": "2024-02-06T04:43:51.291183Z",
     "iopub.status.busy": "2024-02-06T04:43:51.290889Z",
     "iopub.status.idle": "2024-02-06T04:43:51.571325Z",
     "shell.execute_reply": "2024-02-06T04:43:51.570416Z"
    },
    "papermill": {
     "duration": 0.311592,
     "end_time": "2024-02-06T04:43:51.575008",
     "exception": false,
     "start_time": "2024-02-06T04:43:51.263416",
     "status": "completed"
    },
    "tags": []
   },
   "outputs": [
    {
     "name": "stdout",
     "output_type": "stream",
     "text": [
      "Model: \"sequential_1\"\n",
      "_________________________________________________________________\n",
      " Layer (type)                Output Shape              Param #   \n",
      "=================================================================\n",
      " lstm_1 (LSTM)               (None, 250)               252000    \n",
      "                                                                 \n",
      " dense_1 (Dense)             (None, 1)                 251       \n",
      "                                                                 \n",
      "=================================================================\n",
      "Total params: 252,251\n",
      "Trainable params: 252,251\n",
      "Non-trainable params: 0\n",
      "_________________________________________________________________\n"
     ]
    }
   ],
   "source": [
    "model = Sequential()\n",
    "for i, units in enumerate(best_chromosome[:LSTM_Layer]):\n",
    "    model.add(LSTM(units, return_sequences=(i < LSTM_Layer - 1), input_shape=(WINDOW_SIZE, 1)))\n",
    "model.add(Dense(1))\n",
    "\n",
    "model.summary()"
   ]
  },
  {
   "cell_type": "code",
   "execution_count": 15,
   "id": "757d921a",
   "metadata": {
    "execution": {
     "iopub.execute_input": "2024-02-06T04:43:51.631687Z",
     "iopub.status.busy": "2024-02-06T04:43:51.631394Z",
     "iopub.status.idle": "2024-02-06T04:44:06.848351Z",
     "shell.execute_reply": "2024-02-06T04:44:06.847515Z"
    },
    "papermill": {
     "duration": 15.247229,
     "end_time": "2024-02-06T04:44:06.850271",
     "exception": false,
     "start_time": "2024-02-06T04:43:51.603042",
     "status": "completed"
    },
    "tags": []
   },
   "outputs": [
    {
     "name": "stdout",
     "output_type": "stream",
     "text": [
      "Epoch 1/50\n",
      "50/50 [==============================] - 3s 13ms/step - loss: 0.0154 - mae: 0.0814 - root_mean_squared_error: 0.1242 - val_loss: 0.0054 - val_mae: 0.0573 - val_root_mean_squared_error: 0.0736\n",
      "Epoch 2/50\n",
      "50/50 [==============================] - 0s 5ms/step - loss: 0.0057 - mae: 0.0487 - root_mean_squared_error: 0.0756 - val_loss: 0.0030 - val_mae: 0.0420 - val_root_mean_squared_error: 0.0551\n",
      "Epoch 3/50\n",
      "50/50 [==============================] - 0s 5ms/step - loss: 0.0049 - mae: 0.0408 - root_mean_squared_error: 0.0700 - val_loss: 0.0031 - val_mae: 0.0441 - val_root_mean_squared_error: 0.0558\n",
      "Epoch 4/50\n",
      "50/50 [==============================] - 0s 5ms/step - loss: 0.0048 - mae: 0.0402 - root_mean_squared_error: 0.0692 - val_loss: 0.0016 - val_mae: 0.0302 - val_root_mean_squared_error: 0.0394\n",
      "Epoch 5/50\n",
      "50/50 [==============================] - 0s 5ms/step - loss: 0.0046 - mae: 0.0390 - root_mean_squared_error: 0.0680 - val_loss: 0.0027 - val_mae: 0.0419 - val_root_mean_squared_error: 0.0524\n",
      "Epoch 6/50\n",
      "50/50 [==============================] - 0s 5ms/step - loss: 0.0046 - mae: 0.0390 - root_mean_squared_error: 0.0676 - val_loss: 0.0021 - val_mae: 0.0360 - val_root_mean_squared_error: 0.0463\n",
      "Epoch 7/50\n",
      "50/50 [==============================] - 0s 5ms/step - loss: 0.0043 - mae: 0.0373 - root_mean_squared_error: 0.0657 - val_loss: 0.0012 - val_mae: 0.0268 - val_root_mean_squared_error: 0.0349\n",
      "Epoch 8/50\n",
      "50/50 [==============================] - 0s 5ms/step - loss: 0.0044 - mae: 0.0380 - root_mean_squared_error: 0.0661 - val_loss: 0.0012 - val_mae: 0.0267 - val_root_mean_squared_error: 0.0345\n",
      "Epoch 9/50\n",
      "50/50 [==============================] - 0s 5ms/step - loss: 0.0042 - mae: 0.0363 - root_mean_squared_error: 0.0646 - val_loss: 0.0016 - val_mae: 0.0335 - val_root_mean_squared_error: 0.0403\n",
      "Epoch 10/50\n",
      "50/50 [==============================] - 0s 5ms/step - loss: 0.0042 - mae: 0.0371 - root_mean_squared_error: 0.0651 - val_loss: 0.0019 - val_mae: 0.0336 - val_root_mean_squared_error: 0.0431\n",
      "Epoch 11/50\n",
      "50/50 [==============================] - 0s 5ms/step - loss: 0.0040 - mae: 0.0355 - root_mean_squared_error: 0.0633 - val_loss: 0.0011 - val_mae: 0.0251 - val_root_mean_squared_error: 0.0326\n",
      "Epoch 12/50\n",
      "50/50 [==============================] - 0s 5ms/step - loss: 0.0039 - mae: 0.0350 - root_mean_squared_error: 0.0627 - val_loss: 0.0019 - val_mae: 0.0342 - val_root_mean_squared_error: 0.0434\n",
      "Epoch 13/50\n",
      "50/50 [==============================] - 0s 5ms/step - loss: 0.0038 - mae: 0.0339 - root_mean_squared_error: 0.0619 - val_loss: 9.9749e-04 - val_mae: 0.0245 - val_root_mean_squared_error: 0.0316\n",
      "Epoch 14/50\n",
      "50/50 [==============================] - 0s 5ms/step - loss: 0.0039 - mae: 0.0348 - root_mean_squared_error: 0.0626 - val_loss: 0.0056 - val_mae: 0.0664 - val_root_mean_squared_error: 0.0751\n",
      "Epoch 15/50\n",
      "50/50 [==============================] - 0s 5ms/step - loss: 0.0064 - mae: 0.0527 - root_mean_squared_error: 0.0797 - val_loss: 0.0049 - val_mae: 0.0608 - val_root_mean_squared_error: 0.0702\n",
      "Epoch 16/50\n",
      "50/50 [==============================] - 0s 5ms/step - loss: 0.0044 - mae: 0.0408 - root_mean_squared_error: 0.0660 - val_loss: 0.0012 - val_mae: 0.0270 - val_root_mean_squared_error: 0.0350\n",
      "Epoch 17/50\n",
      "50/50 [==============================] - 0s 5ms/step - loss: 0.0038 - mae: 0.0349 - root_mean_squared_error: 0.0615 - val_loss: 9.6908e-04 - val_mae: 0.0241 - val_root_mean_squared_error: 0.0311\n",
      "Epoch 18/50\n",
      "50/50 [==============================] - 0s 5ms/step - loss: 0.0035 - mae: 0.0316 - root_mean_squared_error: 0.0594 - val_loss: 8.5733e-04 - val_mae: 0.0228 - val_root_mean_squared_error: 0.0293\n",
      "Epoch 19/50\n",
      "50/50 [==============================] - 0s 5ms/step - loss: 0.0036 - mae: 0.0323 - root_mean_squared_error: 0.0596 - val_loss: 0.0013 - val_mae: 0.0280 - val_root_mean_squared_error: 0.0362\n",
      "Epoch 20/50\n",
      "50/50 [==============================] - 0s 5ms/step - loss: 0.0035 - mae: 0.0317 - root_mean_squared_error: 0.0594 - val_loss: 0.0015 - val_mae: 0.0304 - val_root_mean_squared_error: 0.0391\n",
      "Epoch 21/50\n",
      "50/50 [==============================] - 0s 5ms/step - loss: 0.0035 - mae: 0.0320 - root_mean_squared_error: 0.0593 - val_loss: 0.0014 - val_mae: 0.0288 - val_root_mean_squared_error: 0.0371\n",
      "Epoch 22/50\n",
      "50/50 [==============================] - 0s 5ms/step - loss: 0.0034 - mae: 0.0311 - root_mean_squared_error: 0.0586 - val_loss: 0.0014 - val_mae: 0.0287 - val_root_mean_squared_error: 0.0371\n",
      "Epoch 23/50\n",
      "50/50 [==============================] - 0s 5ms/step - loss: 0.0035 - mae: 0.0328 - root_mean_squared_error: 0.0593 - val_loss: 8.5045e-04 - val_mae: 0.0230 - val_root_mean_squared_error: 0.0292\n",
      "Epoch 24/50\n",
      "50/50 [==============================] - 0s 5ms/step - loss: 0.0035 - mae: 0.0320 - root_mean_squared_error: 0.0591 - val_loss: 9.6106e-04 - val_mae: 0.0239 - val_root_mean_squared_error: 0.0310\n",
      "Epoch 25/50\n",
      "50/50 [==============================] - 0s 5ms/step - loss: 0.0035 - mae: 0.0321 - root_mean_squared_error: 0.0589 - val_loss: 9.7858e-04 - val_mae: 0.0241 - val_root_mean_squared_error: 0.0313\n",
      "Epoch 26/50\n",
      "50/50 [==============================] - 0s 5ms/step - loss: 0.0033 - mae: 0.0303 - root_mean_squared_error: 0.0578 - val_loss: 9.3462e-04 - val_mae: 0.0235 - val_root_mean_squared_error: 0.0306\n",
      "Epoch 27/50\n",
      "50/50 [==============================] - 0s 5ms/step - loss: 0.0033 - mae: 0.0303 - root_mean_squared_error: 0.0578 - val_loss: 8.2583e-04 - val_mae: 0.0221 - val_root_mean_squared_error: 0.0287\n",
      "Epoch 28/50\n",
      "50/50 [==============================] - 0s 5ms/step - loss: 0.0034 - mae: 0.0305 - root_mean_squared_error: 0.0581 - val_loss: 0.0016 - val_mae: 0.0313 - val_root_mean_squared_error: 0.0398\n",
      "Epoch 29/50\n",
      "50/50 [==============================] - 0s 5ms/step - loss: 0.0035 - mae: 0.0312 - root_mean_squared_error: 0.0588 - val_loss: 0.0018 - val_mae: 0.0332 - val_root_mean_squared_error: 0.0419\n",
      "Epoch 30/50\n",
      "50/50 [==============================] - 0s 5ms/step - loss: 0.0034 - mae: 0.0312 - root_mean_squared_error: 0.0579 - val_loss: 8.2178e-04 - val_mae: 0.0227 - val_root_mean_squared_error: 0.0287\n",
      "Epoch 31/50\n",
      "50/50 [==============================] - 0s 5ms/step - loss: 0.0033 - mae: 0.0299 - root_mean_squared_error: 0.0574 - val_loss: 7.7111e-04 - val_mae: 0.0214 - val_root_mean_squared_error: 0.0278\n",
      "Epoch 32/50\n",
      "50/50 [==============================] - 0s 7ms/step - loss: 0.0034 - mae: 0.0309 - root_mean_squared_error: 0.0585 - val_loss: 0.0012 - val_mae: 0.0266 - val_root_mean_squared_error: 0.0346\n",
      "Epoch 33/50\n",
      "50/50 [==============================] - 0s 6ms/step - loss: 0.0033 - mae: 0.0305 - root_mean_squared_error: 0.0577 - val_loss: 0.0013 - val_mae: 0.0279 - val_root_mean_squared_error: 0.0360\n",
      "Epoch 34/50\n",
      "50/50 [==============================] - 0s 5ms/step - loss: 0.0033 - mae: 0.0300 - root_mean_squared_error: 0.0578 - val_loss: 8.7372e-04 - val_mae: 0.0226 - val_root_mean_squared_error: 0.0296\n",
      "Epoch 35/50\n",
      "50/50 [==============================] - 0s 6ms/step - loss: 0.0033 - mae: 0.0299 - root_mean_squared_error: 0.0573 - val_loss: 0.0014 - val_mae: 0.0294 - val_root_mean_squared_error: 0.0377\n",
      "Epoch 36/50\n",
      "50/50 [==============================] - 0s 5ms/step - loss: 0.0033 - mae: 0.0302 - root_mean_squared_error: 0.0577 - val_loss: 0.0010 - val_mae: 0.0246 - val_root_mean_squared_error: 0.0320\n",
      "Epoch 37/50\n",
      "50/50 [==============================] - 0s 5ms/step - loss: 0.0033 - mae: 0.0298 - root_mean_squared_error: 0.0571 - val_loss: 9.2058e-04 - val_mae: 0.0232 - val_root_mean_squared_error: 0.0303\n",
      "Epoch 38/50\n",
      "50/50 [==============================] - 0s 5ms/step - loss: 0.0035 - mae: 0.0321 - root_mean_squared_error: 0.0589 - val_loss: 7.9374e-04 - val_mae: 0.0216 - val_root_mean_squared_error: 0.0282\n",
      "Epoch 39/50\n",
      "50/50 [==============================] - 0s 5ms/step - loss: 0.0033 - mae: 0.0300 - root_mean_squared_error: 0.0576 - val_loss: 9.2153e-04 - val_mae: 0.0232 - val_root_mean_squared_error: 0.0304\n",
      "Epoch 40/50\n",
      "50/50 [==============================] - 0s 5ms/step - loss: 0.0033 - mae: 0.0307 - root_mean_squared_error: 0.0577 - val_loss: 9.5961e-04 - val_mae: 0.0237 - val_root_mean_squared_error: 0.0310\n",
      "Epoch 41/50\n",
      "50/50 [==============================] - 0s 5ms/step - loss: 0.0033 - mae: 0.0295 - root_mean_squared_error: 0.0574 - val_loss: 7.4851e-04 - val_mae: 0.0213 - val_root_mean_squared_error: 0.0274\n",
      "Epoch 42/50\n",
      "50/50 [==============================] - 0s 5ms/step - loss: 0.0033 - mae: 0.0295 - root_mean_squared_error: 0.0574 - val_loss: 9.6243e-04 - val_mae: 0.0237 - val_root_mean_squared_error: 0.0310\n",
      "Epoch 43/50\n",
      "50/50 [==============================] - 0s 5ms/step - loss: 0.0033 - mae: 0.0305 - root_mean_squared_error: 0.0577 - val_loss: 8.9007e-04 - val_mae: 0.0227 - val_root_mean_squared_error: 0.0298\n",
      "Epoch 44/50\n",
      "50/50 [==============================] - 0s 5ms/step - loss: 0.0033 - mae: 0.0302 - root_mean_squared_error: 0.0574 - val_loss: 0.0012 - val_mae: 0.0264 - val_root_mean_squared_error: 0.0343\n",
      "Epoch 45/50\n",
      "50/50 [==============================] - 0s 5ms/step - loss: 0.0033 - mae: 0.0299 - root_mean_squared_error: 0.0571 - val_loss: 7.2009e-04 - val_mae: 0.0205 - val_root_mean_squared_error: 0.0268\n",
      "Epoch 46/50\n",
      "50/50 [==============================] - 0s 5ms/step - loss: 0.0034 - mae: 0.0295 - root_mean_squared_error: 0.0579 - val_loss: 8.1115e-04 - val_mae: 0.0217 - val_root_mean_squared_error: 0.0285\n",
      "Epoch 47/50\n",
      "50/50 [==============================] - 0s 6ms/step - loss: 0.0033 - mae: 0.0300 - root_mean_squared_error: 0.0576 - val_loss: 7.8555e-04 - val_mae: 0.0215 - val_root_mean_squared_error: 0.0280\n",
      "Epoch 48/50\n",
      "50/50 [==============================] - 0s 5ms/step - loss: 0.0033 - mae: 0.0295 - root_mean_squared_error: 0.0574 - val_loss: 7.1545e-04 - val_mae: 0.0203 - val_root_mean_squared_error: 0.0267\n",
      "Epoch 49/50\n",
      "50/50 [==============================] - 0s 5ms/step - loss: 0.0033 - mae: 0.0295 - root_mean_squared_error: 0.0573 - val_loss: 0.0012 - val_mae: 0.0273 - val_root_mean_squared_error: 0.0353\n",
      "Epoch 50/50\n",
      "50/50 [==============================] - 0s 5ms/step - loss: 0.0035 - mae: 0.0327 - root_mean_squared_error: 0.0592 - val_loss: 8.2801e-04 - val_mae: 0.0219 - val_root_mean_squared_error: 0.0288\n"
     ]
    }
   ],
   "source": [
    "model.compile(loss='mean_squared_error',\n",
    "              metrics=['mae', RootMeanSquaredError()],\n",
    "              optimizer='adam')\n",
    "\n",
    "history = model.fit(X_train,\n",
    "                    y_train,\n",
    "                    epochs=50,\n",
    "                    batch_size=32,\n",
    "                    validation_split=0.1)"
   ]
  },
  {
   "cell_type": "code",
   "execution_count": 16,
   "id": "3052ee33",
   "metadata": {
    "execution": {
     "iopub.execute_input": "2024-02-06T04:44:06.954395Z",
     "iopub.status.busy": "2024-02-06T04:44:06.954067Z",
     "iopub.status.idle": "2024-02-06T04:44:07.037998Z",
     "shell.execute_reply": "2024-02-06T04:44:07.037127Z"
    },
    "papermill": {
     "duration": 0.137411,
     "end_time": "2024-02-06T04:44:07.040002",
     "exception": false,
     "start_time": "2024-02-06T04:44:06.902591",
     "status": "completed"
    },
    "tags": []
   },
   "outputs": [
    {
     "name": "stdout",
     "output_type": "stream",
     "text": [
      "7/7 [==============================] - 0s 3ms/step - loss: 5.5258e-04 - mae: 0.0208 - root_mean_squared_error: 0.0235\n"
     ]
    },
    {
     "data": {
      "text/plain": [
       "[0.0005525763262994587, 0.02078930288553238, 0.02350694127380848]"
      ]
     },
     "execution_count": 16,
     "metadata": {},
     "output_type": "execute_result"
    }
   ],
   "source": [
    "model.evaluate(X_test, y_test)"
   ]
  },
  {
   "cell_type": "markdown",
   "id": "5435d03e",
   "metadata": {
    "papermill": {
     "duration": 0.0513,
     "end_time": "2024-02-06T04:44:07.142198",
     "exception": false,
     "start_time": "2024-02-06T04:44:07.090898",
     "status": "completed"
    },
    "tags": []
   },
   "source": [
    "## Model Evaluation"
   ]
  },
  {
   "cell_type": "code",
   "execution_count": 17,
   "id": "d1d5202d",
   "metadata": {
    "execution": {
     "iopub.execute_input": "2024-02-06T04:44:07.244779Z",
     "iopub.status.busy": "2024-02-06T04:44:07.244436Z",
     "iopub.status.idle": "2024-02-06T04:44:07.549765Z",
     "shell.execute_reply": "2024-02-06T04:44:07.548805Z"
    },
    "papermill": {
     "duration": 0.359066,
     "end_time": "2024-02-06T04:44:07.551856",
     "exception": false,
     "start_time": "2024-02-06T04:44:07.192790",
     "status": "completed"
    },
    "tags": []
   },
   "outputs": [
    {
     "data": {
      "image/png": "[encoded data removed]",
      "text/plain": [
       "<Figure size 640x480 with 1 Axes>"
      ]
     },
     "metadata": {},
     "output_type": "display_data"
    }
   ],
   "source": [
    "plt.plot(history.history['loss'])\n",
    "plt.plot(history.history['val_loss'])\n",
    "plt.title(f'{SHEET_NAME} Model Loss', fontsize=15)\n",
    "plt.ylabel('loss')\n",
    "plt.xlabel('epoch')\n",
    "plt.legend(['train', 'test'])\n",
    "plt.show()"
   ]
  },
  {
   "cell_type": "code",
   "execution_count": 18,
   "id": "fe72d55d",
   "metadata": {
    "execution": {
     "iopub.execute_input": "2024-02-06T04:44:07.655953Z",
     "iopub.status.busy": "2024-02-06T04:44:07.655668Z",
     "iopub.status.idle": "2024-02-06T04:44:08.095229Z",
     "shell.execute_reply": "2024-02-06T04:44:08.094270Z"
    },
    "papermill": {
     "duration": 0.493669,
     "end_time": "2024-02-06T04:44:08.097390",
     "exception": false,
     "start_time": "2024-02-06T04:44:07.603721",
     "status": "completed"
    },
    "tags": []
   },
   "outputs": [
    {
     "name": "stdout",
     "output_type": "stream",
     "text": [
      "7/7 [==============================] - 0s 2ms/step\n"
     ]
    }
   ],
   "source": [
    "y_hat = model.predict(X_test)\n",
    "y_test_inverse = scaler.inverse_transform(y_test)\n",
    "y_hat_inverse = scaler.inverse_transform(y_hat)"
   ]
  },
  {
   "cell_type": "code",
   "execution_count": 19,
   "id": "76a7668e",
   "metadata": {
    "execution": {
     "iopub.execute_input": "2024-02-06T04:44:08.205320Z",
     "iopub.status.busy": "2024-02-06T04:44:08.204680Z",
     "iopub.status.idle": "2024-02-06T04:44:08.513647Z",
     "shell.execute_reply": "2024-02-06T04:44:08.512780Z"
    },
    "papermill": {
     "duration": 0.363831,
     "end_time": "2024-02-06T04:44:08.515621",
     "exception": false,
     "start_time": "2024-02-06T04:44:08.151790",
     "status": "completed"
    },
    "tags": []
   },
   "outputs": [
    {
     "data": {
      "image/png": "[encoded data removed]",
      "text/plain": [
       "<Figure size 640x480 with 1 Axes>"
      ]
     },
     "metadata": {},
     "output_type": "display_data"
    }
   ],
   "source": [
    "plt.plot(y_test_inverse, label=\"Actual Price\", color='green')\n",
    "plt.plot(y_hat_inverse, label=\"Predicted Price\", color='red')\n",
    " \n",
    "plt.title(f'{SHEET_NAME} Price Prediction\\nLSTM = {LSTM_Layer}, Split Data = {SPLIT}, Window = {WINDOW_SIZE}', fontsize=15)\n",
    "plt.xlabel('Time [days]')\n",
    "plt.ylabel('Price')\n",
    "plt.legend(loc='best')\n",
    " \n",
    "plt.show()"
   ]
  },
  {
   "cell_type": "code",
   "execution_count": 20,
   "id": "adb22072",
   "metadata": {
    "execution": {
     "iopub.execute_input": "2024-02-06T04:44:08.621775Z",
     "iopub.status.busy": "2024-02-06T04:44:08.621094Z",
     "iopub.status.idle": "2024-02-06T04:44:08.629232Z",
     "shell.execute_reply": "2024-02-06T04:44:08.628361Z"
    },
    "papermill": {
     "duration": 0.062992,
     "end_time": "2024-02-06T04:44:08.631257",
     "exception": false,
     "start_time": "2024-02-06T04:44:08.568265",
     "status": "completed"
    },
    "tags": []
   },
   "outputs": [
    {
     "name": "stdout",
     "output_type": "stream",
     "text": [
      "LSTM = 1, Split Data = 0.9, Window = 20\n",
      "\n",
      "----------------- Normalized Error -----------------\n",
      "Mean Absolute Error for prediction : 0.02078930647352704\n",
      "Mean Squared Error for prediction : 0.0005525763144736573\n",
      "Root Mean Squared Error for prediction : 0.02350694183584197\n",
      "\n",
      "----------------- Actual Error -----------------\n",
      "Mean Absolute Error for prediction : 29.02586944265367\n",
      "Mean Squared Error for prediction : 1077.1592284327965\n",
      "Root Mean Squared Error for prediction : 32.820104028366465\n"
     ]
    }
   ],
   "source": [
    "def matrices(actual, predicted):\n",
    "    mse = mean_squared_error(actual, predicted)\n",
    "    mae = mean_absolute_error(actual, predicted)\n",
    "    rmse = np.sqrt(mse)\n",
    "    print(\"Mean Absolute Error for prediction :\", mae)\n",
    "    print(\"Mean Squared Error for prediction :\", mse)\n",
    "    print(\"Root Mean Squared Error for prediction :\", rmse)\n",
    "    return mae, mse, rmse\n",
    "\n",
    "print(f\"LSTM = {LSTM_Layer}, Split Data = {SPLIT}, Window = {WINDOW_SIZE}\")\n",
    "print(\"\\n----------------- Normalized Error -----------------\")\n",
    "mae, mse, rmse = matrices(y_test, y_hat)\n",
    "print(\"\\n----------------- Actual Error -----------------\")\n",
    "mae_inverse, mse_inverse, rmse_inverse = matrices(y_test_inverse, y_hat_inverse)"
   ]
  }
 ],
 "metadata": {
  "kaggle": {
   "accelerator": "gpu",
   "dataSources": [],
   "dockerImageVersionId": 30498,
   "isGpuEnabled": true,
   "isInternetEnabled": true,
   "language": "python",
   "sourceType": "notebook"
  },
  "kernelspec": {
   "display_name": "Python 3",
   "language": "python",
   "name": "python3"
  },
  "language_info": {
   "codemirror_mode": {
    "name": "ipython",
    "version": 3
   },
   "file_extension": ".py",
   "mimetype": "text/x-python",
   "name": "python",
   "nbconvert_exporter": "python",
   "pygments_lexer": "ipython3",
   "version": "3.10.10"
  },
  "papermill": {
   "default_parameters": {},
   "duration": 587.000926,
   "end_time": "2024-02-06T04:44:11.992525",
   "environment_variables": {},
   "exception": null,
   "input_path": "__notebook__.ipynb",
   "output_path": "__notebook__.ipynb",
   "parameters": {},
   "start_time": "2024-02-06T04:34:24.991599",
   "version": "2.4.0"
  }
 },
 "nbformat": 4,
 "nbformat_minor": 5
}
