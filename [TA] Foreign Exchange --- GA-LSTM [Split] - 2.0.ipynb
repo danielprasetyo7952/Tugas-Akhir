{
 "cells": [
  {
   "cell_type": "code",
   "execution_count": 1,
   "id": "6dfe2d13",
   "metadata": {
    "execution": {
     "iopub.execute_input": "2024-02-06T05:07:48.691975Z",
     "iopub.status.busy": "2024-02-06T05:07:48.691535Z",
     "iopub.status.idle": "2024-02-06T05:07:58.148906Z",
     "shell.execute_reply": "2024-02-06T05:07:58.148030Z"
    },
    "papermill": {
     "duration": 9.469091,
     "end_time": "2024-02-06T05:07:58.151351",
     "exception": false,
     "start_time": "2024-02-06T05:07:48.682260",
     "status": "completed"
    },
    "tags": []
   },
   "outputs": [
    {
     "name": "stderr",
     "output_type": "stream",
     "text": [
      "/opt/conda/lib/python3.10/site-packages/tensorflow_io/python/ops/__init__.py:98: UserWarning: unable to load libtensorflow_io_plugins.so: unable to open file: libtensorflow_io_plugins.so, from paths: ['/opt/conda/lib/python3.10/site-packages/tensorflow_io/python/ops/libtensorflow_io_plugins.so']\n",
      "caused by: ['/opt/conda/lib/python3.10/site-packages/tensorflow_io/python/ops/libtensorflow_io_plugins.so: undefined symbol: _ZN3tsl6StatusC1EN10tensorflow5error4CodeESt17basic_string_viewIcSt11char_traitsIcEENS_14SourceLocationE']\n",
      "  warnings.warn(f\"unable to load libtensorflow_io_plugins.so: {e}\")\n",
      "/opt/conda/lib/python3.10/site-packages/tensorflow_io/python/ops/__init__.py:104: UserWarning: file system plugins are not loaded: unable to open file: libtensorflow_io.so, from paths: ['/opt/conda/lib/python3.10/site-packages/tensorflow_io/python/ops/libtensorflow_io.so']\n",
      "caused by: ['/opt/conda/lib/python3.10/site-packages/tensorflow_io/python/ops/libtensorflow_io.so: undefined symbol: _ZTVN10tensorflow13GcsFileSystemE']\n",
      "  warnings.warn(f\"file system plugins are not loaded: {e}\")\n"
     ]
    }
   ],
   "source": [
    "import pandas as pd\n",
    "import numpy as np\n",
    "import tensorflow as tf\n",
    "import matplotlib.pyplot as plt\n",
    "import datetime, pytz\n",
    "\n",
    "from keras.models import Sequential\n",
    "from keras.layers import LSTM, Dense\n",
    "from keras.metrics import RootMeanSquaredError\n",
    "\n",
    "from sklearn.preprocessing import MinMaxScaler\n",
    "from sklearn.metrics import mean_squared_error, mean_absolute_error"
   ]
  },
  {
   "cell_type": "markdown",
   "id": "2ba737e4",
   "metadata": {
    "papermill": {
     "duration": 0.006694,
     "end_time": "2024-02-06T05:07:58.165777",
     "exception": false,
     "start_time": "2024-02-06T05:07:58.159083",
     "status": "completed"
    },
    "tags": []
   },
   "source": [
    "## Hyperparameter"
   ]
  },
  {
   "cell_type": "code",
   "execution_count": 2,
   "id": "9f250853",
   "metadata": {
    "execution": {
     "iopub.execute_input": "2024-02-06T05:07:58.182650Z",
     "iopub.status.busy": "2024-02-06T05:07:58.181436Z",
     "iopub.status.idle": "2024-02-06T05:07:58.186880Z",
     "shell.execute_reply": "2024-02-06T05:07:58.186021Z"
    },
    "papermill": {
     "duration": 0.016034,
     "end_time": "2024-02-06T05:07:58.188918",
     "exception": false,
     "start_time": "2024-02-06T05:07:58.172884",
     "status": "completed"
    },
    "tags": []
   },
   "outputs": [],
   "source": [
    "# Google Spreadsheet ID\n",
    "SHEET_ID = '1JDNv_mArl-GPIpxuWS5GxgVEwvjXocS1MrXGc6TYs8M'\n",
    "SHEET_NAME = 'SGD/IDR' # USD/IDR, EUR/IDR, SGD/IDR\n",
    "\n",
    "SEQ_LEN = 11 # 6, 11, 21\n",
    "SPLIT = 0.80 # 0.80, 0.90\n",
    "LSTM_Layer = 3 # 1, 2, 3\n",
    "WINDOW_SIZE = SEQ_LEN - 1"
   ]
  },
  {
   "cell_type": "code",
   "execution_count": 3,
   "id": "750ca750",
   "metadata": {
    "execution": {
     "iopub.execute_input": "2024-02-06T05:07:58.204572Z",
     "iopub.status.busy": "2024-02-06T05:07:58.204261Z",
     "iopub.status.idle": "2024-02-06T05:07:58.581772Z",
     "shell.execute_reply": "2024-02-06T05:07:58.580855Z"
    },
    "papermill": {
     "duration": 0.387909,
     "end_time": "2024-02-06T05:07:58.584004",
     "exception": false,
     "start_time": "2024-02-06T05:07:58.196095",
     "status": "completed"
    },
    "tags": []
   },
   "outputs": [
    {
     "name": "stdout",
     "output_type": "stream",
     "text": [
      "<class 'pandas.core.frame.DataFrame'>\n",
      "RangeIndex: 1959 entries, 0 to 1958\n",
      "Data columns (total 2 columns):\n",
      " #   Column  Non-Null Count  Dtype         \n",
      "---  ------  --------------  -----         \n",
      " 0   Date    1959 non-null   datetime64[ns]\n",
      " 1   Close   1959 non-null   float64       \n",
      "dtypes: datetime64[ns](1), float64(1)\n",
      "memory usage: 30.7 KB\n"
     ]
    }
   ],
   "source": [
    "url = f'https://docs.google.com/spreadsheets/d/{SHEET_ID}/gviz/tq?tqx=out:csv&sheet={SHEET_NAME}'\n",
    "data = pd.read_csv(url)\n",
    "\n",
    "# Convert Date columns to datetime format\n",
    "data['Date'] = pd.to_datetime(data['Date'], format='%d/%m/%Y %H:%M:%S')\n",
    "data.info()"
   ]
  },
  {
   "cell_type": "markdown",
   "id": "5d95ff3f",
   "metadata": {
    "papermill": {
     "duration": 0.006684,
     "end_time": "2024-02-06T05:07:58.598052",
     "exception": false,
     "start_time": "2024-02-06T05:07:58.591368",
     "status": "completed"
    },
    "tags": []
   },
   "source": [
    "## Preprocessing"
   ]
  },
  {
   "cell_type": "code",
   "execution_count": 4,
   "id": "b29c92c5",
   "metadata": {
    "execution": {
     "iopub.execute_input": "2024-02-06T05:07:58.613690Z",
     "iopub.status.busy": "2024-02-06T05:07:58.613322Z",
     "iopub.status.idle": "2024-02-06T05:07:58.625953Z",
     "shell.execute_reply": "2024-02-06T05:07:58.624866Z"
    },
    "papermill": {
     "duration": 0.023043,
     "end_time": "2024-02-06T05:07:58.628185",
     "exception": false,
     "start_time": "2024-02-06T05:07:58.605142",
     "status": "completed"
    },
    "tags": []
   },
   "outputs": [
    {
     "name": "stderr",
     "output_type": "stream",
     "text": [
      "/tmp/ipykernel_27/2274720815.py:7: SettingWithCopyWarning: \n",
      "A value is trying to be set on a copy of a slice from a DataFrame\n",
      "\n",
      "See the caveats in the documentation: https://pandas.pydata.org/pandas-docs/stable/user_guide/indexing.html#returning-a-view-versus-a-copy\n",
      "  data[data < lower_bound] = lower_bound\n",
      "/tmp/ipykernel_27/2274720815.py:8: SettingWithCopyWarning: \n",
      "A value is trying to be set on a copy of a slice from a DataFrame\n",
      "\n",
      "See the caveats in the documentation: https://pandas.pydata.org/pandas-docs/stable/user_guide/indexing.html#returning-a-view-versus-a-copy\n",
      "  data[data > upper_bound] = upper_bound\n"
     ]
    }
   ],
   "source": [
    "def replace_outliers(data):\n",
    "    Q1 = np.percentile(data, 25)\n",
    "    Q3 = np.percentile(data, 75)\n",
    "    IQR = Q3 - Q1\n",
    "    lower_bound = Q1 - 1.5 * IQR\n",
    "    upper_bound = Q3 + 1.5 * IQR\n",
    "    data[data < lower_bound] = lower_bound\n",
    "    data[data > upper_bound] = upper_bound\n",
    "    return data\n",
    "\n",
    "data['Close'] = replace_outliers(data['Close'])"
   ]
  },
  {
   "cell_type": "code",
   "execution_count": 5,
   "id": "e9c096f8",
   "metadata": {
    "execution": {
     "iopub.execute_input": "2024-02-06T05:07:58.644031Z",
     "iopub.status.busy": "2024-02-06T05:07:58.643727Z",
     "iopub.status.idle": "2024-02-06T05:07:58.929271Z",
     "shell.execute_reply": "2024-02-06T05:07:58.928194Z"
    },
    "papermill": {
     "duration": 0.296101,
     "end_time": "2024-02-06T05:07:58.931434",
     "exception": false,
     "start_time": "2024-02-06T05:07:58.635333",
     "status": "completed"
    },
    "tags": []
   },
   "outputs": [
    {
     "data": {
      "image/png": "[encoded data removed]",
      "text/plain": [
       "<Figure size 640x480 with 1 Axes>"
      ]
     },
     "metadata": {},
     "output_type": "display_data"
    }
   ],
   "source": [
    "# Boxplot for outlier detection\n",
    "plt.boxplot(data['Close'])\n",
    "plt.title(f\"{SHEET_NAME} Boxplot for Outlier Detection\")\n",
    "plt.xlabel(\"Close\")\n",
    "plt.ylabel(\"Values\")\n",
    "plt.show()"
   ]
  },
  {
   "cell_type": "code",
   "execution_count": 6,
   "id": "08d4fb01",
   "metadata": {
    "execution": {
     "iopub.execute_input": "2024-02-06T05:07:58.949354Z",
     "iopub.status.busy": "2024-02-06T05:07:58.949016Z",
     "iopub.status.idle": "2024-02-06T05:07:58.957353Z",
     "shell.execute_reply": "2024-02-06T05:07:58.956452Z"
    },
    "papermill": {
     "duration": 0.019453,
     "end_time": "2024-02-06T05:07:58.959565",
     "exception": false,
     "start_time": "2024-02-06T05:07:58.940112",
     "status": "completed"
    },
    "tags": []
   },
   "outputs": [
    {
     "data": {
      "text/plain": [
       "(1959, 1)"
      ]
     },
     "execution_count": 6,
     "metadata": {},
     "output_type": "execute_result"
    }
   ],
   "source": [
    "scaler = MinMaxScaler()\n",
    "close_price = data.Close.values.reshape(-1, 1)\n",
    "scaled_close = scaler.fit_transform(close_price)\n",
    "scaled_close.shape"
   ]
  },
  {
   "cell_type": "code",
   "execution_count": 7,
   "id": "bad1c491",
   "metadata": {
    "execution": {
     "iopub.execute_input": "2024-02-06T05:07:58.977567Z",
     "iopub.status.busy": "2024-02-06T05:07:58.977277Z",
     "iopub.status.idle": "2024-02-06T05:07:58.987775Z",
     "shell.execute_reply": "2024-02-06T05:07:58.987037Z"
    },
    "papermill": {
     "duration": 0.02187,
     "end_time": "2024-02-06T05:07:58.989848",
     "exception": false,
     "start_time": "2024-02-06T05:07:58.967978",
     "status": "completed"
    },
    "tags": []
   },
   "outputs": [],
   "source": [
    "def to_sequences(data, seq_len):\n",
    "    d = []\n",
    "    for index in range(len(data) - seq_len):\n",
    "        d.append(data[index: index + seq_len])\n",
    "    return np.array(d)\n",
    "\n",
    "def preprocess(data_raw, seq_len, train_split):\n",
    "    data = to_sequences(data_raw, seq_len)\n",
    "    num_train = int(train_split * data.shape[0])\n",
    "    X_train = data[:num_train, :-1, :]\n",
    "    y_train = data[:num_train, -1, :]\n",
    "    X_test = data[num_train:, :-1, :]\n",
    "    y_test = data[num_train:, -1, :]\n",
    "    return X_train, y_train, X_test, y_test\n",
    "\n",
    "X_train, y_train, X_test, y_test = preprocess(scaled_close, SEQ_LEN, train_split = SPLIT)"
   ]
  },
  {
   "cell_type": "markdown",
   "id": "b79e37f8",
   "metadata": {
    "papermill": {
     "duration": 0.00768,
     "end_time": "2024-02-06T05:07:59.005521",
     "exception": false,
     "start_time": "2024-02-06T05:07:58.997841",
     "status": "completed"
    },
    "tags": []
   },
   "source": [
    "## Genetic Algorithm"
   ]
  },
  {
   "cell_type": "code",
   "execution_count": 8,
   "id": "d81b2690",
   "metadata": {
    "execution": {
     "iopub.execute_input": "2024-02-06T05:07:59.022214Z",
     "iopub.status.busy": "2024-02-06T05:07:59.021935Z",
     "iopub.status.idle": "2024-02-06T05:07:59.027984Z",
     "shell.execute_reply": "2024-02-06T05:07:59.027064Z"
    },
    "papermill": {
     "duration": 0.016653,
     "end_time": "2024-02-06T05:07:59.030083",
     "exception": false,
     "start_time": "2024-02-06T05:07:59.013430",
     "status": "completed"
    },
    "tags": []
   },
   "outputs": [],
   "source": [
    "def decimal_to_binary(chromosome: list):\n",
    "    binary_string = ''.join([bin(x)[2:].zfill(8) for x in chromosome])\n",
    "    return binary_string\n",
    "\n",
    "def binary_to_decimal(binary_string: str):\n",
    "    decimal_array = [int(binary, 2) for binary in [binary_string[i:i+8] for i in range(0, len(binary_string), 8)]]\n",
    "    return decimal_array"
   ]
  },
  {
   "cell_type": "code",
   "execution_count": 9,
   "id": "373e89d9",
   "metadata": {
    "execution": {
     "iopub.execute_input": "2024-02-06T05:07:59.047139Z",
     "iopub.status.busy": "2024-02-06T05:07:59.046852Z",
     "iopub.status.idle": "2024-02-06T05:07:59.067078Z",
     "shell.execute_reply": "2024-02-06T05:07:59.066331Z"
    },
    "papermill": {
     "duration": 0.031314,
     "end_time": "2024-02-06T05:07:59.069251",
     "exception": false,
     "start_time": "2024-02-06T05:07:59.037937",
     "status": "completed"
    },
    "tags": []
   },
   "outputs": [],
   "source": [
    "# Genetic Algorithm\n",
    "def genetic_algorithm(generations, mutation_rate):\n",
    "    print(f\"Inizialized Population...\")\n",
    "    population = np.random.randint(1, high=251, size=(10, 3))\n",
    "    fitness_scores = np.array([fitness_function(chromosome) for chromosome in population])\n",
    "    max_fitness_each_gen = []\n",
    "    \n",
    "    for generation in range(generations):\n",
    "        print(f\"Generation - {generation + 1}\")\n",
    "        max_fitness_each_gen.append(np.max(fitness_scores))\n",
    "        \n",
    "        chromosome_1 = selection(population, fitness_scores)\n",
    "        chromosome_2 = selection(population, fitness_scores)\n",
    "        \n",
    "        if generation % mutation_rate == 0:\n",
    "            chromosome_1 = mutate(chromosome_1)\n",
    "            chromosome_2 = mutate(chromosome_2)\n",
    "        else:\n",
    "            chromosome_1, chromosome_2 = crossover(chromosome_1, chromosome_2)\n",
    "\n",
    "        fitness_score_1 = fitness_function(chromosome_1)\n",
    "        fitness_score_2 = fitness_function(chromosome_2)\n",
    "        \n",
    "        worst_index = np.argmin(fitness_scores)\n",
    "        worst_fitness = fitness_scores[worst_index]\n",
    "\n",
    "        if fitness_score_1 > worst_fitness:\n",
    "            population[worst_index] = chromosome_1\n",
    "            fitness_scores[worst_index] = fitness_score_1\n",
    "            worst_index = np.argmin(fitness_scores)\n",
    "            worst_fitness = fitness_scores[worst_index]\n",
    "\n",
    "        if fitness_score_2 > worst_fitness:\n",
    "            population[worst_index] = chromosome_2\n",
    "            fitness_scores[worst_index] = fitness_score_2\n",
    "        \n",
    "        # Release some memory\n",
    "        del chromosome_1, chromosome_2\n",
    "        del fitness_score_1, fitness_score_2\n",
    "        del worst_index, worst_fitness\n",
    "            \n",
    "    best_chromosome = population[np.argmax(fitness_scores)]\n",
    "    best_fitness = np.max(fitness_scores)\n",
    "    \n",
    "    return best_chromosome, best_fitness, max_fitness_each_gen\n",
    "\n",
    "# Selection (Tournament selection)\n",
    "def selection(population, fitness_scores, tournament_size=3):\n",
    "    indices = np.random.randint(len(population), size=tournament_size)\n",
    "    tournament = population[indices]\n",
    "    tournament_fitness = fitness_scores[indices]\n",
    "    return tournament[np.argmax(tournament_fitness)]\n",
    "\n",
    "# Crossover (Single-point crossover)\n",
    "def crossover(parent_1: list, parent_2: list):\n",
    "    parent_1 = decimal_to_binary(parent_1)\n",
    "    parent_2 = decimal_to_binary(parent_2)\n",
    "    \n",
    "    crossover_point = np.random.randint(1, len(parent_1))\n",
    "    offspring_1 = parent_1[:crossover_point] + parent_2[crossover_point:]\n",
    "    offspring_2 = parent_2[:crossover_point] + parent_1[crossover_point:]\n",
    "    \n",
    "    offspring_1 = binary_to_decimal(offspring_1)\n",
    "    offspring_2 = binary_to_decimal(offspring_2)\n",
    "    return offspring_1, offspring_2\n",
    "\n",
    "# Mutation (Swap Mutation)\n",
    "def mutate(chromosome: list):\n",
    "    chromosome = decimal_to_binary(chromosome)\n",
    "    \n",
    "    chromosome_list = list(chromosome)\n",
    "    i = np.random.randint(len(chromosome_list), size=2)\n",
    "    chromosome_list[i[0]], chromosome_list[i[1]] = chromosome_list[i[1]], chromosome_list[i[0]]\n",
    "    \n",
    "    chromosome_list = ''.join(chromosome_list)\n",
    "    chromosome = binary_to_decimal(chromosome_list)\n",
    "    return chromosome\n",
    "\n",
    "# Fitness Function\n",
    "def fitness_function(chromosome: list):\n",
    "    lstm_units = [int(chromosome[i]) or default for i, default in enumerate([128, 64, 32])]\n",
    "\n",
    "    # Build the LSTM model\n",
    "    tf.keras.backend.clear_session()\n",
    "    model = Sequential()\n",
    "    for i, units in enumerate(lstm_units[:LSTM_Layer]):\n",
    "        model.add(LSTM(units, return_sequences=(i < LSTM_Layer - 1), input_shape=(WINDOW_SIZE, 1)))\n",
    "    model.add(Dense(1))\n",
    "    \n",
    "    # Compile and train the model\n",
    "    model.compile(loss='mean_squared_error',\n",
    "                  optimizer='adam')\n",
    "    model.fit(X_train, y_train,\n",
    "              epochs=10,\n",
    "              batch_size=32,\n",
    "              verbose=0,\n",
    "              validation_split=0.1)\n",
    "\n",
    "    # Evaluate the model\n",
    "    loss = model.evaluate(X_test, y_test)\n",
    "\n",
    "    # Return the negative value of the loss as the fitness score\n",
    "    return -loss"
   ]
  },
  {
   "cell_type": "code",
   "execution_count": 10,
   "id": "2ba325b1",
   "metadata": {
    "execution": {
     "iopub.execute_input": "2024-02-06T05:07:59.086098Z",
     "iopub.status.busy": "2024-02-06T05:07:59.085810Z",
     "iopub.status.idle": "2024-02-06T05:07:59.091846Z",
     "shell.execute_reply": "2024-02-06T05:07:59.091001Z"
    },
    "papermill": {
     "duration": 0.016639,
     "end_time": "2024-02-06T05:07:59.093752",
     "exception": false,
     "start_time": "2024-02-06T05:07:59.077113",
     "status": "completed"
    },
    "tags": []
   },
   "outputs": [],
   "source": [
    "import typing\n",
    "from datetime import datetime\n",
    "\n",
    "def timer(start_time: datetime = None) -> \"typing.Union[datetime.datetime, str]\":\n",
    "    if not start_time:\n",
    "        start_time = datetime.now()\n",
    "        return start_time\n",
    "    elif start_time:\n",
    "        thour, temp_sec = divmod((datetime.now() - start_time).total_seconds(), 3600)\n",
    "        tmin, tsec = divmod(temp_sec, 60)\n",
    "        return \"%i hours %i minutes and %s seconds.\" % (\n",
    "            thour,\n",
    "            tmin,\n",
    "            round(tsec, 2),\n",
    "        )"
   ]
  },
  {
   "cell_type": "code",
   "execution_count": 11,
   "id": "db8d0cc9",
   "metadata": {
    "execution": {
     "iopub.execute_input": "2024-02-06T05:07:59.110558Z",
     "iopub.status.busy": "2024-02-06T05:07:59.110252Z",
     "iopub.status.idle": "2024-02-06T05:28:44.058313Z",
     "shell.execute_reply": "2024-02-06T05:28:44.057239Z"
    },
    "papermill": {
     "duration": 1244.959194,
     "end_time": "2024-02-06T05:28:44.060933",
     "exception": false,
     "start_time": "2024-02-06T05:07:59.101739",
     "status": "completed"
    },
    "tags": []
   },
   "outputs": [
    {
     "name": "stdout",
     "output_type": "stream",
     "text": [
      "Inizialized Population...\n",
      "13/13 [==============================] - 0s 4ms/step - loss: 0.0024\n",
      "13/13 [==============================] - 0s 4ms/step - loss: 0.0028\n",
      "13/13 [==============================] - 0s 4ms/step - loss: 0.0023\n",
      "13/13 [==============================] - 0s 4ms/step - loss: 0.0011\n",
      "13/13 [==============================] - 0s 4ms/step - loss: 0.0011\n",
      "13/13 [==============================] - 0s 4ms/step - loss: 0.0023\n",
      "13/13 [==============================] - 0s 4ms/step - loss: 0.0038\n",
      "13/13 [==============================] - 0s 4ms/step - loss: 0.0026\n",
      "13/13 [==============================] - 0s 4ms/step - loss: 0.0018\n",
      "13/13 [==============================] - 0s 4ms/step - loss: 0.0018\n",
      "Generation - 1\n",
      "13/13 [==============================] - 0s 4ms/step - loss: 0.0023\n",
      "13/13 [==============================] - 0s 4ms/step - loss: 0.0029\n",
      "Generation - 2\n",
      "13/13 [==============================] - 0s 4ms/step - loss: 0.0059\n",
      "13/13 [==============================] - 0s 4ms/step - loss: 0.0015\n",
      "Generation - 3\n",
      "13/13 [==============================] - 0s 4ms/step - loss: 0.0011\n",
      "13/13 [==============================] - 0s 4ms/step - loss: 0.0011\n",
      "Generation - 4\n",
      "13/13 [==============================] - 0s 4ms/step - loss: 0.0040\n",
      "13/13 [==============================] - 0s 4ms/step - loss: 0.0115\n",
      "Generation - 5\n",
      "13/13 [==============================] - 0s 4ms/step - loss: 0.0012\n",
      "13/13 [==============================] - 0s 4ms/step - loss: 0.0040\n",
      "Generation - 6\n",
      "13/13 [==============================] - 0s 4ms/step - loss: 0.0027\n",
      "13/13 [==============================] - 0s 4ms/step - loss: 0.0016\n",
      "Generation - 7\n",
      "13/13 [==============================] - 0s 4ms/step - loss: 9.3162e-04\n",
      "13/13 [==============================] - 0s 5ms/step - loss: 0.0044\n",
      "Generation - 8\n",
      "13/13 [==============================] - 0s 4ms/step - loss: 0.0027\n",
      "13/13 [==============================] - 0s 4ms/step - loss: 0.0027\n",
      "Generation - 9\n",
      "13/13 [==============================] - 0s 5ms/step - loss: 0.0035\n",
      "13/13 [==============================] - 0s 4ms/step - loss: 0.0036\n",
      "Generation - 10\n",
      "13/13 [==============================] - 0s 4ms/step - loss: 0.0014\n",
      "13/13 [==============================] - 0s 4ms/step - loss: 0.0011\n",
      "Generation - 11\n",
      "13/13 [==============================] - 0s 4ms/step - loss: 0.0011\n",
      "13/13 [==============================] - 0s 4ms/step - loss: 0.0042\n",
      "Generation - 12\n",
      "13/13 [==============================] - 0s 4ms/step - loss: 0.0055\n",
      "13/13 [==============================] - 0s 4ms/step - loss: 0.0013\n",
      "Generation - 13\n",
      "13/13 [==============================] - 0s 4ms/step - loss: 0.0010\n",
      "13/13 [==============================] - 0s 4ms/step - loss: 0.0014\n",
      "Generation - 14\n",
      "13/13 [==============================] - 0s 4ms/step - loss: 0.0023\n",
      "13/13 [==============================] - 0s 4ms/step - loss: 8.9509e-04\n",
      "Generation - 15\n",
      "13/13 [==============================] - 0s 5ms/step - loss: 0.0013\n",
      "13/13 [==============================] - 0s 4ms/step - loss: 9.8088e-04\n",
      "Generation - 16\n",
      "13/13 [==============================] - 0s 4ms/step - loss: 0.0017\n",
      "13/13 [==============================] - 0s 4ms/step - loss: 0.0045\n",
      "Generation - 17\n",
      "13/13 [==============================] - 0s 4ms/step - loss: 0.0026\n",
      "13/13 [==============================] - 0s 4ms/step - loss: 0.0011\n",
      "Generation - 18\n",
      "13/13 [==============================] - 0s 4ms/step - loss: 0.0054\n",
      "13/13 [==============================] - 0s 4ms/step - loss: 0.0025\n",
      "Generation - 19\n",
      "13/13 [==============================] - 0s 4ms/step - loss: 0.0038\n",
      "13/13 [==============================] - 0s 4ms/step - loss: 0.0019\n",
      "Generation - 20\n",
      "13/13 [==============================] - 0s 4ms/step - loss: 0.0010\n",
      "13/13 [==============================] - 0s 4ms/step - loss: 0.0014\n",
      "Generation - 21\n",
      "13/13 [==============================] - 0s 4ms/step - loss: 0.0010\n",
      "13/13 [==============================] - 0s 4ms/step - loss: 0.0014\n",
      "Generation - 22\n",
      "13/13 [==============================] - 0s 4ms/step - loss: 0.0012\n",
      "13/13 [==============================] - 0s 4ms/step - loss: 0.0022\n",
      "Generation - 23\n",
      "13/13 [==============================] - 0s 4ms/step - loss: 0.0061\n",
      "13/13 [==============================] - 0s 4ms/step - loss: 0.0010\n",
      "Generation - 24\n",
      "13/13 [==============================] - 0s 4ms/step - loss: 0.0028\n",
      "13/13 [==============================] - 0s 4ms/step - loss: 0.0019\n",
      "Generation - 25\n",
      "13/13 [==============================] - 0s 4ms/step - loss: 0.0012\n",
      "13/13 [==============================] - 0s 5ms/step - loss: 9.9652e-04\n",
      "Generation - 26\n",
      "13/13 [==============================] - 0s 4ms/step - loss: 0.0041\n",
      "13/13 [==============================] - 0s 4ms/step - loss: 0.0031\n",
      "Generation - 27\n",
      "13/13 [==============================] - 0s 4ms/step - loss: 0.0040\n",
      "13/13 [==============================] - 0s 4ms/step - loss: 0.0071\n",
      "Generation - 28\n",
      "13/13 [==============================] - 0s 4ms/step - loss: 0.0033\n",
      "13/13 [==============================] - 0s 4ms/step - loss: 9.9196e-04\n",
      "Generation - 29\n",
      "13/13 [==============================] - 0s 5ms/step - loss: 0.0010\n",
      "13/13 [==============================] - 0s 4ms/step - loss: 0.0013\n",
      "Generation - 30\n",
      "13/13 [==============================] - 0s 4ms/step - loss: 8.7820e-04\n",
      "13/13 [==============================] - 0s 4ms/step - loss: 0.0017\n",
      "Generation - 31\n",
      "13/13 [==============================] - 0s 4ms/step - loss: 0.0013\n",
      "13/13 [==============================] - 0s 5ms/step - loss: 0.0020\n",
      "Generation - 32\n",
      "13/13 [==============================] - 0s 4ms/step - loss: 0.0051\n",
      "13/13 [==============================] - 0s 4ms/step - loss: 9.7881e-04\n",
      "Generation - 33\n",
      "13/13 [==============================] - 0s 4ms/step - loss: 9.5244e-04\n",
      "13/13 [==============================] - 0s 4ms/step - loss: 0.0018\n",
      "Generation - 34\n",
      "13/13 [==============================] - 0s 4ms/step - loss: 0.0011\n",
      "13/13 [==============================] - 0s 4ms/step - loss: 0.0013\n",
      "Generation - 35\n",
      "13/13 [==============================] - 0s 4ms/step - loss: 0.0016\n",
      "13/13 [==============================] - 0s 4ms/step - loss: 0.0020\n",
      "Generation - 36\n",
      "13/13 [==============================] - 0s 4ms/step - loss: 0.0017\n",
      "13/13 [==============================] - 0s 4ms/step - loss: 0.0013\n",
      "Generation - 37\n",
      "13/13 [==============================] - 0s 4ms/step - loss: 0.0021\n",
      "13/13 [==============================] - 0s 4ms/step - loss: 0.0028\n",
      "Generation - 38\n",
      "13/13 [==============================] - 0s 4ms/step - loss: 0.0013\n",
      "13/13 [==============================] - 0s 4ms/step - loss: 0.0022\n",
      "Generation - 39\n",
      "13/13 [==============================] - 0s 4ms/step - loss: 0.0034\n",
      "13/13 [==============================] - 0s 4ms/step - loss: 8.4786e-04\n",
      "Generation - 40\n",
      "13/13 [==============================] - 0s 4ms/step - loss: 0.0055\n",
      "13/13 [==============================] - 0s 4ms/step - loss: 0.0030\n",
      "Generation - 41\n",
      "13/13 [==============================] - 0s 4ms/step - loss: 9.7419e-04\n",
      "13/13 [==============================] - 0s 5ms/step - loss: 0.0038\n",
      "Generation - 42\n",
      "13/13 [==============================] - 0s 5ms/step - loss: 0.0012\n",
      "13/13 [==============================] - 0s 4ms/step - loss: 0.0109\n",
      "Generation - 43\n",
      "13/13 [==============================] - 0s 5ms/step - loss: 0.0023\n",
      "13/13 [==============================] - 0s 5ms/step - loss: 0.0012\n",
      "Generation - 44\n",
      "13/13 [==============================] - 0s 4ms/step - loss: 0.0062\n",
      "13/13 [==============================] - 0s 4ms/step - loss: 0.0026\n",
      "Generation - 45\n",
      "13/13 [==============================] - 0s 4ms/step - loss: 0.0033\n",
      "13/13 [==============================] - 0s 4ms/step - loss: 9.4964e-04\n",
      "Generation - 46\n",
      "13/13 [==============================] - 0s 4ms/step - loss: 0.0031\n",
      "13/13 [==============================] - 0s 5ms/step - loss: 0.0021\n",
      "Generation - 47\n",
      "13/13 [==============================] - 0s 4ms/step - loss: 0.0040\n",
      "13/13 [==============================] - 0s 4ms/step - loss: 0.0012\n",
      "Generation - 48\n",
      "13/13 [==============================] - 0s 4ms/step - loss: 0.0020\n",
      "13/13 [==============================] - 0s 4ms/step - loss: 9.2442e-04\n",
      "Generation - 49\n",
      "13/13 [==============================] - 0s 4ms/step - loss: 0.0050\n",
      "13/13 [==============================] - 0s 4ms/step - loss: 0.0011\n",
      "Generation - 50\n",
      "13/13 [==============================] - 0s 4ms/step - loss: 0.0011\n",
      "13/13 [==============================] - 0s 4ms/step - loss: 0.0010\n"
     ]
    }
   ],
   "source": [
    "# Do not increase this value\n",
    "generations = 50\n",
    "mutation_rate = 5\n",
    "\n",
    "time = timer(None)\n",
    "best_chromosome, best_fitness, max_fitness_each_gen = genetic_algorithm(generations, mutation_rate)\n",
    "time = timer(time)"
   ]
  },
  {
   "cell_type": "code",
   "execution_count": 12,
   "id": "8be3b564",
   "metadata": {
    "execution": {
     "iopub.execute_input": "2024-02-06T05:28:44.128442Z",
     "iopub.status.busy": "2024-02-06T05:28:44.127775Z",
     "iopub.status.idle": "2024-02-06T05:28:44.134033Z",
     "shell.execute_reply": "2024-02-06T05:28:44.132877Z"
    },
    "papermill": {
     "duration": 0.042438,
     "end_time": "2024-02-06T05:28:44.136940",
     "exception": false,
     "start_time": "2024-02-06T05:28:44.094502",
     "status": "completed"
    },
    "tags": []
   },
   "outputs": [
    {
     "name": "stdout",
     "output_type": "stream",
     "text": [
      "Best Chromosome: [248 156  77]\n",
      "Best Fitness: -0.0008478646050207317\n",
      "Time Taken: 0 hours 20 minutes and 44.94 seconds.\n"
     ]
    }
   ],
   "source": [
    "print(\"Best Chromosome:\", best_chromosome)\n",
    "print(\"Best Fitness:\", best_fitness)\n",
    "print(\"Time Taken:\", time)"
   ]
  },
  {
   "cell_type": "code",
   "execution_count": 13,
   "id": "43dd2ee7",
   "metadata": {
    "execution": {
     "iopub.execute_input": "2024-02-06T05:28:44.219232Z",
     "iopub.status.busy": "2024-02-06T05:28:44.218856Z",
     "iopub.status.idle": "2024-02-06T05:28:44.229377Z",
     "shell.execute_reply": "2024-02-06T05:28:44.227672Z"
    },
    "papermill": {
     "duration": 0.056495,
     "end_time": "2024-02-06T05:28:44.232146",
     "exception": false,
     "start_time": "2024-02-06T05:28:44.175651",
     "status": "completed"
    },
    "tags": []
   },
   "outputs": [
    {
     "data": {
      "text/plain": [
       "[-0.0010606280993670225,\n",
       " -0.0010606280993670225,\n",
       " -0.0010606280993670225,\n",
       " -0.0010606280993670225,\n",
       " -0.0010606280993670225,\n",
       " -0.0010606280993670225,\n",
       " -0.0010606280993670225,\n",
       " -0.0009316232171840966,\n",
       " -0.0009316232171840966,\n",
       " -0.0009316232171840966,\n",
       " -0.0009316232171840966,\n",
       " -0.0009316232171840966,\n",
       " -0.0009316232171840966,\n",
       " -0.0009316232171840966,\n",
       " -0.0008950941264629364,\n",
       " -0.0008950941264629364,\n",
       " -0.0008950941264629364,\n",
       " -0.0008950941264629364,\n",
       " -0.0008950941264629364,\n",
       " -0.0008950941264629364,\n",
       " -0.0008950941264629364,\n",
       " -0.0008950941264629364,\n",
       " -0.0008950941264629364,\n",
       " -0.0008950941264629364,\n",
       " -0.0008950941264629364,\n",
       " -0.0008950941264629364,\n",
       " -0.0008950941264629364,\n",
       " -0.0008950941264629364,\n",
       " -0.0008950941264629364,\n",
       " -0.0008950941264629364,\n",
       " -0.0008781960932537913,\n",
       " -0.0008781960932537913,\n",
       " -0.0008781960932537913,\n",
       " -0.0008781960932537913,\n",
       " -0.0008781960932537913,\n",
       " -0.0008781960932537913,\n",
       " -0.0008781960932537913,\n",
       " -0.0008781960932537913,\n",
       " -0.0008781960932537913,\n",
       " -0.0008478646050207317,\n",
       " -0.0008478646050207317,\n",
       " -0.0008478646050207317,\n",
       " -0.0008478646050207317,\n",
       " -0.0008478646050207317,\n",
       " -0.0008478646050207317,\n",
       " -0.0008478646050207317,\n",
       " -0.0008478646050207317,\n",
       " -0.0008478646050207317,\n",
       " -0.0008478646050207317,\n",
       " -0.0008478646050207317]"
      ]
     },
     "execution_count": 13,
     "metadata": {},
     "output_type": "execute_result"
    }
   ],
   "source": [
    "max_fitness_each_gen"
   ]
  },
  {
   "cell_type": "markdown",
   "id": "0336d6c1",
   "metadata": {
    "papermill": {
     "duration": 0.031335,
     "end_time": "2024-02-06T05:28:44.296099",
     "exception": false,
     "start_time": "2024-02-06T05:28:44.264764",
     "status": "completed"
    },
    "tags": []
   },
   "source": [
    "## Re-Training Model with Best Parameter"
   ]
  },
  {
   "cell_type": "code",
   "execution_count": 14,
   "id": "599fc638",
   "metadata": {
    "execution": {
     "iopub.execute_input": "2024-02-06T05:28:44.360640Z",
     "iopub.status.busy": "2024-02-06T05:28:44.360255Z",
     "iopub.status.idle": "2024-02-06T05:28:46.144453Z",
     "shell.execute_reply": "2024-02-06T05:28:46.143355Z"
    },
    "papermill": {
     "duration": 1.822494,
     "end_time": "2024-02-06T05:28:46.150297",
     "exception": false,
     "start_time": "2024-02-06T05:28:44.327803",
     "status": "completed"
    },
    "tags": []
   },
   "outputs": [
    {
     "name": "stdout",
     "output_type": "stream",
     "text": [
      "Model: \"sequential_1\"\n",
      "_________________________________________________________________\n",
      " Layer (type)                Output Shape              Param #   \n",
      "=================================================================\n",
      " lstm_3 (LSTM)               (None, 10, 248)           248000    \n",
      "                                                                 \n",
      " lstm_4 (LSTM)               (None, 10, 156)           252720    \n",
      "                                                                 \n",
      " lstm_5 (LSTM)               (None, 77)                72072     \n",
      "                                                                 \n",
      " dense_1 (Dense)             (None, 1)                 78        \n",
      "                                                                 \n",
      "=================================================================\n",
      "Total params: 572,870\n",
      "Trainable params: 572,870\n",
      "Non-trainable params: 0\n",
      "_________________________________________________________________\n"
     ]
    }
   ],
   "source": [
    "model = Sequential()\n",
    "for i, units in enumerate(best_chromosome[:LSTM_Layer]):\n",
    "    model.add(LSTM(units, return_sequences=(i < LSTM_Layer - 1), input_shape=(WINDOW_SIZE, 1)))\n",
    "model.add(Dense(1))\n",
    "\n",
    "model.summary()"
   ]
  },
  {
   "cell_type": "code",
   "execution_count": 15,
   "id": "cd041630",
   "metadata": {
    "execution": {
     "iopub.execute_input": "2024-02-06T05:28:46.221360Z",
     "iopub.status.busy": "2024-02-06T05:28:46.221002Z",
     "iopub.status.idle": "2024-02-06T05:29:13.904582Z",
     "shell.execute_reply": "2024-02-06T05:29:13.903670Z"
    },
    "papermill": {
     "duration": 27.7218,
     "end_time": "2024-02-06T05:29:13.907046",
     "exception": false,
     "start_time": "2024-02-06T05:28:46.185246",
     "status": "completed"
    },
    "tags": []
   },
   "outputs": [
    {
     "name": "stdout",
     "output_type": "stream",
     "text": [
      "Epoch 1/50\n",
      "44/44 [==============================] - 7s 35ms/step - loss: 0.0239 - mae: 0.1033 - root_mean_squared_error: 0.1547 - val_loss: 0.0013 - val_mae: 0.0292 - val_root_mean_squared_error: 0.0361\n",
      "Epoch 2/50\n",
      "44/44 [==============================] - 0s 9ms/step - loss: 0.0071 - mae: 0.0504 - root_mean_squared_error: 0.0841 - val_loss: 0.0013 - val_mae: 0.0301 - val_root_mean_squared_error: 0.0361\n",
      "Epoch 3/50\n",
      "44/44 [==============================] - 0s 9ms/step - loss: 0.0068 - mae: 0.0495 - root_mean_squared_error: 0.0825 - val_loss: 0.0011 - val_mae: 0.0274 - val_root_mean_squared_error: 0.0331\n",
      "Epoch 4/50\n",
      "44/44 [==============================] - 0s 10ms/step - loss: 0.0067 - mae: 0.0504 - root_mean_squared_error: 0.0819 - val_loss: 0.0011 - val_mae: 0.0268 - val_root_mean_squared_error: 0.0325\n",
      "Epoch 5/50\n",
      "44/44 [==============================] - 0s 9ms/step - loss: 0.0063 - mae: 0.0464 - root_mean_squared_error: 0.0792 - val_loss: 0.0013 - val_mae: 0.0292 - val_root_mean_squared_error: 0.0364\n",
      "Epoch 6/50\n",
      "44/44 [==============================] - 0s 9ms/step - loss: 0.0063 - mae: 0.0477 - root_mean_squared_error: 0.0793 - val_loss: 0.0020 - val_mae: 0.0377 - val_root_mean_squared_error: 0.0452\n",
      "Epoch 7/50\n",
      "44/44 [==============================] - 0s 9ms/step - loss: 0.0059 - mae: 0.0467 - root_mean_squared_error: 0.0771 - val_loss: 0.0011 - val_mae: 0.0263 - val_root_mean_squared_error: 0.0330\n",
      "Epoch 8/50\n",
      "44/44 [==============================] - 0s 9ms/step - loss: 0.0056 - mae: 0.0446 - root_mean_squared_error: 0.0752 - val_loss: 0.0023 - val_mae: 0.0408 - val_root_mean_squared_error: 0.0477\n",
      "Epoch 9/50\n",
      "44/44 [==============================] - 0s 9ms/step - loss: 0.0055 - mae: 0.0436 - root_mean_squared_error: 0.0741 - val_loss: 0.0013 - val_mae: 0.0300 - val_root_mean_squared_error: 0.0361\n",
      "Epoch 10/50\n",
      "44/44 [==============================] - 0s 9ms/step - loss: 0.0056 - mae: 0.0462 - root_mean_squared_error: 0.0749 - val_loss: 0.0010 - val_mae: 0.0261 - val_root_mean_squared_error: 0.0319\n",
      "Epoch 11/50\n",
      "44/44 [==============================] - 0s 10ms/step - loss: 0.0051 - mae: 0.0414 - root_mean_squared_error: 0.0712 - val_loss: 7.2547e-04 - val_mae: 0.0215 - val_root_mean_squared_error: 0.0269\n",
      "Epoch 12/50\n",
      "44/44 [==============================] - 0s 9ms/step - loss: 0.0050 - mae: 0.0421 - root_mean_squared_error: 0.0711 - val_loss: 6.3580e-04 - val_mae: 0.0197 - val_root_mean_squared_error: 0.0252\n",
      "Epoch 13/50\n",
      "44/44 [==============================] - 0s 9ms/step - loss: 0.0050 - mae: 0.0426 - root_mean_squared_error: 0.0709 - val_loss: 6.1805e-04 - val_mae: 0.0194 - val_root_mean_squared_error: 0.0249\n",
      "Epoch 14/50\n",
      "44/44 [==============================] - 0s 9ms/step - loss: 0.0046 - mae: 0.0396 - root_mean_squared_error: 0.0678 - val_loss: 6.2247e-04 - val_mae: 0.0197 - val_root_mean_squared_error: 0.0249\n",
      "Epoch 15/50\n",
      "44/44 [==============================] - 0s 9ms/step - loss: 0.0042 - mae: 0.0359 - root_mean_squared_error: 0.0644 - val_loss: 6.1593e-04 - val_mae: 0.0193 - val_root_mean_squared_error: 0.0248\n",
      "Epoch 16/50\n",
      "44/44 [==============================] - 0s 9ms/step - loss: 0.0043 - mae: 0.0370 - root_mean_squared_error: 0.0654 - val_loss: 8.5148e-04 - val_mae: 0.0244 - val_root_mean_squared_error: 0.0292\n",
      "Epoch 17/50\n",
      "44/44 [==============================] - 0s 9ms/step - loss: 0.0043 - mae: 0.0375 - root_mean_squared_error: 0.0655 - val_loss: 9.8263e-04 - val_mae: 0.0262 - val_root_mean_squared_error: 0.0313\n",
      "Epoch 18/50\n",
      "44/44 [==============================] - 0s 10ms/step - loss: 0.0038 - mae: 0.0336 - root_mean_squared_error: 0.0619 - val_loss: 5.6153e-04 - val_mae: 0.0189 - val_root_mean_squared_error: 0.0237\n",
      "Epoch 19/50\n",
      "44/44 [==============================] - 1s 12ms/step - loss: 0.0038 - mae: 0.0335 - root_mean_squared_error: 0.0616 - val_loss: 4.4334e-04 - val_mae: 0.0158 - val_root_mean_squared_error: 0.0211\n",
      "Epoch 20/50\n",
      "44/44 [==============================] - 0s 11ms/step - loss: 0.0038 - mae: 0.0331 - root_mean_squared_error: 0.0616 - val_loss: 8.2411e-04 - val_mae: 0.0243 - val_root_mean_squared_error: 0.0287\n",
      "Epoch 21/50\n",
      "44/44 [==============================] - 0s 10ms/step - loss: 0.0040 - mae: 0.0361 - root_mean_squared_error: 0.0631 - val_loss: 0.0012 - val_mae: 0.0303 - val_root_mean_squared_error: 0.0345\n",
      "Epoch 22/50\n",
      "44/44 [==============================] - 0s 9ms/step - loss: 0.0046 - mae: 0.0429 - root_mean_squared_error: 0.0680 - val_loss: 4.7005e-04 - val_mae: 0.0164 - val_root_mean_squared_error: 0.0217\n",
      "Epoch 23/50\n",
      "44/44 [==============================] - 0s 10ms/step - loss: 0.0039 - mae: 0.0371 - root_mean_squared_error: 0.0626 - val_loss: 4.1963e-04 - val_mae: 0.0152 - val_root_mean_squared_error: 0.0205\n",
      "Epoch 24/50\n",
      "44/44 [==============================] - 0s 9ms/step - loss: 0.0037 - mae: 0.0325 - root_mean_squared_error: 0.0611 - val_loss: 5.6244e-04 - val_mae: 0.0192 - val_root_mean_squared_error: 0.0237\n",
      "Epoch 25/50\n",
      "44/44 [==============================] - 0s 9ms/step - loss: 0.0039 - mae: 0.0345 - root_mean_squared_error: 0.0624 - val_loss: 9.6960e-04 - val_mae: 0.0270 - val_root_mean_squared_error: 0.0311\n",
      "Epoch 26/50\n",
      "44/44 [==============================] - 0s 9ms/step - loss: 0.0038 - mae: 0.0340 - root_mean_squared_error: 0.0617 - val_loss: 4.0822e-04 - val_mae: 0.0150 - val_root_mean_squared_error: 0.0202\n",
      "Epoch 27/50\n",
      "44/44 [==============================] - 0s 10ms/step - loss: 0.0039 - mae: 0.0352 - root_mean_squared_error: 0.0628 - val_loss: 6.3556e-04 - val_mae: 0.0203 - val_root_mean_squared_error: 0.0252\n",
      "Epoch 28/50\n",
      "44/44 [==============================] - 0s 9ms/step - loss: 0.0039 - mae: 0.0350 - root_mean_squared_error: 0.0623 - val_loss: 4.1150e-04 - val_mae: 0.0150 - val_root_mean_squared_error: 0.0203\n",
      "Epoch 29/50\n",
      "44/44 [==============================] - 0s 9ms/step - loss: 0.0037 - mae: 0.0318 - root_mean_squared_error: 0.0608 - val_loss: 4.0601e-04 - val_mae: 0.0149 - val_root_mean_squared_error: 0.0201\n",
      "Epoch 30/50\n",
      "44/44 [==============================] - 0s 9ms/step - loss: 0.0038 - mae: 0.0336 - root_mean_squared_error: 0.0616 - val_loss: 5.0264e-04 - val_mae: 0.0177 - val_root_mean_squared_error: 0.0224\n",
      "Epoch 31/50\n",
      "44/44 [==============================] - 0s 9ms/step - loss: 0.0038 - mae: 0.0334 - root_mean_squared_error: 0.0618 - val_loss: 8.7835e-04 - val_mae: 0.0249 - val_root_mean_squared_error: 0.0296\n",
      "Epoch 32/50\n",
      "44/44 [==============================] - 0s 10ms/step - loss: 0.0038 - mae: 0.0343 - root_mean_squared_error: 0.0619 - val_loss: 7.8694e-04 - val_mae: 0.0238 - val_root_mean_squared_error: 0.0281\n",
      "Epoch 33/50\n",
      "44/44 [==============================] - 0s 9ms/step - loss: 0.0041 - mae: 0.0378 - root_mean_squared_error: 0.0638 - val_loss: 4.6965e-04 - val_mae: 0.0167 - val_root_mean_squared_error: 0.0217\n",
      "Epoch 34/50\n",
      "44/44 [==============================] - 0s 9ms/step - loss: 0.0038 - mae: 0.0338 - root_mean_squared_error: 0.0618 - val_loss: 5.5291e-04 - val_mae: 0.0184 - val_root_mean_squared_error: 0.0235\n",
      "Epoch 35/50\n",
      "44/44 [==============================] - 0s 9ms/step - loss: 0.0037 - mae: 0.0313 - root_mean_squared_error: 0.0605 - val_loss: 8.0802e-04 - val_mae: 0.0236 - val_root_mean_squared_error: 0.0284\n",
      "Epoch 36/50\n",
      "44/44 [==============================] - 0s 9ms/step - loss: 0.0038 - mae: 0.0339 - root_mean_squared_error: 0.0615 - val_loss: 4.2820e-04 - val_mae: 0.0156 - val_root_mean_squared_error: 0.0207\n",
      "Epoch 37/50\n",
      "44/44 [==============================] - 0s 9ms/step - loss: 0.0036 - mae: 0.0320 - root_mean_squared_error: 0.0602 - val_loss: 4.7292e-04 - val_mae: 0.0169 - val_root_mean_squared_error: 0.0217\n",
      "Epoch 38/50\n",
      "44/44 [==============================] - 0s 9ms/step - loss: 0.0040 - mae: 0.0359 - root_mean_squared_error: 0.0629 - val_loss: 8.0402e-04 - val_mae: 0.0243 - val_root_mean_squared_error: 0.0284\n",
      "Epoch 39/50\n",
      "44/44 [==============================] - 0s 9ms/step - loss: 0.0042 - mae: 0.0380 - root_mean_squared_error: 0.0646 - val_loss: 0.0011 - val_mae: 0.0280 - val_root_mean_squared_error: 0.0326\n",
      "Epoch 40/50\n",
      "44/44 [==============================] - 0s 10ms/step - loss: 0.0037 - mae: 0.0333 - root_mean_squared_error: 0.0609 - val_loss: 4.0735e-04 - val_mae: 0.0149 - val_root_mean_squared_error: 0.0202\n",
      "Epoch 41/50\n",
      "44/44 [==============================] - 0s 9ms/step - loss: 0.0039 - mae: 0.0353 - root_mean_squared_error: 0.0623 - val_loss: 5.2379e-04 - val_mae: 0.0182 - val_root_mean_squared_error: 0.0229\n",
      "Epoch 42/50\n",
      "44/44 [==============================] - 0s 9ms/step - loss: 0.0038 - mae: 0.0347 - root_mean_squared_error: 0.0616 - val_loss: 0.0019 - val_mae: 0.0395 - val_root_mean_squared_error: 0.0437\n",
      "Epoch 43/50\n",
      "44/44 [==============================] - 0s 9ms/step - loss: 0.0036 - mae: 0.0316 - root_mean_squared_error: 0.0596 - val_loss: 4.7469e-04 - val_mae: 0.0167 - val_root_mean_squared_error: 0.0218\n",
      "Epoch 44/50\n",
      "44/44 [==============================] - 0s 9ms/step - loss: 0.0037 - mae: 0.0334 - root_mean_squared_error: 0.0608 - val_loss: 6.6119e-04 - val_mae: 0.0214 - val_root_mean_squared_error: 0.0257\n",
      "Epoch 45/50\n",
      "44/44 [==============================] - 0s 10ms/step - loss: 0.0037 - mae: 0.0327 - root_mean_squared_error: 0.0605 - val_loss: 5.5549e-04 - val_mae: 0.0191 - val_root_mean_squared_error: 0.0236\n",
      "Epoch 46/50\n",
      "44/44 [==============================] - 0s 9ms/step - loss: 0.0035 - mae: 0.0310 - root_mean_squared_error: 0.0594 - val_loss: 4.1438e-04 - val_mae: 0.0152 - val_root_mean_squared_error: 0.0204\n",
      "Epoch 47/50\n",
      "44/44 [==============================] - 0s 10ms/step - loss: 0.0036 - mae: 0.0317 - root_mean_squared_error: 0.0597 - val_loss: 5.5888e-04 - val_mae: 0.0191 - val_root_mean_squared_error: 0.0236\n",
      "Epoch 48/50\n",
      "44/44 [==============================] - 0s 9ms/step - loss: 0.0035 - mae: 0.0325 - root_mean_squared_error: 0.0595 - val_loss: 4.5567e-04 - val_mae: 0.0164 - val_root_mean_squared_error: 0.0213\n",
      "Epoch 49/50\n",
      "44/44 [==============================] - 0s 9ms/step - loss: 0.0036 - mae: 0.0325 - root_mean_squared_error: 0.0600 - val_loss: 5.7472e-04 - val_mae: 0.0190 - val_root_mean_squared_error: 0.0240\n",
      "Epoch 50/50\n",
      "44/44 [==============================] - 0s 9ms/step - loss: 0.0036 - mae: 0.0326 - root_mean_squared_error: 0.0598 - val_loss: 6.9631e-04 - val_mae: 0.0215 - val_root_mean_squared_error: 0.0264\n"
     ]
    }
   ],
   "source": [
    "model.compile(loss='mean_squared_error',\n",
    "              metrics=['mae', RootMeanSquaredError()],\n",
    "              optimizer='adam')\n",
    "\n",
    "history = model.fit(X_train,\n",
    "                    y_train,\n",
    "                    epochs=50,\n",
    "                    batch_size=32,\n",
    "                    validation_split=0.1)"
   ]
  },
  {
   "cell_type": "code",
   "execution_count": 16,
   "id": "6cea508e",
   "metadata": {
    "execution": {
     "iopub.execute_input": "2024-02-06T05:29:14.046830Z",
     "iopub.status.busy": "2024-02-06T05:29:14.046404Z",
     "iopub.status.idle": "2024-02-06T05:29:14.182659Z",
     "shell.execute_reply": "2024-02-06T05:29:14.181405Z"
    },
    "papermill": {
     "duration": 0.210592,
     "end_time": "2024-02-06T05:29:14.185466",
     "exception": false,
     "start_time": "2024-02-06T05:29:13.974874",
     "status": "completed"
    },
    "tags": []
   },
   "outputs": [
    {
     "name": "stdout",
     "output_type": "stream",
     "text": [
      "13/13 [==============================] - 0s 5ms/step - loss: 0.0019 - mae: 0.0378 - root_mean_squared_error: 0.0430\n"
     ]
    },
    {
     "data": {
      "text/plain": [
       "[0.0018526032799854875, 0.03780122473835945, 0.04304187744855881]"
      ]
     },
     "execution_count": 16,
     "metadata": {},
     "output_type": "execute_result"
    }
   ],
   "source": [
    "model.evaluate(X_test, y_test)"
   ]
  },
  {
   "cell_type": "markdown",
   "id": "d89c132e",
   "metadata": {
    "papermill": {
     "duration": 0.074211,
     "end_time": "2024-02-06T05:29:14.355796",
     "exception": false,
     "start_time": "2024-02-06T05:29:14.281585",
     "status": "completed"
    },
    "tags": []
   },
   "source": [
    "## Model Evaluation"
   ]
  },
  {
   "cell_type": "code",
   "execution_count": 17,
   "id": "4f85a3ec",
   "metadata": {
    "execution": {
     "iopub.execute_input": "2024-02-06T05:29:14.507568Z",
     "iopub.status.busy": "2024-02-06T05:29:14.506857Z",
     "iopub.status.idle": "2024-02-06T05:29:14.833976Z",
     "shell.execute_reply": "2024-02-06T05:29:14.832942Z"
    },
    "papermill": {
     "duration": 0.405823,
     "end_time": "2024-02-06T05:29:14.836310",
     "exception": false,
     "start_time": "2024-02-06T05:29:14.430487",
     "status": "completed"
    },
    "tags": []
   },
   "outputs": [
    {
     "data": {
      "image/png": "[encoded data removed]",
      "text/plain": [
       "<Figure size 640x480 with 1 Axes>"
      ]
     },
     "metadata": {},
     "output_type": "display_data"
    }
   ],
   "source": [
    "plt.plot(history.history['loss'])\n",
    "plt.plot(history.history['val_loss'])\n",
    "plt.title(f'{SHEET_NAME} Model Loss', fontsize=15)\n",
    "plt.ylabel('loss')\n",
    "plt.xlabel('epoch')\n",
    "plt.legend(['train', 'test'])\n",
    "plt.show()"
   ]
  },
  {
   "cell_type": "code",
   "execution_count": 18,
   "id": "d3ae2a53",
   "metadata": {
    "execution": {
     "iopub.execute_input": "2024-02-06T05:29:14.980669Z",
     "iopub.status.busy": "2024-02-06T05:29:14.979875Z",
     "iopub.status.idle": "2024-02-06T05:29:16.165510Z",
     "shell.execute_reply": "2024-02-06T05:29:16.164722Z"
    },
    "papermill": {
     "duration": 1.260471,
     "end_time": "2024-02-06T05:29:16.167709",
     "exception": false,
     "start_time": "2024-02-06T05:29:14.907238",
     "status": "completed"
    },
    "tags": []
   },
   "outputs": [
    {
     "name": "stdout",
     "output_type": "stream",
     "text": [
      "13/13 [==============================] - 1s 3ms/step\n"
     ]
    }
   ],
   "source": [
    "y_hat = model.predict(X_test)\n",
    "y_test_inverse = scaler.inverse_transform(y_test)\n",
    "y_hat_inverse = scaler.inverse_transform(y_hat)"
   ]
  },
  {
   "cell_type": "code",
   "execution_count": 19,
   "id": "09f12ec5",
   "metadata": {
    "execution": {
     "iopub.execute_input": "2024-02-06T05:29:16.314845Z",
     "iopub.status.busy": "2024-02-06T05:29:16.314450Z",
     "iopub.status.idle": "2024-02-06T05:29:16.669205Z",
     "shell.execute_reply": "2024-02-06T05:29:16.668146Z"
    },
    "papermill": {
     "duration": 0.430871,
     "end_time": "2024-02-06T05:29:16.671559",
     "exception": false,
     "start_time": "2024-02-06T05:29:16.240688",
     "status": "completed"
    },
    "tags": []
   },
   "outputs": [
    {
     "data": {
      "image/png": "[encoded data removed]",
      "text/plain": [
       "<Figure size 640x480 with 1 Axes>"
      ]
     },
     "metadata": {},
     "output_type": "display_data"
    }
   ],
   "source": [
    "plt.plot(y_test_inverse, label=\"Actual Price\", color='green')\n",
    "plt.plot(y_hat_inverse, label=\"Predicted Price\", color='red')\n",
    " \n",
    "plt.title(f'{SHEET_NAME} Price Prediction\\nLSTM = {LSTM_Layer}, Split Data = {SPLIT}, Window = {WINDOW_SIZE}', fontsize=15)\n",
    "plt.xlabel('Time [days]')\n",
    "plt.ylabel('Price')\n",
    "plt.legend(loc='best')\n",
    " \n",
    "plt.show()"
   ]
  },
  {
   "cell_type": "code",
   "execution_count": 20,
   "id": "cb59fafc",
   "metadata": {
    "execution": {
     "iopub.execute_input": "2024-02-06T05:29:16.817806Z",
     "iopub.status.busy": "2024-02-06T05:29:16.817410Z",
     "iopub.status.idle": "2024-02-06T05:29:16.826644Z",
     "shell.execute_reply": "2024-02-06T05:29:16.825770Z"
    },
    "papermill": {
     "duration": 0.085243,
     "end_time": "2024-02-06T05:29:16.829161",
     "exception": false,
     "start_time": "2024-02-06T05:29:16.743918",
     "status": "completed"
    },
    "tags": []
   },
   "outputs": [
    {
     "name": "stdout",
     "output_type": "stream",
     "text": [
      "LSTM = 3, Split Data = 0.8, Window = 10\n",
      "\n",
      "----------------- Normalized Error -----------------\n",
      "Mean Absolute Error for prediction : 0.037801225961016496\n",
      "Mean Squared Error for prediction : 0.0018526033719971228\n",
      "Root Mean Squared Error for prediction : 0.04304187928049986\n",
      "\n",
      "----------------- Actual Error -----------------\n",
      "Mean Absolute Error for prediction : 52.777489383012366\n",
      "Mean Squared Error for prediction : 3611.3386451625665\n",
      "Root Mean Squared Error for prediction : 60.09441442565662\n"
     ]
    }
   ],
   "source": [
    "def matrices(actual, predicted):\n",
    "    mse = mean_squared_error(actual, predicted)\n",
    "    mae = mean_absolute_error(actual, predicted)\n",
    "    rmse = np.sqrt(mse)\n",
    "    print(\"Mean Absolute Error for prediction :\", mae)\n",
    "    print(\"Mean Squared Error for prediction :\", mse)\n",
    "    print(\"Root Mean Squared Error for prediction :\", rmse)\n",
    "    return mae, mse, rmse\n",
    "\n",
    "print(f\"LSTM = {LSTM_Layer}, Split Data = {SPLIT}, Window = {WINDOW_SIZE}\")\n",
    "print(\"\\n----------------- Normalized Error -----------------\")\n",
    "mae, mse, rmse = matrices(y_test, y_hat)\n",
    "print(\"\\n----------------- Actual Error -----------------\")\n",
    "mae_inverse, mse_inverse, rmse_inverse = matrices(y_test_inverse, y_hat_inverse)"
   ]
  }
 ],
 "metadata": {
  "kaggle": {
   "accelerator": "gpu",
   "dataSources": [],
   "dockerImageVersionId": 30498,
   "isGpuEnabled": true,
   "isInternetEnabled": true,
   "language": "python",
   "sourceType": "notebook"
  },
  "kernelspec": {
   "display_name": "Python 3",
   "language": "python",
   "name": "python3"
  },
  "language_info": {
   "codemirror_mode": {
    "name": "ipython",
    "version": 3
   },
   "file_extension": ".py",
   "mimetype": "text/x-python",
   "name": "python",
   "nbconvert_exporter": "python",
   "pygments_lexer": "ipython3",
   "version": "3.10.10"
  },
  "papermill": {
   "default_parameters": {},
   "duration": 1303.405071,
   "end_time": "2024-02-06T05:29:20.693592",
   "environment_variables": {},
   "exception": null,
   "input_path": "__notebook__.ipynb",
   "output_path": "__notebook__.ipynb",
   "parameters": {},
   "start_time": "2024-02-06T05:07:37.288521",
   "version": "2.4.0"
  }
 },
 "nbformat": 4,
 "nbformat_minor": 5
}
