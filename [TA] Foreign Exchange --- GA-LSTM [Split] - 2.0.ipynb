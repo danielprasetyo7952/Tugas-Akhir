{
 "cells": [
  {
   "cell_type": "code",
   "execution_count": 1,
   "id": "d6a4ba6d",
   "metadata": {
    "execution": {
     "iopub.execute_input": "2024-02-05T16:40:19.968468Z",
     "iopub.status.busy": "2024-02-05T16:40:19.968128Z",
     "iopub.status.idle": "2024-02-05T16:40:28.772233Z",
     "shell.execute_reply": "2024-02-05T16:40:28.771295Z"
    },
    "papermill": {
     "duration": 8.814876,
     "end_time": "2024-02-05T16:40:28.774491",
     "exception": false,
     "start_time": "2024-02-05T16:40:19.959615",
     "status": "completed"
    },
    "tags": []
   },
   "outputs": [
    {
     "name": "stderr",
     "output_type": "stream",
     "text": [
      "/opt/conda/lib/python3.10/site-packages/tensorflow_io/python/ops/__init__.py:98: UserWarning: unable to load libtensorflow_io_plugins.so: unable to open file: libtensorflow_io_plugins.so, from paths: ['/opt/conda/lib/python3.10/site-packages/tensorflow_io/python/ops/libtensorflow_io_plugins.so']\n",
      "caused by: ['/opt/conda/lib/python3.10/site-packages/tensorflow_io/python/ops/libtensorflow_io_plugins.so: undefined symbol: _ZN3tsl6StatusC1EN10tensorflow5error4CodeESt17basic_string_viewIcSt11char_traitsIcEENS_14SourceLocationE']\n",
      "  warnings.warn(f\"unable to load libtensorflow_io_plugins.so: {e}\")\n",
      "/opt/conda/lib/python3.10/site-packages/tensorflow_io/python/ops/__init__.py:104: UserWarning: file system plugins are not loaded: unable to open file: libtensorflow_io.so, from paths: ['/opt/conda/lib/python3.10/site-packages/tensorflow_io/python/ops/libtensorflow_io.so']\n",
      "caused by: ['/opt/conda/lib/python3.10/site-packages/tensorflow_io/python/ops/libtensorflow_io.so: undefined symbol: _ZTVN10tensorflow13GcsFileSystemE']\n",
      "  warnings.warn(f\"file system plugins are not loaded: {e}\")\n"
     ]
    }
   ],
   "source": [
    "import pandas as pd\n",
    "import numpy as np\n",
    "import tensorflow as tf\n",
    "import matplotlib.pyplot as plt\n",
    "import datetime, pytz\n",
    "\n",
    "from keras.models import Sequential\n",
    "from keras.layers import LSTM, Dense\n",
    "from keras.metrics import RootMeanSquaredError\n",
    "\n",
    "from sklearn.preprocessing import MinMaxScaler\n",
    "from sklearn.metrics import mean_squared_error, mean_absolute_error"
   ]
  },
  {
   "cell_type": "markdown",
   "id": "4434313f",
   "metadata": {
    "papermill": {
     "duration": 0.006349,
     "end_time": "2024-02-05T16:40:28.787682",
     "exception": false,
     "start_time": "2024-02-05T16:40:28.781333",
     "status": "completed"
    },
    "tags": []
   },
   "source": [
    "## Hyperparameter"
   ]
  },
  {
   "cell_type": "code",
   "execution_count": 2,
   "id": "a30b30b6",
   "metadata": {
    "execution": {
     "iopub.execute_input": "2024-02-05T16:40:28.801900Z",
     "iopub.status.busy": "2024-02-05T16:40:28.801324Z",
     "iopub.status.idle": "2024-02-05T16:40:28.806143Z",
     "shell.execute_reply": "2024-02-05T16:40:28.805282Z"
    },
    "papermill": {
     "duration": 0.013854,
     "end_time": "2024-02-05T16:40:28.807909",
     "exception": false,
     "start_time": "2024-02-05T16:40:28.794055",
     "status": "completed"
    },
    "tags": []
   },
   "outputs": [],
   "source": [
    "# Google Spreadsheet ID\n",
    "SHEET_ID = '1JDNv_mArl-GPIpxuWS5GxgVEwvjXocS1MrXGc6TYs8M'\n",
    "SHEET_NAME = 'USD/IDR' # USD/IDR, EUR/IDR, SGD/IDR\n",
    "\n",
    "SEQ_LEN = 21 # 6, 11, 21\n",
    "SPLIT = 0.90 # 0.80, 0.90\n",
    "LSTM_Layer = 2 # 1, 2, 3\n",
    "WINDOW_SIZE = SEQ_LEN - 1"
   ]
  },
  {
   "cell_type": "code",
   "execution_count": 3,
   "id": "a325bda6",
   "metadata": {
    "execution": {
     "iopub.execute_input": "2024-02-05T16:40:28.821914Z",
     "iopub.status.busy": "2024-02-05T16:40:28.821643Z",
     "iopub.status.idle": "2024-02-05T16:40:30.454044Z",
     "shell.execute_reply": "2024-02-05T16:40:30.453157Z"
    },
    "papermill": {
     "duration": 1.641889,
     "end_time": "2024-02-05T16:40:30.456284",
     "exception": false,
     "start_time": "2024-02-05T16:40:28.814395",
     "status": "completed"
    },
    "tags": []
   },
   "outputs": [
    {
     "name": "stdout",
     "output_type": "stream",
     "text": [
      "<class 'pandas.core.frame.DataFrame'>\n",
      "RangeIndex: 1977 entries, 0 to 1976\n",
      "Data columns (total 2 columns):\n",
      " #   Column  Non-Null Count  Dtype         \n",
      "---  ------  --------------  -----         \n",
      " 0   Date    1977 non-null   datetime64[ns]\n",
      " 1   Close   1977 non-null   float64       \n",
      "dtypes: datetime64[ns](1), float64(1)\n",
      "memory usage: 31.0 KB\n"
     ]
    }
   ],
   "source": [
    "url = f'https://docs.google.com/spreadsheets/d/{SHEET_ID}/gviz/tq?tqx=out:csv&sheet={SHEET_NAME}'\n",
    "data = pd.read_csv(url)\n",
    "\n",
    "# Convert Date columns to datetime format\n",
    "data['Date'] = pd.to_datetime(data['Date'], format='%d/%m/%Y %H:%M:%S')\n",
    "data.info()"
   ]
  },
  {
   "cell_type": "markdown",
   "id": "2b47595c",
   "metadata": {
    "papermill": {
     "duration": 0.006475,
     "end_time": "2024-02-05T16:40:30.469574",
     "exception": false,
     "start_time": "2024-02-05T16:40:30.463099",
     "status": "completed"
    },
    "tags": []
   },
   "source": [
    "## Preprocessing"
   ]
  },
  {
   "cell_type": "code",
   "execution_count": 4,
   "id": "836d0e9d",
   "metadata": {
    "execution": {
     "iopub.execute_input": "2024-02-05T16:40:30.483961Z",
     "iopub.status.busy": "2024-02-05T16:40:30.483612Z",
     "iopub.status.idle": "2024-02-05T16:40:30.496379Z",
     "shell.execute_reply": "2024-02-05T16:40:30.495544Z"
    },
    "papermill": {
     "duration": 0.022612,
     "end_time": "2024-02-05T16:40:30.498698",
     "exception": false,
     "start_time": "2024-02-05T16:40:30.476086",
     "status": "completed"
    },
    "tags": []
   },
   "outputs": [
    {
     "name": "stderr",
     "output_type": "stream",
     "text": [
      "/tmp/ipykernel_26/2274720815.py:7: SettingWithCopyWarning: \n",
      "A value is trying to be set on a copy of a slice from a DataFrame\n",
      "\n",
      "See the caveats in the documentation: https://pandas.pydata.org/pandas-docs/stable/user_guide/indexing.html#returning-a-view-versus-a-copy\n",
      "  data[data < lower_bound] = lower_bound\n",
      "/tmp/ipykernel_26/2274720815.py:8: SettingWithCopyWarning: \n",
      "A value is trying to be set on a copy of a slice from a DataFrame\n",
      "\n",
      "See the caveats in the documentation: https://pandas.pydata.org/pandas-docs/stable/user_guide/indexing.html#returning-a-view-versus-a-copy\n",
      "  data[data > upper_bound] = upper_bound\n"
     ]
    }
   ],
   "source": [
    "def replace_outliers(data):\n",
    "    Q1 = np.percentile(data, 25)\n",
    "    Q3 = np.percentile(data, 75)\n",
    "    IQR = Q3 - Q1\n",
    "    lower_bound = Q1 - 1.5 * IQR\n",
    "    upper_bound = Q3 + 1.5 * IQR\n",
    "    data[data < lower_bound] = lower_bound\n",
    "    data[data > upper_bound] = upper_bound\n",
    "    return data\n",
    "\n",
    "data['Close'] = replace_outliers(data['Close'])"
   ]
  },
  {
   "cell_type": "code",
   "execution_count": 5,
   "id": "bb78bf63",
   "metadata": {
    "execution": {
     "iopub.execute_input": "2024-02-05T16:40:30.517576Z",
     "iopub.status.busy": "2024-02-05T16:40:30.517256Z",
     "iopub.status.idle": "2024-02-05T16:40:30.751916Z",
     "shell.execute_reply": "2024-02-05T16:40:30.751006Z"
    },
    "papermill": {
     "duration": 0.245573,
     "end_time": "2024-02-05T16:40:30.753821",
     "exception": false,
     "start_time": "2024-02-05T16:40:30.508248",
     "status": "completed"
    },
    "tags": []
   },
   "outputs": [
    {
     "data": {
      "image/png": "[encoded data removed]",
      "text/plain": [
       "<Figure size 640x480 with 1 Axes>"
      ]
     },
     "metadata": {},
     "output_type": "display_data"
    }
   ],
   "source": [
    "# Boxplot for outlier detection\n",
    "plt.boxplot(data['Close'])\n",
    "plt.title(f\"{SHEET_NAME} Boxplot for Outlier Detection\")\n",
    "plt.xlabel(\"Close\")\n",
    "plt.ylabel(\"Values\")\n",
    "plt.show()"
   ]
  },
  {
   "cell_type": "code",
   "execution_count": 6,
   "id": "86f419f6",
   "metadata": {
    "execution": {
     "iopub.execute_input": "2024-02-05T16:40:30.769190Z",
     "iopub.status.busy": "2024-02-05T16:40:30.768884Z",
     "iopub.status.idle": "2024-02-05T16:40:30.775876Z",
     "shell.execute_reply": "2024-02-05T16:40:30.775081Z"
    },
    "papermill": {
     "duration": 0.016773,
     "end_time": "2024-02-05T16:40:30.777714",
     "exception": false,
     "start_time": "2024-02-05T16:40:30.760941",
     "status": "completed"
    },
    "tags": []
   },
   "outputs": [
    {
     "data": {
      "text/plain": [
       "(1977, 1)"
      ]
     },
     "execution_count": 6,
     "metadata": {},
     "output_type": "execute_result"
    }
   ],
   "source": [
    "scaler = MinMaxScaler()\n",
    "close_price = data.Close.values.reshape(-1, 1)\n",
    "scaled_close = scaler.fit_transform(close_price)\n",
    "scaled_close.shape"
   ]
  },
  {
   "cell_type": "code",
   "execution_count": 7,
   "id": "3a7a9747",
   "metadata": {
    "execution": {
     "iopub.execute_input": "2024-02-05T16:40:30.792832Z",
     "iopub.status.busy": "2024-02-05T16:40:30.792575Z",
     "iopub.status.idle": "2024-02-05T16:40:30.801692Z",
     "shell.execute_reply": "2024-02-05T16:40:30.801071Z"
    },
    "papermill": {
     "duration": 0.018859,
     "end_time": "2024-02-05T16:40:30.803624",
     "exception": false,
     "start_time": "2024-02-05T16:40:30.784765",
     "status": "completed"
    },
    "tags": []
   },
   "outputs": [],
   "source": [
    "def to_sequences(data, seq_len):\n",
    "    d = []\n",
    "    for index in range(len(data) - seq_len):\n",
    "        d.append(data[index: index + seq_len])\n",
    "    return np.array(d)\n",
    "\n",
    "def preprocess(data_raw, seq_len, train_split):\n",
    "    data = to_sequences(data_raw, seq_len)\n",
    "    num_train = int(train_split * data.shape[0])\n",
    "    X_train = data[:num_train, :-1, :]\n",
    "    y_train = data[:num_train, -1, :]\n",
    "    X_test = data[num_train:, :-1, :]\n",
    "    y_test = data[num_train:, -1, :]\n",
    "    return X_train, y_train, X_test, y_test\n",
    "\n",
    "X_train, y_train, X_test, y_test = preprocess(scaled_close, SEQ_LEN, train_split = SPLIT)"
   ]
  },
  {
   "cell_type": "markdown",
   "id": "e340f5f7",
   "metadata": {
    "papermill": {
     "duration": 0.006831,
     "end_time": "2024-02-05T16:40:30.817558",
     "exception": false,
     "start_time": "2024-02-05T16:40:30.810727",
     "status": "completed"
    },
    "tags": []
   },
   "source": [
    "## Genetic Algorithm"
   ]
  },
  {
   "cell_type": "code",
   "execution_count": 8,
   "id": "ff209669",
   "metadata": {
    "execution": {
     "iopub.execute_input": "2024-02-05T16:40:30.832724Z",
     "iopub.status.busy": "2024-02-05T16:40:30.832467Z",
     "iopub.status.idle": "2024-02-05T16:40:30.837630Z",
     "shell.execute_reply": "2024-02-05T16:40:30.836845Z"
    },
    "papermill": {
     "duration": 0.0149,
     "end_time": "2024-02-05T16:40:30.839448",
     "exception": false,
     "start_time": "2024-02-05T16:40:30.824548",
     "status": "completed"
    },
    "tags": []
   },
   "outputs": [],
   "source": [
    "def decimal_to_binary(chromosome: list):\n",
    "    binary_string = ''.join([bin(x)[2:].zfill(8) for x in chromosome])\n",
    "    return binary_string\n",
    "\n",
    "def binary_to_decimal(binary_string: str):\n",
    "    decimal_array = [int(binary, 2) for binary in [binary_string[i:i+8] for i in range(0, len(binary_string), 8)]]\n",
    "    return decimal_array"
   ]
  },
  {
   "cell_type": "code",
   "execution_count": 9,
   "id": "f480ef08",
   "metadata": {
    "execution": {
     "iopub.execute_input": "2024-02-05T16:40:30.854984Z",
     "iopub.status.busy": "2024-02-05T16:40:30.854745Z",
     "iopub.status.idle": "2024-02-05T16:40:30.872885Z",
     "shell.execute_reply": "2024-02-05T16:40:30.872098Z"
    },
    "papermill": {
     "duration": 0.028164,
     "end_time": "2024-02-05T16:40:30.874827",
     "exception": false,
     "start_time": "2024-02-05T16:40:30.846663",
     "status": "completed"
    },
    "tags": []
   },
   "outputs": [],
   "source": [
    "# Genetic Algorithm\n",
    "def genetic_algorithm(generations, mutation_rate):\n",
    "    print(f\"Inizialized Population...\")\n",
    "    population = np.random.randint(1, high=251, size=(10, 3))\n",
    "    fitness_scores = np.array([fitness_function(chromosome) for chromosome in population])\n",
    "    max_fitness_each_gen = []\n",
    "    \n",
    "    for generation in range(generations):\n",
    "        print(f\"Generation - {generation + 1}\")\n",
    "        max_fitness_each_gen.append(np.max(fitness_scores))\n",
    "        \n",
    "        chromosome_1 = selection(population, fitness_scores)\n",
    "        chromosome_2 = selection(population, fitness_scores)\n",
    "        \n",
    "        if generation % mutation_rate == 0:\n",
    "            chromosome_1 = mutate(chromosome_1)\n",
    "            chromosome_2 = mutate(chromosome_2)\n",
    "        else:\n",
    "            chromosome_1, chromosome_2 = crossover(chromosome_1, chromosome_2)\n",
    "\n",
    "        fitness_score_1 = fitness_function(chromosome_1)\n",
    "        fitness_score_2 = fitness_function(chromosome_2)\n",
    "        \n",
    "        worst_index = np.argmin(fitness_scores)\n",
    "        worst_fitness = fitness_scores[worst_index]\n",
    "\n",
    "        if fitness_score_1 > worst_fitness:\n",
    "            population[worst_index] = chromosome_1\n",
    "            fitness_scores[worst_index] = fitness_score_1\n",
    "            worst_index = np.argmin(fitness_scores)\n",
    "            worst_fitness = fitness_scores[worst_index]\n",
    "\n",
    "        if fitness_score_2 > worst_fitness:\n",
    "            population[worst_index] = chromosome_2\n",
    "            fitness_scores[worst_index] = fitness_score_2\n",
    "        \n",
    "        # Release some memory\n",
    "        del chromosome_1, chromosome_2\n",
    "        del fitness_score_1, fitness_score_2\n",
    "        del worst_index, worst_fitness\n",
    "            \n",
    "    best_chromosome = population[np.argmax(fitness_scores)]\n",
    "    best_fitness = np.max(fitness_scores)\n",
    "    \n",
    "    return best_chromosome, best_fitness, max_fitness_each_gen\n",
    "\n",
    "# Selection (Tournament selection)\n",
    "def selection(population, fitness_scores, tournament_size=3):\n",
    "    indices = np.random.randint(len(population), size=tournament_size)\n",
    "    tournament = population[indices]\n",
    "    tournament_fitness = fitness_scores[indices]\n",
    "    return tournament[np.argmax(tournament_fitness)]\n",
    "\n",
    "# Crossover (Single-point crossover)\n",
    "def crossover(parent_1: list, parent_2: list):\n",
    "    parent_1 = decimal_to_binary(parent_1)\n",
    "    parent_2 = decimal_to_binary(parent_2)\n",
    "    \n",
    "    crossover_point = np.random.randint(1, len(parent_1))\n",
    "    offspring_1 = parent_1[:crossover_point] + parent_2[crossover_point:]\n",
    "    offspring_2 = parent_2[:crossover_point] + parent_1[crossover_point:]\n",
    "    \n",
    "    offspring_1 = binary_to_decimal(offspring_1)\n",
    "    offspring_2 = binary_to_decimal(offspring_2)\n",
    "    return offspring_1, offspring_2\n",
    "\n",
    "# Mutation (Swap Mutation)\n",
    "def mutate(chromosome: list):\n",
    "    chromosome = decimal_to_binary(chromosome)\n",
    "    \n",
    "    chromosome_list = list(chromosome)\n",
    "    i = np.random.randint(len(chromosome_list), size=2)\n",
    "    chromosome_list[i[0]], chromosome_list[i[1]] = chromosome_list[i[1]], chromosome_list[i[0]]\n",
    "    \n",
    "    chromosome_list = ''.join(chromosome_list)\n",
    "    chromosome = binary_to_decimal(chromosome_list)\n",
    "    return chromosome\n",
    "\n",
    "# Fitness Function\n",
    "def fitness_function(chromosome: list):\n",
    "    lstm_units = [int(chromosome[i]) or default for i, default in enumerate([128, 64, 32])]\n",
    "\n",
    "    # Build the LSTM model\n",
    "    tf.keras.backend.clear_session()\n",
    "    model = Sequential()\n",
    "    for i, units in enumerate(lstm_units[:LSTM_Layer]):\n",
    "        model.add(LSTM(units, return_sequences=(i < LSTM_Layer - 1), input_shape=(WINDOW_SIZE, 1)))\n",
    "    model.add(Dense(1))\n",
    "    \n",
    "    # Compile and train the model\n",
    "    model.compile(loss='mean_squared_error',\n",
    "                  optimizer='adam')\n",
    "    model.fit(X_train, y_train,\n",
    "              epochs=10,\n",
    "              batch_size=32,\n",
    "              verbose=0,\n",
    "              validation_split=0.1)\n",
    "\n",
    "    # Evaluate the model\n",
    "    loss = model.evaluate(X_test, y_test)\n",
    "\n",
    "    # Return the negative value of the loss as the fitness score\n",
    "    return -loss"
   ]
  },
  {
   "cell_type": "code",
   "execution_count": 10,
   "id": "a9e37501",
   "metadata": {
    "execution": {
     "iopub.execute_input": "2024-02-05T16:40:30.889808Z",
     "iopub.status.busy": "2024-02-05T16:40:30.889574Z",
     "iopub.status.idle": "2024-02-05T16:40:30.894882Z",
     "shell.execute_reply": "2024-02-05T16:40:30.894106Z"
    },
    "papermill": {
     "duration": 0.015159,
     "end_time": "2024-02-05T16:40:30.897017",
     "exception": false,
     "start_time": "2024-02-05T16:40:30.881858",
     "status": "completed"
    },
    "tags": []
   },
   "outputs": [],
   "source": [
    "import typing\n",
    "from datetime import datetime\n",
    "\n",
    "def timer(start_time: datetime = None) -> \"typing.Union[datetime.datetime, str]\":\n",
    "    if not start_time:\n",
    "        start_time = datetime.now()\n",
    "        return start_time\n",
    "    elif start_time:\n",
    "        thour, temp_sec = divmod((datetime.now() - start_time).total_seconds(), 3600)\n",
    "        tmin, tsec = divmod(temp_sec, 60)\n",
    "        return \"%i hours %i minutes and %s seconds.\" % (\n",
    "            thour,\n",
    "            tmin,\n",
    "            round(tsec, 2),\n",
    "        )"
   ]
  },
  {
   "cell_type": "code",
   "execution_count": 11,
   "id": "ed78abab",
   "metadata": {
    "execution": {
     "iopub.execute_input": "2024-02-05T16:40:30.912336Z",
     "iopub.status.busy": "2024-02-05T16:40:30.912064Z",
     "iopub.status.idle": "2024-02-05T16:55:11.071622Z",
     "shell.execute_reply": "2024-02-05T16:55:11.070643Z"
    },
    "papermill": {
     "duration": 880.169568,
     "end_time": "2024-02-05T16:55:11.073790",
     "exception": false,
     "start_time": "2024-02-05T16:40:30.904222",
     "status": "completed"
    },
    "tags": []
   },
   "outputs": [
    {
     "name": "stdout",
     "output_type": "stream",
     "text": [
      "Inizialized Population...\n",
      "7/7 [==============================] - 0s 4ms/step - loss: 0.0013\n",
      "7/7 [==============================] - 0s 3ms/step - loss: 0.0026\n",
      "7/7 [==============================] - 0s 3ms/step - loss: 0.0019\n",
      "7/7 [==============================] - 0s 3ms/step - loss: 0.0016\n",
      "7/7 [==============================] - 0s 3ms/step - loss: 0.0016\n",
      "7/7 [==============================] - 0s 3ms/step - loss: 0.0013\n",
      "7/7 [==============================] - 0s 3ms/step - loss: 0.0014\n",
      "7/7 [==============================] - 0s 3ms/step - loss: 0.0017\n",
      "7/7 [==============================] - 0s 4ms/step - loss: 0.0014\n",
      "7/7 [==============================] - 0s 3ms/step - loss: 0.0017\n",
      "Generation - 1\n",
      "7/7 [==============================] - 0s 3ms/step - loss: 0.0015\n",
      "7/7 [==============================] - 0s 4ms/step - loss: 0.0012\n",
      "Generation - 2\n",
      "7/7 [==============================] - 0s 4ms/step - loss: 0.0029\n",
      "7/7 [==============================] - 0s 3ms/step - loss: 0.0016\n",
      "Generation - 3\n",
      "7/7 [==============================] - 0s 4ms/step - loss: 0.0017\n",
      "7/7 [==============================] - 0s 3ms/step - loss: 0.0031\n",
      "Generation - 4\n",
      "7/7 [==============================] - 0s 3ms/step - loss: 0.0020\n",
      "7/7 [==============================] - 0s 3ms/step - loss: 0.0011\n",
      "Generation - 5\n",
      "7/7 [==============================] - 0s 3ms/step - loss: 0.0026\n",
      "7/7 [==============================] - 0s 4ms/step - loss: 0.0012\n",
      "Generation - 6\n",
      "7/7 [==============================] - 0s 3ms/step - loss: 0.0014\n",
      "7/7 [==============================] - 0s 3ms/step - loss: 0.0020\n",
      "Generation - 7\n",
      "7/7 [==============================] - 0s 3ms/step - loss: 0.0014\n",
      "7/7 [==============================] - 0s 3ms/step - loss: 0.0013\n",
      "Generation - 8\n",
      "7/7 [==============================] - 0s 3ms/step - loss: 0.0013\n",
      "7/7 [==============================] - 0s 3ms/step - loss: 0.0013\n",
      "Generation - 9\n",
      "7/7 [==============================] - 0s 4ms/step - loss: 0.0019\n",
      "7/7 [==============================] - 0s 4ms/step - loss: 0.0022\n",
      "Generation - 10\n",
      "7/7 [==============================] - 0s 3ms/step - loss: 0.0014\n",
      "7/7 [==============================] - 0s 3ms/step - loss: 0.0013\n",
      "Generation - 11\n",
      "7/7 [==============================] - 0s 3ms/step - loss: 0.0013\n",
      "7/7 [==============================] - 0s 4ms/step - loss: 0.0014\n",
      "Generation - 12\n",
      "7/7 [==============================] - 0s 3ms/step - loss: 0.0034\n",
      "7/7 [==============================] - 0s 3ms/step - loss: 0.0014\n",
      "Generation - 13\n",
      "7/7 [==============================] - 0s 3ms/step - loss: 0.0011\n",
      "7/7 [==============================] - 0s 4ms/step - loss: 0.0028\n",
      "Generation - 14\n",
      "7/7 [==============================] - 0s 3ms/step - loss: 0.0013\n",
      "7/7 [==============================] - 0s 3ms/step - loss: 0.0017\n",
      "Generation - 15\n",
      "7/7 [==============================] - 0s 3ms/step - loss: 0.0014\n",
      "7/7 [==============================] - 0s 4ms/step - loss: 0.0014\n",
      "Generation - 16\n",
      "7/7 [==============================] - 0s 3ms/step - loss: 0.0013\n",
      "7/7 [==============================] - 0s 4ms/step - loss: 0.0015\n",
      "Generation - 17\n",
      "7/7 [==============================] - 0s 3ms/step - loss: 0.0012\n",
      "7/7 [==============================] - 0s 4ms/step - loss: 0.0023\n",
      "Generation - 18\n",
      "7/7 [==============================] - 0s 3ms/step - loss: 0.0013\n",
      "7/7 [==============================] - 0s 3ms/step - loss: 0.0031\n",
      "Generation - 19\n",
      "7/7 [==============================] - 0s 3ms/step - loss: 0.0021\n",
      "7/7 [==============================] - 0s 4ms/step - loss: 0.0011\n",
      "Generation - 20\n",
      "7/7 [==============================] - 0s 3ms/step - loss: 0.0017\n",
      "7/7 [==============================] - 0s 3ms/step - loss: 0.0016\n",
      "Generation - 21\n",
      "7/7 [==============================] - 0s 3ms/step - loss: 0.0019\n",
      "7/7 [==============================] - 0s 4ms/step - loss: 0.0012\n",
      "Generation - 22\n",
      "7/7 [==============================] - 0s 3ms/step - loss: 0.0019\n",
      "7/7 [==============================] - 0s 3ms/step - loss: 0.0012\n",
      "Generation - 23\n",
      "7/7 [==============================] - 0s 3ms/step - loss: 0.0031\n",
      "7/7 [==============================] - 0s 4ms/step - loss: 0.0012\n",
      "Generation - 24\n",
      "7/7 [==============================] - 0s 3ms/step - loss: 0.0020\n",
      "7/7 [==============================] - 0s 3ms/step - loss: 0.0012\n",
      "Generation - 25\n",
      "7/7 [==============================] - 0s 3ms/step - loss: 0.0022\n",
      "7/7 [==============================] - 0s 4ms/step - loss: 0.0014\n",
      "Generation - 26\n",
      "7/7 [==============================] - 0s 3ms/step - loss: 0.0013\n",
      "7/7 [==============================] - 0s 4ms/step - loss: 0.0023\n",
      "Generation - 27\n",
      "7/7 [==============================] - 0s 4ms/step - loss: 0.0013\n",
      "7/7 [==============================] - 0s 3ms/step - loss: 0.0013\n",
      "Generation - 28\n",
      "7/7 [==============================] - 0s 3ms/step - loss: 0.0016\n",
      "7/7 [==============================] - 0s 4ms/step - loss: 0.0016\n",
      "Generation - 29\n",
      "7/7 [==============================] - 0s 3ms/step - loss: 0.0012\n",
      "7/7 [==============================] - 0s 4ms/step - loss: 0.0017\n",
      "Generation - 30\n",
      "7/7 [==============================] - 0s 3ms/step - loss: 0.0014\n",
      "7/7 [==============================] - 0s 3ms/step - loss: 0.0014\n",
      "Generation - 31\n",
      "7/7 [==============================] - 0s 3ms/step - loss: 0.0019\n",
      "7/7 [==============================] - 0s 4ms/step - loss: 0.0022\n",
      "Generation - 32\n",
      "7/7 [==============================] - 0s 3ms/step - loss: 0.0016\n",
      "7/7 [==============================] - 0s 4ms/step - loss: 0.0012\n",
      "Generation - 33\n",
      "7/7 [==============================] - 0s 3ms/step - loss: 0.0020\n",
      "7/7 [==============================] - 0s 4ms/step - loss: 0.0013\n",
      "Generation - 34\n",
      "7/7 [==============================] - 0s 3ms/step - loss: 0.0018\n",
      "7/7 [==============================] - 0s 4ms/step - loss: 0.0012\n",
      "Generation - 35\n",
      "7/7 [==============================] - 0s 3ms/step - loss: 0.0039\n",
      "7/7 [==============================] - 0s 4ms/step - loss: 0.0016\n",
      "Generation - 36\n",
      "7/7 [==============================] - 0s 4ms/step - loss: 0.0029\n",
      "7/7 [==============================] - 0s 3ms/step - loss: 0.0025\n",
      "Generation - 37\n",
      "7/7 [==============================] - 0s 3ms/step - loss: 0.0013\n",
      "7/7 [==============================] - 0s 4ms/step - loss: 0.0015\n",
      "Generation - 38\n",
      "7/7 [==============================] - 0s 4ms/step - loss: 0.0026\n",
      "7/7 [==============================] - 0s 3ms/step - loss: 0.0016\n",
      "Generation - 39\n",
      "7/7 [==============================] - 0s 3ms/step - loss: 0.0016\n",
      "7/7 [==============================] - 0s 4ms/step - loss: 0.0023\n",
      "Generation - 40\n",
      "7/7 [==============================] - 0s 3ms/step - loss: 0.0011\n",
      "7/7 [==============================] - 0s 4ms/step - loss: 0.0014\n",
      "Generation - 41\n",
      "7/7 [==============================] - 0s 4ms/step - loss: 0.0012\n",
      "7/7 [==============================] - 0s 4ms/step - loss: 0.0024\n",
      "Generation - 42\n",
      "7/7 [==============================] - 0s 3ms/step - loss: 0.0013\n",
      "7/7 [==============================] - 0s 3ms/step - loss: 0.0013\n",
      "Generation - 43\n",
      "7/7 [==============================] - 0s 3ms/step - loss: 0.0016\n",
      "7/7 [==============================] - 0s 4ms/step - loss: 0.0013\n",
      "Generation - 44\n",
      "7/7 [==============================] - 0s 3ms/step - loss: 0.0023\n",
      "7/7 [==============================] - 0s 3ms/step - loss: 0.0012\n",
      "Generation - 45\n",
      "7/7 [==============================] - 0s 3ms/step - loss: 0.0012\n",
      "7/7 [==============================] - 0s 4ms/step - loss: 0.0012\n",
      "Generation - 46\n",
      "7/7 [==============================] - 0s 3ms/step - loss: 0.0022\n",
      "7/7 [==============================] - 0s 3ms/step - loss: 0.0011\n",
      "Generation - 47\n",
      "7/7 [==============================] - 0s 4ms/step - loss: 0.0012\n",
      "7/7 [==============================] - 0s 4ms/step - loss: 0.0064\n",
      "Generation - 48\n",
      "7/7 [==============================] - 0s 4ms/step - loss: 0.0011\n",
      "7/7 [==============================] - 0s 3ms/step - loss: 0.0012\n",
      "Generation - 49\n",
      "7/7 [==============================] - 0s 3ms/step - loss: 0.0012\n",
      "7/7 [==============================] - 0s 4ms/step - loss: 0.0025\n",
      "Generation - 50\n",
      "7/7 [==============================] - 0s 3ms/step - loss: 0.0011\n",
      "7/7 [==============================] - 0s 3ms/step - loss: 0.0013\n"
     ]
    }
   ],
   "source": [
    "# Do not increase this value\n",
    "generations = 50\n",
    "mutation_rate = 5\n",
    "\n",
    "time = timer(None)\n",
    "best_chromosome, best_fitness, max_fitness_each_gen = genetic_algorithm(generations, mutation_rate)\n",
    "time = timer(time)"
   ]
  },
  {
   "cell_type": "code",
   "execution_count": 12,
   "id": "8b2240da",
   "metadata": {
    "execution": {
     "iopub.execute_input": "2024-02-05T16:55:11.128969Z",
     "iopub.status.busy": "2024-02-05T16:55:11.128658Z",
     "iopub.status.idle": "2024-02-05T16:55:11.134173Z",
     "shell.execute_reply": "2024-02-05T16:55:11.133209Z"
    },
    "papermill": {
     "duration": 0.03521,
     "end_time": "2024-02-05T16:55:11.136159",
     "exception": false,
     "start_time": "2024-02-05T16:55:11.100949",
     "status": "completed"
    },
    "tags": []
   },
   "outputs": [
    {
     "name": "stdout",
     "output_type": "stream",
     "text": [
      "Best Chromosome: [177 202 209]\n",
      "Best Fitness: -0.0011123858857899904\n",
      "Time Taken: 0 hours 14 minutes and 40.16 seconds.\n"
     ]
    }
   ],
   "source": [
    "print(\"Best Chromosome:\", best_chromosome)\n",
    "print(\"Best Fitness:\", best_fitness)\n",
    "print(\"Time Taken:\", time)"
   ]
  },
  {
   "cell_type": "code",
   "execution_count": 13,
   "id": "7a6213fc",
   "metadata": {
    "execution": {
     "iopub.execute_input": "2024-02-05T16:55:11.191244Z",
     "iopub.status.busy": "2024-02-05T16:55:11.190917Z",
     "iopub.status.idle": "2024-02-05T16:55:11.197164Z",
     "shell.execute_reply": "2024-02-05T16:55:11.196324Z"
    },
    "papermill": {
     "duration": 0.035717,
     "end_time": "2024-02-05T16:55:11.198954",
     "exception": false,
     "start_time": "2024-02-05T16:55:11.163237",
     "status": "completed"
    },
    "tags": []
   },
   "outputs": [
    {
     "data": {
      "text/plain": [
       "[-0.0013098622439429164,\n",
       " -0.0012213119771331549,\n",
       " -0.0012213119771331549,\n",
       " -0.0012213119771331549,\n",
       " -0.001133329700678587,\n",
       " -0.001133329700678587,\n",
       " -0.001133329700678587,\n",
       " -0.001133329700678587,\n",
       " -0.001133329700678587,\n",
       " -0.001133329700678587,\n",
       " -0.001133329700678587,\n",
       " -0.001133329700678587,\n",
       " -0.001133329700678587,\n",
       " -0.001133329700678587,\n",
       " -0.001133329700678587,\n",
       " -0.001133329700678587,\n",
       " -0.001133329700678587,\n",
       " -0.001133329700678587,\n",
       " -0.001133329700678587,\n",
       " -0.0011263462947681546,\n",
       " -0.0011263462947681546,\n",
       " -0.0011263462947681546,\n",
       " -0.0011263462947681546,\n",
       " -0.0011263462947681546,\n",
       " -0.0011263462947681546,\n",
       " -0.0011263462947681546,\n",
       " -0.0011263462947681546,\n",
       " -0.0011263462947681546,\n",
       " -0.0011263462947681546,\n",
       " -0.0011263462947681546,\n",
       " -0.0011263462947681546,\n",
       " -0.0011263462947681546,\n",
       " -0.0011263462947681546,\n",
       " -0.0011263462947681546,\n",
       " -0.0011263462947681546,\n",
       " -0.0011263462947681546,\n",
       " -0.0011263462947681546,\n",
       " -0.0011263462947681546,\n",
       " -0.0011263462947681546,\n",
       " -0.0011263462947681546,\n",
       " -0.0011123858857899904,\n",
       " -0.0011123858857899904,\n",
       " -0.0011123858857899904,\n",
       " -0.0011123858857899904,\n",
       " -0.0011123858857899904,\n",
       " -0.0011123858857899904,\n",
       " -0.0011123858857899904,\n",
       " -0.0011123858857899904,\n",
       " -0.0011123858857899904,\n",
       " -0.0011123858857899904]"
      ]
     },
     "execution_count": 13,
     "metadata": {},
     "output_type": "execute_result"
    }
   ],
   "source": [
    "max_fitness_each_gen"
   ]
  },
  {
   "cell_type": "markdown",
   "id": "9c35e0c6",
   "metadata": {
    "papermill": {
     "duration": 0.02632,
     "end_time": "2024-02-05T16:55:11.251902",
     "exception": false,
     "start_time": "2024-02-05T16:55:11.225582",
     "status": "completed"
    },
    "tags": []
   },
   "source": [
    "## Re-Training Model with Best Parameter"
   ]
  },
  {
   "cell_type": "code",
   "execution_count": 14,
   "id": "57992962",
   "metadata": {
    "execution": {
     "iopub.execute_input": "2024-02-05T16:55:11.306691Z",
     "iopub.status.busy": "2024-02-05T16:55:11.306382Z",
     "iopub.status.idle": "2024-02-05T16:55:11.836371Z",
     "shell.execute_reply": "2024-02-05T16:55:11.835422Z"
    },
    "papermill": {
     "duration": 0.561575,
     "end_time": "2024-02-05T16:55:11.840119",
     "exception": false,
     "start_time": "2024-02-05T16:55:11.278544",
     "status": "completed"
    },
    "tags": []
   },
   "outputs": [
    {
     "name": "stdout",
     "output_type": "stream",
     "text": [
      "Model: \"sequential_1\"\n",
      "_________________________________________________________________\n",
      " Layer (type)                Output Shape              Param #   \n",
      "=================================================================\n",
      " lstm_2 (LSTM)               (None, 20, 177)           126732    \n",
      "                                                                 \n",
      " lstm_3 (LSTM)               (None, 202)               307040    \n",
      "                                                                 \n",
      " dense_1 (Dense)             (None, 1)                 203       \n",
      "                                                                 \n",
      "=================================================================\n",
      "Total params: 433,975\n",
      "Trainable params: 433,975\n",
      "Non-trainable params: 0\n",
      "_________________________________________________________________\n"
     ]
    }
   ],
   "source": [
    "model = Sequential()\n",
    "for i, units in enumerate(best_chromosome[:LSTM_Layer]):\n",
    "    model.add(LSTM(units, return_sequences=(i < LSTM_Layer - 1), input_shape=(WINDOW_SIZE, 1)))\n",
    "model.add(Dense(1))\n",
    "\n",
    "model.summary()"
   ]
  },
  {
   "cell_type": "code",
   "execution_count": 15,
   "id": "d68dd564",
   "metadata": {
    "execution": {
     "iopub.execute_input": "2024-02-05T16:55:11.897403Z",
     "iopub.status.busy": "2024-02-05T16:55:11.897127Z",
     "iopub.status.idle": "2024-02-05T16:55:35.115088Z",
     "shell.execute_reply": "2024-02-05T16:55:35.114151Z"
    },
    "papermill": {
     "duration": 23.24879,
     "end_time": "2024-02-05T16:55:35.117303",
     "exception": false,
     "start_time": "2024-02-05T16:55:11.868513",
     "status": "completed"
    },
    "tags": []
   },
   "outputs": [
    {
     "name": "stdout",
     "output_type": "stream",
     "text": [
      "Epoch 1/50\n",
      "50/50 [==============================] - 5s 24ms/step - loss: 0.0137 - mae: 0.0768 - root_mean_squared_error: 0.1169 - val_loss: 0.0038 - val_mae: 0.0528 - val_root_mean_squared_error: 0.0618\n",
      "Epoch 2/50\n",
      "50/50 [==============================] - 0s 8ms/step - loss: 0.0028 - mae: 0.0352 - root_mean_squared_error: 0.0530 - val_loss: 0.0015 - val_mae: 0.0309 - val_root_mean_squared_error: 0.0382\n",
      "Epoch 3/50\n",
      "50/50 [==============================] - 0s 7ms/step - loss: 0.0025 - mae: 0.0333 - root_mean_squared_error: 0.0495 - val_loss: 0.0017 - val_mae: 0.0348 - val_root_mean_squared_error: 0.0417\n",
      "Epoch 4/50\n",
      "50/50 [==============================] - 0s 7ms/step - loss: 0.0022 - mae: 0.0321 - root_mean_squared_error: 0.0470 - val_loss: 0.0013 - val_mae: 0.0297 - val_root_mean_squared_error: 0.0366\n",
      "Epoch 5/50\n",
      "50/50 [==============================] - 0s 7ms/step - loss: 0.0020 - mae: 0.0309 - root_mean_squared_error: 0.0448 - val_loss: 9.2858e-04 - val_mae: 0.0244 - val_root_mean_squared_error: 0.0305\n",
      "Epoch 6/50\n",
      "50/50 [==============================] - 0s 7ms/step - loss: 0.0020 - mae: 0.0309 - root_mean_squared_error: 0.0447 - val_loss: 0.0026 - val_mae: 0.0439 - val_root_mean_squared_error: 0.0508\n",
      "Epoch 7/50\n",
      "50/50 [==============================] - 0s 7ms/step - loss: 0.0023 - mae: 0.0345 - root_mean_squared_error: 0.0484 - val_loss: 8.3987e-04 - val_mae: 0.0228 - val_root_mean_squared_error: 0.0290\n",
      "Epoch 8/50\n",
      "50/50 [==============================] - 0s 7ms/step - loss: 0.0019 - mae: 0.0295 - root_mean_squared_error: 0.0433 - val_loss: 0.0011 - val_mae: 0.0264 - val_root_mean_squared_error: 0.0332\n",
      "Epoch 9/50\n",
      "50/50 [==============================] - 0s 7ms/step - loss: 0.0019 - mae: 0.0295 - root_mean_squared_error: 0.0431 - val_loss: 7.6458e-04 - val_mae: 0.0219 - val_root_mean_squared_error: 0.0277\n",
      "Epoch 10/50\n",
      "50/50 [==============================] - 0s 7ms/step - loss: 0.0018 - mae: 0.0296 - root_mean_squared_error: 0.0426 - val_loss: 7.7096e-04 - val_mae: 0.0220 - val_root_mean_squared_error: 0.0278\n",
      "Epoch 11/50\n",
      "50/50 [==============================] - 0s 7ms/step - loss: 0.0018 - mae: 0.0288 - root_mean_squared_error: 0.0420 - val_loss: 0.0014 - val_mae: 0.0306 - val_root_mean_squared_error: 0.0374\n",
      "Epoch 12/50\n",
      "50/50 [==============================] - 0s 7ms/step - loss: 0.0020 - mae: 0.0320 - root_mean_squared_error: 0.0450 - val_loss: 7.6086e-04 - val_mae: 0.0218 - val_root_mean_squared_error: 0.0276\n",
      "Epoch 13/50\n",
      "50/50 [==============================] - 0s 7ms/step - loss: 0.0017 - mae: 0.0280 - root_mean_squared_error: 0.0411 - val_loss: 6.1676e-04 - val_mae: 0.0197 - val_root_mean_squared_error: 0.0248\n",
      "Epoch 14/50\n",
      "50/50 [==============================] - 0s 7ms/step - loss: 0.0018 - mae: 0.0293 - root_mean_squared_error: 0.0424 - val_loss: 7.4960e-04 - val_mae: 0.0218 - val_root_mean_squared_error: 0.0274\n",
      "Epoch 15/50\n",
      "50/50 [==============================] - 0s 7ms/step - loss: 0.0017 - mae: 0.0291 - root_mean_squared_error: 0.0417 - val_loss: 7.5626e-04 - val_mae: 0.0217 - val_root_mean_squared_error: 0.0275\n",
      "Epoch 16/50\n",
      "50/50 [==============================] - 0s 7ms/step - loss: 0.0016 - mae: 0.0276 - root_mean_squared_error: 0.0401 - val_loss: 5.6221e-04 - val_mae: 0.0186 - val_root_mean_squared_error: 0.0237\n",
      "Epoch 17/50\n",
      "50/50 [==============================] - 0s 8ms/step - loss: 0.0017 - mae: 0.0283 - root_mean_squared_error: 0.0411 - val_loss: 0.0016 - val_mae: 0.0339 - val_root_mean_squared_error: 0.0397\n",
      "Epoch 18/50\n",
      "50/50 [==============================] - 0s 7ms/step - loss: 0.0016 - mae: 0.0269 - root_mean_squared_error: 0.0395 - val_loss: 8.8015e-04 - val_mae: 0.0238 - val_root_mean_squared_error: 0.0297\n",
      "Epoch 19/50\n",
      "50/50 [==============================] - 0s 7ms/step - loss: 0.0015 - mae: 0.0265 - root_mean_squared_error: 0.0390 - val_loss: 5.9292e-04 - val_mae: 0.0189 - val_root_mean_squared_error: 0.0243\n",
      "Epoch 20/50\n",
      "50/50 [==============================] - 0s 7ms/step - loss: 0.0015 - mae: 0.0267 - root_mean_squared_error: 0.0391 - val_loss: 8.3144e-04 - val_mae: 0.0229 - val_root_mean_squared_error: 0.0288\n",
      "Epoch 21/50\n",
      "50/50 [==============================] - 0s 7ms/step - loss: 0.0016 - mae: 0.0277 - root_mean_squared_error: 0.0399 - val_loss: 6.7385e-04 - val_mae: 0.0201 - val_root_mean_squared_error: 0.0260\n",
      "Epoch 22/50\n",
      "50/50 [==============================] - 0s 7ms/step - loss: 0.0015 - mae: 0.0264 - root_mean_squared_error: 0.0387 - val_loss: 7.0088e-04 - val_mae: 0.0206 - val_root_mean_squared_error: 0.0265\n",
      "Epoch 23/50\n",
      "50/50 [==============================] - 0s 7ms/step - loss: 0.0016 - mae: 0.0273 - root_mean_squared_error: 0.0396 - val_loss: 0.0013 - val_mae: 0.0306 - val_root_mean_squared_error: 0.0360\n",
      "Epoch 24/50\n",
      "50/50 [==============================] - 0s 7ms/step - loss: 0.0015 - mae: 0.0270 - root_mean_squared_error: 0.0389 - val_loss: 6.2550e-04 - val_mae: 0.0197 - val_root_mean_squared_error: 0.0250\n",
      "Epoch 25/50\n",
      "50/50 [==============================] - 0s 7ms/step - loss: 0.0014 - mae: 0.0260 - root_mean_squared_error: 0.0381 - val_loss: 4.8568e-04 - val_mae: 0.0169 - val_root_mean_squared_error: 0.0220\n",
      "Epoch 26/50\n",
      "50/50 [==============================] - 0s 7ms/step - loss: 0.0014 - mae: 0.0252 - root_mean_squared_error: 0.0374 - val_loss: 4.7285e-04 - val_mae: 0.0167 - val_root_mean_squared_error: 0.0217\n",
      "Epoch 27/50\n",
      "50/50 [==============================] - 0s 8ms/step - loss: 0.0014 - mae: 0.0247 - root_mean_squared_error: 0.0367 - val_loss: 4.5636e-04 - val_mae: 0.0161 - val_root_mean_squared_error: 0.0214\n",
      "Epoch 28/50\n",
      "50/50 [==============================] - 0s 7ms/step - loss: 0.0014 - mae: 0.0256 - root_mean_squared_error: 0.0377 - val_loss: 0.0029 - val_mae: 0.0489 - val_root_mean_squared_error: 0.0540\n",
      "Epoch 29/50\n",
      "50/50 [==============================] - 0s 7ms/step - loss: 0.0015 - mae: 0.0277 - root_mean_squared_error: 0.0393 - val_loss: 4.8328e-04 - val_mae: 0.0162 - val_root_mean_squared_error: 0.0220\n",
      "Epoch 30/50\n",
      "50/50 [==============================] - 0s 7ms/step - loss: 0.0014 - mae: 0.0247 - root_mean_squared_error: 0.0368 - val_loss: 5.1408e-04 - val_mae: 0.0167 - val_root_mean_squared_error: 0.0227\n",
      "Epoch 31/50\n",
      "50/50 [==============================] - 0s 7ms/step - loss: 0.0014 - mae: 0.0250 - root_mean_squared_error: 0.0369 - val_loss: 9.4107e-04 - val_mae: 0.0248 - val_root_mean_squared_error: 0.0307\n",
      "Epoch 32/50\n",
      "50/50 [==============================] - 0s 7ms/step - loss: 0.0014 - mae: 0.0255 - root_mean_squared_error: 0.0374 - val_loss: 8.2808e-04 - val_mae: 0.0227 - val_root_mean_squared_error: 0.0288\n",
      "Epoch 33/50\n",
      "50/50 [==============================] - 0s 7ms/step - loss: 0.0014 - mae: 0.0255 - root_mean_squared_error: 0.0373 - val_loss: 0.0016 - val_mae: 0.0338 - val_root_mean_squared_error: 0.0395\n",
      "Epoch 34/50\n",
      "50/50 [==============================] - 0s 7ms/step - loss: 0.0014 - mae: 0.0249 - root_mean_squared_error: 0.0368 - val_loss: 4.6588e-04 - val_mae: 0.0163 - val_root_mean_squared_error: 0.0216\n",
      "Epoch 35/50\n",
      "50/50 [==============================] - 0s 7ms/step - loss: 0.0014 - mae: 0.0247 - root_mean_squared_error: 0.0368 - val_loss: 5.1598e-04 - val_mae: 0.0167 - val_root_mean_squared_error: 0.0227\n",
      "Epoch 36/50\n",
      "50/50 [==============================] - 0s 7ms/step - loss: 0.0014 - mae: 0.0248 - root_mean_squared_error: 0.0370 - val_loss: 8.5255e-04 - val_mae: 0.0232 - val_root_mean_squared_error: 0.0292\n",
      "Epoch 37/50\n",
      "50/50 [==============================] - 0s 7ms/step - loss: 0.0016 - mae: 0.0283 - root_mean_squared_error: 0.0402 - val_loss: 6.2662e-04 - val_mae: 0.0203 - val_root_mean_squared_error: 0.0250\n",
      "Epoch 38/50\n",
      "50/50 [==============================] - 0s 7ms/step - loss: 0.0014 - mae: 0.0252 - root_mean_squared_error: 0.0373 - val_loss: 0.0010 - val_mae: 0.0270 - val_root_mean_squared_error: 0.0321\n",
      "Epoch 39/50\n",
      "50/50 [==============================] - 0s 7ms/step - loss: 0.0014 - mae: 0.0256 - root_mean_squared_error: 0.0377 - val_loss: 4.5256e-04 - val_mae: 0.0157 - val_root_mean_squared_error: 0.0213\n",
      "Epoch 40/50\n",
      "50/50 [==============================] - 0s 7ms/step - loss: 0.0015 - mae: 0.0271 - root_mean_squared_error: 0.0389 - val_loss: 4.8789e-04 - val_mae: 0.0162 - val_root_mean_squared_error: 0.0221\n",
      "Epoch 41/50\n",
      "50/50 [==============================] - 0s 7ms/step - loss: 0.0014 - mae: 0.0248 - root_mean_squared_error: 0.0369 - val_loss: 0.0012 - val_mae: 0.0293 - val_root_mean_squared_error: 0.0352\n",
      "Epoch 42/50\n",
      "50/50 [==============================] - 0s 7ms/step - loss: 0.0014 - mae: 0.0262 - root_mean_squared_error: 0.0379 - val_loss: 8.6661e-04 - val_mae: 0.0234 - val_root_mean_squared_error: 0.0294\n",
      "Epoch 43/50\n",
      "50/50 [==============================] - 0s 7ms/step - loss: 0.0014 - mae: 0.0255 - root_mean_squared_error: 0.0376 - val_loss: 4.8046e-04 - val_mae: 0.0160 - val_root_mean_squared_error: 0.0219\n",
      "Epoch 44/50\n",
      "50/50 [==============================] - 0s 7ms/step - loss: 0.0014 - mae: 0.0250 - root_mean_squared_error: 0.0370 - val_loss: 5.4817e-04 - val_mae: 0.0173 - val_root_mean_squared_error: 0.0234\n",
      "Epoch 45/50\n",
      "50/50 [==============================] - 0s 7ms/step - loss: 0.0014 - mae: 0.0247 - root_mean_squared_error: 0.0369 - val_loss: 4.6094e-04 - val_mae: 0.0158 - val_root_mean_squared_error: 0.0215\n",
      "Epoch 46/50\n",
      "50/50 [==============================] - 0s 7ms/step - loss: 0.0014 - mae: 0.0254 - root_mean_squared_error: 0.0373 - val_loss: 0.0014 - val_mae: 0.0322 - val_root_mean_squared_error: 0.0379\n",
      "Epoch 47/50\n",
      "50/50 [==============================] - 0s 7ms/step - loss: 0.0015 - mae: 0.0261 - root_mean_squared_error: 0.0383 - val_loss: 4.5562e-04 - val_mae: 0.0156 - val_root_mean_squared_error: 0.0213\n",
      "Epoch 48/50\n",
      "50/50 [==============================] - 0s 7ms/step - loss: 0.0015 - mae: 0.0266 - root_mean_squared_error: 0.0390 - val_loss: 8.7444e-04 - val_mae: 0.0235 - val_root_mean_squared_error: 0.0296\n",
      "Epoch 49/50\n",
      "50/50 [==============================] - 0s 7ms/step - loss: 0.0014 - mae: 0.0245 - root_mean_squared_error: 0.0368 - val_loss: 5.1323e-04 - val_mae: 0.0166 - val_root_mean_squared_error: 0.0227\n",
      "Epoch 50/50\n",
      "50/50 [==============================] - 0s 9ms/step - loss: 0.0016 - mae: 0.0275 - root_mean_squared_error: 0.0396 - val_loss: 6.6594e-04 - val_mae: 0.0208 - val_root_mean_squared_error: 0.0258\n"
     ]
    }
   ],
   "source": [
    "model.compile(loss='mean_squared_error',\n",
    "              metrics=['mae', RootMeanSquaredError()],\n",
    "              optimizer='adam')\n",
    "\n",
    "history = model.fit(X_train,\n",
    "                    y_train,\n",
    "                    epochs=50,\n",
    "                    batch_size=32,\n",
    "                    validation_split=0.1)"
   ]
  },
  {
   "cell_type": "code",
   "execution_count": 16,
   "id": "ecb298dc",
   "metadata": {
    "execution": {
     "iopub.execute_input": "2024-02-05T16:55:35.239515Z",
     "iopub.status.busy": "2024-02-05T16:55:35.238718Z",
     "iopub.status.idle": "2024-02-05T16:55:35.346736Z",
     "shell.execute_reply": "2024-02-05T16:55:35.345928Z"
    },
    "papermill": {
     "duration": 0.169284,
     "end_time": "2024-02-05T16:55:35.348593",
     "exception": false,
     "start_time": "2024-02-05T16:55:35.179309",
     "status": "completed"
    },
    "tags": []
   },
   "outputs": [
    {
     "name": "stdout",
     "output_type": "stream",
     "text": [
      "7/7 [==============================] - 0s 4ms/step - loss: 9.6780e-04 - mae: 0.0245 - root_mean_squared_error: 0.0311\n"
     ]
    },
    {
     "data": {
      "text/plain": [
       "[0.0009677959023974836, 0.024522358551621437, 0.031109418720006943]"
      ]
     },
     "execution_count": 16,
     "metadata": {},
     "output_type": "execute_result"
    }
   ],
   "source": [
    "model.evaluate(X_test, y_test)"
   ]
  },
  {
   "cell_type": "markdown",
   "id": "6433a4d4",
   "metadata": {
    "papermill": {
     "duration": 0.05804,
     "end_time": "2024-02-05T16:55:35.472100",
     "exception": false,
     "start_time": "2024-02-05T16:55:35.414060",
     "status": "completed"
    },
    "tags": []
   },
   "source": [
    "## Model Evaluation"
   ]
  },
  {
   "cell_type": "code",
   "execution_count": 17,
   "id": "04b85970",
   "metadata": {
    "execution": {
     "iopub.execute_input": "2024-02-05T16:55:35.590863Z",
     "iopub.status.busy": "2024-02-05T16:55:35.589993Z",
     "iopub.status.idle": "2024-02-05T16:55:35.895364Z",
     "shell.execute_reply": "2024-02-05T16:55:35.894295Z"
    },
    "papermill": {
     "duration": 0.367796,
     "end_time": "2024-02-05T16:55:35.897660",
     "exception": false,
     "start_time": "2024-02-05T16:55:35.529864",
     "status": "completed"
    },
    "tags": []
   },
   "outputs": [
    {
     "data": {
      "image/png": "[encoded data removed]",
      "text/plain": [
       "<Figure size 640x480 with 1 Axes>"
      ]
     },
     "metadata": {},
     "output_type": "display_data"
    }
   ],
   "source": [
    "plt.plot(history.history['loss'])\n",
    "plt.plot(history.history['val_loss'])\n",
    "plt.title(f'{SHEET_NAME} Model Loss', fontsize=15)\n",
    "plt.ylabel('loss')\n",
    "plt.xlabel('epoch')\n",
    "plt.legend(['train', 'test'])\n",
    "plt.show()"
   ]
  },
  {
   "cell_type": "code",
   "execution_count": 18,
   "id": "e1cdda12",
   "metadata": {
    "execution": {
     "iopub.execute_input": "2024-02-05T16:55:36.021657Z",
     "iopub.status.busy": "2024-02-05T16:55:36.021354Z",
     "iopub.status.idle": "2024-02-05T16:55:36.807284Z",
     "shell.execute_reply": "2024-02-05T16:55:36.806521Z"
    },
    "papermill": {
     "duration": 0.847374,
     "end_time": "2024-02-05T16:55:36.809291",
     "exception": false,
     "start_time": "2024-02-05T16:55:35.961917",
     "status": "completed"
    },
    "tags": []
   },
   "outputs": [
    {
     "name": "stdout",
     "output_type": "stream",
     "text": [
      "7/7 [==============================] - 1s 3ms/step\n"
     ]
    }
   ],
   "source": [
    "y_hat = model.predict(X_test)\n",
    "y_test_inverse = scaler.inverse_transform(y_test)\n",
    "y_hat_inverse = scaler.inverse_transform(y_hat)"
   ]
  },
  {
   "cell_type": "code",
   "execution_count": 19,
   "id": "c482621a",
   "metadata": {
    "execution": {
     "iopub.execute_input": "2024-02-05T16:55:36.928641Z",
     "iopub.status.busy": "2024-02-05T16:55:36.928342Z",
     "iopub.status.idle": "2024-02-05T16:55:37.237209Z",
     "shell.execute_reply": "2024-02-05T16:55:37.236303Z"
    },
    "papermill": {
     "duration": 0.370776,
     "end_time": "2024-02-05T16:55:37.239420",
     "exception": false,
     "start_time": "2024-02-05T16:55:36.868644",
     "status": "completed"
    },
    "tags": []
   },
   "outputs": [
    {
     "data": {
      "image/png": "[encoded data removed]",
      "text/plain": [
       "<Figure size 640x480 with 1 Axes>"
      ]
     },
     "metadata": {},
     "output_type": "display_data"
    }
   ],
   "source": [
    "plt.plot(y_test_inverse, label=\"Actual Price\", color='green')\n",
    "plt.plot(y_hat_inverse, label=\"Predicted Price\", color='red')\n",
    " \n",
    "plt.title(f'{SHEET_NAME} Price Prediction\\nLSTM = {LSTM_Layer}, Split Data = {SPLIT}, Window = {WINDOW_SIZE}', fontsize=15)\n",
    "plt.xlabel('Time [days]')\n",
    "plt.ylabel('Price')\n",
    "plt.legend(loc='best')\n",
    " \n",
    "plt.show()"
   ]
  },
  {
   "cell_type": "code",
   "execution_count": 20,
   "id": "7799f80c",
   "metadata": {
    "execution": {
     "iopub.execute_input": "2024-02-05T16:55:37.359567Z",
     "iopub.status.busy": "2024-02-05T16:55:37.359271Z",
     "iopub.status.idle": "2024-02-05T16:55:37.368385Z",
     "shell.execute_reply": "2024-02-05T16:55:37.367355Z"
    },
    "papermill": {
     "duration": 0.071193,
     "end_time": "2024-02-05T16:55:37.370169",
     "exception": false,
     "start_time": "2024-02-05T16:55:37.298976",
     "status": "completed"
    },
    "tags": []
   },
   "outputs": [
    {
     "name": "stdout",
     "output_type": "stream",
     "text": [
      "LSTM = 2, Split Data = 0.9, Window = 20\n",
      "\n",
      "----------------- Normalized Error -----------------\n",
      "Mean Absolute Error for prediction : 0.02452235793705378\n",
      "Mean Squared Error for prediction : 0.0009677959674183557\n",
      "Root Mean Squared Error for prediction : 0.03110941927163469\n",
      "\n",
      "----------------- Actual Error -----------------\n",
      "Mean Absolute Error for prediction : 63.175802176339396\n",
      "Mean Squared Error for prediction : 6423.337729087192\n",
      "Root Mean Squared Error for prediction : 80.14572807759122\n"
     ]
    }
   ],
   "source": [
    "def matrices(actual, predicted):\n",
    "    mse = mean_squared_error(actual, predicted)\n",
    "    mae = mean_absolute_error(actual, predicted)\n",
    "    rmse = np.sqrt(mse)\n",
    "    print(\"Mean Absolute Error for prediction :\", mae)\n",
    "    print(\"Mean Squared Error for prediction :\", mse)\n",
    "    print(\"Root Mean Squared Error for prediction :\", rmse)\n",
    "    return mae, mse, rmse\n",
    "\n",
    "print(f\"LSTM = {LSTM_Layer}, Split Data = {SPLIT}, Window = {WINDOW_SIZE}\")\n",
    "print(\"\\n----------------- Normalized Error -----------------\")\n",
    "mae, mse, rmse = matrices(y_test, y_hat)\n",
    "print(\"\\n----------------- Actual Error -----------------\")\n",
    "mae_inverse, mse_inverse, rmse_inverse = matrices(y_test_inverse, y_hat_inverse)"
   ]
  }
 ],
 "metadata": {
  "kaggle": {
   "accelerator": "gpu",
   "dataSources": [],
   "dockerImageVersionId": 30498,
   "isGpuEnabled": true,
   "isInternetEnabled": true,
   "language": "python",
   "sourceType": "notebook"
  },
  "kernelspec": {
   "display_name": "Python 3",
   "language": "python",
   "name": "python3"
  },
  "language_info": {
   "codemirror_mode": {
    "name": "ipython",
    "version": 3
   },
   "file_extension": ".py",
   "mimetype": "text/x-python",
   "name": "python",
   "nbconvert_exporter": "python",
   "pygments_lexer": "ipython3",
   "version": "3.10.10"
  },
  "papermill": {
   "default_parameters": {},
   "duration": 931.076252,
   "end_time": "2024-02-05T16:55:40.590434",
   "environment_variables": {},
   "exception": null,
   "input_path": "__notebook__.ipynb",
   "output_path": "__notebook__.ipynb",
   "parameters": {},
   "start_time": "2024-02-05T16:40:09.514182",
   "version": "2.4.0"
  }
 },
 "nbformat": 4,
 "nbformat_minor": 5
}
