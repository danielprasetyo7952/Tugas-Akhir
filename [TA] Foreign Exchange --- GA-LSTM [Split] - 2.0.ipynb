{
 "cells": [
  {
   "cell_type": "code",
   "execution_count": 1,
   "id": "71e216cc",
   "metadata": {
    "execution": {
     "iopub.execute_input": "2024-02-06T02:11:31.425663Z",
     "iopub.status.busy": "2024-02-06T02:11:31.425403Z",
     "iopub.status.idle": "2024-02-06T02:11:40.644693Z",
     "shell.execute_reply": "2024-02-06T02:11:40.643741Z"
    },
    "papermill": {
     "duration": 9.229407,
     "end_time": "2024-02-06T02:11:40.646999",
     "exception": false,
     "start_time": "2024-02-06T02:11:31.417592",
     "status": "completed"
    },
    "tags": []
   },
   "outputs": [
    {
     "name": "stderr",
     "output_type": "stream",
     "text": [
      "/opt/conda/lib/python3.10/site-packages/tensorflow_io/python/ops/__init__.py:98: UserWarning: unable to load libtensorflow_io_plugins.so: unable to open file: libtensorflow_io_plugins.so, from paths: ['/opt/conda/lib/python3.10/site-packages/tensorflow_io/python/ops/libtensorflow_io_plugins.so']\n",
      "caused by: ['/opt/conda/lib/python3.10/site-packages/tensorflow_io/python/ops/libtensorflow_io_plugins.so: undefined symbol: _ZN3tsl6StatusC1EN10tensorflow5error4CodeESt17basic_string_viewIcSt11char_traitsIcEENS_14SourceLocationE']\n",
      "  warnings.warn(f\"unable to load libtensorflow_io_plugins.so: {e}\")\n",
      "/opt/conda/lib/python3.10/site-packages/tensorflow_io/python/ops/__init__.py:104: UserWarning: file system plugins are not loaded: unable to open file: libtensorflow_io.so, from paths: ['/opt/conda/lib/python3.10/site-packages/tensorflow_io/python/ops/libtensorflow_io.so']\n",
      "caused by: ['/opt/conda/lib/python3.10/site-packages/tensorflow_io/python/ops/libtensorflow_io.so: undefined symbol: _ZTVN10tensorflow13GcsFileSystemE']\n",
      "  warnings.warn(f\"file system plugins are not loaded: {e}\")\n"
     ]
    }
   ],
   "source": [
    "import pandas as pd\n",
    "import numpy as np\n",
    "import tensorflow as tf\n",
    "import matplotlib.pyplot as plt\n",
    "import datetime, pytz\n",
    "\n",
    "from keras.models import Sequential\n",
    "from keras.layers import LSTM, Dense\n",
    "from keras.metrics import RootMeanSquaredError\n",
    "\n",
    "from sklearn.preprocessing import MinMaxScaler\n",
    "from sklearn.metrics import mean_squared_error, mean_absolute_error"
   ]
  },
  {
   "cell_type": "markdown",
   "id": "d5b48888",
   "metadata": {
    "papermill": {
     "duration": 0.006279,
     "end_time": "2024-02-06T02:11:40.660276",
     "exception": false,
     "start_time": "2024-02-06T02:11:40.653997",
     "status": "completed"
    },
    "tags": []
   },
   "source": [
    "## Hyperparameter"
   ]
  },
  {
   "cell_type": "code",
   "execution_count": 2,
   "id": "e1289dcb",
   "metadata": {
    "execution": {
     "iopub.execute_input": "2024-02-06T02:11:40.674480Z",
     "iopub.status.busy": "2024-02-06T02:11:40.673893Z",
     "iopub.status.idle": "2024-02-06T02:11:40.678809Z",
     "shell.execute_reply": "2024-02-06T02:11:40.677990Z"
    },
    "papermill": {
     "duration": 0.014031,
     "end_time": "2024-02-06T02:11:40.680641",
     "exception": false,
     "start_time": "2024-02-06T02:11:40.666610",
     "status": "completed"
    },
    "tags": []
   },
   "outputs": [],
   "source": [
    "# Google Spreadsheet ID\n",
    "SHEET_ID = '1JDNv_mArl-GPIpxuWS5GxgVEwvjXocS1MrXGc6TYs8M'\n",
    "SHEET_NAME = 'EUR/IDR' # USD/IDR, EUR/IDR, SGD/IDR\n",
    "\n",
    "SEQ_LEN = 21 # 6, 11, 21\n",
    "SPLIT = 0.90 # 0.80, 0.90\n",
    "LSTM_Layer = 2 # 1, 2, 3\n",
    "WINDOW_SIZE = SEQ_LEN - 1"
   ]
  },
  {
   "cell_type": "code",
   "execution_count": 3,
   "id": "f7db5de0",
   "metadata": {
    "execution": {
     "iopub.execute_input": "2024-02-06T02:11:40.694623Z",
     "iopub.status.busy": "2024-02-06T02:11:40.694356Z",
     "iopub.status.idle": "2024-02-06T02:11:42.460533Z",
     "shell.execute_reply": "2024-02-06T02:11:42.459303Z"
    },
    "papermill": {
     "duration": 1.775386,
     "end_time": "2024-02-06T02:11:42.462668",
     "exception": false,
     "start_time": "2024-02-06T02:11:40.687282",
     "status": "completed"
    },
    "tags": []
   },
   "outputs": [
    {
     "name": "stdout",
     "output_type": "stream",
     "text": [
      "<class 'pandas.core.frame.DataFrame'>\n",
      "RangeIndex: 1977 entries, 0 to 1976\n",
      "Data columns (total 2 columns):\n",
      " #   Column  Non-Null Count  Dtype         \n",
      "---  ------  --------------  -----         \n",
      " 0   Date    1977 non-null   datetime64[ns]\n",
      " 1   Close   1977 non-null   float64       \n",
      "dtypes: datetime64[ns](1), float64(1)\n",
      "memory usage: 31.0 KB\n"
     ]
    }
   ],
   "source": [
    "url = f'https://docs.google.com/spreadsheets/d/{SHEET_ID}/gviz/tq?tqx=out:csv&sheet={SHEET_NAME}'\n",
    "data = pd.read_csv(url)\n",
    "\n",
    "# Convert Date columns to datetime format\n",
    "data['Date'] = pd.to_datetime(data['Date'], format='%d/%m/%Y %H:%M:%S')\n",
    "data.info()"
   ]
  },
  {
   "cell_type": "markdown",
   "id": "079abfdd",
   "metadata": {
    "papermill": {
     "duration": 0.007578,
     "end_time": "2024-02-06T02:11:42.477067",
     "exception": false,
     "start_time": "2024-02-06T02:11:42.469489",
     "status": "completed"
    },
    "tags": []
   },
   "source": [
    "## Preprocessing"
   ]
  },
  {
   "cell_type": "code",
   "execution_count": 4,
   "id": "066c1c64",
   "metadata": {
    "execution": {
     "iopub.execute_input": "2024-02-06T02:11:42.491563Z",
     "iopub.status.busy": "2024-02-06T02:11:42.491286Z",
     "iopub.status.idle": "2024-02-06T02:11:42.501919Z",
     "shell.execute_reply": "2024-02-06T02:11:42.500937Z"
    },
    "papermill": {
     "duration": 0.020208,
     "end_time": "2024-02-06T02:11:42.503847",
     "exception": false,
     "start_time": "2024-02-06T02:11:42.483639",
     "status": "completed"
    },
    "tags": []
   },
   "outputs": [
    {
     "name": "stderr",
     "output_type": "stream",
     "text": [
      "/tmp/ipykernel_27/2274720815.py:7: SettingWithCopyWarning: \n",
      "A value is trying to be set on a copy of a slice from a DataFrame\n",
      "\n",
      "See the caveats in the documentation: https://pandas.pydata.org/pandas-docs/stable/user_guide/indexing.html#returning-a-view-versus-a-copy\n",
      "  data[data < lower_bound] = lower_bound\n",
      "/tmp/ipykernel_27/2274720815.py:8: SettingWithCopyWarning: \n",
      "A value is trying to be set on a copy of a slice from a DataFrame\n",
      "\n",
      "See the caveats in the documentation: https://pandas.pydata.org/pandas-docs/stable/user_guide/indexing.html#returning-a-view-versus-a-copy\n",
      "  data[data > upper_bound] = upper_bound\n"
     ]
    }
   ],
   "source": [
    "def replace_outliers(data):\n",
    "    Q1 = np.percentile(data, 25)\n",
    "    Q3 = np.percentile(data, 75)\n",
    "    IQR = Q3 - Q1\n",
    "    lower_bound = Q1 - 1.5 * IQR\n",
    "    upper_bound = Q3 + 1.5 * IQR\n",
    "    data[data < lower_bound] = lower_bound\n",
    "    data[data > upper_bound] = upper_bound\n",
    "    return data\n",
    "\n",
    "data['Close'] = replace_outliers(data['Close'])"
   ]
  },
  {
   "cell_type": "code",
   "execution_count": 5,
   "id": "b5db89fc",
   "metadata": {
    "execution": {
     "iopub.execute_input": "2024-02-06T02:11:42.518311Z",
     "iopub.status.busy": "2024-02-06T02:11:42.518052Z",
     "iopub.status.idle": "2024-02-06T02:11:42.703234Z",
     "shell.execute_reply": "2024-02-06T02:11:42.702313Z"
    },
    "papermill": {
     "duration": 0.194616,
     "end_time": "2024-02-06T02:11:42.705296",
     "exception": false,
     "start_time": "2024-02-06T02:11:42.510680",
     "status": "completed"
    },
    "tags": []
   },
   "outputs": [
    {
     "data": {
      "image/png": "[encoded data removed]",
      "text/plain": [
       "<Figure size 640x480 with 1 Axes>"
      ]
     },
     "metadata": {},
     "output_type": "display_data"
    }
   ],
   "source": [
    "# Boxplot for outlier detection\n",
    "plt.boxplot(data['Close'])\n",
    "plt.title(f\"{SHEET_NAME} Boxplot for Outlier Detection\")\n",
    "plt.xlabel(\"Close\")\n",
    "plt.ylabel(\"Values\")\n",
    "plt.show()"
   ]
  },
  {
   "cell_type": "code",
   "execution_count": 6,
   "id": "f25cdb23",
   "metadata": {
    "execution": {
     "iopub.execute_input": "2024-02-06T02:11:42.720566Z",
     "iopub.status.busy": "2024-02-06T02:11:42.720285Z",
     "iopub.status.idle": "2024-02-06T02:11:42.727435Z",
     "shell.execute_reply": "2024-02-06T02:11:42.726584Z"
    },
    "papermill": {
     "duration": 0.016801,
     "end_time": "2024-02-06T02:11:42.729224",
     "exception": false,
     "start_time": "2024-02-06T02:11:42.712423",
     "status": "completed"
    },
    "tags": []
   },
   "outputs": [
    {
     "data": {
      "text/plain": [
       "(1977, 1)"
      ]
     },
     "execution_count": 6,
     "metadata": {},
     "output_type": "execute_result"
    }
   ],
   "source": [
    "scaler = MinMaxScaler()\n",
    "close_price = data.Close.values.reshape(-1, 1)\n",
    "scaled_close = scaler.fit_transform(close_price)\n",
    "scaled_close.shape"
   ]
  },
  {
   "cell_type": "code",
   "execution_count": 7,
   "id": "dfa75203",
   "metadata": {
    "execution": {
     "iopub.execute_input": "2024-02-06T02:11:42.744948Z",
     "iopub.status.busy": "2024-02-06T02:11:42.744685Z",
     "iopub.status.idle": "2024-02-06T02:11:42.754110Z",
     "shell.execute_reply": "2024-02-06T02:11:42.753298Z"
    },
    "papermill": {
     "duration": 0.01937,
     "end_time": "2024-02-06T02:11:42.755991",
     "exception": false,
     "start_time": "2024-02-06T02:11:42.736621",
     "status": "completed"
    },
    "tags": []
   },
   "outputs": [],
   "source": [
    "def to_sequences(data, seq_len):\n",
    "    d = []\n",
    "    for index in range(len(data) - seq_len):\n",
    "        d.append(data[index: index + seq_len])\n",
    "    return np.array(d)\n",
    "\n",
    "def preprocess(data_raw, seq_len, train_split):\n",
    "    data = to_sequences(data_raw, seq_len)\n",
    "    num_train = int(train_split * data.shape[0])\n",
    "    X_train = data[:num_train, :-1, :]\n",
    "    y_train = data[:num_train, -1, :]\n",
    "    X_test = data[num_train:, :-1, :]\n",
    "    y_test = data[num_train:, -1, :]\n",
    "    return X_train, y_train, X_test, y_test\n",
    "\n",
    "X_train, y_train, X_test, y_test = preprocess(scaled_close, SEQ_LEN, train_split = SPLIT)"
   ]
  },
  {
   "cell_type": "markdown",
   "id": "ea0cf907",
   "metadata": {
    "papermill": {
     "duration": 0.006843,
     "end_time": "2024-02-06T02:11:42.769933",
     "exception": false,
     "start_time": "2024-02-06T02:11:42.763090",
     "status": "completed"
    },
    "tags": []
   },
   "source": [
    "## Genetic Algorithm"
   ]
  },
  {
   "cell_type": "code",
   "execution_count": 8,
   "id": "442309a3",
   "metadata": {
    "execution": {
     "iopub.execute_input": "2024-02-06T02:11:42.785087Z",
     "iopub.status.busy": "2024-02-06T02:11:42.784803Z",
     "iopub.status.idle": "2024-02-06T02:11:42.789957Z",
     "shell.execute_reply": "2024-02-06T02:11:42.789205Z"
    },
    "papermill": {
     "duration": 0.014669,
     "end_time": "2024-02-06T02:11:42.791687",
     "exception": false,
     "start_time": "2024-02-06T02:11:42.777018",
     "status": "completed"
    },
    "tags": []
   },
   "outputs": [],
   "source": [
    "def decimal_to_binary(chromosome: list):\n",
    "    binary_string = ''.join([bin(x)[2:].zfill(8) for x in chromosome])\n",
    "    return binary_string\n",
    "\n",
    "def binary_to_decimal(binary_string: str):\n",
    "    decimal_array = [int(binary, 2) for binary in [binary_string[i:i+8] for i in range(0, len(binary_string), 8)]]\n",
    "    return decimal_array"
   ]
  },
  {
   "cell_type": "code",
   "execution_count": 9,
   "id": "ba7cb424",
   "metadata": {
    "execution": {
     "iopub.execute_input": "2024-02-06T02:11:42.807177Z",
     "iopub.status.busy": "2024-02-06T02:11:42.806906Z",
     "iopub.status.idle": "2024-02-06T02:11:42.824655Z",
     "shell.execute_reply": "2024-02-06T02:11:42.823869Z"
    },
    "papermill": {
     "duration": 0.027787,
     "end_time": "2024-02-06T02:11:42.826608",
     "exception": false,
     "start_time": "2024-02-06T02:11:42.798821",
     "status": "completed"
    },
    "tags": []
   },
   "outputs": [],
   "source": [
    "# Genetic Algorithm\n",
    "def genetic_algorithm(generations, mutation_rate):\n",
    "    print(f\"Inizialized Population...\")\n",
    "    population = np.random.randint(1, high=251, size=(10, 3))\n",
    "    fitness_scores = np.array([fitness_function(chromosome) for chromosome in population])\n",
    "    max_fitness_each_gen = []\n",
    "    \n",
    "    for generation in range(generations):\n",
    "        print(f\"Generation - {generation + 1}\")\n",
    "        max_fitness_each_gen.append(np.max(fitness_scores))\n",
    "        \n",
    "        chromosome_1 = selection(population, fitness_scores)\n",
    "        chromosome_2 = selection(population, fitness_scores)\n",
    "        \n",
    "        if generation % mutation_rate == 0:\n",
    "            chromosome_1 = mutate(chromosome_1)\n",
    "            chromosome_2 = mutate(chromosome_2)\n",
    "        else:\n",
    "            chromosome_1, chromosome_2 = crossover(chromosome_1, chromosome_2)\n",
    "\n",
    "        fitness_score_1 = fitness_function(chromosome_1)\n",
    "        fitness_score_2 = fitness_function(chromosome_2)\n",
    "        \n",
    "        worst_index = np.argmin(fitness_scores)\n",
    "        worst_fitness = fitness_scores[worst_index]\n",
    "\n",
    "        if fitness_score_1 > worst_fitness:\n",
    "            population[worst_index] = chromosome_1\n",
    "            fitness_scores[worst_index] = fitness_score_1\n",
    "            worst_index = np.argmin(fitness_scores)\n",
    "            worst_fitness = fitness_scores[worst_index]\n",
    "\n",
    "        if fitness_score_2 > worst_fitness:\n",
    "            population[worst_index] = chromosome_2\n",
    "            fitness_scores[worst_index] = fitness_score_2\n",
    "        \n",
    "        # Release some memory\n",
    "        del chromosome_1, chromosome_2\n",
    "        del fitness_score_1, fitness_score_2\n",
    "        del worst_index, worst_fitness\n",
    "            \n",
    "    best_chromosome = population[np.argmax(fitness_scores)]\n",
    "    best_fitness = np.max(fitness_scores)\n",
    "    \n",
    "    return best_chromosome, best_fitness, max_fitness_each_gen\n",
    "\n",
    "# Selection (Tournament selection)\n",
    "def selection(population, fitness_scores, tournament_size=3):\n",
    "    indices = np.random.randint(len(population), size=tournament_size)\n",
    "    tournament = population[indices]\n",
    "    tournament_fitness = fitness_scores[indices]\n",
    "    return tournament[np.argmax(tournament_fitness)]\n",
    "\n",
    "# Crossover (Single-point crossover)\n",
    "def crossover(parent_1: list, parent_2: list):\n",
    "    parent_1 = decimal_to_binary(parent_1)\n",
    "    parent_2 = decimal_to_binary(parent_2)\n",
    "    \n",
    "    crossover_point = np.random.randint(1, len(parent_1))\n",
    "    offspring_1 = parent_1[:crossover_point] + parent_2[crossover_point:]\n",
    "    offspring_2 = parent_2[:crossover_point] + parent_1[crossover_point:]\n",
    "    \n",
    "    offspring_1 = binary_to_decimal(offspring_1)\n",
    "    offspring_2 = binary_to_decimal(offspring_2)\n",
    "    return offspring_1, offspring_2\n",
    "\n",
    "# Mutation (Swap Mutation)\n",
    "def mutate(chromosome: list):\n",
    "    chromosome = decimal_to_binary(chromosome)\n",
    "    \n",
    "    chromosome_list = list(chromosome)\n",
    "    i = np.random.randint(len(chromosome_list), size=2)\n",
    "    chromosome_list[i[0]], chromosome_list[i[1]] = chromosome_list[i[1]], chromosome_list[i[0]]\n",
    "    \n",
    "    chromosome_list = ''.join(chromosome_list)\n",
    "    chromosome = binary_to_decimal(chromosome_list)\n",
    "    return chromosome\n",
    "\n",
    "# Fitness Function\n",
    "def fitness_function(chromosome: list):\n",
    "    lstm_units = [int(chromosome[i]) or default for i, default in enumerate([128, 64, 32])]\n",
    "\n",
    "    # Build the LSTM model\n",
    "    tf.keras.backend.clear_session()\n",
    "    model = Sequential()\n",
    "    for i, units in enumerate(lstm_units[:LSTM_Layer]):\n",
    "        model.add(LSTM(units, return_sequences=(i < LSTM_Layer - 1), input_shape=(WINDOW_SIZE, 1)))\n",
    "    model.add(Dense(1))\n",
    "    \n",
    "    # Compile and train the model\n",
    "    model.compile(loss='mean_squared_error',\n",
    "                  optimizer='adam')\n",
    "    model.fit(X_train, y_train,\n",
    "              epochs=10,\n",
    "              batch_size=32,\n",
    "              verbose=0,\n",
    "              validation_split=0.1)\n",
    "\n",
    "    # Evaluate the model\n",
    "    loss = model.evaluate(X_test, y_test)\n",
    "\n",
    "    # Return the negative value of the loss as the fitness score\n",
    "    return -loss"
   ]
  },
  {
   "cell_type": "code",
   "execution_count": 10,
   "id": "a8a06941",
   "metadata": {
    "execution": {
     "iopub.execute_input": "2024-02-06T02:11:42.842104Z",
     "iopub.status.busy": "2024-02-06T02:11:42.841825Z",
     "iopub.status.idle": "2024-02-06T02:11:42.847169Z",
     "shell.execute_reply": "2024-02-06T02:11:42.846388Z"
    },
    "papermill": {
     "duration": 0.015015,
     "end_time": "2024-02-06T02:11:42.848953",
     "exception": false,
     "start_time": "2024-02-06T02:11:42.833938",
     "status": "completed"
    },
    "tags": []
   },
   "outputs": [],
   "source": [
    "import typing\n",
    "from datetime import datetime\n",
    "\n",
    "def timer(start_time: datetime = None) -> \"typing.Union[datetime.datetime, str]\":\n",
    "    if not start_time:\n",
    "        start_time = datetime.now()\n",
    "        return start_time\n",
    "    elif start_time:\n",
    "        thour, temp_sec = divmod((datetime.now() - start_time).total_seconds(), 3600)\n",
    "        tmin, tsec = divmod(temp_sec, 60)\n",
    "        return \"%i hours %i minutes and %s seconds.\" % (\n",
    "            thour,\n",
    "            tmin,\n",
    "            round(tsec, 2),\n",
    "        )"
   ]
  },
  {
   "cell_type": "code",
   "execution_count": 11,
   "id": "ccc359fa",
   "metadata": {
    "execution": {
     "iopub.execute_input": "2024-02-06T02:11:42.864273Z",
     "iopub.status.busy": "2024-02-06T02:11:42.863991Z",
     "iopub.status.idle": "2024-02-06T02:26:21.708737Z",
     "shell.execute_reply": "2024-02-06T02:26:21.707709Z"
    },
    "papermill": {
     "duration": 878.854595,
     "end_time": "2024-02-06T02:26:21.710823",
     "exception": false,
     "start_time": "2024-02-06T02:11:42.856228",
     "status": "completed"
    },
    "tags": []
   },
   "outputs": [
    {
     "name": "stdout",
     "output_type": "stream",
     "text": [
      "Inizialized Population...\n",
      "7/7 [==============================] - 0s 4ms/step - loss: 8.2816e-04\n",
      "7/7 [==============================] - 0s 3ms/step - loss: 8.8374e-04\n",
      "7/7 [==============================] - 0s 3ms/step - loss: 8.5013e-04\n",
      "7/7 [==============================] - 0s 3ms/step - loss: 9.9863e-04\n",
      "7/7 [==============================] - 0s 3ms/step - loss: 8.8661e-04\n",
      "7/7 [==============================] - 0s 3ms/step - loss: 7.8643e-04\n",
      "7/7 [==============================] - 0s 3ms/step - loss: 7.9801e-04\n",
      "7/7 [==============================] - 0s 4ms/step - loss: 8.3689e-04\n",
      "7/7 [==============================] - 0s 4ms/step - loss: 9.7690e-04\n",
      "7/7 [==============================] - 0s 3ms/step - loss: 0.0014\n",
      "Generation - 1\n",
      "7/7 [==============================] - 0s 3ms/step - loss: 7.9391e-04\n",
      "7/7 [==============================] - 0s 4ms/step - loss: 8.3150e-04\n",
      "Generation - 2\n",
      "7/7 [==============================] - 0s 3ms/step - loss: 8.6721e-04\n",
      "7/7 [==============================] - 0s 3ms/step - loss: 0.0010\n",
      "Generation - 3\n",
      "7/7 [==============================] - 0s 3ms/step - loss: 8.1927e-04\n",
      "7/7 [==============================] - 0s 4ms/step - loss: 0.0011\n",
      "Generation - 4\n",
      "7/7 [==============================] - 0s 3ms/step - loss: 9.6549e-04\n",
      "7/7 [==============================] - 0s 4ms/step - loss: 7.7257e-04\n",
      "Generation - 5\n",
      "7/7 [==============================] - 0s 3ms/step - loss: 8.0554e-04\n",
      "7/7 [==============================] - 0s 4ms/step - loss: 0.0011\n",
      "Generation - 6\n",
      "7/7 [==============================] - 0s 3ms/step - loss: 0.0011\n",
      "7/7 [==============================] - 0s 3ms/step - loss: 7.8018e-04\n",
      "Generation - 7\n",
      "7/7 [==============================] - 0s 4ms/step - loss: 9.6757e-04\n",
      "7/7 [==============================] - 0s 4ms/step - loss: 9.3140e-04\n",
      "Generation - 8\n",
      "7/7 [==============================] - 0s 4ms/step - loss: 0.0010\n",
      "7/7 [==============================] - 0s 3ms/step - loss: 0.0011\n",
      "Generation - 9\n",
      "7/7 [==============================] - 0s 3ms/step - loss: 7.7931e-04\n",
      "7/7 [==============================] - 0s 4ms/step - loss: 7.8320e-04\n",
      "Generation - 10\n",
      "7/7 [==============================] - 0s 3ms/step - loss: 8.0061e-04\n",
      "7/7 [==============================] - 0s 3ms/step - loss: 7.8475e-04\n",
      "Generation - 11\n",
      "7/7 [==============================] - 0s 3ms/step - loss: 8.0656e-04\n",
      "7/7 [==============================] - 0s 4ms/step - loss: 7.9013e-04\n",
      "Generation - 12\n",
      "7/7 [==============================] - 0s 3ms/step - loss: 9.4293e-04\n",
      "7/7 [==============================] - 0s 3ms/step - loss: 7.8592e-04\n",
      "Generation - 13\n",
      "7/7 [==============================] - 0s 3ms/step - loss: 7.9725e-04\n",
      "7/7 [==============================] - 0s 4ms/step - loss: 0.0010\n",
      "Generation - 14\n",
      "7/7 [==============================] - 0s 3ms/step - loss: 7.8038e-04\n",
      "7/7 [==============================] - 0s 4ms/step - loss: 0.0011\n",
      "Generation - 15\n",
      "7/7 [==============================] - 0s 3ms/step - loss: 8.8380e-04\n",
      "7/7 [==============================] - 0s 4ms/step - loss: 8.7656e-04\n",
      "Generation - 16\n",
      "7/7 [==============================] - 0s 4ms/step - loss: 0.0010\n",
      "7/7 [==============================] - 0s 3ms/step - loss: 8.3748e-04\n",
      "Generation - 17\n",
      "7/7 [==============================] - 0s 3ms/step - loss: 0.0013\n",
      "7/7 [==============================] - 0s 4ms/step - loss: 7.8950e-04\n",
      "Generation - 18\n",
      "7/7 [==============================] - 0s 4ms/step - loss: 7.7263e-04\n",
      "7/7 [==============================] - 0s 4ms/step - loss: 7.6359e-04\n",
      "Generation - 19\n",
      "7/7 [==============================] - 0s 3ms/step - loss: 8.2618e-04\n",
      "7/7 [==============================] - 0s 4ms/step - loss: 8.5789e-04\n",
      "Generation - 20\n",
      "7/7 [==============================] - 0s 3ms/step - loss: 0.0010\n",
      "7/7 [==============================] - 0s 3ms/step - loss: 7.7944e-04\n",
      "Generation - 21\n",
      "7/7 [==============================] - 0s 3ms/step - loss: 8.1583e-04\n",
      "7/7 [==============================] - 0s 4ms/step - loss: 7.6460e-04\n",
      "Generation - 22\n",
      "7/7 [==============================] - 0s 3ms/step - loss: 7.6878e-04\n",
      "7/7 [==============================] - 0s 3ms/step - loss: 7.8031e-04\n",
      "Generation - 23\n",
      "7/7 [==============================] - 0s 3ms/step - loss: 8.0102e-04\n",
      "7/7 [==============================] - 0s 4ms/step - loss: 0.0011\n",
      "Generation - 24\n",
      "7/7 [==============================] - 0s 3ms/step - loss: 7.6010e-04\n",
      "7/7 [==============================] - 0s 3ms/step - loss: 8.5179e-04\n",
      "Generation - 25\n",
      "7/7 [==============================] - 0s 3ms/step - loss: 7.6276e-04\n",
      "7/7 [==============================] - 0s 4ms/step - loss: 8.9247e-04\n",
      "Generation - 26\n",
      "7/7 [==============================] - 0s 4ms/step - loss: 0.0010\n",
      "7/7 [==============================] - 0s 3ms/step - loss: 8.3799e-04\n",
      "Generation - 27\n",
      "7/7 [==============================] - 0s 3ms/step - loss: 7.9020e-04\n",
      "7/7 [==============================] - 0s 4ms/step - loss: 7.7856e-04\n",
      "Generation - 28\n",
      "7/7 [==============================] - 0s 3ms/step - loss: 8.2331e-04\n",
      "7/7 [==============================] - 0s 3ms/step - loss: 8.8779e-04\n",
      "Generation - 29\n",
      "7/7 [==============================] - 0s 4ms/step - loss: 7.7955e-04\n",
      "7/7 [==============================] - 0s 4ms/step - loss: 0.0015\n",
      "Generation - 30\n",
      "7/7 [==============================] - 0s 4ms/step - loss: 7.7514e-04\n",
      "7/7 [==============================] - 0s 3ms/step - loss: 9.0370e-04\n",
      "Generation - 31\n",
      "7/7 [==============================] - 0s 3ms/step - loss: 9.0149e-04\n",
      "7/7 [==============================] - 0s 4ms/step - loss: 8.5011e-04\n",
      "Generation - 32\n",
      "7/7 [==============================] - 0s 3ms/step - loss: 0.0013\n",
      "7/7 [==============================] - 0s 3ms/step - loss: 7.9332e-04\n",
      "Generation - 33\n",
      "7/7 [==============================] - 0s 4ms/step - loss: 7.9384e-04\n",
      "7/7 [==============================] - 0s 4ms/step - loss: 7.7510e-04\n",
      "Generation - 34\n",
      "7/7 [==============================] - 0s 3ms/step - loss: 7.9615e-04\n",
      "7/7 [==============================] - 0s 3ms/step - loss: 8.4786e-04\n",
      "Generation - 35\n",
      "7/7 [==============================] - 0s 3ms/step - loss: 8.6614e-04\n",
      "7/7 [==============================] - 0s 4ms/step - loss: 0.0012\n",
      "Generation - 36\n",
      "7/7 [==============================] - 0s 3ms/step - loss: 8.5138e-04\n",
      "7/7 [==============================] - 0s 3ms/step - loss: 8.8114e-04\n",
      "Generation - 37\n",
      "7/7 [==============================] - 0s 3ms/step - loss: 7.8996e-04\n",
      "7/7 [==============================] - 0s 4ms/step - loss: 7.8128e-04\n",
      "Generation - 38\n",
      "7/7 [==============================] - 0s 3ms/step - loss: 8.6128e-04\n",
      "7/7 [==============================] - 0s 3ms/step - loss: 8.5627e-04\n",
      "Generation - 39\n",
      "7/7 [==============================] - 0s 4ms/step - loss: 0.0013\n",
      "7/7 [==============================] - 0s 4ms/step - loss: 8.2669e-04\n",
      "Generation - 40\n",
      "7/7 [==============================] - 0s 3ms/step - loss: 0.0013\n",
      "7/7 [==============================] - 0s 3ms/step - loss: 8.3366e-04\n",
      "Generation - 41\n",
      "7/7 [==============================] - 0s 3ms/step - loss: 8.0591e-04\n",
      "7/7 [==============================] - 0s 4ms/step - loss: 7.9532e-04\n",
      "Generation - 42\n",
      "7/7 [==============================] - 0s 3ms/step - loss: 0.0010\n",
      "7/7 [==============================] - 0s 3ms/step - loss: 9.9896e-04\n",
      "Generation - 43\n",
      "7/7 [==============================] - 0s 3ms/step - loss: 8.5086e-04\n",
      "7/7 [==============================] - 0s 4ms/step - loss: 8.8306e-04\n",
      "Generation - 44\n",
      "7/7 [==============================] - 0s 4ms/step - loss: 7.7348e-04\n",
      "7/7 [==============================] - 0s 3ms/step - loss: 8.1230e-04\n",
      "Generation - 45\n",
      "7/7 [==============================] - 0s 3ms/step - loss: 8.5781e-04\n",
      "7/7 [==============================] - 0s 4ms/step - loss: 7.7678e-04\n",
      "Generation - 46\n",
      "7/7 [==============================] - 0s 3ms/step - loss: 7.9748e-04\n",
      "7/7 [==============================] - 0s 3ms/step - loss: 7.6980e-04\n",
      "Generation - 47\n",
      "7/7 [==============================] - 0s 4ms/step - loss: 0.0014\n",
      "7/7 [==============================] - 0s 4ms/step - loss: 8.8237e-04\n",
      "Generation - 48\n",
      "7/7 [==============================] - 0s 3ms/step - loss: 0.0011\n",
      "7/7 [==============================] - 0s 4ms/step - loss: 0.0010\n",
      "Generation - 49\n",
      "7/7 [==============================] - 0s 3ms/step - loss: 0.0015\n",
      "7/7 [==============================] - 0s 4ms/step - loss: 8.1607e-04\n",
      "Generation - 50\n",
      "7/7 [==============================] - 0s 3ms/step - loss: 7.7491e-04\n",
      "7/7 [==============================] - 0s 4ms/step - loss: 8.8223e-04\n"
     ]
    }
   ],
   "source": [
    "# Do not increase this value\n",
    "generations = 50\n",
    "mutation_rate = 5\n",
    "\n",
    "time = timer(None)\n",
    "best_chromosome, best_fitness, max_fitness_each_gen = genetic_algorithm(generations, mutation_rate)\n",
    "time = timer(time)"
   ]
  },
  {
   "cell_type": "code",
   "execution_count": 12,
   "id": "1d702aa9",
   "metadata": {
    "execution": {
     "iopub.execute_input": "2024-02-06T02:26:21.766113Z",
     "iopub.status.busy": "2024-02-06T02:26:21.765718Z",
     "iopub.status.idle": "2024-02-06T02:26:21.771070Z",
     "shell.execute_reply": "2024-02-06T02:26:21.770201Z"
    },
    "papermill": {
     "duration": 0.03496,
     "end_time": "2024-02-06T02:26:21.772934",
     "exception": false,
     "start_time": "2024-02-06T02:26:21.737974",
     "status": "completed"
    },
    "tags": []
   },
   "outputs": [
    {
     "name": "stdout",
     "output_type": "stream",
     "text": [
      "Best Chromosome: [156 115 209]\n",
      "Best Fitness: -0.0007600974640809\n",
      "Time Taken: 0 hours 14 minutes and 38.84 seconds.\n"
     ]
    }
   ],
   "source": [
    "print(\"Best Chromosome:\", best_chromosome)\n",
    "print(\"Best Fitness:\", best_fitness)\n",
    "print(\"Time Taken:\", time)"
   ]
  },
  {
   "cell_type": "code",
   "execution_count": 13,
   "id": "b2523ab2",
   "metadata": {
    "execution": {
     "iopub.execute_input": "2024-02-06T02:26:21.827848Z",
     "iopub.status.busy": "2024-02-06T02:26:21.827150Z",
     "iopub.status.idle": "2024-02-06T02:26:21.833680Z",
     "shell.execute_reply": "2024-02-06T02:26:21.832903Z"
    },
    "papermill": {
     "duration": 0.035987,
     "end_time": "2024-02-06T02:26:21.835453",
     "exception": false,
     "start_time": "2024-02-06T02:26:21.799466",
     "status": "completed"
    },
    "tags": []
   },
   "outputs": [
    {
     "data": {
      "text/plain": [
       "[-0.0007864320650696754,\n",
       " -0.0007864320650696754,\n",
       " -0.0007864320650696754,\n",
       " -0.0007864320650696754,\n",
       " -0.0007725728210061789,\n",
       " -0.0007725728210061789,\n",
       " -0.0007725728210061789,\n",
       " -0.0007725728210061789,\n",
       " -0.0007725728210061789,\n",
       " -0.0007725728210061789,\n",
       " -0.0007725728210061789,\n",
       " -0.0007725728210061789,\n",
       " -0.0007725728210061789,\n",
       " -0.0007725728210061789,\n",
       " -0.0007725728210061789,\n",
       " -0.0007725728210061789,\n",
       " -0.0007725728210061789,\n",
       " -0.0007725728210061789,\n",
       " -0.0007635888177901506,\n",
       " -0.0007635888177901506,\n",
       " -0.0007635888177901506,\n",
       " -0.0007635888177901506,\n",
       " -0.0007635888177901506,\n",
       " -0.0007635888177901506,\n",
       " -0.0007600974640809,\n",
       " -0.0007600974640809,\n",
       " -0.0007600974640809,\n",
       " -0.0007600974640809,\n",
       " -0.0007600974640809,\n",
       " -0.0007600974640809,\n",
       " -0.0007600974640809,\n",
       " -0.0007600974640809,\n",
       " -0.0007600974640809,\n",
       " -0.0007600974640809,\n",
       " -0.0007600974640809,\n",
       " -0.0007600974640809,\n",
       " -0.0007600974640809,\n",
       " -0.0007600974640809,\n",
       " -0.0007600974640809,\n",
       " -0.0007600974640809,\n",
       " -0.0007600974640809,\n",
       " -0.0007600974640809,\n",
       " -0.0007600974640809,\n",
       " -0.0007600974640809,\n",
       " -0.0007600974640809,\n",
       " -0.0007600974640809,\n",
       " -0.0007600974640809,\n",
       " -0.0007600974640809,\n",
       " -0.0007600974640809,\n",
       " -0.0007600974640809]"
      ]
     },
     "execution_count": 13,
     "metadata": {},
     "output_type": "execute_result"
    }
   ],
   "source": [
    "max_fitness_each_gen"
   ]
  },
  {
   "cell_type": "markdown",
   "id": "f67720a5",
   "metadata": {
    "papermill": {
     "duration": 0.026997,
     "end_time": "2024-02-06T02:26:21.889697",
     "exception": false,
     "start_time": "2024-02-06T02:26:21.862700",
     "status": "completed"
    },
    "tags": []
   },
   "source": [
    "## Re-Training Model with Best Parameter"
   ]
  },
  {
   "cell_type": "code",
   "execution_count": 14,
   "id": "82c73087",
   "metadata": {
    "execution": {
     "iopub.execute_input": "2024-02-06T02:26:21.943971Z",
     "iopub.status.busy": "2024-02-06T02:26:21.943698Z",
     "iopub.status.idle": "2024-02-06T02:26:22.439322Z",
     "shell.execute_reply": "2024-02-06T02:26:22.438452Z"
    },
    "papermill": {
     "duration": 0.527462,
     "end_time": "2024-02-06T02:26:22.443779",
     "exception": false,
     "start_time": "2024-02-06T02:26:21.916317",
     "status": "completed"
    },
    "tags": []
   },
   "outputs": [
    {
     "name": "stdout",
     "output_type": "stream",
     "text": [
      "Model: \"sequential_1\"\n",
      "_________________________________________________________________\n",
      " Layer (type)                Output Shape              Param #   \n",
      "=================================================================\n",
      " lstm_2 (LSTM)               (None, 20, 156)           98592     \n",
      "                                                                 \n",
      " lstm_3 (LSTM)               (None, 115)               125120    \n",
      "                                                                 \n",
      " dense_1 (Dense)             (None, 1)                 116       \n",
      "                                                                 \n",
      "=================================================================\n",
      "Total params: 223,828\n",
      "Trainable params: 223,828\n",
      "Non-trainable params: 0\n",
      "_________________________________________________________________\n"
     ]
    }
   ],
   "source": [
    "model = Sequential()\n",
    "for i, units in enumerate(best_chromosome[:LSTM_Layer]):\n",
    "    model.add(LSTM(units, return_sequences=(i < LSTM_Layer - 1), input_shape=(WINDOW_SIZE, 1)))\n",
    "model.add(Dense(1))\n",
    "\n",
    "model.summary()"
   ]
  },
  {
   "cell_type": "code",
   "execution_count": 15,
   "id": "9f4a605a",
   "metadata": {
    "execution": {
     "iopub.execute_input": "2024-02-06T02:26:22.500597Z",
     "iopub.status.busy": "2024-02-06T02:26:22.500327Z",
     "iopub.status.idle": "2024-02-06T02:26:45.641661Z",
     "shell.execute_reply": "2024-02-06T02:26:45.640877Z"
    },
    "papermill": {
     "duration": 23.171962,
     "end_time": "2024-02-06T02:26:45.643674",
     "exception": false,
     "start_time": "2024-02-06T02:26:22.471712",
     "status": "completed"
    },
    "tags": []
   },
   "outputs": [
    {
     "name": "stdout",
     "output_type": "stream",
     "text": [
      "Epoch 1/50\n",
      "50/50 [==============================] - 5s 22ms/step - loss: 0.0163 - mae: 0.0823 - root_mean_squared_error: 0.1278 - val_loss: 0.0038 - val_mae: 0.0504 - val_root_mean_squared_error: 0.0618\n",
      "Epoch 2/50\n",
      "50/50 [==============================] - 0s 7ms/step - loss: 0.0025 - mae: 0.0351 - root_mean_squared_error: 0.0500 - val_loss: 0.0025 - val_mae: 0.0395 - val_root_mean_squared_error: 0.0503\n",
      "Epoch 3/50\n",
      "50/50 [==============================] - 0s 7ms/step - loss: 0.0023 - mae: 0.0330 - root_mean_squared_error: 0.0476 - val_loss: 0.0024 - val_mae: 0.0385 - val_root_mean_squared_error: 0.0488\n",
      "Epoch 4/50\n",
      "50/50 [==============================] - 0s 8ms/step - loss: 0.0020 - mae: 0.0311 - root_mean_squared_error: 0.0447 - val_loss: 0.0022 - val_mae: 0.0370 - val_root_mean_squared_error: 0.0471\n",
      "Epoch 5/50\n",
      "50/50 [==============================] - 0s 7ms/step - loss: 0.0022 - mae: 0.0339 - root_mean_squared_error: 0.0469 - val_loss: 0.0022 - val_mae: 0.0374 - val_root_mean_squared_error: 0.0471\n",
      "Epoch 6/50\n",
      "50/50 [==============================] - 0s 7ms/step - loss: 0.0018 - mae: 0.0293 - root_mean_squared_error: 0.0421 - val_loss: 0.0021 - val_mae: 0.0365 - val_root_mean_squared_error: 0.0460\n",
      "Epoch 7/50\n",
      "50/50 [==============================] - 0s 7ms/step - loss: 0.0015 - mae: 0.0266 - root_mean_squared_error: 0.0387 - val_loss: 0.0021 - val_mae: 0.0366 - val_root_mean_squared_error: 0.0458\n",
      "Epoch 8/50\n",
      "50/50 [==============================] - 0s 7ms/step - loss: 0.0015 - mae: 0.0263 - root_mean_squared_error: 0.0386 - val_loss: 0.0020 - val_mae: 0.0354 - val_root_mean_squared_error: 0.0447\n",
      "Epoch 9/50\n",
      "50/50 [==============================] - 0s 7ms/step - loss: 0.0014 - mae: 0.0250 - root_mean_squared_error: 0.0372 - val_loss: 0.0019 - val_mae: 0.0344 - val_root_mean_squared_error: 0.0439\n",
      "Epoch 10/50\n",
      "50/50 [==============================] - 0s 7ms/step - loss: 0.0014 - mae: 0.0252 - root_mean_squared_error: 0.0371 - val_loss: 0.0019 - val_mae: 0.0340 - val_root_mean_squared_error: 0.0435\n",
      "Epoch 11/50\n",
      "50/50 [==============================] - 0s 7ms/step - loss: 0.0013 - mae: 0.0240 - root_mean_squared_error: 0.0361 - val_loss: 0.0018 - val_mae: 0.0320 - val_root_mean_squared_error: 0.0421\n",
      "Epoch 12/50\n",
      "50/50 [==============================] - 0s 7ms/step - loss: 0.0014 - mae: 0.0261 - root_mean_squared_error: 0.0379 - val_loss: 0.0020 - val_mae: 0.0364 - val_root_mean_squared_error: 0.0450\n",
      "Epoch 13/50\n",
      "50/50 [==============================] - 0s 7ms/step - loss: 0.0014 - mae: 0.0255 - root_mean_squared_error: 0.0372 - val_loss: 0.0018 - val_mae: 0.0328 - val_root_mean_squared_error: 0.0422\n",
      "Epoch 14/50\n",
      "50/50 [==============================] - 0s 7ms/step - loss: 0.0012 - mae: 0.0231 - root_mean_squared_error: 0.0353 - val_loss: 0.0019 - val_mae: 0.0350 - val_root_mean_squared_error: 0.0436\n",
      "Epoch 15/50\n",
      "50/50 [==============================] - 0s 7ms/step - loss: 0.0012 - mae: 0.0232 - root_mean_squared_error: 0.0352 - val_loss: 0.0017 - val_mae: 0.0303 - val_root_mean_squared_error: 0.0408\n",
      "Epoch 16/50\n",
      "50/50 [==============================] - 0s 7ms/step - loss: 0.0012 - mae: 0.0224 - root_mean_squared_error: 0.0347 - val_loss: 0.0019 - val_mae: 0.0343 - val_root_mean_squared_error: 0.0430\n",
      "Epoch 17/50\n",
      "50/50 [==============================] - 0s 7ms/step - loss: 0.0013 - mae: 0.0235 - root_mean_squared_error: 0.0354 - val_loss: 0.0017 - val_mae: 0.0316 - val_root_mean_squared_error: 0.0409\n",
      "Epoch 18/50\n",
      "50/50 [==============================] - 0s 7ms/step - loss: 0.0013 - mae: 0.0237 - root_mean_squared_error: 0.0356 - val_loss: 0.0016 - val_mae: 0.0294 - val_root_mean_squared_error: 0.0401\n",
      "Epoch 19/50\n",
      "50/50 [==============================] - 0s 7ms/step - loss: 0.0013 - mae: 0.0240 - root_mean_squared_error: 0.0357 - val_loss: 0.0016 - val_mae: 0.0309 - val_root_mean_squared_error: 0.0402\n",
      "Epoch 20/50\n",
      "50/50 [==============================] - 0s 7ms/step - loss: 0.0012 - mae: 0.0227 - root_mean_squared_error: 0.0343 - val_loss: 0.0016 - val_mae: 0.0298 - val_root_mean_squared_error: 0.0397\n",
      "Epoch 21/50\n",
      "50/50 [==============================] - 0s 7ms/step - loss: 0.0011 - mae: 0.0214 - root_mean_squared_error: 0.0334 - val_loss: 0.0015 - val_mae: 0.0292 - val_root_mean_squared_error: 0.0392\n",
      "Epoch 22/50\n",
      "50/50 [==============================] - 0s 7ms/step - loss: 0.0012 - mae: 0.0216 - root_mean_squared_error: 0.0340 - val_loss: 0.0016 - val_mae: 0.0314 - val_root_mean_squared_error: 0.0404\n",
      "Epoch 23/50\n",
      "50/50 [==============================] - 0s 7ms/step - loss: 0.0011 - mae: 0.0216 - root_mean_squared_error: 0.0338 - val_loss: 0.0016 - val_mae: 0.0302 - val_root_mean_squared_error: 0.0395\n",
      "Epoch 24/50\n",
      "50/50 [==============================] - 0s 7ms/step - loss: 0.0012 - mae: 0.0222 - root_mean_squared_error: 0.0341 - val_loss: 0.0015 - val_mae: 0.0281 - val_root_mean_squared_error: 0.0390\n",
      "Epoch 25/50\n",
      "50/50 [==============================] - 0s 7ms/step - loss: 0.0012 - mae: 0.0231 - root_mean_squared_error: 0.0347 - val_loss: 0.0016 - val_mae: 0.0286 - val_root_mean_squared_error: 0.0401\n",
      "Epoch 26/50\n",
      "50/50 [==============================] - 0s 7ms/step - loss: 0.0011 - mae: 0.0218 - root_mean_squared_error: 0.0338 - val_loss: 0.0015 - val_mae: 0.0277 - val_root_mean_squared_error: 0.0385\n",
      "Epoch 27/50\n",
      "50/50 [==============================] - 0s 7ms/step - loss: 0.0012 - mae: 0.0224 - root_mean_squared_error: 0.0344 - val_loss: 0.0015 - val_mae: 0.0295 - val_root_mean_squared_error: 0.0389\n",
      "Epoch 28/50\n",
      "50/50 [==============================] - 0s 7ms/step - loss: 0.0011 - mae: 0.0205 - root_mean_squared_error: 0.0330 - val_loss: 0.0015 - val_mae: 0.0275 - val_root_mean_squared_error: 0.0384\n",
      "Epoch 29/50\n",
      "50/50 [==============================] - 0s 7ms/step - loss: 0.0011 - mae: 0.0207 - root_mean_squared_error: 0.0330 - val_loss: 0.0015 - val_mae: 0.0273 - val_root_mean_squared_error: 0.0385\n",
      "Epoch 30/50\n",
      "50/50 [==============================] - 0s 7ms/step - loss: 0.0012 - mae: 0.0232 - root_mean_squared_error: 0.0348 - val_loss: 0.0016 - val_mae: 0.0280 - val_root_mean_squared_error: 0.0396\n",
      "Epoch 31/50\n",
      "50/50 [==============================] - 0s 8ms/step - loss: 0.0011 - mae: 0.0210 - root_mean_squared_error: 0.0335 - val_loss: 0.0014 - val_mae: 0.0274 - val_root_mean_squared_error: 0.0378\n",
      "Epoch 32/50\n",
      "50/50 [==============================] - 0s 7ms/step - loss: 0.0010 - mae: 0.0194 - root_mean_squared_error: 0.0322 - val_loss: 0.0015 - val_mae: 0.0287 - val_root_mean_squared_error: 0.0382\n",
      "Epoch 33/50\n",
      "50/50 [==============================] - 0s 7ms/step - loss: 0.0011 - mae: 0.0207 - root_mean_squared_error: 0.0331 - val_loss: 0.0014 - val_mae: 0.0269 - val_root_mean_squared_error: 0.0376\n",
      "Epoch 34/50\n",
      "50/50 [==============================] - 0s 7ms/step - loss: 0.0011 - mae: 0.0199 - root_mean_squared_error: 0.0326 - val_loss: 0.0014 - val_mae: 0.0272 - val_root_mean_squared_error: 0.0373\n",
      "Epoch 35/50\n",
      "50/50 [==============================] - 0s 7ms/step - loss: 0.0011 - mae: 0.0212 - root_mean_squared_error: 0.0337 - val_loss: 0.0015 - val_mae: 0.0268 - val_root_mean_squared_error: 0.0383\n",
      "Epoch 36/50\n",
      "50/50 [==============================] - 0s 7ms/step - loss: 0.0012 - mae: 0.0219 - root_mean_squared_error: 0.0342 - val_loss: 0.0015 - val_mae: 0.0269 - val_root_mean_squared_error: 0.0383\n",
      "Epoch 37/50\n",
      "50/50 [==============================] - 0s 7ms/step - loss: 0.0011 - mae: 0.0199 - root_mean_squared_error: 0.0324 - val_loss: 0.0014 - val_mae: 0.0271 - val_root_mean_squared_error: 0.0372\n",
      "Epoch 38/50\n",
      "50/50 [==============================] - 0s 7ms/step - loss: 0.0011 - mae: 0.0205 - root_mean_squared_error: 0.0333 - val_loss: 0.0016 - val_mae: 0.0304 - val_root_mean_squared_error: 0.0396\n",
      "Epoch 39/50\n",
      "50/50 [==============================] - 0s 8ms/step - loss: 0.0011 - mae: 0.0202 - root_mean_squared_error: 0.0326 - val_loss: 0.0014 - val_mae: 0.0273 - val_root_mean_squared_error: 0.0372\n",
      "Epoch 40/50\n",
      "50/50 [==============================] - 0s 9ms/step - loss: 0.0010 - mae: 0.0196 - root_mean_squared_error: 0.0323 - val_loss: 0.0014 - val_mae: 0.0269 - val_root_mean_squared_error: 0.0371\n",
      "Epoch 41/50\n",
      "50/50 [==============================] - 0s 8ms/step - loss: 0.0011 - mae: 0.0196 - root_mean_squared_error: 0.0328 - val_loss: 0.0014 - val_mae: 0.0269 - val_root_mean_squared_error: 0.0370\n",
      "Epoch 42/50\n",
      "50/50 [==============================] - 0s 8ms/step - loss: 0.0011 - mae: 0.0199 - root_mean_squared_error: 0.0327 - val_loss: 0.0014 - val_mae: 0.0265 - val_root_mean_squared_error: 0.0371\n",
      "Epoch 43/50\n",
      "50/50 [==============================] - 0s 7ms/step - loss: 0.0010 - mae: 0.0194 - root_mean_squared_error: 0.0323 - val_loss: 0.0014 - val_mae: 0.0266 - val_root_mean_squared_error: 0.0370\n",
      "Epoch 44/50\n",
      "50/50 [==============================] - 0s 7ms/step - loss: 0.0010 - mae: 0.0187 - root_mean_squared_error: 0.0317 - val_loss: 0.0014 - val_mae: 0.0271 - val_root_mean_squared_error: 0.0370\n",
      "Epoch 45/50\n",
      "50/50 [==============================] - 0s 7ms/step - loss: 0.0012 - mae: 0.0219 - root_mean_squared_error: 0.0339 - val_loss: 0.0014 - val_mae: 0.0264 - val_root_mean_squared_error: 0.0368\n",
      "Epoch 46/50\n",
      "50/50 [==============================] - 0s 7ms/step - loss: 0.0011 - mae: 0.0197 - root_mean_squared_error: 0.0326 - val_loss: 0.0014 - val_mae: 0.0271 - val_root_mean_squared_error: 0.0370\n",
      "Epoch 47/50\n",
      "50/50 [==============================] - 0s 7ms/step - loss: 0.0010 - mae: 0.0189 - root_mean_squared_error: 0.0321 - val_loss: 0.0014 - val_mae: 0.0281 - val_root_mean_squared_error: 0.0378\n",
      "Epoch 48/50\n",
      "50/50 [==============================] - 0s 7ms/step - loss: 0.0012 - mae: 0.0217 - root_mean_squared_error: 0.0344 - val_loss: 0.0013 - val_mae: 0.0258 - val_root_mean_squared_error: 0.0367\n",
      "Epoch 49/50\n",
      "50/50 [==============================] - 0s 7ms/step - loss: 0.0010 - mae: 0.0191 - root_mean_squared_error: 0.0321 - val_loss: 0.0014 - val_mae: 0.0269 - val_root_mean_squared_error: 0.0369\n",
      "Epoch 50/50\n",
      "50/50 [==============================] - 0s 7ms/step - loss: 0.0011 - mae: 0.0195 - root_mean_squared_error: 0.0324 - val_loss: 0.0013 - val_mae: 0.0261 - val_root_mean_squared_error: 0.0366\n"
     ]
    }
   ],
   "source": [
    "model.compile(loss='mean_squared_error',\n",
    "              metrics=['mae', RootMeanSquaredError()],\n",
    "              optimizer='adam')\n",
    "\n",
    "history = model.fit(X_train,\n",
    "                    y_train,\n",
    "                    epochs=50,\n",
    "                    batch_size=32,\n",
    "                    validation_split=0.1)"
   ]
  },
  {
   "cell_type": "code",
   "execution_count": 16,
   "id": "1ce156d5",
   "metadata": {
    "execution": {
     "iopub.execute_input": "2024-02-06T02:26:45.762836Z",
     "iopub.status.busy": "2024-02-06T02:26:45.762528Z",
     "iopub.status.idle": "2024-02-06T02:26:45.852783Z",
     "shell.execute_reply": "2024-02-06T02:26:45.852014Z"
    },
    "papermill": {
     "duration": 0.151381,
     "end_time": "2024-02-06T02:26:45.854690",
     "exception": false,
     "start_time": "2024-02-06T02:26:45.703309",
     "status": "completed"
    },
    "tags": []
   },
   "outputs": [
    {
     "name": "stdout",
     "output_type": "stream",
     "text": [
      "7/7 [==============================] - 0s 4ms/step - loss: 5.7498e-04 - mae: 0.0170 - root_mean_squared_error: 0.0240\n"
     ]
    },
    {
     "data": {
      "text/plain": [
       "[0.0005749837146140635, 0.017001524567604065, 0.023978818207979202]"
      ]
     },
     "execution_count": 16,
     "metadata": {},
     "output_type": "execute_result"
    }
   ],
   "source": [
    "model.evaluate(X_test, y_test)"
   ]
  },
  {
   "cell_type": "markdown",
   "id": "cdc9d217",
   "metadata": {
    "papermill": {
     "duration": 0.058384,
     "end_time": "2024-02-06T02:26:45.971735",
     "exception": false,
     "start_time": "2024-02-06T02:26:45.913351",
     "status": "completed"
    },
    "tags": []
   },
   "source": [
    "## Model Evaluation"
   ]
  },
  {
   "cell_type": "code",
   "execution_count": 17,
   "id": "10b26b80",
   "metadata": {
    "execution": {
     "iopub.execute_input": "2024-02-06T02:26:46.089798Z",
     "iopub.status.busy": "2024-02-06T02:26:46.089516Z",
     "iopub.status.idle": "2024-02-06T02:26:46.381254Z",
     "shell.execute_reply": "2024-02-06T02:26:46.380384Z"
    },
    "papermill": {
     "duration": 0.352953,
     "end_time": "2024-02-06T02:26:46.383126",
     "exception": false,
     "start_time": "2024-02-06T02:26:46.030173",
     "status": "completed"
    },
    "tags": []
   },
   "outputs": [
    {
     "data": {
      "image/png": "[encoded data removed]",
      "text/plain": [
       "<Figure size 640x480 with 1 Axes>"
      ]
     },
     "metadata": {},
     "output_type": "display_data"
    }
   ],
   "source": [
    "plt.plot(history.history['loss'])\n",
    "plt.plot(history.history['val_loss'])\n",
    "plt.title(f'{SHEET_NAME} Model Loss', fontsize=15)\n",
    "plt.ylabel('loss')\n",
    "plt.xlabel('epoch')\n",
    "plt.legend(['train', 'test'])\n",
    "plt.show()"
   ]
  },
  {
   "cell_type": "code",
   "execution_count": 18,
   "id": "b8b57f02",
   "metadata": {
    "execution": {
     "iopub.execute_input": "2024-02-06T02:26:46.501496Z",
     "iopub.status.busy": "2024-02-06T02:26:46.501192Z",
     "iopub.status.idle": "2024-02-06T02:26:47.265559Z",
     "shell.execute_reply": "2024-02-06T02:26:47.264791Z"
    },
    "papermill": {
     "duration": 0.82534,
     "end_time": "2024-02-06T02:26:47.267448",
     "exception": false,
     "start_time": "2024-02-06T02:26:46.442108",
     "status": "completed"
    },
    "tags": []
   },
   "outputs": [
    {
     "name": "stdout",
     "output_type": "stream",
     "text": [
      "7/7 [==============================] - 1s 3ms/step\n"
     ]
    }
   ],
   "source": [
    "y_hat = model.predict(X_test)\n",
    "y_test_inverse = scaler.inverse_transform(y_test)\n",
    "y_hat_inverse = scaler.inverse_transform(y_hat)"
   ]
  },
  {
   "cell_type": "code",
   "execution_count": 19,
   "id": "e9998308",
   "metadata": {
    "execution": {
     "iopub.execute_input": "2024-02-06T02:26:47.386595Z",
     "iopub.status.busy": "2024-02-06T02:26:47.386272Z",
     "iopub.status.idle": "2024-02-06T02:26:47.717658Z",
     "shell.execute_reply": "2024-02-06T02:26:47.716805Z"
    },
    "papermill": {
     "duration": 0.392801,
     "end_time": "2024-02-06T02:26:47.719681",
     "exception": false,
     "start_time": "2024-02-06T02:26:47.326880",
     "status": "completed"
    },
    "tags": []
   },
   "outputs": [
    {
     "data": {
      "image/png": "[encoded data removed]",
      "text/plain": [
       "<Figure size 640x480 with 1 Axes>"
      ]
     },
     "metadata": {},
     "output_type": "display_data"
    }
   ],
   "source": [
    "plt.plot(y_test_inverse, label=\"Actual Price\", color='green')\n",
    "plt.plot(y_hat_inverse, label=\"Predicted Price\", color='red')\n",
    " \n",
    "plt.title(f'{SHEET_NAME} Price Prediction\\nLSTM = {LSTM_Layer}, Split Data = {SPLIT}, Window = {WINDOW_SIZE}', fontsize=15)\n",
    "plt.xlabel('Time [days]')\n",
    "plt.ylabel('Price')\n",
    "plt.legend(loc='best')\n",
    " \n",
    "plt.show()"
   ]
  },
  {
   "cell_type": "code",
   "execution_count": 20,
   "id": "6da3e0e8",
   "metadata": {
    "execution": {
     "iopub.execute_input": "2024-02-06T02:26:47.841078Z",
     "iopub.status.busy": "2024-02-06T02:26:47.840756Z",
     "iopub.status.idle": "2024-02-06T02:26:47.849347Z",
     "shell.execute_reply": "2024-02-06T02:26:47.848465Z"
    },
    "papermill": {
     "duration": 0.071347,
     "end_time": "2024-02-06T02:26:47.851207",
     "exception": false,
     "start_time": "2024-02-06T02:26:47.779860",
     "status": "completed"
    },
    "tags": []
   },
   "outputs": [
    {
     "name": "stdout",
     "output_type": "stream",
     "text": [
      "LSTM = 2, Split Data = 0.9, Window = 20\n",
      "\n",
      "----------------- Normalized Error -----------------\n",
      "Mean Absolute Error for prediction : 0.017001522123883096\n",
      "Mean Squared Error for prediction : 0.00057498366695028\n",
      "Root Mean Squared Error for prediction : 0.023978817046515867\n",
      "\n",
      "----------------- Actual Error -----------------\n",
      "Mean Absolute Error for prediction : 64.33377491230887\n",
      "Mean Squared Error for prediction : 8232.993758587942\n",
      "Root Mean Squared Error for prediction : 90.7358460509844\n"
     ]
    }
   ],
   "source": [
    "def matrices(actual, predicted):\n",
    "    mse = mean_squared_error(actual, predicted)\n",
    "    mae = mean_absolute_error(actual, predicted)\n",
    "    rmse = np.sqrt(mse)\n",
    "    print(\"Mean Absolute Error for prediction :\", mae)\n",
    "    print(\"Mean Squared Error for prediction :\", mse)\n",
    "    print(\"Root Mean Squared Error for prediction :\", rmse)\n",
    "    return mae, mse, rmse\n",
    "\n",
    "print(f\"LSTM = {LSTM_Layer}, Split Data = {SPLIT}, Window = {WINDOW_SIZE}\")\n",
    "print(\"\\n----------------- Normalized Error -----------------\")\n",
    "mae, mse, rmse = matrices(y_test, y_hat)\n",
    "print(\"\\n----------------- Actual Error -----------------\")\n",
    "mae_inverse, mse_inverse, rmse_inverse = matrices(y_test_inverse, y_hat_inverse)"
   ]
  }
 ],
 "metadata": {
  "kaggle": {
   "accelerator": "gpu",
   "dataSources": [],
   "dockerImageVersionId": 30498,
   "isGpuEnabled": true,
   "isInternetEnabled": true,
   "language": "python",
   "sourceType": "notebook"
  },
  "kernelspec": {
   "display_name": "Python 3",
   "language": "python",
   "name": "python3"
  },
  "language_info": {
   "codemirror_mode": {
    "name": "ipython",
    "version": 3
   },
   "file_extension": ".py",
   "mimetype": "text/x-python",
   "name": "python",
   "nbconvert_exporter": "python",
   "pygments_lexer": "ipython3",
   "version": "3.10.10"
  },
  "papermill": {
   "default_parameters": {},
   "duration": 930.10943,
   "end_time": "2024-02-06T02:26:50.840231",
   "environment_variables": {},
   "exception": null,
   "input_path": "__notebook__.ipynb",
   "output_path": "__notebook__.ipynb",
   "parameters": {},
   "start_time": "2024-02-06T02:11:20.730801",
   "version": "2.4.0"
  }
 },
 "nbformat": 4,
 "nbformat_minor": 5
}
