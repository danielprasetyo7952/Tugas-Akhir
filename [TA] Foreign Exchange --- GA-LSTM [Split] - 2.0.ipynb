{
 "cells": [
  {
   "cell_type": "code",
   "execution_count": 1,
   "id": "decd5780",
   "metadata": {
    "execution": {
     "iopub.execute_input": "2024-02-06T02:22:19.049619Z",
     "iopub.status.busy": "2024-02-06T02:22:19.049239Z",
     "iopub.status.idle": "2024-02-06T02:22:27.211353Z",
     "shell.execute_reply": "2024-02-06T02:22:27.210469Z"
    },
    "papermill": {
     "duration": 8.173093,
     "end_time": "2024-02-06T02:22:27.213751",
     "exception": false,
     "start_time": "2024-02-06T02:22:19.040658",
     "status": "completed"
    },
    "tags": []
   },
   "outputs": [
    {
     "name": "stderr",
     "output_type": "stream",
     "text": [
      "/opt/conda/lib/python3.10/site-packages/tensorflow_io/python/ops/__init__.py:98: UserWarning: unable to load libtensorflow_io_plugins.so: unable to open file: libtensorflow_io_plugins.so, from paths: ['/opt/conda/lib/python3.10/site-packages/tensorflow_io/python/ops/libtensorflow_io_plugins.so']\n",
      "caused by: ['/opt/conda/lib/python3.10/site-packages/tensorflow_io/python/ops/libtensorflow_io_plugins.so: undefined symbol: _ZN3tsl6StatusC1EN10tensorflow5error4CodeESt17basic_string_viewIcSt11char_traitsIcEENS_14SourceLocationE']\n",
      "  warnings.warn(f\"unable to load libtensorflow_io_plugins.so: {e}\")\n",
      "/opt/conda/lib/python3.10/site-packages/tensorflow_io/python/ops/__init__.py:104: UserWarning: file system plugins are not loaded: unable to open file: libtensorflow_io.so, from paths: ['/opt/conda/lib/python3.10/site-packages/tensorflow_io/python/ops/libtensorflow_io.so']\n",
      "caused by: ['/opt/conda/lib/python3.10/site-packages/tensorflow_io/python/ops/libtensorflow_io.so: undefined symbol: _ZTVN10tensorflow13GcsFileSystemE']\n",
      "  warnings.warn(f\"file system plugins are not loaded: {e}\")\n"
     ]
    }
   ],
   "source": [
    "import pandas as pd\n",
    "import numpy as np\n",
    "import tensorflow as tf\n",
    "import matplotlib.pyplot as plt\n",
    "import datetime, pytz\n",
    "\n",
    "from keras.models import Sequential\n",
    "from keras.layers import LSTM, Dense\n",
    "from keras.metrics import RootMeanSquaredError\n",
    "\n",
    "from sklearn.preprocessing import MinMaxScaler\n",
    "from sklearn.metrics import mean_squared_error, mean_absolute_error"
   ]
  },
  {
   "cell_type": "markdown",
   "id": "3a7067e4",
   "metadata": {
    "papermill": {
     "duration": 0.006355,
     "end_time": "2024-02-06T02:22:27.226975",
     "exception": false,
     "start_time": "2024-02-06T02:22:27.220620",
     "status": "completed"
    },
    "tags": []
   },
   "source": [
    "## Hyperparameter"
   ]
  },
  {
   "cell_type": "code",
   "execution_count": 2,
   "id": "8913e16d",
   "metadata": {
    "execution": {
     "iopub.execute_input": "2024-02-06T02:22:27.241273Z",
     "iopub.status.busy": "2024-02-06T02:22:27.240643Z",
     "iopub.status.idle": "2024-02-06T02:22:27.245453Z",
     "shell.execute_reply": "2024-02-06T02:22:27.244635Z"
    },
    "papermill": {
     "duration": 0.01381,
     "end_time": "2024-02-06T02:22:27.247250",
     "exception": false,
     "start_time": "2024-02-06T02:22:27.233440",
     "status": "completed"
    },
    "tags": []
   },
   "outputs": [],
   "source": [
    "# Google Spreadsheet ID\n",
    "SHEET_ID = '1JDNv_mArl-GPIpxuWS5GxgVEwvjXocS1MrXGc6TYs8M'\n",
    "SHEET_NAME = 'EUR/IDR' # USD/IDR, EUR/IDR, SGD/IDR\n",
    "\n",
    "SEQ_LEN = 6 # 6, 11, 21\n",
    "SPLIT = 0.90 # 0.80, 0.90\n",
    "LSTM_Layer = 3 # 1, 2, 3\n",
    "WINDOW_SIZE = SEQ_LEN - 1"
   ]
  },
  {
   "cell_type": "code",
   "execution_count": 3,
   "id": "6e7aa2b5",
   "metadata": {
    "execution": {
     "iopub.execute_input": "2024-02-06T02:22:27.261318Z",
     "iopub.status.busy": "2024-02-06T02:22:27.260816Z",
     "iopub.status.idle": "2024-02-06T02:22:29.328937Z",
     "shell.execute_reply": "2024-02-06T02:22:29.328045Z"
    },
    "papermill": {
     "duration": 2.077552,
     "end_time": "2024-02-06T02:22:29.331195",
     "exception": false,
     "start_time": "2024-02-06T02:22:27.253643",
     "status": "completed"
    },
    "tags": []
   },
   "outputs": [
    {
     "name": "stdout",
     "output_type": "stream",
     "text": [
      "<class 'pandas.core.frame.DataFrame'>\n",
      "RangeIndex: 1977 entries, 0 to 1976\n",
      "Data columns (total 2 columns):\n",
      " #   Column  Non-Null Count  Dtype         \n",
      "---  ------  --------------  -----         \n",
      " 0   Date    1977 non-null   datetime64[ns]\n",
      " 1   Close   1977 non-null   float64       \n",
      "dtypes: datetime64[ns](1), float64(1)\n",
      "memory usage: 31.0 KB\n"
     ]
    }
   ],
   "source": [
    "url = f'https://docs.google.com/spreadsheets/d/{SHEET_ID}/gviz/tq?tqx=out:csv&sheet={SHEET_NAME}'\n",
    "data = pd.read_csv(url)\n",
    "\n",
    "# Convert Date columns to datetime format\n",
    "data['Date'] = pd.to_datetime(data['Date'], format='%d/%m/%Y %H:%M:%S')\n",
    "data.info()"
   ]
  },
  {
   "cell_type": "markdown",
   "id": "d9aa0157",
   "metadata": {
    "papermill": {
     "duration": 0.006453,
     "end_time": "2024-02-06T02:22:29.344316",
     "exception": false,
     "start_time": "2024-02-06T02:22:29.337863",
     "status": "completed"
    },
    "tags": []
   },
   "source": [
    "## Preprocessing"
   ]
  },
  {
   "cell_type": "code",
   "execution_count": 4,
   "id": "00a7dfa9",
   "metadata": {
    "execution": {
     "iopub.execute_input": "2024-02-06T02:22:29.358619Z",
     "iopub.status.busy": "2024-02-06T02:22:29.358332Z",
     "iopub.status.idle": "2024-02-06T02:22:29.370405Z",
     "shell.execute_reply": "2024-02-06T02:22:29.369367Z"
    },
    "papermill": {
     "duration": 0.021418,
     "end_time": "2024-02-06T02:22:29.372430",
     "exception": false,
     "start_time": "2024-02-06T02:22:29.351012",
     "status": "completed"
    },
    "tags": []
   },
   "outputs": [
    {
     "name": "stderr",
     "output_type": "stream",
     "text": [
      "/tmp/ipykernel_26/2274720815.py:7: SettingWithCopyWarning: \n",
      "A value is trying to be set on a copy of a slice from a DataFrame\n",
      "\n",
      "See the caveats in the documentation: https://pandas.pydata.org/pandas-docs/stable/user_guide/indexing.html#returning-a-view-versus-a-copy\n",
      "  data[data < lower_bound] = lower_bound\n",
      "/tmp/ipykernel_26/2274720815.py:8: SettingWithCopyWarning: \n",
      "A value is trying to be set on a copy of a slice from a DataFrame\n",
      "\n",
      "See the caveats in the documentation: https://pandas.pydata.org/pandas-docs/stable/user_guide/indexing.html#returning-a-view-versus-a-copy\n",
      "  data[data > upper_bound] = upper_bound\n"
     ]
    }
   ],
   "source": [
    "def replace_outliers(data):\n",
    "    Q1 = np.percentile(data, 25)\n",
    "    Q3 = np.percentile(data, 75)\n",
    "    IQR = Q3 - Q1\n",
    "    lower_bound = Q1 - 1.5 * IQR\n",
    "    upper_bound = Q3 + 1.5 * IQR\n",
    "    data[data < lower_bound] = lower_bound\n",
    "    data[data > upper_bound] = upper_bound\n",
    "    return data\n",
    "\n",
    "data['Close'] = replace_outliers(data['Close'])"
   ]
  },
  {
   "cell_type": "code",
   "execution_count": 5,
   "id": "f43b8e66",
   "metadata": {
    "execution": {
     "iopub.execute_input": "2024-02-06T02:22:29.387663Z",
     "iopub.status.busy": "2024-02-06T02:22:29.387417Z",
     "iopub.status.idle": "2024-02-06T02:22:29.579747Z",
     "shell.execute_reply": "2024-02-06T02:22:29.578825Z"
    },
    "papermill": {
     "duration": 0.201771,
     "end_time": "2024-02-06T02:22:29.581769",
     "exception": false,
     "start_time": "2024-02-06T02:22:29.379998",
     "status": "completed"
    },
    "tags": []
   },
   "outputs": [
    {
     "data": {
      "image/png": "[encoded data removed]",
      "text/plain": [
       "<Figure size 640x480 with 1 Axes>"
      ]
     },
     "metadata": {},
     "output_type": "display_data"
    }
   ],
   "source": [
    "# Boxplot for outlier detection\n",
    "plt.boxplot(data['Close'])\n",
    "plt.title(f\"{SHEET_NAME} Boxplot for Outlier Detection\")\n",
    "plt.xlabel(\"Close\")\n",
    "plt.ylabel(\"Values\")\n",
    "plt.show()"
   ]
  },
  {
   "cell_type": "code",
   "execution_count": 6,
   "id": "2b52e1d9",
   "metadata": {
    "execution": {
     "iopub.execute_input": "2024-02-06T02:22:29.597872Z",
     "iopub.status.busy": "2024-02-06T02:22:29.597172Z",
     "iopub.status.idle": "2024-02-06T02:22:29.604764Z",
     "shell.execute_reply": "2024-02-06T02:22:29.603950Z"
    },
    "papermill": {
     "duration": 0.0176,
     "end_time": "2024-02-06T02:22:29.606617",
     "exception": false,
     "start_time": "2024-02-06T02:22:29.589017",
     "status": "completed"
    },
    "tags": []
   },
   "outputs": [
    {
     "data": {
      "text/plain": [
       "(1977, 1)"
      ]
     },
     "execution_count": 6,
     "metadata": {},
     "output_type": "execute_result"
    }
   ],
   "source": [
    "scaler = MinMaxScaler()\n",
    "close_price = data.Close.values.reshape(-1, 1)\n",
    "scaled_close = scaler.fit_transform(close_price)\n",
    "scaled_close.shape"
   ]
  },
  {
   "cell_type": "code",
   "execution_count": 7,
   "id": "a2f1c1bf",
   "metadata": {
    "execution": {
     "iopub.execute_input": "2024-02-06T02:22:29.622491Z",
     "iopub.status.busy": "2024-02-06T02:22:29.621836Z",
     "iopub.status.idle": "2024-02-06T02:22:29.631421Z",
     "shell.execute_reply": "2024-02-06T02:22:29.630624Z"
    },
    "papermill": {
     "duration": 0.01965,
     "end_time": "2024-02-06T02:22:29.633462",
     "exception": false,
     "start_time": "2024-02-06T02:22:29.613812",
     "status": "completed"
    },
    "tags": []
   },
   "outputs": [],
   "source": [
    "def to_sequences(data, seq_len):\n",
    "    d = []\n",
    "    for index in range(len(data) - seq_len):\n",
    "        d.append(data[index: index + seq_len])\n",
    "    return np.array(d)\n",
    "\n",
    "def preprocess(data_raw, seq_len, train_split):\n",
    "    data = to_sequences(data_raw, seq_len)\n",
    "    num_train = int(train_split * data.shape[0])\n",
    "    X_train = data[:num_train, :-1, :]\n",
    "    y_train = data[:num_train, -1, :]\n",
    "    X_test = data[num_train:, :-1, :]\n",
    "    y_test = data[num_train:, -1, :]\n",
    "    return X_train, y_train, X_test, y_test\n",
    "\n",
    "X_train, y_train, X_test, y_test = preprocess(scaled_close, SEQ_LEN, train_split = SPLIT)"
   ]
  },
  {
   "cell_type": "markdown",
   "id": "6d75b556",
   "metadata": {
    "papermill": {
     "duration": 0.006973,
     "end_time": "2024-02-06T02:22:29.647830",
     "exception": false,
     "start_time": "2024-02-06T02:22:29.640857",
     "status": "completed"
    },
    "tags": []
   },
   "source": [
    "## Genetic Algorithm"
   ]
  },
  {
   "cell_type": "code",
   "execution_count": 8,
   "id": "47271120",
   "metadata": {
    "execution": {
     "iopub.execute_input": "2024-02-06T02:22:29.663395Z",
     "iopub.status.busy": "2024-02-06T02:22:29.663110Z",
     "iopub.status.idle": "2024-02-06T02:22:29.668720Z",
     "shell.execute_reply": "2024-02-06T02:22:29.668017Z"
    },
    "papermill": {
     "duration": 0.015566,
     "end_time": "2024-02-06T02:22:29.670600",
     "exception": false,
     "start_time": "2024-02-06T02:22:29.655034",
     "status": "completed"
    },
    "tags": []
   },
   "outputs": [],
   "source": [
    "def decimal_to_binary(chromosome: list):\n",
    "    binary_string = ''.join([bin(x)[2:].zfill(8) for x in chromosome])\n",
    "    return binary_string\n",
    "\n",
    "def binary_to_decimal(binary_string: str):\n",
    "    decimal_array = [int(binary, 2) for binary in [binary_string[i:i+8] for i in range(0, len(binary_string), 8)]]\n",
    "    return decimal_array"
   ]
  },
  {
   "cell_type": "code",
   "execution_count": 9,
   "id": "860a5f7e",
   "metadata": {
    "execution": {
     "iopub.execute_input": "2024-02-06T02:22:29.686363Z",
     "iopub.status.busy": "2024-02-06T02:22:29.686104Z",
     "iopub.status.idle": "2024-02-06T02:22:29.704955Z",
     "shell.execute_reply": "2024-02-06T02:22:29.704136Z"
    },
    "papermill": {
     "duration": 0.02892,
     "end_time": "2024-02-06T02:22:29.706779",
     "exception": false,
     "start_time": "2024-02-06T02:22:29.677859",
     "status": "completed"
    },
    "tags": []
   },
   "outputs": [],
   "source": [
    "# Genetic Algorithm\n",
    "def genetic_algorithm(generations, mutation_rate):\n",
    "    print(f\"Inizialized Population...\")\n",
    "    population = np.random.randint(1, high=251, size=(10, 3))\n",
    "    fitness_scores = np.array([fitness_function(chromosome) for chromosome in population])\n",
    "    max_fitness_each_gen = []\n",
    "    \n",
    "    for generation in range(generations):\n",
    "        print(f\"Generation - {generation + 1}\")\n",
    "        max_fitness_each_gen.append(np.max(fitness_scores))\n",
    "        \n",
    "        chromosome_1 = selection(population, fitness_scores)\n",
    "        chromosome_2 = selection(population, fitness_scores)\n",
    "        \n",
    "        if generation % mutation_rate == 0:\n",
    "            chromosome_1 = mutate(chromosome_1)\n",
    "            chromosome_2 = mutate(chromosome_2)\n",
    "        else:\n",
    "            chromosome_1, chromosome_2 = crossover(chromosome_1, chromosome_2)\n",
    "\n",
    "        fitness_score_1 = fitness_function(chromosome_1)\n",
    "        fitness_score_2 = fitness_function(chromosome_2)\n",
    "        \n",
    "        worst_index = np.argmin(fitness_scores)\n",
    "        worst_fitness = fitness_scores[worst_index]\n",
    "\n",
    "        if fitness_score_1 > worst_fitness:\n",
    "            population[worst_index] = chromosome_1\n",
    "            fitness_scores[worst_index] = fitness_score_1\n",
    "            worst_index = np.argmin(fitness_scores)\n",
    "            worst_fitness = fitness_scores[worst_index]\n",
    "\n",
    "        if fitness_score_2 > worst_fitness:\n",
    "            population[worst_index] = chromosome_2\n",
    "            fitness_scores[worst_index] = fitness_score_2\n",
    "        \n",
    "        # Release some memory\n",
    "        del chromosome_1, chromosome_2\n",
    "        del fitness_score_1, fitness_score_2\n",
    "        del worst_index, worst_fitness\n",
    "            \n",
    "    best_chromosome = population[np.argmax(fitness_scores)]\n",
    "    best_fitness = np.max(fitness_scores)\n",
    "    \n",
    "    return best_chromosome, best_fitness, max_fitness_each_gen\n",
    "\n",
    "# Selection (Tournament selection)\n",
    "def selection(population, fitness_scores, tournament_size=3):\n",
    "    indices = np.random.randint(len(population), size=tournament_size)\n",
    "    tournament = population[indices]\n",
    "    tournament_fitness = fitness_scores[indices]\n",
    "    return tournament[np.argmax(tournament_fitness)]\n",
    "\n",
    "# Crossover (Single-point crossover)\n",
    "def crossover(parent_1: list, parent_2: list):\n",
    "    parent_1 = decimal_to_binary(parent_1)\n",
    "    parent_2 = decimal_to_binary(parent_2)\n",
    "    \n",
    "    crossover_point = np.random.randint(1, len(parent_1))\n",
    "    offspring_1 = parent_1[:crossover_point] + parent_2[crossover_point:]\n",
    "    offspring_2 = parent_2[:crossover_point] + parent_1[crossover_point:]\n",
    "    \n",
    "    offspring_1 = binary_to_decimal(offspring_1)\n",
    "    offspring_2 = binary_to_decimal(offspring_2)\n",
    "    return offspring_1, offspring_2\n",
    "\n",
    "# Mutation (Swap Mutation)\n",
    "def mutate(chromosome: list):\n",
    "    chromosome = decimal_to_binary(chromosome)\n",
    "    \n",
    "    chromosome_list = list(chromosome)\n",
    "    i = np.random.randint(len(chromosome_list), size=2)\n",
    "    chromosome_list[i[0]], chromosome_list[i[1]] = chromosome_list[i[1]], chromosome_list[i[0]]\n",
    "    \n",
    "    chromosome_list = ''.join(chromosome_list)\n",
    "    chromosome = binary_to_decimal(chromosome_list)\n",
    "    return chromosome\n",
    "\n",
    "# Fitness Function\n",
    "def fitness_function(chromosome: list):\n",
    "    lstm_units = [int(chromosome[i]) or default for i, default in enumerate([128, 64, 32])]\n",
    "\n",
    "    # Build the LSTM model\n",
    "    tf.keras.backend.clear_session()\n",
    "    model = Sequential()\n",
    "    for i, units in enumerate(lstm_units[:LSTM_Layer]):\n",
    "        model.add(LSTM(units, return_sequences=(i < LSTM_Layer - 1), input_shape=(WINDOW_SIZE, 1)))\n",
    "    model.add(Dense(1))\n",
    "    \n",
    "    # Compile and train the model\n",
    "    model.compile(loss='mean_squared_error',\n",
    "                  optimizer='adam')\n",
    "    model.fit(X_train, y_train,\n",
    "              epochs=10,\n",
    "              batch_size=32,\n",
    "              verbose=0,\n",
    "              validation_split=0.1)\n",
    "\n",
    "    # Evaluate the model\n",
    "    loss = model.evaluate(X_test, y_test)\n",
    "\n",
    "    # Return the negative value of the loss as the fitness score\n",
    "    return -loss"
   ]
  },
  {
   "cell_type": "code",
   "execution_count": 10,
   "id": "eb3a60bf",
   "metadata": {
    "execution": {
     "iopub.execute_input": "2024-02-06T02:22:29.722258Z",
     "iopub.status.busy": "2024-02-06T02:22:29.722010Z",
     "iopub.status.idle": "2024-02-06T02:22:29.727581Z",
     "shell.execute_reply": "2024-02-06T02:22:29.726827Z"
    },
    "papermill": {
     "duration": 0.015278,
     "end_time": "2024-02-06T02:22:29.729361",
     "exception": false,
     "start_time": "2024-02-06T02:22:29.714083",
     "status": "completed"
    },
    "tags": []
   },
   "outputs": [],
   "source": [
    "import typing\n",
    "from datetime import datetime\n",
    "\n",
    "def timer(start_time: datetime = None) -> \"typing.Union[datetime.datetime, str]\":\n",
    "    if not start_time:\n",
    "        start_time = datetime.now()\n",
    "        return start_time\n",
    "    elif start_time:\n",
    "        thour, temp_sec = divmod((datetime.now() - start_time).total_seconds(), 3600)\n",
    "        tmin, tsec = divmod(temp_sec, 60)\n",
    "        return \"%i hours %i minutes and %s seconds.\" % (\n",
    "            thour,\n",
    "            tmin,\n",
    "            round(tsec, 2),\n",
    "        )"
   ]
  },
  {
   "cell_type": "code",
   "execution_count": 11,
   "id": "a1ddbb87",
   "metadata": {
    "execution": {
     "iopub.execute_input": "2024-02-06T02:22:29.744989Z",
     "iopub.status.busy": "2024-02-06T02:22:29.744677Z",
     "iopub.status.idle": "2024-02-06T02:41:55.933391Z",
     "shell.execute_reply": "2024-02-06T02:41:55.932457Z"
    },
    "papermill": {
     "duration": 1166.199038,
     "end_time": "2024-02-06T02:41:55.935590",
     "exception": false,
     "start_time": "2024-02-06T02:22:29.736552",
     "status": "completed"
    },
    "tags": []
   },
   "outputs": [
    {
     "name": "stdout",
     "output_type": "stream",
     "text": [
      "Inizialized Population...\n",
      "7/7 [==============================] - 0s 4ms/step - loss: 0.0010\n",
      "7/7 [==============================] - 0s 4ms/step - loss: 9.3520e-04\n",
      "7/7 [==============================] - 0s 4ms/step - loss: 9.8142e-04\n",
      "7/7 [==============================] - 0s 3ms/step - loss: 9.5807e-04\n",
      "7/7 [==============================] - 0s 4ms/step - loss: 9.4501e-04\n",
      "7/7 [==============================] - 0s 5ms/step - loss: 9.0149e-04\n",
      "7/7 [==============================] - 0s 4ms/step - loss: 9.9424e-04\n",
      "7/7 [==============================] - 0s 4ms/step - loss: 0.0010\n",
      "7/7 [==============================] - 0s 4ms/step - loss: 0.0012\n",
      "7/7 [==============================] - 0s 4ms/step - loss: 0.0010\n",
      "Generation - 1\n",
      "7/7 [==============================] - 0s 4ms/step - loss: 0.0012\n",
      "7/7 [==============================] - 0s 5ms/step - loss: 9.1802e-04\n",
      "Generation - 2\n",
      "7/7 [==============================] - 0s 4ms/step - loss: 9.4262e-04\n",
      "7/7 [==============================] - 0s 4ms/step - loss: 0.0011\n",
      "Generation - 3\n",
      "7/7 [==============================] - 0s 4ms/step - loss: 0.0010\n",
      "7/7 [==============================] - 0s 4ms/step - loss: 0.0010\n",
      "Generation - 4\n",
      "7/7 [==============================] - 0s 4ms/step - loss: 9.8884e-04\n",
      "7/7 [==============================] - 0s 4ms/step - loss: 0.0012\n",
      "Generation - 5\n",
      "7/7 [==============================] - 0s 4ms/step - loss: 9.6176e-04\n",
      "7/7 [==============================] - 0s 3ms/step - loss: 0.0014\n",
      "Generation - 6\n",
      "7/7 [==============================] - 0s 4ms/step - loss: 0.0010\n",
      "7/7 [==============================] - 0s 4ms/step - loss: 9.3947e-04\n",
      "Generation - 7\n",
      "7/7 [==============================] - 0s 4ms/step - loss: 0.0010\n",
      "7/7 [==============================] - 0s 4ms/step - loss: 9.2669e-04\n",
      "Generation - 8\n",
      "7/7 [==============================] - 0s 4ms/step - loss: 0.0020\n",
      "7/7 [==============================] - 0s 4ms/step - loss: 0.0012\n",
      "Generation - 9\n",
      "7/7 [==============================] - 0s 4ms/step - loss: 0.0015\n",
      "7/7 [==============================] - 0s 4ms/step - loss: 0.0012\n",
      "Generation - 10\n",
      "7/7 [==============================] - 0s 4ms/step - loss: 9.1289e-04\n",
      "7/7 [==============================] - 0s 4ms/step - loss: 0.0010\n",
      "Generation - 11\n",
      "7/7 [==============================] - 0s 4ms/step - loss: 9.3637e-04\n",
      "7/7 [==============================] - 0s 4ms/step - loss: 9.2926e-04\n",
      "Generation - 12\n",
      "7/7 [==============================] - 0s 4ms/step - loss: 0.0011\n",
      "7/7 [==============================] - 0s 4ms/step - loss: 8.9661e-04\n",
      "Generation - 13\n",
      "7/7 [==============================] - 0s 4ms/step - loss: 9.6083e-04\n",
      "7/7 [==============================] - 0s 4ms/step - loss: 9.4176e-04\n",
      "Generation - 14\n",
      "7/7 [==============================] - 0s 4ms/step - loss: 9.0083e-04\n",
      "7/7 [==============================] - 0s 4ms/step - loss: 0.0017\n",
      "Generation - 15\n",
      "7/7 [==============================] - 0s 4ms/step - loss: 0.0011\n",
      "7/7 [==============================] - 0s 4ms/step - loss: 9.4222e-04\n",
      "Generation - 16\n",
      "7/7 [==============================] - 0s 4ms/step - loss: 9.2709e-04\n",
      "7/7 [==============================] - 0s 4ms/step - loss: 0.0012\n",
      "Generation - 17\n",
      "7/7 [==============================] - 0s 4ms/step - loss: 9.2763e-04\n",
      "7/7 [==============================] - 0s 4ms/step - loss: 0.0010\n",
      "Generation - 18\n",
      "7/7 [==============================] - 0s 4ms/step - loss: 8.9756e-04\n",
      "7/7 [==============================] - 0s 4ms/step - loss: 9.4205e-04\n",
      "Generation - 19\n",
      "7/7 [==============================] - 0s 5ms/step - loss: 0.0011\n",
      "7/7 [==============================] - 0s 4ms/step - loss: 0.0010\n",
      "Generation - 20\n",
      "7/7 [==============================] - 0s 3ms/step - loss: 8.9476e-04\n",
      "7/7 [==============================] - 0s 4ms/step - loss: 0.0011\n",
      "Generation - 21\n",
      "7/7 [==============================] - 0s 4ms/step - loss: 8.9529e-04\n",
      "7/7 [==============================] - 0s 4ms/step - loss: 9.8109e-04\n",
      "Generation - 22\n",
      "7/7 [==============================] - 0s 5ms/step - loss: 9.2861e-04\n",
      "7/7 [==============================] - 0s 4ms/step - loss: 0.0012\n",
      "Generation - 23\n",
      "7/7 [==============================] - 0s 4ms/step - loss: 9.0386e-04\n",
      "7/7 [==============================] - 0s 4ms/step - loss: 0.0010\n",
      "Generation - 24\n",
      "7/7 [==============================] - 0s 4ms/step - loss: 9.6268e-04\n",
      "7/7 [==============================] - 0s 4ms/step - loss: 0.0012\n",
      "Generation - 25\n",
      "7/7 [==============================] - 0s 6ms/step - loss: 0.0010\n",
      "7/7 [==============================] - 0s 4ms/step - loss: 0.0014\n",
      "Generation - 26\n",
      "7/7 [==============================] - 0s 4ms/step - loss: 0.0012\n",
      "7/7 [==============================] - 0s 3ms/step - loss: 9.5916e-04\n",
      "Generation - 27\n",
      "7/7 [==============================] - 0s 4ms/step - loss: 9.1806e-04\n",
      "7/7 [==============================] - 0s 4ms/step - loss: 0.0013\n",
      "Generation - 28\n",
      "7/7 [==============================] - 0s 4ms/step - loss: 9.0453e-04\n",
      "7/7 [==============================] - 0s 4ms/step - loss: 9.3447e-04\n",
      "Generation - 29\n",
      "7/7 [==============================] - 0s 4ms/step - loss: 8.9330e-04\n",
      "7/7 [==============================] - 0s 4ms/step - loss: 0.0011\n",
      "Generation - 30\n",
      "7/7 [==============================] - 0s 6ms/step - loss: 0.0023\n",
      "7/7 [==============================] - 0s 4ms/step - loss: 9.4684e-04\n",
      "Generation - 31\n",
      "7/7 [==============================] - 0s 6ms/step - loss: 9.7238e-04\n",
      "7/7 [==============================] - 0s 4ms/step - loss: 9.1047e-04\n",
      "Generation - 32\n",
      "7/7 [==============================] - 0s 4ms/step - loss: 0.0011\n",
      "7/7 [==============================] - 0s 4ms/step - loss: 0.0010\n",
      "Generation - 33\n",
      "7/7 [==============================] - 0s 4ms/step - loss: 0.0010\n",
      "7/7 [==============================] - 0s 4ms/step - loss: 9.6150e-04\n",
      "Generation - 34\n",
      "7/7 [==============================] - 0s 4ms/step - loss: 0.0013\n",
      "7/7 [==============================] - 0s 4ms/step - loss: 0.0012\n",
      "Generation - 35\n",
      "7/7 [==============================] - 0s 4ms/step - loss: 9.3868e-04\n",
      "7/7 [==============================] - 0s 4ms/step - loss: 9.0553e-04\n",
      "Generation - 36\n",
      "7/7 [==============================] - 0s 4ms/step - loss: 9.4196e-04\n",
      "7/7 [==============================] - 0s 3ms/step - loss: 9.2629e-04\n",
      "Generation - 37\n",
      "7/7 [==============================] - 0s 4ms/step - loss: 9.8802e-04\n",
      "7/7 [==============================] - 0s 4ms/step - loss: 0.0013\n",
      "Generation - 38\n",
      "7/7 [==============================] - 0s 4ms/step - loss: 0.0010\n",
      "7/7 [==============================] - 0s 4ms/step - loss: 9.1207e-04\n",
      "Generation - 39\n",
      "7/7 [==============================] - 0s 4ms/step - loss: 9.5941e-04\n",
      "7/7 [==============================] - 0s 4ms/step - loss: 9.5897e-04\n",
      "Generation - 40\n",
      "7/7 [==============================] - 0s 4ms/step - loss: 9.7914e-04\n",
      "7/7 [==============================] - 0s 4ms/step - loss: 9.3471e-04\n",
      "Generation - 41\n",
      "7/7 [==============================] - 0s 4ms/step - loss: 0.0012\n",
      "7/7 [==============================] - 0s 4ms/step - loss: 9.4024e-04\n",
      "Generation - 42\n",
      "7/7 [==============================] - 0s 4ms/step - loss: 8.9841e-04\n",
      "7/7 [==============================] - 0s 4ms/step - loss: 9.7422e-04\n",
      "Generation - 43\n",
      "7/7 [==============================] - 0s 3ms/step - loss: 0.0015\n",
      "7/7 [==============================] - 0s 4ms/step - loss: 9.9174e-04\n",
      "Generation - 44\n",
      "7/7 [==============================] - 0s 3ms/step - loss: 0.0011\n",
      "7/7 [==============================] - 0s 4ms/step - loss: 9.6692e-04\n",
      "Generation - 45\n",
      "7/7 [==============================] - 0s 4ms/step - loss: 9.3344e-04\n",
      "7/7 [==============================] - 0s 4ms/step - loss: 9.0841e-04\n",
      "Generation - 46\n",
      "7/7 [==============================] - 0s 4ms/step - loss: 9.4093e-04\n",
      "7/7 [==============================] - 0s 4ms/step - loss: 9.3152e-04\n",
      "Generation - 47\n",
      "7/7 [==============================] - 0s 4ms/step - loss: 0.0012\n",
      "7/7 [==============================] - 0s 4ms/step - loss: 9.8207e-04\n",
      "Generation - 48\n",
      "7/7 [==============================] - 0s 5ms/step - loss: 9.0626e-04\n",
      "7/7 [==============================] - 0s 4ms/step - loss: 9.7125e-04\n",
      "Generation - 49\n",
      "7/7 [==============================] - 0s 4ms/step - loss: 9.1479e-04\n",
      "7/7 [==============================] - 0s 4ms/step - loss: 0.0010\n",
      "Generation - 50\n",
      "7/7 [==============================] - 0s 3ms/step - loss: 0.0010\n",
      "7/7 [==============================] - 0s 4ms/step - loss: 9.3191e-04\n"
     ]
    }
   ],
   "source": [
    "# Do not increase this value\n",
    "generations = 50\n",
    "mutation_rate = 5\n",
    "\n",
    "time = timer(None)\n",
    "best_chromosome, best_fitness, max_fitness_each_gen = genetic_algorithm(generations, mutation_rate)\n",
    "time = timer(time)"
   ]
  },
  {
   "cell_type": "code",
   "execution_count": 12,
   "id": "bb64ff67",
   "metadata": {
    "execution": {
     "iopub.execute_input": "2024-02-06T02:41:55.991128Z",
     "iopub.status.busy": "2024-02-06T02:41:55.990789Z",
     "iopub.status.idle": "2024-02-06T02:41:55.996490Z",
     "shell.execute_reply": "2024-02-06T02:41:55.995477Z"
    },
    "papermill": {
     "duration": 0.035627,
     "end_time": "2024-02-06T02:41:55.998426",
     "exception": false,
     "start_time": "2024-02-06T02:41:55.962799",
     "status": "completed"
    },
    "tags": []
   },
   "outputs": [
    {
     "name": "stdout",
     "output_type": "stream",
     "text": [
      "Best Chromosome: [237 231 219]\n",
      "Best Fitness: -0.0008933047647587955\n",
      "Time Taken: 0 hours 19 minutes and 26.18 seconds.\n"
     ]
    }
   ],
   "source": [
    "print(\"Best Chromosome:\", best_chromosome)\n",
    "print(\"Best Fitness:\", best_fitness)\n",
    "print(\"Time Taken:\", time)"
   ]
  },
  {
   "cell_type": "code",
   "execution_count": 13,
   "id": "75b7daea",
   "metadata": {
    "execution": {
     "iopub.execute_input": "2024-02-06T02:41:56.054591Z",
     "iopub.status.busy": "2024-02-06T02:41:56.053792Z",
     "iopub.status.idle": "2024-02-06T02:41:56.060089Z",
     "shell.execute_reply": "2024-02-06T02:41:56.059276Z"
    },
    "papermill": {
     "duration": 0.036398,
     "end_time": "2024-02-06T02:41:56.062076",
     "exception": false,
     "start_time": "2024-02-06T02:41:56.025678",
     "status": "completed"
    },
    "tags": []
   },
   "outputs": [
    {
     "data": {
      "text/plain": [
       "[-0.0009014873648993671,\n",
       " -0.0009014873648993671,\n",
       " -0.0009014873648993671,\n",
       " -0.0009014873648993671,\n",
       " -0.0009014873648993671,\n",
       " -0.0009014873648993671,\n",
       " -0.0009014873648993671,\n",
       " -0.0009014873648993671,\n",
       " -0.0009014873648993671,\n",
       " -0.0009014873648993671,\n",
       " -0.0009014873648993671,\n",
       " -0.0009014873648993671,\n",
       " -0.0008966126479208469,\n",
       " -0.0008966126479208469,\n",
       " -0.0008966126479208469,\n",
       " -0.0008966126479208469,\n",
       " -0.0008966126479208469,\n",
       " -0.0008966126479208469,\n",
       " -0.0008966126479208469,\n",
       " -0.0008966126479208469,\n",
       " -0.000894756056368351,\n",
       " -0.000894756056368351,\n",
       " -0.000894756056368351,\n",
       " -0.000894756056368351,\n",
       " -0.000894756056368351,\n",
       " -0.000894756056368351,\n",
       " -0.000894756056368351,\n",
       " -0.000894756056368351,\n",
       " -0.000894756056368351,\n",
       " -0.0008933047647587955,\n",
       " -0.0008933047647587955,\n",
       " -0.0008933047647587955,\n",
       " -0.0008933047647587955,\n",
       " -0.0008933047647587955,\n",
       " -0.0008933047647587955,\n",
       " -0.0008933047647587955,\n",
       " -0.0008933047647587955,\n",
       " -0.0008933047647587955,\n",
       " -0.0008933047647587955,\n",
       " -0.0008933047647587955,\n",
       " -0.0008933047647587955,\n",
       " -0.0008933047647587955,\n",
       " -0.0008933047647587955,\n",
       " -0.0008933047647587955,\n",
       " -0.0008933047647587955,\n",
       " -0.0008933047647587955,\n",
       " -0.0008933047647587955,\n",
       " -0.0008933047647587955,\n",
       " -0.0008933047647587955,\n",
       " -0.0008933047647587955]"
      ]
     },
     "execution_count": 13,
     "metadata": {},
     "output_type": "execute_result"
    }
   ],
   "source": [
    "max_fitness_each_gen"
   ]
  },
  {
   "cell_type": "markdown",
   "id": "28df4b21",
   "metadata": {
    "papermill": {
     "duration": 0.02727,
     "end_time": "2024-02-06T02:41:56.116617",
     "exception": false,
     "start_time": "2024-02-06T02:41:56.089347",
     "status": "completed"
    },
    "tags": []
   },
   "source": [
    "## Re-Training Model with Best Parameter"
   ]
  },
  {
   "cell_type": "code",
   "execution_count": 14,
   "id": "e91a0196",
   "metadata": {
    "execution": {
     "iopub.execute_input": "2024-02-06T02:41:56.173351Z",
     "iopub.status.busy": "2024-02-06T02:41:56.172684Z",
     "iopub.status.idle": "2024-02-06T02:41:56.966357Z",
     "shell.execute_reply": "2024-02-06T02:41:56.965145Z"
    },
    "papermill": {
     "duration": 0.824603,
     "end_time": "2024-02-06T02:41:56.968399",
     "exception": false,
     "start_time": "2024-02-06T02:41:56.143796",
     "status": "completed"
    },
    "tags": []
   },
   "outputs": [
    {
     "name": "stdout",
     "output_type": "stream",
     "text": [
      "Model: \"sequential_1\"\n",
      "_________________________________________________________________\n",
      " Layer (type)                Output Shape              Param #   \n",
      "=================================================================\n",
      " lstm_3 (LSTM)               (None, 5, 237)            226572    \n",
      "                                                                 \n",
      " lstm_4 (LSTM)               (None, 5, 231)            433356    \n",
      "                                                                 \n",
      " lstm_5 (LSTM)               (None, 219)               395076    \n",
      "                                                                 \n",
      " dense_1 (Dense)             (None, 1)                 220       \n",
      "                                                                 \n",
      "=================================================================\n",
      "Total params: 1,055,224\n",
      "Trainable params: 1,055,224\n",
      "Non-trainable params: 0\n",
      "_________________________________________________________________\n"
     ]
    }
   ],
   "source": [
    "model = Sequential()\n",
    "for i, units in enumerate(best_chromosome[:LSTM_Layer]):\n",
    "    model.add(LSTM(units, return_sequences=(i < LSTM_Layer - 1), input_shape=(WINDOW_SIZE, 1)))\n",
    "model.add(Dense(1))\n",
    "\n",
    "model.summary()"
   ]
  },
  {
   "cell_type": "code",
   "execution_count": 15,
   "id": "123c2d02",
   "metadata": {
    "execution": {
     "iopub.execute_input": "2024-02-06T02:41:57.043307Z",
     "iopub.status.busy": "2024-02-06T02:41:57.042500Z",
     "iopub.status.idle": "2024-02-06T02:42:24.076653Z",
     "shell.execute_reply": "2024-02-06T02:42:24.075874Z"
    },
    "papermill": {
     "duration": 27.06985,
     "end_time": "2024-02-06T02:42:24.078817",
     "exception": false,
     "start_time": "2024-02-06T02:41:57.008967",
     "status": "completed"
    },
    "tags": []
   },
   "outputs": [
    {
     "name": "stdout",
     "output_type": "stream",
     "text": [
      "Epoch 1/50\n",
      "50/50 [==============================] - 7s 30ms/step - loss: 0.0259 - mae: 0.1091 - root_mean_squared_error: 0.1610 - val_loss: 0.0068 - val_mae: 0.0733 - val_root_mean_squared_error: 0.0825\n",
      "Epoch 2/50\n",
      "50/50 [==============================] - 0s 8ms/step - loss: 0.0020 - mae: 0.0316 - root_mean_squared_error: 0.0443 - val_loss: 0.0020 - val_mae: 0.0334 - val_root_mean_squared_error: 0.0449\n",
      "Epoch 3/50\n",
      "50/50 [==============================] - 0s 8ms/step - loss: 0.0017 - mae: 0.0283 - root_mean_squared_error: 0.0411 - val_loss: 0.0020 - val_mae: 0.0338 - val_root_mean_squared_error: 0.0450\n",
      "Epoch 4/50\n",
      "50/50 [==============================] - 0s 8ms/step - loss: 0.0017 - mae: 0.0286 - root_mean_squared_error: 0.0412 - val_loss: 0.0022 - val_mae: 0.0365 - val_root_mean_squared_error: 0.0470\n",
      "Epoch 5/50\n",
      "50/50 [==============================] - 0s 8ms/step - loss: 0.0017 - mae: 0.0279 - root_mean_squared_error: 0.0407 - val_loss: 0.0021 - val_mae: 0.0345 - val_root_mean_squared_error: 0.0453\n",
      "Epoch 6/50\n",
      "50/50 [==============================] - 0s 8ms/step - loss: 0.0016 - mae: 0.0267 - root_mean_squared_error: 0.0398 - val_loss: 0.0020 - val_mae: 0.0332 - val_root_mean_squared_error: 0.0444\n",
      "Epoch 7/50\n",
      "50/50 [==============================] - 0s 8ms/step - loss: 0.0016 - mae: 0.0274 - root_mean_squared_error: 0.0399 - val_loss: 0.0020 - val_mae: 0.0333 - val_root_mean_squared_error: 0.0444\n",
      "Epoch 8/50\n",
      "50/50 [==============================] - 0s 9ms/step - loss: 0.0016 - mae: 0.0274 - root_mean_squared_error: 0.0400 - val_loss: 0.0019 - val_mae: 0.0328 - val_root_mean_squared_error: 0.0441\n",
      "Epoch 9/50\n",
      "50/50 [==============================] - 0s 8ms/step - loss: 0.0016 - mae: 0.0276 - root_mean_squared_error: 0.0399 - val_loss: 0.0020 - val_mae: 0.0326 - val_root_mean_squared_error: 0.0443\n",
      "Epoch 10/50\n",
      "50/50 [==============================] - 0s 8ms/step - loss: 0.0017 - mae: 0.0293 - root_mean_squared_error: 0.0414 - val_loss: 0.0022 - val_mae: 0.0341 - val_root_mean_squared_error: 0.0465\n",
      "Epoch 11/50\n",
      "50/50 [==============================] - 0s 8ms/step - loss: 0.0018 - mae: 0.0301 - root_mean_squared_error: 0.0423 - val_loss: 0.0019 - val_mae: 0.0333 - val_root_mean_squared_error: 0.0440\n",
      "Epoch 12/50\n",
      "50/50 [==============================] - 0s 8ms/step - loss: 0.0016 - mae: 0.0272 - root_mean_squared_error: 0.0397 - val_loss: 0.0019 - val_mae: 0.0321 - val_root_mean_squared_error: 0.0439\n",
      "Epoch 13/50\n",
      "50/50 [==============================] - 0s 8ms/step - loss: 0.0016 - mae: 0.0271 - root_mean_squared_error: 0.0395 - val_loss: 0.0019 - val_mae: 0.0326 - val_root_mean_squared_error: 0.0436\n",
      "Epoch 14/50\n",
      "50/50 [==============================] - 0s 8ms/step - loss: 0.0016 - mae: 0.0279 - root_mean_squared_error: 0.0403 - val_loss: 0.0021 - val_mae: 0.0366 - val_root_mean_squared_error: 0.0462\n",
      "Epoch 15/50\n",
      "50/50 [==============================] - 0s 8ms/step - loss: 0.0017 - mae: 0.0288 - root_mean_squared_error: 0.0411 - val_loss: 0.0018 - val_mae: 0.0317 - val_root_mean_squared_error: 0.0429\n",
      "Epoch 16/50\n",
      "50/50 [==============================] - 0s 8ms/step - loss: 0.0016 - mae: 0.0273 - root_mean_squared_error: 0.0397 - val_loss: 0.0018 - val_mae: 0.0322 - val_root_mean_squared_error: 0.0429\n",
      "Epoch 17/50\n",
      "50/50 [==============================] - 0s 8ms/step - loss: 0.0017 - mae: 0.0295 - root_mean_squared_error: 0.0413 - val_loss: 0.0019 - val_mae: 0.0318 - val_root_mean_squared_error: 0.0439\n",
      "Epoch 18/50\n",
      "50/50 [==============================] - 0s 8ms/step - loss: 0.0015 - mae: 0.0258 - root_mean_squared_error: 0.0383 - val_loss: 0.0019 - val_mae: 0.0319 - val_root_mean_squared_error: 0.0441\n",
      "Epoch 19/50\n",
      "50/50 [==============================] - 0s 8ms/step - loss: 0.0015 - mae: 0.0272 - root_mean_squared_error: 0.0390 - val_loss: 0.0021 - val_mae: 0.0329 - val_root_mean_squared_error: 0.0455\n",
      "Epoch 20/50\n",
      "50/50 [==============================] - 0s 8ms/step - loss: 0.0017 - mae: 0.0289 - root_mean_squared_error: 0.0408 - val_loss: 0.0022 - val_mae: 0.0340 - val_root_mean_squared_error: 0.0469\n",
      "Epoch 21/50\n",
      "50/50 [==============================] - 0s 8ms/step - loss: 0.0013 - mae: 0.0243 - root_mean_squared_error: 0.0367 - val_loss: 0.0017 - val_mae: 0.0306 - val_root_mean_squared_error: 0.0412\n",
      "Epoch 22/50\n",
      "50/50 [==============================] - 0s 8ms/step - loss: 0.0015 - mae: 0.0271 - root_mean_squared_error: 0.0387 - val_loss: 0.0017 - val_mae: 0.0297 - val_root_mean_squared_error: 0.0409\n",
      "Epoch 23/50\n",
      "50/50 [==============================] - 0s 8ms/step - loss: 0.0014 - mae: 0.0246 - root_mean_squared_error: 0.0370 - val_loss: 0.0017 - val_mae: 0.0305 - val_root_mean_squared_error: 0.0408\n",
      "Epoch 24/50\n",
      "50/50 [==============================] - 0s 8ms/step - loss: 0.0014 - mae: 0.0256 - root_mean_squared_error: 0.0374 - val_loss: 0.0016 - val_mae: 0.0297 - val_root_mean_squared_error: 0.0406\n",
      "Epoch 25/50\n",
      "50/50 [==============================] - 0s 8ms/step - loss: 0.0013 - mae: 0.0242 - root_mean_squared_error: 0.0363 - val_loss: 0.0016 - val_mae: 0.0288 - val_root_mean_squared_error: 0.0398\n",
      "Epoch 26/50\n",
      "50/50 [==============================] - 0s 8ms/step - loss: 0.0012 - mae: 0.0230 - root_mean_squared_error: 0.0351 - val_loss: 0.0016 - val_mae: 0.0302 - val_root_mean_squared_error: 0.0400\n",
      "Epoch 27/50\n",
      "50/50 [==============================] - 0s 8ms/step - loss: 0.0012 - mae: 0.0230 - root_mean_squared_error: 0.0353 - val_loss: 0.0016 - val_mae: 0.0307 - val_root_mean_squared_error: 0.0402\n",
      "Epoch 28/50\n",
      "50/50 [==============================] - 0s 8ms/step - loss: 0.0014 - mae: 0.0262 - root_mean_squared_error: 0.0373 - val_loss: 0.0018 - val_mae: 0.0298 - val_root_mean_squared_error: 0.0422\n",
      "Epoch 29/50\n",
      "50/50 [==============================] - 0s 8ms/step - loss: 0.0015 - mae: 0.0267 - root_mean_squared_error: 0.0381 - val_loss: 0.0016 - val_mae: 0.0313 - val_root_mean_squared_error: 0.0404\n",
      "Epoch 30/50\n",
      "50/50 [==============================] - 0s 8ms/step - loss: 0.0015 - mae: 0.0262 - root_mean_squared_error: 0.0382 - val_loss: 0.0015 - val_mae: 0.0276 - val_root_mean_squared_error: 0.0384\n",
      "Epoch 31/50\n",
      "50/50 [==============================] - 0s 8ms/step - loss: 0.0013 - mae: 0.0236 - root_mean_squared_error: 0.0360 - val_loss: 0.0015 - val_mae: 0.0286 - val_root_mean_squared_error: 0.0385\n",
      "Epoch 32/50\n",
      "50/50 [==============================] - 0s 8ms/step - loss: 0.0012 - mae: 0.0218 - root_mean_squared_error: 0.0340 - val_loss: 0.0014 - val_mae: 0.0274 - val_root_mean_squared_error: 0.0378\n",
      "Epoch 33/50\n",
      "50/50 [==============================] - 0s 9ms/step - loss: 0.0011 - mae: 0.0213 - root_mean_squared_error: 0.0335 - val_loss: 0.0014 - val_mae: 0.0278 - val_root_mean_squared_error: 0.0377\n",
      "Epoch 34/50\n",
      "50/50 [==============================] - 0s 8ms/step - loss: 0.0012 - mae: 0.0233 - root_mean_squared_error: 0.0352 - val_loss: 0.0014 - val_mae: 0.0283 - val_root_mean_squared_error: 0.0379\n",
      "Epoch 35/50\n",
      "50/50 [==============================] - 0s 8ms/step - loss: 0.0011 - mae: 0.0206 - root_mean_squared_error: 0.0332 - val_loss: 0.0016 - val_mae: 0.0274 - val_root_mean_squared_error: 0.0395\n",
      "Epoch 36/50\n",
      "50/50 [==============================] - 0s 8ms/step - loss: 0.0011 - mae: 0.0208 - root_mean_squared_error: 0.0333 - val_loss: 0.0014 - val_mae: 0.0257 - val_root_mean_squared_error: 0.0372\n",
      "Epoch 37/50\n",
      "50/50 [==============================] - 0s 8ms/step - loss: 0.0011 - mae: 0.0207 - root_mean_squared_error: 0.0331 - val_loss: 0.0014 - val_mae: 0.0257 - val_root_mean_squared_error: 0.0369\n",
      "Epoch 38/50\n",
      "50/50 [==============================] - 0s 8ms/step - loss: 0.0010 - mae: 0.0197 - root_mean_squared_error: 0.0324 - val_loss: 0.0014 - val_mae: 0.0270 - val_root_mean_squared_error: 0.0370\n",
      "Epoch 39/50\n",
      "50/50 [==============================] - 0s 8ms/step - loss: 0.0011 - mae: 0.0199 - root_mean_squared_error: 0.0327 - val_loss: 0.0015 - val_mae: 0.0265 - val_root_mean_squared_error: 0.0385\n",
      "Epoch 40/50\n",
      "50/50 [==============================] - 0s 8ms/step - loss: 0.0012 - mae: 0.0227 - root_mean_squared_error: 0.0350 - val_loss: 0.0014 - val_mae: 0.0272 - val_root_mean_squared_error: 0.0371\n",
      "Epoch 41/50\n",
      "50/50 [==============================] - 0s 8ms/step - loss: 0.0011 - mae: 0.0207 - root_mean_squared_error: 0.0336 - val_loss: 0.0014 - val_mae: 0.0275 - val_root_mean_squared_error: 0.0372\n",
      "Epoch 42/50\n",
      "50/50 [==============================] - 0s 8ms/step - loss: 0.0011 - mae: 0.0196 - root_mean_squared_error: 0.0325 - val_loss: 0.0013 - val_mae: 0.0260 - val_root_mean_squared_error: 0.0363\n",
      "Epoch 43/50\n",
      "50/50 [==============================] - 0s 8ms/step - loss: 0.0011 - mae: 0.0197 - root_mean_squared_error: 0.0328 - val_loss: 0.0013 - val_mae: 0.0246 - val_root_mean_squared_error: 0.0360\n",
      "Epoch 44/50\n",
      "50/50 [==============================] - 0s 10ms/step - loss: 0.0011 - mae: 0.0196 - root_mean_squared_error: 0.0328 - val_loss: 0.0013 - val_mae: 0.0250 - val_root_mean_squared_error: 0.0358\n",
      "Epoch 45/50\n",
      "50/50 [==============================] - 0s 9ms/step - loss: 0.0012 - mae: 0.0215 - root_mean_squared_error: 0.0343 - val_loss: 0.0014 - val_mae: 0.0283 - val_root_mean_squared_error: 0.0377\n",
      "Epoch 46/50\n",
      "50/50 [==============================] - 0s 9ms/step - loss: 0.0011 - mae: 0.0198 - root_mean_squared_error: 0.0329 - val_loss: 0.0013 - val_mae: 0.0245 - val_root_mean_squared_error: 0.0358\n",
      "Epoch 47/50\n",
      "50/50 [==============================] - 0s 8ms/step - loss: 0.0011 - mae: 0.0208 - root_mean_squared_error: 0.0336 - val_loss: 0.0013 - val_mae: 0.0244 - val_root_mean_squared_error: 0.0361\n",
      "Epoch 48/50\n",
      "50/50 [==============================] - 0s 8ms/step - loss: 0.0010 - mae: 0.0191 - root_mean_squared_error: 0.0323 - val_loss: 0.0013 - val_mae: 0.0247 - val_root_mean_squared_error: 0.0355\n",
      "Epoch 49/50\n",
      "50/50 [==============================] - 0s 8ms/step - loss: 0.0010 - mae: 0.0185 - root_mean_squared_error: 0.0320 - val_loss: 0.0013 - val_mae: 0.0252 - val_root_mean_squared_error: 0.0358\n",
      "Epoch 50/50\n",
      "50/50 [==============================] - 0s 8ms/step - loss: 0.0011 - mae: 0.0203 - root_mean_squared_error: 0.0336 - val_loss: 0.0013 - val_mae: 0.0251 - val_root_mean_squared_error: 0.0362\n"
     ]
    }
   ],
   "source": [
    "model.compile(loss='mean_squared_error',\n",
    "              metrics=['mae', RootMeanSquaredError()],\n",
    "              optimizer='adam')\n",
    "\n",
    "history = model.fit(X_train,\n",
    "                    y_train,\n",
    "                    epochs=50,\n",
    "                    batch_size=32,\n",
    "                    validation_split=0.1)"
   ]
  },
  {
   "cell_type": "code",
   "execution_count": 16,
   "id": "69ed751b",
   "metadata": {
    "execution": {
     "iopub.execute_input": "2024-02-06T02:42:24.204018Z",
     "iopub.status.busy": "2024-02-06T02:42:24.203639Z",
     "iopub.status.idle": "2024-02-06T02:42:24.299651Z",
     "shell.execute_reply": "2024-02-06T02:42:24.298812Z"
    },
    "papermill": {
     "duration": 0.16055,
     "end_time": "2024-02-06T02:42:24.301666",
     "exception": false,
     "start_time": "2024-02-06T02:42:24.141116",
     "status": "completed"
    },
    "tags": []
   },
   "outputs": [
    {
     "name": "stdout",
     "output_type": "stream",
     "text": [
      "7/7 [==============================] - 0s 4ms/step - loss: 6.9990e-04 - mae: 0.0188 - root_mean_squared_error: 0.0265\n"
     ]
    },
    {
     "data": {
      "text/plain": [
       "[0.000699897762387991, 0.018798183649778366, 0.026455581188201904]"
      ]
     },
     "execution_count": 16,
     "metadata": {},
     "output_type": "execute_result"
    }
   ],
   "source": [
    "model.evaluate(X_test, y_test)"
   ]
  },
  {
   "cell_type": "markdown",
   "id": "88ea224c",
   "metadata": {
    "papermill": {
     "duration": 0.061528,
     "end_time": "2024-02-06T02:42:24.425306",
     "exception": false,
     "start_time": "2024-02-06T02:42:24.363778",
     "status": "completed"
    },
    "tags": []
   },
   "source": [
    "## Model Evaluation"
   ]
  },
  {
   "cell_type": "code",
   "execution_count": 17,
   "id": "ea0c1d10",
   "metadata": {
    "execution": {
     "iopub.execute_input": "2024-02-06T02:42:24.550245Z",
     "iopub.status.busy": "2024-02-06T02:42:24.549437Z",
     "iopub.status.idle": "2024-02-06T02:42:24.776211Z",
     "shell.execute_reply": "2024-02-06T02:42:24.775284Z"
    },
    "papermill": {
     "duration": 0.291679,
     "end_time": "2024-02-06T02:42:24.778215",
     "exception": false,
     "start_time": "2024-02-06T02:42:24.486536",
     "status": "completed"
    },
    "tags": []
   },
   "outputs": [
    {
     "data": {
      "image/png": "[encoded data removed]",
      "text/plain": [
       "<Figure size 640x480 with 1 Axes>"
      ]
     },
     "metadata": {},
     "output_type": "display_data"
    }
   ],
   "source": [
    "plt.plot(history.history['loss'])\n",
    "plt.plot(history.history['val_loss'])\n",
    "plt.title(f'{SHEET_NAME} Model Loss', fontsize=15)\n",
    "plt.ylabel('loss')\n",
    "plt.xlabel('epoch')\n",
    "plt.legend(['train', 'test'])\n",
    "plt.show()"
   ]
  },
  {
   "cell_type": "code",
   "execution_count": 18,
   "id": "76d96a67",
   "metadata": {
    "execution": {
     "iopub.execute_input": "2024-02-06T02:42:24.905255Z",
     "iopub.status.busy": "2024-02-06T02:42:24.904861Z",
     "iopub.status.idle": "2024-02-06T02:42:25.958301Z",
     "shell.execute_reply": "2024-02-06T02:42:25.957458Z"
    },
    "papermill": {
     "duration": 1.119784,
     "end_time": "2024-02-06T02:42:25.960763",
     "exception": false,
     "start_time": "2024-02-06T02:42:24.840979",
     "status": "completed"
    },
    "tags": []
   },
   "outputs": [
    {
     "name": "stdout",
     "output_type": "stream",
     "text": [
      "7/7 [==============================] - 1s 3ms/step\n"
     ]
    }
   ],
   "source": [
    "y_hat = model.predict(X_test)\n",
    "y_test_inverse = scaler.inverse_transform(y_test)\n",
    "y_hat_inverse = scaler.inverse_transform(y_hat)"
   ]
  },
  {
   "cell_type": "code",
   "execution_count": 19,
   "id": "2cd9564a",
   "metadata": {
    "execution": {
     "iopub.execute_input": "2024-02-06T02:42:26.088699Z",
     "iopub.status.busy": "2024-02-06T02:42:26.088371Z",
     "iopub.status.idle": "2024-02-06T02:42:26.391579Z",
     "shell.execute_reply": "2024-02-06T02:42:26.390666Z"
    },
    "papermill": {
     "duration": 0.368704,
     "end_time": "2024-02-06T02:42:26.393869",
     "exception": false,
     "start_time": "2024-02-06T02:42:26.025165",
     "status": "completed"
    },
    "tags": []
   },
   "outputs": [
    {
     "data": {
      "image/png": "[encoded data removed]",
      "text/plain": [
       "<Figure size 640x480 with 1 Axes>"
      ]
     },
     "metadata": {},
     "output_type": "display_data"
    }
   ],
   "source": [
    "plt.plot(y_test_inverse, label=\"Actual Price\", color='green')\n",
    "plt.plot(y_hat_inverse, label=\"Predicted Price\", color='red')\n",
    " \n",
    "plt.title(f'{SHEET_NAME} Price Prediction\\nLSTM = {LSTM_Layer}, Split Data = {SPLIT}, Window = {WINDOW_SIZE}', fontsize=15)\n",
    "plt.xlabel('Time [days]')\n",
    "plt.ylabel('Price')\n",
    "plt.legend(loc='best')\n",
    " \n",
    "plt.show()"
   ]
  },
  {
   "cell_type": "code",
   "execution_count": 20,
   "id": "0a46f9b3",
   "metadata": {
    "execution": {
     "iopub.execute_input": "2024-02-06T02:42:26.522620Z",
     "iopub.status.busy": "2024-02-06T02:42:26.522294Z",
     "iopub.status.idle": "2024-02-06T02:42:26.531713Z",
     "shell.execute_reply": "2024-02-06T02:42:26.530788Z"
    },
    "papermill": {
     "duration": 0.075826,
     "end_time": "2024-02-06T02:42:26.533631",
     "exception": false,
     "start_time": "2024-02-06T02:42:26.457805",
     "status": "completed"
    },
    "tags": []
   },
   "outputs": [
    {
     "name": "stdout",
     "output_type": "stream",
     "text": [
      "LSTM = 3, Split Data = 0.9, Window = 5\n",
      "\n",
      "----------------- Normalized Error -----------------\n",
      "Mean Absolute Error for prediction : 0.01879818560681158\n",
      "Mean Squared Error for prediction : 0.0006998978330409297\n",
      "Root Mean Squared Error for prediction : 0.0264555822661481\n",
      "\n",
      "----------------- Actual Error -----------------\n",
      "Mean Absolute Error for prediction : 71.13229186395215\n",
      "Mean Squared Error for prediction : 10021.588376307072\n",
      "Root Mean Squared Error for prediction : 100.10788368708566\n"
     ]
    }
   ],
   "source": [
    "def matrices(actual, predicted):\n",
    "    mse = mean_squared_error(actual, predicted)\n",
    "    mae = mean_absolute_error(actual, predicted)\n",
    "    rmse = np.sqrt(mse)\n",
    "    print(\"Mean Absolute Error for prediction :\", mae)\n",
    "    print(\"Mean Squared Error for prediction :\", mse)\n",
    "    print(\"Root Mean Squared Error for prediction :\", rmse)\n",
    "    return mae, mse, rmse\n",
    "\n",
    "print(f\"LSTM = {LSTM_Layer}, Split Data = {SPLIT}, Window = {WINDOW_SIZE}\")\n",
    "print(\"\\n----------------- Normalized Error -----------------\")\n",
    "mae, mse, rmse = matrices(y_test, y_hat)\n",
    "print(\"\\n----------------- Actual Error -----------------\")\n",
    "mae_inverse, mse_inverse, rmse_inverse = matrices(y_test_inverse, y_hat_inverse)"
   ]
  }
 ],
 "metadata": {
  "kaggle": {
   "accelerator": "gpu",
   "dataSources": [],
   "dockerImageVersionId": 30498,
   "isGpuEnabled": true,
   "isInternetEnabled": true,
   "language": "python",
   "sourceType": "notebook"
  },
  "kernelspec": {
   "display_name": "Python 3",
   "language": "python",
   "name": "python3"
  },
  "language_info": {
   "codemirror_mode": {
    "name": "ipython",
    "version": 3
   },
   "file_extension": ".py",
   "mimetype": "text/x-python",
   "name": "python",
   "nbconvert_exporter": "python",
   "pygments_lexer": "ipython3",
   "version": "3.10.10"
  },
  "papermill": {
   "default_parameters": {},
   "duration": 1221.258692,
   "end_time": "2024-02-06T02:42:29.660444",
   "environment_variables": {},
   "exception": null,
   "input_path": "__notebook__.ipynb",
   "output_path": "__notebook__.ipynb",
   "parameters": {},
   "start_time": "2024-02-06T02:22:08.401752",
   "version": "2.4.0"
  }
 },
 "nbformat": 4,
 "nbformat_minor": 5
}
