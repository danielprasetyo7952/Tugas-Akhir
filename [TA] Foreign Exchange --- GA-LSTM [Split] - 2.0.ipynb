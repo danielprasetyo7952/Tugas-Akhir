{
 "cells": [
  {
   "cell_type": "code",
   "execution_count": 1,
   "id": "30c0a9a6",
   "metadata": {
    "execution": {
     "iopub.execute_input": "2024-02-06T04:23:29.809035Z",
     "iopub.status.busy": "2024-02-06T04:23:29.808388Z",
     "iopub.status.idle": "2024-02-06T04:23:38.358899Z",
     "shell.execute_reply": "2024-02-06T04:23:38.357935Z"
    },
    "papermill": {
     "duration": 8.561169,
     "end_time": "2024-02-06T04:23:38.361258",
     "exception": false,
     "start_time": "2024-02-06T04:23:29.800089",
     "status": "completed"
    },
    "tags": []
   },
   "outputs": [
    {
     "name": "stderr",
     "output_type": "stream",
     "text": [
      "/opt/conda/lib/python3.10/site-packages/tensorflow_io/python/ops/__init__.py:98: UserWarning: unable to load libtensorflow_io_plugins.so: unable to open file: libtensorflow_io_plugins.so, from paths: ['/opt/conda/lib/python3.10/site-packages/tensorflow_io/python/ops/libtensorflow_io_plugins.so']\n",
      "caused by: ['/opt/conda/lib/python3.10/site-packages/tensorflow_io/python/ops/libtensorflow_io_plugins.so: undefined symbol: _ZN3tsl6StatusC1EN10tensorflow5error4CodeESt17basic_string_viewIcSt11char_traitsIcEENS_14SourceLocationE']\n",
      "  warnings.warn(f\"unable to load libtensorflow_io_plugins.so: {e}\")\n",
      "/opt/conda/lib/python3.10/site-packages/tensorflow_io/python/ops/__init__.py:104: UserWarning: file system plugins are not loaded: unable to open file: libtensorflow_io.so, from paths: ['/opt/conda/lib/python3.10/site-packages/tensorflow_io/python/ops/libtensorflow_io.so']\n",
      "caused by: ['/opt/conda/lib/python3.10/site-packages/tensorflow_io/python/ops/libtensorflow_io.so: undefined symbol: _ZTVN10tensorflow13GcsFileSystemE']\n",
      "  warnings.warn(f\"file system plugins are not loaded: {e}\")\n"
     ]
    }
   ],
   "source": [
    "import pandas as pd\n",
    "import numpy as np\n",
    "import tensorflow as tf\n",
    "import matplotlib.pyplot as plt\n",
    "import datetime, pytz\n",
    "\n",
    "from keras.models import Sequential\n",
    "from keras.layers import LSTM, Dense\n",
    "from keras.metrics import RootMeanSquaredError\n",
    "\n",
    "from sklearn.preprocessing import MinMaxScaler\n",
    "from sklearn.metrics import mean_squared_error, mean_absolute_error"
   ]
  },
  {
   "cell_type": "markdown",
   "id": "743b0d0d",
   "metadata": {
    "papermill": {
     "duration": 0.00627,
     "end_time": "2024-02-06T04:23:38.374523",
     "exception": false,
     "start_time": "2024-02-06T04:23:38.368253",
     "status": "completed"
    },
    "tags": []
   },
   "source": [
    "## Hyperparameter"
   ]
  },
  {
   "cell_type": "code",
   "execution_count": 2,
   "id": "33da3d63",
   "metadata": {
    "execution": {
     "iopub.execute_input": "2024-02-06T04:23:38.389050Z",
     "iopub.status.busy": "2024-02-06T04:23:38.388420Z",
     "iopub.status.idle": "2024-02-06T04:23:38.393312Z",
     "shell.execute_reply": "2024-02-06T04:23:38.392445Z"
    },
    "papermill": {
     "duration": 0.01426,
     "end_time": "2024-02-06T04:23:38.395218",
     "exception": false,
     "start_time": "2024-02-06T04:23:38.380958",
     "status": "completed"
    },
    "tags": []
   },
   "outputs": [],
   "source": [
    "# Google Spreadsheet ID\n",
    "SHEET_ID = '1JDNv_mArl-GPIpxuWS5GxgVEwvjXocS1MrXGc6TYs8M'\n",
    "SHEET_NAME = 'SGD/IDR' # USD/IDR, EUR/IDR, SGD/IDR\n",
    "\n",
    "SEQ_LEN = 11 # 6, 11, 21\n",
    "SPLIT = 0.80 # 0.80, 0.90\n",
    "LSTM_Layer = 1 # 1, 2, 3\n",
    "WINDOW_SIZE = SEQ_LEN - 1"
   ]
  },
  {
   "cell_type": "code",
   "execution_count": 3,
   "id": "ee578c07",
   "metadata": {
    "execution": {
     "iopub.execute_input": "2024-02-06T04:23:38.409151Z",
     "iopub.status.busy": "2024-02-06T04:23:38.408899Z",
     "iopub.status.idle": "2024-02-06T04:23:38.826168Z",
     "shell.execute_reply": "2024-02-06T04:23:38.825131Z"
    },
    "papermill": {
     "duration": 0.426662,
     "end_time": "2024-02-06T04:23:38.828271",
     "exception": false,
     "start_time": "2024-02-06T04:23:38.401609",
     "status": "completed"
    },
    "tags": []
   },
   "outputs": [
    {
     "name": "stdout",
     "output_type": "stream",
     "text": [
      "<class 'pandas.core.frame.DataFrame'>\n",
      "RangeIndex: 1959 entries, 0 to 1958\n",
      "Data columns (total 2 columns):\n",
      " #   Column  Non-Null Count  Dtype         \n",
      "---  ------  --------------  -----         \n",
      " 0   Date    1959 non-null   datetime64[ns]\n",
      " 1   Close   1959 non-null   float64       \n",
      "dtypes: datetime64[ns](1), float64(1)\n",
      "memory usage: 30.7 KB\n"
     ]
    }
   ],
   "source": [
    "url = f'https://docs.google.com/spreadsheets/d/{SHEET_ID}/gviz/tq?tqx=out:csv&sheet={SHEET_NAME}'\n",
    "data = pd.read_csv(url)\n",
    "\n",
    "# Convert Date columns to datetime format\n",
    "data['Date'] = pd.to_datetime(data['Date'], format='%d/%m/%Y %H:%M:%S')\n",
    "data.info()"
   ]
  },
  {
   "cell_type": "markdown",
   "id": "28f70739",
   "metadata": {
    "papermill": {
     "duration": 0.006399,
     "end_time": "2024-02-06T04:23:38.841488",
     "exception": false,
     "start_time": "2024-02-06T04:23:38.835089",
     "status": "completed"
    },
    "tags": []
   },
   "source": [
    "## Preprocessing"
   ]
  },
  {
   "cell_type": "code",
   "execution_count": 4,
   "id": "b18e85c7",
   "metadata": {
    "execution": {
     "iopub.execute_input": "2024-02-06T04:23:38.855582Z",
     "iopub.status.busy": "2024-02-06T04:23:38.855281Z",
     "iopub.status.idle": "2024-02-06T04:23:38.866165Z",
     "shell.execute_reply": "2024-02-06T04:23:38.865155Z"
    },
    "papermill": {
     "duration": 0.0202,
     "end_time": "2024-02-06T04:23:38.868124",
     "exception": false,
     "start_time": "2024-02-06T04:23:38.847924",
     "status": "completed"
    },
    "tags": []
   },
   "outputs": [
    {
     "name": "stderr",
     "output_type": "stream",
     "text": [
      "/tmp/ipykernel_26/2274720815.py:7: SettingWithCopyWarning: \n",
      "A value is trying to be set on a copy of a slice from a DataFrame\n",
      "\n",
      "See the caveats in the documentation: https://pandas.pydata.org/pandas-docs/stable/user_guide/indexing.html#returning-a-view-versus-a-copy\n",
      "  data[data < lower_bound] = lower_bound\n",
      "/tmp/ipykernel_26/2274720815.py:8: SettingWithCopyWarning: \n",
      "A value is trying to be set on a copy of a slice from a DataFrame\n",
      "\n",
      "See the caveats in the documentation: https://pandas.pydata.org/pandas-docs/stable/user_guide/indexing.html#returning-a-view-versus-a-copy\n",
      "  data[data > upper_bound] = upper_bound\n"
     ]
    }
   ],
   "source": [
    "def replace_outliers(data):\n",
    "    Q1 = np.percentile(data, 25)\n",
    "    Q3 = np.percentile(data, 75)\n",
    "    IQR = Q3 - Q1\n",
    "    lower_bound = Q1 - 1.5 * IQR\n",
    "    upper_bound = Q3 + 1.5 * IQR\n",
    "    data[data < lower_bound] = lower_bound\n",
    "    data[data > upper_bound] = upper_bound\n",
    "    return data\n",
    "\n",
    "data['Close'] = replace_outliers(data['Close'])"
   ]
  },
  {
   "cell_type": "code",
   "execution_count": 5,
   "id": "802b5528",
   "metadata": {
    "execution": {
     "iopub.execute_input": "2024-02-06T04:23:38.882392Z",
     "iopub.status.busy": "2024-02-06T04:23:38.882140Z",
     "iopub.status.idle": "2024-02-06T04:23:39.129543Z",
     "shell.execute_reply": "2024-02-06T04:23:39.128626Z"
    },
    "papermill": {
     "duration": 0.25675,
     "end_time": "2024-02-06T04:23:39.131563",
     "exception": false,
     "start_time": "2024-02-06T04:23:38.874813",
     "status": "completed"
    },
    "tags": []
   },
   "outputs": [
    {
     "data": {
      "image/png": "[encoded data removed]",
      "text/plain": [
       "<Figure size 640x480 with 1 Axes>"
      ]
     },
     "metadata": {},
     "output_type": "display_data"
    }
   ],
   "source": [
    "# Boxplot for outlier detection\n",
    "plt.boxplot(data['Close'])\n",
    "plt.title(f\"{SHEET_NAME} Boxplot for Outlier Detection\")\n",
    "plt.xlabel(\"Close\")\n",
    "plt.ylabel(\"Values\")\n",
    "plt.show()"
   ]
  },
  {
   "cell_type": "code",
   "execution_count": 6,
   "id": "5a9a9245",
   "metadata": {
    "execution": {
     "iopub.execute_input": "2024-02-06T04:23:39.147203Z",
     "iopub.status.busy": "2024-02-06T04:23:39.146915Z",
     "iopub.status.idle": "2024-02-06T04:23:39.154283Z",
     "shell.execute_reply": "2024-02-06T04:23:39.153444Z"
    },
    "papermill": {
     "duration": 0.017387,
     "end_time": "2024-02-06T04:23:39.156237",
     "exception": false,
     "start_time": "2024-02-06T04:23:39.138850",
     "status": "completed"
    },
    "tags": []
   },
   "outputs": [
    {
     "data": {
      "text/plain": [
       "(1959, 1)"
      ]
     },
     "execution_count": 6,
     "metadata": {},
     "output_type": "execute_result"
    }
   ],
   "source": [
    "scaler = MinMaxScaler()\n",
    "close_price = data.Close.values.reshape(-1, 1)\n",
    "scaled_close = scaler.fit_transform(close_price)\n",
    "scaled_close.shape"
   ]
  },
  {
   "cell_type": "code",
   "execution_count": 7,
   "id": "9e11037c",
   "metadata": {
    "execution": {
     "iopub.execute_input": "2024-02-06T04:23:39.171890Z",
     "iopub.status.busy": "2024-02-06T04:23:39.171633Z",
     "iopub.status.idle": "2024-02-06T04:23:39.181080Z",
     "shell.execute_reply": "2024-02-06T04:23:39.180243Z"
    },
    "papermill": {
     "duration": 0.019697,
     "end_time": "2024-02-06T04:23:39.183104",
     "exception": false,
     "start_time": "2024-02-06T04:23:39.163407",
     "status": "completed"
    },
    "tags": []
   },
   "outputs": [],
   "source": [
    "def to_sequences(data, seq_len):\n",
    "    d = []\n",
    "    for index in range(len(data) - seq_len):\n",
    "        d.append(data[index: index + seq_len])\n",
    "    return np.array(d)\n",
    "\n",
    "def preprocess(data_raw, seq_len, train_split):\n",
    "    data = to_sequences(data_raw, seq_len)\n",
    "    num_train = int(train_split * data.shape[0])\n",
    "    X_train = data[:num_train, :-1, :]\n",
    "    y_train = data[:num_train, -1, :]\n",
    "    X_test = data[num_train:, :-1, :]\n",
    "    y_test = data[num_train:, -1, :]\n",
    "    return X_train, y_train, X_test, y_test\n",
    "\n",
    "X_train, y_train, X_test, y_test = preprocess(scaled_close, SEQ_LEN, train_split = SPLIT)"
   ]
  },
  {
   "cell_type": "markdown",
   "id": "35424754",
   "metadata": {
    "papermill": {
     "duration": 0.006869,
     "end_time": "2024-02-06T04:23:39.197049",
     "exception": false,
     "start_time": "2024-02-06T04:23:39.190180",
     "status": "completed"
    },
    "tags": []
   },
   "source": [
    "## Genetic Algorithm"
   ]
  },
  {
   "cell_type": "code",
   "execution_count": 8,
   "id": "a96f16fa",
   "metadata": {
    "execution": {
     "iopub.execute_input": "2024-02-06T04:23:39.212566Z",
     "iopub.status.busy": "2024-02-06T04:23:39.212277Z",
     "iopub.status.idle": "2024-02-06T04:23:39.217721Z",
     "shell.execute_reply": "2024-02-06T04:23:39.216941Z"
    },
    "papermill": {
     "duration": 0.015253,
     "end_time": "2024-02-06T04:23:39.219656",
     "exception": false,
     "start_time": "2024-02-06T04:23:39.204403",
     "status": "completed"
    },
    "tags": []
   },
   "outputs": [],
   "source": [
    "def decimal_to_binary(chromosome: list):\n",
    "    binary_string = ''.join([bin(x)[2:].zfill(8) for x in chromosome])\n",
    "    return binary_string\n",
    "\n",
    "def binary_to_decimal(binary_string: str):\n",
    "    decimal_array = [int(binary, 2) for binary in [binary_string[i:i+8] for i in range(0, len(binary_string), 8)]]\n",
    "    return decimal_array"
   ]
  },
  {
   "cell_type": "code",
   "execution_count": 9,
   "id": "c143cb77",
   "metadata": {
    "execution": {
     "iopub.execute_input": "2024-02-06T04:23:39.235684Z",
     "iopub.status.busy": "2024-02-06T04:23:39.235405Z",
     "iopub.status.idle": "2024-02-06T04:23:39.253213Z",
     "shell.execute_reply": "2024-02-06T04:23:39.252491Z"
    },
    "papermill": {
     "duration": 0.028033,
     "end_time": "2024-02-06T04:23:39.255080",
     "exception": false,
     "start_time": "2024-02-06T04:23:39.227047",
     "status": "completed"
    },
    "tags": []
   },
   "outputs": [],
   "source": [
    "# Genetic Algorithm\n",
    "def genetic_algorithm(generations, mutation_rate):\n",
    "    print(f\"Inizialized Population...\")\n",
    "    population = np.random.randint(1, high=251, size=(10, 3))\n",
    "    fitness_scores = np.array([fitness_function(chromosome) for chromosome in population])\n",
    "    max_fitness_each_gen = []\n",
    "    \n",
    "    for generation in range(generations):\n",
    "        print(f\"Generation - {generation + 1}\")\n",
    "        max_fitness_each_gen.append(np.max(fitness_scores))\n",
    "        \n",
    "        chromosome_1 = selection(population, fitness_scores)\n",
    "        chromosome_2 = selection(population, fitness_scores)\n",
    "        \n",
    "        if generation % mutation_rate == 0:\n",
    "            chromosome_1 = mutate(chromosome_1)\n",
    "            chromosome_2 = mutate(chromosome_2)\n",
    "        else:\n",
    "            chromosome_1, chromosome_2 = crossover(chromosome_1, chromosome_2)\n",
    "\n",
    "        fitness_score_1 = fitness_function(chromosome_1)\n",
    "        fitness_score_2 = fitness_function(chromosome_2)\n",
    "        \n",
    "        worst_index = np.argmin(fitness_scores)\n",
    "        worst_fitness = fitness_scores[worst_index]\n",
    "\n",
    "        if fitness_score_1 > worst_fitness:\n",
    "            population[worst_index] = chromosome_1\n",
    "            fitness_scores[worst_index] = fitness_score_1\n",
    "            worst_index = np.argmin(fitness_scores)\n",
    "            worst_fitness = fitness_scores[worst_index]\n",
    "\n",
    "        if fitness_score_2 > worst_fitness:\n",
    "            population[worst_index] = chromosome_2\n",
    "            fitness_scores[worst_index] = fitness_score_2\n",
    "        \n",
    "        # Release some memory\n",
    "        del chromosome_1, chromosome_2\n",
    "        del fitness_score_1, fitness_score_2\n",
    "        del worst_index, worst_fitness\n",
    "            \n",
    "    best_chromosome = population[np.argmax(fitness_scores)]\n",
    "    best_fitness = np.max(fitness_scores)\n",
    "    \n",
    "    return best_chromosome, best_fitness, max_fitness_each_gen\n",
    "\n",
    "# Selection (Tournament selection)\n",
    "def selection(population, fitness_scores, tournament_size=3):\n",
    "    indices = np.random.randint(len(population), size=tournament_size)\n",
    "    tournament = population[indices]\n",
    "    tournament_fitness = fitness_scores[indices]\n",
    "    return tournament[np.argmax(tournament_fitness)]\n",
    "\n",
    "# Crossover (Single-point crossover)\n",
    "def crossover(parent_1: list, parent_2: list):\n",
    "    parent_1 = decimal_to_binary(parent_1)\n",
    "    parent_2 = decimal_to_binary(parent_2)\n",
    "    \n",
    "    crossover_point = np.random.randint(1, len(parent_1))\n",
    "    offspring_1 = parent_1[:crossover_point] + parent_2[crossover_point:]\n",
    "    offspring_2 = parent_2[:crossover_point] + parent_1[crossover_point:]\n",
    "    \n",
    "    offspring_1 = binary_to_decimal(offspring_1)\n",
    "    offspring_2 = binary_to_decimal(offspring_2)\n",
    "    return offspring_1, offspring_2\n",
    "\n",
    "# Mutation (Swap Mutation)\n",
    "def mutate(chromosome: list):\n",
    "    chromosome = decimal_to_binary(chromosome)\n",
    "    \n",
    "    chromosome_list = list(chromosome)\n",
    "    i = np.random.randint(len(chromosome_list), size=2)\n",
    "    chromosome_list[i[0]], chromosome_list[i[1]] = chromosome_list[i[1]], chromosome_list[i[0]]\n",
    "    \n",
    "    chromosome_list = ''.join(chromosome_list)\n",
    "    chromosome = binary_to_decimal(chromosome_list)\n",
    "    return chromosome\n",
    "\n",
    "# Fitness Function\n",
    "def fitness_function(chromosome: list):\n",
    "    lstm_units = [int(chromosome[i]) or default for i, default in enumerate([128, 64, 32])]\n",
    "\n",
    "    # Build the LSTM model\n",
    "    tf.keras.backend.clear_session()\n",
    "    model = Sequential()\n",
    "    for i, units in enumerate(lstm_units[:LSTM_Layer]):\n",
    "        model.add(LSTM(units, return_sequences=(i < LSTM_Layer - 1), input_shape=(WINDOW_SIZE, 1)))\n",
    "    model.add(Dense(1))\n",
    "    \n",
    "    # Compile and train the model\n",
    "    model.compile(loss='mean_squared_error',\n",
    "                  optimizer='adam')\n",
    "    model.fit(X_train, y_train,\n",
    "              epochs=10,\n",
    "              batch_size=32,\n",
    "              verbose=0,\n",
    "              validation_split=0.1)\n",
    "\n",
    "    # Evaluate the model\n",
    "    loss = model.evaluate(X_test, y_test)\n",
    "\n",
    "    # Return the negative value of the loss as the fitness score\n",
    "    return -loss"
   ]
  },
  {
   "cell_type": "code",
   "execution_count": 10,
   "id": "f342fc0d",
   "metadata": {
    "execution": {
     "iopub.execute_input": "2024-02-06T04:23:39.270510Z",
     "iopub.status.busy": "2024-02-06T04:23:39.270248Z",
     "iopub.status.idle": "2024-02-06T04:23:39.275729Z",
     "shell.execute_reply": "2024-02-06T04:23:39.274933Z"
    },
    "papermill": {
     "duration": 0.015421,
     "end_time": "2024-02-06T04:23:39.277580",
     "exception": false,
     "start_time": "2024-02-06T04:23:39.262159",
     "status": "completed"
    },
    "tags": []
   },
   "outputs": [],
   "source": [
    "import typing\n",
    "from datetime import datetime\n",
    "\n",
    "def timer(start_time: datetime = None) -> \"typing.Union[datetime.datetime, str]\":\n",
    "    if not start_time:\n",
    "        start_time = datetime.now()\n",
    "        return start_time\n",
    "    elif start_time:\n",
    "        thour, temp_sec = divmod((datetime.now() - start_time).total_seconds(), 3600)\n",
    "        tmin, tsec = divmod(temp_sec, 60)\n",
    "        return \"%i hours %i minutes and %s seconds.\" % (\n",
    "            thour,\n",
    "            tmin,\n",
    "            round(tsec, 2),\n",
    "        )"
   ]
  },
  {
   "cell_type": "code",
   "execution_count": 11,
   "id": "5308f62b",
   "metadata": {
    "execution": {
     "iopub.execute_input": "2024-02-06T04:23:39.292930Z",
     "iopub.status.busy": "2024-02-06T04:23:39.292662Z",
     "iopub.status.idle": "2024-02-06T04:32:11.994323Z",
     "shell.execute_reply": "2024-02-06T04:32:11.993417Z"
    },
    "papermill": {
     "duration": 512.714718,
     "end_time": "2024-02-06T04:32:11.999449",
     "exception": false,
     "start_time": "2024-02-06T04:23:39.284731",
     "status": "completed"
    },
    "tags": []
   },
   "outputs": [
    {
     "name": "stdout",
     "output_type": "stream",
     "text": [
      "Inizialized Population...\n",
      "13/13 [==============================] - 0s 2ms/step - loss: 9.3348e-04\n",
      "13/13 [==============================] - 0s 3ms/step - loss: 9.8185e-04\n",
      "13/13 [==============================] - 0s 2ms/step - loss: 0.0024\n",
      "13/13 [==============================] - 0s 2ms/step - loss: 8.7651e-04\n",
      "13/13 [==============================] - 0s 2ms/step - loss: 0.0019\n",
      "13/13 [==============================] - 0s 2ms/step - loss: 9.6988e-04\n",
      "13/13 [==============================] - 0s 3ms/step - loss: 8.2165e-04\n",
      "13/13 [==============================] - 0s 2ms/step - loss: 0.0017\n",
      "13/13 [==============================] - 0s 2ms/step - loss: 9.0667e-04\n",
      "13/13 [==============================] - 0s 3ms/step - loss: 0.0021\n",
      "Generation - 1\n",
      "13/13 [==============================] - 0s 2ms/step - loss: 0.0014\n",
      "13/13 [==============================] - 0s 2ms/step - loss: 9.8419e-04\n",
      "Generation - 2\n",
      "13/13 [==============================] - 0s 2ms/step - loss: 9.6927e-04\n",
      "13/13 [==============================] - 0s 2ms/step - loss: 0.0012\n",
      "Generation - 3\n",
      "13/13 [==============================] - 0s 2ms/step - loss: 0.0016\n",
      "13/13 [==============================] - 0s 2ms/step - loss: 0.0019\n",
      "Generation - 4\n",
      "13/13 [==============================] - 0s 3ms/step - loss: 0.0017\n",
      "13/13 [==============================] - 0s 2ms/step - loss: 0.0013\n",
      "Generation - 5\n",
      "13/13 [==============================] - 0s 2ms/step - loss: 8.9165e-04\n",
      "13/13 [==============================] - 0s 3ms/step - loss: 0.0017\n",
      "Generation - 6\n",
      "13/13 [==============================] - 0s 2ms/step - loss: 0.0034\n",
      "13/13 [==============================] - 0s 2ms/step - loss: 9.0007e-04\n",
      "Generation - 7\n",
      "13/13 [==============================] - 0s 2ms/step - loss: 0.0010\n",
      "13/13 [==============================] - 0s 2ms/step - loss: 0.0015\n",
      "Generation - 8\n",
      "13/13 [==============================] - 0s 2ms/step - loss: 0.0010\n",
      "13/13 [==============================] - 0s 2ms/step - loss: 9.0640e-04\n",
      "Generation - 9\n",
      "13/13 [==============================] - 0s 2ms/step - loss: 0.0011\n",
      "13/13 [==============================] - 0s 2ms/step - loss: 8.1942e-04\n",
      "Generation - 10\n",
      "13/13 [==============================] - 0s 3ms/step - loss: 0.0023\n",
      "13/13 [==============================] - 0s 2ms/step - loss: 0.0018\n",
      "Generation - 11\n",
      "13/13 [==============================] - 0s 2ms/step - loss: 9.4185e-04\n",
      "13/13 [==============================] - 0s 2ms/step - loss: 0.0012\n",
      "Generation - 12\n",
      "13/13 [==============================] - 0s 2ms/step - loss: 8.6222e-04\n",
      "13/13 [==============================] - 0s 2ms/step - loss: 8.5476e-04\n",
      "Generation - 13\n",
      "13/13 [==============================] - 0s 2ms/step - loss: 0.0044\n",
      "13/13 [==============================] - 0s 2ms/step - loss: 9.3217e-04\n",
      "Generation - 14\n",
      "13/13 [==============================] - 0s 2ms/step - loss: 8.4834e-04\n",
      "13/13 [==============================] - 0s 2ms/step - loss: 0.0010\n",
      "Generation - 15\n",
      "13/13 [==============================] - 0s 2ms/step - loss: 0.0010\n",
      "13/13 [==============================] - 0s 2ms/step - loss: 0.0033\n",
      "Generation - 16\n",
      "13/13 [==============================] - 0s 2ms/step - loss: 0.0019\n",
      "13/13 [==============================] - 0s 2ms/step - loss: 8.3297e-04\n",
      "Generation - 17\n",
      "13/13 [==============================] - 0s 2ms/step - loss: 9.2677e-04\n",
      "13/13 [==============================] - 0s 2ms/step - loss: 0.0013\n",
      "Generation - 18\n",
      "13/13 [==============================] - 0s 2ms/step - loss: 0.0012\n",
      "13/13 [==============================] - 0s 2ms/step - loss: 0.0028\n",
      "Generation - 19\n",
      "13/13 [==============================] - 0s 2ms/step - loss: 0.0014\n",
      "13/13 [==============================] - 0s 2ms/step - loss: 0.0010\n",
      "Generation - 20\n",
      "13/13 [==============================] - 0s 2ms/step - loss: 8.5195e-04\n",
      "13/13 [==============================] - 0s 2ms/step - loss: 9.1511e-04\n",
      "Generation - 21\n",
      "13/13 [==============================] - 0s 2ms/step - loss: 0.0014\n",
      "13/13 [==============================] - 0s 2ms/step - loss: 0.0051\n",
      "Generation - 22\n",
      "13/13 [==============================] - 0s 2ms/step - loss: 7.8800e-04\n",
      "13/13 [==============================] - 0s 2ms/step - loss: 0.0016\n",
      "Generation - 23\n",
      "13/13 [==============================] - 0s 2ms/step - loss: 0.0011\n",
      "13/13 [==============================] - 0s 2ms/step - loss: 0.0039\n",
      "Generation - 24\n",
      "13/13 [==============================] - 0s 2ms/step - loss: 8.7870e-04\n",
      "13/13 [==============================] - 0s 2ms/step - loss: 0.0017\n",
      "Generation - 25\n",
      "13/13 [==============================] - 0s 2ms/step - loss: 0.0036\n",
      "13/13 [==============================] - 0s 2ms/step - loss: 8.1018e-04\n",
      "Generation - 26\n",
      "13/13 [==============================] - 0s 3ms/step - loss: 8.5735e-04\n",
      "13/13 [==============================] - 0s 2ms/step - loss: 0.0026\n",
      "Generation - 27\n",
      "13/13 [==============================] - 0s 2ms/step - loss: 8.8152e-04\n",
      "13/13 [==============================] - 0s 3ms/step - loss: 0.0042\n",
      "Generation - 28\n",
      "13/13 [==============================] - 0s 2ms/step - loss: 0.0039\n",
      "13/13 [==============================] - 0s 2ms/step - loss: 8.8569e-04\n",
      "Generation - 29\n",
      "13/13 [==============================] - 0s 2ms/step - loss: 0.0024\n",
      "13/13 [==============================] - 0s 2ms/step - loss: 0.0016\n",
      "Generation - 30\n",
      "13/13 [==============================] - 0s 2ms/step - loss: 9.7598e-04\n",
      "13/13 [==============================] - 0s 2ms/step - loss: 0.0012\n",
      "Generation - 31\n",
      "13/13 [==============================] - 0s 2ms/step - loss: 0.0031\n",
      "13/13 [==============================] - 0s 2ms/step - loss: 0.0011\n",
      "Generation - 32\n",
      "13/13 [==============================] - 0s 2ms/step - loss: 9.5092e-04\n",
      "13/13 [==============================] - 0s 2ms/step - loss: 0.0016\n",
      "Generation - 33\n",
      "13/13 [==============================] - 0s 3ms/step - loss: 0.0026\n",
      "13/13 [==============================] - 0s 2ms/step - loss: 0.0015\n",
      "Generation - 34\n",
      "13/13 [==============================] - 0s 2ms/step - loss: 7.7001e-04\n",
      "13/13 [==============================] - 0s 2ms/step - loss: 0.0017\n",
      "Generation - 35\n",
      "13/13 [==============================] - 0s 2ms/step - loss: 0.0021\n",
      "13/13 [==============================] - 0s 2ms/step - loss: 0.0018\n",
      "Generation - 36\n",
      "13/13 [==============================] - 0s 2ms/step - loss: 0.0015\n",
      "13/13 [==============================] - 0s 2ms/step - loss: 0.0032\n",
      "Generation - 37\n",
      "13/13 [==============================] - 0s 2ms/step - loss: 9.3324e-04\n",
      "13/13 [==============================] - 0s 2ms/step - loss: 0.0034\n",
      "Generation - 38\n",
      "13/13 [==============================] - 0s 2ms/step - loss: 8.6034e-04\n",
      "13/13 [==============================] - 0s 2ms/step - loss: 9.7882e-04\n",
      "Generation - 39\n",
      "13/13 [==============================] - 0s 2ms/step - loss: 9.3557e-04\n",
      "13/13 [==============================] - 0s 2ms/step - loss: 9.0149e-04\n",
      "Generation - 40\n",
      "13/13 [==============================] - 0s 2ms/step - loss: 0.0015\n",
      "13/13 [==============================] - 0s 2ms/step - loss: 7.6985e-04\n",
      "Generation - 41\n",
      "13/13 [==============================] - 0s 4ms/step - loss: 0.0036\n",
      "13/13 [==============================] - 0s 2ms/step - loss: 0.0035\n",
      "Generation - 42\n",
      "13/13 [==============================] - 0s 2ms/step - loss: 0.0013\n",
      "13/13 [==============================] - 0s 2ms/step - loss: 0.0017\n",
      "Generation - 43\n",
      "13/13 [==============================] - 0s 2ms/step - loss: 8.1436e-04\n",
      "13/13 [==============================] - 0s 3ms/step - loss: 0.0015\n",
      "Generation - 44\n",
      "13/13 [==============================] - 0s 2ms/step - loss: 8.3790e-04\n",
      "13/13 [==============================] - 0s 2ms/step - loss: 7.8004e-04\n",
      "Generation - 45\n",
      "13/13 [==============================] - 0s 2ms/step - loss: 9.1689e-04\n",
      "13/13 [==============================] - 0s 2ms/step - loss: 0.0021\n",
      "Generation - 46\n",
      "13/13 [==============================] - 0s 2ms/step - loss: 9.4517e-04\n",
      "13/13 [==============================] - 0s 2ms/step - loss: 0.0019\n",
      "Generation - 47\n",
      "13/13 [==============================] - 0s 3ms/step - loss: 0.0013\n",
      "13/13 [==============================] - 0s 2ms/step - loss: 0.0015\n",
      "Generation - 48\n",
      "13/13 [==============================] - 0s 2ms/step - loss: 0.0017\n",
      "13/13 [==============================] - 0s 2ms/step - loss: 9.8925e-04\n",
      "Generation - 49\n",
      "13/13 [==============================] - 0s 2ms/step - loss: 0.0015\n",
      "13/13 [==============================] - 0s 2ms/step - loss: 0.0014\n",
      "Generation - 50\n",
      "13/13 [==============================] - 0s 2ms/step - loss: 0.0035\n",
      "13/13 [==============================] - 0s 2ms/step - loss: 0.0023\n"
     ]
    }
   ],
   "source": [
    "# Do not increase this value\n",
    "generations = 50\n",
    "mutation_rate = 5\n",
    "\n",
    "time = timer(None)\n",
    "best_chromosome, best_fitness, max_fitness_each_gen = genetic_algorithm(generations, mutation_rate)\n",
    "time = timer(time)"
   ]
  },
  {
   "cell_type": "code",
   "execution_count": 12,
   "id": "8104d96c",
   "metadata": {
    "execution": {
     "iopub.execute_input": "2024-02-06T04:32:12.054352Z",
     "iopub.status.busy": "2024-02-06T04:32:12.053719Z",
     "iopub.status.idle": "2024-02-06T04:32:12.059088Z",
     "shell.execute_reply": "2024-02-06T04:32:12.058129Z"
    },
    "papermill": {
     "duration": 0.034703,
     "end_time": "2024-02-06T04:32:12.061093",
     "exception": false,
     "start_time": "2024-02-06T04:32:12.026390",
     "status": "completed"
    },
    "tags": []
   },
   "outputs": [
    {
     "name": "stdout",
     "output_type": "stream",
     "text": [
      "Best Chromosome: [171  88   8]\n",
      "Best Fitness: -0.0007698496337980032\n",
      "Time Taken: 0 hours 8 minutes and 32.7 seconds.\n"
     ]
    }
   ],
   "source": [
    "print(\"Best Chromosome:\", best_chromosome)\n",
    "print(\"Best Fitness:\", best_fitness)\n",
    "print(\"Time Taken:\", time)"
   ]
  },
  {
   "cell_type": "code",
   "execution_count": 13,
   "id": "0d432ee1",
   "metadata": {
    "execution": {
     "iopub.execute_input": "2024-02-06T04:32:12.115705Z",
     "iopub.status.busy": "2024-02-06T04:32:12.115040Z",
     "iopub.status.idle": "2024-02-06T04:32:12.121208Z",
     "shell.execute_reply": "2024-02-06T04:32:12.120366Z"
    },
    "papermill": {
     "duration": 0.035556,
     "end_time": "2024-02-06T04:32:12.123041",
     "exception": false,
     "start_time": "2024-02-06T04:32:12.087485",
     "status": "completed"
    },
    "tags": []
   },
   "outputs": [
    {
     "data": {
      "text/plain": [
       "[-0.0008216522983275354,\n",
       " -0.0008216522983275354,\n",
       " -0.0008216522983275354,\n",
       " -0.0008216522983275354,\n",
       " -0.0008216522983275354,\n",
       " -0.0008216522983275354,\n",
       " -0.0008216522983275354,\n",
       " -0.0008216522983275354,\n",
       " -0.0008216522983275354,\n",
       " -0.0008194234687834978,\n",
       " -0.0008194234687834978,\n",
       " -0.0008194234687834978,\n",
       " -0.0008194234687834978,\n",
       " -0.0008194234687834978,\n",
       " -0.0008194234687834978,\n",
       " -0.0008194234687834978,\n",
       " -0.0008194234687834978,\n",
       " -0.0008194234687834978,\n",
       " -0.0008194234687834978,\n",
       " -0.0008194234687834978,\n",
       " -0.0008194234687834978,\n",
       " -0.0008194234687834978,\n",
       " -0.0007879954646341503,\n",
       " -0.0007879954646341503,\n",
       " -0.0007879954646341503,\n",
       " -0.0007879954646341503,\n",
       " -0.0007879954646341503,\n",
       " -0.0007879954646341503,\n",
       " -0.0007879954646341503,\n",
       " -0.0007879954646341503,\n",
       " -0.0007879954646341503,\n",
       " -0.0007879954646341503,\n",
       " -0.0007879954646341503,\n",
       " -0.0007879954646341503,\n",
       " -0.0007700146525166929,\n",
       " -0.0007700146525166929,\n",
       " -0.0007700146525166929,\n",
       " -0.0007700146525166929,\n",
       " -0.0007700146525166929,\n",
       " -0.0007700146525166929,\n",
       " -0.0007698496337980032,\n",
       " -0.0007698496337980032,\n",
       " -0.0007698496337980032,\n",
       " -0.0007698496337980032,\n",
       " -0.0007698496337980032,\n",
       " -0.0007698496337980032,\n",
       " -0.0007698496337980032,\n",
       " -0.0007698496337980032,\n",
       " -0.0007698496337980032,\n",
       " -0.0007698496337980032]"
      ]
     },
     "execution_count": 13,
     "metadata": {},
     "output_type": "execute_result"
    }
   ],
   "source": [
    "max_fitness_each_gen"
   ]
  },
  {
   "cell_type": "markdown",
   "id": "06218a7f",
   "metadata": {
    "papermill": {
     "duration": 0.026624,
     "end_time": "2024-02-06T04:32:12.176752",
     "exception": false,
     "start_time": "2024-02-06T04:32:12.150128",
     "status": "completed"
    },
    "tags": []
   },
   "source": [
    "## Re-Training Model with Best Parameter"
   ]
  },
  {
   "cell_type": "code",
   "execution_count": 14,
   "id": "c895defd",
   "metadata": {
    "execution": {
     "iopub.execute_input": "2024-02-06T04:32:12.231975Z",
     "iopub.status.busy": "2024-02-06T04:32:12.231649Z",
     "iopub.status.idle": "2024-02-06T04:32:12.499537Z",
     "shell.execute_reply": "2024-02-06T04:32:12.498530Z"
    },
    "papermill": {
     "duration": 0.298305,
     "end_time": "2024-02-06T04:32:12.501873",
     "exception": false,
     "start_time": "2024-02-06T04:32:12.203568",
     "status": "completed"
    },
    "tags": []
   },
   "outputs": [
    {
     "name": "stdout",
     "output_type": "stream",
     "text": [
      "Model: \"sequential_1\"\n",
      "_________________________________________________________________\n",
      " Layer (type)                Output Shape              Param #   \n",
      "=================================================================\n",
      " lstm_1 (LSTM)               (None, 171)               118332    \n",
      "                                                                 \n",
      " dense_1 (Dense)             (None, 1)                 172       \n",
      "                                                                 \n",
      "=================================================================\n",
      "Total params: 118,504\n",
      "Trainable params: 118,504\n",
      "Non-trainable params: 0\n",
      "_________________________________________________________________\n"
     ]
    }
   ],
   "source": [
    "model = Sequential()\n",
    "for i, units in enumerate(best_chromosome[:LSTM_Layer]):\n",
    "    model.add(LSTM(units, return_sequences=(i < LSTM_Layer - 1), input_shape=(WINDOW_SIZE, 1)))\n",
    "model.add(Dense(1))\n",
    "\n",
    "model.summary()"
   ]
  },
  {
   "cell_type": "code",
   "execution_count": 15,
   "id": "82d3e75a",
   "metadata": {
    "execution": {
     "iopub.execute_input": "2024-02-06T04:32:12.559580Z",
     "iopub.status.busy": "2024-02-06T04:32:12.558822Z",
     "iopub.status.idle": "2024-02-06T04:32:34.639382Z",
     "shell.execute_reply": "2024-02-06T04:32:34.638409Z"
    },
    "papermill": {
     "duration": 22.111837,
     "end_time": "2024-02-06T04:32:34.641844",
     "exception": false,
     "start_time": "2024-02-06T04:32:12.530007",
     "status": "completed"
    },
    "tags": []
   },
   "outputs": [
    {
     "name": "stdout",
     "output_type": "stream",
     "text": [
      "Epoch 1/50\n",
      "44/44 [==============================] - 3s 15ms/step - loss: 0.0178 - mae: 0.0877 - root_mean_squared_error: 0.1335 - val_loss: 9.6057e-04 - val_mae: 0.0254 - val_root_mean_squared_error: 0.0310\n",
      "Epoch 2/50\n",
      "44/44 [==============================] - 0s 5ms/step - loss: 0.0055 - mae: 0.0456 - root_mean_squared_error: 0.0745 - val_loss: 8.3103e-04 - val_mae: 0.0233 - val_root_mean_squared_error: 0.0288\n",
      "Epoch 3/50\n",
      "44/44 [==============================] - 0s 5ms/step - loss: 0.0052 - mae: 0.0413 - root_mean_squared_error: 0.0724 - val_loss: 0.0010 - val_mae: 0.0259 - val_root_mean_squared_error: 0.0323\n",
      "Epoch 4/50\n",
      "44/44 [==============================] - 0s 5ms/step - loss: 0.0052 - mae: 0.0421 - root_mean_squared_error: 0.0723 - val_loss: 0.0012 - val_mae: 0.0282 - val_root_mean_squared_error: 0.0341\n",
      "Epoch 5/50\n",
      "44/44 [==============================] - 0s 5ms/step - loss: 0.0050 - mae: 0.0406 - root_mean_squared_error: 0.0709 - val_loss: 0.0014 - val_mae: 0.0307 - val_root_mean_squared_error: 0.0368\n",
      "Epoch 6/50\n",
      "44/44 [==============================] - 0s 5ms/step - loss: 0.0051 - mae: 0.0411 - root_mean_squared_error: 0.0711 - val_loss: 0.0016 - val_mae: 0.0331 - val_root_mean_squared_error: 0.0395\n",
      "Epoch 7/50\n",
      "44/44 [==============================] - 0s 5ms/step - loss: 0.0051 - mae: 0.0427 - root_mean_squared_error: 0.0713 - val_loss: 6.8115e-04 - val_mae: 0.0207 - val_root_mean_squared_error: 0.0261\n",
      "Epoch 8/50\n",
      "44/44 [==============================] - 0s 5ms/step - loss: 0.0047 - mae: 0.0395 - root_mean_squared_error: 0.0686 - val_loss: 6.6752e-04 - val_mae: 0.0203 - val_root_mean_squared_error: 0.0258\n",
      "Epoch 9/50\n",
      "44/44 [==============================] - 0s 5ms/step - loss: 0.0047 - mae: 0.0386 - root_mean_squared_error: 0.0683 - val_loss: 7.3628e-04 - val_mae: 0.0218 - val_root_mean_squared_error: 0.0271\n",
      "Epoch 10/50\n",
      "44/44 [==============================] - 0s 5ms/step - loss: 0.0045 - mae: 0.0378 - root_mean_squared_error: 0.0673 - val_loss: 6.2285e-04 - val_mae: 0.0195 - val_root_mean_squared_error: 0.0250\n",
      "Epoch 11/50\n",
      "44/44 [==============================] - 0s 5ms/step - loss: 0.0045 - mae: 0.0373 - root_mean_squared_error: 0.0671 - val_loss: 6.0173e-04 - val_mae: 0.0191 - val_root_mean_squared_error: 0.0245\n",
      "Epoch 12/50\n",
      "44/44 [==============================] - 0s 5ms/step - loss: 0.0045 - mae: 0.0386 - root_mean_squared_error: 0.0669 - val_loss: 6.1148e-04 - val_mae: 0.0191 - val_root_mean_squared_error: 0.0247\n",
      "Epoch 13/50\n",
      "44/44 [==============================] - 0s 5ms/step - loss: 0.0044 - mae: 0.0373 - root_mean_squared_error: 0.0665 - val_loss: 6.6087e-04 - val_mae: 0.0205 - val_root_mean_squared_error: 0.0257\n",
      "Epoch 14/50\n",
      "44/44 [==============================] - 0s 5ms/step - loss: 0.0042 - mae: 0.0357 - root_mean_squared_error: 0.0649 - val_loss: 6.2556e-04 - val_mae: 0.0198 - val_root_mean_squared_error: 0.0250\n",
      "Epoch 15/50\n",
      "44/44 [==============================] - 0s 5ms/step - loss: 0.0041 - mae: 0.0353 - root_mean_squared_error: 0.0644 - val_loss: 5.4844e-04 - val_mae: 0.0179 - val_root_mean_squared_error: 0.0234\n",
      "Epoch 16/50\n",
      "44/44 [==============================] - 0s 7ms/step - loss: 0.0042 - mae: 0.0361 - root_mean_squared_error: 0.0648 - val_loss: 5.3214e-04 - val_mae: 0.0176 - val_root_mean_squared_error: 0.0231\n",
      "Epoch 17/50\n",
      "44/44 [==============================] - 0s 6ms/step - loss: 0.0041 - mae: 0.0351 - root_mean_squared_error: 0.0642 - val_loss: 8.3470e-04 - val_mae: 0.0233 - val_root_mean_squared_error: 0.0289\n",
      "Epoch 18/50\n",
      "44/44 [==============================] - 0s 6ms/step - loss: 0.0040 - mae: 0.0355 - root_mean_squared_error: 0.0636 - val_loss: 5.2080e-04 - val_mae: 0.0173 - val_root_mean_squared_error: 0.0228\n",
      "Epoch 19/50\n",
      "44/44 [==============================] - 0s 6ms/step - loss: 0.0041 - mae: 0.0363 - root_mean_squared_error: 0.0641 - val_loss: 5.1576e-04 - val_mae: 0.0173 - val_root_mean_squared_error: 0.0227\n",
      "Epoch 20/50\n",
      "44/44 [==============================] - 0s 5ms/step - loss: 0.0040 - mae: 0.0358 - root_mean_squared_error: 0.0632 - val_loss: 4.9950e-04 - val_mae: 0.0169 - val_root_mean_squared_error: 0.0223\n",
      "Epoch 21/50\n",
      "44/44 [==============================] - 0s 5ms/step - loss: 0.0039 - mae: 0.0344 - root_mean_squared_error: 0.0627 - val_loss: 5.9280e-04 - val_mae: 0.0194 - val_root_mean_squared_error: 0.0243\n",
      "Epoch 22/50\n",
      "44/44 [==============================] - 0s 5ms/step - loss: 0.0039 - mae: 0.0337 - root_mean_squared_error: 0.0623 - val_loss: 5.1452e-04 - val_mae: 0.0174 - val_root_mean_squared_error: 0.0227\n",
      "Epoch 23/50\n",
      "44/44 [==============================] - 0s 5ms/step - loss: 0.0039 - mae: 0.0344 - root_mean_squared_error: 0.0622 - val_loss: 5.0449e-04 - val_mae: 0.0172 - val_root_mean_squared_error: 0.0225\n",
      "Epoch 24/50\n",
      "44/44 [==============================] - 0s 5ms/step - loss: 0.0038 - mae: 0.0333 - root_mean_squared_error: 0.0618 - val_loss: 4.4618e-04 - val_mae: 0.0158 - val_root_mean_squared_error: 0.0211\n",
      "Epoch 25/50\n",
      "44/44 [==============================] - 0s 5ms/step - loss: 0.0037 - mae: 0.0329 - root_mean_squared_error: 0.0612 - val_loss: 5.7497e-04 - val_mae: 0.0192 - val_root_mean_squared_error: 0.0240\n",
      "Epoch 26/50\n",
      "44/44 [==============================] - 0s 5ms/step - loss: 0.0037 - mae: 0.0329 - root_mean_squared_error: 0.0611 - val_loss: 5.8071e-04 - val_mae: 0.0194 - val_root_mean_squared_error: 0.0241\n",
      "Epoch 27/50\n",
      "44/44 [==============================] - 0s 5ms/step - loss: 0.0037 - mae: 0.0322 - root_mean_squared_error: 0.0607 - val_loss: 4.4796e-04 - val_mae: 0.0158 - val_root_mean_squared_error: 0.0212\n",
      "Epoch 28/50\n",
      "44/44 [==============================] - 0s 5ms/step - loss: 0.0037 - mae: 0.0336 - root_mean_squared_error: 0.0611 - val_loss: 6.7946e-04 - val_mae: 0.0210 - val_root_mean_squared_error: 0.0261\n",
      "Epoch 29/50\n",
      "44/44 [==============================] - 0s 5ms/step - loss: 0.0037 - mae: 0.0325 - root_mean_squared_error: 0.0608 - val_loss: 4.5829e-04 - val_mae: 0.0162 - val_root_mean_squared_error: 0.0214\n",
      "Epoch 30/50\n",
      "44/44 [==============================] - 0s 5ms/step - loss: 0.0038 - mae: 0.0340 - root_mean_squared_error: 0.0617 - val_loss: 6.3462e-04 - val_mae: 0.0202 - val_root_mean_squared_error: 0.0252\n",
      "Epoch 31/50\n",
      "44/44 [==============================] - 0s 5ms/step - loss: 0.0037 - mae: 0.0325 - root_mean_squared_error: 0.0611 - val_loss: 7.1476e-04 - val_mae: 0.0224 - val_root_mean_squared_error: 0.0267\n",
      "Epoch 32/50\n",
      "44/44 [==============================] - 0s 5ms/step - loss: 0.0037 - mae: 0.0319 - root_mean_squared_error: 0.0609 - val_loss: 4.6450e-04 - val_mae: 0.0165 - val_root_mean_squared_error: 0.0216\n",
      "Epoch 33/50\n",
      "44/44 [==============================] - 0s 5ms/step - loss: 0.0036 - mae: 0.0313 - root_mean_squared_error: 0.0600 - val_loss: 4.1202e-04 - val_mae: 0.0151 - val_root_mean_squared_error: 0.0203\n",
      "Epoch 34/50\n",
      "44/44 [==============================] - 0s 5ms/step - loss: 0.0036 - mae: 0.0315 - root_mean_squared_error: 0.0603 - val_loss: 5.8546e-04 - val_mae: 0.0197 - val_root_mean_squared_error: 0.0242\n",
      "Epoch 35/50\n",
      "44/44 [==============================] - 0s 5ms/step - loss: 0.0037 - mae: 0.0323 - root_mean_squared_error: 0.0607 - val_loss: 0.0012 - val_mae: 0.0306 - val_root_mean_squared_error: 0.0347\n",
      "Epoch 36/50\n",
      "44/44 [==============================] - 0s 5ms/step - loss: 0.0038 - mae: 0.0341 - root_mean_squared_error: 0.0617 - val_loss: 3.9768e-04 - val_mae: 0.0147 - val_root_mean_squared_error: 0.0199\n",
      "Epoch 37/50\n",
      "44/44 [==============================] - 0s 5ms/step - loss: 0.0037 - mae: 0.0321 - root_mean_squared_error: 0.0606 - val_loss: 4.3302e-04 - val_mae: 0.0158 - val_root_mean_squared_error: 0.0208\n",
      "Epoch 38/50\n",
      "44/44 [==============================] - 0s 5ms/step - loss: 0.0037 - mae: 0.0326 - root_mean_squared_error: 0.0608 - val_loss: 4.1167e-04 - val_mae: 0.0150 - val_root_mean_squared_error: 0.0203\n",
      "Epoch 39/50\n",
      "44/44 [==============================] - 0s 5ms/step - loss: 0.0037 - mae: 0.0322 - root_mean_squared_error: 0.0608 - val_loss: 4.2626e-04 - val_mae: 0.0155 - val_root_mean_squared_error: 0.0206\n",
      "Epoch 40/50\n",
      "44/44 [==============================] - 0s 5ms/step - loss: 0.0037 - mae: 0.0321 - root_mean_squared_error: 0.0606 - val_loss: 3.9248e-04 - val_mae: 0.0146 - val_root_mean_squared_error: 0.0198\n",
      "Epoch 41/50\n",
      "44/44 [==============================] - 0s 5ms/step - loss: 0.0036 - mae: 0.0308 - root_mean_squared_error: 0.0597 - val_loss: 3.9180e-04 - val_mae: 0.0145 - val_root_mean_squared_error: 0.0198\n",
      "Epoch 42/50\n",
      "44/44 [==============================] - 0s 5ms/step - loss: 0.0036 - mae: 0.0317 - root_mean_squared_error: 0.0601 - val_loss: 8.5245e-04 - val_mae: 0.0251 - val_root_mean_squared_error: 0.0292\n",
      "Epoch 43/50\n",
      "44/44 [==============================] - 0s 5ms/step - loss: 0.0036 - mae: 0.0315 - root_mean_squared_error: 0.0602 - val_loss: 4.0205e-04 - val_mae: 0.0149 - val_root_mean_squared_error: 0.0201\n",
      "Epoch 44/50\n",
      "44/44 [==============================] - 0s 5ms/step - loss: 0.0038 - mae: 0.0335 - root_mean_squared_error: 0.0615 - val_loss: 7.4682e-04 - val_mae: 0.0232 - val_root_mean_squared_error: 0.0273\n",
      "Epoch 45/50\n",
      "44/44 [==============================] - 0s 5ms/step - loss: 0.0037 - mae: 0.0325 - root_mean_squared_error: 0.0609 - val_loss: 4.3298e-04 - val_mae: 0.0159 - val_root_mean_squared_error: 0.0208\n",
      "Epoch 46/50\n",
      "44/44 [==============================] - 0s 5ms/step - loss: 0.0036 - mae: 0.0308 - root_mean_squared_error: 0.0600 - val_loss: 4.1537e-04 - val_mae: 0.0152 - val_root_mean_squared_error: 0.0204\n",
      "Epoch 47/50\n",
      "44/44 [==============================] - 0s 5ms/step - loss: 0.0036 - mae: 0.0317 - root_mean_squared_error: 0.0603 - val_loss: 3.9655e-04 - val_mae: 0.0147 - val_root_mean_squared_error: 0.0199\n",
      "Epoch 48/50\n",
      "44/44 [==============================] - 0s 5ms/step - loss: 0.0038 - mae: 0.0331 - root_mean_squared_error: 0.0615 - val_loss: 3.9617e-04 - val_mae: 0.0147 - val_root_mean_squared_error: 0.0199\n",
      "Epoch 49/50\n",
      "44/44 [==============================] - 0s 5ms/step - loss: 0.0036 - mae: 0.0313 - root_mean_squared_error: 0.0602 - val_loss: 6.8685e-04 - val_mae: 0.0214 - val_root_mean_squared_error: 0.0262\n",
      "Epoch 50/50\n",
      "44/44 [==============================] - 0s 5ms/step - loss: 0.0037 - mae: 0.0325 - root_mean_squared_error: 0.0608 - val_loss: 4.8775e-04 - val_mae: 0.0171 - val_root_mean_squared_error: 0.0221\n"
     ]
    }
   ],
   "source": [
    "model.compile(loss='mean_squared_error',\n",
    "              metrics=['mae', RootMeanSquaredError()],\n",
    "              optimizer='adam')\n",
    "\n",
    "history = model.fit(X_train,\n",
    "                    y_train,\n",
    "                    epochs=50,\n",
    "                    batch_size=32,\n",
    "                    validation_split=0.1)"
   ]
  },
  {
   "cell_type": "code",
   "execution_count": 16,
   "id": "6e9c64da",
   "metadata": {
    "execution": {
     "iopub.execute_input": "2024-02-06T04:32:34.744217Z",
     "iopub.status.busy": "2024-02-06T04:32:34.743458Z",
     "iopub.status.idle": "2024-02-06T04:32:34.843237Z",
     "shell.execute_reply": "2024-02-06T04:32:34.842338Z"
    },
    "papermill": {
     "duration": 0.152817,
     "end_time": "2024-02-06T04:32:34.845221",
     "exception": false,
     "start_time": "2024-02-06T04:32:34.692404",
     "status": "completed"
    },
    "tags": []
   },
   "outputs": [
    {
     "name": "stdout",
     "output_type": "stream",
     "text": [
      "13/13 [==============================] - 0s 3ms/step - loss: 0.0015 - mae: 0.0335 - root_mean_squared_error: 0.0387\n"
     ]
    },
    {
     "data": {
      "text/plain": [
       "[0.0014991300413385034, 0.03353998810052872, 0.03871859982609749]"
      ]
     },
     "execution_count": 16,
     "metadata": {},
     "output_type": "execute_result"
    }
   ],
   "source": [
    "model.evaluate(X_test, y_test)"
   ]
  },
  {
   "cell_type": "markdown",
   "id": "6f9f48dd",
   "metadata": {
    "papermill": {
     "duration": 0.051024,
     "end_time": "2024-02-06T04:32:34.947110",
     "exception": false,
     "start_time": "2024-02-06T04:32:34.896086",
     "status": "completed"
    },
    "tags": []
   },
   "source": [
    "## Model Evaluation"
   ]
  },
  {
   "cell_type": "code",
   "execution_count": 17,
   "id": "4bba3646",
   "metadata": {
    "execution": {
     "iopub.execute_input": "2024-02-06T04:32:35.057333Z",
     "iopub.status.busy": "2024-02-06T04:32:35.056859Z",
     "iopub.status.idle": "2024-02-06T04:32:35.318734Z",
     "shell.execute_reply": "2024-02-06T04:32:35.317806Z"
    },
    "papermill": {
     "duration": 0.320857,
     "end_time": "2024-02-06T04:32:35.320871",
     "exception": false,
     "start_time": "2024-02-06T04:32:35.000014",
     "status": "completed"
    },
    "tags": []
   },
   "outputs": [
    {
     "data": {
      "image/png": "[encoded data removed]",
      "text/plain": [
       "<Figure size 640x480 with 1 Axes>"
      ]
     },
     "metadata": {},
     "output_type": "display_data"
    }
   ],
   "source": [
    "plt.plot(history.history['loss'])\n",
    "plt.plot(history.history['val_loss'])\n",
    "plt.title(f'{SHEET_NAME} Model Loss', fontsize=15)\n",
    "plt.ylabel('loss')\n",
    "plt.xlabel('epoch')\n",
    "plt.legend(['train', 'test'])\n",
    "plt.show()"
   ]
  },
  {
   "cell_type": "code",
   "execution_count": 18,
   "id": "95728287",
   "metadata": {
    "execution": {
     "iopub.execute_input": "2024-02-06T04:32:35.425141Z",
     "iopub.status.busy": "2024-02-06T04:32:35.424370Z",
     "iopub.status.idle": "2024-02-06T04:32:35.874070Z",
     "shell.execute_reply": "2024-02-06T04:32:35.873315Z"
    },
    "papermill": {
     "duration": 0.50361,
     "end_time": "2024-02-06T04:32:35.876001",
     "exception": false,
     "start_time": "2024-02-06T04:32:35.372391",
     "status": "completed"
    },
    "tags": []
   },
   "outputs": [
    {
     "name": "stdout",
     "output_type": "stream",
     "text": [
      "13/13 [==============================] - 0s 2ms/step\n"
     ]
    }
   ],
   "source": [
    "y_hat = model.predict(X_test)\n",
    "y_test_inverse = scaler.inverse_transform(y_test)\n",
    "y_hat_inverse = scaler.inverse_transform(y_hat)"
   ]
  },
  {
   "cell_type": "code",
   "execution_count": 19,
   "id": "f415c609",
   "metadata": {
    "execution": {
     "iopub.execute_input": "2024-02-06T04:32:35.983820Z",
     "iopub.status.busy": "2024-02-06T04:32:35.983461Z",
     "iopub.status.idle": "2024-02-06T04:32:36.284109Z",
     "shell.execute_reply": "2024-02-06T04:32:36.283145Z"
    },
    "papermill": {
     "duration": 0.356606,
     "end_time": "2024-02-06T04:32:36.286551",
     "exception": false,
     "start_time": "2024-02-06T04:32:35.929945",
     "status": "completed"
    },
    "tags": []
   },
   "outputs": [
    {
     "data": {
      "image/png": "[encoded data removed]",
      "text/plain": [
       "<Figure size 640x480 with 1 Axes>"
      ]
     },
     "metadata": {},
     "output_type": "display_data"
    }
   ],
   "source": [
    "plt.plot(y_test_inverse, label=\"Actual Price\", color='green')\n",
    "plt.plot(y_hat_inverse, label=\"Predicted Price\", color='red')\n",
    " \n",
    "plt.title(f'{SHEET_NAME} Price Prediction\\nLSTM = {LSTM_Layer}, Split Data = {SPLIT}, Window = {WINDOW_SIZE}', fontsize=15)\n",
    "plt.xlabel('Time [days]')\n",
    "plt.ylabel('Price')\n",
    "plt.legend(loc='best')\n",
    " \n",
    "plt.show()"
   ]
  },
  {
   "cell_type": "code",
   "execution_count": 20,
   "id": "e14eb250",
   "metadata": {
    "execution": {
     "iopub.execute_input": "2024-02-06T04:32:36.391387Z",
     "iopub.status.busy": "2024-02-06T04:32:36.391040Z",
     "iopub.status.idle": "2024-02-06T04:32:36.399838Z",
     "shell.execute_reply": "2024-02-06T04:32:36.398744Z"
    },
    "papermill": {
     "duration": 0.062958,
     "end_time": "2024-02-06T04:32:36.401639",
     "exception": false,
     "start_time": "2024-02-06T04:32:36.338681",
     "status": "completed"
    },
    "tags": []
   },
   "outputs": [
    {
     "name": "stdout",
     "output_type": "stream",
     "text": [
      "LSTM = 1, Split Data = 0.8, Window = 10\n",
      "\n",
      "----------------- Normalized Error -----------------\n",
      "Mean Absolute Error for prediction : 0.03353999019644383\n",
      "Mean Squared Error for prediction : 0.001499129995961528\n",
      "Root Mean Squared Error for prediction : 0.03871860012915663\n",
      "\n",
      "----------------- Actual Error -----------------\n",
      "Mean Absolute Error for prediction : 46.827987479967476\n",
      "Mean Squared Error for prediction : 2922.2958666846844\n",
      "Root Mean Squared Error for prediction : 54.058263629945465\n"
     ]
    }
   ],
   "source": [
    "def matrices(actual, predicted):\n",
    "    mse = mean_squared_error(actual, predicted)\n",
    "    mae = mean_absolute_error(actual, predicted)\n",
    "    rmse = np.sqrt(mse)\n",
    "    print(\"Mean Absolute Error for prediction :\", mae)\n",
    "    print(\"Mean Squared Error for prediction :\", mse)\n",
    "    print(\"Root Mean Squared Error for prediction :\", rmse)\n",
    "    return mae, mse, rmse\n",
    "\n",
    "print(f\"LSTM = {LSTM_Layer}, Split Data = {SPLIT}, Window = {WINDOW_SIZE}\")\n",
    "print(\"\\n----------------- Normalized Error -----------------\")\n",
    "mae, mse, rmse = matrices(y_test, y_hat)\n",
    "print(\"\\n----------------- Actual Error -----------------\")\n",
    "mae_inverse, mse_inverse, rmse_inverse = matrices(y_test_inverse, y_hat_inverse)"
   ]
  }
 ],
 "metadata": {
  "kaggle": {
   "accelerator": "gpu",
   "dataSources": [],
   "dockerImageVersionId": 30498,
   "isGpuEnabled": true,
   "isInternetEnabled": true,
   "language": "python",
   "sourceType": "notebook"
  },
  "kernelspec": {
   "display_name": "Python 3",
   "language": "python",
   "name": "python3"
  },
  "language_info": {
   "codemirror_mode": {
    "name": "ipython",
    "version": 3
   },
   "file_extension": ".py",
   "mimetype": "text/x-python",
   "name": "python",
   "nbconvert_exporter": "python",
   "pygments_lexer": "ipython3",
   "version": "3.10.10"
  },
  "papermill": {
   "default_parameters": {},
   "duration": 560.974557,
   "end_time": "2024-02-06T04:32:40.127059",
   "environment_variables": {},
   "exception": null,
   "input_path": "__notebook__.ipynb",
   "output_path": "__notebook__.ipynb",
   "parameters": {},
   "start_time": "2024-02-06T04:23:19.152502",
   "version": "2.4.0"
  }
 },
 "nbformat": 4,
 "nbformat_minor": 5
}
