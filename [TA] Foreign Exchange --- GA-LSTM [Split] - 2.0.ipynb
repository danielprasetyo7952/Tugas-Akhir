{
 "cells": [
  {
   "cell_type": "code",
   "execution_count": 1,
   "id": "6cce4160",
   "metadata": {
    "execution": {
     "iopub.execute_input": "2024-02-06T04:51:55.202864Z",
     "iopub.status.busy": "2024-02-06T04:51:55.202554Z",
     "iopub.status.idle": "2024-02-06T04:52:03.912501Z",
     "shell.execute_reply": "2024-02-06T04:52:03.911540Z"
    },
    "papermill": {
     "duration": 8.720206,
     "end_time": "2024-02-06T04:52:03.914951",
     "exception": false,
     "start_time": "2024-02-06T04:51:55.194745",
     "status": "completed"
    },
    "tags": []
   },
   "outputs": [
    {
     "name": "stderr",
     "output_type": "stream",
     "text": [
      "/opt/conda/lib/python3.10/site-packages/tensorflow_io/python/ops/__init__.py:98: UserWarning: unable to load libtensorflow_io_plugins.so: unable to open file: libtensorflow_io_plugins.so, from paths: ['/opt/conda/lib/python3.10/site-packages/tensorflow_io/python/ops/libtensorflow_io_plugins.so']\n",
      "caused by: ['/opt/conda/lib/python3.10/site-packages/tensorflow_io/python/ops/libtensorflow_io_plugins.so: undefined symbol: _ZN3tsl6StatusC1EN10tensorflow5error4CodeESt17basic_string_viewIcSt11char_traitsIcEENS_14SourceLocationE']\n",
      "  warnings.warn(f\"unable to load libtensorflow_io_plugins.so: {e}\")\n",
      "/opt/conda/lib/python3.10/site-packages/tensorflow_io/python/ops/__init__.py:104: UserWarning: file system plugins are not loaded: unable to open file: libtensorflow_io.so, from paths: ['/opt/conda/lib/python3.10/site-packages/tensorflow_io/python/ops/libtensorflow_io.so']\n",
      "caused by: ['/opt/conda/lib/python3.10/site-packages/tensorflow_io/python/ops/libtensorflow_io.so: undefined symbol: _ZTVN10tensorflow13GcsFileSystemE']\n",
      "  warnings.warn(f\"file system plugins are not loaded: {e}\")\n"
     ]
    }
   ],
   "source": [
    "import pandas as pd\n",
    "import numpy as np\n",
    "import tensorflow as tf\n",
    "import matplotlib.pyplot as plt\n",
    "import datetime, pytz\n",
    "\n",
    "from keras.models import Sequential\n",
    "from keras.layers import LSTM, Dense\n",
    "from keras.metrics import RootMeanSquaredError\n",
    "\n",
    "from sklearn.preprocessing import MinMaxScaler\n",
    "from sklearn.metrics import mean_squared_error, mean_absolute_error"
   ]
  },
  {
   "cell_type": "markdown",
   "id": "6e437329",
   "metadata": {
    "papermill": {
     "duration": 0.006383,
     "end_time": "2024-02-06T04:52:03.928483",
     "exception": false,
     "start_time": "2024-02-06T04:52:03.922100",
     "status": "completed"
    },
    "tags": []
   },
   "source": [
    "## Hyperparameter"
   ]
  },
  {
   "cell_type": "code",
   "execution_count": 2,
   "id": "2ed2e96e",
   "metadata": {
    "execution": {
     "iopub.execute_input": "2024-02-06T04:52:03.943305Z",
     "iopub.status.busy": "2024-02-06T04:52:03.942197Z",
     "iopub.status.idle": "2024-02-06T04:52:03.947152Z",
     "shell.execute_reply": "2024-02-06T04:52:03.946291Z"
    },
    "papermill": {
     "duration": 0.014244,
     "end_time": "2024-02-06T04:52:03.949186",
     "exception": false,
     "start_time": "2024-02-06T04:52:03.934942",
     "status": "completed"
    },
    "tags": []
   },
   "outputs": [],
   "source": [
    "# Google Spreadsheet ID\n",
    "SHEET_ID = '1JDNv_mArl-GPIpxuWS5GxgVEwvjXocS1MrXGc6TYs8M'\n",
    "SHEET_NAME = 'SGD/IDR' # USD/IDR, EUR/IDR, SGD/IDR\n",
    "\n",
    "SEQ_LEN = 21 # 6, 11, 21\n",
    "SPLIT = 0.90 # 0.80, 0.90\n",
    "LSTM_Layer = 2 # 1, 2, 3\n",
    "WINDOW_SIZE = SEQ_LEN - 1"
   ]
  },
  {
   "cell_type": "code",
   "execution_count": 3,
   "id": "3ba5b68b",
   "metadata": {
    "execution": {
     "iopub.execute_input": "2024-02-06T04:52:03.963052Z",
     "iopub.status.busy": "2024-02-06T04:52:03.962795Z",
     "iopub.status.idle": "2024-02-06T04:52:05.114389Z",
     "shell.execute_reply": "2024-02-06T04:52:05.113168Z"
    },
    "papermill": {
     "duration": 1.160783,
     "end_time": "2024-02-06T04:52:05.116363",
     "exception": false,
     "start_time": "2024-02-06T04:52:03.955580",
     "status": "completed"
    },
    "tags": []
   },
   "outputs": [
    {
     "name": "stdout",
     "output_type": "stream",
     "text": [
      "<class 'pandas.core.frame.DataFrame'>\n",
      "RangeIndex: 1959 entries, 0 to 1958\n",
      "Data columns (total 2 columns):\n",
      " #   Column  Non-Null Count  Dtype         \n",
      "---  ------  --------------  -----         \n",
      " 0   Date    1959 non-null   datetime64[ns]\n",
      " 1   Close   1959 non-null   float64       \n",
      "dtypes: datetime64[ns](1), float64(1)\n",
      "memory usage: 30.7 KB\n"
     ]
    }
   ],
   "source": [
    "url = f'https://docs.google.com/spreadsheets/d/{SHEET_ID}/gviz/tq?tqx=out:csv&sheet={SHEET_NAME}'\n",
    "data = pd.read_csv(url)\n",
    "\n",
    "# Convert Date columns to datetime format\n",
    "data['Date'] = pd.to_datetime(data['Date'], format='%d/%m/%Y %H:%M:%S')\n",
    "data.info()"
   ]
  },
  {
   "cell_type": "markdown",
   "id": "69b4ca01",
   "metadata": {
    "papermill": {
     "duration": 0.006441,
     "end_time": "2024-02-06T04:52:05.129504",
     "exception": false,
     "start_time": "2024-02-06T04:52:05.123063",
     "status": "completed"
    },
    "tags": []
   },
   "source": [
    "## Preprocessing"
   ]
  },
  {
   "cell_type": "code",
   "execution_count": 4,
   "id": "e933186f",
   "metadata": {
    "execution": {
     "iopub.execute_input": "2024-02-06T04:52:05.143551Z",
     "iopub.status.busy": "2024-02-06T04:52:05.143260Z",
     "iopub.status.idle": "2024-02-06T04:52:05.153986Z",
     "shell.execute_reply": "2024-02-06T04:52:05.152956Z"
    },
    "papermill": {
     "duration": 0.019894,
     "end_time": "2024-02-06T04:52:05.155831",
     "exception": false,
     "start_time": "2024-02-06T04:52:05.135937",
     "status": "completed"
    },
    "tags": []
   },
   "outputs": [
    {
     "name": "stderr",
     "output_type": "stream",
     "text": [
      "/tmp/ipykernel_26/2274720815.py:7: SettingWithCopyWarning: \n",
      "A value is trying to be set on a copy of a slice from a DataFrame\n",
      "\n",
      "See the caveats in the documentation: https://pandas.pydata.org/pandas-docs/stable/user_guide/indexing.html#returning-a-view-versus-a-copy\n",
      "  data[data < lower_bound] = lower_bound\n",
      "/tmp/ipykernel_26/2274720815.py:8: SettingWithCopyWarning: \n",
      "A value is trying to be set on a copy of a slice from a DataFrame\n",
      "\n",
      "See the caveats in the documentation: https://pandas.pydata.org/pandas-docs/stable/user_guide/indexing.html#returning-a-view-versus-a-copy\n",
      "  data[data > upper_bound] = upper_bound\n"
     ]
    }
   ],
   "source": [
    "def replace_outliers(data):\n",
    "    Q1 = np.percentile(data, 25)\n",
    "    Q3 = np.percentile(data, 75)\n",
    "    IQR = Q3 - Q1\n",
    "    lower_bound = Q1 - 1.5 * IQR\n",
    "    upper_bound = Q3 + 1.5 * IQR\n",
    "    data[data < lower_bound] = lower_bound\n",
    "    data[data > upper_bound] = upper_bound\n",
    "    return data\n",
    "\n",
    "data['Close'] = replace_outliers(data['Close'])"
   ]
  },
  {
   "cell_type": "code",
   "execution_count": 5,
   "id": "116502b2",
   "metadata": {
    "execution": {
     "iopub.execute_input": "2024-02-06T04:52:05.170007Z",
     "iopub.status.busy": "2024-02-06T04:52:05.169732Z",
     "iopub.status.idle": "2024-02-06T04:52:05.410876Z",
     "shell.execute_reply": "2024-02-06T04:52:05.410001Z"
    },
    "papermill": {
     "duration": 0.250484,
     "end_time": "2024-02-06T04:52:05.412936",
     "exception": false,
     "start_time": "2024-02-06T04:52:05.162452",
     "status": "completed"
    },
    "tags": []
   },
   "outputs": [
    {
     "data": {
      "image/png": "[encoded data removed]",
      "text/plain": [
       "<Figure size 640x480 with 1 Axes>"
      ]
     },
     "metadata": {},
     "output_type": "display_data"
    }
   ],
   "source": [
    "# Boxplot for outlier detection\n",
    "plt.boxplot(data['Close'])\n",
    "plt.title(f\"{SHEET_NAME} Boxplot for Outlier Detection\")\n",
    "plt.xlabel(\"Close\")\n",
    "plt.ylabel(\"Values\")\n",
    "plt.show()"
   ]
  },
  {
   "cell_type": "code",
   "execution_count": 6,
   "id": "949c73fd",
   "metadata": {
    "execution": {
     "iopub.execute_input": "2024-02-06T04:52:05.428461Z",
     "iopub.status.busy": "2024-02-06T04:52:05.428159Z",
     "iopub.status.idle": "2024-02-06T04:52:05.435365Z",
     "shell.execute_reply": "2024-02-06T04:52:05.434581Z"
    },
    "papermill": {
     "duration": 0.016989,
     "end_time": "2024-02-06T04:52:05.437165",
     "exception": false,
     "start_time": "2024-02-06T04:52:05.420176",
     "status": "completed"
    },
    "tags": []
   },
   "outputs": [
    {
     "data": {
      "text/plain": [
       "(1959, 1)"
      ]
     },
     "execution_count": 6,
     "metadata": {},
     "output_type": "execute_result"
    }
   ],
   "source": [
    "scaler = MinMaxScaler()\n",
    "close_price = data.Close.values.reshape(-1, 1)\n",
    "scaled_close = scaler.fit_transform(close_price)\n",
    "scaled_close.shape"
   ]
  },
  {
   "cell_type": "code",
   "execution_count": 7,
   "id": "e9aa9268",
   "metadata": {
    "execution": {
     "iopub.execute_input": "2024-02-06T04:52:05.452852Z",
     "iopub.status.busy": "2024-02-06T04:52:05.452210Z",
     "iopub.status.idle": "2024-02-06T04:52:05.461637Z",
     "shell.execute_reply": "2024-02-06T04:52:05.460991Z"
    },
    "papermill": {
     "duration": 0.019213,
     "end_time": "2024-02-06T04:52:05.463505",
     "exception": false,
     "start_time": "2024-02-06T04:52:05.444292",
     "status": "completed"
    },
    "tags": []
   },
   "outputs": [],
   "source": [
    "def to_sequences(data, seq_len):\n",
    "    d = []\n",
    "    for index in range(len(data) - seq_len):\n",
    "        d.append(data[index: index + seq_len])\n",
    "    return np.array(d)\n",
    "\n",
    "def preprocess(data_raw, seq_len, train_split):\n",
    "    data = to_sequences(data_raw, seq_len)\n",
    "    num_train = int(train_split * data.shape[0])\n",
    "    X_train = data[:num_train, :-1, :]\n",
    "    y_train = data[:num_train, -1, :]\n",
    "    X_test = data[num_train:, :-1, :]\n",
    "    y_test = data[num_train:, -1, :]\n",
    "    return X_train, y_train, X_test, y_test\n",
    "\n",
    "X_train, y_train, X_test, y_test = preprocess(scaled_close, SEQ_LEN, train_split = SPLIT)"
   ]
  },
  {
   "cell_type": "markdown",
   "id": "48baaec1",
   "metadata": {
    "papermill": {
     "duration": 0.006868,
     "end_time": "2024-02-06T04:52:05.477873",
     "exception": false,
     "start_time": "2024-02-06T04:52:05.471005",
     "status": "completed"
    },
    "tags": []
   },
   "source": [
    "## Genetic Algorithm"
   ]
  },
  {
   "cell_type": "code",
   "execution_count": 8,
   "id": "97ddb388",
   "metadata": {
    "execution": {
     "iopub.execute_input": "2024-02-06T04:52:05.492970Z",
     "iopub.status.busy": "2024-02-06T04:52:05.492716Z",
     "iopub.status.idle": "2024-02-06T04:52:05.498768Z",
     "shell.execute_reply": "2024-02-06T04:52:05.498104Z"
    },
    "papermill": {
     "duration": 0.0156,
     "end_time": "2024-02-06T04:52:05.500523",
     "exception": false,
     "start_time": "2024-02-06T04:52:05.484923",
     "status": "completed"
    },
    "tags": []
   },
   "outputs": [],
   "source": [
    "def decimal_to_binary(chromosome: list):\n",
    "    binary_string = ''.join([bin(x)[2:].zfill(8) for x in chromosome])\n",
    "    return binary_string\n",
    "\n",
    "def binary_to_decimal(binary_string: str):\n",
    "    decimal_array = [int(binary, 2) for binary in [binary_string[i:i+8] for i in range(0, len(binary_string), 8)]]\n",
    "    return decimal_array"
   ]
  },
  {
   "cell_type": "code",
   "execution_count": 9,
   "id": "898719fc",
   "metadata": {
    "execution": {
     "iopub.execute_input": "2024-02-06T04:52:05.516144Z",
     "iopub.status.busy": "2024-02-06T04:52:05.515495Z",
     "iopub.status.idle": "2024-02-06T04:52:05.533351Z",
     "shell.execute_reply": "2024-02-06T04:52:05.532580Z"
    },
    "papermill": {
     "duration": 0.027485,
     "end_time": "2024-02-06T04:52:05.535166",
     "exception": false,
     "start_time": "2024-02-06T04:52:05.507681",
     "status": "completed"
    },
    "tags": []
   },
   "outputs": [],
   "source": [
    "# Genetic Algorithm\n",
    "def genetic_algorithm(generations, mutation_rate):\n",
    "    print(f\"Inizialized Population...\")\n",
    "    population = np.random.randint(1, high=251, size=(10, 3))\n",
    "    fitness_scores = np.array([fitness_function(chromosome) for chromosome in population])\n",
    "    max_fitness_each_gen = []\n",
    "    \n",
    "    for generation in range(generations):\n",
    "        print(f\"Generation - {generation + 1}\")\n",
    "        max_fitness_each_gen.append(np.max(fitness_scores))\n",
    "        \n",
    "        chromosome_1 = selection(population, fitness_scores)\n",
    "        chromosome_2 = selection(population, fitness_scores)\n",
    "        \n",
    "        if generation % mutation_rate == 0:\n",
    "            chromosome_1 = mutate(chromosome_1)\n",
    "            chromosome_2 = mutate(chromosome_2)\n",
    "        else:\n",
    "            chromosome_1, chromosome_2 = crossover(chromosome_1, chromosome_2)\n",
    "\n",
    "        fitness_score_1 = fitness_function(chromosome_1)\n",
    "        fitness_score_2 = fitness_function(chromosome_2)\n",
    "        \n",
    "        worst_index = np.argmin(fitness_scores)\n",
    "        worst_fitness = fitness_scores[worst_index]\n",
    "\n",
    "        if fitness_score_1 > worst_fitness:\n",
    "            population[worst_index] = chromosome_1\n",
    "            fitness_scores[worst_index] = fitness_score_1\n",
    "            worst_index = np.argmin(fitness_scores)\n",
    "            worst_fitness = fitness_scores[worst_index]\n",
    "\n",
    "        if fitness_score_2 > worst_fitness:\n",
    "            population[worst_index] = chromosome_2\n",
    "            fitness_scores[worst_index] = fitness_score_2\n",
    "        \n",
    "        # Release some memory\n",
    "        del chromosome_1, chromosome_2\n",
    "        del fitness_score_1, fitness_score_2\n",
    "        del worst_index, worst_fitness\n",
    "            \n",
    "    best_chromosome = population[np.argmax(fitness_scores)]\n",
    "    best_fitness = np.max(fitness_scores)\n",
    "    \n",
    "    return best_chromosome, best_fitness, max_fitness_each_gen\n",
    "\n",
    "# Selection (Tournament selection)\n",
    "def selection(population, fitness_scores, tournament_size=3):\n",
    "    indices = np.random.randint(len(population), size=tournament_size)\n",
    "    tournament = population[indices]\n",
    "    tournament_fitness = fitness_scores[indices]\n",
    "    return tournament[np.argmax(tournament_fitness)]\n",
    "\n",
    "# Crossover (Single-point crossover)\n",
    "def crossover(parent_1: list, parent_2: list):\n",
    "    parent_1 = decimal_to_binary(parent_1)\n",
    "    parent_2 = decimal_to_binary(parent_2)\n",
    "    \n",
    "    crossover_point = np.random.randint(1, len(parent_1))\n",
    "    offspring_1 = parent_1[:crossover_point] + parent_2[crossover_point:]\n",
    "    offspring_2 = parent_2[:crossover_point] + parent_1[crossover_point:]\n",
    "    \n",
    "    offspring_1 = binary_to_decimal(offspring_1)\n",
    "    offspring_2 = binary_to_decimal(offspring_2)\n",
    "    return offspring_1, offspring_2\n",
    "\n",
    "# Mutation (Swap Mutation)\n",
    "def mutate(chromosome: list):\n",
    "    chromosome = decimal_to_binary(chromosome)\n",
    "    \n",
    "    chromosome_list = list(chromosome)\n",
    "    i = np.random.randint(len(chromosome_list), size=2)\n",
    "    chromosome_list[i[0]], chromosome_list[i[1]] = chromosome_list[i[1]], chromosome_list[i[0]]\n",
    "    \n",
    "    chromosome_list = ''.join(chromosome_list)\n",
    "    chromosome = binary_to_decimal(chromosome_list)\n",
    "    return chromosome\n",
    "\n",
    "# Fitness Function\n",
    "def fitness_function(chromosome: list):\n",
    "    lstm_units = [int(chromosome[i]) or default for i, default in enumerate([128, 64, 32])]\n",
    "\n",
    "    # Build the LSTM model\n",
    "    tf.keras.backend.clear_session()\n",
    "    model = Sequential()\n",
    "    for i, units in enumerate(lstm_units[:LSTM_Layer]):\n",
    "        model.add(LSTM(units, return_sequences=(i < LSTM_Layer - 1), input_shape=(WINDOW_SIZE, 1)))\n",
    "    model.add(Dense(1))\n",
    "    \n",
    "    # Compile and train the model\n",
    "    model.compile(loss='mean_squared_error',\n",
    "                  optimizer='adam')\n",
    "    model.fit(X_train, y_train,\n",
    "              epochs=10,\n",
    "              batch_size=32,\n",
    "              verbose=0,\n",
    "              validation_split=0.1)\n",
    "\n",
    "    # Evaluate the model\n",
    "    loss = model.evaluate(X_test, y_test)\n",
    "\n",
    "    # Return the negative value of the loss as the fitness score\n",
    "    return -loss"
   ]
  },
  {
   "cell_type": "code",
   "execution_count": 10,
   "id": "15e6e8e5",
   "metadata": {
    "execution": {
     "iopub.execute_input": "2024-02-06T04:52:05.550325Z",
     "iopub.status.busy": "2024-02-06T04:52:05.550081Z",
     "iopub.status.idle": "2024-02-06T04:52:05.555474Z",
     "shell.execute_reply": "2024-02-06T04:52:05.554761Z"
    },
    "papermill": {
     "duration": 0.015104,
     "end_time": "2024-02-06T04:52:05.557345",
     "exception": false,
     "start_time": "2024-02-06T04:52:05.542241",
     "status": "completed"
    },
    "tags": []
   },
   "outputs": [],
   "source": [
    "import typing\n",
    "from datetime import datetime\n",
    "\n",
    "def timer(start_time: datetime = None) -> \"typing.Union[datetime.datetime, str]\":\n",
    "    if not start_time:\n",
    "        start_time = datetime.now()\n",
    "        return start_time\n",
    "    elif start_time:\n",
    "        thour, temp_sec = divmod((datetime.now() - start_time).total_seconds(), 3600)\n",
    "        tmin, tsec = divmod(temp_sec, 60)\n",
    "        return \"%i hours %i minutes and %s seconds.\" % (\n",
    "            thour,\n",
    "            tmin,\n",
    "            round(tsec, 2),\n",
    "        )"
   ]
  },
  {
   "cell_type": "code",
   "execution_count": 11,
   "id": "47e2d749",
   "metadata": {
    "execution": {
     "iopub.execute_input": "2024-02-06T04:52:05.572519Z",
     "iopub.status.busy": "2024-02-06T04:52:05.572286Z",
     "iopub.status.idle": "2024-02-06T05:06:31.252058Z",
     "shell.execute_reply": "2024-02-06T05:06:31.251263Z"
    },
    "papermill": {
     "duration": 865.689557,
     "end_time": "2024-02-06T05:06:31.253968",
     "exception": false,
     "start_time": "2024-02-06T04:52:05.564411",
     "status": "completed"
    },
    "tags": []
   },
   "outputs": [
    {
     "name": "stdout",
     "output_type": "stream",
     "text": [
      "Inizialized Population...\n",
      "7/7 [==============================] - 0s 3ms/step - loss: 0.0012\n",
      "7/7 [==============================] - 0s 3ms/step - loss: 0.0012\n",
      "7/7 [==============================] - 0s 3ms/step - loss: 0.0018\n",
      "7/7 [==============================] - 0s 3ms/step - loss: 6.7430e-04\n",
      "7/7 [==============================] - 0s 3ms/step - loss: 0.0027\n",
      "7/7 [==============================] - 0s 3ms/step - loss: 8.7673e-04\n",
      "7/7 [==============================] - 0s 3ms/step - loss: 8.5678e-04\n",
      "7/7 [==============================] - 0s 3ms/step - loss: 0.0012\n",
      "7/7 [==============================] - 0s 3ms/step - loss: 4.8090e-04\n",
      "7/7 [==============================] - 0s 3ms/step - loss: 4.2217e-04\n",
      "Generation - 1\n",
      "7/7 [==============================] - 0s 4ms/step - loss: 0.0073\n",
      "7/7 [==============================] - 0s 3ms/step - loss: 0.0013\n",
      "Generation - 2\n",
      "7/7 [==============================] - 0s 3ms/step - loss: 4.8558e-04\n",
      "7/7 [==============================] - 0s 3ms/step - loss: 0.0073\n",
      "Generation - 3\n",
      "7/7 [==============================] - 0s 3ms/step - loss: 6.0156e-04\n",
      "7/7 [==============================] - 0s 4ms/step - loss: 0.0026\n",
      "Generation - 4\n",
      "7/7 [==============================] - 0s 4ms/step - loss: 0.0027\n",
      "7/7 [==============================] - 0s 4ms/step - loss: 8.0010e-04\n",
      "Generation - 5\n",
      "7/7 [==============================] - 0s 3ms/step - loss: 0.0043\n",
      "7/7 [==============================] - 0s 3ms/step - loss: 0.0011\n",
      "Generation - 6\n",
      "7/7 [==============================] - 0s 3ms/step - loss: 0.0016\n",
      "7/7 [==============================] - 0s 3ms/step - loss: 0.0014\n",
      "Generation - 7\n",
      "7/7 [==============================] - 0s 3ms/step - loss: 0.0011\n",
      "7/7 [==============================] - 0s 4ms/step - loss: 0.0024\n",
      "Generation - 8\n",
      "7/7 [==============================] - 0s 4ms/step - loss: 0.0017\n",
      "7/7 [==============================] - 0s 3ms/step - loss: 6.6979e-04\n",
      "Generation - 9\n",
      "7/7 [==============================] - 0s 3ms/step - loss: 0.0016\n",
      "7/7 [==============================] - 0s 4ms/step - loss: 0.0050\n",
      "Generation - 10\n",
      "7/7 [==============================] - 0s 3ms/step - loss: 5.3787e-04\n",
      "7/7 [==============================] - 0s 5ms/step - loss: 4.5139e-04\n",
      "Generation - 11\n",
      "7/7 [==============================] - 0s 3ms/step - loss: 0.0026\n",
      "7/7 [==============================] - 0s 4ms/step - loss: 9.0486e-04\n",
      "Generation - 12\n",
      "7/7 [==============================] - 0s 3ms/step - loss: 0.0015\n",
      "7/7 [==============================] - 0s 3ms/step - loss: 8.9732e-04\n",
      "Generation - 13\n",
      "7/7 [==============================] - 0s 3ms/step - loss: 0.0021\n",
      "7/7 [==============================] - 0s 4ms/step - loss: 7.4360e-04\n",
      "Generation - 14\n",
      "7/7 [==============================] - 0s 3ms/step - loss: 0.0011\n",
      "7/7 [==============================] - 0s 3ms/step - loss: 0.0014\n",
      "Generation - 15\n",
      "7/7 [==============================] - 0s 3ms/step - loss: 0.0095\n",
      "7/7 [==============================] - 0s 4ms/step - loss: 0.0016\n",
      "Generation - 16\n",
      "7/7 [==============================] - 0s 3ms/step - loss: 7.3632e-04\n",
      "7/7 [==============================] - 0s 3ms/step - loss: 6.4982e-04\n",
      "Generation - 17\n",
      "7/7 [==============================] - 0s 3ms/step - loss: 5.1788e-04\n",
      "7/7 [==============================] - 0s 3ms/step - loss: 7.9566e-04\n",
      "Generation - 18\n",
      "7/7 [==============================] - 0s 3ms/step - loss: 0.0037\n",
      "7/7 [==============================] - 0s 3ms/step - loss: 8.0625e-04\n",
      "Generation - 19\n",
      "7/7 [==============================] - 0s 3ms/step - loss: 0.0019\n",
      "7/7 [==============================] - 0s 4ms/step - loss: 0.0054\n",
      "Generation - 20\n",
      "7/7 [==============================] - 0s 3ms/step - loss: 0.0060\n",
      "7/7 [==============================] - 0s 3ms/step - loss: 0.0032\n",
      "Generation - 21\n",
      "7/7 [==============================] - 0s 3ms/step - loss: 4.0675e-04\n",
      "7/7 [==============================] - 0s 4ms/step - loss: 0.0011\n",
      "Generation - 22\n",
      "7/7 [==============================] - 0s 3ms/step - loss: 0.0038\n",
      "7/7 [==============================] - 0s 3ms/step - loss: 0.0011\n",
      "Generation - 23\n",
      "7/7 [==============================] - 0s 3ms/step - loss: 5.2957e-04\n",
      "7/7 [==============================] - 0s 3ms/step - loss: 3.9730e-04\n",
      "Generation - 24\n",
      "7/7 [==============================] - 0s 3ms/step - loss: 0.0035\n",
      "7/7 [==============================] - 0s 3ms/step - loss: 8.4520e-04\n",
      "Generation - 25\n",
      "7/7 [==============================] - 0s 3ms/step - loss: 0.0022\n",
      "7/7 [==============================] - 0s 4ms/step - loss: 7.1630e-04\n",
      "Generation - 26\n",
      "7/7 [==============================] - 0s 3ms/step - loss: 4.5486e-04\n",
      "7/7 [==============================] - 0s 4ms/step - loss: 0.0073\n",
      "Generation - 27\n",
      "7/7 [==============================] - 0s 3ms/step - loss: 0.0031\n",
      "7/7 [==============================] - 0s 4ms/step - loss: 0.0012\n",
      "Generation - 28\n",
      "7/7 [==============================] - 0s 3ms/step - loss: 0.0153\n",
      "7/7 [==============================] - 0s 3ms/step - loss: 0.0024\n",
      "Generation - 29\n",
      "7/7 [==============================] - 0s 3ms/step - loss: 0.0012\n",
      "7/7 [==============================] - 0s 4ms/step - loss: 0.0013\n",
      "Generation - 30\n",
      "7/7 [==============================] - 0s 3ms/step - loss: 0.0117\n",
      "7/7 [==============================] - 0s 3ms/step - loss: 0.0037\n",
      "Generation - 31\n",
      "7/7 [==============================] - 0s 3ms/step - loss: 8.7596e-04\n",
      "7/7 [==============================] - 0s 4ms/step - loss: 0.0011\n",
      "Generation - 32\n",
      "7/7 [==============================] - 0s 3ms/step - loss: 0.0045\n",
      "7/7 [==============================] - 0s 3ms/step - loss: 0.0064\n",
      "Generation - 33\n",
      "7/7 [==============================] - 0s 3ms/step - loss: 0.0067\n",
      "7/7 [==============================] - 0s 3ms/step - loss: 0.0048\n",
      "Generation - 34\n",
      "7/7 [==============================] - 0s 3ms/step - loss: 0.0026\n",
      "7/7 [==============================] - 0s 3ms/step - loss: 0.0018\n",
      "Generation - 35\n",
      "7/7 [==============================] - 0s 4ms/step - loss: 0.0021\n",
      "7/7 [==============================] - 0s 4ms/step - loss: 0.0011\n",
      "Generation - 36\n",
      "7/7 [==============================] - 0s 3ms/step - loss: 0.0274\n",
      "7/7 [==============================] - 0s 3ms/step - loss: 0.0019\n",
      "Generation - 37\n",
      "7/7 [==============================] - 0s 4ms/step - loss: 0.0012\n",
      "7/7 [==============================] - 0s 4ms/step - loss: 4.7664e-04\n",
      "Generation - 38\n",
      "7/7 [==============================] - 0s 3ms/step - loss: 0.0053\n",
      "7/7 [==============================] - 0s 3ms/step - loss: 4.0426e-04\n",
      "Generation - 39\n",
      "7/7 [==============================] - 0s 3ms/step - loss: 0.0016\n",
      "7/7 [==============================] - 0s 4ms/step - loss: 7.2540e-04\n",
      "Generation - 40\n",
      "7/7 [==============================] - 0s 3ms/step - loss: 0.0022\n",
      "7/7 [==============================] - 0s 4ms/step - loss: 4.3874e-04\n",
      "Generation - 41\n",
      "7/7 [==============================] - 0s 3ms/step - loss: 4.1356e-04\n",
      "7/7 [==============================] - 0s 4ms/step - loss: 4.1299e-04\n",
      "Generation - 42\n",
      "7/7 [==============================] - 0s 3ms/step - loss: 0.0018\n",
      "7/7 [==============================] - 0s 3ms/step - loss: 0.0022\n",
      "Generation - 43\n",
      "7/7 [==============================] - 0s 3ms/step - loss: 0.0014\n",
      "7/7 [==============================] - 0s 4ms/step - loss: 0.0018\n",
      "Generation - 44\n",
      "7/7 [==============================] - 0s 4ms/step - loss: 7.2152e-04\n",
      "7/7 [==============================] - 0s 3ms/step - loss: 8.6733e-04\n",
      "Generation - 45\n",
      "7/7 [==============================] - 0s 3ms/step - loss: 7.1410e-04\n",
      "7/7 [==============================] - 0s 4ms/step - loss: 6.4170e-04\n",
      "Generation - 46\n",
      "7/7 [==============================] - 0s 3ms/step - loss: 0.0025\n",
      "7/7 [==============================] - 0s 3ms/step - loss: 5.3698e-04\n",
      "Generation - 47\n",
      "7/7 [==============================] - 0s 3ms/step - loss: 5.3694e-04\n",
      "7/7 [==============================] - 0s 4ms/step - loss: 0.0028\n",
      "Generation - 48\n",
      "7/7 [==============================] - 0s 3ms/step - loss: 5.5041e-04\n",
      "7/7 [==============================] - 0s 3ms/step - loss: 0.0042\n",
      "Generation - 49\n",
      "7/7 [==============================] - 0s 3ms/step - loss: 0.0017\n",
      "7/7 [==============================] - 0s 3ms/step - loss: 4.2909e-04\n",
      "Generation - 50\n",
      "7/7 [==============================] - 0s 3ms/step - loss: 8.2999e-04\n",
      "7/7 [==============================] - 0s 3ms/step - loss: 5.9182e-04\n"
     ]
    }
   ],
   "source": [
    "# Do not increase this value\n",
    "generations = 50\n",
    "mutation_rate = 5\n",
    "\n",
    "time = timer(None)\n",
    "best_chromosome, best_fitness, max_fitness_each_gen = genetic_algorithm(generations, mutation_rate)\n",
    "time = timer(time)"
   ]
  },
  {
   "cell_type": "code",
   "execution_count": 12,
   "id": "cd504913",
   "metadata": {
    "execution": {
     "iopub.execute_input": "2024-02-06T05:06:31.308810Z",
     "iopub.status.busy": "2024-02-06T05:06:31.308492Z",
     "iopub.status.idle": "2024-02-06T05:06:31.313730Z",
     "shell.execute_reply": "2024-02-06T05:06:31.312802Z"
    },
    "papermill": {
     "duration": 0.034738,
     "end_time": "2024-02-06T05:06:31.315710",
     "exception": false,
     "start_time": "2024-02-06T05:06:31.280972",
     "status": "completed"
    },
    "tags": []
   },
   "outputs": [
    {
     "name": "stdout",
     "output_type": "stream",
     "text": [
      "Best Chromosome: [199  81 184]\n",
      "Best Fitness: -0.00039729996933601797\n",
      "Time Taken: 0 hours 14 minutes and 25.68 seconds.\n"
     ]
    }
   ],
   "source": [
    "print(\"Best Chromosome:\", best_chromosome)\n",
    "print(\"Best Fitness:\", best_fitness)\n",
    "print(\"Time Taken:\", time)"
   ]
  },
  {
   "cell_type": "code",
   "execution_count": 13,
   "id": "2a2e1bdc",
   "metadata": {
    "execution": {
     "iopub.execute_input": "2024-02-06T05:06:31.370660Z",
     "iopub.status.busy": "2024-02-06T05:06:31.370124Z",
     "iopub.status.idle": "2024-02-06T05:06:31.376302Z",
     "shell.execute_reply": "2024-02-06T05:06:31.375417Z"
    },
    "papermill": {
     "duration": 0.035241,
     "end_time": "2024-02-06T05:06:31.378148",
     "exception": false,
     "start_time": "2024-02-06T05:06:31.342907",
     "status": "completed"
    },
    "tags": []
   },
   "outputs": [
    {
     "data": {
      "text/plain": [
       "[-0.0004221682029310614,\n",
       " -0.0004221682029310614,\n",
       " -0.0004221682029310614,\n",
       " -0.0004221682029310614,\n",
       " -0.0004221682029310614,\n",
       " -0.0004221682029310614,\n",
       " -0.0004221682029310614,\n",
       " -0.0004221682029310614,\n",
       " -0.0004221682029310614,\n",
       " -0.0004221682029310614,\n",
       " -0.0004221682029310614,\n",
       " -0.0004221682029310614,\n",
       " -0.0004221682029310614,\n",
       " -0.0004221682029310614,\n",
       " -0.0004221682029310614,\n",
       " -0.0004221682029310614,\n",
       " -0.0004221682029310614,\n",
       " -0.0004221682029310614,\n",
       " -0.0004221682029310614,\n",
       " -0.0004221682029310614,\n",
       " -0.0004221682029310614,\n",
       " -0.0004067483823746443,\n",
       " -0.0004067483823746443,\n",
       " -0.00039729996933601797,\n",
       " -0.00039729996933601797,\n",
       " -0.00039729996933601797,\n",
       " -0.00039729996933601797,\n",
       " -0.00039729996933601797,\n",
       " -0.00039729996933601797,\n",
       " -0.00039729996933601797,\n",
       " -0.00039729996933601797,\n",
       " -0.00039729996933601797,\n",
       " -0.00039729996933601797,\n",
       " -0.00039729996933601797,\n",
       " -0.00039729996933601797,\n",
       " -0.00039729996933601797,\n",
       " -0.00039729996933601797,\n",
       " -0.00039729996933601797,\n",
       " -0.00039729996933601797,\n",
       " -0.00039729996933601797,\n",
       " -0.00039729996933601797,\n",
       " -0.00039729996933601797,\n",
       " -0.00039729996933601797,\n",
       " -0.00039729996933601797,\n",
       " -0.00039729996933601797,\n",
       " -0.00039729996933601797,\n",
       " -0.00039729996933601797,\n",
       " -0.00039729996933601797,\n",
       " -0.00039729996933601797,\n",
       " -0.00039729996933601797]"
      ]
     },
     "execution_count": 13,
     "metadata": {},
     "output_type": "execute_result"
    }
   ],
   "source": [
    "max_fitness_each_gen"
   ]
  },
  {
   "cell_type": "markdown",
   "id": "0805e646",
   "metadata": {
    "papermill": {
     "duration": 0.026746,
     "end_time": "2024-02-06T05:06:31.431579",
     "exception": false,
     "start_time": "2024-02-06T05:06:31.404833",
     "status": "completed"
    },
    "tags": []
   },
   "source": [
    "## Re-Training Model with Best Parameter"
   ]
  },
  {
   "cell_type": "code",
   "execution_count": 14,
   "id": "57153472",
   "metadata": {
    "execution": {
     "iopub.execute_input": "2024-02-06T05:06:31.485953Z",
     "iopub.status.busy": "2024-02-06T05:06:31.485700Z",
     "iopub.status.idle": "2024-02-06T05:06:31.985828Z",
     "shell.execute_reply": "2024-02-06T05:06:31.984927Z"
    },
    "papermill": {
     "duration": 0.53169,
     "end_time": "2024-02-06T05:06:31.989890",
     "exception": false,
     "start_time": "2024-02-06T05:06:31.458200",
     "status": "completed"
    },
    "tags": []
   },
   "outputs": [
    {
     "name": "stdout",
     "output_type": "stream",
     "text": [
      "Model: \"sequential_1\"\n",
      "_________________________________________________________________\n",
      " Layer (type)                Output Shape              Param #   \n",
      "=================================================================\n",
      " lstm_2 (LSTM)               (None, 20, 199)           159996    \n",
      "                                                                 \n",
      " lstm_3 (LSTM)               (None, 81)                91044     \n",
      "                                                                 \n",
      " dense_1 (Dense)             (None, 1)                 82        \n",
      "                                                                 \n",
      "=================================================================\n",
      "Total params: 251,122\n",
      "Trainable params: 251,122\n",
      "Non-trainable params: 0\n",
      "_________________________________________________________________\n"
     ]
    }
   ],
   "source": [
    "model = Sequential()\n",
    "for i, units in enumerate(best_chromosome[:LSTM_Layer]):\n",
    "    model.add(LSTM(units, return_sequences=(i < LSTM_Layer - 1), input_shape=(WINDOW_SIZE, 1)))\n",
    "model.add(Dense(1))\n",
    "\n",
    "model.summary()"
   ]
  },
  {
   "cell_type": "code",
   "execution_count": 15,
   "id": "0099ee5e",
   "metadata": {
    "execution": {
     "iopub.execute_input": "2024-02-06T05:06:32.047105Z",
     "iopub.status.busy": "2024-02-06T05:06:32.046809Z",
     "iopub.status.idle": "2024-02-06T05:06:56.317443Z",
     "shell.execute_reply": "2024-02-06T05:06:56.316587Z"
    },
    "papermill": {
     "duration": 24.301767,
     "end_time": "2024-02-06T05:06:56.319876",
     "exception": false,
     "start_time": "2024-02-06T05:06:32.018109",
     "status": "completed"
    },
    "tags": []
   },
   "outputs": [
    {
     "name": "stdout",
     "output_type": "stream",
     "text": [
      "Epoch 1/50\n",
      "50/50 [==============================] - 5s 22ms/step - loss: 0.0183 - mae: 0.0890 - root_mean_squared_error: 0.1353 - val_loss: 0.0031 - val_mae: 0.0442 - val_root_mean_squared_error: 0.0558\n",
      "Epoch 2/50\n",
      "50/50 [==============================] - 0s 7ms/step - loss: 0.0057 - mae: 0.0453 - root_mean_squared_error: 0.0758 - val_loss: 0.0026 - val_mae: 0.0389 - val_root_mean_squared_error: 0.0508\n",
      "Epoch 3/50\n",
      "50/50 [==============================] - 0s 7ms/step - loss: 0.0052 - mae: 0.0422 - root_mean_squared_error: 0.0720 - val_loss: 0.0032 - val_mae: 0.0436 - val_root_mean_squared_error: 0.0562\n",
      "Epoch 4/50\n",
      "50/50 [==============================] - 0s 7ms/step - loss: 0.0052 - mae: 0.0434 - root_mean_squared_error: 0.0724 - val_loss: 0.0017 - val_mae: 0.0321 - val_root_mean_squared_error: 0.0410\n",
      "Epoch 5/50\n",
      "50/50 [==============================] - 0s 7ms/step - loss: 0.0048 - mae: 0.0406 - root_mean_squared_error: 0.0693 - val_loss: 0.0014 - val_mae: 0.0301 - val_root_mean_squared_error: 0.0377\n",
      "Epoch 6/50\n",
      "50/50 [==============================] - 0s 7ms/step - loss: 0.0047 - mae: 0.0395 - root_mean_squared_error: 0.0686 - val_loss: 0.0020 - val_mae: 0.0340 - val_root_mean_squared_error: 0.0442\n",
      "Epoch 7/50\n",
      "50/50 [==============================] - 0s 7ms/step - loss: 0.0045 - mae: 0.0389 - root_mean_squared_error: 0.0672 - val_loss: 0.0031 - val_mae: 0.0457 - val_root_mean_squared_error: 0.0556\n",
      "Epoch 8/50\n",
      "50/50 [==============================] - 0s 7ms/step - loss: 0.0043 - mae: 0.0373 - root_mean_squared_error: 0.0659 - val_loss: 0.0114 - val_mae: 0.0976 - val_root_mean_squared_error: 0.1066\n",
      "Epoch 9/50\n",
      "50/50 [==============================] - 0s 7ms/step - loss: 0.0056 - mae: 0.0474 - root_mean_squared_error: 0.0750 - val_loss: 0.0012 - val_mae: 0.0263 - val_root_mean_squared_error: 0.0344\n",
      "Epoch 10/50\n",
      "50/50 [==============================] - 0s 7ms/step - loss: 0.0042 - mae: 0.0368 - root_mean_squared_error: 0.0646 - val_loss: 0.0029 - val_mae: 0.0443 - val_root_mean_squared_error: 0.0539\n",
      "Epoch 11/50\n",
      "50/50 [==============================] - 0s 7ms/step - loss: 0.0040 - mae: 0.0362 - root_mean_squared_error: 0.0629 - val_loss: 8.8665e-04 - val_mae: 0.0234 - val_root_mean_squared_error: 0.0298\n",
      "Epoch 12/50\n",
      "50/50 [==============================] - 0s 7ms/step - loss: 0.0041 - mae: 0.0377 - root_mean_squared_error: 0.0643 - val_loss: 9.1413e-04 - val_mae: 0.0238 - val_root_mean_squared_error: 0.0302\n",
      "Epoch 13/50\n",
      "50/50 [==============================] - 0s 7ms/step - loss: 0.0038 - mae: 0.0346 - root_mean_squared_error: 0.0613 - val_loss: 0.0010 - val_mae: 0.0249 - val_root_mean_squared_error: 0.0320\n",
      "Epoch 14/50\n",
      "50/50 [==============================] - 0s 7ms/step - loss: 0.0036 - mae: 0.0330 - root_mean_squared_error: 0.0603 - val_loss: 9.1243e-04 - val_mae: 0.0236 - val_root_mean_squared_error: 0.0302\n",
      "Epoch 15/50\n",
      "50/50 [==============================] - 0s 7ms/step - loss: 0.0036 - mae: 0.0332 - root_mean_squared_error: 0.0604 - val_loss: 9.0949e-04 - val_mae: 0.0236 - val_root_mean_squared_error: 0.0302\n",
      "Epoch 16/50\n",
      "50/50 [==============================] - 0s 7ms/step - loss: 0.0035 - mae: 0.0325 - root_mean_squared_error: 0.0589 - val_loss: 9.2194e-04 - val_mae: 0.0237 - val_root_mean_squared_error: 0.0304\n",
      "Epoch 17/50\n",
      "50/50 [==============================] - 0s 8ms/step - loss: 0.0034 - mae: 0.0319 - root_mean_squared_error: 0.0587 - val_loss: 0.0011 - val_mae: 0.0275 - val_root_mean_squared_error: 0.0330\n",
      "Epoch 18/50\n",
      "50/50 [==============================] - 0s 7ms/step - loss: 0.0036 - mae: 0.0335 - root_mean_squared_error: 0.0597 - val_loss: 8.4498e-04 - val_mae: 0.0224 - val_root_mean_squared_error: 0.0291\n",
      "Epoch 19/50\n",
      "50/50 [==============================] - 0s 7ms/step - loss: 0.0033 - mae: 0.0306 - root_mean_squared_error: 0.0577 - val_loss: 8.6548e-04 - val_mae: 0.0225 - val_root_mean_squared_error: 0.0294\n",
      "Epoch 20/50\n",
      "50/50 [==============================] - 0s 7ms/step - loss: 0.0035 - mae: 0.0321 - root_mean_squared_error: 0.0593 - val_loss: 0.0014 - val_mae: 0.0293 - val_root_mean_squared_error: 0.0376\n",
      "Epoch 21/50\n",
      "50/50 [==============================] - 0s 7ms/step - loss: 0.0034 - mae: 0.0311 - root_mean_squared_error: 0.0585 - val_loss: 7.5610e-04 - val_mae: 0.0212 - val_root_mean_squared_error: 0.0275\n",
      "Epoch 22/50\n",
      "50/50 [==============================] - 0s 7ms/step - loss: 0.0034 - mae: 0.0307 - root_mean_squared_error: 0.0580 - val_loss: 0.0013 - val_mae: 0.0305 - val_root_mean_squared_error: 0.0356\n",
      "Epoch 23/50\n",
      "50/50 [==============================] - 0s 7ms/step - loss: 0.0033 - mae: 0.0310 - root_mean_squared_error: 0.0578 - val_loss: 0.0011 - val_mae: 0.0251 - val_root_mean_squared_error: 0.0325\n",
      "Epoch 24/50\n",
      "50/50 [==============================] - 0s 7ms/step - loss: 0.0033 - mae: 0.0302 - root_mean_squared_error: 0.0574 - val_loss: 9.0669e-04 - val_mae: 0.0230 - val_root_mean_squared_error: 0.0301\n",
      "Epoch 25/50\n",
      "50/50 [==============================] - 0s 7ms/step - loss: 0.0034 - mae: 0.0309 - root_mean_squared_error: 0.0585 - val_loss: 0.0014 - val_mae: 0.0331 - val_root_mean_squared_error: 0.0381\n",
      "Epoch 26/50\n",
      "50/50 [==============================] - 0s 7ms/step - loss: 0.0038 - mae: 0.0364 - root_mean_squared_error: 0.0615 - val_loss: 0.0017 - val_mae: 0.0324 - val_root_mean_squared_error: 0.0409\n",
      "Epoch 27/50\n",
      "50/50 [==============================] - 0s 7ms/step - loss: 0.0034 - mae: 0.0305 - root_mean_squared_error: 0.0580 - val_loss: 7.2308e-04 - val_mae: 0.0209 - val_root_mean_squared_error: 0.0269\n",
      "Epoch 28/50\n",
      "50/50 [==============================] - 0s 7ms/step - loss: 0.0034 - mae: 0.0316 - root_mean_squared_error: 0.0585 - val_loss: 0.0014 - val_mae: 0.0290 - val_root_mean_squared_error: 0.0373\n",
      "Epoch 29/50\n",
      "50/50 [==============================] - 0s 7ms/step - loss: 0.0033 - mae: 0.0294 - root_mean_squared_error: 0.0575 - val_loss: 0.0012 - val_mae: 0.0268 - val_root_mean_squared_error: 0.0348\n",
      "Epoch 30/50\n",
      "50/50 [==============================] - 0s 7ms/step - loss: 0.0034 - mae: 0.0307 - root_mean_squared_error: 0.0580 - val_loss: 9.8203e-04 - val_mae: 0.0240 - val_root_mean_squared_error: 0.0313\n",
      "Epoch 31/50\n",
      "50/50 [==============================] - 0s 7ms/step - loss: 0.0033 - mae: 0.0302 - root_mean_squared_error: 0.0577 - val_loss: 0.0012 - val_mae: 0.0275 - val_root_mean_squared_error: 0.0353\n",
      "Epoch 32/50\n",
      "50/50 [==============================] - 0s 7ms/step - loss: 0.0034 - mae: 0.0311 - root_mean_squared_error: 0.0583 - val_loss: 7.3692e-04 - val_mae: 0.0206 - val_root_mean_squared_error: 0.0271\n",
      "Epoch 33/50\n",
      "50/50 [==============================] - 0s 7ms/step - loss: 0.0033 - mae: 0.0292 - root_mean_squared_error: 0.0573 - val_loss: 9.7736e-04 - val_mae: 0.0240 - val_root_mean_squared_error: 0.0313\n",
      "Epoch 34/50\n",
      "50/50 [==============================] - 0s 7ms/step - loss: 0.0034 - mae: 0.0308 - root_mean_squared_error: 0.0579 - val_loss: 6.6898e-04 - val_mae: 0.0196 - val_root_mean_squared_error: 0.0259\n",
      "Epoch 35/50\n",
      "50/50 [==============================] - 0s 7ms/step - loss: 0.0034 - mae: 0.0310 - root_mean_squared_error: 0.0582 - val_loss: 0.0011 - val_mae: 0.0258 - val_root_mean_squared_error: 0.0335\n",
      "Epoch 36/50\n",
      "50/50 [==============================] - 0s 7ms/step - loss: 0.0033 - mae: 0.0302 - root_mean_squared_error: 0.0574 - val_loss: 7.4902e-04 - val_mae: 0.0213 - val_root_mean_squared_error: 0.0274\n",
      "Epoch 37/50\n",
      "50/50 [==============================] - 0s 7ms/step - loss: 0.0035 - mae: 0.0329 - root_mean_squared_error: 0.0595 - val_loss: 0.0017 - val_mae: 0.0331 - val_root_mean_squared_error: 0.0416\n",
      "Epoch 38/50\n",
      "50/50 [==============================] - 0s 7ms/step - loss: 0.0034 - mae: 0.0314 - root_mean_squared_error: 0.0585 - val_loss: 0.0012 - val_mae: 0.0289 - val_root_mean_squared_error: 0.0341\n",
      "Epoch 39/50\n",
      "50/50 [==============================] - 0s 7ms/step - loss: 0.0033 - mae: 0.0296 - root_mean_squared_error: 0.0574 - val_loss: 0.0011 - val_mae: 0.0262 - val_root_mean_squared_error: 0.0339\n",
      "Epoch 40/50\n",
      "50/50 [==============================] - 0s 7ms/step - loss: 0.0033 - mae: 0.0308 - root_mean_squared_error: 0.0577 - val_loss: 8.8091e-04 - val_mae: 0.0225 - val_root_mean_squared_error: 0.0297\n",
      "Epoch 41/50\n",
      "50/50 [==============================] - 0s 7ms/step - loss: 0.0033 - mae: 0.0304 - root_mean_squared_error: 0.0578 - val_loss: 7.7343e-04 - val_mae: 0.0214 - val_root_mean_squared_error: 0.0278\n",
      "Epoch 42/50\n",
      "50/50 [==============================] - 0s 7ms/step - loss: 0.0034 - mae: 0.0314 - root_mean_squared_error: 0.0584 - val_loss: 8.7215e-04 - val_mae: 0.0226 - val_root_mean_squared_error: 0.0295\n",
      "Epoch 43/50\n",
      "50/50 [==============================] - 0s 7ms/step - loss: 0.0033 - mae: 0.0306 - root_mean_squared_error: 0.0577 - val_loss: 0.0034 - val_mae: 0.0506 - val_root_mean_squared_error: 0.0580\n",
      "Epoch 44/50\n",
      "50/50 [==============================] - 0s 7ms/step - loss: 0.0036 - mae: 0.0342 - root_mean_squared_error: 0.0600 - val_loss: 7.5251e-04 - val_mae: 0.0212 - val_root_mean_squared_error: 0.0274\n",
      "Epoch 45/50\n",
      "50/50 [==============================] - 0s 8ms/step - loss: 0.0033 - mae: 0.0296 - root_mean_squared_error: 0.0574 - val_loss: 0.0023 - val_mae: 0.0393 - val_root_mean_squared_error: 0.0478\n",
      "Epoch 46/50\n",
      "50/50 [==============================] - 0s 7ms/step - loss: 0.0036 - mae: 0.0333 - root_mean_squared_error: 0.0603 - val_loss: 0.0011 - val_mae: 0.0250 - val_root_mean_squared_error: 0.0327\n",
      "Epoch 47/50\n",
      "50/50 [==============================] - 0s 7ms/step - loss: 0.0034 - mae: 0.0305 - root_mean_squared_error: 0.0580 - val_loss: 0.0023 - val_mae: 0.0403 - val_root_mean_squared_error: 0.0485\n",
      "Epoch 48/50\n",
      "50/50 [==============================] - 0s 7ms/step - loss: 0.0033 - mae: 0.0317 - root_mean_squared_error: 0.0578 - val_loss: 7.7395e-04 - val_mae: 0.0213 - val_root_mean_squared_error: 0.0278\n",
      "Epoch 49/50\n",
      "50/50 [==============================] - 0s 7ms/step - loss: 0.0033 - mae: 0.0310 - root_mean_squared_error: 0.0577 - val_loss: 9.6323e-04 - val_mae: 0.0238 - val_root_mean_squared_error: 0.0310\n",
      "Epoch 50/50\n",
      "50/50 [==============================] - 0s 7ms/step - loss: 0.0032 - mae: 0.0290 - root_mean_squared_error: 0.0568 - val_loss: 8.5887e-04 - val_mae: 0.0224 - val_root_mean_squared_error: 0.0293\n"
     ]
    }
   ],
   "source": [
    "model.compile(loss='mean_squared_error',\n",
    "              metrics=['mae', RootMeanSquaredError()],\n",
    "              optimizer='adam')\n",
    "\n",
    "history = model.fit(X_train,\n",
    "                    y_train,\n",
    "                    epochs=50,\n",
    "                    batch_size=32,\n",
    "                    validation_split=0.1)"
   ]
  },
  {
   "cell_type": "code",
   "execution_count": 16,
   "id": "d5ca16b9",
   "metadata": {
    "execution": {
     "iopub.execute_input": "2024-02-06T05:06:56.436308Z",
     "iopub.status.busy": "2024-02-06T05:06:56.435974Z",
     "iopub.status.idle": "2024-02-06T05:06:56.526947Z",
     "shell.execute_reply": "2024-02-06T05:06:56.526048Z"
    },
    "papermill": {
     "duration": 0.151355,
     "end_time": "2024-02-06T05:06:56.528928",
     "exception": false,
     "start_time": "2024-02-06T05:06:56.377573",
     "status": "completed"
    },
    "tags": []
   },
   "outputs": [
    {
     "name": "stdout",
     "output_type": "stream",
     "text": [
      "7/7 [==============================] - 0s 4ms/step - loss: 8.9977e-04 - mae: 0.0274 - root_mean_squared_error: 0.0300\n"
     ]
    },
    {
     "data": {
      "text/plain": [
       "[0.0008997658151201904, 0.02736411802470684, 0.029996095225214958]"
      ]
     },
     "execution_count": 16,
     "metadata": {},
     "output_type": "execute_result"
    }
   ],
   "source": [
    "model.evaluate(X_test, y_test)"
   ]
  },
  {
   "cell_type": "markdown",
   "id": "35597809",
   "metadata": {
    "papermill": {
     "duration": 0.057273,
     "end_time": "2024-02-06T05:06:56.643888",
     "exception": false,
     "start_time": "2024-02-06T05:06:56.586615",
     "status": "completed"
    },
    "tags": []
   },
   "source": [
    "## Model Evaluation"
   ]
  },
  {
   "cell_type": "code",
   "execution_count": 17,
   "id": "24b7861f",
   "metadata": {
    "execution": {
     "iopub.execute_input": "2024-02-06T05:06:56.760076Z",
     "iopub.status.busy": "2024-02-06T05:06:56.759246Z",
     "iopub.status.idle": "2024-02-06T05:06:57.056182Z",
     "shell.execute_reply": "2024-02-06T05:06:57.055318Z"
    },
    "papermill": {
     "duration": 0.357515,
     "end_time": "2024-02-06T05:06:57.058384",
     "exception": false,
     "start_time": "2024-02-06T05:06:56.700869",
     "status": "completed"
    },
    "tags": []
   },
   "outputs": [
    {
     "data": {
      "image/png": "[encoded data removed]",
      "text/plain": [
       "<Figure size 640x480 with 1 Axes>"
      ]
     },
     "metadata": {},
     "output_type": "display_data"
    }
   ],
   "source": [
    "plt.plot(history.history['loss'])\n",
    "plt.plot(history.history['val_loss'])\n",
    "plt.title(f'{SHEET_NAME} Model Loss', fontsize=15)\n",
    "plt.ylabel('loss')\n",
    "plt.xlabel('epoch')\n",
    "plt.legend(['train', 'test'])\n",
    "plt.show()"
   ]
  },
  {
   "cell_type": "code",
   "execution_count": 18,
   "id": "f39f7dbd",
   "metadata": {
    "execution": {
     "iopub.execute_input": "2024-02-06T05:06:57.176938Z",
     "iopub.status.busy": "2024-02-06T05:06:57.176635Z",
     "iopub.status.idle": "2024-02-06T05:06:57.944399Z",
     "shell.execute_reply": "2024-02-06T05:06:57.943645Z"
    },
    "papermill": {
     "duration": 0.82944,
     "end_time": "2024-02-06T05:06:57.946383",
     "exception": false,
     "start_time": "2024-02-06T05:06:57.116943",
     "status": "completed"
    },
    "tags": []
   },
   "outputs": [
    {
     "name": "stdout",
     "output_type": "stream",
     "text": [
      "7/7 [==============================] - 1s 3ms/step\n"
     ]
    }
   ],
   "source": [
    "y_hat = model.predict(X_test)\n",
    "y_test_inverse = scaler.inverse_transform(y_test)\n",
    "y_hat_inverse = scaler.inverse_transform(y_hat)"
   ]
  },
  {
   "cell_type": "code",
   "execution_count": 19,
   "id": "40560645",
   "metadata": {
    "execution": {
     "iopub.execute_input": "2024-02-06T05:06:58.064864Z",
     "iopub.status.busy": "2024-02-06T05:06:58.064229Z",
     "iopub.status.idle": "2024-02-06T05:06:58.371185Z",
     "shell.execute_reply": "2024-02-06T05:06:58.370294Z"
    },
    "papermill": {
     "duration": 0.368065,
     "end_time": "2024-02-06T05:06:58.373217",
     "exception": false,
     "start_time": "2024-02-06T05:06:58.005152",
     "status": "completed"
    },
    "tags": []
   },
   "outputs": [
    {
     "data": {
      "image/png": "[encoded data removed]",
      "text/plain": [
       "<Figure size 640x480 with 1 Axes>"
      ]
     },
     "metadata": {},
     "output_type": "display_data"
    }
   ],
   "source": [
    "plt.plot(y_test_inverse, label=\"Actual Price\", color='green')\n",
    "plt.plot(y_hat_inverse, label=\"Predicted Price\", color='red')\n",
    " \n",
    "plt.title(f'{SHEET_NAME} Price Prediction\\nLSTM = {LSTM_Layer}, Split Data = {SPLIT}, Window = {WINDOW_SIZE}', fontsize=15)\n",
    "plt.xlabel('Time [days]')\n",
    "plt.ylabel('Price')\n",
    "plt.legend(loc='best')\n",
    " \n",
    "plt.show()"
   ]
  },
  {
   "cell_type": "code",
   "execution_count": 20,
   "id": "5ef5897d",
   "metadata": {
    "execution": {
     "iopub.execute_input": "2024-02-06T05:06:58.491810Z",
     "iopub.status.busy": "2024-02-06T05:06:58.491495Z",
     "iopub.status.idle": "2024-02-06T05:06:58.500679Z",
     "shell.execute_reply": "2024-02-06T05:06:58.499781Z"
    },
    "papermill": {
     "duration": 0.07037,
     "end_time": "2024-02-06T05:06:58.502511",
     "exception": false,
     "start_time": "2024-02-06T05:06:58.432141",
     "status": "completed"
    },
    "tags": []
   },
   "outputs": [
    {
     "name": "stdout",
     "output_type": "stream",
     "text": [
      "LSTM = 2, Split Data = 0.9, Window = 20\n",
      "\n",
      "----------------- Normalized Error -----------------\n",
      "Mean Absolute Error for prediction : 0.027364118666367575\n",
      "Mean Squared Error for prediction : 0.0008997658570054007\n",
      "Root Mean Squared Error for prediction : 0.029996097362913744\n",
      "\n",
      "----------------- Actual Error -----------------\n",
      "Mean Absolute Error for prediction : 38.20523739529542\n",
      "Mean Squared Error for prediction : 1753.9306664413084\n",
      "Root Mean Squared Error for prediction : 41.879955425493335\n"
     ]
    }
   ],
   "source": [
    "def matrices(actual, predicted):\n",
    "    mse = mean_squared_error(actual, predicted)\n",
    "    mae = mean_absolute_error(actual, predicted)\n",
    "    rmse = np.sqrt(mse)\n",
    "    print(\"Mean Absolute Error for prediction :\", mae)\n",
    "    print(\"Mean Squared Error for prediction :\", mse)\n",
    "    print(\"Root Mean Squared Error for prediction :\", rmse)\n",
    "    return mae, mse, rmse\n",
    "\n",
    "print(f\"LSTM = {LSTM_Layer}, Split Data = {SPLIT}, Window = {WINDOW_SIZE}\")\n",
    "print(\"\\n----------------- Normalized Error -----------------\")\n",
    "mae, mse, rmse = matrices(y_test, y_hat)\n",
    "print(\"\\n----------------- Actual Error -----------------\")\n",
    "mae_inverse, mse_inverse, rmse_inverse = matrices(y_test_inverse, y_hat_inverse)"
   ]
  }
 ],
 "metadata": {
  "kaggle": {
   "accelerator": "gpu",
   "dataSources": [],
   "dockerImageVersionId": 30498,
   "isGpuEnabled": true,
   "isInternetEnabled": true,
   "language": "python",
   "sourceType": "notebook"
  },
  "kernelspec": {
   "display_name": "Python 3",
   "language": "python",
   "name": "python3"
  },
  "language_info": {
   "codemirror_mode": {
    "name": "ipython",
    "version": 3
   },
   "file_extension": ".py",
   "mimetype": "text/x-python",
   "name": "python",
   "nbconvert_exporter": "python",
   "pygments_lexer": "ipython3",
   "version": "3.10.10"
  },
  "papermill": {
   "default_parameters": {},
   "duration": 916.9996,
   "end_time": "2024-02-06T05:07:01.814852",
   "environment_variables": {},
   "exception": null,
   "input_path": "__notebook__.ipynb",
   "output_path": "__notebook__.ipynb",
   "parameters": {},
   "start_time": "2024-02-06T04:51:44.815252",
   "version": "2.4.0"
  }
 },
 "nbformat": 4,
 "nbformat_minor": 5
}
