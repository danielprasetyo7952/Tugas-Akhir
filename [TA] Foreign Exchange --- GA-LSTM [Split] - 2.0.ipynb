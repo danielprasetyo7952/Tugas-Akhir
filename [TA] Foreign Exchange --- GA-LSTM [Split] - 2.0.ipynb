{
 "cells": [
  {
   "cell_type": "code",
   "execution_count": 1,
   "id": "ace95022",
   "metadata": {
    "execution": {
     "iopub.execute_input": "2024-02-05T16:25:26.959659Z",
     "iopub.status.busy": "2024-02-05T16:25:26.959311Z",
     "iopub.status.idle": "2024-02-05T16:25:35.176998Z",
     "shell.execute_reply": "2024-02-05T16:25:35.176207Z"
    },
    "papermill": {
     "duration": 8.228441,
     "end_time": "2024-02-05T16:25:35.179325",
     "exception": false,
     "start_time": "2024-02-05T16:25:26.950884",
     "status": "completed"
    },
    "tags": []
   },
   "outputs": [
    {
     "name": "stderr",
     "output_type": "stream",
     "text": [
      "/opt/conda/lib/python3.10/site-packages/tensorflow_io/python/ops/__init__.py:98: UserWarning: unable to load libtensorflow_io_plugins.so: unable to open file: libtensorflow_io_plugins.so, from paths: ['/opt/conda/lib/python3.10/site-packages/tensorflow_io/python/ops/libtensorflow_io_plugins.so']\n",
      "caused by: ['/opt/conda/lib/python3.10/site-packages/tensorflow_io/python/ops/libtensorflow_io_plugins.so: undefined symbol: _ZN3tsl6StatusC1EN10tensorflow5error4CodeESt17basic_string_viewIcSt11char_traitsIcEENS_14SourceLocationE']\n",
      "  warnings.warn(f\"unable to load libtensorflow_io_plugins.so: {e}\")\n",
      "/opt/conda/lib/python3.10/site-packages/tensorflow_io/python/ops/__init__.py:104: UserWarning: file system plugins are not loaded: unable to open file: libtensorflow_io.so, from paths: ['/opt/conda/lib/python3.10/site-packages/tensorflow_io/python/ops/libtensorflow_io.so']\n",
      "caused by: ['/opt/conda/lib/python3.10/site-packages/tensorflow_io/python/ops/libtensorflow_io.so: undefined symbol: _ZTVN10tensorflow13GcsFileSystemE']\n",
      "  warnings.warn(f\"file system plugins are not loaded: {e}\")\n"
     ]
    }
   ],
   "source": [
    "import pandas as pd\n",
    "import numpy as np\n",
    "import tensorflow as tf\n",
    "import matplotlib.pyplot as plt\n",
    "import datetime, pytz\n",
    "\n",
    "from keras.models import Sequential\n",
    "from keras.layers import LSTM, Dense\n",
    "from keras.metrics import RootMeanSquaredError\n",
    "\n",
    "from sklearn.preprocessing import MinMaxScaler\n",
    "from sklearn.metrics import mean_squared_error, mean_absolute_error"
   ]
  },
  {
   "cell_type": "markdown",
   "id": "59a6f284",
   "metadata": {
    "papermill": {
     "duration": 0.006391,
     "end_time": "2024-02-05T16:25:35.192684",
     "exception": false,
     "start_time": "2024-02-05T16:25:35.186293",
     "status": "completed"
    },
    "tags": []
   },
   "source": [
    "## Hyperparameter"
   ]
  },
  {
   "cell_type": "code",
   "execution_count": 2,
   "id": "939b7144",
   "metadata": {
    "execution": {
     "iopub.execute_input": "2024-02-05T16:25:35.207422Z",
     "iopub.status.busy": "2024-02-05T16:25:35.206504Z",
     "iopub.status.idle": "2024-02-05T16:25:35.211447Z",
     "shell.execute_reply": "2024-02-05T16:25:35.210632Z"
    },
    "papermill": {
     "duration": 0.014266,
     "end_time": "2024-02-05T16:25:35.213374",
     "exception": false,
     "start_time": "2024-02-05T16:25:35.199108",
     "status": "completed"
    },
    "tags": []
   },
   "outputs": [],
   "source": [
    "# Google Spreadsheet ID\n",
    "SHEET_ID = '1JDNv_mArl-GPIpxuWS5GxgVEwvjXocS1MrXGc6TYs8M'\n",
    "SHEET_NAME = 'USD/IDR' # USD/IDR, EUR/IDR, SGD/IDR\n",
    "\n",
    "SEQ_LEN = 6 # 6, 11, 21\n",
    "SPLIT = 0.80 # 0.80, 0.90\n",
    "LSTM_Layer = 2 # 1, 2, 3\n",
    "WINDOW_SIZE = SEQ_LEN - 1"
   ]
  },
  {
   "cell_type": "code",
   "execution_count": 3,
   "id": "f099d00f",
   "metadata": {
    "execution": {
     "iopub.execute_input": "2024-02-05T16:25:35.227533Z",
     "iopub.status.busy": "2024-02-05T16:25:35.227275Z",
     "iopub.status.idle": "2024-02-05T16:25:36.596809Z",
     "shell.execute_reply": "2024-02-05T16:25:36.595574Z"
    },
    "papermill": {
     "duration": 1.378879,
     "end_time": "2024-02-05T16:25:36.598854",
     "exception": false,
     "start_time": "2024-02-05T16:25:35.219975",
     "status": "completed"
    },
    "tags": []
   },
   "outputs": [
    {
     "name": "stdout",
     "output_type": "stream",
     "text": [
      "<class 'pandas.core.frame.DataFrame'>\n",
      "RangeIndex: 1977 entries, 0 to 1976\n",
      "Data columns (total 2 columns):\n",
      " #   Column  Non-Null Count  Dtype         \n",
      "---  ------  --------------  -----         \n",
      " 0   Date    1977 non-null   datetime64[ns]\n",
      " 1   Close   1977 non-null   float64       \n",
      "dtypes: datetime64[ns](1), float64(1)\n",
      "memory usage: 31.0 KB\n"
     ]
    }
   ],
   "source": [
    "url = f'https://docs.google.com/spreadsheets/d/{SHEET_ID}/gviz/tq?tqx=out:csv&sheet={SHEET_NAME}'\n",
    "data = pd.read_csv(url)\n",
    "\n",
    "# Convert Date columns to datetime format\n",
    "data['Date'] = pd.to_datetime(data['Date'], format='%d/%m/%Y %H:%M:%S')\n",
    "data.info()"
   ]
  },
  {
   "cell_type": "markdown",
   "id": "47199dc3",
   "metadata": {
    "papermill": {
     "duration": 0.006529,
     "end_time": "2024-02-05T16:25:36.612198",
     "exception": false,
     "start_time": "2024-02-05T16:25:36.605669",
     "status": "completed"
    },
    "tags": []
   },
   "source": [
    "## Preprocessing"
   ]
  },
  {
   "cell_type": "code",
   "execution_count": 4,
   "id": "a87c7a04",
   "metadata": {
    "execution": {
     "iopub.execute_input": "2024-02-05T16:25:36.626678Z",
     "iopub.status.busy": "2024-02-05T16:25:36.626335Z",
     "iopub.status.idle": "2024-02-05T16:25:36.637476Z",
     "shell.execute_reply": "2024-02-05T16:25:36.636627Z"
    },
    "papermill": {
     "duration": 0.02091,
     "end_time": "2024-02-05T16:25:36.639653",
     "exception": false,
     "start_time": "2024-02-05T16:25:36.618743",
     "status": "completed"
    },
    "tags": []
   },
   "outputs": [
    {
     "name": "stderr",
     "output_type": "stream",
     "text": [
      "/tmp/ipykernel_26/2274720815.py:7: SettingWithCopyWarning: \n",
      "A value is trying to be set on a copy of a slice from a DataFrame\n",
      "\n",
      "See the caveats in the documentation: https://pandas.pydata.org/pandas-docs/stable/user_guide/indexing.html#returning-a-view-versus-a-copy\n",
      "  data[data < lower_bound] = lower_bound\n",
      "/tmp/ipykernel_26/2274720815.py:8: SettingWithCopyWarning: \n",
      "A value is trying to be set on a copy of a slice from a DataFrame\n",
      "\n",
      "See the caveats in the documentation: https://pandas.pydata.org/pandas-docs/stable/user_guide/indexing.html#returning-a-view-versus-a-copy\n",
      "  data[data > upper_bound] = upper_bound\n"
     ]
    }
   ],
   "source": [
    "def replace_outliers(data):\n",
    "    Q1 = np.percentile(data, 25)\n",
    "    Q3 = np.percentile(data, 75)\n",
    "    IQR = Q3 - Q1\n",
    "    lower_bound = Q1 - 1.5 * IQR\n",
    "    upper_bound = Q3 + 1.5 * IQR\n",
    "    data[data < lower_bound] = lower_bound\n",
    "    data[data > upper_bound] = upper_bound\n",
    "    return data\n",
    "\n",
    "data['Close'] = replace_outliers(data['Close'])"
   ]
  },
  {
   "cell_type": "code",
   "execution_count": 5,
   "id": "d8fe2a4b",
   "metadata": {
    "execution": {
     "iopub.execute_input": "2024-02-05T16:25:36.654945Z",
     "iopub.status.busy": "2024-02-05T16:25:36.654663Z",
     "iopub.status.idle": "2024-02-05T16:25:36.887305Z",
     "shell.execute_reply": "2024-02-05T16:25:36.886391Z"
    },
    "papermill": {
     "duration": 0.242351,
     "end_time": "2024-02-05T16:25:36.889361",
     "exception": false,
     "start_time": "2024-02-05T16:25:36.647010",
     "status": "completed"
    },
    "tags": []
   },
   "outputs": [
    {
     "data": {
      "image/png": "[encoded data removed]",
      "text/plain": [
       "<Figure size 640x480 with 1 Axes>"
      ]
     },
     "metadata": {},
     "output_type": "display_data"
    }
   ],
   "source": [
    "# Boxplot for outlier detection\n",
    "plt.boxplot(data['Close'])\n",
    "plt.title(f\"{SHEET_NAME} Boxplot for Outlier Detection\")\n",
    "plt.xlabel(\"Close\")\n",
    "plt.ylabel(\"Values\")\n",
    "plt.show()"
   ]
  },
  {
   "cell_type": "code",
   "execution_count": 6,
   "id": "366d1b54",
   "metadata": {
    "execution": {
     "iopub.execute_input": "2024-02-05T16:25:36.905029Z",
     "iopub.status.busy": "2024-02-05T16:25:36.904718Z",
     "iopub.status.idle": "2024-02-05T16:25:36.912160Z",
     "shell.execute_reply": "2024-02-05T16:25:36.911299Z"
    },
    "papermill": {
     "duration": 0.017411,
     "end_time": "2024-02-05T16:25:36.913988",
     "exception": false,
     "start_time": "2024-02-05T16:25:36.896577",
     "status": "completed"
    },
    "tags": []
   },
   "outputs": [
    {
     "data": {
      "text/plain": [
       "(1977, 1)"
      ]
     },
     "execution_count": 6,
     "metadata": {},
     "output_type": "execute_result"
    }
   ],
   "source": [
    "scaler = MinMaxScaler()\n",
    "close_price = data.Close.values.reshape(-1, 1)\n",
    "scaled_close = scaler.fit_transform(close_price)\n",
    "scaled_close.shape"
   ]
  },
  {
   "cell_type": "code",
   "execution_count": 7,
   "id": "b69433f0",
   "metadata": {
    "execution": {
     "iopub.execute_input": "2024-02-05T16:25:36.929634Z",
     "iopub.status.busy": "2024-02-05T16:25:36.929358Z",
     "iopub.status.idle": "2024-02-05T16:25:36.939069Z",
     "shell.execute_reply": "2024-02-05T16:25:36.938240Z"
    },
    "papermill": {
     "duration": 0.019587,
     "end_time": "2024-02-05T16:25:36.940927",
     "exception": false,
     "start_time": "2024-02-05T16:25:36.921340",
     "status": "completed"
    },
    "tags": []
   },
   "outputs": [],
   "source": [
    "def to_sequences(data, seq_len):\n",
    "    d = []\n",
    "    for index in range(len(data) - seq_len):\n",
    "        d.append(data[index: index + seq_len])\n",
    "    return np.array(d)\n",
    "\n",
    "def preprocess(data_raw, seq_len, train_split):\n",
    "    data = to_sequences(data_raw, seq_len)\n",
    "    num_train = int(train_split * data.shape[0])\n",
    "    X_train = data[:num_train, :-1, :]\n",
    "    y_train = data[:num_train, -1, :]\n",
    "    X_test = data[num_train:, :-1, :]\n",
    "    y_test = data[num_train:, -1, :]\n",
    "    return X_train, y_train, X_test, y_test\n",
    "\n",
    "X_train, y_train, X_test, y_test = preprocess(scaled_close, SEQ_LEN, train_split = SPLIT)"
   ]
  },
  {
   "cell_type": "markdown",
   "id": "3a43fac3",
   "metadata": {
    "papermill": {
     "duration": 0.006955,
     "end_time": "2024-02-05T16:25:36.955111",
     "exception": false,
     "start_time": "2024-02-05T16:25:36.948156",
     "status": "completed"
    },
    "tags": []
   },
   "source": [
    "## Genetic Algorithm"
   ]
  },
  {
   "cell_type": "code",
   "execution_count": 8,
   "id": "5db10e09",
   "metadata": {
    "execution": {
     "iopub.execute_input": "2024-02-05T16:25:36.970457Z",
     "iopub.status.busy": "2024-02-05T16:25:36.970201Z",
     "iopub.status.idle": "2024-02-05T16:25:36.975764Z",
     "shell.execute_reply": "2024-02-05T16:25:36.974934Z"
    },
    "papermill": {
     "duration": 0.015326,
     "end_time": "2024-02-05T16:25:36.977528",
     "exception": false,
     "start_time": "2024-02-05T16:25:36.962202",
     "status": "completed"
    },
    "tags": []
   },
   "outputs": [],
   "source": [
    "def decimal_to_binary(chromosome: list):\n",
    "    binary_string = ''.join([bin(x)[2:].zfill(8) for x in chromosome])\n",
    "    return binary_string\n",
    "\n",
    "def binary_to_decimal(binary_string: str):\n",
    "    decimal_array = [int(binary, 2) for binary in [binary_string[i:i+8] for i in range(0, len(binary_string), 8)]]\n",
    "    return decimal_array"
   ]
  },
  {
   "cell_type": "code",
   "execution_count": 9,
   "id": "b34b3f02",
   "metadata": {
    "execution": {
     "iopub.execute_input": "2024-02-05T16:25:36.993144Z",
     "iopub.status.busy": "2024-02-05T16:25:36.992896Z",
     "iopub.status.idle": "2024-02-05T16:25:37.011627Z",
     "shell.execute_reply": "2024-02-05T16:25:37.010748Z"
    },
    "papermill": {
     "duration": 0.028706,
     "end_time": "2024-02-05T16:25:37.013458",
     "exception": false,
     "start_time": "2024-02-05T16:25:36.984752",
     "status": "completed"
    },
    "tags": []
   },
   "outputs": [],
   "source": [
    "# Genetic Algorithm\n",
    "def genetic_algorithm(generations, mutation_rate):\n",
    "    print(f\"Inizialized Population...\")\n",
    "    population = np.random.randint(1, high=251, size=(10, 3))\n",
    "    fitness_scores = np.array([fitness_function(chromosome) for chromosome in population])\n",
    "    max_fitness_each_gen = []\n",
    "    \n",
    "    for generation in range(generations):\n",
    "        print(f\"Generation - {generation + 1}\")\n",
    "        max_fitness_each_gen.append(np.max(fitness_scores))\n",
    "        \n",
    "        chromosome_1 = selection(population, fitness_scores)\n",
    "        chromosome_2 = selection(population, fitness_scores)\n",
    "        \n",
    "        if generation % mutation_rate == 0:\n",
    "            chromosome_1 = mutate(chromosome_1)\n",
    "            chromosome_2 = mutate(chromosome_2)\n",
    "        else:\n",
    "            chromosome_1, chromosome_2 = crossover(chromosome_1, chromosome_2)\n",
    "\n",
    "        fitness_score_1 = fitness_function(chromosome_1)\n",
    "        fitness_score_2 = fitness_function(chromosome_2)\n",
    "        \n",
    "        worst_index = np.argmin(fitness_scores)\n",
    "        worst_fitness = fitness_scores[worst_index]\n",
    "\n",
    "        if fitness_score_1 > worst_fitness:\n",
    "            population[worst_index] = chromosome_1\n",
    "            fitness_scores[worst_index] = fitness_score_1\n",
    "            worst_index = np.argmin(fitness_scores)\n",
    "            worst_fitness = fitness_scores[worst_index]\n",
    "\n",
    "        if fitness_score_2 > worst_fitness:\n",
    "            population[worst_index] = chromosome_2\n",
    "            fitness_scores[worst_index] = fitness_score_2\n",
    "        \n",
    "        # Release some memory\n",
    "        del chromosome_1, chromosome_2\n",
    "        del fitness_score_1, fitness_score_2\n",
    "        del worst_index, worst_fitness\n",
    "            \n",
    "    best_chromosome = population[np.argmax(fitness_scores)]\n",
    "    best_fitness = np.max(fitness_scores)\n",
    "    \n",
    "    return best_chromosome, best_fitness, max_fitness_each_gen\n",
    "\n",
    "# Selection (Tournament selection)\n",
    "def selection(population, fitness_scores, tournament_size=3):\n",
    "    indices = np.random.randint(len(population), size=tournament_size)\n",
    "    tournament = population[indices]\n",
    "    tournament_fitness = fitness_scores[indices]\n",
    "    return tournament[np.argmax(tournament_fitness)]\n",
    "\n",
    "# Crossover (Single-point crossover)\n",
    "def crossover(parent_1: list, parent_2: list):\n",
    "    parent_1 = decimal_to_binary(parent_1)\n",
    "    parent_2 = decimal_to_binary(parent_2)\n",
    "    \n",
    "    crossover_point = np.random.randint(1, len(parent_1))\n",
    "    offspring_1 = parent_1[:crossover_point] + parent_2[crossover_point:]\n",
    "    offspring_2 = parent_2[:crossover_point] + parent_1[crossover_point:]\n",
    "    \n",
    "    offspring_1 = binary_to_decimal(offspring_1)\n",
    "    offspring_2 = binary_to_decimal(offspring_2)\n",
    "    return offspring_1, offspring_2\n",
    "\n",
    "# Mutation (Swap Mutation)\n",
    "def mutate(chromosome: list):\n",
    "    chromosome = decimal_to_binary(chromosome)\n",
    "    \n",
    "    chromosome_list = list(chromosome)\n",
    "    i = np.random.randint(len(chromosome_list), size=2)\n",
    "    chromosome_list[i[0]], chromosome_list[i[1]] = chromosome_list[i[1]], chromosome_list[i[0]]\n",
    "    \n",
    "    chromosome_list = ''.join(chromosome_list)\n",
    "    chromosome = binary_to_decimal(chromosome_list)\n",
    "    return chromosome\n",
    "\n",
    "# Fitness Function\n",
    "def fitness_function(chromosome: list):\n",
    "    lstm_units = [int(chromosome[i]) or default for i, default in enumerate([128, 64, 32])]\n",
    "\n",
    "    # Build the LSTM model\n",
    "    tf.keras.backend.clear_session()\n",
    "    model = Sequential()\n",
    "    for i, units in enumerate(lstm_units[:LSTM_Layer]):\n",
    "        model.add(LSTM(units, return_sequences=(i < LSTM_Layer - 1), input_shape=(WINDOW_SIZE, 1)))\n",
    "    model.add(Dense(1))\n",
    "    \n",
    "    # Compile and train the model\n",
    "    model.compile(loss='mean_squared_error',\n",
    "                  optimizer='adam')\n",
    "    model.fit(X_train, y_train,\n",
    "              epochs=10,\n",
    "              batch_size=32,\n",
    "              verbose=0,\n",
    "              validation_split=0.1)\n",
    "\n",
    "    # Evaluate the model\n",
    "    loss = model.evaluate(X_test, y_test)\n",
    "\n",
    "    # Return the negative value of the loss as the fitness score\n",
    "    return -loss"
   ]
  },
  {
   "cell_type": "code",
   "execution_count": 10,
   "id": "11c590a2",
   "metadata": {
    "execution": {
     "iopub.execute_input": "2024-02-05T16:25:37.028831Z",
     "iopub.status.busy": "2024-02-05T16:25:37.028533Z",
     "iopub.status.idle": "2024-02-05T16:25:37.033950Z",
     "shell.execute_reply": "2024-02-05T16:25:37.033152Z"
    },
    "papermill": {
     "duration": 0.015126,
     "end_time": "2024-02-05T16:25:37.035681",
     "exception": false,
     "start_time": "2024-02-05T16:25:37.020555",
     "status": "completed"
    },
    "tags": []
   },
   "outputs": [],
   "source": [
    "import typing\n",
    "from datetime import datetime\n",
    "\n",
    "def timer(start_time: datetime = None) -> \"typing.Union[datetime.datetime, str]\":\n",
    "    if not start_time:\n",
    "        start_time = datetime.now()\n",
    "        return start_time\n",
    "    elif start_time:\n",
    "        thour, temp_sec = divmod((datetime.now() - start_time).total_seconds(), 3600)\n",
    "        tmin, tsec = divmod(temp_sec, 60)\n",
    "        return \"%i hours %i minutes and %s seconds.\" % (\n",
    "            thour,\n",
    "            tmin,\n",
    "            round(tsec, 2),\n",
    "        )"
   ]
  },
  {
   "cell_type": "code",
   "execution_count": 11,
   "id": "52fee780",
   "metadata": {
    "execution": {
     "iopub.execute_input": "2024-02-05T16:25:37.051191Z",
     "iopub.status.busy": "2024-02-05T16:25:37.050738Z",
     "iopub.status.idle": "2024-02-05T16:39:09.614110Z",
     "shell.execute_reply": "2024-02-05T16:39:09.613338Z"
    },
    "papermill": {
     "duration": 812.573298,
     "end_time": "2024-02-05T16:39:09.616064",
     "exception": false,
     "start_time": "2024-02-05T16:25:37.042766",
     "status": "completed"
    },
    "tags": []
   },
   "outputs": [
    {
     "name": "stdout",
     "output_type": "stream",
     "text": [
      "Inizialized Population...\n",
      "13/13 [==============================] - 0s 3ms/step - loss: 0.0011\n",
      "13/13 [==============================] - 0s 3ms/step - loss: 0.0011\n",
      "13/13 [==============================] - 0s 3ms/step - loss: 0.0021\n",
      "13/13 [==============================] - 0s 3ms/step - loss: 0.0011\n",
      "13/13 [==============================] - 0s 3ms/step - loss: 0.0026\n",
      "13/13 [==============================] - 0s 3ms/step - loss: 0.0012\n",
      "13/13 [==============================] - 0s 3ms/step - loss: 0.0013\n",
      "13/13 [==============================] - 0s 3ms/step - loss: 0.0012\n",
      "13/13 [==============================] - 0s 3ms/step - loss: 0.0018\n",
      "13/13 [==============================] - 0s 3ms/step - loss: 0.0011\n",
      "Generation - 1\n",
      "13/13 [==============================] - 0s 3ms/step - loss: 0.0013\n",
      "13/13 [==============================] - 0s 3ms/step - loss: 0.0024\n",
      "Generation - 2\n",
      "13/13 [==============================] - 0s 3ms/step - loss: 0.0014\n",
      "13/13 [==============================] - 0s 3ms/step - loss: 0.0012\n",
      "Generation - 3\n",
      "13/13 [==============================] - 0s 3ms/step - loss: 0.0018\n",
      "13/13 [==============================] - 0s 3ms/step - loss: 0.0029\n",
      "Generation - 4\n",
      "13/13 [==============================] - 0s 3ms/step - loss: 0.0014\n",
      "13/13 [==============================] - 0s 3ms/step - loss: 0.0011\n",
      "Generation - 5\n",
      "13/13 [==============================] - 0s 3ms/step - loss: 0.0018\n",
      "13/13 [==============================] - 0s 3ms/step - loss: 0.0024\n",
      "Generation - 6\n",
      "13/13 [==============================] - 0s 3ms/step - loss: 0.0015\n",
      "13/13 [==============================] - 0s 3ms/step - loss: 0.0013\n",
      "Generation - 7\n",
      "13/13 [==============================] - 0s 3ms/step - loss: 0.0014\n",
      "13/13 [==============================] - 0s 3ms/step - loss: 0.0011\n",
      "Generation - 8\n",
      "13/13 [==============================] - 0s 3ms/step - loss: 0.0021\n",
      "13/13 [==============================] - 0s 3ms/step - loss: 0.0016\n",
      "Generation - 9\n",
      "13/13 [==============================] - 0s 3ms/step - loss: 0.0010\n",
      "13/13 [==============================] - 0s 3ms/step - loss: 0.0011\n",
      "Generation - 10\n",
      "13/13 [==============================] - 0s 3ms/step - loss: 0.0017\n",
      "13/13 [==============================] - 0s 3ms/step - loss: 0.0011\n",
      "Generation - 11\n",
      "13/13 [==============================] - 0s 3ms/step - loss: 0.0015\n",
      "13/13 [==============================] - 0s 3ms/step - loss: 0.0011\n",
      "Generation - 12\n",
      "13/13 [==============================] - 0s 3ms/step - loss: 0.0011\n",
      "13/13 [==============================] - 0s 3ms/step - loss: 0.0012\n",
      "Generation - 13\n",
      "13/13 [==============================] - 0s 3ms/step - loss: 0.0026\n",
      "13/13 [==============================] - 0s 3ms/step - loss: 0.0013\n",
      "Generation - 14\n",
      "13/13 [==============================] - 0s 3ms/step - loss: 0.0011\n",
      "13/13 [==============================] - 0s 3ms/step - loss: 0.0011\n",
      "Generation - 15\n",
      "13/13 [==============================] - 0s 3ms/step - loss: 0.0011\n",
      "13/13 [==============================] - 0s 3ms/step - loss: 0.0012\n",
      "Generation - 16\n",
      "13/13 [==============================] - 0s 3ms/step - loss: 0.0011\n",
      "13/13 [==============================] - 0s 3ms/step - loss: 0.0011\n",
      "Generation - 17\n",
      "13/13 [==============================] - 0s 3ms/step - loss: 0.0019\n",
      "13/13 [==============================] - 0s 3ms/step - loss: 0.0013\n",
      "Generation - 18\n",
      "13/13 [==============================] - 0s 3ms/step - loss: 0.0011\n",
      "13/13 [==============================] - 0s 3ms/step - loss: 0.0022\n",
      "Generation - 19\n",
      "13/13 [==============================] - 0s 3ms/step - loss: 0.0011\n",
      "13/13 [==============================] - 0s 3ms/step - loss: 0.0011\n",
      "Generation - 20\n",
      "13/13 [==============================] - 0s 3ms/step - loss: 0.0014\n",
      "13/13 [==============================] - 0s 3ms/step - loss: 0.0012\n",
      "Generation - 21\n",
      "13/13 [==============================] - 0s 3ms/step - loss: 0.0019\n",
      "13/13 [==============================] - 0s 3ms/step - loss: 0.0011\n",
      "Generation - 22\n",
      "13/13 [==============================] - 0s 3ms/step - loss: 0.0014\n",
      "13/13 [==============================] - 0s 3ms/step - loss: 0.0023\n",
      "Generation - 23\n",
      "13/13 [==============================] - 0s 3ms/step - loss: 0.0010\n",
      "13/13 [==============================] - 0s 3ms/step - loss: 0.0036\n",
      "Generation - 24\n",
      "13/13 [==============================] - 0s 3ms/step - loss: 0.0011\n",
      "13/13 [==============================] - 0s 3ms/step - loss: 0.0013\n",
      "Generation - 25\n",
      "13/13 [==============================] - 0s 3ms/step - loss: 0.0019\n",
      "13/13 [==============================] - 0s 3ms/step - loss: 0.0011\n",
      "Generation - 26\n",
      "13/13 [==============================] - 0s 3ms/step - loss: 0.0012\n",
      "13/13 [==============================] - 0s 3ms/step - loss: 0.0016\n",
      "Generation - 27\n",
      "13/13 [==============================] - 0s 3ms/step - loss: 0.0012\n",
      "13/13 [==============================] - 0s 3ms/step - loss: 0.0011\n",
      "Generation - 28\n",
      "13/13 [==============================] - 0s 3ms/step - loss: 0.0013\n",
      "13/13 [==============================] - 0s 3ms/step - loss: 0.0011\n",
      "Generation - 29\n",
      "13/13 [==============================] - 0s 3ms/step - loss: 0.0016\n",
      "13/13 [==============================] - 0s 5ms/step - loss: 0.0011\n",
      "Generation - 30\n",
      "13/13 [==============================] - 0s 3ms/step - loss: 0.0021\n",
      "13/13 [==============================] - 0s 3ms/step - loss: 0.0011\n",
      "Generation - 31\n",
      "13/13 [==============================] - 0s 3ms/step - loss: 0.0015\n",
      "13/13 [==============================] - 0s 3ms/step - loss: 0.0011\n",
      "Generation - 32\n",
      "13/13 [==============================] - 0s 3ms/step - loss: 0.0012\n",
      "13/13 [==============================] - 0s 3ms/step - loss: 0.0011\n",
      "Generation - 33\n",
      "13/13 [==============================] - 0s 3ms/step - loss: 0.0029\n",
      "13/13 [==============================] - 0s 3ms/step - loss: 0.0013\n",
      "Generation - 34\n",
      "13/13 [==============================] - 0s 3ms/step - loss: 0.0013\n",
      "13/13 [==============================] - 0s 3ms/step - loss: 0.0014\n",
      "Generation - 35\n",
      "13/13 [==============================] - 0s 3ms/step - loss: 0.0014\n",
      "13/13 [==============================] - 0s 3ms/step - loss: 0.0015\n",
      "Generation - 36\n",
      "13/13 [==============================] - 0s 3ms/step - loss: 0.0011\n",
      "13/13 [==============================] - 0s 3ms/step - loss: 0.0011\n",
      "Generation - 37\n",
      "13/13 [==============================] - 0s 3ms/step - loss: 0.0021\n",
      "13/13 [==============================] - 0s 3ms/step - loss: 0.0023\n",
      "Generation - 38\n",
      "13/13 [==============================] - 0s 3ms/step - loss: 0.0018\n",
      "13/13 [==============================] - 0s 3ms/step - loss: 0.0011\n",
      "Generation - 39\n",
      "13/13 [==============================] - 0s 3ms/step - loss: 0.0012\n",
      "13/13 [==============================] - 0s 3ms/step - loss: 0.0031\n",
      "Generation - 40\n",
      "13/13 [==============================] - 0s 3ms/step - loss: 0.0018\n",
      "13/13 [==============================] - 0s 3ms/step - loss: 0.0016\n",
      "Generation - 41\n",
      "13/13 [==============================] - 0s 3ms/step - loss: 0.0013\n",
      "13/13 [==============================] - 0s 3ms/step - loss: 0.0012\n",
      "Generation - 42\n",
      "13/13 [==============================] - 0s 3ms/step - loss: 0.0013\n",
      "13/13 [==============================] - 0s 3ms/step - loss: 0.0014\n",
      "Generation - 43\n",
      "13/13 [==============================] - 0s 3ms/step - loss: 0.0011\n",
      "13/13 [==============================] - 0s 3ms/step - loss: 0.0011\n",
      "Generation - 44\n",
      "13/13 [==============================] - 0s 3ms/step - loss: 0.0011\n",
      "13/13 [==============================] - 0s 3ms/step - loss: 0.0025\n",
      "Generation - 45\n",
      "13/13 [==============================] - 0s 3ms/step - loss: 0.0011\n",
      "13/13 [==============================] - 0s 3ms/step - loss: 0.0011\n",
      "Generation - 46\n",
      "13/13 [==============================] - 0s 3ms/step - loss: 0.0011\n",
      "13/13 [==============================] - 0s 3ms/step - loss: 0.0012\n",
      "Generation - 47\n",
      "13/13 [==============================] - 0s 3ms/step - loss: 0.0011\n",
      "13/13 [==============================] - 0s 3ms/step - loss: 0.0013\n",
      "Generation - 48\n",
      "13/13 [==============================] - 0s 3ms/step - loss: 0.0012\n",
      "13/13 [==============================] - 0s 3ms/step - loss: 0.0011\n",
      "Generation - 49\n",
      "13/13 [==============================] - 0s 3ms/step - loss: 0.0012\n",
      "13/13 [==============================] - 0s 3ms/step - loss: 0.0011\n",
      "Generation - 50\n",
      "13/13 [==============================] - 0s 3ms/step - loss: 0.0011\n",
      "13/13 [==============================] - 0s 3ms/step - loss: 0.0011\n"
     ]
    }
   ],
   "source": [
    "# Do not increase this value\n",
    "generations = 50\n",
    "mutation_rate = 5\n",
    "\n",
    "time = timer(None)\n",
    "best_chromosome, best_fitness, max_fitness_each_gen = genetic_algorithm(generations, mutation_rate)\n",
    "time = timer(time)"
   ]
  },
  {
   "cell_type": "code",
   "execution_count": 12,
   "id": "41403bd8",
   "metadata": {
    "execution": {
     "iopub.execute_input": "2024-02-05T16:39:09.673232Z",
     "iopub.status.busy": "2024-02-05T16:39:09.672450Z",
     "iopub.status.idle": "2024-02-05T16:39:09.677730Z",
     "shell.execute_reply": "2024-02-05T16:39:09.676848Z"
    },
    "papermill": {
     "duration": 0.036577,
     "end_time": "2024-02-05T16:39:09.679826",
     "exception": false,
     "start_time": "2024-02-05T16:39:09.643249",
     "status": "completed"
    },
    "tags": []
   },
   "outputs": [
    {
     "name": "stdout",
     "output_type": "stream",
     "text": [
      "Best Chromosome: [195 120 217]\n",
      "Best Fitness: -0.0010245119920000434\n",
      "Time Taken: 0 hours 13 minutes and 32.56 seconds.\n"
     ]
    }
   ],
   "source": [
    "print(\"Best Chromosome:\", best_chromosome)\n",
    "print(\"Best Fitness:\", best_fitness)\n",
    "print(\"Time Taken:\", time)"
   ]
  },
  {
   "cell_type": "code",
   "execution_count": 13,
   "id": "2a89ec2c",
   "metadata": {
    "execution": {
     "iopub.execute_input": "2024-02-05T16:39:09.734575Z",
     "iopub.status.busy": "2024-02-05T16:39:09.734308Z",
     "iopub.status.idle": "2024-02-05T16:39:09.740604Z",
     "shell.execute_reply": "2024-02-05T16:39:09.739633Z"
    },
    "papermill": {
     "duration": 0.035575,
     "end_time": "2024-02-05T16:39:09.742479",
     "exception": false,
     "start_time": "2024-02-05T16:39:09.706904",
     "status": "completed"
    },
    "tags": []
   },
   "outputs": [
    {
     "data": {
      "text/plain": [
       "[-0.0010727682383731008,\n",
       " -0.0010727682383731008,\n",
       " -0.0010727682383731008,\n",
       " -0.0010727682383731008,\n",
       " -0.0010727682383731008,\n",
       " -0.0010727682383731008,\n",
       " -0.0010727682383731008,\n",
       " -0.0010727682383731008,\n",
       " -0.0010727682383731008,\n",
       " -0.0010484956437721848,\n",
       " -0.0010484956437721848,\n",
       " -0.0010484956437721848,\n",
       " -0.0010484956437721848,\n",
       " -0.0010484956437721848,\n",
       " -0.0010484956437721848,\n",
       " -0.0010484956437721848,\n",
       " -0.0010484956437721848,\n",
       " -0.0010484956437721848,\n",
       " -0.0010484956437721848,\n",
       " -0.0010484956437721848,\n",
       " -0.0010484956437721848,\n",
       " -0.0010484956437721848,\n",
       " -0.0010484956437721848,\n",
       " -0.0010245119920000434,\n",
       " -0.0010245119920000434,\n",
       " -0.0010245119920000434,\n",
       " -0.0010245119920000434,\n",
       " -0.0010245119920000434,\n",
       " -0.0010245119920000434,\n",
       " -0.0010245119920000434,\n",
       " -0.0010245119920000434,\n",
       " -0.0010245119920000434,\n",
       " -0.0010245119920000434,\n",
       " -0.0010245119920000434,\n",
       " -0.0010245119920000434,\n",
       " -0.0010245119920000434,\n",
       " -0.0010245119920000434,\n",
       " -0.0010245119920000434,\n",
       " -0.0010245119920000434,\n",
       " -0.0010245119920000434,\n",
       " -0.0010245119920000434,\n",
       " -0.0010245119920000434,\n",
       " -0.0010245119920000434,\n",
       " -0.0010245119920000434,\n",
       " -0.0010245119920000434,\n",
       " -0.0010245119920000434,\n",
       " -0.0010245119920000434,\n",
       " -0.0010245119920000434,\n",
       " -0.0010245119920000434,\n",
       " -0.0010245119920000434]"
      ]
     },
     "execution_count": 13,
     "metadata": {},
     "output_type": "execute_result"
    }
   ],
   "source": [
    "max_fitness_each_gen"
   ]
  },
  {
   "cell_type": "markdown",
   "id": "0821714e",
   "metadata": {
    "papermill": {
     "duration": 0.026583,
     "end_time": "2024-02-05T16:39:09.796042",
     "exception": false,
     "start_time": "2024-02-05T16:39:09.769459",
     "status": "completed"
    },
    "tags": []
   },
   "source": [
    "## Re-Training Model with Best Parameter"
   ]
  },
  {
   "cell_type": "code",
   "execution_count": 14,
   "id": "7af422c8",
   "metadata": {
    "execution": {
     "iopub.execute_input": "2024-02-05T16:39:09.851813Z",
     "iopub.status.busy": "2024-02-05T16:39:09.851467Z",
     "iopub.status.idle": "2024-02-05T16:39:10.369435Z",
     "shell.execute_reply": "2024-02-05T16:39:10.368226Z"
    },
    "papermill": {
     "duration": 0.550059,
     "end_time": "2024-02-05T16:39:10.373241",
     "exception": false,
     "start_time": "2024-02-05T16:39:09.823182",
     "status": "completed"
    },
    "tags": []
   },
   "outputs": [
    {
     "name": "stdout",
     "output_type": "stream",
     "text": [
      "Model: \"sequential_1\"\n",
      "_________________________________________________________________\n",
      " Layer (type)                Output Shape              Param #   \n",
      "=================================================================\n",
      " lstm_2 (LSTM)               (None, 5, 195)            153660    \n",
      "                                                                 \n",
      " lstm_3 (LSTM)               (None, 120)               151680    \n",
      "                                                                 \n",
      " dense_1 (Dense)             (None, 1)                 121       \n",
      "                                                                 \n",
      "=================================================================\n",
      "Total params: 305,461\n",
      "Trainable params: 305,461\n",
      "Non-trainable params: 0\n",
      "_________________________________________________________________\n"
     ]
    }
   ],
   "source": [
    "model = Sequential()\n",
    "for i, units in enumerate(best_chromosome[:LSTM_Layer]):\n",
    "    model.add(LSTM(units, return_sequences=(i < LSTM_Layer - 1), input_shape=(WINDOW_SIZE, 1)))\n",
    "model.add(Dense(1))\n",
    "\n",
    "model.summary()"
   ]
  },
  {
   "cell_type": "code",
   "execution_count": 15,
   "id": "6282b82a",
   "metadata": {
    "execution": {
     "iopub.execute_input": "2024-02-05T16:39:10.431440Z",
     "iopub.status.busy": "2024-02-05T16:39:10.431118Z",
     "iopub.status.idle": "2024-02-05T16:39:28.920277Z",
     "shell.execute_reply": "2024-02-05T16:39:28.919348Z"
    },
    "papermill": {
     "duration": 18.520747,
     "end_time": "2024-02-05T16:39:28.922290",
     "exception": false,
     "start_time": "2024-02-05T16:39:10.401543",
     "status": "completed"
    },
    "tags": []
   },
   "outputs": [
    {
     "name": "stdout",
     "output_type": "stream",
     "text": [
      "Epoch 1/50\n",
      "45/45 [==============================] - 4s 23ms/step - loss: 0.0241 - mae: 0.1041 - root_mean_squared_error: 0.1552 - val_loss: 5.6423e-04 - val_mae: 0.0178 - val_root_mean_squared_error: 0.0238\n",
      "Epoch 2/50\n",
      "45/45 [==============================] - 0s 7ms/step - loss: 0.0025 - mae: 0.0345 - root_mean_squared_error: 0.0496 - val_loss: 5.2677e-04 - val_mae: 0.0170 - val_root_mean_squared_error: 0.0230\n",
      "Epoch 3/50\n",
      "45/45 [==============================] - 0s 7ms/step - loss: 0.0022 - mae: 0.0323 - root_mean_squared_error: 0.0474 - val_loss: 7.0732e-04 - val_mae: 0.0213 - val_root_mean_squared_error: 0.0266\n",
      "Epoch 4/50\n",
      "45/45 [==============================] - 0s 8ms/step - loss: 0.0023 - mae: 0.0324 - root_mean_squared_error: 0.0476 - val_loss: 5.3959e-04 - val_mae: 0.0174 - val_root_mean_squared_error: 0.0232\n",
      "Epoch 5/50\n",
      "45/45 [==============================] - 0s 7ms/step - loss: 0.0023 - mae: 0.0329 - root_mean_squared_error: 0.0480 - val_loss: 0.0012 - val_mae: 0.0305 - val_root_mean_squared_error: 0.0349\n",
      "Epoch 6/50\n",
      "45/45 [==============================] - 0s 6ms/step - loss: 0.0022 - mae: 0.0324 - root_mean_squared_error: 0.0472 - val_loss: 4.7093e-04 - val_mae: 0.0154 - val_root_mean_squared_error: 0.0217\n",
      "Epoch 7/50\n",
      "45/45 [==============================] - 0s 6ms/step - loss: 0.0021 - mae: 0.0314 - root_mean_squared_error: 0.0463 - val_loss: 5.1970e-04 - val_mae: 0.0171 - val_root_mean_squared_error: 0.0228\n",
      "Epoch 8/50\n",
      "45/45 [==============================] - 0s 6ms/step - loss: 0.0021 - mae: 0.0319 - root_mean_squared_error: 0.0463 - val_loss: 6.3247e-04 - val_mae: 0.0198 - val_root_mean_squared_error: 0.0251\n",
      "Epoch 9/50\n",
      "45/45 [==============================] - 0s 6ms/step - loss: 0.0022 - mae: 0.0325 - root_mean_squared_error: 0.0468 - val_loss: 6.8766e-04 - val_mae: 0.0211 - val_root_mean_squared_error: 0.0262\n",
      "Epoch 10/50\n",
      "45/45 [==============================] - 0s 6ms/step - loss: 0.0022 - mae: 0.0322 - root_mean_squared_error: 0.0469 - val_loss: 5.0819e-04 - val_mae: 0.0165 - val_root_mean_squared_error: 0.0225\n",
      "Epoch 11/50\n",
      "45/45 [==============================] - 0s 6ms/step - loss: 0.0021 - mae: 0.0317 - root_mean_squared_error: 0.0460 - val_loss: 4.4224e-04 - val_mae: 0.0149 - val_root_mean_squared_error: 0.0210\n",
      "Epoch 12/50\n",
      "45/45 [==============================] - 0s 6ms/step - loss: 0.0020 - mae: 0.0310 - root_mean_squared_error: 0.0451 - val_loss: 4.5064e-04 - val_mae: 0.0152 - val_root_mean_squared_error: 0.0212\n",
      "Epoch 13/50\n",
      "45/45 [==============================] - 0s 6ms/step - loss: 0.0020 - mae: 0.0314 - root_mean_squared_error: 0.0452 - val_loss: 0.0010 - val_mae: 0.0277 - val_root_mean_squared_error: 0.0320\n",
      "Epoch 14/50\n",
      "45/45 [==============================] - 0s 6ms/step - loss: 0.0021 - mae: 0.0321 - root_mean_squared_error: 0.0462 - val_loss: 5.4076e-04 - val_mae: 0.0180 - val_root_mean_squared_error: 0.0233\n",
      "Epoch 15/50\n",
      "45/45 [==============================] - 0s 6ms/step - loss: 0.0020 - mae: 0.0312 - root_mean_squared_error: 0.0447 - val_loss: 5.9696e-04 - val_mae: 0.0194 - val_root_mean_squared_error: 0.0244\n",
      "Epoch 16/50\n",
      "45/45 [==============================] - 0s 6ms/step - loss: 0.0020 - mae: 0.0312 - root_mean_squared_error: 0.0451 - val_loss: 5.3016e-04 - val_mae: 0.0180 - val_root_mean_squared_error: 0.0230\n",
      "Epoch 17/50\n",
      "45/45 [==============================] - 0s 6ms/step - loss: 0.0022 - mae: 0.0337 - root_mean_squared_error: 0.0469 - val_loss: 4.6101e-04 - val_mae: 0.0163 - val_root_mean_squared_error: 0.0215\n",
      "Epoch 18/50\n",
      "45/45 [==============================] - 0s 6ms/step - loss: 0.0019 - mae: 0.0302 - root_mean_squared_error: 0.0438 - val_loss: 3.9596e-04 - val_mae: 0.0141 - val_root_mean_squared_error: 0.0199\n",
      "Epoch 19/50\n",
      "45/45 [==============================] - 0s 6ms/step - loss: 0.0020 - mae: 0.0313 - root_mean_squared_error: 0.0449 - val_loss: 7.1785e-04 - val_mae: 0.0218 - val_root_mean_squared_error: 0.0268\n",
      "Epoch 20/50\n",
      "45/45 [==============================] - 0s 6ms/step - loss: 0.0019 - mae: 0.0311 - root_mean_squared_error: 0.0441 - val_loss: 3.7430e-04 - val_mae: 0.0137 - val_root_mean_squared_error: 0.0193\n",
      "Epoch 21/50\n",
      "45/45 [==============================] - 0s 6ms/step - loss: 0.0018 - mae: 0.0294 - root_mean_squared_error: 0.0423 - val_loss: 4.1735e-04 - val_mae: 0.0150 - val_root_mean_squared_error: 0.0204\n",
      "Epoch 22/50\n",
      "45/45 [==============================] - 0s 6ms/step - loss: 0.0019 - mae: 0.0303 - root_mean_squared_error: 0.0431 - val_loss: 5.5192e-04 - val_mae: 0.0185 - val_root_mean_squared_error: 0.0235\n",
      "Epoch 23/50\n",
      "45/45 [==============================] - 0s 6ms/step - loss: 0.0017 - mae: 0.0288 - root_mean_squared_error: 0.0418 - val_loss: 3.5996e-04 - val_mae: 0.0137 - val_root_mean_squared_error: 0.0190\n",
      "Epoch 24/50\n",
      "45/45 [==============================] - 0s 6ms/step - loss: 0.0017 - mae: 0.0284 - root_mean_squared_error: 0.0412 - val_loss: 0.0012 - val_mae: 0.0305 - val_root_mean_squared_error: 0.0340\n",
      "Epoch 25/50\n",
      "45/45 [==============================] - 0s 6ms/step - loss: 0.0018 - mae: 0.0294 - root_mean_squared_error: 0.0421 - val_loss: 4.1103e-04 - val_mae: 0.0156 - val_root_mean_squared_error: 0.0203\n",
      "Epoch 26/50\n",
      "45/45 [==============================] - 0s 6ms/step - loss: 0.0018 - mae: 0.0294 - root_mean_squared_error: 0.0424 - val_loss: 4.6669e-04 - val_mae: 0.0166 - val_root_mean_squared_error: 0.0216\n",
      "Epoch 27/50\n",
      "45/45 [==============================] - 0s 6ms/step - loss: 0.0017 - mae: 0.0282 - root_mean_squared_error: 0.0408 - val_loss: 6.2393e-04 - val_mae: 0.0202 - val_root_mean_squared_error: 0.0250\n",
      "Epoch 28/50\n",
      "45/45 [==============================] - 0s 6ms/step - loss: 0.0017 - mae: 0.0286 - root_mean_squared_error: 0.0413 - val_loss: 5.2362e-04 - val_mae: 0.0187 - val_root_mean_squared_error: 0.0229\n",
      "Epoch 29/50\n",
      "45/45 [==============================] - 0s 6ms/step - loss: 0.0018 - mae: 0.0303 - root_mean_squared_error: 0.0423 - val_loss: 3.4759e-04 - val_mae: 0.0138 - val_root_mean_squared_error: 0.0186\n",
      "Epoch 30/50\n",
      "45/45 [==============================] - 0s 6ms/step - loss: 0.0016 - mae: 0.0276 - root_mean_squared_error: 0.0398 - val_loss: 3.1444e-04 - val_mae: 0.0127 - val_root_mean_squared_error: 0.0177\n",
      "Epoch 31/50\n",
      "45/45 [==============================] - 0s 6ms/step - loss: 0.0016 - mae: 0.0281 - root_mean_squared_error: 0.0401 - val_loss: 4.6540e-04 - val_mae: 0.0168 - val_root_mean_squared_error: 0.0216\n",
      "Epoch 32/50\n",
      "45/45 [==============================] - 0s 6ms/step - loss: 0.0018 - mae: 0.0305 - root_mean_squared_error: 0.0426 - val_loss: 3.0855e-04 - val_mae: 0.0127 - val_root_mean_squared_error: 0.0176\n",
      "Epoch 33/50\n",
      "45/45 [==============================] - 0s 6ms/step - loss: 0.0016 - mae: 0.0279 - root_mean_squared_error: 0.0400 - val_loss: 2.9258e-04 - val_mae: 0.0122 - val_root_mean_squared_error: 0.0171\n",
      "Epoch 34/50\n",
      "45/45 [==============================] - 0s 6ms/step - loss: 0.0016 - mae: 0.0286 - root_mean_squared_error: 0.0405 - val_loss: 2.9184e-04 - val_mae: 0.0120 - val_root_mean_squared_error: 0.0171\n",
      "Epoch 35/50\n",
      "45/45 [==============================] - 0s 6ms/step - loss: 0.0016 - mae: 0.0274 - root_mean_squared_error: 0.0401 - val_loss: 2.8600e-04 - val_mae: 0.0121 - val_root_mean_squared_error: 0.0169\n",
      "Epoch 36/50\n",
      "45/45 [==============================] - 0s 6ms/step - loss: 0.0016 - mae: 0.0274 - root_mean_squared_error: 0.0397 - val_loss: 0.0014 - val_mae: 0.0346 - val_root_mean_squared_error: 0.0380\n",
      "Epoch 37/50\n",
      "45/45 [==============================] - 0s 6ms/step - loss: 0.0016 - mae: 0.0285 - root_mean_squared_error: 0.0405 - val_loss: 2.8951e-04 - val_mae: 0.0123 - val_root_mean_squared_error: 0.0170\n",
      "Epoch 38/50\n",
      "45/45 [==============================] - 0s 6ms/step - loss: 0.0019 - mae: 0.0305 - root_mean_squared_error: 0.0431 - val_loss: 2.7908e-04 - val_mae: 0.0117 - val_root_mean_squared_error: 0.0167\n",
      "Epoch 39/50\n",
      "45/45 [==============================] - 0s 7ms/step - loss: 0.0015 - mae: 0.0265 - root_mean_squared_error: 0.0390 - val_loss: 4.3599e-04 - val_mae: 0.0163 - val_root_mean_squared_error: 0.0209\n",
      "Epoch 40/50\n",
      "45/45 [==============================] - 0s 6ms/step - loss: 0.0016 - mae: 0.0273 - root_mean_squared_error: 0.0395 - val_loss: 6.5837e-04 - val_mae: 0.0223 - val_root_mean_squared_error: 0.0257\n",
      "Epoch 41/50\n",
      "45/45 [==============================] - 0s 6ms/step - loss: 0.0015 - mae: 0.0269 - root_mean_squared_error: 0.0390 - val_loss: 3.8612e-04 - val_mae: 0.0155 - val_root_mean_squared_error: 0.0196\n",
      "Epoch 42/50\n",
      "45/45 [==============================] - 0s 6ms/step - loss: 0.0017 - mae: 0.0292 - root_mean_squared_error: 0.0410 - val_loss: 2.8074e-04 - val_mae: 0.0121 - val_root_mean_squared_error: 0.0168\n",
      "Epoch 43/50\n",
      "45/45 [==============================] - 0s 6ms/step - loss: 0.0015 - mae: 0.0266 - root_mean_squared_error: 0.0391 - val_loss: 3.0869e-04 - val_mae: 0.0131 - val_root_mean_squared_error: 0.0176\n",
      "Epoch 44/50\n",
      "45/45 [==============================] - 0s 6ms/step - loss: 0.0015 - mae: 0.0264 - root_mean_squared_error: 0.0388 - val_loss: 2.8283e-04 - val_mae: 0.0122 - val_root_mean_squared_error: 0.0168\n",
      "Epoch 45/50\n",
      "45/45 [==============================] - 0s 6ms/step - loss: 0.0015 - mae: 0.0269 - root_mean_squared_error: 0.0394 - val_loss: 4.1480e-04 - val_mae: 0.0164 - val_root_mean_squared_error: 0.0204\n",
      "Epoch 46/50\n",
      "45/45 [==============================] - 0s 6ms/step - loss: 0.0016 - mae: 0.0275 - root_mean_squared_error: 0.0397 - val_loss: 3.0694e-04 - val_mae: 0.0131 - val_root_mean_squared_error: 0.0175\n",
      "Epoch 47/50\n",
      "45/45 [==============================] - 0s 6ms/step - loss: 0.0016 - mae: 0.0281 - root_mean_squared_error: 0.0404 - val_loss: 2.7112e-04 - val_mae: 0.0116 - val_root_mean_squared_error: 0.0165\n",
      "Epoch 48/50\n",
      "45/45 [==============================] - 0s 6ms/step - loss: 0.0015 - mae: 0.0265 - root_mean_squared_error: 0.0386 - val_loss: 3.7757e-04 - val_mae: 0.0153 - val_root_mean_squared_error: 0.0194\n",
      "Epoch 49/50\n",
      "45/45 [==============================] - 0s 6ms/step - loss: 0.0015 - mae: 0.0264 - root_mean_squared_error: 0.0389 - val_loss: 3.3704e-04 - val_mae: 0.0141 - val_root_mean_squared_error: 0.0184\n",
      "Epoch 50/50\n",
      "45/45 [==============================] - 0s 6ms/step - loss: 0.0016 - mae: 0.0288 - root_mean_squared_error: 0.0406 - val_loss: 4.9216e-04 - val_mae: 0.0181 - val_root_mean_squared_error: 0.0222\n"
     ]
    }
   ],
   "source": [
    "model.compile(loss='mean_squared_error',\n",
    "              metrics=['mae', RootMeanSquaredError()],\n",
    "              optimizer='adam')\n",
    "\n",
    "history = model.fit(X_train,\n",
    "                    y_train,\n",
    "                    epochs=50,\n",
    "                    batch_size=32,\n",
    "                    validation_split=0.1)"
   ]
  },
  {
   "cell_type": "code",
   "execution_count": 16,
   "id": "03df45e5",
   "metadata": {
    "execution": {
     "iopub.execute_input": "2024-02-05T16:39:29.032110Z",
     "iopub.status.busy": "2024-02-05T16:39:29.031768Z",
     "iopub.status.idle": "2024-02-05T16:39:29.140500Z",
     "shell.execute_reply": "2024-02-05T16:39:29.139510Z"
    },
    "papermill": {
     "duration": 0.165629,
     "end_time": "2024-02-05T16:39:29.142547",
     "exception": false,
     "start_time": "2024-02-05T16:39:28.976918",
     "status": "completed"
    },
    "tags": []
   },
   "outputs": [
    {
     "name": "stdout",
     "output_type": "stream",
     "text": [
      "13/13 [==============================] - 0s 3ms/step - loss: 9.6182e-04 - mae: 0.0253 - root_mean_squared_error: 0.0310\n"
     ]
    },
    {
     "data": {
      "text/plain": [
       "[0.0009618226322345436, 0.025250380858778954, 0.031013265252113342]"
      ]
     },
     "execution_count": 16,
     "metadata": {},
     "output_type": "execute_result"
    }
   ],
   "source": [
    "model.evaluate(X_test, y_test)"
   ]
  },
  {
   "cell_type": "markdown",
   "id": "9bfb1ce4",
   "metadata": {
    "papermill": {
     "duration": 0.053999,
     "end_time": "2024-02-05T16:39:29.251345",
     "exception": false,
     "start_time": "2024-02-05T16:39:29.197346",
     "status": "completed"
    },
    "tags": []
   },
   "source": [
    "## Model Evaluation"
   ]
  },
  {
   "cell_type": "code",
   "execution_count": 17,
   "id": "1199cf84",
   "metadata": {
    "execution": {
     "iopub.execute_input": "2024-02-05T16:39:29.361316Z",
     "iopub.status.busy": "2024-02-05T16:39:29.360960Z",
     "iopub.status.idle": "2024-02-05T16:39:29.647094Z",
     "shell.execute_reply": "2024-02-05T16:39:29.646191Z"
    },
    "papermill": {
     "duration": 0.343593,
     "end_time": "2024-02-05T16:39:29.649175",
     "exception": false,
     "start_time": "2024-02-05T16:39:29.305582",
     "status": "completed"
    },
    "tags": []
   },
   "outputs": [
    {
     "data": {
      "image/png": "[encoded data removed]",
      "text/plain": [
       "<Figure size 640x480 with 1 Axes>"
      ]
     },
     "metadata": {},
     "output_type": "display_data"
    }
   ],
   "source": [
    "plt.plot(history.history['loss'])\n",
    "plt.plot(history.history['val_loss'])\n",
    "plt.title(f'{SHEET_NAME} Model Loss', fontsize=15)\n",
    "plt.ylabel('loss')\n",
    "plt.xlabel('epoch')\n",
    "plt.legend(['train', 'test'])\n",
    "plt.show()"
   ]
  },
  {
   "cell_type": "code",
   "execution_count": 18,
   "id": "55a289f9",
   "metadata": {
    "execution": {
     "iopub.execute_input": "2024-02-05T16:39:29.762326Z",
     "iopub.status.busy": "2024-02-05T16:39:29.761458Z",
     "iopub.status.idle": "2024-02-05T16:39:30.509412Z",
     "shell.execute_reply": "2024-02-05T16:39:30.508419Z"
    },
    "papermill": {
     "duration": 0.807079,
     "end_time": "2024-02-05T16:39:30.511627",
     "exception": false,
     "start_time": "2024-02-05T16:39:29.704548",
     "status": "completed"
    },
    "tags": []
   },
   "outputs": [
    {
     "name": "stdout",
     "output_type": "stream",
     "text": [
      "13/13 [==============================] - 1s 2ms/step\n"
     ]
    }
   ],
   "source": [
    "y_hat = model.predict(X_test)\n",
    "y_test_inverse = scaler.inverse_transform(y_test)\n",
    "y_hat_inverse = scaler.inverse_transform(y_hat)"
   ]
  },
  {
   "cell_type": "code",
   "execution_count": 19,
   "id": "cdef5d5c",
   "metadata": {
    "execution": {
     "iopub.execute_input": "2024-02-05T16:39:30.625108Z",
     "iopub.status.busy": "2024-02-05T16:39:30.624730Z",
     "iopub.status.idle": "2024-02-05T16:39:30.953536Z",
     "shell.execute_reply": "2024-02-05T16:39:30.952629Z"
    },
    "papermill": {
     "duration": 0.388077,
     "end_time": "2024-02-05T16:39:30.955576",
     "exception": false,
     "start_time": "2024-02-05T16:39:30.567499",
     "status": "completed"
    },
    "tags": []
   },
   "outputs": [
    {
     "data": {
      "image/png": "[encoded data removed]",
      "text/plain": [
       "<Figure size 640x480 with 1 Axes>"
      ]
     },
     "metadata": {},
     "output_type": "display_data"
    }
   ],
   "source": [
    "plt.plot(y_test_inverse, label=\"Actual Price\", color='green')\n",
    "plt.plot(y_hat_inverse, label=\"Predicted Price\", color='red')\n",
    " \n",
    "plt.title(f'{SHEET_NAME} Price Prediction\\nLSTM = {LSTM_Layer}, Split Data = {SPLIT}, Window = {WINDOW_SIZE}', fontsize=15)\n",
    "plt.xlabel('Time [days]')\n",
    "plt.ylabel('Price')\n",
    "plt.legend(loc='best')\n",
    " \n",
    "plt.show()"
   ]
  },
  {
   "cell_type": "code",
   "execution_count": 20,
   "id": "32da36af",
   "metadata": {
    "execution": {
     "iopub.execute_input": "2024-02-05T16:39:31.069210Z",
     "iopub.status.busy": "2024-02-05T16:39:31.068857Z",
     "iopub.status.idle": "2024-02-05T16:39:31.078341Z",
     "shell.execute_reply": "2024-02-05T16:39:31.077320Z"
    },
    "papermill": {
     "duration": 0.068568,
     "end_time": "2024-02-05T16:39:31.080295",
     "exception": false,
     "start_time": "2024-02-05T16:39:31.011727",
     "status": "completed"
    },
    "tags": []
   },
   "outputs": [
    {
     "name": "stdout",
     "output_type": "stream",
     "text": [
      "LSTM = 2, Split Data = 0.8, Window = 5\n",
      "\n",
      "----------------- Normalized Error -----------------\n",
      "Mean Absolute Error for prediction : 0.025250379704444763\n",
      "Mean Squared Error for prediction : 0.0009618225689189438\n",
      "Root Mean Squared Error for prediction : 0.031013264402815512\n",
      "\n",
      "----------------- Actual Error -----------------\n",
      "Mean Absolute Error for prediction : 65.05133653085454\n",
      "Mean Squared Error for prediction : 6383.683903568433\n",
      "Root Mean Squared Error for prediction : 79.89795932042591\n"
     ]
    }
   ],
   "source": [
    "def matrices(actual, predicted):\n",
    "    mse = mean_squared_error(actual, predicted)\n",
    "    mae = mean_absolute_error(actual, predicted)\n",
    "    rmse = np.sqrt(mse)\n",
    "    print(\"Mean Absolute Error for prediction :\", mae)\n",
    "    print(\"Mean Squared Error for prediction :\", mse)\n",
    "    print(\"Root Mean Squared Error for prediction :\", rmse)\n",
    "    return mae, mse, rmse\n",
    "\n",
    "print(f\"LSTM = {LSTM_Layer}, Split Data = {SPLIT}, Window = {WINDOW_SIZE}\")\n",
    "print(\"\\n----------------- Normalized Error -----------------\")\n",
    "mae, mse, rmse = matrices(y_test, y_hat)\n",
    "print(\"\\n----------------- Actual Error -----------------\")\n",
    "mae_inverse, mse_inverse, rmse_inverse = matrices(y_test_inverse, y_hat_inverse)"
   ]
  }
 ],
 "metadata": {
  "kaggle": {
   "accelerator": "gpu",
   "dataSources": [],
   "dockerImageVersionId": 30498,
   "isGpuEnabled": true,
   "isInternetEnabled": true,
   "language": "python",
   "sourceType": "notebook"
  },
  "kernelspec": {
   "display_name": "Python 3",
   "language": "python",
   "name": "python3"
  },
  "language_info": {
   "codemirror_mode": {
    "name": "ipython",
    "version": 3
   },
   "file_extension": ".py",
   "mimetype": "text/x-python",
   "name": "python",
   "nbconvert_exporter": "python",
   "pygments_lexer": "ipython3",
   "version": "3.10.10"
  },
  "papermill": {
   "default_parameters": {},
   "duration": 858.09268,
   "end_time": "2024-02-05T16:39:34.697781",
   "environment_variables": {},
   "exception": null,
   "input_path": "__notebook__.ipynb",
   "output_path": "__notebook__.ipynb",
   "parameters": {},
   "start_time": "2024-02-05T16:25:16.605101",
   "version": "2.4.0"
  }
 },
 "nbformat": 4,
 "nbformat_minor": 5
}
