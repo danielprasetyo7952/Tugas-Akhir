{
 "cells": [
  {
   "cell_type": "code",
   "execution_count": 1,
   "id": "1282339b",
   "metadata": {
    "execution": {
     "iopub.execute_input": "2024-02-05T16:23:33.727093Z",
     "iopub.status.busy": "2024-02-05T16:23:33.726821Z",
     "iopub.status.idle": "2024-02-05T16:23:42.764261Z",
     "shell.execute_reply": "2024-02-05T16:23:42.763250Z"
    },
    "papermill": {
     "duration": 9.047657,
     "end_time": "2024-02-05T16:23:42.766536",
     "exception": false,
     "start_time": "2024-02-05T16:23:33.718879",
     "status": "completed"
    },
    "tags": []
   },
   "outputs": [
    {
     "name": "stderr",
     "output_type": "stream",
     "text": [
      "/opt/conda/lib/python3.10/site-packages/tensorflow_io/python/ops/__init__.py:98: UserWarning: unable to load libtensorflow_io_plugins.so: unable to open file: libtensorflow_io_plugins.so, from paths: ['/opt/conda/lib/python3.10/site-packages/tensorflow_io/python/ops/libtensorflow_io_plugins.so']\n",
      "caused by: ['/opt/conda/lib/python3.10/site-packages/tensorflow_io/python/ops/libtensorflow_io_plugins.so: undefined symbol: _ZN3tsl6StatusC1EN10tensorflow5error4CodeESt17basic_string_viewIcSt11char_traitsIcEENS_14SourceLocationE']\n",
      "  warnings.warn(f\"unable to load libtensorflow_io_plugins.so: {e}\")\n",
      "/opt/conda/lib/python3.10/site-packages/tensorflow_io/python/ops/__init__.py:104: UserWarning: file system plugins are not loaded: unable to open file: libtensorflow_io.so, from paths: ['/opt/conda/lib/python3.10/site-packages/tensorflow_io/python/ops/libtensorflow_io.so']\n",
      "caused by: ['/opt/conda/lib/python3.10/site-packages/tensorflow_io/python/ops/libtensorflow_io.so: undefined symbol: _ZTVN10tensorflow13GcsFileSystemE']\n",
      "  warnings.warn(f\"file system plugins are not loaded: {e}\")\n"
     ]
    }
   ],
   "source": [
    "import pandas as pd\n",
    "import numpy as np\n",
    "import tensorflow as tf\n",
    "import matplotlib.pyplot as plt\n",
    "import datetime, pytz\n",
    "\n",
    "from keras.models import Sequential\n",
    "from keras.layers import LSTM, Dense\n",
    "from keras.metrics import RootMeanSquaredError\n",
    "\n",
    "from sklearn.preprocessing import MinMaxScaler\n",
    "from sklearn.metrics import mean_squared_error, mean_absolute_error"
   ]
  },
  {
   "cell_type": "markdown",
   "id": "86007e64",
   "metadata": {
    "papermill": {
     "duration": 0.006447,
     "end_time": "2024-02-05T16:23:42.780542",
     "exception": false,
     "start_time": "2024-02-05T16:23:42.774095",
     "status": "completed"
    },
    "tags": []
   },
   "source": [
    "## Hyperparameter"
   ]
  },
  {
   "cell_type": "code",
   "execution_count": 2,
   "id": "8e00c7aa",
   "metadata": {
    "execution": {
     "iopub.execute_input": "2024-02-05T16:23:42.795337Z",
     "iopub.status.busy": "2024-02-05T16:23:42.794723Z",
     "iopub.status.idle": "2024-02-05T16:23:42.799833Z",
     "shell.execute_reply": "2024-02-05T16:23:42.798818Z"
    },
    "papermill": {
     "duration": 0.014696,
     "end_time": "2024-02-05T16:23:42.801811",
     "exception": false,
     "start_time": "2024-02-05T16:23:42.787115",
     "status": "completed"
    },
    "tags": []
   },
   "outputs": [],
   "source": [
    "# Google Spreadsheet ID\n",
    "SHEET_ID = '1JDNv_mArl-GPIpxuWS5GxgVEwvjXocS1MrXGc6TYs8M'\n",
    "SHEET_NAME = 'USD/IDR' # USD/IDR, EUR/IDR, SGD/IDR\n",
    "\n",
    "SEQ_LEN = 21 # 6, 11, 21\n",
    "SPLIT = 0.80 # 0.80, 0.90\n",
    "LSTM_Layer = 1 # 1, 2, 3\n",
    "WINDOW_SIZE = SEQ_LEN - 1"
   ]
  },
  {
   "cell_type": "code",
   "execution_count": 3,
   "id": "c9cea958",
   "metadata": {
    "execution": {
     "iopub.execute_input": "2024-02-05T16:23:42.816414Z",
     "iopub.status.busy": "2024-02-05T16:23:42.816110Z",
     "iopub.status.idle": "2024-02-05T16:23:44.318614Z",
     "shell.execute_reply": "2024-02-05T16:23:44.317540Z"
    },
    "papermill": {
     "duration": 1.512122,
     "end_time": "2024-02-05T16:23:44.320817",
     "exception": false,
     "start_time": "2024-02-05T16:23:42.808695",
     "status": "completed"
    },
    "tags": []
   },
   "outputs": [
    {
     "name": "stdout",
     "output_type": "stream",
     "text": [
      "<class 'pandas.core.frame.DataFrame'>\n",
      "RangeIndex: 1977 entries, 0 to 1976\n",
      "Data columns (total 2 columns):\n",
      " #   Column  Non-Null Count  Dtype         \n",
      "---  ------  --------------  -----         \n",
      " 0   Date    1977 non-null   datetime64[ns]\n",
      " 1   Close   1977 non-null   float64       \n",
      "dtypes: datetime64[ns](1), float64(1)\n",
      "memory usage: 31.0 KB\n"
     ]
    }
   ],
   "source": [
    "url = f'https://docs.google.com/spreadsheets/d/{SHEET_ID}/gviz/tq?tqx=out:csv&sheet={SHEET_NAME}'\n",
    "data = pd.read_csv(url)\n",
    "\n",
    "# Convert Date columns to datetime format\n",
    "data['Date'] = pd.to_datetime(data['Date'], format='%d/%m/%Y %H:%M:%S')\n",
    "data.info()"
   ]
  },
  {
   "cell_type": "markdown",
   "id": "79fae490",
   "metadata": {
    "papermill": {
     "duration": 0.006598,
     "end_time": "2024-02-05T16:23:44.334405",
     "exception": false,
     "start_time": "2024-02-05T16:23:44.327807",
     "status": "completed"
    },
    "tags": []
   },
   "source": [
    "## Preprocessing"
   ]
  },
  {
   "cell_type": "code",
   "execution_count": 4,
   "id": "df73c4d7",
   "metadata": {
    "execution": {
     "iopub.execute_input": "2024-02-05T16:23:44.349189Z",
     "iopub.status.busy": "2024-02-05T16:23:44.348899Z",
     "iopub.status.idle": "2024-02-05T16:23:44.360190Z",
     "shell.execute_reply": "2024-02-05T16:23:44.359283Z"
    },
    "papermill": {
     "duration": 0.021044,
     "end_time": "2024-02-05T16:23:44.362290",
     "exception": false,
     "start_time": "2024-02-05T16:23:44.341246",
     "status": "completed"
    },
    "tags": []
   },
   "outputs": [
    {
     "name": "stderr",
     "output_type": "stream",
     "text": [
      "/tmp/ipykernel_27/2274720815.py:7: SettingWithCopyWarning: \n",
      "A value is trying to be set on a copy of a slice from a DataFrame\n",
      "\n",
      "See the caveats in the documentation: https://pandas.pydata.org/pandas-docs/stable/user_guide/indexing.html#returning-a-view-versus-a-copy\n",
      "  data[data < lower_bound] = lower_bound\n",
      "/tmp/ipykernel_27/2274720815.py:8: SettingWithCopyWarning: \n",
      "A value is trying to be set on a copy of a slice from a DataFrame\n",
      "\n",
      "See the caveats in the documentation: https://pandas.pydata.org/pandas-docs/stable/user_guide/indexing.html#returning-a-view-versus-a-copy\n",
      "  data[data > upper_bound] = upper_bound\n"
     ]
    }
   ],
   "source": [
    "def replace_outliers(data):\n",
    "    Q1 = np.percentile(data, 25)\n",
    "    Q3 = np.percentile(data, 75)\n",
    "    IQR = Q3 - Q1\n",
    "    lower_bound = Q1 - 1.5 * IQR\n",
    "    upper_bound = Q3 + 1.5 * IQR\n",
    "    data[data < lower_bound] = lower_bound\n",
    "    data[data > upper_bound] = upper_bound\n",
    "    return data\n",
    "\n",
    "data['Close'] = replace_outliers(data['Close'])"
   ]
  },
  {
   "cell_type": "code",
   "execution_count": 5,
   "id": "b467698c",
   "metadata": {
    "execution": {
     "iopub.execute_input": "2024-02-05T16:23:44.377911Z",
     "iopub.status.busy": "2024-02-05T16:23:44.377485Z",
     "iopub.status.idle": "2024-02-05T16:23:44.621865Z",
     "shell.execute_reply": "2024-02-05T16:23:44.620994Z"
    },
    "papermill": {
     "duration": 0.253928,
     "end_time": "2024-02-05T16:23:44.623776",
     "exception": false,
     "start_time": "2024-02-05T16:23:44.369848",
     "status": "completed"
    },
    "tags": []
   },
   "outputs": [
    {
     "data": {
      "image/png": "[encoded data removed]",
      "text/plain": [
       "<Figure size 640x480 with 1 Axes>"
      ]
     },
     "metadata": {},
     "output_type": "display_data"
    }
   ],
   "source": [
    "# Boxplot for outlier detection\n",
    "plt.boxplot(data['Close'])\n",
    "plt.title(f\"{SHEET_NAME} Boxplot for Outlier Detection\")\n",
    "plt.xlabel(\"Close\")\n",
    "plt.ylabel(\"Values\")\n",
    "plt.show()"
   ]
  },
  {
   "cell_type": "code",
   "execution_count": 6,
   "id": "f5760811",
   "metadata": {
    "execution": {
     "iopub.execute_input": "2024-02-05T16:23:44.639433Z",
     "iopub.status.busy": "2024-02-05T16:23:44.639141Z",
     "iopub.status.idle": "2024-02-05T16:23:44.646576Z",
     "shell.execute_reply": "2024-02-05T16:23:44.645648Z"
    },
    "papermill": {
     "duration": 0.017322,
     "end_time": "2024-02-05T16:23:44.648456",
     "exception": false,
     "start_time": "2024-02-05T16:23:44.631134",
     "status": "completed"
    },
    "tags": []
   },
   "outputs": [
    {
     "data": {
      "text/plain": [
       "(1977, 1)"
      ]
     },
     "execution_count": 6,
     "metadata": {},
     "output_type": "execute_result"
    }
   ],
   "source": [
    "scaler = MinMaxScaler()\n",
    "close_price = data.Close.values.reshape(-1, 1)\n",
    "scaled_close = scaler.fit_transform(close_price)\n",
    "scaled_close.shape"
   ]
  },
  {
   "cell_type": "code",
   "execution_count": 7,
   "id": "f91b2326",
   "metadata": {
    "execution": {
     "iopub.execute_input": "2024-02-05T16:23:44.664002Z",
     "iopub.status.busy": "2024-02-05T16:23:44.663731Z",
     "iopub.status.idle": "2024-02-05T16:23:44.673273Z",
     "shell.execute_reply": "2024-02-05T16:23:44.672456Z"
    },
    "papermill": {
     "duration": 0.019591,
     "end_time": "2024-02-05T16:23:44.675260",
     "exception": false,
     "start_time": "2024-02-05T16:23:44.655669",
     "status": "completed"
    },
    "tags": []
   },
   "outputs": [],
   "source": [
    "def to_sequences(data, seq_len):\n",
    "    d = []\n",
    "    for index in range(len(data) - seq_len):\n",
    "        d.append(data[index: index + seq_len])\n",
    "    return np.array(d)\n",
    "\n",
    "def preprocess(data_raw, seq_len, train_split):\n",
    "    data = to_sequences(data_raw, seq_len)\n",
    "    num_train = int(train_split * data.shape[0])\n",
    "    X_train = data[:num_train, :-1, :]\n",
    "    y_train = data[:num_train, -1, :]\n",
    "    X_test = data[num_train:, :-1, :]\n",
    "    y_test = data[num_train:, -1, :]\n",
    "    return X_train, y_train, X_test, y_test\n",
    "\n",
    "X_train, y_train, X_test, y_test = preprocess(scaled_close, SEQ_LEN, train_split = SPLIT)"
   ]
  },
  {
   "cell_type": "markdown",
   "id": "2ce28e91",
   "metadata": {
    "papermill": {
     "duration": 0.007131,
     "end_time": "2024-02-05T16:23:44.689811",
     "exception": false,
     "start_time": "2024-02-05T16:23:44.682680",
     "status": "completed"
    },
    "tags": []
   },
   "source": [
    "## Genetic Algorithm"
   ]
  },
  {
   "cell_type": "code",
   "execution_count": 8,
   "id": "8d85e025",
   "metadata": {
    "execution": {
     "iopub.execute_input": "2024-02-05T16:23:44.705557Z",
     "iopub.status.busy": "2024-02-05T16:23:44.705298Z",
     "iopub.status.idle": "2024-02-05T16:23:44.710800Z",
     "shell.execute_reply": "2024-02-05T16:23:44.709990Z"
    },
    "papermill": {
     "duration": 0.015288,
     "end_time": "2024-02-05T16:23:44.712647",
     "exception": false,
     "start_time": "2024-02-05T16:23:44.697359",
     "status": "completed"
    },
    "tags": []
   },
   "outputs": [],
   "source": [
    "def decimal_to_binary(chromosome: list):\n",
    "    binary_string = ''.join([bin(x)[2:].zfill(8) for x in chromosome])\n",
    "    return binary_string\n",
    "\n",
    "def binary_to_decimal(binary_string: str):\n",
    "    decimal_array = [int(binary, 2) for binary in [binary_string[i:i+8] for i in range(0, len(binary_string), 8)]]\n",
    "    return decimal_array"
   ]
  },
  {
   "cell_type": "code",
   "execution_count": 9,
   "id": "021026e8",
   "metadata": {
    "execution": {
     "iopub.execute_input": "2024-02-05T16:23:44.728170Z",
     "iopub.status.busy": "2024-02-05T16:23:44.727931Z",
     "iopub.status.idle": "2024-02-05T16:23:44.746704Z",
     "shell.execute_reply": "2024-02-05T16:23:44.745855Z"
    },
    "papermill": {
     "duration": 0.02857,
     "end_time": "2024-02-05T16:23:44.748455",
     "exception": false,
     "start_time": "2024-02-05T16:23:44.719885",
     "status": "completed"
    },
    "tags": []
   },
   "outputs": [],
   "source": [
    "# Genetic Algorithm\n",
    "def genetic_algorithm(generations, mutation_rate):\n",
    "    print(f\"Inizialized Population...\")\n",
    "    population = np.random.randint(1, high=251, size=(10, 3))\n",
    "    fitness_scores = np.array([fitness_function(chromosome) for chromosome in population])\n",
    "    max_fitness_each_gen = []\n",
    "    \n",
    "    for generation in range(generations):\n",
    "        print(f\"Generation - {generation + 1}\")\n",
    "        max_fitness_each_gen.append(np.max(fitness_scores))\n",
    "        \n",
    "        chromosome_1 = selection(population, fitness_scores)\n",
    "        chromosome_2 = selection(population, fitness_scores)\n",
    "        \n",
    "        if generation % mutation_rate == 0:\n",
    "            chromosome_1 = mutate(chromosome_1)\n",
    "            chromosome_2 = mutate(chromosome_2)\n",
    "        else:\n",
    "            chromosome_1, chromosome_2 = crossover(chromosome_1, chromosome_2)\n",
    "\n",
    "        fitness_score_1 = fitness_function(chromosome_1)\n",
    "        fitness_score_2 = fitness_function(chromosome_2)\n",
    "        \n",
    "        worst_index = np.argmin(fitness_scores)\n",
    "        worst_fitness = fitness_scores[worst_index]\n",
    "\n",
    "        if fitness_score_1 > worst_fitness:\n",
    "            population[worst_index] = chromosome_1\n",
    "            fitness_scores[worst_index] = fitness_score_1\n",
    "            worst_index = np.argmin(fitness_scores)\n",
    "            worst_fitness = fitness_scores[worst_index]\n",
    "\n",
    "        if fitness_score_2 > worst_fitness:\n",
    "            population[worst_index] = chromosome_2\n",
    "            fitness_scores[worst_index] = fitness_score_2\n",
    "        \n",
    "        # Release some memory\n",
    "        del chromosome_1, chromosome_2\n",
    "        del fitness_score_1, fitness_score_2\n",
    "        del worst_index, worst_fitness\n",
    "            \n",
    "    best_chromosome = population[np.argmax(fitness_scores)]\n",
    "    best_fitness = np.max(fitness_scores)\n",
    "    \n",
    "    return best_chromosome, best_fitness, max_fitness_each_gen\n",
    "\n",
    "# Selection (Tournament selection)\n",
    "def selection(population, fitness_scores, tournament_size=3):\n",
    "    indices = np.random.randint(len(population), size=tournament_size)\n",
    "    tournament = population[indices]\n",
    "    tournament_fitness = fitness_scores[indices]\n",
    "    return tournament[np.argmax(tournament_fitness)]\n",
    "\n",
    "# Crossover (Single-point crossover)\n",
    "def crossover(parent_1: list, parent_2: list):\n",
    "    parent_1 = decimal_to_binary(parent_1)\n",
    "    parent_2 = decimal_to_binary(parent_2)\n",
    "    \n",
    "    crossover_point = np.random.randint(1, len(parent_1))\n",
    "    offspring_1 = parent_1[:crossover_point] + parent_2[crossover_point:]\n",
    "    offspring_2 = parent_2[:crossover_point] + parent_1[crossover_point:]\n",
    "    \n",
    "    offspring_1 = binary_to_decimal(offspring_1)\n",
    "    offspring_2 = binary_to_decimal(offspring_2)\n",
    "    return offspring_1, offspring_2\n",
    "\n",
    "# Mutation (Swap Mutation)\n",
    "def mutate(chromosome: list):\n",
    "    chromosome = decimal_to_binary(chromosome)\n",
    "    \n",
    "    chromosome_list = list(chromosome)\n",
    "    i = np.random.randint(len(chromosome_list), size=2)\n",
    "    chromosome_list[i[0]], chromosome_list[i[1]] = chromosome_list[i[1]], chromosome_list[i[0]]\n",
    "    \n",
    "    chromosome_list = ''.join(chromosome_list)\n",
    "    chromosome = binary_to_decimal(chromosome_list)\n",
    "    return chromosome\n",
    "\n",
    "# Fitness Function\n",
    "def fitness_function(chromosome: list):\n",
    "    lstm_units = [int(chromosome[i]) or default for i, default in enumerate([128, 64, 32])]\n",
    "\n",
    "    # Build the LSTM model\n",
    "    tf.keras.backend.clear_session()\n",
    "    model = Sequential()\n",
    "    for i, units in enumerate(lstm_units[:LSTM_Layer]):\n",
    "        model.add(LSTM(units, return_sequences=(i < LSTM_Layer - 1), input_shape=(WINDOW_SIZE, 1)))\n",
    "    model.add(Dense(1))\n",
    "    \n",
    "    # Compile and train the model\n",
    "    model.compile(loss='mean_squared_error',\n",
    "                  optimizer='adam')\n",
    "    model.fit(X_train, y_train,\n",
    "              epochs=10,\n",
    "              batch_size=32,\n",
    "              verbose=0,\n",
    "              validation_split=0.1)\n",
    "\n",
    "    # Evaluate the model\n",
    "    loss = model.evaluate(X_test, y_test)\n",
    "\n",
    "    # Return the negative value of the loss as the fitness score\n",
    "    return -loss"
   ]
  },
  {
   "cell_type": "code",
   "execution_count": 10,
   "id": "6df46ce7",
   "metadata": {
    "execution": {
     "iopub.execute_input": "2024-02-05T16:23:44.764045Z",
     "iopub.status.busy": "2024-02-05T16:23:44.763806Z",
     "iopub.status.idle": "2024-02-05T16:23:44.769449Z",
     "shell.execute_reply": "2024-02-05T16:23:44.768599Z"
    },
    "papermill": {
     "duration": 0.015458,
     "end_time": "2024-02-05T16:23:44.771227",
     "exception": false,
     "start_time": "2024-02-05T16:23:44.755769",
     "status": "completed"
    },
    "tags": []
   },
   "outputs": [],
   "source": [
    "import typing\n",
    "from datetime import datetime\n",
    "\n",
    "def timer(start_time: datetime = None) -> \"typing.Union[datetime.datetime, str]\":\n",
    "    if not start_time:\n",
    "        start_time = datetime.now()\n",
    "        return start_time\n",
    "    elif start_time:\n",
    "        thour, temp_sec = divmod((datetime.now() - start_time).total_seconds(), 3600)\n",
    "        tmin, tsec = divmod(temp_sec, 60)\n",
    "        return \"%i hours %i minutes and %s seconds.\" % (\n",
    "            thour,\n",
    "            tmin,\n",
    "            round(tsec, 2),\n",
    "        )"
   ]
  },
  {
   "cell_type": "code",
   "execution_count": 11,
   "id": "10f553e8",
   "metadata": {
    "execution": {
     "iopub.execute_input": "2024-02-05T16:23:44.786816Z",
     "iopub.status.busy": "2024-02-05T16:23:44.786475Z",
     "iopub.status.idle": "2024-02-05T16:32:37.910378Z",
     "shell.execute_reply": "2024-02-05T16:32:37.909414Z"
    },
    "papermill": {
     "duration": 533.134372,
     "end_time": "2024-02-05T16:32:37.912825",
     "exception": false,
     "start_time": "2024-02-05T16:23:44.778453",
     "status": "completed"
    },
    "tags": []
   },
   "outputs": [
    {
     "name": "stdout",
     "output_type": "stream",
     "text": [
      "Inizialized Population...\n",
      "13/13 [==============================] - 0s 3ms/step - loss: 0.0022\n",
      "13/13 [==============================] - 0s 3ms/step - loss: 0.0018\n",
      "13/13 [==============================] - 0s 3ms/step - loss: 0.0012\n",
      "13/13 [==============================] - 0s 3ms/step - loss: 0.0011\n",
      "13/13 [==============================] - 0s 2ms/step - loss: 0.0021\n",
      "13/13 [==============================] - 0s 3ms/step - loss: 0.0033\n",
      "13/13 [==============================] - 0s 2ms/step - loss: 0.0014\n",
      "13/13 [==============================] - 0s 3ms/step - loss: 0.0025\n",
      "13/13 [==============================] - 0s 3ms/step - loss: 0.0015\n",
      "13/13 [==============================] - 0s 2ms/step - loss: 0.0011\n",
      "Generation - 1\n",
      "13/13 [==============================] - 0s 2ms/step - loss: 0.0012\n",
      "13/13 [==============================] - 0s 3ms/step - loss: 0.0021\n",
      "Generation - 2\n",
      "13/13 [==============================] - 0s 3ms/step - loss: 0.0013\n",
      "13/13 [==============================] - 0s 2ms/step - loss: 0.0014\n",
      "Generation - 3\n",
      "13/13 [==============================] - 0s 3ms/step - loss: 0.0018\n",
      "13/13 [==============================] - 0s 2ms/step - loss: 0.0012\n",
      "Generation - 4\n",
      "13/13 [==============================] - 0s 3ms/step - loss: 0.0016\n",
      "13/13 [==============================] - 0s 2ms/step - loss: 0.0013\n",
      "Generation - 5\n",
      "13/13 [==============================] - 0s 3ms/step - loss: 0.0016\n",
      "13/13 [==============================] - 0s 3ms/step - loss: 0.0012\n",
      "Generation - 6\n",
      "13/13 [==============================] - 0s 2ms/step - loss: 0.0012\n",
      "13/13 [==============================] - 0s 2ms/step - loss: 0.0014\n",
      "Generation - 7\n",
      "13/13 [==============================] - 0s 3ms/step - loss: 0.0010\n",
      "13/13 [==============================] - 0s 2ms/step - loss: 0.0012\n",
      "Generation - 8\n",
      "13/13 [==============================] - 0s 3ms/step - loss: 0.0010\n",
      "13/13 [==============================] - 0s 2ms/step - loss: 0.0018\n",
      "Generation - 9\n",
      "13/13 [==============================] - 0s 3ms/step - loss: 0.0016\n",
      "13/13 [==============================] - 0s 2ms/step - loss: 0.0011\n",
      "Generation - 10\n",
      "13/13 [==============================] - 0s 3ms/step - loss: 0.0012\n",
      "13/13 [==============================] - 0s 3ms/step - loss: 0.0017\n",
      "Generation - 11\n",
      "13/13 [==============================] - 0s 2ms/step - loss: 0.0014\n",
      "13/13 [==============================] - 0s 2ms/step - loss: 0.0013\n",
      "Generation - 12\n",
      "13/13 [==============================] - 0s 3ms/step - loss: 0.0029\n",
      "13/13 [==============================] - 0s 3ms/step - loss: 0.0016\n",
      "Generation - 13\n",
      "13/13 [==============================] - 0s 2ms/step - loss: 0.0011\n",
      "13/13 [==============================] - 0s 3ms/step - loss: 0.0014\n",
      "Generation - 14\n",
      "13/13 [==============================] - 0s 2ms/step - loss: 0.0013\n",
      "13/13 [==============================] - 0s 2ms/step - loss: 0.0015\n",
      "Generation - 15\n",
      "13/13 [==============================] - 0s 2ms/step - loss: 0.0013\n",
      "13/13 [==============================] - 0s 3ms/step - loss: 0.0027\n",
      "Generation - 16\n",
      "13/13 [==============================] - 0s 3ms/step - loss: 0.0011\n",
      "13/13 [==============================] - 0s 2ms/step - loss: 0.0017\n",
      "Generation - 17\n",
      "13/13 [==============================] - 0s 2ms/step - loss: 0.0013\n",
      "13/13 [==============================] - 0s 2ms/step - loss: 0.0016\n",
      "Generation - 18\n",
      "13/13 [==============================] - 0s 3ms/step - loss: 0.0012\n",
      "13/13 [==============================] - 0s 2ms/step - loss: 0.0013\n",
      "Generation - 19\n",
      "13/13 [==============================] - 0s 3ms/step - loss: 0.0016\n",
      "13/13 [==============================] - 0s 4ms/step - loss: 0.0013\n",
      "Generation - 20\n",
      "13/13 [==============================] - 0s 2ms/step - loss: 0.0015\n",
      "13/13 [==============================] - 0s 3ms/step - loss: 0.0010\n",
      "Generation - 21\n",
      "13/13 [==============================] - 0s 3ms/step - loss: 0.0015\n",
      "13/13 [==============================] - 0s 2ms/step - loss: 9.9672e-04\n",
      "Generation - 22\n",
      "13/13 [==============================] - 0s 2ms/step - loss: 0.0021\n",
      "13/13 [==============================] - 0s 2ms/step - loss: 0.0014\n",
      "Generation - 23\n",
      "13/13 [==============================] - 0s 3ms/step - loss: 0.0018\n",
      "13/13 [==============================] - 0s 2ms/step - loss: 0.0054\n",
      "Generation - 24\n",
      "13/13 [==============================] - 0s 3ms/step - loss: 0.0024\n",
      "13/13 [==============================] - 0s 2ms/step - loss: 0.0012\n",
      "Generation - 25\n",
      "13/13 [==============================] - 0s 2ms/step - loss: 0.0012\n",
      "13/13 [==============================] - 0s 2ms/step - loss: 0.0013\n",
      "Generation - 26\n",
      "13/13 [==============================] - 0s 3ms/step - loss: 0.0011\n",
      "13/13 [==============================] - 0s 3ms/step - loss: 0.0018\n",
      "Generation - 27\n",
      "13/13 [==============================] - 0s 2ms/step - loss: 0.0021\n",
      "13/13 [==============================] - 0s 3ms/step - loss: 0.0016\n",
      "Generation - 28\n",
      "13/13 [==============================] - 0s 2ms/step - loss: 0.0014\n",
      "13/13 [==============================] - 0s 3ms/step - loss: 0.0012\n",
      "Generation - 29\n",
      "13/13 [==============================] - 0s 3ms/step - loss: 0.0015\n",
      "13/13 [==============================] - 0s 3ms/step - loss: 0.0015\n",
      "Generation - 30\n",
      "13/13 [==============================] - 0s 3ms/step - loss: 0.0011\n",
      "13/13 [==============================] - 0s 2ms/step - loss: 0.0022\n",
      "Generation - 31\n",
      "13/13 [==============================] - 0s 2ms/step - loss: 0.0011\n",
      "13/13 [==============================] - 0s 2ms/step - loss: 0.0013\n",
      "Generation - 32\n",
      "13/13 [==============================] - 0s 3ms/step - loss: 0.0011\n",
      "13/13 [==============================] - 0s 3ms/step - loss: 0.0012\n",
      "Generation - 33\n",
      "13/13 [==============================] - 0s 2ms/step - loss: 0.0016\n",
      "13/13 [==============================] - 0s 3ms/step - loss: 9.7739e-04\n",
      "Generation - 34\n",
      "13/13 [==============================] - 0s 2ms/step - loss: 0.0010\n",
      "13/13 [==============================] - 0s 2ms/step - loss: 0.0011\n",
      "Generation - 35\n",
      "13/13 [==============================] - 0s 3ms/step - loss: 0.0016\n",
      "13/13 [==============================] - 0s 3ms/step - loss: 0.0010\n",
      "Generation - 36\n",
      "13/13 [==============================] - 0s 2ms/step - loss: 0.0014\n",
      "13/13 [==============================] - 0s 3ms/step - loss: 0.0015\n",
      "Generation - 37\n",
      "13/13 [==============================] - 0s 3ms/step - loss: 0.0016\n",
      "13/13 [==============================] - 0s 2ms/step - loss: 0.0013\n",
      "Generation - 38\n",
      "13/13 [==============================] - 0s 2ms/step - loss: 0.0013\n",
      "13/13 [==============================] - 0s 3ms/step - loss: 0.0010\n",
      "Generation - 39\n",
      "13/13 [==============================] - 0s 3ms/step - loss: 0.0011\n",
      "13/13 [==============================] - 0s 2ms/step - loss: 0.0028\n",
      "Generation - 40\n",
      "13/13 [==============================] - 0s 2ms/step - loss: 0.0020\n",
      "13/13 [==============================] - 0s 3ms/step - loss: 0.0019\n",
      "Generation - 41\n",
      "13/13 [==============================] - 0s 2ms/step - loss: 0.0018\n",
      "13/13 [==============================] - 0s 2ms/step - loss: 0.0024\n",
      "Generation - 42\n",
      "13/13 [==============================] - 0s 2ms/step - loss: 0.0025\n",
      "13/13 [==============================] - 0s 3ms/step - loss: 0.0010\n",
      "Generation - 43\n",
      "13/13 [==============================] - 0s 2ms/step - loss: 0.0020\n",
      "13/13 [==============================] - 0s 2ms/step - loss: 0.0013\n",
      "Generation - 44\n",
      "13/13 [==============================] - 0s 3ms/step - loss: 0.0013\n",
      "13/13 [==============================] - 0s 2ms/step - loss: 0.0018\n",
      "Generation - 45\n",
      "13/13 [==============================] - 0s 2ms/step - loss: 0.0011\n",
      "13/13 [==============================] - 0s 3ms/step - loss: 0.0015\n",
      "Generation - 46\n",
      "13/13 [==============================] - 0s 3ms/step - loss: 0.0012\n",
      "13/13 [==============================] - 0s 2ms/step - loss: 0.0014\n",
      "Generation - 47\n",
      "13/13 [==============================] - 0s 3ms/step - loss: 0.0016\n",
      "13/13 [==============================] - 0s 3ms/step - loss: 0.0018\n",
      "Generation - 48\n",
      "13/13 [==============================] - 0s 3ms/step - loss: 0.0012\n",
      "13/13 [==============================] - 0s 2ms/step - loss: 0.0011\n",
      "Generation - 49\n",
      "13/13 [==============================] - 0s 2ms/step - loss: 0.0019\n",
      "13/13 [==============================] - 0s 3ms/step - loss: 0.0013\n",
      "Generation - 50\n",
      "13/13 [==============================] - 0s 2ms/step - loss: 0.0011\n",
      "13/13 [==============================] - 0s 3ms/step - loss: 0.0014\n"
     ]
    }
   ],
   "source": [
    "# Do not increase this value\n",
    "generations = 50\n",
    "mutation_rate = 5\n",
    "\n",
    "time = timer(None)\n",
    "best_chromosome, best_fitness, max_fitness_each_gen = genetic_algorithm(generations, mutation_rate)\n",
    "time = timer(time)"
   ]
  },
  {
   "cell_type": "code",
   "execution_count": 12,
   "id": "22625e6d",
   "metadata": {
    "execution": {
     "iopub.execute_input": "2024-02-05T16:32:37.970556Z",
     "iopub.status.busy": "2024-02-05T16:32:37.970235Z",
     "iopub.status.idle": "2024-02-05T16:32:37.975597Z",
     "shell.execute_reply": "2024-02-05T16:32:37.974710Z"
    },
    "papermill": {
     "duration": 0.035421,
     "end_time": "2024-02-05T16:32:37.977637",
     "exception": false,
     "start_time": "2024-02-05T16:32:37.942216",
     "status": "completed"
    },
    "tags": []
   },
   "outputs": [
    {
     "name": "stdout",
     "output_type": "stream",
     "text": [
      "Best Chromosome: [197  52 202]\n",
      "Best Fitness: -0.000977387884631753\n",
      "Time Taken: 0 hours 8 minutes and 53.12 seconds.\n"
     ]
    }
   ],
   "source": [
    "print(\"Best Chromosome:\", best_chromosome)\n",
    "print(\"Best Fitness:\", best_fitness)\n",
    "print(\"Time Taken:\", time)"
   ]
  },
  {
   "cell_type": "code",
   "execution_count": 13,
   "id": "1c99fdac",
   "metadata": {
    "execution": {
     "iopub.execute_input": "2024-02-05T16:32:38.034656Z",
     "iopub.status.busy": "2024-02-05T16:32:38.034362Z",
     "iopub.status.idle": "2024-02-05T16:32:38.040551Z",
     "shell.execute_reply": "2024-02-05T16:32:38.039700Z"
    },
    "papermill": {
     "duration": 0.036731,
     "end_time": "2024-02-05T16:32:38.042409",
     "exception": false,
     "start_time": "2024-02-05T16:32:38.005678",
     "status": "completed"
    },
    "tags": []
   },
   "outputs": [
    {
     "data": {
      "text/plain": [
       "[-0.0010634246282279491,\n",
       " -0.0010634246282279491,\n",
       " -0.0010634246282279491,\n",
       " -0.0010634246282279491,\n",
       " -0.0010634246282279491,\n",
       " -0.0010634246282279491,\n",
       " -0.0010634246282279491,\n",
       " -0.0010160916717723012,\n",
       " -0.0010160916717723012,\n",
       " -0.0010160916717723012,\n",
       " -0.0010160916717723012,\n",
       " -0.0010160916717723012,\n",
       " -0.0010160916717723012,\n",
       " -0.0010160916717723012,\n",
       " -0.0010160916717723012,\n",
       " -0.0010160916717723012,\n",
       " -0.0010160916717723012,\n",
       " -0.0010160916717723012,\n",
       " -0.0010160916717723012,\n",
       " -0.0010160916717723012,\n",
       " -0.0010160916717723012,\n",
       " -0.0009967249352484941,\n",
       " -0.0009967249352484941,\n",
       " -0.0009967249352484941,\n",
       " -0.0009967249352484941,\n",
       " -0.0009967249352484941,\n",
       " -0.0009967249352484941,\n",
       " -0.0009967249352484941,\n",
       " -0.0009967249352484941,\n",
       " -0.0009967249352484941,\n",
       " -0.0009967249352484941,\n",
       " -0.0009967249352484941,\n",
       " -0.0009967249352484941,\n",
       " -0.000977387884631753,\n",
       " -0.000977387884631753,\n",
       " -0.000977387884631753,\n",
       " -0.000977387884631753,\n",
       " -0.000977387884631753,\n",
       " -0.000977387884631753,\n",
       " -0.000977387884631753,\n",
       " -0.000977387884631753,\n",
       " -0.000977387884631753,\n",
       " -0.000977387884631753,\n",
       " -0.000977387884631753,\n",
       " -0.000977387884631753,\n",
       " -0.000977387884631753,\n",
       " -0.000977387884631753,\n",
       " -0.000977387884631753,\n",
       " -0.000977387884631753,\n",
       " -0.000977387884631753]"
      ]
     },
     "execution_count": 13,
     "metadata": {},
     "output_type": "execute_result"
    }
   ],
   "source": [
    "max_fitness_each_gen"
   ]
  },
  {
   "cell_type": "markdown",
   "id": "5ab6ebe0",
   "metadata": {
    "papermill": {
     "duration": 0.027387,
     "end_time": "2024-02-05T16:32:38.097119",
     "exception": false,
     "start_time": "2024-02-05T16:32:38.069732",
     "status": "completed"
    },
    "tags": []
   },
   "source": [
    "## Re-Training Model with Best Parameter"
   ]
  },
  {
   "cell_type": "code",
   "execution_count": 14,
   "id": "e1371407",
   "metadata": {
    "execution": {
     "iopub.execute_input": "2024-02-05T16:32:38.153420Z",
     "iopub.status.busy": "2024-02-05T16:32:38.153159Z",
     "iopub.status.idle": "2024-02-05T16:32:38.438222Z",
     "shell.execute_reply": "2024-02-05T16:32:38.437034Z"
    },
    "papermill": {
     "duration": 0.317271,
     "end_time": "2024-02-05T16:32:38.442262",
     "exception": false,
     "start_time": "2024-02-05T16:32:38.124991",
     "status": "completed"
    },
    "tags": []
   },
   "outputs": [
    {
     "name": "stdout",
     "output_type": "stream",
     "text": [
      "Model: \"sequential_1\"\n",
      "_________________________________________________________________\n",
      " Layer (type)                Output Shape              Param #   \n",
      "=================================================================\n",
      " lstm_1 (LSTM)               (None, 197)               156812    \n",
      "                                                                 \n",
      " dense_1 (Dense)             (None, 1)                 198       \n",
      "                                                                 \n",
      "=================================================================\n",
      "Total params: 157,010\n",
      "Trainable params: 157,010\n",
      "Non-trainable params: 0\n",
      "_________________________________________________________________\n"
     ]
    }
   ],
   "source": [
    "model = Sequential()\n",
    "for i, units in enumerate(best_chromosome[:LSTM_Layer]):\n",
    "    model.add(LSTM(units, return_sequences=(i < LSTM_Layer - 1), input_shape=(WINDOW_SIZE, 1)))\n",
    "model.add(Dense(1))\n",
    "\n",
    "model.summary()"
   ]
  },
  {
   "cell_type": "code",
   "execution_count": 15,
   "id": "6606e09d",
   "metadata": {
    "execution": {
     "iopub.execute_input": "2024-02-05T16:32:38.501490Z",
     "iopub.status.busy": "2024-02-05T16:32:38.500617Z",
     "iopub.status.idle": "2024-02-05T16:32:53.311983Z",
     "shell.execute_reply": "2024-02-05T16:32:53.311095Z"
    },
    "papermill": {
     "duration": 14.843685,
     "end_time": "2024-02-05T16:32:53.314515",
     "exception": false,
     "start_time": "2024-02-05T16:32:38.470830",
     "status": "completed"
    },
    "tags": []
   },
   "outputs": [
    {
     "name": "stdout",
     "output_type": "stream",
     "text": [
      "Epoch 1/50\n",
      "44/44 [==============================] - 3s 15ms/step - loss: 0.0175 - mae: 0.0821 - root_mean_squared_error: 0.1325 - val_loss: 0.0010 - val_mae: 0.0273 - val_root_mean_squared_error: 0.0322\n",
      "Epoch 2/50\n",
      "44/44 [==============================] - 0s 5ms/step - loss: 0.0028 - mae: 0.0375 - root_mean_squared_error: 0.0533 - val_loss: 6.0752e-04 - val_mae: 0.0192 - val_root_mean_squared_error: 0.0246\n",
      "Epoch 3/50\n",
      "44/44 [==============================] - 0s 5ms/step - loss: 0.0025 - mae: 0.0337 - root_mean_squared_error: 0.0498 - val_loss: 5.5851e-04 - val_mae: 0.0174 - val_root_mean_squared_error: 0.0236\n",
      "Epoch 4/50\n",
      "44/44 [==============================] - 0s 5ms/step - loss: 0.0024 - mae: 0.0339 - root_mean_squared_error: 0.0495 - val_loss: 4.5603e-04 - val_mae: 0.0155 - val_root_mean_squared_error: 0.0214\n",
      "Epoch 5/50\n",
      "44/44 [==============================] - 0s 5ms/step - loss: 0.0024 - mae: 0.0337 - root_mean_squared_error: 0.0487 - val_loss: 4.8989e-04 - val_mae: 0.0166 - val_root_mean_squared_error: 0.0221\n",
      "Epoch 6/50\n",
      "44/44 [==============================] - 0s 5ms/step - loss: 0.0023 - mae: 0.0324 - root_mean_squared_error: 0.0478 - val_loss: 7.0867e-04 - val_mae: 0.0218 - val_root_mean_squared_error: 0.0266\n",
      "Epoch 7/50\n",
      "44/44 [==============================] - 0s 5ms/step - loss: 0.0022 - mae: 0.0323 - root_mean_squared_error: 0.0470 - val_loss: 4.8822e-04 - val_mae: 0.0163 - val_root_mean_squared_error: 0.0221\n",
      "Epoch 8/50\n",
      "44/44 [==============================] - 0s 5ms/step - loss: 0.0021 - mae: 0.0312 - root_mean_squared_error: 0.0458 - val_loss: 4.9867e-04 - val_mae: 0.0172 - val_root_mean_squared_error: 0.0223\n",
      "Epoch 9/50\n",
      "44/44 [==============================] - 0s 5ms/step - loss: 0.0020 - mae: 0.0308 - root_mean_squared_error: 0.0450 - val_loss: 4.5047e-04 - val_mae: 0.0159 - val_root_mean_squared_error: 0.0212\n",
      "Epoch 10/50\n",
      "44/44 [==============================] - 0s 5ms/step - loss: 0.0020 - mae: 0.0310 - root_mean_squared_error: 0.0452 - val_loss: 4.3867e-04 - val_mae: 0.0152 - val_root_mean_squared_error: 0.0209\n",
      "Epoch 11/50\n",
      "44/44 [==============================] - 0s 5ms/step - loss: 0.0020 - mae: 0.0304 - root_mean_squared_error: 0.0447 - val_loss: 4.3448e-04 - val_mae: 0.0151 - val_root_mean_squared_error: 0.0208\n",
      "Epoch 12/50\n",
      "44/44 [==============================] - 0s 5ms/step - loss: 0.0020 - mae: 0.0307 - root_mean_squared_error: 0.0444 - val_loss: 4.9303e-04 - val_mae: 0.0172 - val_root_mean_squared_error: 0.0222\n",
      "Epoch 13/50\n",
      "44/44 [==============================] - 0s 5ms/step - loss: 0.0019 - mae: 0.0301 - root_mean_squared_error: 0.0440 - val_loss: 4.9349e-04 - val_mae: 0.0173 - val_root_mean_squared_error: 0.0222\n",
      "Epoch 14/50\n",
      "44/44 [==============================] - 0s 5ms/step - loss: 0.0020 - mae: 0.0309 - root_mean_squared_error: 0.0443 - val_loss: 4.1564e-04 - val_mae: 0.0152 - val_root_mean_squared_error: 0.0204\n",
      "Epoch 15/50\n",
      "44/44 [==============================] - 0s 5ms/step - loss: 0.0019 - mae: 0.0303 - root_mean_squared_error: 0.0437 - val_loss: 4.3081e-04 - val_mae: 0.0157 - val_root_mean_squared_error: 0.0208\n",
      "Epoch 16/50\n",
      "44/44 [==============================] - 0s 5ms/step - loss: 0.0018 - mae: 0.0295 - root_mean_squared_error: 0.0430 - val_loss: 5.8671e-04 - val_mae: 0.0197 - val_root_mean_squared_error: 0.0242\n",
      "Epoch 17/50\n",
      "44/44 [==============================] - 0s 5ms/step - loss: 0.0019 - mae: 0.0295 - root_mean_squared_error: 0.0430 - val_loss: 4.0859e-04 - val_mae: 0.0152 - val_root_mean_squared_error: 0.0202\n",
      "Epoch 18/50\n",
      "44/44 [==============================] - 0s 5ms/step - loss: 0.0018 - mae: 0.0295 - root_mean_squared_error: 0.0428 - val_loss: 8.4465e-04 - val_mae: 0.0240 - val_root_mean_squared_error: 0.0291\n",
      "Epoch 19/50\n",
      "44/44 [==============================] - 0s 5ms/step - loss: 0.0019 - mae: 0.0302 - root_mean_squared_error: 0.0435 - val_loss: 4.7633e-04 - val_mae: 0.0163 - val_root_mean_squared_error: 0.0218\n",
      "Epoch 20/50\n",
      "44/44 [==============================] - 0s 5ms/step - loss: 0.0019 - mae: 0.0298 - root_mean_squared_error: 0.0431 - val_loss: 3.8379e-04 - val_mae: 0.0145 - val_root_mean_squared_error: 0.0196\n",
      "Epoch 21/50\n",
      "44/44 [==============================] - 0s 5ms/step - loss: 0.0018 - mae: 0.0291 - root_mean_squared_error: 0.0423 - val_loss: 3.9774e-04 - val_mae: 0.0144 - val_root_mean_squared_error: 0.0199\n",
      "Epoch 22/50\n",
      "44/44 [==============================] - 0s 5ms/step - loss: 0.0018 - mae: 0.0288 - root_mean_squared_error: 0.0419 - val_loss: 3.8078e-04 - val_mae: 0.0140 - val_root_mean_squared_error: 0.0195\n",
      "Epoch 23/50\n",
      "44/44 [==============================] - 0s 5ms/step - loss: 0.0018 - mae: 0.0297 - root_mean_squared_error: 0.0426 - val_loss: 3.7501e-04 - val_mae: 0.0139 - val_root_mean_squared_error: 0.0194\n",
      "Epoch 24/50\n",
      "44/44 [==============================] - 0s 6ms/step - loss: 0.0017 - mae: 0.0291 - root_mean_squared_error: 0.0418 - val_loss: 4.7379e-04 - val_mae: 0.0173 - val_root_mean_squared_error: 0.0218\n",
      "Epoch 25/50\n",
      "44/44 [==============================] - 0s 5ms/step - loss: 0.0017 - mae: 0.0288 - root_mean_squared_error: 0.0415 - val_loss: 4.6074e-04 - val_mae: 0.0162 - val_root_mean_squared_error: 0.0215\n",
      "Epoch 26/50\n",
      "44/44 [==============================] - 0s 5ms/step - loss: 0.0019 - mae: 0.0304 - root_mean_squared_error: 0.0430 - val_loss: 3.4008e-04 - val_mae: 0.0134 - val_root_mean_squared_error: 0.0184\n",
      "Epoch 27/50\n",
      "44/44 [==============================] - 0s 5ms/step - loss: 0.0017 - mae: 0.0283 - root_mean_squared_error: 0.0410 - val_loss: 3.4601e-04 - val_mae: 0.0133 - val_root_mean_squared_error: 0.0186\n",
      "Epoch 28/50\n",
      "44/44 [==============================] - 0s 6ms/step - loss: 0.0017 - mae: 0.0279 - root_mean_squared_error: 0.0406 - val_loss: 3.3083e-04 - val_mae: 0.0132 - val_root_mean_squared_error: 0.0182\n",
      "Epoch 29/50\n",
      "44/44 [==============================] - 0s 6ms/step - loss: 0.0017 - mae: 0.0281 - root_mean_squared_error: 0.0409 - val_loss: 3.2692e-04 - val_mae: 0.0131 - val_root_mean_squared_error: 0.0181\n",
      "Epoch 30/50\n",
      "44/44 [==============================] - 0s 6ms/step - loss: 0.0016 - mae: 0.0274 - root_mean_squared_error: 0.0402 - val_loss: 6.1518e-04 - val_mae: 0.0200 - val_root_mean_squared_error: 0.0248\n",
      "Epoch 31/50\n",
      "44/44 [==============================] - 0s 6ms/step - loss: 0.0017 - mae: 0.0288 - root_mean_squared_error: 0.0412 - val_loss: 3.5586e-04 - val_mae: 0.0136 - val_root_mean_squared_error: 0.0189\n",
      "Epoch 32/50\n",
      "44/44 [==============================] - 0s 6ms/step - loss: 0.0016 - mae: 0.0273 - root_mean_squared_error: 0.0399 - val_loss: 4.1785e-04 - val_mae: 0.0154 - val_root_mean_squared_error: 0.0204\n",
      "Epoch 33/50\n",
      "44/44 [==============================] - 0s 5ms/step - loss: 0.0016 - mae: 0.0273 - root_mean_squared_error: 0.0397 - val_loss: 4.0278e-04 - val_mae: 0.0158 - val_root_mean_squared_error: 0.0201\n",
      "Epoch 34/50\n",
      "44/44 [==============================] - 0s 5ms/step - loss: 0.0016 - mae: 0.0270 - root_mean_squared_error: 0.0397 - val_loss: 4.5983e-04 - val_mae: 0.0174 - val_root_mean_squared_error: 0.0214\n",
      "Epoch 35/50\n",
      "44/44 [==============================] - 0s 6ms/step - loss: 0.0016 - mae: 0.0271 - root_mean_squared_error: 0.0395 - val_loss: 3.8893e-04 - val_mae: 0.0147 - val_root_mean_squared_error: 0.0197\n",
      "Epoch 36/50\n",
      "44/44 [==============================] - 0s 6ms/step - loss: 0.0017 - mae: 0.0291 - root_mean_squared_error: 0.0413 - val_loss: 4.1710e-04 - val_mae: 0.0163 - val_root_mean_squared_error: 0.0204\n",
      "Epoch 37/50\n",
      "44/44 [==============================] - 0s 6ms/step - loss: 0.0015 - mae: 0.0270 - root_mean_squared_error: 0.0393 - val_loss: 2.9516e-04 - val_mae: 0.0122 - val_root_mean_squared_error: 0.0172\n",
      "Epoch 38/50\n",
      "44/44 [==============================] - 0s 6ms/step - loss: 0.0015 - mae: 0.0263 - root_mean_squared_error: 0.0389 - val_loss: 3.2371e-04 - val_mae: 0.0130 - val_root_mean_squared_error: 0.0180\n",
      "Epoch 39/50\n",
      "44/44 [==============================] - 0s 5ms/step - loss: 0.0016 - mae: 0.0274 - root_mean_squared_error: 0.0399 - val_loss: 2.8859e-04 - val_mae: 0.0121 - val_root_mean_squared_error: 0.0170\n",
      "Epoch 40/50\n",
      "44/44 [==============================] - 0s 5ms/step - loss: 0.0016 - mae: 0.0274 - root_mean_squared_error: 0.0396 - val_loss: 4.1733e-04 - val_mae: 0.0164 - val_root_mean_squared_error: 0.0204\n",
      "Epoch 41/50\n",
      "44/44 [==============================] - 0s 5ms/step - loss: 0.0015 - mae: 0.0263 - root_mean_squared_error: 0.0388 - val_loss: 3.2873e-04 - val_mae: 0.0138 - val_root_mean_squared_error: 0.0181\n",
      "Epoch 42/50\n",
      "44/44 [==============================] - 0s 6ms/step - loss: 0.0015 - mae: 0.0262 - root_mean_squared_error: 0.0386 - val_loss: 3.3665e-04 - val_mae: 0.0141 - val_root_mean_squared_error: 0.0183\n",
      "Epoch 43/50\n",
      "44/44 [==============================] - 0s 5ms/step - loss: 0.0016 - mae: 0.0276 - root_mean_squared_error: 0.0401 - val_loss: 4.0247e-04 - val_mae: 0.0161 - val_root_mean_squared_error: 0.0201\n",
      "Epoch 44/50\n",
      "44/44 [==============================] - 0s 7ms/step - loss: 0.0015 - mae: 0.0271 - root_mean_squared_error: 0.0394 - val_loss: 4.0153e-04 - val_mae: 0.0154 - val_root_mean_squared_error: 0.0200\n",
      "Epoch 45/50\n",
      "44/44 [==============================] - 0s 7ms/step - loss: 0.0015 - mae: 0.0266 - root_mean_squared_error: 0.0389 - val_loss: 3.5787e-04 - val_mae: 0.0148 - val_root_mean_squared_error: 0.0189\n",
      "Epoch 46/50\n",
      "44/44 [==============================] - 0s 6ms/step - loss: 0.0015 - mae: 0.0267 - root_mean_squared_error: 0.0391 - val_loss: 2.7782e-04 - val_mae: 0.0121 - val_root_mean_squared_error: 0.0167\n",
      "Epoch 47/50\n",
      "44/44 [==============================] - 0s 6ms/step - loss: 0.0015 - mae: 0.0263 - root_mean_squared_error: 0.0388 - val_loss: 2.7287e-04 - val_mae: 0.0117 - val_root_mean_squared_error: 0.0165\n",
      "Epoch 48/50\n",
      "44/44 [==============================] - 0s 6ms/step - loss: 0.0015 - mae: 0.0259 - root_mean_squared_error: 0.0385 - val_loss: 2.6028e-04 - val_mae: 0.0114 - val_root_mean_squared_error: 0.0161\n",
      "Epoch 49/50\n",
      "44/44 [==============================] - 0s 5ms/step - loss: 0.0015 - mae: 0.0264 - root_mean_squared_error: 0.0387 - val_loss: 2.6543e-04 - val_mae: 0.0115 - val_root_mean_squared_error: 0.0163\n",
      "Epoch 50/50\n",
      "44/44 [==============================] - 0s 5ms/step - loss: 0.0015 - mae: 0.0265 - root_mean_squared_error: 0.0389 - val_loss: 4.5108e-04 - val_mae: 0.0175 - val_root_mean_squared_error: 0.0212\n"
     ]
    }
   ],
   "source": [
    "model.compile(loss='mean_squared_error',\n",
    "              metrics=['mae', RootMeanSquaredError()],\n",
    "              optimizer='adam')\n",
    "\n",
    "history = model.fit(X_train,\n",
    "                    y_train,\n",
    "                    epochs=50,\n",
    "                    batch_size=32,\n",
    "                    validation_split=0.1)"
   ]
  },
  {
   "cell_type": "code",
   "execution_count": 16,
   "id": "302a4a2e",
   "metadata": {
    "execution": {
     "iopub.execute_input": "2024-02-05T16:32:53.423298Z",
     "iopub.status.busy": "2024-02-05T16:32:53.422923Z",
     "iopub.status.idle": "2024-02-05T16:32:53.533323Z",
     "shell.execute_reply": "2024-02-05T16:32:53.532339Z"
    },
    "papermill": {
     "duration": 0.166208,
     "end_time": "2024-02-05T16:32:53.535444",
     "exception": false,
     "start_time": "2024-02-05T16:32:53.369236",
     "status": "completed"
    },
    "tags": []
   },
   "outputs": [
    {
     "name": "stdout",
     "output_type": "stream",
     "text": [
      "13/13 [==============================] - 0s 3ms/step - loss: 0.0013 - mae: 0.0310 - root_mean_squared_error: 0.0366\n"
     ]
    },
    {
     "data": {
      "text/plain": [
       "[0.0013417905429378152, 0.0310107059776783, 0.03663045912981033]"
      ]
     },
     "execution_count": 16,
     "metadata": {},
     "output_type": "execute_result"
    }
   ],
   "source": [
    "model.evaluate(X_test, y_test)"
   ]
  },
  {
   "cell_type": "markdown",
   "id": "f35c765d",
   "metadata": {
    "papermill": {
     "duration": 0.052635,
     "end_time": "2024-02-05T16:32:53.640731",
     "exception": false,
     "start_time": "2024-02-05T16:32:53.588096",
     "status": "completed"
    },
    "tags": []
   },
   "source": [
    "## Model Evaluation"
   ]
  },
  {
   "cell_type": "code",
   "execution_count": 17,
   "id": "df7ce534",
   "metadata": {
    "execution": {
     "iopub.execute_input": "2024-02-05T16:32:53.746401Z",
     "iopub.status.busy": "2024-02-05T16:32:53.745789Z",
     "iopub.status.idle": "2024-02-05T16:32:54.061598Z",
     "shell.execute_reply": "2024-02-05T16:32:54.060697Z"
    },
    "papermill": {
     "duration": 0.371189,
     "end_time": "2024-02-05T16:32:54.063939",
     "exception": false,
     "start_time": "2024-02-05T16:32:53.692750",
     "status": "completed"
    },
    "tags": []
   },
   "outputs": [
    {
     "data": {
      "image/png": "[encoded data removed]",
      "text/plain": [
       "<Figure size 640x480 with 1 Axes>"
      ]
     },
     "metadata": {},
     "output_type": "display_data"
    }
   ],
   "source": [
    "plt.plot(history.history['loss'])\n",
    "plt.plot(history.history['val_loss'])\n",
    "plt.title(f'{SHEET_NAME} Model Loss', fontsize=15)\n",
    "plt.ylabel('loss')\n",
    "plt.xlabel('epoch')\n",
    "plt.legend(['train', 'test'])\n",
    "plt.show()"
   ]
  },
  {
   "cell_type": "code",
   "execution_count": 18,
   "id": "00d6ebd8",
   "metadata": {
    "execution": {
     "iopub.execute_input": "2024-02-05T16:32:54.170660Z",
     "iopub.status.busy": "2024-02-05T16:32:54.170246Z",
     "iopub.status.idle": "2024-02-05T16:32:54.671109Z",
     "shell.execute_reply": "2024-02-05T16:32:54.670042Z"
    },
    "papermill": {
     "duration": 0.557103,
     "end_time": "2024-02-05T16:32:54.673507",
     "exception": false,
     "start_time": "2024-02-05T16:32:54.116404",
     "status": "completed"
    },
    "tags": []
   },
   "outputs": [
    {
     "name": "stdout",
     "output_type": "stream",
     "text": [
      "13/13 [==============================] - 0s 2ms/step\n"
     ]
    }
   ],
   "source": [
    "y_hat = model.predict(X_test)\n",
    "y_test_inverse = scaler.inverse_transform(y_test)\n",
    "y_hat_inverse = scaler.inverse_transform(y_hat)"
   ]
  },
  {
   "cell_type": "code",
   "execution_count": 19,
   "id": "8e062463",
   "metadata": {
    "execution": {
     "iopub.execute_input": "2024-02-05T16:32:54.792194Z",
     "iopub.status.busy": "2024-02-05T16:32:54.791510Z",
     "iopub.status.idle": "2024-02-05T16:32:55.152733Z",
     "shell.execute_reply": "2024-02-05T16:32:55.151747Z"
    },
    "papermill": {
     "duration": 0.424591,
     "end_time": "2024-02-05T16:32:55.155129",
     "exception": false,
     "start_time": "2024-02-05T16:32:54.730538",
     "status": "completed"
    },
    "tags": []
   },
   "outputs": [
    {
     "data": {
      "image/png": "[encoded data removed]",
      "text/plain": [
       "<Figure size 640x480 with 1 Axes>"
      ]
     },
     "metadata": {},
     "output_type": "display_data"
    }
   ],
   "source": [
    "plt.plot(y_test_inverse, label=\"Actual Price\", color='green')\n",
    "plt.plot(y_hat_inverse, label=\"Predicted Price\", color='red')\n",
    " \n",
    "plt.title(f'{SHEET_NAME} Price Prediction\\nLSTM = {LSTM_Layer}, Split Data = {SPLIT}, Window = {WINDOW_SIZE}', fontsize=15)\n",
    "plt.xlabel('Time [days]')\n",
    "plt.ylabel('Price')\n",
    "plt.legend(loc='best')\n",
    " \n",
    "plt.show()"
   ]
  },
  {
   "cell_type": "code",
   "execution_count": 20,
   "id": "78e6b665",
   "metadata": {
    "execution": {
     "iopub.execute_input": "2024-02-05T16:32:55.269748Z",
     "iopub.status.busy": "2024-02-05T16:32:55.269366Z",
     "iopub.status.idle": "2024-02-05T16:32:55.279312Z",
     "shell.execute_reply": "2024-02-05T16:32:55.278445Z"
    },
    "papermill": {
     "duration": 0.070163,
     "end_time": "2024-02-05T16:32:55.281433",
     "exception": false,
     "start_time": "2024-02-05T16:32:55.211270",
     "status": "completed"
    },
    "tags": []
   },
   "outputs": [
    {
     "name": "stdout",
     "output_type": "stream",
     "text": [
      "LSTM = 1, Split Data = 0.8, Window = 20\n",
      "\n",
      "----------------- Normalized Error -----------------\n",
      "Mean Absolute Error for prediction : 0.031010708922227657\n",
      "Mean Squared Error for prediction : 0.001341790684176767\n",
      "Root Mean Squared Error for prediction : 0.0366304611515712\n",
      "\n",
      "----------------- Actual Error -----------------\n",
      "Mean Absolute Error for prediction : 79.89130809550387\n",
      "Mean Squared Error for prediction : 8905.547346449202\n",
      "Root Mean Squared Error for prediction : 94.36920761800008\n"
     ]
    }
   ],
   "source": [
    "def matrices(actual, predicted):\n",
    "    mse = mean_squared_error(actual, predicted)\n",
    "    mae = mean_absolute_error(actual, predicted)\n",
    "    rmse = np.sqrt(mse)\n",
    "    print(\"Mean Absolute Error for prediction :\", mae)\n",
    "    print(\"Mean Squared Error for prediction :\", mse)\n",
    "    print(\"Root Mean Squared Error for prediction :\", rmse)\n",
    "    return mae, mse, rmse\n",
    "\n",
    "print(f\"LSTM = {LSTM_Layer}, Split Data = {SPLIT}, Window = {WINDOW_SIZE}\")\n",
    "print(\"\\n----------------- Normalized Error -----------------\")\n",
    "mae, mse, rmse = matrices(y_test, y_hat)\n",
    "print(\"\\n----------------- Actual Error -----------------\")\n",
    "mae_inverse, mse_inverse, rmse_inverse = matrices(y_test_inverse, y_hat_inverse)"
   ]
  }
 ],
 "metadata": {
  "kaggle": {
   "accelerator": "gpu",
   "dataSources": [],
   "dockerImageVersionId": 30498,
   "isGpuEnabled": true,
   "isInternetEnabled": true,
   "language": "python",
   "sourceType": "notebook"
  },
  "kernelspec": {
   "display_name": "Python 3",
   "language": "python",
   "name": "python3"
  },
  "language_info": {
   "codemirror_mode": {
    "name": "ipython",
    "version": 3
   },
   "file_extension": ".py",
   "mimetype": "text/x-python",
   "name": "python",
   "nbconvert_exporter": "python",
   "pygments_lexer": "ipython3",
   "version": "3.10.10"
  },
  "papermill": {
   "default_parameters": {},
   "duration": 575.985654,
   "end_time": "2024-02-05T16:32:58.902032",
   "environment_variables": {},
   "exception": null,
   "input_path": "__notebook__.ipynb",
   "output_path": "__notebook__.ipynb",
   "parameters": {},
   "start_time": "2024-02-05T16:23:22.916378",
   "version": "2.4.0"
  }
 },
 "nbformat": 4,
 "nbformat_minor": 5
}
