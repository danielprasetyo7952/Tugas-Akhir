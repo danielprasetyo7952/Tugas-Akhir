{
 "cells": [
  {
   "cell_type": "code",
   "execution_count": 1,
   "id": "63d309e0",
   "metadata": {
    "execution": {
     "iopub.execute_input": "2024-02-06T01:42:36.832989Z",
     "iopub.status.busy": "2024-02-06T01:42:36.831945Z",
     "iopub.status.idle": "2024-02-06T01:42:47.062570Z",
     "shell.execute_reply": "2024-02-06T01:42:47.061603Z"
    },
    "papermill": {
     "duration": 10.243277,
     "end_time": "2024-02-06T01:42:47.065233",
     "exception": false,
     "start_time": "2024-02-06T01:42:36.821956",
     "status": "completed"
    },
    "tags": []
   },
   "outputs": [
    {
     "name": "stderr",
     "output_type": "stream",
     "text": [
      "/opt/conda/lib/python3.10/site-packages/tensorflow_io/python/ops/__init__.py:98: UserWarning: unable to load libtensorflow_io_plugins.so: unable to open file: libtensorflow_io_plugins.so, from paths: ['/opt/conda/lib/python3.10/site-packages/tensorflow_io/python/ops/libtensorflow_io_plugins.so']\n",
      "caused by: ['/opt/conda/lib/python3.10/site-packages/tensorflow_io/python/ops/libtensorflow_io_plugins.so: undefined symbol: _ZN3tsl6StatusC1EN10tensorflow5error4CodeESt17basic_string_viewIcSt11char_traitsIcEENS_14SourceLocationE']\n",
      "  warnings.warn(f\"unable to load libtensorflow_io_plugins.so: {e}\")\n",
      "/opt/conda/lib/python3.10/site-packages/tensorflow_io/python/ops/__init__.py:104: UserWarning: file system plugins are not loaded: unable to open file: libtensorflow_io.so, from paths: ['/opt/conda/lib/python3.10/site-packages/tensorflow_io/python/ops/libtensorflow_io.so']\n",
      "caused by: ['/opt/conda/lib/python3.10/site-packages/tensorflow_io/python/ops/libtensorflow_io.so: undefined symbol: _ZTVN10tensorflow13GcsFileSystemE']\n",
      "  warnings.warn(f\"file system plugins are not loaded: {e}\")\n"
     ]
    }
   ],
   "source": [
    "import pandas as pd\n",
    "import numpy as np\n",
    "import tensorflow as tf\n",
    "import matplotlib.pyplot as plt\n",
    "import datetime, pytz\n",
    "\n",
    "from keras.models import Sequential\n",
    "from keras.layers import LSTM, Dense\n",
    "from keras.metrics import RootMeanSquaredError\n",
    "\n",
    "from sklearn.preprocessing import MinMaxScaler\n",
    "from sklearn.metrics import mean_squared_error, mean_absolute_error"
   ]
  },
  {
   "cell_type": "markdown",
   "id": "cadd6533",
   "metadata": {
    "papermill": {
     "duration": 0.007242,
     "end_time": "2024-02-06T01:42:47.080589",
     "exception": false,
     "start_time": "2024-02-06T01:42:47.073347",
     "status": "completed"
    },
    "tags": []
   },
   "source": [
    "## Hyperparameter"
   ]
  },
  {
   "cell_type": "code",
   "execution_count": 2,
   "id": "41cf8d9d",
   "metadata": {
    "execution": {
     "iopub.execute_input": "2024-02-06T01:42:47.096941Z",
     "iopub.status.busy": "2024-02-06T01:42:47.096233Z",
     "iopub.status.idle": "2024-02-06T01:42:47.102003Z",
     "shell.execute_reply": "2024-02-06T01:42:47.101073Z"
    },
    "papermill": {
     "duration": 0.016536,
     "end_time": "2024-02-06T01:42:47.104243",
     "exception": false,
     "start_time": "2024-02-06T01:42:47.087707",
     "status": "completed"
    },
    "tags": []
   },
   "outputs": [],
   "source": [
    "# Google Spreadsheet ID\n",
    "SHEET_ID = '1JDNv_mArl-GPIpxuWS5GxgVEwvjXocS1MrXGc6TYs8M'\n",
    "SHEET_NAME = 'EUR/IDR' # USD/IDR, EUR/IDR, SGD/IDR\n",
    "\n",
    "SEQ_LEN = 11 # 6, 11, 21\n",
    "SPLIT = 0.90 # 0.80, 0.90\n",
    "LSTM_Layer = 1 # 1, 2, 3\n",
    "WINDOW_SIZE = SEQ_LEN - 1"
   ]
  },
  {
   "cell_type": "code",
   "execution_count": 3,
   "id": "649573bd",
   "metadata": {
    "execution": {
     "iopub.execute_input": "2024-02-06T01:42:47.120436Z",
     "iopub.status.busy": "2024-02-06T01:42:47.120069Z",
     "iopub.status.idle": "2024-02-06T01:42:47.593324Z",
     "shell.execute_reply": "2024-02-06T01:42:47.592116Z"
    },
    "papermill": {
     "duration": 0.484132,
     "end_time": "2024-02-06T01:42:47.595706",
     "exception": false,
     "start_time": "2024-02-06T01:42:47.111574",
     "status": "completed"
    },
    "tags": []
   },
   "outputs": [
    {
     "name": "stdout",
     "output_type": "stream",
     "text": [
      "<class 'pandas.core.frame.DataFrame'>\n",
      "RangeIndex: 1977 entries, 0 to 1976\n",
      "Data columns (total 2 columns):\n",
      " #   Column  Non-Null Count  Dtype         \n",
      "---  ------  --------------  -----         \n",
      " 0   Date    1977 non-null   datetime64[ns]\n",
      " 1   Close   1977 non-null   float64       \n",
      "dtypes: datetime64[ns](1), float64(1)\n",
      "memory usage: 31.0 KB\n"
     ]
    }
   ],
   "source": [
    "url = f'https://docs.google.com/spreadsheets/d/{SHEET_ID}/gviz/tq?tqx=out:csv&sheet={SHEET_NAME}'\n",
    "data = pd.read_csv(url)\n",
    "\n",
    "# Convert Date columns to datetime format\n",
    "data['Date'] = pd.to_datetime(data['Date'], format='%d/%m/%Y %H:%M:%S')\n",
    "data.info()"
   ]
  },
  {
   "cell_type": "markdown",
   "id": "ba0f3674",
   "metadata": {
    "papermill": {
     "duration": 0.007396,
     "end_time": "2024-02-06T01:42:47.610869",
     "exception": false,
     "start_time": "2024-02-06T01:42:47.603473",
     "status": "completed"
    },
    "tags": []
   },
   "source": [
    "## Preprocessing"
   ]
  },
  {
   "cell_type": "code",
   "execution_count": 4,
   "id": "1e2f2f92",
   "metadata": {
    "execution": {
     "iopub.execute_input": "2024-02-06T01:42:47.627927Z",
     "iopub.status.busy": "2024-02-06T01:42:47.627541Z",
     "iopub.status.idle": "2024-02-06T01:42:47.641687Z",
     "shell.execute_reply": "2024-02-06T01:42:47.640573Z"
    },
    "papermill": {
     "duration": 0.025646,
     "end_time": "2024-02-06T01:42:47.644138",
     "exception": false,
     "start_time": "2024-02-06T01:42:47.618492",
     "status": "completed"
    },
    "tags": []
   },
   "outputs": [
    {
     "name": "stderr",
     "output_type": "stream",
     "text": [
      "/tmp/ipykernel_25/2274720815.py:7: SettingWithCopyWarning: \n",
      "A value is trying to be set on a copy of a slice from a DataFrame\n",
      "\n",
      "See the caveats in the documentation: https://pandas.pydata.org/pandas-docs/stable/user_guide/indexing.html#returning-a-view-versus-a-copy\n",
      "  data[data < lower_bound] = lower_bound\n",
      "/tmp/ipykernel_25/2274720815.py:8: SettingWithCopyWarning: \n",
      "A value is trying to be set on a copy of a slice from a DataFrame\n",
      "\n",
      "See the caveats in the documentation: https://pandas.pydata.org/pandas-docs/stable/user_guide/indexing.html#returning-a-view-versus-a-copy\n",
      "  data[data > upper_bound] = upper_bound\n"
     ]
    }
   ],
   "source": [
    "def replace_outliers(data):\n",
    "    Q1 = np.percentile(data, 25)\n",
    "    Q3 = np.percentile(data, 75)\n",
    "    IQR = Q3 - Q1\n",
    "    lower_bound = Q1 - 1.5 * IQR\n",
    "    upper_bound = Q3 + 1.5 * IQR\n",
    "    data[data < lower_bound] = lower_bound\n",
    "    data[data > upper_bound] = upper_bound\n",
    "    return data\n",
    "\n",
    "data['Close'] = replace_outliers(data['Close'])"
   ]
  },
  {
   "cell_type": "code",
   "execution_count": 5,
   "id": "0f85e31f",
   "metadata": {
    "execution": {
     "iopub.execute_input": "2024-02-06T01:42:47.661714Z",
     "iopub.status.busy": "2024-02-06T01:42:47.661317Z",
     "iopub.status.idle": "2024-02-06T01:42:47.958399Z",
     "shell.execute_reply": "2024-02-06T01:42:47.957363Z"
    },
    "papermill": {
     "duration": 0.308853,
     "end_time": "2024-02-06T01:42:47.961042",
     "exception": false,
     "start_time": "2024-02-06T01:42:47.652189",
     "status": "completed"
    },
    "tags": []
   },
   "outputs": [
    {
     "data": {
      "image/png": "[encoded data removed]",
      "text/plain": [
       "<Figure size 640x480 with 1 Axes>"
      ]
     },
     "metadata": {},
     "output_type": "display_data"
    }
   ],
   "source": [
    "# Boxplot for outlier detection\n",
    "plt.boxplot(data['Close'])\n",
    "plt.title(f\"{SHEET_NAME} Boxplot for Outlier Detection\")\n",
    "plt.xlabel(\"Close\")\n",
    "plt.ylabel(\"Values\")\n",
    "plt.show()"
   ]
  },
  {
   "cell_type": "code",
   "execution_count": 6,
   "id": "50e6bc8a",
   "metadata": {
    "execution": {
     "iopub.execute_input": "2024-02-06T01:42:47.979157Z",
     "iopub.status.busy": "2024-02-06T01:42:47.978808Z",
     "iopub.status.idle": "2024-02-06T01:42:47.987059Z",
     "shell.execute_reply": "2024-02-06T01:42:47.986179Z"
    },
    "papermill": {
     "duration": 0.019655,
     "end_time": "2024-02-06T01:42:47.989248",
     "exception": false,
     "start_time": "2024-02-06T01:42:47.969593",
     "status": "completed"
    },
    "tags": []
   },
   "outputs": [
    {
     "data": {
      "text/plain": [
       "(1977, 1)"
      ]
     },
     "execution_count": 6,
     "metadata": {},
     "output_type": "execute_result"
    }
   ],
   "source": [
    "scaler = MinMaxScaler()\n",
    "close_price = data.Close.values.reshape(-1, 1)\n",
    "scaled_close = scaler.fit_transform(close_price)\n",
    "scaled_close.shape"
   ]
  },
  {
   "cell_type": "code",
   "execution_count": 7,
   "id": "ee5905f8",
   "metadata": {
    "execution": {
     "iopub.execute_input": "2024-02-06T01:42:48.007110Z",
     "iopub.status.busy": "2024-02-06T01:42:48.006803Z",
     "iopub.status.idle": "2024-02-06T01:42:48.017683Z",
     "shell.execute_reply": "2024-02-06T01:42:48.016897Z"
    },
    "papermill": {
     "duration": 0.022242,
     "end_time": "2024-02-06T01:42:48.019695",
     "exception": false,
     "start_time": "2024-02-06T01:42:47.997453",
     "status": "completed"
    },
    "tags": []
   },
   "outputs": [],
   "source": [
    "def to_sequences(data, seq_len):\n",
    "    d = []\n",
    "    for index in range(len(data) - seq_len):\n",
    "        d.append(data[index: index + seq_len])\n",
    "    return np.array(d)\n",
    "\n",
    "def preprocess(data_raw, seq_len, train_split):\n",
    "    data = to_sequences(data_raw, seq_len)\n",
    "    num_train = int(train_split * data.shape[0])\n",
    "    X_train = data[:num_train, :-1, :]\n",
    "    y_train = data[:num_train, -1, :]\n",
    "    X_test = data[num_train:, :-1, :]\n",
    "    y_test = data[num_train:, -1, :]\n",
    "    return X_train, y_train, X_test, y_test\n",
    "\n",
    "X_train, y_train, X_test, y_test = preprocess(scaled_close, SEQ_LEN, train_split = SPLIT)"
   ]
  },
  {
   "cell_type": "markdown",
   "id": "8b7801ca",
   "metadata": {
    "papermill": {
     "duration": 0.00785,
     "end_time": "2024-02-06T01:42:48.035452",
     "exception": false,
     "start_time": "2024-02-06T01:42:48.027602",
     "status": "completed"
    },
    "tags": []
   },
   "source": [
    "## Genetic Algorithm"
   ]
  },
  {
   "cell_type": "code",
   "execution_count": 8,
   "id": "b653202c",
   "metadata": {
    "execution": {
     "iopub.execute_input": "2024-02-06T01:42:48.053038Z",
     "iopub.status.busy": "2024-02-06T01:42:48.052711Z",
     "iopub.status.idle": "2024-02-06T01:42:48.058886Z",
     "shell.execute_reply": "2024-02-06T01:42:48.057957Z"
    },
    "papermill": {
     "duration": 0.017382,
     "end_time": "2024-02-06T01:42:48.060959",
     "exception": false,
     "start_time": "2024-02-06T01:42:48.043577",
     "status": "completed"
    },
    "tags": []
   },
   "outputs": [],
   "source": [
    "def decimal_to_binary(chromosome: list):\n",
    "    binary_string = ''.join([bin(x)[2:].zfill(8) for x in chromosome])\n",
    "    return binary_string\n",
    "\n",
    "def binary_to_decimal(binary_string: str):\n",
    "    decimal_array = [int(binary, 2) for binary in [binary_string[i:i+8] for i in range(0, len(binary_string), 8)]]\n",
    "    return decimal_array"
   ]
  },
  {
   "cell_type": "code",
   "execution_count": 9,
   "id": "4d8f6cc0",
   "metadata": {
    "execution": {
     "iopub.execute_input": "2024-02-06T01:42:48.078767Z",
     "iopub.status.busy": "2024-02-06T01:42:48.078429Z",
     "iopub.status.idle": "2024-02-06T01:42:48.100193Z",
     "shell.execute_reply": "2024-02-06T01:42:48.099214Z"
    },
    "papermill": {
     "duration": 0.033211,
     "end_time": "2024-02-06T01:42:48.102332",
     "exception": false,
     "start_time": "2024-02-06T01:42:48.069121",
     "status": "completed"
    },
    "tags": []
   },
   "outputs": [],
   "source": [
    "# Genetic Algorithm\n",
    "def genetic_algorithm(generations, mutation_rate):\n",
    "    print(f\"Inizialized Population...\")\n",
    "    population = np.random.randint(1, high=251, size=(10, 3))\n",
    "    fitness_scores = np.array([fitness_function(chromosome) for chromosome in population])\n",
    "    max_fitness_each_gen = []\n",
    "    \n",
    "    for generation in range(generations):\n",
    "        print(f\"Generation - {generation + 1}\")\n",
    "        max_fitness_each_gen.append(np.max(fitness_scores))\n",
    "        \n",
    "        chromosome_1 = selection(population, fitness_scores)\n",
    "        chromosome_2 = selection(population, fitness_scores)\n",
    "        \n",
    "        if generation % mutation_rate == 0:\n",
    "            chromosome_1 = mutate(chromosome_1)\n",
    "            chromosome_2 = mutate(chromosome_2)\n",
    "        else:\n",
    "            chromosome_1, chromosome_2 = crossover(chromosome_1, chromosome_2)\n",
    "\n",
    "        fitness_score_1 = fitness_function(chromosome_1)\n",
    "        fitness_score_2 = fitness_function(chromosome_2)\n",
    "        \n",
    "        worst_index = np.argmin(fitness_scores)\n",
    "        worst_fitness = fitness_scores[worst_index]\n",
    "\n",
    "        if fitness_score_1 > worst_fitness:\n",
    "            population[worst_index] = chromosome_1\n",
    "            fitness_scores[worst_index] = fitness_score_1\n",
    "            worst_index = np.argmin(fitness_scores)\n",
    "            worst_fitness = fitness_scores[worst_index]\n",
    "\n",
    "        if fitness_score_2 > worst_fitness:\n",
    "            population[worst_index] = chromosome_2\n",
    "            fitness_scores[worst_index] = fitness_score_2\n",
    "        \n",
    "        # Release some memory\n",
    "        del chromosome_1, chromosome_2\n",
    "        del fitness_score_1, fitness_score_2\n",
    "        del worst_index, worst_fitness\n",
    "            \n",
    "    best_chromosome = population[np.argmax(fitness_scores)]\n",
    "    best_fitness = np.max(fitness_scores)\n",
    "    \n",
    "    return best_chromosome, best_fitness, max_fitness_each_gen\n",
    "\n",
    "# Selection (Tournament selection)\n",
    "def selection(population, fitness_scores, tournament_size=3):\n",
    "    indices = np.random.randint(len(population), size=tournament_size)\n",
    "    tournament = population[indices]\n",
    "    tournament_fitness = fitness_scores[indices]\n",
    "    return tournament[np.argmax(tournament_fitness)]\n",
    "\n",
    "# Crossover (Single-point crossover)\n",
    "def crossover(parent_1: list, parent_2: list):\n",
    "    parent_1 = decimal_to_binary(parent_1)\n",
    "    parent_2 = decimal_to_binary(parent_2)\n",
    "    \n",
    "    crossover_point = np.random.randint(1, len(parent_1))\n",
    "    offspring_1 = parent_1[:crossover_point] + parent_2[crossover_point:]\n",
    "    offspring_2 = parent_2[:crossover_point] + parent_1[crossover_point:]\n",
    "    \n",
    "    offspring_1 = binary_to_decimal(offspring_1)\n",
    "    offspring_2 = binary_to_decimal(offspring_2)\n",
    "    return offspring_1, offspring_2\n",
    "\n",
    "# Mutation (Swap Mutation)\n",
    "def mutate(chromosome: list):\n",
    "    chromosome = decimal_to_binary(chromosome)\n",
    "    \n",
    "    chromosome_list = list(chromosome)\n",
    "    i = np.random.randint(len(chromosome_list), size=2)\n",
    "    chromosome_list[i[0]], chromosome_list[i[1]] = chromosome_list[i[1]], chromosome_list[i[0]]\n",
    "    \n",
    "    chromosome_list = ''.join(chromosome_list)\n",
    "    chromosome = binary_to_decimal(chromosome_list)\n",
    "    return chromosome\n",
    "\n",
    "# Fitness Function\n",
    "def fitness_function(chromosome: list):\n",
    "    lstm_units = [int(chromosome[i]) or default for i, default in enumerate([128, 64, 32])]\n",
    "\n",
    "    # Build the LSTM model\n",
    "    tf.keras.backend.clear_session()\n",
    "    model = Sequential()\n",
    "    for i, units in enumerate(lstm_units[:LSTM_Layer]):\n",
    "        model.add(LSTM(units, return_sequences=(i < LSTM_Layer - 1), input_shape=(WINDOW_SIZE, 1)))\n",
    "    model.add(Dense(1))\n",
    "    \n",
    "    # Compile and train the model\n",
    "    model.compile(loss='mean_squared_error',\n",
    "                  optimizer='adam')\n",
    "    model.fit(X_train, y_train,\n",
    "              epochs=10,\n",
    "              batch_size=32,\n",
    "              verbose=0,\n",
    "              validation_split=0.1)\n",
    "\n",
    "    # Evaluate the model\n",
    "    loss = model.evaluate(X_test, y_test)\n",
    "\n",
    "    # Return the negative value of the loss as the fitness score\n",
    "    return -loss"
   ]
  },
  {
   "cell_type": "code",
   "execution_count": 10,
   "id": "8d7666d0",
   "metadata": {
    "execution": {
     "iopub.execute_input": "2024-02-06T01:42:48.120753Z",
     "iopub.status.busy": "2024-02-06T01:42:48.120332Z",
     "iopub.status.idle": "2024-02-06T01:42:48.126942Z",
     "shell.execute_reply": "2024-02-06T01:42:48.126013Z"
    },
    "papermill": {
     "duration": 0.018317,
     "end_time": "2024-02-06T01:42:48.129041",
     "exception": false,
     "start_time": "2024-02-06T01:42:48.110724",
     "status": "completed"
    },
    "tags": []
   },
   "outputs": [],
   "source": [
    "import typing\n",
    "from datetime import datetime\n",
    "\n",
    "def timer(start_time: datetime = None) -> \"typing.Union[datetime.datetime, str]\":\n",
    "    if not start_time:\n",
    "        start_time = datetime.now()\n",
    "        return start_time\n",
    "    elif start_time:\n",
    "        thour, temp_sec = divmod((datetime.now() - start_time).total_seconds(), 3600)\n",
    "        tmin, tsec = divmod(temp_sec, 60)\n",
    "        return \"%i hours %i minutes and %s seconds.\" % (\n",
    "            thour,\n",
    "            tmin,\n",
    "            round(tsec, 2),\n",
    "        )"
   ]
  },
  {
   "cell_type": "code",
   "execution_count": 11,
   "id": "dd4975e5",
   "metadata": {
    "execution": {
     "iopub.execute_input": "2024-02-06T01:42:48.147605Z",
     "iopub.status.busy": "2024-02-06T01:42:48.147225Z",
     "iopub.status.idle": "2024-02-06T01:52:59.337511Z",
     "shell.execute_reply": "2024-02-06T01:52:59.336404Z"
    },
    "papermill": {
     "duration": 611.202361,
     "end_time": "2024-02-06T01:52:59.340146",
     "exception": false,
     "start_time": "2024-02-06T01:42:48.137785",
     "status": "completed"
    },
    "tags": []
   },
   "outputs": [
    {
     "name": "stdout",
     "output_type": "stream",
     "text": [
      "Inizialized Population...\n",
      "7/7 [==============================] - 0s 3ms/step - loss: 9.0231e-04\n",
      "7/7 [==============================] - 0s 3ms/step - loss: 7.8880e-04\n",
      "7/7 [==============================] - 0s 3ms/step - loss: 0.0011\n",
      "7/7 [==============================] - 0s 4ms/step - loss: 8.8654e-04\n",
      "7/7 [==============================] - 0s 3ms/step - loss: 8.9056e-04\n",
      "7/7 [==============================] - 0s 3ms/step - loss: 8.4078e-04\n",
      "7/7 [==============================] - 0s 3ms/step - loss: 8.0114e-04\n",
      "7/7 [==============================] - 0s 3ms/step - loss: 0.0010\n",
      "7/7 [==============================] - 0s 3ms/step - loss: 9.1441e-04\n",
      "7/7 [==============================] - 0s 3ms/step - loss: 8.9073e-04\n",
      "Generation - 1\n",
      "7/7 [==============================] - 0s 3ms/step - loss: 7.7649e-04\n",
      "7/7 [==============================] - 0s 3ms/step - loss: 0.0010\n",
      "Generation - 2\n",
      "7/7 [==============================] - 0s 3ms/step - loss: 7.6297e-04\n",
      "7/7 [==============================] - 0s 3ms/step - loss: 8.4929e-04\n",
      "Generation - 3\n",
      "7/7 [==============================] - 0s 3ms/step - loss: 9.9042e-04\n",
      "7/7 [==============================] - 0s 3ms/step - loss: 8.0016e-04\n",
      "Generation - 4\n",
      "7/7 [==============================] - 0s 3ms/step - loss: 8.5074e-04\n",
      "7/7 [==============================] - 0s 3ms/step - loss: 8.0153e-04\n",
      "Generation - 5\n",
      "7/7 [==============================] - 0s 3ms/step - loss: 8.1251e-04\n",
      "7/7 [==============================] - 0s 3ms/step - loss: 8.4345e-04\n",
      "Generation - 6\n",
      "7/7 [==============================] - 0s 3ms/step - loss: 8.5357e-04\n",
      "7/7 [==============================] - 0s 3ms/step - loss: 7.8915e-04\n",
      "Generation - 7\n",
      "7/7 [==============================] - 0s 3ms/step - loss: 9.8896e-04\n",
      "7/7 [==============================] - 0s 3ms/step - loss: 8.2544e-04\n",
      "Generation - 8\n",
      "7/7 [==============================] - 0s 3ms/step - loss: 8.8079e-04\n",
      "7/7 [==============================] - 0s 3ms/step - loss: 0.0020\n",
      "Generation - 9\n",
      "7/7 [==============================] - 0s 3ms/step - loss: 7.7467e-04\n",
      "7/7 [==============================] - 0s 3ms/step - loss: 7.6635e-04\n",
      "Generation - 10\n",
      "7/7 [==============================] - 0s 3ms/step - loss: 9.3356e-04\n",
      "7/7 [==============================] - 0s 3ms/step - loss: 7.3773e-04\n",
      "Generation - 11\n",
      "7/7 [==============================] - 0s 3ms/step - loss: 8.5895e-04\n",
      "7/7 [==============================] - 0s 3ms/step - loss: 7.8826e-04\n",
      "Generation - 12\n",
      "7/7 [==============================] - 0s 3ms/step - loss: 0.0012\n",
      "7/7 [==============================] - 0s 3ms/step - loss: 7.9517e-04\n",
      "Generation - 13\n",
      "7/7 [==============================] - 0s 3ms/step - loss: 7.7972e-04\n",
      "7/7 [==============================] - 0s 3ms/step - loss: 0.0010\n",
      "Generation - 14\n",
      "7/7 [==============================] - 0s 3ms/step - loss: 8.0682e-04\n",
      "7/7 [==============================] - 0s 3ms/step - loss: 8.0204e-04\n",
      "Generation - 15\n",
      "7/7 [==============================] - 0s 3ms/step - loss: 0.0010\n",
      "7/7 [==============================] - 0s 3ms/step - loss: 7.6847e-04\n",
      "Generation - 16\n",
      "7/7 [==============================] - 0s 3ms/step - loss: 9.3397e-04\n",
      "7/7 [==============================] - 0s 3ms/step - loss: 8.2305e-04\n",
      "Generation - 17\n",
      "7/7 [==============================] - 0s 3ms/step - loss: 9.7394e-04\n",
      "7/7 [==============================] - 0s 4ms/step - loss: 8.7036e-04\n",
      "Generation - 18\n",
      "7/7 [==============================] - 0s 3ms/step - loss: 8.0054e-04\n",
      "7/7 [==============================] - 0s 3ms/step - loss: 9.2789e-04\n",
      "Generation - 19\n",
      "7/7 [==============================] - 0s 3ms/step - loss: 8.0855e-04\n",
      "7/7 [==============================] - 0s 3ms/step - loss: 9.4058e-04\n",
      "Generation - 20\n",
      "7/7 [==============================] - 0s 3ms/step - loss: 0.0010\n",
      "7/7 [==============================] - 0s 3ms/step - loss: 8.3797e-04\n",
      "Generation - 21\n",
      "7/7 [==============================] - 0s 3ms/step - loss: 0.0012\n",
      "7/7 [==============================] - 0s 3ms/step - loss: 0.0010\n",
      "Generation - 22\n",
      "7/7 [==============================] - 0s 3ms/step - loss: 9.2358e-04\n",
      "7/7 [==============================] - 0s 3ms/step - loss: 7.5167e-04\n",
      "Generation - 23\n",
      "7/7 [==============================] - 0s 3ms/step - loss: 8.4228e-04\n",
      "7/7 [==============================] - 0s 3ms/step - loss: 7.9483e-04\n",
      "Generation - 24\n",
      "7/7 [==============================] - 0s 3ms/step - loss: 7.8815e-04\n",
      "7/7 [==============================] - 0s 3ms/step - loss: 0.0011\n",
      "Generation - 25\n",
      "7/7 [==============================] - 0s 3ms/step - loss: 8.9499e-04\n",
      "7/7 [==============================] - 0s 3ms/step - loss: 9.0196e-04\n",
      "Generation - 26\n",
      "7/7 [==============================] - 0s 3ms/step - loss: 7.8941e-04\n",
      "7/7 [==============================] - 0s 3ms/step - loss: 8.6732e-04\n",
      "Generation - 27\n",
      "7/7 [==============================] - 0s 3ms/step - loss: 8.7529e-04\n",
      "7/7 [==============================] - 0s 3ms/step - loss: 7.8499e-04\n",
      "Generation - 28\n",
      "7/7 [==============================] - 0s 3ms/step - loss: 8.1226e-04\n",
      "7/7 [==============================] - 0s 3ms/step - loss: 9.9465e-04\n",
      "Generation - 29\n",
      "7/7 [==============================] - 0s 3ms/step - loss: 8.7211e-04\n",
      "7/7 [==============================] - 0s 3ms/step - loss: 7.6144e-04\n",
      "Generation - 30\n",
      "7/7 [==============================] - 0s 3ms/step - loss: 9.3560e-04\n",
      "7/7 [==============================] - 0s 3ms/step - loss: 8.7024e-04\n",
      "Generation - 31\n",
      "7/7 [==============================] - 0s 3ms/step - loss: 7.7469e-04\n",
      "7/7 [==============================] - 0s 3ms/step - loss: 7.8355e-04\n",
      "Generation - 32\n",
      "7/7 [==============================] - 0s 3ms/step - loss: 8.9161e-04\n",
      "7/7 [==============================] - 0s 3ms/step - loss: 0.0011\n",
      "Generation - 33\n",
      "7/7 [==============================] - 0s 3ms/step - loss: 0.0010\n",
      "7/7 [==============================] - 0s 3ms/step - loss: 7.8560e-04\n",
      "Generation - 34\n",
      "7/7 [==============================] - 0s 3ms/step - loss: 7.8270e-04\n",
      "7/7 [==============================] - 0s 3ms/step - loss: 8.4109e-04\n",
      "Generation - 35\n",
      "7/7 [==============================] - 0s 3ms/step - loss: 9.5361e-04\n",
      "7/7 [==============================] - 0s 3ms/step - loss: 7.9963e-04\n",
      "Generation - 36\n",
      "7/7 [==============================] - 0s 3ms/step - loss: 7.6517e-04\n",
      "7/7 [==============================] - 0s 3ms/step - loss: 9.7912e-04\n",
      "Generation - 37\n",
      "7/7 [==============================] - 0s 4ms/step - loss: 7.2149e-04\n",
      "7/7 [==============================] - 0s 3ms/step - loss: 7.7691e-04\n",
      "Generation - 38\n",
      "7/7 [==============================] - 0s 5ms/step - loss: 7.7902e-04\n",
      "7/7 [==============================] - 0s 3ms/step - loss: 7.6102e-04\n",
      "Generation - 39\n",
      "7/7 [==============================] - 0s 3ms/step - loss: 9.1376e-04\n",
      "7/7 [==============================] - 0s 3ms/step - loss: 8.2068e-04\n",
      "Generation - 40\n",
      "7/7 [==============================] - 0s 3ms/step - loss: 0.0010\n",
      "7/7 [==============================] - 0s 3ms/step - loss: 0.0010\n",
      "Generation - 41\n",
      "7/7 [==============================] - 0s 3ms/step - loss: 9.4435e-04\n",
      "7/7 [==============================] - 0s 3ms/step - loss: 7.5608e-04\n",
      "Generation - 42\n",
      "7/7 [==============================] - 0s 3ms/step - loss: 7.8321e-04\n",
      "7/7 [==============================] - 0s 3ms/step - loss: 8.9780e-04\n",
      "Generation - 43\n",
      "7/7 [==============================] - 0s 3ms/step - loss: 9.3152e-04\n",
      "7/7 [==============================] - 0s 3ms/step - loss: 8.6759e-04\n",
      "Generation - 44\n",
      "7/7 [==============================] - 0s 3ms/step - loss: 7.5812e-04\n",
      "7/7 [==============================] - 0s 3ms/step - loss: 7.9782e-04\n",
      "Generation - 45\n",
      "7/7 [==============================] - 0s 3ms/step - loss: 8.4751e-04\n",
      "7/7 [==============================] - 0s 3ms/step - loss: 7.4401e-04\n",
      "Generation - 46\n",
      "7/7 [==============================] - 0s 3ms/step - loss: 8.4875e-04\n",
      "7/7 [==============================] - 0s 3ms/step - loss: 7.5109e-04\n",
      "Generation - 47\n",
      "7/7 [==============================] - 0s 3ms/step - loss: 7.5655e-04\n",
      "7/7 [==============================] - 0s 3ms/step - loss: 7.8525e-04\n",
      "Generation - 48\n",
      "7/7 [==============================] - 0s 3ms/step - loss: 7.8659e-04\n",
      "7/7 [==============================] - 0s 3ms/step - loss: 9.4563e-04\n",
      "Generation - 49\n",
      "7/7 [==============================] - 0s 3ms/step - loss: 7.7237e-04\n",
      "7/7 [==============================] - 0s 3ms/step - loss: 7.7095e-04\n",
      "Generation - 50\n",
      "7/7 [==============================] - 0s 3ms/step - loss: 8.2387e-04\n",
      "7/7 [==============================] - 0s 3ms/step - loss: 8.0103e-04\n"
     ]
    }
   ],
   "source": [
    "# Do not increase this value\n",
    "generations = 50\n",
    "mutation_rate = 5\n",
    "\n",
    "time = timer(None)\n",
    "best_chromosome, best_fitness, max_fitness_each_gen = genetic_algorithm(generations, mutation_rate)\n",
    "time = timer(time)"
   ]
  },
  {
   "cell_type": "code",
   "execution_count": 12,
   "id": "635ec897",
   "metadata": {
    "execution": {
     "iopub.execute_input": "2024-02-06T01:52:59.403936Z",
     "iopub.status.busy": "2024-02-06T01:52:59.403499Z",
     "iopub.status.idle": "2024-02-06T01:52:59.409537Z",
     "shell.execute_reply": "2024-02-06T01:52:59.408533Z"
    },
    "papermill": {
     "duration": 0.041736,
     "end_time": "2024-02-06T01:52:59.412651",
     "exception": false,
     "start_time": "2024-02-06T01:52:59.370915",
     "status": "completed"
    },
    "tags": []
   },
   "outputs": [
    {
     "name": "stdout",
     "output_type": "stream",
     "text": [
      "Best Chromosome: [231 129 245]\n",
      "Best Fitness: -0.0007214867509901524\n",
      "Time Taken: 0 hours 10 minutes and 11.19 seconds.\n"
     ]
    }
   ],
   "source": [
    "print(\"Best Chromosome:\", best_chromosome)\n",
    "print(\"Best Fitness:\", best_fitness)\n",
    "print(\"Time Taken:\", time)"
   ]
  },
  {
   "cell_type": "code",
   "execution_count": 13,
   "id": "e2f45799",
   "metadata": {
    "execution": {
     "iopub.execute_input": "2024-02-06T01:52:59.479498Z",
     "iopub.status.busy": "2024-02-06T01:52:59.478664Z",
     "iopub.status.idle": "2024-02-06T01:52:59.486333Z",
     "shell.execute_reply": "2024-02-06T01:52:59.485257Z"
    },
    "papermill": {
     "duration": 0.042445,
     "end_time": "2024-02-06T01:52:59.488689",
     "exception": false,
     "start_time": "2024-02-06T01:52:59.446244",
     "status": "completed"
    },
    "tags": []
   },
   "outputs": [
    {
     "data": {
      "text/plain": [
       "[-0.0007887964602559805,\n",
       " -0.0007764937472529709,\n",
       " -0.0007629704778082669,\n",
       " -0.0007629704778082669,\n",
       " -0.0007629704778082669,\n",
       " -0.0007629704778082669,\n",
       " -0.0007629704778082669,\n",
       " -0.0007629704778082669,\n",
       " -0.0007629704778082669,\n",
       " -0.0007629704778082669,\n",
       " -0.0007377299480140209,\n",
       " -0.0007377299480140209,\n",
       " -0.0007377299480140209,\n",
       " -0.0007377299480140209,\n",
       " -0.0007377299480140209,\n",
       " -0.0007377299480140209,\n",
       " -0.0007377299480140209,\n",
       " -0.0007377299480140209,\n",
       " -0.0007377299480140209,\n",
       " -0.0007377299480140209,\n",
       " -0.0007377299480140209,\n",
       " -0.0007377299480140209,\n",
       " -0.0007377299480140209,\n",
       " -0.0007377299480140209,\n",
       " -0.0007377299480140209,\n",
       " -0.0007377299480140209,\n",
       " -0.0007377299480140209,\n",
       " -0.0007377299480140209,\n",
       " -0.0007377299480140209,\n",
       " -0.0007377299480140209,\n",
       " -0.0007377299480140209,\n",
       " -0.0007377299480140209,\n",
       " -0.0007377299480140209,\n",
       " -0.0007377299480140209,\n",
       " -0.0007377299480140209,\n",
       " -0.0007377299480140209,\n",
       " -0.0007377299480140209,\n",
       " -0.0007214867509901524,\n",
       " -0.0007214867509901524,\n",
       " -0.0007214867509901524,\n",
       " -0.0007214867509901524,\n",
       " -0.0007214867509901524,\n",
       " -0.0007214867509901524,\n",
       " -0.0007214867509901524,\n",
       " -0.0007214867509901524,\n",
       " -0.0007214867509901524,\n",
       " -0.0007214867509901524,\n",
       " -0.0007214867509901524,\n",
       " -0.0007214867509901524,\n",
       " -0.0007214867509901524]"
      ]
     },
     "execution_count": 13,
     "metadata": {},
     "output_type": "execute_result"
    }
   ],
   "source": [
    "max_fitness_each_gen"
   ]
  },
  {
   "cell_type": "markdown",
   "id": "2c684279",
   "metadata": {
    "papermill": {
     "duration": 0.031181,
     "end_time": "2024-02-06T01:52:59.552619",
     "exception": false,
     "start_time": "2024-02-06T01:52:59.521438",
     "status": "completed"
    },
    "tags": []
   },
   "source": [
    "## Re-Training Model with Best Parameter"
   ]
  },
  {
   "cell_type": "code",
   "execution_count": 14,
   "id": "dbb50cf1",
   "metadata": {
    "execution": {
     "iopub.execute_input": "2024-02-06T01:52:59.617518Z",
     "iopub.status.busy": "2024-02-06T01:52:59.617096Z",
     "iopub.status.idle": "2024-02-06T01:52:59.942259Z",
     "shell.execute_reply": "2024-02-06T01:52:59.941142Z"
    },
    "papermill": {
     "duration": 0.361265,
     "end_time": "2024-02-06T01:52:59.945939",
     "exception": false,
     "start_time": "2024-02-06T01:52:59.584674",
     "status": "completed"
    },
    "tags": []
   },
   "outputs": [
    {
     "name": "stdout",
     "output_type": "stream",
     "text": [
      "Model: \"sequential_1\"\n",
      "_________________________________________________________________\n",
      " Layer (type)                Output Shape              Param #   \n",
      "=================================================================\n",
      " lstm_1 (LSTM)               (None, 231)               215292    \n",
      "                                                                 \n",
      " dense_1 (Dense)             (None, 1)                 232       \n",
      "                                                                 \n",
      "=================================================================\n",
      "Total params: 215,524\n",
      "Trainable params: 215,524\n",
      "Non-trainable params: 0\n",
      "_________________________________________________________________\n"
     ]
    }
   ],
   "source": [
    "model = Sequential()\n",
    "for i, units in enumerate(best_chromosome[:LSTM_Layer]):\n",
    "    model.add(LSTM(units, return_sequences=(i < LSTM_Layer - 1), input_shape=(WINDOW_SIZE, 1)))\n",
    "model.add(Dense(1))\n",
    "\n",
    "model.summary()"
   ]
  },
  {
   "cell_type": "code",
   "execution_count": 15,
   "id": "6b44570f",
   "metadata": {
    "execution": {
     "iopub.execute_input": "2024-02-06T01:53:00.011827Z",
     "iopub.status.busy": "2024-02-06T01:53:00.011489Z",
     "iopub.status.idle": "2024-02-06T01:53:17.167211Z",
     "shell.execute_reply": "2024-02-06T01:53:17.166261Z"
    },
    "papermill": {
     "duration": 17.191073,
     "end_time": "2024-02-06T01:53:17.169779",
     "exception": false,
     "start_time": "2024-02-06T01:52:59.978706",
     "status": "completed"
    },
    "tags": []
   },
   "outputs": [
    {
     "name": "stdout",
     "output_type": "stream",
     "text": [
      "Epoch 1/50\n",
      "50/50 [==============================] - 3s 15ms/step - loss: 0.0171 - mae: 0.0828 - root_mean_squared_error: 0.1306 - val_loss: 0.0028 - val_mae: 0.0431 - val_root_mean_squared_error: 0.0526\n",
      "Epoch 2/50\n",
      "50/50 [==============================] - 0s 6ms/step - loss: 0.0019 - mae: 0.0305 - root_mean_squared_error: 0.0434 - val_loss: 0.0020 - val_mae: 0.0350 - val_root_mean_squared_error: 0.0452\n",
      "Epoch 3/50\n",
      "50/50 [==============================] - 0s 6ms/step - loss: 0.0016 - mae: 0.0277 - root_mean_squared_error: 0.0406 - val_loss: 0.0020 - val_mae: 0.0351 - val_root_mean_squared_error: 0.0451\n",
      "Epoch 4/50\n",
      "50/50 [==============================] - 0s 6ms/step - loss: 0.0016 - mae: 0.0275 - root_mean_squared_error: 0.0403 - val_loss: 0.0019 - val_mae: 0.0337 - val_root_mean_squared_error: 0.0439\n",
      "Epoch 5/50\n",
      "50/50 [==============================] - 0s 6ms/step - loss: 0.0016 - mae: 0.0277 - root_mean_squared_error: 0.0405 - val_loss: 0.0019 - val_mae: 0.0336 - val_root_mean_squared_error: 0.0436\n",
      "Epoch 6/50\n",
      "50/50 [==============================] - 0s 5ms/step - loss: 0.0016 - mae: 0.0266 - root_mean_squared_error: 0.0394 - val_loss: 0.0019 - val_mae: 0.0330 - val_root_mean_squared_error: 0.0431\n",
      "Epoch 7/50\n",
      "50/50 [==============================] - 0s 6ms/step - loss: 0.0016 - mae: 0.0274 - root_mean_squared_error: 0.0398 - val_loss: 0.0018 - val_mae: 0.0318 - val_root_mean_squared_error: 0.0425\n",
      "Epoch 8/50\n",
      "50/50 [==============================] - 0s 6ms/step - loss: 0.0015 - mae: 0.0256 - root_mean_squared_error: 0.0382 - val_loss: 0.0018 - val_mae: 0.0323 - val_root_mean_squared_error: 0.0422\n",
      "Epoch 9/50\n",
      "50/50 [==============================] - 0s 6ms/step - loss: 0.0014 - mae: 0.0245 - root_mean_squared_error: 0.0370 - val_loss: 0.0017 - val_mae: 0.0316 - val_root_mean_squared_error: 0.0416\n",
      "Epoch 10/50\n",
      "50/50 [==============================] - 0s 6ms/step - loss: 0.0014 - mae: 0.0253 - root_mean_squared_error: 0.0375 - val_loss: 0.0017 - val_mae: 0.0306 - val_root_mean_squared_error: 0.0411\n",
      "Epoch 11/50\n",
      "50/50 [==============================] - 0s 6ms/step - loss: 0.0013 - mae: 0.0245 - root_mean_squared_error: 0.0367 - val_loss: 0.0017 - val_mae: 0.0302 - val_root_mean_squared_error: 0.0408\n",
      "Epoch 12/50\n",
      "50/50 [==============================] - 0s 5ms/step - loss: 0.0013 - mae: 0.0237 - root_mean_squared_error: 0.0361 - val_loss: 0.0017 - val_mae: 0.0312 - val_root_mean_squared_error: 0.0408\n",
      "Epoch 13/50\n",
      "50/50 [==============================] - 0s 5ms/step - loss: 0.0013 - mae: 0.0234 - root_mean_squared_error: 0.0354 - val_loss: 0.0017 - val_mae: 0.0314 - val_root_mean_squared_error: 0.0408\n",
      "Epoch 14/50\n",
      "50/50 [==============================] - 0s 6ms/step - loss: 0.0013 - mae: 0.0240 - root_mean_squared_error: 0.0360 - val_loss: 0.0016 - val_mae: 0.0296 - val_root_mean_squared_error: 0.0399\n",
      "Epoch 15/50\n",
      "50/50 [==============================] - 0s 6ms/step - loss: 0.0013 - mae: 0.0236 - root_mean_squared_error: 0.0357 - val_loss: 0.0016 - val_mae: 0.0298 - val_root_mean_squared_error: 0.0398\n",
      "Epoch 16/50\n",
      "50/50 [==============================] - 0s 6ms/step - loss: 0.0012 - mae: 0.0233 - root_mean_squared_error: 0.0352 - val_loss: 0.0016 - val_mae: 0.0299 - val_root_mean_squared_error: 0.0398\n",
      "Epoch 17/50\n",
      "50/50 [==============================] - 0s 6ms/step - loss: 0.0012 - mae: 0.0230 - root_mean_squared_error: 0.0349 - val_loss: 0.0016 - val_mae: 0.0286 - val_root_mean_squared_error: 0.0396\n",
      "Epoch 18/50\n",
      "50/50 [==============================] - 0s 6ms/step - loss: 0.0012 - mae: 0.0228 - root_mean_squared_error: 0.0346 - val_loss: 0.0016 - val_mae: 0.0305 - val_root_mean_squared_error: 0.0399\n",
      "Epoch 19/50\n",
      "50/50 [==============================] - 0s 6ms/step - loss: 0.0012 - mae: 0.0221 - root_mean_squared_error: 0.0342 - val_loss: 0.0015 - val_mae: 0.0282 - val_root_mean_squared_error: 0.0392\n",
      "Epoch 20/50\n",
      "50/50 [==============================] - 0s 6ms/step - loss: 0.0013 - mae: 0.0243 - root_mean_squared_error: 0.0363 - val_loss: 0.0015 - val_mae: 0.0293 - val_root_mean_squared_error: 0.0391\n",
      "Epoch 21/50\n",
      "50/50 [==============================] - 0s 6ms/step - loss: 0.0011 - mae: 0.0218 - root_mean_squared_error: 0.0338 - val_loss: 0.0015 - val_mae: 0.0294 - val_root_mean_squared_error: 0.0391\n",
      "Epoch 22/50\n",
      "50/50 [==============================] - 0s 6ms/step - loss: 0.0011 - mae: 0.0208 - root_mean_squared_error: 0.0331 - val_loss: 0.0015 - val_mae: 0.0295 - val_root_mean_squared_error: 0.0391\n",
      "Epoch 23/50\n",
      "50/50 [==============================] - 0s 5ms/step - loss: 0.0011 - mae: 0.0217 - root_mean_squared_error: 0.0338 - val_loss: 0.0015 - val_mae: 0.0283 - val_root_mean_squared_error: 0.0385\n",
      "Epoch 24/50\n",
      "50/50 [==============================] - 0s 5ms/step - loss: 0.0012 - mae: 0.0227 - root_mean_squared_error: 0.0350 - val_loss: 0.0015 - val_mae: 0.0283 - val_root_mean_squared_error: 0.0384\n",
      "Epoch 25/50\n",
      "50/50 [==============================] - 0s 6ms/step - loss: 0.0011 - mae: 0.0204 - root_mean_squared_error: 0.0329 - val_loss: 0.0015 - val_mae: 0.0281 - val_root_mean_squared_error: 0.0382\n",
      "Epoch 26/50\n",
      "50/50 [==============================] - 0s 6ms/step - loss: 0.0011 - mae: 0.0209 - root_mean_squared_error: 0.0333 - val_loss: 0.0015 - val_mae: 0.0288 - val_root_mean_squared_error: 0.0386\n",
      "Epoch 27/50\n",
      "50/50 [==============================] - 0s 6ms/step - loss: 0.0011 - mae: 0.0217 - root_mean_squared_error: 0.0339 - val_loss: 0.0014 - val_mae: 0.0274 - val_root_mean_squared_error: 0.0379\n",
      "Epoch 28/50\n",
      "50/50 [==============================] - 0s 5ms/step - loss: 0.0012 - mae: 0.0226 - root_mean_squared_error: 0.0348 - val_loss: 0.0014 - val_mae: 0.0280 - val_root_mean_squared_error: 0.0380\n",
      "Epoch 29/50\n",
      "50/50 [==============================] - 0s 5ms/step - loss: 0.0011 - mae: 0.0210 - root_mean_squared_error: 0.0332 - val_loss: 0.0015 - val_mae: 0.0287 - val_root_mean_squared_error: 0.0385\n",
      "Epoch 30/50\n",
      "50/50 [==============================] - 0s 6ms/step - loss: 0.0011 - mae: 0.0217 - root_mean_squared_error: 0.0339 - val_loss: 0.0015 - val_mae: 0.0294 - val_root_mean_squared_error: 0.0390\n",
      "Epoch 31/50\n",
      "50/50 [==============================] - 0s 8ms/step - loss: 0.0013 - mae: 0.0237 - root_mean_squared_error: 0.0355 - val_loss: 0.0014 - val_mae: 0.0266 - val_root_mean_squared_error: 0.0373\n",
      "Epoch 32/50\n",
      "50/50 [==============================] - 0s 7ms/step - loss: 0.0010 - mae: 0.0196 - root_mean_squared_error: 0.0322 - val_loss: 0.0014 - val_mae: 0.0278 - val_root_mean_squared_error: 0.0379\n",
      "Epoch 33/50\n",
      "50/50 [==============================] - 0s 6ms/step - loss: 0.0010 - mae: 0.0195 - root_mean_squared_error: 0.0322 - val_loss: 0.0014 - val_mae: 0.0272 - val_root_mean_squared_error: 0.0375\n",
      "Epoch 34/50\n",
      "50/50 [==============================] - 0s 7ms/step - loss: 0.0011 - mae: 0.0213 - root_mean_squared_error: 0.0336 - val_loss: 0.0014 - val_mae: 0.0266 - val_root_mean_squared_error: 0.0372\n",
      "Epoch 35/50\n",
      "50/50 [==============================] - 0s 6ms/step - loss: 0.0011 - mae: 0.0200 - root_mean_squared_error: 0.0326 - val_loss: 0.0015 - val_mae: 0.0286 - val_root_mean_squared_error: 0.0384\n",
      "Epoch 36/50\n",
      "50/50 [==============================] - 0s 6ms/step - loss: 0.0010 - mae: 0.0197 - root_mean_squared_error: 0.0322 - val_loss: 0.0014 - val_mae: 0.0257 - val_root_mean_squared_error: 0.0371\n",
      "Epoch 37/50\n",
      "50/50 [==============================] - 0s 6ms/step - loss: 0.0010 - mae: 0.0195 - root_mean_squared_error: 0.0323 - val_loss: 0.0014 - val_mae: 0.0269 - val_root_mean_squared_error: 0.0373\n",
      "Epoch 38/50\n",
      "50/50 [==============================] - 0s 6ms/step - loss: 0.0011 - mae: 0.0197 - root_mean_squared_error: 0.0325 - val_loss: 0.0014 - val_mae: 0.0265 - val_root_mean_squared_error: 0.0371\n",
      "Epoch 39/50\n",
      "50/50 [==============================] - 0s 6ms/step - loss: 0.0011 - mae: 0.0202 - root_mean_squared_error: 0.0329 - val_loss: 0.0014 - val_mae: 0.0260 - val_root_mean_squared_error: 0.0368\n",
      "Epoch 40/50\n",
      "50/50 [==============================] - 0s 5ms/step - loss: 0.0011 - mae: 0.0200 - root_mean_squared_error: 0.0324 - val_loss: 0.0014 - val_mae: 0.0269 - val_root_mean_squared_error: 0.0373\n",
      "Epoch 41/50\n",
      "50/50 [==============================] - 0s 6ms/step - loss: 0.0011 - mae: 0.0214 - root_mean_squared_error: 0.0337 - val_loss: 0.0014 - val_mae: 0.0266 - val_root_mean_squared_error: 0.0371\n",
      "Epoch 42/50\n",
      "50/50 [==============================] - 0s 6ms/step - loss: 0.0010 - mae: 0.0198 - root_mean_squared_error: 0.0322 - val_loss: 0.0015 - val_mae: 0.0283 - val_root_mean_squared_error: 0.0382\n",
      "Epoch 43/50\n",
      "50/50 [==============================] - 0s 5ms/step - loss: 0.0011 - mae: 0.0200 - root_mean_squared_error: 0.0328 - val_loss: 0.0013 - val_mae: 0.0253 - val_root_mean_squared_error: 0.0365\n",
      "Epoch 44/50\n",
      "50/50 [==============================] - 0s 5ms/step - loss: 0.0010 - mae: 0.0191 - root_mean_squared_error: 0.0320 - val_loss: 0.0013 - val_mae: 0.0257 - val_root_mean_squared_error: 0.0366\n",
      "Epoch 45/50\n",
      "50/50 [==============================] - 0s 6ms/step - loss: 0.0011 - mae: 0.0211 - root_mean_squared_error: 0.0337 - val_loss: 0.0013 - val_mae: 0.0255 - val_root_mean_squared_error: 0.0365\n",
      "Epoch 46/50\n",
      "50/50 [==============================] - 0s 6ms/step - loss: 0.0010 - mae: 0.0188 - root_mean_squared_error: 0.0317 - val_loss: 0.0013 - val_mae: 0.0256 - val_root_mean_squared_error: 0.0365\n",
      "Epoch 47/50\n",
      "50/50 [==============================] - 0s 6ms/step - loss: 0.0011 - mae: 0.0198 - root_mean_squared_error: 0.0324 - val_loss: 0.0013 - val_mae: 0.0255 - val_root_mean_squared_error: 0.0365\n",
      "Epoch 48/50\n",
      "50/50 [==============================] - 0s 5ms/step - loss: 0.0011 - mae: 0.0208 - root_mean_squared_error: 0.0332 - val_loss: 0.0014 - val_mae: 0.0269 - val_root_mean_squared_error: 0.0372\n",
      "Epoch 49/50\n",
      "50/50 [==============================] - 0s 5ms/step - loss: 0.0010 - mae: 0.0192 - root_mean_squared_error: 0.0319 - val_loss: 0.0013 - val_mae: 0.0258 - val_root_mean_squared_error: 0.0366\n",
      "Epoch 50/50\n",
      "50/50 [==============================] - 0s 5ms/step - loss: 0.0010 - mae: 0.0191 - root_mean_squared_error: 0.0321 - val_loss: 0.0013 - val_mae: 0.0247 - val_root_mean_squared_error: 0.0365\n"
     ]
    }
   ],
   "source": [
    "model.compile(loss='mean_squared_error',\n",
    "              metrics=['mae', RootMeanSquaredError()],\n",
    "              optimizer='adam')\n",
    "\n",
    "history = model.fit(X_train,\n",
    "                    y_train,\n",
    "                    epochs=50,\n",
    "                    batch_size=32,\n",
    "                    validation_split=0.1)"
   ]
  },
  {
   "cell_type": "code",
   "execution_count": 16,
   "id": "f095d07c",
   "metadata": {
    "execution": {
     "iopub.execute_input": "2024-02-06T01:53:17.294869Z",
     "iopub.status.busy": "2024-02-06T01:53:17.294489Z",
     "iopub.status.idle": "2024-02-06T01:53:17.394066Z",
     "shell.execute_reply": "2024-02-06T01:53:17.393034Z"
    },
    "papermill": {
     "duration": 0.165449,
     "end_time": "2024-02-06T01:53:17.396385",
     "exception": false,
     "start_time": "2024-02-06T01:53:17.230936",
     "status": "completed"
    },
    "tags": []
   },
   "outputs": [
    {
     "name": "stdout",
     "output_type": "stream",
     "text": [
      "7/7 [==============================] - 0s 4ms/step - loss: 6.6939e-04 - mae: 0.0193 - root_mean_squared_error: 0.0259\n"
     ]
    },
    {
     "data": {
      "text/plain": [
       "[0.0006693905452266335, 0.01926729641854763, 0.02587258256971836]"
      ]
     },
     "execution_count": 16,
     "metadata": {},
     "output_type": "execute_result"
    }
   ],
   "source": [
    "model.evaluate(X_test, y_test)"
   ]
  },
  {
   "cell_type": "markdown",
   "id": "86dfc2ef",
   "metadata": {
    "papermill": {
     "duration": 0.063056,
     "end_time": "2024-02-06T01:53:17.521940",
     "exception": false,
     "start_time": "2024-02-06T01:53:17.458884",
     "status": "completed"
    },
    "tags": []
   },
   "source": [
    "## Model Evaluation"
   ]
  },
  {
   "cell_type": "code",
   "execution_count": 17,
   "id": "99196c7d",
   "metadata": {
    "execution": {
     "iopub.execute_input": "2024-02-06T01:53:17.653170Z",
     "iopub.status.busy": "2024-02-06T01:53:17.652736Z",
     "iopub.status.idle": "2024-02-06T01:53:18.010450Z",
     "shell.execute_reply": "2024-02-06T01:53:18.009430Z"
    },
    "papermill": {
     "duration": 0.426472,
     "end_time": "2024-02-06T01:53:18.012771",
     "exception": false,
     "start_time": "2024-02-06T01:53:17.586299",
     "status": "completed"
    },
    "tags": []
   },
   "outputs": [
    {
     "data": {
      "image/png": "[encoded data removed]",
      "text/plain": [
       "<Figure size 640x480 with 1 Axes>"
      ]
     },
     "metadata": {},
     "output_type": "display_data"
    }
   ],
   "source": [
    "plt.plot(history.history['loss'])\n",
    "plt.plot(history.history['val_loss'])\n",
    "plt.title(f'{SHEET_NAME} Model Loss', fontsize=15)\n",
    "plt.ylabel('loss')\n",
    "plt.xlabel('epoch')\n",
    "plt.legend(['train', 'test'])\n",
    "plt.show()"
   ]
  },
  {
   "cell_type": "code",
   "execution_count": 18,
   "id": "c8484c97",
   "metadata": {
    "execution": {
     "iopub.execute_input": "2024-02-06T01:53:18.141228Z",
     "iopub.status.busy": "2024-02-06T01:53:18.140813Z",
     "iopub.status.idle": "2024-02-06T01:53:18.648580Z",
     "shell.execute_reply": "2024-02-06T01:53:18.647517Z"
    },
    "papermill": {
     "duration": 0.574776,
     "end_time": "2024-02-06T01:53:18.651008",
     "exception": false,
     "start_time": "2024-02-06T01:53:18.076232",
     "status": "completed"
    },
    "tags": []
   },
   "outputs": [
    {
     "name": "stdout",
     "output_type": "stream",
     "text": [
      "7/7 [==============================] - 0s 2ms/step\n"
     ]
    }
   ],
   "source": [
    "y_hat = model.predict(X_test)\n",
    "y_test_inverse = scaler.inverse_transform(y_test)\n",
    "y_hat_inverse = scaler.inverse_transform(y_hat)"
   ]
  },
  {
   "cell_type": "code",
   "execution_count": 19,
   "id": "736e2e8c",
   "metadata": {
    "execution": {
     "iopub.execute_input": "2024-02-06T01:53:18.775996Z",
     "iopub.status.busy": "2024-02-06T01:53:18.775584Z",
     "iopub.status.idle": "2024-02-06T01:53:19.170903Z",
     "shell.execute_reply": "2024-02-06T01:53:19.169865Z"
    },
    "papermill": {
     "duration": 0.460795,
     "end_time": "2024-02-06T01:53:19.173113",
     "exception": false,
     "start_time": "2024-02-06T01:53:18.712318",
     "status": "completed"
    },
    "tags": []
   },
   "outputs": [
    {
     "data": {
      "image/png": "[encoded data removed]",
      "text/plain": [
       "<Figure size 640x480 with 1 Axes>"
      ]
     },
     "metadata": {},
     "output_type": "display_data"
    }
   ],
   "source": [
    "plt.plot(y_test_inverse, label=\"Actual Price\", color='green')\n",
    "plt.plot(y_hat_inverse, label=\"Predicted Price\", color='red')\n",
    " \n",
    "plt.title(f'{SHEET_NAME} Price Prediction\\nLSTM = {LSTM_Layer}, Split Data = {SPLIT}, Window = {WINDOW_SIZE}', fontsize=15)\n",
    "plt.xlabel('Time [days]')\n",
    "plt.ylabel('Price')\n",
    "plt.legend(loc='best')\n",
    " \n",
    "plt.show()"
   ]
  },
  {
   "cell_type": "code",
   "execution_count": 20,
   "id": "c4b34e90",
   "metadata": {
    "execution": {
     "iopub.execute_input": "2024-02-06T01:53:19.301455Z",
     "iopub.status.busy": "2024-02-06T01:53:19.301071Z",
     "iopub.status.idle": "2024-02-06T01:53:19.311162Z",
     "shell.execute_reply": "2024-02-06T01:53:19.310113Z"
    },
    "papermill": {
     "duration": 0.07796,
     "end_time": "2024-02-06T01:53:19.313615",
     "exception": false,
     "start_time": "2024-02-06T01:53:19.235655",
     "status": "completed"
    },
    "tags": []
   },
   "outputs": [
    {
     "name": "stdout",
     "output_type": "stream",
     "text": [
      "LSTM = 1, Split Data = 0.9, Window = 10\n",
      "\n",
      "----------------- Normalized Error -----------------\n",
      "Mean Absolute Error for prediction : 0.019267297530017945\n",
      "Mean Squared Error for prediction : 0.000669390497698884\n",
      "Root Mean Squared Error for prediction : 0.025872581968154704\n",
      "\n",
      "----------------- Actual Error -----------------\n",
      "Mean Absolute Error for prediction : 72.90750218115495\n",
      "Mean Squared Error for prediction : 9584.77774173737\n",
      "Root Mean Squared Error for prediction : 97.90187813181814\n"
     ]
    }
   ],
   "source": [
    "def matrices(actual, predicted):\n",
    "    mse = mean_squared_error(actual, predicted)\n",
    "    mae = mean_absolute_error(actual, predicted)\n",
    "    rmse = np.sqrt(mse)\n",
    "    print(\"Mean Absolute Error for prediction :\", mae)\n",
    "    print(\"Mean Squared Error for prediction :\", mse)\n",
    "    print(\"Root Mean Squared Error for prediction :\", rmse)\n",
    "    return mae, mse, rmse\n",
    "\n",
    "print(f\"LSTM = {LSTM_Layer}, Split Data = {SPLIT}, Window = {WINDOW_SIZE}\")\n",
    "print(\"\\n----------------- Normalized Error -----------------\")\n",
    "mae, mse, rmse = matrices(y_test, y_hat)\n",
    "print(\"\\n----------------- Actual Error -----------------\")\n",
    "mae_inverse, mse_inverse, rmse_inverse = matrices(y_test_inverse, y_hat_inverse)"
   ]
  }
 ],
 "metadata": {
  "kaggle": {
   "accelerator": "gpu",
   "dataSources": [],
   "dockerImageVersionId": 30498,
   "isGpuEnabled": true,
   "isInternetEnabled": true,
   "language": "python",
   "sourceType": "notebook"
  },
  "kernelspec": {
   "display_name": "Python 3",
   "language": "python",
   "name": "python3"
  },
  "language_info": {
   "codemirror_mode": {
    "name": "ipython",
    "version": 3
   },
   "file_extension": ".py",
   "mimetype": "text/x-python",
   "name": "python",
   "nbconvert_exporter": "python",
   "pygments_lexer": "ipython3",
   "version": "3.10.10"
  },
  "papermill": {
   "default_parameters": {},
   "duration": 658.24349,
   "end_time": "2024-02-06T01:53:23.038887",
   "environment_variables": {},
   "exception": null,
   "input_path": "__notebook__.ipynb",
   "output_path": "__notebook__.ipynb",
   "parameters": {},
   "start_time": "2024-02-06T01:42:24.795397",
   "version": "2.4.0"
  }
 },
 "nbformat": 4,
 "nbformat_minor": 5
}
