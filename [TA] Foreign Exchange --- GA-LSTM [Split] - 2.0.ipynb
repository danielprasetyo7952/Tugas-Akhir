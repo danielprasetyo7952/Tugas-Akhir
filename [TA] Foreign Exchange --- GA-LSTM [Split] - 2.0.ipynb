{
 "cells": [
  {
   "cell_type": "code",
   "execution_count": 1,
   "id": "3b635b1a",
   "metadata": {
    "execution": {
     "iopub.execute_input": "2024-02-06T05:34:00.300554Z",
     "iopub.status.busy": "2024-02-06T05:34:00.300078Z",
     "iopub.status.idle": "2024-02-06T05:34:09.950800Z",
     "shell.execute_reply": "2024-02-06T05:34:09.949754Z"
    },
    "papermill": {
     "duration": 9.664596,
     "end_time": "2024-02-06T05:34:09.953507",
     "exception": false,
     "start_time": "2024-02-06T05:34:00.288911",
     "status": "completed"
    },
    "tags": []
   },
   "outputs": [
    {
     "name": "stderr",
     "output_type": "stream",
     "text": [
      "/opt/conda/lib/python3.10/site-packages/tensorflow_io/python/ops/__init__.py:98: UserWarning: unable to load libtensorflow_io_plugins.so: unable to open file: libtensorflow_io_plugins.so, from paths: ['/opt/conda/lib/python3.10/site-packages/tensorflow_io/python/ops/libtensorflow_io_plugins.so']\n",
      "caused by: ['/opt/conda/lib/python3.10/site-packages/tensorflow_io/python/ops/libtensorflow_io_plugins.so: undefined symbol: _ZN3tsl6StatusC1EN10tensorflow5error4CodeESt17basic_string_viewIcSt11char_traitsIcEENS_14SourceLocationE']\n",
      "  warnings.warn(f\"unable to load libtensorflow_io_plugins.so: {e}\")\n",
      "/opt/conda/lib/python3.10/site-packages/tensorflow_io/python/ops/__init__.py:104: UserWarning: file system plugins are not loaded: unable to open file: libtensorflow_io.so, from paths: ['/opt/conda/lib/python3.10/site-packages/tensorflow_io/python/ops/libtensorflow_io.so']\n",
      "caused by: ['/opt/conda/lib/python3.10/site-packages/tensorflow_io/python/ops/libtensorflow_io.so: undefined symbol: _ZTVN10tensorflow13GcsFileSystemE']\n",
      "  warnings.warn(f\"file system plugins are not loaded: {e}\")\n"
     ]
    }
   ],
   "source": [
    "import pandas as pd\n",
    "import numpy as np\n",
    "import tensorflow as tf\n",
    "import matplotlib.pyplot as plt\n",
    "import datetime, pytz\n",
    "\n",
    "from keras.models import Sequential\n",
    "from keras.layers import LSTM, Dense\n",
    "from keras.metrics import RootMeanSquaredError\n",
    "\n",
    "from sklearn.preprocessing import MinMaxScaler\n",
    "from sklearn.metrics import mean_squared_error, mean_absolute_error"
   ]
  },
  {
   "cell_type": "markdown",
   "id": "fa7060ab",
   "metadata": {
    "papermill": {
     "duration": 0.006962,
     "end_time": "2024-02-06T05:34:09.968464",
     "exception": false,
     "start_time": "2024-02-06T05:34:09.961502",
     "status": "completed"
    },
    "tags": []
   },
   "source": [
    "## Hyperparameter"
   ]
  },
  {
   "cell_type": "code",
   "execution_count": 2,
   "id": "b75e6ce1",
   "metadata": {
    "execution": {
     "iopub.execute_input": "2024-02-06T05:34:09.985102Z",
     "iopub.status.busy": "2024-02-06T05:34:09.983803Z",
     "iopub.status.idle": "2024-02-06T05:34:09.989465Z",
     "shell.execute_reply": "2024-02-06T05:34:09.988487Z"
    },
    "papermill": {
     "duration": 0.016026,
     "end_time": "2024-02-06T05:34:09.991601",
     "exception": false,
     "start_time": "2024-02-06T05:34:09.975575",
     "status": "completed"
    },
    "tags": []
   },
   "outputs": [],
   "source": [
    "# Google Spreadsheet ID\n",
    "SHEET_ID = '1JDNv_mArl-GPIpxuWS5GxgVEwvjXocS1MrXGc6TYs8M'\n",
    "SHEET_NAME = 'SGD/IDR' # USD/IDR, EUR/IDR, SGD/IDR\n",
    "\n",
    "SEQ_LEN = 21 # 6, 11, 21\n",
    "SPLIT = 0.90 # 0.80, 0.90\n",
    "LSTM_Layer = 3 # 1, 2, 3\n",
    "WINDOW_SIZE = SEQ_LEN - 1"
   ]
  },
  {
   "cell_type": "code",
   "execution_count": 3,
   "id": "fe7dbae5",
   "metadata": {
    "execution": {
     "iopub.execute_input": "2024-02-06T05:34:10.007930Z",
     "iopub.status.busy": "2024-02-06T05:34:10.007286Z",
     "iopub.status.idle": "2024-02-06T05:34:11.835419Z",
     "shell.execute_reply": "2024-02-06T05:34:11.834181Z"
    },
    "papermill": {
     "duration": 1.838934,
     "end_time": "2024-02-06T05:34:11.837750",
     "exception": false,
     "start_time": "2024-02-06T05:34:09.998816",
     "status": "completed"
    },
    "tags": []
   },
   "outputs": [
    {
     "name": "stdout",
     "output_type": "stream",
     "text": [
      "<class 'pandas.core.frame.DataFrame'>\n",
      "RangeIndex: 1959 entries, 0 to 1958\n",
      "Data columns (total 2 columns):\n",
      " #   Column  Non-Null Count  Dtype         \n",
      "---  ------  --------------  -----         \n",
      " 0   Date    1959 non-null   datetime64[ns]\n",
      " 1   Close   1959 non-null   float64       \n",
      "dtypes: datetime64[ns](1), float64(1)\n",
      "memory usage: 30.7 KB\n"
     ]
    }
   ],
   "source": [
    "url = f'https://docs.google.com/spreadsheets/d/{SHEET_ID}/gviz/tq?tqx=out:csv&sheet={SHEET_NAME}'\n",
    "data = pd.read_csv(url)\n",
    "\n",
    "# Convert Date columns to datetime format\n",
    "data['Date'] = pd.to_datetime(data['Date'], format='%d/%m/%Y %H:%M:%S')\n",
    "data.info()"
   ]
  },
  {
   "cell_type": "markdown",
   "id": "b8f1b2b4",
   "metadata": {
    "papermill": {
     "duration": 0.007503,
     "end_time": "2024-02-06T05:34:11.853017",
     "exception": false,
     "start_time": "2024-02-06T05:34:11.845514",
     "status": "completed"
    },
    "tags": []
   },
   "source": [
    "## Preprocessing"
   ]
  },
  {
   "cell_type": "code",
   "execution_count": 4,
   "id": "c7923bd4",
   "metadata": {
    "execution": {
     "iopub.execute_input": "2024-02-06T05:34:11.870176Z",
     "iopub.status.busy": "2024-02-06T05:34:11.869480Z",
     "iopub.status.idle": "2024-02-06T05:34:11.884201Z",
     "shell.execute_reply": "2024-02-06T05:34:11.883007Z"
    },
    "papermill": {
     "duration": 0.025797,
     "end_time": "2024-02-06T05:34:11.886407",
     "exception": false,
     "start_time": "2024-02-06T05:34:11.860610",
     "status": "completed"
    },
    "tags": []
   },
   "outputs": [
    {
     "name": "stderr",
     "output_type": "stream",
     "text": [
      "/tmp/ipykernel_27/2274720815.py:7: SettingWithCopyWarning: \n",
      "A value is trying to be set on a copy of a slice from a DataFrame\n",
      "\n",
      "See the caveats in the documentation: https://pandas.pydata.org/pandas-docs/stable/user_guide/indexing.html#returning-a-view-versus-a-copy\n",
      "  data[data < lower_bound] = lower_bound\n",
      "/tmp/ipykernel_27/2274720815.py:8: SettingWithCopyWarning: \n",
      "A value is trying to be set on a copy of a slice from a DataFrame\n",
      "\n",
      "See the caveats in the documentation: https://pandas.pydata.org/pandas-docs/stable/user_guide/indexing.html#returning-a-view-versus-a-copy\n",
      "  data[data > upper_bound] = upper_bound\n"
     ]
    }
   ],
   "source": [
    "def replace_outliers(data):\n",
    "    Q1 = np.percentile(data, 25)\n",
    "    Q3 = np.percentile(data, 75)\n",
    "    IQR = Q3 - Q1\n",
    "    lower_bound = Q1 - 1.5 * IQR\n",
    "    upper_bound = Q3 + 1.5 * IQR\n",
    "    data[data < lower_bound] = lower_bound\n",
    "    data[data > upper_bound] = upper_bound\n",
    "    return data\n",
    "\n",
    "data['Close'] = replace_outliers(data['Close'])"
   ]
  },
  {
   "cell_type": "code",
   "execution_count": 5,
   "id": "8ad2c483",
   "metadata": {
    "execution": {
     "iopub.execute_input": "2024-02-06T05:34:11.904374Z",
     "iopub.status.busy": "2024-02-06T05:34:11.903561Z",
     "iopub.status.idle": "2024-02-06T05:34:12.132138Z",
     "shell.execute_reply": "2024-02-06T05:34:12.130836Z"
    },
    "papermill": {
     "duration": 0.240025,
     "end_time": "2024-02-06T05:34:12.134489",
     "exception": false,
     "start_time": "2024-02-06T05:34:11.894464",
     "status": "completed"
    },
    "tags": []
   },
   "outputs": [
    {
     "data": {
      "image/png": "[encoded data removed]",
      "text/plain": [
       "<Figure size 640x480 with 1 Axes>"
      ]
     },
     "metadata": {},
     "output_type": "display_data"
    }
   ],
   "source": [
    "# Boxplot for outlier detection\n",
    "plt.boxplot(data['Close'])\n",
    "plt.title(f\"{SHEET_NAME} Boxplot for Outlier Detection\")\n",
    "plt.xlabel(\"Close\")\n",
    "plt.ylabel(\"Values\")\n",
    "plt.show()"
   ]
  },
  {
   "cell_type": "code",
   "execution_count": 6,
   "id": "fce6aef6",
   "metadata": {
    "execution": {
     "iopub.execute_input": "2024-02-06T05:34:12.152690Z",
     "iopub.status.busy": "2024-02-06T05:34:12.152332Z",
     "iopub.status.idle": "2024-02-06T05:34:12.160617Z",
     "shell.execute_reply": "2024-02-06T05:34:12.159682Z"
    },
    "papermill": {
     "duration": 0.019737,
     "end_time": "2024-02-06T05:34:12.162728",
     "exception": false,
     "start_time": "2024-02-06T05:34:12.142991",
     "status": "completed"
    },
    "tags": []
   },
   "outputs": [
    {
     "data": {
      "text/plain": [
       "(1959, 1)"
      ]
     },
     "execution_count": 6,
     "metadata": {},
     "output_type": "execute_result"
    }
   ],
   "source": [
    "scaler = MinMaxScaler()\n",
    "close_price = data.Close.values.reshape(-1, 1)\n",
    "scaled_close = scaler.fit_transform(close_price)\n",
    "scaled_close.shape"
   ]
  },
  {
   "cell_type": "code",
   "execution_count": 7,
   "id": "ca30c191",
   "metadata": {
    "execution": {
     "iopub.execute_input": "2024-02-06T05:34:12.179930Z",
     "iopub.status.busy": "2024-02-06T05:34:12.179417Z",
     "iopub.status.idle": "2024-02-06T05:34:12.189681Z",
     "shell.execute_reply": "2024-02-06T05:34:12.188956Z"
    },
    "papermill": {
     "duration": 0.02138,
     "end_time": "2024-02-06T05:34:12.191848",
     "exception": false,
     "start_time": "2024-02-06T05:34:12.170468",
     "status": "completed"
    },
    "tags": []
   },
   "outputs": [],
   "source": [
    "def to_sequences(data, seq_len):\n",
    "    d = []\n",
    "    for index in range(len(data) - seq_len):\n",
    "        d.append(data[index: index + seq_len])\n",
    "    return np.array(d)\n",
    "\n",
    "def preprocess(data_raw, seq_len, train_split):\n",
    "    data = to_sequences(data_raw, seq_len)\n",
    "    num_train = int(train_split * data.shape[0])\n",
    "    X_train = data[:num_train, :-1, :]\n",
    "    y_train = data[:num_train, -1, :]\n",
    "    X_test = data[num_train:, :-1, :]\n",
    "    y_test = data[num_train:, -1, :]\n",
    "    return X_train, y_train, X_test, y_test\n",
    "\n",
    "X_train, y_train, X_test, y_test = preprocess(scaled_close, SEQ_LEN, train_split = SPLIT)"
   ]
  },
  {
   "cell_type": "markdown",
   "id": "de8a0ce0",
   "metadata": {
    "papermill": {
     "duration": 0.007801,
     "end_time": "2024-02-06T05:34:12.207693",
     "exception": false,
     "start_time": "2024-02-06T05:34:12.199892",
     "status": "completed"
    },
    "tags": []
   },
   "source": [
    "## Genetic Algorithm"
   ]
  },
  {
   "cell_type": "code",
   "execution_count": 8,
   "id": "113bc5b6",
   "metadata": {
    "execution": {
     "iopub.execute_input": "2024-02-06T05:34:12.225711Z",
     "iopub.status.busy": "2024-02-06T05:34:12.224928Z",
     "iopub.status.idle": "2024-02-06T05:34:12.230881Z",
     "shell.execute_reply": "2024-02-06T05:34:12.230090Z"
    },
    "papermill": {
     "duration": 0.017047,
     "end_time": "2024-02-06T05:34:12.232988",
     "exception": false,
     "start_time": "2024-02-06T05:34:12.215941",
     "status": "completed"
    },
    "tags": []
   },
   "outputs": [],
   "source": [
    "def decimal_to_binary(chromosome: list):\n",
    "    binary_string = ''.join([bin(x)[2:].zfill(8) for x in chromosome])\n",
    "    return binary_string\n",
    "\n",
    "def binary_to_decimal(binary_string: str):\n",
    "    decimal_array = [int(binary, 2) for binary in [binary_string[i:i+8] for i in range(0, len(binary_string), 8)]]\n",
    "    return decimal_array"
   ]
  },
  {
   "cell_type": "code",
   "execution_count": 9,
   "id": "c3c0b870",
   "metadata": {
    "execution": {
     "iopub.execute_input": "2024-02-06T05:34:12.251070Z",
     "iopub.status.busy": "2024-02-06T05:34:12.250722Z",
     "iopub.status.idle": "2024-02-06T05:34:12.272724Z",
     "shell.execute_reply": "2024-02-06T05:34:12.271731Z"
    },
    "papermill": {
     "duration": 0.033588,
     "end_time": "2024-02-06T05:34:12.274785",
     "exception": false,
     "start_time": "2024-02-06T05:34:12.241197",
     "status": "completed"
    },
    "tags": []
   },
   "outputs": [],
   "source": [
    "# Genetic Algorithm\n",
    "def genetic_algorithm(generations, mutation_rate):\n",
    "    print(f\"Inizialized Population...\")\n",
    "    population = np.random.randint(1, high=251, size=(10, 3))\n",
    "    fitness_scores = np.array([fitness_function(chromosome) for chromosome in population])\n",
    "    max_fitness_each_gen = []\n",
    "    \n",
    "    for generation in range(generations):\n",
    "        print(f\"Generation - {generation + 1}\")\n",
    "        max_fitness_each_gen.append(np.max(fitness_scores))\n",
    "        \n",
    "        chromosome_1 = selection(population, fitness_scores)\n",
    "        chromosome_2 = selection(population, fitness_scores)\n",
    "        \n",
    "        if generation % mutation_rate == 0:\n",
    "            chromosome_1 = mutate(chromosome_1)\n",
    "            chromosome_2 = mutate(chromosome_2)\n",
    "        else:\n",
    "            chromosome_1, chromosome_2 = crossover(chromosome_1, chromosome_2)\n",
    "\n",
    "        fitness_score_1 = fitness_function(chromosome_1)\n",
    "        fitness_score_2 = fitness_function(chromosome_2)\n",
    "        \n",
    "        worst_index = np.argmin(fitness_scores)\n",
    "        worst_fitness = fitness_scores[worst_index]\n",
    "\n",
    "        if fitness_score_1 > worst_fitness:\n",
    "            population[worst_index] = chromosome_1\n",
    "            fitness_scores[worst_index] = fitness_score_1\n",
    "            worst_index = np.argmin(fitness_scores)\n",
    "            worst_fitness = fitness_scores[worst_index]\n",
    "\n",
    "        if fitness_score_2 > worst_fitness:\n",
    "            population[worst_index] = chromosome_2\n",
    "            fitness_scores[worst_index] = fitness_score_2\n",
    "        \n",
    "        # Release some memory\n",
    "        del chromosome_1, chromosome_2\n",
    "        del fitness_score_1, fitness_score_2\n",
    "        del worst_index, worst_fitness\n",
    "            \n",
    "    best_chromosome = population[np.argmax(fitness_scores)]\n",
    "    best_fitness = np.max(fitness_scores)\n",
    "    \n",
    "    return best_chromosome, best_fitness, max_fitness_each_gen\n",
    "\n",
    "# Selection (Tournament selection)\n",
    "def selection(population, fitness_scores, tournament_size=3):\n",
    "    indices = np.random.randint(len(population), size=tournament_size)\n",
    "    tournament = population[indices]\n",
    "    tournament_fitness = fitness_scores[indices]\n",
    "    return tournament[np.argmax(tournament_fitness)]\n",
    "\n",
    "# Crossover (Single-point crossover)\n",
    "def crossover(parent_1: list, parent_2: list):\n",
    "    parent_1 = decimal_to_binary(parent_1)\n",
    "    parent_2 = decimal_to_binary(parent_2)\n",
    "    \n",
    "    crossover_point = np.random.randint(1, len(parent_1))\n",
    "    offspring_1 = parent_1[:crossover_point] + parent_2[crossover_point:]\n",
    "    offspring_2 = parent_2[:crossover_point] + parent_1[crossover_point:]\n",
    "    \n",
    "    offspring_1 = binary_to_decimal(offspring_1)\n",
    "    offspring_2 = binary_to_decimal(offspring_2)\n",
    "    return offspring_1, offspring_2\n",
    "\n",
    "# Mutation (Swap Mutation)\n",
    "def mutate(chromosome: list):\n",
    "    chromosome = decimal_to_binary(chromosome)\n",
    "    \n",
    "    chromosome_list = list(chromosome)\n",
    "    i = np.random.randint(len(chromosome_list), size=2)\n",
    "    chromosome_list[i[0]], chromosome_list[i[1]] = chromosome_list[i[1]], chromosome_list[i[0]]\n",
    "    \n",
    "    chromosome_list = ''.join(chromosome_list)\n",
    "    chromosome = binary_to_decimal(chromosome_list)\n",
    "    return chromosome\n",
    "\n",
    "# Fitness Function\n",
    "def fitness_function(chromosome: list):\n",
    "    lstm_units = [int(chromosome[i]) or default for i, default in enumerate([128, 64, 32])]\n",
    "\n",
    "    # Build the LSTM model\n",
    "    tf.keras.backend.clear_session()\n",
    "    model = Sequential()\n",
    "    for i, units in enumerate(lstm_units[:LSTM_Layer]):\n",
    "        model.add(LSTM(units, return_sequences=(i < LSTM_Layer - 1), input_shape=(WINDOW_SIZE, 1)))\n",
    "    model.add(Dense(1))\n",
    "    \n",
    "    # Compile and train the model\n",
    "    model.compile(loss='mean_squared_error',\n",
    "                  optimizer='adam')\n",
    "    model.fit(X_train, y_train,\n",
    "              epochs=10,\n",
    "              batch_size=32,\n",
    "              verbose=0,\n",
    "              validation_split=0.1)\n",
    "\n",
    "    # Evaluate the model\n",
    "    loss = model.evaluate(X_test, y_test)\n",
    "\n",
    "    # Return the negative value of the loss as the fitness score\n",
    "    return -loss"
   ]
  },
  {
   "cell_type": "code",
   "execution_count": 10,
   "id": "09409d0a",
   "metadata": {
    "execution": {
     "iopub.execute_input": "2024-02-06T05:34:12.292756Z",
     "iopub.status.busy": "2024-02-06T05:34:12.291908Z",
     "iopub.status.idle": "2024-02-06T05:34:12.298433Z",
     "shell.execute_reply": "2024-02-06T05:34:12.297420Z"
    },
    "papermill": {
     "duration": 0.017808,
     "end_time": "2024-02-06T05:34:12.300555",
     "exception": false,
     "start_time": "2024-02-06T05:34:12.282747",
     "status": "completed"
    },
    "tags": []
   },
   "outputs": [],
   "source": [
    "import typing\n",
    "from datetime import datetime\n",
    "\n",
    "def timer(start_time: datetime = None) -> \"typing.Union[datetime.datetime, str]\":\n",
    "    if not start_time:\n",
    "        start_time = datetime.now()\n",
    "        return start_time\n",
    "    elif start_time:\n",
    "        thour, temp_sec = divmod((datetime.now() - start_time).total_seconds(), 3600)\n",
    "        tmin, tsec = divmod(temp_sec, 60)\n",
    "        return \"%i hours %i minutes and %s seconds.\" % (\n",
    "            thour,\n",
    "            tmin,\n",
    "            round(tsec, 2),\n",
    "        )"
   ]
  },
  {
   "cell_type": "code",
   "execution_count": 11,
   "id": "289e9a3b",
   "metadata": {
    "execution": {
     "iopub.execute_input": "2024-02-06T05:34:12.319192Z",
     "iopub.status.busy": "2024-02-06T05:34:12.318703Z",
     "iopub.status.idle": "2024-02-06T05:57:35.107765Z",
     "shell.execute_reply": "2024-02-06T05:57:35.106584Z"
    },
    "papermill": {
     "duration": 1402.804608,
     "end_time": "2024-02-06T05:57:35.113938",
     "exception": false,
     "start_time": "2024-02-06T05:34:12.309330",
     "status": "completed"
    },
    "tags": []
   },
   "outputs": [
    {
     "name": "stdout",
     "output_type": "stream",
     "text": [
      "Inizialized Population...\n",
      "7/7 [==============================] - 0s 5ms/step - loss: 0.0030\n",
      "7/7 [==============================] - 0s 5ms/step - loss: 6.0538e-04\n",
      "7/7 [==============================] - 0s 5ms/step - loss: 0.0036\n",
      "7/7 [==============================] - 0s 4ms/step - loss: 6.1411e-04\n",
      "7/7 [==============================] - 0s 5ms/step - loss: 0.0011\n",
      "7/7 [==============================] - 0s 5ms/step - loss: 0.0186\n",
      "7/7 [==============================] - 0s 5ms/step - loss: 6.9905e-04\n",
      "7/7 [==============================] - 0s 5ms/step - loss: 0.0044\n",
      "7/7 [==============================] - 0s 5ms/step - loss: 0.0047\n",
      "7/7 [==============================] - 0s 5ms/step - loss: 0.0031\n",
      "Generation - 1\n",
      "7/7 [==============================] - 0s 9ms/step - loss: 0.0091\n",
      "7/7 [==============================] - 0s 5ms/step - loss: 0.0027\n",
      "Generation - 2\n",
      "7/7 [==============================] - 0s 5ms/step - loss: 0.0011\n",
      "7/7 [==============================] - 0s 5ms/step - loss: 0.0021\n",
      "Generation - 3\n",
      "7/7 [==============================] - 0s 5ms/step - loss: 0.0033\n",
      "7/7 [==============================] - 0s 5ms/step - loss: 0.0100\n",
      "Generation - 4\n",
      "7/7 [==============================] - 0s 5ms/step - loss: 7.0641e-04\n",
      "7/7 [==============================] - 0s 5ms/step - loss: 9.1390e-04\n",
      "Generation - 5\n",
      "7/7 [==============================] - 0s 5ms/step - loss: 0.0126\n",
      "7/7 [==============================] - 0s 5ms/step - loss: 8.2869e-04\n",
      "Generation - 6\n",
      "7/7 [==============================] - 0s 6ms/step - loss: 0.0053\n",
      "7/7 [==============================] - 0s 5ms/step - loss: 5.9395e-04\n",
      "Generation - 7\n",
      "7/7 [==============================] - 0s 5ms/step - loss: 0.0016\n",
      "7/7 [==============================] - 0s 5ms/step - loss: 0.0013\n",
      "Generation - 8\n",
      "7/7 [==============================] - 0s 5ms/step - loss: 0.0103\n",
      "7/7 [==============================] - 0s 5ms/step - loss: 0.0037\n",
      "Generation - 9\n",
      "7/7 [==============================] - 0s 5ms/step - loss: 0.0017\n",
      "7/7 [==============================] - 0s 4ms/step - loss: 7.5554e-04\n",
      "Generation - 10\n",
      "7/7 [==============================] - 0s 5ms/step - loss: 9.3442e-04\n",
      "7/7 [==============================] - 0s 5ms/step - loss: 0.0017\n",
      "Generation - 11\n",
      "7/7 [==============================] - 0s 5ms/step - loss: 0.0041\n",
      "7/7 [==============================] - 0s 5ms/step - loss: 0.0013\n",
      "Generation - 12\n",
      "7/7 [==============================] - 0s 5ms/step - loss: 0.0119\n",
      "7/7 [==============================] - 0s 5ms/step - loss: 0.0044\n",
      "Generation - 13\n",
      "7/7 [==============================] - 0s 5ms/step - loss: 5.8128e-04\n",
      "7/7 [==============================] - 0s 5ms/step - loss: 6.5724e-04\n",
      "Generation - 14\n",
      "7/7 [==============================] - 0s 4ms/step - loss: 9.1265e-04\n",
      "7/7 [==============================] - 0s 5ms/step - loss: 0.0040\n",
      "Generation - 15\n",
      "7/7 [==============================] - 0s 5ms/step - loss: 9.1814e-04\n",
      "7/7 [==============================] - 0s 5ms/step - loss: 9.2030e-04\n",
      "Generation - 16\n",
      "7/7 [==============================] - 0s 5ms/step - loss: 5.7528e-04\n",
      "7/7 [==============================] - 0s 5ms/step - loss: 6.2820e-04\n",
      "Generation - 17\n",
      "7/7 [==============================] - 0s 5ms/step - loss: 0.0158\n",
      "7/7 [==============================] - 0s 5ms/step - loss: 0.0093\n",
      "Generation - 18\n",
      "7/7 [==============================] - 0s 5ms/step - loss: 0.0022\n",
      "7/7 [==============================] - 0s 5ms/step - loss: 0.0019\n",
      "Generation - 19\n",
      "7/7 [==============================] - 0s 5ms/step - loss: 0.0042\n",
      "7/7 [==============================] - 0s 5ms/step - loss: 7.4255e-04\n",
      "Generation - 20\n",
      "7/7 [==============================] - 0s 5ms/step - loss: 0.0055\n",
      "7/7 [==============================] - 0s 5ms/step - loss: 0.0029\n",
      "Generation - 21\n",
      "7/7 [==============================] - 0s 4ms/step - loss: 6.4334e-04\n",
      "7/7 [==============================] - 0s 5ms/step - loss: 0.0024\n",
      "Generation - 22\n",
      "7/7 [==============================] - 0s 5ms/step - loss: 5.1785e-04\n",
      "7/7 [==============================] - 0s 5ms/step - loss: 0.0014\n",
      "Generation - 23\n",
      "7/7 [==============================] - 0s 5ms/step - loss: 5.9640e-04\n",
      "7/7 [==============================] - 0s 5ms/step - loss: 0.0055\n",
      "Generation - 24\n",
      "7/7 [==============================] - 0s 4ms/step - loss: 0.0014\n",
      "7/7 [==============================] - 0s 5ms/step - loss: 0.0017\n",
      "Generation - 25\n",
      "7/7 [==============================] - 0s 5ms/step - loss: 0.0016\n",
      "7/7 [==============================] - 0s 5ms/step - loss: 0.0842\n",
      "Generation - 26\n",
      "7/7 [==============================] - 0s 5ms/step - loss: 0.0111\n",
      "7/7 [==============================] - 0s 6ms/step - loss: 8.7765e-04\n",
      "Generation - 27\n",
      "7/7 [==============================] - 0s 4ms/step - loss: 0.0077\n",
      "7/7 [==============================] - 0s 5ms/step - loss: 0.0040\n",
      "Generation - 28\n",
      "7/7 [==============================] - 0s 5ms/step - loss: 0.0012\n",
      "7/7 [==============================] - 0s 4ms/step - loss: 0.0021\n",
      "Generation - 29\n",
      "7/7 [==============================] - 0s 5ms/step - loss: 8.8461e-04\n",
      "7/7 [==============================] - 0s 5ms/step - loss: 0.2040\n",
      "Generation - 30\n",
      "7/7 [==============================] - 0s 5ms/step - loss: 0.0073\n",
      "7/7 [==============================] - 0s 4ms/step - loss: 0.0050\n",
      "Generation - 31\n",
      "7/7 [==============================] - 0s 6ms/step - loss: 0.0010\n",
      "7/7 [==============================] - 0s 5ms/step - loss: 0.0048\n",
      "Generation - 32\n",
      "7/7 [==============================] - 0s 5ms/step - loss: 0.0066\n",
      "7/7 [==============================] - 0s 6ms/step - loss: 0.0012\n",
      "Generation - 33\n",
      "7/7 [==============================] - 0s 5ms/step - loss: 0.0248\n",
      "7/7 [==============================] - 0s 5ms/step - loss: 0.0012\n",
      "Generation - 34\n",
      "7/7 [==============================] - 0s 5ms/step - loss: 0.0068\n",
      "7/7 [==============================] - 0s 5ms/step - loss: 0.0044\n",
      "Generation - 35\n",
      "7/7 [==============================] - 0s 5ms/step - loss: 0.0106\n",
      "7/7 [==============================] - 0s 5ms/step - loss: 6.9729e-04\n",
      "Generation - 36\n",
      "7/7 [==============================] - 0s 5ms/step - loss: 0.0015\n",
      "7/7 [==============================] - 0s 5ms/step - loss: 8.1474e-04\n",
      "Generation - 37\n",
      "7/7 [==============================] - 0s 5ms/step - loss: 0.0053\n",
      "7/7 [==============================] - 0s 4ms/step - loss: 0.0018\n",
      "Generation - 38\n",
      "7/7 [==============================] - 0s 5ms/step - loss: 7.2009e-04\n",
      "7/7 [==============================] - 0s 5ms/step - loss: 0.0042\n",
      "Generation - 39\n",
      "7/7 [==============================] - 0s 5ms/step - loss: 0.0043\n",
      "7/7 [==============================] - 0s 5ms/step - loss: 0.0014\n",
      "Generation - 40\n",
      "7/7 [==============================] - 0s 5ms/step - loss: 0.0025\n",
      "7/7 [==============================] - 0s 5ms/step - loss: 0.0015\n",
      "Generation - 41\n",
      "7/7 [==============================] - 0s 5ms/step - loss: 0.0129\n",
      "7/7 [==============================] - 0s 5ms/step - loss: 0.0018\n",
      "Generation - 42\n",
      "7/7 [==============================] - 0s 5ms/step - loss: 0.0076\n",
      "7/7 [==============================] - 0s 5ms/step - loss: 0.0083\n",
      "Generation - 43\n",
      "7/7 [==============================] - 0s 5ms/step - loss: 0.0017\n",
      "7/7 [==============================] - 0s 5ms/step - loss: 9.3004e-04\n",
      "Generation - 44\n",
      "7/7 [==============================] - 0s 5ms/step - loss: 6.2163e-04\n",
      "7/7 [==============================] - 0s 5ms/step - loss: 4.9772e-04\n",
      "Generation - 45\n",
      "7/7 [==============================] - 0s 5ms/step - loss: 0.0041\n",
      "7/7 [==============================] - 0s 5ms/step - loss: 0.0090\n",
      "Generation - 46\n",
      "7/7 [==============================] - 0s 5ms/step - loss: 0.0037\n",
      "7/7 [==============================] - 0s 5ms/step - loss: 0.0022\n",
      "Generation - 47\n",
      "7/7 [==============================] - 0s 5ms/step - loss: 0.0066\n",
      "7/7 [==============================] - 0s 5ms/step - loss: 0.0046\n",
      "Generation - 48\n",
      "7/7 [==============================] - 0s 4ms/step - loss: 0.0042\n",
      "7/7 [==============================] - 0s 5ms/step - loss: 0.0047\n",
      "Generation - 49\n",
      "7/7 [==============================] - 0s 5ms/step - loss: 0.0015\n",
      "7/7 [==============================] - 0s 5ms/step - loss: 5.2513e-04\n",
      "Generation - 50\n",
      "7/7 [==============================] - 0s 5ms/step - loss: 9.2499e-04\n",
      "7/7 [==============================] - 0s 5ms/step - loss: 0.0174\n"
     ]
    }
   ],
   "source": [
    "# Do not increase this value\n",
    "generations = 50\n",
    "mutation_rate = 5\n",
    "\n",
    "time = timer(None)\n",
    "best_chromosome, best_fitness, max_fitness_each_gen = genetic_algorithm(generations, mutation_rate)\n",
    "time = timer(time)"
   ]
  },
  {
   "cell_type": "code",
   "execution_count": 12,
   "id": "52729ea4",
   "metadata": {
    "execution": {
     "iopub.execute_input": "2024-02-06T05:57:35.176951Z",
     "iopub.status.busy": "2024-02-06T05:57:35.176579Z",
     "iopub.status.idle": "2024-02-06T05:57:35.182195Z",
     "shell.execute_reply": "2024-02-06T05:57:35.181125Z"
    },
    "papermill": {
     "duration": 0.04055,
     "end_time": "2024-02-06T05:57:35.185158",
     "exception": false,
     "start_time": "2024-02-06T05:57:35.144608",
     "status": "completed"
    },
    "tags": []
   },
   "outputs": [
    {
     "name": "stdout",
     "output_type": "stream",
     "text": [
      "Best Chromosome: [ 45  29 201]\n",
      "Best Fitness: -0.000497722823638469\n",
      "Time Taken: 0 hours 23 minutes and 22.78 seconds.\n"
     ]
    }
   ],
   "source": [
    "print(\"Best Chromosome:\", best_chromosome)\n",
    "print(\"Best Fitness:\", best_fitness)\n",
    "print(\"Time Taken:\", time)"
   ]
  },
  {
   "cell_type": "code",
   "execution_count": 13,
   "id": "af877f24",
   "metadata": {
    "execution": {
     "iopub.execute_input": "2024-02-06T05:57:35.250801Z",
     "iopub.status.busy": "2024-02-06T05:57:35.249944Z",
     "iopub.status.idle": "2024-02-06T05:57:35.257005Z",
     "shell.execute_reply": "2024-02-06T05:57:35.256007Z"
    },
    "papermill": {
     "duration": 0.041402,
     "end_time": "2024-02-06T05:57:35.259186",
     "exception": false,
     "start_time": "2024-02-06T05:57:35.217784",
     "status": "completed"
    },
    "tags": []
   },
   "outputs": [
    {
     "data": {
      "text/plain": [
       "[-0.0006053807446733117,\n",
       " -0.0006053807446733117,\n",
       " -0.0006053807446733117,\n",
       " -0.0006053807446733117,\n",
       " -0.0006053807446733117,\n",
       " -0.0006053807446733117,\n",
       " -0.000593945907894522,\n",
       " -0.000593945907894522,\n",
       " -0.000593945907894522,\n",
       " -0.000593945907894522,\n",
       " -0.000593945907894522,\n",
       " -0.000593945907894522,\n",
       " -0.000593945907894522,\n",
       " -0.0005812803283333778,\n",
       " -0.0005812803283333778,\n",
       " -0.0005812803283333778,\n",
       " -0.0005752769066020846,\n",
       " -0.0005752769066020846,\n",
       " -0.0005752769066020846,\n",
       " -0.0005752769066020846,\n",
       " -0.0005752769066020846,\n",
       " -0.0005752769066020846,\n",
       " -0.000517848995514214,\n",
       " -0.000517848995514214,\n",
       " -0.000517848995514214,\n",
       " -0.000517848995514214,\n",
       " -0.000517848995514214,\n",
       " -0.000517848995514214,\n",
       " -0.000517848995514214,\n",
       " -0.000517848995514214,\n",
       " -0.000517848995514214,\n",
       " -0.000517848995514214,\n",
       " -0.000517848995514214,\n",
       " -0.000517848995514214,\n",
       " -0.000517848995514214,\n",
       " -0.000517848995514214,\n",
       " -0.000517848995514214,\n",
       " -0.000517848995514214,\n",
       " -0.000517848995514214,\n",
       " -0.000517848995514214,\n",
       " -0.000517848995514214,\n",
       " -0.000517848995514214,\n",
       " -0.000517848995514214,\n",
       " -0.000517848995514214,\n",
       " -0.000497722823638469,\n",
       " -0.000497722823638469,\n",
       " -0.000497722823638469,\n",
       " -0.000497722823638469,\n",
       " -0.000497722823638469,\n",
       " -0.000497722823638469]"
      ]
     },
     "execution_count": 13,
     "metadata": {},
     "output_type": "execute_result"
    }
   ],
   "source": [
    "max_fitness_each_gen"
   ]
  },
  {
   "cell_type": "markdown",
   "id": "1408e907",
   "metadata": {
    "papermill": {
     "duration": 0.029406,
     "end_time": "2024-02-06T05:57:35.318578",
     "exception": false,
     "start_time": "2024-02-06T05:57:35.289172",
     "status": "completed"
    },
    "tags": []
   },
   "source": [
    "## Re-Training Model with Best Parameter"
   ]
  },
  {
   "cell_type": "code",
   "execution_count": 14,
   "id": "f4cc156e",
   "metadata": {
    "execution": {
     "iopub.execute_input": "2024-02-06T05:57:35.381713Z",
     "iopub.status.busy": "2024-02-06T05:57:35.381315Z",
     "iopub.status.idle": "2024-02-06T05:57:37.236642Z",
     "shell.execute_reply": "2024-02-06T05:57:37.235460Z"
    },
    "papermill": {
     "duration": 1.893858,
     "end_time": "2024-02-06T05:57:37.242808",
     "exception": false,
     "start_time": "2024-02-06T05:57:35.348950",
     "status": "completed"
    },
    "tags": []
   },
   "outputs": [
    {
     "name": "stdout",
     "output_type": "stream",
     "text": [
      "Model: \"sequential_1\"\n",
      "_________________________________________________________________\n",
      " Layer (type)                Output Shape              Param #   \n",
      "=================================================================\n",
      " lstm_3 (LSTM)               (None, 20, 45)            8460      \n",
      "                                                                 \n",
      " lstm_4 (LSTM)               (None, 20, 29)            8700      \n",
      "                                                                 \n",
      " lstm_5 (LSTM)               (None, 201)               185724    \n",
      "                                                                 \n",
      " dense_1 (Dense)             (None, 1)                 202       \n",
      "                                                                 \n",
      "=================================================================\n",
      "Total params: 203,086\n",
      "Trainable params: 203,086\n",
      "Non-trainable params: 0\n",
      "_________________________________________________________________\n"
     ]
    }
   ],
   "source": [
    "model = Sequential()\n",
    "for i, units in enumerate(best_chromosome[:LSTM_Layer]):\n",
    "    model.add(LSTM(units, return_sequences=(i < LSTM_Layer - 1), input_shape=(WINDOW_SIZE, 1)))\n",
    "model.add(Dense(1))\n",
    "\n",
    "model.summary()"
   ]
  },
  {
   "cell_type": "code",
   "execution_count": 15,
   "id": "4a449baf",
   "metadata": {
    "execution": {
     "iopub.execute_input": "2024-02-06T05:57:37.309494Z",
     "iopub.status.busy": "2024-02-06T05:57:37.309128Z",
     "iopub.status.idle": "2024-02-06T05:58:11.556277Z",
     "shell.execute_reply": "2024-02-06T05:58:11.555153Z"
    },
    "papermill": {
     "duration": 34.283115,
     "end_time": "2024-02-06T05:58:11.558750",
     "exception": false,
     "start_time": "2024-02-06T05:57:37.275635",
     "status": "completed"
    },
    "tags": []
   },
   "outputs": [
    {
     "name": "stdout",
     "output_type": "stream",
     "text": [
      "Epoch 1/50\n",
      "50/50 [==============================] - 7s 34ms/step - loss: 0.0245 - mae: 0.1099 - root_mean_squared_error: 0.1564 - val_loss: 0.0119 - val_mae: 0.0807 - val_root_mean_squared_error: 0.1090\n",
      "Epoch 2/50\n",
      "50/50 [==============================] - 1s 12ms/step - loss: 0.0083 - mae: 0.0588 - root_mean_squared_error: 0.0911 - val_loss: 0.0045 - val_mae: 0.0533 - val_root_mean_squared_error: 0.0668\n",
      "Epoch 3/50\n",
      "50/50 [==============================] - 1s 10ms/step - loss: 0.0076 - mae: 0.0550 - root_mean_squared_error: 0.0870 - val_loss: 0.0065 - val_mae: 0.0607 - val_root_mean_squared_error: 0.0808\n",
      "Epoch 4/50\n",
      "50/50 [==============================] - 1s 11ms/step - loss: 0.0068 - mae: 0.0513 - root_mean_squared_error: 0.0827 - val_loss: 0.0051 - val_mae: 0.0540 - val_root_mean_squared_error: 0.0715\n",
      "Epoch 5/50\n",
      "50/50 [==============================] - 1s 10ms/step - loss: 0.0066 - mae: 0.0500 - root_mean_squared_error: 0.0810 - val_loss: 0.0033 - val_mae: 0.0436 - val_root_mean_squared_error: 0.0575\n",
      "Epoch 6/50\n",
      "50/50 [==============================] - 1s 10ms/step - loss: 0.0060 - mae: 0.0472 - root_mean_squared_error: 0.0778 - val_loss: 0.0023 - val_mae: 0.0387 - val_root_mean_squared_error: 0.0475\n",
      "Epoch 7/50\n",
      "50/50 [==============================] - 1s 11ms/step - loss: 0.0063 - mae: 0.0493 - root_mean_squared_error: 0.0792 - val_loss: 0.0041 - val_mae: 0.0504 - val_root_mean_squared_error: 0.0637\n",
      "Epoch 8/50\n",
      "50/50 [==============================] - 1s 11ms/step - loss: 0.0062 - mae: 0.0490 - root_mean_squared_error: 0.0784 - val_loss: 0.0027 - val_mae: 0.0393 - val_root_mean_squared_error: 0.0517\n",
      "Epoch 9/50\n",
      "50/50 [==============================] - 1s 10ms/step - loss: 0.0055 - mae: 0.0439 - root_mean_squared_error: 0.0739 - val_loss: 0.0029 - val_mae: 0.0425 - val_root_mean_squared_error: 0.0542\n",
      "Epoch 10/50\n",
      "50/50 [==============================] - 1s 10ms/step - loss: 0.0052 - mae: 0.0420 - root_mean_squared_error: 0.0720 - val_loss: 0.0031 - val_mae: 0.0441 - val_root_mean_squared_error: 0.0557\n",
      "Epoch 11/50\n",
      "50/50 [==============================] - 1s 10ms/step - loss: 0.0055 - mae: 0.0451 - root_mean_squared_error: 0.0739 - val_loss: 0.0050 - val_mae: 0.0637 - val_root_mean_squared_error: 0.0710\n",
      "Epoch 12/50\n",
      "50/50 [==============================] - 1s 10ms/step - loss: 0.0054 - mae: 0.0446 - root_mean_squared_error: 0.0735 - val_loss: 0.0017 - val_mae: 0.0338 - val_root_mean_squared_error: 0.0414\n",
      "Epoch 13/50\n",
      "50/50 [==============================] - 1s 11ms/step - loss: 0.0049 - mae: 0.0414 - root_mean_squared_error: 0.0701 - val_loss: 0.0012 - val_mae: 0.0277 - val_root_mean_squared_error: 0.0351\n",
      "Epoch 14/50\n",
      "50/50 [==============================] - 1s 11ms/step - loss: 0.0048 - mae: 0.0406 - root_mean_squared_error: 0.0693 - val_loss: 0.0011 - val_mae: 0.0263 - val_root_mean_squared_error: 0.0334\n",
      "Epoch 15/50\n",
      "50/50 [==============================] - 1s 11ms/step - loss: 0.0045 - mae: 0.0386 - root_mean_squared_error: 0.0671 - val_loss: 0.0053 - val_mae: 0.0630 - val_root_mean_squared_error: 0.0729\n",
      "Epoch 16/50\n",
      "50/50 [==============================] - 1s 11ms/step - loss: 0.0043 - mae: 0.0373 - root_mean_squared_error: 0.0659 - val_loss: 0.0020 - val_mae: 0.0351 - val_root_mean_squared_error: 0.0449\n",
      "Epoch 17/50\n",
      "50/50 [==============================] - 1s 11ms/step - loss: 0.0044 - mae: 0.0391 - root_mean_squared_error: 0.0666 - val_loss: 0.0010 - val_mae: 0.0254 - val_root_mean_squared_error: 0.0322\n",
      "Epoch 18/50\n",
      "50/50 [==============================] - 1s 11ms/step - loss: 0.0043 - mae: 0.0385 - root_mean_squared_error: 0.0652 - val_loss: 0.0023 - val_mae: 0.0388 - val_root_mean_squared_error: 0.0478\n",
      "Epoch 19/50\n",
      "50/50 [==============================] - 1s 11ms/step - loss: 0.0040 - mae: 0.0371 - root_mean_squared_error: 0.0631 - val_loss: 0.0019 - val_mae: 0.0375 - val_root_mean_squared_error: 0.0435\n",
      "Epoch 20/50\n",
      "50/50 [==============================] - 1s 11ms/step - loss: 0.0043 - mae: 0.0392 - root_mean_squared_error: 0.0656 - val_loss: 0.0027 - val_mae: 0.0468 - val_root_mean_squared_error: 0.0524\n",
      "Epoch 21/50\n",
      "50/50 [==============================] - 1s 11ms/step - loss: 0.0042 - mae: 0.0401 - root_mean_squared_error: 0.0646 - val_loss: 9.3613e-04 - val_mae: 0.0246 - val_root_mean_squared_error: 0.0306\n",
      "Epoch 22/50\n",
      "50/50 [==============================] - 1s 11ms/step - loss: 0.0036 - mae: 0.0325 - root_mean_squared_error: 0.0599 - val_loss: 0.0016 - val_mae: 0.0313 - val_root_mean_squared_error: 0.0402\n",
      "Epoch 23/50\n",
      "50/50 [==============================] - 1s 11ms/step - loss: 0.0042 - mae: 0.0400 - root_mean_squared_error: 0.0648 - val_loss: 7.8957e-04 - val_mae: 0.0223 - val_root_mean_squared_error: 0.0281\n",
      "Epoch 24/50\n",
      "50/50 [==============================] - 1s 11ms/step - loss: 0.0038 - mae: 0.0346 - root_mean_squared_error: 0.0617 - val_loss: 0.0029 - val_mae: 0.0451 - val_root_mean_squared_error: 0.0536\n",
      "Epoch 25/50\n",
      "50/50 [==============================] - 1s 11ms/step - loss: 0.0037 - mae: 0.0334 - root_mean_squared_error: 0.0606 - val_loss: 0.0020 - val_mae: 0.0354 - val_root_mean_squared_error: 0.0445\n",
      "Epoch 26/50\n",
      "50/50 [==============================] - 1s 11ms/step - loss: 0.0035 - mae: 0.0327 - root_mean_squared_error: 0.0590 - val_loss: 9.8991e-04 - val_mae: 0.0242 - val_root_mean_squared_error: 0.0315\n",
      "Epoch 27/50\n",
      "50/50 [==============================] - 1s 11ms/step - loss: 0.0035 - mae: 0.0320 - root_mean_squared_error: 0.0594 - val_loss: 0.0018 - val_mae: 0.0329 - val_root_mean_squared_error: 0.0419\n",
      "Epoch 28/50\n",
      "50/50 [==============================] - 1s 10ms/step - loss: 0.0035 - mae: 0.0318 - root_mean_squared_error: 0.0588 - val_loss: 7.4365e-04 - val_mae: 0.0213 - val_root_mean_squared_error: 0.0273\n",
      "Epoch 29/50\n",
      "50/50 [==============================] - 1s 11ms/step - loss: 0.0035 - mae: 0.0317 - root_mean_squared_error: 0.0590 - val_loss: 0.0011 - val_mae: 0.0279 - val_root_mean_squared_error: 0.0334\n",
      "Epoch 30/50\n",
      "50/50 [==============================] - 1s 11ms/step - loss: 0.0037 - mae: 0.0347 - root_mean_squared_error: 0.0606 - val_loss: 0.0012 - val_mae: 0.0271 - val_root_mean_squared_error: 0.0350\n",
      "Epoch 31/50\n",
      "50/50 [==============================] - 1s 11ms/step - loss: 0.0035 - mae: 0.0321 - root_mean_squared_error: 0.0590 - val_loss: 0.0010 - val_mae: 0.0267 - val_root_mean_squared_error: 0.0320\n",
      "Epoch 32/50\n",
      "50/50 [==============================] - 1s 11ms/step - loss: 0.0038 - mae: 0.0343 - root_mean_squared_error: 0.0614 - val_loss: 7.8322e-04 - val_mae: 0.0215 - val_root_mean_squared_error: 0.0280\n",
      "Epoch 33/50\n",
      "50/50 [==============================] - 1s 13ms/step - loss: 0.0034 - mae: 0.0304 - root_mean_squared_error: 0.0580 - val_loss: 0.0024 - val_mae: 0.0405 - val_root_mean_squared_error: 0.0495\n",
      "Epoch 34/50\n",
      "50/50 [==============================] - 1s 12ms/step - loss: 0.0034 - mae: 0.0317 - root_mean_squared_error: 0.0583 - val_loss: 7.4611e-04 - val_mae: 0.0210 - val_root_mean_squared_error: 0.0273\n",
      "Epoch 35/50\n",
      "50/50 [==============================] - 1s 12ms/step - loss: 0.0034 - mae: 0.0311 - root_mean_squared_error: 0.0580 - val_loss: 8.0310e-04 - val_mae: 0.0217 - val_root_mean_squared_error: 0.0283\n",
      "Epoch 36/50\n",
      "50/50 [==============================] - 1s 11ms/step - loss: 0.0033 - mae: 0.0304 - root_mean_squared_error: 0.0579 - val_loss: 0.0012 - val_mae: 0.0265 - val_root_mean_squared_error: 0.0346\n",
      "Epoch 37/50\n",
      "50/50 [==============================] - 1s 11ms/step - loss: 0.0035 - mae: 0.0327 - root_mean_squared_error: 0.0588 - val_loss: 0.0011 - val_mae: 0.0260 - val_root_mean_squared_error: 0.0338\n",
      "Epoch 38/50\n",
      "50/50 [==============================] - 1s 12ms/step - loss: 0.0034 - mae: 0.0302 - root_mean_squared_error: 0.0579 - val_loss: 8.7607e-04 - val_mae: 0.0240 - val_root_mean_squared_error: 0.0296\n",
      "Epoch 39/50\n",
      "50/50 [==============================] - 1s 11ms/step - loss: 0.0033 - mae: 0.0303 - root_mean_squared_error: 0.0576 - val_loss: 8.3807e-04 - val_mae: 0.0230 - val_root_mean_squared_error: 0.0289\n",
      "Epoch 40/50\n",
      "50/50 [==============================] - 1s 11ms/step - loss: 0.0033 - mae: 0.0313 - root_mean_squared_error: 0.0576 - val_loss: 0.0015 - val_mae: 0.0295 - val_root_mean_squared_error: 0.0386\n",
      "Epoch 41/50\n",
      "50/50 [==============================] - 1s 11ms/step - loss: 0.0036 - mae: 0.0338 - root_mean_squared_error: 0.0596 - val_loss: 0.0012 - val_mae: 0.0265 - val_root_mean_squared_error: 0.0344\n",
      "Epoch 42/50\n",
      "50/50 [==============================] - 1s 11ms/step - loss: 0.0033 - mae: 0.0313 - root_mean_squared_error: 0.0579 - val_loss: 0.0015 - val_mae: 0.0301 - val_root_mean_squared_error: 0.0388\n",
      "Epoch 43/50\n",
      "50/50 [==============================] - 1s 11ms/step - loss: 0.0032 - mae: 0.0307 - root_mean_squared_error: 0.0569 - val_loss: 0.0023 - val_mae: 0.0396 - val_root_mean_squared_error: 0.0484\n",
      "Epoch 44/50\n",
      "50/50 [==============================] - 1s 11ms/step - loss: 0.0035 - mae: 0.0324 - root_mean_squared_error: 0.0588 - val_loss: 7.3215e-04 - val_mae: 0.0208 - val_root_mean_squared_error: 0.0271\n",
      "Epoch 45/50\n",
      "50/50 [==============================] - 1s 11ms/step - loss: 0.0033 - mae: 0.0308 - root_mean_squared_error: 0.0575 - val_loss: 0.0015 - val_mae: 0.0305 - val_root_mean_squared_error: 0.0394\n",
      "Epoch 46/50\n",
      "50/50 [==============================] - 1s 11ms/step - loss: 0.0033 - mae: 0.0307 - root_mean_squared_error: 0.0572 - val_loss: 0.0025 - val_mae: 0.0399 - val_root_mean_squared_error: 0.0498\n",
      "Epoch 47/50\n",
      "50/50 [==============================] - 1s 11ms/step - loss: 0.0033 - mae: 0.0316 - root_mean_squared_error: 0.0573 - val_loss: 8.6765e-04 - val_mae: 0.0225 - val_root_mean_squared_error: 0.0295\n",
      "Epoch 48/50\n",
      "50/50 [==============================] - 1s 11ms/step - loss: 0.0032 - mae: 0.0299 - root_mean_squared_error: 0.0566 - val_loss: 9.0250e-04 - val_mae: 0.0229 - val_root_mean_squared_error: 0.0300\n",
      "Epoch 49/50\n",
      "50/50 [==============================] - 1s 11ms/step - loss: 0.0032 - mae: 0.0304 - root_mean_squared_error: 0.0565 - val_loss: 7.1970e-04 - val_mae: 0.0206 - val_root_mean_squared_error: 0.0268\n",
      "Epoch 50/50\n",
      "50/50 [==============================] - 1s 11ms/step - loss: 0.0032 - mae: 0.0310 - root_mean_squared_error: 0.0569 - val_loss: 0.0012 - val_mae: 0.0285 - val_root_mean_squared_error: 0.0352\n"
     ]
    }
   ],
   "source": [
    "model.compile(loss='mean_squared_error',\n",
    "              metrics=['mae', RootMeanSquaredError()],\n",
    "              optimizer='adam')\n",
    "\n",
    "history = model.fit(X_train,\n",
    "                    y_train,\n",
    "                    epochs=50,\n",
    "                    batch_size=32,\n",
    "                    validation_split=0.1)"
   ]
  },
  {
   "cell_type": "code",
   "execution_count": 16,
   "id": "dbf60263",
   "metadata": {
    "execution": {
     "iopub.execute_input": "2024-02-06T05:58:11.725958Z",
     "iopub.status.busy": "2024-02-06T05:58:11.725540Z",
     "iopub.status.idle": "2024-02-06T05:58:11.842927Z",
     "shell.execute_reply": "2024-02-06T05:58:11.841742Z"
    },
    "papermill": {
     "duration": 0.20444,
     "end_time": "2024-02-06T05:58:11.845401",
     "exception": false,
     "start_time": "2024-02-06T05:58:11.640961",
     "status": "completed"
    },
    "tags": []
   },
   "outputs": [
    {
     "name": "stdout",
     "output_type": "stream",
     "text": [
      "7/7 [==============================] - 0s 6ms/step - loss: 0.0162 - mae: 0.1210 - root_mean_squared_error: 0.1272\n"
     ]
    },
    {
     "data": {
      "text/plain": [
       "[0.016182085499167442, 0.12097804993391037, 0.12720881402492523]"
      ]
     },
     "execution_count": 16,
     "metadata": {},
     "output_type": "execute_result"
    }
   ],
   "source": [
    "model.evaluate(X_test, y_test)"
   ]
  },
  {
   "cell_type": "markdown",
   "id": "c8abfc17",
   "metadata": {
    "papermill": {
     "duration": 0.080434,
     "end_time": "2024-02-06T05:58:12.008256",
     "exception": false,
     "start_time": "2024-02-06T05:58:11.927822",
     "status": "completed"
    },
    "tags": []
   },
   "source": [
    "## Model Evaluation"
   ]
  },
  {
   "cell_type": "code",
   "execution_count": 17,
   "id": "20cf2fed",
   "metadata": {
    "execution": {
     "iopub.execute_input": "2024-02-06T05:58:12.169699Z",
     "iopub.status.busy": "2024-02-06T05:58:12.168748Z",
     "iopub.status.idle": "2024-02-06T05:58:12.517589Z",
     "shell.execute_reply": "2024-02-06T05:58:12.516604Z"
    },
    "papermill": {
     "duration": 0.432325,
     "end_time": "2024-02-06T05:58:12.519756",
     "exception": false,
     "start_time": "2024-02-06T05:58:12.087431",
     "status": "completed"
    },
    "tags": []
   },
   "outputs": [
    {
     "data": {
      "image/png": "[encoded data removed]",
      "text/plain": [
       "<Figure size 640x480 with 1 Axes>"
      ]
     },
     "metadata": {},
     "output_type": "display_data"
    }
   ],
   "source": [
    "plt.plot(history.history['loss'])\n",
    "plt.plot(history.history['val_loss'])\n",
    "plt.title(f'{SHEET_NAME} Model Loss', fontsize=15)\n",
    "plt.ylabel('loss')\n",
    "plt.xlabel('epoch')\n",
    "plt.legend(['train', 'test'])\n",
    "plt.show()"
   ]
  },
  {
   "cell_type": "code",
   "execution_count": 18,
   "id": "862c6f33",
   "metadata": {
    "execution": {
     "iopub.execute_input": "2024-02-06T05:58:12.684265Z",
     "iopub.status.busy": "2024-02-06T05:58:12.683429Z",
     "iopub.status.idle": "2024-02-06T05:58:13.930588Z",
     "shell.execute_reply": "2024-02-06T05:58:13.929565Z"
    },
    "papermill": {
     "duration": 1.332604,
     "end_time": "2024-02-06T05:58:13.933252",
     "exception": false,
     "start_time": "2024-02-06T05:58:12.600648",
     "status": "completed"
    },
    "tags": []
   },
   "outputs": [
    {
     "name": "stdout",
     "output_type": "stream",
     "text": [
      "7/7 [==============================] - 1s 4ms/step\n"
     ]
    }
   ],
   "source": [
    "y_hat = model.predict(X_test)\n",
    "y_test_inverse = scaler.inverse_transform(y_test)\n",
    "y_hat_inverse = scaler.inverse_transform(y_hat)"
   ]
  },
  {
   "cell_type": "code",
   "execution_count": 19,
   "id": "10f775dd",
   "metadata": {
    "execution": {
     "iopub.execute_input": "2024-02-06T05:58:14.098092Z",
     "iopub.status.busy": "2024-02-06T05:58:14.097019Z",
     "iopub.status.idle": "2024-02-06T05:58:14.470194Z",
     "shell.execute_reply": "2024-02-06T05:58:14.469121Z"
    },
    "papermill": {
     "duration": 0.457489,
     "end_time": "2024-02-06T05:58:14.472824",
     "exception": false,
     "start_time": "2024-02-06T05:58:14.015335",
     "status": "completed"
    },
    "tags": []
   },
   "outputs": [
    {
     "data": {
      "image/png": "[encoded data removed]",
      "text/plain": [
       "<Figure size 640x480 with 1 Axes>"
      ]
     },
     "metadata": {},
     "output_type": "display_data"
    }
   ],
   "source": [
    "plt.plot(y_test_inverse, label=\"Actual Price\", color='green')\n",
    "plt.plot(y_hat_inverse, label=\"Predicted Price\", color='red')\n",
    " \n",
    "plt.title(f'{SHEET_NAME} Price Prediction\\nLSTM = {LSTM_Layer}, Split Data = {SPLIT}, Window = {WINDOW_SIZE}', fontsize=15)\n",
    "plt.xlabel('Time [days]')\n",
    "plt.ylabel('Price')\n",
    "plt.legend(loc='best')\n",
    " \n",
    "plt.show()"
   ]
  },
  {
   "cell_type": "code",
   "execution_count": 20,
   "id": "3c40e226",
   "metadata": {
    "execution": {
     "iopub.execute_input": "2024-02-06T05:58:14.642784Z",
     "iopub.status.busy": "2024-02-06T05:58:14.642409Z",
     "iopub.status.idle": "2024-02-06T05:58:14.653421Z",
     "shell.execute_reply": "2024-02-06T05:58:14.651882Z"
    },
    "papermill": {
     "duration": 0.098249,
     "end_time": "2024-02-06T05:58:14.655978",
     "exception": false,
     "start_time": "2024-02-06T05:58:14.557729",
     "status": "completed"
    },
    "tags": []
   },
   "outputs": [
    {
     "name": "stdout",
     "output_type": "stream",
     "text": [
      "LSTM = 3, Split Data = 0.9, Window = 20\n",
      "\n",
      "----------------- Normalized Error -----------------\n",
      "Mean Absolute Error for prediction : 0.12097803421065977\n",
      "Mean Squared Error for prediction : 0.016182084658000764\n",
      "Root Mean Squared Error for prediction : 0.12720882303519973\n",
      "\n",
      "----------------- Actual Error -----------------\n",
      "Mean Absolute Error for prediction : 168.90749013369935\n",
      "Mean Squared Error for prediction : 31544.18948812697\n",
      "Root Mean Squared Error for prediction : 177.60683964342974\n"
     ]
    }
   ],
   "source": [
    "def matrices(actual, predicted):\n",
    "    mse = mean_squared_error(actual, predicted)\n",
    "    mae = mean_absolute_error(actual, predicted)\n",
    "    rmse = np.sqrt(mse)\n",
    "    print(\"Mean Absolute Error for prediction :\", mae)\n",
    "    print(\"Mean Squared Error for prediction :\", mse)\n",
    "    print(\"Root Mean Squared Error for prediction :\", rmse)\n",
    "    return mae, mse, rmse\n",
    "\n",
    "print(f\"LSTM = {LSTM_Layer}, Split Data = {SPLIT}, Window = {WINDOW_SIZE}\")\n",
    "print(\"\\n----------------- Normalized Error -----------------\")\n",
    "mae, mse, rmse = matrices(y_test, y_hat)\n",
    "print(\"\\n----------------- Actual Error -----------------\")\n",
    "mae_inverse, mse_inverse, rmse_inverse = matrices(y_test_inverse, y_hat_inverse)"
   ]
  }
 ],
 "metadata": {
  "kaggle": {
   "accelerator": "gpu",
   "dataSources": [],
   "dockerImageVersionId": 30498,
   "isGpuEnabled": true,
   "isInternetEnabled": true,
   "language": "python",
   "sourceType": "notebook"
  },
  "kernelspec": {
   "display_name": "Python 3",
   "language": "python",
   "name": "python3"
  },
  "language_info": {
   "codemirror_mode": {
    "name": "ipython",
    "version": 3
   },
   "file_extension": ".py",
   "mimetype": "text/x-python",
   "name": "python",
   "nbconvert_exporter": "python",
   "pygments_lexer": "ipython3",
   "version": "3.10.10"
  },
  "papermill": {
   "default_parameters": {},
   "duration": 1469.553072,
   "end_time": "2024-02-06T05:58:17.680931",
   "environment_variables": {},
   "exception": null,
   "input_path": "__notebook__.ipynb",
   "output_path": "__notebook__.ipynb",
   "parameters": {},
   "start_time": "2024-02-06T05:33:48.127859",
   "version": "2.4.0"
  }
 },
 "nbformat": 4,
 "nbformat_minor": 5
}
